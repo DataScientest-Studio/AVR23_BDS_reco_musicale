{
 "cells": [
  {
   "cell_type": "code",
   "execution_count": 3,
   "id": "6e2c0994-aefc-409d-8a34-2da40de9be8f",
   "metadata": {},
   "outputs": [],
   "source": [
    "import os\n",
    "from pathlib import Path\n",
    "import pandas as pd\n",
    "import matplotlib.pyplot as plt\n"
   ]
  },
  {
   "cell_type": "code",
   "execution_count": 4,
   "id": "4c7d7aac-c0d1-4584-b0d3-6eef86e06028",
   "metadata": {},
   "outputs": [],
   "source": [
    "from ipynb.fs.full.user_playlist_utils import user_filter, summarise_listening_history"
   ]
  },
  {
   "cell_type": "code",
   "execution_count": 5,
   "id": "9c1fc08c-e58e-4777-881d-ac0c53f01e6b",
   "metadata": {},
   "outputs": [],
   "source": [
    "# Read the data\n",
    "CUR_DIR = os.path.abspath('')\n",
    "\n",
    "DATA_DIR = Path(CUR_DIR).parent / \"data\" /\"millionsong\"\n",
    "FILE_PATH = DATA_DIR/'triplets_metadata_spotify.csv'\n",
    "df = pd.read_csv(FILE_PATH, index_col = 0)"
   ]
  },
  {
   "cell_type": "code",
   "execution_count": 6,
   "id": "fad3fa3e",
   "metadata": {},
   "outputs": [
    {
     "data": {
      "text/plain": [
       "Index(['user', 'listening_count', 'song_name', 'release', 'artist_name',\n",
       "       'duration', 'artist_familiarity', 'artist_hotttnesss', 'year',\n",
       "       'shs_perf', 'shs_work', 'explicit', 'danceability', 'energy', 'key',\n",
       "       'loudness', 'mode', 'speechiness', 'acousticness', 'instrumentalness',\n",
       "       'liveness', 'valence', 'tempo', 'time_signature', 'release_date'],\n",
       "      dtype='object')"
      ]
     },
     "execution_count": 6,
     "metadata": {},
     "output_type": "execute_result"
    }
   ],
   "source": [
    "df.columns"
   ]
  },
  {
   "cell_type": "code",
   "execution_count": 7,
   "id": "59cfead3-b3bf-41a3-bebd-eab334e0e25c",
   "metadata": {},
   "outputs": [],
   "source": [
    "df['track_id'] = df['song_name']+ ' - ' + df['artist_name']\n"
   ]
  },
  {
   "cell_type": "code",
   "execution_count": 8,
   "id": "3de9d7b9",
   "metadata": {},
   "outputs": [],
   "source": [
    "df = df.drop_duplicates(subset = ['user','track_id'], keep='first')"
   ]
  },
  {
   "cell_type": "code",
   "execution_count": 9,
   "id": "466578ac",
   "metadata": {},
   "outputs": [
    {
     "data": {
      "text/html": [
       "<div>\n",
       "<style scoped>\n",
       "    .dataframe tbody tr th:only-of-type {\n",
       "        vertical-align: middle;\n",
       "    }\n",
       "\n",
       "    .dataframe tbody tr th {\n",
       "        vertical-align: top;\n",
       "    }\n",
       "\n",
       "    .dataframe thead th {\n",
       "        text-align: right;\n",
       "    }\n",
       "</style>\n",
       "<table border=\"1\" class=\"dataframe\">\n",
       "  <thead>\n",
       "    <tr style=\"text-align: right;\">\n",
       "      <th></th>\n",
       "      <th>user</th>\n",
       "      <th>listening_count</th>\n",
       "      <th>song_name</th>\n",
       "      <th>release</th>\n",
       "      <th>artist_name</th>\n",
       "      <th>duration</th>\n",
       "      <th>artist_familiarity</th>\n",
       "      <th>artist_hotttnesss</th>\n",
       "      <th>year</th>\n",
       "      <th>shs_perf</th>\n",
       "      <th>...</th>\n",
       "      <th>mode</th>\n",
       "      <th>speechiness</th>\n",
       "      <th>acousticness</th>\n",
       "      <th>instrumentalness</th>\n",
       "      <th>liveness</th>\n",
       "      <th>valence</th>\n",
       "      <th>tempo</th>\n",
       "      <th>time_signature</th>\n",
       "      <th>release_date</th>\n",
       "      <th>track_id</th>\n",
       "    </tr>\n",
       "  </thead>\n",
       "  <tbody>\n",
       "    <tr>\n",
       "      <th>0</th>\n",
       "      <td>b80344d063b5ccb3212f76538f3d9e43d87dca9e</td>\n",
       "      <td>1</td>\n",
       "      <td>Stronger</td>\n",
       "      <td>Graduation</td>\n",
       "      <td>Kanye West</td>\n",
       "      <td>311.84934</td>\n",
       "      <td>0.877214</td>\n",
       "      <td>1.082503</td>\n",
       "      <td>2007</td>\n",
       "      <td>-1</td>\n",
       "      <td>...</td>\n",
       "      <td>0</td>\n",
       "      <td>0.176</td>\n",
       "      <td>0.00763</td>\n",
       "      <td>0.0</td>\n",
       "      <td>0.526</td>\n",
       "      <td>0.495</td>\n",
       "      <td>103.977</td>\n",
       "      <td>4.0</td>\n",
       "      <td>2011-05-24</td>\n",
       "      <td>Stronger - Kanye West</td>\n",
       "    </tr>\n",
       "    <tr>\n",
       "      <th>1</th>\n",
       "      <td>9fba771d9731561eba47216f6fbfc0023d88641b</td>\n",
       "      <td>19</td>\n",
       "      <td>Stronger</td>\n",
       "      <td>Graduation</td>\n",
       "      <td>Kanye West</td>\n",
       "      <td>311.84934</td>\n",
       "      <td>0.877214</td>\n",
       "      <td>1.082503</td>\n",
       "      <td>2007</td>\n",
       "      <td>-1</td>\n",
       "      <td>...</td>\n",
       "      <td>0</td>\n",
       "      <td>0.176</td>\n",
       "      <td>0.00763</td>\n",
       "      <td>0.0</td>\n",
       "      <td>0.526</td>\n",
       "      <td>0.495</td>\n",
       "      <td>103.977</td>\n",
       "      <td>4.0</td>\n",
       "      <td>2011-05-24</td>\n",
       "      <td>Stronger - Kanye West</td>\n",
       "    </tr>\n",
       "    <tr>\n",
       "      <th>2</th>\n",
       "      <td>85952991b8e3ca5803a08b0b2f9c6d71abf9bb5b</td>\n",
       "      <td>1</td>\n",
       "      <td>Stronger</td>\n",
       "      <td>Graduation</td>\n",
       "      <td>Kanye West</td>\n",
       "      <td>311.84934</td>\n",
       "      <td>0.877214</td>\n",
       "      <td>1.082503</td>\n",
       "      <td>2007</td>\n",
       "      <td>-1</td>\n",
       "      <td>...</td>\n",
       "      <td>0</td>\n",
       "      <td>0.176</td>\n",
       "      <td>0.00763</td>\n",
       "      <td>0.0</td>\n",
       "      <td>0.526</td>\n",
       "      <td>0.495</td>\n",
       "      <td>103.977</td>\n",
       "      <td>4.0</td>\n",
       "      <td>2011-05-24</td>\n",
       "      <td>Stronger - Kanye West</td>\n",
       "    </tr>\n",
       "    <tr>\n",
       "      <th>3</th>\n",
       "      <td>537340ff896dea11328910013cfe759413e1eeb3</td>\n",
       "      <td>2</td>\n",
       "      <td>Stronger</td>\n",
       "      <td>Graduation</td>\n",
       "      <td>Kanye West</td>\n",
       "      <td>311.84934</td>\n",
       "      <td>0.877214</td>\n",
       "      <td>1.082503</td>\n",
       "      <td>2007</td>\n",
       "      <td>-1</td>\n",
       "      <td>...</td>\n",
       "      <td>0</td>\n",
       "      <td>0.176</td>\n",
       "      <td>0.00763</td>\n",
       "      <td>0.0</td>\n",
       "      <td>0.526</td>\n",
       "      <td>0.495</td>\n",
       "      <td>103.977</td>\n",
       "      <td>4.0</td>\n",
       "      <td>2011-05-24</td>\n",
       "      <td>Stronger - Kanye West</td>\n",
       "    </tr>\n",
       "    <tr>\n",
       "      <th>4</th>\n",
       "      <td>8fce200f3912e9608e3b1463cdb9c3529aab5c08</td>\n",
       "      <td>2</td>\n",
       "      <td>Stronger</td>\n",
       "      <td>Graduation</td>\n",
       "      <td>Kanye West</td>\n",
       "      <td>311.84934</td>\n",
       "      <td>0.877214</td>\n",
       "      <td>1.082503</td>\n",
       "      <td>2007</td>\n",
       "      <td>-1</td>\n",
       "      <td>...</td>\n",
       "      <td>0</td>\n",
       "      <td>0.176</td>\n",
       "      <td>0.00763</td>\n",
       "      <td>0.0</td>\n",
       "      <td>0.526</td>\n",
       "      <td>0.495</td>\n",
       "      <td>103.977</td>\n",
       "      <td>4.0</td>\n",
       "      <td>2011-05-24</td>\n",
       "      <td>Stronger - Kanye West</td>\n",
       "    </tr>\n",
       "  </tbody>\n",
       "</table>\n",
       "<p>5 rows × 26 columns</p>\n",
       "</div>"
      ],
      "text/plain": [
       "                                       user  listening_count song_name  \\\n",
       "0  b80344d063b5ccb3212f76538f3d9e43d87dca9e                1  Stronger   \n",
       "1  9fba771d9731561eba47216f6fbfc0023d88641b               19  Stronger   \n",
       "2  85952991b8e3ca5803a08b0b2f9c6d71abf9bb5b                1  Stronger   \n",
       "3  537340ff896dea11328910013cfe759413e1eeb3                2  Stronger   \n",
       "4  8fce200f3912e9608e3b1463cdb9c3529aab5c08                2  Stronger   \n",
       "\n",
       "      release artist_name   duration  artist_familiarity  artist_hotttnesss  \\\n",
       "0  Graduation  Kanye West  311.84934            0.877214           1.082503   \n",
       "1  Graduation  Kanye West  311.84934            0.877214           1.082503   \n",
       "2  Graduation  Kanye West  311.84934            0.877214           1.082503   \n",
       "3  Graduation  Kanye West  311.84934            0.877214           1.082503   \n",
       "4  Graduation  Kanye West  311.84934            0.877214           1.082503   \n",
       "\n",
       "   year  shs_perf  ...  mode  speechiness  acousticness  instrumentalness  \\\n",
       "0  2007        -1  ...     0        0.176       0.00763               0.0   \n",
       "1  2007        -1  ...     0        0.176       0.00763               0.0   \n",
       "2  2007        -1  ...     0        0.176       0.00763               0.0   \n",
       "3  2007        -1  ...     0        0.176       0.00763               0.0   \n",
       "4  2007        -1  ...     0        0.176       0.00763               0.0   \n",
       "\n",
       "   liveness  valence    tempo  time_signature  release_date  \\\n",
       "0     0.526    0.495  103.977             4.0    2011-05-24   \n",
       "1     0.526    0.495  103.977             4.0    2011-05-24   \n",
       "2     0.526    0.495  103.977             4.0    2011-05-24   \n",
       "3     0.526    0.495  103.977             4.0    2011-05-24   \n",
       "4     0.526    0.495  103.977             4.0    2011-05-24   \n",
       "\n",
       "                track_id  \n",
       "0  Stronger - Kanye West  \n",
       "1  Stronger - Kanye West  \n",
       "2  Stronger - Kanye West  \n",
       "3  Stronger - Kanye West  \n",
       "4  Stronger - Kanye West  \n",
       "\n",
       "[5 rows x 26 columns]"
      ]
     },
     "execution_count": 9,
     "metadata": {},
     "output_type": "execute_result"
    }
   ],
   "source": [
    "df.head()"
   ]
  },
  {
   "cell_type": "code",
   "execution_count": 10,
   "id": "f70468a7-96e9-4e82-a0f0-1c1e8a13f29e",
   "metadata": {},
   "outputs": [],
   "source": [
    "# Get for each user the sum of the listening count and the number of different songs listened\n",
    "playlist_summary = summarise_listening_history(df)"
   ]
  },
  {
   "cell_type": "code",
   "execution_count": 11,
   "id": "5ef8a305-0e79-4c4d-a610-dc81220e83c7",
   "metadata": {},
   "outputs": [
    {
     "data": {
      "text/html": [
       "<div>\n",
       "<style scoped>\n",
       "    .dataframe tbody tr th:only-of-type {\n",
       "        vertical-align: middle;\n",
       "    }\n",
       "\n",
       "    .dataframe tbody tr th {\n",
       "        vertical-align: top;\n",
       "    }\n",
       "\n",
       "    .dataframe thead th {\n",
       "        text-align: right;\n",
       "    }\n",
       "</style>\n",
       "<table border=\"1\" class=\"dataframe\">\n",
       "  <thead>\n",
       "    <tr style=\"text-align: right;\">\n",
       "      <th></th>\n",
       "      <th>user</th>\n",
       "      <th>listening_count</th>\n",
       "      <th>track_count</th>\n",
       "    </tr>\n",
       "  </thead>\n",
       "  <tbody>\n",
       "    <tr>\n",
       "      <th>0</th>\n",
       "      <td>0000175652312d12576d9e6b84f600caa24c4715</td>\n",
       "      <td>2</td>\n",
       "      <td>2</td>\n",
       "    </tr>\n",
       "    <tr>\n",
       "      <th>1</th>\n",
       "      <td>00001cf0dce3fb22b0df0f3a1d9cd21e38385372</td>\n",
       "      <td>5</td>\n",
       "      <td>4</td>\n",
       "    </tr>\n",
       "    <tr>\n",
       "      <th>2</th>\n",
       "      <td>0000267bde1b3a70ea75cf2b2d216cb828e3202b</td>\n",
       "      <td>5</td>\n",
       "      <td>4</td>\n",
       "    </tr>\n",
       "    <tr>\n",
       "      <th>3</th>\n",
       "      <td>00003a4459f33b92906be11abe0e93efc423c0ff</td>\n",
       "      <td>4</td>\n",
       "      <td>2</td>\n",
       "    </tr>\n",
       "    <tr>\n",
       "      <th>4</th>\n",
       "      <td>00004fb90a86beb8bed1e9e328f5d9b6ee7dc03e</td>\n",
       "      <td>3</td>\n",
       "      <td>3</td>\n",
       "    </tr>\n",
       "  </tbody>\n",
       "</table>\n",
       "</div>"
      ],
      "text/plain": [
       "                                       user  listening_count  track_count\n",
       "0  0000175652312d12576d9e6b84f600caa24c4715                2            2\n",
       "1  00001cf0dce3fb22b0df0f3a1d9cd21e38385372                5            4\n",
       "2  0000267bde1b3a70ea75cf2b2d216cb828e3202b                5            4\n",
       "3  00003a4459f33b92906be11abe0e93efc423c0ff                4            2\n",
       "4  00004fb90a86beb8bed1e9e328f5d9b6ee7dc03e                3            3"
      ]
     },
     "execution_count": 11,
     "metadata": {},
     "output_type": "execute_result"
    }
   ],
   "source": [
    "playlist_summary.head()"
   ]
  },
  {
   "cell_type": "code",
   "execution_count": 12,
   "id": "4ad9ee4a-c6c8-458f-95ca-a1f26975ddf5",
   "metadata": {},
   "outputs": [
    {
     "data": {
      "text/plain": [
       "849209"
      ]
     },
     "execution_count": 12,
     "metadata": {},
     "output_type": "execute_result"
    }
   ],
   "source": [
    "len(playlist_summary)"
   ]
  },
  {
   "cell_type": "code",
   "execution_count": 13,
   "id": "95b4274a-3cc1-4a2a-b7cf-3fdcb07e36fb",
   "metadata": {},
   "outputs": [
    {
     "name": "stdout",
     "output_type": "stream",
     "text": [
      "Percent of users who have one listening : 13.18%\n",
      "Number of users who have less than 5 listening : 483893\n",
      "Percent of users who have listened more than 5 different songs : 31.86%\n",
      "Number of users who have listened more than 5 different songs : 270576\n"
     ]
    }
   ],
   "source": [
    "print('Percent of users who have one listening : %.2f%%' %(sum(playlist_summary.listening_count == 1)*100/len(playlist_summary)))\n",
    "print('Number of users who have less than 5 listening :', sum(playlist_summary.listening_count > 5))\n",
    "print('Percent of users who have listened more than 5 different songs : %.2f%%' %(sum(playlist_summary.track_count > 5)*100/len(playlist_summary)))\n",
    "print('Number of users who have listened more than 5 different songs :', sum(playlist_summary.track_count > 5))"
   ]
  },
  {
   "cell_type": "code",
   "execution_count": 14,
   "id": "ebbe8ef3-1ea3-484d-8f4d-dd79eaf8993e",
   "metadata": {},
   "outputs": [],
   "source": [
    "FIG_PATH = Path(CUR_DIR).parent/'figures'"
   ]
  },
  {
   "cell_type": "code",
   "execution_count": 17,
   "id": "af5224f4-325f-43a6-aa85-4d780b762305",
   "metadata": {},
   "outputs": [
    {
     "data": {
      "text/plain": [
       "Text(0.5, 1.0, 'Distribution du nombre de tracks par utilisateur')"
      ]
     },
     "execution_count": 17,
     "metadata": {},
     "output_type": "execute_result"
    },
    {
     "data": {
      "image/png": "[encoded data removed]",
      "text/plain": [
       "<Figure size 640x480 with 1 Axes>"
      ]
     },
     "metadata": {},
     "output_type": "display_data"
    }
   ],
   "source": [
    "playlist_summary['track_count'].plot(kind = 'hist', logy = True, bins = 25, edgecolor = 'black') \n",
    "\n",
    "plt.xlabel('Nombre de tracks')\n",
    "plt.ylabel('Effectif')\n",
    "plt.title('Distribution du nombre de tracks par utilisateur')\n",
    "plt.savefig(FIG_PATH/f'Data_viz/dis_track_user.jpg')\n"
   ]
  },
  {
   "cell_type": "code",
   "execution_count": 18,
   "id": "bb0d1a5d-9542-4f89-97d2-bed4a950765a",
   "metadata": {},
   "outputs": [
    {
     "data": {
      "image/png": "[encoded data removed]",
      "text/plain": [
       "<Figure size 640x480 with 1 Axes>"
      ]
     },
     "metadata": {},
     "output_type": "display_data"
    }
   ],
   "source": [
    "playlist_summary['listening_count'].plot(kind = 'hist', logy = True, bins = 25, edgecolor=\"black\" )#rwidth= 0.9\n",
    "plt.xlabel(\"Nombre d'écoutes\")\n",
    "plt.ylabel('Effectif')\n",
    "plt.title(\"Distribution du nombre d'écoute par utilisateur\");"
   ]
  },
  {
   "cell_type": "code",
   "execution_count": 46,
   "id": "45e66b94-4afd-41d4-883c-d7a21b29e119",
   "metadata": {},
   "outputs": [
    {
     "data": {
      "text/html": [
       "<div>\n",
       "<style scoped>\n",
       "    .dataframe tbody tr th:only-of-type {\n",
       "        vertical-align: middle;\n",
       "    }\n",
       "\n",
       "    .dataframe tbody tr th {\n",
       "        vertical-align: top;\n",
       "    }\n",
       "\n",
       "    .dataframe thead th {\n",
       "        text-align: right;\n",
       "    }\n",
       "</style>\n",
       "<table border=\"1\" class=\"dataframe\">\n",
       "  <thead>\n",
       "    <tr style=\"text-align: right;\">\n",
       "      <th></th>\n",
       "      <th>listening_count</th>\n",
       "      <th>track_count</th>\n",
       "    </tr>\n",
       "  </thead>\n",
       "  <tbody>\n",
       "    <tr>\n",
       "      <th>count</th>\n",
       "      <td>849209.000000</td>\n",
       "      <td>849209.000000</td>\n",
       "    </tr>\n",
       "    <tr>\n",
       "      <th>mean</th>\n",
       "      <td>15.852365</td>\n",
       "      <td>5.856914</td>\n",
       "    </tr>\n",
       "    <tr>\n",
       "      <th>std</th>\n",
       "      <td>26.458171</td>\n",
       "      <td>7.613085</td>\n",
       "    </tr>\n",
       "    <tr>\n",
       "      <th>min</th>\n",
       "      <td>1.000000</td>\n",
       "      <td>1.000000</td>\n",
       "    </tr>\n",
       "    <tr>\n",
       "      <th>25%</th>\n",
       "      <td>3.000000</td>\n",
       "      <td>2.000000</td>\n",
       "    </tr>\n",
       "    <tr>\n",
       "      <th>50%</th>\n",
       "      <td>7.000000</td>\n",
       "      <td>3.000000</td>\n",
       "    </tr>\n",
       "    <tr>\n",
       "      <th>75%</th>\n",
       "      <td>18.000000</td>\n",
       "      <td>7.000000</td>\n",
       "    </tr>\n",
       "    <tr>\n",
       "      <th>max</th>\n",
       "      <td>1763.000000</td>\n",
       "      <td>303.000000</td>\n",
       "    </tr>\n",
       "  </tbody>\n",
       "</table>\n",
       "</div>"
      ],
      "text/plain": [
       "       listening_count    track_count\n",
       "count    849209.000000  849209.000000\n",
       "mean         15.852365       5.856914\n",
       "std          26.458171       7.613085\n",
       "min           1.000000       1.000000\n",
       "25%           3.000000       2.000000\n",
       "50%           7.000000       3.000000\n",
       "75%          18.000000       7.000000\n",
       "max        1763.000000     303.000000"
      ]
     },
     "execution_count": 46,
     "metadata": {},
     "output_type": "execute_result"
    }
   ],
   "source": [
    "playlist_summary.describe()"
   ]
  },
  {
   "cell_type": "code",
   "execution_count": null,
   "id": "cf2f9a10-c07f-4a29-9834-668f1e56b49c",
   "metadata": {},
   "outputs": [],
   "source": []
  }
 ],
 "metadata": {
  "kernelspec": {
   "display_name": "Python 3 (ipykernel)",
   "language": "python",
   "name": "python3"
  },
  "language_info": {
   "codemirror_mode": {
    "name": "ipython",
    "version": 3
   },
   "file_extension": ".py",
   "mimetype": "text/x-python",
   "name": "python",
   "nbconvert_exporter": "python",
   "pygments_lexer": "ipython3",
   "version": "3.9.13"
  }
 },
 "nbformat": 4,
 "nbformat_minor": 5
}
