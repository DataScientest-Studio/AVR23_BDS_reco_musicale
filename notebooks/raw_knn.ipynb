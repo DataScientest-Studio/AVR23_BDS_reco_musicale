{
 "cells": [
  {
   "cell_type": "code",
   "execution_count": 1,
   "id": "42fcfcdf-4624-45ab-9166-85b6d1c12f02",
   "metadata": {},
   "outputs": [],
   "source": [
    "import os\n",
    "from pathlib import Path\n",
    "import pandas as pd\n",
    "import matplotlib.pyplot as plt\n",
    "import seaborn as sns\n",
    "import numpy as np\n",
    "import ipynb\n",
    "from scipy.spatial import distance_matrix\n",
    "import random\n",
    "import sys as sys\n",
    "import time"
   ]
  },
  {
   "cell_type": "code",
   "execution_count": 209,
   "id": "7df20d85-1ba6-4436-9b79-132838085536",
   "metadata": {},
   "outputs": [],
   "source": [
    "from ipynb.fs.full.datamanagement import user_filter\n",
    "from ipynb.fs.full.datamanagement import summarise_listening_history\n",
    "from ipynb.fs.full.evaluation_workflow import split_history\n",
    "from ipynb.fs.full.feature_based_algos import get_listenings_history_partition, kmeans_based_knn\n",
    "\n",
    "\n",
    "from sklearn.preprocessing import StandardScaler\n",
    "from sklearn.cluster import KMeans, AgglomerativeClustering\n",
    "from sklearn.metrics import silhouette_score\n",
    "\n",
    "from scipy.spatial import distance_matrix"
   ]
  },
  {
   "cell_type": "markdown",
   "id": "00671c82-7e4a-4dc0-a802-a7d23ab9091d",
   "metadata": {},
   "source": [
    "## Data loading"
   ]
  },
  {
   "cell_type": "code",
   "execution_count": 3,
   "id": "f47a7b3a-9857-4a34-a817-f1d17b0b777f",
   "metadata": {},
   "outputs": [],
   "source": [
    "# Read the data\n",
    "CUR_DIR = os.path.abspath('')\n",
    "\n",
    "DATA_DIR = Path(CUR_DIR).parent / \"data\"\n",
    "FILE_PATH = DATA_DIR/'triplets_metadata_spotify.csv'\n",
    "df = pd.read_csv(FILE_PATH, index_col = 0)"
   ]
  },
  {
   "cell_type": "code",
   "execution_count": 4,
   "id": "6d5ba0dd-09ac-43f5-8f4b-73f5b5713f77",
   "metadata": {},
   "outputs": [],
   "source": [
    "df['track_id'] = df.song_name + '-' + df.artist_name"
   ]
  },
  {
   "cell_type": "code",
   "execution_count": 5,
   "id": "e0a7a9cb-04de-4bfa-81bf-c9baa5884989",
   "metadata": {},
   "outputs": [
    {
     "data": {
      "text/plain": [
       "4982520"
      ]
     },
     "execution_count": 5,
     "metadata": {},
     "output_type": "execute_result"
    }
   ],
   "source": [
    "len(df)"
   ]
  },
  {
   "cell_type": "markdown",
   "id": "8ca09348-93d9-4dc8-8f55-f663f3bd82e1",
   "metadata": {},
   "source": [
    "## Data management"
   ]
  },
  {
   "cell_type": "code",
   "execution_count": 5,
   "id": "5cad7033-a7e0-4002-893a-c27a3c9b24ad",
   "metadata": {},
   "outputs": [
    {
     "data": {
      "text/plain": [
       "4973744"
      ]
     },
     "execution_count": 5,
     "metadata": {},
     "output_type": "execute_result"
    }
   ],
   "source": [
    "## keep first occurence of a given song/artist instance to reduce redundant observations\n",
    "\n",
    "df = df.drop_duplicates(subset = ['user','track_id'], keep='first')\n",
    "len(df)"
   ]
  },
  {
   "cell_type": "markdown",
   "id": "969ae3d3-58d4-456e-bd7b-2363dd7f9dee",
   "metadata": {},
   "source": [
    "### Users filtering"
   ]
  },
  {
   "cell_type": "code",
   "execution_count": 6,
   "id": "ba7fc363-d5a1-4caf-a251-5ebc44e21066",
   "metadata": {},
   "outputs": [],
   "source": [
    "users_summary = summarise_listening_history(df)"
   ]
  },
  {
   "cell_type": "code",
   "execution_count": 7,
   "id": "21912a83-01b0-4e22-8249-3ea1a425f2bf",
   "metadata": {},
   "outputs": [],
   "source": [
    "ids = user_filter(users_summary, nlist_min = 1, nlist_max = 500, ntracks_min = 5)"
   ]
  },
  {
   "cell_type": "code",
   "execution_count": 8,
   "id": "63a86e86-b87a-427f-8feb-a0e98983d9d3",
   "metadata": {},
   "outputs": [],
   "source": [
    "wdf = df.loc[df['user'].isin(ids),:]\n",
    "wdf_users_summary = users_summary.loc[users_summary['user'].isin(ids),:]"
   ]
  },
  {
   "cell_type": "code",
   "execution_count": 9,
   "id": "475a2f26-c2a0-477e-a8f6-de1290108f65",
   "metadata": {},
   "outputs": [
    {
     "name": "stdout",
     "output_type": "stream",
     "text": [
      "Nb of ligns in df  : 4973744\n",
      "Nb of ligns in wdf : 3856377\n"
     ]
    }
   ],
   "source": [
    "print('Nb of ligns in df  :', len(df))\n",
    "print('Nb of ligns in wdf :', len(wdf))"
   ]
  },
  {
   "cell_type": "code",
   "execution_count": 10,
   "id": "deb77346-8912-4381-9833-27c95e82da3e",
   "metadata": {},
   "outputs": [
    {
     "data": {
      "text/plain": [
       "327081"
      ]
     },
     "execution_count": 10,
     "metadata": {},
     "output_type": "execute_result"
    }
   ],
   "source": [
    "len(wdf_users_summary)"
   ]
  },
  {
   "cell_type": "code",
   "execution_count": 11,
   "id": "60c909a3-f908-48e7-acf6-3b2a24747b14",
   "metadata": {},
   "outputs": [
    {
     "data": {
      "text/html": [
       "<div>\n",
       "<style scoped>\n",
       "    .dataframe tbody tr th:only-of-type {\n",
       "        vertical-align: middle;\n",
       "    }\n",
       "\n",
       "    .dataframe tbody tr th {\n",
       "        vertical-align: top;\n",
       "    }\n",
       "\n",
       "    .dataframe thead th {\n",
       "        text-align: right;\n",
       "    }\n",
       "</style>\n",
       "<table border=\"1\" class=\"dataframe\">\n",
       "  <thead>\n",
       "    <tr style=\"text-align: right;\">\n",
       "      <th></th>\n",
       "      <th>user</th>\n",
       "      <th>listening_count</th>\n",
       "      <th>track_count</th>\n",
       "    </tr>\n",
       "  </thead>\n",
       "  <tbody>\n",
       "    <tr>\n",
       "      <th>7</th>\n",
       "      <td>00007ed2509128dcdd74ea3aac2363e24e9dc06b</td>\n",
       "      <td>11</td>\n",
       "      <td>10</td>\n",
       "    </tr>\n",
       "    <tr>\n",
       "      <th>11</th>\n",
       "      <td>0000bb531aaa657c932988bc2f7fd7fc1b2050ec</td>\n",
       "      <td>14</td>\n",
       "      <td>10</td>\n",
       "    </tr>\n",
       "    <tr>\n",
       "      <th>12</th>\n",
       "      <td>0000d3c803e068cf1da17724f1674897b2dd7130</td>\n",
       "      <td>7</td>\n",
       "      <td>5</td>\n",
       "    </tr>\n",
       "    <tr>\n",
       "      <th>14</th>\n",
       "      <td>0000f88f8d76a238c251450913b0d070e4a77d19</td>\n",
       "      <td>30</td>\n",
       "      <td>8</td>\n",
       "    </tr>\n",
       "    <tr>\n",
       "      <th>15</th>\n",
       "      <td>000138e252eea35fd73aaf66a9b34102b695a9c8</td>\n",
       "      <td>26</td>\n",
       "      <td>13</td>\n",
       "    </tr>\n",
       "  </tbody>\n",
       "</table>\n",
       "</div>"
      ],
      "text/plain": [
       "                                        user  listening_count  track_count\n",
       "7   00007ed2509128dcdd74ea3aac2363e24e9dc06b               11           10\n",
       "11  0000bb531aaa657c932988bc2f7fd7fc1b2050ec               14           10\n",
       "12  0000d3c803e068cf1da17724f1674897b2dd7130                7            5\n",
       "14  0000f88f8d76a238c251450913b0d070e4a77d19               30            8\n",
       "15  000138e252eea35fd73aaf66a9b34102b695a9c8               26           13"
      ]
     },
     "execution_count": 11,
     "metadata": {},
     "output_type": "execute_result"
    }
   ],
   "source": [
    "wdf_users_summary.head()"
   ]
  },
  {
   "cell_type": "markdown",
   "id": "d445f993-5e37-4bda-b4d8-c6ef3775377d",
   "metadata": {},
   "source": [
    "### Songs management"
   ]
  },
  {
   "cell_type": "code",
   "execution_count": 12,
   "id": "a8d132da-dc18-49c3-a7b1-ed8524f50da6",
   "metadata": {},
   "outputs": [],
   "source": [
    "# Get the songs quantitative features\n",
    "\n",
    "tracks_feats = df.drop(['user', 'listening_count'],axis = 1)\n",
    "tracks_feats['track_id'] = df.song_name + '-' + df.artist_name\n",
    "tracks_quanti_feats = tracks_feats.drop(['song_name', 'release', 'artist_name',\n",
    "        'artist_familiarity', 'artist_hotttnesss', 'year', 'key',\n",
    "       'shs_perf', 'shs_work', 'explicit', 'mode', 'time_signature', 'release_date', 'duration', 'tempo'], axis = 1).drop_duplicates()"
   ]
  },
  {
   "cell_type": "code",
   "execution_count": 13,
   "id": "694cfb27-5e87-4963-8bc6-e892ace7f5a8",
   "metadata": {},
   "outputs": [],
   "source": [
    "# Normalize the songs quantitative feats\n",
    "X = tracks_quanti_feats.drop(['track_id'], axis = 1)\n",
    "X.index = tracks_quanti_feats.track_id\n",
    "\n",
    "scaler = StandardScaler()\n",
    "X[X.columns] = pd.DataFrame(scaler.fit_transform(X), index=X.index)\n"
   ]
  },
  {
   "cell_type": "markdown",
   "id": "19d842cb-0da3-4c39-9964-ecee35b92626",
   "metadata": {},
   "source": [
    "## Recommendation algorithms evaluation"
   ]
  },
  {
   "cell_type": "markdown",
   "id": "d1c9a243-ffd5-481c-bc1a-18e52238f53c",
   "metadata": {
    "tags": []
   },
   "source": [
    "### Split the data into hidden and apparent sets"
   ]
  },
  {
   "cell_type": "code",
   "execution_count": 14,
   "id": "72427c7b-9312-46d1-a9b8-65980e57b651",
   "metadata": {},
   "outputs": [],
   "source": [
    "wdf_sorted = wdf.sort_values('user')\n",
    "wdf_users_summary_sorted = wdf_users_summary.sort_values('user')"
   ]
  },
  {
   "cell_type": "code",
   "execution_count": 21,
   "id": "496bd2e4-75aa-438e-96e6-e46869405ed9",
   "metadata": {},
   "outputs": [
    {
     "name": "stdout",
     "output_type": "stream",
     "text": [
      "Sorting the triplets by users id ... Done\n",
      "Computing the number of tracks listened by the users ... Done\n",
      "Defining hidden tracks ids ... Done\n",
      "Defining apparent tracks ids ... Done\n",
      "Splitting the listening history ...Execution time 1: 42.95786738395691 seconds\n"
     ]
    }
   ],
   "source": [
    "# Try 1; Triplets non sorted by users, without users_summary\n",
    "st = time.time()\n",
    "test1, test2 = split_history(wdf, 0.2, sort = True, random_state = 1234)\n",
    "et = time.time()\n",
    "elapsed_time = et - st\n",
    "print('Execution time 1:', elapsed_time, 'seconds')"
   ]
  },
  {
   "cell_type": "code",
   "execution_count": 22,
   "id": "f9a9b339-00a6-4285-88a0-1ed4c4ba0f3a",
   "metadata": {},
   "outputs": [
    {
     "name": "stdout",
     "output_type": "stream",
     "text": [
      "Sorting the triplets by users id ... Done\n",
      "Computing the number of tracks listened by the users ... Done\n",
      "Defining hidden tracks ids ... Done\n",
      "Defining apparent tracks ids ... Done\n",
      "Splitting the listening history ...Execution time 2: 36.215386390686035 seconds\n"
     ]
    }
   ],
   "source": [
    "# Try 2: Triplets non sorted by users, with users_summary\n",
    "st = time.time()\n",
    "test1, test2 = split_history(wdf, 0.2, sort = True, users_summary = wdf_users_summary, random_state = 1234)\n",
    "et = time.time()\n",
    "elapsed_time = et - st\n",
    "print('Execution time 2:', elapsed_time, 'seconds')"
   ]
  },
  {
   "cell_type": "code",
   "execution_count": 23,
   "id": "ab72a254-8cb0-409d-b8e3-0550c3860cae",
   "metadata": {},
   "outputs": [
    {
     "name": "stdout",
     "output_type": "stream",
     "text": [
      "\n",
      "Computing the number of tracks listened by the users ... Done\n",
      "Defining hidden tracks ids ... Done\n",
      "Defining apparent tracks ids ... Done\n",
      "Splitting the listening history ...Execution time 2: 21.979166746139526 seconds\n"
     ]
    }
   ],
   "source": [
    "# Try 3: Triplets sorted by users, without users_summary\n",
    "st = time.time()\n",
    "test1, test2 = split_history(wdf_sorted, 0.2, sort = False, random_state = 1234)\n",
    "et = time.time()\n",
    "elapsed_time = et - st\n",
    "print('Execution time 3:', elapsed_time, 'seconds')"
   ]
  },
  {
   "cell_type": "code",
   "execution_count": 15,
   "id": "c20779fc-2f02-4773-9e3c-7ead26b2f653",
   "metadata": {},
   "outputs": [
    {
     "name": "stdout",
     "output_type": "stream",
     "text": [
      "\n",
      "Computing the number of tracks listened by the users ... Done\n",
      "Defining hidden tracks ids ... Done\n",
      "Defining apparent tracks ids ... Done\n",
      "Splitting the listening history ...Execution time 4: 9.531891107559204 seconds\n"
     ]
    }
   ],
   "source": [
    "# Try 4: Triplets sorted by users, without users_summary\n",
    "st = time.time()\n",
    "test1, test2 = split_history(wdf_sorted, 0.2, sort = False, users_summary = wdf_users_summary_sorted, random_state = 1234)\n",
    "et = time.time()\n",
    "elapsed_time = et - st\n",
    "print('Execution time 4:', elapsed_time, 'seconds')"
   ]
  },
  {
   "cell_type": "markdown",
   "id": "9a1bea47-aa3f-4457-a40d-ca0338fa68d6",
   "metadata": {},
   "source": [
    "### Definition of the grid of parameters"
   ]
  },
  {
   "cell_type": "code",
   "execution_count": null,
   "id": "b2f79d97-5ecc-48fe-9a1b-66595309871f",
   "metadata": {},
   "outputs": [],
   "source": []
  },
  {
   "cell_type": "markdown",
   "id": "e4415826-b194-446f-8193-271eea3d6191",
   "metadata": {},
   "source": [
    "### Random recommandations"
   ]
  },
  {
   "cell_type": "code",
   "execution_count": 18,
   "id": "793c8b02-fc5d-4431-b1ed-3eac6dbc6ea0",
   "metadata": {},
   "outputs": [],
   "source": [
    "def random_k_reco(triplets, list_tracks, k):\n",
    "    users = triplets.user.unique()\n",
    "    reco = np.concatenate([random.sample(list(set(list_tracks) - set(triplets.loc[triplets.user == i, :].track_id)), k) for i in users])\n",
    "    return pd.DataFrame({'user' : [i for i in users for j in range(k)],'track_id' : reco})"
   ]
  },
  {
   "cell_type": "code",
   "execution_count": 21,
   "id": "4ce3b80c-0b61-422f-b790-4238af517d7f",
   "metadata": {},
   "outputs": [],
   "source": [
    "sample = random.sample(list(test1.user.unique()), 1000)"
   ]
  },
  {
   "cell_type": "code",
   "execution_count": 20,
   "id": "67127199-5f75-4f17-b82d-72934817482e",
   "metadata": {},
   "outputs": [
    {
     "data": {
      "text/plain": [
       "['9c6816187c7a22b9823256336f735a1d60aeb1e2',\n",
       " 'da5bfabbcd52dd210f7c503c2d1950d1b86952bc',\n",
       " '106e6363fad53f217ccc7f4285032366e47f8752',\n",
       " '5574e47ddf35df140ed00b15334b6b6e6b9a1b24',\n",
       " 'a5a44e66d1293f3d218f04e4c23be75a422bb77e',\n",
       " '5a92d6ead4e6ab8d0efc241a5d0c0409c3cfc494',\n",
       " '0bb3843d20c7d5fdfe40f9457b79babe5f56b811',\n",
       " '76827f9241949507fbcda65ca9cd00fc95c0b3ba',\n",
       " 'bd8b85eda3bfdc48dddfd0ee1e69c6087d3f62e8',\n",
       " 'e13e38e5c730f32fdcc15440c52e84d52e964741']"
      ]
     },
     "execution_count": 20,
     "metadata": {},
     "output_type": "execute_result"
    }
   ],
   "source": []
  },
  {
   "cell_type": "code",
   "execution_count": 22,
   "id": "248fd500-4b78-488a-be82-c7b16f7dbfdd",
   "metadata": {},
   "outputs": [],
   "source": [
    "df_apparent_sample =  test1.loc[test1.user.isin(sample),: ]\n",
    "df_hidden_sample = test2.loc[test2.user.isin(sample),: ]"
   ]
  },
  {
   "cell_type": "code",
   "execution_count": 23,
   "id": "5e0b5c69-af1a-4ebd-ad27-44089d6be7d7",
   "metadata": {},
   "outputs": [],
   "source": [
    "reco = random_k_reco(df_apparent_sample, X.index, 10)"
   ]
  },
  {
   "cell_type": "code",
   "execution_count": 24,
   "id": "842267a5-36e8-4210-be63-e5a97fd8f321",
   "metadata": {},
   "outputs": [
    {
     "data": {
      "text/html": [
       "<div>\n",
       "<style scoped>\n",
       "    .dataframe tbody tr th:only-of-type {\n",
       "        vertical-align: middle;\n",
       "    }\n",
       "\n",
       "    .dataframe tbody tr th {\n",
       "        vertical-align: top;\n",
       "    }\n",
       "\n",
       "    .dataframe thead th {\n",
       "        text-align: right;\n",
       "    }\n",
       "</style>\n",
       "<table border=\"1\" class=\"dataframe\">\n",
       "  <thead>\n",
       "    <tr style=\"text-align: right;\">\n",
       "      <th></th>\n",
       "      <th>user</th>\n",
       "      <th>track_id</th>\n",
       "    </tr>\n",
       "  </thead>\n",
       "  <tbody>\n",
       "    <tr>\n",
       "      <th>0</th>\n",
       "      <td>00096d38be8c339e7f0b74d52f4653eb8b31fbdc</td>\n",
       "      <td>CP24-Woodhands</td>\n",
       "    </tr>\n",
       "    <tr>\n",
       "      <th>1</th>\n",
       "      <td>00096d38be8c339e7f0b74d52f4653eb8b31fbdc</td>\n",
       "      <td>Flowing-Teenage Fanclub</td>\n",
       "    </tr>\n",
       "    <tr>\n",
       "      <th>2</th>\n",
       "      <td>00096d38be8c339e7f0b74d52f4653eb8b31fbdc</td>\n",
       "      <td>Drifter-Probspot</td>\n",
       "    </tr>\n",
       "    <tr>\n",
       "      <th>3</th>\n",
       "      <td>00096d38be8c339e7f0b74d52f4653eb8b31fbdc</td>\n",
       "      <td>I Let Go-Eighteen Visions</td>\n",
       "    </tr>\n",
       "    <tr>\n",
       "      <th>4</th>\n",
       "      <td>00096d38be8c339e7f0b74d52f4653eb8b31fbdc</td>\n",
       "      <td>New Patches-Mel Tillis</td>\n",
       "    </tr>\n",
       "    <tr>\n",
       "      <th>...</th>\n",
       "      <td>...</td>\n",
       "      <td>...</td>\n",
       "    </tr>\n",
       "    <tr>\n",
       "      <th>9995</th>\n",
       "      <td>ffbba5704849e25b74cb08435c5f3bf276a8df93</td>\n",
       "      <td>Who Can I Say You Are-Morly Grey</td>\n",
       "    </tr>\n",
       "    <tr>\n",
       "      <th>9996</th>\n",
       "      <td>ffbba5704849e25b74cb08435c5f3bf276a8df93</td>\n",
       "      <td>Stutter-Lake Trout</td>\n",
       "    </tr>\n",
       "    <tr>\n",
       "      <th>9997</th>\n",
       "      <td>ffbba5704849e25b74cb08435c5f3bf276a8df93</td>\n",
       "      <td>Prime Mover-Steve Stevens</td>\n",
       "    </tr>\n",
       "    <tr>\n",
       "      <th>9998</th>\n",
       "      <td>ffbba5704849e25b74cb08435c5f3bf276a8df93</td>\n",
       "      <td>Come Together-Third Day</td>\n",
       "    </tr>\n",
       "    <tr>\n",
       "      <th>9999</th>\n",
       "      <td>ffbba5704849e25b74cb08435c5f3bf276a8df93</td>\n",
       "      <td>Säg ingenting till mig-Melissa Horn</td>\n",
       "    </tr>\n",
       "  </tbody>\n",
       "</table>\n",
       "<p>10000 rows × 2 columns</p>\n",
       "</div>"
      ],
      "text/plain": [
       "                                          user  \\\n",
       "0     00096d38be8c339e7f0b74d52f4653eb8b31fbdc   \n",
       "1     00096d38be8c339e7f0b74d52f4653eb8b31fbdc   \n",
       "2     00096d38be8c339e7f0b74d52f4653eb8b31fbdc   \n",
       "3     00096d38be8c339e7f0b74d52f4653eb8b31fbdc   \n",
       "4     00096d38be8c339e7f0b74d52f4653eb8b31fbdc   \n",
       "...                                        ...   \n",
       "9995  ffbba5704849e25b74cb08435c5f3bf276a8df93   \n",
       "9996  ffbba5704849e25b74cb08435c5f3bf276a8df93   \n",
       "9997  ffbba5704849e25b74cb08435c5f3bf276a8df93   \n",
       "9998  ffbba5704849e25b74cb08435c5f3bf276a8df93   \n",
       "9999  ffbba5704849e25b74cb08435c5f3bf276a8df93   \n",
       "\n",
       "                                 track_id  \n",
       "0                          CP24-Woodhands  \n",
       "1                 Flowing-Teenage Fanclub  \n",
       "2                        Drifter-Probspot  \n",
       "3               I Let Go-Eighteen Visions  \n",
       "4                  New Patches-Mel Tillis  \n",
       "...                                   ...  \n",
       "9995     Who Can I Say You Are-Morly Grey  \n",
       "9996                   Stutter-Lake Trout  \n",
       "9997            Prime Mover-Steve Stevens  \n",
       "9998              Come Together-Third Day  \n",
       "9999  Säg ingenting till mig-Melissa Horn  \n",
       "\n",
       "[10000 rows x 2 columns]"
      ]
     },
     "execution_count": 24,
     "metadata": {},
     "output_type": "execute_result"
    }
   ],
   "source": [
    "reco"
   ]
  },
  {
   "cell_type": "code",
   "execution_count": 130,
   "id": "45b5162e-819f-4e83-960b-ba5d1a94f0f8",
   "metadata": {},
   "outputs": [],
   "source": [
    "def scoring_accuracy_vs_serendipity(hidden_triplets, recommended_triplets):\n",
    "    accuracy = [1-(len(set(hidden_triplets.loc[hidden_triplets.user == i,:].track_id)-set(recommended_triplets.loc[recommended_triplets.user == i,:].track_id)))/(len(set(hidden_triplets.loc[hidden_triplets.user == i,:].track_id))) for i in hidden_triplets.user.unique()]\n",
    "    serendipity = [(len(set(recommended_triplets.loc[recommended_triplets.user == i,:].track_id) - set(hidden_triplets.loc[hidden_triplets.user == i,:].track_id)))/(len(set(recommended_triplets.loc[recommended_triplets.user == i,:].track_id)))for i in hidden_triplets.user.unique()]\n",
    "    return accuracy, serendipity"
   ]
  },
  {
   "cell_type": "code",
   "execution_count": 131,
   "id": "c8cb03ac-ebc3-4e49-aac0-60e18b84aea3",
   "metadata": {},
   "outputs": [],
   "source": [
    "acc, ser = scoring_accuracy_vs_serendipity(df_hidden_sample, reco)"
   ]
  },
  {
   "cell_type": "code",
   "execution_count": 139,
   "id": "4152a748-924d-4efb-b6ac-38e508f472b2",
   "metadata": {},
   "outputs": [
    {
     "data": {
      "text/plain": [
       "count    1000.000000\n",
       "mean        0.033309\n",
       "std         0.140897\n",
       "min         0.000000\n",
       "25%         0.000000\n",
       "50%         0.000000\n",
       "75%         0.000000\n",
       "max         1.000000\n",
       "dtype: float64"
      ]
     },
     "execution_count": 139,
     "metadata": {},
     "output_type": "execute_result"
    }
   ],
   "source": [
    "pd.Series(acc).describe()"
   ]
  },
  {
   "cell_type": "code",
   "execution_count": null,
   "id": "7deff14f-89b6-4837-b3eb-c1c754c7c070",
   "metadata": {},
   "outputs": [],
   "source": []
  },
  {
   "cell_type": "markdown",
   "id": "d428c205-78d0-468b-a92b-a585bf79f586",
   "metadata": {},
   "source": [
    "## Work in progress"
   ]
  },
  {
   "cell_type": "code",
   "execution_count": 203,
   "id": "c0fd4d72-8710-411c-b4ef-e4208c232455",
   "metadata": {},
   "outputs": [],
   "source": [
    "listenings_history = test1.loc[test1.user.isin([sample[100]]),: ]"
   ]
  },
  {
   "cell_type": "code",
   "execution_count": 204,
   "id": "ceb3990b-3ed9-4344-bf8c-78b04519c32e",
   "metadata": {},
   "outputs": [
    {
     "data": {
      "text/html": [
       "<div>\n",
       "<style scoped>\n",
       "    .dataframe tbody tr th:only-of-type {\n",
       "        vertical-align: middle;\n",
       "    }\n",
       "\n",
       "    .dataframe tbody tr th {\n",
       "        vertical-align: top;\n",
       "    }\n",
       "\n",
       "    .dataframe thead th {\n",
       "        text-align: right;\n",
       "    }\n",
       "</style>\n",
       "<table border=\"1\" class=\"dataframe\">\n",
       "  <thead>\n",
       "    <tr style=\"text-align: right;\">\n",
       "      <th></th>\n",
       "      <th>user</th>\n",
       "      <th>listening_count</th>\n",
       "      <th>song_name</th>\n",
       "      <th>release</th>\n",
       "      <th>artist_name</th>\n",
       "      <th>duration</th>\n",
       "      <th>artist_familiarity</th>\n",
       "      <th>artist_hotttnesss</th>\n",
       "      <th>year</th>\n",
       "      <th>shs_perf</th>\n",
       "      <th>...</th>\n",
       "      <th>mode</th>\n",
       "      <th>speechiness</th>\n",
       "      <th>acousticness</th>\n",
       "      <th>instrumentalness</th>\n",
       "      <th>liveness</th>\n",
       "      <th>valence</th>\n",
       "      <th>tempo</th>\n",
       "      <th>time_signature</th>\n",
       "      <th>release_date</th>\n",
       "      <th>track_id</th>\n",
       "    </tr>\n",
       "  </thead>\n",
       "  <tbody>\n",
       "    <tr>\n",
       "      <th>373736</th>\n",
       "      <td>db6ca1554d54eb9589ee367368053a3429c697b3</td>\n",
       "      <td>1</td>\n",
       "      <td>Take It In</td>\n",
       "      <td>One Life Stand</td>\n",
       "      <td>Hot Chip</td>\n",
       "      <td>249.65179</td>\n",
       "      <td>0.852639</td>\n",
       "      <td>0.535763</td>\n",
       "      <td>2009</td>\n",
       "      <td>-1</td>\n",
       "      <td>...</td>\n",
       "      <td>1</td>\n",
       "      <td>0.0349</td>\n",
       "      <td>0.03510</td>\n",
       "      <td>0.09760</td>\n",
       "      <td>0.1210</td>\n",
       "      <td>0.390</td>\n",
       "      <td>120.114</td>\n",
       "      <td>4.0</td>\n",
       "      <td>2010-02-01</td>\n",
       "      <td>Take It In-Hot Chip</td>\n",
       "    </tr>\n",
       "    <tr>\n",
       "      <th>502060</th>\n",
       "      <td>db6ca1554d54eb9589ee367368053a3429c697b3</td>\n",
       "      <td>1</td>\n",
       "      <td>Plasticities</td>\n",
       "      <td>Live at Austin City Limits Music Festival 2007...</td>\n",
       "      <td>Andrew Bird</td>\n",
       "      <td>428.95628</td>\n",
       "      <td>0.757952</td>\n",
       "      <td>0.503813</td>\n",
       "      <td>2007</td>\n",
       "      <td>-1</td>\n",
       "      <td>...</td>\n",
       "      <td>1</td>\n",
       "      <td>0.0288</td>\n",
       "      <td>0.46300</td>\n",
       "      <td>0.01240</td>\n",
       "      <td>0.1140</td>\n",
       "      <td>0.678</td>\n",
       "      <td>146.838</td>\n",
       "      <td>4.0</td>\n",
       "      <td>2007</td>\n",
       "      <td>Plasticities-Andrew Bird</td>\n",
       "    </tr>\n",
       "    <tr>\n",
       "      <th>445965</th>\n",
       "      <td>db6ca1554d54eb9589ee367368053a3429c697b3</td>\n",
       "      <td>1</td>\n",
       "      <td>Someone Great</td>\n",
       "      <td>Someone Great</td>\n",
       "      <td>LCD Soundsystem</td>\n",
       "      <td>389.48526</td>\n",
       "      <td>0.764882</td>\n",
       "      <td>0.614346</td>\n",
       "      <td>2007</td>\n",
       "      <td>-1</td>\n",
       "      <td>...</td>\n",
       "      <td>1</td>\n",
       "      <td>0.0325</td>\n",
       "      <td>0.04180</td>\n",
       "      <td>0.00374</td>\n",
       "      <td>0.1100</td>\n",
       "      <td>0.396</td>\n",
       "      <td>113.003</td>\n",
       "      <td>4.0</td>\n",
       "      <td>2019-06-07</td>\n",
       "      <td>Someone Great-LCD Soundsystem</td>\n",
       "    </tr>\n",
       "    <tr>\n",
       "      <th>4177345</th>\n",
       "      <td>db6ca1554d54eb9589ee367368053a3429c697b3</td>\n",
       "      <td>1</td>\n",
       "      <td>Love Spreads</td>\n",
       "      <td>Second Coming</td>\n",
       "      <td>The Stone Roses</td>\n",
       "      <td>347.14077</td>\n",
       "      <td>0.725522</td>\n",
       "      <td>0.478417</td>\n",
       "      <td>1994</td>\n",
       "      <td>-1</td>\n",
       "      <td>...</td>\n",
       "      <td>1</td>\n",
       "      <td>0.0481</td>\n",
       "      <td>0.00375</td>\n",
       "      <td>0.00290</td>\n",
       "      <td>0.5850</td>\n",
       "      <td>0.553</td>\n",
       "      <td>92.367</td>\n",
       "      <td>4.0</td>\n",
       "      <td>2002-11-04</td>\n",
       "      <td>Love Spreads-The Stone Roses</td>\n",
       "    </tr>\n",
       "    <tr>\n",
       "      <th>1070303</th>\n",
       "      <td>db6ca1554d54eb9589ee367368053a3429c697b3</td>\n",
       "      <td>1</td>\n",
       "      <td>The Laws Have Changed</td>\n",
       "      <td>Electric Version</td>\n",
       "      <td>The New Pornographers</td>\n",
       "      <td>206.81098</td>\n",
       "      <td>0.708589</td>\n",
       "      <td>0.523546</td>\n",
       "      <td>2003</td>\n",
       "      <td>-1</td>\n",
       "      <td>...</td>\n",
       "      <td>1</td>\n",
       "      <td>0.0385</td>\n",
       "      <td>0.00342</td>\n",
       "      <td>0.00000</td>\n",
       "      <td>0.0811</td>\n",
       "      <td>0.688</td>\n",
       "      <td>141.943</td>\n",
       "      <td>4.0</td>\n",
       "      <td>2004-10-12</td>\n",
       "      <td>The Laws Have Changed-The New Pornographers</td>\n",
       "    </tr>\n",
       "    <tr>\n",
       "      <th>549310</th>\n",
       "      <td>db6ca1554d54eb9589ee367368053a3429c697b3</td>\n",
       "      <td>1</td>\n",
       "      <td>Heretics</td>\n",
       "      <td>Heretics</td>\n",
       "      <td>Andrew Bird</td>\n",
       "      <td>215.87546</td>\n",
       "      <td>0.757952</td>\n",
       "      <td>0.498424</td>\n",
       "      <td>2007</td>\n",
       "      <td>-1</td>\n",
       "      <td>...</td>\n",
       "      <td>1</td>\n",
       "      <td>0.0546</td>\n",
       "      <td>0.11400</td>\n",
       "      <td>0.00003</td>\n",
       "      <td>0.1170</td>\n",
       "      <td>0.496</td>\n",
       "      <td>131.697</td>\n",
       "      <td>4.0</td>\n",
       "      <td>2007</td>\n",
       "      <td>Heretics-Andrew Bird</td>\n",
       "    </tr>\n",
       "  </tbody>\n",
       "</table>\n",
       "<p>6 rows × 26 columns</p>\n",
       "</div>"
      ],
      "text/plain": [
       "                                             user  listening_count  \\\n",
       "373736   db6ca1554d54eb9589ee367368053a3429c697b3                1   \n",
       "502060   db6ca1554d54eb9589ee367368053a3429c697b3                1   \n",
       "445965   db6ca1554d54eb9589ee367368053a3429c697b3                1   \n",
       "4177345  db6ca1554d54eb9589ee367368053a3429c697b3                1   \n",
       "1070303  db6ca1554d54eb9589ee367368053a3429c697b3                1   \n",
       "549310   db6ca1554d54eb9589ee367368053a3429c697b3                1   \n",
       "\n",
       "                     song_name  \\\n",
       "373736              Take It In   \n",
       "502060            Plasticities   \n",
       "445965           Someone Great   \n",
       "4177345           Love Spreads   \n",
       "1070303  The Laws Have Changed   \n",
       "549310                Heretics   \n",
       "\n",
       "                                                   release  \\\n",
       "373736                                      One Life Stand   \n",
       "502060   Live at Austin City Limits Music Festival 2007...   \n",
       "445965                                       Someone Great   \n",
       "4177345                                      Second Coming   \n",
       "1070303                                   Electric Version   \n",
       "549310                                            Heretics   \n",
       "\n",
       "                   artist_name   duration  artist_familiarity  \\\n",
       "373736                Hot Chip  249.65179            0.852639   \n",
       "502060             Andrew Bird  428.95628            0.757952   \n",
       "445965         LCD Soundsystem  389.48526            0.764882   \n",
       "4177345        The Stone Roses  347.14077            0.725522   \n",
       "1070303  The New Pornographers  206.81098            0.708589   \n",
       "549310             Andrew Bird  215.87546            0.757952   \n",
       "\n",
       "         artist_hotttnesss  year  shs_perf  ...  mode  speechiness  \\\n",
       "373736            0.535763  2009        -1  ...     1       0.0349   \n",
       "502060            0.503813  2007        -1  ...     1       0.0288   \n",
       "445965            0.614346  2007        -1  ...     1       0.0325   \n",
       "4177345           0.478417  1994        -1  ...     1       0.0481   \n",
       "1070303           0.523546  2003        -1  ...     1       0.0385   \n",
       "549310            0.498424  2007        -1  ...     1       0.0546   \n",
       "\n",
       "         acousticness  instrumentalness  liveness  valence    tempo  \\\n",
       "373736        0.03510           0.09760    0.1210    0.390  120.114   \n",
       "502060        0.46300           0.01240    0.1140    0.678  146.838   \n",
       "445965        0.04180           0.00374    0.1100    0.396  113.003   \n",
       "4177345       0.00375           0.00290    0.5850    0.553   92.367   \n",
       "1070303       0.00342           0.00000    0.0811    0.688  141.943   \n",
       "549310        0.11400           0.00003    0.1170    0.496  131.697   \n",
       "\n",
       "         time_signature  release_date  \\\n",
       "373736              4.0    2010-02-01   \n",
       "502060              4.0          2007   \n",
       "445965              4.0    2019-06-07   \n",
       "4177345             4.0    2002-11-04   \n",
       "1070303             4.0    2004-10-12   \n",
       "549310              4.0          2007   \n",
       "\n",
       "                                            track_id  \n",
       "373736                           Take It In-Hot Chip  \n",
       "502060                      Plasticities-Andrew Bird  \n",
       "445965                 Someone Great-LCD Soundsystem  \n",
       "4177345                 Love Spreads-The Stone Roses  \n",
       "1070303  The Laws Have Changed-The New Pornographers  \n",
       "549310                          Heretics-Andrew Bird  \n",
       "\n",
       "[6 rows x 26 columns]"
      ]
     },
     "execution_count": 204,
     "metadata": {},
     "output_type": "execute_result"
    }
   ],
   "source": [
    "listenings_history"
   ]
  },
  {
   "cell_type": "code",
   "execution_count": 211,
   "id": "0a46d6dc-2660-48b4-8df5-a14524834356",
   "metadata": {},
   "outputs": [
    {
     "data": {
      "text/plain": [
       "['I Am Destined For Greatness-We Versus The Shark',\n",
       " 'Recovery-New Buffalo',\n",
       " 'Arts Centre-The Chap',\n",
       " 'Shambala-B.W. Stevenson',\n",
       " 'Chicken Shack-Pinetop Perkins',\n",
       " 'When I Meet Them-Seals and Crofts',\n",
       " 'Three Hits-Indigo Girls',\n",
       " 'Tell Him-Benton Falls',\n",
       " 'The Race Is On Again-Yo La Tengo',\n",
       " 'So Fine-Electric Light Orchestra']"
      ]
     },
     "execution_count": 211,
     "metadata": {},
     "output_type": "execute_result"
    }
   ],
   "source": [
    "kmeans_based_knn(listenings_history = user_test, X = X, n_neighbors = 10, random_state = 1234)"
   ]
  },
  {
   "cell_type": "code",
   "execution_count": 201,
   "id": "75851b2c-2b42-4198-8754-2af32844a644",
   "metadata": {},
   "outputs": [],
   "source": [
    "\n",
    "    \n"
   ]
  },
  {
   "cell_type": "code",
   "execution_count": 200,
   "id": "52cf9c55-d8cc-40ba-a5b1-a627b1fc32ea",
   "metadata": {},
   "outputs": [],
   "source": []
  }
 ],
 "metadata": {
  "kernelspec": {
   "display_name": "Python 3 (ipykernel)",
   "language": "python",
   "name": "python3"
  },
  "language_info": {
   "codemirror_mode": {
    "name": "ipython",
    "version": 3
   },
   "file_extension": ".py",
   "mimetype": "text/x-python",
   "name": "python",
   "nbconvert_exporter": "python",
   "pygments_lexer": "ipython3",
   "version": "3.10.9"
  }
 },
 "nbformat": 4,
 "nbformat_minor": 5
}
