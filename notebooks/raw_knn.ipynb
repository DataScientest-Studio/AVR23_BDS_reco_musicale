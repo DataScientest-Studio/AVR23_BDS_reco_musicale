{
 "cells": [
  {
   "cell_type": "code",
   "execution_count": 1,
   "id": "42fcfcdf-4624-45ab-9166-85b6d1c12f02",
   "metadata": {},
   "outputs": [],
   "source": [
    "import os\n",
    "from pathlib import Path\n",
    "import pandas as pd\n",
    "import matplotlib.pyplot as plt\n",
    "import seaborn as sns\n",
    "import numpy as np\n",
    "import ipynb\n",
    "from scipy.spatial import distance_matrix\n",
    "import random"
   ]
  },
  {
   "cell_type": "code",
   "execution_count": 2,
   "id": "7df20d85-1ba6-4436-9b79-132838085536",
   "metadata": {},
   "outputs": [],
   "source": [
    "from ipynb.fs.full.datamanagement import user_filter\n",
    "from ipynb.fs.full.evaluation_workflow import split_history\n",
    "from sklearn.preprocessing import StandardScaler\n",
    "from scipy.spatial import distance_matrix\n",
    "pd.options.mode.chained_assignment = None  # default='warn'"
   ]
  },
  {
   "cell_type": "markdown",
   "id": "00671c82-7e4a-4dc0-a802-a7d23ab9091d",
   "metadata": {},
   "source": [
    "## Data loading"
   ]
  },
  {
   "cell_type": "code",
   "execution_count": 3,
   "id": "f47a7b3a-9857-4a34-a817-f1d17b0b777f",
   "metadata": {},
   "outputs": [],
   "source": [
    "# Read the data\n",
    "CUR_DIR = os.path.abspath('')\n",
    "\n",
    "DATA_DIR = Path(CUR_DIR).parent / \"data\"\n",
    "FILE_PATH = DATA_DIR/'triplets_metadata_spotify.csv'\n",
    "df = pd.read_csv(FILE_PATH, index_col = 0)"
   ]
  },
  {
   "cell_type": "code",
   "execution_count": 4,
   "id": "6d5ba0dd-09ac-43f5-8f4b-73f5b5713f77",
   "metadata": {},
   "outputs": [],
   "source": [
    "# Select a working database\n",
    "user_listenings = df.groupby(['user', 'song_name', 'artist_name']).agg({'listening_count' : sum}).reset_index()\n",
    "users_summary = user_listenings.groupby('user').agg({'listening_count' : sum, 'song_name' : len}).reset_index()\n",
    "users_summary.columns = ['user', 'listening_count', 'track_count']\n"
   ]
  },
  {
   "cell_type": "markdown",
   "id": "8ca09348-93d9-4dc8-8f55-f663f3bd82e1",
   "metadata": {},
   "source": [
    "## Data management"
   ]
  },
  {
   "cell_type": "markdown",
   "id": "969ae3d3-58d4-456e-bd7b-2363dd7f9dee",
   "metadata": {},
   "source": [
    "### Users filtering"
   ]
  },
  {
   "cell_type": "code",
   "execution_count": 5,
   "id": "ba7fc363-d5a1-4caf-a251-5ebc44e21066",
   "metadata": {},
   "outputs": [],
   "source": [
    "ids = user_filter(users_summary, nlist_min = 1, nlist_max = 500, ntracks_min = 5)\n",
    "wdf = df.loc[df['user'].isin(ids),:]"
   ]
  },
  {
   "cell_type": "code",
   "execution_count": 6,
   "id": "475a2f26-c2a0-477e-a8f6-de1290108f65",
   "metadata": {},
   "outputs": [
    {
     "name": "stdout",
     "output_type": "stream",
     "text": [
      "Nb of ligns in df  : 4982520\n",
      "Nb of ligns in wdf : 3863861\n"
     ]
    }
   ],
   "source": [
    "print('Nb of ligns in df  :', len(df))\n",
    "print('Nb of ligns in wdf :', len(wdf))"
   ]
  },
  {
   "cell_type": "code",
   "execution_count": 6,
   "id": "2e5b97f1-4ead-4b99-ade9-8b0592f9080b",
   "metadata": {},
   "outputs": [],
   "source": [
    "wdf['track_id'] = wdf.song_name + '-' + wdf.artist_name\n",
    "# wdf['track_id'] = 0"
   ]
  },
  {
   "cell_type": "markdown",
   "id": "d445f993-5e37-4bda-b4d8-c6ef3775377d",
   "metadata": {},
   "source": [
    "### Songs management"
   ]
  },
  {
   "cell_type": "code",
   "execution_count": 7,
   "id": "a8d132da-dc18-49c3-a7b1-ed8524f50da6",
   "metadata": {},
   "outputs": [],
   "source": [
    "# Get the songs quantitative features\n",
    "\n",
    "tracks_feats = df.drop(['user', 'listening_count'],axis = 1)\n",
    "tracks_feats['track_id'] = df.song_name + '-' + df.artist_name\n",
    "tracks_quanti_feats = tracks_feats.drop(['song_name', 'release', 'artist_name',\n",
    "        'artist_familiarity', 'artist_hotttnesss', 'year', 'key',\n",
    "       'shs_perf', 'shs_work', 'explicit', 'mode', 'time_signature', 'release_date', 'duration', 'tempo'], axis = 1).drop_duplicates()"
   ]
  },
  {
   "cell_type": "code",
   "execution_count": 8,
   "id": "694cfb27-5e87-4963-8bc6-e892ace7f5a8",
   "metadata": {},
   "outputs": [],
   "source": [
    "# Normalize the songs quantitative feats\n",
    "X = tracks_quanti_feats.drop(['track_id'], axis = 1)\n",
    "X.index = tracks_quanti_feats.track_id\n",
    "\n",
    "scaler = StandardScaler()\n",
    "X[X.columns] = pd.DataFrame(scaler.fit_transform(X), index=X.index)\n",
    "#X = scaler.transform(tracks_quanti_feats)\n",
    "## preserve X as a dataframe\n"
   ]
  },
  {
   "cell_type": "code",
   "execution_count": 10,
   "id": "14ef998d-92fc-47c7-aa81-93b75e1291c1",
   "metadata": {},
   "outputs": [],
   "source": [
    "# Compute the pairwise distance matrix between the songs\n",
    "D = pd.DataFrame(distance_matrix(X, X), index = X.index, columns = X.index)"
   ]
  },
  {
   "cell_type": "markdown",
   "id": "19d842cb-0da3-4c39-9964-ecee35b92626",
   "metadata": {},
   "source": [
    "## Raw K-Nearest Neighboor"
   ]
  },
  {
   "cell_type": "markdown",
   "id": "d1c9a243-ffd5-481c-bc1a-18e52238f53c",
   "metadata": {},
   "source": [
    "### Split the data into hidden and apparent sets"
   ]
  },
  {
   "cell_type": "code",
   "execution_count": null,
   "id": "1760f5ab-a036-4d8f-8179-9f4bcdcd38e8",
   "metadata": {},
   "outputs": [],
   "source": [
    "test1, test2 = split_history(wdf, 0.2)\n"
   ]
  },
  {
   "cell_type": "code",
   "execution_count": null,
   "id": "793c8b02-fc5d-4431-b1ed-3eac6dbc6ea0",
   "metadata": {},
   "outputs": [],
   "source": [
    "def random_k_reco(users_historic):"
   ]
  }
 ],
 "metadata": {
  "kernelspec": {
   "display_name": "Python 3 (ipykernel)",
   "language": "python",
   "name": "python3"
  },
  "language_info": {
   "codemirror_mode": {
    "name": "ipython",
    "version": 3
   },
   "file_extension": ".py",
   "mimetype": "text/x-python",
   "name": "python",
   "nbconvert_exporter": "python",
   "pygments_lexer": "ipython3",
   "version": "3.10.9"
  }
 },
 "nbformat": 4,
 "nbformat_minor": 5
}
