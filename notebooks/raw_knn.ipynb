{
 "cells": [
  {
   "cell_type": "code",
   "execution_count": 19,
   "id": "42fcfcdf-4624-45ab-9166-85b6d1c12f02",
   "metadata": {},
   "outputs": [],
   "source": [
    "import os\n",
    "from pathlib import Path\n",
    "import pandas as pd\n",
    "import matplotlib.pyplot as plt\n",
    "import seaborn as sns\n",
    "import numpy as np\n",
    "import ipynb\n",
    "from scipy.spatial import distance_matrix\n",
    "import random\n",
    "import sys as sys\n",
    "import time"
   ]
  },
  {
   "cell_type": "code",
   "execution_count": 2,
   "id": "7df20d85-1ba6-4436-9b79-132838085536",
   "metadata": {},
   "outputs": [],
   "source": [
    "from ipynb.fs.full.datamanagement import user_filter\n",
    "from ipynb.fs.full.datamanagement import summarise_listening_history\n",
    "from ipynb.fs.full.evaluation_workflow import split_history\n",
    "from sklearn.preprocessing import StandardScaler\n",
    "from scipy.spatial import distance_matrix"
   ]
  },
  {
   "cell_type": "markdown",
   "id": "00671c82-7e4a-4dc0-a802-a7d23ab9091d",
   "metadata": {},
   "source": [
    "## Data loading"
   ]
  },
  {
   "cell_type": "code",
   "execution_count": 3,
   "id": "f47a7b3a-9857-4a34-a817-f1d17b0b777f",
   "metadata": {},
   "outputs": [],
   "source": [
    "# Read the data\n",
    "CUR_DIR = os.path.abspath('')\n",
    "\n",
    "DATA_DIR = Path(CUR_DIR).parent / \"data\"\n",
    "FILE_PATH = DATA_DIR/'triplets_metadata_spotify.csv'\n",
    "df = pd.read_csv(FILE_PATH, index_col = 0)"
   ]
  },
  {
   "cell_type": "code",
   "execution_count": 4,
   "id": "1d132d0e-2d5d-45c7-ac12-315b61f9a87e",
   "metadata": {},
   "outputs": [
    {
     "data": {
      "text/html": [
       "<div>\n",
       "<style scoped>\n",
       "    .dataframe tbody tr th:only-of-type {\n",
       "        vertical-align: middle;\n",
       "    }\n",
       "\n",
       "    .dataframe tbody tr th {\n",
       "        vertical-align: top;\n",
       "    }\n",
       "\n",
       "    .dataframe thead th {\n",
       "        text-align: right;\n",
       "    }\n",
       "</style>\n",
       "<table border=\"1\" class=\"dataframe\">\n",
       "  <thead>\n",
       "    <tr style=\"text-align: right;\">\n",
       "      <th></th>\n",
       "      <th>user</th>\n",
       "      <th>listening_count</th>\n",
       "      <th>song_name</th>\n",
       "      <th>release</th>\n",
       "      <th>artist_name</th>\n",
       "      <th>duration</th>\n",
       "      <th>artist_familiarity</th>\n",
       "      <th>artist_hotttnesss</th>\n",
       "      <th>year</th>\n",
       "      <th>shs_perf</th>\n",
       "      <th>...</th>\n",
       "      <th>loudness</th>\n",
       "      <th>mode</th>\n",
       "      <th>speechiness</th>\n",
       "      <th>acousticness</th>\n",
       "      <th>instrumentalness</th>\n",
       "      <th>liveness</th>\n",
       "      <th>valence</th>\n",
       "      <th>tempo</th>\n",
       "      <th>time_signature</th>\n",
       "      <th>release_date</th>\n",
       "    </tr>\n",
       "  </thead>\n",
       "  <tbody>\n",
       "    <tr>\n",
       "      <th>0</th>\n",
       "      <td>b80344d063b5ccb3212f76538f3d9e43d87dca9e</td>\n",
       "      <td>1</td>\n",
       "      <td>Stronger</td>\n",
       "      <td>Graduation</td>\n",
       "      <td>Kanye West</td>\n",
       "      <td>311.84934</td>\n",
       "      <td>0.877214</td>\n",
       "      <td>1.082503</td>\n",
       "      <td>2007</td>\n",
       "      <td>-1</td>\n",
       "      <td>...</td>\n",
       "      <td>-7.933</td>\n",
       "      <td>0</td>\n",
       "      <td>0.176</td>\n",
       "      <td>0.00763</td>\n",
       "      <td>0.0</td>\n",
       "      <td>0.526</td>\n",
       "      <td>0.495</td>\n",
       "      <td>103.977</td>\n",
       "      <td>4.0</td>\n",
       "      <td>2011-05-24</td>\n",
       "    </tr>\n",
       "    <tr>\n",
       "      <th>1</th>\n",
       "      <td>9fba771d9731561eba47216f6fbfc0023d88641b</td>\n",
       "      <td>19</td>\n",
       "      <td>Stronger</td>\n",
       "      <td>Graduation</td>\n",
       "      <td>Kanye West</td>\n",
       "      <td>311.84934</td>\n",
       "      <td>0.877214</td>\n",
       "      <td>1.082503</td>\n",
       "      <td>2007</td>\n",
       "      <td>-1</td>\n",
       "      <td>...</td>\n",
       "      <td>-7.933</td>\n",
       "      <td>0</td>\n",
       "      <td>0.176</td>\n",
       "      <td>0.00763</td>\n",
       "      <td>0.0</td>\n",
       "      <td>0.526</td>\n",
       "      <td>0.495</td>\n",
       "      <td>103.977</td>\n",
       "      <td>4.0</td>\n",
       "      <td>2011-05-24</td>\n",
       "    </tr>\n",
       "    <tr>\n",
       "      <th>2</th>\n",
       "      <td>85952991b8e3ca5803a08b0b2f9c6d71abf9bb5b</td>\n",
       "      <td>1</td>\n",
       "      <td>Stronger</td>\n",
       "      <td>Graduation</td>\n",
       "      <td>Kanye West</td>\n",
       "      <td>311.84934</td>\n",
       "      <td>0.877214</td>\n",
       "      <td>1.082503</td>\n",
       "      <td>2007</td>\n",
       "      <td>-1</td>\n",
       "      <td>...</td>\n",
       "      <td>-7.933</td>\n",
       "      <td>0</td>\n",
       "      <td>0.176</td>\n",
       "      <td>0.00763</td>\n",
       "      <td>0.0</td>\n",
       "      <td>0.526</td>\n",
       "      <td>0.495</td>\n",
       "      <td>103.977</td>\n",
       "      <td>4.0</td>\n",
       "      <td>2011-05-24</td>\n",
       "    </tr>\n",
       "    <tr>\n",
       "      <th>3</th>\n",
       "      <td>537340ff896dea11328910013cfe759413e1eeb3</td>\n",
       "      <td>2</td>\n",
       "      <td>Stronger</td>\n",
       "      <td>Graduation</td>\n",
       "      <td>Kanye West</td>\n",
       "      <td>311.84934</td>\n",
       "      <td>0.877214</td>\n",
       "      <td>1.082503</td>\n",
       "      <td>2007</td>\n",
       "      <td>-1</td>\n",
       "      <td>...</td>\n",
       "      <td>-7.933</td>\n",
       "      <td>0</td>\n",
       "      <td>0.176</td>\n",
       "      <td>0.00763</td>\n",
       "      <td>0.0</td>\n",
       "      <td>0.526</td>\n",
       "      <td>0.495</td>\n",
       "      <td>103.977</td>\n",
       "      <td>4.0</td>\n",
       "      <td>2011-05-24</td>\n",
       "    </tr>\n",
       "    <tr>\n",
       "      <th>4</th>\n",
       "      <td>8fce200f3912e9608e3b1463cdb9c3529aab5c08</td>\n",
       "      <td>2</td>\n",
       "      <td>Stronger</td>\n",
       "      <td>Graduation</td>\n",
       "      <td>Kanye West</td>\n",
       "      <td>311.84934</td>\n",
       "      <td>0.877214</td>\n",
       "      <td>1.082503</td>\n",
       "      <td>2007</td>\n",
       "      <td>-1</td>\n",
       "      <td>...</td>\n",
       "      <td>-7.933</td>\n",
       "      <td>0</td>\n",
       "      <td>0.176</td>\n",
       "      <td>0.00763</td>\n",
       "      <td>0.0</td>\n",
       "      <td>0.526</td>\n",
       "      <td>0.495</td>\n",
       "      <td>103.977</td>\n",
       "      <td>4.0</td>\n",
       "      <td>2011-05-24</td>\n",
       "    </tr>\n",
       "  </tbody>\n",
       "</table>\n",
       "<p>5 rows × 25 columns</p>\n",
       "</div>"
      ],
      "text/plain": [
       "                                       user  listening_count song_name  \\\n",
       "0  b80344d063b5ccb3212f76538f3d9e43d87dca9e                1  Stronger   \n",
       "1  9fba771d9731561eba47216f6fbfc0023d88641b               19  Stronger   \n",
       "2  85952991b8e3ca5803a08b0b2f9c6d71abf9bb5b                1  Stronger   \n",
       "3  537340ff896dea11328910013cfe759413e1eeb3                2  Stronger   \n",
       "4  8fce200f3912e9608e3b1463cdb9c3529aab5c08                2  Stronger   \n",
       "\n",
       "      release artist_name   duration  artist_familiarity  artist_hotttnesss  \\\n",
       "0  Graduation  Kanye West  311.84934            0.877214           1.082503   \n",
       "1  Graduation  Kanye West  311.84934            0.877214           1.082503   \n",
       "2  Graduation  Kanye West  311.84934            0.877214           1.082503   \n",
       "3  Graduation  Kanye West  311.84934            0.877214           1.082503   \n",
       "4  Graduation  Kanye West  311.84934            0.877214           1.082503   \n",
       "\n",
       "   year  shs_perf  ...  loudness  mode  speechiness  acousticness  \\\n",
       "0  2007        -1  ...    -7.933     0        0.176       0.00763   \n",
       "1  2007        -1  ...    -7.933     0        0.176       0.00763   \n",
       "2  2007        -1  ...    -7.933     0        0.176       0.00763   \n",
       "3  2007        -1  ...    -7.933     0        0.176       0.00763   \n",
       "4  2007        -1  ...    -7.933     0        0.176       0.00763   \n",
       "\n",
       "   instrumentalness  liveness  valence    tempo  time_signature  release_date  \n",
       "0               0.0     0.526    0.495  103.977             4.0    2011-05-24  \n",
       "1               0.0     0.526    0.495  103.977             4.0    2011-05-24  \n",
       "2               0.0     0.526    0.495  103.977             4.0    2011-05-24  \n",
       "3               0.0     0.526    0.495  103.977             4.0    2011-05-24  \n",
       "4               0.0     0.526    0.495  103.977             4.0    2011-05-24  \n",
       "\n",
       "[5 rows x 25 columns]"
      ]
     },
     "execution_count": 4,
     "metadata": {},
     "output_type": "execute_result"
    }
   ],
   "source": [
    "df.head()"
   ]
  },
  {
   "cell_type": "code",
   "execution_count": 5,
   "id": "6d5ba0dd-09ac-43f5-8f4b-73f5b5713f77",
   "metadata": {},
   "outputs": [],
   "source": [
    "df['track_id'] = df.song_name + '-' + df.artist_name"
   ]
  },
  {
   "cell_type": "code",
   "execution_count": 6,
   "id": "6e6d89c9-b9eb-47ae-94bf-f5e39a3eea7a",
   "metadata": {},
   "outputs": [
    {
     "data": {
      "text/html": [
       "<div>\n",
       "<style scoped>\n",
       "    .dataframe tbody tr th:only-of-type {\n",
       "        vertical-align: middle;\n",
       "    }\n",
       "\n",
       "    .dataframe tbody tr th {\n",
       "        vertical-align: top;\n",
       "    }\n",
       "\n",
       "    .dataframe thead th {\n",
       "        text-align: right;\n",
       "    }\n",
       "</style>\n",
       "<table border=\"1\" class=\"dataframe\">\n",
       "  <thead>\n",
       "    <tr style=\"text-align: right;\">\n",
       "      <th></th>\n",
       "      <th>user</th>\n",
       "      <th>listening_count</th>\n",
       "      <th>song_name</th>\n",
       "      <th>release</th>\n",
       "      <th>artist_name</th>\n",
       "      <th>duration</th>\n",
       "      <th>artist_familiarity</th>\n",
       "      <th>artist_hotttnesss</th>\n",
       "      <th>year</th>\n",
       "      <th>shs_perf</th>\n",
       "      <th>...</th>\n",
       "      <th>mode</th>\n",
       "      <th>speechiness</th>\n",
       "      <th>acousticness</th>\n",
       "      <th>instrumentalness</th>\n",
       "      <th>liveness</th>\n",
       "      <th>valence</th>\n",
       "      <th>tempo</th>\n",
       "      <th>time_signature</th>\n",
       "      <th>release_date</th>\n",
       "      <th>track_id</th>\n",
       "    </tr>\n",
       "  </thead>\n",
       "  <tbody>\n",
       "    <tr>\n",
       "      <th>0</th>\n",
       "      <td>b80344d063b5ccb3212f76538f3d9e43d87dca9e</td>\n",
       "      <td>1</td>\n",
       "      <td>Stronger</td>\n",
       "      <td>Graduation</td>\n",
       "      <td>Kanye West</td>\n",
       "      <td>311.84934</td>\n",
       "      <td>0.877214</td>\n",
       "      <td>1.082503</td>\n",
       "      <td>2007</td>\n",
       "      <td>-1</td>\n",
       "      <td>...</td>\n",
       "      <td>0</td>\n",
       "      <td>0.176</td>\n",
       "      <td>0.00763</td>\n",
       "      <td>0.0</td>\n",
       "      <td>0.526</td>\n",
       "      <td>0.495</td>\n",
       "      <td>103.977</td>\n",
       "      <td>4.0</td>\n",
       "      <td>2011-05-24</td>\n",
       "      <td>Stronger-Kanye West</td>\n",
       "    </tr>\n",
       "    <tr>\n",
       "      <th>1</th>\n",
       "      <td>9fba771d9731561eba47216f6fbfc0023d88641b</td>\n",
       "      <td>19</td>\n",
       "      <td>Stronger</td>\n",
       "      <td>Graduation</td>\n",
       "      <td>Kanye West</td>\n",
       "      <td>311.84934</td>\n",
       "      <td>0.877214</td>\n",
       "      <td>1.082503</td>\n",
       "      <td>2007</td>\n",
       "      <td>-1</td>\n",
       "      <td>...</td>\n",
       "      <td>0</td>\n",
       "      <td>0.176</td>\n",
       "      <td>0.00763</td>\n",
       "      <td>0.0</td>\n",
       "      <td>0.526</td>\n",
       "      <td>0.495</td>\n",
       "      <td>103.977</td>\n",
       "      <td>4.0</td>\n",
       "      <td>2011-05-24</td>\n",
       "      <td>Stronger-Kanye West</td>\n",
       "    </tr>\n",
       "    <tr>\n",
       "      <th>2</th>\n",
       "      <td>85952991b8e3ca5803a08b0b2f9c6d71abf9bb5b</td>\n",
       "      <td>1</td>\n",
       "      <td>Stronger</td>\n",
       "      <td>Graduation</td>\n",
       "      <td>Kanye West</td>\n",
       "      <td>311.84934</td>\n",
       "      <td>0.877214</td>\n",
       "      <td>1.082503</td>\n",
       "      <td>2007</td>\n",
       "      <td>-1</td>\n",
       "      <td>...</td>\n",
       "      <td>0</td>\n",
       "      <td>0.176</td>\n",
       "      <td>0.00763</td>\n",
       "      <td>0.0</td>\n",
       "      <td>0.526</td>\n",
       "      <td>0.495</td>\n",
       "      <td>103.977</td>\n",
       "      <td>4.0</td>\n",
       "      <td>2011-05-24</td>\n",
       "      <td>Stronger-Kanye West</td>\n",
       "    </tr>\n",
       "    <tr>\n",
       "      <th>3</th>\n",
       "      <td>537340ff896dea11328910013cfe759413e1eeb3</td>\n",
       "      <td>2</td>\n",
       "      <td>Stronger</td>\n",
       "      <td>Graduation</td>\n",
       "      <td>Kanye West</td>\n",
       "      <td>311.84934</td>\n",
       "      <td>0.877214</td>\n",
       "      <td>1.082503</td>\n",
       "      <td>2007</td>\n",
       "      <td>-1</td>\n",
       "      <td>...</td>\n",
       "      <td>0</td>\n",
       "      <td>0.176</td>\n",
       "      <td>0.00763</td>\n",
       "      <td>0.0</td>\n",
       "      <td>0.526</td>\n",
       "      <td>0.495</td>\n",
       "      <td>103.977</td>\n",
       "      <td>4.0</td>\n",
       "      <td>2011-05-24</td>\n",
       "      <td>Stronger-Kanye West</td>\n",
       "    </tr>\n",
       "    <tr>\n",
       "      <th>4</th>\n",
       "      <td>8fce200f3912e9608e3b1463cdb9c3529aab5c08</td>\n",
       "      <td>2</td>\n",
       "      <td>Stronger</td>\n",
       "      <td>Graduation</td>\n",
       "      <td>Kanye West</td>\n",
       "      <td>311.84934</td>\n",
       "      <td>0.877214</td>\n",
       "      <td>1.082503</td>\n",
       "      <td>2007</td>\n",
       "      <td>-1</td>\n",
       "      <td>...</td>\n",
       "      <td>0</td>\n",
       "      <td>0.176</td>\n",
       "      <td>0.00763</td>\n",
       "      <td>0.0</td>\n",
       "      <td>0.526</td>\n",
       "      <td>0.495</td>\n",
       "      <td>103.977</td>\n",
       "      <td>4.0</td>\n",
       "      <td>2011-05-24</td>\n",
       "      <td>Stronger-Kanye West</td>\n",
       "    </tr>\n",
       "  </tbody>\n",
       "</table>\n",
       "<p>5 rows × 26 columns</p>\n",
       "</div>"
      ],
      "text/plain": [
       "                                       user  listening_count song_name  \\\n",
       "0  b80344d063b5ccb3212f76538f3d9e43d87dca9e                1  Stronger   \n",
       "1  9fba771d9731561eba47216f6fbfc0023d88641b               19  Stronger   \n",
       "2  85952991b8e3ca5803a08b0b2f9c6d71abf9bb5b                1  Stronger   \n",
       "3  537340ff896dea11328910013cfe759413e1eeb3                2  Stronger   \n",
       "4  8fce200f3912e9608e3b1463cdb9c3529aab5c08                2  Stronger   \n",
       "\n",
       "      release artist_name   duration  artist_familiarity  artist_hotttnesss  \\\n",
       "0  Graduation  Kanye West  311.84934            0.877214           1.082503   \n",
       "1  Graduation  Kanye West  311.84934            0.877214           1.082503   \n",
       "2  Graduation  Kanye West  311.84934            0.877214           1.082503   \n",
       "3  Graduation  Kanye West  311.84934            0.877214           1.082503   \n",
       "4  Graduation  Kanye West  311.84934            0.877214           1.082503   \n",
       "\n",
       "   year  shs_perf  ...  mode  speechiness  acousticness  instrumentalness  \\\n",
       "0  2007        -1  ...     0        0.176       0.00763               0.0   \n",
       "1  2007        -1  ...     0        0.176       0.00763               0.0   \n",
       "2  2007        -1  ...     0        0.176       0.00763               0.0   \n",
       "3  2007        -1  ...     0        0.176       0.00763               0.0   \n",
       "4  2007        -1  ...     0        0.176       0.00763               0.0   \n",
       "\n",
       "   liveness  valence    tempo  time_signature  release_date  \\\n",
       "0     0.526    0.495  103.977             4.0    2011-05-24   \n",
       "1     0.526    0.495  103.977             4.0    2011-05-24   \n",
       "2     0.526    0.495  103.977             4.0    2011-05-24   \n",
       "3     0.526    0.495  103.977             4.0    2011-05-24   \n",
       "4     0.526    0.495  103.977             4.0    2011-05-24   \n",
       "\n",
       "              track_id  \n",
       "0  Stronger-Kanye West  \n",
       "1  Stronger-Kanye West  \n",
       "2  Stronger-Kanye West  \n",
       "3  Stronger-Kanye West  \n",
       "4  Stronger-Kanye West  \n",
       "\n",
       "[5 rows x 26 columns]"
      ]
     },
     "execution_count": 6,
     "metadata": {},
     "output_type": "execute_result"
    }
   ],
   "source": [
    "df.head()"
   ]
  },
  {
   "cell_type": "code",
   "execution_count": 7,
   "id": "e0a7a9cb-04de-4bfa-81bf-c9baa5884989",
   "metadata": {},
   "outputs": [
    {
     "data": {
      "text/plain": [
       "4982520"
      ]
     },
     "execution_count": 7,
     "metadata": {},
     "output_type": "execute_result"
    }
   ],
   "source": [
    "len(df)"
   ]
  },
  {
   "cell_type": "markdown",
   "id": "8ca09348-93d9-4dc8-8f55-f663f3bd82e1",
   "metadata": {},
   "source": [
    "## Data management"
   ]
  },
  {
   "cell_type": "code",
   "execution_count": 8,
   "id": "5cad7033-a7e0-4002-893a-c27a3c9b24ad",
   "metadata": {},
   "outputs": [
    {
     "data": {
      "text/plain": [
       "4973744"
      ]
     },
     "execution_count": 8,
     "metadata": {},
     "output_type": "execute_result"
    }
   ],
   "source": [
    "## keep first occurence of a given song/artist instance to reduce redundant observations\n",
    "\n",
    "df = df.drop_duplicates(subset = ['user','track_id'], keep='first')\n",
    "len(df)"
   ]
  },
  {
   "cell_type": "code",
   "execution_count": 9,
   "id": "a809c08d-4bf5-479d-a8c8-37dc242e5ad1",
   "metadata": {},
   "outputs": [
    {
     "data": {
      "text/html": [
       "<div>\n",
       "<style scoped>\n",
       "    .dataframe tbody tr th:only-of-type {\n",
       "        vertical-align: middle;\n",
       "    }\n",
       "\n",
       "    .dataframe tbody tr th {\n",
       "        vertical-align: top;\n",
       "    }\n",
       "\n",
       "    .dataframe thead th {\n",
       "        text-align: right;\n",
       "    }\n",
       "</style>\n",
       "<table border=\"1\" class=\"dataframe\">\n",
       "  <thead>\n",
       "    <tr style=\"text-align: right;\">\n",
       "      <th></th>\n",
       "      <th>user</th>\n",
       "      <th>listening_count</th>\n",
       "      <th>song_name</th>\n",
       "      <th>release</th>\n",
       "      <th>artist_name</th>\n",
       "      <th>duration</th>\n",
       "      <th>artist_familiarity</th>\n",
       "      <th>artist_hotttnesss</th>\n",
       "      <th>year</th>\n",
       "      <th>shs_perf</th>\n",
       "      <th>...</th>\n",
       "      <th>mode</th>\n",
       "      <th>speechiness</th>\n",
       "      <th>acousticness</th>\n",
       "      <th>instrumentalness</th>\n",
       "      <th>liveness</th>\n",
       "      <th>valence</th>\n",
       "      <th>tempo</th>\n",
       "      <th>time_signature</th>\n",
       "      <th>release_date</th>\n",
       "      <th>track_id</th>\n",
       "    </tr>\n",
       "  </thead>\n",
       "  <tbody>\n",
       "    <tr>\n",
       "      <th>0</th>\n",
       "      <td>b80344d063b5ccb3212f76538f3d9e43d87dca9e</td>\n",
       "      <td>1</td>\n",
       "      <td>Stronger</td>\n",
       "      <td>Graduation</td>\n",
       "      <td>Kanye West</td>\n",
       "      <td>311.84934</td>\n",
       "      <td>0.877214</td>\n",
       "      <td>1.082503</td>\n",
       "      <td>2007</td>\n",
       "      <td>-1</td>\n",
       "      <td>...</td>\n",
       "      <td>0</td>\n",
       "      <td>0.176</td>\n",
       "      <td>0.00763</td>\n",
       "      <td>0.0</td>\n",
       "      <td>0.526</td>\n",
       "      <td>0.495</td>\n",
       "      <td>103.977</td>\n",
       "      <td>4.0</td>\n",
       "      <td>2011-05-24</td>\n",
       "      <td>Stronger-Kanye West</td>\n",
       "    </tr>\n",
       "    <tr>\n",
       "      <th>1</th>\n",
       "      <td>9fba771d9731561eba47216f6fbfc0023d88641b</td>\n",
       "      <td>19</td>\n",
       "      <td>Stronger</td>\n",
       "      <td>Graduation</td>\n",
       "      <td>Kanye West</td>\n",
       "      <td>311.84934</td>\n",
       "      <td>0.877214</td>\n",
       "      <td>1.082503</td>\n",
       "      <td>2007</td>\n",
       "      <td>-1</td>\n",
       "      <td>...</td>\n",
       "      <td>0</td>\n",
       "      <td>0.176</td>\n",
       "      <td>0.00763</td>\n",
       "      <td>0.0</td>\n",
       "      <td>0.526</td>\n",
       "      <td>0.495</td>\n",
       "      <td>103.977</td>\n",
       "      <td>4.0</td>\n",
       "      <td>2011-05-24</td>\n",
       "      <td>Stronger-Kanye West</td>\n",
       "    </tr>\n",
       "    <tr>\n",
       "      <th>2</th>\n",
       "      <td>85952991b8e3ca5803a08b0b2f9c6d71abf9bb5b</td>\n",
       "      <td>1</td>\n",
       "      <td>Stronger</td>\n",
       "      <td>Graduation</td>\n",
       "      <td>Kanye West</td>\n",
       "      <td>311.84934</td>\n",
       "      <td>0.877214</td>\n",
       "      <td>1.082503</td>\n",
       "      <td>2007</td>\n",
       "      <td>-1</td>\n",
       "      <td>...</td>\n",
       "      <td>0</td>\n",
       "      <td>0.176</td>\n",
       "      <td>0.00763</td>\n",
       "      <td>0.0</td>\n",
       "      <td>0.526</td>\n",
       "      <td>0.495</td>\n",
       "      <td>103.977</td>\n",
       "      <td>4.0</td>\n",
       "      <td>2011-05-24</td>\n",
       "      <td>Stronger-Kanye West</td>\n",
       "    </tr>\n",
       "    <tr>\n",
       "      <th>3</th>\n",
       "      <td>537340ff896dea11328910013cfe759413e1eeb3</td>\n",
       "      <td>2</td>\n",
       "      <td>Stronger</td>\n",
       "      <td>Graduation</td>\n",
       "      <td>Kanye West</td>\n",
       "      <td>311.84934</td>\n",
       "      <td>0.877214</td>\n",
       "      <td>1.082503</td>\n",
       "      <td>2007</td>\n",
       "      <td>-1</td>\n",
       "      <td>...</td>\n",
       "      <td>0</td>\n",
       "      <td>0.176</td>\n",
       "      <td>0.00763</td>\n",
       "      <td>0.0</td>\n",
       "      <td>0.526</td>\n",
       "      <td>0.495</td>\n",
       "      <td>103.977</td>\n",
       "      <td>4.0</td>\n",
       "      <td>2011-05-24</td>\n",
       "      <td>Stronger-Kanye West</td>\n",
       "    </tr>\n",
       "    <tr>\n",
       "      <th>4</th>\n",
       "      <td>8fce200f3912e9608e3b1463cdb9c3529aab5c08</td>\n",
       "      <td>2</td>\n",
       "      <td>Stronger</td>\n",
       "      <td>Graduation</td>\n",
       "      <td>Kanye West</td>\n",
       "      <td>311.84934</td>\n",
       "      <td>0.877214</td>\n",
       "      <td>1.082503</td>\n",
       "      <td>2007</td>\n",
       "      <td>-1</td>\n",
       "      <td>...</td>\n",
       "      <td>0</td>\n",
       "      <td>0.176</td>\n",
       "      <td>0.00763</td>\n",
       "      <td>0.0</td>\n",
       "      <td>0.526</td>\n",
       "      <td>0.495</td>\n",
       "      <td>103.977</td>\n",
       "      <td>4.0</td>\n",
       "      <td>2011-05-24</td>\n",
       "      <td>Stronger-Kanye West</td>\n",
       "    </tr>\n",
       "  </tbody>\n",
       "</table>\n",
       "<p>5 rows × 26 columns</p>\n",
       "</div>"
      ],
      "text/plain": [
       "                                       user  listening_count song_name  \\\n",
       "0  b80344d063b5ccb3212f76538f3d9e43d87dca9e                1  Stronger   \n",
       "1  9fba771d9731561eba47216f6fbfc0023d88641b               19  Stronger   \n",
       "2  85952991b8e3ca5803a08b0b2f9c6d71abf9bb5b                1  Stronger   \n",
       "3  537340ff896dea11328910013cfe759413e1eeb3                2  Stronger   \n",
       "4  8fce200f3912e9608e3b1463cdb9c3529aab5c08                2  Stronger   \n",
       "\n",
       "      release artist_name   duration  artist_familiarity  artist_hotttnesss  \\\n",
       "0  Graduation  Kanye West  311.84934            0.877214           1.082503   \n",
       "1  Graduation  Kanye West  311.84934            0.877214           1.082503   \n",
       "2  Graduation  Kanye West  311.84934            0.877214           1.082503   \n",
       "3  Graduation  Kanye West  311.84934            0.877214           1.082503   \n",
       "4  Graduation  Kanye West  311.84934            0.877214           1.082503   \n",
       "\n",
       "   year  shs_perf  ...  mode  speechiness  acousticness  instrumentalness  \\\n",
       "0  2007        -1  ...     0        0.176       0.00763               0.0   \n",
       "1  2007        -1  ...     0        0.176       0.00763               0.0   \n",
       "2  2007        -1  ...     0        0.176       0.00763               0.0   \n",
       "3  2007        -1  ...     0        0.176       0.00763               0.0   \n",
       "4  2007        -1  ...     0        0.176       0.00763               0.0   \n",
       "\n",
       "   liveness  valence    tempo  time_signature  release_date  \\\n",
       "0     0.526    0.495  103.977             4.0    2011-05-24   \n",
       "1     0.526    0.495  103.977             4.0    2011-05-24   \n",
       "2     0.526    0.495  103.977             4.0    2011-05-24   \n",
       "3     0.526    0.495  103.977             4.0    2011-05-24   \n",
       "4     0.526    0.495  103.977             4.0    2011-05-24   \n",
       "\n",
       "              track_id  \n",
       "0  Stronger-Kanye West  \n",
       "1  Stronger-Kanye West  \n",
       "2  Stronger-Kanye West  \n",
       "3  Stronger-Kanye West  \n",
       "4  Stronger-Kanye West  \n",
       "\n",
       "[5 rows x 26 columns]"
      ]
     },
     "execution_count": 9,
     "metadata": {},
     "output_type": "execute_result"
    }
   ],
   "source": [
    "df.head()"
   ]
  },
  {
   "cell_type": "markdown",
   "id": "969ae3d3-58d4-456e-bd7b-2363dd7f9dee",
   "metadata": {},
   "source": [
    "### Users filtering"
   ]
  },
  {
   "cell_type": "code",
   "execution_count": 10,
   "id": "ba7fc363-d5a1-4caf-a251-5ebc44e21066",
   "metadata": {},
   "outputs": [],
   "source": [
    "users_summary = summarise_listening_history(df)"
   ]
  },
  {
   "cell_type": "code",
   "execution_count": 11,
   "id": "21912a83-01b0-4e22-8249-3ea1a425f2bf",
   "metadata": {},
   "outputs": [],
   "source": [
    "ids = user_filter(users_summary, nlist_min = 1, nlist_max = 500, ntracks_min = 5)"
   ]
  },
  {
   "cell_type": "code",
   "execution_count": 12,
   "id": "63a86e86-b87a-427f-8feb-a0e98983d9d3",
   "metadata": {},
   "outputs": [],
   "source": [
    "wdf = df.loc[df['user'].isin(ids),:]\n",
    "wdf_users_summary = users_summary.loc[users_summary['user'].isin(ids),:]"
   ]
  },
  {
   "cell_type": "code",
   "execution_count": 13,
   "id": "475a2f26-c2a0-477e-a8f6-de1290108f65",
   "metadata": {},
   "outputs": [
    {
     "name": "stdout",
     "output_type": "stream",
     "text": [
      "Nb of ligns in df  : 4973744\n",
      "Nb of ligns in wdf : 3856377\n"
     ]
    }
   ],
   "source": [
    "print('Nb of ligns in df  :', len(df))\n",
    "print('Nb of ligns in wdf :', len(wdf))"
   ]
  },
  {
   "cell_type": "code",
   "execution_count": 16,
   "id": "deb77346-8912-4381-9833-27c95e82da3e",
   "metadata": {},
   "outputs": [
    {
     "data": {
      "text/plain": [
       "327081"
      ]
     },
     "execution_count": 16,
     "metadata": {},
     "output_type": "execute_result"
    }
   ],
   "source": [
    "len(wdf_users_summary)"
   ]
  },
  {
   "cell_type": "code",
   "execution_count": 17,
   "id": "60c909a3-f908-48e7-acf6-3b2a24747b14",
   "metadata": {},
   "outputs": [
    {
     "data": {
      "text/html": [
       "<div>\n",
       "<style scoped>\n",
       "    .dataframe tbody tr th:only-of-type {\n",
       "        vertical-align: middle;\n",
       "    }\n",
       "\n",
       "    .dataframe tbody tr th {\n",
       "        vertical-align: top;\n",
       "    }\n",
       "\n",
       "    .dataframe thead th {\n",
       "        text-align: right;\n",
       "    }\n",
       "</style>\n",
       "<table border=\"1\" class=\"dataframe\">\n",
       "  <thead>\n",
       "    <tr style=\"text-align: right;\">\n",
       "      <th></th>\n",
       "      <th>user</th>\n",
       "      <th>listening_count</th>\n",
       "      <th>track_count</th>\n",
       "    </tr>\n",
       "  </thead>\n",
       "  <tbody>\n",
       "    <tr>\n",
       "      <th>7</th>\n",
       "      <td>00007ed2509128dcdd74ea3aac2363e24e9dc06b</td>\n",
       "      <td>11</td>\n",
       "      <td>10</td>\n",
       "    </tr>\n",
       "    <tr>\n",
       "      <th>11</th>\n",
       "      <td>0000bb531aaa657c932988bc2f7fd7fc1b2050ec</td>\n",
       "      <td>14</td>\n",
       "      <td>10</td>\n",
       "    </tr>\n",
       "    <tr>\n",
       "      <th>12</th>\n",
       "      <td>0000d3c803e068cf1da17724f1674897b2dd7130</td>\n",
       "      <td>7</td>\n",
       "      <td>5</td>\n",
       "    </tr>\n",
       "    <tr>\n",
       "      <th>14</th>\n",
       "      <td>0000f88f8d76a238c251450913b0d070e4a77d19</td>\n",
       "      <td>30</td>\n",
       "      <td>8</td>\n",
       "    </tr>\n",
       "    <tr>\n",
       "      <th>15</th>\n",
       "      <td>000138e252eea35fd73aaf66a9b34102b695a9c8</td>\n",
       "      <td>26</td>\n",
       "      <td>13</td>\n",
       "    </tr>\n",
       "  </tbody>\n",
       "</table>\n",
       "</div>"
      ],
      "text/plain": [
       "                                        user  listening_count  track_count\n",
       "7   00007ed2509128dcdd74ea3aac2363e24e9dc06b               11           10\n",
       "11  0000bb531aaa657c932988bc2f7fd7fc1b2050ec               14           10\n",
       "12  0000d3c803e068cf1da17724f1674897b2dd7130                7            5\n",
       "14  0000f88f8d76a238c251450913b0d070e4a77d19               30            8\n",
       "15  000138e252eea35fd73aaf66a9b34102b695a9c8               26           13"
      ]
     },
     "execution_count": 17,
     "metadata": {},
     "output_type": "execute_result"
    }
   ],
   "source": [
    "wdf_users_summary.head()"
   ]
  },
  {
   "cell_type": "markdown",
   "id": "d445f993-5e37-4bda-b4d8-c6ef3775377d",
   "metadata": {},
   "source": [
    "### Songs management"
   ]
  },
  {
   "cell_type": "code",
   "execution_count": 25,
   "id": "a8d132da-dc18-49c3-a7b1-ed8524f50da6",
   "metadata": {},
   "outputs": [],
   "source": [
    "# Get the songs quantitative features\n",
    "\n",
    "tracks_feats = df.drop(['user', 'listening_count'],axis = 1)\n",
    "tracks_feats['track_id'] = df.song_name + '-' + df.artist_name\n",
    "tracks_quanti_feats = tracks_feats.drop(['song_name', 'release', 'artist_name',\n",
    "        'artist_familiarity', 'artist_hotttnesss', 'year', 'key',\n",
    "       'shs_perf', 'shs_work', 'explicit', 'mode', 'time_signature', 'release_date', 'duration', 'tempo'], axis = 1).drop_duplicates()"
   ]
  },
  {
   "cell_type": "code",
   "execution_count": 26,
   "id": "694cfb27-5e87-4963-8bc6-e892ace7f5a8",
   "metadata": {},
   "outputs": [],
   "source": [
    "# Normalize the songs quantitative feats\n",
    "X = tracks_quanti_feats.drop(['track_id'], axis = 1)\n",
    "X.index = tracks_quanti_feats.track_id\n",
    "\n",
    "scaler = StandardScaler()\n",
    "X[X.columns] = pd.DataFrame(scaler.fit_transform(X), index=X.index)\n"
   ]
  },
  {
   "cell_type": "code",
   "execution_count": 27,
   "id": "14ef998d-92fc-47c7-aa81-93b75e1291c1",
   "metadata": {},
   "outputs": [],
   "source": [
    "# Compute the pairwise distance matrix between the songs\n",
    "D = pd.DataFrame(distance_matrix(X, X), index = X.index, columns = X.index)"
   ]
  },
  {
   "cell_type": "markdown",
   "id": "19d842cb-0da3-4c39-9964-ecee35b92626",
   "metadata": {},
   "source": [
    "## Raw K-Nearest Neighboor"
   ]
  },
  {
   "cell_type": "markdown",
   "id": "d1c9a243-ffd5-481c-bc1a-18e52238f53c",
   "metadata": {},
   "source": [
    "### Split the data into hidden and apparent sets"
   ]
  },
  {
   "cell_type": "code",
   "execution_count": 20,
   "id": "72427c7b-9312-46d1-a9b8-65980e57b651",
   "metadata": {},
   "outputs": [],
   "source": [
    "wdf_sorted = wdf.sort_values('user')\n",
    "wdf_users_summary_sorted = wdf_users_summary.sort_values('user')"
   ]
  },
  {
   "cell_type": "code",
   "execution_count": 21,
   "id": "496bd2e4-75aa-438e-96e6-e46869405ed9",
   "metadata": {},
   "outputs": [
    {
     "name": "stdout",
     "output_type": "stream",
     "text": [
      "Sorting the triplets by users id ... Done\n",
      "Computing the number of tracks listened by the users ... Done\n",
      "Defining hidden tracks ids ... Done\n",
      "Defining apparent tracks ids ... Done\n",
      "Splitting the listening history ...Execution time 1: 42.95786738395691 seconds\n"
     ]
    }
   ],
   "source": [
    "# Try 1; Triplets non sorted by users, without users_summary\n",
    "st = time.time()\n",
    "test1, test2 = split_history(wdf, 0.2, sort = True, random_state = 1234)\n",
    "et = time.time()\n",
    "elapsed_time = et - st\n",
    "print('Execution time 1:', elapsed_time, 'seconds')"
   ]
  },
  {
   "cell_type": "code",
   "execution_count": 22,
   "id": "f9a9b339-00a6-4285-88a0-1ed4c4ba0f3a",
   "metadata": {},
   "outputs": [
    {
     "name": "stdout",
     "output_type": "stream",
     "text": [
      "Sorting the triplets by users id ... Done\n",
      "Computing the number of tracks listened by the users ... Done\n",
      "Defining hidden tracks ids ... Done\n",
      "Defining apparent tracks ids ... Done\n",
      "Splitting the listening history ...Execution time 2: 36.215386390686035 seconds\n"
     ]
    }
   ],
   "source": [
    "# Try 2: Triplets non sorted by users, with users_summary\n",
    "st = time.time()\n",
    "test1, test2 = split_history(wdf, 0.2, sort = True, users_summary = wdf_users_summary, random_state = 1234)\n",
    "et = time.time()\n",
    "elapsed_time = et - st\n",
    "print('Execution time 2:', elapsed_time, 'seconds')"
   ]
  },
  {
   "cell_type": "code",
   "execution_count": 23,
   "id": "ab72a254-8cb0-409d-b8e3-0550c3860cae",
   "metadata": {},
   "outputs": [
    {
     "name": "stdout",
     "output_type": "stream",
     "text": [
      "\n",
      "Computing the number of tracks listened by the users ... Done\n",
      "Defining hidden tracks ids ... Done\n",
      "Defining apparent tracks ids ... Done\n",
      "Splitting the listening history ...Execution time 2: 21.979166746139526 seconds\n"
     ]
    }
   ],
   "source": [
    "# Try 3: Triplets sorted by users, without users_summary\n",
    "st = time.time()\n",
    "test1, test2 = split_history(wdf_sorted, 0.2, sort = False, random_state = 1234)\n",
    "et = time.time()\n",
    "elapsed_time = et - st\n",
    "print('Execution time 2:', elapsed_time, 'seconds')"
   ]
  },
  {
   "cell_type": "code",
   "execution_count": 24,
   "id": "c20779fc-2f02-4773-9e3c-7ead26b2f653",
   "metadata": {},
   "outputs": [
    {
     "name": "stdout",
     "output_type": "stream",
     "text": [
      "\n",
      "Computing the number of tracks listened by the users ... Done\n",
      "Defining hidden tracks ids ... Done\n",
      "Defining apparent tracks ids ... Done\n",
      "Splitting the listening history ...Execution time 2: 13.501478672027588 seconds\n"
     ]
    }
   ],
   "source": [
    "# Try 3: Triplets sorted by users, without users_summary\n",
    "st = time.time()\n",
    "test1, test2 = split_history(wdf_sorted, 0.2, sort = False, users_summary = wdf_users_summary_sorted, random_state = 1234)\n",
    "et = time.time()\n",
    "elapsed_time = et - st\n",
    "print('Execution time 2:', elapsed_time, 'seconds')"
   ]
  },
  {
   "cell_type": "code",
   "execution_count": 103,
   "id": "793c8b02-fc5d-4431-b1ed-3eac6dbc6ea0",
   "metadata": {},
   "outputs": [],
   "source": [
    "def random_k_reco(triplets, list_tracks, k):\n",
    "    users = triplets.user.unique()\n",
    "    reco = np.concatenate([random.sample(list(set(list_tracks) - set(triplets.loc[triplets.user == i, :].track_id)), k) for i in users])\n",
    "    return pd.DataFrame({'user' : [i for i in users for j in range(k)],'track_id' : reco})"
   ]
  },
  {
   "cell_type": "code",
   "execution_count": 106,
   "id": "4ce3b80c-0b61-422f-b790-4238af517d7f",
   "metadata": {},
   "outputs": [],
   "source": [
    "sample = random.sample(list(test1.user.unique()), 1000)"
   ]
  },
  {
   "cell_type": "code",
   "execution_count": 107,
   "id": "67127199-5f75-4f17-b82d-72934817482e",
   "metadata": {},
   "outputs": [
    {
     "data": {
      "text/plain": [
       "9586"
      ]
     },
     "execution_count": 107,
     "metadata": {},
     "output_type": "execute_result"
    }
   ],
   "source": [
    "sum(test1.user.isin(sample))"
   ]
  },
  {
   "cell_type": "code",
   "execution_count": 108,
   "id": "248fd500-4b78-488a-be82-c7b16f7dbfdd",
   "metadata": {},
   "outputs": [],
   "source": [
    "df_apparent_sample =  test1.loc[test1.user.isin(sample),: ]\n",
    "df_hidden_sample = test2.loc[test2.user.isin(sample),: ]"
   ]
  },
  {
   "cell_type": "code",
   "execution_count": 127,
   "id": "5e0b5c69-af1a-4ebd-ad27-44089d6be7d7",
   "metadata": {},
   "outputs": [],
   "source": [
    "reco = random_k_reco(df_apparent_sample, X.index, 1000)"
   ]
  },
  {
   "cell_type": "code",
   "execution_count": 130,
   "id": "45b5162e-819f-4e83-960b-ba5d1a94f0f8",
   "metadata": {},
   "outputs": [],
   "source": [
    "def scoring_accuracy_vs_serendipity(hidden_triplets, recommended_triplets):\n",
    "    accuracy = [1-(len(set(hidden_triplets.loc[hidden_triplets.user == i,:].track_id)-set(recommended_triplets.loc[recommended_triplets.user == i,:].track_id)))/(len(set(hidden_triplets.loc[hidden_triplets.user == i,:].track_id))) for i in hidden_triplets.user.unique()]\n",
    "    serendipity = [(len(set(recommended_triplets.loc[recommended_triplets.user == i,:].track_id) - set(hidden_triplets.loc[hidden_triplets.user == i,:].track_id)))/(len(set(recommended_triplets.loc[recommended_triplets.user == i,:].track_id)))for i in hidden_triplets.user.unique()]\n",
    "    return accuracy, serendipity"
   ]
  },
  {
   "cell_type": "code",
   "execution_count": 131,
   "id": "c8cb03ac-ebc3-4e49-aac0-60e18b84aea3",
   "metadata": {},
   "outputs": [],
   "source": [
    "acc, ser = scoring_accuracy_vs_serendipity(df_hidden_sample, reco)"
   ]
  },
  {
   "cell_type": "code",
   "execution_count": 139,
   "id": "4152a748-924d-4efb-b6ac-38e508f472b2",
   "metadata": {},
   "outputs": [
    {
     "data": {
      "text/plain": [
       "count    1000.000000\n",
       "mean        0.033309\n",
       "std         0.140897\n",
       "min         0.000000\n",
       "25%         0.000000\n",
       "50%         0.000000\n",
       "75%         0.000000\n",
       "max         1.000000\n",
       "dtype: float64"
      ]
     },
     "execution_count": 139,
     "metadata": {},
     "output_type": "execute_result"
    }
   ],
   "source": [
    "pd.Series(acc).describe()"
   ]
  }
 ],
 "metadata": {
  "kernelspec": {
   "display_name": "Python 3 (ipykernel)",
   "language": "python",
   "name": "python3"
  },
  "language_info": {
   "codemirror_mode": {
    "name": "ipython",
    "version": 3
   },
   "file_extension": ".py",
   "mimetype": "text/x-python",
   "name": "python",
   "nbconvert_exporter": "python",
   "pygments_lexer": "ipython3",
   "version": "3.10.9"
  }
 },
 "nbformat": 4,
 "nbformat_minor": 5
}
