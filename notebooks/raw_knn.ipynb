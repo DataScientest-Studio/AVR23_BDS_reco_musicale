{
 "cells": [
  {
   "cell_type": "code",
   "execution_count": 1,
   "id": "42fcfcdf-4624-45ab-9166-85b6d1c12f02",
   "metadata": {},
   "outputs": [],
   "source": [
    "import os\n",
    "from pathlib import Path\n",
    "import pandas as pd\n",
    "import matplotlib.pyplot as plt\n",
    "import seaborn as sns\n",
    "import numpy as np\n",
    "import ipynb\n",
    "from scipy.spatial import distance_matrix\n",
    "import random\n",
    "import sys as sys\n",
    "import time\n",
    "import re"
   ]
  },
  {
   "cell_type": "code",
   "execution_count": 236,
   "id": "7df20d85-1ba6-4436-9b79-132838085536",
   "metadata": {},
   "outputs": [],
   "source": [
    "from ipynb.fs.full.datamanagement import user_filter, summarise_listening_history\n",
    "from ipynb.fs.full.evaluation_workflow import split_history, scoring_accuracy_vs_serendipity, scoring_in_out\n",
    "from ipynb.fs.full.feature_based_algos import get_listenings_history_partition, kmeans_based_ranking\n",
    "\n",
    "\n",
    "from sklearn.preprocessing import StandardScaler\n",
    "from sklearn.cluster import KMeans, AgglomerativeClustering\n",
    "from sklearn.metrics import silhouette_score, auc\n",
    "\n",
    "from scipy.spatial import distance_matrix"
   ]
  },
  {
   "cell_type": "code",
   "execution_count": 334,
   "id": "72f0002b-4de9-4a8a-b6f6-18e9def95db3",
   "metadata": {},
   "outputs": [],
   "source": [
    "import json"
   ]
  },
  {
   "cell_type": "markdown",
   "id": "00671c82-7e4a-4dc0-a802-a7d23ab9091d",
   "metadata": {},
   "source": [
    "## Data loading"
   ]
  },
  {
   "cell_type": "code",
   "execution_count": 3,
   "id": "f47a7b3a-9857-4a34-a817-f1d17b0b777f",
   "metadata": {},
   "outputs": [],
   "source": [
    "# Read the data\n",
    "CUR_DIR = os.path.abspath('')\n",
    "\n",
    "DATA_DIR = Path(CUR_DIR).parent / \"data\"\n",
    "FILE_PATH = DATA_DIR/'triplets_metadata_spotify.csv'\n",
    "df = pd.read_csv(FILE_PATH, index_col = 0)"
   ]
  },
  {
   "cell_type": "code",
   "execution_count": 4,
   "id": "6d5ba0dd-09ac-43f5-8f4b-73f5b5713f77",
   "metadata": {},
   "outputs": [],
   "source": [
    "df['track_id'] = df.song_name + '-' + df.artist_name"
   ]
  },
  {
   "cell_type": "code",
   "execution_count": 5,
   "id": "e0a7a9cb-04de-4bfa-81bf-c9baa5884989",
   "metadata": {},
   "outputs": [
    {
     "data": {
      "text/plain": [
       "4982520"
      ]
     },
     "execution_count": 5,
     "metadata": {},
     "output_type": "execute_result"
    }
   ],
   "source": [
    "len(df)"
   ]
  },
  {
   "cell_type": "markdown",
   "id": "8ca09348-93d9-4dc8-8f55-f663f3bd82e1",
   "metadata": {},
   "source": [
    "## Data management"
   ]
  },
  {
   "cell_type": "code",
   "execution_count": 6,
   "id": "5cad7033-a7e0-4002-893a-c27a3c9b24ad",
   "metadata": {},
   "outputs": [
    {
     "data": {
      "text/plain": [
       "4973744"
      ]
     },
     "execution_count": 6,
     "metadata": {},
     "output_type": "execute_result"
    }
   ],
   "source": [
    "## keep first occurence of a given song/artist instance to reduce redundant observations\n",
    "\n",
    "df = df.drop_duplicates(subset = ['user','track_id'], keep='first')\n",
    "len(df)"
   ]
  },
  {
   "cell_type": "markdown",
   "id": "969ae3d3-58d4-456e-bd7b-2363dd7f9dee",
   "metadata": {},
   "source": [
    "### Users filtering"
   ]
  },
  {
   "cell_type": "code",
   "execution_count": 8,
   "id": "ba7fc363-d5a1-4caf-a251-5ebc44e21066",
   "metadata": {},
   "outputs": [],
   "source": [
    "users_summary = summarise_listening_history(df)"
   ]
  },
  {
   "cell_type": "code",
   "execution_count": 9,
   "id": "21912a83-01b0-4e22-8249-3ea1a425f2bf",
   "metadata": {},
   "outputs": [],
   "source": [
    "ids = user_filter(users_summary, nlist_min = 1, nlist_max = 500, ntracks_min = 5)"
   ]
  },
  {
   "cell_type": "code",
   "execution_count": 10,
   "id": "63a86e86-b87a-427f-8feb-a0e98983d9d3",
   "metadata": {},
   "outputs": [],
   "source": [
    "wdf = df.loc[df['user'].isin(ids),:]\n",
    "wdf_users_summary = users_summary.loc[users_summary['user'].isin(ids),:]"
   ]
  },
  {
   "cell_type": "code",
   "execution_count": 11,
   "id": "475a2f26-c2a0-477e-a8f6-de1290108f65",
   "metadata": {},
   "outputs": [
    {
     "name": "stdout",
     "output_type": "stream",
     "text": [
      "Nb of ligns in df  : 4973744\n",
      "Nb of ligns in wdf : 3856377\n"
     ]
    }
   ],
   "source": [
    "print('Nb of ligns in df  :', len(df))\n",
    "print('Nb of ligns in wdf :', len(wdf))"
   ]
  },
  {
   "cell_type": "code",
   "execution_count": 12,
   "id": "deb77346-8912-4381-9833-27c95e82da3e",
   "metadata": {},
   "outputs": [
    {
     "data": {
      "text/plain": [
       "327081"
      ]
     },
     "execution_count": 12,
     "metadata": {},
     "output_type": "execute_result"
    }
   ],
   "source": [
    "len(wdf_users_summary)"
   ]
  },
  {
   "cell_type": "code",
   "execution_count": 13,
   "id": "60c909a3-f908-48e7-acf6-3b2a24747b14",
   "metadata": {},
   "outputs": [
    {
     "data": {
      "text/html": [
       "<div>\n",
       "<style scoped>\n",
       "    .dataframe tbody tr th:only-of-type {\n",
       "        vertical-align: middle;\n",
       "    }\n",
       "\n",
       "    .dataframe tbody tr th {\n",
       "        vertical-align: top;\n",
       "    }\n",
       "\n",
       "    .dataframe thead th {\n",
       "        text-align: right;\n",
       "    }\n",
       "</style>\n",
       "<table border=\"1\" class=\"dataframe\">\n",
       "  <thead>\n",
       "    <tr style=\"text-align: right;\">\n",
       "      <th></th>\n",
       "      <th>user</th>\n",
       "      <th>listening_count</th>\n",
       "      <th>track_count</th>\n",
       "    </tr>\n",
       "  </thead>\n",
       "  <tbody>\n",
       "    <tr>\n",
       "      <th>7</th>\n",
       "      <td>00007ed2509128dcdd74ea3aac2363e24e9dc06b</td>\n",
       "      <td>11</td>\n",
       "      <td>10</td>\n",
       "    </tr>\n",
       "    <tr>\n",
       "      <th>11</th>\n",
       "      <td>0000bb531aaa657c932988bc2f7fd7fc1b2050ec</td>\n",
       "      <td>14</td>\n",
       "      <td>10</td>\n",
       "    </tr>\n",
       "    <tr>\n",
       "      <th>12</th>\n",
       "      <td>0000d3c803e068cf1da17724f1674897b2dd7130</td>\n",
       "      <td>7</td>\n",
       "      <td>5</td>\n",
       "    </tr>\n",
       "    <tr>\n",
       "      <th>14</th>\n",
       "      <td>0000f88f8d76a238c251450913b0d070e4a77d19</td>\n",
       "      <td>30</td>\n",
       "      <td>8</td>\n",
       "    </tr>\n",
       "    <tr>\n",
       "      <th>15</th>\n",
       "      <td>000138e252eea35fd73aaf66a9b34102b695a9c8</td>\n",
       "      <td>26</td>\n",
       "      <td>13</td>\n",
       "    </tr>\n",
       "  </tbody>\n",
       "</table>\n",
       "</div>"
      ],
      "text/plain": [
       "                                        user  listening_count  track_count\n",
       "7   00007ed2509128dcdd74ea3aac2363e24e9dc06b               11           10\n",
       "11  0000bb531aaa657c932988bc2f7fd7fc1b2050ec               14           10\n",
       "12  0000d3c803e068cf1da17724f1674897b2dd7130                7            5\n",
       "14  0000f88f8d76a238c251450913b0d070e4a77d19               30            8\n",
       "15  000138e252eea35fd73aaf66a9b34102b695a9c8               26           13"
      ]
     },
     "execution_count": 13,
     "metadata": {},
     "output_type": "execute_result"
    }
   ],
   "source": [
    "wdf_users_summary.head()"
   ]
  },
  {
   "cell_type": "markdown",
   "id": "d445f993-5e37-4bda-b4d8-c6ef3775377d",
   "metadata": {},
   "source": [
    "### Songs management"
   ]
  },
  {
   "cell_type": "code",
   "execution_count": 14,
   "id": "a8d132da-dc18-49c3-a7b1-ed8524f50da6",
   "metadata": {},
   "outputs": [],
   "source": [
    "# Get the songs quantitative features\n",
    "\n",
    "tracks_feats = df.drop(['user', 'listening_count'],axis = 1)\n",
    "tracks_feats['track_id'] = df.song_name + '-' + df.artist_name\n",
    "tracks_quanti_feats = tracks_feats.drop(['song_name', 'release', 'artist_name',\n",
    "        'artist_familiarity', 'artist_hotttnesss', 'year', 'key',\n",
    "       'shs_perf', 'shs_work', 'explicit', 'mode', 'time_signature', 'release_date', 'duration', 'tempo'], axis = 1).drop_duplicates()"
   ]
  },
  {
   "cell_type": "code",
   "execution_count": 15,
   "id": "694cfb27-5e87-4963-8bc6-e892ace7f5a8",
   "metadata": {},
   "outputs": [],
   "source": [
    "# Normalize the songs quantitative feats\n",
    "X = tracks_quanti_feats.drop(['track_id'], axis = 1)\n",
    "X.index = tracks_quanti_feats.track_id\n",
    "\n",
    "scaler = StandardScaler()\n",
    "X[X.columns] = pd.DataFrame(scaler.fit_transform(X), index=X.index)\n"
   ]
  },
  {
   "cell_type": "code",
   "execution_count": 16,
   "id": "9310a9e5-972c-4cc1-b802-2e731af747f3",
   "metadata": {},
   "outputs": [
    {
     "data": {
      "text/html": [
       "<div>\n",
       "<style scoped>\n",
       "    .dataframe tbody tr th:only-of-type {\n",
       "        vertical-align: middle;\n",
       "    }\n",
       "\n",
       "    .dataframe tbody tr th {\n",
       "        vertical-align: top;\n",
       "    }\n",
       "\n",
       "    .dataframe thead th {\n",
       "        text-align: right;\n",
       "    }\n",
       "</style>\n",
       "<table border=\"1\" class=\"dataframe\">\n",
       "  <thead>\n",
       "    <tr style=\"text-align: right;\">\n",
       "      <th></th>\n",
       "      <th>danceability</th>\n",
       "      <th>energy</th>\n",
       "      <th>loudness</th>\n",
       "      <th>speechiness</th>\n",
       "      <th>acousticness</th>\n",
       "      <th>instrumentalness</th>\n",
       "      <th>liveness</th>\n",
       "      <th>valence</th>\n",
       "    </tr>\n",
       "    <tr>\n",
       "      <th>track_id</th>\n",
       "      <th></th>\n",
       "      <th></th>\n",
       "      <th></th>\n",
       "      <th></th>\n",
       "      <th></th>\n",
       "      <th></th>\n",
       "      <th></th>\n",
       "      <th></th>\n",
       "    </tr>\n",
       "  </thead>\n",
       "  <tbody>\n",
       "    <tr>\n",
       "      <th>Stronger-Kanye West</th>\n",
       "      <td>0.667073</td>\n",
       "      <td>0.244482</td>\n",
       "      <td>0.234685</td>\n",
       "      <td>0.971940</td>\n",
       "      <td>-0.825165</td>\n",
       "      <td>-0.623569</td>\n",
       "      <td>1.661334</td>\n",
       "      <td>0.055057</td>\n",
       "    </tr>\n",
       "    <tr>\n",
       "      <th>Stacked Actors-Foo Fighters</th>\n",
       "      <td>-0.048441</td>\n",
       "      <td>1.150060</td>\n",
       "      <td>0.862181</td>\n",
       "      <td>-0.294877</td>\n",
       "      <td>-0.842482</td>\n",
       "      <td>-0.620462</td>\n",
       "      <td>0.105924</td>\n",
       "      <td>0.728483</td>\n",
       "    </tr>\n",
       "    <tr>\n",
       "      <th>Clarity-John Mayer</th>\n",
       "      <td>0.868312</td>\n",
       "      <td>0.283685</td>\n",
       "      <td>1.220943</td>\n",
       "      <td>-0.411504</td>\n",
       "      <td>-0.316887</td>\n",
       "      <td>-0.526080</td>\n",
       "      <td>-0.197701</td>\n",
       "      <td>0.039664</td>\n",
       "    </tr>\n",
       "    <tr>\n",
       "      <th>Gimme Stitches-Foo Fighters</th>\n",
       "      <td>0.180747</td>\n",
       "      <td>1.244146</td>\n",
       "      <td>1.071496</td>\n",
       "      <td>-0.108876</td>\n",
       "      <td>-0.843348</td>\n",
       "      <td>-0.614856</td>\n",
       "      <td>0.260399</td>\n",
       "      <td>0.197438</td>\n",
       "    </tr>\n",
       "    <tr>\n",
       "      <th>Breakout-Foo Fighters</th>\n",
       "      <td>-0.501227</td>\n",
       "      <td>1.165741</td>\n",
       "      <td>1.072171</td>\n",
       "      <td>-0.272758</td>\n",
       "      <td>-0.848599</td>\n",
       "      <td>-0.614704</td>\n",
       "      <td>-0.480018</td>\n",
       "      <td>-0.206617</td>\n",
       "    </tr>\n",
       "    <tr>\n",
       "      <th>...</th>\n",
       "      <td>...</td>\n",
       "      <td>...</td>\n",
       "      <td>...</td>\n",
       "      <td>...</td>\n",
       "      <td>...</td>\n",
       "      <td>...</td>\n",
       "      <td>...</td>\n",
       "      <td>...</td>\n",
       "    </tr>\n",
       "    <tr>\n",
       "      <th>Dime-Jerry Rivera</th>\n",
       "      <td>0.991291</td>\n",
       "      <td>-0.429800</td>\n",
       "      <td>-0.219056</td>\n",
       "      <td>-0.392401</td>\n",
       "      <td>1.575591</td>\n",
       "      <td>-0.623569</td>\n",
       "      <td>0.015369</td>\n",
       "      <td>1.247983</td>\n",
       "    </tr>\n",
       "    <tr>\n",
       "      <th>The Long Conversation-Pierre de Reeder</th>\n",
       "      <td>-0.395018</td>\n",
       "      <td>-1.370660</td>\n",
       "      <td>-0.236161</td>\n",
       "      <td>-0.523105</td>\n",
       "      <td>1.705467</td>\n",
       "      <td>-0.520901</td>\n",
       "      <td>0.825034</td>\n",
       "      <td>-1.007032</td>\n",
       "    </tr>\n",
       "    <tr>\n",
       "      <th>That's the Way That It Was-Pierre de Reeder</th>\n",
       "      <td>0.583224</td>\n",
       "      <td>0.228801</td>\n",
       "      <td>0.703957</td>\n",
       "      <td>-0.425580</td>\n",
       "      <td>-0.754445</td>\n",
       "      <td>-0.623329</td>\n",
       "      <td>-0.543939</td>\n",
       "      <td>-0.679940</td>\n",
       "    </tr>\n",
       "    <tr>\n",
       "      <th>I'll Close My Eyes-Mike Jones</th>\n",
       "      <td>-0.283219</td>\n",
       "      <td>-2.126092</td>\n",
       "      <td>-3.399071</td>\n",
       "      <td>-0.445688</td>\n",
       "      <td>2.187863</td>\n",
       "      <td>2.115258</td>\n",
       "      <td>3.328605</td>\n",
       "      <td>-0.899284</td>\n",
       "    </tr>\n",
       "    <tr>\n",
       "      <th>Rowena-Loudon Wainwright III</th>\n",
       "      <td>-0.037261</td>\n",
       "      <td>-2.202929</td>\n",
       "      <td>-2.410788</td>\n",
       "      <td>-0.411504</td>\n",
       "      <td>1.949758</td>\n",
       "      <td>-0.623390</td>\n",
       "      <td>-0.426751</td>\n",
       "      <td>-1.272555</td>\n",
       "    </tr>\n",
       "  </tbody>\n",
       "</table>\n",
       "<p>27607 rows × 8 columns</p>\n",
       "</div>"
      ],
      "text/plain": [
       "                                             danceability    energy  loudness  \\\n",
       "track_id                                                                        \n",
       "Stronger-Kanye West                              0.667073  0.244482  0.234685   \n",
       "Stacked Actors-Foo Fighters                     -0.048441  1.150060  0.862181   \n",
       "Clarity-John Mayer                               0.868312  0.283685  1.220943   \n",
       "Gimme Stitches-Foo Fighters                      0.180747  1.244146  1.071496   \n",
       "Breakout-Foo Fighters                           -0.501227  1.165741  1.072171   \n",
       "...                                                   ...       ...       ...   \n",
       "Dime-Jerry Rivera                                0.991291 -0.429800 -0.219056   \n",
       "The Long Conversation-Pierre de Reeder          -0.395018 -1.370660 -0.236161   \n",
       "That's the Way That It Was-Pierre de Reeder      0.583224  0.228801  0.703957   \n",
       "I'll Close My Eyes-Mike Jones                   -0.283219 -2.126092 -3.399071   \n",
       "Rowena-Loudon Wainwright III                    -0.037261 -2.202929 -2.410788   \n",
       "\n",
       "                                             speechiness  acousticness  \\\n",
       "track_id                                                                 \n",
       "Stronger-Kanye West                             0.971940     -0.825165   \n",
       "Stacked Actors-Foo Fighters                    -0.294877     -0.842482   \n",
       "Clarity-John Mayer                             -0.411504     -0.316887   \n",
       "Gimme Stitches-Foo Fighters                    -0.108876     -0.843348   \n",
       "Breakout-Foo Fighters                          -0.272758     -0.848599   \n",
       "...                                                  ...           ...   \n",
       "Dime-Jerry Rivera                              -0.392401      1.575591   \n",
       "The Long Conversation-Pierre de Reeder         -0.523105      1.705467   \n",
       "That's the Way That It Was-Pierre de Reeder    -0.425580     -0.754445   \n",
       "I'll Close My Eyes-Mike Jones                  -0.445688      2.187863   \n",
       "Rowena-Loudon Wainwright III                   -0.411504      1.949758   \n",
       "\n",
       "                                             instrumentalness  liveness  \\\n",
       "track_id                                                                  \n",
       "Stronger-Kanye West                                 -0.623569  1.661334   \n",
       "Stacked Actors-Foo Fighters                         -0.620462  0.105924   \n",
       "Clarity-John Mayer                                  -0.526080 -0.197701   \n",
       "Gimme Stitches-Foo Fighters                         -0.614856  0.260399   \n",
       "Breakout-Foo Fighters                               -0.614704 -0.480018   \n",
       "...                                                       ...       ...   \n",
       "Dime-Jerry Rivera                                   -0.623569  0.015369   \n",
       "The Long Conversation-Pierre de Reeder              -0.520901  0.825034   \n",
       "That's the Way That It Was-Pierre de Reeder         -0.623329 -0.543939   \n",
       "I'll Close My Eyes-Mike Jones                        2.115258  3.328605   \n",
       "Rowena-Loudon Wainwright III                        -0.623390 -0.426751   \n",
       "\n",
       "                                              valence  \n",
       "track_id                                               \n",
       "Stronger-Kanye West                          0.055057  \n",
       "Stacked Actors-Foo Fighters                  0.728483  \n",
       "Clarity-John Mayer                           0.039664  \n",
       "Gimme Stitches-Foo Fighters                  0.197438  \n",
       "Breakout-Foo Fighters                       -0.206617  \n",
       "...                                               ...  \n",
       "Dime-Jerry Rivera                            1.247983  \n",
       "The Long Conversation-Pierre de Reeder      -1.007032  \n",
       "That's the Way That It Was-Pierre de Reeder -0.679940  \n",
       "I'll Close My Eyes-Mike Jones               -0.899284  \n",
       "Rowena-Loudon Wainwright III                -1.272555  \n",
       "\n",
       "[27607 rows x 8 columns]"
      ]
     },
     "execution_count": 16,
     "metadata": {},
     "output_type": "execute_result"
    }
   ],
   "source": [
    "X"
   ]
  },
  {
   "cell_type": "markdown",
   "id": "19d842cb-0da3-4c39-9964-ecee35b92626",
   "metadata": {},
   "source": [
    "## Recommendation algorithms evaluation"
   ]
  },
  {
   "cell_type": "code",
   "execution_count": 17,
   "id": "72427c7b-9312-46d1-a9b8-65980e57b651",
   "metadata": {},
   "outputs": [],
   "source": [
    "wdf_sorted = wdf.sort_values('user')\n",
    "wdf_users_summary_sorted = wdf_users_summary.sort_values('user')"
   ]
  },
  {
   "cell_type": "code",
   "execution_count": 21,
   "id": "496bd2e4-75aa-438e-96e6-e46869405ed9",
   "metadata": {},
   "outputs": [
    {
     "name": "stdout",
     "output_type": "stream",
     "text": [
      "Sorting the triplets by users id ... Done\n",
      "Computing the number of tracks listened by the users ... Done\n",
      "Defining hidden tracks ids ... Done\n",
      "Defining apparent tracks ids ... Done\n",
      "Splitting the listening history ...Execution time 1: 42.95786738395691 seconds\n"
     ]
    }
   ],
   "source": [
    "# Try 1; Triplets non sorted by users, without users_summary\n",
    "st = time.time()\n",
    "test1, test2 = split_history(wdf, 0.2, sort = True, random_state = 1234)\n",
    "et = time.time()\n",
    "elapsed_time = et - st\n",
    "print('Execution time 1:', elapsed_time, 'seconds')"
   ]
  },
  {
   "cell_type": "code",
   "execution_count": 22,
   "id": "f9a9b339-00a6-4285-88a0-1ed4c4ba0f3a",
   "metadata": {},
   "outputs": [
    {
     "name": "stdout",
     "output_type": "stream",
     "text": [
      "Sorting the triplets by users id ... Done\n",
      "Computing the number of tracks listened by the users ... Done\n",
      "Defining hidden tracks ids ... Done\n",
      "Defining apparent tracks ids ... Done\n",
      "Splitting the listening history ...Execution time 2: 36.215386390686035 seconds\n"
     ]
    }
   ],
   "source": [
    "# Try 2: Triplets non sorted by users, with users_summary\n",
    "st = time.time()\n",
    "test1, test2 = split_history(wdf, 0.2, sort = True, users_summary = wdf_users_summary, random_state = 1234)\n",
    "et = time.time()\n",
    "elapsed_time = et - st\n",
    "print('Execution time 2:', elapsed_time, 'seconds')"
   ]
  },
  {
   "cell_type": "code",
   "execution_count": 23,
   "id": "ab72a254-8cb0-409d-b8e3-0550c3860cae",
   "metadata": {},
   "outputs": [
    {
     "name": "stdout",
     "output_type": "stream",
     "text": [
      "\n",
      "Computing the number of tracks listened by the users ... Done\n",
      "Defining hidden tracks ids ... Done\n",
      "Defining apparent tracks ids ... Done\n",
      "Splitting the listening history ...Execution time 2: 21.979166746139526 seconds\n"
     ]
    }
   ],
   "source": [
    "# Try 3: Triplets sorted by users, without users_summary\n",
    "st = time.time()\n",
    "test1, test2 = split_history(wdf_sorted, 0.2, sort = False, random_state = 1234)\n",
    "et = time.time()\n",
    "elapsed_time = et - st\n",
    "print('Execution time 3:', elapsed_time, 'seconds')"
   ]
  },
  {
   "cell_type": "code",
   "execution_count": 18,
   "id": "c20779fc-2f02-4773-9e3c-7ead26b2f653",
   "metadata": {},
   "outputs": [
    {
     "name": "stdout",
     "output_type": "stream",
     "text": [
      "\n",
      "Computing the number of tracks listened by the users ... Done\n",
      "Defining hidden tracks ids ... Done\n",
      "Defining apparent tracks ids ... Done\n",
      "Splitting the listening history ...\n",
      " Execution time 4: 10.474013566970825 seconds\n"
     ]
    }
   ],
   "source": [
    "# Try 4: Triplets sorted by users, without users_summary\n",
    "st = time.time()\n",
    "test1, test2 = split_history(wdf_sorted, 0.2, sort = False, users_summary = wdf_users_summary_sorted, random_state = 1234)\n",
    "et = time.time()\n",
    "elapsed_time = et - st\n",
    "print('\\n Execution time 4:', elapsed_time, 'seconds')"
   ]
  },
  {
   "cell_type": "markdown",
   "id": "9a1bea47-aa3f-4457-a40d-ca0338fa68d6",
   "metadata": {},
   "source": [
    "### Definition of the grid of parameters"
   ]
  },
  {
   "cell_type": "code",
   "execution_count": 30,
   "id": "b2f79d97-5ecc-48fe-9a1b-66595309871f",
   "metadata": {},
   "outputs": [],
   "source": [
    "# n_neighbors = [10, 25, 50, 100, 150, 200]"
   ]
  },
  {
   "cell_type": "markdown",
   "id": "bb2c6e66-596e-427a-a8ee-d0036e45e16c",
   "metadata": {},
   "source": [
    "### Initialize the table of results  "
   ]
  },
  {
   "cell_type": "code",
   "execution_count": 130,
   "id": "f4801e7a-33c3-42a2-8f8c-9fa0dd581d28",
   "metadata": {},
   "outputs": [],
   "source": [
    "# results = pd.DataFrame({\n",
    "#     'user' : wdf_users_summary_sorted.user,\n",
    "#     'listening_count' : wdf_users_summary_sorted.listening_count,\n",
    "#     'track_count' :  wdf_users_summary_sorted.track_count\n",
    "# })\n",
    "\n",
    "# for r in ['n_reco-'+ str(n)+ '-' + i  for n in n_neighbors for i in (\"reco_in\",\"reco_out\")]:\n",
    "#     results[r] = None\n",
    "# results = results.melt(id_vars = ['user', 'listening_count', 'track_count']).sort_values('user')\n",
    "# results['n_reco'] =  results.variable.str.extract(r'([0-9]+)').astype('int')\n",
    "# results['reco_type'] =  results.variable.str.extract(r'(reco_.+)')\n",
    "# results = results.drop(['variable'], axis = 1)\n",
    "# results.to_csv('../data/reco_res.csv')"
   ]
  },
  {
   "cell_type": "code",
   "execution_count": 31,
   "id": "ad0b8b05-7d83-4fee-b7b6-f06d683b587f",
   "metadata": {},
   "outputs": [],
   "source": [
    "results = pd.read_csv('../data/reco_res.csv')"
   ]
  },
  {
   "cell_type": "code",
   "execution_count": 32,
   "id": "421b502e-9acf-43e1-8ffe-95d32a6174ba",
   "metadata": {},
   "outputs": [
    {
     "data": {
      "text/html": [
       "<div>\n",
       "<style scoped>\n",
       "    .dataframe tbody tr th:only-of-type {\n",
       "        vertical-align: middle;\n",
       "    }\n",
       "\n",
       "    .dataframe tbody tr th {\n",
       "        vertical-align: top;\n",
       "    }\n",
       "\n",
       "    .dataframe thead th {\n",
       "        text-align: right;\n",
       "    }\n",
       "</style>\n",
       "<table border=\"1\" class=\"dataframe\">\n",
       "  <thead>\n",
       "    <tr style=\"text-align: right;\">\n",
       "      <th></th>\n",
       "      <th>Unnamed: 0</th>\n",
       "      <th>user</th>\n",
       "      <th>listening_count</th>\n",
       "      <th>track_count</th>\n",
       "      <th>n_hidden</th>\n",
       "      <th>n_reco</th>\n",
       "      <th>reco_in</th>\n",
       "      <th>reco_out</th>\n",
       "    </tr>\n",
       "  </thead>\n",
       "  <tbody>\n",
       "    <tr>\n",
       "      <th>0</th>\n",
       "      <td>539</td>\n",
       "      <td>006efbbc4ab2dbc89a4b352282919c1d27ee7c74</td>\n",
       "      <td>19</td>\n",
       "      <td>12</td>\n",
       "      <td>2.0</td>\n",
       "      <td>10.0</td>\n",
       "      <td>0.0</td>\n",
       "      <td>10.0</td>\n",
       "    </tr>\n",
       "    <tr>\n",
       "      <th>1</th>\n",
       "      <td>981</td>\n",
       "      <td>00c2ffb64177c627f5fb3c9f101208123aaf298c</td>\n",
       "      <td>46</td>\n",
       "      <td>5</td>\n",
       "      <td>1.0</td>\n",
       "      <td>10.0</td>\n",
       "      <td>0.0</td>\n",
       "      <td>10.0</td>\n",
       "    </tr>\n",
       "    <tr>\n",
       "      <th>2</th>\n",
       "      <td>1107</td>\n",
       "      <td>00e090ae8c47db1be5f7061b01eddced92c3c435</td>\n",
       "      <td>19</td>\n",
       "      <td>11</td>\n",
       "      <td>2.0</td>\n",
       "      <td>10.0</td>\n",
       "      <td>0.0</td>\n",
       "      <td>10.0</td>\n",
       "    </tr>\n",
       "    <tr>\n",
       "      <th>3</th>\n",
       "      <td>1542</td>\n",
       "      <td>0139472c899f9b6eb9c4a1689f6fd78f1af1be13</td>\n",
       "      <td>12</td>\n",
       "      <td>8</td>\n",
       "      <td>2.0</td>\n",
       "      <td>10.0</td>\n",
       "      <td>0.0</td>\n",
       "      <td>10.0</td>\n",
       "    </tr>\n",
       "    <tr>\n",
       "      <th>4</th>\n",
       "      <td>1732</td>\n",
       "      <td>015c7500549e6c6bbd94a06fd2ca8baa7284784f</td>\n",
       "      <td>9</td>\n",
       "      <td>9</td>\n",
       "      <td>2.0</td>\n",
       "      <td>10.0</td>\n",
       "      <td>0.0</td>\n",
       "      <td>10.0</td>\n",
       "    </tr>\n",
       "  </tbody>\n",
       "</table>\n",
       "</div>"
      ],
      "text/plain": [
       "   Unnamed: 0                                      user  listening_count  \\\n",
       "0         539  006efbbc4ab2dbc89a4b352282919c1d27ee7c74               19   \n",
       "1         981  00c2ffb64177c627f5fb3c9f101208123aaf298c               46   \n",
       "2        1107  00e090ae8c47db1be5f7061b01eddced92c3c435               19   \n",
       "3        1542  0139472c899f9b6eb9c4a1689f6fd78f1af1be13               12   \n",
       "4        1732  015c7500549e6c6bbd94a06fd2ca8baa7284784f                9   \n",
       "\n",
       "   track_count  n_hidden  n_reco  reco_in  reco_out  \n",
       "0           12       2.0    10.0      0.0      10.0  \n",
       "1            5       1.0    10.0      0.0      10.0  \n",
       "2           11       2.0    10.0      0.0      10.0  \n",
       "3            8       2.0    10.0      0.0      10.0  \n",
       "4            9       2.0    10.0      0.0      10.0  "
      ]
     },
     "execution_count": 32,
     "metadata": {},
     "output_type": "execute_result"
    }
   ],
   "source": [
    "results.head()"
   ]
  },
  {
   "cell_type": "markdown",
   "id": "e4415826-b194-446f-8193-271eea3d6191",
   "metadata": {},
   "source": [
    "### Random recommandations"
   ]
  },
  {
   "cell_type": "code",
   "execution_count": 210,
   "id": "5b924f31-199b-41f4-994c-df368430d3fb",
   "metadata": {},
   "outputs": [],
   "source": [
    "sample = user_filter(wdf_users_summary, ntracks_min = 101)"
   ]
  },
  {
   "cell_type": "code",
   "execution_count": 211,
   "id": "71cd8619-439d-427e-987c-0f4597e7b700",
   "metadata": {},
   "outputs": [
    {
     "data": {
      "text/plain": [
       "1145      005a475315cd3a29638cf242c4b7c71194e81642\n",
       "2335      00b9144fc8cd453b81c362b30dbf8b8266eec220\n",
       "18531     05a82aa743db5b6c5965e72d458d7c0755fd9f0f\n",
       "20321     062eef2a03b53d2b10f5018135e3361659c6a3bf\n",
       "23138     070941445cba8e8a9157f1253116cc430c31a811\n",
       "                            ...                   \n",
       "831701    fab8d9648b537cd5c2af445a6a5218a8010751b7\n",
       "837273    fc6538bd1e2db0d960cf5c27e9cb0d5de2cddd22\n",
       "839920    fd2e8f7a73aceb8ef77e1fcfd58909e815ade83b\n",
       "844564    fe9a05c03c29da973743a83b80d1660748077432\n",
       "845758    fef771ab021c200187a419f5e55311390f850a50\n",
       "Name: user, Length: 174, dtype: object"
      ]
     },
     "execution_count": 211,
     "metadata": {},
     "output_type": "execute_result"
    }
   ],
   "source": [
    "sample"
   ]
  },
  {
   "cell_type": "code",
   "execution_count": 212,
   "id": "248fd500-4b78-488a-be82-c7b16f7dbfdd",
   "metadata": {},
   "outputs": [],
   "source": [
    "df_apparent_sample = test1.loc[test1.user.isin(sample),: ]\n",
    "df_hidden_sample = test2.loc[test2.user.isin(sample),: ]"
   ]
  },
  {
   "cell_type": "code",
   "execution_count": 213,
   "id": "a33492f4-3a1a-43bc-95a9-07c4f0a18d0a",
   "metadata": {},
   "outputs": [],
   "source": [
    "dic_hidden = { u :df_hidden_sample[['user','track_id']].loc[df_hidden_sample.user == u] for u in sample}"
   ]
  },
  {
   "cell_type": "code",
   "execution_count": 274,
   "id": "ca46fba9-45f2-4932-98a7-41b73330b4ee",
   "metadata": {},
   "outputs": [],
   "source": [
    "dic_hidden_random_ranks = {u : random.sample(list(np.arange(1,len(X)-len(dic_hidden[u]))),len(dic_hidden[u])) for u in sample}"
   ]
  },
  {
   "cell_type": "code",
   "execution_count": 250,
   "id": "0196735b-5035-40e9-8260-b1268331ccca",
   "metadata": {},
   "outputs": [],
   "source": [
    "rand_tpr = [[sum(dic_hidden_random_ranks[u] <= i)/len(dic_hidden_random_ranks[u]) for i in np.arange(1, len(X)+1)] for u in sample]"
   ]
  },
  {
   "cell_type": "code",
   "execution_count": 251,
   "id": "70e2097c-88a2-4d6f-9af5-d69346a83c6a",
   "metadata": {},
   "outputs": [],
   "source": [
    "rand_fpr = [[(i-sum(dic_hidden_random_ranks[u] <= i))/(len(X)-len(dic_hidden_random_ranks[u])) for i in np.arange(1, len(X)+1)] for u in sample]"
   ]
  },
  {
   "cell_type": "code",
   "execution_count": 252,
   "id": "9b630723-47c2-45f0-8495-09f75f8e845a",
   "metadata": {},
   "outputs": [],
   "source": [
    "rand_tpr_avg = np.array(rand_tpr).mean(axis = 0)"
   ]
  },
  {
   "cell_type": "code",
   "execution_count": 253,
   "id": "96287d7b-111b-4831-b805-f8e4aaa582a0",
   "metadata": {},
   "outputs": [],
   "source": [
    "rand_fpr_avg = np.array(rand_fpr).mean(axis = 0)"
   ]
  },
  {
   "cell_type": "markdown",
   "id": "5a5062bc-9b36-458e-bd8c-f4bb225a7897",
   "metadata": {},
   "source": [
    "### Average based ranking"
   ]
  },
  {
   "cell_type": "code",
   "execution_count": 320,
   "id": "acb63df0-5e6d-485c-ac26-dd880fd5a1af",
   "metadata": {},
   "outputs": [],
   "source": [
    "dic_avg_ranks = {u : kmeans_based_ranking(\n",
    "    listenings_history = df_apparent_sample.loc[df_apparent_sample.user == u],\n",
    "    X = X,\n",
    "    n_clusters = 1,\n",
    "    random_state = 1234) for u in sample}"
   ]
  },
  {
   "cell_type": "code",
   "execution_count": 321,
   "id": "f249e587-59c9-43a4-a3c4-10c4fafbd5f0",
   "metadata": {},
   "outputs": [],
   "source": [
    "dic_hidden_avg_ranks = {u : list(dic_avg_ranks[u].loc[list(dic_hidden[u].track_id)].min(axis = 1)) for u in sample}"
   ]
  },
  {
   "cell_type": "code",
   "execution_count": 328,
   "id": "a2e6c027-1e29-41c7-a3a0-0ef86437760c",
   "metadata": {},
   "outputs": [],
   "source": [
    "avg_tpr = [[sum(dic_hidden_avg_ranks[u] <= i)/len(dic_hidden_avg_ranks[u]) for i in np.arange(1, len(X)+1)] for u in sample]"
   ]
  },
  {
   "cell_type": "code",
   "execution_count": 329,
   "id": "c3e6abb6-4e1f-47d8-b95d-61e8d93970fd",
   "metadata": {},
   "outputs": [],
   "source": [
    "avg_fpr = [[(i-sum(dic_hidden_avg_ranks[u] <= i))/(len(X)-len(dic_hidden_avg_ranks[u])) for i in np.arange(1, len(X)+1)] for u in sample]"
   ]
  },
  {
   "cell_type": "code",
   "execution_count": 330,
   "id": "6fceda9d-6488-4d2d-9109-95dc1577384f",
   "metadata": {},
   "outputs": [],
   "source": [
    "avg_tpr_avg = np.array(avg_tpr).mean(axis = 0)"
   ]
  },
  {
   "cell_type": "code",
   "execution_count": 331,
   "id": "38185523-6a4c-4b60-b0f7-56e360a1ecdb",
   "metadata": {},
   "outputs": [],
   "source": [
    "avg_fpr_avg = np.array(kmbr_fpr).mean(axis = 0)"
   ]
  },
  {
   "cell_type": "markdown",
   "id": "f4b8f9c8-7bbd-47b0-9aef-4d8f1855ec9f",
   "metadata": {},
   "source": [
    "### kmeans based ranking"
   ]
  },
  {
   "cell_type": "code",
   "execution_count": 258,
   "id": "13c95531-8acd-4ca3-9061-5134f6dac412",
   "metadata": {},
   "outputs": [],
   "source": [
    "dic_kmbr_ranks = {u : kmeans_based_ranking(\n",
    "    listenings_history = df_apparent_sample.loc[df_apparent_sample.user == u],\n",
    "    X = X,\n",
    "    random_state = 1234) for u in sample}"
   ]
  },
  {
   "cell_type": "code",
   "execution_count": 276,
   "id": "2293207c-cdce-4842-8da8-205b9ef9cfdd",
   "metadata": {},
   "outputs": [],
   "source": [
    "dic_hidden_kmbr_ranks = {u : list(dic_kmbr_ranks[u].loc[list(dic_hidden[u].track_id)].min(axis = 1)) for u in sample}"
   ]
  },
  {
   "cell_type": "code",
   "execution_count": 323,
   "id": "f1c2d030-8cbf-4b7a-b7c3-5855c59ed4bd",
   "metadata": {},
   "outputs": [],
   "source": [
    "kmbr_tpr = [[sum(dic_hidden_kmbr_ranks[u] <= i)/len(dic_hidden_kmbr_ranks[u]) for i in np.arange(1, len(X)+1)] for u in sample]"
   ]
  },
  {
   "cell_type": "code",
   "execution_count": 324,
   "id": "6eb20d59-b971-47db-9cdd-90c18c63ecd3",
   "metadata": {},
   "outputs": [],
   "source": [
    "kmbr_fpr = [[(i-sum(dic_hidden_kmbr_ranks[u] <= i))/(len(X)-len(dic_hidden_kmbr_ranks[u])) for i in np.arange(1, len(X)+1)] for u in sample]"
   ]
  },
  {
   "cell_type": "code",
   "execution_count": 325,
   "id": "e7683625-fcf0-484a-8dad-ac32fa78a191",
   "metadata": {},
   "outputs": [],
   "source": [
    "kmbr_tpr_avg = np.array(kmbr_tpr).mean(axis = 0)"
   ]
  },
  {
   "cell_type": "code",
   "execution_count": 326,
   "id": "de8e5e7c-a259-4a68-8d4c-e99c990fc124",
   "metadata": {},
   "outputs": [],
   "source": [
    "kmbr_fpr_avg = np.array(kmbr_fpr).mean(axis = 0)"
   ]
  },
  {
   "cell_type": "code",
   "execution_count": 335,
   "id": "3c752354-a5ef-4a71-b6f1-33394fa25b66",
   "metadata": {},
   "outputs": [
    {
     "data": {
      "image/png": "[encoded data removed]",
      "text/plain": [
       "<Figure size 640x480 with 1 Axes>"
      ]
     },
     "metadata": {},
     "output_type": "display_data"
    }
   ],
   "source": [
    "plt.plot(rand_fpr_avg, rand_tpr_avg, label ='Random reco.')\n",
    "plt.plot(avg_fpr_avg, avg_tpr_avg, label ='Average-based reco.')\n",
    "plt.plot(kmbr_fpr_avg, kmbr_tpr_avg, label ='Kmeans-based reco.')\n",
    "\n",
    "plt.axis(\"square\")\n",
    "plt.xlabel(\"False Positive Rate\")\n",
    "plt.ylabel(\"True Positive Rate\")\n",
    "plt.title(\"Recommandation ROC curves\")\n",
    "plt.legend()\n",
    "plt.show()\n",
    "        "
   ]
  },
  {
   "cell_type": "markdown",
   "id": "d428c205-78d0-468b-a92b-a585bf79f586",
   "metadata": {},
   "source": [
    "## Work in progress"
   ]
  },
  {
   "cell_type": "code",
   "execution_count": 318,
   "id": "f9ea508d-ec15-466d-83ab-5e1b7d036f24",
   "metadata": {},
   "outputs": [],
   "source": [
    "def kmeans_based_ranking(listenings_history, X, weighted = True, n_clusters = 'auto', random_state = None):  \n",
    "    # Get the features of the songs listened by the user\n",
    "    listenings_history_feats = X.loc[listenings_history.track_id]      \n",
    "    \n",
    "    # If a weighting of each tracks is desired :\n",
    "    if weighted:\n",
    "        # Calculation of the weight of each track according to its number of listens\n",
    "        w = listenings_history.listening_count / listenings_history.listening_count.sum()\n",
    "        w.index = listenings_history_feats.index \n",
    "        # Tracks weighting\n",
    "        listenings_history_feats = listenings_history_feats.apply(lambda x: x*w)\n",
    "    \n",
    "    # Compute the user tracks centroids\n",
    "    if n_clusters == 'auto':\n",
    "        labels, centroids, _ = get_listenings_history_partition(listenings_history_feats)\n",
    "    elif n_clusters == 1:\n",
    "        labels = list(np.zeros(len(listenings_history)))\n",
    "        centroids = np.array(listenings_history_feats.apply('mean'), ndmin = 2)\n",
    "    else:\n",
    "        clf = KMeans(n_clusters = n_clusters, n_init = 'auto', random_state = random_state)\n",
    "        clf.fit(listenings_history_feats)\n",
    "        centroids = clf.cluster_centers_\n",
    "        labels = clf.labels_\n",
    "    \n",
    "    # Define the number of neighbors to find according to the clusters size\n",
    "    # cluster_size = pd.Series(labels).value_counts()\n",
    "    # nb_tracks_by_clusters = [round(n_neighbors * v) for v in cluster_size / sum(cluster_size)]\n",
    "    # if not sum(nb_tracks_by_clusters) == n_neighbors:\n",
    "    #     nb_tracks_by_clusters[-1] = n_neighbors - sum(nb_tracks_by_clusters[:-1])\n",
    "        \n",
    "    # Compute the distance between the tracks and the centroids  \n",
    "    D = pd.DataFrame(distance_matrix(X.loc[X.index.difference(listenings_history_feats.index)], centroids), index = X.index.difference(listenings_history_feats.index))           \n",
    "\n",
    "#     # Get the ranks of the tracks relating to its distance with each centroid\n",
    "    R = D.rank(axis = 0)\n",
    "\n",
    "#     # Get the n_neighbors unique recommended tracks\n",
    "#     recommended_tracks = []\n",
    "#     for i, n in enumerate(nb_tracks_by_clusters):\n",
    "#         tracks = [t for t in list(R.iloc[:,i].sort_values().index) if not t in recommended_tracks]\n",
    "#         recommended_tracks = recommended_tracks + tracks[:n]\n",
    "\n",
    "    return R"
   ]
  }
 ],
 "metadata": {
  "kernelspec": {
   "display_name": "Python 3 (ipykernel)",
   "language": "python",
   "name": "python3"
  },
  "language_info": {
   "codemirror_mode": {
    "name": "ipython",
    "version": 3
   },
   "file_extension": ".py",
   "mimetype": "text/x-python",
   "name": "python",
   "nbconvert_exporter": "python",
   "pygments_lexer": "ipython3",
   "version": "3.10.9"
  }
 },
 "nbformat": 4,
 "nbformat_minor": 5
}
