{
 "cells": [
  {
   "cell_type": "code",
   "execution_count": 1,
   "id": "42fcfcdf-4624-45ab-9166-85b6d1c12f02",
   "metadata": {},
   "outputs": [],
   "source": [
    "import os\n",
    "from pathlib import Path\n",
    "import pandas as pd\n",
    "import matplotlib.pyplot as plt\n",
    "import seaborn as sns\n",
    "import numpy as np\n",
    "import ipynb\n",
    "from scipy.spatial import distance_matrix\n",
    "import random\n",
    "import sys as sys"
   ]
  },
  {
   "cell_type": "code",
   "execution_count": 2,
   "id": "7df20d85-1ba6-4436-9b79-132838085536",
   "metadata": {},
   "outputs": [],
   "source": [
    "from ipynb.fs.full.datamanagement import user_filter\n",
    "from ipynb.fs.full.evaluation_workflow import split_history\n",
    "from sklearn.preprocessing import StandardScaler\n",
    "from scipy.spatial import distance_matrix\n",
    "pd.options.mode.chained_assignment = None  # default='warn'"
   ]
  },
  {
   "cell_type": "markdown",
   "id": "00671c82-7e4a-4dc0-a802-a7d23ab9091d",
   "metadata": {},
   "source": [
    "## Data loading"
   ]
  },
  {
   "cell_type": "code",
   "execution_count": 3,
   "id": "f47a7b3a-9857-4a34-a817-f1d17b0b777f",
   "metadata": {},
   "outputs": [],
   "source": [
    "# Read the data\n",
    "CUR_DIR = os.path.abspath('')\n",
    "\n",
    "DATA_DIR = Path(CUR_DIR).parent / \"data\"\n",
    "FILE_PATH = DATA_DIR/'triplets_metadata_spotify.csv'\n",
    "df = pd.read_csv(FILE_PATH, index_col = 0)"
   ]
  },
  {
   "cell_type": "code",
   "execution_count": 4,
   "id": "1d132d0e-2d5d-45c7-ac12-315b61f9a87e",
   "metadata": {},
   "outputs": [
    {
     "data": {
      "text/html": [
       "<div>\n",
       "<style scoped>\n",
       "    .dataframe tbody tr th:only-of-type {\n",
       "        vertical-align: middle;\n",
       "    }\n",
       "\n",
       "    .dataframe tbody tr th {\n",
       "        vertical-align: top;\n",
       "    }\n",
       "\n",
       "    .dataframe thead th {\n",
       "        text-align: right;\n",
       "    }\n",
       "</style>\n",
       "<table border=\"1\" class=\"dataframe\">\n",
       "  <thead>\n",
       "    <tr style=\"text-align: right;\">\n",
       "      <th></th>\n",
       "      <th>user</th>\n",
       "      <th>listening_count</th>\n",
       "      <th>song_name</th>\n",
       "      <th>release</th>\n",
       "      <th>artist_name</th>\n",
       "      <th>duration</th>\n",
       "      <th>artist_familiarity</th>\n",
       "      <th>artist_hotttnesss</th>\n",
       "      <th>year</th>\n",
       "      <th>shs_perf</th>\n",
       "      <th>...</th>\n",
       "      <th>loudness</th>\n",
       "      <th>mode</th>\n",
       "      <th>speechiness</th>\n",
       "      <th>acousticness</th>\n",
       "      <th>instrumentalness</th>\n",
       "      <th>liveness</th>\n",
       "      <th>valence</th>\n",
       "      <th>tempo</th>\n",
       "      <th>time_signature</th>\n",
       "      <th>release_date</th>\n",
       "    </tr>\n",
       "  </thead>\n",
       "  <tbody>\n",
       "    <tr>\n",
       "      <th>0</th>\n",
       "      <td>b80344d063b5ccb3212f76538f3d9e43d87dca9e</td>\n",
       "      <td>1</td>\n",
       "      <td>Stronger</td>\n",
       "      <td>Graduation</td>\n",
       "      <td>Kanye West</td>\n",
       "      <td>311.84934</td>\n",
       "      <td>0.877214</td>\n",
       "      <td>1.082503</td>\n",
       "      <td>2007</td>\n",
       "      <td>-1</td>\n",
       "      <td>...</td>\n",
       "      <td>-7.933</td>\n",
       "      <td>0</td>\n",
       "      <td>0.176</td>\n",
       "      <td>0.00763</td>\n",
       "      <td>0.0</td>\n",
       "      <td>0.526</td>\n",
       "      <td>0.495</td>\n",
       "      <td>103.977</td>\n",
       "      <td>4.0</td>\n",
       "      <td>2011-05-24</td>\n",
       "    </tr>\n",
       "    <tr>\n",
       "      <th>1</th>\n",
       "      <td>9fba771d9731561eba47216f6fbfc0023d88641b</td>\n",
       "      <td>19</td>\n",
       "      <td>Stronger</td>\n",
       "      <td>Graduation</td>\n",
       "      <td>Kanye West</td>\n",
       "      <td>311.84934</td>\n",
       "      <td>0.877214</td>\n",
       "      <td>1.082503</td>\n",
       "      <td>2007</td>\n",
       "      <td>-1</td>\n",
       "      <td>...</td>\n",
       "      <td>-7.933</td>\n",
       "      <td>0</td>\n",
       "      <td>0.176</td>\n",
       "      <td>0.00763</td>\n",
       "      <td>0.0</td>\n",
       "      <td>0.526</td>\n",
       "      <td>0.495</td>\n",
       "      <td>103.977</td>\n",
       "      <td>4.0</td>\n",
       "      <td>2011-05-24</td>\n",
       "    </tr>\n",
       "    <tr>\n",
       "      <th>2</th>\n",
       "      <td>85952991b8e3ca5803a08b0b2f9c6d71abf9bb5b</td>\n",
       "      <td>1</td>\n",
       "      <td>Stronger</td>\n",
       "      <td>Graduation</td>\n",
       "      <td>Kanye West</td>\n",
       "      <td>311.84934</td>\n",
       "      <td>0.877214</td>\n",
       "      <td>1.082503</td>\n",
       "      <td>2007</td>\n",
       "      <td>-1</td>\n",
       "      <td>...</td>\n",
       "      <td>-7.933</td>\n",
       "      <td>0</td>\n",
       "      <td>0.176</td>\n",
       "      <td>0.00763</td>\n",
       "      <td>0.0</td>\n",
       "      <td>0.526</td>\n",
       "      <td>0.495</td>\n",
       "      <td>103.977</td>\n",
       "      <td>4.0</td>\n",
       "      <td>2011-05-24</td>\n",
       "    </tr>\n",
       "    <tr>\n",
       "      <th>3</th>\n",
       "      <td>537340ff896dea11328910013cfe759413e1eeb3</td>\n",
       "      <td>2</td>\n",
       "      <td>Stronger</td>\n",
       "      <td>Graduation</td>\n",
       "      <td>Kanye West</td>\n",
       "      <td>311.84934</td>\n",
       "      <td>0.877214</td>\n",
       "      <td>1.082503</td>\n",
       "      <td>2007</td>\n",
       "      <td>-1</td>\n",
       "      <td>...</td>\n",
       "      <td>-7.933</td>\n",
       "      <td>0</td>\n",
       "      <td>0.176</td>\n",
       "      <td>0.00763</td>\n",
       "      <td>0.0</td>\n",
       "      <td>0.526</td>\n",
       "      <td>0.495</td>\n",
       "      <td>103.977</td>\n",
       "      <td>4.0</td>\n",
       "      <td>2011-05-24</td>\n",
       "    </tr>\n",
       "    <tr>\n",
       "      <th>4</th>\n",
       "      <td>8fce200f3912e9608e3b1463cdb9c3529aab5c08</td>\n",
       "      <td>2</td>\n",
       "      <td>Stronger</td>\n",
       "      <td>Graduation</td>\n",
       "      <td>Kanye West</td>\n",
       "      <td>311.84934</td>\n",
       "      <td>0.877214</td>\n",
       "      <td>1.082503</td>\n",
       "      <td>2007</td>\n",
       "      <td>-1</td>\n",
       "      <td>...</td>\n",
       "      <td>-7.933</td>\n",
       "      <td>0</td>\n",
       "      <td>0.176</td>\n",
       "      <td>0.00763</td>\n",
       "      <td>0.0</td>\n",
       "      <td>0.526</td>\n",
       "      <td>0.495</td>\n",
       "      <td>103.977</td>\n",
       "      <td>4.0</td>\n",
       "      <td>2011-05-24</td>\n",
       "    </tr>\n",
       "  </tbody>\n",
       "</table>\n",
       "<p>5 rows × 25 columns</p>\n",
       "</div>"
      ],
      "text/plain": [
       "                                       user  listening_count song_name  \\\n",
       "0  b80344d063b5ccb3212f76538f3d9e43d87dca9e                1  Stronger   \n",
       "1  9fba771d9731561eba47216f6fbfc0023d88641b               19  Stronger   \n",
       "2  85952991b8e3ca5803a08b0b2f9c6d71abf9bb5b                1  Stronger   \n",
       "3  537340ff896dea11328910013cfe759413e1eeb3                2  Stronger   \n",
       "4  8fce200f3912e9608e3b1463cdb9c3529aab5c08                2  Stronger   \n",
       "\n",
       "      release artist_name   duration  artist_familiarity  artist_hotttnesss  \\\n",
       "0  Graduation  Kanye West  311.84934            0.877214           1.082503   \n",
       "1  Graduation  Kanye West  311.84934            0.877214           1.082503   \n",
       "2  Graduation  Kanye West  311.84934            0.877214           1.082503   \n",
       "3  Graduation  Kanye West  311.84934            0.877214           1.082503   \n",
       "4  Graduation  Kanye West  311.84934            0.877214           1.082503   \n",
       "\n",
       "   year  shs_perf  ...  loudness  mode  speechiness  acousticness  \\\n",
       "0  2007        -1  ...    -7.933     0        0.176       0.00763   \n",
       "1  2007        -1  ...    -7.933     0        0.176       0.00763   \n",
       "2  2007        -1  ...    -7.933     0        0.176       0.00763   \n",
       "3  2007        -1  ...    -7.933     0        0.176       0.00763   \n",
       "4  2007        -1  ...    -7.933     0        0.176       0.00763   \n",
       "\n",
       "   instrumentalness  liveness  valence    tempo  time_signature  release_date  \n",
       "0               0.0     0.526    0.495  103.977             4.0    2011-05-24  \n",
       "1               0.0     0.526    0.495  103.977             4.0    2011-05-24  \n",
       "2               0.0     0.526    0.495  103.977             4.0    2011-05-24  \n",
       "3               0.0     0.526    0.495  103.977             4.0    2011-05-24  \n",
       "4               0.0     0.526    0.495  103.977             4.0    2011-05-24  \n",
       "\n",
       "[5 rows x 25 columns]"
      ]
     },
     "execution_count": 4,
     "metadata": {},
     "output_type": "execute_result"
    }
   ],
   "source": [
    "df.head()"
   ]
  },
  {
   "cell_type": "code",
   "execution_count": 5,
   "id": "6d5ba0dd-09ac-43f5-8f4b-73f5b5713f77",
   "metadata": {},
   "outputs": [],
   "source": [
    "# Select a working database\n",
    "user_listenings = df.groupby(['user', 'song_name', 'artist_name']).agg({'listening_count' : sum}).reset_index()\n",
    "users_summary = user_listenings.groupby('user').agg({'listening_count' : sum, 'song_name' : len}).reset_index()\n",
    "users_summary.columns = ['user', 'listening_count', 'track_count']\n"
   ]
  },
  {
   "cell_type": "markdown",
   "id": "8ca09348-93d9-4dc8-8f55-f663f3bd82e1",
   "metadata": {},
   "source": [
    "## Data management"
   ]
  },
  {
   "cell_type": "markdown",
   "id": "969ae3d3-58d4-456e-bd7b-2363dd7f9dee",
   "metadata": {},
   "source": [
    "### Users filtering"
   ]
  },
  {
   "cell_type": "code",
   "execution_count": 6,
   "id": "ba7fc363-d5a1-4caf-a251-5ebc44e21066",
   "metadata": {},
   "outputs": [],
   "source": [
    "ids = user_filter(users_summary, nlist_min = 1, nlist_max = 500, ntracks_min = 5)\n",
    "wdf = df.loc[df['user'].isin(ids),:]"
   ]
  },
  {
   "cell_type": "code",
   "execution_count": 7,
   "id": "475a2f26-c2a0-477e-a8f6-de1290108f65",
   "metadata": {},
   "outputs": [
    {
     "name": "stdout",
     "output_type": "stream",
     "text": [
      "Nb of ligns in df  : 4982520\n",
      "Nb of ligns in wdf : 3863861\n"
     ]
    }
   ],
   "source": [
    "print('Nb of ligns in df  :', len(df))\n",
    "print('Nb of ligns in wdf :', len(wdf))"
   ]
  },
  {
   "cell_type": "code",
   "execution_count": 8,
   "id": "2e5b97f1-4ead-4b99-ade9-8b0592f9080b",
   "metadata": {},
   "outputs": [],
   "source": [
    "wdf['track_id'] = wdf.song_name + '-' + wdf.artist_name"
   ]
  },
  {
   "cell_type": "markdown",
   "id": "d445f993-5e37-4bda-b4d8-c6ef3775377d",
   "metadata": {},
   "source": [
    "### Songs management"
   ]
  },
  {
   "cell_type": "code",
   "execution_count": 8,
   "id": "a8d132da-dc18-49c3-a7b1-ed8524f50da6",
   "metadata": {},
   "outputs": [],
   "source": [
    "# Get the songs quantitative features\n",
    "\n",
    "tracks_feats = df.drop(['user', 'listening_count'],axis = 1)\n",
    "tracks_feats['track_id'] = df.song_name + '-' + df.artist_name\n",
    "tracks_quanti_feats = tracks_feats.drop(['song_name', 'release', 'artist_name',\n",
    "        'artist_familiarity', 'artist_hotttnesss', 'year', 'key',\n",
    "       'shs_perf', 'shs_work', 'explicit', 'mode', 'time_signature', 'release_date', 'duration', 'tempo'], axis = 1).drop_duplicates()"
   ]
  },
  {
   "cell_type": "code",
   "execution_count": 11,
   "id": "694cfb27-5e87-4963-8bc6-e892ace7f5a8",
   "metadata": {},
   "outputs": [],
   "source": [
    "# Normalize the songs quantitative feats\n",
    "X = tracks_quanti_feats.drop(['track_id'], axis = 1)\n",
    "X.index = tracks_quanti_feats.track_id\n",
    "\n",
    "scaler = StandardScaler()\n",
    "X[X.columns] = pd.DataFrame(scaler.fit_transform(X), index=X.index)\n",
    "#X = scaler.transform(tracks_quanti_feats)\n",
    "## preserve X as a dataframe\n"
   ]
  },
  {
   "cell_type": "code",
   "execution_count": 10,
   "id": "14ef998d-92fc-47c7-aa81-93b75e1291c1",
   "metadata": {},
   "outputs": [],
   "source": [
    "# Compute the pairwise distance matrix between the songs\n",
    "D = pd.DataFrame(distance_matrix(X, X), index = X.index, columns = X.index)"
   ]
  },
  {
   "cell_type": "markdown",
   "id": "19d842cb-0da3-4c39-9964-ecee35b92626",
   "metadata": {},
   "source": [
    "## Raw K-Nearest Neighboor"
   ]
  },
  {
   "cell_type": "markdown",
   "id": "d1c9a243-ffd5-481c-bc1a-18e52238f53c",
   "metadata": {},
   "source": [
    "### Split the data into hidden and apparent sets"
   ]
  },
  {
   "cell_type": "code",
   "execution_count": 9,
   "id": "496bd2e4-75aa-438e-96e6-e46869405ed9",
   "metadata": {},
   "outputs": [
    {
     "name": "stdout",
     "output_type": "stream",
     "text": [
      "Sorting the triplets by users id ... Done\n",
      "Computing the number of tracks listened by the users ... Done\n",
      "Defining hidden tracks ids ... Done\n",
      "Defining apparent tracks ids ... Done"
     ]
    }
   ],
   "source": [
    "test1, test2 = split_history(wdf, 0.2, sort = True, random_state = 1234)"
   ]
  },
  {
   "cell_type": "code",
   "execution_count": null,
   "id": "793c8b02-fc5d-4431-b1ed-3eac6dbc6ea0",
   "metadata": {},
   "outputs": [],
   "source": [
    "def random_k_reco(users_historic):"
   ]
  }
 ],
 "metadata": {
  "kernelspec": {
   "display_name": "Python 3 (ipykernel)",
   "language": "python",
   "name": "python3"
  },
  "language_info": {
   "codemirror_mode": {
    "name": "ipython",
    "version": 3
   },
   "file_extension": ".py",
   "mimetype": "text/x-python",
   "name": "python",
   "nbconvert_exporter": "python",
   "pygments_lexer": "ipython3",
   "version": "3.10.9"
  }
 },
 "nbformat": 4,
 "nbformat_minor": 5
}
