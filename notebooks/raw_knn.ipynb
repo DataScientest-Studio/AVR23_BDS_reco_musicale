{
 "cells": [
  {
   "cell_type": "code",
   "execution_count": 107,
   "id": "42fcfcdf-4624-45ab-9166-85b6d1c12f02",
   "metadata": {},
   "outputs": [],
   "source": [
    "import os\n",
    "from pathlib import Path\n",
    "import pandas as pd\n",
    "import matplotlib.pyplot as plt\n",
    "import seaborn as sns\n",
    "import numpy as np\n",
    "import ipynb\n",
    "from scipy.spatial import distance_matrix\n",
    "import random\n",
    "import sys as sys\n",
    "import time\n",
    "import re"
   ]
  },
  {
   "cell_type": "code",
   "execution_count": 34,
   "id": "7df20d85-1ba6-4436-9b79-132838085536",
   "metadata": {},
   "outputs": [
    {
     "ename": "ImportError",
     "evalue": "cannot import name 'scoring_accuracy_vs_serendipity' from 'ipynb.fs.full.evaluation_workflow' (unknown location)",
     "output_type": "error",
     "traceback": [
      "\u001b[1;31m---------------------------------------------------------------------------\u001b[0m",
      "\u001b[1;31mImportError\u001b[0m                               Traceback (most recent call last)",
      "Cell \u001b[1;32mIn[34], line 2\u001b[0m\n\u001b[0;32m      1\u001b[0m \u001b[38;5;28;01mfrom\u001b[39;00m \u001b[38;5;21;01mipynb\u001b[39;00m\u001b[38;5;21;01m.\u001b[39;00m\u001b[38;5;21;01mfs\u001b[39;00m\u001b[38;5;21;01m.\u001b[39;00m\u001b[38;5;21;01mfull\u001b[39;00m\u001b[38;5;21;01m.\u001b[39;00m\u001b[38;5;21;01mdatamanagement\u001b[39;00m \u001b[38;5;28;01mimport\u001b[39;00m user_filter, summarise_listening_history\n\u001b[1;32m----> 2\u001b[0m \u001b[38;5;28;01mfrom\u001b[39;00m \u001b[38;5;21;01mipynb\u001b[39;00m\u001b[38;5;21;01m.\u001b[39;00m\u001b[38;5;21;01mfs\u001b[39;00m\u001b[38;5;21;01m.\u001b[39;00m\u001b[38;5;21;01mfull\u001b[39;00m\u001b[38;5;21;01m.\u001b[39;00m\u001b[38;5;21;01mevaluation_workflow\u001b[39;00m \u001b[38;5;28;01mimport\u001b[39;00m split_history, scoring_accuracy_vs_serendipity\n\u001b[0;32m      3\u001b[0m \u001b[38;5;28;01mfrom\u001b[39;00m \u001b[38;5;21;01mipynb\u001b[39;00m\u001b[38;5;21;01m.\u001b[39;00m\u001b[38;5;21;01mfs\u001b[39;00m\u001b[38;5;21;01m.\u001b[39;00m\u001b[38;5;21;01mfull\u001b[39;00m\u001b[38;5;21;01m.\u001b[39;00m\u001b[38;5;21;01mfeature_based_algos\u001b[39;00m \u001b[38;5;28;01mimport\u001b[39;00m get_listenings_history_partition, kmeans_based_knn\n\u001b[0;32m      6\u001b[0m \u001b[38;5;28;01mfrom\u001b[39;00m \u001b[38;5;21;01msklearn\u001b[39;00m\u001b[38;5;21;01m.\u001b[39;00m\u001b[38;5;21;01mpreprocessing\u001b[39;00m \u001b[38;5;28;01mimport\u001b[39;00m StandardScaler\n",
      "\u001b[1;31mImportError\u001b[0m: cannot import name 'scoring_accuracy_vs_serendipity' from 'ipynb.fs.full.evaluation_workflow' (unknown location)"
     ]
    }
   ],
   "source": [
    "from ipynb.fs.full.datamanagement import user_filter, summarise_listening_history\n",
    "from ipynb.fs.full.evaluation_workflow import split_history, scoring_accuracy_vs_serendipity\n",
    "from ipynb.fs.full.feature_based_algos import get_listenings_history_partition, kmeans_based_knn\n",
    "\n",
    "\n",
    "from sklearn.preprocessing import StandardScaler\n",
    "from sklearn.cluster import KMeans, AgglomerativeClustering\n",
    "from sklearn.metrics import silhouette_score\n",
    "\n",
    "from scipy.spatial import distance_matrix"
   ]
  },
  {
   "cell_type": "markdown",
   "id": "00671c82-7e4a-4dc0-a802-a7d23ab9091d",
   "metadata": {},
   "source": [
    "## Data loading"
   ]
  },
  {
   "cell_type": "code",
   "execution_count": 3,
   "id": "f47a7b3a-9857-4a34-a817-f1d17b0b777f",
   "metadata": {},
   "outputs": [],
   "source": [
    "# Read the data\n",
    "CUR_DIR = os.path.abspath('')\n",
    "\n",
    "DATA_DIR = Path(CUR_DIR).parent / \"data\"\n",
    "FILE_PATH = DATA_DIR/'triplets_metadata_spotify.csv'\n",
    "df = pd.read_csv(FILE_PATH, index_col = 0)"
   ]
  },
  {
   "cell_type": "code",
   "execution_count": 4,
   "id": "6d5ba0dd-09ac-43f5-8f4b-73f5b5713f77",
   "metadata": {},
   "outputs": [],
   "source": [
    "df['track_id'] = df.song_name + '-' + df.artist_name"
   ]
  },
  {
   "cell_type": "code",
   "execution_count": 5,
   "id": "e0a7a9cb-04de-4bfa-81bf-c9baa5884989",
   "metadata": {},
   "outputs": [
    {
     "data": {
      "text/plain": [
       "4982520"
      ]
     },
     "execution_count": 5,
     "metadata": {},
     "output_type": "execute_result"
    }
   ],
   "source": [
    "len(df)"
   ]
  },
  {
   "cell_type": "markdown",
   "id": "8ca09348-93d9-4dc8-8f55-f663f3bd82e1",
   "metadata": {},
   "source": [
    "## Data management"
   ]
  },
  {
   "cell_type": "code",
   "execution_count": 6,
   "id": "5cad7033-a7e0-4002-893a-c27a3c9b24ad",
   "metadata": {},
   "outputs": [
    {
     "data": {
      "text/plain": [
       "4973744"
      ]
     },
     "execution_count": 6,
     "metadata": {},
     "output_type": "execute_result"
    }
   ],
   "source": [
    "## keep first occurence of a given song/artist instance to reduce redundant observations\n",
    "\n",
    "df = df.drop_duplicates(subset = ['user','track_id'], keep='first')\n",
    "len(df)"
   ]
  },
  {
   "cell_type": "markdown",
   "id": "969ae3d3-58d4-456e-bd7b-2363dd7f9dee",
   "metadata": {},
   "source": [
    "### Users filtering"
   ]
  },
  {
   "cell_type": "code",
   "execution_count": 9,
   "id": "ba7fc363-d5a1-4caf-a251-5ebc44e21066",
   "metadata": {},
   "outputs": [],
   "source": [
    "users_summary = summarise_listening_history(df)"
   ]
  },
  {
   "cell_type": "code",
   "execution_count": 10,
   "id": "21912a83-01b0-4e22-8249-3ea1a425f2bf",
   "metadata": {},
   "outputs": [],
   "source": [
    "ids = user_filter(users_summary, nlist_min = 1, nlist_max = 500, ntracks_min = 5)"
   ]
  },
  {
   "cell_type": "code",
   "execution_count": 85,
   "id": "63a86e86-b87a-427f-8feb-a0e98983d9d3",
   "metadata": {},
   "outputs": [],
   "source": [
    "wdf = df.loc[df['user'].isin(ids),:]\n",
    "wdf_users_summary = users_summary.loc[users_summary['user'].isin(ids),:]"
   ]
  },
  {
   "cell_type": "code",
   "execution_count": 12,
   "id": "475a2f26-c2a0-477e-a8f6-de1290108f65",
   "metadata": {},
   "outputs": [
    {
     "name": "stdout",
     "output_type": "stream",
     "text": [
      "Nb of ligns in df  : 4973744\n",
      "Nb of ligns in wdf : 3856377\n"
     ]
    }
   ],
   "source": [
    "print('Nb of ligns in df  :', len(df))\n",
    "print('Nb of ligns in wdf :', len(wdf))"
   ]
  },
  {
   "cell_type": "code",
   "execution_count": 13,
   "id": "deb77346-8912-4381-9833-27c95e82da3e",
   "metadata": {},
   "outputs": [
    {
     "data": {
      "text/plain": [
       "327081"
      ]
     },
     "execution_count": 13,
     "metadata": {},
     "output_type": "execute_result"
    }
   ],
   "source": [
    "len(wdf_users_summary)"
   ]
  },
  {
   "cell_type": "code",
   "execution_count": 14,
   "id": "60c909a3-f908-48e7-acf6-3b2a24747b14",
   "metadata": {},
   "outputs": [
    {
     "data": {
      "text/html": [
       "<div>\n",
       "<style scoped>\n",
       "    .dataframe tbody tr th:only-of-type {\n",
       "        vertical-align: middle;\n",
       "    }\n",
       "\n",
       "    .dataframe tbody tr th {\n",
       "        vertical-align: top;\n",
       "    }\n",
       "\n",
       "    .dataframe thead th {\n",
       "        text-align: right;\n",
       "    }\n",
       "</style>\n",
       "<table border=\"1\" class=\"dataframe\">\n",
       "  <thead>\n",
       "    <tr style=\"text-align: right;\">\n",
       "      <th></th>\n",
       "      <th>user</th>\n",
       "      <th>listening_count</th>\n",
       "      <th>track_count</th>\n",
       "    </tr>\n",
       "  </thead>\n",
       "  <tbody>\n",
       "    <tr>\n",
       "      <th>7</th>\n",
       "      <td>00007ed2509128dcdd74ea3aac2363e24e9dc06b</td>\n",
       "      <td>11</td>\n",
       "      <td>10</td>\n",
       "    </tr>\n",
       "    <tr>\n",
       "      <th>11</th>\n",
       "      <td>0000bb531aaa657c932988bc2f7fd7fc1b2050ec</td>\n",
       "      <td>14</td>\n",
       "      <td>10</td>\n",
       "    </tr>\n",
       "    <tr>\n",
       "      <th>12</th>\n",
       "      <td>0000d3c803e068cf1da17724f1674897b2dd7130</td>\n",
       "      <td>7</td>\n",
       "      <td>5</td>\n",
       "    </tr>\n",
       "    <tr>\n",
       "      <th>14</th>\n",
       "      <td>0000f88f8d76a238c251450913b0d070e4a77d19</td>\n",
       "      <td>30</td>\n",
       "      <td>8</td>\n",
       "    </tr>\n",
       "    <tr>\n",
       "      <th>15</th>\n",
       "      <td>000138e252eea35fd73aaf66a9b34102b695a9c8</td>\n",
       "      <td>26</td>\n",
       "      <td>13</td>\n",
       "    </tr>\n",
       "  </tbody>\n",
       "</table>\n",
       "</div>"
      ],
      "text/plain": [
       "                                        user  listening_count  track_count\n",
       "7   00007ed2509128dcdd74ea3aac2363e24e9dc06b               11           10\n",
       "11  0000bb531aaa657c932988bc2f7fd7fc1b2050ec               14           10\n",
       "12  0000d3c803e068cf1da17724f1674897b2dd7130                7            5\n",
       "14  0000f88f8d76a238c251450913b0d070e4a77d19               30            8\n",
       "15  000138e252eea35fd73aaf66a9b34102b695a9c8               26           13"
      ]
     },
     "execution_count": 14,
     "metadata": {},
     "output_type": "execute_result"
    }
   ],
   "source": [
    "wdf_users_summary.head()"
   ]
  },
  {
   "cell_type": "markdown",
   "id": "d445f993-5e37-4bda-b4d8-c6ef3775377d",
   "metadata": {},
   "source": [
    "### Songs management"
   ]
  },
  {
   "cell_type": "code",
   "execution_count": 15,
   "id": "a8d132da-dc18-49c3-a7b1-ed8524f50da6",
   "metadata": {},
   "outputs": [],
   "source": [
    "# Get the songs quantitative features\n",
    "\n",
    "tracks_feats = df.drop(['user', 'listening_count'],axis = 1)\n",
    "tracks_feats['track_id'] = df.song_name + '-' + df.artist_name\n",
    "tracks_quanti_feats = tracks_feats.drop(['song_name', 'release', 'artist_name',\n",
    "        'artist_familiarity', 'artist_hotttnesss', 'year', 'key',\n",
    "       'shs_perf', 'shs_work', 'explicit', 'mode', 'time_signature', 'release_date', 'duration', 'tempo'], axis = 1).drop_duplicates()"
   ]
  },
  {
   "cell_type": "code",
   "execution_count": 16,
   "id": "694cfb27-5e87-4963-8bc6-e892ace7f5a8",
   "metadata": {},
   "outputs": [],
   "source": [
    "# Normalize the songs quantitative feats\n",
    "X = tracks_quanti_feats.drop(['track_id'], axis = 1)\n",
    "X.index = tracks_quanti_feats.track_id\n",
    "\n",
    "scaler = StandardScaler()\n",
    "X[X.columns] = pd.DataFrame(scaler.fit_transform(X), index=X.index)\n"
   ]
  },
  {
   "cell_type": "markdown",
   "id": "19d842cb-0da3-4c39-9964-ecee35b92626",
   "metadata": {},
   "source": [
    "## Recommendation algorithms evaluation"
   ]
  },
  {
   "cell_type": "markdown",
   "id": "d1c9a243-ffd5-481c-bc1a-18e52238f53c",
   "metadata": {
    "tags": []
   },
   "source": [
    "### Split the data into hidden and apparent sets"
   ]
  },
  {
   "cell_type": "code",
   "execution_count": 97,
   "id": "72427c7b-9312-46d1-a9b8-65980e57b651",
   "metadata": {},
   "outputs": [],
   "source": [
    "wdf_sorted = wdf.sort_values('user')\n",
    "wdf_users_summary_sorted = wdf_users_summary.sort_values('user')"
   ]
  },
  {
   "cell_type": "code",
   "execution_count": 21,
   "id": "496bd2e4-75aa-438e-96e6-e46869405ed9",
   "metadata": {},
   "outputs": [
    {
     "name": "stdout",
     "output_type": "stream",
     "text": [
      "Sorting the triplets by users id ... Done\n",
      "Computing the number of tracks listened by the users ... Done\n",
      "Defining hidden tracks ids ... Done\n",
      "Defining apparent tracks ids ... Done\n",
      "Splitting the listening history ...Execution time 1: 42.95786738395691 seconds\n"
     ]
    }
   ],
   "source": [
    "# Try 1; Triplets non sorted by users, without users_summary\n",
    "st = time.time()\n",
    "test1, test2 = split_history(wdf, 0.2, sort = True, random_state = 1234)\n",
    "et = time.time()\n",
    "elapsed_time = et - st\n",
    "print('Execution time 1:', elapsed_time, 'seconds')"
   ]
  },
  {
   "cell_type": "code",
   "execution_count": 22,
   "id": "f9a9b339-00a6-4285-88a0-1ed4c4ba0f3a",
   "metadata": {},
   "outputs": [
    {
     "name": "stdout",
     "output_type": "stream",
     "text": [
      "Sorting the triplets by users id ... Done\n",
      "Computing the number of tracks listened by the users ... Done\n",
      "Defining hidden tracks ids ... Done\n",
      "Defining apparent tracks ids ... Done\n",
      "Splitting the listening history ...Execution time 2: 36.215386390686035 seconds\n"
     ]
    }
   ],
   "source": [
    "# Try 2: Triplets non sorted by users, with users_summary\n",
    "st = time.time()\n",
    "test1, test2 = split_history(wdf, 0.2, sort = True, users_summary = wdf_users_summary, random_state = 1234)\n",
    "et = time.time()\n",
    "elapsed_time = et - st\n",
    "print('Execution time 2:', elapsed_time, 'seconds')"
   ]
  },
  {
   "cell_type": "code",
   "execution_count": 23,
   "id": "ab72a254-8cb0-409d-b8e3-0550c3860cae",
   "metadata": {},
   "outputs": [
    {
     "name": "stdout",
     "output_type": "stream",
     "text": [
      "\n",
      "Computing the number of tracks listened by the users ... Done\n",
      "Defining hidden tracks ids ... Done\n",
      "Defining apparent tracks ids ... Done\n",
      "Splitting the listening history ...Execution time 2: 21.979166746139526 seconds\n"
     ]
    }
   ],
   "source": [
    "# Try 3: Triplets sorted by users, without users_summary\n",
    "st = time.time()\n",
    "test1, test2 = split_history(wdf_sorted, 0.2, sort = False, random_state = 1234)\n",
    "et = time.time()\n",
    "elapsed_time = et - st\n",
    "print('Execution time 3:', elapsed_time, 'seconds')"
   ]
  },
  {
   "cell_type": "code",
   "execution_count": 18,
   "id": "c20779fc-2f02-4773-9e3c-7ead26b2f653",
   "metadata": {},
   "outputs": [
    {
     "name": "stdout",
     "output_type": "stream",
     "text": [
      "\n",
      "Computing the number of tracks listened by the users ... Done\n",
      "Defining hidden tracks ids ... Done\n",
      "Defining apparent tracks ids ... Done\n",
      "Splitting the listening history ...Execution time 4: 17.047485828399658 seconds\n"
     ]
    }
   ],
   "source": [
    "# Try 4: Triplets sorted by users, without users_summary\n",
    "st = time.time()\n",
    "test1, test2 = split_history(wdf_sorted, 0.2, sort = False, users_summary = wdf_users_summary_sorted, random_state = 1234)\n",
    "et = time.time()\n",
    "elapsed_time = et - st\n",
    "print('Execution time 4:', elapsed_time, 'seconds')"
   ]
  },
  {
   "cell_type": "markdown",
   "id": "9a1bea47-aa3f-4457-a40d-ca0338fa68d6",
   "metadata": {},
   "source": [
    "### Definition of the grid of parameters"
   ]
  },
  {
   "cell_type": "code",
   "execution_count": 44,
   "id": "b2f79d97-5ecc-48fe-9a1b-66595309871f",
   "metadata": {},
   "outputs": [],
   "source": [
    "n_neighbors = [10, 25, 50, 100, 150, 200]"
   ]
  },
  {
   "cell_type": "markdown",
   "id": "bb2c6e66-596e-427a-a8ee-d0036e45e16c",
   "metadata": {},
   "source": [
    "### Initialize the table of results  "
   ]
  },
  {
   "cell_type": "code",
   "execution_count": 130,
   "id": "f4801e7a-33c3-42a2-8f8c-9fa0dd581d28",
   "metadata": {},
   "outputs": [],
   "source": [
    "# results = pd.DataFrame({\n",
    "#     'user' : wdf_users_summary_sorted.user,\n",
    "#     'listening_count' : wdf_users_summary_sorted.listening_count,\n",
    "#     'track_count' :  wdf_users_summary_sorted.track_count\n",
    "# })\n",
    "\n",
    "# for r in ['n_reco-'+ str(n)+ '-' + i  for n in n_neighbors for i in (\"reco_in\",\"reco_out\")]:\n",
    "#     results[r] = None\n",
    "# results = results.melt(id_vars = ['user', 'listening_count', 'track_count']).sort_values('user')\n",
    "# results['n_reco'] =  results.variable.str.extract(r'([0-9]+)').astype('int')\n",
    "# results['reco_type'] =  results.variable.str.extract(r'(reco_.+)')\n",
    "# results = results.drop(['variable'], axis = 1)\n",
    "# results.to_csv('../data/reco_res.csv')"
   ]
  },
  {
   "cell_type": "code",
   "execution_count": 143,
   "id": "ad0b8b05-7d83-4fee-b7b6-f06d683b587f",
   "metadata": {},
   "outputs": [],
   "source": [
    "results = pd.read_csv('../data/reco_res.csv')"
   ]
  },
  {
   "cell_type": "code",
   "execution_count": 144,
   "id": "421b502e-9acf-43e1-8ffe-95d32a6174ba",
   "metadata": {},
   "outputs": [
    {
     "data": {
      "text/html": [
       "<div>\n",
       "<style scoped>\n",
       "    .dataframe tbody tr th:only-of-type {\n",
       "        vertical-align: middle;\n",
       "    }\n",
       "\n",
       "    .dataframe tbody tr th {\n",
       "        vertical-align: top;\n",
       "    }\n",
       "\n",
       "    .dataframe thead th {\n",
       "        text-align: right;\n",
       "    }\n",
       "</style>\n",
       "<table border=\"1\" class=\"dataframe\">\n",
       "  <thead>\n",
       "    <tr style=\"text-align: right;\">\n",
       "      <th></th>\n",
       "      <th>Unnamed: 0</th>\n",
       "      <th>user</th>\n",
       "      <th>listening_count</th>\n",
       "      <th>track_count</th>\n",
       "      <th>value</th>\n",
       "      <th>n_reco</th>\n",
       "      <th>reco_type</th>\n",
       "    </tr>\n",
       "  </thead>\n",
       "  <tbody>\n",
       "    <tr>\n",
       "      <th>0</th>\n",
       "      <td>0</td>\n",
       "      <td>00007ed2509128dcdd74ea3aac2363e24e9dc06b</td>\n",
       "      <td>11</td>\n",
       "      <td>10</td>\n",
       "      <td>NaN</td>\n",
       "      <td>10</td>\n",
       "      <td>reco_in</td>\n",
       "    </tr>\n",
       "    <tr>\n",
       "      <th>1</th>\n",
       "      <td>654162</td>\n",
       "      <td>00007ed2509128dcdd74ea3aac2363e24e9dc06b</td>\n",
       "      <td>11</td>\n",
       "      <td>10</td>\n",
       "      <td>NaN</td>\n",
       "      <td>25</td>\n",
       "      <td>reco_in</td>\n",
       "    </tr>\n",
       "    <tr>\n",
       "      <th>2</th>\n",
       "      <td>1308324</td>\n",
       "      <td>00007ed2509128dcdd74ea3aac2363e24e9dc06b</td>\n",
       "      <td>11</td>\n",
       "      <td>10</td>\n",
       "      <td>NaN</td>\n",
       "      <td>50</td>\n",
       "      <td>reco_in</td>\n",
       "    </tr>\n",
       "    <tr>\n",
       "      <th>3</th>\n",
       "      <td>3597891</td>\n",
       "      <td>00007ed2509128dcdd74ea3aac2363e24e9dc06b</td>\n",
       "      <td>11</td>\n",
       "      <td>10</td>\n",
       "      <td>NaN</td>\n",
       "      <td>200</td>\n",
       "      <td>reco_out</td>\n",
       "    </tr>\n",
       "    <tr>\n",
       "      <th>4</th>\n",
       "      <td>1635405</td>\n",
       "      <td>00007ed2509128dcdd74ea3aac2363e24e9dc06b</td>\n",
       "      <td>11</td>\n",
       "      <td>10</td>\n",
       "      <td>NaN</td>\n",
       "      <td>50</td>\n",
       "      <td>reco_out</td>\n",
       "    </tr>\n",
       "  </tbody>\n",
       "</table>\n",
       "</div>"
      ],
      "text/plain": [
       "   Unnamed: 0                                      user  listening_count  \\\n",
       "0           0  00007ed2509128dcdd74ea3aac2363e24e9dc06b               11   \n",
       "1      654162  00007ed2509128dcdd74ea3aac2363e24e9dc06b               11   \n",
       "2     1308324  00007ed2509128dcdd74ea3aac2363e24e9dc06b               11   \n",
       "3     3597891  00007ed2509128dcdd74ea3aac2363e24e9dc06b               11   \n",
       "4     1635405  00007ed2509128dcdd74ea3aac2363e24e9dc06b               11   \n",
       "\n",
       "   track_count  value  n_reco reco_type  \n",
       "0           10    NaN      10   reco_in  \n",
       "1           10    NaN      25   reco_in  \n",
       "2           10    NaN      50   reco_in  \n",
       "3           10    NaN     200  reco_out  \n",
       "4           10    NaN      50  reco_out  "
      ]
     },
     "execution_count": 144,
     "metadata": {},
     "output_type": "execute_result"
    }
   ],
   "source": [
    "results.head()"
   ]
  },
  {
   "cell_type": "markdown",
   "id": "e4415826-b194-446f-8193-271eea3d6191",
   "metadata": {},
   "source": [
    "### Random recommandations"
   ]
  },
  {
   "cell_type": "code",
   "execution_count": 145,
   "id": "793c8b02-fc5d-4431-b1ed-3eac6dbc6ea0",
   "metadata": {},
   "outputs": [],
   "source": [
    "def random_k_reco(triplets, list_tracks, k):\n",
    "    users = triplets.user.unique()\n",
    "    reco = np.concatenate([random.sample(list(set(list_tracks) - set(triplets.loc[triplets.user == i, :].track_id)), k) for i in users])\n",
    "    return pd.DataFrame({'user' : [i for i in users for j in range(k)],'track_id' : reco})"
   ]
  },
  {
   "cell_type": "code",
   "execution_count": 262,
   "id": "4ce3b80c-0b61-422f-b790-4238af517d7f",
   "metadata": {},
   "outputs": [],
   "source": [
    "random.seed = 1234\n",
    "sample = random.sample(list(test1.user.unique()), 500)"
   ]
  },
  {
   "cell_type": "code",
   "execution_count": 263,
   "id": "248fd500-4b78-488a-be82-c7b16f7dbfdd",
   "metadata": {},
   "outputs": [],
   "source": [
    "df_apparent_sample = test1.loc[test1.user.isin(sample),: ]\n",
    "df_hidden_sample = test2.loc[test2.user.isin(sample),: ]"
   ]
  },
  {
   "cell_type": "code",
   "execution_count": 264,
   "id": "9ff45dc6-5f85-4a34-937e-d8c1b5620d38",
   "metadata": {},
   "outputs": [
    {
     "data": {
      "text/plain": [
       "500"
      ]
     },
     "execution_count": 264,
     "metadata": {},
     "output_type": "execute_result"
    }
   ],
   "source": [
    "len(df_hidden_sample.user.unique())"
   ]
  },
  {
   "cell_type": "code",
   "execution_count": 265,
   "id": "5e0b5c69-af1a-4ebd-ad27-44089d6be7d7",
   "metadata": {},
   "outputs": [],
   "source": [
    "reco = random_k_reco(df_apparent_sample, X.index, n_neighbors[3])"
   ]
  },
  {
   "cell_type": "code",
   "execution_count": 267,
   "id": "3c752354-a5ef-4a71-b6f1-33394fa25b66",
   "metadata": {},
   "outputs": [],
   "source": [
    "scores = scoring_in_out(df_hidden_sample, reco)"
   ]
  },
  {
   "cell_type": "code",
   "execution_count": 269,
   "id": "7e385df5-e222-49fa-9c68-7ca677c5992c",
   "metadata": {},
   "outputs": [
    {
     "data": {
      "text/plain": [
       "0    496\n",
       "1      4\n",
       "Name: reco_in, dtype: int64"
      ]
     },
     "execution_count": 269,
     "metadata": {},
     "output_type": "execute_result"
    }
   ],
   "source": [
    "scores.reco_in.value_counts()"
   ]
  },
  {
   "cell_type": "code",
   "execution_count": 171,
   "id": "c8cb03ac-ebc3-4e49-aac0-60e18b84aea3",
   "metadata": {},
   "outputs": [],
   "source": [
    "scores = scoring_in_out(df_hidden_sample, reco)\n",
    "scores['algo'] = 'random'\n",
    "scores['seed'] = 1234"
   ]
  },
  {
   "cell_type": "code",
   "execution_count": 173,
   "id": "5585e359-2143-4cdb-ad3f-b2e1a6b0e907",
   "metadata": {},
   "outputs": [],
   "source": [
    "results = wdf_users_summary_sorted.merge(scores, how = 'inner', on = ['user'])"
   ]
  },
  {
   "cell_type": "code",
   "execution_count": 261,
   "id": "e3326de2-a5d2-46a2-b741-6a3bf9b1f179",
   "metadata": {},
   "outputs": [
    {
     "data": {
      "text/plain": [
       "0    998\n",
       "1      2\n",
       "Name: reco_in, dtype: int64"
      ]
     },
     "execution_count": 261,
     "metadata": {},
     "output_type": "execute_result"
    }
   ],
   "source": [
    "results.reco_in.value_counts()"
   ]
  },
  {
   "cell_type": "code",
   "execution_count": 166,
   "id": "9156e12b-890f-4558-a1ca-64236ddbcf68",
   "metadata": {},
   "outputs": [],
   "source": [
    " results.to_csv('../data/reco_res.csv')"
   ]
  },
  {
   "cell_type": "markdown",
   "id": "d428c205-78d0-468b-a92b-a585bf79f586",
   "metadata": {},
   "source": [
    "## Work in progress"
   ]
  },
  {
   "cell_type": "code",
   "execution_count": 270,
   "id": "52cf9c55-d8cc-40ba-a5b1-a627b1fc32ea",
   "metadata": {},
   "outputs": [],
   "source": [
    "reco_kmbknn = pd.DataFrame(\n",
    "    {i : kmeans_based_knn(\n",
    "        listenings_history = df_apparent_sample.loc[df_apparent_sample.user == i],\n",
    "        X = X,\n",
    "        n_neighbors = n_neighbors[3],\n",
    "        random_state = 1234) for i in sample}\n",
    "    ).melt(var_name = 'user', value_name = 'track_id')"
   ]
  },
  {
   "cell_type": "code",
   "execution_count": 271,
   "id": "9d8b422e-8f6f-4450-bbb5-00f93858dba2",
   "metadata": {},
   "outputs": [],
   "source": [
    "scores = scoring_in_out(df_hidden_sample, reco_kmbknn)"
   ]
  },
  {
   "cell_type": "code",
   "execution_count": 272,
   "id": "54ba13a1-ae80-4ec8-856e-612150c00eed",
   "metadata": {},
   "outputs": [
    {
     "data": {
      "text/plain": [
       "0    495\n",
       "1      5\n",
       "Name: reco_in, dtype: int64"
      ]
     },
     "execution_count": 272,
     "metadata": {},
     "output_type": "execute_result"
    }
   ],
   "source": [
    "scores.reco_in.value_counts()\n"
   ]
  },
  {
   "cell_type": "code",
   "execution_count": 234,
   "id": "061ca1fc-af02-480a-8db1-cd38990be963",
   "metadata": {},
   "outputs": [
    {
     "data": {
      "text/html": [
       "<div>\n",
       "<style scoped>\n",
       "    .dataframe tbody tr th:only-of-type {\n",
       "        vertical-align: middle;\n",
       "    }\n",
       "\n",
       "    .dataframe tbody tr th {\n",
       "        vertical-align: top;\n",
       "    }\n",
       "\n",
       "    .dataframe thead th {\n",
       "        text-align: right;\n",
       "    }\n",
       "</style>\n",
       "<table border=\"1\" class=\"dataframe\">\n",
       "  <thead>\n",
       "    <tr style=\"text-align: right;\">\n",
       "      <th></th>\n",
       "      <th>user</th>\n",
       "      <th>n_hidden</th>\n",
       "      <th>n_reco</th>\n",
       "      <th>reco_in</th>\n",
       "      <th>reco_out</th>\n",
       "    </tr>\n",
       "  </thead>\n",
       "  <tbody>\n",
       "    <tr>\n",
       "      <th>0</th>\n",
       "      <td>db43a6fc4bd252b85938fc024f5691c46f11b475</td>\n",
       "      <td>100</td>\n",
       "      <td>100</td>\n",
       "      <td>100</td>\n",
       "      <td>0</td>\n",
       "    </tr>\n",
       "    <tr>\n",
       "      <th>1</th>\n",
       "      <td>d1d35f195219f8d4b7b73601d14119cde3407bf2</td>\n",
       "      <td>100</td>\n",
       "      <td>100</td>\n",
       "      <td>100</td>\n",
       "      <td>0</td>\n",
       "    </tr>\n",
       "    <tr>\n",
       "      <th>2</th>\n",
       "      <td>7c6e809a1d63849b45bc68b014370929b23a774b</td>\n",
       "      <td>100</td>\n",
       "      <td>100</td>\n",
       "      <td>100</td>\n",
       "      <td>0</td>\n",
       "    </tr>\n",
       "    <tr>\n",
       "      <th>3</th>\n",
       "      <td>b38fcb307c695261eb96d7b0e8ab1aaa8f6f3e38</td>\n",
       "      <td>100</td>\n",
       "      <td>100</td>\n",
       "      <td>100</td>\n",
       "      <td>0</td>\n",
       "    </tr>\n",
       "    <tr>\n",
       "      <th>4</th>\n",
       "      <td>2b1617c9753e283e0bd262e8c8fb2873fbfbd3a0</td>\n",
       "      <td>100</td>\n",
       "      <td>100</td>\n",
       "      <td>100</td>\n",
       "      <td>0</td>\n",
       "    </tr>\n",
       "    <tr>\n",
       "      <th>...</th>\n",
       "      <td>...</td>\n",
       "      <td>...</td>\n",
       "      <td>...</td>\n",
       "      <td>...</td>\n",
       "      <td>...</td>\n",
       "    </tr>\n",
       "    <tr>\n",
       "      <th>95</th>\n",
       "      <td>3e45cf7b26d97c63be6c5abc0cd135d1020aa52a</td>\n",
       "      <td>100</td>\n",
       "      <td>100</td>\n",
       "      <td>100</td>\n",
       "      <td>0</td>\n",
       "    </tr>\n",
       "    <tr>\n",
       "      <th>96</th>\n",
       "      <td>e07bfe0d565c58360251a7db6f28df14a32e1113</td>\n",
       "      <td>100</td>\n",
       "      <td>100</td>\n",
       "      <td>100</td>\n",
       "      <td>0</td>\n",
       "    </tr>\n",
       "    <tr>\n",
       "      <th>97</th>\n",
       "      <td>c4cd8da5275e778d2c9f2fe697369a8779eb39fc</td>\n",
       "      <td>100</td>\n",
       "      <td>100</td>\n",
       "      <td>100</td>\n",
       "      <td>0</td>\n",
       "    </tr>\n",
       "    <tr>\n",
       "      <th>98</th>\n",
       "      <td>813ad50b6c25731e25c530d381bc9dad2b31a6b1</td>\n",
       "      <td>100</td>\n",
       "      <td>100</td>\n",
       "      <td>100</td>\n",
       "      <td>0</td>\n",
       "    </tr>\n",
       "    <tr>\n",
       "      <th>99</th>\n",
       "      <td>99037c714c359eb8f48cd6f536c059d66382bc76</td>\n",
       "      <td>100</td>\n",
       "      <td>100</td>\n",
       "      <td>100</td>\n",
       "      <td>0</td>\n",
       "    </tr>\n",
       "  </tbody>\n",
       "</table>\n",
       "<p>100 rows × 5 columns</p>\n",
       "</div>"
      ],
      "text/plain": [
       "                                        user  n_hidden  n_reco  reco_in  \\\n",
       "0   db43a6fc4bd252b85938fc024f5691c46f11b475       100     100      100   \n",
       "1   d1d35f195219f8d4b7b73601d14119cde3407bf2       100     100      100   \n",
       "2   7c6e809a1d63849b45bc68b014370929b23a774b       100     100      100   \n",
       "3   b38fcb307c695261eb96d7b0e8ab1aaa8f6f3e38       100     100      100   \n",
       "4   2b1617c9753e283e0bd262e8c8fb2873fbfbd3a0       100     100      100   \n",
       "..                                       ...       ...     ...      ...   \n",
       "95  3e45cf7b26d97c63be6c5abc0cd135d1020aa52a       100     100      100   \n",
       "96  e07bfe0d565c58360251a7db6f28df14a32e1113       100     100      100   \n",
       "97  c4cd8da5275e778d2c9f2fe697369a8779eb39fc       100     100      100   \n",
       "98  813ad50b6c25731e25c530d381bc9dad2b31a6b1       100     100      100   \n",
       "99  99037c714c359eb8f48cd6f536c059d66382bc76       100     100      100   \n",
       "\n",
       "    reco_out  \n",
       "0          0  \n",
       "1          0  \n",
       "2          0  \n",
       "3          0  \n",
       "4          0  \n",
       "..       ...  \n",
       "95         0  \n",
       "96         0  \n",
       "97         0  \n",
       "98         0  \n",
       "99         0  \n",
       "\n",
       "[100 rows x 5 columns]"
      ]
     },
     "execution_count": 234,
     "metadata": {},
     "output_type": "execute_result"
    }
   ],
   "source": [
    "scores"
   ]
  }
 ],
 "metadata": {
  "kernelspec": {
   "display_name": "Python 3 (ipykernel)",
   "language": "python",
   "name": "python3"
  },
  "language_info": {
   "codemirror_mode": {
    "name": "ipython",
    "version": 3
   },
   "file_extension": ".py",
   "mimetype": "text/x-python",
   "name": "python",
   "nbconvert_exporter": "python",
   "pygments_lexer": "ipython3",
   "version": "3.10.9"
  }
 },
 "nbformat": 4,
 "nbformat_minor": 5
}
