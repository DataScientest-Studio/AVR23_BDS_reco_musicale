{
 "cells": [
  {
   "cell_type": "code",
   "execution_count": 1,
   "id": "b00890af-f961-432c-9285-68ce434fd0e8",
   "metadata": {},
   "outputs": [],
   "source": [
    "def user_filter(df, nlist_min = 1, nlist_max = None, ntracks_min = 1, ntracks_max = None):\n",
    "    \"\"\"\n",
    "    Take a dataframe describing the summary of users listening history and\n",
    "    select the users according to thresholds value (view parameters description).\n",
    "\n",
    "    Parameters:\n",
    "        df : a dataframe whose columns are\n",
    "            user : a the unique id of the user\n",
    "            \n",
    "            listening_count : the total number of listenings of the user\n",
    "            \n",
    "            track_count : the number of different tracks the users have listened\n",
    "\n",
    "        nlist_min : the minimum number of listenings allowed for a user.\n",
    "\n",
    "        nlist_max : the maximum number of listenings allowed for a user.\n",
    "        \n",
    "        ntracks_max : the minimum number of allowed for a user.\n",
    "        \n",
    "        ntracks_max : the maximum number of listenings allowed for a user.\n",
    "        \n",
    "\n",
    "    Return :\n",
    "        The list of users id selected according to the thresholds\n",
    "    \"\"\"\n",
    "    \n",
    "    if nlist_max is None:\n",
    "        nlist_max = max(df.listening_count)\n",
    "    \n",
    "    if ntracks_max is None:\n",
    "        ntracks_max = max(df.track_count)\n",
    "    \n",
    "    return df.loc[(df.listening_count >= nlist_min)&(df.listening_count <= nlist_max)&(df.track_count >= ntracks_min)&(df.track_count <= ntracks_max),:].user"
   ]
  }
 ],
 "metadata": {
  "kernelspec": {
   "display_name": "Python 3 (ipykernel)",
   "language": "python",
   "name": "python3"
  },
  "language_info": {
   "codemirror_mode": {
    "name": "ipython",
    "version": 3
   },
   "file_extension": ".py",
   "mimetype": "text/x-python",
   "name": "python",
   "nbconvert_exporter": "python",
   "pygments_lexer": "ipython3",
   "version": "3.10.9"
  }
 },
 "nbformat": 4,
 "nbformat_minor": 5
}
