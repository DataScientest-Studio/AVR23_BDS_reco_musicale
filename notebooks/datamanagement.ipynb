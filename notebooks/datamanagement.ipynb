{
 "cells": [
  {
   "cell_type": "code",
   "execution_count": 1,
   "id": "b00890af-f961-432c-9285-68ce434fd0e8",
   "metadata": {},
   "outputs": [],
   "source": [
    "import os\n",
    "from pathlib import Path\n",
    "import pandas as pd\n",
    "import matplotlib.pyplot as plt\n",
    "import seaborn as sns\n",
    "import numpy as np\n",
    "import ipynb\n",
    "from scipy.spatial import distance_matrix\n",
    "import random\n",
    "import sys as sys\n",
    "pd.options.mode.chained_assignment = None"
   ]
  },
  {
   "cell_type": "code",
   "execution_count": null,
   "id": "0669da45-990a-45df-978e-a60dc4b84af1",
   "metadata": {},
   "outputs": [],
   "source": [
    "def summarise_listening_history(triplets):\n",
    "    \"\"\"\n",
    "    Take a dataframe describing the summary of users listening history and\n",
    "    select the users according to thresholds value (view parameters description).\n",
    "\n",
    "    Parameters:\n",
    "        df (type : pd.DataFrame): a dataframe whose columns are\n",
    "        \n",
    "            user : a unique id of the user.\n",
    "            \n",
    "            track_id : the id of a track.\n",
    "            \n",
    "            listening_count : the number of times the user has listened to the track.\n",
    "            \n",
    "            ... : other columns describing the users, the tracks or the context of the interaction between the user and the track.\n",
    "\n",
    "    Return :\n",
    "        a dataframe corresponding to the summary of the users listening history whose columns are\n",
    "            user : a the unique id of the user\n",
    "            \n",
    "            listening_count : the total number of listenings of the user\n",
    "            \n",
    "            track_count : the number of different tracks the users have listened\n",
    "    \"\"\"\n",
    "    users_summary = triplets.groupby('user').agg({'listening_count' : sum, 'track_id' : len}).reset_index()\n",
    "    users_summary.columns = ['user', 'listening_count', 'track_count']\n",
    "    \n",
    "    return users_summary"
   ]
  },
  {
   "cell_type": "code",
   "execution_count": null,
   "id": "79ff5968-79ed-41cb-bb1b-20b962f7e06d",
   "metadata": {},
   "outputs": [],
   "source": [
    "def user_filter(df, nlist_min = 1, nlist_max = None, ntracks_min = 1, ntracks_max = None):\n",
    "    \"\"\"\n",
    "    Take a dataframe correspondng to the summary of the users listening history and\n",
    "    select the users according to thresholds value (view parameters description).\n",
    "\n",
    "    Parameters:\n",
    "        df : a dataframe whose columns are\n",
    "            user : a the unique id of the user\n",
    "            \n",
    "            listening_count : the total number of listenings of the user\n",
    "            \n",
    "            track_count : the number of different tracks the users have listened\n",
    "\n",
    "        nlist_min : the minimum number of listenings allowed for a user.\n",
    "\n",
    "        nlist_max : the maximum number of listenings allowed for a user.\n",
    "        \n",
    "        ntracks_max : the minimum number of allowed for a user.\n",
    "        \n",
    "        ntracks_max : the maximum number of listenings allowed for a user.\n",
    "        \n",
    "\n",
    "    Return :\n",
    "        The list of users id selected according to the thresholds\n",
    "    \"\"\"\n",
    "    \n",
    "    if nlist_max is None:\n",
    "        nlist_max = max(df.listening_count)\n",
    "    \n",
    "    if ntracks_max is None:\n",
    "        ntracks_max = max(df.track_count)\n",
    "    \n",
    "    return df.loc[(df.listening_count >= nlist_min)&(df.listening_count <= nlist_max)&(df.track_count >= ntracks_min)&(df.track_count <= ntracks_max),:].user"
   ]
  }
 ],
 "metadata": {
  "kernelspec": {
   "display_name": "Python 3 (ipykernel)",
   "language": "python",
   "name": "python3"
  },
  "language_info": {
   "codemirror_mode": {
    "name": "ipython",
    "version": 3
   },
   "file_extension": ".py",
   "mimetype": "text/x-python",
   "name": "python",
   "nbconvert_exporter": "python",
   "pygments_lexer": "ipython3",
   "version": "3.10.9"
  }
 },
 "nbformat": 4,
 "nbformat_minor": 5
}
