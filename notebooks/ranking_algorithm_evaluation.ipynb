{
 "cells": [
  {
   "cell_type": "code",
   "execution_count": 1,
   "id": "42fcfcdf-4624-45ab-9166-85b6d1c12f02",
   "metadata": {},
   "outputs": [],
   "source": [
    "import os\n",
    "from pathlib import Path\n",
    "import pandas as pd\n",
    "import matplotlib.pyplot as plt\n",
    "import seaborn as sns\n",
    "import numpy as np\n",
    "import ipynb\n",
    "from scipy.spatial import distance_matrix\n",
    "import random\n",
    "import sys as sys\n",
    "import time\n",
    "import re\n",
    "import pickle\n",
    "import math"
   ]
  },
  {
   "cell_type": "code",
   "execution_count": 2,
   "id": "7df20d85-1ba6-4436-9b79-132838085536",
   "metadata": {},
   "outputs": [],
   "source": [
    "from ipynb.fs.full.user_playlist_utils import user_filter, summarise_listening_history\n",
    "from ipynb.fs.full.evaluation_workflow import split_history\n",
    "from ipynb.fs.full.ranking_algorithms_utils import get_listenings_history_partition, kmeans_based_ranking, rank_by_artist_filter\n",
    "\n",
    "\n",
    "from sklearn.preprocessing import StandardScaler\n",
    "from sklearn.cluster import KMeans, AgglomerativeClustering\n",
    "from sklearn.metrics import silhouette_score, auc\n",
    "\n",
    "from scipy.spatial import distance_matrix"
   ]
  },
  {
   "cell_type": "markdown",
   "id": "00671c82-7e4a-4dc0-a802-a7d23ab9091d",
   "metadata": {},
   "source": [
    "## Data loading"
   ]
  },
  {
   "cell_type": "code",
   "execution_count": 3,
   "id": "f47a7b3a-9857-4a34-a817-f1d17b0b777f",
   "metadata": {},
   "outputs": [],
   "source": [
    "# Read the data\n",
    "CUR_DIR = os.path.abspath('')\n",
    "\n",
    "DATA_DIR = Path(CUR_DIR).parent / \"data\"/\"millionsong\"\n",
    "FIG_PATH = Path(CUR_DIR).parent/'figures'\n",
    "\n",
    "FILE_PATH = DATA_DIR/'triplets_metadata_spotify.csv'\n",
    "df = pd.read_csv(FILE_PATH, index_col = 0)"
   ]
  },
  {
   "cell_type": "code",
   "execution_count": 4,
   "id": "6d5ba0dd-09ac-43f5-8f4b-73f5b5713f77",
   "metadata": {},
   "outputs": [],
   "source": [
    "df['track_id'] = df.song_name + ' - ' + df.artist_name"
   ]
  },
  {
   "cell_type": "code",
   "execution_count": 5,
   "id": "e0a7a9cb-04de-4bfa-81bf-c9baa5884989",
   "metadata": {},
   "outputs": [
    {
     "data": {
      "text/plain": [
       "4982520"
      ]
     },
     "execution_count": 5,
     "metadata": {},
     "output_type": "execute_result"
    }
   ],
   "source": [
    "len(df)"
   ]
  },
  {
   "cell_type": "markdown",
   "id": "8ca09348-93d9-4dc8-8f55-f663f3bd82e1",
   "metadata": {},
   "source": [
    "## Data management"
   ]
  },
  {
   "cell_type": "code",
   "execution_count": 6,
   "id": "5cad7033-a7e0-4002-893a-c27a3c9b24ad",
   "metadata": {},
   "outputs": [
    {
     "data": {
      "text/plain": [
       "4973744"
      ]
     },
     "execution_count": 6,
     "metadata": {},
     "output_type": "execute_result"
    }
   ],
   "source": [
    "## keep first occurence of a given song/artist instance to reduce redundant observations\n",
    "\n",
    "df = df.drop_duplicates(subset = ['user','track_id'], keep='first')\n",
    "len(df)"
   ]
  },
  {
   "cell_type": "code",
   "execution_count": 7,
   "id": "81e85c1f-8081-48ae-83d0-e532f23bb014",
   "metadata": {},
   "outputs": [
    {
     "data": {
      "text/plain": [
       "Index(['user', 'listening_count', 'song_name', 'release', 'artist_name',\n",
       "       'duration', 'artist_familiarity', 'artist_hotttnesss', 'year',\n",
       "       'shs_perf', 'shs_work', 'explicit', 'danceability', 'energy', 'key',\n",
       "       'loudness', 'mode', 'speechiness', 'acousticness', 'instrumentalness',\n",
       "       'liveness', 'valence', 'tempo', 'time_signature', 'release_date',\n",
       "       'track_id'],\n",
       "      dtype='object')"
      ]
     },
     "execution_count": 7,
     "metadata": {},
     "output_type": "execute_result"
    }
   ],
   "source": [
    "df.columns"
   ]
  },
  {
   "cell_type": "markdown",
   "id": "969ae3d3-58d4-456e-bd7b-2363dd7f9dee",
   "metadata": {},
   "source": [
    "### Users filtering"
   ]
  },
  {
   "cell_type": "code",
   "execution_count": 8,
   "id": "ba7fc363-d5a1-4caf-a251-5ebc44e21066",
   "metadata": {},
   "outputs": [],
   "source": [
    "users_summary = summarise_listening_history(df)"
   ]
  },
  {
   "cell_type": "code",
   "execution_count": 9,
   "id": "21912a83-01b0-4e22-8249-3ea1a425f2bf",
   "metadata": {},
   "outputs": [],
   "source": [
    "ids = user_filter(users_summary, nlist_min = 1, nlist_max = 500, ntracks_min = 5)"
   ]
  },
  {
   "cell_type": "code",
   "execution_count": 10,
   "id": "63a86e86-b87a-427f-8feb-a0e98983d9d3",
   "metadata": {},
   "outputs": [],
   "source": [
    "wdf = df.loc[df['user'].isin(ids),:]\n",
    "#wdf_users_summary = users_summary.loc[users_summary['user'].isin(ids),:]\n",
    "wdf_users_summary = users_summary.loc[users_summary['user'].isin(ids)]"
   ]
  },
  {
   "cell_type": "code",
   "execution_count": 11,
   "id": "475a2f26-c2a0-477e-a8f6-de1290108f65",
   "metadata": {},
   "outputs": [
    {
     "name": "stdout",
     "output_type": "stream",
     "text": [
      "Nb of ligns in df  : 4973744\n",
      "Nb of ligns in wdf : 3856377\n"
     ]
    }
   ],
   "source": [
    "print('Nb of ligns in df  :', len(df))\n",
    "print('Nb of ligns in wdf :', len(wdf))"
   ]
  },
  {
   "cell_type": "code",
   "execution_count": 12,
   "id": "deb77346-8912-4381-9833-27c95e82da3e",
   "metadata": {},
   "outputs": [
    {
     "data": {
      "text/plain": [
       "327081"
      ]
     },
     "execution_count": 12,
     "metadata": {},
     "output_type": "execute_result"
    }
   ],
   "source": [
    "len(wdf_users_summary)"
   ]
  },
  {
   "cell_type": "markdown",
   "id": "d445f993-5e37-4bda-b4d8-c6ef3775377d",
   "metadata": {},
   "source": [
    "### Songs management"
   ]
  },
  {
   "cell_type": "code",
   "execution_count": 13,
   "id": "a8d132da-dc18-49c3-a7b1-ed8524f50da6",
   "metadata": {},
   "outputs": [],
   "source": [
    "# Get the songs quantitative features\n",
    "\n",
    "tracks_feats = df.drop(['user', 'listening_count'],axis = 1)\n",
    "tracks_feats['track_id'] = df.song_name + ' - ' + df.artist_name\n",
    "tracks_quanti_feats = tracks_feats.drop(['song_name', 'release', 'artist_name',\n",
    "        'artist_familiarity', 'artist_hotttnesss', 'year', 'key',\n",
    "       'shs_perf', 'shs_work', 'explicit', 'mode', 'time_signature', 'release_date', 'duration', 'tempo'], axis = 1).drop_duplicates()"
   ]
  },
  {
   "cell_type": "code",
   "execution_count": 14,
   "id": "694cfb27-5e87-4963-8bc6-e892ace7f5a8",
   "metadata": {},
   "outputs": [],
   "source": [
    "# Normalize the songs quantitative feats\n",
    "X = tracks_quanti_feats.drop(['track_id'], axis = 1)\n",
    "X.index = tracks_quanti_feats.track_id\n",
    "\n",
    "scaler = StandardScaler()\n",
    "X[X.columns] = pd.DataFrame(scaler.fit_transform(X), index=X.index)\n"
   ]
  },
  {
   "cell_type": "code",
   "execution_count": 15,
   "id": "9310a9e5-972c-4cc1-b802-2e731af747f3",
   "metadata": {},
   "outputs": [
    {
     "data": {
      "text/html": [
       "<div>\n",
       "<style scoped>\n",
       "    .dataframe tbody tr th:only-of-type {\n",
       "        vertical-align: middle;\n",
       "    }\n",
       "\n",
       "    .dataframe tbody tr th {\n",
       "        vertical-align: top;\n",
       "    }\n",
       "\n",
       "    .dataframe thead th {\n",
       "        text-align: right;\n",
       "    }\n",
       "</style>\n",
       "<table border=\"1\" class=\"dataframe\">\n",
       "  <thead>\n",
       "    <tr style=\"text-align: right;\">\n",
       "      <th></th>\n",
       "      <th>danceability</th>\n",
       "      <th>energy</th>\n",
       "      <th>loudness</th>\n",
       "      <th>speechiness</th>\n",
       "      <th>acousticness</th>\n",
       "      <th>instrumentalness</th>\n",
       "      <th>liveness</th>\n",
       "      <th>valence</th>\n",
       "    </tr>\n",
       "    <tr>\n",
       "      <th>track_id</th>\n",
       "      <th></th>\n",
       "      <th></th>\n",
       "      <th></th>\n",
       "      <th></th>\n",
       "      <th></th>\n",
       "      <th></th>\n",
       "      <th></th>\n",
       "      <th></th>\n",
       "    </tr>\n",
       "  </thead>\n",
       "  <tbody>\n",
       "    <tr>\n",
       "      <th>Stronger - Kanye West</th>\n",
       "      <td>0.667073</td>\n",
       "      <td>0.244482</td>\n",
       "      <td>0.234685</td>\n",
       "      <td>0.971940</td>\n",
       "      <td>-0.825165</td>\n",
       "      <td>-0.623569</td>\n",
       "      <td>1.661334</td>\n",
       "      <td>0.055057</td>\n",
       "    </tr>\n",
       "    <tr>\n",
       "      <th>Stacked Actors - Foo Fighters</th>\n",
       "      <td>-0.048441</td>\n",
       "      <td>1.150060</td>\n",
       "      <td>0.862181</td>\n",
       "      <td>-0.294877</td>\n",
       "      <td>-0.842482</td>\n",
       "      <td>-0.620462</td>\n",
       "      <td>0.105924</td>\n",
       "      <td>0.728483</td>\n",
       "    </tr>\n",
       "    <tr>\n",
       "      <th>Clarity - John Mayer</th>\n",
       "      <td>0.868312</td>\n",
       "      <td>0.283685</td>\n",
       "      <td>1.220943</td>\n",
       "      <td>-0.411504</td>\n",
       "      <td>-0.316887</td>\n",
       "      <td>-0.526080</td>\n",
       "      <td>-0.197701</td>\n",
       "      <td>0.039664</td>\n",
       "    </tr>\n",
       "    <tr>\n",
       "      <th>Gimme Stitches - Foo Fighters</th>\n",
       "      <td>0.180747</td>\n",
       "      <td>1.244146</td>\n",
       "      <td>1.071496</td>\n",
       "      <td>-0.108876</td>\n",
       "      <td>-0.843348</td>\n",
       "      <td>-0.614856</td>\n",
       "      <td>0.260399</td>\n",
       "      <td>0.197438</td>\n",
       "    </tr>\n",
       "    <tr>\n",
       "      <th>Breakout - Foo Fighters</th>\n",
       "      <td>-0.501227</td>\n",
       "      <td>1.165741</td>\n",
       "      <td>1.072171</td>\n",
       "      <td>-0.272758</td>\n",
       "      <td>-0.848599</td>\n",
       "      <td>-0.614704</td>\n",
       "      <td>-0.480018</td>\n",
       "      <td>-0.206617</td>\n",
       "    </tr>\n",
       "    <tr>\n",
       "      <th>...</th>\n",
       "      <td>...</td>\n",
       "      <td>...</td>\n",
       "      <td>...</td>\n",
       "      <td>...</td>\n",
       "      <td>...</td>\n",
       "      <td>...</td>\n",
       "      <td>...</td>\n",
       "      <td>...</td>\n",
       "    </tr>\n",
       "    <tr>\n",
       "      <th>Dime - Jerry Rivera</th>\n",
       "      <td>0.991291</td>\n",
       "      <td>-0.429800</td>\n",
       "      <td>-0.219056</td>\n",
       "      <td>-0.392401</td>\n",
       "      <td>1.575591</td>\n",
       "      <td>-0.623569</td>\n",
       "      <td>0.015369</td>\n",
       "      <td>1.247983</td>\n",
       "    </tr>\n",
       "    <tr>\n",
       "      <th>The Long Conversation - Pierre de Reeder</th>\n",
       "      <td>-0.395018</td>\n",
       "      <td>-1.370660</td>\n",
       "      <td>-0.236161</td>\n",
       "      <td>-0.523105</td>\n",
       "      <td>1.705467</td>\n",
       "      <td>-0.520901</td>\n",
       "      <td>0.825034</td>\n",
       "      <td>-1.007032</td>\n",
       "    </tr>\n",
       "    <tr>\n",
       "      <th>That's the Way That It Was - Pierre de Reeder</th>\n",
       "      <td>0.583224</td>\n",
       "      <td>0.228801</td>\n",
       "      <td>0.703957</td>\n",
       "      <td>-0.425580</td>\n",
       "      <td>-0.754445</td>\n",
       "      <td>-0.623329</td>\n",
       "      <td>-0.543939</td>\n",
       "      <td>-0.679940</td>\n",
       "    </tr>\n",
       "    <tr>\n",
       "      <th>I'll Close My Eyes - Mike Jones</th>\n",
       "      <td>-0.283219</td>\n",
       "      <td>-2.126092</td>\n",
       "      <td>-3.399071</td>\n",
       "      <td>-0.445688</td>\n",
       "      <td>2.187863</td>\n",
       "      <td>2.115258</td>\n",
       "      <td>3.328605</td>\n",
       "      <td>-0.899284</td>\n",
       "    </tr>\n",
       "    <tr>\n",
       "      <th>Rowena - Loudon Wainwright III</th>\n",
       "      <td>-0.037261</td>\n",
       "      <td>-2.202929</td>\n",
       "      <td>-2.410788</td>\n",
       "      <td>-0.411504</td>\n",
       "      <td>1.949758</td>\n",
       "      <td>-0.623390</td>\n",
       "      <td>-0.426751</td>\n",
       "      <td>-1.272555</td>\n",
       "    </tr>\n",
       "  </tbody>\n",
       "</table>\n",
       "<p>27607 rows × 8 columns</p>\n",
       "</div>"
      ],
      "text/plain": [
       "                                               danceability    energy  \\\n",
       "track_id                                                                \n",
       "Stronger - Kanye West                              0.667073  0.244482   \n",
       "Stacked Actors - Foo Fighters                     -0.048441  1.150060   \n",
       "Clarity - John Mayer                               0.868312  0.283685   \n",
       "Gimme Stitches - Foo Fighters                      0.180747  1.244146   \n",
       "Breakout - Foo Fighters                           -0.501227  1.165741   \n",
       "...                                                     ...       ...   \n",
       "Dime - Jerry Rivera                                0.991291 -0.429800   \n",
       "The Long Conversation - Pierre de Reeder          -0.395018 -1.370660   \n",
       "That's the Way That It Was - Pierre de Reeder      0.583224  0.228801   \n",
       "I'll Close My Eyes - Mike Jones                   -0.283219 -2.126092   \n",
       "Rowena - Loudon Wainwright III                    -0.037261 -2.202929   \n",
       "\n",
       "                                               loudness  speechiness  \\\n",
       "track_id                                                               \n",
       "Stronger - Kanye West                          0.234685     0.971940   \n",
       "Stacked Actors - Foo Fighters                  0.862181    -0.294877   \n",
       "Clarity - John Mayer                           1.220943    -0.411504   \n",
       "Gimme Stitches - Foo Fighters                  1.071496    -0.108876   \n",
       "Breakout - Foo Fighters                        1.072171    -0.272758   \n",
       "...                                                 ...          ...   \n",
       "Dime - Jerry Rivera                           -0.219056    -0.392401   \n",
       "The Long Conversation - Pierre de Reeder      -0.236161    -0.523105   \n",
       "That's the Way That It Was - Pierre de Reeder  0.703957    -0.425580   \n",
       "I'll Close My Eyes - Mike Jones               -3.399071    -0.445688   \n",
       "Rowena - Loudon Wainwright III                -2.410788    -0.411504   \n",
       "\n",
       "                                               acousticness  instrumentalness  \\\n",
       "track_id                                                                        \n",
       "Stronger - Kanye West                             -0.825165         -0.623569   \n",
       "Stacked Actors - Foo Fighters                     -0.842482         -0.620462   \n",
       "Clarity - John Mayer                              -0.316887         -0.526080   \n",
       "Gimme Stitches - Foo Fighters                     -0.843348         -0.614856   \n",
       "Breakout - Foo Fighters                           -0.848599         -0.614704   \n",
       "...                                                     ...               ...   \n",
       "Dime - Jerry Rivera                                1.575591         -0.623569   \n",
       "The Long Conversation - Pierre de Reeder           1.705467         -0.520901   \n",
       "That's the Way That It Was - Pierre de Reeder     -0.754445         -0.623329   \n",
       "I'll Close My Eyes - Mike Jones                    2.187863          2.115258   \n",
       "Rowena - Loudon Wainwright III                     1.949758         -0.623390   \n",
       "\n",
       "                                               liveness   valence  \n",
       "track_id                                                           \n",
       "Stronger - Kanye West                          1.661334  0.055057  \n",
       "Stacked Actors - Foo Fighters                  0.105924  0.728483  \n",
       "Clarity - John Mayer                          -0.197701  0.039664  \n",
       "Gimme Stitches - Foo Fighters                  0.260399  0.197438  \n",
       "Breakout - Foo Fighters                       -0.480018 -0.206617  \n",
       "...                                                 ...       ...  \n",
       "Dime - Jerry Rivera                            0.015369  1.247983  \n",
       "The Long Conversation - Pierre de Reeder       0.825034 -1.007032  \n",
       "That's the Way That It Was - Pierre de Reeder -0.543939 -0.679940  \n",
       "I'll Close My Eyes - Mike Jones                3.328605 -0.899284  \n",
       "Rowena - Loudon Wainwright III                -0.426751 -1.272555  \n",
       "\n",
       "[27607 rows x 8 columns]"
      ]
     },
     "execution_count": 15,
     "metadata": {},
     "output_type": "execute_result"
    }
   ],
   "source": [
    "X"
   ]
  },
  {
   "cell_type": "code",
   "execution_count": 16,
   "id": "72427c7b-9312-46d1-a9b8-65980e57b651",
   "metadata": {},
   "outputs": [],
   "source": [
    "wdf_sorted = wdf.sort_values('user')\n",
    "wdf_users_summary_sorted = wdf_users_summary.sort_values('user')"
   ]
  },
  {
   "cell_type": "code",
   "execution_count": 17,
   "id": "2b1a27ec-e0d8-4bdb-af46-2fea047457a5",
   "metadata": {},
   "outputs": [],
   "source": [
    "# Set the seed\n",
    "seed = 1234\n",
    "random.seed(seed)"
   ]
  },
  {
   "cell_type": "code",
   "execution_count": 18,
   "id": "496bd2e4-75aa-438e-96e6-e46869405ed9",
   "metadata": {},
   "outputs": [],
   "source": [
    "# # Try 1; Triplets non sorted by users, without users_summary\n",
    "# st = time.time()\n",
    "# test1, test2 = split_history(wdf, 0.2, sort = True, random_state = seed)\n",
    "# et = time.time()\n",
    "# elapsed_time = et - st\n",
    "# print('Execution time 1:', elapsed_time, 'seconds')"
   ]
  },
  {
   "cell_type": "code",
   "execution_count": 19,
   "id": "f9a9b339-00a6-4285-88a0-1ed4c4ba0f3a",
   "metadata": {},
   "outputs": [],
   "source": [
    "# # Try 2: Triplets non sorted by users, with users_summary\n",
    "# st = time.time()\n",
    "# test1, test2 = split_history(wdf, 0.2, sort = True, users_summary = wdf_users_summary, random_state = seed)\n",
    "# et = time.time()\n",
    "# elapsed_time = et - st\n",
    "# print('Execution time 2:', elapsed_time, 'seconds')"
   ]
  },
  {
   "cell_type": "code",
   "execution_count": 20,
   "id": "ab72a254-8cb0-409d-b8e3-0550c3860cae",
   "metadata": {},
   "outputs": [
    {
     "name": "stdout",
     "output_type": "stream",
     "text": [
      "\n",
      "Computing the number of tracks listened by the users ... Done\n",
      "Defining hidden tracks ids ... Done\n",
      "Defining apparent tracks ids ... Done\n",
      "Splitting the listening history ...Execution time 3: 9.840064764022827 seconds\n"
     ]
    }
   ],
   "source": [
    "# Try 3: Triplets sorted by users, without users_summary\n",
    "st = time.time()\n",
    "test1, test2 = split_history(wdf_sorted, 0.2, sort = False, random_state = seed)\n",
    "et = time.time()\n",
    "elapsed_time = et - st\n",
    "print('Execution time 3:', elapsed_time, 'seconds')"
   ]
  },
  {
   "cell_type": "code",
   "execution_count": 21,
   "id": "c20779fc-2f02-4773-9e3c-7ead26b2f653",
   "metadata": {},
   "outputs": [],
   "source": [
    "# # Try 4: Triplets sorted by users, with users_summary\n",
    "# st = time.time()\n",
    "# test1, test2 = split_history(wdf_sorted, 0.2, sort = False, users_summary = wdf_users_summary_sorted, random_state = seed)\n",
    "# et = time.time()\n",
    "# elapsed_time = et - st\n",
    "# print('\\n')\n",
    "# print(f'Execution time 4: {round(elapsed_time,3)}seconds')"
   ]
  },
  {
   "cell_type": "code",
   "execution_count": 22,
   "id": "16a08a7b-8554-4df2-bf9c-fc2c9efe0560",
   "metadata": {},
   "outputs": [],
   "source": [
    "RES_FOLDNAME = 'results/'+str(seed)\n",
    "RES_FOLD = DATA_DIR/RES_FOLDNAME\n",
    "# os.mkdir(RES_FOLD)\n"
   ]
  },
  {
   "cell_type": "code",
   "execution_count": 23,
   "id": "487eaa97-9cb8-4493-97e3-928b78658abe",
   "metadata": {},
   "outputs": [],
   "source": [
    "## Save the apparent and hidden playlist\n",
    "\n",
    "data_set = {\n",
    "        'apparent' : test1,\n",
    "        'hidden' : test2\n",
    "    }\n",
    "with open(RES_FOLD/'data_set.pickle', 'wb') as fp:\n",
    "    pickle.dump(data_set, fp)"
   ]
  },
  {
   "cell_type": "code",
   "execution_count": 24,
   "id": "588b8638-eb30-44e0-9a58-b346cf5e03bd",
   "metadata": {},
   "outputs": [],
   "source": [
    "with open(RES_FOLD/'data_set.pickle', 'rb') as fp:\n",
    "    data_set = pickle.load(fp)"
   ]
  },
  {
   "cell_type": "markdown",
   "id": "1feb6b92-ba34-404a-8942-bd1fea33ae19",
   "metadata": {},
   "source": [
    "### Initialization of the ranking saving files"
   ]
  },
  {
   "cell_type": "code",
   "execution_count": 25,
   "id": "396fa90c-0602-49b1-8433-aabf0e5fcfaf",
   "metadata": {},
   "outputs": [],
   "source": [
    "\n",
    "random_ranking = {}\n",
    "avg_ranking = {}\n",
    "# wavg_ranking = {}\n",
    "kmbr_ranking = {}\n",
    "avg_af_ranking = {}\n",
    "kmbr_af_ranking = {}\n",
    "\n",
    "with open(RES_FOLD/'random_ranking.pickle', 'wb') as fp:\n",
    "    pickle.dump(random_ranking, fp)\n",
    "\n",
    "with open(RES_FOLD/'avg_ranking.pickle', 'wb') as fp:\n",
    "    pickle.dump(avg_ranking, fp)\n",
    "\n",
    "# with open(RES_FOLD/'wavg_ranking.pickle', 'wb') as fp:\n",
    "#     pickle.dump(wavg_ranking, fp)\n",
    "\n",
    "with open(RES_FOLD/'kmbr_ranking.pickle', 'wb') as fp:\n",
    "    pickle.dump(kmbr_ranking, fp)\n",
    "\n",
    "with open(RES_FOLD/'avg_af_ranking.pickle', 'wb') as fp:\n",
    "    pickle.dump(avg_af_ranking, fp)\n",
    "\n",
    "with open(RES_FOLD/'kmbr_af_ranking.pickle', 'wb') as fp:\n",
    "    pickle.dump(kmbr_af_ranking, fp)\n"
   ]
  },
  {
   "cell_type": "code",
   "execution_count": 26,
   "id": "fa114a38-6079-421e-b1a4-4bc485368594",
   "metadata": {},
   "outputs": [],
   "source": [
    "# Initialization of the algorithm performance evaluation files\n",
    "random_perf = {\n",
    "             'tpr' : {},\n",
    "             'fpr' : {}\n",
    "        }\n",
    "avg_perf = {\n",
    "            'tpr' : {},\n",
    "            'fpr' : {}\n",
    "        }\n",
    "# wavg_perf = {\n",
    "#             'tpr' : {},\n",
    "#             'fpr' : {}\n",
    "#         }\n",
    "kmbr_perf = {\n",
    "            'tpr' : {},\n",
    "            'fpr' : {}\n",
    "        }\n",
    "avg_af_perf = {\n",
    "            'tpr' : {},\n",
    "            'fpr' : {}\n",
    "        }\n",
    "  \n",
    "kmbr_af_perf = {\n",
    "            'tpr' : {},\n",
    "            'fpr' : {}\n",
    "        }\n",
    "\n",
    "with open(RES_FOLD/'random_perf.pickle', 'wb') as fp:\n",
    "    pickle.dump(random_perf, fp)\n",
    "\n",
    "with open(RES_FOLD/'avg_perf.pickle', 'wb') as fp:\n",
    "    pickle.dump(avg_perf, fp)\n",
    "\n",
    "# with open(RES_FOLD/'wavg_perf.pickle', 'wb') as fp:\n",
    "#     pickle.dump(wavg_perf, fp)\n",
    "\n",
    "with open(RES_FOLD/'kmbr_perf.pickle', 'wb') as fp:\n",
    "    pickle.dump(kmbr_perf, fp)\n",
    "\n",
    "with open(RES_FOLD/'avg_af_perf.pickle', 'wb') as fp:\n",
    "    pickle.dump(avg_af_perf, fp)\n",
    "\n",
    "with open(RES_FOLD/'kmbr_af_perf.pickle', 'wb') as fp:\n",
    "    pickle.dump(kmbr_af_perf, fp)"
   ]
  },
  {
   "cell_type": "markdown",
   "id": "795fae17-cd1e-438d-be04-1c418fb19d73",
   "metadata": {},
   "source": [
    "### Loading the previous saved results"
   ]
  },
  {
   "cell_type": "code",
   "execution_count": 27,
   "id": "7dc1d317-80f9-4429-a29b-4d6d84f4037f",
   "metadata": {},
   "outputs": [],
   "source": [
    "with open(RES_FOLD/'random_ranking.pickle', 'rb') as fp:\n",
    "    random_ranking = pickle.load(fp)\n",
    "\n",
    "with open(RES_FOLD/'avg_ranking.pickle', 'rb') as fp:\n",
    "    avg_ranking = pickle.load(fp)\n",
    "\n",
    "# with open(RES_FOLD/'wavg_ranking.pickle', 'rb') as fp:\n",
    "#     wavg_ranking = pickle.load(fp)    \n",
    "\n",
    "with open(RES_FOLD/'kmbr_ranking.pickle', 'rb') as fp:\n",
    "    kmbr_ranking = pickle.load(fp)\n",
    "\n",
    "with open(RES_FOLD/'avg_af_ranking.pickle', 'rb') as fp:\n",
    "    avg_af_ranking = pickle.load(fp)\n",
    "\n",
    "with open(RES_FOLD/'kmbr_af_ranking.pickle', 'rb') as fp:\n",
    "    kmbr_af_ranking = pickle.load(fp)\n"
   ]
  },
  {
   "cell_type": "code",
   "execution_count": 28,
   "id": "8d83144f-0818-4f01-8e31-e73dcbc9d0a9",
   "metadata": {},
   "outputs": [],
   "source": [
    "with open(RES_FOLD/'random_perf.pickle', 'rb') as fp:\n",
    "    random_perf = pickle.load(fp)\n",
    "\n",
    "with open(RES_FOLD/'avg_perf.pickle', 'rb') as fp:\n",
    "    avg_perf = pickle.load(fp)\n",
    "\n",
    "# with open(RES_FOLD/'wavg_perf.pickle', 'rb') as fp:\n",
    "#     wavg_perf = pickle.load(fp)\n",
    "\n",
    "with open(RES_FOLD/'kmbr_perf.pickle', 'rb') as fp:\n",
    "    kmbr_perf = pickle.load(fp)\n",
    "\n",
    "with open(RES_FOLD/'avg_af_perf.pickle', 'rb') as fp:\n",
    "    avg_af_perf = pickle.load(fp)\n",
    "\n",
    "with open(RES_FOLD/'kmbr_af_perf.pickle', 'rb') as fp:\n",
    "    kmbr_af_perf = pickle.load(fp)"
   ]
  },
  {
   "cell_type": "markdown",
   "id": "e4415826-b194-446f-8193-271eea3d6191",
   "metadata": {},
   "source": [
    "### Hyper-parameters tuning"
   ]
  },
  {
   "cell_type": "code",
   "execution_count": 270,
   "id": "5b924f31-199b-41f4-994c-df368430d3fb",
   "metadata": {},
   "outputs": [],
   "source": [
    "# Define the desired sample\n",
    "#5-25, 26-50, 51-75, 76,100, 101-inf\n",
    "\n",
    "n_tracks_min = 101\n",
    "n_tracks_max = math.inf"
   ]
  },
  {
   "cell_type": "code",
   "execution_count": 271,
   "id": "36a4b742-3333-49bb-985a-c73f0a58e368",
   "metadata": {},
   "outputs": [],
   "source": [
    "ech = user_filter(wdf_users_summary, ntracks_min = n_tracks_min, ntracks_max = n_tracks_max)\n",
    "sample = ech.sample(min(200,len(ech)), random_state = 1234)"
   ]
  },
  {
   "cell_type": "code",
   "execution_count": 272,
   "id": "3e9f4f4b-f970-4944-91cb-744cfff5d7e6",
   "metadata": {},
   "outputs": [
    {
     "data": {
      "text/plain": [
       "174"
      ]
     },
     "execution_count": 272,
     "metadata": {},
     "output_type": "execute_result"
    }
   ],
   "source": [
    "len(sample)"
   ]
  },
  {
   "cell_type": "markdown",
   "id": "e531da34-01e2-4caa-b131-7d317bf56c56",
   "metadata": {},
   "source": [
    "### Get the sample apparent and hidden playlists"
   ]
  },
  {
   "cell_type": "code",
   "execution_count": 273,
   "id": "248fd500-4b78-488a-be82-c7b16f7dbfdd",
   "metadata": {},
   "outputs": [],
   "source": [
    "df_apparent_sample = data_set['apparent'].loc[data_set['apparent'].user.isin(sample),: ]\n",
    "df_hidden_sample =  data_set['hidden'].loc[data_set['hidden'].user.isin(sample),: ]"
   ]
  },
  {
   "cell_type": "code",
   "execution_count": 274,
   "id": "a33492f4-3a1a-43bc-95a9-07c4f0a18d0a",
   "metadata": {},
   "outputs": [],
   "source": [
    "dic_hidden = { u : df_hidden_sample[['user','track_id']].loc[df_hidden_sample.user == u] for u in sample}\n",
    "dic_apparent = { u : df_apparent_sample.loc[df_apparent_sample.user == u] for u in sample}"
   ]
  },
  {
   "cell_type": "markdown",
   "id": "c980e530-adec-4bc6-9254-6becc3715b91",
   "metadata": {},
   "source": [
    "### Ranking"
   ]
  },
  {
   "cell_type": "code",
   "execution_count": 275,
   "id": "ca46fba9-45f2-4932-98a7-41b73330b4ee",
   "metadata": {},
   "outputs": [],
   "source": [
    "# Random ranking\n",
    "dic_hidden_random_ranks = {u : random.sample(list(np.arange(1,len(X)-len(dic_hidden[u]))),len(dic_hidden[u])) for u in sample}"
   ]
  },
  {
   "cell_type": "code",
   "execution_count": 276,
   "id": "4e63a73b-468b-46ff-80a4-5f18a782a719",
   "metadata": {},
   "outputs": [],
   "source": [
    "random_ranking.update(dic_hidden_random_ranks)"
   ]
  },
  {
   "cell_type": "code",
   "execution_count": 277,
   "id": "470f1fc6-12b2-4230-868f-a7f7ba6eba6d",
   "metadata": {},
   "outputs": [],
   "source": [
    "# Average-based ranking\n",
    "dic_avg_ranks = {u : kmeans_based_ranking(\n",
    "    listenings_history = df_apparent_sample.loc[df_apparent_sample.user == u],\n",
    "    X = X,\n",
    "    n_clusters = 1,\n",
    "    random_state = seed) for u in sample}"
   ]
  },
  {
   "cell_type": "code",
   "execution_count": 278,
   "id": "c6fd9bb8-8788-468d-8a2f-6bcdc9c123ac",
   "metadata": {},
   "outputs": [],
   "source": [
    "avg_ranking.update(dic_avg_ranks)"
   ]
  },
  {
   "cell_type": "code",
   "execution_count": 279,
   "metadata": {},
   "outputs": [],
   "source": [
    "# Weighted-Average-based ranking                                     \n",
    "# dic_wavg_ranks = {u : kmeans_based_ranking(\n",
    "#     listenings_history = df_apparent_sample.loc[df_apparent_sample.user == u],\n",
    "#     X = X,\n",
    "#     weighted = True,\n",
    "#     n_clusters = 1,\n",
    "#     random_state = seed) for u in sample}"
   ]
  },
  {
   "cell_type": "code",
   "execution_count": 280,
   "metadata": {},
   "outputs": [],
   "source": [
    "# wavg_ranking.update(dic_wavg_ranks)"
   ]
  },
  {
   "cell_type": "code",
   "execution_count": 281,
   "id": "7c69eed9-c4e4-4a82-b03a-dbb64411f087",
   "metadata": {},
   "outputs": [],
   "source": [
    "# Kmeans-based ranking\n",
    "dic_kmbr_ranks = {u : kmeans_based_ranking(\n",
    "    listenings_history = df_apparent_sample.loc[df_apparent_sample.user == u],\n",
    "    X = X,\n",
    "    random_state = seed) for u in sample}"
   ]
  },
  {
   "cell_type": "code",
   "execution_count": 282,
   "id": "34d13c63-1db6-46c1-acdc-1d6983bfd371",
   "metadata": {},
   "outputs": [],
   "source": [
    "kmbr_ranking.update(dic_kmbr_ranks)"
   ]
  },
  {
   "cell_type": "code",
   "execution_count": 283,
   "id": "20e3734f-1539-4adb-91ef-4716eadcd990",
   "metadata": {},
   "outputs": [],
   "source": [
    "# Average-based artist-filtered ranking\n",
    "dic_artist_filtered = {u : rank_by_artist_filter(initial_ranking = dic_avg_ranks[u].reset_index(), apparent_history = dic_apparent[u]) for u in sample}"
   ]
  },
  {
   "cell_type": "code",
   "execution_count": 284,
   "id": "7900e140-8ffc-419c-9cc1-c39cdca95fa2",
   "metadata": {},
   "outputs": [],
   "source": [
    "avg_af_ranking.update(dic_artist_filtered)"
   ]
  },
  {
   "cell_type": "code",
   "execution_count": 285,
   "id": "7fccb6e4-e453-4f17-bccd-6b3e5b831eaf",
   "metadata": {},
   "outputs": [],
   "source": [
    "# Kmeans-based artist-filtered ranking \n",
    "dic_kmbr_af = {u : rank_by_artist_filter(initial_ranking = dic_kmbr_ranks[u].reset_index(), apparent_history = dic_apparent[u]) for u in sample}"
   ]
  },
  {
   "cell_type": "code",
   "execution_count": 286,
   "id": "3dd01155-dc6f-42e3-bf6a-68773abf8a09",
   "metadata": {},
   "outputs": [],
   "source": [
    "kmbr_af_ranking.update(dic_kmbr_af)"
   ]
  },
  {
   "cell_type": "code",
   "execution_count": 287,
   "id": "51b20f36-fa3c-49c9-89b4-c1bbe12d89b1",
   "metadata": {},
   "outputs": [],
   "source": [
    "# Saving the ranking\n",
    "# with open(RES_FOLD/'random_ranking.pickle', 'wb') as fp:\n",
    "#     pickle.dump(random_ranking, fp)\n",
    "\n",
    "# with open(RES_FOLD/'avg_ranking.pickle', 'wb') as fp:\n",
    "#     pickle.dump(avg_ranking, fp)\n",
    "\n",
    "# with open(RES_FOLD/'kmbr_ranking.pickle', 'wb') as fp:\n",
    "#     pickle.dump(kmbr_ranking, fp)\n",
    "\n",
    "# with open(RES_FOLD/'avg_af_ranking.pickle', 'wb') as fp:\n",
    "#     pickle.dump(avg_af_ranking, fp)\n",
    "\n",
    "# with open(RES_FOLD/'kmbr_af_ranking.pickle', 'wb') as fp:\n",
    "#     pickle.dump(kmbr_af_ranking, fp)\n"
   ]
  },
  {
   "cell_type": "markdown",
   "id": "a0ed3620-3fe8-49ca-94c8-5d5e922bd673",
   "metadata": {},
   "source": [
    "### Evaluation of the algorithm"
   ]
  },
  {
   "cell_type": "code",
   "execution_count": 304,
   "id": "ad91a8b5-5ef8-4ced-acbd-b121bbeb5ab7",
   "metadata": {},
   "outputs": [],
   "source": [
    "# Cutoff thresholds grid\n",
    "threshold_grid = np.arange(1, len(X)+9, 10)\n",
    "# Conservative evaluation unique ranks vs DENSE_RANK\n",
    "c_eval = False"
   ]
  },
  {
   "cell_type": "code",
   "execution_count": 305,
   "id": "0196735b-5035-40e9-8260-b1268331ccca",
   "metadata": {},
   "outputs": [],
   "source": [
    "# Random ranking\n",
    "\n",
    "rand_tpr = {u : [sum(dic_hidden_random_ranks[u] <= i)/len(dic_hidden_random_ranks[u]) for i in threshold_grid] for u in sample}\n",
    "rand_fpr = {u : [(i-sum(dic_hidden_random_ranks[u] <= i))/(len(X)-len(dic_hidden_random_ranks[u])) for i in threshold_grid] for u in sample}\n"
   ]
  },
  {
   "cell_type": "code",
   "execution_count": 306,
   "id": "70e2097c-88a2-4d6f-9af5-d69346a83c6a",
   "metadata": {},
   "outputs": [],
   "source": [
    "# Average-based ranking\n",
    "\n",
    "dic_hidden_avg_ranks = {u : list(dic_avg_ranks[u].loc[list(dic_hidden[u].track_id)].min(axis = 1)) for u in sample}\n",
    "avg_tpr = {u :[sum(dic_hidden_avg_ranks[u] <= i)/len(dic_hidden_avg_ranks[u]) for i in threshold_grid ] for u in sample}\n",
    "avg_fpr = {u :[(i-sum(dic_hidden_avg_ranks[u] <= i))/(len(X)-len(dic_hidden_avg_ranks[u])) for i in threshold_grid] for u in sample}"
   ]
  },
  {
   "cell_type": "code",
   "execution_count": 307,
   "metadata": {},
   "outputs": [],
   "source": [
    "# Weighted-Average-based ranking\n",
    "\n",
    "# dic_hidden_wavg_ranks = {u : list(dic_wavg_ranks[u].loc[list(dic_hidden[u].track_id)].min(axis = 1)) for u in sample}\n",
    "# wavg_tpr = {u :[sum(dic_hidden_wavg_ranks[u] <= i)/len(dic_hidden_wavg_ranks[u]) for i in threshold_grid ] for u in sample}\n",
    "# wavg_fpr = {u :[(i-sum(dic_hidden_wavg_ranks[u] <= i))/(len(X)-len(dic_hidden_wavg_ranks[u])) for i in threshold_grid] for u in sample}"
   ]
  },
  {
   "cell_type": "code",
   "execution_count": 308,
   "id": "7b54b2e4-87e0-47c5-a1ec-63ed90f7b43d",
   "metadata": {},
   "outputs": [],
   "source": [
    "# Kmeans-based ranking\n",
    "if c_eval:\n",
    "    dic_hidden_kmbr_ranks = {u : list(dic_kmbr_ranks[u].loc[list(dic_hidden[u].track_id)].best_unique_centro_rank) for u in sample}\n",
    "else:\n",
    "    dic_hidden_kmbr_ranks = {u : list(dic_kmbr_ranks[u].loc[list(dic_hidden[u].track_id)].iloc[:, :-1].min(axis = 1)) for u in sample}\n",
    "kmbr_tpr =  {u :[sum(dic_hidden_kmbr_ranks[u] <= i)/len(dic_hidden_kmbr_ranks[u]) for i in threshold_grid] for u in sample}\n",
    "kmbr_fpr =  {u :[(i-sum(dic_hidden_kmbr_ranks[u] <= i))/(len(X)-len(dic_hidden_kmbr_ranks[u])) for i in threshold_grid] for u in sample}"
   ]
  },
  {
   "cell_type": "code",
   "execution_count": 309,
   "id": "acb63df0-5e6d-485c-ac26-dd880fd5a1af",
   "metadata": {},
   "outputs": [],
   "source": [
    "# Average-based artist-filtered ranking\n",
    "if c_eval:\n",
    "    dic_hidden_artist_filtered_ranks = {u : list(dic_artist_filtered[u].loc[list(dic_hidden[u].track_id)].best_unique_rank) for u in sample}\n",
    "else:\n",
    "    dic_hidden_artist_filtered_ranks = {u : list(dic_artist_filtered[u].loc[list(dic_hidden[u].track_id)].best_rank) for u in sample}\n",
    "\n",
    "af_tpr = {u :[sum(dic_hidden_artist_filtered_ranks[u] <= i)/len(dic_hidden_artist_filtered_ranks[u]) for i in threshold_grid] for u in sample}\n",
    "af_fpr = {u :[(i-sum(dic_hidden_artist_filtered_ranks[u] <= i))/(len(X)-len(dic_hidden_artist_filtered_ranks[u])) for i in threshold_grid] for u in sample}"
   ]
  },
  {
   "cell_type": "code",
   "execution_count": 310,
   "id": "f249e587-59c9-43a4-a3c4-10c4fafbd5f0",
   "metadata": {},
   "outputs": [],
   "source": [
    "# Kmeans-based artist-filtered ranking \n",
    "if c_eval:\n",
    "    dic_hidden_kmbr_af_ranks = {u : list(dic_kmbr_af[u].loc[list(dic_hidden[u].track_id)].best_unique_rank) for u in sample}\n",
    "else:\n",
    "    dic_hidden_kmbr_af_ranks = {u : list(dic_kmbr_af[u].loc[list(dic_hidden[u].track_id)].best_rank) for u in sample}\n",
    "kmbr_af_tpr = {u :[sum(dic_hidden_kmbr_af_ranks[u] <= i)/len(dic_hidden_kmbr_af_ranks[u]) for i in threshold_grid] for u in sample}\n",
    "kmbr_af_fpr = {u :[(i-sum(dic_hidden_kmbr_af_ranks[u] <= i))/(len(X)-len(dic_hidden_kmbr_af_ranks[u])) for i in threshold_grid] for u in sample}"
   ]
  },
  {
   "cell_type": "code",
   "execution_count": 311,
   "id": "a2e6c027-1e29-41c7-a3a0-0ef86437760c",
   "metadata": {},
   "outputs": [],
   "source": [
    "# Updating the results\n",
    "\n",
    "random_perf['tpr'].update(rand_tpr)\n",
    "random_perf['fpr'].update(rand_fpr)\n",
    "\n",
    "avg_perf['tpr'].update(avg_tpr)\n",
    "avg_perf['fpr'].update(avg_fpr)\n",
    "\n",
    "kmbr_perf['tpr'].update(kmbr_tpr)\n",
    "kmbr_perf['fpr'].update(kmbr_fpr)\n",
    "\n",
    "avg_af_perf['tpr'].update(af_tpr)\n",
    "avg_af_perf['fpr'].update(af_fpr)\n",
    "\n",
    "kmbr_af_perf['tpr'].update(kmbr_af_tpr)\n",
    "kmbr_af_perf['fpr'].update(kmbr_af_fpr)"
   ]
  },
  {
   "cell_type": "code",
   "execution_count": 312,
   "id": "c3e6abb6-4e1f-47d8-b95d-61e8d93970fd",
   "metadata": {},
   "outputs": [],
   "source": [
    "# with open(RES_FOLD/'random_perf.pickle', 'wb') as fp:\n",
    "#     pickle.dump(random_perf, fp)\n",
    "\n",
    "# with open(RES_FOLD/'avg_perf.pickle', 'wb') as fp:\n",
    "#     pickle.dump(avg_perf, fp)\n",
    "\n",
    "# with open(RES_FOLD/'kmbr_perf.pickle', 'wb') as fp:\n",
    "#     pickle.dump(kmbr_perf, fp)\n",
    "\n",
    "# with open(RES_FOLD/'avg_af_perf.pickle', 'wb') as fp:\n",
    "#     pickle.dump(avg_af_perf, fp)\n",
    "\n",
    "# with open(RES_FOLD/'kmbr_af_perf.pickle', 'wb') as fp:\n",
    "#     pickle.dump(kmbr_af_perf, fp)"
   ]
  },
  {
   "cell_type": "markdown",
   "id": "176a0dd7-c4ab-4cf7-96ff-72c354b16d06",
   "metadata": {},
   "source": [
    "## Results"
   ]
  },
  {
   "cell_type": "markdown",
   "id": "3ae2bab3-e707-4dc1-b757-e170ec8a4209",
   "metadata": {},
   "source": [
    "### ROC Curve and AUC"
   ]
  },
  {
   "cell_type": "code",
   "execution_count": 313,
   "id": "1761cff3-0627-4b08-ac8b-3421e31a094f",
   "metadata": {},
   "outputs": [],
   "source": [
    "# Define the sub-sample of users\n",
    "\n",
    "sample = set(user_filter(wdf_users_summary, ntracks_min = n_tracks_min, ntracks_max = n_tracks_max)).intersection({u for u in random_perf['fpr'].keys()})"
   ]
  },
  {
   "cell_type": "code",
   "execution_count": 314,
   "id": "fe79b1b9-b823-46e4-96a0-03f61757270b",
   "metadata": {},
   "outputs": [
    {
     "data": {
      "text/plain": [
       "174"
      ]
     },
     "execution_count": 314,
     "metadata": {},
     "output_type": "execute_result"
    }
   ],
   "source": [
    "len(sample)"
   ]
  },
  {
   "cell_type": "code",
   "execution_count": 315,
   "id": "c90ab0d1-847e-47bf-9ec3-364440add085",
   "metadata": {},
   "outputs": [],
   "source": [
    "from scipy.stats import sem\n",
    "\n",
    "# Random ranking\n",
    "rand_tpr_avg = np.array([random_perf['tpr'][u] for u in sample]).mean(axis = 0)\n",
    "rand_fpr_avg = np.array([random_perf['fpr'][u] for u in sample]).mean(axis = 0)\n",
    "\n",
    "rand_auc = auc(rand_fpr_avg, rand_tpr_avg)\n",
    "\n",
    "rand_tpr_sem = sem(np.array([random_perf['tpr'][u] for u in sample]), ddof=1)\n",
    "rand_fpr_sem = sem(np.array([random_perf['fpr'][u] for u in sample]), ddof=1)\n",
    "\n",
    "rand_tpr_sem_p = rand_tpr_avg + rand_tpr_sem\n",
    "rand_fpr_sem_p = rand_fpr_avg + rand_fpr_sem\n",
    "\n",
    "rand_tpr_sem_m = rand_tpr_avg - rand_tpr_sem\n",
    "rand_fpr_sem_m = rand_fpr_avg - rand_fpr_sem\n",
    "\n",
    "\n",
    "# Average-based ranking\n",
    "avg_tpr_avg = np.array([avg_perf['tpr'][u] for u in sample]).mean(axis = 0)\n",
    "avg_fpr_avg = np.array([avg_perf['fpr'][u] for u in sample]).mean(axis = 0)\n",
    "\n",
    "avg_auc = auc(avg_fpr_avg, avg_tpr_avg)\n",
    "\n",
    "avg_tpr_sem = sem(np.array([avg_perf['tpr'][u] for u in sample]))\n",
    "avg_fpr_sem = sem(np.array([avg_perf['fpr'][u] for u in sample]))\n",
    "\n",
    "avg_tpr_sem_p = avg_tpr_avg + avg_tpr_sem \n",
    "avg_fpr_sem_p = avg_fpr_avg + avg_fpr_sem \n",
    "\n",
    "avg_tpr_sem_m = avg_tpr_avg - avg_tpr_sem \n",
    "avg_fpr_sem_p = avg_fpr_avg - avg_fpr_sem \n",
    "\n",
    "\n",
    "# Weighted-Average-based ranking\n",
    "# wavg_tpr_avg = np.array([wavg_perf['tpr'][u] for u in sample]).mean(axis = 0)\n",
    "# wavg_fpr_avg = np.array([wavg_perf['fpr'][u] for u in sample]).mean(axis = 0)\n",
    "\n",
    "# wavg_auc = auc(wavg_fpr_avg, avg_tpr_avg)\n",
    "\n",
    "\n",
    "# Kmeans-based ranking\n",
    "kmbr_tpr_avg = np.array([kmbr_perf['tpr'][u] for u in sample]).mean(axis = 0)\n",
    "kmbr_fpr_avg = np.array([kmbr_perf['fpr'][u] for u in sample]).mean(axis = 0)\n",
    "\n",
    "kmbr_auc = auc(kmbr_fpr_avg, kmbr_tpr_avg)\n",
    "\n",
    "kmbr_tpr_sem = sem(np.array([kmbr_perf['tpr'][u] for u in sample]))\n",
    "kmbr_fpr_sem = sem(np.array([kmbr_perf['fpr'][u] for u in sample]))\n",
    "\n",
    "kmbr_tpr_sem_p = kmbr_tpr_avg + kmbr_tpr_sem\n",
    "kmbr_fpr_sem_p = kmbr_fpr_avg + kmbr_fpr_sem\n",
    "\n",
    "kmbr_tpr_sem_m = kmbr_tpr_avg - kmbr_tpr_sem\n",
    "kmbr_fpr_sem_m = kmbr_fpr_avg - kmbr_fpr_sem\n",
    "\n",
    "# Average-based artist-filtered ranking\n",
    "avg_af_tpr_avg = np.array([avg_af_perf['tpr'][u] for u in sample]).mean(axis = 0)\n",
    "avg_af_fpr_avg = np.array([avg_af_perf['fpr'][u] for u in sample]).mean(axis = 0)\n",
    "\n",
    "avg_af_auc = auc(avg_af_fpr_avg, avg_af_tpr_avg)\n",
    "\n",
    "avg_af_tpr_sem = sem(np.array([avg_af_perf['tpr'][u] for u in sample]))\n",
    "avg_af_fpr_sem = sem(np.array([avg_af_perf['fpr'][u] for u in sample]))\n",
    "\n",
    "avg_af_tpr_sem_p = avg_af_tpr_avg + avg_af_tpr_sem\n",
    "avg_af_fpr_sem_p = avg_af_tpr_avg - avg_af_tpr_sem\n",
    "\n",
    "avg_af_tpr_sem_m = avg_af_tpr_avg - avg_af_tpr_sem\n",
    "avg_af_fpr_sem_m = avg_af_fpr_avg - avg_af_fpr_sem\n",
    "\n",
    "# Kmeans-based artist-filtered ranking\n",
    "kmbr_af_tpr_avg = np.array([kmbr_af_perf['tpr'][u] for u in sample]).mean(axis = 0)\n",
    "kmbr_af_fpr_avg = np.array([kmbr_af_perf['fpr'][u] for u in sample]).mean(axis = 0)\n",
    "\n",
    "kmbr_af_auc = auc(kmbr_af_fpr_avg, kmbr_af_tpr_avg)\n",
    "\n",
    "kmbr_af_tpr_sem = sem(np.array([kmbr_af_perf['tpr'][u] for u in sample]))\n",
    "kmbr_af_fpr_sem = sem(np.array([kmbr_af_perf['fpr'][u] for u in sample]))\n",
    "\n",
    "kmbr_af_tpr_sem_p = kmbr_af_tpr_avg + kmbr_af_tpr_sem\n",
    "kmbr_af_fpr_sem_p = kmbr_af_fpr_avg + kmbr_af_fpr_sem\n",
    "\n",
    "kmbr_af_tpr_sem_m = kmbr_af_tpr_avg - kmbr_af_tpr_sem\n",
    "kmbr_af_fpr_sem_m = kmbr_af_fpr_avg - kmbr_af_fpr_sem\n"
   ]
  },
  {
   "cell_type": "code",
   "execution_count": 316,
   "id": "12d49b4e-59bd-489c-91c6-ae9a2dcaeb68",
   "metadata": {},
   "outputs": [
    {
     "data": {
      "text/plain": [
       "(array([1333, 1336, 1339, ..., 2697, 2698, 2699], dtype=int64),)"
      ]
     },
     "execution_count": 316,
     "metadata": {},
     "output_type": "execute_result"
    }
   ],
   "source": [
    "np.where(kmbr_tpr_avg > avg_af_tpr_avg)"
   ]
  },
  {
   "cell_type": "markdown",
   "id": "193bd23a-b9a2-4b95-9247-b7a01589b2d3",
   "metadata": {},
   "source": [
    "### Plots"
   ]
  },
  {
   "cell_type": "code",
   "execution_count": 317,
   "id": "4979af6e-1a05-45be-b73f-f6209265fbaf",
   "metadata": {},
   "outputs": [],
   "source": [
    "FIG_PATH = Path(CUR_DIR).parent/f\"figures/modelisation/evaluation/{seed}\""
   ]
  },
  {
   "cell_type": "code",
   "execution_count": 318,
   "metadata": {},
   "outputs": [],
   "source": [
    "def get_threshold_values(x, y: np.ndarray, th=0.8):\n",
    "    i = np.where(y >= th)[0][0]\n",
    "    return x[i], y[i]\n",
    "    \n",
    "\n",
    "conditions = [(rand_fpr_avg, rand_tpr_avg),\n",
    "              (avg_fpr_avg, avg_tpr_avg),\n",
    "              (kmbr_fpr_avg, kmbr_tpr_avg),\n",
    "              (avg_af_fpr_avg, avg_af_tpr_avg),\n",
    "               (kmbr_af_fpr_avg, kmbr_af_tpr_avg)\n",
    "            ]\n",
    "\n",
    "x_vertical_vals = []\n",
    "y_horizontal_vals = []\n",
    "for cond in conditions:\n",
    "    x, y = get_threshold_values(cond[0], cond[1])\n",
    "    x_vertical_vals.append(x)\n",
    "    y_horizontal_vals.append(y)\n",
    "\n"
   ]
  },
  {
   "cell_type": "code",
   "execution_count": 319,
   "id": "3c752354-a5ef-4a71-b6f1-33394fa25b66",
   "metadata": {},
   "outputs": [
    {
     "data": {
      "image/png": "[encoded data removed]",
      "text/plain": [
       "<Figure size 500x500 with 1 Axes>"
      ]
     },
     "metadata": {},
     "output_type": "display_data"
    }
   ],
   "source": [
    "# https://stackoverflow.com/questions/70067122/how-to-draw-vertical-lines-that-one-end-matchs-the-curve-in-matplotlib\n",
    "\n",
    "# x_ticks = [0, .4, 1.0]\n",
    "x_ticks = [0, 1.0]\n",
    "x_ticks.extend(x_vertical_vals)\n",
    "x_ticks.sort()\n",
    "if c_eval:\n",
    "    evalstr = 'unique_rank'\n",
    "else:\n",
    "    evalstr = 'identical_rank'\n",
    "\n",
    "\n",
    "fig, ax = plt.subplots(figsize = (5,5)) \n",
    "ax.plot(rand_fpr_avg, rand_tpr_avg, label = f'Random reco. (AUC: {round(rand_auc,3)})')\n",
    "ax.fill_between(rand_fpr_avg, rand_tpr_avg + rand_tpr_sem, rand_tpr_avg - rand_tpr_sem, alpha=0.2)\n",
    "\n",
    "ax.vlines(x_vertical_vals, 0, 0.8, alpha= 0.4, color = 'red', ls='--')\n",
    "ax.hlines(xmin = -0.1, xmax = 0.8, y = 0.8, alpha= 0.4, color = 'red', ls='--')\n",
    "\n",
    "ax.plot(avg_fpr_avg, avg_tpr_avg, label = f'Avg-b reco. (AUC: {round(avg_auc,3)})')\n",
    "ax.fill_between(avg_fpr_avg, avg_tpr_avg + avg_tpr_sem, avg_tpr_avg - avg_tpr_sem, alpha=0.2)\n",
    "\n",
    "# ax.plot(wavg_fpr_avg, wavg_tpr_avg, label = f'WAvg-b reco. (AUC: {round(wavg_auc,3)})', color='saddlebrown')\n",
    "\n",
    "ax.plot(kmbr_fpr_avg, kmbr_tpr_avg, label = f'Km-b reco. (AUC: {round(kmbr_auc,3)})')\n",
    "ax.fill_between(kmbr_fpr_avg, kmbr_tpr_avg + kmbr_tpr_sem, kmbr_tpr_avg - kmbr_tpr_sem, alpha=0.2)\n",
    "\n",
    "ax.plot(avg_af_fpr_avg, avg_af_tpr_avg, label = f'Avg-b-af reco. (AUC: {round(avg_af_auc,3)})')\n",
    "ax.fill_between(avg_af_fpr_avg, avg_af_tpr_avg + avg_af_tpr_sem, avg_af_tpr_avg - avg_af_tpr_sem, alpha=0.2)\n",
    "\n",
    "ax.plot(kmbr_af_fpr_avg, kmbr_af_tpr_avg, label = f'Km-b-af reco.(AUC: {round(kmbr_af_auc,3)})')\n",
    "ax.fill_between(kmbr_af_fpr_avg, kmbr_af_tpr_avg + kmbr_af_tpr_sem, kmbr_af_tpr_avg - kmbr_af_tpr_sem, alpha=0.2)\n",
    "\n",
    "ax.axis(\"square\")\n",
    "ax.set_xticks(x_ticks)\n",
    "ax.tick_params(axis = 'x', rotation = 90)\n",
    "plt.xlabel(\"False Positive Rate\")\n",
    "plt.ylabel(\"True Positive Rate\")\n",
    "plt.title(f\"ROC curves ({n_tracks_min}<=Nb. of tracks<= {n_tracks_max})\")\n",
    "plt.xlim(-0.1,1.05)\n",
    "plt.ylim(0,1.05)\n",
    "\n",
    "plt.legend()\n",
    "plt.savefig(FIG_PATH/f'{evalstr}/ROC_{n_tracks_min}_{n_tracks_max}_{evalstr}.jpg', bbox_inches='tight')\n",
    "plt.show()\n"
   ]
  },
  {
   "cell_type": "code",
   "execution_count": 260,
   "id": "dae491ae-b82b-40db-af09-81abb08352fc",
   "metadata": {},
   "outputs": [],
   "source": [
    "rand_user_auc = pd.DataFrame({u : auc(random_perf['fpr'][u], random_perf['tpr'][u]) for u in random_perf['tpr'].keys()},index = ['1'])\\\n",
    "    .melt(var_name = 'user', value_name = 'auc')\\\n",
    "    .merge(wdf_users_summary, on = ['user'])\n",
    "\n",
    "avg_user_auc = pd.DataFrame({u : auc(avg_perf['fpr'][u], avg_perf['tpr'][u]) for u in avg_perf['tpr'].keys()},index = ['1'])\\\n",
    "    .melt(var_name = 'user', value_name = 'auc')\\\n",
    "    .merge(wdf_users_summary, on = ['user'])\n",
    "\n",
    "# wavg_user_auc = pd.DataFrame({u : auc(wavg_perf['fpr'][u], wavg_perf['tpr'][u]) for u in wavg_perf['tpr'].keys()},index = ['1'])\\\n",
    "    # .melt(var_name = 'user', value_name = 'auc')\\\n",
    "    # .merge(wdf_users_summary, on = ['user'])\n",
    "\n",
    "kmbr_user_auc = pd.DataFrame({u : auc(kmbr_perf['fpr'][u], kmbr_perf['tpr'][u]) for u in kmbr_perf['tpr'].keys()},index = ['1'])\\\n",
    "    .melt(var_name = 'user', value_name = 'auc')\\\n",
    "    .merge(wdf_users_summary, on = ['user'])\n",
    "\n",
    "avg_af_user_auc = pd.DataFrame({u : auc(avg_af_perf['fpr'][u], avg_af_perf['tpr'][u]) for u in avg_af_perf['tpr'].keys()},index = ['1'])\\\n",
    "    .melt(var_name = 'user', value_name = 'auc')\\\n",
    "    .merge(wdf_users_summary, on = ['user'])\n",
    "\n",
    "kmbr_af_user_auc = pd.DataFrame({u : auc(kmbr_af_perf['fpr'][u], kmbr_af_perf['tpr'][u]) for u in kmbr_af_perf['tpr'].keys()},index = ['1'])\\\n",
    "    .melt(var_name = 'user', value_name = 'auc')\\\n",
    "    .merge(wdf_users_summary, on = ['user'])"
   ]
  },
  {
   "cell_type": "code",
   "execution_count": 261,
   "id": "9f6ecfcf-0ee0-4aec-935d-9f968b207958",
   "metadata": {},
   "outputs": [],
   "source": [
    "rand_user_auc['n_tracks'] = pd.cut(rand_user_auc['track_count'], bins = [0,5,10,15, 20, 25, 30, 40, 50, math.inf])\n",
    "avg_user_auc['n_tracks'] = pd.cut(avg_user_auc['track_count'], bins = [0,5,10,15, 20, 25, 30, 40, 50,math.inf])\n",
    "# wavg_user_auc['n_tracks'] = pd.cut(wavg_user_auc['track_count'], bins = [0,5,10,15, 20, 25, 30, 40, 50,math.inf])\n",
    "kmbr_user_auc['n_tracks'] = pd.cut(kmbr_user_auc['track_count'], bins = [0,5,10,15, 20, 25, 30, 40, 50,math.inf])\n",
    "avg_af_user_auc['n_tracks'] = pd.cut(avg_af_user_auc['track_count'], bins =[0,5,10,15, 20, 25, 30, 40, 50,math.inf])\n",
    "kmbr_af_user_auc['n_tracks'] = pd.cut(kmbr_af_user_auc['track_count'], bins = [0,5,10,15, 20, 25, 30, 40, 50,math.inf])\n"
   ]
  },
  {
   "cell_type": "code",
   "execution_count": 262,
   "id": "9511e46b-39ab-419d-ac9e-e586b170c3c9",
   "metadata": {},
   "outputs": [],
   "source": [
    "rand_user_auc['method'] = 'rand'\n",
    "avg_user_auc['method'] = 'avg-b'\n",
    "# wavg_user_auc['method'] = 'wavg-b'\n",
    "kmbr_user_auc['method'] = 'kmbr-b' \n",
    "avg_af_user_auc['method'] = 'avg-b af'\n",
    "kmbr_af_user_auc['method'] = 'kmb-b af'"
   ]
  },
  {
   "cell_type": "code",
   "execution_count": 263,
   "id": "2853083c-4976-4c54-8b2f-e8f1da670d11",
   "metadata": {},
   "outputs": [],
   "source": [
    "# user_auc = pd.concat([rand_user_auc, avg_user_auc, wavg_user_auc, kmbr_user_auc, avg_af_user_auc, kmbr_af_user_auc])\n",
    "user_auc = pd.concat([rand_user_auc, avg_user_auc, kmbr_user_auc, avg_af_user_auc, kmbr_af_user_auc])"
   ]
  },
  {
   "cell_type": "code",
   "execution_count": 264,
   "id": "dc263d93-348b-432e-9971-c6e43ad04631",
   "metadata": {},
   "outputs": [
    {
     "data": {
      "image/png": "[encoded data removed]",
      "text/plain": [
       "<Figure size 631.25x500 with 1 Axes>"
      ]
     },
     "metadata": {},
     "output_type": "display_data"
    }
   ],
   "source": [
    "sns.catplot(y = 'auc', x = 'method', data = user_auc, hue = 'n_tracks', kind = 'box');\n",
    "# plt.scatter(avg_user_auc.track_count, avg_user_auc.auc, label = f'Random reco.')\n",
    "# plt.scatter(kmbr_user_auc.track_count, kmbr_user_auc.auc, label = f'Random reco.')\n",
    "# plt.scatter(avg_af_user_auc.track_count, avg_af_user_auc.auc, label = f'Random reco.')\n",
    "# plt.scatter(kmbr_af_user_auc.track_count, kmbr_af_user_auc.auc, label = f'Random reco.')\n"
   ]
  },
  {
   "cell_type": "code",
   "execution_count": 70,
   "id": "319cca82-9a07-4dd1-85e4-31a3350ead73",
   "metadata": {},
   "outputs": [
    {
     "data": {
      "text/html": [
       "<div>\n",
       "<style scoped>\n",
       "    .dataframe tbody tr th:only-of-type {\n",
       "        vertical-align: middle;\n",
       "    }\n",
       "\n",
       "    .dataframe tbody tr th {\n",
       "        vertical-align: top;\n",
       "    }\n",
       "\n",
       "    .dataframe thead th {\n",
       "        text-align: right;\n",
       "    }\n",
       "</style>\n",
       "<table border=\"1\" class=\"dataframe\">\n",
       "  <thead>\n",
       "    <tr style=\"text-align: right;\">\n",
       "      <th></th>\n",
       "      <th>artist_name</th>\n",
       "      <th>track_id</th>\n",
       "      <th>0</th>\n",
       "      <th>1</th>\n",
       "      <th>min_centroids</th>\n",
       "      <th>artist_rank</th>\n",
       "      <th>best_rank</th>\n",
       "    </tr>\n",
       "    <tr>\n",
       "      <th>track_id</th>\n",
       "      <th></th>\n",
       "      <th></th>\n",
       "      <th></th>\n",
       "      <th></th>\n",
       "      <th></th>\n",
       "      <th></th>\n",
       "      <th></th>\n",
       "    </tr>\n",
       "  </thead>\n",
       "  <tbody>\n",
       "    <tr>\n",
       "      <th>Banana Co - Radiohead</th>\n",
       "      <td>Radiohead</td>\n",
       "      <td>Banana Co - Radiohead</td>\n",
       "      <td>11503.0</td>\n",
       "      <td>287.0</td>\n",
       "      <td>287.0</td>\n",
       "      <td>1.0</td>\n",
       "      <td>1.0</td>\n",
       "    </tr>\n",
       "    <tr>\n",
       "      <th>Karma Police - Radiohead</th>\n",
       "      <td>Radiohead</td>\n",
       "      <td>Karma Police - Radiohead</td>\n",
       "      <td>6738.0</td>\n",
       "      <td>428.0</td>\n",
       "      <td>428.0</td>\n",
       "      <td>2.0</td>\n",
       "      <td>2.0</td>\n",
       "    </tr>\n",
       "    <tr>\n",
       "      <th>Talk Show Host - Radiohead</th>\n",
       "      <td>Radiohead</td>\n",
       "      <td>Talk Show Host - Radiohead</td>\n",
       "      <td>10781.0</td>\n",
       "      <td>550.0</td>\n",
       "      <td>550.0</td>\n",
       "      <td>3.0</td>\n",
       "      <td>3.0</td>\n",
       "    </tr>\n",
       "    <tr>\n",
       "      <th>(Nice Dream) - Radiohead</th>\n",
       "      <td>Radiohead</td>\n",
       "      <td>(Nice Dream) - Radiohead</td>\n",
       "      <td>4829.0</td>\n",
       "      <td>876.0</td>\n",
       "      <td>876.0</td>\n",
       "      <td>4.0</td>\n",
       "      <td>4.0</td>\n",
       "    </tr>\n",
       "    <tr>\n",
       "      <th>Punchdrunk Lovesick Singalong - Radiohead</th>\n",
       "      <td>Radiohead</td>\n",
       "      <td>Punchdrunk Lovesick Singalong - Radiohead</td>\n",
       "      <td>18544.0</td>\n",
       "      <td>1195.0</td>\n",
       "      <td>1195.0</td>\n",
       "      <td>5.0</td>\n",
       "      <td>5.0</td>\n",
       "    </tr>\n",
       "    <tr>\n",
       "      <th>...</th>\n",
       "      <td>...</td>\n",
       "      <td>...</td>\n",
       "      <td>...</td>\n",
       "      <td>...</td>\n",
       "      <td>...</td>\n",
       "      <td>...</td>\n",
       "      <td>...</td>\n",
       "    </tr>\n",
       "    <tr>\n",
       "      <th>Instructions Interlude - Jermaine Dupri</th>\n",
       "      <td>Jermaine Dupri</td>\n",
       "      <td>Instructions Interlude - Jermaine Dupri</td>\n",
       "      <td>27522.0</td>\n",
       "      <td>27493.0</td>\n",
       "      <td>27493.0</td>\n",
       "      <td>27520.0</td>\n",
       "      <td>27493.0</td>\n",
       "    </tr>\n",
       "    <tr>\n",
       "      <th>Jaden's Interlude - Will Smith</th>\n",
       "      <td>Will Smith</td>\n",
       "      <td>Jaden's Interlude - Will Smith</td>\n",
       "      <td>27497.0</td>\n",
       "      <td>27524.0</td>\n",
       "      <td>27497.0</td>\n",
       "      <td>27521.0</td>\n",
       "      <td>27497.0</td>\n",
       "    </tr>\n",
       "    <tr>\n",
       "      <th>40 Break - Brotha Lynch Hung</th>\n",
       "      <td>Brotha Lynch Hung</td>\n",
       "      <td>40 Break - Brotha Lynch Hung</td>\n",
       "      <td>27505.0</td>\n",
       "      <td>27507.0</td>\n",
       "      <td>27505.0</td>\n",
       "      <td>27522.0</td>\n",
       "      <td>27505.0</td>\n",
       "    </tr>\n",
       "    <tr>\n",
       "      <th>Introduction - Paul Horn</th>\n",
       "      <td>Paul Horn</td>\n",
       "      <td>Introduction - Paul Horn</td>\n",
       "      <td>27524.0</td>\n",
       "      <td>27518.0</td>\n",
       "      <td>27518.0</td>\n",
       "      <td>27523.0</td>\n",
       "      <td>27518.0</td>\n",
       "    </tr>\n",
       "    <tr>\n",
       "      <th>Intro - Swell</th>\n",
       "      <td>Swell</td>\n",
       "      <td>Intro - Swell</td>\n",
       "      <td>27518.0</td>\n",
       "      <td>27522.0</td>\n",
       "      <td>27518.0</td>\n",
       "      <td>27524.0</td>\n",
       "      <td>27518.0</td>\n",
       "    </tr>\n",
       "  </tbody>\n",
       "</table>\n",
       "<p>27524 rows × 7 columns</p>\n",
       "</div>"
      ],
      "text/plain": [
       "                                                 artist_name  \\\n",
       "track_id                                                       \n",
       "Banana Co - Radiohead                              Radiohead   \n",
       "Karma Police - Radiohead                           Radiohead   \n",
       "Talk Show Host - Radiohead                         Radiohead   \n",
       "(Nice Dream) - Radiohead                           Radiohead   \n",
       "Punchdrunk Lovesick Singalong - Radiohead          Radiohead   \n",
       "...                                                      ...   \n",
       "Instructions Interlude - Jermaine Dupri       Jermaine Dupri   \n",
       "Jaden's Interlude - Will Smith                    Will Smith   \n",
       "40 Break - Brotha Lynch Hung               Brotha Lynch Hung   \n",
       "Introduction - Paul Horn                           Paul Horn   \n",
       "Intro - Swell                                          Swell   \n",
       "\n",
       "                                                                            track_id  \\\n",
       "track_id                                                                               \n",
       "Banana Co - Radiohead                                          Banana Co - Radiohead   \n",
       "Karma Police - Radiohead                                    Karma Police - Radiohead   \n",
       "Talk Show Host - Radiohead                                Talk Show Host - Radiohead   \n",
       "(Nice Dream) - Radiohead                                    (Nice Dream) - Radiohead   \n",
       "Punchdrunk Lovesick Singalong - Radiohead  Punchdrunk Lovesick Singalong - Radiohead   \n",
       "...                                                                              ...   \n",
       "Instructions Interlude - Jermaine Dupri      Instructions Interlude - Jermaine Dupri   \n",
       "Jaden's Interlude - Will Smith                        Jaden's Interlude - Will Smith   \n",
       "40 Break - Brotha Lynch Hung                            40 Break - Brotha Lynch Hung   \n",
       "Introduction - Paul Horn                                    Introduction - Paul Horn   \n",
       "Intro - Swell                                                          Intro - Swell   \n",
       "\n",
       "                                                 0        1  min_centroids  \\\n",
       "track_id                                                                     \n",
       "Banana Co - Radiohead                      11503.0    287.0          287.0   \n",
       "Karma Police - Radiohead                    6738.0    428.0          428.0   \n",
       "Talk Show Host - Radiohead                 10781.0    550.0          550.0   \n",
       "(Nice Dream) - Radiohead                    4829.0    876.0          876.0   \n",
       "Punchdrunk Lovesick Singalong - Radiohead  18544.0   1195.0         1195.0   \n",
       "...                                            ...      ...            ...   \n",
       "Instructions Interlude - Jermaine Dupri    27522.0  27493.0        27493.0   \n",
       "Jaden's Interlude - Will Smith             27497.0  27524.0        27497.0   \n",
       "40 Break - Brotha Lynch Hung               27505.0  27507.0        27505.0   \n",
       "Introduction - Paul Horn                   27524.0  27518.0        27518.0   \n",
       "Intro - Swell                              27518.0  27522.0        27518.0   \n",
       "\n",
       "                                           artist_rank  best_rank  \n",
       "track_id                                                           \n",
       "Banana Co - Radiohead                              1.0        1.0  \n",
       "Karma Police - Radiohead                           2.0        2.0  \n",
       "Talk Show Host - Radiohead                         3.0        3.0  \n",
       "(Nice Dream) - Radiohead                           4.0        4.0  \n",
       "Punchdrunk Lovesick Singalong - Radiohead          5.0        5.0  \n",
       "...                                                ...        ...  \n",
       "Instructions Interlude - Jermaine Dupri        27520.0    27493.0  \n",
       "Jaden's Interlude - Will Smith                 27521.0    27497.0  \n",
       "40 Break - Brotha Lynch Hung                   27522.0    27505.0  \n",
       "Introduction - Paul Horn                       27523.0    27518.0  \n",
       "Intro - Swell                                  27524.0    27518.0  \n",
       "\n",
       "[27524 rows x 7 columns]"
      ]
     },
     "execution_count": 70,
     "metadata": {},
     "output_type": "execute_result"
    }
   ],
   "source": [
    "kmbr_af_ranking[list(kmbr_af_ranking.keys())[0]]"
   ]
  },
  {
   "cell_type": "code",
   "execution_count": null,
   "metadata": {},
   "outputs": [],
   "source": []
  }
 ],
 "metadata": {
  "kernelspec": {
   "display_name": "Python 3 (ipykernel)",
   "language": "python",
   "name": "python3"
  },
  "language_info": {
   "codemirror_mode": {
    "name": "ipython",
    "version": 3
   },
   "file_extension": ".py",
   "mimetype": "text/x-python",
   "name": "python",
   "nbconvert_exporter": "python",
   "pygments_lexer": "ipython3",
   "version": "3.9.13"
  }
 },
 "nbformat": 4,
 "nbformat_minor": 5
}
