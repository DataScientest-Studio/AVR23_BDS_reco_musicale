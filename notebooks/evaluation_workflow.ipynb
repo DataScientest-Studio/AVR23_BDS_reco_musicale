{
 "cells": [
  {
   "cell_type": "code",
   "execution_count": null,
   "id": "3fcbe707-f518-4e13-a2e6-60063b785042",
   "metadata": {},
   "outputs": [],
   "source": [
    "import os\n",
    "from pathlib import Path\n",
    "import pandas as pd\n",
    "import matplotlib.pyplot as plt\n",
    "import seaborn as sns\n",
    "import numpy as np\n",
    "import ipynb\n",
    "from scipy.spatial import distance_matrix\n",
    "import random"
   ]
  },
  {
   "cell_type": "code",
   "execution_count": null,
   "id": "680a2f7c-994e-45a9-abc3-8a850f2d551c",
   "metadata": {},
   "outputs": [],
   "source": [
    "def split_history(triplets, hidden_size, random_state = None):\n",
    "    \"\"\"\n",
    "    Split a dataframe corresponding to users's listening history in the form of a triplet user - track - number of listening\n",
    "    into two dataframes 'hidden_triplets' and 'apparent_triplets'.\n",
    "    hidden_triplets will correspond for each user to the proportion hidden_size of its listening history and\n",
    "    apparent_triplet will correspond to the proportion 1 - hidden_size.\n",
    "    Parameters:\n",
    "        triplets (pandas.Dataframe): a dataframe whose columns are\n",
    "            user : a the unique id of the user\n",
    "            \n",
    "            track_id : a unique id for a track\n",
    "            \n",
    "            listening_count: the number of times the user has listened to the track\n",
    "            \n",
    "            ... : other columns corresponding to track's features and/or the user's features and/or element of context of the interaction user/track.\n",
    "        \n",
    "        hidden_size (float): a value between 0 and 1 corresponding to the proportion of the user's listening history to hide.\n",
    "        \n",
    "        random_state (int, default=None): Pass an int for reproducible output across multiple function calls\n",
    "\n",
    "    Return :\n",
    "        hidden_triplets, apparent_triplets (pandas.Dataframe tuple) : the two splitted listening history.\n",
    "    \"\"\"\n",
    "    # Set a seed for the random number generator\n",
    "    if random_state is not None:\n",
    "        random.seed(random_state)\n",
    "\n",
    "    # Initiate empty dataframes corresponding to hidden and apparent triplets\n",
    "    hidden_triplets = pd.DataFrame(columns = triplets.columns)\n",
    "    apparent_triplets = pd.DataFrame(columns = triplets.columns)\n",
    "    \n",
    "    # For each users u, divide the historique of u into apparent and hidden triplets according to the proportion defined by hidden_size\n",
    "    for u in triplets.user.unique():\n",
    "        # Select the triplets corresponding to u's listening history\n",
    "        triplets_u = triplets.loc[triplets.user == u]\n",
    "        # Define the number of hidden triplets in u's listening history according to p and u's number of listened tracks\n",
    "        n_hidden = round(len(triplets_u) * hidden_size)\n",
    "        # Select n_hidden triplets in u's listening history\n",
    "        i_hidden = random.sample([i for i in range(len(triplets_u))], n_hidden)\n",
    "        # Assign the remaining triplet in the apparent triplets\n",
    "        i_apparent = [i for i in range(len(triplets_u)) if i not in i_hidden]\n",
    "        \n",
    "        hidden_triplets = pd.concat([hidden_triplets, triplets_u.iloc[i_hidden, :]]).reset_index(drop=True)\n",
    "        apparent_triplets = pd.concat([apparent_triplets, triplets_u.iloc[i_apparent, :]]).reset_index(drop=True)\n",
    "    \n",
    "    return hidden_triplets, apparent_triplets"
   ]
  }
 ],
 "metadata": {
  "kernelspec": {
   "display_name": "Python 3 (ipykernel)",
   "language": "python",
   "name": "python3"
  },
  "language_info": {
   "codemirror_mode": {
    "name": "ipython",
    "version": 3
   },
   "file_extension": ".py",
   "mimetype": "text/x-python",
   "name": "python",
   "nbconvert_exporter": "python",
   "pygments_lexer": "ipython3",
   "version": "3.10.9"
  }
 },
 "nbformat": 4,
 "nbformat_minor": 5
}
