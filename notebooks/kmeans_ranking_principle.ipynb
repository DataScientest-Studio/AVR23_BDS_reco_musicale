{
 "cells": [
  {
   "cell_type": "code",
   "execution_count": 1,
   "metadata": {},
   "outputs": [],
   "source": [
    "import os\n",
    "\n",
    "from pathlib import Path\n",
    "import pandas as pd\n",
    "import matplotlib.pyplot as plt\n",
    "import numpy as np\n",
    "from sklearn.preprocessing import StandardScaler\n",
    "from sklearn.cluster import KMeans\n",
    "from sklearn.metrics import silhouette_score\n",
    "from scipy.spatial.distance import cdist"
   ]
  },
  {
   "cell_type": "code",
   "execution_count": 2,
   "metadata": {},
   "outputs": [],
   "source": [
    "CUR_DIR = os.path.abspath('')\n",
    "\n",
    "DATA_DIR = Path(CUR_DIR).parent / \"data\" / \"millionsong\"\n",
    "FILE_PATH = DATA_DIR/'triplets_metadata_spotify.csv'\n",
    "df_origin = pd.read_csv(FILE_PATH, index_col = 0)"
   ]
  },
  {
   "cell_type": "code",
   "execution_count": 3,
   "metadata": {},
   "outputs": [],
   "source": [
    "\n",
    "df_unique_values = df_origin.drop_duplicates(subset = ['song_name', 'artist_name'], keep='first').reset_index().drop('index', axis=1)\n",
    "tracks_quanti_feats = df_unique_values.drop(['user', 'listening_count', 'song_name', 'release', 'artist_name', \n",
    "        'artist_familiarity', 'artist_hotttnesss', 'year', 'key', 'duration',\n",
    "       'shs_perf', 'shs_work', 'explicit', 'mode', 'time_signature', 'release_date'], axis = 1)\n"
   ]
  },
  {
   "cell_type": "code",
   "execution_count": 4,
   "metadata": {},
   "outputs": [],
   "source": [
    "scaler = StandardScaler()\n",
    "scaler.fit(tracks_quanti_feats)\n",
    "tracks_quanti_feats[tracks_quanti_feats.columns] = pd.DataFrame(scaler.fit_transform(tracks_quanti_feats), index=tracks_quanti_feats.index)"
   ]
  },
  {
   "cell_type": "code",
   "execution_count": 5,
   "metadata": {},
   "outputs": [],
   "source": [
    "tracks_quanti_feats_names = pd.DataFrame(tracks_quanti_feats)\n",
    "tracks_quanti_feats_names['song_name'] = df_unique_values['song_name']\n",
    "tracks_quanti_feats_names['artist_name'] = df_unique_values['artist_name']\n"
   ]
  },
  {
   "cell_type": "code",
   "execution_count": 6,
   "metadata": {},
   "outputs": [],
   "source": [
    "\n",
    "scaler = StandardScaler()\n",
    "sel_columns = ['danceability', 'energy', 'loudness', 'speechiness', 'acousticness', 'instrumentalness', 'liveness', 'valence', 'tempo']\n",
    "df_origin[sel_columns] = pd.DataFrame(scaler.fit_transform(df_origin[sel_columns]), index=df_origin.index)\n"
   ]
  },
  {
   "cell_type": "code",
   "execution_count": 7,
   "metadata": {},
   "outputs": [],
   "source": [
    "def get_opt_clusters(df:pd.DataFrame, drop : list[str], user_id: str):\n",
    "    \n",
    "    # definition of df_user\n",
    "    df_user = df[df['user']==user_id].drop(drop, axis=1).reset_index().drop(['index'], axis=1)\n",
    "\n",
    "    # weights to apply to the kmeans\n",
    "    user_listenings = df_user['listening_count']\n",
    "\n",
    "    # eliminate weights from acoustic characteristics\n",
    "    df_user = df_user.drop('listening_count', axis=1) \n",
    "    \n",
    "\n",
    "    # broad exploration of number of clusters\n",
    "    dist = []\n",
    "    s_scores = []\n",
    "    range = np.arange(2,len(df_user)-1)\n",
    "    for i in range:\n",
    "        clf = KMeans(n_clusters = i, n_init = 'auto', random_state=123)\n",
    "        clf.fit(df_user, sample_weight=user_listenings)\n",
    "        centroids = clf.cluster_centers_\n",
    "        labels = clf.labels_\n",
    "        score = silhouette_score(df_user, labels, metric='euclidean')\n",
    "        s_scores.append(score)\n",
    "        dist.append(sum(np.min(cdist(XA = centroids, XB = df_user, metric='euclidean'), axis = 0)) / len(df_user))\n",
    "    \n",
    "    # optimal number of clusters selection by silhouette score\n",
    "    n_clusters = s_scores.index(max(s_scores))+2\n",
    "\n",
    "    return range, s_scores, dist, n_clusters"
   ]
  },
  {
   "cell_type": "code",
   "execution_count": 8,
   "metadata": {},
   "outputs": [],
   "source": [
    "def get_user_profiles(df: pd.DataFrame, drop : list[str],  user_id: str, n_clusters:int):\n",
    "    \"\"\"\n",
    "    Takes a user_id string and 1 dataframe containg all original informations and whose acoustic characteristics are Standard scaled.\n",
    "    Returns the acoustic characteristics of the user standard profile weighted by number of listenings (1 acoustic profile)   \n",
    "    and the cluster centers centroids profiles based on Kmeans fit on optimal number of cluster found per user (n_clusters profiles)\n",
    "\n",
    "    Parameters:\n",
    "        df : whole dataframe with all acoustic characteristics Standard scaled\n",
    "        user_id : str corresponding to the user id\n",
    "   \n",
    "    Return :\n",
    "        \n",
    "        standard_profile: list[list[float]] of size 1\n",
    "        cluster_profile: list[list[float]] of size n_clusters\n",
    "    \"\"\"\n",
    "    \n",
    "    \n",
    "    total_listening = df[df[\"user\"] == user_id][\"listening_count\"].sum() \n",
    "\n",
    "    ## Standard profile: one profile where acoustic characteristics are weighted by listening_count\n",
    "    '''\n",
    "    hotness = 0\n",
    "    familiarity = 0\n",
    "    '''\n",
    "    duration = 0\n",
    "    dance = 0\n",
    "    energy = 0\n",
    "    loudness = 0\n",
    "    speech = 0\n",
    "    acoustic = 0\n",
    "    instru = 0\n",
    "    live = 0\n",
    "    valence = 0\n",
    "    tempo = 0\n",
    "    \n",
    "    # cumulative sum of user's  songs acoustic characteristics weighted by listening_count\n",
    "    for index, row, in df[df[\"user\"] == user_id].iterrows():\n",
    "        '''\n",
    "        hotness += row['artist_hotttnesss'] * row[\"listening_count\"]\n",
    "        familiarity += row['artist_familiarity'] * row[\"listening_count\"]   \n",
    "        '''\n",
    "        #duration += row['duration'] * row[\"listening_count\"]\n",
    "        dance += row['danceability'] * row[\"listening_count\"]\n",
    "        energy += row['energy'] * row[\"listening_count\"]\n",
    "        loudness += row['loudness'] * row[\"listening_count\"]\n",
    "        speech += row['speechiness'] * row[\"listening_count\"]\n",
    "        acoustic += row['acousticness'] * row[\"listening_count\"]\n",
    "        instru += row['instrumentalness'] * row[\"listening_count\"]\n",
    "        live += row['liveness'] * row[\"listening_count\"]\n",
    "        valence += row['valence'] * row[\"listening_count\"]\n",
    "        tempo += row['tempo'] * row[\"listening_count\"]\n",
    "\n",
    "    # duration / total_listening, \n",
    "\n",
    "    # weighted average from cumulative sum of acoustic characteristics / total_listening to list of lists\n",
    "    # valence missing\n",
    "    standard_profile = [[dance / total_listening, energy / total_listening,\n",
    "                        loudness / total_listening, speech / total_listening, acoustic / total_listening,\n",
    "                        instru / total_listening, live / total_listening, valence/total_listening, tempo / total_listening]]\n",
    "\n",
    "    ## Cluster profile\n",
    "    \n",
    "    # definition of df_user\n",
    "    df_user = df[df['user']==user_id].drop(drop, axis=1).reset_index().drop(['index'], axis=1)\n",
    "\n",
    "    # weights to apply to the kmeans\n",
    "    user_listenings = df_user['listening_count']\n",
    "\n",
    "    # eliminate weights from acoustic characteristics\n",
    "    df_user = df_user.drop('listening_count', axis=1) \n",
    "\n",
    "    # training of kmeans with optimal number of clusters\n",
    "    clf = KMeans(n_clusters = n_clusters, n_init = 'auto', random_state=123)\n",
    "    clf.fit(df_user, sample_weight=user_listenings)\n",
    "    centroids = clf.cluster_centers_\n",
    "    labels = clf.labels_\n",
    "\n",
    "    # distinct profiles as cluster centers centroids to list\n",
    "    cluster_profile = centroids.tolist()\n",
    "\n",
    "    \n",
    "    return standard_profile, cluster_profile"
   ]
  },
  {
   "cell_type": "markdown",
   "metadata": {},
   "source": [
    "Proximity measure - Numerical resolution"
   ]
  },
  {
   "cell_type": "code",
   "execution_count": 10,
   "metadata": {},
   "outputs": [],
   "source": [
    "# var\n",
    "acoustic_variables = [\"Danceability\", \"Energy\", \"Loudness\", \"Speechiness\", \"Acousticness\", \"instrumentalness\", \"Liveness\", \"Valence\", \"Tempo\"]\n",
    "n_neighbors = 5\n",
    "\n",
    "user_name = '22e08d5e101ab5b86dc394856d508e175a5242a6'\n",
    "#user_name = 'af3ee32357049dd96231238bd1b019e8142ee6aa' # l'espagnol\n",
    "#user_name = '3fa44653315697f42410a30cb766a4eb102080bb'\n",
    "#user_name = \"ec6dfcf19485cb011e0b22637075037aae34cf26\"\t\n",
    "#user_name = '6a46aee45cc177cf8e2025e59d21c7939902deee'\n",
    "#user_name = '716ed1ec67d67bfa05db3ffeb641d13f46dca6ec'\n",
    "#user_name = 'd035c4a2b179ef8c756d73f9f3018ec7a87d8594'\n",
    "#user_name = '72b7c0b7ef846805b61e7a82534beded246a95c2'\n",
    "#user_name = 'b393acb0d2f15b13fb1377c2998b222f6e174619'\n",
    "#user_name = 'b784fec0b1e04dbf02a2f095da6ec1e3a8561391'\n",
    "\n",
    "\n",
    "#user_name ='19a7ec5c51a370817f99cf18decde4b8f469bfd3'\n",
    "#user_name = '43e241eaa4d079ab2bdbd30231695f5563583af4\t'\n",
    "\n",
    "\n",
    "\n",
    "to_drop = ['user', 'song_name', 'release', 'artist_name', 'duration', 'artist_familiarity', 'artist_hotttnesss',\n",
    "           'year', 'shs_perf', 'shs_work', 'key', 'mode', 'explicit', 'time_signature', 'release_date']\n",
    "\n",
    "\n",
    "# func\n",
    "range_n_clusters, silhouette_scores, distorsions, n_opt_cluster = get_opt_clusters(df=df_origin, drop=to_drop, user_id=user_name)\n",
    "\n",
    "standard_profile, clusters_profiles = get_user_profiles(df=df_origin, drop=to_drop, user_id=user_name, n_clusters=n_opt_cluster)"
   ]
  },
  {
   "cell_type": "code",
   "execution_count": 11,
   "metadata": {},
   "outputs": [],
   "source": [
    "OUTPUT_DIR = Path(CUR_DIR).parent / \"figures/users_viz\""
   ]
  },
  {
   "cell_type": "code",
   "execution_count": 12,
   "metadata": {},
   "outputs": [
    {
     "name": "stderr",
     "output_type": "stream",
     "text": [
      "C:\\Users\\benoit\\AppData\\Local\\Temp\\ipykernel_26256\\2023622959.py:3: MatplotlibDeprecationWarning: Auto-removal of overlapping axes is deprecated since 3.6 and will be removed two minor releases later; explicitly call ax.remove() as needed.\n",
      "  ax1 = plt.subplot(121)\n"
     ]
    },
    {
     "data": {
      "image/png": "[encoded data removed]",
      "text/plain": [
       "<Figure size 1200x600 with 2 Axes>"
      ]
     },
     "metadata": {},
     "output_type": "display_data"
    }
   ],
   "source": [
    "fig  = plt.subplots(figsize=(12, 6))\n",
    "\n",
    "ax1 = plt.subplot(121)\n",
    "ax1.plot(range_n_clusters, distorsions)\n",
    "ax1.set_xlabel('K Number of clusters')\n",
    "ax1.set_ylabel('Distorsion SSW/(SSW+SSB)')\n",
    "ax1.set_title('Elbow method');\n",
    "\n",
    "ax2 = plt.subplot(122)\n",
    "ax2.plot(range_n_clusters, silhouette_scores, '-x')\n",
    "ax2.set_xlabel(\"Number of clusters\")\n",
    "ax2.set_ylabel(\"Silhouette score for euclidean distance\")\n",
    "ax2.set_title('Silhouette score per number of cluster');\n",
    "\n",
    "#plt.savefig(OUTPUT_DIR / (user_name + '_silhouette_scores.png'), dpi=200 )"
   ]
  },
  {
   "cell_type": "code",
   "execution_count": 18,
   "metadata": {},
   "outputs": [],
   "source": [
    "from scipy.spatial import distance_matrix\n",
    "\n",
    "def get_profile_neighbors(df_features, df_features_names: pd.DataFrame, profiles: list[list[float]], n_target : int = n_neighbors):\n",
    "    \n",
    "    '''\n",
    "    user_profile = pd.DataFrame(columns=[\"hotness\", \"familiarity\",\"danceability\", \"energy\",\n",
    "                                   \"loudness\", \"speechiness\", \"acousticness\",\n",
    "                                   \"instrumentalness\", \"liveness\", \"valence\",\n",
    "                                   \"tempo\"])\n",
    "    '''\n",
    "    user_profile = pd.DataFrame(columns=[\"danceability\", \"energy\",\n",
    "                                   \"loudness\", \"speechiness\", \"acousticness\",\n",
    "                                   \"instrumentalness\", \"liveness\", \"valence\", \n",
    "                                   \"tempo\"])\n",
    "\n",
    "    # append profile to the dataframe user_profile\n",
    "    for i in range(len(profiles)):\n",
    "        user_profile.loc[len(user_profile)] = profiles[i]\n",
    "\n",
    "\n",
    "    # compute the distance matrix between all user_profiles and all songs features\n",
    "    dist_mat = pd.DataFrame(distance_matrix(user_profile, df_features).T)\n",
    "    #dist_mat = dist_mat.rename(columns={0 : 'distance'})\n",
    "    \n",
    "\n",
    "    # create similarity and disimilarity lists\n",
    "    sim = []\n",
    "    dis = []\n",
    "    sim_id = []\n",
    "    dis_id =[]\n",
    "\n",
    "    # broadcast distance of matrix[i] to df_features_names containing song and artist names and sort values by distance[i]\n",
    "    for i in range(len(profiles)):\n",
    "        df_feats_names = df_features_names\n",
    "        df_feats_names[i] = dist_mat[i]\n",
    "        df_feats_names = df_feats_names.sort_values(by=i, ascending=True).reset_index().drop(['index'], axis=1)\n",
    "        \n",
    "        # for each profile create temporary sim and disim lists\n",
    "        s = []\n",
    "        d = []\n",
    "        s_id = []\n",
    "        d_id = []\n",
    "\n",
    "        ## append each profile list the profile closest and furthest n_neighbors tracks and corresponding song-artist names \n",
    "        for j in range (n_target):\n",
    "            \n",
    "            \n",
    "            s.append(df_feats_names.iloc[j, :9].values.flatten().tolist())\n",
    "            s_id.append(' - '.join((df_feats_names.iloc[j, 9:11])))\n",
    "            \n",
    "            d.append(df_feats_names.iloc[len(df_feats_names)-1-j, :9].values.flatten().tolist())\n",
    "            d_id.append(' - '.join((df_feats_names.iloc[len(df_feats_names)-1-j, 9:11])))\n",
    "            \n",
    "            '''\n",
    "            s.append(df_feats_names.iloc[j, :8].values.flatten().tolist())\n",
    "            s_id.append(' - '.join((df_feats_names.iloc[j, 8:10])))\n",
    "            \n",
    "            d.append(df_feats_names.iloc[len(df_feats_names)-1-j, :8].values.flatten().tolist())\n",
    "            d_id.append(' - '.join((df_feats_names.iloc[len(df_feats_names)-1-j, 8:10])))\n",
    "            '''\n",
    "\n",
    "            \n",
    "        sim.append(s)\n",
    "        sim_id.append(s_id)\n",
    "        dis.append(d)\n",
    "        dis_id.append(d_id)\n",
    "\n",
    "    return sim, dis, sim_id, dis_id"
   ]
  },
  {
   "cell_type": "code",
   "execution_count": 19,
   "metadata": {},
   "outputs": [],
   "source": [
    "#similar, disimilar, sim_names, dis_names = get_profile_neighbors(tracks_quanti_feats, tracks_quanti_feats_names, standard_profile)\n",
    "similar, disimilar, sim_names, dis_names = get_profile_neighbors(tracks_quanti_feats, tracks_quanti_feats_names, clusters_profiles)"
   ]
  },
  {
   "cell_type": "code",
   "execution_count": 20,
   "metadata": {},
   "outputs": [
    {
     "name": "stdout",
     "output_type": "stream",
     "text": [
      "Number of clusters 10\n",
      "fraction of the song database suggested to the user  0.18 %\n"
     ]
    }
   ],
   "source": [
    "print(\"Number of clusters\", len(similar))\n",
    "#print(\"Number of songs per cluster times number of cluster / nb of songs = proportion of songs of the database\",  len(similar[0])* len(similar) / 27607)\n",
    "fraction = round((len(similar[0])* len(similar) / 27607), 4) * 100\n",
    "\n",
    "print('fraction of the song database suggested to the user ', fraction, \"%\" )\n"
   ]
  },
  {
   "cell_type": "code",
   "execution_count": 33,
   "metadata": {},
   "outputs": [
    {
     "name": "stdout",
     "output_type": "stream",
     "text": [
      "Number of songs of the user entire playlist detected by suggesting 5 closest tracks to each of the 10 identified centroids : 10 hence 34.48275862068966 %\n",
      "Here are the detected song\n"
     ]
    },
    {
     "data": {
      "text/plain": [
       "['Debaser - Pixies',\n",
       " 'Tell Him - The Exciters',\n",
       " 'Paradise By The Dashboard Light - Meat Loaf',\n",
       " 'All My Only Dreams - The Wonders',\n",
       " 'Everybodies Girl - Dwarves',\n",
       " 'Fotzepolitic - Cocteau Twins',\n",
       " 'I Will Deny - Dwarves',\n",
       " 'Hits - Dwarves',\n",
       " 'To Know Him Is To Love Him - The Teddy Bears',\n",
       " 'Demonica - Dwarves']"
      ]
     },
     "execution_count": 33,
     "metadata": {},
     "output_type": "execute_result"
    }
   ],
   "source": [
    "## compare the fraction of songs of the database suggested to the user and the number of songs of his playlist actually detected by the kmeans algorithm\n",
    "song_user = (df_origin[df_origin[\"user\"] == user_name]['song_name'] + ' - ' + df_origin[df_origin[\"user\"] == user_name]['artist_name']).tolist()\n",
    "\n",
    "\n",
    "song_reco = []\n",
    "for i in range(len(sim_names)):\n",
    "    song_reco.extend(sim_names[i])\n",
    "\n",
    "n_detected_songs = len([i for i in song_user if i in song_reco])\n",
    "\n",
    "print(f\"Number of songs of the user entire playlist detected by suggesting {n_neighbors} closest tracks to each of the {len(similar)} identified centroids :\", \\\n",
    "      n_detected_songs, \"hence\", n_detected_songs / len(df_origin[df_origin[\"user\"] == user_name])*100, \"%\")\n",
    "          \n",
    "print(\"Here are the detected song\")\n",
    "[i for i in song_user if i in song_reco]\n",
    "\n"
   ]
  },
  {
   "cell_type": "code",
   "execution_count": 34,
   "metadata": {},
   "outputs": [
    {
     "name": "stdout",
     "output_type": "stream",
     "text": [
      "['Tú',\n",
      " 'Strings',\n",
      " \"Who'll Stop The Rain\",\n",
      " 'Cherry Red',\n",
      " 'All My Only Dreams',\n",
      " 'Drinking Song',\n",
      " 'Money Talks',\n",
      " 'Paradise By The Dashboard Light',\n",
      " 'I Will Deny',\n",
      " 'If I Had A Woman',\n",
      " 'Everybodies Girl',\n",
      " 'Migraine',\n",
      " 'No Looking Back',\n",
      " 'Half-Empty Halls',\n",
      " 'A Stare Like Yours',\n",
      " 'Madeline and Nine',\n",
      " 'To Be Alive Again',\n",
      " 'Spotlights',\n",
      " 'Dead Space',\n",
      " 'Paper Crowns',\n",
      " 'To Know Him Is To Love Him',\n",
      " 'If I was a Blackbird',\n",
      " 'The Curse',\n",
      " 'Rejoice',\n",
      " 'Aye Waukin-O',\n",
      " 'Fotzepolitic',\n",
      " 'Shift Your Gaze',\n",
      " 'Heavy Metal Shuffle',\n",
      " 'Untitled',\n",
      " 'Requiem: From Substance to Silence',\n",
      " 'Hits',\n",
      " \"Moon And Sun Part II: North's Son\",\n",
      " 'Swan',\n",
      " 'Dungeon Bastard',\n",
      " 'Envelope',\n",
      " 'Debaser',\n",
      " 'Musicatto',\n",
      " 'Nick The Stripper',\n",
      " 'Hacked To Pieces',\n",
      " 'Silent Violence',\n",
      " 'Tell Him',\n",
      " 'Cherry Pie',\n",
      " 'Rocket To God',\n",
      " 'Something On Your Mind',\n",
      " 'Lady Love',\n",
      " 'Scottish And Proud',\n",
      " 'Demonica',\n",
      " 'The Truth of Trumpets',\n",
      " 'Machine Gun Kelly',\n",
      " 'Mind is Ugly']\n",
      "['Jaguares',\n",
      " 'Sofa Surfers',\n",
      " 'Debbie Davies',\n",
      " 'ZZ Top',\n",
      " 'The Wonders',\n",
      " 'The Gits',\n",
      " 'Cryptic Slaughter',\n",
      " 'Meat Loaf',\n",
      " 'Dwarves',\n",
      " 'Sloppy Seconds',\n",
      " 'Dwarves',\n",
      " 'The Coral',\n",
      " 'SSM',\n",
      " 'The Evaporators',\n",
      " 'The Thermals',\n",
      " 'Mike Doughty',\n",
      " 'Journey',\n",
      " 'Let Go',\n",
      " 'Able Baker Fox',\n",
      " 'Burning Airlines',\n",
      " 'The Teddy Bears',\n",
      " 'Silly Wizard',\n",
      " 'Josh Ritter',\n",
      " 'Il Divo',\n",
      " 'Eddi Reader',\n",
      " 'Cocteau Twins',\n",
      " 'The Life And Times',\n",
      " 'Reagan Youth',\n",
      " 'Cephalic Carnage',\n",
      " 'Minsk',\n",
      " 'Dwarves',\n",
      " 'Amorphis',\n",
      " 'Unwound',\n",
      " 'Akimbo',\n",
      " 'Unwound',\n",
      " 'Pixies',\n",
      " 'Kansas',\n",
      " 'The Birthday Party',\n",
      " 'Six Feet Under',\n",
      " 'Six Feet Under',\n",
      " 'The Exciters',\n",
      " 'Sade',\n",
      " 'Daryl Hall & John Oates',\n",
      " 'Mighty Joe Young',\n",
      " 'Lou Rawls',\n",
      " 'The Real McKenzies',\n",
      " 'Dwarves',\n",
      " 'Alove For Enemies',\n",
      " 'Angelic Upstarts',\n",
      " 'War Tapes']\n"
     ]
    }
   ],
   "source": [
    "from pprint import pprint\n",
    "song_list = [i.split(' - ', 1)[0] for i in song_reco]\n",
    "pprint(song_list)\n",
    "artist_list = [i.split(' - ', 1)[1] for i in song_reco]\n",
    "pprint(artist_list)"
   ]
  },
  {
   "cell_type": "code",
   "execution_count": 35,
   "metadata": {},
   "outputs": [
    {
     "data": {
      "text/html": [
       "<style type=\"text/css\">\n",
       "#T_72ad8_row2_col2, #T_72ad8_row2_col4, #T_72ad8_row5_col2, #T_72ad8_row5_col4, #T_72ad8_row7_col2, #T_72ad8_row7_col4, #T_72ad8_row8_col2, #T_72ad8_row8_col4, #T_72ad8_row9_col2, #T_72ad8_row9_col4, #T_72ad8_row17_col2, #T_72ad8_row17_col4, #T_72ad8_row20_col2, #T_72ad8_row20_col4, #T_72ad8_row23_col2, #T_72ad8_row23_col4, #T_72ad8_row27_col2, #T_72ad8_row27_col4, #T_72ad8_row28_col2, #T_72ad8_row28_col4 {\n",
       "  color: red;\n",
       "}\n",
       "</style>\n",
       "<table id=\"T_72ad8\">\n",
       "  <thead>\n",
       "    <tr>\n",
       "      <th class=\"blank level0\" >&nbsp;</th>\n",
       "      <th id=\"T_72ad8_level0_col0\" class=\"col_heading level0 col0\" >user</th>\n",
       "      <th id=\"T_72ad8_level0_col1\" class=\"col_heading level0 col1\" >listening_count</th>\n",
       "      <th id=\"T_72ad8_level0_col2\" class=\"col_heading level0 col2\" >song_name</th>\n",
       "      <th id=\"T_72ad8_level0_col3\" class=\"col_heading level0 col3\" >release</th>\n",
       "      <th id=\"T_72ad8_level0_col4\" class=\"col_heading level0 col4\" >artist_name</th>\n",
       "    </tr>\n",
       "  </thead>\n",
       "  <tbody>\n",
       "    <tr>\n",
       "      <th id=\"T_72ad8_level0_row0\" class=\"row_heading level0 row0\" >1447406</th>\n",
       "      <td id=\"T_72ad8_row0_col0\" class=\"data row0 col0\" >22e08d5e101ab5b86dc394856d508e175a5242a6</td>\n",
       "      <td id=\"T_72ad8_row0_col1\" class=\"data row0 col1\" >1</td>\n",
       "      <td id=\"T_72ad8_row0_col2\" class=\"data row0 col2\" >Future Reflections</td>\n",
       "      <td id=\"T_72ad8_row0_col3\" class=\"data row0 col3\" >Oracular Spectacular</td>\n",
       "      <td id=\"T_72ad8_row0_col4\" class=\"data row0 col4\" >MGMT</td>\n",
       "    </tr>\n",
       "    <tr>\n",
       "      <th id=\"T_72ad8_level0_row1\" class=\"row_heading level0 row1\" >1682768</th>\n",
       "      <td id=\"T_72ad8_row1_col0\" class=\"data row1 col0\" >22e08d5e101ab5b86dc394856d508e175a5242a6</td>\n",
       "      <td id=\"T_72ad8_row1_col1\" class=\"data row1 col1\" >1</td>\n",
       "      <td id=\"T_72ad8_row1_col2\" class=\"data row1 col2\" >Big Me</td>\n",
       "      <td id=\"T_72ad8_row1_col3\" class=\"data row1 col3\" >Foo Fighters</td>\n",
       "      <td id=\"T_72ad8_row1_col4\" class=\"data row1 col4\" >Foo Fighters</td>\n",
       "    </tr>\n",
       "    <tr>\n",
       "      <th id=\"T_72ad8_level0_row2\" class=\"row_heading level0 row2\" >2214552</th>\n",
       "      <td id=\"T_72ad8_row2_col0\" class=\"data row2 col0\" >22e08d5e101ab5b86dc394856d508e175a5242a6</td>\n",
       "      <td id=\"T_72ad8_row2_col1\" class=\"data row2 col1\" >1</td>\n",
       "      <td id=\"T_72ad8_row2_col2\" class=\"data row2 col2\" >Debaser</td>\n",
       "      <td id=\"T_72ad8_row2_col3\" class=\"data row2 col3\" >Wave Of Mutilation: Best Of Pixies</td>\n",
       "      <td id=\"T_72ad8_row2_col4\" class=\"data row2 col4\" >Pixies</td>\n",
       "    </tr>\n",
       "    <tr>\n",
       "      <th id=\"T_72ad8_level0_row3\" class=\"row_heading level0 row3\" >2293489</th>\n",
       "      <td id=\"T_72ad8_row3_col0\" class=\"data row3 col0\" >22e08d5e101ab5b86dc394856d508e175a5242a6</td>\n",
       "      <td id=\"T_72ad8_row3_col1\" class=\"data row3 col1\" >4</td>\n",
       "      <td id=\"T_72ad8_row3_col2\" class=\"data row3 col2\" >When A Man Loves A Woman</td>\n",
       "      <td id=\"T_72ad8_row3_col3\" class=\"data row3 col3\" >100 Timeless Love Songs</td>\n",
       "      <td id=\"T_72ad8_row3_col4\" class=\"data row3 col4\" >Percy Sledge</td>\n",
       "    </tr>\n",
       "    <tr>\n",
       "      <th id=\"T_72ad8_level0_row4\" class=\"row_heading level0 row4\" >2768037</th>\n",
       "      <td id=\"T_72ad8_row4_col0\" class=\"data row4 col0\" >22e08d5e101ab5b86dc394856d508e175a5242a6</td>\n",
       "      <td id=\"T_72ad8_row4_col1\" class=\"data row4 col1\" >130</td>\n",
       "      <td id=\"T_72ad8_row4_col2\" class=\"data row4 col2\" >That Thing You Do!</td>\n",
       "      <td id=\"T_72ad8_row4_col3\" class=\"data row4 col3\" >That Thing You Do! Original Motion Picture Soundtrack</td>\n",
       "      <td id=\"T_72ad8_row4_col4\" class=\"data row4 col4\" >The Wonders</td>\n",
       "    </tr>\n",
       "    <tr>\n",
       "      <th id=\"T_72ad8_level0_row5\" class=\"row_heading level0 row5\" >3029255</th>\n",
       "      <td id=\"T_72ad8_row5_col0\" class=\"data row5 col0\" >22e08d5e101ab5b86dc394856d508e175a5242a6</td>\n",
       "      <td id=\"T_72ad8_row5_col1\" class=\"data row5 col1\" >8</td>\n",
       "      <td id=\"T_72ad8_row5_col2\" class=\"data row5 col2\" >Tell Him</td>\n",
       "      <td id=\"T_72ad8_row5_col3\" class=\"data row5 col3\" >Girls of the 60's</td>\n",
       "      <td id=\"T_72ad8_row5_col4\" class=\"data row5 col4\" >The Exciters</td>\n",
       "    </tr>\n",
       "    <tr>\n",
       "      <th id=\"T_72ad8_level0_row6\" class=\"row_heading level0 row6\" >3200016</th>\n",
       "      <td id=\"T_72ad8_row6_col0\" class=\"data row6 col0\" >22e08d5e101ab5b86dc394856d508e175a5242a6</td>\n",
       "      <td id=\"T_72ad8_row6_col1\" class=\"data row6 col1\" >5</td>\n",
       "      <td id=\"T_72ad8_row6_col2\" class=\"data row6 col2\" >Where Eagles Dare</td>\n",
       "      <td id=\"T_72ad8_row6_col3\" class=\"data row6 col3\" >First 7 Inches And Then Some</td>\n",
       "      <td id=\"T_72ad8_row6_col4\" class=\"data row6 col4\" >Sloppy Seconds</td>\n",
       "    </tr>\n",
       "    <tr>\n",
       "      <th id=\"T_72ad8_level0_row7\" class=\"row_heading level0 row7\" >3267798</th>\n",
       "      <td id=\"T_72ad8_row7_col0\" class=\"data row7 col0\" >22e08d5e101ab5b86dc394856d508e175a5242a6</td>\n",
       "      <td id=\"T_72ad8_row7_col1\" class=\"data row7 col1\" >21</td>\n",
       "      <td id=\"T_72ad8_row7_col2\" class=\"data row7 col2\" >Paradise By The Dashboard Light</td>\n",
       "      <td id=\"T_72ad8_row7_col3\" class=\"data row7 col3\" >Discover Meat Loaf</td>\n",
       "      <td id=\"T_72ad8_row7_col4\" class=\"data row7 col4\" >Meat Loaf</td>\n",
       "    </tr>\n",
       "    <tr>\n",
       "      <th id=\"T_72ad8_level0_row8\" class=\"row_heading level0 row8\" >3598454</th>\n",
       "      <td id=\"T_72ad8_row8_col0\" class=\"data row8 col0\" >22e08d5e101ab5b86dc394856d508e175a5242a6</td>\n",
       "      <td id=\"T_72ad8_row8_col1\" class=\"data row8 col1\" >55</td>\n",
       "      <td id=\"T_72ad8_row8_col2\" class=\"data row8 col2\" >All My Only Dreams</td>\n",
       "      <td id=\"T_72ad8_row8_col3\" class=\"data row8 col3\" >That Thing You Do! Original Motion Picture Soundtrack</td>\n",
       "      <td id=\"T_72ad8_row8_col4\" class=\"data row8 col4\" >The Wonders</td>\n",
       "    </tr>\n",
       "    <tr>\n",
       "      <th id=\"T_72ad8_level0_row9\" class=\"row_heading level0 row9\" >3613185</th>\n",
       "      <td id=\"T_72ad8_row9_col0\" class=\"data row9 col0\" >22e08d5e101ab5b86dc394856d508e175a5242a6</td>\n",
       "      <td id=\"T_72ad8_row9_col1\" class=\"data row9 col1\" >178</td>\n",
       "      <td id=\"T_72ad8_row9_col2\" class=\"data row9 col2\" >Everybodies Girl</td>\n",
       "      <td id=\"T_72ad8_row9_col3\" class=\"data row9 col3\" >The Dwarves Are Young & Goodlooking</td>\n",
       "      <td id=\"T_72ad8_row9_col4\" class=\"data row9 col4\" >Dwarves</td>\n",
       "    </tr>\n",
       "    <tr>\n",
       "      <th id=\"T_72ad8_level0_row10\" class=\"row_heading level0 row10\" >3672619</th>\n",
       "      <td id=\"T_72ad8_row10_col0\" class=\"data row10 col0\" >22e08d5e101ab5b86dc394856d508e175a5242a6</td>\n",
       "      <td id=\"T_72ad8_row10_col1\" class=\"data row10 col1\" >496</td>\n",
       "      <td id=\"T_72ad8_row10_col2\" class=\"data row10 col2\" >Dance With Me Tonight</td>\n",
       "      <td id=\"T_72ad8_row10_col3\" class=\"data row10 col3\" >That Thing You Do! Original Motion Picture Soundtrack</td>\n",
       "      <td id=\"T_72ad8_row10_col4\" class=\"data row10 col4\" >The Wonders</td>\n",
       "    </tr>\n",
       "    <tr>\n",
       "      <th id=\"T_72ad8_level0_row11\" class=\"row_heading level0 row11\" >3771145</th>\n",
       "      <td id=\"T_72ad8_row11_col0\" class=\"data row11 col0\" >22e08d5e101ab5b86dc394856d508e175a5242a6</td>\n",
       "      <td id=\"T_72ad8_row11_col1\" class=\"data row11 col1\" >12</td>\n",
       "      <td id=\"T_72ad8_row11_col2\" class=\"data row11 col2\" >Nothing Personal</td>\n",
       "      <td id=\"T_72ad8_row11_col3\" class=\"data row11 col3\" >Anna</td>\n",
       "      <td id=\"T_72ad8_row11_col4\" class=\"data row11 col4\" >Anna Waronker</td>\n",
       "    </tr>\n",
       "    <tr>\n",
       "      <th id=\"T_72ad8_level0_row12\" class=\"row_heading level0 row12\" >3827667</th>\n",
       "      <td id=\"T_72ad8_row12_col0\" class=\"data row12 col0\" >22e08d5e101ab5b86dc394856d508e175a5242a6</td>\n",
       "      <td id=\"T_72ad8_row12_col1\" class=\"data row12 col1\" >149</td>\n",
       "      <td id=\"T_72ad8_row12_col2\" class=\"data row12 col2\" >Little Wild One</td>\n",
       "      <td id=\"T_72ad8_row12_col3\" class=\"data row12 col3\" >That Thing You Do! Original Motion Picture Soundtrack</td>\n",
       "      <td id=\"T_72ad8_row12_col4\" class=\"data row12 col4\" >The Wonders</td>\n",
       "    </tr>\n",
       "    <tr>\n",
       "      <th id=\"T_72ad8_level0_row13\" class=\"row_heading level0 row13\" >4004642</th>\n",
       "      <td id=\"T_72ad8_row13_col0\" class=\"data row13 col0\" >22e08d5e101ab5b86dc394856d508e175a5242a6</td>\n",
       "      <td id=\"T_72ad8_row13_col1\" class=\"data row13 col1\" >1</td>\n",
       "      <td id=\"T_72ad8_row13_col2\" class=\"data row13 col2\" >Beautiful</td>\n",
       "      <td id=\"T_72ad8_row13_col3\" class=\"data row13 col3\" >Anna</td>\n",
       "      <td id=\"T_72ad8_row13_col4\" class=\"data row13 col4\" >Anna Waronker</td>\n",
       "    </tr>\n",
       "    <tr>\n",
       "      <th id=\"T_72ad8_level0_row14\" class=\"row_heading level0 row14\" >4009100</th>\n",
       "      <td id=\"T_72ad8_row14_col0\" class=\"data row14 col0\" >22e08d5e101ab5b86dc394856d508e175a5242a6</td>\n",
       "      <td id=\"T_72ad8_row14_col1\" class=\"data row14 col1\" >212</td>\n",
       "      <td id=\"T_72ad8_row14_col2\" class=\"data row14 col2\" >I Need You (That Thing You Do)</td>\n",
       "      <td id=\"T_72ad8_row14_col3\" class=\"data row14 col3\" >That Thing You Do! Original Motion Picture Soundtrack</td>\n",
       "      <td id=\"T_72ad8_row14_col4\" class=\"data row14 col4\" >The Wonders</td>\n",
       "    </tr>\n",
       "    <tr>\n",
       "      <th id=\"T_72ad8_level0_row15\" class=\"row_heading level0 row15\" >4137280</th>\n",
       "      <td id=\"T_72ad8_row15_col0\" class=\"data row15 col0\" >22e08d5e101ab5b86dc394856d508e175a5242a6</td>\n",
       "      <td id=\"T_72ad8_row15_col1\" class=\"data row15 col1\" >3</td>\n",
       "      <td id=\"T_72ad8_row15_col2\" class=\"data row15 col2\" >Unrepentant</td>\n",
       "      <td id=\"T_72ad8_row15_col3\" class=\"data row15 col3\" >The Dwarves Are Young & Goodlooking</td>\n",
       "      <td id=\"T_72ad8_row15_col4\" class=\"data row15 col4\" >Dwarves</td>\n",
       "    </tr>\n",
       "    <tr>\n",
       "      <th id=\"T_72ad8_level0_row16\" class=\"row_heading level0 row16\" >4208279</th>\n",
       "      <td id=\"T_72ad8_row16_col0\" class=\"data row16 col0\" >22e08d5e101ab5b86dc394856d508e175a5242a6</td>\n",
       "      <td id=\"T_72ad8_row16_col1\" class=\"data row16 col1\" >1</td>\n",
       "      <td id=\"T_72ad8_row16_col2\" class=\"data row16 col2\" >Fifty-fifty Clown</td>\n",
       "      <td id=\"T_72ad8_row16_col3\" class=\"data row16 col3\" >Heaven Or Las Vegas (Remastered)</td>\n",
       "      <td id=\"T_72ad8_row16_col4\" class=\"data row16 col4\" >Cocteau Twins</td>\n",
       "    </tr>\n",
       "    <tr>\n",
       "      <th id=\"T_72ad8_level0_row17\" class=\"row_heading level0 row17\" >4208444</th>\n",
       "      <td id=\"T_72ad8_row17_col0\" class=\"data row17 col0\" >22e08d5e101ab5b86dc394856d508e175a5242a6</td>\n",
       "      <td id=\"T_72ad8_row17_col1\" class=\"data row17 col1\" >1</td>\n",
       "      <td id=\"T_72ad8_row17_col2\" class=\"data row17 col2\" >Fotzepolitic</td>\n",
       "      <td id=\"T_72ad8_row17_col3\" class=\"data row17 col3\" >Heaven Or Las Vegas (Remastered)</td>\n",
       "      <td id=\"T_72ad8_row17_col4\" class=\"data row17 col4\" >Cocteau Twins</td>\n",
       "    </tr>\n",
       "    <tr>\n",
       "      <th id=\"T_72ad8_level0_row18\" class=\"row_heading level0 row18\" >4236914</th>\n",
       "      <td id=\"T_72ad8_row18_col0\" class=\"data row18 col0\" >22e08d5e101ab5b86dc394856d508e175a5242a6</td>\n",
       "      <td id=\"T_72ad8_row18_col1\" class=\"data row18 col1\" >2</td>\n",
       "      <td id=\"T_72ad8_row18_col2\" class=\"data row18 col2\" >I Wish You Well</td>\n",
       "      <td id=\"T_72ad8_row18_col3\" class=\"data row18 col3\" >Anna</td>\n",
       "      <td id=\"T_72ad8_row18_col4\" class=\"data row18 col4\" >Anna Waronker</td>\n",
       "    </tr>\n",
       "    <tr>\n",
       "      <th id=\"T_72ad8_level0_row19\" class=\"row_heading level0 row19\" >4369464</th>\n",
       "      <td id=\"T_72ad8_row19_col0\" class=\"data row19 col0\" >22e08d5e101ab5b86dc394856d508e175a5242a6</td>\n",
       "      <td id=\"T_72ad8_row19_col1\" class=\"data row19 col1\" >1</td>\n",
       "      <td id=\"T_72ad8_row19_col2\" class=\"data row19 col2\" >Emma</td>\n",
       "      <td id=\"T_72ad8_row19_col3\" class=\"data row19 col3\" >Their Greatest Hits</td>\n",
       "      <td id=\"T_72ad8_row19_col4\" class=\"data row19 col4\" >Hot Chocolate</td>\n",
       "    </tr>\n",
       "    <tr>\n",
       "      <th id=\"T_72ad8_level0_row20\" class=\"row_heading level0 row20\" >4428535</th>\n",
       "      <td id=\"T_72ad8_row20_col0\" class=\"data row20 col0\" >22e08d5e101ab5b86dc394856d508e175a5242a6</td>\n",
       "      <td id=\"T_72ad8_row20_col1\" class=\"data row20 col1\" >16</td>\n",
       "      <td id=\"T_72ad8_row20_col2\" class=\"data row20 col2\" >I Will Deny</td>\n",
       "      <td id=\"T_72ad8_row20_col3\" class=\"data row20 col3\" >The Dwarves Are Young & Goodlooking</td>\n",
       "      <td id=\"T_72ad8_row20_col4\" class=\"data row20 col4\" >Dwarves</td>\n",
       "    </tr>\n",
       "    <tr>\n",
       "      <th id=\"T_72ad8_level0_row21\" class=\"row_heading level0 row21\" >4443209</th>\n",
       "      <td id=\"T_72ad8_row21_col0\" class=\"data row21 col0\" >22e08d5e101ab5b86dc394856d508e175a5242a6</td>\n",
       "      <td id=\"T_72ad8_row21_col1\" class=\"data row21 col1\" >1</td>\n",
       "      <td id=\"T_72ad8_row21_col2\" class=\"data row21 col2\" >Cherry-coloured Funk</td>\n",
       "      <td id=\"T_72ad8_row21_col3\" class=\"data row21 col3\" >Heaven Or Las Vegas (Remastered)</td>\n",
       "      <td id=\"T_72ad8_row21_col4\" class=\"data row21 col4\" >Cocteau Twins</td>\n",
       "    </tr>\n",
       "    <tr>\n",
       "      <th id=\"T_72ad8_level0_row22\" class=\"row_heading level0 row22\" >4587026</th>\n",
       "      <td id=\"T_72ad8_row22_col0\" class=\"data row22 col0\" >22e08d5e101ab5b86dc394856d508e175a5242a6</td>\n",
       "      <td id=\"T_72ad8_row22_col1\" class=\"data row22 col1\" >262</td>\n",
       "      <td id=\"T_72ad8_row22_col2\" class=\"data row22 col2\" >Pimp</td>\n",
       "      <td id=\"T_72ad8_row22_col3\" class=\"data row22 col3\" >The Dwarves Are Young & Goodlooking</td>\n",
       "      <td id=\"T_72ad8_row22_col4\" class=\"data row22 col4\" >Dwarves</td>\n",
       "    </tr>\n",
       "    <tr>\n",
       "      <th id=\"T_72ad8_level0_row23\" class=\"row_heading level0 row23\" >4689316</th>\n",
       "      <td id=\"T_72ad8_row23_col0\" class=\"data row23 col0\" >22e08d5e101ab5b86dc394856d508e175a5242a6</td>\n",
       "      <td id=\"T_72ad8_row23_col1\" class=\"data row23 col1\" >5</td>\n",
       "      <td id=\"T_72ad8_row23_col2\" class=\"data row23 col2\" >Hits</td>\n",
       "      <td id=\"T_72ad8_row23_col3\" class=\"data row23 col3\" >The Dwarves Are Young & Goodlooking</td>\n",
       "      <td id=\"T_72ad8_row23_col4\" class=\"data row23 col4\" >Dwarves</td>\n",
       "    </tr>\n",
       "    <tr>\n",
       "      <th id=\"T_72ad8_level0_row24\" class=\"row_heading level0 row24\" >4689346</th>\n",
       "      <td id=\"T_72ad8_row24_col0\" class=\"data row24 col0\" >22e08d5e101ab5b86dc394856d508e175a5242a6</td>\n",
       "      <td id=\"T_72ad8_row24_col1\" class=\"data row24 col1\" >6</td>\n",
       "      <td id=\"T_72ad8_row24_col2\" class=\"data row24 col2\" >Throw That World Away</td>\n",
       "      <td id=\"T_72ad8_row24_col3\" class=\"data row24 col3\" >The Dwarves Are Young & Goodlooking</td>\n",
       "      <td id=\"T_72ad8_row24_col4\" class=\"data row24 col4\" >Dwarves</td>\n",
       "    </tr>\n",
       "    <tr>\n",
       "      <th id=\"T_72ad8_level0_row25\" class=\"row_heading level0 row25\" >4689386</th>\n",
       "      <td id=\"T_72ad8_row25_col0\" class=\"data row25 col0\" >22e08d5e101ab5b86dc394856d508e175a5242a6</td>\n",
       "      <td id=\"T_72ad8_row25_col1\" class=\"data row25 col1\" >4</td>\n",
       "      <td id=\"T_72ad8_row25_col2\" class=\"data row25 col2\" >The Crucifixion Is Now</td>\n",
       "      <td id=\"T_72ad8_row25_col3\" class=\"data row25 col3\" >The Dwarves Are Young & Goodlooking</td>\n",
       "      <td id=\"T_72ad8_row25_col4\" class=\"data row25 col4\" >Dwarves</td>\n",
       "    </tr>\n",
       "    <tr>\n",
       "      <th id=\"T_72ad8_level0_row26\" class=\"row_heading level0 row26\" >4689425</th>\n",
       "      <td id=\"T_72ad8_row26_col0\" class=\"data row26 col0\" >22e08d5e101ab5b86dc394856d508e175a5242a6</td>\n",
       "      <td id=\"T_72ad8_row26_col1\" class=\"data row26 col1\" >3</td>\n",
       "      <td id=\"T_72ad8_row26_col2\" class=\"data row26 col2\" >You Gotta Burn</td>\n",
       "      <td id=\"T_72ad8_row26_col3\" class=\"data row26 col3\" >The Dwarves Are Young & Goodlooking</td>\n",
       "      <td id=\"T_72ad8_row26_col4\" class=\"data row26 col4\" >Dwarves</td>\n",
       "    </tr>\n",
       "    <tr>\n",
       "      <th id=\"T_72ad8_level0_row27\" class=\"row_heading level0 row27\" >4695923</th>\n",
       "      <td id=\"T_72ad8_row27_col0\" class=\"data row27 col0\" >22e08d5e101ab5b86dc394856d508e175a5242a6</td>\n",
       "      <td id=\"T_72ad8_row27_col1\" class=\"data row27 col1\" >18</td>\n",
       "      <td id=\"T_72ad8_row27_col2\" class=\"data row27 col2\" >To Know Him Is To Love Him</td>\n",
       "      <td id=\"T_72ad8_row27_col3\" class=\"data row27 col3\" >Backline Volume 47</td>\n",
       "      <td id=\"T_72ad8_row27_col4\" class=\"data row27 col4\" >The Teddy Bears</td>\n",
       "    </tr>\n",
       "    <tr>\n",
       "      <th id=\"T_72ad8_level0_row28\" class=\"row_heading level0 row28\" >4912749</th>\n",
       "      <td id=\"T_72ad8_row28_col0\" class=\"data row28 col0\" >22e08d5e101ab5b86dc394856d508e175a5242a6</td>\n",
       "      <td id=\"T_72ad8_row28_col1\" class=\"data row28 col1\" >6</td>\n",
       "      <td id=\"T_72ad8_row28_col2\" class=\"data row28 col2\" >Demonica</td>\n",
       "      <td id=\"T_72ad8_row28_col3\" class=\"data row28 col3\" >The Dwarves Are Young & Goodlooking</td>\n",
       "      <td id=\"T_72ad8_row28_col4\" class=\"data row28 col4\" >Dwarves</td>\n",
       "    </tr>\n",
       "  </tbody>\n",
       "</table>\n"
      ],
      "text/plain": [
       "<pandas.io.formats.style.Styler at 0x1ffa265d130>"
      ]
     },
     "execution_count": 35,
     "metadata": {},
     "output_type": "execute_result"
    }
   ],
   "source": [
    "\n",
    "df_user_temp = df_origin[df_origin[\"user\"] == user_name].drop(df_origin.iloc[:,5: ], axis=1)\n",
    "import dataframe_image as dfi \n",
    "\n",
    "def red_or_auto(x):\n",
    "    # set font color to red for keys whose corresponding v is positive\n",
    "    # all other values have default font color\n",
    "    #return pd.DataFrame('', index=x.index, columns=x.columns).assign(song_name=np.where(x['song_name'] + ' - ' + x['artist_name'].isin(song_reco), \"color:red\", ''))\n",
    "    return pd.DataFrame('', index=x.index, columns=x.columns).assign(song_name=np.where((x['song_name'].isin(song_list)) & (x['artist_name'].isin(artist_list)) , \"color:red\", ''),\n",
    "                                                                     artist_name = (np.where((x['artist_name'].isin(artist_list)) & (x['song_name'].isin(song_list)), \"color:red\", '')))\n",
    "\n",
    "df_styled = df_user_temp.style.apply(red_or_auto, axis=None, subset=['song_name', 'artist_name'])\n",
    "df_styled\n",
    "\n"
   ]
  },
  {
   "cell_type": "code",
   "execution_count": 36,
   "metadata": {},
   "outputs": [
    {
     "name": "stdout",
     "output_type": "stream",
     "text": [
      "['Tú - Jaguares',\n",
      " 'Introduction - Paul Horn',\n",
      " 'Strings - Sofa Surfers',\n",
      " \"Jaden's Interlude - Will Smith\",\n",
      " \"Who'll Stop The Rain - Debbie Davies\",\n",
      " 'Intro - Swell',\n",
      " 'Cherry Red - ZZ Top',\n",
      " 'Holmes Depot - George Lopez',\n",
      " 'All My Only Dreams - The Wonders',\n",
      " 'Socoro - George Lopez']\n"
     ]
    },
    {
     "data": {
      "application/vnd.plotly.v1+json": {
       "config": {
        "plotlyServerURL": "https://plot.ly"
       },
       "data": [
        {
         "fill": "toself",
         "line": {
          "color": "#636EFA"
         },
         "mode": "lines+markers",
         "name": "Cluster center centroid 1 profile",
         "r": [
          0.6494904842014831,
          0.16275338852710702,
          0.1121129110736458,
          -0.5008476110383058,
          -0.7070308246409973,
          -0.20321598650539524,
          -0.019465807156561765,
          0.1080135395663187,
          -0.22124797414742448
         ],
         "subplot": "polar",
         "theta": [
          "Danceability",
          "Energy",
          "Loudness",
          "Speechiness",
          "Acousticness",
          "instrumentalness",
          "Liveness",
          "Valence",
          "Tempo"
         ],
         "type": "scatterpolar"
        },
        {
         "fill": "toself",
         "line": {
          "color": "#EF553B"
         },
         "name": "Closest track rank 1",
         "r": [
          0.5329145433823109,
          0.21312028406884428,
          0.0539541448085856,
          -0.49093162120110506,
          -0.7117714386595325,
          -0.6234594167429364,
          -0.1763939373101176,
          0.3821496556567851,
          -0.1514652706418651
         ],
         "subplot": "polar",
         "theta": [
          "Danceability",
          "Energy",
          "Loudness",
          "Speechiness",
          "Acousticness",
          "instrumentalness",
          "Liveness",
          "Valence",
          "Tempo"
         ],
         "type": "scatterpolar"
        },
        {
         "fill": "toself",
         "line": {
          "color": "#636EFA"
         },
         "mode": "lines+markers",
         "name": "Cluster center centroid 1 profile",
         "r": [
          0.6494904842014831,
          0.16275338852710702,
          0.1121129110736458,
          -0.5008476110383058,
          -0.7070308246409973,
          -0.20321598650539524,
          -0.019465807156561765,
          0.1080135395663187,
          -0.22124797414742448
         ],
         "showlegend": false,
         "subplot": "polar2",
         "theta": [
          "Danceability",
          "Energy",
          "Loudness",
          "Speechiness",
          "Acousticness",
          "instrumentalness",
          "Liveness",
          "Valence",
          "Tempo"
         ],
         "type": "scatterpolar"
        },
        {
         "fill": "toself",
         "line": {
          "color": "#B6E880"
         },
         "name": "Furthest track rank 1",
         "r": [
          -0.037260822491504184,
          -2.2378189585280235,
          -6.096761360070624,
          7.607646090666429,
          2.197140277195937,
          -0.6235690916720154,
          -0.3202160939447451,
          -1.8497772890596542,
          -0.8655393974126123
         ],
         "subplot": "polar2",
         "theta": [
          "Danceability",
          "Energy",
          "Loudness",
          "Speechiness",
          "Acousticness",
          "instrumentalness",
          "Liveness",
          "Valence",
          "Tempo"
         ],
         "type": "scatterpolar"
        },
        {
         "fill": "toself",
         "line": {
          "color": "#636EFA"
         },
         "mode": "lines+markers",
         "name": "Cluster center centroid 1 profile",
         "r": [
          0.6494904842014831,
          0.16275338852710702,
          0.1121129110736458,
          -0.5008476110383058,
          -0.7070308246409973,
          -0.20321598650539524,
          -0.019465807156561765,
          0.1080135395663187,
          -0.22124797414742448
         ],
         "showlegend": false,
         "subplot": "polar3",
         "theta": [
          "Danceability",
          "Energy",
          "Loudness",
          "Speechiness",
          "Acousticness",
          "instrumentalness",
          "Liveness",
          "Valence",
          "Tempo"
         ],
         "type": "scatterpolar"
        },
        {
         "fill": "toself",
         "line": {
          "color": "#EF553B"
         },
         "name": "Closest track rank 2",
         "r": [
          0.5944040436236048,
          0.3346479816384268,
          0.08231297654214781,
          -0.5231047418441542,
          -0.7757817209155208,
          -0.6047720274381924,
          -0.3042358543186754,
          0.15895696118514135,
          0.07932710219093042
         ],
         "subplot": "polar3",
         "theta": [
          "Danceability",
          "Energy",
          "Loudness",
          "Speechiness",
          "Acousticness",
          "instrumentalness",
          "Liveness",
          "Valence",
          "Tempo"
         ],
         "type": "scatterpolar"
        },
        {
         "fill": "toself",
         "line": {
          "color": "#636EFA"
         },
         "mode": "lines+markers",
         "name": "Cluster center centroid 1 profile",
         "r": [
          0.6494904842014831,
          0.16275338852710702,
          0.1121129110736458,
          -0.5008476110383058,
          -0.7070308246409973,
          -0.20321598650539524,
          -0.019465807156561765,
          0.1080135395663187,
          -0.22124797414742448
         ],
         "showlegend": false,
         "subplot": "polar4",
         "theta": [
          "Danceability",
          "Energy",
          "Loudness",
          "Speechiness",
          "Acousticness",
          "instrumentalness",
          "Liveness",
          "Valence",
          "Tempo"
         ],
         "type": "scatterpolar"
        },
        {
         "fill": "toself",
         "line": {
          "color": "#B6E880"
         },
         "name": "Furthest track rank 2",
         "r": [
          1.0527803181496134,
          -1.8606910712314484,
          -2.8141140518642684,
          8.502461008551235,
          1.7796819146568825,
          -0.6235690916720154,
          3.6908240521987556,
          -1.0185769096480148,
          -2.3667530739111062
         ],
         "subplot": "polar4",
         "theta": [
          "Danceability",
          "Energy",
          "Loudness",
          "Speechiness",
          "Acousticness",
          "instrumentalness",
          "Liveness",
          "Valence",
          "Tempo"
         ],
         "type": "scatterpolar"
        },
        {
         "fill": "toself",
         "line": {
          "color": "#636EFA"
         },
         "mode": "lines+markers",
         "name": "Cluster center centroid 1 profile",
         "r": [
          0.6494904842014831,
          0.16275338852710702,
          0.1121129110736458,
          -0.5008476110383058,
          -0.7070308246409973,
          -0.20321598650539524,
          -0.019465807156561765,
          0.1080135395663187,
          -0.22124797414742448
         ],
         "showlegend": false,
         "subplot": "polar5",
         "theta": [
          "Danceability",
          "Energy",
          "Loudness",
          "Speechiness",
          "Acousticness",
          "instrumentalness",
          "Liveness",
          "Valence",
          "Tempo"
         ],
         "type": "scatterpolar"
        },
        {
         "fill": "toself",
         "line": {
          "color": "#EF553B"
         },
         "name": "Closest track rank 3",
         "r": [
          0.6726634075670697,
          0.09159258649926223,
          0.2916281631470096,
          -0.4869099811207239,
          -0.3539941605427282,
          -0.6215248728550145,
          0.06863640362295098,
          0.32827555699121624,
          -0.21077485680750568
         ],
         "subplot": "polar5",
         "theta": [
          "Danceability",
          "Energy",
          "Loudness",
          "Speechiness",
          "Acousticness",
          "instrumentalness",
          "Liveness",
          "Valence",
          "Tempo"
         ],
         "type": "scatterpolar"
        },
        {
         "fill": "toself",
         "line": {
          "color": "#636EFA"
         },
         "mode": "lines+markers",
         "name": "Cluster center centroid 1 profile",
         "r": [
          0.6494904842014831,
          0.16275338852710702,
          0.1121129110736458,
          -0.5008476110383058,
          -0.7070308246409973,
          -0.20321598650539524,
          -0.019465807156561765,
          0.1080135395663187,
          -0.22124797414742448
         ],
         "showlegend": false,
         "subplot": "polar6",
         "theta": [
          "Danceability",
          "Energy",
          "Loudness",
          "Speechiness",
          "Acousticness",
          "instrumentalness",
          "Liveness",
          "Valence",
          "Tempo"
         ],
         "type": "scatterpolar"
        },
        {
         "fill": "toself",
         "line": {
          "color": "#B6E880"
         },
         "name": "Furthest track rank 3",
         "r": [
          1.6397255477255994,
          -1.8998935543184103,
          -4.23880774133607,
          8.442136407345517,
          1.8013279038255745,
          -0.6235690916720154,
          1.7305813247342028,
          0.48604970308324014,
          -2.330469562374479
         ],
         "subplot": "polar6",
         "theta": [
          "Danceability",
          "Energy",
          "Loudness",
          "Speechiness",
          "Acousticness",
          "instrumentalness",
          "Liveness",
          "Valence",
          "Tempo"
         ],
         "type": "scatterpolar"
        },
        {
         "fill": "toself",
         "line": {
          "color": "#636EFA"
         },
         "mode": "lines+markers",
         "name": "Cluster center centroid 1 profile",
         "r": [
          0.6494904842014831,
          0.16275338852710702,
          0.1121129110736458,
          -0.5008476110383058,
          -0.7070308246409973,
          -0.20321598650539524,
          -0.019465807156561765,
          0.1080135395663187,
          -0.22124797414742448
         ],
         "showlegend": false,
         "subplot": "polar7",
         "theta": [
          "Danceability",
          "Energy",
          "Loudness",
          "Speechiness",
          "Acousticness",
          "instrumentalness",
          "Liveness",
          "Valence",
          "Tempo"
         ],
         "type": "scatterpolar"
        },
        {
         "fill": "toself",
         "line": {
          "color": "#EF553B"
         },
         "name": "Closest track rank 4",
         "r": [
          0.549684407084482,
          0.4561756792080093,
          0.21082799971567046,
          -0.5120452316231061,
          -0.8461033551562663,
          -0.6196390733800167,
          -0.2776021216085591,
          0.21283105985071063,
          -0.053280493544123876
         ],
         "subplot": "polar7",
         "theta": [
          "Danceability",
          "Energy",
          "Loudness",
          "Speechiness",
          "Acousticness",
          "instrumentalness",
          "Liveness",
          "Valence",
          "Tempo"
         ],
         "type": "scatterpolar"
        },
        {
         "fill": "toself",
         "line": {
          "color": "#636EFA"
         },
         "mode": "lines+markers",
         "name": "Cluster center centroid 1 profile",
         "r": [
          0.6494904842014831,
          0.16275338852710702,
          0.1121129110736458,
          -0.5008476110383058,
          -0.7070308246409973,
          -0.20321598650539524,
          -0.019465807156561765,
          0.1080135395663187,
          -0.22124797414742448
         ],
         "showlegend": false,
         "subplot": "polar8",
         "theta": [
          "Danceability",
          "Energy",
          "Loudness",
          "Speechiness",
          "Acousticness",
          "instrumentalness",
          "Liveness",
          "Valence",
          "Tempo"
         ],
         "type": "scatterpolar"
        },
        {
         "fill": "toself",
         "line": {
          "color": "#B6E880"
         },
         "name": "Furthest track rank 4",
         "r": [
          -0.6074361883653192,
          -0.2612297612833966,
          -1.5917583761104999,
          8.783975814177914,
          1.918834702169901,
          -0.6235690916720154,
          3.8346462088333833,
          -0.7492064163201687,
          -1.4840868797989244
         ],
         "subplot": "polar8",
         "theta": [
          "Danceability",
          "Energy",
          "Loudness",
          "Speechiness",
          "Acousticness",
          "instrumentalness",
          "Liveness",
          "Valence",
          "Tempo"
         ],
         "type": "scatterpolar"
        },
        {
         "fill": "toself",
         "line": {
          "color": "#636EFA"
         },
         "mode": "lines+markers",
         "name": "Cluster center centroid 1 profile",
         "r": [
          0.6494904842014831,
          0.16275338852710702,
          0.1121129110736458,
          -0.5008476110383058,
          -0.7070308246409973,
          -0.20321598650539524,
          -0.019465807156561765,
          0.1080135395663187,
          -0.22124797414742448
         ],
         "showlegend": false,
         "subplot": "polar9",
         "theta": [
          "Danceability",
          "Energy",
          "Loudness",
          "Speechiness",
          "Acousticness",
          "instrumentalness",
          "Liveness",
          "Valence",
          "Tempo"
         ],
         "type": "scatterpolar"
        },
        {
         "fill": "toself",
         "line": {
          "color": "#EF553B"
         },
         "name": "Closest track rank 5",
         "r": [
          0.901851544830074,
          0.09551283480795844,
          0.49486645723753664,
          -0.54321294224606,
          -0.6904346779075364,
          -0.6235690916720154,
          0.04732941745485858,
          0.23591995927881176,
          -0.28683067906697435
         ],
         "subplot": "polar9",
         "theta": [
          "Danceability",
          "Energy",
          "Loudness",
          "Speechiness",
          "Acousticness",
          "instrumentalness",
          "Liveness",
          "Valence",
          "Tempo"
         ],
         "type": "scatterpolar"
        },
        {
         "fill": "toself",
         "line": {
          "color": "#636EFA"
         },
         "mode": "lines+markers",
         "name": "Cluster center centroid 1 profile",
         "r": [
          0.6494904842014831,
          0.16275338852710702,
          0.1121129110736458,
          -0.5008476110383058,
          -0.7070308246409973,
          -0.20321598650539524,
          -0.019465807156561765,
          0.1080135395663187,
          -0.22124797414742448
         ],
         "showlegend": false,
         "subplot": "polar10",
         "theta": [
          "Danceability",
          "Energy",
          "Loudness",
          "Speechiness",
          "Acousticness",
          "instrumentalness",
          "Liveness",
          "Valence",
          "Tempo"
         ],
         "type": "scatterpolar"
        },
        {
         "fill": "toself",
         "line": {
          "color": "#B6E880"
         },
         "name": "Furthest track rank 5",
         "r": [
          0.16397754193454842,
          -0.9276719737617518,
          -2.0171408521139287,
          8.542677409355047,
          1.7178362313177633,
          -0.6235690916720154,
          3.9997753516361034,
          -0.4259618243267532,
          -2.1845713030728944
         ],
         "subplot": "polar10",
         "theta": [
          "Danceability",
          "Energy",
          "Loudness",
          "Speechiness",
          "Acousticness",
          "instrumentalness",
          "Liveness",
          "Valence",
          "Tempo"
         ],
         "type": "scatterpolar"
        }
       ],
       "layout": {
        "annotations": [
         {
          "font": {
           "size": 16
          },
          "showarrow": false,
          "text": "Tú - Jaguares",
          "x": 0.25,
          "xanchor": "center",
          "xref": "paper",
          "y": 1.03,
          "yanchor": "bottom",
          "yref": "paper"
         },
         {
          "font": {
           "size": 16
          },
          "showarrow": false,
          "text": "Introduction - Paul Horn",
          "x": 0.75,
          "xanchor": "center",
          "xref": "paper",
          "y": 1.03,
          "yanchor": "bottom",
          "yref": "paper"
         },
         {
          "font": {
           "size": 16
          },
          "showarrow": false,
          "text": "Strings - Sofa Surfers",
          "x": 0.25,
          "xanchor": "center",
          "xref": "paper",
          "y": 0.82,
          "yanchor": "bottom",
          "yref": "paper"
         },
         {
          "font": {
           "size": 16
          },
          "showarrow": false,
          "text": "Jaden's Interlude - Will Smith",
          "x": 0.75,
          "xanchor": "center",
          "xref": "paper",
          "y": 0.82,
          "yanchor": "bottom",
          "yref": "paper"
         },
         {
          "font": {
           "size": 16
          },
          "showarrow": false,
          "text": "Who'll Stop The Rain - Debbie Davies",
          "x": 0.25,
          "xanchor": "center",
          "xref": "paper",
          "y": 0.6,
          "yanchor": "bottom",
          "yref": "paper"
         },
         {
          "font": {
           "size": 16
          },
          "showarrow": false,
          "text": "Intro - Swell",
          "x": 0.75,
          "xanchor": "center",
          "xref": "paper",
          "y": 0.6,
          "yanchor": "bottom",
          "yref": "paper"
         },
         {
          "font": {
           "size": 16
          },
          "showarrow": false,
          "text": "Cherry Red - ZZ Top",
          "x": 0.25,
          "xanchor": "center",
          "xref": "paper",
          "y": 0.38,
          "yanchor": "bottom",
          "yref": "paper"
         },
         {
          "font": {
           "size": 16
          },
          "showarrow": false,
          "text": "Holmes Depot - George Lopez",
          "x": 0.75,
          "xanchor": "center",
          "xref": "paper",
          "y": 0.38,
          "yanchor": "bottom",
          "yref": "paper"
         },
         {
          "font": {
           "size": 16
          },
          "showarrow": false,
          "text": "All My Only Dreams - The Wonders",
          "x": 0.25,
          "xanchor": "center",
          "xref": "paper",
          "y": 0.16,
          "yanchor": "bottom",
          "yref": "paper"
         },
         {
          "font": {
           "size": 16
          },
          "showarrow": false,
          "text": "Socoro - George Lopez",
          "x": 0.75,
          "xanchor": "center",
          "xref": "paper",
          "y": 0.16,
          "yanchor": "bottom",
          "yref": "paper"
         },
         {
          "font": {
           "color": "black",
           "size": 20
          },
          "showarrow": false,
          "text": "Closest tracks from centroid 1",
          "x": 0.12,
          "y": 1.09
         },
         {
          "font": {
           "color": "black",
           "size": 22
          },
          "showarrow": false,
          "text": "Furthest tracks from centroid 1",
          "x": 0.9,
          "y": 1.09
         },
         {
          "font": {
           "color": "black",
           "size": 22
          },
          "showarrow": false,
          "text": "Rank",
          "x": 0.005,
          "y": 1.09
         },
         {
          "font": {
           "color": "black",
           "size": 22
          },
          "showarrow": false,
          "text": "1",
          "x": 0.01,
          "y": 1.05
         },
         {
          "font": {
           "color": "black",
           "size": 22
          },
          "showarrow": false,
          "text": "2",
          "x": 0.01,
          "y": 0.84
         },
         {
          "font": {
           "color": "black",
           "size": 22
          },
          "showarrow": false,
          "text": "3",
          "x": 0.01,
          "y": 0.608
         },
         {
          "font": {
           "color": "black",
           "size": 22
          },
          "showarrow": false,
          "text": "4",
          "x": 0.01,
          "y": 0.389
         },
         {
          "font": {
           "color": "black",
           "size": 22
          },
          "showarrow": false,
          "text": "5",
          "x": 0.01,
          "y": 0.159
         }
        ],
        "height": 1600,
        "margin": {
         "b": 50,
         "l": 50,
         "r": 50,
         "t": 200
        },
        "polar": {
         "domain": {
          "x": [
           0,
           0.5
          ],
          "y": [
           0.88,
           1
          ]
         },
         "radialaxis": {
          "range": [
           -0.8461033551562663,
           0.901851544830074
          ],
          "showticklabels": false,
          "ticks": ""
         }
        },
        "polar10": {
         "domain": {
          "x": [
           0.5,
           1
          ],
          "y": [
           0,
           0.12
          ]
         },
         "radialaxis": {
          "range": [
           -6.096761360070624,
           8.783975814177914
          ],
          "showticklabels": false,
          "ticks": ""
         }
        },
        "polar2": {
         "domain": {
          "x": [
           0.5,
           1
          ],
          "y": [
           0.88,
           1
          ]
         },
         "radialaxis": {
          "range": [
           -6.096761360070624,
           8.783975814177914
          ],
          "showticklabels": false,
          "ticks": ""
         }
        },
        "polar3": {
         "domain": {
          "x": [
           0,
           0.5
          ],
          "y": [
           0.66,
           0.78
          ]
         },
         "radialaxis": {
          "range": [
           -0.8461033551562663,
           0.901851544830074
          ],
          "showticklabels": false,
          "ticks": ""
         }
        },
        "polar4": {
         "domain": {
          "x": [
           0.5,
           1
          ],
          "y": [
           0.66,
           0.78
          ]
         },
         "radialaxis": {
          "range": [
           -6.096761360070624,
           8.783975814177914
          ],
          "showticklabels": false,
          "ticks": ""
         }
        },
        "polar5": {
         "domain": {
          "x": [
           0,
           0.5
          ],
          "y": [
           0.44,
           0.56
          ]
         },
         "radialaxis": {
          "range": [
           -0.8461033551562663,
           0.901851544830074
          ],
          "showticklabels": false,
          "ticks": ""
         }
        },
        "polar6": {
         "domain": {
          "x": [
           0.5,
           1
          ],
          "y": [
           0.44,
           0.56
          ]
         },
         "radialaxis": {
          "range": [
           -6.096761360070624,
           8.783975814177914
          ],
          "showticklabels": false,
          "ticks": ""
         }
        },
        "polar7": {
         "domain": {
          "x": [
           0,
           0.5
          ],
          "y": [
           0.22,
           0.33999999999999997
          ]
         },
         "radialaxis": {
          "range": [
           -0.8461033551562663,
           0.901851544830074
          ],
          "showticklabels": false,
          "ticks": ""
         }
        },
        "polar8": {
         "domain": {
          "x": [
           0.5,
           1
          ],
          "y": [
           0.22,
           0.33999999999999997
          ]
         },
         "radialaxis": {
          "range": [
           -6.096761360070624,
           8.783975814177914
          ],
          "showticklabels": false,
          "ticks": ""
         }
        },
        "polar9": {
         "domain": {
          "x": [
           0,
           0.5
          ],
          "y": [
           0,
           0.12
          ]
         },
         "radialaxis": {
          "range": [
           -0.8461033551562663,
           0.901851544830074
          ],
          "showticklabels": false,
          "ticks": ""
         }
        },
        "showlegend": false,
        "template": {
         "data": {
          "bar": [
           {
            "error_x": {
             "color": "#2a3f5f"
            },
            "error_y": {
             "color": "#2a3f5f"
            },
            "marker": {
             "line": {
              "color": "#E5ECF6",
              "width": 0.5
             },
             "pattern": {
              "fillmode": "overlay",
              "size": 10,
              "solidity": 0.2
             }
            },
            "type": "bar"
           }
          ],
          "barpolar": [
           {
            "marker": {
             "line": {
              "color": "#E5ECF6",
              "width": 0.5
             },
             "pattern": {
              "fillmode": "overlay",
              "size": 10,
              "solidity": 0.2
             }
            },
            "type": "barpolar"
           }
          ],
          "carpet": [
           {
            "aaxis": {
             "endlinecolor": "#2a3f5f",
             "gridcolor": "white",
             "linecolor": "white",
             "minorgridcolor": "white",
             "startlinecolor": "#2a3f5f"
            },
            "baxis": {
             "endlinecolor": "#2a3f5f",
             "gridcolor": "white",
             "linecolor": "white",
             "minorgridcolor": "white",
             "startlinecolor": "#2a3f5f"
            },
            "type": "carpet"
           }
          ],
          "choropleth": [
           {
            "colorbar": {
             "outlinewidth": 0,
             "ticks": ""
            },
            "type": "choropleth"
           }
          ],
          "contour": [
           {
            "colorbar": {
             "outlinewidth": 0,
             "ticks": ""
            },
            "colorscale": [
             [
              0,
              "#0d0887"
             ],
             [
              0.1111111111111111,
              "#46039f"
             ],
             [
              0.2222222222222222,
              "#7201a8"
             ],
             [
              0.3333333333333333,
              "#9c179e"
             ],
             [
              0.4444444444444444,
              "#bd3786"
             ],
             [
              0.5555555555555556,
              "#d8576b"
             ],
             [
              0.6666666666666666,
              "#ed7953"
             ],
             [
              0.7777777777777778,
              "#fb9f3a"
             ],
             [
              0.8888888888888888,
              "#fdca26"
             ],
             [
              1,
              "#f0f921"
             ]
            ],
            "type": "contour"
           }
          ],
          "contourcarpet": [
           {
            "colorbar": {
             "outlinewidth": 0,
             "ticks": ""
            },
            "type": "contourcarpet"
           }
          ],
          "heatmap": [
           {
            "colorbar": {
             "outlinewidth": 0,
             "ticks": ""
            },
            "colorscale": [
             [
              0,
              "#0d0887"
             ],
             [
              0.1111111111111111,
              "#46039f"
             ],
             [
              0.2222222222222222,
              "#7201a8"
             ],
             [
              0.3333333333333333,
              "#9c179e"
             ],
             [
              0.4444444444444444,
              "#bd3786"
             ],
             [
              0.5555555555555556,
              "#d8576b"
             ],
             [
              0.6666666666666666,
              "#ed7953"
             ],
             [
              0.7777777777777778,
              "#fb9f3a"
             ],
             [
              0.8888888888888888,
              "#fdca26"
             ],
             [
              1,
              "#f0f921"
             ]
            ],
            "type": "heatmap"
           }
          ],
          "heatmapgl": [
           {
            "colorbar": {
             "outlinewidth": 0,
             "ticks": ""
            },
            "colorscale": [
             [
              0,
              "#0d0887"
             ],
             [
              0.1111111111111111,
              "#46039f"
             ],
             [
              0.2222222222222222,
              "#7201a8"
             ],
             [
              0.3333333333333333,
              "#9c179e"
             ],
             [
              0.4444444444444444,
              "#bd3786"
             ],
             [
              0.5555555555555556,
              "#d8576b"
             ],
             [
              0.6666666666666666,
              "#ed7953"
             ],
             [
              0.7777777777777778,
              "#fb9f3a"
             ],
             [
              0.8888888888888888,
              "#fdca26"
             ],
             [
              1,
              "#f0f921"
             ]
            ],
            "type": "heatmapgl"
           }
          ],
          "histogram": [
           {
            "marker": {
             "pattern": {
              "fillmode": "overlay",
              "size": 10,
              "solidity": 0.2
             }
            },
            "type": "histogram"
           }
          ],
          "histogram2d": [
           {
            "colorbar": {
             "outlinewidth": 0,
             "ticks": ""
            },
            "colorscale": [
             [
              0,
              "#0d0887"
             ],
             [
              0.1111111111111111,
              "#46039f"
             ],
             [
              0.2222222222222222,
              "#7201a8"
             ],
             [
              0.3333333333333333,
              "#9c179e"
             ],
             [
              0.4444444444444444,
              "#bd3786"
             ],
             [
              0.5555555555555556,
              "#d8576b"
             ],
             [
              0.6666666666666666,
              "#ed7953"
             ],
             [
              0.7777777777777778,
              "#fb9f3a"
             ],
             [
              0.8888888888888888,
              "#fdca26"
             ],
             [
              1,
              "#f0f921"
             ]
            ],
            "type": "histogram2d"
           }
          ],
          "histogram2dcontour": [
           {
            "colorbar": {
             "outlinewidth": 0,
             "ticks": ""
            },
            "colorscale": [
             [
              0,
              "#0d0887"
             ],
             [
              0.1111111111111111,
              "#46039f"
             ],
             [
              0.2222222222222222,
              "#7201a8"
             ],
             [
              0.3333333333333333,
              "#9c179e"
             ],
             [
              0.4444444444444444,
              "#bd3786"
             ],
             [
              0.5555555555555556,
              "#d8576b"
             ],
             [
              0.6666666666666666,
              "#ed7953"
             ],
             [
              0.7777777777777778,
              "#fb9f3a"
             ],
             [
              0.8888888888888888,
              "#fdca26"
             ],
             [
              1,
              "#f0f921"
             ]
            ],
            "type": "histogram2dcontour"
           }
          ],
          "mesh3d": [
           {
            "colorbar": {
             "outlinewidth": 0,
             "ticks": ""
            },
            "type": "mesh3d"
           }
          ],
          "parcoords": [
           {
            "line": {
             "colorbar": {
              "outlinewidth": 0,
              "ticks": ""
             }
            },
            "type": "parcoords"
           }
          ],
          "pie": [
           {
            "automargin": true,
            "type": "pie"
           }
          ],
          "scatter": [
           {
            "fillpattern": {
             "fillmode": "overlay",
             "size": 10,
             "solidity": 0.2
            },
            "type": "scatter"
           }
          ],
          "scatter3d": [
           {
            "line": {
             "colorbar": {
              "outlinewidth": 0,
              "ticks": ""
             }
            },
            "marker": {
             "colorbar": {
              "outlinewidth": 0,
              "ticks": ""
             }
            },
            "type": "scatter3d"
           }
          ],
          "scattercarpet": [
           {
            "marker": {
             "colorbar": {
              "outlinewidth": 0,
              "ticks": ""
             }
            },
            "type": "scattercarpet"
           }
          ],
          "scattergeo": [
           {
            "marker": {
             "colorbar": {
              "outlinewidth": 0,
              "ticks": ""
             }
            },
            "type": "scattergeo"
           }
          ],
          "scattergl": [
           {
            "marker": {
             "colorbar": {
              "outlinewidth": 0,
              "ticks": ""
             }
            },
            "type": "scattergl"
           }
          ],
          "scattermapbox": [
           {
            "marker": {
             "colorbar": {
              "outlinewidth": 0,
              "ticks": ""
             }
            },
            "type": "scattermapbox"
           }
          ],
          "scatterpolar": [
           {
            "marker": {
             "colorbar": {
              "outlinewidth": 0,
              "ticks": ""
             }
            },
            "type": "scatterpolar"
           }
          ],
          "scatterpolargl": [
           {
            "marker": {
             "colorbar": {
              "outlinewidth": 0,
              "ticks": ""
             }
            },
            "type": "scatterpolargl"
           }
          ],
          "scatterternary": [
           {
            "marker": {
             "colorbar": {
              "outlinewidth": 0,
              "ticks": ""
             }
            },
            "type": "scatterternary"
           }
          ],
          "surface": [
           {
            "colorbar": {
             "outlinewidth": 0,
             "ticks": ""
            },
            "colorscale": [
             [
              0,
              "#0d0887"
             ],
             [
              0.1111111111111111,
              "#46039f"
             ],
             [
              0.2222222222222222,
              "#7201a8"
             ],
             [
              0.3333333333333333,
              "#9c179e"
             ],
             [
              0.4444444444444444,
              "#bd3786"
             ],
             [
              0.5555555555555556,
              "#d8576b"
             ],
             [
              0.6666666666666666,
              "#ed7953"
             ],
             [
              0.7777777777777778,
              "#fb9f3a"
             ],
             [
              0.8888888888888888,
              "#fdca26"
             ],
             [
              1,
              "#f0f921"
             ]
            ],
            "type": "surface"
           }
          ],
          "table": [
           {
            "cells": {
             "fill": {
              "color": "#EBF0F8"
             },
             "line": {
              "color": "white"
             }
            },
            "header": {
             "fill": {
              "color": "#C8D4E3"
             },
             "line": {
              "color": "white"
             }
            },
            "type": "table"
           }
          ]
         },
         "layout": {
          "annotationdefaults": {
           "arrowcolor": "#2a3f5f",
           "arrowhead": 0,
           "arrowwidth": 1
          },
          "autotypenumbers": "strict",
          "coloraxis": {
           "colorbar": {
            "outlinewidth": 0,
            "ticks": ""
           }
          },
          "colorscale": {
           "diverging": [
            [
             0,
             "#8e0152"
            ],
            [
             0.1,
             "#c51b7d"
            ],
            [
             0.2,
             "#de77ae"
            ],
            [
             0.3,
             "#f1b6da"
            ],
            [
             0.4,
             "#fde0ef"
            ],
            [
             0.5,
             "#f7f7f7"
            ],
            [
             0.6,
             "#e6f5d0"
            ],
            [
             0.7,
             "#b8e186"
            ],
            [
             0.8,
             "#7fbc41"
            ],
            [
             0.9,
             "#4d9221"
            ],
            [
             1,
             "#276419"
            ]
           ],
           "sequential": [
            [
             0,
             "#0d0887"
            ],
            [
             0.1111111111111111,
             "#46039f"
            ],
            [
             0.2222222222222222,
             "#7201a8"
            ],
            [
             0.3333333333333333,
             "#9c179e"
            ],
            [
             0.4444444444444444,
             "#bd3786"
            ],
            [
             0.5555555555555556,
             "#d8576b"
            ],
            [
             0.6666666666666666,
             "#ed7953"
            ],
            [
             0.7777777777777778,
             "#fb9f3a"
            ],
            [
             0.8888888888888888,
             "#fdca26"
            ],
            [
             1,
             "#f0f921"
            ]
           ],
           "sequentialminus": [
            [
             0,
             "#0d0887"
            ],
            [
             0.1111111111111111,
             "#46039f"
            ],
            [
             0.2222222222222222,
             "#7201a8"
            ],
            [
             0.3333333333333333,
             "#9c179e"
            ],
            [
             0.4444444444444444,
             "#bd3786"
            ],
            [
             0.5555555555555556,
             "#d8576b"
            ],
            [
             0.6666666666666666,
             "#ed7953"
            ],
            [
             0.7777777777777778,
             "#fb9f3a"
            ],
            [
             0.8888888888888888,
             "#fdca26"
            ],
            [
             1,
             "#f0f921"
            ]
           ]
          },
          "colorway": [
           "#636efa",
           "#EF553B",
           "#00cc96",
           "#ab63fa",
           "#FFA15A",
           "#19d3f3",
           "#FF6692",
           "#B6E880",
           "#FF97FF",
           "#FECB52"
          ],
          "font": {
           "color": "#2a3f5f"
          },
          "geo": {
           "bgcolor": "white",
           "lakecolor": "white",
           "landcolor": "#E5ECF6",
           "showlakes": true,
           "showland": true,
           "subunitcolor": "white"
          },
          "hoverlabel": {
           "align": "left"
          },
          "hovermode": "closest",
          "mapbox": {
           "style": "light"
          },
          "paper_bgcolor": "white",
          "plot_bgcolor": "#E5ECF6",
          "polar": {
           "angularaxis": {
            "gridcolor": "white",
            "linecolor": "white",
            "ticks": ""
           },
           "bgcolor": "#E5ECF6",
           "radialaxis": {
            "gridcolor": "white",
            "linecolor": "white",
            "ticks": ""
           }
          },
          "scene": {
           "xaxis": {
            "backgroundcolor": "#E5ECF6",
            "gridcolor": "white",
            "gridwidth": 2,
            "linecolor": "white",
            "showbackground": true,
            "ticks": "",
            "zerolinecolor": "white"
           },
           "yaxis": {
            "backgroundcolor": "#E5ECF6",
            "gridcolor": "white",
            "gridwidth": 2,
            "linecolor": "white",
            "showbackground": true,
            "ticks": "",
            "zerolinecolor": "white"
           },
           "zaxis": {
            "backgroundcolor": "#E5ECF6",
            "gridcolor": "white",
            "gridwidth": 2,
            "linecolor": "white",
            "showbackground": true,
            "ticks": "",
            "zerolinecolor": "white"
           }
          },
          "shapedefaults": {
           "line": {
            "color": "#2a3f5f"
           }
          },
          "ternary": {
           "aaxis": {
            "gridcolor": "white",
            "linecolor": "white",
            "ticks": ""
           },
           "baxis": {
            "gridcolor": "white",
            "linecolor": "white",
            "ticks": ""
           },
           "bgcolor": "#E5ECF6",
           "caxis": {
            "gridcolor": "white",
            "linecolor": "white",
            "ticks": ""
           }
          },
          "title": {
           "x": 0.05
          },
          "xaxis": {
           "automargin": true,
           "gridcolor": "white",
           "linecolor": "white",
           "ticks": "",
           "title": {
            "standoff": 15
           },
           "zerolinecolor": "white",
           "zerolinewidth": 2
          },
          "yaxis": {
           "automargin": true,
           "gridcolor": "white",
           "linecolor": "white",
           "ticks": "",
           "title": {
            "standoff": 15
           },
           "zerolinecolor": "white",
           "zerolinewidth": 2
          }
         }
        },
        "title": {
         "font": {
          "size": 18
         },
         "text": "Most similar and different tracks from centroid 1 profile (blue) of user '22e08d5e101ab5b86dc394856d508e175a5242a6'",
         "x": 0.5,
         "y": 0.99
        },
        "width": 1200
       }
      }
     },
     "metadata": {},
     "output_type": "display_data"
    },
    {
     "name": "stdout",
     "output_type": "stream",
     "text": [
      "['Drinking Song - The Gits',\n",
      " '(Kanji) Ooioo - OOIOO',\n",
      " 'Money Talks - Cryptic Slaughter',\n",
      " 'Intro - Swell',\n",
      " 'Paradise By The Dashboard Light - Meat Loaf',\n",
      " 'Introduction - Paul Horn',\n",
      " 'I Will Deny - Dwarves',\n",
      " \"Jaden's Interlude - Will Smith\",\n",
      " 'If I Had A Woman - Sloppy Seconds',\n",
      " 'Rain - Shel Silverstein']\n"
     ]
    },
    {
     "data": {
      "application/vnd.plotly.v1+json": {
       "config": {
        "plotlyServerURL": "https://plot.ly"
       },
       "data": [
        {
         "fill": "toself",
         "line": {
          "color": "#636EFA"
         },
         "mode": "lines+markers",
         "name": "Cluster center centroid 2 profile",
         "r": [
          -1.4731044131711077,
          1.1236520855411605,
          0.6054639079649606,
          0.4982400023138088,
          -0.5796520899643027,
          -0.44826877309711705,
          0.31687321989964845,
          0.13504197714973598,
          1.8384144721636446
         ],
         "subplot": "polar",
         "theta": [
          "Danceability",
          "Energy",
          "Loudness",
          "Speechiness",
          "Acousticness",
          "instrumentalness",
          "Liveness",
          "Valence",
          "Tempo"
         ],
         "type": "scatterpolar"
        },
        {
         "fill": "toself",
         "line": {
          "color": "#EF553B"
         },
         "name": "Closest track rank 1",
         "r": [
          -1.3676700095304062,
          1.2833480723429085,
          0.7237627419441437,
          0.42901854718608223,
          -0.8475350827255669,
          -0.6235655272368203,
          0.3988946892283924,
          0.21667920975539415,
          1.4580340872649333
         ],
         "subplot": "polar",
         "theta": [
          "Danceability",
          "Energy",
          "Loudness",
          "Speechiness",
          "Acousticness",
          "instrumentalness",
          "Liveness",
          "Valence",
          "Tempo"
         ],
         "type": "scatterpolar"
        },
        {
         "fill": "toself",
         "line": {
          "color": "#636EFA"
         },
         "mode": "lines+markers",
         "name": "Cluster center centroid 2 profile",
         "r": [
          -1.4731044131711077,
          1.1236520855411605,
          0.6054639079649606,
          0.4982400023138088,
          -0.5796520899643027,
          -0.44826877309711705,
          0.31687321989964845,
          0.13504197714973598,
          1.8384144721636446
         ],
         "showlegend": false,
         "subplot": "polar2",
         "theta": [
          "Danceability",
          "Energy",
          "Loudness",
          "Speechiness",
          "Acousticness",
          "instrumentalness",
          "Liveness",
          "Valence",
          "Tempo"
         ],
         "type": "scatterpolar"
        },
        {
         "fill": "toself",
         "line": {
          "color": "#B6E880"
         },
         "name": "Furthest track rank 1",
         "r": [
          -2.854597924456238,
          -2.4412798457493565,
          -8.00310504882673,
          -0.7975816773301675,
          1.105563966260484,
          2.237118641806075,
          -0.5918801675879304,
          -1.8497772890596542,
          -4.040645696797743
         ],
         "subplot": "polar2",
         "theta": [
          "Danceability",
          "Energy",
          "Loudness",
          "Speechiness",
          "Acousticness",
          "instrumentalness",
          "Liveness",
          "Valence",
          "Tempo"
         ],
         "type": "scatterpolar"
        },
        {
         "fill": "toself",
         "line": {
          "color": "#636EFA"
         },
         "mode": "lines+markers",
         "name": "Cluster center centroid 2 profile",
         "r": [
          -1.4731044131711077,
          1.1236520855411605,
          0.6054639079649606,
          0.4982400023138088,
          -0.5796520899643027,
          -0.44826877309711705,
          0.31687321989964845,
          0.13504197714973598,
          1.8384144721636446
         ],
         "showlegend": false,
         "subplot": "polar3",
         "theta": [
          "Danceability",
          "Energy",
          "Loudness",
          "Speechiness",
          "Acousticness",
          "instrumentalness",
          "Liveness",
          "Valence",
          "Tempo"
         ],
         "type": "scatterpolar"
        },
        {
         "fill": "toself",
         "line": {
          "color": "#EF553B"
         },
         "name": "Closest track rank 2",
         "r": [
          -1.3509001458282357,
          1.2088633544776806,
          0.6632188868939203,
          0.42901854718608223,
          -0.8481937392531286,
          -0.10261317854661228,
          0.1804980810054396,
          0.4514163539410884,
          1.6438707905839405
         ],
         "subplot": "polar3",
         "theta": [
          "Danceability",
          "Energy",
          "Loudness",
          "Speechiness",
          "Acousticness",
          "instrumentalness",
          "Liveness",
          "Valence",
          "Tempo"
         ],
         "type": "scatterpolar"
        },
        {
         "fill": "toself",
         "line": {
          "color": "#636EFA"
         },
         "mode": "lines+markers",
         "name": "Cluster center centroid 2 profile",
         "r": [
          -1.4731044131711077,
          1.1236520855411605,
          0.6054639079649606,
          0.4982400023138088,
          -0.5796520899643027,
          -0.44826877309711705,
          0.31687321989964845,
          0.13504197714973598,
          1.8384144721636446
         ],
         "showlegend": false,
         "subplot": "polar4",
         "theta": [
          "Danceability",
          "Energy",
          "Loudness",
          "Speechiness",
          "Acousticness",
          "instrumentalness",
          "Liveness",
          "Valence",
          "Tempo"
         ],
         "type": "scatterpolar"
        },
        {
         "fill": "toself",
         "line": {
          "color": "#B6E880"
         },
         "name": "Furthest track rank 2",
         "r": [
          1.6397255477255994,
          -1.8998935543184103,
          -4.23880774133607,
          8.442136407345517,
          1.8013279038255745,
          -0.6235690916720154,
          1.7305813247342028,
          0.48604970308324014,
          -2.330469562374479
         ],
         "subplot": "polar4",
         "theta": [
          "Danceability",
          "Energy",
          "Loudness",
          "Speechiness",
          "Acousticness",
          "instrumentalness",
          "Liveness",
          "Valence",
          "Tempo"
         ],
         "type": "scatterpolar"
        },
        {
         "fill": "toself",
         "line": {
          "color": "#636EFA"
         },
         "mode": "lines+markers",
         "name": "Cluster center centroid 2 profile",
         "r": [
          -1.4731044131711077,
          1.1236520855411605,
          0.6054639079649606,
          0.4982400023138088,
          -0.5796520899643027,
          -0.44826877309711705,
          0.31687321989964845,
          0.13504197714973598,
          1.8384144721636446
         ],
         "showlegend": false,
         "subplot": "polar5",
         "theta": [
          "Danceability",
          "Energy",
          "Loudness",
          "Speechiness",
          "Acousticness",
          "instrumentalness",
          "Liveness",
          "Valence",
          "Tempo"
         ],
         "type": "scatterpolar"
        },
        {
         "fill": "toself",
         "line": {
          "color": "#EF553B"
         },
         "name": "Closest track rank 3",
         "r": [
          -1.0210928263522054,
          1.0324521805863516,
          0.5277266908335687,
          0.41896444698512936,
          -0.4313012647166271,
          -0.6235690916720154,
          0.10059688287509104,
          0.4013904051802027,
          1.7077656556800331
         ],
         "subplot": "polar5",
         "theta": [
          "Danceability",
          "Energy",
          "Loudness",
          "Speechiness",
          "Acousticness",
          "instrumentalness",
          "Liveness",
          "Valence",
          "Tempo"
         ],
         "type": "scatterpolar"
        },
        {
         "fill": "toself",
         "line": {
          "color": "#636EFA"
         },
         "mode": "lines+markers",
         "name": "Cluster center centroid 2 profile",
         "r": [
          -1.4731044131711077,
          1.1236520855411605,
          0.6054639079649606,
          0.4982400023138088,
          -0.5796520899643027,
          -0.44826877309711705,
          0.31687321989964845,
          0.13504197714973598,
          1.8384144721636446
         ],
         "showlegend": false,
         "subplot": "polar6",
         "theta": [
          "Danceability",
          "Energy",
          "Loudness",
          "Speechiness",
          "Acousticness",
          "instrumentalness",
          "Liveness",
          "Valence",
          "Tempo"
         ],
         "type": "scatterpolar"
        },
        {
         "fill": "toself",
         "line": {
          "color": "#B6E880"
         },
         "name": "Furthest track rank 3",
         "r": [
          -0.037260822491504184,
          -2.2378189585280235,
          -6.096761360070624,
          7.607646090666429,
          2.197140277195937,
          -0.6235690916720154,
          -0.3202160939447451,
          -1.8497772890596542,
          -0.8655393974126123
         ],
         "subplot": "polar6",
         "theta": [
          "Danceability",
          "Energy",
          "Loudness",
          "Speechiness",
          "Acousticness",
          "instrumentalness",
          "Liveness",
          "Valence",
          "Tempo"
         ],
         "type": "scatterpolar"
        },
        {
         "fill": "toself",
         "line": {
          "color": "#636EFA"
         },
         "mode": "lines+markers",
         "name": "Cluster center centroid 2 profile",
         "r": [
          -1.4731044131711077,
          1.1236520855411605,
          0.6054639079649606,
          0.4982400023138088,
          -0.5796520899643027,
          -0.44826877309711705,
          0.31687321989964845,
          0.13504197714973598,
          1.8384144721636446
         ],
         "showlegend": false,
         "subplot": "polar7",
         "theta": [
          "Danceability",
          "Energy",
          "Loudness",
          "Speechiness",
          "Acousticness",
          "instrumentalness",
          "Liveness",
          "Valence",
          "Tempo"
         ],
         "type": "scatterpolar"
        },
        {
         "fill": "toself",
         "line": {
          "color": "#EF553B"
         },
         "name": "Closest track rank 4",
         "r": [
          -1.5018289191477745,
          1.1226178916863645,
          0.8846878585274515,
          0.12437931109721041,
          -0.8424513675550916,
          -0.6235690916720154,
          0.6385982836194378,
          -0.1104135321427048,
          1.8354224792365543
         ],
         "subplot": "polar7",
         "theta": [
          "Danceability",
          "Energy",
          "Loudness",
          "Speechiness",
          "Acousticness",
          "instrumentalness",
          "Liveness",
          "Valence",
          "Tempo"
         ],
         "type": "scatterpolar"
        },
        {
         "fill": "toself",
         "line": {
          "color": "#636EFA"
         },
         "mode": "lines+markers",
         "name": "Cluster center centroid 2 profile",
         "r": [
          -1.4731044131711077,
          1.1236520855411605,
          0.6054639079649606,
          0.4982400023138088,
          -0.5796520899643027,
          -0.44826877309711705,
          0.31687321989964845,
          0.13504197714973598,
          1.8384144721636446
         ],
         "showlegend": false,
         "subplot": "polar8",
         "theta": [
          "Danceability",
          "Energy",
          "Loudness",
          "Speechiness",
          "Acousticness",
          "instrumentalness",
          "Liveness",
          "Valence",
          "Tempo"
         ],
         "type": "scatterpolar"
        },
        {
         "fill": "toself",
         "line": {
          "color": "#B6E880"
         },
         "name": "Furthest track rank 4",
         "r": [
          1.0527803181496134,
          -1.8606910712314484,
          -2.8141140518642684,
          8.502461008551235,
          1.7796819146568825,
          -0.6235690916720154,
          3.6908240521987556,
          -1.0185769096480148,
          -2.3667530739111062
         ],
         "subplot": "polar8",
         "theta": [
          "Danceability",
          "Energy",
          "Loudness",
          "Speechiness",
          "Acousticness",
          "instrumentalness",
          "Liveness",
          "Valence",
          "Tempo"
         ],
         "type": "scatterpolar"
        },
        {
         "fill": "toself",
         "line": {
          "color": "#636EFA"
         },
         "mode": "lines+markers",
         "name": "Cluster center centroid 2 profile",
         "r": [
          -1.4731044131711077,
          1.1236520855411605,
          0.6054639079649606,
          0.4982400023138088,
          -0.5796520899643027,
          -0.44826877309711705,
          0.31687321989964845,
          0.13504197714973598,
          1.8384144721636446
         ],
         "showlegend": false,
         "subplot": "polar9",
         "theta": [
          "Danceability",
          "Energy",
          "Loudness",
          "Speechiness",
          "Acousticness",
          "instrumentalness",
          "Liveness",
          "Valence",
          "Tempo"
         ],
         "type": "scatterpolar"
        },
        {
         "fill": "toself",
         "line": {
          "color": "#EF553B"
         },
         "name": "Closest track rank 5",
         "r": [
          -1.6471677378999237,
          1.1696608713907186,
          0.35307229856972705,
          0.2379906433679777,
          -0.8474144836430559,
          -0.6204007048319544,
          0.004715445118672615,
          0.5052904526066577,
          1.903370996720441
         ],
         "subplot": "polar9",
         "theta": [
          "Danceability",
          "Energy",
          "Loudness",
          "Speechiness",
          "Acousticness",
          "instrumentalness",
          "Liveness",
          "Valence",
          "Tempo"
         ],
         "type": "scatterpolar"
        },
        {
         "fill": "toself",
         "line": {
          "color": "#636EFA"
         },
         "mode": "lines+markers",
         "name": "Cluster center centroid 2 profile",
         "r": [
          -1.4731044131711077,
          1.1236520855411605,
          0.6054639079649606,
          0.4982400023138088,
          -0.5796520899643027,
          -0.44826877309711705,
          0.31687321989964845,
          0.13504197714973598,
          1.8384144721636446
         ],
         "showlegend": false,
         "subplot": "polar10",
         "theta": [
          "Danceability",
          "Energy",
          "Loudness",
          "Speechiness",
          "Acousticness",
          "instrumentalness",
          "Liveness",
          "Valence",
          "Tempo"
         ],
         "type": "scatterpolar"
        },
        {
         "fill": "toself",
         "line": {
          "color": "#B6E880"
         },
         "name": "Furthest track rank 5",
         "r": [
          1.7962442756125294,
          -1.7509241185879552,
          -3.8273796111062994,
          8.391865906340753,
          -0.48696237972183476,
          -0.6235690916720154,
          0.18582482754746282,
          -0.41826552451738575,
          -2.7584953825345813
         ],
         "subplot": "polar10",
         "theta": [
          "Danceability",
          "Energy",
          "Loudness",
          "Speechiness",
          "Acousticness",
          "instrumentalness",
          "Liveness",
          "Valence",
          "Tempo"
         ],
         "type": "scatterpolar"
        }
       ],
       "layout": {
        "annotations": [
         {
          "font": {
           "size": 16
          },
          "showarrow": false,
          "text": "Drinking Song - The Gits",
          "x": 0.25,
          "xanchor": "center",
          "xref": "paper",
          "y": 1.03,
          "yanchor": "bottom",
          "yref": "paper"
         },
         {
          "font": {
           "size": 16
          },
          "showarrow": false,
          "text": "(Kanji) Ooioo - OOIOO",
          "x": 0.75,
          "xanchor": "center",
          "xref": "paper",
          "y": 1.03,
          "yanchor": "bottom",
          "yref": "paper"
         },
         {
          "font": {
           "size": 16
          },
          "showarrow": false,
          "text": "Money Talks - Cryptic Slaughter",
          "x": 0.25,
          "xanchor": "center",
          "xref": "paper",
          "y": 0.82,
          "yanchor": "bottom",
          "yref": "paper"
         },
         {
          "font": {
           "size": 16
          },
          "showarrow": false,
          "text": "Intro - Swell",
          "x": 0.75,
          "xanchor": "center",
          "xref": "paper",
          "y": 0.82,
          "yanchor": "bottom",
          "yref": "paper"
         },
         {
          "font": {
           "size": 16
          },
          "showarrow": false,
          "text": "Paradise By The Dashboard Light - Meat Loaf",
          "x": 0.25,
          "xanchor": "center",
          "xref": "paper",
          "y": 0.6,
          "yanchor": "bottom",
          "yref": "paper"
         },
         {
          "font": {
           "size": 16
          },
          "showarrow": false,
          "text": "Introduction - Paul Horn",
          "x": 0.75,
          "xanchor": "center",
          "xref": "paper",
          "y": 0.6,
          "yanchor": "bottom",
          "yref": "paper"
         },
         {
          "font": {
           "size": 16
          },
          "showarrow": false,
          "text": "I Will Deny - Dwarves",
          "x": 0.25,
          "xanchor": "center",
          "xref": "paper",
          "y": 0.38,
          "yanchor": "bottom",
          "yref": "paper"
         },
         {
          "font": {
           "size": 16
          },
          "showarrow": false,
          "text": "Jaden's Interlude - Will Smith",
          "x": 0.75,
          "xanchor": "center",
          "xref": "paper",
          "y": 0.38,
          "yanchor": "bottom",
          "yref": "paper"
         },
         {
          "font": {
           "size": 16
          },
          "showarrow": false,
          "text": "If I Had A Woman - Sloppy Seconds",
          "x": 0.25,
          "xanchor": "center",
          "xref": "paper",
          "y": 0.16,
          "yanchor": "bottom",
          "yref": "paper"
         },
         {
          "font": {
           "size": 16
          },
          "showarrow": false,
          "text": "Rain - Shel Silverstein",
          "x": 0.75,
          "xanchor": "center",
          "xref": "paper",
          "y": 0.16,
          "yanchor": "bottom",
          "yref": "paper"
         },
         {
          "font": {
           "color": "black",
           "size": 20
          },
          "showarrow": false,
          "text": "Closest tracks from centroid 2",
          "x": 0.12,
          "y": 1.09
         },
         {
          "font": {
           "color": "black",
           "size": 22
          },
          "showarrow": false,
          "text": "Furthest tracks from centroid 2",
          "x": 0.9,
          "y": 1.09
         },
         {
          "font": {
           "color": "black",
           "size": 22
          },
          "showarrow": false,
          "text": "Rank",
          "x": 0.005,
          "y": 1.09
         },
         {
          "font": {
           "color": "black",
           "size": 22
          },
          "showarrow": false,
          "text": "1",
          "x": 0.01,
          "y": 1.05
         },
         {
          "font": {
           "color": "black",
           "size": 22
          },
          "showarrow": false,
          "text": "2",
          "x": 0.01,
          "y": 0.84
         },
         {
          "font": {
           "color": "black",
           "size": 22
          },
          "showarrow": false,
          "text": "3",
          "x": 0.01,
          "y": 0.608
         },
         {
          "font": {
           "color": "black",
           "size": 22
          },
          "showarrow": false,
          "text": "4",
          "x": 0.01,
          "y": 0.389
         },
         {
          "font": {
           "color": "black",
           "size": 22
          },
          "showarrow": false,
          "text": "5",
          "x": 0.01,
          "y": 0.159
         }
        ],
        "height": 1600,
        "margin": {
         "b": 50,
         "l": 50,
         "r": 50,
         "t": 200
        },
        "polar": {
         "domain": {
          "x": [
           0,
           0.5
          ],
          "y": [
           0.88,
           1
          ]
         },
         "radialaxis": {
          "range": [
           -1.6471677378999237,
           1.903370996720441
          ],
          "showticklabels": false,
          "ticks": ""
         }
        },
        "polar10": {
         "domain": {
          "x": [
           0.5,
           1
          ],
          "y": [
           0,
           0.12
          ]
         },
         "radialaxis": {
          "range": [
           -8.00310504882673,
           8.502461008551235
          ],
          "showticklabels": false,
          "ticks": ""
         }
        },
        "polar2": {
         "domain": {
          "x": [
           0.5,
           1
          ],
          "y": [
           0.88,
           1
          ]
         },
         "radialaxis": {
          "range": [
           -8.00310504882673,
           8.502461008551235
          ],
          "showticklabels": false,
          "ticks": ""
         }
        },
        "polar3": {
         "domain": {
          "x": [
           0,
           0.5
          ],
          "y": [
           0.66,
           0.78
          ]
         },
         "radialaxis": {
          "range": [
           -1.6471677378999237,
           1.903370996720441
          ],
          "showticklabels": false,
          "ticks": ""
         }
        },
        "polar4": {
         "domain": {
          "x": [
           0.5,
           1
          ],
          "y": [
           0.66,
           0.78
          ]
         },
         "radialaxis": {
          "range": [
           -8.00310504882673,
           8.502461008551235
          ],
          "showticklabels": false,
          "ticks": ""
         }
        },
        "polar5": {
         "domain": {
          "x": [
           0,
           0.5
          ],
          "y": [
           0.44,
           0.56
          ]
         },
         "radialaxis": {
          "range": [
           -1.6471677378999237,
           1.903370996720441
          ],
          "showticklabels": false,
          "ticks": ""
         }
        },
        "polar6": {
         "domain": {
          "x": [
           0.5,
           1
          ],
          "y": [
           0.44,
           0.56
          ]
         },
         "radialaxis": {
          "range": [
           -8.00310504882673,
           8.502461008551235
          ],
          "showticklabels": false,
          "ticks": ""
         }
        },
        "polar7": {
         "domain": {
          "x": [
           0,
           0.5
          ],
          "y": [
           0.22,
           0.33999999999999997
          ]
         },
         "radialaxis": {
          "range": [
           -1.6471677378999237,
           1.903370996720441
          ],
          "showticklabels": false,
          "ticks": ""
         }
        },
        "polar8": {
         "domain": {
          "x": [
           0.5,
           1
          ],
          "y": [
           0.22,
           0.33999999999999997
          ]
         },
         "radialaxis": {
          "range": [
           -8.00310504882673,
           8.502461008551235
          ],
          "showticklabels": false,
          "ticks": ""
         }
        },
        "polar9": {
         "domain": {
          "x": [
           0,
           0.5
          ],
          "y": [
           0,
           0.12
          ]
         },
         "radialaxis": {
          "range": [
           -1.6471677378999237,
           1.903370996720441
          ],
          "showticklabels": false,
          "ticks": ""
         }
        },
        "showlegend": false,
        "template": {
         "data": {
          "bar": [
           {
            "error_x": {
             "color": "#2a3f5f"
            },
            "error_y": {
             "color": "#2a3f5f"
            },
            "marker": {
             "line": {
              "color": "#E5ECF6",
              "width": 0.5
             },
             "pattern": {
              "fillmode": "overlay",
              "size": 10,
              "solidity": 0.2
             }
            },
            "type": "bar"
           }
          ],
          "barpolar": [
           {
            "marker": {
             "line": {
              "color": "#E5ECF6",
              "width": 0.5
             },
             "pattern": {
              "fillmode": "overlay",
              "size": 10,
              "solidity": 0.2
             }
            },
            "type": "barpolar"
           }
          ],
          "carpet": [
           {
            "aaxis": {
             "endlinecolor": "#2a3f5f",
             "gridcolor": "white",
             "linecolor": "white",
             "minorgridcolor": "white",
             "startlinecolor": "#2a3f5f"
            },
            "baxis": {
             "endlinecolor": "#2a3f5f",
             "gridcolor": "white",
             "linecolor": "white",
             "minorgridcolor": "white",
             "startlinecolor": "#2a3f5f"
            },
            "type": "carpet"
           }
          ],
          "choropleth": [
           {
            "colorbar": {
             "outlinewidth": 0,
             "ticks": ""
            },
            "type": "choropleth"
           }
          ],
          "contour": [
           {
            "colorbar": {
             "outlinewidth": 0,
             "ticks": ""
            },
            "colorscale": [
             [
              0,
              "#0d0887"
             ],
             [
              0.1111111111111111,
              "#46039f"
             ],
             [
              0.2222222222222222,
              "#7201a8"
             ],
             [
              0.3333333333333333,
              "#9c179e"
             ],
             [
              0.4444444444444444,
              "#bd3786"
             ],
             [
              0.5555555555555556,
              "#d8576b"
             ],
             [
              0.6666666666666666,
              "#ed7953"
             ],
             [
              0.7777777777777778,
              "#fb9f3a"
             ],
             [
              0.8888888888888888,
              "#fdca26"
             ],
             [
              1,
              "#f0f921"
             ]
            ],
            "type": "contour"
           }
          ],
          "contourcarpet": [
           {
            "colorbar": {
             "outlinewidth": 0,
             "ticks": ""
            },
            "type": "contourcarpet"
           }
          ],
          "heatmap": [
           {
            "colorbar": {
             "outlinewidth": 0,
             "ticks": ""
            },
            "colorscale": [
             [
              0,
              "#0d0887"
             ],
             [
              0.1111111111111111,
              "#46039f"
             ],
             [
              0.2222222222222222,
              "#7201a8"
             ],
             [
              0.3333333333333333,
              "#9c179e"
             ],
             [
              0.4444444444444444,
              "#bd3786"
             ],
             [
              0.5555555555555556,
              "#d8576b"
             ],
             [
              0.6666666666666666,
              "#ed7953"
             ],
             [
              0.7777777777777778,
              "#fb9f3a"
             ],
             [
              0.8888888888888888,
              "#fdca26"
             ],
             [
              1,
              "#f0f921"
             ]
            ],
            "type": "heatmap"
           }
          ],
          "heatmapgl": [
           {
            "colorbar": {
             "outlinewidth": 0,
             "ticks": ""
            },
            "colorscale": [
             [
              0,
              "#0d0887"
             ],
             [
              0.1111111111111111,
              "#46039f"
             ],
             [
              0.2222222222222222,
              "#7201a8"
             ],
             [
              0.3333333333333333,
              "#9c179e"
             ],
             [
              0.4444444444444444,
              "#bd3786"
             ],
             [
              0.5555555555555556,
              "#d8576b"
             ],
             [
              0.6666666666666666,
              "#ed7953"
             ],
             [
              0.7777777777777778,
              "#fb9f3a"
             ],
             [
              0.8888888888888888,
              "#fdca26"
             ],
             [
              1,
              "#f0f921"
             ]
            ],
            "type": "heatmapgl"
           }
          ],
          "histogram": [
           {
            "marker": {
             "pattern": {
              "fillmode": "overlay",
              "size": 10,
              "solidity": 0.2
             }
            },
            "type": "histogram"
           }
          ],
          "histogram2d": [
           {
            "colorbar": {
             "outlinewidth": 0,
             "ticks": ""
            },
            "colorscale": [
             [
              0,
              "#0d0887"
             ],
             [
              0.1111111111111111,
              "#46039f"
             ],
             [
              0.2222222222222222,
              "#7201a8"
             ],
             [
              0.3333333333333333,
              "#9c179e"
             ],
             [
              0.4444444444444444,
              "#bd3786"
             ],
             [
              0.5555555555555556,
              "#d8576b"
             ],
             [
              0.6666666666666666,
              "#ed7953"
             ],
             [
              0.7777777777777778,
              "#fb9f3a"
             ],
             [
              0.8888888888888888,
              "#fdca26"
             ],
             [
              1,
              "#f0f921"
             ]
            ],
            "type": "histogram2d"
           }
          ],
          "histogram2dcontour": [
           {
            "colorbar": {
             "outlinewidth": 0,
             "ticks": ""
            },
            "colorscale": [
             [
              0,
              "#0d0887"
             ],
             [
              0.1111111111111111,
              "#46039f"
             ],
             [
              0.2222222222222222,
              "#7201a8"
             ],
             [
              0.3333333333333333,
              "#9c179e"
             ],
             [
              0.4444444444444444,
              "#bd3786"
             ],
             [
              0.5555555555555556,
              "#d8576b"
             ],
             [
              0.6666666666666666,
              "#ed7953"
             ],
             [
              0.7777777777777778,
              "#fb9f3a"
             ],
             [
              0.8888888888888888,
              "#fdca26"
             ],
             [
              1,
              "#f0f921"
             ]
            ],
            "type": "histogram2dcontour"
           }
          ],
          "mesh3d": [
           {
            "colorbar": {
             "outlinewidth": 0,
             "ticks": ""
            },
            "type": "mesh3d"
           }
          ],
          "parcoords": [
           {
            "line": {
             "colorbar": {
              "outlinewidth": 0,
              "ticks": ""
             }
            },
            "type": "parcoords"
           }
          ],
          "pie": [
           {
            "automargin": true,
            "type": "pie"
           }
          ],
          "scatter": [
           {
            "fillpattern": {
             "fillmode": "overlay",
             "size": 10,
             "solidity": 0.2
            },
            "type": "scatter"
           }
          ],
          "scatter3d": [
           {
            "line": {
             "colorbar": {
              "outlinewidth": 0,
              "ticks": ""
             }
            },
            "marker": {
             "colorbar": {
              "outlinewidth": 0,
              "ticks": ""
             }
            },
            "type": "scatter3d"
           }
          ],
          "scattercarpet": [
           {
            "marker": {
             "colorbar": {
              "outlinewidth": 0,
              "ticks": ""
             }
            },
            "type": "scattercarpet"
           }
          ],
          "scattergeo": [
           {
            "marker": {
             "colorbar": {
              "outlinewidth": 0,
              "ticks": ""
             }
            },
            "type": "scattergeo"
           }
          ],
          "scattergl": [
           {
            "marker": {
             "colorbar": {
              "outlinewidth": 0,
              "ticks": ""
             }
            },
            "type": "scattergl"
           }
          ],
          "scattermapbox": [
           {
            "marker": {
             "colorbar": {
              "outlinewidth": 0,
              "ticks": ""
             }
            },
            "type": "scattermapbox"
           }
          ],
          "scatterpolar": [
           {
            "marker": {
             "colorbar": {
              "outlinewidth": 0,
              "ticks": ""
             }
            },
            "type": "scatterpolar"
           }
          ],
          "scatterpolargl": [
           {
            "marker": {
             "colorbar": {
              "outlinewidth": 0,
              "ticks": ""
             }
            },
            "type": "scatterpolargl"
           }
          ],
          "scatterternary": [
           {
            "marker": {
             "colorbar": {
              "outlinewidth": 0,
              "ticks": ""
             }
            },
            "type": "scatterternary"
           }
          ],
          "surface": [
           {
            "colorbar": {
             "outlinewidth": 0,
             "ticks": ""
            },
            "colorscale": [
             [
              0,
              "#0d0887"
             ],
             [
              0.1111111111111111,
              "#46039f"
             ],
             [
              0.2222222222222222,
              "#7201a8"
             ],
             [
              0.3333333333333333,
              "#9c179e"
             ],
             [
              0.4444444444444444,
              "#bd3786"
             ],
             [
              0.5555555555555556,
              "#d8576b"
             ],
             [
              0.6666666666666666,
              "#ed7953"
             ],
             [
              0.7777777777777778,
              "#fb9f3a"
             ],
             [
              0.8888888888888888,
              "#fdca26"
             ],
             [
              1,
              "#f0f921"
             ]
            ],
            "type": "surface"
           }
          ],
          "table": [
           {
            "cells": {
             "fill": {
              "color": "#EBF0F8"
             },
             "line": {
              "color": "white"
             }
            },
            "header": {
             "fill": {
              "color": "#C8D4E3"
             },
             "line": {
              "color": "white"
             }
            },
            "type": "table"
           }
          ]
         },
         "layout": {
          "annotationdefaults": {
           "arrowcolor": "#2a3f5f",
           "arrowhead": 0,
           "arrowwidth": 1
          },
          "autotypenumbers": "strict",
          "coloraxis": {
           "colorbar": {
            "outlinewidth": 0,
            "ticks": ""
           }
          },
          "colorscale": {
           "diverging": [
            [
             0,
             "#8e0152"
            ],
            [
             0.1,
             "#c51b7d"
            ],
            [
             0.2,
             "#de77ae"
            ],
            [
             0.3,
             "#f1b6da"
            ],
            [
             0.4,
             "#fde0ef"
            ],
            [
             0.5,
             "#f7f7f7"
            ],
            [
             0.6,
             "#e6f5d0"
            ],
            [
             0.7,
             "#b8e186"
            ],
            [
             0.8,
             "#7fbc41"
            ],
            [
             0.9,
             "#4d9221"
            ],
            [
             1,
             "#276419"
            ]
           ],
           "sequential": [
            [
             0,
             "#0d0887"
            ],
            [
             0.1111111111111111,
             "#46039f"
            ],
            [
             0.2222222222222222,
             "#7201a8"
            ],
            [
             0.3333333333333333,
             "#9c179e"
            ],
            [
             0.4444444444444444,
             "#bd3786"
            ],
            [
             0.5555555555555556,
             "#d8576b"
            ],
            [
             0.6666666666666666,
             "#ed7953"
            ],
            [
             0.7777777777777778,
             "#fb9f3a"
            ],
            [
             0.8888888888888888,
             "#fdca26"
            ],
            [
             1,
             "#f0f921"
            ]
           ],
           "sequentialminus": [
            [
             0,
             "#0d0887"
            ],
            [
             0.1111111111111111,
             "#46039f"
            ],
            [
             0.2222222222222222,
             "#7201a8"
            ],
            [
             0.3333333333333333,
             "#9c179e"
            ],
            [
             0.4444444444444444,
             "#bd3786"
            ],
            [
             0.5555555555555556,
             "#d8576b"
            ],
            [
             0.6666666666666666,
             "#ed7953"
            ],
            [
             0.7777777777777778,
             "#fb9f3a"
            ],
            [
             0.8888888888888888,
             "#fdca26"
            ],
            [
             1,
             "#f0f921"
            ]
           ]
          },
          "colorway": [
           "#636efa",
           "#EF553B",
           "#00cc96",
           "#ab63fa",
           "#FFA15A",
           "#19d3f3",
           "#FF6692",
           "#B6E880",
           "#FF97FF",
           "#FECB52"
          ],
          "font": {
           "color": "#2a3f5f"
          },
          "geo": {
           "bgcolor": "white",
           "lakecolor": "white",
           "landcolor": "#E5ECF6",
           "showlakes": true,
           "showland": true,
           "subunitcolor": "white"
          },
          "hoverlabel": {
           "align": "left"
          },
          "hovermode": "closest",
          "mapbox": {
           "style": "light"
          },
          "paper_bgcolor": "white",
          "plot_bgcolor": "#E5ECF6",
          "polar": {
           "angularaxis": {
            "gridcolor": "white",
            "linecolor": "white",
            "ticks": ""
           },
           "bgcolor": "#E5ECF6",
           "radialaxis": {
            "gridcolor": "white",
            "linecolor": "white",
            "ticks": ""
           }
          },
          "scene": {
           "xaxis": {
            "backgroundcolor": "#E5ECF6",
            "gridcolor": "white",
            "gridwidth": 2,
            "linecolor": "white",
            "showbackground": true,
            "ticks": "",
            "zerolinecolor": "white"
           },
           "yaxis": {
            "backgroundcolor": "#E5ECF6",
            "gridcolor": "white",
            "gridwidth": 2,
            "linecolor": "white",
            "showbackground": true,
            "ticks": "",
            "zerolinecolor": "white"
           },
           "zaxis": {
            "backgroundcolor": "#E5ECF6",
            "gridcolor": "white",
            "gridwidth": 2,
            "linecolor": "white",
            "showbackground": true,
            "ticks": "",
            "zerolinecolor": "white"
           }
          },
          "shapedefaults": {
           "line": {
            "color": "#2a3f5f"
           }
          },
          "ternary": {
           "aaxis": {
            "gridcolor": "white",
            "linecolor": "white",
            "ticks": ""
           },
           "baxis": {
            "gridcolor": "white",
            "linecolor": "white",
            "ticks": ""
           },
           "bgcolor": "#E5ECF6",
           "caxis": {
            "gridcolor": "white",
            "linecolor": "white",
            "ticks": ""
           }
          },
          "title": {
           "x": 0.05
          },
          "xaxis": {
           "automargin": true,
           "gridcolor": "white",
           "linecolor": "white",
           "ticks": "",
           "title": {
            "standoff": 15
           },
           "zerolinecolor": "white",
           "zerolinewidth": 2
          },
          "yaxis": {
           "automargin": true,
           "gridcolor": "white",
           "linecolor": "white",
           "ticks": "",
           "title": {
            "standoff": 15
           },
           "zerolinecolor": "white",
           "zerolinewidth": 2
          }
         }
        },
        "title": {
         "font": {
          "size": 18
         },
         "text": "Most similar and different tracks from centroid 2 profile (blue) of user '22e08d5e101ab5b86dc394856d508e175a5242a6'",
         "x": 0.5,
         "y": 0.99
        },
        "width": 1200
       }
      }
     },
     "metadata": {},
     "output_type": "display_data"
    },
    {
     "name": "stdout",
     "output_type": "stream",
     "text": [
      "['Everybodies Girl - Dwarves',\n",
      " '(Kanji) Ooioo - OOIOO',\n",
      " 'Migraine - The Coral',\n",
      " 'Introduction - Paul Horn',\n",
      " 'No Looking Back - SSM',\n",
      " 'Intro - Swell',\n",
      " 'Half-Empty Halls - The Evaporators',\n",
      " 'Rain - Shel Silverstein',\n",
      " 'A Stare Like Yours - The Thermals',\n",
      " '40 Break - Brotha Lynch Hung']\n"
     ]
    },
    {
     "data": {
      "application/vnd.plotly.v1+json": {
       "config": {
        "plotlyServerURL": "https://plot.ly"
       },
       "data": [
        {
         "fill": "toself",
         "line": {
          "color": "#636EFA"
         },
         "mode": "lines+markers",
         "name": "Cluster center centroid 3 profile",
         "r": [
          -1.0366207621087193,
          1.3653324276890286,
          0.8468044203347993,
          0.25256488220513507,
          -0.8184708221826823,
          -0.4558163323189122,
          2.12060357585034,
          0.30410417662831263,
          0.7877500904954957
         ],
         "subplot": "polar",
         "theta": [
          "Danceability",
          "Energy",
          "Loudness",
          "Speechiness",
          "Acousticness",
          "instrumentalness",
          "Liveness",
          "Valence",
          "Tempo"
         ],
         "type": "scatterpolar"
        },
        {
         "fill": "toself",
         "line": {
          "color": "#EF553B"
         },
         "name": "Closest track rank 1",
         "r": [
          -0.7583649616848587,
          1.2676670791081237,
          0.8801864566649812,
          0.07310340007235072,
          -0.8348752713460492,
          -0.6235690916720154,
          2.0608396103396434,
          0.3898459554661525,
          0.7126272211360913
         ],
         "subplot": "polar",
         "theta": [
          "Danceability",
          "Energy",
          "Loudness",
          "Speechiness",
          "Acousticness",
          "instrumentalness",
          "Liveness",
          "Valence",
          "Tempo"
         ],
         "type": "scatterpolar"
        },
        {
         "fill": "toself",
         "line": {
          "color": "#636EFA"
         },
         "mode": "lines+markers",
         "name": "Cluster center centroid 3 profile",
         "r": [
          -1.0366207621087193,
          1.3653324276890286,
          0.8468044203347993,
          0.25256488220513507,
          -0.8184708221826823,
          -0.4558163323189122,
          2.12060357585034,
          0.30410417662831263,
          0.7877500904954957
         ],
         "showlegend": false,
         "subplot": "polar2",
         "theta": [
          "Danceability",
          "Energy",
          "Loudness",
          "Speechiness",
          "Acousticness",
          "instrumentalness",
          "Liveness",
          "Valence",
          "Tempo"
         ],
         "type": "scatterpolar"
        },
        {
         "fill": "toself",
         "line": {
          "color": "#B6E880"
         },
         "name": "Furthest track rank 1",
         "r": [
          -2.854597924456238,
          -2.4412798457493565,
          -8.00310504882673,
          -0.7975816773301675,
          1.105563966260484,
          2.237118641806075,
          -0.5918801675879304,
          -1.8497772890596542,
          -4.040645696797743
         ],
         "subplot": "polar2",
         "theta": [
          "Danceability",
          "Energy",
          "Loudness",
          "Speechiness",
          "Acousticness",
          "instrumentalness",
          "Liveness",
          "Valence",
          "Tempo"
         ],
         "type": "scatterpolar"
        },
        {
         "fill": "toself",
         "line": {
          "color": "#636EFA"
         },
         "mode": "lines+markers",
         "name": "Cluster center centroid 3 profile",
         "r": [
          -1.0366207621087193,
          1.3653324276890286,
          0.8468044203347993,
          0.25256488220513507,
          -0.8184708221826823,
          -0.4558163323189122,
          2.12060357585034,
          0.30410417662831263,
          0.7877500904954957
         ],
         "showlegend": false,
         "subplot": "polar3",
         "theta": [
          "Danceability",
          "Energy",
          "Loudness",
          "Speechiness",
          "Acousticness",
          "instrumentalness",
          "Liveness",
          "Valence",
          "Tempo"
         ],
         "type": "scatterpolar"
        },
        {
         "fill": "toself",
         "line": {
          "color": "#EF553B"
         },
         "name": "Closest track rank 2",
         "r": [
          -1.1552517359695733,
          1.3382315486646554,
          0.6177547280829717,
          0.03690863934892048,
          -0.843873818271891,
          -0.5617246177746722,
          2.5349200525797118,
          0.27824960823033007,
          0.8504514023210087
         ],
         "subplot": "polar3",
         "theta": [
          "Danceability",
          "Energy",
          "Loudness",
          "Speechiness",
          "Acousticness",
          "instrumentalness",
          "Liveness",
          "Valence",
          "Tempo"
         ],
         "type": "scatterpolar"
        },
        {
         "fill": "toself",
         "line": {
          "color": "#636EFA"
         },
         "mode": "lines+markers",
         "name": "Cluster center centroid 3 profile",
         "r": [
          -1.0366207621087193,
          1.3653324276890286,
          0.8468044203347993,
          0.25256488220513507,
          -0.8184708221826823,
          -0.4558163323189122,
          2.12060357585034,
          0.30410417662831263,
          0.7877500904954957
         ],
         "showlegend": false,
         "subplot": "polar4",
         "theta": [
          "Danceability",
          "Energy",
          "Loudness",
          "Speechiness",
          "Acousticness",
          "instrumentalness",
          "Liveness",
          "Valence",
          "Tempo"
         ],
         "type": "scatterpolar"
        },
        {
         "fill": "toself",
         "line": {
          "color": "#B6E880"
         },
         "name": "Furthest track rank 2",
         "r": [
          -0.037260822491504184,
          -2.2378189585280235,
          -6.096761360070624,
          7.607646090666429,
          2.197140277195937,
          -0.6235690916720154,
          -0.3202160939447451,
          -1.8497772890596542,
          -0.8655393974126123
         ],
         "subplot": "polar4",
         "theta": [
          "Danceability",
          "Energy",
          "Loudness",
          "Speechiness",
          "Acousticness",
          "instrumentalness",
          "Liveness",
          "Valence",
          "Tempo"
         ],
         "type": "scatterpolar"
        },
        {
         "fill": "toself",
         "line": {
          "color": "#636EFA"
         },
         "mode": "lines+markers",
         "name": "Cluster center centroid 3 profile",
         "r": [
          -1.0366207621087193,
          1.3653324276890286,
          0.8468044203347993,
          0.25256488220513507,
          -0.8184708221826823,
          -0.4558163323189122,
          2.12060357585034,
          0.30410417662831263,
          0.7877500904954957
         ],
         "showlegend": false,
         "subplot": "polar5",
         "theta": [
          "Danceability",
          "Energy",
          "Loudness",
          "Speechiness",
          "Acousticness",
          "instrumentalness",
          "Liveness",
          "Valence",
          "Tempo"
         ],
         "type": "scatterpolar"
        },
        {
         "fill": "toself",
         "line": {
          "color": "#EF553B"
         },
         "name": "Closest track rank 3",
         "r": [
          -1.4962389645803842,
          1.1265381399950607,
          0.7271387933409963,
          0.19777424256416634,
          -0.8485734717488307,
          -0.6169276654111184,
          2.044859370713574,
          -0.2643395283300456,
          0.8177895966062607
         ],
         "subplot": "polar5",
         "theta": [
          "Danceability",
          "Energy",
          "Loudness",
          "Speechiness",
          "Acousticness",
          "instrumentalness",
          "Liveness",
          "Valence",
          "Tempo"
         ],
         "type": "scatterpolar"
        },
        {
         "fill": "toself",
         "line": {
          "color": "#636EFA"
         },
         "mode": "lines+markers",
         "name": "Cluster center centroid 3 profile",
         "r": [
          -1.0366207621087193,
          1.3653324276890286,
          0.8468044203347993,
          0.25256488220513507,
          -0.8184708221826823,
          -0.4558163323189122,
          2.12060357585034,
          0.30410417662831263,
          0.7877500904954957
         ],
         "showlegend": false,
         "subplot": "polar6",
         "theta": [
          "Danceability",
          "Energy",
          "Loudness",
          "Speechiness",
          "Acousticness",
          "instrumentalness",
          "Liveness",
          "Valence",
          "Tempo"
         ],
         "type": "scatterpolar"
        },
        {
         "fill": "toself",
         "line": {
          "color": "#B6E880"
         },
         "name": "Furthest track rank 3",
         "r": [
          1.6397255477255994,
          -1.8998935543184103,
          -4.23880774133607,
          8.442136407345517,
          1.8013279038255745,
          -0.6235690916720154,
          1.7305813247342028,
          0.48604970308324014,
          -2.330469562374479
         ],
         "subplot": "polar6",
         "theta": [
          "Danceability",
          "Energy",
          "Loudness",
          "Speechiness",
          "Acousticness",
          "instrumentalness",
          "Liveness",
          "Valence",
          "Tempo"
         ],
         "type": "scatterpolar"
        },
        {
         "fill": "toself",
         "line": {
          "color": "#636EFA"
         },
         "mode": "lines+markers",
         "name": "Cluster center centroid 3 profile",
         "r": [
          -1.0366207621087193,
          1.3653324276890286,
          0.8468044203347993,
          0.25256488220513507,
          -0.8184708221826823,
          -0.4558163323189122,
          2.12060357585034,
          0.30410417662831263,
          0.7877500904954957
         ],
         "showlegend": false,
         "subplot": "polar7",
         "theta": [
          "Danceability",
          "Energy",
          "Loudness",
          "Speechiness",
          "Acousticness",
          "instrumentalness",
          "Liveness",
          "Valence",
          "Tempo"
         ],
         "type": "scatterpolar"
        },
        {
         "fill": "toself",
         "line": {
          "color": "#EF553B"
         },
         "name": "Closest track rank 4",
         "r": [
          -0.7527750071174684,
          1.1657406230820222,
          1.2423242365007046,
          -0.16316795465004158,
          -0.7770186345823032,
          -0.6235690916720154,
          2.48165258715948,
          0.6168867998424794,
          0.8100145584198403
         ],
         "subplot": "polar7",
         "theta": [
          "Danceability",
          "Energy",
          "Loudness",
          "Speechiness",
          "Acousticness",
          "instrumentalness",
          "Liveness",
          "Valence",
          "Tempo"
         ],
         "type": "scatterpolar"
        },
        {
         "fill": "toself",
         "line": {
          "color": "#636EFA"
         },
         "mode": "lines+markers",
         "name": "Cluster center centroid 3 profile",
         "r": [
          -1.0366207621087193,
          1.3653324276890286,
          0.8468044203347993,
          0.25256488220513507,
          -0.8184708221826823,
          -0.4558163323189122,
          2.12060357585034,
          0.30410417662831263,
          0.7877500904954957
         ],
         "showlegend": false,
         "subplot": "polar8",
         "theta": [
          "Danceability",
          "Energy",
          "Loudness",
          "Speechiness",
          "Acousticness",
          "instrumentalness",
          "Liveness",
          "Valence",
          "Tempo"
         ],
         "type": "scatterpolar"
        },
        {
         "fill": "toself",
         "line": {
          "color": "#B6E880"
         },
         "name": "Furthest track rank 4",
         "r": [
          1.7962442756125294,
          -1.7509241185879552,
          -3.8273796111062994,
          8.391865906340753,
          -0.48696237972183476,
          -0.6235690916720154,
          0.18582482754746282,
          -0.41826552451738575,
          -2.7584953825345813
         ],
         "subplot": "polar8",
         "theta": [
          "Danceability",
          "Energy",
          "Loudness",
          "Speechiness",
          "Acousticness",
          "instrumentalness",
          "Liveness",
          "Valence",
          "Tempo"
         ],
         "type": "scatterpolar"
        },
        {
         "fill": "toself",
         "line": {
          "color": "#636EFA"
         },
         "mode": "lines+markers",
         "name": "Cluster center centroid 3 profile",
         "r": [
          -1.0366207621087193,
          1.3653324276890286,
          0.8468044203347993,
          0.25256488220513507,
          -0.8184708221826823,
          -0.4558163323189122,
          2.12060357585034,
          0.30410417662831263,
          0.7877500904954957
         ],
         "showlegend": false,
         "subplot": "polar9",
         "theta": [
          "Danceability",
          "Energy",
          "Loudness",
          "Speechiness",
          "Acousticness",
          "instrumentalness",
          "Liveness",
          "Valence",
          "Tempo"
         ],
         "type": "scatterpolar"
        },
        {
         "fill": "toself",
         "line": {
          "color": "#EF553B"
         },
         "name": "Closest track rank 5",
         "r": [
          -1.071402417458718,
          0.9893294491906933,
          0.8480014333483201,
          0.20782834276511922,
          -0.8298657709955806,
          -0.6235690916720154,
          2.966386522483594,
          0.3975422552755192,
          0.7640620891385611
         ],
         "subplot": "polar9",
         "theta": [
          "Danceability",
          "Energy",
          "Loudness",
          "Speechiness",
          "Acousticness",
          "instrumentalness",
          "Liveness",
          "Valence",
          "Tempo"
         ],
         "type": "scatterpolar"
        },
        {
         "fill": "toself",
         "line": {
          "color": "#636EFA"
         },
         "mode": "lines+markers",
         "name": "Cluster center centroid 3 profile",
         "r": [
          -1.0366207621087193,
          1.3653324276890286,
          0.8468044203347993,
          0.25256488220513507,
          -0.8184708221826823,
          -0.4558163323189122,
          2.12060357585034,
          0.30410417662831263,
          0.7877500904954957
         ],
         "showlegend": false,
         "subplot": "polar10",
         "theta": [
          "Danceability",
          "Energy",
          "Loudness",
          "Speechiness",
          "Acousticness",
          "instrumentalness",
          "Liveness",
          "Valence",
          "Tempo"
         ],
         "type": "scatterpolar"
        },
        {
         "fill": "toself",
         "line": {
          "color": "#B6E880"
         },
         "name": "Furthest track rank 5",
         "r": [
          0.8291821354539994,
          -1.833249333070575,
          -5.241044866015049,
          7.899214996494062,
          0.15932501117196085,
          -0.6235690916720154,
          1.9223442002470392,
          -1.4676560035245811,
          -1.4055058314618147
         ],
         "subplot": "polar10",
         "theta": [
          "Danceability",
          "Energy",
          "Loudness",
          "Speechiness",
          "Acousticness",
          "instrumentalness",
          "Liveness",
          "Valence",
          "Tempo"
         ],
         "type": "scatterpolar"
        }
       ],
       "layout": {
        "annotations": [
         {
          "font": {
           "size": 16
          },
          "showarrow": false,
          "text": "Everybodies Girl - Dwarves",
          "x": 0.25,
          "xanchor": "center",
          "xref": "paper",
          "y": 1.03,
          "yanchor": "bottom",
          "yref": "paper"
         },
         {
          "font": {
           "size": 16
          },
          "showarrow": false,
          "text": "(Kanji) Ooioo - OOIOO",
          "x": 0.75,
          "xanchor": "center",
          "xref": "paper",
          "y": 1.03,
          "yanchor": "bottom",
          "yref": "paper"
         },
         {
          "font": {
           "size": 16
          },
          "showarrow": false,
          "text": "Migraine - The Coral",
          "x": 0.25,
          "xanchor": "center",
          "xref": "paper",
          "y": 0.82,
          "yanchor": "bottom",
          "yref": "paper"
         },
         {
          "font": {
           "size": 16
          },
          "showarrow": false,
          "text": "Introduction - Paul Horn",
          "x": 0.75,
          "xanchor": "center",
          "xref": "paper",
          "y": 0.82,
          "yanchor": "bottom",
          "yref": "paper"
         },
         {
          "font": {
           "size": 16
          },
          "showarrow": false,
          "text": "No Looking Back - SSM",
          "x": 0.25,
          "xanchor": "center",
          "xref": "paper",
          "y": 0.6,
          "yanchor": "bottom",
          "yref": "paper"
         },
         {
          "font": {
           "size": 16
          },
          "showarrow": false,
          "text": "Intro - Swell",
          "x": 0.75,
          "xanchor": "center",
          "xref": "paper",
          "y": 0.6,
          "yanchor": "bottom",
          "yref": "paper"
         },
         {
          "font": {
           "size": 16
          },
          "showarrow": false,
          "text": "Half-Empty Halls - The Evaporators",
          "x": 0.25,
          "xanchor": "center",
          "xref": "paper",
          "y": 0.38,
          "yanchor": "bottom",
          "yref": "paper"
         },
         {
          "font": {
           "size": 16
          },
          "showarrow": false,
          "text": "Rain - Shel Silverstein",
          "x": 0.75,
          "xanchor": "center",
          "xref": "paper",
          "y": 0.38,
          "yanchor": "bottom",
          "yref": "paper"
         },
         {
          "font": {
           "size": 16
          },
          "showarrow": false,
          "text": "A Stare Like Yours - The Thermals",
          "x": 0.25,
          "xanchor": "center",
          "xref": "paper",
          "y": 0.16,
          "yanchor": "bottom",
          "yref": "paper"
         },
         {
          "font": {
           "size": 16
          },
          "showarrow": false,
          "text": "40 Break - Brotha Lynch Hung",
          "x": 0.75,
          "xanchor": "center",
          "xref": "paper",
          "y": 0.16,
          "yanchor": "bottom",
          "yref": "paper"
         },
         {
          "font": {
           "color": "black",
           "size": 20
          },
          "showarrow": false,
          "text": "Closest tracks from centroid 3",
          "x": 0.12,
          "y": 1.09
         },
         {
          "font": {
           "color": "black",
           "size": 22
          },
          "showarrow": false,
          "text": "Furthest tracks from centroid 3",
          "x": 0.9,
          "y": 1.09
         },
         {
          "font": {
           "color": "black",
           "size": 22
          },
          "showarrow": false,
          "text": "Rank",
          "x": 0.005,
          "y": 1.09
         },
         {
          "font": {
           "color": "black",
           "size": 22
          },
          "showarrow": false,
          "text": "1",
          "x": 0.01,
          "y": 1.05
         },
         {
          "font": {
           "color": "black",
           "size": 22
          },
          "showarrow": false,
          "text": "2",
          "x": 0.01,
          "y": 0.84
         },
         {
          "font": {
           "color": "black",
           "size": 22
          },
          "showarrow": false,
          "text": "3",
          "x": 0.01,
          "y": 0.608
         },
         {
          "font": {
           "color": "black",
           "size": 22
          },
          "showarrow": false,
          "text": "4",
          "x": 0.01,
          "y": 0.389
         },
         {
          "font": {
           "color": "black",
           "size": 22
          },
          "showarrow": false,
          "text": "5",
          "x": 0.01,
          "y": 0.159
         }
        ],
        "height": 1600,
        "margin": {
         "b": 50,
         "l": 50,
         "r": 50,
         "t": 200
        },
        "polar": {
         "domain": {
          "x": [
           0,
           0.5
          ],
          "y": [
           0.88,
           1
          ]
         },
         "radialaxis": {
          "range": [
           -1.4962389645803842,
           2.966386522483594
          ],
          "showticklabels": false,
          "ticks": ""
         }
        },
        "polar10": {
         "domain": {
          "x": [
           0.5,
           1
          ],
          "y": [
           0,
           0.12
          ]
         },
         "radialaxis": {
          "range": [
           -8.00310504882673,
           8.442136407345517
          ],
          "showticklabels": false,
          "ticks": ""
         }
        },
        "polar2": {
         "domain": {
          "x": [
           0.5,
           1
          ],
          "y": [
           0.88,
           1
          ]
         },
         "radialaxis": {
          "range": [
           -8.00310504882673,
           8.442136407345517
          ],
          "showticklabels": false,
          "ticks": ""
         }
        },
        "polar3": {
         "domain": {
          "x": [
           0,
           0.5
          ],
          "y": [
           0.66,
           0.78
          ]
         },
         "radialaxis": {
          "range": [
           -1.4962389645803842,
           2.966386522483594
          ],
          "showticklabels": false,
          "ticks": ""
         }
        },
        "polar4": {
         "domain": {
          "x": [
           0.5,
           1
          ],
          "y": [
           0.66,
           0.78
          ]
         },
         "radialaxis": {
          "range": [
           -8.00310504882673,
           8.442136407345517
          ],
          "showticklabels": false,
          "ticks": ""
         }
        },
        "polar5": {
         "domain": {
          "x": [
           0,
           0.5
          ],
          "y": [
           0.44,
           0.56
          ]
         },
         "radialaxis": {
          "range": [
           -1.4962389645803842,
           2.966386522483594
          ],
          "showticklabels": false,
          "ticks": ""
         }
        },
        "polar6": {
         "domain": {
          "x": [
           0.5,
           1
          ],
          "y": [
           0.44,
           0.56
          ]
         },
         "radialaxis": {
          "range": [
           -8.00310504882673,
           8.442136407345517
          ],
          "showticklabels": false,
          "ticks": ""
         }
        },
        "polar7": {
         "domain": {
          "x": [
           0,
           0.5
          ],
          "y": [
           0.22,
           0.33999999999999997
          ]
         },
         "radialaxis": {
          "range": [
           -1.4962389645803842,
           2.966386522483594
          ],
          "showticklabels": false,
          "ticks": ""
         }
        },
        "polar8": {
         "domain": {
          "x": [
           0.5,
           1
          ],
          "y": [
           0.22,
           0.33999999999999997
          ]
         },
         "radialaxis": {
          "range": [
           -8.00310504882673,
           8.442136407345517
          ],
          "showticklabels": false,
          "ticks": ""
         }
        },
        "polar9": {
         "domain": {
          "x": [
           0,
           0.5
          ],
          "y": [
           0,
           0.12
          ]
         },
         "radialaxis": {
          "range": [
           -1.4962389645803842,
           2.966386522483594
          ],
          "showticklabels": false,
          "ticks": ""
         }
        },
        "showlegend": false,
        "template": {
         "data": {
          "bar": [
           {
            "error_x": {
             "color": "#2a3f5f"
            },
            "error_y": {
             "color": "#2a3f5f"
            },
            "marker": {
             "line": {
              "color": "#E5ECF6",
              "width": 0.5
             },
             "pattern": {
              "fillmode": "overlay",
              "size": 10,
              "solidity": 0.2
             }
            },
            "type": "bar"
           }
          ],
          "barpolar": [
           {
            "marker": {
             "line": {
              "color": "#E5ECF6",
              "width": 0.5
             },
             "pattern": {
              "fillmode": "overlay",
              "size": 10,
              "solidity": 0.2
             }
            },
            "type": "barpolar"
           }
          ],
          "carpet": [
           {
            "aaxis": {
             "endlinecolor": "#2a3f5f",
             "gridcolor": "white",
             "linecolor": "white",
             "minorgridcolor": "white",
             "startlinecolor": "#2a3f5f"
            },
            "baxis": {
             "endlinecolor": "#2a3f5f",
             "gridcolor": "white",
             "linecolor": "white",
             "minorgridcolor": "white",
             "startlinecolor": "#2a3f5f"
            },
            "type": "carpet"
           }
          ],
          "choropleth": [
           {
            "colorbar": {
             "outlinewidth": 0,
             "ticks": ""
            },
            "type": "choropleth"
           }
          ],
          "contour": [
           {
            "colorbar": {
             "outlinewidth": 0,
             "ticks": ""
            },
            "colorscale": [
             [
              0,
              "#0d0887"
             ],
             [
              0.1111111111111111,
              "#46039f"
             ],
             [
              0.2222222222222222,
              "#7201a8"
             ],
             [
              0.3333333333333333,
              "#9c179e"
             ],
             [
              0.4444444444444444,
              "#bd3786"
             ],
             [
              0.5555555555555556,
              "#d8576b"
             ],
             [
              0.6666666666666666,
              "#ed7953"
             ],
             [
              0.7777777777777778,
              "#fb9f3a"
             ],
             [
              0.8888888888888888,
              "#fdca26"
             ],
             [
              1,
              "#f0f921"
             ]
            ],
            "type": "contour"
           }
          ],
          "contourcarpet": [
           {
            "colorbar": {
             "outlinewidth": 0,
             "ticks": ""
            },
            "type": "contourcarpet"
           }
          ],
          "heatmap": [
           {
            "colorbar": {
             "outlinewidth": 0,
             "ticks": ""
            },
            "colorscale": [
             [
              0,
              "#0d0887"
             ],
             [
              0.1111111111111111,
              "#46039f"
             ],
             [
              0.2222222222222222,
              "#7201a8"
             ],
             [
              0.3333333333333333,
              "#9c179e"
             ],
             [
              0.4444444444444444,
              "#bd3786"
             ],
             [
              0.5555555555555556,
              "#d8576b"
             ],
             [
              0.6666666666666666,
              "#ed7953"
             ],
             [
              0.7777777777777778,
              "#fb9f3a"
             ],
             [
              0.8888888888888888,
              "#fdca26"
             ],
             [
              1,
              "#f0f921"
             ]
            ],
            "type": "heatmap"
           }
          ],
          "heatmapgl": [
           {
            "colorbar": {
             "outlinewidth": 0,
             "ticks": ""
            },
            "colorscale": [
             [
              0,
              "#0d0887"
             ],
             [
              0.1111111111111111,
              "#46039f"
             ],
             [
              0.2222222222222222,
              "#7201a8"
             ],
             [
              0.3333333333333333,
              "#9c179e"
             ],
             [
              0.4444444444444444,
              "#bd3786"
             ],
             [
              0.5555555555555556,
              "#d8576b"
             ],
             [
              0.6666666666666666,
              "#ed7953"
             ],
             [
              0.7777777777777778,
              "#fb9f3a"
             ],
             [
              0.8888888888888888,
              "#fdca26"
             ],
             [
              1,
              "#f0f921"
             ]
            ],
            "type": "heatmapgl"
           }
          ],
          "histogram": [
           {
            "marker": {
             "pattern": {
              "fillmode": "overlay",
              "size": 10,
              "solidity": 0.2
             }
            },
            "type": "histogram"
           }
          ],
          "histogram2d": [
           {
            "colorbar": {
             "outlinewidth": 0,
             "ticks": ""
            },
            "colorscale": [
             [
              0,
              "#0d0887"
             ],
             [
              0.1111111111111111,
              "#46039f"
             ],
             [
              0.2222222222222222,
              "#7201a8"
             ],
             [
              0.3333333333333333,
              "#9c179e"
             ],
             [
              0.4444444444444444,
              "#bd3786"
             ],
             [
              0.5555555555555556,
              "#d8576b"
             ],
             [
              0.6666666666666666,
              "#ed7953"
             ],
             [
              0.7777777777777778,
              "#fb9f3a"
             ],
             [
              0.8888888888888888,
              "#fdca26"
             ],
             [
              1,
              "#f0f921"
             ]
            ],
            "type": "histogram2d"
           }
          ],
          "histogram2dcontour": [
           {
            "colorbar": {
             "outlinewidth": 0,
             "ticks": ""
            },
            "colorscale": [
             [
              0,
              "#0d0887"
             ],
             [
              0.1111111111111111,
              "#46039f"
             ],
             [
              0.2222222222222222,
              "#7201a8"
             ],
             [
              0.3333333333333333,
              "#9c179e"
             ],
             [
              0.4444444444444444,
              "#bd3786"
             ],
             [
              0.5555555555555556,
              "#d8576b"
             ],
             [
              0.6666666666666666,
              "#ed7953"
             ],
             [
              0.7777777777777778,
              "#fb9f3a"
             ],
             [
              0.8888888888888888,
              "#fdca26"
             ],
             [
              1,
              "#f0f921"
             ]
            ],
            "type": "histogram2dcontour"
           }
          ],
          "mesh3d": [
           {
            "colorbar": {
             "outlinewidth": 0,
             "ticks": ""
            },
            "type": "mesh3d"
           }
          ],
          "parcoords": [
           {
            "line": {
             "colorbar": {
              "outlinewidth": 0,
              "ticks": ""
             }
            },
            "type": "parcoords"
           }
          ],
          "pie": [
           {
            "automargin": true,
            "type": "pie"
           }
          ],
          "scatter": [
           {
            "fillpattern": {
             "fillmode": "overlay",
             "size": 10,
             "solidity": 0.2
            },
            "type": "scatter"
           }
          ],
          "scatter3d": [
           {
            "line": {
             "colorbar": {
              "outlinewidth": 0,
              "ticks": ""
             }
            },
            "marker": {
             "colorbar": {
              "outlinewidth": 0,
              "ticks": ""
             }
            },
            "type": "scatter3d"
           }
          ],
          "scattercarpet": [
           {
            "marker": {
             "colorbar": {
              "outlinewidth": 0,
              "ticks": ""
             }
            },
            "type": "scattercarpet"
           }
          ],
          "scattergeo": [
           {
            "marker": {
             "colorbar": {
              "outlinewidth": 0,
              "ticks": ""
             }
            },
            "type": "scattergeo"
           }
          ],
          "scattergl": [
           {
            "marker": {
             "colorbar": {
              "outlinewidth": 0,
              "ticks": ""
             }
            },
            "type": "scattergl"
           }
          ],
          "scattermapbox": [
           {
            "marker": {
             "colorbar": {
              "outlinewidth": 0,
              "ticks": ""
             }
            },
            "type": "scattermapbox"
           }
          ],
          "scatterpolar": [
           {
            "marker": {
             "colorbar": {
              "outlinewidth": 0,
              "ticks": ""
             }
            },
            "type": "scatterpolar"
           }
          ],
          "scatterpolargl": [
           {
            "marker": {
             "colorbar": {
              "outlinewidth": 0,
              "ticks": ""
             }
            },
            "type": "scatterpolargl"
           }
          ],
          "scatterternary": [
           {
            "marker": {
             "colorbar": {
              "outlinewidth": 0,
              "ticks": ""
             }
            },
            "type": "scatterternary"
           }
          ],
          "surface": [
           {
            "colorbar": {
             "outlinewidth": 0,
             "ticks": ""
            },
            "colorscale": [
             [
              0,
              "#0d0887"
             ],
             [
              0.1111111111111111,
              "#46039f"
             ],
             [
              0.2222222222222222,
              "#7201a8"
             ],
             [
              0.3333333333333333,
              "#9c179e"
             ],
             [
              0.4444444444444444,
              "#bd3786"
             ],
             [
              0.5555555555555556,
              "#d8576b"
             ],
             [
              0.6666666666666666,
              "#ed7953"
             ],
             [
              0.7777777777777778,
              "#fb9f3a"
             ],
             [
              0.8888888888888888,
              "#fdca26"
             ],
             [
              1,
              "#f0f921"
             ]
            ],
            "type": "surface"
           }
          ],
          "table": [
           {
            "cells": {
             "fill": {
              "color": "#EBF0F8"
             },
             "line": {
              "color": "white"
             }
            },
            "header": {
             "fill": {
              "color": "#C8D4E3"
             },
             "line": {
              "color": "white"
             }
            },
            "type": "table"
           }
          ]
         },
         "layout": {
          "annotationdefaults": {
           "arrowcolor": "#2a3f5f",
           "arrowhead": 0,
           "arrowwidth": 1
          },
          "autotypenumbers": "strict",
          "coloraxis": {
           "colorbar": {
            "outlinewidth": 0,
            "ticks": ""
           }
          },
          "colorscale": {
           "diverging": [
            [
             0,
             "#8e0152"
            ],
            [
             0.1,
             "#c51b7d"
            ],
            [
             0.2,
             "#de77ae"
            ],
            [
             0.3,
             "#f1b6da"
            ],
            [
             0.4,
             "#fde0ef"
            ],
            [
             0.5,
             "#f7f7f7"
            ],
            [
             0.6,
             "#e6f5d0"
            ],
            [
             0.7,
             "#b8e186"
            ],
            [
             0.8,
             "#7fbc41"
            ],
            [
             0.9,
             "#4d9221"
            ],
            [
             1,
             "#276419"
            ]
           ],
           "sequential": [
            [
             0,
             "#0d0887"
            ],
            [
             0.1111111111111111,
             "#46039f"
            ],
            [
             0.2222222222222222,
             "#7201a8"
            ],
            [
             0.3333333333333333,
             "#9c179e"
            ],
            [
             0.4444444444444444,
             "#bd3786"
            ],
            [
             0.5555555555555556,
             "#d8576b"
            ],
            [
             0.6666666666666666,
             "#ed7953"
            ],
            [
             0.7777777777777778,
             "#fb9f3a"
            ],
            [
             0.8888888888888888,
             "#fdca26"
            ],
            [
             1,
             "#f0f921"
            ]
           ],
           "sequentialminus": [
            [
             0,
             "#0d0887"
            ],
            [
             0.1111111111111111,
             "#46039f"
            ],
            [
             0.2222222222222222,
             "#7201a8"
            ],
            [
             0.3333333333333333,
             "#9c179e"
            ],
            [
             0.4444444444444444,
             "#bd3786"
            ],
            [
             0.5555555555555556,
             "#d8576b"
            ],
            [
             0.6666666666666666,
             "#ed7953"
            ],
            [
             0.7777777777777778,
             "#fb9f3a"
            ],
            [
             0.8888888888888888,
             "#fdca26"
            ],
            [
             1,
             "#f0f921"
            ]
           ]
          },
          "colorway": [
           "#636efa",
           "#EF553B",
           "#00cc96",
           "#ab63fa",
           "#FFA15A",
           "#19d3f3",
           "#FF6692",
           "#B6E880",
           "#FF97FF",
           "#FECB52"
          ],
          "font": {
           "color": "#2a3f5f"
          },
          "geo": {
           "bgcolor": "white",
           "lakecolor": "white",
           "landcolor": "#E5ECF6",
           "showlakes": true,
           "showland": true,
           "subunitcolor": "white"
          },
          "hoverlabel": {
           "align": "left"
          },
          "hovermode": "closest",
          "mapbox": {
           "style": "light"
          },
          "paper_bgcolor": "white",
          "plot_bgcolor": "#E5ECF6",
          "polar": {
           "angularaxis": {
            "gridcolor": "white",
            "linecolor": "white",
            "ticks": ""
           },
           "bgcolor": "#E5ECF6",
           "radialaxis": {
            "gridcolor": "white",
            "linecolor": "white",
            "ticks": ""
           }
          },
          "scene": {
           "xaxis": {
            "backgroundcolor": "#E5ECF6",
            "gridcolor": "white",
            "gridwidth": 2,
            "linecolor": "white",
            "showbackground": true,
            "ticks": "",
            "zerolinecolor": "white"
           },
           "yaxis": {
            "backgroundcolor": "#E5ECF6",
            "gridcolor": "white",
            "gridwidth": 2,
            "linecolor": "white",
            "showbackground": true,
            "ticks": "",
            "zerolinecolor": "white"
           },
           "zaxis": {
            "backgroundcolor": "#E5ECF6",
            "gridcolor": "white",
            "gridwidth": 2,
            "linecolor": "white",
            "showbackground": true,
            "ticks": "",
            "zerolinecolor": "white"
           }
          },
          "shapedefaults": {
           "line": {
            "color": "#2a3f5f"
           }
          },
          "ternary": {
           "aaxis": {
            "gridcolor": "white",
            "linecolor": "white",
            "ticks": ""
           },
           "baxis": {
            "gridcolor": "white",
            "linecolor": "white",
            "ticks": ""
           },
           "bgcolor": "#E5ECF6",
           "caxis": {
            "gridcolor": "white",
            "linecolor": "white",
            "ticks": ""
           }
          },
          "title": {
           "x": 0.05
          },
          "xaxis": {
           "automargin": true,
           "gridcolor": "white",
           "linecolor": "white",
           "ticks": "",
           "title": {
            "standoff": 15
           },
           "zerolinecolor": "white",
           "zerolinewidth": 2
          },
          "yaxis": {
           "automargin": true,
           "gridcolor": "white",
           "linecolor": "white",
           "ticks": "",
           "title": {
            "standoff": 15
           },
           "zerolinecolor": "white",
           "zerolinewidth": 2
          }
         }
        },
        "title": {
         "font": {
          "size": 18
         },
         "text": "Most similar and different tracks from centroid 3 profile (blue) of user '22e08d5e101ab5b86dc394856d508e175a5242a6'",
         "x": 0.5,
         "y": 0.99
        },
        "width": 1200
       }
      }
     },
     "metadata": {},
     "output_type": "display_data"
    },
    {
     "name": "stdout",
     "output_type": "stream",
     "text": [
      "['Madeline and Nine - Mike Doughty',\n",
      " 'Introduction - Paul Horn',\n",
      " 'To Be Alive Again - Journey',\n",
      " '(Kanji) Ooioo - OOIOO',\n",
      " 'Spotlights - Let Go',\n",
      " \"Jaden's Interlude - Will Smith\",\n",
      " 'Dead Space - Able Baker Fox',\n",
      " 'Intro - Swell',\n",
      " 'Paper Crowns - Burning Airlines',\n",
      " '40 Break - Brotha Lynch Hung']\n"
     ]
    },
    {
     "data": {
      "application/vnd.plotly.v1+json": {
       "config": {
        "plotlyServerURL": "https://plot.ly"
       },
       "data": [
        {
         "fill": "toself",
         "line": {
          "color": "#636EFA"
         },
         "mode": "lines+markers",
         "name": "Cluster center centroid 4 profile",
         "r": [
          0.11927960340074872,
          1.046253753287184,
          0.9435006756381121,
          -0.3024467993986887,
          -0.6717070017614544,
          -0.45567921178476584,
          0.37954505364765534,
          1.1712963836948904,
          0.4272482862042733
         ],
         "subplot": "polar",
         "theta": [
          "Danceability",
          "Energy",
          "Loudness",
          "Speechiness",
          "Acousticness",
          "instrumentalness",
          "Liveness",
          "Valence",
          "Tempo"
         ],
         "type": "scatterpolar"
        },
        {
         "fill": "toself",
         "line": {
          "color": "#EF553B"
         },
         "name": "Closest track rank 1",
         "r": [
          0.2757766332823554,
          0.8011575303732753,
          0.9177731622166071,
          -0.3954176692920528,
          -0.6786839980731038,
          -0.6235690916720154,
          0.4095481823124389,
          1.2479833842105765,
          0.6791347489484352
         ],
         "subplot": "polar",
         "theta": [
          "Danceability",
          "Energy",
          "Loudness",
          "Speechiness",
          "Acousticness",
          "instrumentalness",
          "Liveness",
          "Valence",
          "Tempo"
         ],
         "type": "scatterpolar"
        },
        {
         "fill": "toself",
         "line": {
          "color": "#636EFA"
         },
         "mode": "lines+markers",
         "name": "Cluster center centroid 4 profile",
         "r": [
          0.11927960340074872,
          1.046253753287184,
          0.9435006756381121,
          -0.3024467993986887,
          -0.6717070017614544,
          -0.45567921178476584,
          0.37954505364765534,
          1.1712963836948904,
          0.4272482862042733
         ],
         "showlegend": false,
         "subplot": "polar2",
         "theta": [
          "Danceability",
          "Energy",
          "Loudness",
          "Speechiness",
          "Acousticness",
          "instrumentalness",
          "Liveness",
          "Valence",
          "Tempo"
         ],
         "type": "scatterpolar"
        },
        {
         "fill": "toself",
         "line": {
          "color": "#B6E880"
         },
         "name": "Furthest track rank 1",
         "r": [
          -0.037260822491504184,
          -2.2378189585280235,
          -6.096761360070624,
          7.607646090666429,
          2.197140277195937,
          -0.6235690916720154,
          -0.3202160939447451,
          -1.8497772890596542,
          -0.8655393974126123
         ],
         "subplot": "polar2",
         "theta": [
          "Danceability",
          "Energy",
          "Loudness",
          "Speechiness",
          "Acousticness",
          "instrumentalness",
          "Liveness",
          "Valence",
          "Tempo"
         ],
         "type": "scatterpolar"
        },
        {
         "fill": "toself",
         "line": {
          "color": "#636EFA"
         },
         "mode": "lines+markers",
         "name": "Cluster center centroid 4 profile",
         "r": [
          0.11927960340074872,
          1.046253753287184,
          0.9435006756381121,
          -0.3024467993986887,
          -0.6717070017614544,
          -0.45567921178476584,
          0.37954505364765534,
          1.1712963836948904,
          0.4272482862042733
         ],
         "showlegend": false,
         "subplot": "polar3",
         "theta": [
          "Danceability",
          "Energy",
          "Loudness",
          "Speechiness",
          "Acousticness",
          "instrumentalness",
          "Liveness",
          "Valence",
          "Tempo"
         ],
         "type": "scatterpolar"
        },
        {
         "fill": "toself",
         "line": {
          "color": "#EF553B"
         },
         "name": "Closest track rank 2",
         "r": [
          0.06894831428891246,
          1.0598939187472252,
          0.9600863397238264,
          -0.2878387971418571,
          -0.6425042733197192,
          -0.6235690916720154,
          0.5959843112832525,
          0.8516239440281745,
          0.3211839524428627
         ],
         "subplot": "polar3",
         "theta": [
          "Danceability",
          "Energy",
          "Loudness",
          "Speechiness",
          "Acousticness",
          "instrumentalness",
          "Liveness",
          "Valence",
          "Tempo"
         ],
         "type": "scatterpolar"
        },
        {
         "fill": "toself",
         "line": {
          "color": "#636EFA"
         },
         "mode": "lines+markers",
         "name": "Cluster center centroid 4 profile",
         "r": [
          0.11927960340074872,
          1.046253753287184,
          0.9435006756381121,
          -0.3024467993986887,
          -0.6717070017614544,
          -0.45567921178476584,
          0.37954505364765534,
          1.1712963836948904,
          0.4272482862042733
         ],
         "showlegend": false,
         "subplot": "polar4",
         "theta": [
          "Danceability",
          "Energy",
          "Loudness",
          "Speechiness",
          "Acousticness",
          "instrumentalness",
          "Liveness",
          "Valence",
          "Tempo"
         ],
         "type": "scatterpolar"
        },
        {
         "fill": "toself",
         "line": {
          "color": "#B6E880"
         },
         "name": "Furthest track rank 2",
         "r": [
          -2.854597924456238,
          -2.4412798457493565,
          -8.00310504882673,
          -0.7975816773301675,
          1.105563966260484,
          2.237118641806075,
          -0.5918801675879304,
          -1.8497772890596542,
          -4.040645696797743
         ],
         "subplot": "polar4",
         "theta": [
          "Danceability",
          "Energy",
          "Loudness",
          "Speechiness",
          "Acousticness",
          "instrumentalness",
          "Liveness",
          "Valence",
          "Tempo"
         ],
         "type": "scatterpolar"
        },
        {
         "fill": "toself",
         "line": {
          "color": "#636EFA"
         },
         "mode": "lines+markers",
         "name": "Cluster center centroid 4 profile",
         "r": [
          0.11927960340074872,
          1.046253753287184,
          0.9435006756381121,
          -0.3024467993986887,
          -0.6717070017614544,
          -0.45567921178476584,
          0.37954505364765534,
          1.1712963836948904,
          0.4272482862042733
         ],
         "showlegend": false,
         "subplot": "polar5",
         "theta": [
          "Danceability",
          "Energy",
          "Loudness",
          "Speechiness",
          "Acousticness",
          "instrumentalness",
          "Liveness",
          "Valence",
          "Tempo"
         ],
         "type": "scatterpolar"
        },
        {
         "fill": "toself",
         "line": {
          "color": "#EF553B"
         },
         "name": "Closest track rank 3",
         "r": [
          -0.08757041359801733,
          1.0638141670559214,
          1.1475697272957082,
          -0.18930861517251907,
          -0.8379675555130052,
          -0.6235690916720154,
          0.4255284219385086,
          0.9709165910733631,
          0.5421412342364262
         ],
         "subplot": "polar5",
         "theta": [
          "Danceability",
          "Energy",
          "Loudness",
          "Speechiness",
          "Acousticness",
          "instrumentalness",
          "Liveness",
          "Valence",
          "Tempo"
         ],
         "type": "scatterpolar"
        },
        {
         "fill": "toself",
         "line": {
          "color": "#636EFA"
         },
         "mode": "lines+markers",
         "name": "Cluster center centroid 4 profile",
         "r": [
          0.11927960340074872,
          1.046253753287184,
          0.9435006756381121,
          -0.3024467993986887,
          -0.6717070017614544,
          -0.45567921178476584,
          0.37954505364765534,
          1.1712963836948904,
          0.4272482862042733
         ],
         "showlegend": false,
         "subplot": "polar6",
         "theta": [
          "Danceability",
          "Energy",
          "Loudness",
          "Speechiness",
          "Acousticness",
          "instrumentalness",
          "Liveness",
          "Valence",
          "Tempo"
         ],
         "type": "scatterpolar"
        },
        {
         "fill": "toself",
         "line": {
          "color": "#B6E880"
         },
         "name": "Furthest track rank 3",
         "r": [
          1.0527803181496134,
          -1.8606910712314484,
          -2.8141140518642684,
          8.502461008551235,
          1.7796819146568825,
          -0.6235690916720154,
          3.6908240521987556,
          -1.0185769096480148,
          -2.3667530739111062
         ],
         "subplot": "polar6",
         "theta": [
          "Danceability",
          "Energy",
          "Loudness",
          "Speechiness",
          "Acousticness",
          "instrumentalness",
          "Liveness",
          "Valence",
          "Tempo"
         ],
         "type": "scatterpolar"
        },
        {
         "fill": "toself",
         "line": {
          "color": "#636EFA"
         },
         "mode": "lines+markers",
         "name": "Cluster center centroid 4 profile",
         "r": [
          0.11927960340074872,
          1.046253753287184,
          0.9435006756381121,
          -0.3024467993986887,
          -0.6717070017614544,
          -0.45567921178476584,
          0.37954505364765534,
          1.1712963836948904,
          0.4272482862042733
         ],
         "showlegend": false,
         "subplot": "polar7",
         "theta": [
          "Danceability",
          "Energy",
          "Loudness",
          "Speechiness",
          "Acousticness",
          "instrumentalness",
          "Liveness",
          "Valence",
          "Tempo"
         ],
         "type": "scatterpolar"
        },
        {
         "fill": "toself",
         "line": {
          "color": "#EF553B"
         },
         "name": "Closest track rank 4",
         "r": [
          0.16397754193454842,
          1.2245443477124653,
          0.6771732326675776,
          -0.40647717951310103,
          -0.8392044691797876,
          -0.34694454832823407,
          0.4734691408167178,
          1.32879453220893,
          0.6116514046893783
         ],
         "subplot": "polar7",
         "theta": [
          "Danceability",
          "Energy",
          "Loudness",
          "Speechiness",
          "Acousticness",
          "instrumentalness",
          "Liveness",
          "Valence",
          "Tempo"
         ],
         "type": "scatterpolar"
        },
        {
         "fill": "toself",
         "line": {
          "color": "#636EFA"
         },
         "mode": "lines+markers",
         "name": "Cluster center centroid 4 profile",
         "r": [
          0.11927960340074872,
          1.046253753287184,
          0.9435006756381121,
          -0.3024467993986887,
          -0.6717070017614544,
          -0.45567921178476584,
          0.37954505364765534,
          1.1712963836948904,
          0.4272482862042733
         ],
         "showlegend": false,
         "subplot": "polar8",
         "theta": [
          "Danceability",
          "Energy",
          "Loudness",
          "Speechiness",
          "Acousticness",
          "instrumentalness",
          "Liveness",
          "Valence",
          "Tempo"
         ],
         "type": "scatterpolar"
        },
        {
         "fill": "toself",
         "line": {
          "color": "#B6E880"
         },
         "name": "Furthest track rank 4",
         "r": [
          1.6397255477255994,
          -1.8998935543184103,
          -4.23880774133607,
          8.442136407345517,
          1.8013279038255745,
          -0.6235690916720154,
          1.7305813247342028,
          0.48604970308324014,
          -2.330469562374479
         ],
         "subplot": "polar8",
         "theta": [
          "Danceability",
          "Energy",
          "Loudness",
          "Speechiness",
          "Acousticness",
          "instrumentalness",
          "Liveness",
          "Valence",
          "Tempo"
         ],
         "type": "scatterpolar"
        },
        {
         "fill": "toself",
         "line": {
          "color": "#636EFA"
         },
         "mode": "lines+markers",
         "name": "Cluster center centroid 4 profile",
         "r": [
          0.11927960340074872,
          1.046253753287184,
          0.9435006756381121,
          -0.3024467993986887,
          -0.6717070017614544,
          -0.45567921178476584,
          0.37954505364765534,
          1.1712963836948904,
          0.4272482862042733
         ],
         "showlegend": false,
         "subplot": "polar9",
         "theta": [
          "Danceability",
          "Energy",
          "Loudness",
          "Speechiness",
          "Acousticness",
          "instrumentalness",
          "Liveness",
          "Valence",
          "Tempo"
         ],
         "type": "scatterpolar"
        },
        {
         "fill": "toself",
         "line": {
          "color": "#EF553B"
         },
         "name": "Closest track rank 5",
         "r": [
          -0.03167086792411383,
          0.8952434897819848,
          0.8137907791935466,
          -0.35319044844805075,
          -0.8442758152135953,
          -0.6229506469330423,
          0.15386434829532336,
          0.9208906423124774,
          0.41847160974986314
         ],
         "subplot": "polar9",
         "theta": [
          "Danceability",
          "Energy",
          "Loudness",
          "Speechiness",
          "Acousticness",
          "instrumentalness",
          "Liveness",
          "Valence",
          "Tempo"
         ],
         "type": "scatterpolar"
        },
        {
         "fill": "toself",
         "line": {
          "color": "#636EFA"
         },
         "mode": "lines+markers",
         "name": "Cluster center centroid 4 profile",
         "r": [
          0.11927960340074872,
          1.046253753287184,
          0.9435006756381121,
          -0.3024467993986887,
          -0.6717070017614544,
          -0.45567921178476584,
          0.37954505364765534,
          1.1712963836948904,
          0.4272482862042733
         ],
         "showlegend": false,
         "subplot": "polar10",
         "theta": [
          "Danceability",
          "Energy",
          "Loudness",
          "Speechiness",
          "Acousticness",
          "instrumentalness",
          "Liveness",
          "Valence",
          "Tempo"
         ],
         "type": "scatterpolar"
        },
        {
         "fill": "toself",
         "line": {
          "color": "#B6E880"
         },
         "name": "Furthest track rank 5",
         "r": [
          0.8291821354539994,
          -1.833249333070575,
          -5.241044866015049,
          7.899214996494062,
          0.15932501117196085,
          -0.6235690916720154,
          1.9223442002470392,
          -1.4676560035245811,
          -1.4055058314618147
         ],
         "subplot": "polar10",
         "theta": [
          "Danceability",
          "Energy",
          "Loudness",
          "Speechiness",
          "Acousticness",
          "instrumentalness",
          "Liveness",
          "Valence",
          "Tempo"
         ],
         "type": "scatterpolar"
        }
       ],
       "layout": {
        "annotations": [
         {
          "font": {
           "size": 16
          },
          "showarrow": false,
          "text": "Madeline and Nine - Mike Doughty",
          "x": 0.25,
          "xanchor": "center",
          "xref": "paper",
          "y": 1.03,
          "yanchor": "bottom",
          "yref": "paper"
         },
         {
          "font": {
           "size": 16
          },
          "showarrow": false,
          "text": "Introduction - Paul Horn",
          "x": 0.75,
          "xanchor": "center",
          "xref": "paper",
          "y": 1.03,
          "yanchor": "bottom",
          "yref": "paper"
         },
         {
          "font": {
           "size": 16
          },
          "showarrow": false,
          "text": "To Be Alive Again - Journey",
          "x": 0.25,
          "xanchor": "center",
          "xref": "paper",
          "y": 0.82,
          "yanchor": "bottom",
          "yref": "paper"
         },
         {
          "font": {
           "size": 16
          },
          "showarrow": false,
          "text": "(Kanji) Ooioo - OOIOO",
          "x": 0.75,
          "xanchor": "center",
          "xref": "paper",
          "y": 0.82,
          "yanchor": "bottom",
          "yref": "paper"
         },
         {
          "font": {
           "size": 16
          },
          "showarrow": false,
          "text": "Spotlights - Let Go",
          "x": 0.25,
          "xanchor": "center",
          "xref": "paper",
          "y": 0.6,
          "yanchor": "bottom",
          "yref": "paper"
         },
         {
          "font": {
           "size": 16
          },
          "showarrow": false,
          "text": "Jaden's Interlude - Will Smith",
          "x": 0.75,
          "xanchor": "center",
          "xref": "paper",
          "y": 0.6,
          "yanchor": "bottom",
          "yref": "paper"
         },
         {
          "font": {
           "size": 16
          },
          "showarrow": false,
          "text": "Dead Space - Able Baker Fox",
          "x": 0.25,
          "xanchor": "center",
          "xref": "paper",
          "y": 0.38,
          "yanchor": "bottom",
          "yref": "paper"
         },
         {
          "font": {
           "size": 16
          },
          "showarrow": false,
          "text": "Intro - Swell",
          "x": 0.75,
          "xanchor": "center",
          "xref": "paper",
          "y": 0.38,
          "yanchor": "bottom",
          "yref": "paper"
         },
         {
          "font": {
           "size": 16
          },
          "showarrow": false,
          "text": "Paper Crowns - Burning Airlines",
          "x": 0.25,
          "xanchor": "center",
          "xref": "paper",
          "y": 0.16,
          "yanchor": "bottom",
          "yref": "paper"
         },
         {
          "font": {
           "size": 16
          },
          "showarrow": false,
          "text": "40 Break - Brotha Lynch Hung",
          "x": 0.75,
          "xanchor": "center",
          "xref": "paper",
          "y": 0.16,
          "yanchor": "bottom",
          "yref": "paper"
         },
         {
          "font": {
           "color": "black",
           "size": 20
          },
          "showarrow": false,
          "text": "Closest tracks from centroid 4",
          "x": 0.12,
          "y": 1.09
         },
         {
          "font": {
           "color": "black",
           "size": 22
          },
          "showarrow": false,
          "text": "Furthest tracks from centroid 4",
          "x": 0.9,
          "y": 1.09
         },
         {
          "font": {
           "color": "black",
           "size": 22
          },
          "showarrow": false,
          "text": "Rank",
          "x": 0.005,
          "y": 1.09
         },
         {
          "font": {
           "color": "black",
           "size": 22
          },
          "showarrow": false,
          "text": "1",
          "x": 0.01,
          "y": 1.05
         },
         {
          "font": {
           "color": "black",
           "size": 22
          },
          "showarrow": false,
          "text": "2",
          "x": 0.01,
          "y": 0.84
         },
         {
          "font": {
           "color": "black",
           "size": 22
          },
          "showarrow": false,
          "text": "3",
          "x": 0.01,
          "y": 0.608
         },
         {
          "font": {
           "color": "black",
           "size": 22
          },
          "showarrow": false,
          "text": "4",
          "x": 0.01,
          "y": 0.389
         },
         {
          "font": {
           "color": "black",
           "size": 22
          },
          "showarrow": false,
          "text": "5",
          "x": 0.01,
          "y": 0.159
         }
        ],
        "height": 1600,
        "margin": {
         "b": 50,
         "l": 50,
         "r": 50,
         "t": 200
        },
        "polar": {
         "domain": {
          "x": [
           0,
           0.5
          ],
          "y": [
           0.88,
           1
          ]
         },
         "radialaxis": {
          "range": [
           -0.8442758152135953,
           1.32879453220893
          ],
          "showticklabels": false,
          "ticks": ""
         }
        },
        "polar10": {
         "domain": {
          "x": [
           0.5,
           1
          ],
          "y": [
           0,
           0.12
          ]
         },
         "radialaxis": {
          "range": [
           -8.00310504882673,
           8.502461008551235
          ],
          "showticklabels": false,
          "ticks": ""
         }
        },
        "polar2": {
         "domain": {
          "x": [
           0.5,
           1
          ],
          "y": [
           0.88,
           1
          ]
         },
         "radialaxis": {
          "range": [
           -8.00310504882673,
           8.502461008551235
          ],
          "showticklabels": false,
          "ticks": ""
         }
        },
        "polar3": {
         "domain": {
          "x": [
           0,
           0.5
          ],
          "y": [
           0.66,
           0.78
          ]
         },
         "radialaxis": {
          "range": [
           -0.8442758152135953,
           1.32879453220893
          ],
          "showticklabels": false,
          "ticks": ""
         }
        },
        "polar4": {
         "domain": {
          "x": [
           0.5,
           1
          ],
          "y": [
           0.66,
           0.78
          ]
         },
         "radialaxis": {
          "range": [
           -8.00310504882673,
           8.502461008551235
          ],
          "showticklabels": false,
          "ticks": ""
         }
        },
        "polar5": {
         "domain": {
          "x": [
           0,
           0.5
          ],
          "y": [
           0.44,
           0.56
          ]
         },
         "radialaxis": {
          "range": [
           -0.8442758152135953,
           1.32879453220893
          ],
          "showticklabels": false,
          "ticks": ""
         }
        },
        "polar6": {
         "domain": {
          "x": [
           0.5,
           1
          ],
          "y": [
           0.44,
           0.56
          ]
         },
         "radialaxis": {
          "range": [
           -8.00310504882673,
           8.502461008551235
          ],
          "showticklabels": false,
          "ticks": ""
         }
        },
        "polar7": {
         "domain": {
          "x": [
           0,
           0.5
          ],
          "y": [
           0.22,
           0.33999999999999997
          ]
         },
         "radialaxis": {
          "range": [
           -0.8442758152135953,
           1.32879453220893
          ],
          "showticklabels": false,
          "ticks": ""
         }
        },
        "polar8": {
         "domain": {
          "x": [
           0.5,
           1
          ],
          "y": [
           0.22,
           0.33999999999999997
          ]
         },
         "radialaxis": {
          "range": [
           -8.00310504882673,
           8.502461008551235
          ],
          "showticklabels": false,
          "ticks": ""
         }
        },
        "polar9": {
         "domain": {
          "x": [
           0,
           0.5
          ],
          "y": [
           0,
           0.12
          ]
         },
         "radialaxis": {
          "range": [
           -0.8442758152135953,
           1.32879453220893
          ],
          "showticklabels": false,
          "ticks": ""
         }
        },
        "showlegend": false,
        "template": {
         "data": {
          "bar": [
           {
            "error_x": {
             "color": "#2a3f5f"
            },
            "error_y": {
             "color": "#2a3f5f"
            },
            "marker": {
             "line": {
              "color": "#E5ECF6",
              "width": 0.5
             },
             "pattern": {
              "fillmode": "overlay",
              "size": 10,
              "solidity": 0.2
             }
            },
            "type": "bar"
           }
          ],
          "barpolar": [
           {
            "marker": {
             "line": {
              "color": "#E5ECF6",
              "width": 0.5
             },
             "pattern": {
              "fillmode": "overlay",
              "size": 10,
              "solidity": 0.2
             }
            },
            "type": "barpolar"
           }
          ],
          "carpet": [
           {
            "aaxis": {
             "endlinecolor": "#2a3f5f",
             "gridcolor": "white",
             "linecolor": "white",
             "minorgridcolor": "white",
             "startlinecolor": "#2a3f5f"
            },
            "baxis": {
             "endlinecolor": "#2a3f5f",
             "gridcolor": "white",
             "linecolor": "white",
             "minorgridcolor": "white",
             "startlinecolor": "#2a3f5f"
            },
            "type": "carpet"
           }
          ],
          "choropleth": [
           {
            "colorbar": {
             "outlinewidth": 0,
             "ticks": ""
            },
            "type": "choropleth"
           }
          ],
          "contour": [
           {
            "colorbar": {
             "outlinewidth": 0,
             "ticks": ""
            },
            "colorscale": [
             [
              0,
              "#0d0887"
             ],
             [
              0.1111111111111111,
              "#46039f"
             ],
             [
              0.2222222222222222,
              "#7201a8"
             ],
             [
              0.3333333333333333,
              "#9c179e"
             ],
             [
              0.4444444444444444,
              "#bd3786"
             ],
             [
              0.5555555555555556,
              "#d8576b"
             ],
             [
              0.6666666666666666,
              "#ed7953"
             ],
             [
              0.7777777777777778,
              "#fb9f3a"
             ],
             [
              0.8888888888888888,
              "#fdca26"
             ],
             [
              1,
              "#f0f921"
             ]
            ],
            "type": "contour"
           }
          ],
          "contourcarpet": [
           {
            "colorbar": {
             "outlinewidth": 0,
             "ticks": ""
            },
            "type": "contourcarpet"
           }
          ],
          "heatmap": [
           {
            "colorbar": {
             "outlinewidth": 0,
             "ticks": ""
            },
            "colorscale": [
             [
              0,
              "#0d0887"
             ],
             [
              0.1111111111111111,
              "#46039f"
             ],
             [
              0.2222222222222222,
              "#7201a8"
             ],
             [
              0.3333333333333333,
              "#9c179e"
             ],
             [
              0.4444444444444444,
              "#bd3786"
             ],
             [
              0.5555555555555556,
              "#d8576b"
             ],
             [
              0.6666666666666666,
              "#ed7953"
             ],
             [
              0.7777777777777778,
              "#fb9f3a"
             ],
             [
              0.8888888888888888,
              "#fdca26"
             ],
             [
              1,
              "#f0f921"
             ]
            ],
            "type": "heatmap"
           }
          ],
          "heatmapgl": [
           {
            "colorbar": {
             "outlinewidth": 0,
             "ticks": ""
            },
            "colorscale": [
             [
              0,
              "#0d0887"
             ],
             [
              0.1111111111111111,
              "#46039f"
             ],
             [
              0.2222222222222222,
              "#7201a8"
             ],
             [
              0.3333333333333333,
              "#9c179e"
             ],
             [
              0.4444444444444444,
              "#bd3786"
             ],
             [
              0.5555555555555556,
              "#d8576b"
             ],
             [
              0.6666666666666666,
              "#ed7953"
             ],
             [
              0.7777777777777778,
              "#fb9f3a"
             ],
             [
              0.8888888888888888,
              "#fdca26"
             ],
             [
              1,
              "#f0f921"
             ]
            ],
            "type": "heatmapgl"
           }
          ],
          "histogram": [
           {
            "marker": {
             "pattern": {
              "fillmode": "overlay",
              "size": 10,
              "solidity": 0.2
             }
            },
            "type": "histogram"
           }
          ],
          "histogram2d": [
           {
            "colorbar": {
             "outlinewidth": 0,
             "ticks": ""
            },
            "colorscale": [
             [
              0,
              "#0d0887"
             ],
             [
              0.1111111111111111,
              "#46039f"
             ],
             [
              0.2222222222222222,
              "#7201a8"
             ],
             [
              0.3333333333333333,
              "#9c179e"
             ],
             [
              0.4444444444444444,
              "#bd3786"
             ],
             [
              0.5555555555555556,
              "#d8576b"
             ],
             [
              0.6666666666666666,
              "#ed7953"
             ],
             [
              0.7777777777777778,
              "#fb9f3a"
             ],
             [
              0.8888888888888888,
              "#fdca26"
             ],
             [
              1,
              "#f0f921"
             ]
            ],
            "type": "histogram2d"
           }
          ],
          "histogram2dcontour": [
           {
            "colorbar": {
             "outlinewidth": 0,
             "ticks": ""
            },
            "colorscale": [
             [
              0,
              "#0d0887"
             ],
             [
              0.1111111111111111,
              "#46039f"
             ],
             [
              0.2222222222222222,
              "#7201a8"
             ],
             [
              0.3333333333333333,
              "#9c179e"
             ],
             [
              0.4444444444444444,
              "#bd3786"
             ],
             [
              0.5555555555555556,
              "#d8576b"
             ],
             [
              0.6666666666666666,
              "#ed7953"
             ],
             [
              0.7777777777777778,
              "#fb9f3a"
             ],
             [
              0.8888888888888888,
              "#fdca26"
             ],
             [
              1,
              "#f0f921"
             ]
            ],
            "type": "histogram2dcontour"
           }
          ],
          "mesh3d": [
           {
            "colorbar": {
             "outlinewidth": 0,
             "ticks": ""
            },
            "type": "mesh3d"
           }
          ],
          "parcoords": [
           {
            "line": {
             "colorbar": {
              "outlinewidth": 0,
              "ticks": ""
             }
            },
            "type": "parcoords"
           }
          ],
          "pie": [
           {
            "automargin": true,
            "type": "pie"
           }
          ],
          "scatter": [
           {
            "fillpattern": {
             "fillmode": "overlay",
             "size": 10,
             "solidity": 0.2
            },
            "type": "scatter"
           }
          ],
          "scatter3d": [
           {
            "line": {
             "colorbar": {
              "outlinewidth": 0,
              "ticks": ""
             }
            },
            "marker": {
             "colorbar": {
              "outlinewidth": 0,
              "ticks": ""
             }
            },
            "type": "scatter3d"
           }
          ],
          "scattercarpet": [
           {
            "marker": {
             "colorbar": {
              "outlinewidth": 0,
              "ticks": ""
             }
            },
            "type": "scattercarpet"
           }
          ],
          "scattergeo": [
           {
            "marker": {
             "colorbar": {
              "outlinewidth": 0,
              "ticks": ""
             }
            },
            "type": "scattergeo"
           }
          ],
          "scattergl": [
           {
            "marker": {
             "colorbar": {
              "outlinewidth": 0,
              "ticks": ""
             }
            },
            "type": "scattergl"
           }
          ],
          "scattermapbox": [
           {
            "marker": {
             "colorbar": {
              "outlinewidth": 0,
              "ticks": ""
             }
            },
            "type": "scattermapbox"
           }
          ],
          "scatterpolar": [
           {
            "marker": {
             "colorbar": {
              "outlinewidth": 0,
              "ticks": ""
             }
            },
            "type": "scatterpolar"
           }
          ],
          "scatterpolargl": [
           {
            "marker": {
             "colorbar": {
              "outlinewidth": 0,
              "ticks": ""
             }
            },
            "type": "scatterpolargl"
           }
          ],
          "scatterternary": [
           {
            "marker": {
             "colorbar": {
              "outlinewidth": 0,
              "ticks": ""
             }
            },
            "type": "scatterternary"
           }
          ],
          "surface": [
           {
            "colorbar": {
             "outlinewidth": 0,
             "ticks": ""
            },
            "colorscale": [
             [
              0,
              "#0d0887"
             ],
             [
              0.1111111111111111,
              "#46039f"
             ],
             [
              0.2222222222222222,
              "#7201a8"
             ],
             [
              0.3333333333333333,
              "#9c179e"
             ],
             [
              0.4444444444444444,
              "#bd3786"
             ],
             [
              0.5555555555555556,
              "#d8576b"
             ],
             [
              0.6666666666666666,
              "#ed7953"
             ],
             [
              0.7777777777777778,
              "#fb9f3a"
             ],
             [
              0.8888888888888888,
              "#fdca26"
             ],
             [
              1,
              "#f0f921"
             ]
            ],
            "type": "surface"
           }
          ],
          "table": [
           {
            "cells": {
             "fill": {
              "color": "#EBF0F8"
             },
             "line": {
              "color": "white"
             }
            },
            "header": {
             "fill": {
              "color": "#C8D4E3"
             },
             "line": {
              "color": "white"
             }
            },
            "type": "table"
           }
          ]
         },
         "layout": {
          "annotationdefaults": {
           "arrowcolor": "#2a3f5f",
           "arrowhead": 0,
           "arrowwidth": 1
          },
          "autotypenumbers": "strict",
          "coloraxis": {
           "colorbar": {
            "outlinewidth": 0,
            "ticks": ""
           }
          },
          "colorscale": {
           "diverging": [
            [
             0,
             "#8e0152"
            ],
            [
             0.1,
             "#c51b7d"
            ],
            [
             0.2,
             "#de77ae"
            ],
            [
             0.3,
             "#f1b6da"
            ],
            [
             0.4,
             "#fde0ef"
            ],
            [
             0.5,
             "#f7f7f7"
            ],
            [
             0.6,
             "#e6f5d0"
            ],
            [
             0.7,
             "#b8e186"
            ],
            [
             0.8,
             "#7fbc41"
            ],
            [
             0.9,
             "#4d9221"
            ],
            [
             1,
             "#276419"
            ]
           ],
           "sequential": [
            [
             0,
             "#0d0887"
            ],
            [
             0.1111111111111111,
             "#46039f"
            ],
            [
             0.2222222222222222,
             "#7201a8"
            ],
            [
             0.3333333333333333,
             "#9c179e"
            ],
            [
             0.4444444444444444,
             "#bd3786"
            ],
            [
             0.5555555555555556,
             "#d8576b"
            ],
            [
             0.6666666666666666,
             "#ed7953"
            ],
            [
             0.7777777777777778,
             "#fb9f3a"
            ],
            [
             0.8888888888888888,
             "#fdca26"
            ],
            [
             1,
             "#f0f921"
            ]
           ],
           "sequentialminus": [
            [
             0,
             "#0d0887"
            ],
            [
             0.1111111111111111,
             "#46039f"
            ],
            [
             0.2222222222222222,
             "#7201a8"
            ],
            [
             0.3333333333333333,
             "#9c179e"
            ],
            [
             0.4444444444444444,
             "#bd3786"
            ],
            [
             0.5555555555555556,
             "#d8576b"
            ],
            [
             0.6666666666666666,
             "#ed7953"
            ],
            [
             0.7777777777777778,
             "#fb9f3a"
            ],
            [
             0.8888888888888888,
             "#fdca26"
            ],
            [
             1,
             "#f0f921"
            ]
           ]
          },
          "colorway": [
           "#636efa",
           "#EF553B",
           "#00cc96",
           "#ab63fa",
           "#FFA15A",
           "#19d3f3",
           "#FF6692",
           "#B6E880",
           "#FF97FF",
           "#FECB52"
          ],
          "font": {
           "color": "#2a3f5f"
          },
          "geo": {
           "bgcolor": "white",
           "lakecolor": "white",
           "landcolor": "#E5ECF6",
           "showlakes": true,
           "showland": true,
           "subunitcolor": "white"
          },
          "hoverlabel": {
           "align": "left"
          },
          "hovermode": "closest",
          "mapbox": {
           "style": "light"
          },
          "paper_bgcolor": "white",
          "plot_bgcolor": "#E5ECF6",
          "polar": {
           "angularaxis": {
            "gridcolor": "white",
            "linecolor": "white",
            "ticks": ""
           },
           "bgcolor": "#E5ECF6",
           "radialaxis": {
            "gridcolor": "white",
            "linecolor": "white",
            "ticks": ""
           }
          },
          "scene": {
           "xaxis": {
            "backgroundcolor": "#E5ECF6",
            "gridcolor": "white",
            "gridwidth": 2,
            "linecolor": "white",
            "showbackground": true,
            "ticks": "",
            "zerolinecolor": "white"
           },
           "yaxis": {
            "backgroundcolor": "#E5ECF6",
            "gridcolor": "white",
            "gridwidth": 2,
            "linecolor": "white",
            "showbackground": true,
            "ticks": "",
            "zerolinecolor": "white"
           },
           "zaxis": {
            "backgroundcolor": "#E5ECF6",
            "gridcolor": "white",
            "gridwidth": 2,
            "linecolor": "white",
            "showbackground": true,
            "ticks": "",
            "zerolinecolor": "white"
           }
          },
          "shapedefaults": {
           "line": {
            "color": "#2a3f5f"
           }
          },
          "ternary": {
           "aaxis": {
            "gridcolor": "white",
            "linecolor": "white",
            "ticks": ""
           },
           "baxis": {
            "gridcolor": "white",
            "linecolor": "white",
            "ticks": ""
           },
           "bgcolor": "#E5ECF6",
           "caxis": {
            "gridcolor": "white",
            "linecolor": "white",
            "ticks": ""
           }
          },
          "title": {
           "x": 0.05
          },
          "xaxis": {
           "automargin": true,
           "gridcolor": "white",
           "linecolor": "white",
           "ticks": "",
           "title": {
            "standoff": 15
           },
           "zerolinecolor": "white",
           "zerolinewidth": 2
          },
          "yaxis": {
           "automargin": true,
           "gridcolor": "white",
           "linecolor": "white",
           "ticks": "",
           "title": {
            "standoff": 15
           },
           "zerolinecolor": "white",
           "zerolinewidth": 2
          }
         }
        },
        "title": {
         "font": {
          "size": 18
         },
         "text": "Most similar and different tracks from centroid 4 profile (blue) of user '22e08d5e101ab5b86dc394856d508e175a5242a6'",
         "x": 0.5,
         "y": 0.99
        },
        "width": 1200
       }
      }
     },
     "metadata": {},
     "output_type": "display_data"
    },
    {
     "name": "stdout",
     "output_type": "stream",
     "text": [
      "['To Know Him Is To Love Him - The Teddy Bears',\n",
      " 'Rain - Shel Silverstein',\n",
      " 'If I was a Blackbird - Silly Wizard',\n",
      " \"Jaden's Interlude - Will Smith\",\n",
      " 'The Curse - Josh Ritter',\n",
      " 'Intro - Swell',\n",
      " 'Rejoice - Il Divo',\n",
      " 'Socoro - George Lopez',\n",
      " 'Aye Waukin-O - Eddi Reader',\n",
      " 'ER - George Lopez']\n"
     ]
    },
    {
     "data": {
      "application/vnd.plotly.v1+json": {
       "config": {
        "plotlyServerURL": "https://plot.ly"
       },
       "data": [
        {
         "fill": "toself",
         "line": {
          "color": "#636EFA"
         },
         "mode": "lines+markers",
         "name": "Cluster center centroid 5 profile",
         "r": [
          -1.5910597983158898,
          -1.2105370994582942,
          -0.36159372805977874,
          -0.49486933878587946,
          2.063004457043122,
          -0.45581169708484714,
          -0.44532473718331433,
          -0.41969479124229686,
          1.8810039826487777
         ],
         "subplot": "polar",
         "theta": [
          "Danceability",
          "Energy",
          "Loudness",
          "Speechiness",
          "Acousticness",
          "instrumentalness",
          "Liveness",
          "Valence",
          "Tempo"
         ],
         "type": "scatterpolar"
        },
        {
         "fill": "toself",
         "line": {
          "color": "#EF553B"
         },
         "name": "Closest track rank 1",
         "r": [
          -1.2446910090478187,
          -1.2177703486052707,
          -0.2780242425485877,
          -0.5019911314221532,
          1.9095578496690329,
          -0.6235611402396571,
          -0.4853452367474656,
          -0.3489988262330828,
          1.7491660726897758
         ],
         "subplot": "polar",
         "theta": [
          "Danceability",
          "Energy",
          "Loudness",
          "Speechiness",
          "Acousticness",
          "instrumentalness",
          "Liveness",
          "Valence",
          "Tempo"
         ],
         "type": "scatterpolar"
        },
        {
         "fill": "toself",
         "line": {
          "color": "#636EFA"
         },
         "mode": "lines+markers",
         "name": "Cluster center centroid 5 profile",
         "r": [
          -1.5910597983158898,
          -1.2105370994582942,
          -0.36159372805977874,
          -0.49486933878587946,
          2.063004457043122,
          -0.45581169708484714,
          -0.44532473718331433,
          -0.41969479124229686,
          1.8810039826487777
         ],
         "showlegend": false,
         "subplot": "polar2",
         "theta": [
          "Danceability",
          "Energy",
          "Loudness",
          "Speechiness",
          "Acousticness",
          "instrumentalness",
          "Liveness",
          "Valence",
          "Tempo"
         ],
         "type": "scatterpolar"
        },
        {
         "fill": "toself",
         "line": {
          "color": "#B6E880"
         },
         "name": "Furthest track rank 1",
         "r": [
          1.7962442756125294,
          -1.7509241185879552,
          -3.8273796111062994,
          8.391865906340753,
          -0.48696237972183476,
          -0.6235690916720154,
          0.18582482754746282,
          -0.41826552451738575,
          -2.7584953825345813
         ],
         "subplot": "polar2",
         "theta": [
          "Danceability",
          "Energy",
          "Loudness",
          "Speechiness",
          "Acousticness",
          "instrumentalness",
          "Liveness",
          "Valence",
          "Tempo"
         ],
         "type": "scatterpolar"
        },
        {
         "fill": "toself",
         "line": {
          "color": "#636EFA"
         },
         "mode": "lines+markers",
         "name": "Cluster center centroid 5 profile",
         "r": [
          -1.5910597983158898,
          -1.2105370994582942,
          -0.36159372805977874,
          -0.49486933878587946,
          2.063004457043122,
          -0.45581169708484714,
          -0.44532473718331433,
          -0.41969479124229686,
          1.8810039826487777
         ],
         "showlegend": false,
         "subplot": "polar3",
         "theta": [
          "Danceability",
          "Energy",
          "Loudness",
          "Speechiness",
          "Acousticness",
          "instrumentalness",
          "Liveness",
          "Valence",
          "Tempo"
         ],
         "type": "scatterpolar"
        },
        {
         "fill": "toself",
         "line": {
          "color": "#EF553B"
         },
         "name": "Closest track rank 2",
         "r": [
          -1.2614608727499899,
          -1.4647459920531316,
          -0.6329597794043588,
          -0.49998031138196264,
          1.9435729755055489,
          -0.41000763254867767,
          -0.5439394487097218,
          -0.4682914732782719,
          1.8480818362836762
         ],
         "subplot": "polar3",
         "theta": [
          "Danceability",
          "Energy",
          "Loudness",
          "Speechiness",
          "Acousticness",
          "instrumentalness",
          "Liveness",
          "Valence",
          "Tempo"
         ],
         "type": "scatterpolar"
        },
        {
         "fill": "toself",
         "line": {
          "color": "#636EFA"
         },
         "mode": "lines+markers",
         "name": "Cluster center centroid 5 profile",
         "r": [
          -1.5910597983158898,
          -1.2105370994582942,
          -0.36159372805977874,
          -0.49486933878587946,
          2.063004457043122,
          -0.45581169708484714,
          -0.44532473718331433,
          -0.41969479124229686,
          1.8810039826487777
         ],
         "showlegend": false,
         "subplot": "polar4",
         "theta": [
          "Danceability",
          "Energy",
          "Loudness",
          "Speechiness",
          "Acousticness",
          "instrumentalness",
          "Liveness",
          "Valence",
          "Tempo"
         ],
         "type": "scatterpolar"
        },
        {
         "fill": "toself",
         "line": {
          "color": "#B6E880"
         },
         "name": "Furthest track rank 2",
         "r": [
          1.0527803181496134,
          -1.8606910712314484,
          -2.8141140518642684,
          8.502461008551235,
          1.7796819146568825,
          -0.6235690916720154,
          3.6908240521987556,
          -1.0185769096480148,
          -2.3667530739111062
         ],
         "subplot": "polar4",
         "theta": [
          "Danceability",
          "Energy",
          "Loudness",
          "Speechiness",
          "Acousticness",
          "instrumentalness",
          "Liveness",
          "Valence",
          "Tempo"
         ],
         "type": "scatterpolar"
        },
        {
         "fill": "toself",
         "line": {
          "color": "#636EFA"
         },
         "mode": "lines+markers",
         "name": "Cluster center centroid 5 profile",
         "r": [
          -1.5910597983158898,
          -1.2105370994582942,
          -0.36159372805977874,
          -0.49486933878587946,
          2.063004457043122,
          -0.45581169708484714,
          -0.44532473718331433,
          -0.41969479124229686,
          1.8810039826487777
         ],
         "showlegend": false,
         "subplot": "polar5",
         "theta": [
          "Danceability",
          "Energy",
          "Loudness",
          "Speechiness",
          "Acousticness",
          "instrumentalness",
          "Liveness",
          "Valence",
          "Tempo"
         ],
         "type": "scatterpolar"
        },
        {
         "fill": "toself",
         "line": {
          "color": "#EF553B"
         },
         "name": "Closest track rank 3",
         "r": [
          -0.9875530989478634,
          -1.2216905969139673,
          -0.2417879575557031,
          -0.39240143923176696,
          1.7858664829907944,
          -0.6233086137154527,
          -0.4214242782431866,
          -0.5529507711813092,
          1.8436626906478037
         ],
         "subplot": "polar5",
         "theta": [
          "Danceability",
          "Energy",
          "Loudness",
          "Speechiness",
          "Acousticness",
          "instrumentalness",
          "Liveness",
          "Valence",
          "Tempo"
         ],
         "type": "scatterpolar"
        },
        {
         "fill": "toself",
         "line": {
          "color": "#636EFA"
         },
         "mode": "lines+markers",
         "name": "Cluster center centroid 5 profile",
         "r": [
          -1.5910597983158898,
          -1.2105370994582942,
          -0.36159372805977874,
          -0.49486933878587946,
          2.063004457043122,
          -0.45581169708484714,
          -0.44532473718331433,
          -0.41969479124229686,
          1.8810039826487777
         ],
         "showlegend": false,
         "subplot": "polar6",
         "theta": [
          "Danceability",
          "Energy",
          "Loudness",
          "Speechiness",
          "Acousticness",
          "instrumentalness",
          "Liveness",
          "Valence",
          "Tempo"
         ],
         "type": "scatterpolar"
        },
        {
         "fill": "toself",
         "line": {
          "color": "#B6E880"
         },
         "name": "Furthest track rank 3",
         "r": [
          1.6397255477255994,
          -1.8998935543184103,
          -4.23880774133607,
          8.442136407345517,
          1.8013279038255745,
          -0.6235690916720154,
          1.7305813247342028,
          0.48604970308324014,
          -2.330469562374479
         ],
         "subplot": "polar6",
         "theta": [
          "Danceability",
          "Energy",
          "Loudness",
          "Speechiness",
          "Acousticness",
          "instrumentalness",
          "Liveness",
          "Valence",
          "Tempo"
         ],
         "type": "scatterpolar"
        },
        {
         "fill": "toself",
         "line": {
          "color": "#636EFA"
         },
         "mode": "lines+markers",
         "name": "Cluster center centroid 5 profile",
         "r": [
          -1.5910597983158898,
          -1.2105370994582942,
          -0.36159372805977874,
          -0.49486933878587946,
          2.063004457043122,
          -0.45581169708484714,
          -0.44532473718331433,
          -0.41969479124229686,
          1.8810039826487777
         ],
         "showlegend": false,
         "subplot": "polar7",
         "theta": [
          "Danceability",
          "Energy",
          "Loudness",
          "Speechiness",
          "Acousticness",
          "instrumentalness",
          "Liveness",
          "Valence",
          "Tempo"
         ],
         "type": "scatterpolar"
        },
        {
         "fill": "toself",
         "line": {
          "color": "#EF553B"
         },
         "name": "Closest track rank 4",
         "r": [
          -1.686297419871656,
          -1.374580280953119,
          -0.21477954638088198,
          -0.4356340700958643,
          2.1693097196933335,
          -0.6124492724737246,
          -0.09649273917976892,
          -0.9416139115543445,
          1.6963024583539008
         ],
         "subplot": "polar7",
         "theta": [
          "Danceability",
          "Energy",
          "Loudness",
          "Speechiness",
          "Acousticness",
          "instrumentalness",
          "Liveness",
          "Valence",
          "Tempo"
         ],
         "type": "scatterpolar"
        },
        {
         "fill": "toself",
         "line": {
          "color": "#636EFA"
         },
         "mode": "lines+markers",
         "name": "Cluster center centroid 5 profile",
         "r": [
          -1.5910597983158898,
          -1.2105370994582942,
          -0.36159372805977874,
          -0.49486933878587946,
          2.063004457043122,
          -0.45581169708484714,
          -0.44532473718331433,
          -0.41969479124229686,
          1.8810039826487777
         ],
         "showlegend": false,
         "subplot": "polar8",
         "theta": [
          "Danceability",
          "Energy",
          "Loudness",
          "Speechiness",
          "Acousticness",
          "instrumentalness",
          "Liveness",
          "Valence",
          "Tempo"
         ],
         "type": "scatterpolar"
        },
        {
         "fill": "toself",
         "line": {
          "color": "#B6E880"
         },
         "name": "Furthest track rank 4",
         "r": [
          0.16397754193454842,
          -0.9276719737617518,
          -2.0171408521139287,
          8.542677409355047,
          1.7178362313177633,
          -0.6235690916720154,
          3.9997753516361034,
          -0.4259618243267532,
          -2.1845713030728944
         ],
         "subplot": "polar8",
         "theta": [
          "Danceability",
          "Energy",
          "Loudness",
          "Speechiness",
          "Acousticness",
          "instrumentalness",
          "Liveness",
          "Valence",
          "Tempo"
         ],
         "type": "scatterpolar"
        },
        {
         "fill": "toself",
         "line": {
          "color": "#636EFA"
         },
         "mode": "lines+markers",
         "name": "Cluster center centroid 5 profile",
         "r": [
          -1.5910597983158898,
          -1.2105370994582942,
          -0.36159372805977874,
          -0.49486933878587946,
          2.063004457043122,
          -0.45581169708484714,
          -0.44532473718331433,
          -0.41969479124229686,
          1.8810039826487777
         ],
         "showlegend": false,
         "subplot": "polar9",
         "theta": [
          "Danceability",
          "Energy",
          "Loudness",
          "Speechiness",
          "Acousticness",
          "instrumentalness",
          "Liveness",
          "Valence",
          "Tempo"
         ],
         "type": "scatterpolar"
        },
        {
         "fill": "toself",
         "line": {
          "color": "#EF553B"
         },
         "name": "Closest track rank 5",
         "r": [
          -1.546548555686898,
          -1.6803596490314232,
          -0.1963237987447546,
          -0.4356340700958643,
          1.9683112488411965,
          -0.6235647046748523,
          -0.5332859556256747,
          -0.8800435130794081,
          2.0059084661362214
         ],
         "subplot": "polar9",
         "theta": [
          "Danceability",
          "Energy",
          "Loudness",
          "Speechiness",
          "Acousticness",
          "instrumentalness",
          "Liveness",
          "Valence",
          "Tempo"
         ],
         "type": "scatterpolar"
        },
        {
         "fill": "toself",
         "line": {
          "color": "#636EFA"
         },
         "mode": "lines+markers",
         "name": "Cluster center centroid 5 profile",
         "r": [
          -1.5910597983158898,
          -1.2105370994582942,
          -0.36159372805977874,
          -0.49486933878587946,
          2.063004457043122,
          -0.45581169708484714,
          -0.44532473718331433,
          -0.41969479124229686,
          1.8810039826487777
         ],
         "showlegend": false,
         "subplot": "polar10",
         "theta": [
          "Danceability",
          "Energy",
          "Loudness",
          "Speechiness",
          "Acousticness",
          "instrumentalness",
          "Liveness",
          "Valence",
          "Tempo"
         ],
         "type": "scatterpolar"
        },
        {
         "fill": "toself",
         "line": {
          "color": "#B6E880"
         },
         "name": "Furthest track rank 5",
         "r": [
          -0.28880877802407023,
          0.04454960679490772,
          -1.435559731482786,
          8.794029914378868,
          1.7982356196586182,
          -0.6235690916720154,
          3.7973589830392207,
          -0.6029767199421949,
          -1.909587473881386
         ],
         "subplot": "polar10",
         "theta": [
          "Danceability",
          "Energy",
          "Loudness",
          "Speechiness",
          "Acousticness",
          "instrumentalness",
          "Liveness",
          "Valence",
          "Tempo"
         ],
         "type": "scatterpolar"
        }
       ],
       "layout": {
        "annotations": [
         {
          "font": {
           "size": 16
          },
          "showarrow": false,
          "text": "To Know Him Is To Love Him - The Teddy Bears",
          "x": 0.25,
          "xanchor": "center",
          "xref": "paper",
          "y": 1.03,
          "yanchor": "bottom",
          "yref": "paper"
         },
         {
          "font": {
           "size": 16
          },
          "showarrow": false,
          "text": "Rain - Shel Silverstein",
          "x": 0.75,
          "xanchor": "center",
          "xref": "paper",
          "y": 1.03,
          "yanchor": "bottom",
          "yref": "paper"
         },
         {
          "font": {
           "size": 16
          },
          "showarrow": false,
          "text": "If I was a Blackbird - Silly Wizard",
          "x": 0.25,
          "xanchor": "center",
          "xref": "paper",
          "y": 0.82,
          "yanchor": "bottom",
          "yref": "paper"
         },
         {
          "font": {
           "size": 16
          },
          "showarrow": false,
          "text": "Jaden's Interlude - Will Smith",
          "x": 0.75,
          "xanchor": "center",
          "xref": "paper",
          "y": 0.82,
          "yanchor": "bottom",
          "yref": "paper"
         },
         {
          "font": {
           "size": 16
          },
          "showarrow": false,
          "text": "The Curse - Josh Ritter",
          "x": 0.25,
          "xanchor": "center",
          "xref": "paper",
          "y": 0.6,
          "yanchor": "bottom",
          "yref": "paper"
         },
         {
          "font": {
           "size": 16
          },
          "showarrow": false,
          "text": "Intro - Swell",
          "x": 0.75,
          "xanchor": "center",
          "xref": "paper",
          "y": 0.6,
          "yanchor": "bottom",
          "yref": "paper"
         },
         {
          "font": {
           "size": 16
          },
          "showarrow": false,
          "text": "Rejoice - Il Divo",
          "x": 0.25,
          "xanchor": "center",
          "xref": "paper",
          "y": 0.38,
          "yanchor": "bottom",
          "yref": "paper"
         },
         {
          "font": {
           "size": 16
          },
          "showarrow": false,
          "text": "Socoro - George Lopez",
          "x": 0.75,
          "xanchor": "center",
          "xref": "paper",
          "y": 0.38,
          "yanchor": "bottom",
          "yref": "paper"
         },
         {
          "font": {
           "size": 16
          },
          "showarrow": false,
          "text": "Aye Waukin-O - Eddi Reader",
          "x": 0.25,
          "xanchor": "center",
          "xref": "paper",
          "y": 0.16,
          "yanchor": "bottom",
          "yref": "paper"
         },
         {
          "font": {
           "size": 16
          },
          "showarrow": false,
          "text": "ER - George Lopez",
          "x": 0.75,
          "xanchor": "center",
          "xref": "paper",
          "y": 0.16,
          "yanchor": "bottom",
          "yref": "paper"
         },
         {
          "font": {
           "color": "black",
           "size": 20
          },
          "showarrow": false,
          "text": "Closest tracks from centroid 5",
          "x": 0.12,
          "y": 1.09
         },
         {
          "font": {
           "color": "black",
           "size": 22
          },
          "showarrow": false,
          "text": "Furthest tracks from centroid 5",
          "x": 0.9,
          "y": 1.09
         },
         {
          "font": {
           "color": "black",
           "size": 22
          },
          "showarrow": false,
          "text": "Rank",
          "x": 0.005,
          "y": 1.09
         },
         {
          "font": {
           "color": "black",
           "size": 22
          },
          "showarrow": false,
          "text": "1",
          "x": 0.01,
          "y": 1.05
         },
         {
          "font": {
           "color": "black",
           "size": 22
          },
          "showarrow": false,
          "text": "2",
          "x": 0.01,
          "y": 0.84
         },
         {
          "font": {
           "color": "black",
           "size": 22
          },
          "showarrow": false,
          "text": "3",
          "x": 0.01,
          "y": 0.608
         },
         {
          "font": {
           "color": "black",
           "size": 22
          },
          "showarrow": false,
          "text": "4",
          "x": 0.01,
          "y": 0.389
         },
         {
          "font": {
           "color": "black",
           "size": 22
          },
          "showarrow": false,
          "text": "5",
          "x": 0.01,
          "y": 0.159
         }
        ],
        "height": 1600,
        "margin": {
         "b": 50,
         "l": 50,
         "r": 50,
         "t": 200
        },
        "polar": {
         "domain": {
          "x": [
           0,
           0.5
          ],
          "y": [
           0.88,
           1
          ]
         },
         "radialaxis": {
          "range": [
           -1.686297419871656,
           2.1693097196933335
          ],
          "showticklabels": false,
          "ticks": ""
         }
        },
        "polar10": {
         "domain": {
          "x": [
           0.5,
           1
          ],
          "y": [
           0,
           0.12
          ]
         },
         "radialaxis": {
          "range": [
           -4.23880774133607,
           8.794029914378868
          ],
          "showticklabels": false,
          "ticks": ""
         }
        },
        "polar2": {
         "domain": {
          "x": [
           0.5,
           1
          ],
          "y": [
           0.88,
           1
          ]
         },
         "radialaxis": {
          "range": [
           -4.23880774133607,
           8.794029914378868
          ],
          "showticklabels": false,
          "ticks": ""
         }
        },
        "polar3": {
         "domain": {
          "x": [
           0,
           0.5
          ],
          "y": [
           0.66,
           0.78
          ]
         },
         "radialaxis": {
          "range": [
           -1.686297419871656,
           2.1693097196933335
          ],
          "showticklabels": false,
          "ticks": ""
         }
        },
        "polar4": {
         "domain": {
          "x": [
           0.5,
           1
          ],
          "y": [
           0.66,
           0.78
          ]
         },
         "radialaxis": {
          "range": [
           -4.23880774133607,
           8.794029914378868
          ],
          "showticklabels": false,
          "ticks": ""
         }
        },
        "polar5": {
         "domain": {
          "x": [
           0,
           0.5
          ],
          "y": [
           0.44,
           0.56
          ]
         },
         "radialaxis": {
          "range": [
           -1.686297419871656,
           2.1693097196933335
          ],
          "showticklabels": false,
          "ticks": ""
         }
        },
        "polar6": {
         "domain": {
          "x": [
           0.5,
           1
          ],
          "y": [
           0.44,
           0.56
          ]
         },
         "radialaxis": {
          "range": [
           -4.23880774133607,
           8.794029914378868
          ],
          "showticklabels": false,
          "ticks": ""
         }
        },
        "polar7": {
         "domain": {
          "x": [
           0,
           0.5
          ],
          "y": [
           0.22,
           0.33999999999999997
          ]
         },
         "radialaxis": {
          "range": [
           -1.686297419871656,
           2.1693097196933335
          ],
          "showticklabels": false,
          "ticks": ""
         }
        },
        "polar8": {
         "domain": {
          "x": [
           0.5,
           1
          ],
          "y": [
           0.22,
           0.33999999999999997
          ]
         },
         "radialaxis": {
          "range": [
           -4.23880774133607,
           8.794029914378868
          ],
          "showticklabels": false,
          "ticks": ""
         }
        },
        "polar9": {
         "domain": {
          "x": [
           0,
           0.5
          ],
          "y": [
           0,
           0.12
          ]
         },
         "radialaxis": {
          "range": [
           -1.686297419871656,
           2.1693097196933335
          ],
          "showticklabels": false,
          "ticks": ""
         }
        },
        "showlegend": false,
        "template": {
         "data": {
          "bar": [
           {
            "error_x": {
             "color": "#2a3f5f"
            },
            "error_y": {
             "color": "#2a3f5f"
            },
            "marker": {
             "line": {
              "color": "#E5ECF6",
              "width": 0.5
             },
             "pattern": {
              "fillmode": "overlay",
              "size": 10,
              "solidity": 0.2
             }
            },
            "type": "bar"
           }
          ],
          "barpolar": [
           {
            "marker": {
             "line": {
              "color": "#E5ECF6",
              "width": 0.5
             },
             "pattern": {
              "fillmode": "overlay",
              "size": 10,
              "solidity": 0.2
             }
            },
            "type": "barpolar"
           }
          ],
          "carpet": [
           {
            "aaxis": {
             "endlinecolor": "#2a3f5f",
             "gridcolor": "white",
             "linecolor": "white",
             "minorgridcolor": "white",
             "startlinecolor": "#2a3f5f"
            },
            "baxis": {
             "endlinecolor": "#2a3f5f",
             "gridcolor": "white",
             "linecolor": "white",
             "minorgridcolor": "white",
             "startlinecolor": "#2a3f5f"
            },
            "type": "carpet"
           }
          ],
          "choropleth": [
           {
            "colorbar": {
             "outlinewidth": 0,
             "ticks": ""
            },
            "type": "choropleth"
           }
          ],
          "contour": [
           {
            "colorbar": {
             "outlinewidth": 0,
             "ticks": ""
            },
            "colorscale": [
             [
              0,
              "#0d0887"
             ],
             [
              0.1111111111111111,
              "#46039f"
             ],
             [
              0.2222222222222222,
              "#7201a8"
             ],
             [
              0.3333333333333333,
              "#9c179e"
             ],
             [
              0.4444444444444444,
              "#bd3786"
             ],
             [
              0.5555555555555556,
              "#d8576b"
             ],
             [
              0.6666666666666666,
              "#ed7953"
             ],
             [
              0.7777777777777778,
              "#fb9f3a"
             ],
             [
              0.8888888888888888,
              "#fdca26"
             ],
             [
              1,
              "#f0f921"
             ]
            ],
            "type": "contour"
           }
          ],
          "contourcarpet": [
           {
            "colorbar": {
             "outlinewidth": 0,
             "ticks": ""
            },
            "type": "contourcarpet"
           }
          ],
          "heatmap": [
           {
            "colorbar": {
             "outlinewidth": 0,
             "ticks": ""
            },
            "colorscale": [
             [
              0,
              "#0d0887"
             ],
             [
              0.1111111111111111,
              "#46039f"
             ],
             [
              0.2222222222222222,
              "#7201a8"
             ],
             [
              0.3333333333333333,
              "#9c179e"
             ],
             [
              0.4444444444444444,
              "#bd3786"
             ],
             [
              0.5555555555555556,
              "#d8576b"
             ],
             [
              0.6666666666666666,
              "#ed7953"
             ],
             [
              0.7777777777777778,
              "#fb9f3a"
             ],
             [
              0.8888888888888888,
              "#fdca26"
             ],
             [
              1,
              "#f0f921"
             ]
            ],
            "type": "heatmap"
           }
          ],
          "heatmapgl": [
           {
            "colorbar": {
             "outlinewidth": 0,
             "ticks": ""
            },
            "colorscale": [
             [
              0,
              "#0d0887"
             ],
             [
              0.1111111111111111,
              "#46039f"
             ],
             [
              0.2222222222222222,
              "#7201a8"
             ],
             [
              0.3333333333333333,
              "#9c179e"
             ],
             [
              0.4444444444444444,
              "#bd3786"
             ],
             [
              0.5555555555555556,
              "#d8576b"
             ],
             [
              0.6666666666666666,
              "#ed7953"
             ],
             [
              0.7777777777777778,
              "#fb9f3a"
             ],
             [
              0.8888888888888888,
              "#fdca26"
             ],
             [
              1,
              "#f0f921"
             ]
            ],
            "type": "heatmapgl"
           }
          ],
          "histogram": [
           {
            "marker": {
             "pattern": {
              "fillmode": "overlay",
              "size": 10,
              "solidity": 0.2
             }
            },
            "type": "histogram"
           }
          ],
          "histogram2d": [
           {
            "colorbar": {
             "outlinewidth": 0,
             "ticks": ""
            },
            "colorscale": [
             [
              0,
              "#0d0887"
             ],
             [
              0.1111111111111111,
              "#46039f"
             ],
             [
              0.2222222222222222,
              "#7201a8"
             ],
             [
              0.3333333333333333,
              "#9c179e"
             ],
             [
              0.4444444444444444,
              "#bd3786"
             ],
             [
              0.5555555555555556,
              "#d8576b"
             ],
             [
              0.6666666666666666,
              "#ed7953"
             ],
             [
              0.7777777777777778,
              "#fb9f3a"
             ],
             [
              0.8888888888888888,
              "#fdca26"
             ],
             [
              1,
              "#f0f921"
             ]
            ],
            "type": "histogram2d"
           }
          ],
          "histogram2dcontour": [
           {
            "colorbar": {
             "outlinewidth": 0,
             "ticks": ""
            },
            "colorscale": [
             [
              0,
              "#0d0887"
             ],
             [
              0.1111111111111111,
              "#46039f"
             ],
             [
              0.2222222222222222,
              "#7201a8"
             ],
             [
              0.3333333333333333,
              "#9c179e"
             ],
             [
              0.4444444444444444,
              "#bd3786"
             ],
             [
              0.5555555555555556,
              "#d8576b"
             ],
             [
              0.6666666666666666,
              "#ed7953"
             ],
             [
              0.7777777777777778,
              "#fb9f3a"
             ],
             [
              0.8888888888888888,
              "#fdca26"
             ],
             [
              1,
              "#f0f921"
             ]
            ],
            "type": "histogram2dcontour"
           }
          ],
          "mesh3d": [
           {
            "colorbar": {
             "outlinewidth": 0,
             "ticks": ""
            },
            "type": "mesh3d"
           }
          ],
          "parcoords": [
           {
            "line": {
             "colorbar": {
              "outlinewidth": 0,
              "ticks": ""
             }
            },
            "type": "parcoords"
           }
          ],
          "pie": [
           {
            "automargin": true,
            "type": "pie"
           }
          ],
          "scatter": [
           {
            "fillpattern": {
             "fillmode": "overlay",
             "size": 10,
             "solidity": 0.2
            },
            "type": "scatter"
           }
          ],
          "scatter3d": [
           {
            "line": {
             "colorbar": {
              "outlinewidth": 0,
              "ticks": ""
             }
            },
            "marker": {
             "colorbar": {
              "outlinewidth": 0,
              "ticks": ""
             }
            },
            "type": "scatter3d"
           }
          ],
          "scattercarpet": [
           {
            "marker": {
             "colorbar": {
              "outlinewidth": 0,
              "ticks": ""
             }
            },
            "type": "scattercarpet"
           }
          ],
          "scattergeo": [
           {
            "marker": {
             "colorbar": {
              "outlinewidth": 0,
              "ticks": ""
             }
            },
            "type": "scattergeo"
           }
          ],
          "scattergl": [
           {
            "marker": {
             "colorbar": {
              "outlinewidth": 0,
              "ticks": ""
             }
            },
            "type": "scattergl"
           }
          ],
          "scattermapbox": [
           {
            "marker": {
             "colorbar": {
              "outlinewidth": 0,
              "ticks": ""
             }
            },
            "type": "scattermapbox"
           }
          ],
          "scatterpolar": [
           {
            "marker": {
             "colorbar": {
              "outlinewidth": 0,
              "ticks": ""
             }
            },
            "type": "scatterpolar"
           }
          ],
          "scatterpolargl": [
           {
            "marker": {
             "colorbar": {
              "outlinewidth": 0,
              "ticks": ""
             }
            },
            "type": "scatterpolargl"
           }
          ],
          "scatterternary": [
           {
            "marker": {
             "colorbar": {
              "outlinewidth": 0,
              "ticks": ""
             }
            },
            "type": "scatterternary"
           }
          ],
          "surface": [
           {
            "colorbar": {
             "outlinewidth": 0,
             "ticks": ""
            },
            "colorscale": [
             [
              0,
              "#0d0887"
             ],
             [
              0.1111111111111111,
              "#46039f"
             ],
             [
              0.2222222222222222,
              "#7201a8"
             ],
             [
              0.3333333333333333,
              "#9c179e"
             ],
             [
              0.4444444444444444,
              "#bd3786"
             ],
             [
              0.5555555555555556,
              "#d8576b"
             ],
             [
              0.6666666666666666,
              "#ed7953"
             ],
             [
              0.7777777777777778,
              "#fb9f3a"
             ],
             [
              0.8888888888888888,
              "#fdca26"
             ],
             [
              1,
              "#f0f921"
             ]
            ],
            "type": "surface"
           }
          ],
          "table": [
           {
            "cells": {
             "fill": {
              "color": "#EBF0F8"
             },
             "line": {
              "color": "white"
             }
            },
            "header": {
             "fill": {
              "color": "#C8D4E3"
             },
             "line": {
              "color": "white"
             }
            },
            "type": "table"
           }
          ]
         },
         "layout": {
          "annotationdefaults": {
           "arrowcolor": "#2a3f5f",
           "arrowhead": 0,
           "arrowwidth": 1
          },
          "autotypenumbers": "strict",
          "coloraxis": {
           "colorbar": {
            "outlinewidth": 0,
            "ticks": ""
           }
          },
          "colorscale": {
           "diverging": [
            [
             0,
             "#8e0152"
            ],
            [
             0.1,
             "#c51b7d"
            ],
            [
             0.2,
             "#de77ae"
            ],
            [
             0.3,
             "#f1b6da"
            ],
            [
             0.4,
             "#fde0ef"
            ],
            [
             0.5,
             "#f7f7f7"
            ],
            [
             0.6,
             "#e6f5d0"
            ],
            [
             0.7,
             "#b8e186"
            ],
            [
             0.8,
             "#7fbc41"
            ],
            [
             0.9,
             "#4d9221"
            ],
            [
             1,
             "#276419"
            ]
           ],
           "sequential": [
            [
             0,
             "#0d0887"
            ],
            [
             0.1111111111111111,
             "#46039f"
            ],
            [
             0.2222222222222222,
             "#7201a8"
            ],
            [
             0.3333333333333333,
             "#9c179e"
            ],
            [
             0.4444444444444444,
             "#bd3786"
            ],
            [
             0.5555555555555556,
             "#d8576b"
            ],
            [
             0.6666666666666666,
             "#ed7953"
            ],
            [
             0.7777777777777778,
             "#fb9f3a"
            ],
            [
             0.8888888888888888,
             "#fdca26"
            ],
            [
             1,
             "#f0f921"
            ]
           ],
           "sequentialminus": [
            [
             0,
             "#0d0887"
            ],
            [
             0.1111111111111111,
             "#46039f"
            ],
            [
             0.2222222222222222,
             "#7201a8"
            ],
            [
             0.3333333333333333,
             "#9c179e"
            ],
            [
             0.4444444444444444,
             "#bd3786"
            ],
            [
             0.5555555555555556,
             "#d8576b"
            ],
            [
             0.6666666666666666,
             "#ed7953"
            ],
            [
             0.7777777777777778,
             "#fb9f3a"
            ],
            [
             0.8888888888888888,
             "#fdca26"
            ],
            [
             1,
             "#f0f921"
            ]
           ]
          },
          "colorway": [
           "#636efa",
           "#EF553B",
           "#00cc96",
           "#ab63fa",
           "#FFA15A",
           "#19d3f3",
           "#FF6692",
           "#B6E880",
           "#FF97FF",
           "#FECB52"
          ],
          "font": {
           "color": "#2a3f5f"
          },
          "geo": {
           "bgcolor": "white",
           "lakecolor": "white",
           "landcolor": "#E5ECF6",
           "showlakes": true,
           "showland": true,
           "subunitcolor": "white"
          },
          "hoverlabel": {
           "align": "left"
          },
          "hovermode": "closest",
          "mapbox": {
           "style": "light"
          },
          "paper_bgcolor": "white",
          "plot_bgcolor": "#E5ECF6",
          "polar": {
           "angularaxis": {
            "gridcolor": "white",
            "linecolor": "white",
            "ticks": ""
           },
           "bgcolor": "#E5ECF6",
           "radialaxis": {
            "gridcolor": "white",
            "linecolor": "white",
            "ticks": ""
           }
          },
          "scene": {
           "xaxis": {
            "backgroundcolor": "#E5ECF6",
            "gridcolor": "white",
            "gridwidth": 2,
            "linecolor": "white",
            "showbackground": true,
            "ticks": "",
            "zerolinecolor": "white"
           },
           "yaxis": {
            "backgroundcolor": "#E5ECF6",
            "gridcolor": "white",
            "gridwidth": 2,
            "linecolor": "white",
            "showbackground": true,
            "ticks": "",
            "zerolinecolor": "white"
           },
           "zaxis": {
            "backgroundcolor": "#E5ECF6",
            "gridcolor": "white",
            "gridwidth": 2,
            "linecolor": "white",
            "showbackground": true,
            "ticks": "",
            "zerolinecolor": "white"
           }
          },
          "shapedefaults": {
           "line": {
            "color": "#2a3f5f"
           }
          },
          "ternary": {
           "aaxis": {
            "gridcolor": "white",
            "linecolor": "white",
            "ticks": ""
           },
           "baxis": {
            "gridcolor": "white",
            "linecolor": "white",
            "ticks": ""
           },
           "bgcolor": "#E5ECF6",
           "caxis": {
            "gridcolor": "white",
            "linecolor": "white",
            "ticks": ""
           }
          },
          "title": {
           "x": 0.05
          },
          "xaxis": {
           "automargin": true,
           "gridcolor": "white",
           "linecolor": "white",
           "ticks": "",
           "title": {
            "standoff": 15
           },
           "zerolinecolor": "white",
           "zerolinewidth": 2
          },
          "yaxis": {
           "automargin": true,
           "gridcolor": "white",
           "linecolor": "white",
           "ticks": "",
           "title": {
            "standoff": 15
           },
           "zerolinecolor": "white",
           "zerolinewidth": 2
          }
         }
        },
        "title": {
         "font": {
          "size": 18
         },
         "text": "Most similar and different tracks from centroid 5 profile (blue) of user '22e08d5e101ab5b86dc394856d508e175a5242a6'",
         "x": 0.5,
         "y": 0.99
        },
        "width": 1200
       }
      }
     },
     "metadata": {},
     "output_type": "display_data"
    },
    {
     "name": "stdout",
     "output_type": "stream",
     "text": [
      "['Fotzepolitic - Cocteau Twins',\n",
      " 'Intro - Swell',\n",
      " 'Shift Your Gaze - The Life And Times',\n",
      " \"Jaden's Interlude - Will Smith\",\n",
      " 'Heavy Metal Shuffle - Reagan Youth',\n",
      " 'Intro - Tech N9ne',\n",
      " 'Untitled - Cephalic Carnage',\n",
      " 'Introduction - Paul Horn',\n",
      " 'Requiem: From Substance to Silence - Minsk',\n",
      " 'Seat Belts - Brian Regan']\n"
     ]
    },
    {
     "data": {
      "application/vnd.plotly.v1+json": {
       "config": {
        "plotlyServerURL": "https://plot.ly"
       },
       "data": [
        {
         "fill": "toself",
         "line": {
          "color": "#636EFA"
         },
         "mode": "lines+markers",
         "name": "Cluster center centroid 6 profile",
         "r": [
          -1.3810292896298537,
          0.3707691679086407,
          0.28519634624741913,
          -0.3450762546610204,
          -0.8326705386449239,
          1.2549728895081556,
          -0.5229960181895627,
          -1.428392441661822,
          -1.8685247631202777
         ],
         "subplot": "polar",
         "theta": [
          "Danceability",
          "Energy",
          "Loudness",
          "Speechiness",
          "Acousticness",
          "instrumentalness",
          "Liveness",
          "Valence",
          "Tempo"
         ],
         "type": "scatterpolar"
        },
        {
         "fill": "toself",
         "line": {
          "color": "#EF553B"
         },
         "name": "Closest track rank 1",
         "r": [
          -1.1161220539978407,
          0.3542492231819078,
          0.39673589663568765,
          -0.38134192901071884,
          -0.8487101507090101,
          0.7169022637383785,
          -0.5173057159996056,
          -1.3379733517367465,
          -1.8228326674508606
         ],
         "subplot": "polar",
         "theta": [
          "Danceability",
          "Energy",
          "Loudness",
          "Speechiness",
          "Acousticness",
          "instrumentalness",
          "Liveness",
          "Valence",
          "Tempo"
         ],
         "type": "scatterpolar"
        },
        {
         "fill": "toself",
         "line": {
          "color": "#636EFA"
         },
         "mode": "lines+markers",
         "name": "Cluster center centroid 6 profile",
         "r": [
          -1.3810292896298537,
          0.3707691679086407,
          0.28519634624741913,
          -0.3450762546610204,
          -0.8326705386449239,
          1.2549728895081556,
          -0.5229960181895627,
          -1.428392441661822,
          -1.8685247631202777
         ],
         "showlegend": false,
         "subplot": "polar2",
         "theta": [
          "Danceability",
          "Energy",
          "Loudness",
          "Speechiness",
          "Acousticness",
          "instrumentalness",
          "Liveness",
          "Valence",
          "Tempo"
         ],
         "type": "scatterpolar"
        },
        {
         "fill": "toself",
         "line": {
          "color": "#B6E880"
         },
         "name": "Furthest track rank 1",
         "r": [
          1.6397255477255994,
          -1.8998935543184103,
          -4.23880774133607,
          8.442136407345517,
          1.8013279038255745,
          -0.6235690916720154,
          1.7305813247342028,
          0.48604970308324014,
          -2.330469562374479
         ],
         "subplot": "polar2",
         "theta": [
          "Danceability",
          "Energy",
          "Loudness",
          "Speechiness",
          "Acousticness",
          "instrumentalness",
          "Liveness",
          "Valence",
          "Tempo"
         ],
         "type": "scatterpolar"
        },
        {
         "fill": "toself",
         "line": {
          "color": "#636EFA"
         },
         "mode": "lines+markers",
         "name": "Cluster center centroid 6 profile",
         "r": [
          -1.3810292896298537,
          0.3707691679086407,
          0.28519634624741913,
          -0.3450762546610204,
          -0.8326705386449239,
          1.2549728895081556,
          -0.5229960181895627,
          -1.428392441661822,
          -1.8685247631202777
         ],
         "showlegend": false,
         "subplot": "polar3",
         "theta": [
          "Danceability",
          "Energy",
          "Loudness",
          "Speechiness",
          "Acousticness",
          "instrumentalness",
          "Liveness",
          "Valence",
          "Tempo"
         ],
         "type": "scatterpolar"
        },
        {
         "fill": "toself",
         "line": {
          "color": "#EF553B"
         },
         "name": "Closest track rank 2",
         "r": [
          -1.1496617814021828,
          0.5737831284688956,
          0.2943290042644924,
          -0.37832569895043294,
          -0.26431791970100577,
          1.4389288801753408,
          -0.46936499712139584,
          -1.214832554786874,
          -1.398893726337466
         ],
         "subplot": "polar3",
         "theta": [
          "Danceability",
          "Energy",
          "Loudness",
          "Speechiness",
          "Acousticness",
          "instrumentalness",
          "Liveness",
          "Valence",
          "Tempo"
         ],
         "type": "scatterpolar"
        },
        {
         "fill": "toself",
         "line": {
          "color": "#636EFA"
         },
         "mode": "lines+markers",
         "name": "Cluster center centroid 6 profile",
         "r": [
          -1.3810292896298537,
          0.3707691679086407,
          0.28519634624741913,
          -0.3450762546610204,
          -0.8326705386449239,
          1.2549728895081556,
          -0.5229960181895627,
          -1.428392441661822,
          -1.8685247631202777
         ],
         "showlegend": false,
         "subplot": "polar4",
         "theta": [
          "Danceability",
          "Energy",
          "Loudness",
          "Speechiness",
          "Acousticness",
          "instrumentalness",
          "Liveness",
          "Valence",
          "Tempo"
         ],
         "type": "scatterpolar"
        },
        {
         "fill": "toself",
         "line": {
          "color": "#B6E880"
         },
         "name": "Furthest track rank 2",
         "r": [
          1.0527803181496134,
          -1.8606910712314484,
          -2.8141140518642684,
          8.502461008551235,
          1.7796819146568825,
          -0.6235690916720154,
          3.6908240521987556,
          -1.0185769096480148,
          -2.3667530739111062
         ],
         "subplot": "polar4",
         "theta": [
          "Danceability",
          "Energy",
          "Loudness",
          "Speechiness",
          "Acousticness",
          "instrumentalness",
          "Liveness",
          "Valence",
          "Tempo"
         ],
         "type": "scatterpolar"
        },
        {
         "fill": "toself",
         "line": {
          "color": "#636EFA"
         },
         "mode": "lines+markers",
         "name": "Cluster center centroid 6 profile",
         "r": [
          -1.3810292896298537,
          0.3707691679086407,
          0.28519634624741913,
          -0.3450762546610204,
          -0.8326705386449239,
          1.2549728895081556,
          -0.5229960181895627,
          -1.428392441661822,
          -1.8685247631202777
         ],
         "showlegend": false,
         "subplot": "polar5",
         "theta": [
          "Danceability",
          "Energy",
          "Loudness",
          "Speechiness",
          "Acousticness",
          "instrumentalness",
          "Liveness",
          "Valence",
          "Tempo"
         ],
         "type": "scatterpolar"
        },
        {
         "fill": "toself",
         "line": {
          "color": "#EF553B"
         },
         "name": "Closest track rank 3",
         "r": [
          -0.5012270515849029,
          0.5659426318515032,
          0.2727222753246353,
          -0.32001191778490634,
          -0.8486919062324251,
          1.40237057048233,
          -0.6078604072140001,
          -1.1494140064072542,
          -1.5759253650436473
         ],
         "subplot": "polar5",
         "theta": [
          "Danceability",
          "Energy",
          "Loudness",
          "Speechiness",
          "Acousticness",
          "instrumentalness",
          "Liveness",
          "Valence",
          "Tempo"
         ],
         "type": "scatterpolar"
        },
        {
         "fill": "toself",
         "line": {
          "color": "#636EFA"
         },
         "mode": "lines+markers",
         "name": "Cluster center centroid 6 profile",
         "r": [
          -1.3810292896298537,
          0.3707691679086407,
          0.28519634624741913,
          -0.3450762546610204,
          -0.8326705386449239,
          1.2549728895081556,
          -0.5229960181895627,
          -1.428392441661822,
          -1.8685247631202777
         ],
         "showlegend": false,
         "subplot": "polar6",
         "theta": [
          "Danceability",
          "Energy",
          "Loudness",
          "Speechiness",
          "Acousticness",
          "instrumentalness",
          "Liveness",
          "Valence",
          "Tempo"
         ],
         "type": "scatterpolar"
        },
        {
         "fill": "toself",
         "line": {
          "color": "#B6E880"
         },
         "name": "Furthest track rank 3",
         "r": [
          0.8739017719931222,
          -1.0374389264052453,
          -1.074322232019557,
          8.472298707948376,
          1.4859149187960667,
          -0.6235690916720154,
          3.0675947067820366,
          1.8098132702943697,
          0.9125852544945352
         ],
         "subplot": "polar6",
         "theta": [
          "Danceability",
          "Energy",
          "Loudness",
          "Speechiness",
          "Acousticness",
          "instrumentalness",
          "Liveness",
          "Valence",
          "Tempo"
         ],
         "type": "scatterpolar"
        },
        {
         "fill": "toself",
         "line": {
          "color": "#636EFA"
         },
         "mode": "lines+markers",
         "name": "Cluster center centroid 6 profile",
         "r": [
          -1.3810292896298537,
          0.3707691679086407,
          0.28519634624741913,
          -0.3450762546610204,
          -0.8326705386449239,
          1.2549728895081556,
          -0.5229960181895627,
          -1.428392441661822,
          -1.8685247631202777
         ],
         "showlegend": false,
         "subplot": "polar7",
         "theta": [
          "Danceability",
          "Energy",
          "Loudness",
          "Speechiness",
          "Acousticness",
          "instrumentalness",
          "Liveness",
          "Valence",
          "Tempo"
         ],
         "type": "scatterpolar"
        },
        {
         "fill": "toself",
         "line": {
          "color": "#EF553B"
         },
         "name": "Closest track rank 4",
         "r": [
          -1.9434353299716116,
          0.28368475362537604,
          0.7764291437350445,
          -0.4195475097743397,
          -0.8474423142005583,
          1.4602545608295971,
          -0.22966140273034993,
          -1.6292782995212887,
          -1.331476835396242
         ],
         "subplot": "polar7",
         "theta": [
          "Danceability",
          "Energy",
          "Loudness",
          "Speechiness",
          "Acousticness",
          "instrumentalness",
          "Liveness",
          "Valence",
          "Tempo"
         ],
         "type": "scatterpolar"
        },
        {
         "fill": "toself",
         "line": {
          "color": "#636EFA"
         },
         "mode": "lines+markers",
         "name": "Cluster center centroid 6 profile",
         "r": [
          -1.3810292896298537,
          0.3707691679086407,
          0.28519634624741913,
          -0.3450762546610204,
          -0.8326705386449239,
          1.2549728895081556,
          -0.5229960181895627,
          -1.428392441661822,
          -1.8685247631202777
         ],
         "showlegend": false,
         "subplot": "polar8",
         "theta": [
          "Danceability",
          "Energy",
          "Loudness",
          "Speechiness",
          "Acousticness",
          "instrumentalness",
          "Liveness",
          "Valence",
          "Tempo"
         ],
         "type": "scatterpolar"
        },
        {
         "fill": "toself",
         "line": {
          "color": "#B6E880"
         },
         "name": "Furthest track rank 4",
         "r": [
          -0.037260822491504184,
          -2.2378189585280235,
          -6.096761360070624,
          7.607646090666429,
          2.197140277195937,
          -0.6235690916720154,
          -0.3202160939447451,
          -1.8497772890596542,
          -0.8655393974126123
         ],
         "subplot": "polar8",
         "theta": [
          "Danceability",
          "Energy",
          "Loudness",
          "Speechiness",
          "Acousticness",
          "instrumentalness",
          "Liveness",
          "Valence",
          "Tempo"
         ],
         "type": "scatterpolar"
        },
        {
         "fill": "toself",
         "line": {
          "color": "#636EFA"
         },
         "mode": "lines+markers",
         "name": "Cluster center centroid 6 profile",
         "r": [
          -1.3810292896298537,
          0.3707691679086407,
          0.28519634624741913,
          -0.3450762546610204,
          -0.8326705386449239,
          1.2549728895081556,
          -0.5229960181895627,
          -1.428392441661822,
          -1.8685247631202777
         ],
         "showlegend": false,
         "subplot": "polar9",
         "theta": [
          "Danceability",
          "Energy",
          "Loudness",
          "Speechiness",
          "Acousticness",
          "instrumentalness",
          "Liveness",
          "Valence",
          "Tempo"
         ],
         "type": "scatterpolar"
        },
        {
         "fill": "toself",
         "line": {
          "color": "#EF553B"
         },
         "name": "Closest track rank 5",
         "r": [
          -1.5800882830912395,
          -0.4376409351747256,
          0.079837205517789,
          -0.3863689791111953,
          -0.6443596438198926,
          1.4480684575985936,
          -0.559919688335791,
          -1.303340002594595,
          -1.396700766848988
         ],
         "subplot": "polar9",
         "theta": [
          "Danceability",
          "Energy",
          "Loudness",
          "Speechiness",
          "Acousticness",
          "instrumentalness",
          "Liveness",
          "Valence",
          "Tempo"
         ],
         "type": "scatterpolar"
        },
        {
         "fill": "toself",
         "line": {
          "color": "#636EFA"
         },
         "mode": "lines+markers",
         "name": "Cluster center centroid 6 profile",
         "r": [
          -1.3810292896298537,
          0.3707691679086407,
          0.28519634624741913,
          -0.3450762546610204,
          -0.8326705386449239,
          1.2549728895081556,
          -0.5229960181895627,
          -1.428392441661822,
          -1.8685247631202777
         ],
         "showlegend": false,
         "subplot": "polar10",
         "theta": [
          "Danceability",
          "Energy",
          "Loudness",
          "Speechiness",
          "Acousticness",
          "instrumentalness",
          "Liveness",
          "Valence",
          "Tempo"
         ],
         "type": "scatterpolar"
        },
        {
         "fill": "toself",
         "line": {
          "color": "#B6E880"
         },
         "name": "Furthest track rank 5",
         "r": [
          -0.11552018643496909,
          -0.38275745885297907,
          -1.7598857356737605,
          8.52256920895314,
          1.5539451704690976,
          -0.6235690916720154,
          3.6002693609843606,
          -0.36054327594713337,
          1.8401738914615908
         ],
         "subplot": "polar10",
         "theta": [
          "Danceability",
          "Energy",
          "Loudness",
          "Speechiness",
          "Acousticness",
          "instrumentalness",
          "Liveness",
          "Valence",
          "Tempo"
         ],
         "type": "scatterpolar"
        }
       ],
       "layout": {
        "annotations": [
         {
          "font": {
           "size": 16
          },
          "showarrow": false,
          "text": "Fotzepolitic - Cocteau Twins",
          "x": 0.25,
          "xanchor": "center",
          "xref": "paper",
          "y": 1.03,
          "yanchor": "bottom",
          "yref": "paper"
         },
         {
          "font": {
           "size": 16
          },
          "showarrow": false,
          "text": "Intro - Swell",
          "x": 0.75,
          "xanchor": "center",
          "xref": "paper",
          "y": 1.03,
          "yanchor": "bottom",
          "yref": "paper"
         },
         {
          "font": {
           "size": 16
          },
          "showarrow": false,
          "text": "Shift Your Gaze - The Life And Times",
          "x": 0.25,
          "xanchor": "center",
          "xref": "paper",
          "y": 0.82,
          "yanchor": "bottom",
          "yref": "paper"
         },
         {
          "font": {
           "size": 16
          },
          "showarrow": false,
          "text": "Jaden's Interlude - Will Smith",
          "x": 0.75,
          "xanchor": "center",
          "xref": "paper",
          "y": 0.82,
          "yanchor": "bottom",
          "yref": "paper"
         },
         {
          "font": {
           "size": 16
          },
          "showarrow": false,
          "text": "Heavy Metal Shuffle - Reagan Youth",
          "x": 0.25,
          "xanchor": "center",
          "xref": "paper",
          "y": 0.6,
          "yanchor": "bottom",
          "yref": "paper"
         },
         {
          "font": {
           "size": 16
          },
          "showarrow": false,
          "text": "Intro - Tech N9ne",
          "x": 0.75,
          "xanchor": "center",
          "xref": "paper",
          "y": 0.6,
          "yanchor": "bottom",
          "yref": "paper"
         },
         {
          "font": {
           "size": 16
          },
          "showarrow": false,
          "text": "Untitled - Cephalic Carnage",
          "x": 0.25,
          "xanchor": "center",
          "xref": "paper",
          "y": 0.38,
          "yanchor": "bottom",
          "yref": "paper"
         },
         {
          "font": {
           "size": 16
          },
          "showarrow": false,
          "text": "Introduction - Paul Horn",
          "x": 0.75,
          "xanchor": "center",
          "xref": "paper",
          "y": 0.38,
          "yanchor": "bottom",
          "yref": "paper"
         },
         {
          "font": {
           "size": 16
          },
          "showarrow": false,
          "text": "Requiem: From Substance to Silence - Minsk",
          "x": 0.25,
          "xanchor": "center",
          "xref": "paper",
          "y": 0.16,
          "yanchor": "bottom",
          "yref": "paper"
         },
         {
          "font": {
           "size": 16
          },
          "showarrow": false,
          "text": "Seat Belts - Brian Regan",
          "x": 0.75,
          "xanchor": "center",
          "xref": "paper",
          "y": 0.16,
          "yanchor": "bottom",
          "yref": "paper"
         },
         {
          "font": {
           "color": "black",
           "size": 20
          },
          "showarrow": false,
          "text": "Closest tracks from centroid 6",
          "x": 0.12,
          "y": 1.09
         },
         {
          "font": {
           "color": "black",
           "size": 22
          },
          "showarrow": false,
          "text": "Furthest tracks from centroid 6",
          "x": 0.9,
          "y": 1.09
         },
         {
          "font": {
           "color": "black",
           "size": 22
          },
          "showarrow": false,
          "text": "Rank",
          "x": 0.005,
          "y": 1.09
         },
         {
          "font": {
           "color": "black",
           "size": 22
          },
          "showarrow": false,
          "text": "1",
          "x": 0.01,
          "y": 1.05
         },
         {
          "font": {
           "color": "black",
           "size": 22
          },
          "showarrow": false,
          "text": "2",
          "x": 0.01,
          "y": 0.84
         },
         {
          "font": {
           "color": "black",
           "size": 22
          },
          "showarrow": false,
          "text": "3",
          "x": 0.01,
          "y": 0.608
         },
         {
          "font": {
           "color": "black",
           "size": 22
          },
          "showarrow": false,
          "text": "4",
          "x": 0.01,
          "y": 0.389
         },
         {
          "font": {
           "color": "black",
           "size": 22
          },
          "showarrow": false,
          "text": "5",
          "x": 0.01,
          "y": 0.159
         }
        ],
        "height": 1600,
        "margin": {
         "b": 50,
         "l": 50,
         "r": 50,
         "t": 200
        },
        "polar": {
         "domain": {
          "x": [
           0,
           0.5
          ],
          "y": [
           0.88,
           1
          ]
         },
         "radialaxis": {
          "range": [
           -1.9434353299716116,
           1.4602545608295971
          ],
          "showticklabels": false,
          "ticks": ""
         }
        },
        "polar10": {
         "domain": {
          "x": [
           0.5,
           1
          ],
          "y": [
           0,
           0.12
          ]
         },
         "radialaxis": {
          "range": [
           -6.096761360070624,
           8.52256920895314
          ],
          "showticklabels": false,
          "ticks": ""
         }
        },
        "polar2": {
         "domain": {
          "x": [
           0.5,
           1
          ],
          "y": [
           0.88,
           1
          ]
         },
         "radialaxis": {
          "range": [
           -6.096761360070624,
           8.52256920895314
          ],
          "showticklabels": false,
          "ticks": ""
         }
        },
        "polar3": {
         "domain": {
          "x": [
           0,
           0.5
          ],
          "y": [
           0.66,
           0.78
          ]
         },
         "radialaxis": {
          "range": [
           -1.9434353299716116,
           1.4602545608295971
          ],
          "showticklabels": false,
          "ticks": ""
         }
        },
        "polar4": {
         "domain": {
          "x": [
           0.5,
           1
          ],
          "y": [
           0.66,
           0.78
          ]
         },
         "radialaxis": {
          "range": [
           -6.096761360070624,
           8.52256920895314
          ],
          "showticklabels": false,
          "ticks": ""
         }
        },
        "polar5": {
         "domain": {
          "x": [
           0,
           0.5
          ],
          "y": [
           0.44,
           0.56
          ]
         },
         "radialaxis": {
          "range": [
           -1.9434353299716116,
           1.4602545608295971
          ],
          "showticklabels": false,
          "ticks": ""
         }
        },
        "polar6": {
         "domain": {
          "x": [
           0.5,
           1
          ],
          "y": [
           0.44,
           0.56
          ]
         },
         "radialaxis": {
          "range": [
           -6.096761360070624,
           8.52256920895314
          ],
          "showticklabels": false,
          "ticks": ""
         }
        },
        "polar7": {
         "domain": {
          "x": [
           0,
           0.5
          ],
          "y": [
           0.22,
           0.33999999999999997
          ]
         },
         "radialaxis": {
          "range": [
           -1.9434353299716116,
           1.4602545608295971
          ],
          "showticklabels": false,
          "ticks": ""
         }
        },
        "polar8": {
         "domain": {
          "x": [
           0.5,
           1
          ],
          "y": [
           0.22,
           0.33999999999999997
          ]
         },
         "radialaxis": {
          "range": [
           -6.096761360070624,
           8.52256920895314
          ],
          "showticklabels": false,
          "ticks": ""
         }
        },
        "polar9": {
         "domain": {
          "x": [
           0,
           0.5
          ],
          "y": [
           0,
           0.12
          ]
         },
         "radialaxis": {
          "range": [
           -1.9434353299716116,
           1.4602545608295971
          ],
          "showticklabels": false,
          "ticks": ""
         }
        },
        "showlegend": false,
        "template": {
         "data": {
          "bar": [
           {
            "error_x": {
             "color": "#2a3f5f"
            },
            "error_y": {
             "color": "#2a3f5f"
            },
            "marker": {
             "line": {
              "color": "#E5ECF6",
              "width": 0.5
             },
             "pattern": {
              "fillmode": "overlay",
              "size": 10,
              "solidity": 0.2
             }
            },
            "type": "bar"
           }
          ],
          "barpolar": [
           {
            "marker": {
             "line": {
              "color": "#E5ECF6",
              "width": 0.5
             },
             "pattern": {
              "fillmode": "overlay",
              "size": 10,
              "solidity": 0.2
             }
            },
            "type": "barpolar"
           }
          ],
          "carpet": [
           {
            "aaxis": {
             "endlinecolor": "#2a3f5f",
             "gridcolor": "white",
             "linecolor": "white",
             "minorgridcolor": "white",
             "startlinecolor": "#2a3f5f"
            },
            "baxis": {
             "endlinecolor": "#2a3f5f",
             "gridcolor": "white",
             "linecolor": "white",
             "minorgridcolor": "white",
             "startlinecolor": "#2a3f5f"
            },
            "type": "carpet"
           }
          ],
          "choropleth": [
           {
            "colorbar": {
             "outlinewidth": 0,
             "ticks": ""
            },
            "type": "choropleth"
           }
          ],
          "contour": [
           {
            "colorbar": {
             "outlinewidth": 0,
             "ticks": ""
            },
            "colorscale": [
             [
              0,
              "#0d0887"
             ],
             [
              0.1111111111111111,
              "#46039f"
             ],
             [
              0.2222222222222222,
              "#7201a8"
             ],
             [
              0.3333333333333333,
              "#9c179e"
             ],
             [
              0.4444444444444444,
              "#bd3786"
             ],
             [
              0.5555555555555556,
              "#d8576b"
             ],
             [
              0.6666666666666666,
              "#ed7953"
             ],
             [
              0.7777777777777778,
              "#fb9f3a"
             ],
             [
              0.8888888888888888,
              "#fdca26"
             ],
             [
              1,
              "#f0f921"
             ]
            ],
            "type": "contour"
           }
          ],
          "contourcarpet": [
           {
            "colorbar": {
             "outlinewidth": 0,
             "ticks": ""
            },
            "type": "contourcarpet"
           }
          ],
          "heatmap": [
           {
            "colorbar": {
             "outlinewidth": 0,
             "ticks": ""
            },
            "colorscale": [
             [
              0,
              "#0d0887"
             ],
             [
              0.1111111111111111,
              "#46039f"
             ],
             [
              0.2222222222222222,
              "#7201a8"
             ],
             [
              0.3333333333333333,
              "#9c179e"
             ],
             [
              0.4444444444444444,
              "#bd3786"
             ],
             [
              0.5555555555555556,
              "#d8576b"
             ],
             [
              0.6666666666666666,
              "#ed7953"
             ],
             [
              0.7777777777777778,
              "#fb9f3a"
             ],
             [
              0.8888888888888888,
              "#fdca26"
             ],
             [
              1,
              "#f0f921"
             ]
            ],
            "type": "heatmap"
           }
          ],
          "heatmapgl": [
           {
            "colorbar": {
             "outlinewidth": 0,
             "ticks": ""
            },
            "colorscale": [
             [
              0,
              "#0d0887"
             ],
             [
              0.1111111111111111,
              "#46039f"
             ],
             [
              0.2222222222222222,
              "#7201a8"
             ],
             [
              0.3333333333333333,
              "#9c179e"
             ],
             [
              0.4444444444444444,
              "#bd3786"
             ],
             [
              0.5555555555555556,
              "#d8576b"
             ],
             [
              0.6666666666666666,
              "#ed7953"
             ],
             [
              0.7777777777777778,
              "#fb9f3a"
             ],
             [
              0.8888888888888888,
              "#fdca26"
             ],
             [
              1,
              "#f0f921"
             ]
            ],
            "type": "heatmapgl"
           }
          ],
          "histogram": [
           {
            "marker": {
             "pattern": {
              "fillmode": "overlay",
              "size": 10,
              "solidity": 0.2
             }
            },
            "type": "histogram"
           }
          ],
          "histogram2d": [
           {
            "colorbar": {
             "outlinewidth": 0,
             "ticks": ""
            },
            "colorscale": [
             [
              0,
              "#0d0887"
             ],
             [
              0.1111111111111111,
              "#46039f"
             ],
             [
              0.2222222222222222,
              "#7201a8"
             ],
             [
              0.3333333333333333,
              "#9c179e"
             ],
             [
              0.4444444444444444,
              "#bd3786"
             ],
             [
              0.5555555555555556,
              "#d8576b"
             ],
             [
              0.6666666666666666,
              "#ed7953"
             ],
             [
              0.7777777777777778,
              "#fb9f3a"
             ],
             [
              0.8888888888888888,
              "#fdca26"
             ],
             [
              1,
              "#f0f921"
             ]
            ],
            "type": "histogram2d"
           }
          ],
          "histogram2dcontour": [
           {
            "colorbar": {
             "outlinewidth": 0,
             "ticks": ""
            },
            "colorscale": [
             [
              0,
              "#0d0887"
             ],
             [
              0.1111111111111111,
              "#46039f"
             ],
             [
              0.2222222222222222,
              "#7201a8"
             ],
             [
              0.3333333333333333,
              "#9c179e"
             ],
             [
              0.4444444444444444,
              "#bd3786"
             ],
             [
              0.5555555555555556,
              "#d8576b"
             ],
             [
              0.6666666666666666,
              "#ed7953"
             ],
             [
              0.7777777777777778,
              "#fb9f3a"
             ],
             [
              0.8888888888888888,
              "#fdca26"
             ],
             [
              1,
              "#f0f921"
             ]
            ],
            "type": "histogram2dcontour"
           }
          ],
          "mesh3d": [
           {
            "colorbar": {
             "outlinewidth": 0,
             "ticks": ""
            },
            "type": "mesh3d"
           }
          ],
          "parcoords": [
           {
            "line": {
             "colorbar": {
              "outlinewidth": 0,
              "ticks": ""
             }
            },
            "type": "parcoords"
           }
          ],
          "pie": [
           {
            "automargin": true,
            "type": "pie"
           }
          ],
          "scatter": [
           {
            "fillpattern": {
             "fillmode": "overlay",
             "size": 10,
             "solidity": 0.2
            },
            "type": "scatter"
           }
          ],
          "scatter3d": [
           {
            "line": {
             "colorbar": {
              "outlinewidth": 0,
              "ticks": ""
             }
            },
            "marker": {
             "colorbar": {
              "outlinewidth": 0,
              "ticks": ""
             }
            },
            "type": "scatter3d"
           }
          ],
          "scattercarpet": [
           {
            "marker": {
             "colorbar": {
              "outlinewidth": 0,
              "ticks": ""
             }
            },
            "type": "scattercarpet"
           }
          ],
          "scattergeo": [
           {
            "marker": {
             "colorbar": {
              "outlinewidth": 0,
              "ticks": ""
             }
            },
            "type": "scattergeo"
           }
          ],
          "scattergl": [
           {
            "marker": {
             "colorbar": {
              "outlinewidth": 0,
              "ticks": ""
             }
            },
            "type": "scattergl"
           }
          ],
          "scattermapbox": [
           {
            "marker": {
             "colorbar": {
              "outlinewidth": 0,
              "ticks": ""
             }
            },
            "type": "scattermapbox"
           }
          ],
          "scatterpolar": [
           {
            "marker": {
             "colorbar": {
              "outlinewidth": 0,
              "ticks": ""
             }
            },
            "type": "scatterpolar"
           }
          ],
          "scatterpolargl": [
           {
            "marker": {
             "colorbar": {
              "outlinewidth": 0,
              "ticks": ""
             }
            },
            "type": "scatterpolargl"
           }
          ],
          "scatterternary": [
           {
            "marker": {
             "colorbar": {
              "outlinewidth": 0,
              "ticks": ""
             }
            },
            "type": "scatterternary"
           }
          ],
          "surface": [
           {
            "colorbar": {
             "outlinewidth": 0,
             "ticks": ""
            },
            "colorscale": [
             [
              0,
              "#0d0887"
             ],
             [
              0.1111111111111111,
              "#46039f"
             ],
             [
              0.2222222222222222,
              "#7201a8"
             ],
             [
              0.3333333333333333,
              "#9c179e"
             ],
             [
              0.4444444444444444,
              "#bd3786"
             ],
             [
              0.5555555555555556,
              "#d8576b"
             ],
             [
              0.6666666666666666,
              "#ed7953"
             ],
             [
              0.7777777777777778,
              "#fb9f3a"
             ],
             [
              0.8888888888888888,
              "#fdca26"
             ],
             [
              1,
              "#f0f921"
             ]
            ],
            "type": "surface"
           }
          ],
          "table": [
           {
            "cells": {
             "fill": {
              "color": "#EBF0F8"
             },
             "line": {
              "color": "white"
             }
            },
            "header": {
             "fill": {
              "color": "#C8D4E3"
             },
             "line": {
              "color": "white"
             }
            },
            "type": "table"
           }
          ]
         },
         "layout": {
          "annotationdefaults": {
           "arrowcolor": "#2a3f5f",
           "arrowhead": 0,
           "arrowwidth": 1
          },
          "autotypenumbers": "strict",
          "coloraxis": {
           "colorbar": {
            "outlinewidth": 0,
            "ticks": ""
           }
          },
          "colorscale": {
           "diverging": [
            [
             0,
             "#8e0152"
            ],
            [
             0.1,
             "#c51b7d"
            ],
            [
             0.2,
             "#de77ae"
            ],
            [
             0.3,
             "#f1b6da"
            ],
            [
             0.4,
             "#fde0ef"
            ],
            [
             0.5,
             "#f7f7f7"
            ],
            [
             0.6,
             "#e6f5d0"
            ],
            [
             0.7,
             "#b8e186"
            ],
            [
             0.8,
             "#7fbc41"
            ],
            [
             0.9,
             "#4d9221"
            ],
            [
             1,
             "#276419"
            ]
           ],
           "sequential": [
            [
             0,
             "#0d0887"
            ],
            [
             0.1111111111111111,
             "#46039f"
            ],
            [
             0.2222222222222222,
             "#7201a8"
            ],
            [
             0.3333333333333333,
             "#9c179e"
            ],
            [
             0.4444444444444444,
             "#bd3786"
            ],
            [
             0.5555555555555556,
             "#d8576b"
            ],
            [
             0.6666666666666666,
             "#ed7953"
            ],
            [
             0.7777777777777778,
             "#fb9f3a"
            ],
            [
             0.8888888888888888,
             "#fdca26"
            ],
            [
             1,
             "#f0f921"
            ]
           ],
           "sequentialminus": [
            [
             0,
             "#0d0887"
            ],
            [
             0.1111111111111111,
             "#46039f"
            ],
            [
             0.2222222222222222,
             "#7201a8"
            ],
            [
             0.3333333333333333,
             "#9c179e"
            ],
            [
             0.4444444444444444,
             "#bd3786"
            ],
            [
             0.5555555555555556,
             "#d8576b"
            ],
            [
             0.6666666666666666,
             "#ed7953"
            ],
            [
             0.7777777777777778,
             "#fb9f3a"
            ],
            [
             0.8888888888888888,
             "#fdca26"
            ],
            [
             1,
             "#f0f921"
            ]
           ]
          },
          "colorway": [
           "#636efa",
           "#EF553B",
           "#00cc96",
           "#ab63fa",
           "#FFA15A",
           "#19d3f3",
           "#FF6692",
           "#B6E880",
           "#FF97FF",
           "#FECB52"
          ],
          "font": {
           "color": "#2a3f5f"
          },
          "geo": {
           "bgcolor": "white",
           "lakecolor": "white",
           "landcolor": "#E5ECF6",
           "showlakes": true,
           "showland": true,
           "subunitcolor": "white"
          },
          "hoverlabel": {
           "align": "left"
          },
          "hovermode": "closest",
          "mapbox": {
           "style": "light"
          },
          "paper_bgcolor": "white",
          "plot_bgcolor": "#E5ECF6",
          "polar": {
           "angularaxis": {
            "gridcolor": "white",
            "linecolor": "white",
            "ticks": ""
           },
           "bgcolor": "#E5ECF6",
           "radialaxis": {
            "gridcolor": "white",
            "linecolor": "white",
            "ticks": ""
           }
          },
          "scene": {
           "xaxis": {
            "backgroundcolor": "#E5ECF6",
            "gridcolor": "white",
            "gridwidth": 2,
            "linecolor": "white",
            "showbackground": true,
            "ticks": "",
            "zerolinecolor": "white"
           },
           "yaxis": {
            "backgroundcolor": "#E5ECF6",
            "gridcolor": "white",
            "gridwidth": 2,
            "linecolor": "white",
            "showbackground": true,
            "ticks": "",
            "zerolinecolor": "white"
           },
           "zaxis": {
            "backgroundcolor": "#E5ECF6",
            "gridcolor": "white",
            "gridwidth": 2,
            "linecolor": "white",
            "showbackground": true,
            "ticks": "",
            "zerolinecolor": "white"
           }
          },
          "shapedefaults": {
           "line": {
            "color": "#2a3f5f"
           }
          },
          "ternary": {
           "aaxis": {
            "gridcolor": "white",
            "linecolor": "white",
            "ticks": ""
           },
           "baxis": {
            "gridcolor": "white",
            "linecolor": "white",
            "ticks": ""
           },
           "bgcolor": "#E5ECF6",
           "caxis": {
            "gridcolor": "white",
            "linecolor": "white",
            "ticks": ""
           }
          },
          "title": {
           "x": 0.05
          },
          "xaxis": {
           "automargin": true,
           "gridcolor": "white",
           "linecolor": "white",
           "ticks": "",
           "title": {
            "standoff": 15
           },
           "zerolinecolor": "white",
           "zerolinewidth": 2
          },
          "yaxis": {
           "automargin": true,
           "gridcolor": "white",
           "linecolor": "white",
           "ticks": "",
           "title": {
            "standoff": 15
           },
           "zerolinecolor": "white",
           "zerolinewidth": 2
          }
         }
        },
        "title": {
         "font": {
          "size": 18
         },
         "text": "Most similar and different tracks from centroid 6 profile (blue) of user '22e08d5e101ab5b86dc394856d508e175a5242a6'",
         "x": 0.5,
         "y": 0.99
        },
        "width": 1200
       }
      }
     },
     "metadata": {},
     "output_type": "display_data"
    },
    {
     "name": "stdout",
     "output_type": "stream",
     "text": [
      "['Hits - Dwarves',\n",
      " 'Intro - Swell',\n",
      " \"Moon And Sun Part II: North's Son - Amorphis\",\n",
      " 'Rain - Shel Silverstein',\n",
      " 'Swan - Unwound',\n",
      " \"Jaden's Interlude - Will Smith\",\n",
      " 'Dungeon Bastard - Akimbo',\n",
      " 'Introduction - Paul Horn',\n",
      " 'Envelope - Unwound',\n",
      " 'Thoughtfulness (skit) - The Pharcyde']\n"
     ]
    },
    {
     "data": {
      "application/vnd.plotly.v1+json": {
       "config": {
        "plotlyServerURL": "https://plot.ly"
       },
       "data": [
        {
         "fill": "toself",
         "line": {
          "color": "#636EFA"
         },
         "mode": "lines+markers",
         "name": "Cluster center centroid 7 profile",
         "r": [
          -1.8540113800566744,
          0.5450103422508074,
          0.07352088571425391,
          -0.1680695770537619,
          -0.6734582707599379,
          2.860785306331644,
          0.8883599803480164,
          -1.6698464840736846,
          1.4599496188570575
         ],
         "subplot": "polar",
         "theta": [
          "Danceability",
          "Energy",
          "Loudness",
          "Speechiness",
          "Acousticness",
          "instrumentalness",
          "Liveness",
          "Valence",
          "Tempo"
         ],
         "type": "scatterpolar"
        },
        {
         "fill": "toself",
         "line": {
          "color": "#EF553B"
         },
         "name": "Closest track rank 1",
         "r": [
          -1.5521385102542877,
          0.5149794038384524,
          0.21375391092627602,
          -0.24460616627775983,
          -0.6994023019917086,
          1.975117422339498,
          0.8729751314684604,
          -1.5700167909891627,
          1.4011500472001839
         ],
         "subplot": "polar",
         "theta": [
          "Danceability",
          "Energy",
          "Loudness",
          "Speechiness",
          "Acousticness",
          "instrumentalness",
          "Liveness",
          "Valence",
          "Tempo"
         ],
         "type": "scatterpolar"
        },
        {
         "fill": "toself",
         "line": {
          "color": "#636EFA"
         },
         "mode": "lines+markers",
         "name": "Cluster center centroid 7 profile",
         "r": [
          -1.8540113800566744,
          0.5450103422508074,
          0.07352088571425391,
          -0.1680695770537619,
          -0.6734582707599379,
          2.860785306331644,
          0.8883599803480164,
          -1.6698464840736846,
          1.4599496188570575
         ],
         "showlegend": false,
         "subplot": "polar2",
         "theta": [
          "Danceability",
          "Energy",
          "Loudness",
          "Speechiness",
          "Acousticness",
          "instrumentalness",
          "Liveness",
          "Valence",
          "Tempo"
         ],
         "type": "scatterpolar"
        },
        {
         "fill": "toself",
         "line": {
          "color": "#B6E880"
         },
         "name": "Furthest track rank 1",
         "r": [
          1.6397255477255994,
          -1.8998935543184103,
          -4.23880774133607,
          8.442136407345517,
          1.8013279038255745,
          -0.6235690916720154,
          1.7305813247342028,
          0.48604970308324014,
          -2.330469562374479
         ],
         "subplot": "polar2",
         "theta": [
          "Danceability",
          "Energy",
          "Loudness",
          "Speechiness",
          "Acousticness",
          "instrumentalness",
          "Liveness",
          "Valence",
          "Tempo"
         ],
         "type": "scatterpolar"
        },
        {
         "fill": "toself",
         "line": {
          "color": "#636EFA"
         },
         "mode": "lines+markers",
         "name": "Cluster center centroid 7 profile",
         "r": [
          -1.8540113800566744,
          0.5450103422508074,
          0.07352088571425391,
          -0.1680695770537619,
          -0.6734582707599379,
          2.860785306331644,
          0.8883599803480164,
          -1.6698464840736846,
          1.4599496188570575
         ],
         "showlegend": false,
         "subplot": "polar3",
         "theta": [
          "Danceability",
          "Energy",
          "Loudness",
          "Speechiness",
          "Acousticness",
          "instrumentalness",
          "Liveness",
          "Valence",
          "Tempo"
         ],
         "type": "scatterpolar"
        },
        {
         "fill": "toself",
         "line": {
          "color": "#EF553B"
         },
         "name": "Closest track rank 2",
         "r": [
          -1.4794691008782133,
          0.50713890722106,
          0.13497937833304852,
          -0.40245553943271983,
          -0.8484670971734875,
          2.0116757320325087,
          0.44150866156457835,
          -1.168654755930672,
          1.2320263533160878
         ],
         "subplot": "polar3",
         "theta": [
          "Danceability",
          "Energy",
          "Loudness",
          "Speechiness",
          "Acousticness",
          "instrumentalness",
          "Liveness",
          "Valence",
          "Tempo"
         ],
         "type": "scatterpolar"
        },
        {
         "fill": "toself",
         "line": {
          "color": "#636EFA"
         },
         "mode": "lines+markers",
         "name": "Cluster center centroid 7 profile",
         "r": [
          -1.8540113800566744,
          0.5450103422508074,
          0.07352088571425391,
          -0.1680695770537619,
          -0.6734582707599379,
          2.860785306331644,
          0.8883599803480164,
          -1.6698464840736846,
          1.4599496188570575
         ],
         "showlegend": false,
         "subplot": "polar4",
         "theta": [
          "Danceability",
          "Energy",
          "Loudness",
          "Speechiness",
          "Acousticness",
          "instrumentalness",
          "Liveness",
          "Valence",
          "Tempo"
         ],
         "type": "scatterpolar"
        },
        {
         "fill": "toself",
         "line": {
          "color": "#B6E880"
         },
         "name": "Furthest track rank 2",
         "r": [
          1.7962442756125294,
          -1.7509241185879552,
          -3.8273796111062994,
          8.391865906340753,
          -0.48696237972183476,
          -0.6235690916720154,
          0.18582482754746282,
          -0.41826552451738575,
          -2.7584953825345813
         ],
         "subplot": "polar4",
         "theta": [
          "Danceability",
          "Energy",
          "Loudness",
          "Speechiness",
          "Acousticness",
          "instrumentalness",
          "Liveness",
          "Valence",
          "Tempo"
         ],
         "type": "scatterpolar"
        },
        {
         "fill": "toself",
         "line": {
          "color": "#636EFA"
         },
         "mode": "lines+markers",
         "name": "Cluster center centroid 7 profile",
         "r": [
          -1.8540113800566744,
          0.5450103422508074,
          0.07352088571425391,
          -0.1680695770537619,
          -0.6734582707599379,
          2.860785306331644,
          0.8883599803480164,
          -1.6698464840736846,
          1.4599496188570575
         ],
         "showlegend": false,
         "subplot": "polar5",
         "theta": [
          "Danceability",
          "Energy",
          "Loudness",
          "Speechiness",
          "Acousticness",
          "instrumentalness",
          "Liveness",
          "Valence",
          "Tempo"
         ],
         "type": "scatterpolar"
        },
        {
         "fill": "toself",
         "line": {
          "color": "#EF553B"
         },
         "name": "Closest track rank 3",
         "r": [
          -2.0999540578585414,
          0.7580347989776174,
          0.4167671349236797,
          -0.08675679312279984,
          -0.8328034409541887,
          2.0451875159177684,
          0.7930739333381123,
          -1.7012387027388705,
          0.729174097276421
         ],
         "subplot": "polar5",
         "theta": [
          "Danceability",
          "Energy",
          "Loudness",
          "Speechiness",
          "Acousticness",
          "instrumentalness",
          "Liveness",
          "Valence",
          "Tempo"
         ],
         "type": "scatterpolar"
        },
        {
         "fill": "toself",
         "line": {
          "color": "#636EFA"
         },
         "mode": "lines+markers",
         "name": "Cluster center centroid 7 profile",
         "r": [
          -1.8540113800566744,
          0.5450103422508074,
          0.07352088571425391,
          -0.1680695770537619,
          -0.6734582707599379,
          2.860785306331644,
          0.8883599803480164,
          -1.6698464840736846,
          1.4599496188570575
         ],
         "showlegend": false,
         "subplot": "polar6",
         "theta": [
          "Danceability",
          "Energy",
          "Loudness",
          "Speechiness",
          "Acousticness",
          "instrumentalness",
          "Liveness",
          "Valence",
          "Tempo"
         ],
         "type": "scatterpolar"
        },
        {
         "fill": "toself",
         "line": {
          "color": "#B6E880"
         },
         "name": "Furthest track rank 3",
         "r": [
          1.0527803181496134,
          -1.8606910712314484,
          -2.8141140518642684,
          8.502461008551235,
          1.7796819146568825,
          -0.6235690916720154,
          3.6908240521987556,
          -1.0185769096480148,
          -2.3667530739111062
         ],
         "subplot": "polar6",
         "theta": [
          "Danceability",
          "Energy",
          "Loudness",
          "Speechiness",
          "Acousticness",
          "instrumentalness",
          "Liveness",
          "Valence",
          "Tempo"
         ],
         "type": "scatterpolar"
        },
        {
         "fill": "toself",
         "line": {
          "color": "#636EFA"
         },
         "mode": "lines+markers",
         "name": "Cluster center centroid 7 profile",
         "r": [
          -1.8540113800566744,
          0.5450103422508074,
          0.07352088571425391,
          -0.1680695770537619,
          -0.6734582707599379,
          2.860785306331644,
          0.8883599803480164,
          -1.6698464840736846,
          1.4599496188570575
         ],
         "showlegend": false,
         "subplot": "polar7",
         "theta": [
          "Danceability",
          "Energy",
          "Loudness",
          "Speechiness",
          "Acousticness",
          "instrumentalness",
          "Liveness",
          "Valence",
          "Tempo"
         ],
         "type": "scatterpolar"
        },
        {
         "fill": "toself",
         "line": {
          "color": "#EF553B"
         },
         "name": "Closest track rank 4",
         "r": [
          -1.5856782376586305,
          1.1696608713907186,
          0.32201262571868305,
          -0.01235645163574858,
          -0.8485029676698241,
          1.9355125868387364,
          0.6652320163295541,
          -1.5380771467802894,
          1.5329269764623312
         ],
         "subplot": "polar7",
         "theta": [
          "Danceability",
          "Energy",
          "Loudness",
          "Speechiness",
          "Acousticness",
          "instrumentalness",
          "Liveness",
          "Valence",
          "Tempo"
         ],
         "type": "scatterpolar"
        },
        {
         "fill": "toself",
         "line": {
          "color": "#636EFA"
         },
         "mode": "lines+markers",
         "name": "Cluster center centroid 7 profile",
         "r": [
          -1.8540113800566744,
          0.5450103422508074,
          0.07352088571425391,
          -0.1680695770537619,
          -0.6734582707599379,
          2.860785306331644,
          0.8883599803480164,
          -1.6698464840736846,
          1.4599496188570575
         ],
         "showlegend": false,
         "subplot": "polar8",
         "theta": [
          "Danceability",
          "Energy",
          "Loudness",
          "Speechiness",
          "Acousticness",
          "instrumentalness",
          "Liveness",
          "Valence",
          "Tempo"
         ],
         "type": "scatterpolar"
        },
        {
         "fill": "toself",
         "line": {
          "color": "#B6E880"
         },
         "name": "Furthest track rank 4",
         "r": [
          -0.037260822491504184,
          -2.2378189585280235,
          -6.096761360070624,
          7.607646090666429,
          2.197140277195937,
          -0.6235690916720154,
          -0.3202160939447451,
          -1.8497772890596542,
          -0.8655393974126123
         ],
         "subplot": "polar8",
         "theta": [
          "Danceability",
          "Energy",
          "Loudness",
          "Speechiness",
          "Acousticness",
          "instrumentalness",
          "Liveness",
          "Valence",
          "Tempo"
         ],
         "type": "scatterpolar"
        },
        {
         "fill": "toself",
         "line": {
          "color": "#636EFA"
         },
         "mode": "lines+markers",
         "name": "Cluster center centroid 7 profile",
         "r": [
          -1.8540113800566744,
          0.5450103422508074,
          0.07352088571425391,
          -0.1680695770537619,
          -0.6734582707599379,
          2.860785306331644,
          0.8883599803480164,
          -1.6698464840736846,
          1.4599496188570575
         ],
         "showlegend": false,
         "subplot": "polar9",
         "theta": [
          "Danceability",
          "Energy",
          "Loudness",
          "Speechiness",
          "Acousticness",
          "instrumentalness",
          "Liveness",
          "Valence",
          "Tempo"
         ],
         "type": "scatterpolar"
        },
        {
         "fill": "toself",
         "line": {
          "color": "#EF553B"
         },
         "name": "Closest track rank 5",
         "r": [
          -1.9713851028085634,
          0.3268074850210348,
          -0.03314798123021146,
          -0.3552012684882414,
          -0.8437810497468824,
          2.1518159191890502,
          0.894282117636554,
          -1.326428902022696,
          0.5914828227271688
         ],
         "subplot": "polar9",
         "theta": [
          "Danceability",
          "Energy",
          "Loudness",
          "Speechiness",
          "Acousticness",
          "instrumentalness",
          "Liveness",
          "Valence",
          "Tempo"
         ],
         "type": "scatterpolar"
        },
        {
         "fill": "toself",
         "line": {
          "color": "#636EFA"
         },
         "mode": "lines+markers",
         "name": "Cluster center centroid 7 profile",
         "r": [
          -1.8540113800566744,
          0.5450103422508074,
          0.07352088571425391,
          -0.1680695770537619,
          -0.6734582707599379,
          2.860785306331644,
          0.8883599803480164,
          -1.6698464840736846,
          1.4599496188570575
         ],
         "showlegend": false,
         "subplot": "polar10",
         "theta": [
          "Danceability",
          "Energy",
          "Loudness",
          "Speechiness",
          "Acousticness",
          "instrumentalness",
          "Liveness",
          "Valence",
          "Tempo"
         ],
         "type": "scatterpolar"
        },
        {
         "fill": "toself",
         "line": {
          "color": "#B6E880"
         },
         "name": "Furthest track rank 5",
         "r": [
          1.5670561383495243,
          -1.4098625157313847,
          -1.6743591002868272,
          8.683434812168386,
          2.064172058016831,
          -0.6232370203589706,
          -0.5279592090836515,
          1.2171981849731084,
          -1.6227085007978335
         ],
         "subplot": "polar10",
         "theta": [
          "Danceability",
          "Energy",
          "Loudness",
          "Speechiness",
          "Acousticness",
          "instrumentalness",
          "Liveness",
          "Valence",
          "Tempo"
         ],
         "type": "scatterpolar"
        }
       ],
       "layout": {
        "annotations": [
         {
          "font": {
           "size": 16
          },
          "showarrow": false,
          "text": "Hits - Dwarves",
          "x": 0.25,
          "xanchor": "center",
          "xref": "paper",
          "y": 1.03,
          "yanchor": "bottom",
          "yref": "paper"
         },
         {
          "font": {
           "size": 16
          },
          "showarrow": false,
          "text": "Intro - Swell",
          "x": 0.75,
          "xanchor": "center",
          "xref": "paper",
          "y": 1.03,
          "yanchor": "bottom",
          "yref": "paper"
         },
         {
          "font": {
           "size": 16
          },
          "showarrow": false,
          "text": "Moon And Sun Part II: North's Son - Amorphis",
          "x": 0.25,
          "xanchor": "center",
          "xref": "paper",
          "y": 0.82,
          "yanchor": "bottom",
          "yref": "paper"
         },
         {
          "font": {
           "size": 16
          },
          "showarrow": false,
          "text": "Rain - Shel Silverstein",
          "x": 0.75,
          "xanchor": "center",
          "xref": "paper",
          "y": 0.82,
          "yanchor": "bottom",
          "yref": "paper"
         },
         {
          "font": {
           "size": 16
          },
          "showarrow": false,
          "text": "Swan - Unwound",
          "x": 0.25,
          "xanchor": "center",
          "xref": "paper",
          "y": 0.6,
          "yanchor": "bottom",
          "yref": "paper"
         },
         {
          "font": {
           "size": 16
          },
          "showarrow": false,
          "text": "Jaden's Interlude - Will Smith",
          "x": 0.75,
          "xanchor": "center",
          "xref": "paper",
          "y": 0.6,
          "yanchor": "bottom",
          "yref": "paper"
         },
         {
          "font": {
           "size": 16
          },
          "showarrow": false,
          "text": "Dungeon Bastard - Akimbo",
          "x": 0.25,
          "xanchor": "center",
          "xref": "paper",
          "y": 0.38,
          "yanchor": "bottom",
          "yref": "paper"
         },
         {
          "font": {
           "size": 16
          },
          "showarrow": false,
          "text": "Introduction - Paul Horn",
          "x": 0.75,
          "xanchor": "center",
          "xref": "paper",
          "y": 0.38,
          "yanchor": "bottom",
          "yref": "paper"
         },
         {
          "font": {
           "size": 16
          },
          "showarrow": false,
          "text": "Envelope - Unwound",
          "x": 0.25,
          "xanchor": "center",
          "xref": "paper",
          "y": 0.16,
          "yanchor": "bottom",
          "yref": "paper"
         },
         {
          "font": {
           "size": 16
          },
          "showarrow": false,
          "text": "Thoughtfulness (skit) - The Pharcyde",
          "x": 0.75,
          "xanchor": "center",
          "xref": "paper",
          "y": 0.16,
          "yanchor": "bottom",
          "yref": "paper"
         },
         {
          "font": {
           "color": "black",
           "size": 20
          },
          "showarrow": false,
          "text": "Closest tracks from centroid 7",
          "x": 0.12,
          "y": 1.09
         },
         {
          "font": {
           "color": "black",
           "size": 22
          },
          "showarrow": false,
          "text": "Furthest tracks from centroid 7",
          "x": 0.9,
          "y": 1.09
         },
         {
          "font": {
           "color": "black",
           "size": 22
          },
          "showarrow": false,
          "text": "Rank",
          "x": 0.005,
          "y": 1.09
         },
         {
          "font": {
           "color": "black",
           "size": 22
          },
          "showarrow": false,
          "text": "1",
          "x": 0.01,
          "y": 1.05
         },
         {
          "font": {
           "color": "black",
           "size": 22
          },
          "showarrow": false,
          "text": "2",
          "x": 0.01,
          "y": 0.84
         },
         {
          "font": {
           "color": "black",
           "size": 22
          },
          "showarrow": false,
          "text": "3",
          "x": 0.01,
          "y": 0.608
         },
         {
          "font": {
           "color": "black",
           "size": 22
          },
          "showarrow": false,
          "text": "4",
          "x": 0.01,
          "y": 0.389
         },
         {
          "font": {
           "color": "black",
           "size": 22
          },
          "showarrow": false,
          "text": "5",
          "x": 0.01,
          "y": 0.159
         }
        ],
        "height": 1600,
        "margin": {
         "b": 50,
         "l": 50,
         "r": 50,
         "t": 200
        },
        "polar": {
         "domain": {
          "x": [
           0,
           0.5
          ],
          "y": [
           0.88,
           1
          ]
         },
         "radialaxis": {
          "range": [
           -2.0999540578585414,
           2.860785306331644
          ],
          "showticklabels": false,
          "ticks": ""
         }
        },
        "polar10": {
         "domain": {
          "x": [
           0.5,
           1
          ],
          "y": [
           0,
           0.12
          ]
         },
         "radialaxis": {
          "range": [
           -6.096761360070624,
           8.683434812168386
          ],
          "showticklabels": false,
          "ticks": ""
         }
        },
        "polar2": {
         "domain": {
          "x": [
           0.5,
           1
          ],
          "y": [
           0.88,
           1
          ]
         },
         "radialaxis": {
          "range": [
           -6.096761360070624,
           8.683434812168386
          ],
          "showticklabels": false,
          "ticks": ""
         }
        },
        "polar3": {
         "domain": {
          "x": [
           0,
           0.5
          ],
          "y": [
           0.66,
           0.78
          ]
         },
         "radialaxis": {
          "range": [
           -2.0999540578585414,
           2.860785306331644
          ],
          "showticklabels": false,
          "ticks": ""
         }
        },
        "polar4": {
         "domain": {
          "x": [
           0.5,
           1
          ],
          "y": [
           0.66,
           0.78
          ]
         },
         "radialaxis": {
          "range": [
           -6.096761360070624,
           8.683434812168386
          ],
          "showticklabels": false,
          "ticks": ""
         }
        },
        "polar5": {
         "domain": {
          "x": [
           0,
           0.5
          ],
          "y": [
           0.44,
           0.56
          ]
         },
         "radialaxis": {
          "range": [
           -2.0999540578585414,
           2.860785306331644
          ],
          "showticklabels": false,
          "ticks": ""
         }
        },
        "polar6": {
         "domain": {
          "x": [
           0.5,
           1
          ],
          "y": [
           0.44,
           0.56
          ]
         },
         "radialaxis": {
          "range": [
           -6.096761360070624,
           8.683434812168386
          ],
          "showticklabels": false,
          "ticks": ""
         }
        },
        "polar7": {
         "domain": {
          "x": [
           0,
           0.5
          ],
          "y": [
           0.22,
           0.33999999999999997
          ]
         },
         "radialaxis": {
          "range": [
           -2.0999540578585414,
           2.860785306331644
          ],
          "showticklabels": false,
          "ticks": ""
         }
        },
        "polar8": {
         "domain": {
          "x": [
           0.5,
           1
          ],
          "y": [
           0.22,
           0.33999999999999997
          ]
         },
         "radialaxis": {
          "range": [
           -6.096761360070624,
           8.683434812168386
          ],
          "showticklabels": false,
          "ticks": ""
         }
        },
        "polar9": {
         "domain": {
          "x": [
           0,
           0.5
          ],
          "y": [
           0,
           0.12
          ]
         },
         "radialaxis": {
          "range": [
           -2.0999540578585414,
           2.860785306331644
          ],
          "showticklabels": false,
          "ticks": ""
         }
        },
        "showlegend": false,
        "template": {
         "data": {
          "bar": [
           {
            "error_x": {
             "color": "#2a3f5f"
            },
            "error_y": {
             "color": "#2a3f5f"
            },
            "marker": {
             "line": {
              "color": "#E5ECF6",
              "width": 0.5
             },
             "pattern": {
              "fillmode": "overlay",
              "size": 10,
              "solidity": 0.2
             }
            },
            "type": "bar"
           }
          ],
          "barpolar": [
           {
            "marker": {
             "line": {
              "color": "#E5ECF6",
              "width": 0.5
             },
             "pattern": {
              "fillmode": "overlay",
              "size": 10,
              "solidity": 0.2
             }
            },
            "type": "barpolar"
           }
          ],
          "carpet": [
           {
            "aaxis": {
             "endlinecolor": "#2a3f5f",
             "gridcolor": "white",
             "linecolor": "white",
             "minorgridcolor": "white",
             "startlinecolor": "#2a3f5f"
            },
            "baxis": {
             "endlinecolor": "#2a3f5f",
             "gridcolor": "white",
             "linecolor": "white",
             "minorgridcolor": "white",
             "startlinecolor": "#2a3f5f"
            },
            "type": "carpet"
           }
          ],
          "choropleth": [
           {
            "colorbar": {
             "outlinewidth": 0,
             "ticks": ""
            },
            "type": "choropleth"
           }
          ],
          "contour": [
           {
            "colorbar": {
             "outlinewidth": 0,
             "ticks": ""
            },
            "colorscale": [
             [
              0,
              "#0d0887"
             ],
             [
              0.1111111111111111,
              "#46039f"
             ],
             [
              0.2222222222222222,
              "#7201a8"
             ],
             [
              0.3333333333333333,
              "#9c179e"
             ],
             [
              0.4444444444444444,
              "#bd3786"
             ],
             [
              0.5555555555555556,
              "#d8576b"
             ],
             [
              0.6666666666666666,
              "#ed7953"
             ],
             [
              0.7777777777777778,
              "#fb9f3a"
             ],
             [
              0.8888888888888888,
              "#fdca26"
             ],
             [
              1,
              "#f0f921"
             ]
            ],
            "type": "contour"
           }
          ],
          "contourcarpet": [
           {
            "colorbar": {
             "outlinewidth": 0,
             "ticks": ""
            },
            "type": "contourcarpet"
           }
          ],
          "heatmap": [
           {
            "colorbar": {
             "outlinewidth": 0,
             "ticks": ""
            },
            "colorscale": [
             [
              0,
              "#0d0887"
             ],
             [
              0.1111111111111111,
              "#46039f"
             ],
             [
              0.2222222222222222,
              "#7201a8"
             ],
             [
              0.3333333333333333,
              "#9c179e"
             ],
             [
              0.4444444444444444,
              "#bd3786"
             ],
             [
              0.5555555555555556,
              "#d8576b"
             ],
             [
              0.6666666666666666,
              "#ed7953"
             ],
             [
              0.7777777777777778,
              "#fb9f3a"
             ],
             [
              0.8888888888888888,
              "#fdca26"
             ],
             [
              1,
              "#f0f921"
             ]
            ],
            "type": "heatmap"
           }
          ],
          "heatmapgl": [
           {
            "colorbar": {
             "outlinewidth": 0,
             "ticks": ""
            },
            "colorscale": [
             [
              0,
              "#0d0887"
             ],
             [
              0.1111111111111111,
              "#46039f"
             ],
             [
              0.2222222222222222,
              "#7201a8"
             ],
             [
              0.3333333333333333,
              "#9c179e"
             ],
             [
              0.4444444444444444,
              "#bd3786"
             ],
             [
              0.5555555555555556,
              "#d8576b"
             ],
             [
              0.6666666666666666,
              "#ed7953"
             ],
             [
              0.7777777777777778,
              "#fb9f3a"
             ],
             [
              0.8888888888888888,
              "#fdca26"
             ],
             [
              1,
              "#f0f921"
             ]
            ],
            "type": "heatmapgl"
           }
          ],
          "histogram": [
           {
            "marker": {
             "pattern": {
              "fillmode": "overlay",
              "size": 10,
              "solidity": 0.2
             }
            },
            "type": "histogram"
           }
          ],
          "histogram2d": [
           {
            "colorbar": {
             "outlinewidth": 0,
             "ticks": ""
            },
            "colorscale": [
             [
              0,
              "#0d0887"
             ],
             [
              0.1111111111111111,
              "#46039f"
             ],
             [
              0.2222222222222222,
              "#7201a8"
             ],
             [
              0.3333333333333333,
              "#9c179e"
             ],
             [
              0.4444444444444444,
              "#bd3786"
             ],
             [
              0.5555555555555556,
              "#d8576b"
             ],
             [
              0.6666666666666666,
              "#ed7953"
             ],
             [
              0.7777777777777778,
              "#fb9f3a"
             ],
             [
              0.8888888888888888,
              "#fdca26"
             ],
             [
              1,
              "#f0f921"
             ]
            ],
            "type": "histogram2d"
           }
          ],
          "histogram2dcontour": [
           {
            "colorbar": {
             "outlinewidth": 0,
             "ticks": ""
            },
            "colorscale": [
             [
              0,
              "#0d0887"
             ],
             [
              0.1111111111111111,
              "#46039f"
             ],
             [
              0.2222222222222222,
              "#7201a8"
             ],
             [
              0.3333333333333333,
              "#9c179e"
             ],
             [
              0.4444444444444444,
              "#bd3786"
             ],
             [
              0.5555555555555556,
              "#d8576b"
             ],
             [
              0.6666666666666666,
              "#ed7953"
             ],
             [
              0.7777777777777778,
              "#fb9f3a"
             ],
             [
              0.8888888888888888,
              "#fdca26"
             ],
             [
              1,
              "#f0f921"
             ]
            ],
            "type": "histogram2dcontour"
           }
          ],
          "mesh3d": [
           {
            "colorbar": {
             "outlinewidth": 0,
             "ticks": ""
            },
            "type": "mesh3d"
           }
          ],
          "parcoords": [
           {
            "line": {
             "colorbar": {
              "outlinewidth": 0,
              "ticks": ""
             }
            },
            "type": "parcoords"
           }
          ],
          "pie": [
           {
            "automargin": true,
            "type": "pie"
           }
          ],
          "scatter": [
           {
            "fillpattern": {
             "fillmode": "overlay",
             "size": 10,
             "solidity": 0.2
            },
            "type": "scatter"
           }
          ],
          "scatter3d": [
           {
            "line": {
             "colorbar": {
              "outlinewidth": 0,
              "ticks": ""
             }
            },
            "marker": {
             "colorbar": {
              "outlinewidth": 0,
              "ticks": ""
             }
            },
            "type": "scatter3d"
           }
          ],
          "scattercarpet": [
           {
            "marker": {
             "colorbar": {
              "outlinewidth": 0,
              "ticks": ""
             }
            },
            "type": "scattercarpet"
           }
          ],
          "scattergeo": [
           {
            "marker": {
             "colorbar": {
              "outlinewidth": 0,
              "ticks": ""
             }
            },
            "type": "scattergeo"
           }
          ],
          "scattergl": [
           {
            "marker": {
             "colorbar": {
              "outlinewidth": 0,
              "ticks": ""
             }
            },
            "type": "scattergl"
           }
          ],
          "scattermapbox": [
           {
            "marker": {
             "colorbar": {
              "outlinewidth": 0,
              "ticks": ""
             }
            },
            "type": "scattermapbox"
           }
          ],
          "scatterpolar": [
           {
            "marker": {
             "colorbar": {
              "outlinewidth": 0,
              "ticks": ""
             }
            },
            "type": "scatterpolar"
           }
          ],
          "scatterpolargl": [
           {
            "marker": {
             "colorbar": {
              "outlinewidth": 0,
              "ticks": ""
             }
            },
            "type": "scatterpolargl"
           }
          ],
          "scatterternary": [
           {
            "marker": {
             "colorbar": {
              "outlinewidth": 0,
              "ticks": ""
             }
            },
            "type": "scatterternary"
           }
          ],
          "surface": [
           {
            "colorbar": {
             "outlinewidth": 0,
             "ticks": ""
            },
            "colorscale": [
             [
              0,
              "#0d0887"
             ],
             [
              0.1111111111111111,
              "#46039f"
             ],
             [
              0.2222222222222222,
              "#7201a8"
             ],
             [
              0.3333333333333333,
              "#9c179e"
             ],
             [
              0.4444444444444444,
              "#bd3786"
             ],
             [
              0.5555555555555556,
              "#d8576b"
             ],
             [
              0.6666666666666666,
              "#ed7953"
             ],
             [
              0.7777777777777778,
              "#fb9f3a"
             ],
             [
              0.8888888888888888,
              "#fdca26"
             ],
             [
              1,
              "#f0f921"
             ]
            ],
            "type": "surface"
           }
          ],
          "table": [
           {
            "cells": {
             "fill": {
              "color": "#EBF0F8"
             },
             "line": {
              "color": "white"
             }
            },
            "header": {
             "fill": {
              "color": "#C8D4E3"
             },
             "line": {
              "color": "white"
             }
            },
            "type": "table"
           }
          ]
         },
         "layout": {
          "annotationdefaults": {
           "arrowcolor": "#2a3f5f",
           "arrowhead": 0,
           "arrowwidth": 1
          },
          "autotypenumbers": "strict",
          "coloraxis": {
           "colorbar": {
            "outlinewidth": 0,
            "ticks": ""
           }
          },
          "colorscale": {
           "diverging": [
            [
             0,
             "#8e0152"
            ],
            [
             0.1,
             "#c51b7d"
            ],
            [
             0.2,
             "#de77ae"
            ],
            [
             0.3,
             "#f1b6da"
            ],
            [
             0.4,
             "#fde0ef"
            ],
            [
             0.5,
             "#f7f7f7"
            ],
            [
             0.6,
             "#e6f5d0"
            ],
            [
             0.7,
             "#b8e186"
            ],
            [
             0.8,
             "#7fbc41"
            ],
            [
             0.9,
             "#4d9221"
            ],
            [
             1,
             "#276419"
            ]
           ],
           "sequential": [
            [
             0,
             "#0d0887"
            ],
            [
             0.1111111111111111,
             "#46039f"
            ],
            [
             0.2222222222222222,
             "#7201a8"
            ],
            [
             0.3333333333333333,
             "#9c179e"
            ],
            [
             0.4444444444444444,
             "#bd3786"
            ],
            [
             0.5555555555555556,
             "#d8576b"
            ],
            [
             0.6666666666666666,
             "#ed7953"
            ],
            [
             0.7777777777777778,
             "#fb9f3a"
            ],
            [
             0.8888888888888888,
             "#fdca26"
            ],
            [
             1,
             "#f0f921"
            ]
           ],
           "sequentialminus": [
            [
             0,
             "#0d0887"
            ],
            [
             0.1111111111111111,
             "#46039f"
            ],
            [
             0.2222222222222222,
             "#7201a8"
            ],
            [
             0.3333333333333333,
             "#9c179e"
            ],
            [
             0.4444444444444444,
             "#bd3786"
            ],
            [
             0.5555555555555556,
             "#d8576b"
            ],
            [
             0.6666666666666666,
             "#ed7953"
            ],
            [
             0.7777777777777778,
             "#fb9f3a"
            ],
            [
             0.8888888888888888,
             "#fdca26"
            ],
            [
             1,
             "#f0f921"
            ]
           ]
          },
          "colorway": [
           "#636efa",
           "#EF553B",
           "#00cc96",
           "#ab63fa",
           "#FFA15A",
           "#19d3f3",
           "#FF6692",
           "#B6E880",
           "#FF97FF",
           "#FECB52"
          ],
          "font": {
           "color": "#2a3f5f"
          },
          "geo": {
           "bgcolor": "white",
           "lakecolor": "white",
           "landcolor": "#E5ECF6",
           "showlakes": true,
           "showland": true,
           "subunitcolor": "white"
          },
          "hoverlabel": {
           "align": "left"
          },
          "hovermode": "closest",
          "mapbox": {
           "style": "light"
          },
          "paper_bgcolor": "white",
          "plot_bgcolor": "#E5ECF6",
          "polar": {
           "angularaxis": {
            "gridcolor": "white",
            "linecolor": "white",
            "ticks": ""
           },
           "bgcolor": "#E5ECF6",
           "radialaxis": {
            "gridcolor": "white",
            "linecolor": "white",
            "ticks": ""
           }
          },
          "scene": {
           "xaxis": {
            "backgroundcolor": "#E5ECF6",
            "gridcolor": "white",
            "gridwidth": 2,
            "linecolor": "white",
            "showbackground": true,
            "ticks": "",
            "zerolinecolor": "white"
           },
           "yaxis": {
            "backgroundcolor": "#E5ECF6",
            "gridcolor": "white",
            "gridwidth": 2,
            "linecolor": "white",
            "showbackground": true,
            "ticks": "",
            "zerolinecolor": "white"
           },
           "zaxis": {
            "backgroundcolor": "#E5ECF6",
            "gridcolor": "white",
            "gridwidth": 2,
            "linecolor": "white",
            "showbackground": true,
            "ticks": "",
            "zerolinecolor": "white"
           }
          },
          "shapedefaults": {
           "line": {
            "color": "#2a3f5f"
           }
          },
          "ternary": {
           "aaxis": {
            "gridcolor": "white",
            "linecolor": "white",
            "ticks": ""
           },
           "baxis": {
            "gridcolor": "white",
            "linecolor": "white",
            "ticks": ""
           },
           "bgcolor": "#E5ECF6",
           "caxis": {
            "gridcolor": "white",
            "linecolor": "white",
            "ticks": ""
           }
          },
          "title": {
           "x": 0.05
          },
          "xaxis": {
           "automargin": true,
           "gridcolor": "white",
           "linecolor": "white",
           "ticks": "",
           "title": {
            "standoff": 15
           },
           "zerolinecolor": "white",
           "zerolinewidth": 2
          },
          "yaxis": {
           "automargin": true,
           "gridcolor": "white",
           "linecolor": "white",
           "ticks": "",
           "title": {
            "standoff": 15
           },
           "zerolinecolor": "white",
           "zerolinewidth": 2
          }
         }
        },
        "title": {
         "font": {
          "size": 18
         },
         "text": "Most similar and different tracks from centroid 7 profile (blue) of user '22e08d5e101ab5b86dc394856d508e175a5242a6'",
         "x": 0.5,
         "y": 0.99
        },
        "width": 1200
       }
      }
     },
     "metadata": {},
     "output_type": "display_data"
    },
    {
     "name": "stdout",
     "output_type": "stream",
     "text": [
      "['Debaser - Pixies',\n",
      " 'Introduction - Paul Horn',\n",
      " 'Musicatto - Kansas',\n",
      " '(Kanji) Ooioo - OOIOO',\n",
      " 'Nick The Stripper - The Birthday Party',\n",
      " 'Intro - Swell',\n",
      " 'Hacked To Pieces - Six Feet Under',\n",
      " 'Rain - Shel Silverstein',\n",
      " 'Silent Violence - Six Feet Under',\n",
      " 'Thoughtfulness (skit) - The Pharcyde']\n"
     ]
    },
    {
     "data": {
      "application/vnd.plotly.v1+json": {
       "config": {
        "plotlyServerURL": "https://plot.ly"
       },
       "data": [
        {
         "fill": "toself",
         "line": {
          "color": "#636EFA"
         },
         "mode": "lines+markers",
         "name": "Cluster center centroid 8 profile",
         "r": [
          -1.520498367576224,
          1.3737183665611117,
          1.052226981832541,
          0.34863373919683815,
          -0.8306920911109378,
          2.425310752616799,
          3.927371747313992,
          -0.16306114146035341,
          0.4056640200145195
         ],
         "subplot": "polar",
         "theta": [
          "Danceability",
          "Energy",
          "Loudness",
          "Speechiness",
          "Acousticness",
          "instrumentalness",
          "Liveness",
          "Valence",
          "Tempo"
         ],
         "type": "scatterpolar"
        },
        {
         "fill": "toself",
         "line": {
          "color": "#EF553B"
         },
         "name": "Closest track rank 1",
         "r": [
          -1.2446910090478187,
          1.2794278240342123,
          1.0597923909775402,
          0.15454161170006905,
          -0.8468547802088365,
          1.633906531871398,
          3.8666066880855223,
          -0.12195798185675537,
          0.3799619120658414
         ],
         "subplot": "polar",
         "theta": [
          "Danceability",
          "Energy",
          "Loudness",
          "Speechiness",
          "Acousticness",
          "instrumentalness",
          "Liveness",
          "Valence",
          "Tempo"
         ],
         "type": "scatterpolar"
        },
        {
         "fill": "toself",
         "line": {
          "color": "#636EFA"
         },
         "mode": "lines+markers",
         "name": "Cluster center centroid 8 profile",
         "r": [
          -1.520498367576224,
          1.3737183665611117,
          1.052226981832541,
          0.34863373919683815,
          -0.8306920911109378,
          2.425310752616799,
          3.927371747313992,
          -0.16306114146035341,
          0.4056640200145195
         ],
         "showlegend": false,
         "subplot": "polar2",
         "theta": [
          "Danceability",
          "Energy",
          "Loudness",
          "Speechiness",
          "Acousticness",
          "instrumentalness",
          "Liveness",
          "Valence",
          "Tempo"
         ],
         "type": "scatterpolar"
        },
        {
         "fill": "toself",
         "line": {
          "color": "#B6E880"
         },
         "name": "Furthest track rank 1",
         "r": [
          -0.037260822491504184,
          -2.2378189585280235,
          -6.096761360070624,
          7.607646090666429,
          2.197140277195937,
          -0.6235690916720154,
          -0.3202160939447451,
          -1.8497772890596542,
          -0.8655393974126123
         ],
         "subplot": "polar2",
         "theta": [
          "Danceability",
          "Energy",
          "Loudness",
          "Speechiness",
          "Acousticness",
          "instrumentalness",
          "Liveness",
          "Valence",
          "Tempo"
         ],
         "type": "scatterpolar"
        },
        {
         "fill": "toself",
         "line": {
          "color": "#636EFA"
         },
         "mode": "lines+markers",
         "name": "Cluster center centroid 8 profile",
         "r": [
          -1.520498367576224,
          1.3737183665611117,
          1.052226981832541,
          0.34863373919683815,
          -0.8306920911109378,
          2.425310752616799,
          3.927371747313992,
          -0.16306114146035341,
          0.4056640200145195
         ],
         "showlegend": false,
         "subplot": "polar3",
         "theta": [
          "Danceability",
          "Energy",
          "Loudness",
          "Speechiness",
          "Acousticness",
          "instrumentalness",
          "Liveness",
          "Valence",
          "Tempo"
         ],
         "type": "scatterpolar"
        },
        {
         "fill": "toself",
         "line": {
          "color": "#EF553B"
         },
         "name": "Closest track rank 2",
         "r": [
          -1.7757366929499014,
          1.1186976433776683,
          0.7750787231763033,
          -0.17020582479070864,
          -0.440578117217495,
          2.194467280497563,
          4.015755591262173,
          0.005030964997800572,
          0.9129507477426165
         ],
         "subplot": "polar3",
         "theta": [
          "Danceability",
          "Energy",
          "Loudness",
          "Speechiness",
          "Acousticness",
          "instrumentalness",
          "Liveness",
          "Valence",
          "Tempo"
         ],
         "type": "scatterpolar"
        },
        {
         "fill": "toself",
         "line": {
          "color": "#636EFA"
         },
         "mode": "lines+markers",
         "name": "Cluster center centroid 8 profile",
         "r": [
          -1.520498367576224,
          1.3737183665611117,
          1.052226981832541,
          0.34863373919683815,
          -0.8306920911109378,
          2.425310752616799,
          3.927371747313992,
          -0.16306114146035341,
          0.4056640200145195
         ],
         "showlegend": false,
         "subplot": "polar4",
         "theta": [
          "Danceability",
          "Energy",
          "Loudness",
          "Speechiness",
          "Acousticness",
          "instrumentalness",
          "Liveness",
          "Valence",
          "Tempo"
         ],
         "type": "scatterpolar"
        },
        {
         "fill": "toself",
         "line": {
          "color": "#B6E880"
         },
         "name": "Furthest track rank 2",
         "r": [
          -2.854597924456238,
          -2.4412798457493565,
          -8.00310504882673,
          -0.7975816773301675,
          1.105563966260484,
          2.237118641806075,
          -0.5918801675879304,
          -1.8497772890596542,
          -4.040645696797743
         ],
         "subplot": "polar4",
         "theta": [
          "Danceability",
          "Energy",
          "Loudness",
          "Speechiness",
          "Acousticness",
          "instrumentalness",
          "Liveness",
          "Valence",
          "Tempo"
         ],
         "type": "scatterpolar"
        },
        {
         "fill": "toself",
         "line": {
          "color": "#636EFA"
         },
         "mode": "lines+markers",
         "name": "Cluster center centroid 8 profile",
         "r": [
          -1.520498367576224,
          1.3737183665611117,
          1.052226981832541,
          0.34863373919683815,
          -0.8306920911109378,
          2.425310752616799,
          3.927371747313992,
          -0.16306114146035341,
          0.4056640200145195
         ],
         "showlegend": false,
         "subplot": "polar5",
         "theta": [
          "Danceability",
          "Energy",
          "Loudness",
          "Speechiness",
          "Acousticness",
          "instrumentalness",
          "Liveness",
          "Valence",
          "Tempo"
         ],
         "type": "scatterpolar"
        },
        {
         "fill": "toself",
         "line": {
          "color": "#EF553B"
         },
         "name": "Closest track rank 3",
         "r": [
          -1.3676700095304062,
          1.1579001264646303,
          0.41474150408556826,
          0.2782070441717892,
          -0.8463600147421236,
          2.0390944643022673,
          3.520368162854012,
          0.5168349023207083,
          -0.05753350588541352
         ],
         "subplot": "polar5",
         "theta": [
          "Danceability",
          "Energy",
          "Loudness",
          "Speechiness",
          "Acousticness",
          "instrumentalness",
          "Liveness",
          "Valence",
          "Tempo"
         ],
         "type": "scatterpolar"
        },
        {
         "fill": "toself",
         "line": {
          "color": "#636EFA"
         },
         "mode": "lines+markers",
         "name": "Cluster center centroid 8 profile",
         "r": [
          -1.520498367576224,
          1.3737183665611117,
          1.052226981832541,
          0.34863373919683815,
          -0.8306920911109378,
          2.425310752616799,
          3.927371747313992,
          -0.16306114146035341,
          0.4056640200145195
         ],
         "showlegend": false,
         "subplot": "polar6",
         "theta": [
          "Danceability",
          "Energy",
          "Loudness",
          "Speechiness",
          "Acousticness",
          "instrumentalness",
          "Liveness",
          "Valence",
          "Tempo"
         ],
         "type": "scatterpolar"
        },
        {
         "fill": "toself",
         "line": {
          "color": "#B6E880"
         },
         "name": "Furthest track rank 3",
         "r": [
          1.6397255477255994,
          -1.8998935543184103,
          -4.23880774133607,
          8.442136407345517,
          1.8013279038255745,
          -0.6235690916720154,
          1.7305813247342028,
          0.48604970308324014,
          -2.330469562374479
         ],
         "subplot": "polar6",
         "theta": [
          "Danceability",
          "Energy",
          "Loudness",
          "Speechiness",
          "Acousticness",
          "instrumentalness",
          "Liveness",
          "Valence",
          "Tempo"
         ],
         "type": "scatterpolar"
        },
        {
         "fill": "toself",
         "line": {
          "color": "#636EFA"
         },
         "mode": "lines+markers",
         "name": "Cluster center centroid 8 profile",
         "r": [
          -1.520498367576224,
          1.3737183665611117,
          1.052226981832541,
          0.34863373919683815,
          -0.8306920911109378,
          2.425310752616799,
          3.927371747313992,
          -0.16306114146035341,
          0.4056640200145195
         ],
         "showlegend": false,
         "subplot": "polar7",
         "theta": [
          "Danceability",
          "Energy",
          "Loudness",
          "Speechiness",
          "Acousticness",
          "instrumentalness",
          "Liveness",
          "Valence",
          "Tempo"
         ],
         "type": "scatterpolar"
        },
        {
         "fill": "toself",
         "line": {
          "color": "#EF553B"
         },
         "name": "Closest track rank 4",
         "r": [
          -1.540958601119507,
          1.3421517969733516,
          0.6879765971375061,
          0.26815294397083633,
          -0.8475783747039046,
          2.100024980457285,
          4.100983535934545,
          -1.2610103536430761,
          0.07291435702007971
         ],
         "subplot": "polar7",
         "theta": [
          "Danceability",
          "Energy",
          "Loudness",
          "Speechiness",
          "Acousticness",
          "instrumentalness",
          "Liveness",
          "Valence",
          "Tempo"
         ],
         "type": "scatterpolar"
        },
        {
         "fill": "toself",
         "line": {
          "color": "#636EFA"
         },
         "mode": "lines+markers",
         "name": "Cluster center centroid 8 profile",
         "r": [
          -1.520498367576224,
          1.3737183665611117,
          1.052226981832541,
          0.34863373919683815,
          -0.8306920911109378,
          2.425310752616799,
          3.927371747313992,
          -0.16306114146035341,
          0.4056640200145195
         ],
         "showlegend": false,
         "subplot": "polar8",
         "theta": [
          "Danceability",
          "Energy",
          "Loudness",
          "Speechiness",
          "Acousticness",
          "instrumentalness",
          "Liveness",
          "Valence",
          "Tempo"
         ],
         "type": "scatterpolar"
        },
        {
         "fill": "toself",
         "line": {
          "color": "#B6E880"
         },
         "name": "Furthest track rank 4",
         "r": [
          1.7962442756125294,
          -1.7509241185879552,
          -3.8273796111062994,
          8.391865906340753,
          -0.48696237972183476,
          -0.6235690916720154,
          0.18582482754746282,
          -0.41826552451738575,
          -2.7584953825345813
         ],
         "subplot": "polar8",
         "theta": [
          "Danceability",
          "Energy",
          "Loudness",
          "Speechiness",
          "Acousticness",
          "instrumentalness",
          "Liveness",
          "Valence",
          "Tempo"
         ],
         "type": "scatterpolar"
        },
        {
         "fill": "toself",
         "line": {
          "color": "#636EFA"
         },
         "mode": "lines+markers",
         "name": "Cluster center centroid 8 profile",
         "r": [
          -1.520498367576224,
          1.3737183665611117,
          1.052226981832541,
          0.34863373919683815,
          -0.8306920911109378,
          2.425310752616799,
          3.927371747313992,
          -0.16306114146035341,
          0.4056640200145195
         ],
         "showlegend": false,
         "subplot": "polar9",
         "theta": [
          "Danceability",
          "Energy",
          "Loudness",
          "Speechiness",
          "Acousticness",
          "instrumentalness",
          "Liveness",
          "Valence",
          "Tempo"
         ],
         "type": "scatterpolar"
        },
        {
         "fill": "toself",
         "line": {
          "color": "#EF553B"
         },
         "name": "Closest track rank 5",
         "r": [
          -1.0602225083239372,
          1.232384844329858,
          0.3987615274737991,
          0.32847754517655264,
          -0.8486309882343361,
          2.1122110836882886,
          4.042389323972289,
          -1.095539907741685,
          0.30171313031789565
         ],
         "subplot": "polar9",
         "theta": [
          "Danceability",
          "Energy",
          "Loudness",
          "Speechiness",
          "Acousticness",
          "instrumentalness",
          "Liveness",
          "Valence",
          "Tempo"
         ],
         "type": "scatterpolar"
        },
        {
         "fill": "toself",
         "line": {
          "color": "#636EFA"
         },
         "mode": "lines+markers",
         "name": "Cluster center centroid 8 profile",
         "r": [
          -1.520498367576224,
          1.3737183665611117,
          1.052226981832541,
          0.34863373919683815,
          -0.8306920911109378,
          2.425310752616799,
          3.927371747313992,
          -0.16306114146035341,
          0.4056640200145195
         ],
         "showlegend": false,
         "subplot": "polar10",
         "theta": [
          "Danceability",
          "Energy",
          "Loudness",
          "Speechiness",
          "Acousticness",
          "instrumentalness",
          "Liveness",
          "Valence",
          "Tempo"
         ],
         "type": "scatterpolar"
        },
        {
         "fill": "toself",
         "line": {
          "color": "#B6E880"
         },
         "name": "Furthest track rank 5",
         "r": [
          1.5670561383495243,
          -1.4098625157313847,
          -1.6743591002868272,
          8.683434812168386,
          2.064172058016831,
          -0.6232370203589706,
          -0.5279592090836515,
          1.2171981849731084,
          -1.6227085007978335
         ],
         "subplot": "polar10",
         "theta": [
          "Danceability",
          "Energy",
          "Loudness",
          "Speechiness",
          "Acousticness",
          "instrumentalness",
          "Liveness",
          "Valence",
          "Tempo"
         ],
         "type": "scatterpolar"
        }
       ],
       "layout": {
        "annotations": [
         {
          "font": {
           "size": 16
          },
          "showarrow": false,
          "text": "Debaser - Pixies",
          "x": 0.25,
          "xanchor": "center",
          "xref": "paper",
          "y": 1.03,
          "yanchor": "bottom",
          "yref": "paper"
         },
         {
          "font": {
           "size": 16
          },
          "showarrow": false,
          "text": "Introduction - Paul Horn",
          "x": 0.75,
          "xanchor": "center",
          "xref": "paper",
          "y": 1.03,
          "yanchor": "bottom",
          "yref": "paper"
         },
         {
          "font": {
           "size": 16
          },
          "showarrow": false,
          "text": "Musicatto - Kansas",
          "x": 0.25,
          "xanchor": "center",
          "xref": "paper",
          "y": 0.82,
          "yanchor": "bottom",
          "yref": "paper"
         },
         {
          "font": {
           "size": 16
          },
          "showarrow": false,
          "text": "(Kanji) Ooioo - OOIOO",
          "x": 0.75,
          "xanchor": "center",
          "xref": "paper",
          "y": 0.82,
          "yanchor": "bottom",
          "yref": "paper"
         },
         {
          "font": {
           "size": 16
          },
          "showarrow": false,
          "text": "Nick The Stripper - The Birthday Party",
          "x": 0.25,
          "xanchor": "center",
          "xref": "paper",
          "y": 0.6,
          "yanchor": "bottom",
          "yref": "paper"
         },
         {
          "font": {
           "size": 16
          },
          "showarrow": false,
          "text": "Intro - Swell",
          "x": 0.75,
          "xanchor": "center",
          "xref": "paper",
          "y": 0.6,
          "yanchor": "bottom",
          "yref": "paper"
         },
         {
          "font": {
           "size": 16
          },
          "showarrow": false,
          "text": "Hacked To Pieces - Six Feet Under",
          "x": 0.25,
          "xanchor": "center",
          "xref": "paper",
          "y": 0.38,
          "yanchor": "bottom",
          "yref": "paper"
         },
         {
          "font": {
           "size": 16
          },
          "showarrow": false,
          "text": "Rain - Shel Silverstein",
          "x": 0.75,
          "xanchor": "center",
          "xref": "paper",
          "y": 0.38,
          "yanchor": "bottom",
          "yref": "paper"
         },
         {
          "font": {
           "size": 16
          },
          "showarrow": false,
          "text": "Silent Violence - Six Feet Under",
          "x": 0.25,
          "xanchor": "center",
          "xref": "paper",
          "y": 0.16,
          "yanchor": "bottom",
          "yref": "paper"
         },
         {
          "font": {
           "size": 16
          },
          "showarrow": false,
          "text": "Thoughtfulness (skit) - The Pharcyde",
          "x": 0.75,
          "xanchor": "center",
          "xref": "paper",
          "y": 0.16,
          "yanchor": "bottom",
          "yref": "paper"
         },
         {
          "font": {
           "color": "black",
           "size": 20
          },
          "showarrow": false,
          "text": "Closest tracks from centroid 8",
          "x": 0.12,
          "y": 1.09
         },
         {
          "font": {
           "color": "black",
           "size": 22
          },
          "showarrow": false,
          "text": "Furthest tracks from centroid 8",
          "x": 0.9,
          "y": 1.09
         },
         {
          "font": {
           "color": "black",
           "size": 22
          },
          "showarrow": false,
          "text": "Rank",
          "x": 0.005,
          "y": 1.09
         },
         {
          "font": {
           "color": "black",
           "size": 22
          },
          "showarrow": false,
          "text": "1",
          "x": 0.01,
          "y": 1.05
         },
         {
          "font": {
           "color": "black",
           "size": 22
          },
          "showarrow": false,
          "text": "2",
          "x": 0.01,
          "y": 0.84
         },
         {
          "font": {
           "color": "black",
           "size": 22
          },
          "showarrow": false,
          "text": "3",
          "x": 0.01,
          "y": 0.608
         },
         {
          "font": {
           "color": "black",
           "size": 22
          },
          "showarrow": false,
          "text": "4",
          "x": 0.01,
          "y": 0.389
         },
         {
          "font": {
           "color": "black",
           "size": 22
          },
          "showarrow": false,
          "text": "5",
          "x": 0.01,
          "y": 0.159
         }
        ],
        "height": 1600,
        "margin": {
         "b": 50,
         "l": 50,
         "r": 50,
         "t": 200
        },
        "polar": {
         "domain": {
          "x": [
           0,
           0.5
          ],
          "y": [
           0.88,
           1
          ]
         },
         "radialaxis": {
          "range": [
           -1.7757366929499014,
           4.100983535934545
          ],
          "showticklabels": false,
          "ticks": ""
         }
        },
        "polar10": {
         "domain": {
          "x": [
           0.5,
           1
          ],
          "y": [
           0,
           0.12
          ]
         },
         "radialaxis": {
          "range": [
           -8.00310504882673,
           8.683434812168386
          ],
          "showticklabels": false,
          "ticks": ""
         }
        },
        "polar2": {
         "domain": {
          "x": [
           0.5,
           1
          ],
          "y": [
           0.88,
           1
          ]
         },
         "radialaxis": {
          "range": [
           -8.00310504882673,
           8.683434812168386
          ],
          "showticklabels": false,
          "ticks": ""
         }
        },
        "polar3": {
         "domain": {
          "x": [
           0,
           0.5
          ],
          "y": [
           0.66,
           0.78
          ]
         },
         "radialaxis": {
          "range": [
           -1.7757366929499014,
           4.100983535934545
          ],
          "showticklabels": false,
          "ticks": ""
         }
        },
        "polar4": {
         "domain": {
          "x": [
           0.5,
           1
          ],
          "y": [
           0.66,
           0.78
          ]
         },
         "radialaxis": {
          "range": [
           -8.00310504882673,
           8.683434812168386
          ],
          "showticklabels": false,
          "ticks": ""
         }
        },
        "polar5": {
         "domain": {
          "x": [
           0,
           0.5
          ],
          "y": [
           0.44,
           0.56
          ]
         },
         "radialaxis": {
          "range": [
           -1.7757366929499014,
           4.100983535934545
          ],
          "showticklabels": false,
          "ticks": ""
         }
        },
        "polar6": {
         "domain": {
          "x": [
           0.5,
           1
          ],
          "y": [
           0.44,
           0.56
          ]
         },
         "radialaxis": {
          "range": [
           -8.00310504882673,
           8.683434812168386
          ],
          "showticklabels": false,
          "ticks": ""
         }
        },
        "polar7": {
         "domain": {
          "x": [
           0,
           0.5
          ],
          "y": [
           0.22,
           0.33999999999999997
          ]
         },
         "radialaxis": {
          "range": [
           -1.7757366929499014,
           4.100983535934545
          ],
          "showticklabels": false,
          "ticks": ""
         }
        },
        "polar8": {
         "domain": {
          "x": [
           0.5,
           1
          ],
          "y": [
           0.22,
           0.33999999999999997
          ]
         },
         "radialaxis": {
          "range": [
           -8.00310504882673,
           8.683434812168386
          ],
          "showticklabels": false,
          "ticks": ""
         }
        },
        "polar9": {
         "domain": {
          "x": [
           0,
           0.5
          ],
          "y": [
           0,
           0.12
          ]
         },
         "radialaxis": {
          "range": [
           -1.7757366929499014,
           4.100983535934545
          ],
          "showticklabels": false,
          "ticks": ""
         }
        },
        "showlegend": false,
        "template": {
         "data": {
          "bar": [
           {
            "error_x": {
             "color": "#2a3f5f"
            },
            "error_y": {
             "color": "#2a3f5f"
            },
            "marker": {
             "line": {
              "color": "#E5ECF6",
              "width": 0.5
             },
             "pattern": {
              "fillmode": "overlay",
              "size": 10,
              "solidity": 0.2
             }
            },
            "type": "bar"
           }
          ],
          "barpolar": [
           {
            "marker": {
             "line": {
              "color": "#E5ECF6",
              "width": 0.5
             },
             "pattern": {
              "fillmode": "overlay",
              "size": 10,
              "solidity": 0.2
             }
            },
            "type": "barpolar"
           }
          ],
          "carpet": [
           {
            "aaxis": {
             "endlinecolor": "#2a3f5f",
             "gridcolor": "white",
             "linecolor": "white",
             "minorgridcolor": "white",
             "startlinecolor": "#2a3f5f"
            },
            "baxis": {
             "endlinecolor": "#2a3f5f",
             "gridcolor": "white",
             "linecolor": "white",
             "minorgridcolor": "white",
             "startlinecolor": "#2a3f5f"
            },
            "type": "carpet"
           }
          ],
          "choropleth": [
           {
            "colorbar": {
             "outlinewidth": 0,
             "ticks": ""
            },
            "type": "choropleth"
           }
          ],
          "contour": [
           {
            "colorbar": {
             "outlinewidth": 0,
             "ticks": ""
            },
            "colorscale": [
             [
              0,
              "#0d0887"
             ],
             [
              0.1111111111111111,
              "#46039f"
             ],
             [
              0.2222222222222222,
              "#7201a8"
             ],
             [
              0.3333333333333333,
              "#9c179e"
             ],
             [
              0.4444444444444444,
              "#bd3786"
             ],
             [
              0.5555555555555556,
              "#d8576b"
             ],
             [
              0.6666666666666666,
              "#ed7953"
             ],
             [
              0.7777777777777778,
              "#fb9f3a"
             ],
             [
              0.8888888888888888,
              "#fdca26"
             ],
             [
              1,
              "#f0f921"
             ]
            ],
            "type": "contour"
           }
          ],
          "contourcarpet": [
           {
            "colorbar": {
             "outlinewidth": 0,
             "ticks": ""
            },
            "type": "contourcarpet"
           }
          ],
          "heatmap": [
           {
            "colorbar": {
             "outlinewidth": 0,
             "ticks": ""
            },
            "colorscale": [
             [
              0,
              "#0d0887"
             ],
             [
              0.1111111111111111,
              "#46039f"
             ],
             [
              0.2222222222222222,
              "#7201a8"
             ],
             [
              0.3333333333333333,
              "#9c179e"
             ],
             [
              0.4444444444444444,
              "#bd3786"
             ],
             [
              0.5555555555555556,
              "#d8576b"
             ],
             [
              0.6666666666666666,
              "#ed7953"
             ],
             [
              0.7777777777777778,
              "#fb9f3a"
             ],
             [
              0.8888888888888888,
              "#fdca26"
             ],
             [
              1,
              "#f0f921"
             ]
            ],
            "type": "heatmap"
           }
          ],
          "heatmapgl": [
           {
            "colorbar": {
             "outlinewidth": 0,
             "ticks": ""
            },
            "colorscale": [
             [
              0,
              "#0d0887"
             ],
             [
              0.1111111111111111,
              "#46039f"
             ],
             [
              0.2222222222222222,
              "#7201a8"
             ],
             [
              0.3333333333333333,
              "#9c179e"
             ],
             [
              0.4444444444444444,
              "#bd3786"
             ],
             [
              0.5555555555555556,
              "#d8576b"
             ],
             [
              0.6666666666666666,
              "#ed7953"
             ],
             [
              0.7777777777777778,
              "#fb9f3a"
             ],
             [
              0.8888888888888888,
              "#fdca26"
             ],
             [
              1,
              "#f0f921"
             ]
            ],
            "type": "heatmapgl"
           }
          ],
          "histogram": [
           {
            "marker": {
             "pattern": {
              "fillmode": "overlay",
              "size": 10,
              "solidity": 0.2
             }
            },
            "type": "histogram"
           }
          ],
          "histogram2d": [
           {
            "colorbar": {
             "outlinewidth": 0,
             "ticks": ""
            },
            "colorscale": [
             [
              0,
              "#0d0887"
             ],
             [
              0.1111111111111111,
              "#46039f"
             ],
             [
              0.2222222222222222,
              "#7201a8"
             ],
             [
              0.3333333333333333,
              "#9c179e"
             ],
             [
              0.4444444444444444,
              "#bd3786"
             ],
             [
              0.5555555555555556,
              "#d8576b"
             ],
             [
              0.6666666666666666,
              "#ed7953"
             ],
             [
              0.7777777777777778,
              "#fb9f3a"
             ],
             [
              0.8888888888888888,
              "#fdca26"
             ],
             [
              1,
              "#f0f921"
             ]
            ],
            "type": "histogram2d"
           }
          ],
          "histogram2dcontour": [
           {
            "colorbar": {
             "outlinewidth": 0,
             "ticks": ""
            },
            "colorscale": [
             [
              0,
              "#0d0887"
             ],
             [
              0.1111111111111111,
              "#46039f"
             ],
             [
              0.2222222222222222,
              "#7201a8"
             ],
             [
              0.3333333333333333,
              "#9c179e"
             ],
             [
              0.4444444444444444,
              "#bd3786"
             ],
             [
              0.5555555555555556,
              "#d8576b"
             ],
             [
              0.6666666666666666,
              "#ed7953"
             ],
             [
              0.7777777777777778,
              "#fb9f3a"
             ],
             [
              0.8888888888888888,
              "#fdca26"
             ],
             [
              1,
              "#f0f921"
             ]
            ],
            "type": "histogram2dcontour"
           }
          ],
          "mesh3d": [
           {
            "colorbar": {
             "outlinewidth": 0,
             "ticks": ""
            },
            "type": "mesh3d"
           }
          ],
          "parcoords": [
           {
            "line": {
             "colorbar": {
              "outlinewidth": 0,
              "ticks": ""
             }
            },
            "type": "parcoords"
           }
          ],
          "pie": [
           {
            "automargin": true,
            "type": "pie"
           }
          ],
          "scatter": [
           {
            "fillpattern": {
             "fillmode": "overlay",
             "size": 10,
             "solidity": 0.2
            },
            "type": "scatter"
           }
          ],
          "scatter3d": [
           {
            "line": {
             "colorbar": {
              "outlinewidth": 0,
              "ticks": ""
             }
            },
            "marker": {
             "colorbar": {
              "outlinewidth": 0,
              "ticks": ""
             }
            },
            "type": "scatter3d"
           }
          ],
          "scattercarpet": [
           {
            "marker": {
             "colorbar": {
              "outlinewidth": 0,
              "ticks": ""
             }
            },
            "type": "scattercarpet"
           }
          ],
          "scattergeo": [
           {
            "marker": {
             "colorbar": {
              "outlinewidth": 0,
              "ticks": ""
             }
            },
            "type": "scattergeo"
           }
          ],
          "scattergl": [
           {
            "marker": {
             "colorbar": {
              "outlinewidth": 0,
              "ticks": ""
             }
            },
            "type": "scattergl"
           }
          ],
          "scattermapbox": [
           {
            "marker": {
             "colorbar": {
              "outlinewidth": 0,
              "ticks": ""
             }
            },
            "type": "scattermapbox"
           }
          ],
          "scatterpolar": [
           {
            "marker": {
             "colorbar": {
              "outlinewidth": 0,
              "ticks": ""
             }
            },
            "type": "scatterpolar"
           }
          ],
          "scatterpolargl": [
           {
            "marker": {
             "colorbar": {
              "outlinewidth": 0,
              "ticks": ""
             }
            },
            "type": "scatterpolargl"
           }
          ],
          "scatterternary": [
           {
            "marker": {
             "colorbar": {
              "outlinewidth": 0,
              "ticks": ""
             }
            },
            "type": "scatterternary"
           }
          ],
          "surface": [
           {
            "colorbar": {
             "outlinewidth": 0,
             "ticks": ""
            },
            "colorscale": [
             [
              0,
              "#0d0887"
             ],
             [
              0.1111111111111111,
              "#46039f"
             ],
             [
              0.2222222222222222,
              "#7201a8"
             ],
             [
              0.3333333333333333,
              "#9c179e"
             ],
             [
              0.4444444444444444,
              "#bd3786"
             ],
             [
              0.5555555555555556,
              "#d8576b"
             ],
             [
              0.6666666666666666,
              "#ed7953"
             ],
             [
              0.7777777777777778,
              "#fb9f3a"
             ],
             [
              0.8888888888888888,
              "#fdca26"
             ],
             [
              1,
              "#f0f921"
             ]
            ],
            "type": "surface"
           }
          ],
          "table": [
           {
            "cells": {
             "fill": {
              "color": "#EBF0F8"
             },
             "line": {
              "color": "white"
             }
            },
            "header": {
             "fill": {
              "color": "#C8D4E3"
             },
             "line": {
              "color": "white"
             }
            },
            "type": "table"
           }
          ]
         },
         "layout": {
          "annotationdefaults": {
           "arrowcolor": "#2a3f5f",
           "arrowhead": 0,
           "arrowwidth": 1
          },
          "autotypenumbers": "strict",
          "coloraxis": {
           "colorbar": {
            "outlinewidth": 0,
            "ticks": ""
           }
          },
          "colorscale": {
           "diverging": [
            [
             0,
             "#8e0152"
            ],
            [
             0.1,
             "#c51b7d"
            ],
            [
             0.2,
             "#de77ae"
            ],
            [
             0.3,
             "#f1b6da"
            ],
            [
             0.4,
             "#fde0ef"
            ],
            [
             0.5,
             "#f7f7f7"
            ],
            [
             0.6,
             "#e6f5d0"
            ],
            [
             0.7,
             "#b8e186"
            ],
            [
             0.8,
             "#7fbc41"
            ],
            [
             0.9,
             "#4d9221"
            ],
            [
             1,
             "#276419"
            ]
           ],
           "sequential": [
            [
             0,
             "#0d0887"
            ],
            [
             0.1111111111111111,
             "#46039f"
            ],
            [
             0.2222222222222222,
             "#7201a8"
            ],
            [
             0.3333333333333333,
             "#9c179e"
            ],
            [
             0.4444444444444444,
             "#bd3786"
            ],
            [
             0.5555555555555556,
             "#d8576b"
            ],
            [
             0.6666666666666666,
             "#ed7953"
            ],
            [
             0.7777777777777778,
             "#fb9f3a"
            ],
            [
             0.8888888888888888,
             "#fdca26"
            ],
            [
             1,
             "#f0f921"
            ]
           ],
           "sequentialminus": [
            [
             0,
             "#0d0887"
            ],
            [
             0.1111111111111111,
             "#46039f"
            ],
            [
             0.2222222222222222,
             "#7201a8"
            ],
            [
             0.3333333333333333,
             "#9c179e"
            ],
            [
             0.4444444444444444,
             "#bd3786"
            ],
            [
             0.5555555555555556,
             "#d8576b"
            ],
            [
             0.6666666666666666,
             "#ed7953"
            ],
            [
             0.7777777777777778,
             "#fb9f3a"
            ],
            [
             0.8888888888888888,
             "#fdca26"
            ],
            [
             1,
             "#f0f921"
            ]
           ]
          },
          "colorway": [
           "#636efa",
           "#EF553B",
           "#00cc96",
           "#ab63fa",
           "#FFA15A",
           "#19d3f3",
           "#FF6692",
           "#B6E880",
           "#FF97FF",
           "#FECB52"
          ],
          "font": {
           "color": "#2a3f5f"
          },
          "geo": {
           "bgcolor": "white",
           "lakecolor": "white",
           "landcolor": "#E5ECF6",
           "showlakes": true,
           "showland": true,
           "subunitcolor": "white"
          },
          "hoverlabel": {
           "align": "left"
          },
          "hovermode": "closest",
          "mapbox": {
           "style": "light"
          },
          "paper_bgcolor": "white",
          "plot_bgcolor": "#E5ECF6",
          "polar": {
           "angularaxis": {
            "gridcolor": "white",
            "linecolor": "white",
            "ticks": ""
           },
           "bgcolor": "#E5ECF6",
           "radialaxis": {
            "gridcolor": "white",
            "linecolor": "white",
            "ticks": ""
           }
          },
          "scene": {
           "xaxis": {
            "backgroundcolor": "#E5ECF6",
            "gridcolor": "white",
            "gridwidth": 2,
            "linecolor": "white",
            "showbackground": true,
            "ticks": "",
            "zerolinecolor": "white"
           },
           "yaxis": {
            "backgroundcolor": "#E5ECF6",
            "gridcolor": "white",
            "gridwidth": 2,
            "linecolor": "white",
            "showbackground": true,
            "ticks": "",
            "zerolinecolor": "white"
           },
           "zaxis": {
            "backgroundcolor": "#E5ECF6",
            "gridcolor": "white",
            "gridwidth": 2,
            "linecolor": "white",
            "showbackground": true,
            "ticks": "",
            "zerolinecolor": "white"
           }
          },
          "shapedefaults": {
           "line": {
            "color": "#2a3f5f"
           }
          },
          "ternary": {
           "aaxis": {
            "gridcolor": "white",
            "linecolor": "white",
            "ticks": ""
           },
           "baxis": {
            "gridcolor": "white",
            "linecolor": "white",
            "ticks": ""
           },
           "bgcolor": "#E5ECF6",
           "caxis": {
            "gridcolor": "white",
            "linecolor": "white",
            "ticks": ""
           }
          },
          "title": {
           "x": 0.05
          },
          "xaxis": {
           "automargin": true,
           "gridcolor": "white",
           "linecolor": "white",
           "ticks": "",
           "title": {
            "standoff": 15
           },
           "zerolinecolor": "white",
           "zerolinewidth": 2
          },
          "yaxis": {
           "automargin": true,
           "gridcolor": "white",
           "linecolor": "white",
           "ticks": "",
           "title": {
            "standoff": 15
           },
           "zerolinecolor": "white",
           "zerolinewidth": 2
          }
         }
        },
        "title": {
         "font": {
          "size": 18
         },
         "text": "Most similar and different tracks from centroid 8 profile (blue) of user '22e08d5e101ab5b86dc394856d508e175a5242a6'",
         "x": 0.5,
         "y": 0.99
        },
        "width": 1200
       }
      }
     },
     "metadata": {},
     "output_type": "display_data"
    },
    {
     "name": "stdout",
     "output_type": "stream",
     "text": [
      "['Tell Him - The Exciters',\n",
      " 'Introduction - Paul Horn',\n",
      " 'Cherry Pie - Sade',\n",
      " \"Jaden's Interlude - Will Smith\",\n",
      " 'Rocket To God - Daryl Hall & John Oates',\n",
      " '(Kanji) Ooioo - OOIOO',\n",
      " 'Something On Your Mind - Mighty Joe Young',\n",
      " 'Holmes Depot - George Lopez',\n",
      " 'Lady Love - Lou Rawls',\n",
      " '40 Break - Brotha Lynch Hung']\n"
     ]
    },
    {
     "data": {
      "application/vnd.plotly.v1+json": {
       "config": {
        "plotlyServerURL": "https://plot.ly"
       },
       "data": [
        {
         "fill": "toself",
         "line": {
          "color": "#636EFA"
         },
         "mode": "lines+markers",
         "name": "Cluster center centroid 9 profile",
         "r": [
          0.9820620006179933,
          0.2968229134317211,
          -0.16882538570551264,
          -0.023210435747233554,
          0.24586035003233542,
          -0.45408199003667415,
          -0.5926986190368779,
          1.3345145113097392,
          -0.9721178666956778
         ],
         "subplot": "polar",
         "theta": [
          "Danceability",
          "Energy",
          "Loudness",
          "Speechiness",
          "Acousticness",
          "instrumentalness",
          "Liveness",
          "Valence",
          "Tempo"
         ],
         "type": "scatterpolar"
        },
        {
         "fill": "toself",
         "line": {
          "color": "#EF553B"
         },
         "name": "Closest track rank 1",
         "r": [
          1.1981191369017619,
          0.3424884782558192,
          -0.01671786443219573,
          -0.13200024402708777,
          0.1160330328345774,
          -0.6235690916720154,
          -0.5758999279618607,
          1.3326426821136141,
          -1.144975598898908
         ],
         "subplot": "polar",
         "theta": [
          "Danceability",
          "Energy",
          "Loudness",
          "Speechiness",
          "Acousticness",
          "instrumentalness",
          "Liveness",
          "Valence",
          "Tempo"
         ],
         "type": "scatterpolar"
        },
        {
         "fill": "toself",
         "line": {
          "color": "#636EFA"
         },
         "mode": "lines+markers",
         "name": "Cluster center centroid 9 profile",
         "r": [
          0.9820620006179933,
          0.2968229134317211,
          -0.16882538570551264,
          -0.023210435747233554,
          0.24586035003233542,
          -0.45408199003667415,
          -0.5926986190368779,
          1.3345145113097392,
          -0.9721178666956778
         ],
         "showlegend": false,
         "subplot": "polar2",
         "theta": [
          "Danceability",
          "Energy",
          "Loudness",
          "Speechiness",
          "Acousticness",
          "instrumentalness",
          "Liveness",
          "Valence",
          "Tempo"
         ],
         "type": "scatterpolar"
        },
        {
         "fill": "toself",
         "line": {
          "color": "#B6E880"
         },
         "name": "Furthest track rank 1",
         "r": [
          -0.037260822491504184,
          -2.2378189585280235,
          -6.096761360070624,
          7.607646090666429,
          2.197140277195937,
          -0.6235690916720154,
          -0.3202160939447451,
          -1.8497772890596542,
          -0.8655393974126123
         ],
         "subplot": "polar2",
         "theta": [
          "Danceability",
          "Energy",
          "Loudness",
          "Speechiness",
          "Acousticness",
          "instrumentalness",
          "Liveness",
          "Valence",
          "Tempo"
         ],
         "type": "scatterpolar"
        },
        {
         "fill": "toself",
         "line": {
          "color": "#636EFA"
         },
         "mode": "lines+markers",
         "name": "Cluster center centroid 9 profile",
         "r": [
          0.9820620006179933,
          0.2968229134317211,
          -0.16882538570551264,
          -0.023210435747233554,
          0.24586035003233542,
          -0.45408199003667415,
          -0.5926986190368779,
          1.3345145113097392,
          -0.9721178666956778
         ],
         "showlegend": false,
         "subplot": "polar3",
         "theta": [
          "Danceability",
          "Energy",
          "Loudness",
          "Speechiness",
          "Acousticness",
          "instrumentalness",
          "Liveness",
          "Valence",
          "Tempo"
         ],
         "type": "scatterpolar"
        },
        {
         "fill": "toself",
         "line": {
          "color": "#EF553B"
         },
         "name": "Closest track rank 2",
         "r": [
          1.0192405907452706,
          0.46009592751670547,
          -0.17606749036363858,
          -0.42658537991500667,
          0.3201237878536703,
          -0.5980696706611404,
          -0.4480580109533029,
          1.2210463348777916,
          -0.8061965845880553
         ],
         "subplot": "polar3",
         "theta": [
          "Danceability",
          "Energy",
          "Loudness",
          "Speechiness",
          "Acousticness",
          "instrumentalness",
          "Liveness",
          "Valence",
          "Tempo"
         ],
         "type": "scatterpolar"
        },
        {
         "fill": "toself",
         "line": {
          "color": "#636EFA"
         },
         "mode": "lines+markers",
         "name": "Cluster center centroid 9 profile",
         "r": [
          0.9820620006179933,
          0.2968229134317211,
          -0.16882538570551264,
          -0.023210435747233554,
          0.24586035003233542,
          -0.45408199003667415,
          -0.5926986190368779,
          1.3345145113097392,
          -0.9721178666956778
         ],
         "showlegend": false,
         "subplot": "polar4",
         "theta": [
          "Danceability",
          "Energy",
          "Loudness",
          "Speechiness",
          "Acousticness",
          "instrumentalness",
          "Liveness",
          "Valence",
          "Tempo"
         ],
         "type": "scatterpolar"
        },
        {
         "fill": "toself",
         "line": {
          "color": "#B6E880"
         },
         "name": "Furthest track rank 2",
         "r": [
          1.0527803181496134,
          -1.8606910712314484,
          -2.8141140518642684,
          8.502461008551235,
          1.7796819146568825,
          -0.6235690916720154,
          3.6908240521987556,
          -1.0185769096480148,
          -2.3667530739111062
         ],
         "subplot": "polar4",
         "theta": [
          "Danceability",
          "Energy",
          "Loudness",
          "Speechiness",
          "Acousticness",
          "instrumentalness",
          "Liveness",
          "Valence",
          "Tempo"
         ],
         "type": "scatterpolar"
        },
        {
         "fill": "toself",
         "line": {
          "color": "#636EFA"
         },
         "mode": "lines+markers",
         "name": "Cluster center centroid 9 profile",
         "r": [
          0.9820620006179933,
          0.2968229134317211,
          -0.16882538570551264,
          -0.023210435747233554,
          0.24586035003233542,
          -0.45408199003667415,
          -0.5926986190368779,
          1.3345145113097392,
          -0.9721178666956778
         ],
         "showlegend": false,
         "subplot": "polar5",
         "theta": [
          "Danceability",
          "Energy",
          "Loudness",
          "Speechiness",
          "Acousticness",
          "instrumentalness",
          "Liveness",
          "Valence",
          "Tempo"
         ],
         "type": "scatterpolar"
        },
        {
         "fill": "toself",
         "line": {
          "color": "#EF553B"
         },
         "name": "Closest track rank 3",
         "r": [
          1.103089909256126,
          -0.037775607687712674,
          0.06655807002350222,
          -0.17422746487108975,
          -0.020027470511484693,
          -0.6177806926372886,
          -0.581226674503884,
          1.6404946744882951,
          -0.9183365584306532
         ],
         "subplot": "polar5",
         "theta": [
          "Danceability",
          "Energy",
          "Loudness",
          "Speechiness",
          "Acousticness",
          "instrumentalness",
          "Liveness",
          "Valence",
          "Tempo"
         ],
         "type": "scatterpolar"
        },
        {
         "fill": "toself",
         "line": {
          "color": "#636EFA"
         },
         "mode": "lines+markers",
         "name": "Cluster center centroid 9 profile",
         "r": [
          0.9820620006179933,
          0.2968229134317211,
          -0.16882538570551264,
          -0.023210435747233554,
          0.24586035003233542,
          -0.45408199003667415,
          -0.5926986190368779,
          1.3345145113097392,
          -0.9721178666956778
         ],
         "showlegend": false,
         "subplot": "polar6",
         "theta": [
          "Danceability",
          "Energy",
          "Loudness",
          "Speechiness",
          "Acousticness",
          "instrumentalness",
          "Liveness",
          "Valence",
          "Tempo"
         ],
         "type": "scatterpolar"
        },
        {
         "fill": "toself",
         "line": {
          "color": "#B6E880"
         },
         "name": "Furthest track rank 3",
         "r": [
          -2.854597924456238,
          -2.4412798457493565,
          -8.00310504882673,
          -0.7975816773301675,
          1.105563966260484,
          2.237118641806075,
          -0.5918801675879304,
          -1.8497772890596542,
          -4.040645696797743
         ],
         "subplot": "polar6",
         "theta": [
          "Danceability",
          "Energy",
          "Loudness",
          "Speechiness",
          "Acousticness",
          "instrumentalness",
          "Liveness",
          "Valence",
          "Tempo"
         ],
         "type": "scatterpolar"
        },
        {
         "fill": "toself",
         "line": {
          "color": "#636EFA"
         },
         "mode": "lines+markers",
         "name": "Cluster center centroid 9 profile",
         "r": [
          0.9820620006179933,
          0.2968229134317211,
          -0.16882538570551264,
          -0.023210435747233554,
          0.24586035003233542,
          -0.45408199003667415,
          -0.5926986190368779,
          1.3345145113097392,
          -0.9721178666956778
         ],
         "showlegend": false,
         "subplot": "polar7",
         "theta": [
          "Danceability",
          "Energy",
          "Loudness",
          "Speechiness",
          "Acousticness",
          "instrumentalness",
          "Liveness",
          "Valence",
          "Tempo"
         ],
         "type": "scatterpolar"
        },
        {
         "fill": "toself",
         "line": {
          "color": "#EF553B"
         },
         "name": "Closest track rank 4",
         "r": [
          1.2372488188734942,
          0.23664177392102154,
          -0.49049041045717845,
          -0.36927700876957537,
          0.032541360326766466,
          -0.6215614311647075,
          -0.7788489712129463,
          1.1902611356403239,
          -1.0463256485763384
         ],
         "subplot": "polar7",
         "theta": [
          "Danceability",
          "Energy",
          "Loudness",
          "Speechiness",
          "Acousticness",
          "instrumentalness",
          "Liveness",
          "Valence",
          "Tempo"
         ],
         "type": "scatterpolar"
        },
        {
         "fill": "toself",
         "line": {
          "color": "#636EFA"
         },
         "mode": "lines+markers",
         "name": "Cluster center centroid 9 profile",
         "r": [
          0.9820620006179933,
          0.2968229134317211,
          -0.16882538570551264,
          -0.023210435747233554,
          0.24586035003233542,
          -0.45408199003667415,
          -0.5926986190368779,
          1.3345145113097392,
          -0.9721178666956778
         ],
         "showlegend": false,
         "subplot": "polar8",
         "theta": [
          "Danceability",
          "Energy",
          "Loudness",
          "Speechiness",
          "Acousticness",
          "instrumentalness",
          "Liveness",
          "Valence",
          "Tempo"
         ],
         "type": "scatterpolar"
        },
        {
         "fill": "toself",
         "line": {
          "color": "#B6E880"
         },
         "name": "Furthest track rank 4",
         "r": [
          -0.6074361883653192,
          -0.2612297612833966,
          -1.5917583761104999,
          8.783975814177914,
          1.918834702169901,
          -0.6235690916720154,
          3.8346462088333833,
          -0.7492064163201687,
          -1.4840868797989244
         ],
         "subplot": "polar8",
         "theta": [
          "Danceability",
          "Energy",
          "Loudness",
          "Speechiness",
          "Acousticness",
          "instrumentalness",
          "Liveness",
          "Valence",
          "Tempo"
         ],
         "type": "scatterpolar"
        },
        {
         "fill": "toself",
         "line": {
          "color": "#636EFA"
         },
         "mode": "lines+markers",
         "name": "Cluster center centroid 9 profile",
         "r": [
          0.9820620006179933,
          0.2968229134317211,
          -0.16882538570551264,
          -0.023210435747233554,
          0.24586035003233542,
          -0.45408199003667415,
          -0.5926986190368779,
          1.3345145113097392,
          -0.9721178666956778
         ],
         "showlegend": false,
         "subplot": "polar9",
         "theta": [
          "Danceability",
          "Energy",
          "Loudness",
          "Speechiness",
          "Acousticness",
          "instrumentalness",
          "Liveness",
          "Valence",
          "Tempo"
         ],
         "type": "scatterpolar"
        },
        {
         "fill": "toself",
         "line": {
          "color": "#EF553B"
         },
         "name": "Closest track rank 5",
         "r": [
          0.8291821354539994,
          0.07983184157317318,
          0.21712996232312837,
          -0.20438976547394838,
          0.44072287036495295,
          -0.6195476776057842,
          -0.8571521453806878,
          1.1363870369747542,
          -0.9951565938451973
         ],
         "subplot": "polar9",
         "theta": [
          "Danceability",
          "Energy",
          "Loudness",
          "Speechiness",
          "Acousticness",
          "instrumentalness",
          "Liveness",
          "Valence",
          "Tempo"
         ],
         "type": "scatterpolar"
        },
        {
         "fill": "toself",
         "line": {
          "color": "#636EFA"
         },
         "mode": "lines+markers",
         "name": "Cluster center centroid 9 profile",
         "r": [
          0.9820620006179933,
          0.2968229134317211,
          -0.16882538570551264,
          -0.023210435747233554,
          0.24586035003233542,
          -0.45408199003667415,
          -0.5926986190368779,
          1.3345145113097392,
          -0.9721178666956778
         ],
         "showlegend": false,
         "subplot": "polar10",
         "theta": [
          "Danceability",
          "Energy",
          "Loudness",
          "Speechiness",
          "Acousticness",
          "instrumentalness",
          "Liveness",
          "Valence",
          "Tempo"
         ],
         "type": "scatterpolar"
        },
        {
         "fill": "toself",
         "line": {
          "color": "#B6E880"
         },
         "name": "Furthest track rank 5",
         "r": [
          0.8291821354539994,
          -1.833249333070575,
          -5.241044866015049,
          7.899214996494062,
          0.15932501117196085,
          -0.6235690916720154,
          1.9223442002470392,
          -1.4676560035245811,
          -1.4055058314618147
         ],
         "subplot": "polar10",
         "theta": [
          "Danceability",
          "Energy",
          "Loudness",
          "Speechiness",
          "Acousticness",
          "instrumentalness",
          "Liveness",
          "Valence",
          "Tempo"
         ],
         "type": "scatterpolar"
        }
       ],
       "layout": {
        "annotations": [
         {
          "font": {
           "size": 16
          },
          "showarrow": false,
          "text": "Tell Him - The Exciters",
          "x": 0.25,
          "xanchor": "center",
          "xref": "paper",
          "y": 1.03,
          "yanchor": "bottom",
          "yref": "paper"
         },
         {
          "font": {
           "size": 16
          },
          "showarrow": false,
          "text": "Introduction - Paul Horn",
          "x": 0.75,
          "xanchor": "center",
          "xref": "paper",
          "y": 1.03,
          "yanchor": "bottom",
          "yref": "paper"
         },
         {
          "font": {
           "size": 16
          },
          "showarrow": false,
          "text": "Cherry Pie - Sade",
          "x": 0.25,
          "xanchor": "center",
          "xref": "paper",
          "y": 0.82,
          "yanchor": "bottom",
          "yref": "paper"
         },
         {
          "font": {
           "size": 16
          },
          "showarrow": false,
          "text": "Jaden's Interlude - Will Smith",
          "x": 0.75,
          "xanchor": "center",
          "xref": "paper",
          "y": 0.82,
          "yanchor": "bottom",
          "yref": "paper"
         },
         {
          "font": {
           "size": 16
          },
          "showarrow": false,
          "text": "Rocket To God - Daryl Hall & John Oates",
          "x": 0.25,
          "xanchor": "center",
          "xref": "paper",
          "y": 0.6,
          "yanchor": "bottom",
          "yref": "paper"
         },
         {
          "font": {
           "size": 16
          },
          "showarrow": false,
          "text": "(Kanji) Ooioo - OOIOO",
          "x": 0.75,
          "xanchor": "center",
          "xref": "paper",
          "y": 0.6,
          "yanchor": "bottom",
          "yref": "paper"
         },
         {
          "font": {
           "size": 16
          },
          "showarrow": false,
          "text": "Something On Your Mind - Mighty Joe Young",
          "x": 0.25,
          "xanchor": "center",
          "xref": "paper",
          "y": 0.38,
          "yanchor": "bottom",
          "yref": "paper"
         },
         {
          "font": {
           "size": 16
          },
          "showarrow": false,
          "text": "Holmes Depot - George Lopez",
          "x": 0.75,
          "xanchor": "center",
          "xref": "paper",
          "y": 0.38,
          "yanchor": "bottom",
          "yref": "paper"
         },
         {
          "font": {
           "size": 16
          },
          "showarrow": false,
          "text": "Lady Love - Lou Rawls",
          "x": 0.25,
          "xanchor": "center",
          "xref": "paper",
          "y": 0.16,
          "yanchor": "bottom",
          "yref": "paper"
         },
         {
          "font": {
           "size": 16
          },
          "showarrow": false,
          "text": "40 Break - Brotha Lynch Hung",
          "x": 0.75,
          "xanchor": "center",
          "xref": "paper",
          "y": 0.16,
          "yanchor": "bottom",
          "yref": "paper"
         },
         {
          "font": {
           "color": "black",
           "size": 20
          },
          "showarrow": false,
          "text": "Closest tracks from centroid 9",
          "x": 0.12,
          "y": 1.09
         },
         {
          "font": {
           "color": "black",
           "size": 22
          },
          "showarrow": false,
          "text": "Furthest tracks from centroid 9",
          "x": 0.9,
          "y": 1.09
         },
         {
          "font": {
           "color": "black",
           "size": 22
          },
          "showarrow": false,
          "text": "Rank",
          "x": 0.005,
          "y": 1.09
         },
         {
          "font": {
           "color": "black",
           "size": 22
          },
          "showarrow": false,
          "text": "1",
          "x": 0.01,
          "y": 1.05
         },
         {
          "font": {
           "color": "black",
           "size": 22
          },
          "showarrow": false,
          "text": "2",
          "x": 0.01,
          "y": 0.84
         },
         {
          "font": {
           "color": "black",
           "size": 22
          },
          "showarrow": false,
          "text": "3",
          "x": 0.01,
          "y": 0.608
         },
         {
          "font": {
           "color": "black",
           "size": 22
          },
          "showarrow": false,
          "text": "4",
          "x": 0.01,
          "y": 0.389
         },
         {
          "font": {
           "color": "black",
           "size": 22
          },
          "showarrow": false,
          "text": "5",
          "x": 0.01,
          "y": 0.159
         }
        ],
        "height": 1600,
        "margin": {
         "b": 50,
         "l": 50,
         "r": 50,
         "t": 200
        },
        "polar": {
         "domain": {
          "x": [
           0,
           0.5
          ],
          "y": [
           0.88,
           1
          ]
         },
         "radialaxis": {
          "range": [
           -1.144975598898908,
           1.6404946744882951
          ],
          "showticklabels": false,
          "ticks": ""
         }
        },
        "polar10": {
         "domain": {
          "x": [
           0.5,
           1
          ],
          "y": [
           0,
           0.12
          ]
         },
         "radialaxis": {
          "range": [
           -8.00310504882673,
           8.783975814177914
          ],
          "showticklabels": false,
          "ticks": ""
         }
        },
        "polar2": {
         "domain": {
          "x": [
           0.5,
           1
          ],
          "y": [
           0.88,
           1
          ]
         },
         "radialaxis": {
          "range": [
           -8.00310504882673,
           8.783975814177914
          ],
          "showticklabels": false,
          "ticks": ""
         }
        },
        "polar3": {
         "domain": {
          "x": [
           0,
           0.5
          ],
          "y": [
           0.66,
           0.78
          ]
         },
         "radialaxis": {
          "range": [
           -1.144975598898908,
           1.6404946744882951
          ],
          "showticklabels": false,
          "ticks": ""
         }
        },
        "polar4": {
         "domain": {
          "x": [
           0.5,
           1
          ],
          "y": [
           0.66,
           0.78
          ]
         },
         "radialaxis": {
          "range": [
           -8.00310504882673,
           8.783975814177914
          ],
          "showticklabels": false,
          "ticks": ""
         }
        },
        "polar5": {
         "domain": {
          "x": [
           0,
           0.5
          ],
          "y": [
           0.44,
           0.56
          ]
         },
         "radialaxis": {
          "range": [
           -1.144975598898908,
           1.6404946744882951
          ],
          "showticklabels": false,
          "ticks": ""
         }
        },
        "polar6": {
         "domain": {
          "x": [
           0.5,
           1
          ],
          "y": [
           0.44,
           0.56
          ]
         },
         "radialaxis": {
          "range": [
           -8.00310504882673,
           8.783975814177914
          ],
          "showticklabels": false,
          "ticks": ""
         }
        },
        "polar7": {
         "domain": {
          "x": [
           0,
           0.5
          ],
          "y": [
           0.22,
           0.33999999999999997
          ]
         },
         "radialaxis": {
          "range": [
           -1.144975598898908,
           1.6404946744882951
          ],
          "showticklabels": false,
          "ticks": ""
         }
        },
        "polar8": {
         "domain": {
          "x": [
           0.5,
           1
          ],
          "y": [
           0.22,
           0.33999999999999997
          ]
         },
         "radialaxis": {
          "range": [
           -8.00310504882673,
           8.783975814177914
          ],
          "showticklabels": false,
          "ticks": ""
         }
        },
        "polar9": {
         "domain": {
          "x": [
           0,
           0.5
          ],
          "y": [
           0,
           0.12
          ]
         },
         "radialaxis": {
          "range": [
           -1.144975598898908,
           1.6404946744882951
          ],
          "showticklabels": false,
          "ticks": ""
         }
        },
        "showlegend": false,
        "template": {
         "data": {
          "bar": [
           {
            "error_x": {
             "color": "#2a3f5f"
            },
            "error_y": {
             "color": "#2a3f5f"
            },
            "marker": {
             "line": {
              "color": "#E5ECF6",
              "width": 0.5
             },
             "pattern": {
              "fillmode": "overlay",
              "size": 10,
              "solidity": 0.2
             }
            },
            "type": "bar"
           }
          ],
          "barpolar": [
           {
            "marker": {
             "line": {
              "color": "#E5ECF6",
              "width": 0.5
             },
             "pattern": {
              "fillmode": "overlay",
              "size": 10,
              "solidity": 0.2
             }
            },
            "type": "barpolar"
           }
          ],
          "carpet": [
           {
            "aaxis": {
             "endlinecolor": "#2a3f5f",
             "gridcolor": "white",
             "linecolor": "white",
             "minorgridcolor": "white",
             "startlinecolor": "#2a3f5f"
            },
            "baxis": {
             "endlinecolor": "#2a3f5f",
             "gridcolor": "white",
             "linecolor": "white",
             "minorgridcolor": "white",
             "startlinecolor": "#2a3f5f"
            },
            "type": "carpet"
           }
          ],
          "choropleth": [
           {
            "colorbar": {
             "outlinewidth": 0,
             "ticks": ""
            },
            "type": "choropleth"
           }
          ],
          "contour": [
           {
            "colorbar": {
             "outlinewidth": 0,
             "ticks": ""
            },
            "colorscale": [
             [
              0,
              "#0d0887"
             ],
             [
              0.1111111111111111,
              "#46039f"
             ],
             [
              0.2222222222222222,
              "#7201a8"
             ],
             [
              0.3333333333333333,
              "#9c179e"
             ],
             [
              0.4444444444444444,
              "#bd3786"
             ],
             [
              0.5555555555555556,
              "#d8576b"
             ],
             [
              0.6666666666666666,
              "#ed7953"
             ],
             [
              0.7777777777777778,
              "#fb9f3a"
             ],
             [
              0.8888888888888888,
              "#fdca26"
             ],
             [
              1,
              "#f0f921"
             ]
            ],
            "type": "contour"
           }
          ],
          "contourcarpet": [
           {
            "colorbar": {
             "outlinewidth": 0,
             "ticks": ""
            },
            "type": "contourcarpet"
           }
          ],
          "heatmap": [
           {
            "colorbar": {
             "outlinewidth": 0,
             "ticks": ""
            },
            "colorscale": [
             [
              0,
              "#0d0887"
             ],
             [
              0.1111111111111111,
              "#46039f"
             ],
             [
              0.2222222222222222,
              "#7201a8"
             ],
             [
              0.3333333333333333,
              "#9c179e"
             ],
             [
              0.4444444444444444,
              "#bd3786"
             ],
             [
              0.5555555555555556,
              "#d8576b"
             ],
             [
              0.6666666666666666,
              "#ed7953"
             ],
             [
              0.7777777777777778,
              "#fb9f3a"
             ],
             [
              0.8888888888888888,
              "#fdca26"
             ],
             [
              1,
              "#f0f921"
             ]
            ],
            "type": "heatmap"
           }
          ],
          "heatmapgl": [
           {
            "colorbar": {
             "outlinewidth": 0,
             "ticks": ""
            },
            "colorscale": [
             [
              0,
              "#0d0887"
             ],
             [
              0.1111111111111111,
              "#46039f"
             ],
             [
              0.2222222222222222,
              "#7201a8"
             ],
             [
              0.3333333333333333,
              "#9c179e"
             ],
             [
              0.4444444444444444,
              "#bd3786"
             ],
             [
              0.5555555555555556,
              "#d8576b"
             ],
             [
              0.6666666666666666,
              "#ed7953"
             ],
             [
              0.7777777777777778,
              "#fb9f3a"
             ],
             [
              0.8888888888888888,
              "#fdca26"
             ],
             [
              1,
              "#f0f921"
             ]
            ],
            "type": "heatmapgl"
           }
          ],
          "histogram": [
           {
            "marker": {
             "pattern": {
              "fillmode": "overlay",
              "size": 10,
              "solidity": 0.2
             }
            },
            "type": "histogram"
           }
          ],
          "histogram2d": [
           {
            "colorbar": {
             "outlinewidth": 0,
             "ticks": ""
            },
            "colorscale": [
             [
              0,
              "#0d0887"
             ],
             [
              0.1111111111111111,
              "#46039f"
             ],
             [
              0.2222222222222222,
              "#7201a8"
             ],
             [
              0.3333333333333333,
              "#9c179e"
             ],
             [
              0.4444444444444444,
              "#bd3786"
             ],
             [
              0.5555555555555556,
              "#d8576b"
             ],
             [
              0.6666666666666666,
              "#ed7953"
             ],
             [
              0.7777777777777778,
              "#fb9f3a"
             ],
             [
              0.8888888888888888,
              "#fdca26"
             ],
             [
              1,
              "#f0f921"
             ]
            ],
            "type": "histogram2d"
           }
          ],
          "histogram2dcontour": [
           {
            "colorbar": {
             "outlinewidth": 0,
             "ticks": ""
            },
            "colorscale": [
             [
              0,
              "#0d0887"
             ],
             [
              0.1111111111111111,
              "#46039f"
             ],
             [
              0.2222222222222222,
              "#7201a8"
             ],
             [
              0.3333333333333333,
              "#9c179e"
             ],
             [
              0.4444444444444444,
              "#bd3786"
             ],
             [
              0.5555555555555556,
              "#d8576b"
             ],
             [
              0.6666666666666666,
              "#ed7953"
             ],
             [
              0.7777777777777778,
              "#fb9f3a"
             ],
             [
              0.8888888888888888,
              "#fdca26"
             ],
             [
              1,
              "#f0f921"
             ]
            ],
            "type": "histogram2dcontour"
           }
          ],
          "mesh3d": [
           {
            "colorbar": {
             "outlinewidth": 0,
             "ticks": ""
            },
            "type": "mesh3d"
           }
          ],
          "parcoords": [
           {
            "line": {
             "colorbar": {
              "outlinewidth": 0,
              "ticks": ""
             }
            },
            "type": "parcoords"
           }
          ],
          "pie": [
           {
            "automargin": true,
            "type": "pie"
           }
          ],
          "scatter": [
           {
            "fillpattern": {
             "fillmode": "overlay",
             "size": 10,
             "solidity": 0.2
            },
            "type": "scatter"
           }
          ],
          "scatter3d": [
           {
            "line": {
             "colorbar": {
              "outlinewidth": 0,
              "ticks": ""
             }
            },
            "marker": {
             "colorbar": {
              "outlinewidth": 0,
              "ticks": ""
             }
            },
            "type": "scatter3d"
           }
          ],
          "scattercarpet": [
           {
            "marker": {
             "colorbar": {
              "outlinewidth": 0,
              "ticks": ""
             }
            },
            "type": "scattercarpet"
           }
          ],
          "scattergeo": [
           {
            "marker": {
             "colorbar": {
              "outlinewidth": 0,
              "ticks": ""
             }
            },
            "type": "scattergeo"
           }
          ],
          "scattergl": [
           {
            "marker": {
             "colorbar": {
              "outlinewidth": 0,
              "ticks": ""
             }
            },
            "type": "scattergl"
           }
          ],
          "scattermapbox": [
           {
            "marker": {
             "colorbar": {
              "outlinewidth": 0,
              "ticks": ""
             }
            },
            "type": "scattermapbox"
           }
          ],
          "scatterpolar": [
           {
            "marker": {
             "colorbar": {
              "outlinewidth": 0,
              "ticks": ""
             }
            },
            "type": "scatterpolar"
           }
          ],
          "scatterpolargl": [
           {
            "marker": {
             "colorbar": {
              "outlinewidth": 0,
              "ticks": ""
             }
            },
            "type": "scatterpolargl"
           }
          ],
          "scatterternary": [
           {
            "marker": {
             "colorbar": {
              "outlinewidth": 0,
              "ticks": ""
             }
            },
            "type": "scatterternary"
           }
          ],
          "surface": [
           {
            "colorbar": {
             "outlinewidth": 0,
             "ticks": ""
            },
            "colorscale": [
             [
              0,
              "#0d0887"
             ],
             [
              0.1111111111111111,
              "#46039f"
             ],
             [
              0.2222222222222222,
              "#7201a8"
             ],
             [
              0.3333333333333333,
              "#9c179e"
             ],
             [
              0.4444444444444444,
              "#bd3786"
             ],
             [
              0.5555555555555556,
              "#d8576b"
             ],
             [
              0.6666666666666666,
              "#ed7953"
             ],
             [
              0.7777777777777778,
              "#fb9f3a"
             ],
             [
              0.8888888888888888,
              "#fdca26"
             ],
             [
              1,
              "#f0f921"
             ]
            ],
            "type": "surface"
           }
          ],
          "table": [
           {
            "cells": {
             "fill": {
              "color": "#EBF0F8"
             },
             "line": {
              "color": "white"
             }
            },
            "header": {
             "fill": {
              "color": "#C8D4E3"
             },
             "line": {
              "color": "white"
             }
            },
            "type": "table"
           }
          ]
         },
         "layout": {
          "annotationdefaults": {
           "arrowcolor": "#2a3f5f",
           "arrowhead": 0,
           "arrowwidth": 1
          },
          "autotypenumbers": "strict",
          "coloraxis": {
           "colorbar": {
            "outlinewidth": 0,
            "ticks": ""
           }
          },
          "colorscale": {
           "diverging": [
            [
             0,
             "#8e0152"
            ],
            [
             0.1,
             "#c51b7d"
            ],
            [
             0.2,
             "#de77ae"
            ],
            [
             0.3,
             "#f1b6da"
            ],
            [
             0.4,
             "#fde0ef"
            ],
            [
             0.5,
             "#f7f7f7"
            ],
            [
             0.6,
             "#e6f5d0"
            ],
            [
             0.7,
             "#b8e186"
            ],
            [
             0.8,
             "#7fbc41"
            ],
            [
             0.9,
             "#4d9221"
            ],
            [
             1,
             "#276419"
            ]
           ],
           "sequential": [
            [
             0,
             "#0d0887"
            ],
            [
             0.1111111111111111,
             "#46039f"
            ],
            [
             0.2222222222222222,
             "#7201a8"
            ],
            [
             0.3333333333333333,
             "#9c179e"
            ],
            [
             0.4444444444444444,
             "#bd3786"
            ],
            [
             0.5555555555555556,
             "#d8576b"
            ],
            [
             0.6666666666666666,
             "#ed7953"
            ],
            [
             0.7777777777777778,
             "#fb9f3a"
            ],
            [
             0.8888888888888888,
             "#fdca26"
            ],
            [
             1,
             "#f0f921"
            ]
           ],
           "sequentialminus": [
            [
             0,
             "#0d0887"
            ],
            [
             0.1111111111111111,
             "#46039f"
            ],
            [
             0.2222222222222222,
             "#7201a8"
            ],
            [
             0.3333333333333333,
             "#9c179e"
            ],
            [
             0.4444444444444444,
             "#bd3786"
            ],
            [
             0.5555555555555556,
             "#d8576b"
            ],
            [
             0.6666666666666666,
             "#ed7953"
            ],
            [
             0.7777777777777778,
             "#fb9f3a"
            ],
            [
             0.8888888888888888,
             "#fdca26"
            ],
            [
             1,
             "#f0f921"
            ]
           ]
          },
          "colorway": [
           "#636efa",
           "#EF553B",
           "#00cc96",
           "#ab63fa",
           "#FFA15A",
           "#19d3f3",
           "#FF6692",
           "#B6E880",
           "#FF97FF",
           "#FECB52"
          ],
          "font": {
           "color": "#2a3f5f"
          },
          "geo": {
           "bgcolor": "white",
           "lakecolor": "white",
           "landcolor": "#E5ECF6",
           "showlakes": true,
           "showland": true,
           "subunitcolor": "white"
          },
          "hoverlabel": {
           "align": "left"
          },
          "hovermode": "closest",
          "mapbox": {
           "style": "light"
          },
          "paper_bgcolor": "white",
          "plot_bgcolor": "#E5ECF6",
          "polar": {
           "angularaxis": {
            "gridcolor": "white",
            "linecolor": "white",
            "ticks": ""
           },
           "bgcolor": "#E5ECF6",
           "radialaxis": {
            "gridcolor": "white",
            "linecolor": "white",
            "ticks": ""
           }
          },
          "scene": {
           "xaxis": {
            "backgroundcolor": "#E5ECF6",
            "gridcolor": "white",
            "gridwidth": 2,
            "linecolor": "white",
            "showbackground": true,
            "ticks": "",
            "zerolinecolor": "white"
           },
           "yaxis": {
            "backgroundcolor": "#E5ECF6",
            "gridcolor": "white",
            "gridwidth": 2,
            "linecolor": "white",
            "showbackground": true,
            "ticks": "",
            "zerolinecolor": "white"
           },
           "zaxis": {
            "backgroundcolor": "#E5ECF6",
            "gridcolor": "white",
            "gridwidth": 2,
            "linecolor": "white",
            "showbackground": true,
            "ticks": "",
            "zerolinecolor": "white"
           }
          },
          "shapedefaults": {
           "line": {
            "color": "#2a3f5f"
           }
          },
          "ternary": {
           "aaxis": {
            "gridcolor": "white",
            "linecolor": "white",
            "ticks": ""
           },
           "baxis": {
            "gridcolor": "white",
            "linecolor": "white",
            "ticks": ""
           },
           "bgcolor": "#E5ECF6",
           "caxis": {
            "gridcolor": "white",
            "linecolor": "white",
            "ticks": ""
           }
          },
          "title": {
           "x": 0.05
          },
          "xaxis": {
           "automargin": true,
           "gridcolor": "white",
           "linecolor": "white",
           "ticks": "",
           "title": {
            "standoff": 15
           },
           "zerolinecolor": "white",
           "zerolinewidth": 2
          },
          "yaxis": {
           "automargin": true,
           "gridcolor": "white",
           "linecolor": "white",
           "ticks": "",
           "title": {
            "standoff": 15
           },
           "zerolinecolor": "white",
           "zerolinewidth": 2
          }
         }
        },
        "title": {
         "font": {
          "size": 18
         },
         "text": "Most similar and different tracks from centroid 9 profile (blue) of user '22e08d5e101ab5b86dc394856d508e175a5242a6'",
         "x": 0.5,
         "y": 0.99
        },
        "width": 1200
       }
      }
     },
     "metadata": {},
     "output_type": "display_data"
    },
    {
     "name": "stdout",
     "output_type": "stream",
     "text": [
      "['Scottish And Proud - The Real McKenzies',\n",
      " 'Intro - Swell',\n",
      " 'Demonica - Dwarves',\n",
      " 'Introduction - Paul Horn',\n",
      " 'The Truth of Trumpets - Alove For Enemies',\n",
      " \"Jaden's Interlude - Will Smith\",\n",
      " 'Machine Gun Kelly - Angelic Upstarts',\n",
      " '(Kanji) Ooioo - OOIOO',\n",
      " 'Mind is Ugly - War Tapes',\n",
      " '40 Break - Brotha Lynch Hung']\n"
     ]
    },
    {
     "data": {
      "application/vnd.plotly.v1+json": {
       "config": {
        "plotlyServerURL": "https://plot.ly"
       },
       "data": [
        {
         "fill": "toself",
         "line": {
          "color": "#636EFA"
         },
         "mode": "lines+markers",
         "name": "Cluster center centroid 10 profile",
         "r": [
          -1.1179504937711489,
          1.3223940431620118,
          0.6452789562318806,
          0.146097252319302,
          -0.8175881736108357,
          -0.4557954059426392,
          -0.23515093979639834,
          -0.9395704422899307,
          0.36895657257345377
         ],
         "subplot": "polar",
         "theta": [
          "Danceability",
          "Energy",
          "Loudness",
          "Speechiness",
          "Acousticness",
          "instrumentalness",
          "Liveness",
          "Valence",
          "Tempo"
         ],
         "type": "scatterpolar"
        },
        {
         "fill": "toself",
         "line": {
          "color": "#EF553B"
         },
         "name": "Closest track rank 1",
         "r": [
          -1.2614608727499899,
          1.0794951602907061,
          0.7071075550530043,
          0.05400060969054029,
          -0.8311026846623629,
          -0.6235690916720154,
          -0.2722753750665359,
          -1.1917436553587728,
          0.5860668773238084
         ],
         "subplot": "polar",
         "theta": [
          "Danceability",
          "Energy",
          "Loudness",
          "Speechiness",
          "Acousticness",
          "instrumentalness",
          "Liveness",
          "Valence",
          "Tempo"
         ],
         "type": "scatterpolar"
        },
        {
         "fill": "toself",
         "line": {
          "color": "#636EFA"
         },
         "mode": "lines+markers",
         "name": "Cluster center centroid 10 profile",
         "r": [
          -1.1179504937711489,
          1.3223940431620118,
          0.6452789562318806,
          0.146097252319302,
          -0.8175881736108357,
          -0.4557954059426392,
          -0.23515093979639834,
          -0.9395704422899307,
          0.36895657257345377
         ],
         "showlegend": false,
         "subplot": "polar2",
         "theta": [
          "Danceability",
          "Energy",
          "Loudness",
          "Speechiness",
          "Acousticness",
          "instrumentalness",
          "Liveness",
          "Valence",
          "Tempo"
         ],
         "type": "scatterpolar"
        },
        {
         "fill": "toself",
         "line": {
          "color": "#B6E880"
         },
         "name": "Furthest track rank 1",
         "r": [
          1.6397255477255994,
          -1.8998935543184103,
          -4.23880774133607,
          8.442136407345517,
          1.8013279038255745,
          -0.6235690916720154,
          1.7305813247342028,
          0.48604970308324014,
          -2.330469562374479
         ],
         "subplot": "polar2",
         "theta": [
          "Danceability",
          "Energy",
          "Loudness",
          "Speechiness",
          "Acousticness",
          "instrumentalness",
          "Liveness",
          "Valence",
          "Tempo"
         ],
         "type": "scatterpolar"
        },
        {
         "fill": "toself",
         "line": {
          "color": "#636EFA"
         },
         "mode": "lines+markers",
         "name": "Cluster center centroid 10 profile",
         "r": [
          -1.1179504937711489,
          1.3223940431620118,
          0.6452789562318806,
          0.146097252319302,
          -0.8175881736108357,
          -0.4557954059426392,
          -0.23515093979639834,
          -0.9395704422899307,
          0.36895657257345377
         ],
         "showlegend": false,
         "subplot": "polar3",
         "theta": [
          "Danceability",
          "Energy",
          "Loudness",
          "Speechiness",
          "Acousticness",
          "instrumentalness",
          "Liveness",
          "Valence",
          "Tempo"
         ],
         "type": "scatterpolar"
        },
        {
         "fill": "toself",
         "line": {
          "color": "#EF553B"
         },
         "name": "Closest track rank 2",
         "r": [
          -0.9316535532739595,
          1.3068695621950859,
          0.7696770409413392,
          0.17867145218235592,
          -0.843100747230152,
          -0.6235288775313531,
          0.12190386904318389,
          -0.8838916629840916,
          0.6257395080699004
         ],
         "subplot": "polar3",
         "theta": [
          "Danceability",
          "Energy",
          "Loudness",
          "Speechiness",
          "Acousticness",
          "instrumentalness",
          "Liveness",
          "Valence",
          "Tempo"
         ],
         "type": "scatterpolar"
        },
        {
         "fill": "toself",
         "line": {
          "color": "#636EFA"
         },
         "mode": "lines+markers",
         "name": "Cluster center centroid 10 profile",
         "r": [
          -1.1179504937711489,
          1.3223940431620118,
          0.6452789562318806,
          0.146097252319302,
          -0.8175881736108357,
          -0.4557954059426392,
          -0.23515093979639834,
          -0.9395704422899307,
          0.36895657257345377
         ],
         "showlegend": false,
         "subplot": "polar4",
         "theta": [
          "Danceability",
          "Energy",
          "Loudness",
          "Speechiness",
          "Acousticness",
          "instrumentalness",
          "Liveness",
          "Valence",
          "Tempo"
         ],
         "type": "scatterpolar"
        },
        {
         "fill": "toself",
         "line": {
          "color": "#B6E880"
         },
         "name": "Furthest track rank 2",
         "r": [
          -0.037260822491504184,
          -2.2378189585280235,
          -6.096761360070624,
          7.607646090666429,
          2.197140277195937,
          -0.6235690916720154,
          -0.3202160939447451,
          -1.8497772890596542,
          -0.8655393974126123
         ],
         "subplot": "polar4",
         "theta": [
          "Danceability",
          "Energy",
          "Loudness",
          "Speechiness",
          "Acousticness",
          "instrumentalness",
          "Liveness",
          "Valence",
          "Tempo"
         ],
         "type": "scatterpolar"
        },
        {
         "fill": "toself",
         "line": {
          "color": "#636EFA"
         },
         "mode": "lines+markers",
         "name": "Cluster center centroid 10 profile",
         "r": [
          -1.1179504937711489,
          1.3223940431620118,
          0.6452789562318806,
          0.146097252319302,
          -0.8175881736108357,
          -0.4557954059426392,
          -0.23515093979639834,
          -0.9395704422899307,
          0.36895657257345377
         ],
         "showlegend": false,
         "subplot": "polar5",
         "theta": [
          "Danceability",
          "Energy",
          "Loudness",
          "Speechiness",
          "Acousticness",
          "instrumentalness",
          "Liveness",
          "Valence",
          "Tempo"
         ],
         "type": "scatterpolar"
        },
        {
         "fill": "toself",
         "line": {
          "color": "#EF553B"
         },
         "name": "Closest track rank 3",
         "r": [
          -1.166431645104354,
          1.07557491198201,
          0.6661447981045258,
          0.24804474356893058,
          -0.8466785200113202,
          -0.6234563702171285,
          -0.559919688335791,
          -1.083995458027635,
          0.6328500130779939
         ],
         "subplot": "polar5",
         "theta": [
          "Danceability",
          "Energy",
          "Loudness",
          "Speechiness",
          "Acousticness",
          "instrumentalness",
          "Liveness",
          "Valence",
          "Tempo"
         ],
         "type": "scatterpolar"
        },
        {
         "fill": "toself",
         "line": {
          "color": "#636EFA"
         },
         "mode": "lines+markers",
         "name": "Cluster center centroid 10 profile",
         "r": [
          -1.1179504937711489,
          1.3223940431620118,
          0.6452789562318806,
          0.146097252319302,
          -0.8175881736108357,
          -0.4557954059426392,
          -0.23515093979639834,
          -0.9395704422899307,
          0.36895657257345377
         ],
         "showlegend": false,
         "subplot": "polar6",
         "theta": [
          "Danceability",
          "Energy",
          "Loudness",
          "Speechiness",
          "Acousticness",
          "instrumentalness",
          "Liveness",
          "Valence",
          "Tempo"
         ],
         "type": "scatterpolar"
        },
        {
         "fill": "toself",
         "line": {
          "color": "#B6E880"
         },
         "name": "Furthest track rank 3",
         "r": [
          1.0527803181496134,
          -1.8606910712314484,
          -2.8141140518642684,
          8.502461008551235,
          1.7796819146568825,
          -0.6235690916720154,
          3.6908240521987556,
          -1.0185769096480148,
          -2.3667530739111062
         ],
         "subplot": "polar6",
         "theta": [
          "Danceability",
          "Energy",
          "Loudness",
          "Speechiness",
          "Acousticness",
          "instrumentalness",
          "Liveness",
          "Valence",
          "Tempo"
         ],
         "type": "scatterpolar"
        },
        {
         "fill": "toself",
         "line": {
          "color": "#636EFA"
         },
         "mode": "lines+markers",
         "name": "Cluster center centroid 10 profile",
         "r": [
          -1.1179504937711489,
          1.3223940431620118,
          0.6452789562318806,
          0.146097252319302,
          -0.8175881736108357,
          -0.4557954059426392,
          -0.23515093979639834,
          -0.9395704422899307,
          0.36895657257345377
         ],
         "showlegend": false,
         "subplot": "polar7",
         "theta": [
          "Danceability",
          "Energy",
          "Loudness",
          "Speechiness",
          "Acousticness",
          "instrumentalness",
          "Liveness",
          "Valence",
          "Tempo"
         ],
         "type": "scatterpolar"
        },
        {
         "fill": "toself",
         "line": {
          "color": "#EF553B"
         },
         "name": "Closest track rank 4",
         "r": [
          -1.0043229626500338,
          1.114777395068972,
          0.506119961893712,
          0.12538472111730573,
          -0.7856770302497799,
          -0.5977040875642102,
          -0.059205513385606194,
          -0.5298618717532084,
          0.4617991729767514
         ],
         "subplot": "polar7",
         "theta": [
          "Danceability",
          "Energy",
          "Loudness",
          "Speechiness",
          "Acousticness",
          "instrumentalness",
          "Liveness",
          "Valence",
          "Tempo"
         ],
         "type": "scatterpolar"
        },
        {
         "fill": "toself",
         "line": {
          "color": "#636EFA"
         },
         "mode": "lines+markers",
         "name": "Cluster center centroid 10 profile",
         "r": [
          -1.1179504937711489,
          1.3223940431620118,
          0.6452789562318806,
          0.146097252319302,
          -0.8175881736108357,
          -0.4557954059426392,
          -0.23515093979639834,
          -0.9395704422899307,
          0.36895657257345377
         ],
         "showlegend": false,
         "subplot": "polar8",
         "theta": [
          "Danceability",
          "Energy",
          "Loudness",
          "Speechiness",
          "Acousticness",
          "instrumentalness",
          "Liveness",
          "Valence",
          "Tempo"
         ],
         "type": "scatterpolar"
        },
        {
         "fill": "toself",
         "line": {
          "color": "#B6E880"
         },
         "name": "Furthest track rank 4",
         "r": [
          -2.854597924456238,
          -2.4412798457493565,
          -8.00310504882673,
          -0.7975816773301675,
          1.105563966260484,
          2.237118641806075,
          -0.5918801675879304,
          -1.8497772890596542,
          -4.040645696797743
         ],
         "subplot": "polar8",
         "theta": [
          "Danceability",
          "Energy",
          "Loudness",
          "Speechiness",
          "Acousticness",
          "instrumentalness",
          "Liveness",
          "Valence",
          "Tempo"
         ],
         "type": "scatterpolar"
        },
        {
         "fill": "toself",
         "line": {
          "color": "#636EFA"
         },
         "mode": "lines+markers",
         "name": "Cluster center centroid 10 profile",
         "r": [
          -1.1179504937711489,
          1.3223940431620118,
          0.6452789562318806,
          0.146097252319302,
          -0.8175881736108357,
          -0.4557954059426392,
          -0.23515093979639834,
          -0.9395704422899307,
          0.36895657257345377
         ],
         "showlegend": false,
         "subplot": "polar9",
         "theta": [
          "Danceability",
          "Energy",
          "Loudness",
          "Speechiness",
          "Acousticness",
          "instrumentalness",
          "Liveness",
          "Valence",
          "Tempo"
         ],
         "type": "scatterpolar"
        },
        {
         "fill": "toself",
         "line": {
          "color": "#EF553B"
         },
         "name": "Closest track rank 5",
         "r": [
          -1.0769923720261083,
          1.2559063341820351,
          0.9116962697022724,
          0.013784208886728785,
          -0.8469939329963496,
          -0.6235497462331362,
          -0.22966140273034993,
          -1.2071362549775073,
          0.7108329815546097
         ],
         "subplot": "polar9",
         "theta": [
          "Danceability",
          "Energy",
          "Loudness",
          "Speechiness",
          "Acousticness",
          "instrumentalness",
          "Liveness",
          "Valence",
          "Tempo"
         ],
         "type": "scatterpolar"
        },
        {
         "fill": "toself",
         "line": {
          "color": "#636EFA"
         },
         "mode": "lines+markers",
         "name": "Cluster center centroid 10 profile",
         "r": [
          -1.1179504937711489,
          1.3223940431620118,
          0.6452789562318806,
          0.146097252319302,
          -0.8175881736108357,
          -0.4557954059426392,
          -0.23515093979639834,
          -0.9395704422899307,
          0.36895657257345377
         ],
         "showlegend": false,
         "subplot": "polar10",
         "theta": [
          "Danceability",
          "Energy",
          "Loudness",
          "Speechiness",
          "Acousticness",
          "instrumentalness",
          "Liveness",
          "Valence",
          "Tempo"
         ],
         "type": "scatterpolar"
        },
        {
         "fill": "toself",
         "line": {
          "color": "#B6E880"
         },
         "name": "Furthest track rank 5",
         "r": [
          0.8291821354539994,
          -1.833249333070575,
          -5.241044866015049,
          7.899214996494062,
          0.15932501117196085,
          -0.6235690916720154,
          1.9223442002470392,
          -1.4676560035245811,
          -1.4055058314618147
         ],
         "subplot": "polar10",
         "theta": [
          "Danceability",
          "Energy",
          "Loudness",
          "Speechiness",
          "Acousticness",
          "instrumentalness",
          "Liveness",
          "Valence",
          "Tempo"
         ],
         "type": "scatterpolar"
        }
       ],
       "layout": {
        "annotations": [
         {
          "font": {
           "size": 16
          },
          "showarrow": false,
          "text": "Scottish And Proud - The Real McKenzies",
          "x": 0.25,
          "xanchor": "center",
          "xref": "paper",
          "y": 1.03,
          "yanchor": "bottom",
          "yref": "paper"
         },
         {
          "font": {
           "size": 16
          },
          "showarrow": false,
          "text": "Intro - Swell",
          "x": 0.75,
          "xanchor": "center",
          "xref": "paper",
          "y": 1.03,
          "yanchor": "bottom",
          "yref": "paper"
         },
         {
          "font": {
           "size": 16
          },
          "showarrow": false,
          "text": "Demonica - Dwarves",
          "x": 0.25,
          "xanchor": "center",
          "xref": "paper",
          "y": 0.82,
          "yanchor": "bottom",
          "yref": "paper"
         },
         {
          "font": {
           "size": 16
          },
          "showarrow": false,
          "text": "Introduction - Paul Horn",
          "x": 0.75,
          "xanchor": "center",
          "xref": "paper",
          "y": 0.82,
          "yanchor": "bottom",
          "yref": "paper"
         },
         {
          "font": {
           "size": 16
          },
          "showarrow": false,
          "text": "The Truth of Trumpets - Alove For Enemies",
          "x": 0.25,
          "xanchor": "center",
          "xref": "paper",
          "y": 0.6,
          "yanchor": "bottom",
          "yref": "paper"
         },
         {
          "font": {
           "size": 16
          },
          "showarrow": false,
          "text": "Jaden's Interlude - Will Smith",
          "x": 0.75,
          "xanchor": "center",
          "xref": "paper",
          "y": 0.6,
          "yanchor": "bottom",
          "yref": "paper"
         },
         {
          "font": {
           "size": 16
          },
          "showarrow": false,
          "text": "Machine Gun Kelly - Angelic Upstarts",
          "x": 0.25,
          "xanchor": "center",
          "xref": "paper",
          "y": 0.38,
          "yanchor": "bottom",
          "yref": "paper"
         },
         {
          "font": {
           "size": 16
          },
          "showarrow": false,
          "text": "(Kanji) Ooioo - OOIOO",
          "x": 0.75,
          "xanchor": "center",
          "xref": "paper",
          "y": 0.38,
          "yanchor": "bottom",
          "yref": "paper"
         },
         {
          "font": {
           "size": 16
          },
          "showarrow": false,
          "text": "Mind is Ugly - War Tapes",
          "x": 0.25,
          "xanchor": "center",
          "xref": "paper",
          "y": 0.16,
          "yanchor": "bottom",
          "yref": "paper"
         },
         {
          "font": {
           "size": 16
          },
          "showarrow": false,
          "text": "40 Break - Brotha Lynch Hung",
          "x": 0.75,
          "xanchor": "center",
          "xref": "paper",
          "y": 0.16,
          "yanchor": "bottom",
          "yref": "paper"
         },
         {
          "font": {
           "color": "black",
           "size": 20
          },
          "showarrow": false,
          "text": "Closest tracks from centroid 10",
          "x": 0.12,
          "y": 1.09
         },
         {
          "font": {
           "color": "black",
           "size": 22
          },
          "showarrow": false,
          "text": "Furthest tracks from centroid 10",
          "x": 0.9,
          "y": 1.09
         },
         {
          "font": {
           "color": "black",
           "size": 22
          },
          "showarrow": false,
          "text": "Rank",
          "x": 0.005,
          "y": 1.09
         },
         {
          "font": {
           "color": "black",
           "size": 22
          },
          "showarrow": false,
          "text": "1",
          "x": 0.01,
          "y": 1.05
         },
         {
          "font": {
           "color": "black",
           "size": 22
          },
          "showarrow": false,
          "text": "2",
          "x": 0.01,
          "y": 0.84
         },
         {
          "font": {
           "color": "black",
           "size": 22
          },
          "showarrow": false,
          "text": "3",
          "x": 0.01,
          "y": 0.608
         },
         {
          "font": {
           "color": "black",
           "size": 22
          },
          "showarrow": false,
          "text": "4",
          "x": 0.01,
          "y": 0.389
         },
         {
          "font": {
           "color": "black",
           "size": 22
          },
          "showarrow": false,
          "text": "5",
          "x": 0.01,
          "y": 0.159
         }
        ],
        "height": 1600,
        "margin": {
         "b": 50,
         "l": 50,
         "r": 50,
         "t": 200
        },
        "polar": {
         "domain": {
          "x": [
           0,
           0.5
          ],
          "y": [
           0.88,
           1
          ]
         },
         "radialaxis": {
          "range": [
           -1.2614608727499899,
           1.3223940431620118
          ],
          "showticklabels": false,
          "ticks": ""
         }
        },
        "polar10": {
         "domain": {
          "x": [
           0.5,
           1
          ],
          "y": [
           0,
           0.12
          ]
         },
         "radialaxis": {
          "range": [
           -8.00310504882673,
           8.502461008551235
          ],
          "showticklabels": false,
          "ticks": ""
         }
        },
        "polar2": {
         "domain": {
          "x": [
           0.5,
           1
          ],
          "y": [
           0.88,
           1
          ]
         },
         "radialaxis": {
          "range": [
           -8.00310504882673,
           8.502461008551235
          ],
          "showticklabels": false,
          "ticks": ""
         }
        },
        "polar3": {
         "domain": {
          "x": [
           0,
           0.5
          ],
          "y": [
           0.66,
           0.78
          ]
         },
         "radialaxis": {
          "range": [
           -1.2614608727499899,
           1.3223940431620118
          ],
          "showticklabels": false,
          "ticks": ""
         }
        },
        "polar4": {
         "domain": {
          "x": [
           0.5,
           1
          ],
          "y": [
           0.66,
           0.78
          ]
         },
         "radialaxis": {
          "range": [
           -8.00310504882673,
           8.502461008551235
          ],
          "showticklabels": false,
          "ticks": ""
         }
        },
        "polar5": {
         "domain": {
          "x": [
           0,
           0.5
          ],
          "y": [
           0.44,
           0.56
          ]
         },
         "radialaxis": {
          "range": [
           -1.2614608727499899,
           1.3223940431620118
          ],
          "showticklabels": false,
          "ticks": ""
         }
        },
        "polar6": {
         "domain": {
          "x": [
           0.5,
           1
          ],
          "y": [
           0.44,
           0.56
          ]
         },
         "radialaxis": {
          "range": [
           -8.00310504882673,
           8.502461008551235
          ],
          "showticklabels": false,
          "ticks": ""
         }
        },
        "polar7": {
         "domain": {
          "x": [
           0,
           0.5
          ],
          "y": [
           0.22,
           0.33999999999999997
          ]
         },
         "radialaxis": {
          "range": [
           -1.2614608727499899,
           1.3223940431620118
          ],
          "showticklabels": false,
          "ticks": ""
         }
        },
        "polar8": {
         "domain": {
          "x": [
           0.5,
           1
          ],
          "y": [
           0.22,
           0.33999999999999997
          ]
         },
         "radialaxis": {
          "range": [
           -8.00310504882673,
           8.502461008551235
          ],
          "showticklabels": false,
          "ticks": ""
         }
        },
        "polar9": {
         "domain": {
          "x": [
           0,
           0.5
          ],
          "y": [
           0,
           0.12
          ]
         },
         "radialaxis": {
          "range": [
           -1.2614608727499899,
           1.3223940431620118
          ],
          "showticklabels": false,
          "ticks": ""
         }
        },
        "showlegend": false,
        "template": {
         "data": {
          "bar": [
           {
            "error_x": {
             "color": "#2a3f5f"
            },
            "error_y": {
             "color": "#2a3f5f"
            },
            "marker": {
             "line": {
              "color": "#E5ECF6",
              "width": 0.5
             },
             "pattern": {
              "fillmode": "overlay",
              "size": 10,
              "solidity": 0.2
             }
            },
            "type": "bar"
           }
          ],
          "barpolar": [
           {
            "marker": {
             "line": {
              "color": "#E5ECF6",
              "width": 0.5
             },
             "pattern": {
              "fillmode": "overlay",
              "size": 10,
              "solidity": 0.2
             }
            },
            "type": "barpolar"
           }
          ],
          "carpet": [
           {
            "aaxis": {
             "endlinecolor": "#2a3f5f",
             "gridcolor": "white",
             "linecolor": "white",
             "minorgridcolor": "white",
             "startlinecolor": "#2a3f5f"
            },
            "baxis": {
             "endlinecolor": "#2a3f5f",
             "gridcolor": "white",
             "linecolor": "white",
             "minorgridcolor": "white",
             "startlinecolor": "#2a3f5f"
            },
            "type": "carpet"
           }
          ],
          "choropleth": [
           {
            "colorbar": {
             "outlinewidth": 0,
             "ticks": ""
            },
            "type": "choropleth"
           }
          ],
          "contour": [
           {
            "colorbar": {
             "outlinewidth": 0,
             "ticks": ""
            },
            "colorscale": [
             [
              0,
              "#0d0887"
             ],
             [
              0.1111111111111111,
              "#46039f"
             ],
             [
              0.2222222222222222,
              "#7201a8"
             ],
             [
              0.3333333333333333,
              "#9c179e"
             ],
             [
              0.4444444444444444,
              "#bd3786"
             ],
             [
              0.5555555555555556,
              "#d8576b"
             ],
             [
              0.6666666666666666,
              "#ed7953"
             ],
             [
              0.7777777777777778,
              "#fb9f3a"
             ],
             [
              0.8888888888888888,
              "#fdca26"
             ],
             [
              1,
              "#f0f921"
             ]
            ],
            "type": "contour"
           }
          ],
          "contourcarpet": [
           {
            "colorbar": {
             "outlinewidth": 0,
             "ticks": ""
            },
            "type": "contourcarpet"
           }
          ],
          "heatmap": [
           {
            "colorbar": {
             "outlinewidth": 0,
             "ticks": ""
            },
            "colorscale": [
             [
              0,
              "#0d0887"
             ],
             [
              0.1111111111111111,
              "#46039f"
             ],
             [
              0.2222222222222222,
              "#7201a8"
             ],
             [
              0.3333333333333333,
              "#9c179e"
             ],
             [
              0.4444444444444444,
              "#bd3786"
             ],
             [
              0.5555555555555556,
              "#d8576b"
             ],
             [
              0.6666666666666666,
              "#ed7953"
             ],
             [
              0.7777777777777778,
              "#fb9f3a"
             ],
             [
              0.8888888888888888,
              "#fdca26"
             ],
             [
              1,
              "#f0f921"
             ]
            ],
            "type": "heatmap"
           }
          ],
          "heatmapgl": [
           {
            "colorbar": {
             "outlinewidth": 0,
             "ticks": ""
            },
            "colorscale": [
             [
              0,
              "#0d0887"
             ],
             [
              0.1111111111111111,
              "#46039f"
             ],
             [
              0.2222222222222222,
              "#7201a8"
             ],
             [
              0.3333333333333333,
              "#9c179e"
             ],
             [
              0.4444444444444444,
              "#bd3786"
             ],
             [
              0.5555555555555556,
              "#d8576b"
             ],
             [
              0.6666666666666666,
              "#ed7953"
             ],
             [
              0.7777777777777778,
              "#fb9f3a"
             ],
             [
              0.8888888888888888,
              "#fdca26"
             ],
             [
              1,
              "#f0f921"
             ]
            ],
            "type": "heatmapgl"
           }
          ],
          "histogram": [
           {
            "marker": {
             "pattern": {
              "fillmode": "overlay",
              "size": 10,
              "solidity": 0.2
             }
            },
            "type": "histogram"
           }
          ],
          "histogram2d": [
           {
            "colorbar": {
             "outlinewidth": 0,
             "ticks": ""
            },
            "colorscale": [
             [
              0,
              "#0d0887"
             ],
             [
              0.1111111111111111,
              "#46039f"
             ],
             [
              0.2222222222222222,
              "#7201a8"
             ],
             [
              0.3333333333333333,
              "#9c179e"
             ],
             [
              0.4444444444444444,
              "#bd3786"
             ],
             [
              0.5555555555555556,
              "#d8576b"
             ],
             [
              0.6666666666666666,
              "#ed7953"
             ],
             [
              0.7777777777777778,
              "#fb9f3a"
             ],
             [
              0.8888888888888888,
              "#fdca26"
             ],
             [
              1,
              "#f0f921"
             ]
            ],
            "type": "histogram2d"
           }
          ],
          "histogram2dcontour": [
           {
            "colorbar": {
             "outlinewidth": 0,
             "ticks": ""
            },
            "colorscale": [
             [
              0,
              "#0d0887"
             ],
             [
              0.1111111111111111,
              "#46039f"
             ],
             [
              0.2222222222222222,
              "#7201a8"
             ],
             [
              0.3333333333333333,
              "#9c179e"
             ],
             [
              0.4444444444444444,
              "#bd3786"
             ],
             [
              0.5555555555555556,
              "#d8576b"
             ],
             [
              0.6666666666666666,
              "#ed7953"
             ],
             [
              0.7777777777777778,
              "#fb9f3a"
             ],
             [
              0.8888888888888888,
              "#fdca26"
             ],
             [
              1,
              "#f0f921"
             ]
            ],
            "type": "histogram2dcontour"
           }
          ],
          "mesh3d": [
           {
            "colorbar": {
             "outlinewidth": 0,
             "ticks": ""
            },
            "type": "mesh3d"
           }
          ],
          "parcoords": [
           {
            "line": {
             "colorbar": {
              "outlinewidth": 0,
              "ticks": ""
             }
            },
            "type": "parcoords"
           }
          ],
          "pie": [
           {
            "automargin": true,
            "type": "pie"
           }
          ],
          "scatter": [
           {
            "fillpattern": {
             "fillmode": "overlay",
             "size": 10,
             "solidity": 0.2
            },
            "type": "scatter"
           }
          ],
          "scatter3d": [
           {
            "line": {
             "colorbar": {
              "outlinewidth": 0,
              "ticks": ""
             }
            },
            "marker": {
             "colorbar": {
              "outlinewidth": 0,
              "ticks": ""
             }
            },
            "type": "scatter3d"
           }
          ],
          "scattercarpet": [
           {
            "marker": {
             "colorbar": {
              "outlinewidth": 0,
              "ticks": ""
             }
            },
            "type": "scattercarpet"
           }
          ],
          "scattergeo": [
           {
            "marker": {
             "colorbar": {
              "outlinewidth": 0,
              "ticks": ""
             }
            },
            "type": "scattergeo"
           }
          ],
          "scattergl": [
           {
            "marker": {
             "colorbar": {
              "outlinewidth": 0,
              "ticks": ""
             }
            },
            "type": "scattergl"
           }
          ],
          "scattermapbox": [
           {
            "marker": {
             "colorbar": {
              "outlinewidth": 0,
              "ticks": ""
             }
            },
            "type": "scattermapbox"
           }
          ],
          "scatterpolar": [
           {
            "marker": {
             "colorbar": {
              "outlinewidth": 0,
              "ticks": ""
             }
            },
            "type": "scatterpolar"
           }
          ],
          "scatterpolargl": [
           {
            "marker": {
             "colorbar": {
              "outlinewidth": 0,
              "ticks": ""
             }
            },
            "type": "scatterpolargl"
           }
          ],
          "scatterternary": [
           {
            "marker": {
             "colorbar": {
              "outlinewidth": 0,
              "ticks": ""
             }
            },
            "type": "scatterternary"
           }
          ],
          "surface": [
           {
            "colorbar": {
             "outlinewidth": 0,
             "ticks": ""
            },
            "colorscale": [
             [
              0,
              "#0d0887"
             ],
             [
              0.1111111111111111,
              "#46039f"
             ],
             [
              0.2222222222222222,
              "#7201a8"
             ],
             [
              0.3333333333333333,
              "#9c179e"
             ],
             [
              0.4444444444444444,
              "#bd3786"
             ],
             [
              0.5555555555555556,
              "#d8576b"
             ],
             [
              0.6666666666666666,
              "#ed7953"
             ],
             [
              0.7777777777777778,
              "#fb9f3a"
             ],
             [
              0.8888888888888888,
              "#fdca26"
             ],
             [
              1,
              "#f0f921"
             ]
            ],
            "type": "surface"
           }
          ],
          "table": [
           {
            "cells": {
             "fill": {
              "color": "#EBF0F8"
             },
             "line": {
              "color": "white"
             }
            },
            "header": {
             "fill": {
              "color": "#C8D4E3"
             },
             "line": {
              "color": "white"
             }
            },
            "type": "table"
           }
          ]
         },
         "layout": {
          "annotationdefaults": {
           "arrowcolor": "#2a3f5f",
           "arrowhead": 0,
           "arrowwidth": 1
          },
          "autotypenumbers": "strict",
          "coloraxis": {
           "colorbar": {
            "outlinewidth": 0,
            "ticks": ""
           }
          },
          "colorscale": {
           "diverging": [
            [
             0,
             "#8e0152"
            ],
            [
             0.1,
             "#c51b7d"
            ],
            [
             0.2,
             "#de77ae"
            ],
            [
             0.3,
             "#f1b6da"
            ],
            [
             0.4,
             "#fde0ef"
            ],
            [
             0.5,
             "#f7f7f7"
            ],
            [
             0.6,
             "#e6f5d0"
            ],
            [
             0.7,
             "#b8e186"
            ],
            [
             0.8,
             "#7fbc41"
            ],
            [
             0.9,
             "#4d9221"
            ],
            [
             1,
             "#276419"
            ]
           ],
           "sequential": [
            [
             0,
             "#0d0887"
            ],
            [
             0.1111111111111111,
             "#46039f"
            ],
            [
             0.2222222222222222,
             "#7201a8"
            ],
            [
             0.3333333333333333,
             "#9c179e"
            ],
            [
             0.4444444444444444,
             "#bd3786"
            ],
            [
             0.5555555555555556,
             "#d8576b"
            ],
            [
             0.6666666666666666,
             "#ed7953"
            ],
            [
             0.7777777777777778,
             "#fb9f3a"
            ],
            [
             0.8888888888888888,
             "#fdca26"
            ],
            [
             1,
             "#f0f921"
            ]
           ],
           "sequentialminus": [
            [
             0,
             "#0d0887"
            ],
            [
             0.1111111111111111,
             "#46039f"
            ],
            [
             0.2222222222222222,
             "#7201a8"
            ],
            [
             0.3333333333333333,
             "#9c179e"
            ],
            [
             0.4444444444444444,
             "#bd3786"
            ],
            [
             0.5555555555555556,
             "#d8576b"
            ],
            [
             0.6666666666666666,
             "#ed7953"
            ],
            [
             0.7777777777777778,
             "#fb9f3a"
            ],
            [
             0.8888888888888888,
             "#fdca26"
            ],
            [
             1,
             "#f0f921"
            ]
           ]
          },
          "colorway": [
           "#636efa",
           "#EF553B",
           "#00cc96",
           "#ab63fa",
           "#FFA15A",
           "#19d3f3",
           "#FF6692",
           "#B6E880",
           "#FF97FF",
           "#FECB52"
          ],
          "font": {
           "color": "#2a3f5f"
          },
          "geo": {
           "bgcolor": "white",
           "lakecolor": "white",
           "landcolor": "#E5ECF6",
           "showlakes": true,
           "showland": true,
           "subunitcolor": "white"
          },
          "hoverlabel": {
           "align": "left"
          },
          "hovermode": "closest",
          "mapbox": {
           "style": "light"
          },
          "paper_bgcolor": "white",
          "plot_bgcolor": "#E5ECF6",
          "polar": {
           "angularaxis": {
            "gridcolor": "white",
            "linecolor": "white",
            "ticks": ""
           },
           "bgcolor": "#E5ECF6",
           "radialaxis": {
            "gridcolor": "white",
            "linecolor": "white",
            "ticks": ""
           }
          },
          "scene": {
           "xaxis": {
            "backgroundcolor": "#E5ECF6",
            "gridcolor": "white",
            "gridwidth": 2,
            "linecolor": "white",
            "showbackground": true,
            "ticks": "",
            "zerolinecolor": "white"
           },
           "yaxis": {
            "backgroundcolor": "#E5ECF6",
            "gridcolor": "white",
            "gridwidth": 2,
            "linecolor": "white",
            "showbackground": true,
            "ticks": "",
            "zerolinecolor": "white"
           },
           "zaxis": {
            "backgroundcolor": "#E5ECF6",
            "gridcolor": "white",
            "gridwidth": 2,
            "linecolor": "white",
            "showbackground": true,
            "ticks": "",
            "zerolinecolor": "white"
           }
          },
          "shapedefaults": {
           "line": {
            "color": "#2a3f5f"
           }
          },
          "ternary": {
           "aaxis": {
            "gridcolor": "white",
            "linecolor": "white",
            "ticks": ""
           },
           "baxis": {
            "gridcolor": "white",
            "linecolor": "white",
            "ticks": ""
           },
           "bgcolor": "#E5ECF6",
           "caxis": {
            "gridcolor": "white",
            "linecolor": "white",
            "ticks": ""
           }
          },
          "title": {
           "x": 0.05
          },
          "xaxis": {
           "automargin": true,
           "gridcolor": "white",
           "linecolor": "white",
           "ticks": "",
           "title": {
            "standoff": 15
           },
           "zerolinecolor": "white",
           "zerolinewidth": 2
          },
          "yaxis": {
           "automargin": true,
           "gridcolor": "white",
           "linecolor": "white",
           "ticks": "",
           "title": {
            "standoff": 15
           },
           "zerolinecolor": "white",
           "zerolinewidth": 2
          }
         }
        },
        "title": {
         "font": {
          "size": 18
         },
         "text": "Most similar and different tracks from centroid 10 profile (blue) of user '22e08d5e101ab5b86dc394856d508e175a5242a6'",
         "x": 0.5,
         "y": 0.99
        },
        "width": 1200
       }
      }
     },
     "metadata": {},
     "output_type": "display_data"
    }
   ],
   "source": [
    "import plotly.graph_objects as go\n",
    "from plotly.subplots import make_subplots\n",
    "\n",
    "\n",
    "for i in range(len(similar)):\n",
    "\n",
    "    if (len(similar) == 1):\n",
    "        profile = standard_profile\n",
    "        std_prof = True\n",
    "        prof_name = \"Standard profile weighted by listening counts\"\n",
    "        fig_title = f\"Most similar and different tracks from standard profile (blue) of user '{user_name}'\"\n",
    "        col1_title = \"Closest tracks\"\n",
    "        col2_title = \"Furthest tracks\"\n",
    "        fig_name = \"avg_profile\"\n",
    "        fig_type = fig_name\n",
    "\n",
    "    elif (len(similar) > 1):\n",
    "        profile = clusters_profiles    \n",
    "        std_prof = False\n",
    "        prof_name = f\"Cluster center centroid {i+1} profile\" \n",
    "        fig_title = f\"Most similar and different tracks from centroid {i+1} profile (blue) of user '{user_name}'\"\n",
    "        col1_title = f\"Closest tracks from centroid {i+1}\"\n",
    "        col2_title = f\"Furthest tracks from centroid {i+1}\"\n",
    "        fig_name = f\"centroid_{i+1}_profile \"\n",
    "        fig_type = \"centroids_profiles\"\n",
    "\n",
    "    min_sim = np.min(similar[i])\n",
    "    if min_sim > np.min(profile[i]):\n",
    "        min_sim = np.min(profile[i])\n",
    "\n",
    "    max_sim = np.max(similar[i])\n",
    "    if max_sim < np.max(profile[i]):\n",
    "        max_sim = np.max(profile[i])\n",
    "\n",
    "    min_dis = np.min(disimilar[i])\n",
    "    if min_dis > np.min(profile[i]):\n",
    "        min_dis = np.min(profile[i])\n",
    "\n",
    "    max_dis = np.max(disimilar[i])\n",
    "    if max_dis < np.max(profile[i]):\n",
    "        max_dis = np.max(profile[i])\n",
    "    \n",
    "    tracks_titles = []\n",
    "    for j in range(len(similar[i])):\n",
    "        tracks_titles.append(sim_names[i][j])\n",
    "        tracks_titles.append(dis_names[i][j])\n",
    "\n",
    "\n",
    "\n",
    "    fig = make_subplots(rows=n_neighbors, cols=2,\n",
    "                        shared_xaxes='columns', shared_yaxes='columns',\n",
    "                        vertical_spacing = 0.1,\n",
    "                        horizontal_spacing=0,\n",
    "                        #column_titles = [\"Closest tracks\", \"Furthest tracks\"],\n",
    "                        #row_heights = [0.9,0.9],\n",
    "                        subplot_titles=tracks_titles,\n",
    "                     specs = [[{'type': 'polar'}]*2]*n_neighbors)\n",
    "\n",
    "\n",
    "    trace_profile = go.Scatterpolar(r = profile[i],\n",
    "                                             theta = acoustic_variables,\n",
    "                                             mode = \"lines+markers\", line_color='#636EFA',\n",
    "                                             \n",
    "                                                                                          \n",
    "                                             name = prof_name)\n",
    "\n",
    "    #https://community.plotly.com/t/plotly-colours-list/11730/3\n",
    "    #colors_col2 = ['orange', '#8c564b', '#7f7f7f', '#2ca02c', 'pink' ]\n",
    "    \n",
    "\n",
    "    for j in range(len(similar[i])):\n",
    "        \n",
    "        fig.add_trace(trace_profile, row=j+1, col=1)\n",
    "\n",
    "        fig.add_trace(go.Scatterpolar(\n",
    "            r = similar[i][j],\n",
    "            name = f\"Closest track rank {j+1}\",\n",
    "            theta = acoustic_variables,\n",
    "            line_color = '#EF553B',\n",
    "            #text=[\"Foundbird - Papercuts\"],\n",
    "            #textposition=\"top center\"\n",
    "        ),  row=j+1, col=1)\n",
    "\n",
    "        fig.add_trace(trace_profile, row=j+1, col=2)\n",
    "\n",
    "        fig.add_trace(go.Scatterpolar(\n",
    "            r = disimilar[i][j],\n",
    "            name = f\"Furthest track rank {j+1}\",\n",
    "            theta = acoustic_variables,\n",
    "            line_color = '#B6E880',  #colors_col2[j],\n",
    "        ),  row=j+1, col=2)\n",
    "\n",
    "    \n",
    "\n",
    "    fig.update_traces(fill='toself')#,\n",
    "                      #mode = \"lines+markers\", line_color='indianred',\n",
    "                      #marker =   dict(color='lightslategray', size=8, symbol='square'))\n",
    "\n",
    "    \n",
    "    fig.update_layout(\n",
    "        height = 1600,\n",
    "        width = 1200,\n",
    "        #title_text = \"Test\",\n",
    "        title= dict(text=fig_title,\n",
    "                    x=0.5,\n",
    "                    y=0.99,\n",
    "                    #x_anchor = 'center',\n",
    "                    #y_anchor = 'top',\n",
    "                    font = dict(\n",
    "                        #family = 'Courier New')\n",
    "                        size = 18)),\n",
    "                    #margin=dict(l=50, r=50, t=200, b=50),\n",
    "                    margin=dict(l=50, r=50, t=200, b=50),\n",
    "        #paper_bgcolor=\"LightSteelBlue\",\n",
    "        polar = dict(radialaxis = dict(showticklabels=False, ticks='' ), radialaxis_range = [min_sim,max_sim]), #radialaxis_range = [-10,10]),\n",
    "                     #angularaxis = dict(showticklabels=False, ticks='')\n",
    "        polar2 = dict(radialaxis = dict(showticklabels=False, ticks='' ), radialaxis_range = [min_dis,max_dis]),\n",
    "        \n",
    "        polar3 = dict(radialaxis = dict(showticklabels=False, ticks='' ), radialaxis_range = [min_sim,max_sim]),\n",
    "\n",
    "        polar4 = dict(radialaxis = dict(showticklabels=False, ticks='' ), radialaxis_range = [min_dis,max_dis]),\n",
    "\n",
    "        polar5 = dict(radialaxis = dict(showticklabels=False, ticks='' ), radialaxis_range = [min_sim,max_sim]),\n",
    "\n",
    "        polar6 = dict(radialaxis = dict(showticklabels=False, ticks='' ), radialaxis_range = [min_dis,max_dis]),\n",
    "\n",
    "        polar7 = dict(radialaxis = dict(showticklabels=False, ticks='' ), radialaxis_range = [min_sim,max_sim]),\n",
    "\n",
    "        polar8 = dict(radialaxis = dict(showticklabels=False, ticks='' ), radialaxis_range = [min_dis,max_dis]),\n",
    "\n",
    "        polar9 = dict(radialaxis = dict(showticklabels=False, ticks='' ), radialaxis_range = [min_sim,max_sim]),\n",
    "        \n",
    "        polar10 = dict(radialaxis = dict(showticklabels=False, ticks='' ), radialaxis_range = [min_dis,max_dis]),\n",
    "                     \n",
    "        showlegend=False\n",
    "    )\n",
    "    \n",
    "    if len(similar) > 1:\n",
    "        fig.add_annotation(x= 0.12, y = 1.09,\n",
    "                           text = col1_title,\n",
    "                           showarrow=False,\n",
    "                           font = dict(color=\"black\",\n",
    "                                       size=20))\n",
    "        fig.add_annotation(x= 0.9, y = 1.09,\n",
    "                           text = col2_title,\n",
    "                           showarrow=False,\n",
    "                           font = dict(color=\"black\",\n",
    "                                       size=22))\n",
    "    elif len(similar) == 1:\n",
    "            fig.add_annotation(x= 0.19, y = 1.09,\n",
    "                           text = col1_title,\n",
    "                           showarrow=False,\n",
    "                           font = dict(color=\"black\",\n",
    "                                       size=22))\n",
    "            fig.add_annotation(x= 0.81, y = 1.09,\n",
    "                           text = col2_title,\n",
    "                           showarrow=False,\n",
    "                           font = dict(color=\"black\",\n",
    "                                       size=22))\n",
    "\n",
    "    fig.add_annotation(x= 0.005, y = 1.09,\n",
    "                           text = \"Rank\",\n",
    "                           showarrow=False,\n",
    "                           font = dict(color=\"black\",\n",
    "                                       size=22))\n",
    "    fig.add_annotation(x= 0.01, y = 1.05,\n",
    "                           text = '1',\n",
    "                           showarrow=False,\n",
    "                           font = dict(color=\"black\",\n",
    "                                       size=22))\n",
    "    \n",
    "    fig.add_annotation(x= 0.01, y = 0.84,\n",
    "                           text = '2',\n",
    "                           showarrow=False,\n",
    "                           font = dict(color=\"black\",\n",
    "                                       size=22))\n",
    "    \n",
    "    fig.add_annotation(x= 0.01, y = 0.608,\n",
    "                           text = '3',\n",
    "                           showarrow=False,\n",
    "                           font = dict(color=\"black\",\n",
    "                                       size=22))\n",
    "    \n",
    "    fig.add_annotation(x= 0.01, y = 0.389,\n",
    "                           text = '4',\n",
    "                           showarrow=False,\n",
    "                           font = dict(color=\"black\",\n",
    "                                       size=22))\n",
    "    \n",
    "    fig.add_annotation(x= 0.01, y = 0.159,\n",
    "                           text = '5',\n",
    "                           showarrow=False,\n",
    "                           font = dict(color=\"black\",\n",
    "                                       size=22))\n",
    "\n",
    "    annot =list(fig.layout.annotations)\n",
    "    annot[0].y = 1.03\n",
    "    annot[1].y = 1.03\n",
    "    annot[2].y = 0.82 \n",
    "    annot[3].y = 0.82 \n",
    "    annot[4].y = 0.6 \n",
    "    annot[5].y = 0.6 \n",
    "    annot[6].y = 0.38 \n",
    "    annot[7].y = 0.38 \n",
    "    annot[8].y = 0.16 \n",
    "    annot[9].y = 0.16 \n",
    "\n",
    "    fig.layout.annotations = annot\n",
    "\n",
    "    #https://plotly.com/python/reference/layout/polar/\n",
    "    fig.update_polars(\n",
    "        radialaxis_showticklabels = False\n",
    "    )\n",
    "    \n",
    "    pprint(tracks_titles)\n",
    "    names = set()\n",
    "    fig.for_each_trace(\n",
    "        lambda trace:\n",
    "            trace.update(showlegend=False)\n",
    "            if (trace.name in names) else names.add(trace.name))\n",
    "\n",
    "    fig.show()\n",
    "    #fig.write_html(file = OUTPUT_DIR / (user_name + '_' + fig_name + \".html\"), include_plotlyjs = 'cdn')"
   ]
  },
  {
   "cell_type": "code",
   "execution_count": 114,
   "metadata": {},
   "outputs": [],
   "source": [
    "#dfi.export(df_styled, OUTPUT_DIR / (user_name + '_' + fig_type + '_df.png'), max_rows=-1)"
   ]
  },
  {
   "cell_type": "code",
   "execution_count": null,
   "metadata": {},
   "outputs": [],
   "source": []
  }
 ],
 "metadata": {
  "kernelspec": {
   "display_name": "Python 3 (ipykernel)",
   "language": "python",
   "name": "python3"
  },
  "language_info": {
   "codemirror_mode": {
    "name": "ipython",
    "version": 3
   },
   "file_extension": ".py",
   "mimetype": "text/x-python",
   "name": "python",
   "nbconvert_exporter": "python",
   "pygments_lexer": "ipython3",
   "version": "3.9.13"
  }
 },
 "nbformat": 4,
 "nbformat_minor": 4
}
