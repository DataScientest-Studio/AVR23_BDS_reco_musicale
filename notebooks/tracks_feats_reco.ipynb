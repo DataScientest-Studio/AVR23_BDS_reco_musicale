{
 "cells": [
  {
   "cell_type": "code",
   "execution_count": 1,
   "metadata": {},
   "outputs": [],
   "source": [
    "import os\n",
    "from pathlib import Path\n",
    "\n",
    "\n",
    "import pandas as pd\n",
    "import matplotlib.pyplot as plt\n",
    "import seaborn as sns\n",
    "import numpy as np\n",
    "\n",
    "from sklearn.preprocessing import StandardScaler\n",
    "from sklearn.cluster import KMeans, AgglomerativeClustering\n",
    "from sklearn.metrics import silhouette_score\n",
    "from sklearn.decomposition import PCA\n",
    "\n",
    "\n",
    "from scipy.cluster.hierarchy import linkage, dendrogram, fcluster\n",
    "from scipy.spatial.distance import cdist"
   ]
  },
  {
   "cell_type": "code",
   "execution_count": 2,
   "metadata": {},
   "outputs": [],
   "source": [
    "CUR_DIR = os.path.abspath('')\n",
    "\n",
    "DATA_DIR = Path(CUR_DIR).parent / \"data\"\n",
    "FILE_PATH = DATA_DIR/'triplets_metadata_spotify.csv'\n",
    "df_origin = pd.read_csv(FILE_PATH, index_col = 0)"
   ]
  },
  {
   "cell_type": "code",
   "execution_count": 3,
   "metadata": {},
   "outputs": [
    {
     "data": {
      "text/plain": [
       "\"\\nartist_names = df_origin['artist_name'].unique().tolist()\\nfor artist_name in artist_names:\\n    mode_fam = df_origin[df_origin['artist_name'] == artist_name]['artist_familiarity'].mode()[0]\\n    mode_hot = df_origin[df_origin['artist_name'] == artist_name]['artist_hotttnesss'].mode()[0]\\n    \\n    df_origin.loc[df_origin['artist_name'] == artist_name, 'artist_familiarity'] = mode_fam\\n    df_origin.loc[df_origin['artist_name'] == artist_name, 'artist_hotttnesss'] = mode_hot\\n\""
      ]
     },
     "execution_count": 3,
     "metadata": {},
     "output_type": "execute_result"
    }
   ],
   "source": [
    "'''\n",
    "artist_names = df_origin['artist_name'].unique().tolist()\n",
    "for artist_name in artist_names:\n",
    "    mode_fam = df_origin[df_origin['artist_name'] == artist_name]['artist_familiarity'].mode()[0]\n",
    "    mode_hot = df_origin[df_origin['artist_name'] == artist_name]['artist_hotttnesss'].mode()[0]\n",
    "    \n",
    "    df_origin.loc[df_origin['artist_name'] == artist_name, 'artist_familiarity'] = mode_fam\n",
    "    df_origin.loc[df_origin['artist_name'] == artist_name, 'artist_hotttnesss'] = mode_hot\n",
    "'''\n",
    "    \n"
   ]
  },
  {
   "cell_type": "code",
   "execution_count": 4,
   "metadata": {},
   "outputs": [
    {
     "data": {
      "text/plain": [
       "\"\\n# valence?\\ndf_unique_values = df_origin.drop_duplicates(subset = ['song_name', 'artist_name'], keep='first').reset_index().drop('index', axis=1)\\ntracks_quanti_feats = df_unique_values.drop(['user', 'listening_count', 'song_name', 'release', 'artist_name',\\n        'year', 'key', 'duration', 'shs_perf', 'shs_work', 'explicit', 'mode', 'time_signature', 'release_date'], axis = 1)\\n\""
      ]
     },
     "execution_count": 4,
     "metadata": {},
     "output_type": "execute_result"
    }
   ],
   "source": [
    "\n",
    "df_unique_values = df_origin.drop_duplicates(subset = ['song_name', 'artist_name'], keep='first').reset_index().drop('index', axis=1)\n",
    "tracks_quanti_feats = df_unique_values.drop(['user', 'listening_count', 'song_name', 'release', 'artist_name', \n",
    "        'artist_familiarity', 'artist_hotttnesss', 'year', 'key', 'duration',\n",
    "       'shs_perf', 'shs_work', 'explicit', 'mode', 'time_signature', 'release_date'], axis = 1)\n",
    "\n",
    "           \n",
    "'''\n",
    "# valence?\n",
    "df_unique_values = df_origin.drop_duplicates(subset = ['song_name', 'artist_name'], keep='first').reset_index().drop('index', axis=1)\n",
    "tracks_quanti_feats = df_unique_values.drop(['user', 'listening_count', 'song_name', 'release', 'artist_name',\n",
    "        'year', 'key', 'duration', 'shs_perf', 'shs_work', 'explicit', 'mode', 'time_signature', 'release_date'], axis = 1)\n",
    "'''"
   ]
  },
  {
   "cell_type": "code",
   "execution_count": 5,
   "metadata": {},
   "outputs": [],
   "source": [
    "scaler = StandardScaler()\n",
    "scaler.fit(tracks_quanti_feats)\n",
    "tracks_quanti_feats[tracks_quanti_feats.columns] = pd.DataFrame(scaler.fit_transform(tracks_quanti_feats), index=tracks_quanti_feats.index)"
   ]
  },
  {
   "cell_type": "code",
   "execution_count": 6,
   "metadata": {},
   "outputs": [],
   "source": [
    "tracks_quanti_feats_names = pd.DataFrame(tracks_quanti_feats)\n",
    "tracks_quanti_feats_names['song_name'] = df_unique_values['song_name']\n",
    "tracks_quanti_feats_names['artist_name'] = df_unique_values['artist_name']\n"
   ]
  },
  {
   "cell_type": "code",
   "execution_count": 7,
   "metadata": {},
   "outputs": [
    {
     "data": {
      "text/plain": [
       "\"\\nscaler = StandardScaler()\\nsel_columns = ['artist_familiarity', 'artist_hotttnesss', 'danceability', 'energy', 'loudness', 'speechiness', 'acousticness', 'instrumentalness', 'liveness', 'valence', 'tempo']\\ndf_origin[sel_columns] = pd.DataFrame(scaler.fit_transform(df_origin[sel_columns]), index=df_origin.index)\\n\""
      ]
     },
     "execution_count": 7,
     "metadata": {},
     "output_type": "execute_result"
    }
   ],
   "source": [
    "\n",
    "scaler = StandardScaler()\n",
    "sel_columns = ['danceability', 'energy', 'loudness', 'speechiness', 'acousticness', 'instrumentalness', 'liveness', 'valence', 'tempo']\n",
    "#sel_columns = ['danceability', 'energy', 'loudness', 'speechiness', 'acousticness', 'instrumentalness', 'liveness', 'tempo']\n",
    "df_origin[sel_columns] = pd.DataFrame(scaler.fit_transform(df_origin[sel_columns]), index=df_origin.index)\n",
    "\n",
    "'''\n",
    "scaler = StandardScaler()\n",
    "sel_columns = ['artist_familiarity', 'artist_hotttnesss', 'danceability', 'energy', 'loudness', 'speechiness', 'acousticness', 'instrumentalness', 'liveness', 'valence', 'tempo']\n",
    "df_origin[sel_columns] = pd.DataFrame(scaler.fit_transform(df_origin[sel_columns]), index=df_origin.index)\n",
    "'''"
   ]
  },
  {
   "cell_type": "code",
   "execution_count": 8,
   "metadata": {},
   "outputs": [],
   "source": [
    "def get_opt_clusters(df:pd.DataFrame, drop : list[str], user_id: str):\n",
    "    \n",
    "    # definition of df_user\n",
    "    df_user = df[df['user']==user_id].drop(drop, axis=1).reset_index().drop(['index'], axis=1)\n",
    "\n",
    "    # weights to apply to the kmeans\n",
    "    user_listenings = df_user['listening_count']\n",
    "\n",
    "    # eliminate weights from acoustic characteristics\n",
    "    df_user = df_user.drop('listening_count', axis=1) \n",
    "    \n",
    "\n",
    "    # broad exploration of number of clusters\n",
    "    dist = []\n",
    "    s_scores = []\n",
    "    range = np.arange(2,len(df_user)-1)\n",
    "    for i in range:\n",
    "        clf = KMeans(n_clusters = i, n_init = 'auto', random_state=123)\n",
    "        clf.fit(df_user, sample_weight=user_listenings)\n",
    "        centroids = clf.cluster_centers_\n",
    "        labels = clf.labels_\n",
    "        score = silhouette_score(df_user, labels, metric='euclidean')\n",
    "        s_scores.append(score)\n",
    "        dist.append(sum(np.min(cdist(XA = centroids, XB = df_user, metric='euclidean'), axis = 0)) / len(df_user))\n",
    "    \n",
    "    # optimal number of clusters selection by silhouette score\n",
    "    n_clusters = s_scores.index(max(s_scores))+2\n",
    "\n",
    "    return range, s_scores, dist, n_clusters"
   ]
  },
  {
   "cell_type": "code",
   "execution_count": 9,
   "metadata": {},
   "outputs": [],
   "source": [
    "def get_user_profiles(df: pd.DataFrame, drop : list[str],  user_id: str, n_clusters:int):\n",
    "    \"\"\"\n",
    "    Takes a user_id string and 1 dataframe containg all original informations and whose acoustic characteristics are Standard scaled.\n",
    "    Returns the acoustic characteristics of the user standard profile weighted by number of listenings (1 acoustic profile)   \n",
    "    and the cluster centers centroids profiles based on Kmeans fit on optimal number of cluster found per user (n_clusters profiles)\n",
    "\n",
    "    Parameters:\n",
    "        df : whole dataframe with all acoustic characteristics Standard scaled\n",
    "        user_id : str corresponding to the user id\n",
    "   \n",
    "    Return :\n",
    "        \n",
    "        standard_profile: list[list[float]] of size 1\n",
    "        cluster_profile: list[list[float]] of size n_clusters\n",
    "    \"\"\"\n",
    "    \n",
    "    \n",
    "    total_listening = df[df[\"user\"] == user_id][\"listening_count\"].sum() \n",
    "\n",
    "    ## Standard profile: one profile where acoustic characteristics are weighted by listening_count\n",
    "    '''\n",
    "    hotness = 0\n",
    "    familiarity = 0\n",
    "    '''\n",
    "    duration = 0\n",
    "    dance = 0\n",
    "    energy = 0\n",
    "    loudness = 0\n",
    "    speech = 0\n",
    "    acoustic = 0\n",
    "    instru = 0\n",
    "    live = 0\n",
    "    valence = 0\n",
    "    tempo = 0\n",
    "    \n",
    "    # cumulative sum of user's  songs acoustic characteristics weighted by listening_count\n",
    "    for index, row, in df[df[\"user\"] == user_id].iterrows():\n",
    "        '''\n",
    "        hotness += row['artist_hotttnesss'] * row[\"listening_count\"]\n",
    "        familiarity += row['artist_familiarity'] * row[\"listening_count\"]   \n",
    "        '''\n",
    "        #duration += row['duration'] * row[\"listening_count\"]\n",
    "        dance += row['danceability'] * row[\"listening_count\"]\n",
    "        energy += row['energy'] * row[\"listening_count\"]\n",
    "        loudness += row['loudness'] * row[\"listening_count\"]\n",
    "        speech += row['speechiness'] * row[\"listening_count\"]\n",
    "        acoustic += row['acousticness'] * row[\"listening_count\"]\n",
    "        instru += row['instrumentalness'] * row[\"listening_count\"]\n",
    "        live += row['liveness'] * row[\"listening_count\"]\n",
    "        valence += row['valence'] * row[\"listening_count\"]\n",
    "        tempo += row['tempo'] * row[\"listening_count\"]\n",
    "\n",
    "    # duration / total_listening, \n",
    "\n",
    "    # weighted average from cumulative sum of acoustic characteristics / total_listening to list of lists\n",
    "    # valence missing\n",
    "    standard_profile = [[dance / total_listening, energy / total_listening,\n",
    "                        loudness / total_listening, speech / total_listening, acoustic / total_listening,\n",
    "                        instru / total_listening, live / total_listening, valence/total_listening, tempo / total_listening]]\n",
    "\n",
    "    ## Cluster profile\n",
    "    \n",
    "    # definition of df_user\n",
    "    df_user = df[df['user']==user_id].drop(drop, axis=1).reset_index().drop(['index'], axis=1)\n",
    "\n",
    "    # weights to apply to the kmeans\n",
    "    user_listenings = df_user['listening_count']\n",
    "\n",
    "    # eliminate weights from acoustic characteristics\n",
    "    df_user = df_user.drop('listening_count', axis=1) \n",
    "\n",
    "    # training of kmeans with optimal number of clusters\n",
    "    clf = KMeans(n_clusters = n_clusters, n_init = 'auto', random_state=123)\n",
    "    clf.fit(df_user, sample_weight=user_listenings)\n",
    "    centroids = clf.cluster_centers_\n",
    "    labels = clf.labels_\n",
    "\n",
    "    # distinct profiles as cluster centers centroids to list\n",
    "    cluster_profile = centroids.tolist()\n",
    "\n",
    "    \n",
    "    return standard_profile, cluster_profile"
   ]
  },
  {
   "attachments": {},
   "cell_type": "markdown",
   "metadata": {},
   "source": [
    "Proximity measure - Numerical resolution"
   ]
  },
  {
   "cell_type": "code",
   "execution_count": 10,
   "metadata": {},
   "outputs": [],
   "source": [
    "#df_origin[df_origin['user']=='19a7ec5c51a370817f99cf18decde4b8f469bfd3']"
   ]
  },
  {
   "cell_type": "code",
   "execution_count": 104,
   "metadata": {},
   "outputs": [],
   "source": [
    "# var\n",
    "#acoustic_variables = [\"Artist Hotness\", \"Artist Familiarity\", \"Danceability\", \"Energy\", \"Loudness\", \"Speechiness\", \"Acousticness\", \"instrumentalness\", \"Liveness\", \"Valence\", \"Tempo\"]\n",
    "acoustic_variables = [\"Danceability\", \"Energy\", \"Loudness\", \"Speechiness\", \"Acousticness\", \"instrumentalness\", \"Liveness\", \"Valence\", \"Tempo\"]\n",
    "n_neighbors = 5\n",
    "\n",
    "\n",
    "#user_name = '22e08d5e101ab5b86dc394856d508e175a5242a6'\n",
    "#user_name = 'af3ee32357049dd96231238bd1b019e8142ee6aa' # l'espagnol\n",
    "#user_name = '3fa44653315697f42410a30cb766a4eb102080bb'\n",
    "#user_name = \"ec6dfcf19485cb011e0b22637075037aae34cf26\"\t\n",
    "user_name = '6a46aee45cc177cf8e2025e59d21c7939902deee'\n",
    "#user_name = '716ed1ec67d67bfa05db3ffeb641d13f46dca6ec'\n",
    "#user_name = 'd035c4a2b179ef8c756d73f9f3018ec7a87d8594'\n",
    "#user_name = '72b7c0b7ef846805b61e7a82534beded246a95c2'\n",
    "#user_name = 'b393acb0d2f15b13fb1377c2998b222f6e174619'\n",
    "#user_name = 'b784fec0b1e04dbf02a2f095da6ec1e3a8561391'\n",
    "\n",
    "\n",
    "\n",
    "\n",
    "#user_name ='19a7ec5c51a370817f99cf18decde4b8f469bfd3'\n",
    "#user_name = '43e241eaa4d079ab2bdbd30231695f5563583af4\t'\n",
    "\n",
    "\n",
    "\n",
    "\n",
    "\n",
    "\n",
    "to_drop = ['user', 'song_name', 'release', 'artist_name', 'duration', 'artist_familiarity', 'artist_hotttnesss',\n",
    "           'year', 'shs_perf', 'shs_work', 'key', 'mode', 'explicit', 'time_signature', 'release_date']\n",
    "\n",
    "'''\n",
    "to_drop = ['user', 'song_name', 'release', 'artist_name', 'duration',  \n",
    "           'year', 'shs_perf', 'shs_work', 'key', 'mode', 'explicit', 'time_signature', 'release_date']\n",
    "'''\n",
    "\n",
    "# func\n",
    "range_n_clusters, silhouette_scores, distorsions, n_opt_cluster = get_opt_clusters(df=df_origin, drop=to_drop, user_id=user_name)\n",
    "\n",
    "standard_profile, clusters_profiles = get_user_profiles(df=df_origin, drop=to_drop, user_id=user_name, n_clusters=n_opt_cluster)"
   ]
  },
  {
   "cell_type": "code",
   "execution_count": 105,
   "metadata": {},
   "outputs": [],
   "source": [
    "OUTPUT_DIR = Path(CUR_DIR).parent / \"figures/users_viz\""
   ]
  },
  {
   "cell_type": "code",
   "execution_count": 106,
   "metadata": {},
   "outputs": [
    {
     "name": "stderr",
     "output_type": "stream",
     "text": [
      "C:\\Users\\benoit\\AppData\\Local\\Temp\\ipykernel_15336\\3774516515.py:3: MatplotlibDeprecationWarning:\n",
      "\n",
      "Auto-removal of overlapping axes is deprecated since 3.6 and will be removed two minor releases later; explicitly call ax.remove() as needed.\n",
      "\n"
     ]
    },
    {
     "data": {
      "image/png": "[encoded data removed]",
      "text/plain": [
       "<Figure size 1200x600 with 2 Axes>"
      ]
     },
     "metadata": {},
     "output_type": "display_data"
    }
   ],
   "source": [
    "fig  = plt.subplots(figsize=(12, 6))\n",
    "\n",
    "ax1 = plt.subplot(121)\n",
    "ax1.plot(range_n_clusters, distorsions)\n",
    "ax1.set_xlabel('K Number of clusters')\n",
    "ax1.set_ylabel('Distorsion SSW/(SSW+SSB)')\n",
    "ax1.set_title('Elbow method');\n",
    "\n",
    "ax2 = plt.subplot(122)\n",
    "ax2.plot(range_n_clusters, silhouette_scores, '-x')\n",
    "ax2.set_xlabel(\"Number of clusters\")\n",
    "ax2.set_ylabel(\"Silhouette score for euclidean distance\")\n",
    "ax2.set_title('Silhouette score per number of cluster');\n",
    "\n",
    "#fig.savefig(OUTPUT_DIR / (user_name + '_silhouette_scores.png'), dpi=200 )\n",
    "plt.savefig(OUTPUT_DIR / (user_name + '_silhouette_scores.png'), dpi=200 )"
   ]
  },
  {
   "cell_type": "code",
   "execution_count": 107,
   "metadata": {},
   "outputs": [],
   "source": [
    "from scipy.spatial import distance_matrix\n",
    "\n",
    "def get_profile_neighbors(df_features, df_features_names: pd.DataFrame, profiles: list[list[float]], n_target : int = n_neighbors):\n",
    "    \n",
    "    '''\n",
    "    user_profile = pd.DataFrame(columns=[\"hotness\", \"familiarity\",\"danceability\", \"energy\",\n",
    "                                   \"loudness\", \"speechiness\", \"acousticness\",\n",
    "                                   \"instrumentalness\", \"liveness\", \"valence\",\n",
    "                                   \"tempo\"])\n",
    "    '''\n",
    "    user_profile = pd.DataFrame(columns=[\"danceability\", \"energy\",\n",
    "                                   \"loudness\", \"speechiness\", \"acousticness\",\n",
    "                                   \"instrumentalness\", \"liveness\", \"valence\", \n",
    "                                   \"tempo\"])\n",
    "\n",
    "    # append profile to the dataframe user_profile\n",
    "    for i in range(len(profiles)):\n",
    "        user_profile.loc[len(user_profile)] = profiles[i]\n",
    "\n",
    "\n",
    "    # compute the distance matrix between all user_profiles and all songs features\n",
    "    dist_mat = pd.DataFrame(distance_matrix(user_profile, df_features).T)\n",
    "    #dist_mat = dist_mat.rename(columns={0 : 'distance'})\n",
    "    \n",
    "\n",
    "    # create similarity and disimilarity lists\n",
    "    sim = []\n",
    "    dis = []\n",
    "    sim_id = []\n",
    "    dis_id =[]\n",
    "\n",
    "    # broadcast distance of matrix[i] to df_features_names containing song and artist names and sort values by distance[i]\n",
    "    for i in range(len(profiles)):\n",
    "        df_feats_names = df_features_names\n",
    "        df_feats_names[i] = dist_mat[i]\n",
    "        df_feats_names = df_feats_names.sort_values(by=i, ascending=True).reset_index().drop(['index'], axis=1)\n",
    "        \n",
    "        # for each profile create temporary sim and disim lists\n",
    "        s = []\n",
    "        d = []\n",
    "        s_id = []\n",
    "        d_id = []\n",
    "\n",
    "        ## append each profile list the profile closest and furthest n_neighbors tracks and corresponding song-artist names \n",
    "        for j in range (n_target):\n",
    "            \n",
    "            \n",
    "            s.append(df_feats_names.iloc[j, :9].values.flatten().tolist())\n",
    "            s_id.append(' - '.join((df_feats_names.iloc[j, 9:11])))\n",
    "            \n",
    "            d.append(df_feats_names.iloc[len(df_feats_names)-1-j, :9].values.flatten().tolist())\n",
    "            d_id.append(' - '.join((df_feats_names.iloc[len(df_feats_names)-1-j, 9:11])))\n",
    "            \n",
    "            '''\n",
    "            s.append(df_feats_names.iloc[j, :8].values.flatten().tolist())\n",
    "            s_id.append(' - '.join((df_feats_names.iloc[j, 8:10])))\n",
    "            \n",
    "            d.append(df_feats_names.iloc[len(df_feats_names)-1-j, :8].values.flatten().tolist())\n",
    "            d_id.append(' - '.join((df_feats_names.iloc[len(df_feats_names)-1-j, 8:10])))\n",
    "            '''\n",
    "\n",
    "            \n",
    "        sim.append(s)\n",
    "        sim_id.append(s_id)\n",
    "        dis.append(d)\n",
    "        dis_id.append(d_id)\n",
    "\n",
    "    return sim, dis, sim_id, dis_id"
   ]
  },
  {
   "cell_type": "code",
   "execution_count": 108,
   "metadata": {},
   "outputs": [],
   "source": [
    "#similar, disimilar, sim_names, dis_names = get_profile_neighbors(tracks_quanti_feats, tracks_quanti_feats_names, standard_profile)\n",
    "similar, disimilar, sim_names, dis_names = get_profile_neighbors(tracks_quanti_feats, tracks_quanti_feats_names, clusters_profiles)"
   ]
  },
  {
   "cell_type": "code",
   "execution_count": 109,
   "metadata": {},
   "outputs": [
    {
     "name": "stdout",
     "output_type": "stream",
     "text": [
      "Number of clusters 4\n",
      "fraction of the song databased suggested to the user  0.06999999999999999 %\n"
     ]
    }
   ],
   "source": [
    "print(\"Number of clusters\", len(similar))\n",
    "#print(\"Number of songs per cluster times number of cluster / nb of songs = proportion of songs of the database\",  len(similar[0])* len(similar) / 27607)\n",
    "fraction = round((len(similar[0])* len(similar) / 27607), 4) * 100\n",
    "\n",
    "print('fraction of the song databased suggested to the user ', fraction, \"%\" )\n"
   ]
  },
  {
   "cell_type": "code",
   "execution_count": 110,
   "metadata": {},
   "outputs": [
    {
     "name": "stdout",
     "output_type": "stream",
     "text": [
      "2\n"
     ]
    },
    {
     "data": {
      "text/plain": [
       "['Frank Sinatra - Cake', 'Fitter Happier - Radiohead']"
      ]
     },
     "execution_count": 110,
     "metadata": {},
     "output_type": "execute_result"
    }
   ],
   "source": [
    "song_user = (df_origin[df_origin[\"user\"] == user_name]['song_name'] + ' - ' + df_origin[df_origin[\"user\"] == user_name]['artist_name']).tolist()\n",
    "\n",
    "\n",
    "song_reco = []\n",
    "for i in range(len(sim_names)):\n",
    "    song_reco.extend(sim_names[i])\n",
    "#song_reco    \n",
    "print(len([i for i in song_user if i in song_reco]))\n",
    "[i for i in song_user if i in song_reco]"
   ]
  },
  {
   "cell_type": "code",
   "execution_count": 111,
   "metadata": {},
   "outputs": [
    {
     "name": "stdout",
     "output_type": "stream",
     "text": [
      "['Everyday',\n",
      " 'Arrival',\n",
      " 'Aftermath',\n",
      " 'The Dynasty',\n",
      " 'The Guilty Office',\n",
      " 'Fitter Happier',\n",
      " 'The Flowers of Spring',\n",
      " 'Church',\n",
      " 'Trash Scapes Vocals',\n",
      " 'Message To The Streets',\n",
      " 'Frank Sinatra',\n",
      " 'No Trash in My Trailer',\n",
      " 'Nothing Man',\n",
      " 'Redneck Friend',\n",
      " 'No Doubt About It',\n",
      " 'Scin',\n",
      " 'Lucy Leave',\n",
      " 'Galaxy Galaxy Galaxy',\n",
      " 'Sunday Sounds',\n",
      " 'Coming Home']\n",
      "['Yo La Tengo',\n",
      " 'Sun Kil Moon',\n",
      " 'Vijay Iyer',\n",
      " 'Orange Tulip Conspiracy',\n",
      " 'The Bats',\n",
      " 'Radiohead',\n",
      " 'De Dannan',\n",
      " 'Lyle Lovett',\n",
      " 'Ellen Allien',\n",
      " 'Wyclef Jean',\n",
      " 'Cake',\n",
      " 'Colt Ford',\n",
      " 'Bruce Springsteen',\n",
      " 'Dave Alvin',\n",
      " 'Hot Chocolate',\n",
      " 'I:Scintilla',\n",
      " 'The Wellwater Conspiracy',\n",
      " 'The High Water Marks',\n",
      " 'The Apples In Stereo',\n",
      " 'Way Out West']\n"
     ]
    }
   ],
   "source": [
    "from pprint import pprint\n",
    "song_list = [i.split(' - ', 1)[0] for i in song_reco]\n",
    "pprint(song_list)\n",
    "artist_list = [i.split(' - ', 1)[1] for i in song_reco]\n",
    "pprint(artist_list)"
   ]
  },
  {
   "cell_type": "code",
   "execution_count": 112,
   "metadata": {},
   "outputs": [
    {
     "data": {
      "text/html": [
       "<style type=\"text/css\">\n",
       "#T_0ace2_row1_col2, #T_0ace2_row1_col4, #T_0ace2_row5_col2, #T_0ace2_row5_col4 {\n",
       "  color: red;\n",
       "}\n",
       "</style>\n",
       "<table id=\"T_0ace2\">\n",
       "  <thead>\n",
       "    <tr>\n",
       "      <th class=\"blank level0\" >&nbsp;</th>\n",
       "      <th id=\"T_0ace2_level0_col0\" class=\"col_heading level0 col0\" >user</th>\n",
       "      <th id=\"T_0ace2_level0_col1\" class=\"col_heading level0 col1\" >listening_count</th>\n",
       "      <th id=\"T_0ace2_level0_col2\" class=\"col_heading level0 col2\" >song_name</th>\n",
       "      <th id=\"T_0ace2_level0_col3\" class=\"col_heading level0 col3\" >release</th>\n",
       "      <th id=\"T_0ace2_level0_col4\" class=\"col_heading level0 col4\" >artist_name</th>\n",
       "    </tr>\n",
       "  </thead>\n",
       "  <tbody>\n",
       "    <tr>\n",
       "      <th id=\"T_0ace2_level0_row0\" class=\"row_heading level0 row0\" >199905</th>\n",
       "      <td id=\"T_0ace2_row0_col0\" class=\"data row0 col0\" >6a46aee45cc177cf8e2025e59d21c7939902deee</td>\n",
       "      <td id=\"T_0ace2_row0_col1\" class=\"data row0 col1\" >55</td>\n",
       "      <td id=\"T_0ace2_row0_col2\" class=\"data row0 col2\" >Electric Feel</td>\n",
       "      <td id=\"T_0ace2_row0_col3\" class=\"data row0 col3\" >The Anthems</td>\n",
       "      <td id=\"T_0ace2_row0_col4\" class=\"data row0 col4\" >MGMT</td>\n",
       "    </tr>\n",
       "    <tr>\n",
       "      <th id=\"T_0ace2_level0_row1\" class=\"row_heading level0 row1\" >229127</th>\n",
       "      <td id=\"T_0ace2_row1_col0\" class=\"data row1 col0\" >6a46aee45cc177cf8e2025e59d21c7939902deee</td>\n",
       "      <td id=\"T_0ace2_row1_col1\" class=\"data row1 col1\" >809</td>\n",
       "      <td id=\"T_0ace2_row1_col2\" class=\"data row1 col2\" >Frank Sinatra</td>\n",
       "      <td id=\"T_0ace2_row1_col3\" class=\"data row1 col3\" >Fashion Nugget</td>\n",
       "      <td id=\"T_0ace2_row1_col4\" class=\"data row1 col4\" >Cake</td>\n",
       "    </tr>\n",
       "    <tr>\n",
       "      <th id=\"T_0ace2_level0_row2\" class=\"row_heading level0 row2\" >475781</th>\n",
       "      <td id=\"T_0ace2_row2_col0\" class=\"data row2 col0\" >6a46aee45cc177cf8e2025e59d21c7939902deee</td>\n",
       "      <td id=\"T_0ace2_row2_col1\" class=\"data row2 col1\" >128</td>\n",
       "      <td id=\"T_0ace2_row2_col2\" class=\"data row2 col2\" >You Only Live Once</td>\n",
       "      <td id=\"T_0ace2_row2_col3\" class=\"data row2 col3\" >You Only Live Once/Mercy Mercy Me</td>\n",
       "      <td id=\"T_0ace2_row2_col4\" class=\"data row2 col4\" >The Strokes</td>\n",
       "    </tr>\n",
       "    <tr>\n",
       "      <th id=\"T_0ace2_level0_row3\" class=\"row_heading level0 row3\" >779448</th>\n",
       "      <td id=\"T_0ace2_row3_col0\" class=\"data row3 col0\" >6a46aee45cc177cf8e2025e59d21c7939902deee</td>\n",
       "      <td id=\"T_0ace2_row3_col1\" class=\"data row3 col1\" >2</td>\n",
       "      <td id=\"T_0ace2_row3_col2\" class=\"data row3 col2\" >Karma Police</td>\n",
       "      <td id=\"T_0ace2_row3_col3\" class=\"data row3 col3\" >OK Computer (Collector's Edition)</td>\n",
       "      <td id=\"T_0ace2_row3_col4\" class=\"data row3 col4\" >Radiohead</td>\n",
       "    </tr>\n",
       "    <tr>\n",
       "      <th id=\"T_0ace2_level0_row4\" class=\"row_heading level0 row4\" >1072974</th>\n",
       "      <td id=\"T_0ace2_row4_col0\" class=\"data row4 col0\" >6a46aee45cc177cf8e2025e59d21c7939902deee</td>\n",
       "      <td id=\"T_0ace2_row4_col1\" class=\"data row4 col1\" >72</td>\n",
       "      <td id=\"T_0ace2_row4_col2\" class=\"data row4 col2\" >Kid A</td>\n",
       "      <td id=\"T_0ace2_row4_col3\" class=\"data row4 col3\" >Kid A</td>\n",
       "      <td id=\"T_0ace2_row4_col4\" class=\"data row4 col4\" >Radiohead</td>\n",
       "    </tr>\n",
       "    <tr>\n",
       "      <th id=\"T_0ace2_level0_row5\" class=\"row_heading level0 row5\" >1333466</th>\n",
       "      <td id=\"T_0ace2_row5_col0\" class=\"data row5 col0\" >6a46aee45cc177cf8e2025e59d21c7939902deee</td>\n",
       "      <td id=\"T_0ace2_row5_col1\" class=\"data row5 col1\" >2</td>\n",
       "      <td id=\"T_0ace2_row5_col2\" class=\"data row5 col2\" >Fitter Happier</td>\n",
       "      <td id=\"T_0ace2_row5_col3\" class=\"data row5 col3\" >OK Computer (Collector's Edition)</td>\n",
       "      <td id=\"T_0ace2_row5_col4\" class=\"data row5 col4\" >Radiohead</td>\n",
       "    </tr>\n",
       "    <tr>\n",
       "      <th id=\"T_0ace2_level0_row6\" class=\"row_heading level0 row6\" >1636048</th>\n",
       "      <td id=\"T_0ace2_row6_col0\" class=\"data row6 col0\" >6a46aee45cc177cf8e2025e59d21c7939902deee</td>\n",
       "      <td id=\"T_0ace2_row6_col1\" class=\"data row6 col1\" >135</td>\n",
       "      <td id=\"T_0ace2_row6_col2\" class=\"data row6 col2\" >The End Has No End</td>\n",
       "      <td id=\"T_0ace2_row6_col3\" class=\"data row6 col3\" >Room On Fire</td>\n",
       "      <td id=\"T_0ace2_row6_col4\" class=\"data row6 col4\" >The Strokes</td>\n",
       "    </tr>\n",
       "    <tr>\n",
       "      <th id=\"T_0ace2_level0_row7\" class=\"row_heading level0 row7\" >1644162</th>\n",
       "      <td id=\"T_0ace2_row7_col0\" class=\"data row7 col0\" >6a46aee45cc177cf8e2025e59d21c7939902deee</td>\n",
       "      <td id=\"T_0ace2_row7_col1\" class=\"data row7 col1\" >32</td>\n",
       "      <td id=\"T_0ace2_row7_col2\" class=\"data row7 col2\" >Reptilia</td>\n",
       "      <td id=\"T_0ace2_row7_col3\" class=\"data row7 col3\" >Reptilia</td>\n",
       "      <td id=\"T_0ace2_row7_col4\" class=\"data row7 col4\" >The Strokes</td>\n",
       "    </tr>\n",
       "    <tr>\n",
       "      <th id=\"T_0ace2_level0_row8\" class=\"row_heading level0 row8\" >2033226</th>\n",
       "      <td id=\"T_0ace2_row8_col0\" class=\"data row8 col0\" >6a46aee45cc177cf8e2025e59d21c7939902deee</td>\n",
       "      <td id=\"T_0ace2_row8_col1\" class=\"data row8 col1\" >74</td>\n",
       "      <td id=\"T_0ace2_row8_col2\" class=\"data row8 col2\" >Everything In Its Right Place</td>\n",
       "      <td id=\"T_0ace2_row8_col3\" class=\"data row8 col3\" >The Best Of</td>\n",
       "      <td id=\"T_0ace2_row8_col4\" class=\"data row8 col4\" >Radiohead</td>\n",
       "    </tr>\n",
       "    <tr>\n",
       "      <th id=\"T_0ace2_level0_row9\" class=\"row_heading level0 row9\" >2039121</th>\n",
       "      <td id=\"T_0ace2_row9_col0\" class=\"data row9 col0\" >6a46aee45cc177cf8e2025e59d21c7939902deee</td>\n",
       "      <td id=\"T_0ace2_row9_col1\" class=\"data row9 col1\" >60</td>\n",
       "      <td id=\"T_0ace2_row9_col2\" class=\"data row9 col2\" >In Limbo</td>\n",
       "      <td id=\"T_0ace2_row9_col3\" class=\"data row9 col3\" >Kid A</td>\n",
       "      <td id=\"T_0ace2_row9_col4\" class=\"data row9 col4\" >Radiohead</td>\n",
       "    </tr>\n",
       "    <tr>\n",
       "      <th id=\"T_0ace2_level0_row10\" class=\"row_heading level0 row10\" >2522503</th>\n",
       "      <td id=\"T_0ace2_row10_col0\" class=\"data row10 col0\" >6a46aee45cc177cf8e2025e59d21c7939902deee</td>\n",
       "      <td id=\"T_0ace2_row10_col1\" class=\"data row10 col1\" >1</td>\n",
       "      <td id=\"T_0ace2_row10_col2\" class=\"data row10 col2\" >I Might Be Wrong</td>\n",
       "      <td id=\"T_0ace2_row10_col3\" class=\"data row10 col3\" >The Best Of</td>\n",
       "      <td id=\"T_0ace2_row10_col4\" class=\"data row10 col4\" >Radiohead</td>\n",
       "    </tr>\n",
       "    <tr>\n",
       "      <th id=\"T_0ace2_level0_row11\" class=\"row_heading level0 row11\" >2526543</th>\n",
       "      <td id=\"T_0ace2_row11_col0\" class=\"data row11 col0\" >6a46aee45cc177cf8e2025e59d21c7939902deee</td>\n",
       "      <td id=\"T_0ace2_row11_col1\" class=\"data row11 col1\" >1</td>\n",
       "      <td id=\"T_0ace2_row11_col2\" class=\"data row11 col2\" >Let Down</td>\n",
       "      <td id=\"T_0ace2_row11_col3\" class=\"data row11 col3\" >The Best Of</td>\n",
       "      <td id=\"T_0ace2_row11_col4\" class=\"data row11 col4\" >Radiohead</td>\n",
       "    </tr>\n",
       "    <tr>\n",
       "      <th id=\"T_0ace2_level0_row12\" class=\"row_heading level0 row12\" >2539985</th>\n",
       "      <td id=\"T_0ace2_row12_col0\" class=\"data row12 col0\" >6a46aee45cc177cf8e2025e59d21c7939902deee</td>\n",
       "      <td id=\"T_0ace2_row12_col1\" class=\"data row12 col1\" >3</td>\n",
       "      <td id=\"T_0ace2_row12_col2\" class=\"data row12 col2\" >Exit Music (For A Film)</td>\n",
       "      <td id=\"T_0ace2_row12_col3\" class=\"data row12 col3\" >OK Computer (Collector's Edition)</td>\n",
       "      <td id=\"T_0ace2_row12_col4\" class=\"data row12 col4\" >Radiohead</td>\n",
       "    </tr>\n",
       "    <tr>\n",
       "      <th id=\"T_0ace2_level0_row13\" class=\"row_heading level0 row13\" >2792312</th>\n",
       "      <td id=\"T_0ace2_row13_col0\" class=\"data row13 col0\" >6a46aee45cc177cf8e2025e59d21c7939902deee</td>\n",
       "      <td id=\"T_0ace2_row13_col1\" class=\"data row13 col1\" >3</td>\n",
       "      <td id=\"T_0ace2_row13_col2\" class=\"data row13 col2\" >Subterranean Homesick Alien</td>\n",
       "      <td id=\"T_0ace2_row13_col3\" class=\"data row13 col3\" >OK Computer (Collector's Edition)</td>\n",
       "      <td id=\"T_0ace2_row13_col4\" class=\"data row13 col4\" >Radiohead</td>\n",
       "    </tr>\n",
       "    <tr>\n",
       "      <th id=\"T_0ace2_level0_row14\" class=\"row_heading level0 row14\" >2803432</th>\n",
       "      <td id=\"T_0ace2_row14_col0\" class=\"data row14 col0\" >6a46aee45cc177cf8e2025e59d21c7939902deee</td>\n",
       "      <td id=\"T_0ace2_row14_col1\" class=\"data row14 col1\" >1</td>\n",
       "      <td id=\"T_0ace2_row14_col2\" class=\"data row14 col2\" >Pulk/Pull Revolving Doors</td>\n",
       "      <td id=\"T_0ace2_row14_col3\" class=\"data row14 col3\" >Amnesiac</td>\n",
       "      <td id=\"T_0ace2_row14_col4\" class=\"data row14 col4\" >Radiohead</td>\n",
       "    </tr>\n",
       "    <tr>\n",
       "      <th id=\"T_0ace2_level0_row15\" class=\"row_heading level0 row15\" >3014638</th>\n",
       "      <td id=\"T_0ace2_row15_col0\" class=\"data row15 col0\" >6a46aee45cc177cf8e2025e59d21c7939902deee</td>\n",
       "      <td id=\"T_0ace2_row15_col1\" class=\"data row15 col1\" >1</td>\n",
       "      <td id=\"T_0ace2_row15_col2\" class=\"data row15 col2\" >Like Spinning Plates</td>\n",
       "      <td id=\"T_0ace2_row15_col3\" class=\"data row15 col3\" >Amnesiac</td>\n",
       "      <td id=\"T_0ace2_row15_col4\" class=\"data row15 col4\" >Radiohead</td>\n",
       "    </tr>\n",
       "  </tbody>\n",
       "</table>\n"
      ],
      "text/plain": [
       "<pandas.io.formats.style.Styler at 0x2ebdecb8730>"
      ]
     },
     "execution_count": 112,
     "metadata": {},
     "output_type": "execute_result"
    }
   ],
   "source": [
    "\n",
    "df_user_temp = df_origin[df_origin[\"user\"] == user_name].drop(df_origin.iloc[:,5: ], axis=1)\n",
    "import dataframe_image as dfi \n",
    "'''\n",
    "def highlight_interest(val):\n",
    "    \n",
    "    is_present = [i for i in song_user if i in song_reco]\n",
    "    color = 'red' if val in is_present else 'black'\n",
    "    \n",
    "    return 'color: %s' % color\n",
    "    #return ['background-color: blue' if i in is_present else 'background-color: white'] \n",
    "\n",
    "df_user_temp.style.apply(highlight_interest)\n",
    "'''\n",
    "def red_or_auto(x):\n",
    "    # set font color to red for keys whose corresponding v is positive\n",
    "    # all other values have default font color\n",
    "    #return pd.DataFrame('', index=x.index, columns=x.columns).assign(song_name=np.where(x['song_name'] + ' - ' + x['artist_name'].isin(song_reco), \"color:red\", ''))\n",
    "    return pd.DataFrame('', index=x.index, columns=x.columns).assign(song_name=np.where((x['song_name'].isin(song_list)) & (x['artist_name'].isin(artist_list)) , \"color:red\", ''),\n",
    "                                                                     artist_name = (np.where((x['artist_name'].isin(artist_list)) & (x['song_name'].isin(song_list)), \"color:red\", '')))\n",
    "\n",
    "df_styled = df_user_temp.style.apply(red_or_auto, axis=None, subset=['song_name', 'artist_name'])\n",
    "df_styled\n",
    "\n"
   ]
  },
  {
   "cell_type": "code",
   "execution_count": 113,
   "metadata": {},
   "outputs": [
    {
     "name": "stdout",
     "output_type": "stream",
     "text": [
      "['Everyday - Yo La Tengo',\n",
      " 'The Woodbridge Dog Disaster - Stan Rogers',\n",
      " 'Arrival - Sun Kil Moon',\n",
      " \"Jaden's Interlude - Will Smith\",\n",
      " 'Aftermath - Vijay Iyer',\n",
      " 'ER - George Lopez',\n",
      " 'The Dynasty - Orange Tulip Conspiracy',\n",
      " 'Holmes Depot - George Lopez',\n",
      " 'The Guilty Office - The Bats',\n",
      " 'Trip To Mexico - George Lopez']\n"
     ]
    },
    {
     "data": {
      "application/vnd.plotly.v1+json": {
       "config": {
        "plotlyServerURL": "https://plot.ly"
       },
       "data": [
        {
         "fill": "toself",
         "line": {
          "color": "#636EFA"
         },
         "mode": "lines+markers",
         "name": "Cluster center centroid 1 profile",
         "r": [
          -0.16785044059490556,
          -0.5106676670652823,
          -1.2770266038869298,
          -0.4329818584966948,
          0.6410016216903326,
          2.796097750270563,
          -0.011847617527207865,
          -0.6899265865020481,
          -0.6501571077931173
         ],
         "subplot": "polar",
         "theta": [
          "Danceability",
          "Energy",
          "Loudness",
          "Speechiness",
          "Acousticness",
          "instrumentalness",
          "Liveness",
          "Valence",
          "Tempo"
         ],
         "type": "scatterpolar"
        },
        {
         "fill": "toself",
         "line": {
          "color": "#EF553B"
         },
         "name": "Closest track rank 1",
         "r": [
          -0.24967909605233715,
          -0.7277393100182449,
          -1.3903206427649613,
          -0.448704400357103,
          0.9725957470813776,
          2.008629206224758,
          0.052656163996881236,
          -1.2917955528805443,
          -0.8015780789986862
         ],
         "subplot": "polar",
         "theta": [
          "Danceability",
          "Energy",
          "Loudness",
          "Speechiness",
          "Acousticness",
          "instrumentalness",
          "Liveness",
          "Valence",
          "Tempo"
         ],
         "type": "scatterpolar"
        },
        {
         "fill": "toself",
         "line": {
          "color": "#636EFA"
         },
         "mode": "lines+markers",
         "name": "Cluster center centroid 1 profile",
         "r": [
          -0.16785044059490556,
          -0.5106676670652823,
          -1.2770266038869298,
          -0.4329818584966948,
          0.6410016216903326,
          2.796097750270563,
          -0.011847617527207865,
          -0.6899265865020481,
          -0.6501571077931173
         ],
         "showlegend": false,
         "subplot": "polar2",
         "theta": [
          "Danceability",
          "Energy",
          "Loudness",
          "Speechiness",
          "Acousticness",
          "instrumentalness",
          "Liveness",
          "Valence",
          "Tempo"
         ],
         "type": "scatterpolar"
        },
        {
         "fill": "toself",
         "line": {
          "color": "#B6E880"
         },
         "name": "Furthest track rank 1",
         "r": [
          0.8739017719931222,
          -1.2569728316922326,
          -0.8456510174060734,
          8.693488912369338,
          1.8075124721594864,
          -0.6235690916720154,
          4.031735830888243,
          0.22822365946944473,
          -0.7823066168272176
         ],
         "subplot": "polar2",
         "theta": [
          "Danceability",
          "Energy",
          "Loudness",
          "Speechiness",
          "Acousticness",
          "instrumentalness",
          "Liveness",
          "Valence",
          "Tempo"
         ],
         "type": "scatterpolar"
        },
        {
         "fill": "toself",
         "line": {
          "color": "#636EFA"
         },
         "mode": "lines+markers",
         "name": "Cluster center centroid 1 profile",
         "r": [
          -0.16785044059490556,
          -0.5106676670652823,
          -1.2770266038869298,
          -0.4329818584966948,
          0.6410016216903326,
          2.796097750270563,
          -0.011847617527207865,
          -0.6899265865020481,
          -0.6501571077931173
         ],
         "showlegend": false,
         "subplot": "polar3",
         "theta": [
          "Danceability",
          "Energy",
          "Loudness",
          "Speechiness",
          "Acousticness",
          "instrumentalness",
          "Liveness",
          "Valence",
          "Tempo"
         ],
         "type": "scatterpolar"
        },
        {
         "fill": "toself",
         "line": {
          "color": "#EF553B"
         },
         "name": "Closest track rank 2",
         "r": [
          -0.6242060520674909,
          -0.9472732153052328,
          -1.2183670916186013,
          -0.4728342408393899,
          0.5211222587058075,
          2.349840096692858,
          -0.614252503064428,
          -1.2263770045009246,
          -0.6210244144473741
         ],
         "subplot": "polar3",
         "theta": [
          "Danceability",
          "Energy",
          "Loudness",
          "Speechiness",
          "Acousticness",
          "instrumentalness",
          "Liveness",
          "Valence",
          "Tempo"
         ],
         "type": "scatterpolar"
        },
        {
         "fill": "toself",
         "line": {
          "color": "#636EFA"
         },
         "mode": "lines+markers",
         "name": "Cluster center centroid 1 profile",
         "r": [
          -0.16785044059490556,
          -0.5106676670652823,
          -1.2770266038869298,
          -0.4329818584966948,
          0.6410016216903326,
          2.796097750270563,
          -0.011847617527207865,
          -0.6899265865020481,
          -0.6501571077931173
         ],
         "showlegend": false,
         "subplot": "polar4",
         "theta": [
          "Danceability",
          "Energy",
          "Loudness",
          "Speechiness",
          "Acousticness",
          "instrumentalness",
          "Liveness",
          "Valence",
          "Tempo"
         ],
         "type": "scatterpolar"
        },
        {
         "fill": "toself",
         "line": {
          "color": "#B6E880"
         },
         "name": "Furthest track rank 2",
         "r": [
          1.0527803181496134,
          -1.8606910712314484,
          -2.8141140518642684,
          8.502461008551235,
          1.7796819146568825,
          -0.6235690916720154,
          3.6908240521987556,
          -1.0185769096480148,
          -2.3667530739111062
         ],
         "subplot": "polar4",
         "theta": [
          "Danceability",
          "Energy",
          "Loudness",
          "Speechiness",
          "Acousticness",
          "instrumentalness",
          "Liveness",
          "Valence",
          "Tempo"
         ],
         "type": "scatterpolar"
        },
        {
         "fill": "toself",
         "line": {
          "color": "#636EFA"
         },
         "mode": "lines+markers",
         "name": "Cluster center centroid 1 profile",
         "r": [
          -0.16785044059490556,
          -0.5106676670652823,
          -1.2770266038869298,
          -0.4329818584966948,
          0.6410016216903326,
          2.796097750270563,
          -0.011847617527207865,
          -0.6899265865020481,
          -0.6501571077931173
         ],
         "showlegend": false,
         "subplot": "polar5",
         "theta": [
          "Danceability",
          "Energy",
          "Loudness",
          "Speechiness",
          "Acousticness",
          "instrumentalness",
          "Liveness",
          "Valence",
          "Tempo"
         ],
         "type": "scatterpolar"
        },
        {
         "fill": "toself",
         "line": {
          "color": "#EF553B"
         },
         "name": "Closest track rank 3",
         "r": [
          -0.37824805110231585,
          -0.6806963303138903,
          -0.6610935410447972,
          -0.5110398216030109,
          1.015887725418761,
          2.2889095805378403,
          -0.240314895814397,
          -1.3302770519273794,
          -0.6471073416966898
         ],
         "subplot": "polar5",
         "theta": [
          "Danceability",
          "Energy",
          "Loudness",
          "Speechiness",
          "Acousticness",
          "instrumentalness",
          "Liveness",
          "Valence",
          "Tempo"
         ],
         "type": "scatterpolar"
        },
        {
         "fill": "toself",
         "line": {
          "color": "#636EFA"
         },
         "mode": "lines+markers",
         "name": "Cluster center centroid 1 profile",
         "r": [
          -0.16785044059490556,
          -0.5106676670652823,
          -1.2770266038869298,
          -0.4329818584966948,
          0.6410016216903326,
          2.796097750270563,
          -0.011847617527207865,
          -0.6899265865020481,
          -0.6501571077931173
         ],
         "showlegend": false,
         "subplot": "polar6",
         "theta": [
          "Danceability",
          "Energy",
          "Loudness",
          "Speechiness",
          "Acousticness",
          "instrumentalness",
          "Liveness",
          "Valence",
          "Tempo"
         ],
         "type": "scatterpolar"
        },
        {
         "fill": "toself",
         "line": {
          "color": "#B6E880"
         },
         "name": "Furthest track rank 3",
         "r": [
          -0.28880877802407023,
          0.04454960679490772,
          -1.435559731482786,
          8.794029914378868,
          1.7982356196586182,
          -0.6235690916720154,
          3.7973589830392207,
          -0.6029767199421949,
          -1.909587473881386
         ],
         "subplot": "polar6",
         "theta": [
          "Danceability",
          "Energy",
          "Loudness",
          "Speechiness",
          "Acousticness",
          "instrumentalness",
          "Liveness",
          "Valence",
          "Tempo"
         ],
         "type": "scatterpolar"
        },
        {
         "fill": "toself",
         "line": {
          "color": "#636EFA"
         },
         "mode": "lines+markers",
         "name": "Cluster center centroid 1 profile",
         "r": [
          -0.16785044059490556,
          -0.5106676670652823,
          -1.2770266038869298,
          -0.4329818584966948,
          0.6410016216903326,
          2.796097750270563,
          -0.011847617527207865,
          -0.6899265865020481,
          -0.6501571077931173
         ],
         "showlegend": false,
         "subplot": "polar7",
         "theta": [
          "Danceability",
          "Energy",
          "Loudness",
          "Speechiness",
          "Acousticness",
          "instrumentalness",
          "Liveness",
          "Valence",
          "Tempo"
         ],
         "type": "scatterpolar"
        },
        {
         "fill": "toself",
         "line": {
          "color": "#EF553B"
         },
         "name": "Closest track rank 4",
         "r": [
          -0.21054941408060504,
          -1.0452794230226377,
          -1.2975917643980759,
          -0.46680178071881817,
          1.176686502100471,
          2.1792346514588083,
          -0.2776021216085591,
          -0.5337100216578916,
          -0.04696742835002214
         ],
         "subplot": "polar7",
         "theta": [
          "Danceability",
          "Energy",
          "Loudness",
          "Speechiness",
          "Acousticness",
          "instrumentalness",
          "Liveness",
          "Valence",
          "Tempo"
         ],
         "type": "scatterpolar"
        },
        {
         "fill": "toself",
         "line": {
          "color": "#636EFA"
         },
         "mode": "lines+markers",
         "name": "Cluster center centroid 1 profile",
         "r": [
          -0.16785044059490556,
          -0.5106676670652823,
          -1.2770266038869298,
          -0.4329818584966948,
          0.6410016216903326,
          2.796097750270563,
          -0.011847617527207865,
          -0.6899265865020481,
          -0.6501571077931173
         ],
         "showlegend": false,
         "subplot": "polar8",
         "theta": [
          "Danceability",
          "Energy",
          "Loudness",
          "Speechiness",
          "Acousticness",
          "instrumentalness",
          "Liveness",
          "Valence",
          "Tempo"
         ],
         "type": "scatterpolar"
        },
        {
         "fill": "toself",
         "line": {
          "color": "#B6E880"
         },
         "name": "Furthest track rank 4",
         "r": [
          -0.6074361883653192,
          -0.2612297612833966,
          -1.5917583761104999,
          8.783975814177914,
          1.918834702169901,
          -0.6235690916720154,
          3.8346462088333833,
          -0.7492064163201687,
          -1.4840868797989244
         ],
         "subplot": "polar8",
         "theta": [
          "Danceability",
          "Energy",
          "Loudness",
          "Speechiness",
          "Acousticness",
          "instrumentalness",
          "Liveness",
          "Valence",
          "Tempo"
         ],
         "type": "scatterpolar"
        },
        {
         "fill": "toself",
         "line": {
          "color": "#636EFA"
         },
         "mode": "lines+markers",
         "name": "Cluster center centroid 1 profile",
         "r": [
          -0.16785044059490556,
          -0.5106676670652823,
          -1.2770266038869298,
          -0.4329818584966948,
          0.6410016216903326,
          2.796097750270563,
          -0.011847617527207865,
          -0.6899265865020481,
          -0.6501571077931173
         ],
         "showlegend": false,
         "subplot": "polar9",
         "theta": [
          "Danceability",
          "Energy",
          "Loudness",
          "Speechiness",
          "Acousticness",
          "instrumentalness",
          "Liveness",
          "Valence",
          "Tempo"
         ],
         "type": "scatterpolar"
        },
        {
         "fill": "toself",
         "line": {
          "color": "#EF553B"
         },
         "name": "Closest track rank 5",
         "r": [
          -0.2999886871588503,
          -0.6846165786225865,
          -0.8044631903644716,
          -0.4798721109800569,
          1.148855944597867,
          1.9964431029937544,
          -0.5439394487097218,
          -0.8300175643185224,
          -0.30719862098268175
         ],
         "subplot": "polar9",
         "theta": [
          "Danceability",
          "Energy",
          "Loudness",
          "Speechiness",
          "Acousticness",
          "instrumentalness",
          "Liveness",
          "Valence",
          "Tempo"
         ],
         "type": "scatterpolar"
        },
        {
         "fill": "toself",
         "line": {
          "color": "#636EFA"
         },
         "mode": "lines+markers",
         "name": "Cluster center centroid 1 profile",
         "r": [
          -0.16785044059490556,
          -0.5106676670652823,
          -1.2770266038869298,
          -0.4329818584966948,
          0.6410016216903326,
          2.796097750270563,
          -0.011847617527207865,
          -0.6899265865020481,
          -0.6501571077931173
         ],
         "showlegend": false,
         "subplot": "polar10",
         "theta": [
          "Danceability",
          "Energy",
          "Loudness",
          "Speechiness",
          "Acousticness",
          "instrumentalness",
          "Liveness",
          "Valence",
          "Tempo"
         ],
         "type": "scatterpolar"
        },
        {
         "fill": "toself",
         "line": {
          "color": "#B6E880"
         },
         "name": "Furthest track rank 5",
         "r": [
          -0.32793845999580207,
          0.3777707130340851,
          -1.0653194282946163,
          8.643218411364574,
          1.7178362313177633,
          -0.6235690916720154,
          3.941181139673848,
          -0.6568508186077642,
          0.714620820671071
         ],
         "subplot": "polar10",
         "theta": [
          "Danceability",
          "Energy",
          "Loudness",
          "Speechiness",
          "Acousticness",
          "instrumentalness",
          "Liveness",
          "Valence",
          "Tempo"
         ],
         "type": "scatterpolar"
        }
       ],
       "layout": {
        "annotations": [
         {
          "font": {
           "size": 16
          },
          "showarrow": false,
          "text": "Everyday - Yo La Tengo",
          "x": 0.25,
          "xanchor": "center",
          "xref": "paper",
          "y": 1.03,
          "yanchor": "bottom",
          "yref": "paper"
         },
         {
          "font": {
           "size": 16
          },
          "showarrow": false,
          "text": "The Woodbridge Dog Disaster - Stan Rogers",
          "x": 0.75,
          "xanchor": "center",
          "xref": "paper",
          "y": 1.03,
          "yanchor": "bottom",
          "yref": "paper"
         },
         {
          "font": {
           "size": 16
          },
          "showarrow": false,
          "text": "Arrival - Sun Kil Moon",
          "x": 0.25,
          "xanchor": "center",
          "xref": "paper",
          "y": 0.82,
          "yanchor": "bottom",
          "yref": "paper"
         },
         {
          "font": {
           "size": 16
          },
          "showarrow": false,
          "text": "Jaden's Interlude - Will Smith",
          "x": 0.75,
          "xanchor": "center",
          "xref": "paper",
          "y": 0.82,
          "yanchor": "bottom",
          "yref": "paper"
         },
         {
          "font": {
           "size": 16
          },
          "showarrow": false,
          "text": "Aftermath - Vijay Iyer",
          "x": 0.25,
          "xanchor": "center",
          "xref": "paper",
          "y": 0.6,
          "yanchor": "bottom",
          "yref": "paper"
         },
         {
          "font": {
           "size": 16
          },
          "showarrow": false,
          "text": "ER - George Lopez",
          "x": 0.75,
          "xanchor": "center",
          "xref": "paper",
          "y": 0.6,
          "yanchor": "bottom",
          "yref": "paper"
         },
         {
          "font": {
           "size": 16
          },
          "showarrow": false,
          "text": "The Dynasty - Orange Tulip Conspiracy",
          "x": 0.25,
          "xanchor": "center",
          "xref": "paper",
          "y": 0.38,
          "yanchor": "bottom",
          "yref": "paper"
         },
         {
          "font": {
           "size": 16
          },
          "showarrow": false,
          "text": "Holmes Depot - George Lopez",
          "x": 0.75,
          "xanchor": "center",
          "xref": "paper",
          "y": 0.38,
          "yanchor": "bottom",
          "yref": "paper"
         },
         {
          "font": {
           "size": 16
          },
          "showarrow": false,
          "text": "The Guilty Office - The Bats",
          "x": 0.25,
          "xanchor": "center",
          "xref": "paper",
          "y": 0.16,
          "yanchor": "bottom",
          "yref": "paper"
         },
         {
          "font": {
           "size": 16
          },
          "showarrow": false,
          "text": "Trip To Mexico - George Lopez",
          "x": 0.75,
          "xanchor": "center",
          "xref": "paper",
          "y": 0.16,
          "yanchor": "bottom",
          "yref": "paper"
         },
         {
          "font": {
           "color": "black",
           "size": 20
          },
          "showarrow": false,
          "text": "Closest tracks from centroid 1",
          "x": 0.12,
          "y": 1.09
         },
         {
          "font": {
           "color": "black",
           "size": 22
          },
          "showarrow": false,
          "text": "Furthest tracks from centroid 1",
          "x": 0.9,
          "y": 1.09
         },
         {
          "font": {
           "color": "black",
           "size": 22
          },
          "showarrow": false,
          "text": "Rank",
          "x": 0.005,
          "y": 1.09
         },
         {
          "font": {
           "color": "black",
           "size": 22
          },
          "showarrow": false,
          "text": "1",
          "x": 0.01,
          "y": 1.05
         },
         {
          "font": {
           "color": "black",
           "size": 22
          },
          "showarrow": false,
          "text": "2",
          "x": 0.01,
          "y": 0.84
         },
         {
          "font": {
           "color": "black",
           "size": 22
          },
          "showarrow": false,
          "text": "3",
          "x": 0.01,
          "y": 0.608
         },
         {
          "font": {
           "color": "black",
           "size": 22
          },
          "showarrow": false,
          "text": "4",
          "x": 0.01,
          "y": 0.389
         },
         {
          "font": {
           "color": "black",
           "size": 22
          },
          "showarrow": false,
          "text": "5",
          "x": 0.01,
          "y": 0.159
         }
        ],
        "height": 1600,
        "margin": {
         "b": 50,
         "l": 50,
         "r": 50,
         "t": 200
        },
        "polar": {
         "domain": {
          "x": [
           0,
           0.5
          ],
          "y": [
           0.88,
           1
          ]
         },
         "radialaxis": {
          "range": [
           -1.3903206427649613,
           2.796097750270563
          ],
          "showticklabels": false,
          "ticks": ""
         }
        },
        "polar10": {
         "domain": {
          "x": [
           0.5,
           1
          ],
          "y": [
           0,
           0.12
          ]
         },
         "radialaxis": {
          "range": [
           -2.8141140518642684,
           8.794029914378868
          ],
          "showticklabels": false,
          "ticks": ""
         }
        },
        "polar2": {
         "domain": {
          "x": [
           0.5,
           1
          ],
          "y": [
           0.88,
           1
          ]
         },
         "radialaxis": {
          "range": [
           -2.8141140518642684,
           8.794029914378868
          ],
          "showticklabels": false,
          "ticks": ""
         }
        },
        "polar3": {
         "domain": {
          "x": [
           0,
           0.5
          ],
          "y": [
           0.66,
           0.78
          ]
         },
         "radialaxis": {
          "range": [
           -1.3903206427649613,
           2.796097750270563
          ],
          "showticklabels": false,
          "ticks": ""
         }
        },
        "polar4": {
         "domain": {
          "x": [
           0.5,
           1
          ],
          "y": [
           0.66,
           0.78
          ]
         },
         "radialaxis": {
          "range": [
           -2.8141140518642684,
           8.794029914378868
          ],
          "showticklabels": false,
          "ticks": ""
         }
        },
        "polar5": {
         "domain": {
          "x": [
           0,
           0.5
          ],
          "y": [
           0.44,
           0.56
          ]
         },
         "radialaxis": {
          "range": [
           -1.3903206427649613,
           2.796097750270563
          ],
          "showticklabels": false,
          "ticks": ""
         }
        },
        "polar6": {
         "domain": {
          "x": [
           0.5,
           1
          ],
          "y": [
           0.44,
           0.56
          ]
         },
         "radialaxis": {
          "range": [
           -2.8141140518642684,
           8.794029914378868
          ],
          "showticklabels": false,
          "ticks": ""
         }
        },
        "polar7": {
         "domain": {
          "x": [
           0,
           0.5
          ],
          "y": [
           0.22,
           0.33999999999999997
          ]
         },
         "radialaxis": {
          "range": [
           -1.3903206427649613,
           2.796097750270563
          ],
          "showticklabels": false,
          "ticks": ""
         }
        },
        "polar8": {
         "domain": {
          "x": [
           0.5,
           1
          ],
          "y": [
           0.22,
           0.33999999999999997
          ]
         },
         "radialaxis": {
          "range": [
           -2.8141140518642684,
           8.794029914378868
          ],
          "showticklabels": false,
          "ticks": ""
         }
        },
        "polar9": {
         "domain": {
          "x": [
           0,
           0.5
          ],
          "y": [
           0,
           0.12
          ]
         },
         "radialaxis": {
          "range": [
           -1.3903206427649613,
           2.796097750270563
          ],
          "showticklabels": false,
          "ticks": ""
         }
        },
        "showlegend": false,
        "template": {
         "data": {
          "bar": [
           {
            "error_x": {
             "color": "#2a3f5f"
            },
            "error_y": {
             "color": "#2a3f5f"
            },
            "marker": {
             "line": {
              "color": "#E5ECF6",
              "width": 0.5
             },
             "pattern": {
              "fillmode": "overlay",
              "size": 10,
              "solidity": 0.2
             }
            },
            "type": "bar"
           }
          ],
          "barpolar": [
           {
            "marker": {
             "line": {
              "color": "#E5ECF6",
              "width": 0.5
             },
             "pattern": {
              "fillmode": "overlay",
              "size": 10,
              "solidity": 0.2
             }
            },
            "type": "barpolar"
           }
          ],
          "carpet": [
           {
            "aaxis": {
             "endlinecolor": "#2a3f5f",
             "gridcolor": "white",
             "linecolor": "white",
             "minorgridcolor": "white",
             "startlinecolor": "#2a3f5f"
            },
            "baxis": {
             "endlinecolor": "#2a3f5f",
             "gridcolor": "white",
             "linecolor": "white",
             "minorgridcolor": "white",
             "startlinecolor": "#2a3f5f"
            },
            "type": "carpet"
           }
          ],
          "choropleth": [
           {
            "colorbar": {
             "outlinewidth": 0,
             "ticks": ""
            },
            "type": "choropleth"
           }
          ],
          "contour": [
           {
            "colorbar": {
             "outlinewidth": 0,
             "ticks": ""
            },
            "colorscale": [
             [
              0,
              "#0d0887"
             ],
             [
              0.1111111111111111,
              "#46039f"
             ],
             [
              0.2222222222222222,
              "#7201a8"
             ],
             [
              0.3333333333333333,
              "#9c179e"
             ],
             [
              0.4444444444444444,
              "#bd3786"
             ],
             [
              0.5555555555555556,
              "#d8576b"
             ],
             [
              0.6666666666666666,
              "#ed7953"
             ],
             [
              0.7777777777777778,
              "#fb9f3a"
             ],
             [
              0.8888888888888888,
              "#fdca26"
             ],
             [
              1,
              "#f0f921"
             ]
            ],
            "type": "contour"
           }
          ],
          "contourcarpet": [
           {
            "colorbar": {
             "outlinewidth": 0,
             "ticks": ""
            },
            "type": "contourcarpet"
           }
          ],
          "heatmap": [
           {
            "colorbar": {
             "outlinewidth": 0,
             "ticks": ""
            },
            "colorscale": [
             [
              0,
              "#0d0887"
             ],
             [
              0.1111111111111111,
              "#46039f"
             ],
             [
              0.2222222222222222,
              "#7201a8"
             ],
             [
              0.3333333333333333,
              "#9c179e"
             ],
             [
              0.4444444444444444,
              "#bd3786"
             ],
             [
              0.5555555555555556,
              "#d8576b"
             ],
             [
              0.6666666666666666,
              "#ed7953"
             ],
             [
              0.7777777777777778,
              "#fb9f3a"
             ],
             [
              0.8888888888888888,
              "#fdca26"
             ],
             [
              1,
              "#f0f921"
             ]
            ],
            "type": "heatmap"
           }
          ],
          "heatmapgl": [
           {
            "colorbar": {
             "outlinewidth": 0,
             "ticks": ""
            },
            "colorscale": [
             [
              0,
              "#0d0887"
             ],
             [
              0.1111111111111111,
              "#46039f"
             ],
             [
              0.2222222222222222,
              "#7201a8"
             ],
             [
              0.3333333333333333,
              "#9c179e"
             ],
             [
              0.4444444444444444,
              "#bd3786"
             ],
             [
              0.5555555555555556,
              "#d8576b"
             ],
             [
              0.6666666666666666,
              "#ed7953"
             ],
             [
              0.7777777777777778,
              "#fb9f3a"
             ],
             [
              0.8888888888888888,
              "#fdca26"
             ],
             [
              1,
              "#f0f921"
             ]
            ],
            "type": "heatmapgl"
           }
          ],
          "histogram": [
           {
            "marker": {
             "pattern": {
              "fillmode": "overlay",
              "size": 10,
              "solidity": 0.2
             }
            },
            "type": "histogram"
           }
          ],
          "histogram2d": [
           {
            "colorbar": {
             "outlinewidth": 0,
             "ticks": ""
            },
            "colorscale": [
             [
              0,
              "#0d0887"
             ],
             [
              0.1111111111111111,
              "#46039f"
             ],
             [
              0.2222222222222222,
              "#7201a8"
             ],
             [
              0.3333333333333333,
              "#9c179e"
             ],
             [
              0.4444444444444444,
              "#bd3786"
             ],
             [
              0.5555555555555556,
              "#d8576b"
             ],
             [
              0.6666666666666666,
              "#ed7953"
             ],
             [
              0.7777777777777778,
              "#fb9f3a"
             ],
             [
              0.8888888888888888,
              "#fdca26"
             ],
             [
              1,
              "#f0f921"
             ]
            ],
            "type": "histogram2d"
           }
          ],
          "histogram2dcontour": [
           {
            "colorbar": {
             "outlinewidth": 0,
             "ticks": ""
            },
            "colorscale": [
             [
              0,
              "#0d0887"
             ],
             [
              0.1111111111111111,
              "#46039f"
             ],
             [
              0.2222222222222222,
              "#7201a8"
             ],
             [
              0.3333333333333333,
              "#9c179e"
             ],
             [
              0.4444444444444444,
              "#bd3786"
             ],
             [
              0.5555555555555556,
              "#d8576b"
             ],
             [
              0.6666666666666666,
              "#ed7953"
             ],
             [
              0.7777777777777778,
              "#fb9f3a"
             ],
             [
              0.8888888888888888,
              "#fdca26"
             ],
             [
              1,
              "#f0f921"
             ]
            ],
            "type": "histogram2dcontour"
           }
          ],
          "mesh3d": [
           {
            "colorbar": {
             "outlinewidth": 0,
             "ticks": ""
            },
            "type": "mesh3d"
           }
          ],
          "parcoords": [
           {
            "line": {
             "colorbar": {
              "outlinewidth": 0,
              "ticks": ""
             }
            },
            "type": "parcoords"
           }
          ],
          "pie": [
           {
            "automargin": true,
            "type": "pie"
           }
          ],
          "scatter": [
           {
            "fillpattern": {
             "fillmode": "overlay",
             "size": 10,
             "solidity": 0.2
            },
            "type": "scatter"
           }
          ],
          "scatter3d": [
           {
            "line": {
             "colorbar": {
              "outlinewidth": 0,
              "ticks": ""
             }
            },
            "marker": {
             "colorbar": {
              "outlinewidth": 0,
              "ticks": ""
             }
            },
            "type": "scatter3d"
           }
          ],
          "scattercarpet": [
           {
            "marker": {
             "colorbar": {
              "outlinewidth": 0,
              "ticks": ""
             }
            },
            "type": "scattercarpet"
           }
          ],
          "scattergeo": [
           {
            "marker": {
             "colorbar": {
              "outlinewidth": 0,
              "ticks": ""
             }
            },
            "type": "scattergeo"
           }
          ],
          "scattergl": [
           {
            "marker": {
             "colorbar": {
              "outlinewidth": 0,
              "ticks": ""
             }
            },
            "type": "scattergl"
           }
          ],
          "scattermapbox": [
           {
            "marker": {
             "colorbar": {
              "outlinewidth": 0,
              "ticks": ""
             }
            },
            "type": "scattermapbox"
           }
          ],
          "scatterpolar": [
           {
            "marker": {
             "colorbar": {
              "outlinewidth": 0,
              "ticks": ""
             }
            },
            "type": "scatterpolar"
           }
          ],
          "scatterpolargl": [
           {
            "marker": {
             "colorbar": {
              "outlinewidth": 0,
              "ticks": ""
             }
            },
            "type": "scatterpolargl"
           }
          ],
          "scatterternary": [
           {
            "marker": {
             "colorbar": {
              "outlinewidth": 0,
              "ticks": ""
             }
            },
            "type": "scatterternary"
           }
          ],
          "surface": [
           {
            "colorbar": {
             "outlinewidth": 0,
             "ticks": ""
            },
            "colorscale": [
             [
              0,
              "#0d0887"
             ],
             [
              0.1111111111111111,
              "#46039f"
             ],
             [
              0.2222222222222222,
              "#7201a8"
             ],
             [
              0.3333333333333333,
              "#9c179e"
             ],
             [
              0.4444444444444444,
              "#bd3786"
             ],
             [
              0.5555555555555556,
              "#d8576b"
             ],
             [
              0.6666666666666666,
              "#ed7953"
             ],
             [
              0.7777777777777778,
              "#fb9f3a"
             ],
             [
              0.8888888888888888,
              "#fdca26"
             ],
             [
              1,
              "#f0f921"
             ]
            ],
            "type": "surface"
           }
          ],
          "table": [
           {
            "cells": {
             "fill": {
              "color": "#EBF0F8"
             },
             "line": {
              "color": "white"
             }
            },
            "header": {
             "fill": {
              "color": "#C8D4E3"
             },
             "line": {
              "color": "white"
             }
            },
            "type": "table"
           }
          ]
         },
         "layout": {
          "annotationdefaults": {
           "arrowcolor": "#2a3f5f",
           "arrowhead": 0,
           "arrowwidth": 1
          },
          "autotypenumbers": "strict",
          "coloraxis": {
           "colorbar": {
            "outlinewidth": 0,
            "ticks": ""
           }
          },
          "colorscale": {
           "diverging": [
            [
             0,
             "#8e0152"
            ],
            [
             0.1,
             "#c51b7d"
            ],
            [
             0.2,
             "#de77ae"
            ],
            [
             0.3,
             "#f1b6da"
            ],
            [
             0.4,
             "#fde0ef"
            ],
            [
             0.5,
             "#f7f7f7"
            ],
            [
             0.6,
             "#e6f5d0"
            ],
            [
             0.7,
             "#b8e186"
            ],
            [
             0.8,
             "#7fbc41"
            ],
            [
             0.9,
             "#4d9221"
            ],
            [
             1,
             "#276419"
            ]
           ],
           "sequential": [
            [
             0,
             "#0d0887"
            ],
            [
             0.1111111111111111,
             "#46039f"
            ],
            [
             0.2222222222222222,
             "#7201a8"
            ],
            [
             0.3333333333333333,
             "#9c179e"
            ],
            [
             0.4444444444444444,
             "#bd3786"
            ],
            [
             0.5555555555555556,
             "#d8576b"
            ],
            [
             0.6666666666666666,
             "#ed7953"
            ],
            [
             0.7777777777777778,
             "#fb9f3a"
            ],
            [
             0.8888888888888888,
             "#fdca26"
            ],
            [
             1,
             "#f0f921"
            ]
           ],
           "sequentialminus": [
            [
             0,
             "#0d0887"
            ],
            [
             0.1111111111111111,
             "#46039f"
            ],
            [
             0.2222222222222222,
             "#7201a8"
            ],
            [
             0.3333333333333333,
             "#9c179e"
            ],
            [
             0.4444444444444444,
             "#bd3786"
            ],
            [
             0.5555555555555556,
             "#d8576b"
            ],
            [
             0.6666666666666666,
             "#ed7953"
            ],
            [
             0.7777777777777778,
             "#fb9f3a"
            ],
            [
             0.8888888888888888,
             "#fdca26"
            ],
            [
             1,
             "#f0f921"
            ]
           ]
          },
          "colorway": [
           "#636efa",
           "#EF553B",
           "#00cc96",
           "#ab63fa",
           "#FFA15A",
           "#19d3f3",
           "#FF6692",
           "#B6E880",
           "#FF97FF",
           "#FECB52"
          ],
          "font": {
           "color": "#2a3f5f"
          },
          "geo": {
           "bgcolor": "white",
           "lakecolor": "white",
           "landcolor": "#E5ECF6",
           "showlakes": true,
           "showland": true,
           "subunitcolor": "white"
          },
          "hoverlabel": {
           "align": "left"
          },
          "hovermode": "closest",
          "mapbox": {
           "style": "light"
          },
          "paper_bgcolor": "white",
          "plot_bgcolor": "#E5ECF6",
          "polar": {
           "angularaxis": {
            "gridcolor": "white",
            "linecolor": "white",
            "ticks": ""
           },
           "bgcolor": "#E5ECF6",
           "radialaxis": {
            "gridcolor": "white",
            "linecolor": "white",
            "ticks": ""
           }
          },
          "scene": {
           "xaxis": {
            "backgroundcolor": "#E5ECF6",
            "gridcolor": "white",
            "gridwidth": 2,
            "linecolor": "white",
            "showbackground": true,
            "ticks": "",
            "zerolinecolor": "white"
           },
           "yaxis": {
            "backgroundcolor": "#E5ECF6",
            "gridcolor": "white",
            "gridwidth": 2,
            "linecolor": "white",
            "showbackground": true,
            "ticks": "",
            "zerolinecolor": "white"
           },
           "zaxis": {
            "backgroundcolor": "#E5ECF6",
            "gridcolor": "white",
            "gridwidth": 2,
            "linecolor": "white",
            "showbackground": true,
            "ticks": "",
            "zerolinecolor": "white"
           }
          },
          "shapedefaults": {
           "line": {
            "color": "#2a3f5f"
           }
          },
          "ternary": {
           "aaxis": {
            "gridcolor": "white",
            "linecolor": "white",
            "ticks": ""
           },
           "baxis": {
            "gridcolor": "white",
            "linecolor": "white",
            "ticks": ""
           },
           "bgcolor": "#E5ECF6",
           "caxis": {
            "gridcolor": "white",
            "linecolor": "white",
            "ticks": ""
           }
          },
          "title": {
           "x": 0.05
          },
          "xaxis": {
           "automargin": true,
           "gridcolor": "white",
           "linecolor": "white",
           "ticks": "",
           "title": {
            "standoff": 15
           },
           "zerolinecolor": "white",
           "zerolinewidth": 2
          },
          "yaxis": {
           "automargin": true,
           "gridcolor": "white",
           "linecolor": "white",
           "ticks": "",
           "title": {
            "standoff": 15
           },
           "zerolinecolor": "white",
           "zerolinewidth": 2
          }
         }
        },
        "title": {
         "font": {
          "size": 18
         },
         "text": "Most similar and different tracks from centroid 1 profile (blue) of user '6a46aee45cc177cf8e2025e59d21c7939902deee'",
         "x": 0.5,
         "y": 0.99
        },
        "width": 1200
       }
      }
     },
     "metadata": {},
     "output_type": "display_data"
    },
    {
     "name": "stdout",
     "output_type": "stream",
     "text": [
      "['Fitter Happier - Radiohead',\n",
      " '(Kanji) Ooioo - OOIOO',\n",
      " 'The Flowers of Spring - De Dannan',\n",
      " 'Burnt Corpse - Estradasphere',\n",
      " 'Church - Lyle Lovett',\n",
      " 'The Ride (Skit) - Krizz Kaliko',\n",
      " 'Trash Scapes Vocals - Ellen Allien',\n",
      " \"Jaden's Interlude - Will Smith\",\n",
      " 'Message To The Streets - Wyclef Jean',\n",
      " 'ER - George Lopez']\n"
     ]
    },
    {
     "data": {
      "application/vnd.plotly.v1+json": {
       "config": {
        "plotlyServerURL": "https://plot.ly"
       },
       "data": [
        {
         "fill": "toself",
         "line": {
          "color": "#636EFA"
         },
         "mode": "lines+markers",
         "name": "Cluster center centroid 2 profile",
         "r": [
          -0.6473006621728618,
          -1.0741576437093259,
          -1.739649971792464,
          2.265772240046042,
          1.8480731113055258,
          -0.4417059587467249,
          -0.3175112367932862,
          1.0181816862593722,
          0.07957438304578299
         ],
         "subplot": "polar",
         "theta": [
          "Danceability",
          "Energy",
          "Loudness",
          "Speechiness",
          "Acousticness",
          "instrumentalness",
          "Liveness",
          "Valence",
          "Tempo"
         ],
         "type": "scatterpolar"
        },
        {
         "fill": "toself",
         "line": {
          "color": "#EF553B"
         },
         "name": "Closest track rank 1",
         "r": [
          -0.4397375513436084,
          -0.978635201774802,
          -1.3536342175858294,
          1.635510571300426,
          1.6652674004795123,
          -0.6125102029898799,
          -0.31488934740272184,
          1.0132462400248823,
          0.06410929240725348
         ],
         "subplot": "polar",
         "theta": [
          "Danceability",
          "Energy",
          "Loudness",
          "Speechiness",
          "Acousticness",
          "instrumentalness",
          "Liveness",
          "Valence",
          "Tempo"
         ],
         "type": "scatterpolar"
        },
        {
         "fill": "toself",
         "line": {
          "color": "#636EFA"
         },
         "mode": "lines+markers",
         "name": "Cluster center centroid 2 profile",
         "r": [
          -0.6473006621728618,
          -1.0741576437093259,
          -1.739649971792464,
          2.265772240046042,
          1.8480731113055258,
          -0.4417059587467249,
          -0.3175112367932862,
          1.0181816862593722,
          0.07957438304578299
         ],
         "showlegend": false,
         "subplot": "polar2",
         "theta": [
          "Danceability",
          "Energy",
          "Loudness",
          "Speechiness",
          "Acousticness",
          "instrumentalness",
          "Liveness",
          "Valence",
          "Tempo"
         ],
         "type": "scatterpolar"
        },
        {
         "fill": "toself",
         "line": {
          "color": "#B6E880"
         },
         "name": "Furthest track rank 1",
         "r": [
          -2.854597924456238,
          -2.4412798457493565,
          -8.00310504882673,
          -0.7975816773301675,
          1.105563966260484,
          2.237118641806075,
          -0.5918801675879304,
          -1.8497772890596542,
          -4.040645696797743
         ],
         "subplot": "polar2",
         "theta": [
          "Danceability",
          "Energy",
          "Loudness",
          "Speechiness",
          "Acousticness",
          "instrumentalness",
          "Liveness",
          "Valence",
          "Tempo"
         ],
         "type": "scatterpolar"
        },
        {
         "fill": "toself",
         "line": {
          "color": "#636EFA"
         },
         "mode": "lines+markers",
         "name": "Cluster center centroid 2 profile",
         "r": [
          -0.6473006621728618,
          -1.0741576437093259,
          -1.739649971792464,
          2.265772240046042,
          1.8480731113055258,
          -0.4417059587467249,
          -0.3175112367932862,
          1.0181816862593722,
          0.07957438304578299
         ],
         "showlegend": false,
         "subplot": "polar3",
         "theta": [
          "Danceability",
          "Energy",
          "Loudness",
          "Speechiness",
          "Acousticness",
          "instrumentalness",
          "Liveness",
          "Valence",
          "Tempo"
         ],
         "type": "scatterpolar"
        },
        {
         "fill": "toself",
         "line": {
          "color": "#EF553B"
         },
         "name": "Closest track rank 2",
         "r": [
          -0.10434027730018776,
          -1.2060096036791823,
          -1.4128276520773118,
          1.1428596614537359,
          1.6219754221421288,
          -0.5525850403514194,
          -0.3894637989910473,
          1.0247906897389325,
          0.22662088116700074
         ],
         "subplot": "polar3",
         "theta": [
          "Danceability",
          "Energy",
          "Loudness",
          "Speechiness",
          "Acousticness",
          "instrumentalness",
          "Liveness",
          "Valence",
          "Tempo"
         ],
         "type": "scatterpolar"
        },
        {
         "fill": "toself",
         "line": {
          "color": "#636EFA"
         },
         "mode": "lines+markers",
         "name": "Cluster center centroid 2 profile",
         "r": [
          -0.6473006621728618,
          -1.0741576437093259,
          -1.739649971792464,
          2.265772240046042,
          1.8480731113055258,
          -0.4417059587467249,
          -0.3175112367932862,
          1.0181816862593722,
          0.07957438304578299
         ],
         "showlegend": false,
         "subplot": "polar4",
         "theta": [
          "Danceability",
          "Energy",
          "Loudness",
          "Speechiness",
          "Acousticness",
          "instrumentalness",
          "Liveness",
          "Valence",
          "Tempo"
         ],
         "type": "scatterpolar"
        },
        {
         "fill": "toself",
         "line": {
          "color": "#B6E880"
         },
         "name": "Furthest track rank 2",
         "r": [
          -2.854597924456238,
          1.2127836027863768,
          0.20565138757382945,
          -0.7975816773301675,
          -0.7856770302497799,
          2.215792961151819,
          2.8065841262228974,
          -1.8497772890596542,
          -4.040645696797743
         ],
         "subplot": "polar4",
         "theta": [
          "Danceability",
          "Energy",
          "Loudness",
          "Speechiness",
          "Acousticness",
          "instrumentalness",
          "Liveness",
          "Valence",
          "Tempo"
         ],
         "type": "scatterpolar"
        },
        {
         "fill": "toself",
         "line": {
          "color": "#636EFA"
         },
         "mode": "lines+markers",
         "name": "Cluster center centroid 2 profile",
         "r": [
          -0.6473006621728618,
          -1.0741576437093259,
          -1.739649971792464,
          2.265772240046042,
          1.8480731113055258,
          -0.4417059587467249,
          -0.3175112367932862,
          1.0181816862593722,
          0.07957438304578299
         ],
         "showlegend": false,
         "subplot": "polar5",
         "theta": [
          "Danceability",
          "Energy",
          "Loudness",
          "Speechiness",
          "Acousticness",
          "instrumentalness",
          "Liveness",
          "Valence",
          "Tempo"
         ],
         "type": "scatterpolar"
        },
        {
         "fill": "toself",
         "line": {
          "color": "#EF553B"
         },
         "name": "Closest track rank 3",
         "r": [
          0.057768405154131765,
          -0.880628994057397,
          -1.0063510638962574,
          1.9773499781328239,
          1.0870102612587482,
          -0.6235690916720154,
          -0.41609753170116337,
          1.1594759364028557,
          1.13227992324928
         ],
         "subplot": "polar5",
         "theta": [
          "Danceability",
          "Energy",
          "Loudness",
          "Speechiness",
          "Acousticness",
          "instrumentalness",
          "Liveness",
          "Valence",
          "Tempo"
         ],
         "type": "scatterpolar"
        },
        {
         "fill": "toself",
         "line": {
          "color": "#636EFA"
         },
         "mode": "lines+markers",
         "name": "Cluster center centroid 2 profile",
         "r": [
          -0.6473006621728618,
          -1.0741576437093259,
          -1.739649971792464,
          2.265772240046042,
          1.8480731113055258,
          -0.4417059587467249,
          -0.3175112367932862,
          1.0181816862593722,
          0.07957438304578299
         ],
         "showlegend": false,
         "subplot": "polar6",
         "theta": [
          "Danceability",
          "Energy",
          "Loudness",
          "Speechiness",
          "Acousticness",
          "instrumentalness",
          "Liveness",
          "Valence",
          "Tempo"
         ],
         "type": "scatterpolar"
        },
        {
         "fill": "toself",
         "line": {
          "color": "#B6E880"
         },
         "name": "Furthest track rank 3",
         "r": [
          0.10248804169325457,
          0.8638815033124146,
          -0.9550350826640976,
          8.603002010560763,
          1.2849164479439292,
          -0.6235461817979411,
          3.9145474069637314,
          -1.245617754024342,
          -1.1424835994801845
         ],
         "subplot": "polar6",
         "theta": [
          "Danceability",
          "Energy",
          "Loudness",
          "Speechiness",
          "Acousticness",
          "instrumentalness",
          "Liveness",
          "Valence",
          "Tempo"
         ],
         "type": "scatterpolar"
        },
        {
         "fill": "toself",
         "line": {
          "color": "#636EFA"
         },
         "mode": "lines+markers",
         "name": "Cluster center centroid 2 profile",
         "r": [
          -0.6473006621728618,
          -1.0741576437093259,
          -1.739649971792464,
          2.265772240046042,
          1.8480731113055258,
          -0.4417059587467249,
          -0.3175112367932862,
          1.0181816862593722,
          0.07957438304578299
         ],
         "showlegend": false,
         "subplot": "polar7",
         "theta": [
          "Danceability",
          "Energy",
          "Loudness",
          "Speechiness",
          "Acousticness",
          "instrumentalness",
          "Liveness",
          "Valence",
          "Tempo"
         ],
         "type": "scatterpolar"
        },
        {
         "fill": "toself",
         "line": {
          "color": "#EF553B"
         },
         "name": "Closest track rank 4",
         "r": [
          0.2198770876084519,
          -1.4098625157313847,
          -1.5381916939471054,
          1.05237275964516,
          2.092002615519434,
          -0.6235690916720154,
          0.3829144496023226,
          0.33982000670526635,
          0.19239742248318564
         ],
         "subplot": "polar7",
         "theta": [
          "Danceability",
          "Energy",
          "Loudness",
          "Speechiness",
          "Acousticness",
          "instrumentalness",
          "Liveness",
          "Valence",
          "Tempo"
         ],
         "type": "scatterpolar"
        },
        {
         "fill": "toself",
         "line": {
          "color": "#636EFA"
         },
         "mode": "lines+markers",
         "name": "Cluster center centroid 2 profile",
         "r": [
          -0.6473006621728618,
          -1.0741576437093259,
          -1.739649971792464,
          2.265772240046042,
          1.8480731113055258,
          -0.4417059587467249,
          -0.3175112367932862,
          1.0181816862593722,
          0.07957438304578299
         ],
         "showlegend": false,
         "subplot": "polar8",
         "theta": [
          "Danceability",
          "Energy",
          "Loudness",
          "Speechiness",
          "Acousticness",
          "instrumentalness",
          "Liveness",
          "Valence",
          "Tempo"
         ],
         "type": "scatterpolar"
        },
        {
         "fill": "toself",
         "line": {
          "color": "#B6E880"
         },
         "name": "Furthest track rank 4",
         "r": [
          1.0527803181496134,
          -1.8606910712314484,
          -2.8141140518642684,
          8.502461008551235,
          1.7796819146568825,
          -0.6235690916720154,
          3.6908240521987556,
          -1.0185769096480148,
          -2.3667530739111062
         ],
         "subplot": "polar8",
         "theta": [
          "Danceability",
          "Energy",
          "Loudness",
          "Speechiness",
          "Acousticness",
          "instrumentalness",
          "Liveness",
          "Valence",
          "Tempo"
         ],
         "type": "scatterpolar"
        },
        {
         "fill": "toself",
         "line": {
          "color": "#636EFA"
         },
         "mode": "lines+markers",
         "name": "Cluster center centroid 2 profile",
         "r": [
          -0.6473006621728618,
          -1.0741576437093259,
          -1.739649971792464,
          2.265772240046042,
          1.8480731113055258,
          -0.4417059587467249,
          -0.3175112367932862,
          1.0181816862593722,
          0.07957438304578299
         ],
         "showlegend": false,
         "subplot": "polar9",
         "theta": [
          "Danceability",
          "Energy",
          "Loudness",
          "Speechiness",
          "Acousticness",
          "instrumentalness",
          "Liveness",
          "Valence",
          "Tempo"
         ],
         "type": "scatterpolar"
        },
        {
         "fill": "toself",
         "line": {
          "color": "#EF553B"
         },
         "name": "Closest track rank 5",
         "r": [
          0.09130813255847386,
          -0.4219599419399412,
          -0.6525408775061039,
          2.3594057857690327,
          1.4549920771265072,
          -0.6235608355870764,
          0.4947761269848108,
          0.6900016480314667,
          -0.6046104449427094
         ],
         "subplot": "polar9",
         "theta": [
          "Danceability",
          "Energy",
          "Loudness",
          "Speechiness",
          "Acousticness",
          "instrumentalness",
          "Liveness",
          "Valence",
          "Tempo"
         ],
         "type": "scatterpolar"
        },
        {
         "fill": "toself",
         "line": {
          "color": "#636EFA"
         },
         "mode": "lines+markers",
         "name": "Cluster center centroid 2 profile",
         "r": [
          -0.6473006621728618,
          -1.0741576437093259,
          -1.739649971792464,
          2.265772240046042,
          1.8480731113055258,
          -0.4417059587467249,
          -0.3175112367932862,
          1.0181816862593722,
          0.07957438304578299
         ],
         "showlegend": false,
         "subplot": "polar10",
         "theta": [
          "Danceability",
          "Energy",
          "Loudness",
          "Speechiness",
          "Acousticness",
          "instrumentalness",
          "Liveness",
          "Valence",
          "Tempo"
         ],
         "type": "scatterpolar"
        },
        {
         "fill": "toself",
         "line": {
          "color": "#B6E880"
         },
         "name": "Furthest track rank 5",
         "r": [
          -0.28880877802407023,
          0.04454960679490772,
          -1.435559731482786,
          8.794029914378868,
          1.7982356196586182,
          -0.6235690916720154,
          3.7973589830392207,
          -0.6029767199421949,
          -1.909587473881386
         ],
         "subplot": "polar10",
         "theta": [
          "Danceability",
          "Energy",
          "Loudness",
          "Speechiness",
          "Acousticness",
          "instrumentalness",
          "Liveness",
          "Valence",
          "Tempo"
         ],
         "type": "scatterpolar"
        }
       ],
       "layout": {
        "annotations": [
         {
          "font": {
           "size": 16
          },
          "showarrow": false,
          "text": "Fitter Happier - Radiohead",
          "x": 0.25,
          "xanchor": "center",
          "xref": "paper",
          "y": 1.03,
          "yanchor": "bottom",
          "yref": "paper"
         },
         {
          "font": {
           "size": 16
          },
          "showarrow": false,
          "text": "(Kanji) Ooioo - OOIOO",
          "x": 0.75,
          "xanchor": "center",
          "xref": "paper",
          "y": 1.03,
          "yanchor": "bottom",
          "yref": "paper"
         },
         {
          "font": {
           "size": 16
          },
          "showarrow": false,
          "text": "The Flowers of Spring - De Dannan",
          "x": 0.25,
          "xanchor": "center",
          "xref": "paper",
          "y": 0.82,
          "yanchor": "bottom",
          "yref": "paper"
         },
         {
          "font": {
           "size": 16
          },
          "showarrow": false,
          "text": "Burnt Corpse - Estradasphere",
          "x": 0.75,
          "xanchor": "center",
          "xref": "paper",
          "y": 0.82,
          "yanchor": "bottom",
          "yref": "paper"
         },
         {
          "font": {
           "size": 16
          },
          "showarrow": false,
          "text": "Church - Lyle Lovett",
          "x": 0.25,
          "xanchor": "center",
          "xref": "paper",
          "y": 0.6,
          "yanchor": "bottom",
          "yref": "paper"
         },
         {
          "font": {
           "size": 16
          },
          "showarrow": false,
          "text": "The Ride (Skit) - Krizz Kaliko",
          "x": 0.75,
          "xanchor": "center",
          "xref": "paper",
          "y": 0.6,
          "yanchor": "bottom",
          "yref": "paper"
         },
         {
          "font": {
           "size": 16
          },
          "showarrow": false,
          "text": "Trash Scapes Vocals - Ellen Allien",
          "x": 0.25,
          "xanchor": "center",
          "xref": "paper",
          "y": 0.38,
          "yanchor": "bottom",
          "yref": "paper"
         },
         {
          "font": {
           "size": 16
          },
          "showarrow": false,
          "text": "Jaden's Interlude - Will Smith",
          "x": 0.75,
          "xanchor": "center",
          "xref": "paper",
          "y": 0.38,
          "yanchor": "bottom",
          "yref": "paper"
         },
         {
          "font": {
           "size": 16
          },
          "showarrow": false,
          "text": "Message To The Streets - Wyclef Jean",
          "x": 0.25,
          "xanchor": "center",
          "xref": "paper",
          "y": 0.16,
          "yanchor": "bottom",
          "yref": "paper"
         },
         {
          "font": {
           "size": 16
          },
          "showarrow": false,
          "text": "ER - George Lopez",
          "x": 0.75,
          "xanchor": "center",
          "xref": "paper",
          "y": 0.16,
          "yanchor": "bottom",
          "yref": "paper"
         },
         {
          "font": {
           "color": "black",
           "size": 20
          },
          "showarrow": false,
          "text": "Closest tracks from centroid 2",
          "x": 0.12,
          "y": 1.09
         },
         {
          "font": {
           "color": "black",
           "size": 22
          },
          "showarrow": false,
          "text": "Furthest tracks from centroid 2",
          "x": 0.9,
          "y": 1.09
         },
         {
          "font": {
           "color": "black",
           "size": 22
          },
          "showarrow": false,
          "text": "Rank",
          "x": 0.005,
          "y": 1.09
         },
         {
          "font": {
           "color": "black",
           "size": 22
          },
          "showarrow": false,
          "text": "1",
          "x": 0.01,
          "y": 1.05
         },
         {
          "font": {
           "color": "black",
           "size": 22
          },
          "showarrow": false,
          "text": "2",
          "x": 0.01,
          "y": 0.84
         },
         {
          "font": {
           "color": "black",
           "size": 22
          },
          "showarrow": false,
          "text": "3",
          "x": 0.01,
          "y": 0.608
         },
         {
          "font": {
           "color": "black",
           "size": 22
          },
          "showarrow": false,
          "text": "4",
          "x": 0.01,
          "y": 0.389
         },
         {
          "font": {
           "color": "black",
           "size": 22
          },
          "showarrow": false,
          "text": "5",
          "x": 0.01,
          "y": 0.159
         }
        ],
        "height": 1600,
        "margin": {
         "b": 50,
         "l": 50,
         "r": 50,
         "t": 200
        },
        "polar": {
         "domain": {
          "x": [
           0,
           0.5
          ],
          "y": [
           0.88,
           1
          ]
         },
         "radialaxis": {
          "range": [
           -1.739649971792464,
           2.3594057857690327
          ],
          "showticklabels": false,
          "ticks": ""
         }
        },
        "polar10": {
         "domain": {
          "x": [
           0.5,
           1
          ],
          "y": [
           0,
           0.12
          ]
         },
         "radialaxis": {
          "range": [
           -8.00310504882673,
           8.794029914378868
          ],
          "showticklabels": false,
          "ticks": ""
         }
        },
        "polar2": {
         "domain": {
          "x": [
           0.5,
           1
          ],
          "y": [
           0.88,
           1
          ]
         },
         "radialaxis": {
          "range": [
           -8.00310504882673,
           8.794029914378868
          ],
          "showticklabels": false,
          "ticks": ""
         }
        },
        "polar3": {
         "domain": {
          "x": [
           0,
           0.5
          ],
          "y": [
           0.66,
           0.78
          ]
         },
         "radialaxis": {
          "range": [
           -1.739649971792464,
           2.3594057857690327
          ],
          "showticklabels": false,
          "ticks": ""
         }
        },
        "polar4": {
         "domain": {
          "x": [
           0.5,
           1
          ],
          "y": [
           0.66,
           0.78
          ]
         },
         "radialaxis": {
          "range": [
           -8.00310504882673,
           8.794029914378868
          ],
          "showticklabels": false,
          "ticks": ""
         }
        },
        "polar5": {
         "domain": {
          "x": [
           0,
           0.5
          ],
          "y": [
           0.44,
           0.56
          ]
         },
         "radialaxis": {
          "range": [
           -1.739649971792464,
           2.3594057857690327
          ],
          "showticklabels": false,
          "ticks": ""
         }
        },
        "polar6": {
         "domain": {
          "x": [
           0.5,
           1
          ],
          "y": [
           0.44,
           0.56
          ]
         },
         "radialaxis": {
          "range": [
           -8.00310504882673,
           8.794029914378868
          ],
          "showticklabels": false,
          "ticks": ""
         }
        },
        "polar7": {
         "domain": {
          "x": [
           0,
           0.5
          ],
          "y": [
           0.22,
           0.33999999999999997
          ]
         },
         "radialaxis": {
          "range": [
           -1.739649971792464,
           2.3594057857690327
          ],
          "showticklabels": false,
          "ticks": ""
         }
        },
        "polar8": {
         "domain": {
          "x": [
           0.5,
           1
          ],
          "y": [
           0.22,
           0.33999999999999997
          ]
         },
         "radialaxis": {
          "range": [
           -8.00310504882673,
           8.794029914378868
          ],
          "showticklabels": false,
          "ticks": ""
         }
        },
        "polar9": {
         "domain": {
          "x": [
           0,
           0.5
          ],
          "y": [
           0,
           0.12
          ]
         },
         "radialaxis": {
          "range": [
           -1.739649971792464,
           2.3594057857690327
          ],
          "showticklabels": false,
          "ticks": ""
         }
        },
        "showlegend": false,
        "template": {
         "data": {
          "bar": [
           {
            "error_x": {
             "color": "#2a3f5f"
            },
            "error_y": {
             "color": "#2a3f5f"
            },
            "marker": {
             "line": {
              "color": "#E5ECF6",
              "width": 0.5
             },
             "pattern": {
              "fillmode": "overlay",
              "size": 10,
              "solidity": 0.2
             }
            },
            "type": "bar"
           }
          ],
          "barpolar": [
           {
            "marker": {
             "line": {
              "color": "#E5ECF6",
              "width": 0.5
             },
             "pattern": {
              "fillmode": "overlay",
              "size": 10,
              "solidity": 0.2
             }
            },
            "type": "barpolar"
           }
          ],
          "carpet": [
           {
            "aaxis": {
             "endlinecolor": "#2a3f5f",
             "gridcolor": "white",
             "linecolor": "white",
             "minorgridcolor": "white",
             "startlinecolor": "#2a3f5f"
            },
            "baxis": {
             "endlinecolor": "#2a3f5f",
             "gridcolor": "white",
             "linecolor": "white",
             "minorgridcolor": "white",
             "startlinecolor": "#2a3f5f"
            },
            "type": "carpet"
           }
          ],
          "choropleth": [
           {
            "colorbar": {
             "outlinewidth": 0,
             "ticks": ""
            },
            "type": "choropleth"
           }
          ],
          "contour": [
           {
            "colorbar": {
             "outlinewidth": 0,
             "ticks": ""
            },
            "colorscale": [
             [
              0,
              "#0d0887"
             ],
             [
              0.1111111111111111,
              "#46039f"
             ],
             [
              0.2222222222222222,
              "#7201a8"
             ],
             [
              0.3333333333333333,
              "#9c179e"
             ],
             [
              0.4444444444444444,
              "#bd3786"
             ],
             [
              0.5555555555555556,
              "#d8576b"
             ],
             [
              0.6666666666666666,
              "#ed7953"
             ],
             [
              0.7777777777777778,
              "#fb9f3a"
             ],
             [
              0.8888888888888888,
              "#fdca26"
             ],
             [
              1,
              "#f0f921"
             ]
            ],
            "type": "contour"
           }
          ],
          "contourcarpet": [
           {
            "colorbar": {
             "outlinewidth": 0,
             "ticks": ""
            },
            "type": "contourcarpet"
           }
          ],
          "heatmap": [
           {
            "colorbar": {
             "outlinewidth": 0,
             "ticks": ""
            },
            "colorscale": [
             [
              0,
              "#0d0887"
             ],
             [
              0.1111111111111111,
              "#46039f"
             ],
             [
              0.2222222222222222,
              "#7201a8"
             ],
             [
              0.3333333333333333,
              "#9c179e"
             ],
             [
              0.4444444444444444,
              "#bd3786"
             ],
             [
              0.5555555555555556,
              "#d8576b"
             ],
             [
              0.6666666666666666,
              "#ed7953"
             ],
             [
              0.7777777777777778,
              "#fb9f3a"
             ],
             [
              0.8888888888888888,
              "#fdca26"
             ],
             [
              1,
              "#f0f921"
             ]
            ],
            "type": "heatmap"
           }
          ],
          "heatmapgl": [
           {
            "colorbar": {
             "outlinewidth": 0,
             "ticks": ""
            },
            "colorscale": [
             [
              0,
              "#0d0887"
             ],
             [
              0.1111111111111111,
              "#46039f"
             ],
             [
              0.2222222222222222,
              "#7201a8"
             ],
             [
              0.3333333333333333,
              "#9c179e"
             ],
             [
              0.4444444444444444,
              "#bd3786"
             ],
             [
              0.5555555555555556,
              "#d8576b"
             ],
             [
              0.6666666666666666,
              "#ed7953"
             ],
             [
              0.7777777777777778,
              "#fb9f3a"
             ],
             [
              0.8888888888888888,
              "#fdca26"
             ],
             [
              1,
              "#f0f921"
             ]
            ],
            "type": "heatmapgl"
           }
          ],
          "histogram": [
           {
            "marker": {
             "pattern": {
              "fillmode": "overlay",
              "size": 10,
              "solidity": 0.2
             }
            },
            "type": "histogram"
           }
          ],
          "histogram2d": [
           {
            "colorbar": {
             "outlinewidth": 0,
             "ticks": ""
            },
            "colorscale": [
             [
              0,
              "#0d0887"
             ],
             [
              0.1111111111111111,
              "#46039f"
             ],
             [
              0.2222222222222222,
              "#7201a8"
             ],
             [
              0.3333333333333333,
              "#9c179e"
             ],
             [
              0.4444444444444444,
              "#bd3786"
             ],
             [
              0.5555555555555556,
              "#d8576b"
             ],
             [
              0.6666666666666666,
              "#ed7953"
             ],
             [
              0.7777777777777778,
              "#fb9f3a"
             ],
             [
              0.8888888888888888,
              "#fdca26"
             ],
             [
              1,
              "#f0f921"
             ]
            ],
            "type": "histogram2d"
           }
          ],
          "histogram2dcontour": [
           {
            "colorbar": {
             "outlinewidth": 0,
             "ticks": ""
            },
            "colorscale": [
             [
              0,
              "#0d0887"
             ],
             [
              0.1111111111111111,
              "#46039f"
             ],
             [
              0.2222222222222222,
              "#7201a8"
             ],
             [
              0.3333333333333333,
              "#9c179e"
             ],
             [
              0.4444444444444444,
              "#bd3786"
             ],
             [
              0.5555555555555556,
              "#d8576b"
             ],
             [
              0.6666666666666666,
              "#ed7953"
             ],
             [
              0.7777777777777778,
              "#fb9f3a"
             ],
             [
              0.8888888888888888,
              "#fdca26"
             ],
             [
              1,
              "#f0f921"
             ]
            ],
            "type": "histogram2dcontour"
           }
          ],
          "mesh3d": [
           {
            "colorbar": {
             "outlinewidth": 0,
             "ticks": ""
            },
            "type": "mesh3d"
           }
          ],
          "parcoords": [
           {
            "line": {
             "colorbar": {
              "outlinewidth": 0,
              "ticks": ""
             }
            },
            "type": "parcoords"
           }
          ],
          "pie": [
           {
            "automargin": true,
            "type": "pie"
           }
          ],
          "scatter": [
           {
            "fillpattern": {
             "fillmode": "overlay",
             "size": 10,
             "solidity": 0.2
            },
            "type": "scatter"
           }
          ],
          "scatter3d": [
           {
            "line": {
             "colorbar": {
              "outlinewidth": 0,
              "ticks": ""
             }
            },
            "marker": {
             "colorbar": {
              "outlinewidth": 0,
              "ticks": ""
             }
            },
            "type": "scatter3d"
           }
          ],
          "scattercarpet": [
           {
            "marker": {
             "colorbar": {
              "outlinewidth": 0,
              "ticks": ""
             }
            },
            "type": "scattercarpet"
           }
          ],
          "scattergeo": [
           {
            "marker": {
             "colorbar": {
              "outlinewidth": 0,
              "ticks": ""
             }
            },
            "type": "scattergeo"
           }
          ],
          "scattergl": [
           {
            "marker": {
             "colorbar": {
              "outlinewidth": 0,
              "ticks": ""
             }
            },
            "type": "scattergl"
           }
          ],
          "scattermapbox": [
           {
            "marker": {
             "colorbar": {
              "outlinewidth": 0,
              "ticks": ""
             }
            },
            "type": "scattermapbox"
           }
          ],
          "scatterpolar": [
           {
            "marker": {
             "colorbar": {
              "outlinewidth": 0,
              "ticks": ""
             }
            },
            "type": "scatterpolar"
           }
          ],
          "scatterpolargl": [
           {
            "marker": {
             "colorbar": {
              "outlinewidth": 0,
              "ticks": ""
             }
            },
            "type": "scatterpolargl"
           }
          ],
          "scatterternary": [
           {
            "marker": {
             "colorbar": {
              "outlinewidth": 0,
              "ticks": ""
             }
            },
            "type": "scatterternary"
           }
          ],
          "surface": [
           {
            "colorbar": {
             "outlinewidth": 0,
             "ticks": ""
            },
            "colorscale": [
             [
              0,
              "#0d0887"
             ],
             [
              0.1111111111111111,
              "#46039f"
             ],
             [
              0.2222222222222222,
              "#7201a8"
             ],
             [
              0.3333333333333333,
              "#9c179e"
             ],
             [
              0.4444444444444444,
              "#bd3786"
             ],
             [
              0.5555555555555556,
              "#d8576b"
             ],
             [
              0.6666666666666666,
              "#ed7953"
             ],
             [
              0.7777777777777778,
              "#fb9f3a"
             ],
             [
              0.8888888888888888,
              "#fdca26"
             ],
             [
              1,
              "#f0f921"
             ]
            ],
            "type": "surface"
           }
          ],
          "table": [
           {
            "cells": {
             "fill": {
              "color": "#EBF0F8"
             },
             "line": {
              "color": "white"
             }
            },
            "header": {
             "fill": {
              "color": "#C8D4E3"
             },
             "line": {
              "color": "white"
             }
            },
            "type": "table"
           }
          ]
         },
         "layout": {
          "annotationdefaults": {
           "arrowcolor": "#2a3f5f",
           "arrowhead": 0,
           "arrowwidth": 1
          },
          "autotypenumbers": "strict",
          "coloraxis": {
           "colorbar": {
            "outlinewidth": 0,
            "ticks": ""
           }
          },
          "colorscale": {
           "diverging": [
            [
             0,
             "#8e0152"
            ],
            [
             0.1,
             "#c51b7d"
            ],
            [
             0.2,
             "#de77ae"
            ],
            [
             0.3,
             "#f1b6da"
            ],
            [
             0.4,
             "#fde0ef"
            ],
            [
             0.5,
             "#f7f7f7"
            ],
            [
             0.6,
             "#e6f5d0"
            ],
            [
             0.7,
             "#b8e186"
            ],
            [
             0.8,
             "#7fbc41"
            ],
            [
             0.9,
             "#4d9221"
            ],
            [
             1,
             "#276419"
            ]
           ],
           "sequential": [
            [
             0,
             "#0d0887"
            ],
            [
             0.1111111111111111,
             "#46039f"
            ],
            [
             0.2222222222222222,
             "#7201a8"
            ],
            [
             0.3333333333333333,
             "#9c179e"
            ],
            [
             0.4444444444444444,
             "#bd3786"
            ],
            [
             0.5555555555555556,
             "#d8576b"
            ],
            [
             0.6666666666666666,
             "#ed7953"
            ],
            [
             0.7777777777777778,
             "#fb9f3a"
            ],
            [
             0.8888888888888888,
             "#fdca26"
            ],
            [
             1,
             "#f0f921"
            ]
           ],
           "sequentialminus": [
            [
             0,
             "#0d0887"
            ],
            [
             0.1111111111111111,
             "#46039f"
            ],
            [
             0.2222222222222222,
             "#7201a8"
            ],
            [
             0.3333333333333333,
             "#9c179e"
            ],
            [
             0.4444444444444444,
             "#bd3786"
            ],
            [
             0.5555555555555556,
             "#d8576b"
            ],
            [
             0.6666666666666666,
             "#ed7953"
            ],
            [
             0.7777777777777778,
             "#fb9f3a"
            ],
            [
             0.8888888888888888,
             "#fdca26"
            ],
            [
             1,
             "#f0f921"
            ]
           ]
          },
          "colorway": [
           "#636efa",
           "#EF553B",
           "#00cc96",
           "#ab63fa",
           "#FFA15A",
           "#19d3f3",
           "#FF6692",
           "#B6E880",
           "#FF97FF",
           "#FECB52"
          ],
          "font": {
           "color": "#2a3f5f"
          },
          "geo": {
           "bgcolor": "white",
           "lakecolor": "white",
           "landcolor": "#E5ECF6",
           "showlakes": true,
           "showland": true,
           "subunitcolor": "white"
          },
          "hoverlabel": {
           "align": "left"
          },
          "hovermode": "closest",
          "mapbox": {
           "style": "light"
          },
          "paper_bgcolor": "white",
          "plot_bgcolor": "#E5ECF6",
          "polar": {
           "angularaxis": {
            "gridcolor": "white",
            "linecolor": "white",
            "ticks": ""
           },
           "bgcolor": "#E5ECF6",
           "radialaxis": {
            "gridcolor": "white",
            "linecolor": "white",
            "ticks": ""
           }
          },
          "scene": {
           "xaxis": {
            "backgroundcolor": "#E5ECF6",
            "gridcolor": "white",
            "gridwidth": 2,
            "linecolor": "white",
            "showbackground": true,
            "ticks": "",
            "zerolinecolor": "white"
           },
           "yaxis": {
            "backgroundcolor": "#E5ECF6",
            "gridcolor": "white",
            "gridwidth": 2,
            "linecolor": "white",
            "showbackground": true,
            "ticks": "",
            "zerolinecolor": "white"
           },
           "zaxis": {
            "backgroundcolor": "#E5ECF6",
            "gridcolor": "white",
            "gridwidth": 2,
            "linecolor": "white",
            "showbackground": true,
            "ticks": "",
            "zerolinecolor": "white"
           }
          },
          "shapedefaults": {
           "line": {
            "color": "#2a3f5f"
           }
          },
          "ternary": {
           "aaxis": {
            "gridcolor": "white",
            "linecolor": "white",
            "ticks": ""
           },
           "baxis": {
            "gridcolor": "white",
            "linecolor": "white",
            "ticks": ""
           },
           "bgcolor": "#E5ECF6",
           "caxis": {
            "gridcolor": "white",
            "linecolor": "white",
            "ticks": ""
           }
          },
          "title": {
           "x": 0.05
          },
          "xaxis": {
           "automargin": true,
           "gridcolor": "white",
           "linecolor": "white",
           "ticks": "",
           "title": {
            "standoff": 15
           },
           "zerolinecolor": "white",
           "zerolinewidth": 2
          },
          "yaxis": {
           "automargin": true,
           "gridcolor": "white",
           "linecolor": "white",
           "ticks": "",
           "title": {
            "standoff": 15
           },
           "zerolinecolor": "white",
           "zerolinewidth": 2
          }
         }
        },
        "title": {
         "font": {
          "size": 18
         },
         "text": "Most similar and different tracks from centroid 2 profile (blue) of user '6a46aee45cc177cf8e2025e59d21c7939902deee'",
         "x": 0.5,
         "y": 0.99
        },
        "width": 1200
       }
      }
     },
     "metadata": {},
     "output_type": "display_data"
    },
    {
     "name": "stdout",
     "output_type": "stream",
     "text": [
      "['Frank Sinatra - Cake',\n",
      " \"Jaden's Interlude - Will Smith\",\n",
      " 'No Trash in My Trailer - Colt Ford',\n",
      " 'Introduction - Paul Horn',\n",
      " 'Nothing Man - Bruce Springsteen',\n",
      " 'Holmes Depot - George Lopez',\n",
      " 'Redneck Friend - Dave Alvin',\n",
      " 'ER - George Lopez',\n",
      " 'No Doubt About It - Hot Chocolate',\n",
      " 'Intro - Swell']\n"
     ]
    },
    {
     "data": {
      "application/vnd.plotly.v1+json": {
       "config": {
        "plotlyServerURL": "https://plot.ly"
       },
       "data": [
        {
         "fill": "toself",
         "line": {
          "color": "#636EFA"
         },
         "mode": "lines+markers",
         "name": "Cluster center centroid 3 profile",
         "r": [
          0.677927716227426,
          -0.50118613785878,
          -0.1956511759979821,
          -0.34433272546211413,
          -0.11579574699003342,
          -0.295580127030999,
          -0.18080155963336075,
          0.0938917844372949,
          -0.2346708542345995
         ],
         "subplot": "polar",
         "theta": [
          "Danceability",
          "Energy",
          "Loudness",
          "Speechiness",
          "Acousticness",
          "instrumentalness",
          "Liveness",
          "Valence",
          "Tempo"
         ],
         "type": "scatterpolar"
        },
        {
         "fill": "toself",
         "line": {
          "color": "#EF553B"
         },
         "name": "Closest track rank 1",
         "r": [
          0.9409812268018064,
          -0.5003649081138649,
          -0.050478378400721516,
          -0.37832569895043294,
          -0.27977934053578524,
          -0.5498431671244437,
          -0.19770092347821058,
          0.2820977581350136,
          -0.2453305820804842
         ],
         "subplot": "polar",
         "theta": [
          "Danceability",
          "Energy",
          "Loudness",
          "Speechiness",
          "Acousticness",
          "instrumentalness",
          "Liveness",
          "Valence",
          "Tempo"
         ],
         "type": "scatterpolar"
        },
        {
         "fill": "toself",
         "line": {
          "color": "#636EFA"
         },
         "mode": "lines+markers",
         "name": "Cluster center centroid 3 profile",
         "r": [
          0.677927716227426,
          -0.50118613785878,
          -0.1956511759979821,
          -0.34433272546211413,
          -0.11579574699003342,
          -0.295580127030999,
          -0.18080155963336075,
          0.0938917844372949,
          -0.2346708542345995
         ],
         "showlegend": false,
         "subplot": "polar2",
         "theta": [
          "Danceability",
          "Energy",
          "Loudness",
          "Speechiness",
          "Acousticness",
          "instrumentalness",
          "Liveness",
          "Valence",
          "Tempo"
         ],
         "type": "scatterpolar"
        },
        {
         "fill": "toself",
         "line": {
          "color": "#B6E880"
         },
         "name": "Furthest track rank 1",
         "r": [
          1.0527803181496134,
          -1.8606910712314484,
          -2.8141140518642684,
          8.502461008551235,
          1.7796819146568825,
          -0.6235690916720154,
          3.6908240521987556,
          -1.0185769096480148,
          -2.3667530739111062
         ],
         "subplot": "polar2",
         "theta": [
          "Danceability",
          "Energy",
          "Loudness",
          "Speechiness",
          "Acousticness",
          "instrumentalness",
          "Liveness",
          "Valence",
          "Tempo"
         ],
         "type": "scatterpolar"
        },
        {
         "fill": "toself",
         "line": {
          "color": "#636EFA"
         },
         "mode": "lines+markers",
         "name": "Cluster center centroid 3 profile",
         "r": [
          0.677927716227426,
          -0.50118613785878,
          -0.1956511759979821,
          -0.34433272546211413,
          -0.11579574699003342,
          -0.295580127030999,
          -0.18080155963336075,
          0.0938917844372949,
          -0.2346708542345995
         ],
         "showlegend": false,
         "subplot": "polar3",
         "theta": [
          "Danceability",
          "Energy",
          "Loudness",
          "Speechiness",
          "Acousticness",
          "instrumentalness",
          "Liveness",
          "Valence",
          "Tempo"
         ],
         "type": "scatterpolar"
        },
        {
         "fill": "toself",
         "line": {
          "color": "#EF553B"
         },
         "name": "Closest track rank 2",
         "r": [
          0.6279437710279469,
          -0.343554975766017,
          -0.12835263062145508,
          -0.42658537991500667,
          0.0016185186572070297,
          -0.6235690916720154,
          -0.48001849020544235,
          -0.03345053404903463,
          -0.05427729331161368
         ],
         "subplot": "polar3",
         "theta": [
          "Danceability",
          "Energy",
          "Loudness",
          "Speechiness",
          "Acousticness",
          "instrumentalness",
          "Liveness",
          "Valence",
          "Tempo"
         ],
         "type": "scatterpolar"
        },
        {
         "fill": "toself",
         "line": {
          "color": "#636EFA"
         },
         "mode": "lines+markers",
         "name": "Cluster center centroid 3 profile",
         "r": [
          0.677927716227426,
          -0.50118613785878,
          -0.1956511759979821,
          -0.34433272546211413,
          -0.11579574699003342,
          -0.295580127030999,
          -0.18080155963336075,
          0.0938917844372949,
          -0.2346708542345995
         ],
         "showlegend": false,
         "subplot": "polar4",
         "theta": [
          "Danceability",
          "Energy",
          "Loudness",
          "Speechiness",
          "Acousticness",
          "instrumentalness",
          "Liveness",
          "Valence",
          "Tempo"
         ],
         "type": "scatterpolar"
        },
        {
         "fill": "toself",
         "line": {
          "color": "#B6E880"
         },
         "name": "Furthest track rank 2",
         "r": [
          -0.037260822491504184,
          -2.2378189585280235,
          -6.096761360070624,
          7.607646090666429,
          2.197140277195937,
          -0.6235690916720154,
          -0.3202160939447451,
          -1.8497772890596542,
          -0.8655393974126123
         ],
         "subplot": "polar4",
         "theta": [
          "Danceability",
          "Energy",
          "Loudness",
          "Speechiness",
          "Acousticness",
          "instrumentalness",
          "Liveness",
          "Valence",
          "Tempo"
         ],
         "type": "scatterpolar"
        },
        {
         "fill": "toself",
         "line": {
          "color": "#636EFA"
         },
         "mode": "lines+markers",
         "name": "Cluster center centroid 3 profile",
         "r": [
          0.677927716227426,
          -0.50118613785878,
          -0.1956511759979821,
          -0.34433272546211413,
          -0.11579574699003342,
          -0.295580127030999,
          -0.18080155963336075,
          0.0938917844372949,
          -0.2346708542345995
         ],
         "showlegend": false,
         "subplot": "polar5",
         "theta": [
          "Danceability",
          "Energy",
          "Loudness",
          "Speechiness",
          "Acousticness",
          "instrumentalness",
          "Liveness",
          "Valence",
          "Tempo"
         ],
         "type": "scatterpolar"
        },
        {
         "fill": "toself",
         "line": {
          "color": "#EF553B"
         },
         "name": "Closest track rank 3",
         "r": [
          0.7788725443474863,
          -0.5003649081138649,
          -0.47225973291417483,
          -0.5603049125876799,
          -0.52097750555835,
          -0.20010200439464093,
          -0.059205513385606194,
          0.22052735966007725,
          -0.38009791064509957
         ],
         "subplot": "polar5",
         "theta": [
          "Danceability",
          "Energy",
          "Loudness",
          "Speechiness",
          "Acousticness",
          "instrumentalness",
          "Liveness",
          "Valence",
          "Tempo"
         ],
         "type": "scatterpolar"
        },
        {
         "fill": "toself",
         "line": {
          "color": "#636EFA"
         },
         "mode": "lines+markers",
         "name": "Cluster center centroid 3 profile",
         "r": [
          0.677927716227426,
          -0.50118613785878,
          -0.1956511759979821,
          -0.34433272546211413,
          -0.11579574699003342,
          -0.295580127030999,
          -0.18080155963336075,
          0.0938917844372949,
          -0.2346708542345995
         ],
         "showlegend": false,
         "subplot": "polar6",
         "theta": [
          "Danceability",
          "Energy",
          "Loudness",
          "Speechiness",
          "Acousticness",
          "instrumentalness",
          "Liveness",
          "Valence",
          "Tempo"
         ],
         "type": "scatterpolar"
        },
        {
         "fill": "toself",
         "line": {
          "color": "#B6E880"
         },
         "name": "Furthest track rank 3",
         "r": [
          -0.6074361883653192,
          -0.2612297612833966,
          -1.5917583761104999,
          8.783975814177914,
          1.918834702169901,
          -0.6235690916720154,
          3.8346462088333833,
          -0.7492064163201687,
          -1.4840868797989244
         ],
         "subplot": "polar6",
         "theta": [
          "Danceability",
          "Energy",
          "Loudness",
          "Speechiness",
          "Acousticness",
          "instrumentalness",
          "Liveness",
          "Valence",
          "Tempo"
         ],
         "type": "scatterpolar"
        },
        {
         "fill": "toself",
         "line": {
          "color": "#636EFA"
         },
         "mode": "lines+markers",
         "name": "Cluster center centroid 3 profile",
         "r": [
          0.677927716227426,
          -0.50118613785878,
          -0.1956511759979821,
          -0.34433272546211413,
          -0.11579574699003342,
          -0.295580127030999,
          -0.18080155963336075,
          0.0938917844372949,
          -0.2346708542345995
         ],
         "showlegend": false,
         "subplot": "polar7",
         "theta": [
          "Danceability",
          "Energy",
          "Loudness",
          "Speechiness",
          "Acousticness",
          "instrumentalness",
          "Liveness",
          "Valence",
          "Tempo"
         ],
         "type": "scatterpolar"
        },
        {
         "fill": "toself",
         "line": {
          "color": "#EF553B"
         },
         "name": "Closest track rank 4",
         "r": [
          0.9465711813691967,
          -0.4768434182616877,
          -0.2658704575199182,
          -0.4235691498547209,
          -0.060227164681912186,
          -0.6230389961814667,
          -0.4746917436634191,
          -0.21816172947384335,
          -0.10684186771724011
         ],
         "subplot": "polar7",
         "theta": [
          "Danceability",
          "Energy",
          "Loudness",
          "Speechiness",
          "Acousticness",
          "instrumentalness",
          "Liveness",
          "Valence",
          "Tempo"
         ],
         "type": "scatterpolar"
        },
        {
         "fill": "toself",
         "line": {
          "color": "#636EFA"
         },
         "mode": "lines+markers",
         "name": "Cluster center centroid 3 profile",
         "r": [
          0.677927716227426,
          -0.50118613785878,
          -0.1956511759979821,
          -0.34433272546211413,
          -0.11579574699003342,
          -0.295580127030999,
          -0.18080155963336075,
          0.0938917844372949,
          -0.2346708542345995
         ],
         "showlegend": false,
         "subplot": "polar8",
         "theta": [
          "Danceability",
          "Energy",
          "Loudness",
          "Speechiness",
          "Acousticness",
          "instrumentalness",
          "Liveness",
          "Valence",
          "Tempo"
         ],
         "type": "scatterpolar"
        },
        {
         "fill": "toself",
         "line": {
          "color": "#B6E880"
         },
         "name": "Furthest track rank 4",
         "r": [
          -0.28880877802407023,
          0.04454960679490772,
          -1.435559731482786,
          8.794029914378868,
          1.7982356196586182,
          -0.6235690916720154,
          3.7973589830392207,
          -0.6029767199421949,
          -1.909587473881386
         ],
         "subplot": "polar8",
         "theta": [
          "Danceability",
          "Energy",
          "Loudness",
          "Speechiness",
          "Acousticness",
          "instrumentalness",
          "Liveness",
          "Valence",
          "Tempo"
         ],
         "type": "scatterpolar"
        },
        {
         "fill": "toself",
         "line": {
          "color": "#636EFA"
         },
         "mode": "lines+markers",
         "name": "Cluster center centroid 3 profile",
         "r": [
          0.677927716227426,
          -0.50118613785878,
          -0.1956511759979821,
          -0.34433272546211413,
          -0.11579574699003342,
          -0.295580127030999,
          -0.18080155963336075,
          0.0938917844372949,
          -0.2346708542345995
         ],
         "showlegend": false,
         "subplot": "polar9",
         "theta": [
          "Danceability",
          "Energy",
          "Loudness",
          "Speechiness",
          "Acousticness",
          "instrumentalness",
          "Liveness",
          "Valence",
          "Tempo"
         ],
         "type": "scatterpolar"
        },
        {
         "fill": "toself",
         "line": {
          "color": "#EF553B"
         },
         "name": "Closest track rank 5",
         "r": [
          0.6726634075670697,
          -0.5905306192138777,
          -0.050703448493845296,
          -0.5210939218039637,
          0.05109506532850223,
          -0.6229567399846577,
          -0.5173057159996056,
          0.05890506366336985,
          -0.5732112522667822
         ],
         "subplot": "polar9",
         "theta": [
          "Danceability",
          "Energy",
          "Loudness",
          "Speechiness",
          "Acousticness",
          "instrumentalness",
          "Liveness",
          "Valence",
          "Tempo"
         ],
         "type": "scatterpolar"
        },
        {
         "fill": "toself",
         "line": {
          "color": "#636EFA"
         },
         "mode": "lines+markers",
         "name": "Cluster center centroid 3 profile",
         "r": [
          0.677927716227426,
          -0.50118613785878,
          -0.1956511759979821,
          -0.34433272546211413,
          -0.11579574699003342,
          -0.295580127030999,
          -0.18080155963336075,
          0.0938917844372949,
          -0.2346708542345995
         ],
         "showlegend": false,
         "subplot": "polar10",
         "theta": [
          "Danceability",
          "Energy",
          "Loudness",
          "Speechiness",
          "Acousticness",
          "instrumentalness",
          "Liveness",
          "Valence",
          "Tempo"
         ],
         "type": "scatterpolar"
        },
        {
         "fill": "toself",
         "line": {
          "color": "#B6E880"
         },
         "name": "Furthest track rank 5",
         "r": [
          1.6397255477255994,
          -1.8998935543184103,
          -4.23880774133607,
          8.442136407345517,
          1.8013279038255745,
          -0.6235690916720154,
          1.7305813247342028,
          0.48604970308324014,
          -2.330469562374479
         ],
         "subplot": "polar10",
         "theta": [
          "Danceability",
          "Energy",
          "Loudness",
          "Speechiness",
          "Acousticness",
          "instrumentalness",
          "Liveness",
          "Valence",
          "Tempo"
         ],
         "type": "scatterpolar"
        }
       ],
       "layout": {
        "annotations": [
         {
          "font": {
           "size": 16
          },
          "showarrow": false,
          "text": "Frank Sinatra - Cake",
          "x": 0.25,
          "xanchor": "center",
          "xref": "paper",
          "y": 1.03,
          "yanchor": "bottom",
          "yref": "paper"
         },
         {
          "font": {
           "size": 16
          },
          "showarrow": false,
          "text": "Jaden's Interlude - Will Smith",
          "x": 0.75,
          "xanchor": "center",
          "xref": "paper",
          "y": 1.03,
          "yanchor": "bottom",
          "yref": "paper"
         },
         {
          "font": {
           "size": 16
          },
          "showarrow": false,
          "text": "No Trash in My Trailer - Colt Ford",
          "x": 0.25,
          "xanchor": "center",
          "xref": "paper",
          "y": 0.82,
          "yanchor": "bottom",
          "yref": "paper"
         },
         {
          "font": {
           "size": 16
          },
          "showarrow": false,
          "text": "Introduction - Paul Horn",
          "x": 0.75,
          "xanchor": "center",
          "xref": "paper",
          "y": 0.82,
          "yanchor": "bottom",
          "yref": "paper"
         },
         {
          "font": {
           "size": 16
          },
          "showarrow": false,
          "text": "Nothing Man - Bruce Springsteen",
          "x": 0.25,
          "xanchor": "center",
          "xref": "paper",
          "y": 0.6,
          "yanchor": "bottom",
          "yref": "paper"
         },
         {
          "font": {
           "size": 16
          },
          "showarrow": false,
          "text": "Holmes Depot - George Lopez",
          "x": 0.75,
          "xanchor": "center",
          "xref": "paper",
          "y": 0.6,
          "yanchor": "bottom",
          "yref": "paper"
         },
         {
          "font": {
           "size": 16
          },
          "showarrow": false,
          "text": "Redneck Friend - Dave Alvin",
          "x": 0.25,
          "xanchor": "center",
          "xref": "paper",
          "y": 0.38,
          "yanchor": "bottom",
          "yref": "paper"
         },
         {
          "font": {
           "size": 16
          },
          "showarrow": false,
          "text": "ER - George Lopez",
          "x": 0.75,
          "xanchor": "center",
          "xref": "paper",
          "y": 0.38,
          "yanchor": "bottom",
          "yref": "paper"
         },
         {
          "font": {
           "size": 16
          },
          "showarrow": false,
          "text": "No Doubt About It - Hot Chocolate",
          "x": 0.25,
          "xanchor": "center",
          "xref": "paper",
          "y": 0.16,
          "yanchor": "bottom",
          "yref": "paper"
         },
         {
          "font": {
           "size": 16
          },
          "showarrow": false,
          "text": "Intro - Swell",
          "x": 0.75,
          "xanchor": "center",
          "xref": "paper",
          "y": 0.16,
          "yanchor": "bottom",
          "yref": "paper"
         },
         {
          "font": {
           "color": "black",
           "size": 20
          },
          "showarrow": false,
          "text": "Closest tracks from centroid 3",
          "x": 0.12,
          "y": 1.09
         },
         {
          "font": {
           "color": "black",
           "size": 22
          },
          "showarrow": false,
          "text": "Furthest tracks from centroid 3",
          "x": 0.9,
          "y": 1.09
         },
         {
          "font": {
           "color": "black",
           "size": 22
          },
          "showarrow": false,
          "text": "Rank",
          "x": 0.005,
          "y": 1.09
         },
         {
          "font": {
           "color": "black",
           "size": 22
          },
          "showarrow": false,
          "text": "1",
          "x": 0.01,
          "y": 1.05
         },
         {
          "font": {
           "color": "black",
           "size": 22
          },
          "showarrow": false,
          "text": "2",
          "x": 0.01,
          "y": 0.84
         },
         {
          "font": {
           "color": "black",
           "size": 22
          },
          "showarrow": false,
          "text": "3",
          "x": 0.01,
          "y": 0.608
         },
         {
          "font": {
           "color": "black",
           "size": 22
          },
          "showarrow": false,
          "text": "4",
          "x": 0.01,
          "y": 0.389
         },
         {
          "font": {
           "color": "black",
           "size": 22
          },
          "showarrow": false,
          "text": "5",
          "x": 0.01,
          "y": 0.159
         }
        ],
        "height": 1600,
        "margin": {
         "b": 50,
         "l": 50,
         "r": 50,
         "t": 200
        },
        "polar": {
         "domain": {
          "x": [
           0,
           0.5
          ],
          "y": [
           0.88,
           1
          ]
         },
         "radialaxis": {
          "range": [
           -0.6235690916720154,
           0.9465711813691967
          ],
          "showticklabels": false,
          "ticks": ""
         }
        },
        "polar10": {
         "domain": {
          "x": [
           0.5,
           1
          ],
          "y": [
           0,
           0.12
          ]
         },
         "radialaxis": {
          "range": [
           -6.096761360070624,
           8.794029914378868
          ],
          "showticklabels": false,
          "ticks": ""
         }
        },
        "polar2": {
         "domain": {
          "x": [
           0.5,
           1
          ],
          "y": [
           0.88,
           1
          ]
         },
         "radialaxis": {
          "range": [
           -6.096761360070624,
           8.794029914378868
          ],
          "showticklabels": false,
          "ticks": ""
         }
        },
        "polar3": {
         "domain": {
          "x": [
           0,
           0.5
          ],
          "y": [
           0.66,
           0.78
          ]
         },
         "radialaxis": {
          "range": [
           -0.6235690916720154,
           0.9465711813691967
          ],
          "showticklabels": false,
          "ticks": ""
         }
        },
        "polar4": {
         "domain": {
          "x": [
           0.5,
           1
          ],
          "y": [
           0.66,
           0.78
          ]
         },
         "radialaxis": {
          "range": [
           -6.096761360070624,
           8.794029914378868
          ],
          "showticklabels": false,
          "ticks": ""
         }
        },
        "polar5": {
         "domain": {
          "x": [
           0,
           0.5
          ],
          "y": [
           0.44,
           0.56
          ]
         },
         "radialaxis": {
          "range": [
           -0.6235690916720154,
           0.9465711813691967
          ],
          "showticklabels": false,
          "ticks": ""
         }
        },
        "polar6": {
         "domain": {
          "x": [
           0.5,
           1
          ],
          "y": [
           0.44,
           0.56
          ]
         },
         "radialaxis": {
          "range": [
           -6.096761360070624,
           8.794029914378868
          ],
          "showticklabels": false,
          "ticks": ""
         }
        },
        "polar7": {
         "domain": {
          "x": [
           0,
           0.5
          ],
          "y": [
           0.22,
           0.33999999999999997
          ]
         },
         "radialaxis": {
          "range": [
           -0.6235690916720154,
           0.9465711813691967
          ],
          "showticklabels": false,
          "ticks": ""
         }
        },
        "polar8": {
         "domain": {
          "x": [
           0.5,
           1
          ],
          "y": [
           0.22,
           0.33999999999999997
          ]
         },
         "radialaxis": {
          "range": [
           -6.096761360070624,
           8.794029914378868
          ],
          "showticklabels": false,
          "ticks": ""
         }
        },
        "polar9": {
         "domain": {
          "x": [
           0,
           0.5
          ],
          "y": [
           0,
           0.12
          ]
         },
         "radialaxis": {
          "range": [
           -0.6235690916720154,
           0.9465711813691967
          ],
          "showticklabels": false,
          "ticks": ""
         }
        },
        "showlegend": false,
        "template": {
         "data": {
          "bar": [
           {
            "error_x": {
             "color": "#2a3f5f"
            },
            "error_y": {
             "color": "#2a3f5f"
            },
            "marker": {
             "line": {
              "color": "#E5ECF6",
              "width": 0.5
             },
             "pattern": {
              "fillmode": "overlay",
              "size": 10,
              "solidity": 0.2
             }
            },
            "type": "bar"
           }
          ],
          "barpolar": [
           {
            "marker": {
             "line": {
              "color": "#E5ECF6",
              "width": 0.5
             },
             "pattern": {
              "fillmode": "overlay",
              "size": 10,
              "solidity": 0.2
             }
            },
            "type": "barpolar"
           }
          ],
          "carpet": [
           {
            "aaxis": {
             "endlinecolor": "#2a3f5f",
             "gridcolor": "white",
             "linecolor": "white",
             "minorgridcolor": "white",
             "startlinecolor": "#2a3f5f"
            },
            "baxis": {
             "endlinecolor": "#2a3f5f",
             "gridcolor": "white",
             "linecolor": "white",
             "minorgridcolor": "white",
             "startlinecolor": "#2a3f5f"
            },
            "type": "carpet"
           }
          ],
          "choropleth": [
           {
            "colorbar": {
             "outlinewidth": 0,
             "ticks": ""
            },
            "type": "choropleth"
           }
          ],
          "contour": [
           {
            "colorbar": {
             "outlinewidth": 0,
             "ticks": ""
            },
            "colorscale": [
             [
              0,
              "#0d0887"
             ],
             [
              0.1111111111111111,
              "#46039f"
             ],
             [
              0.2222222222222222,
              "#7201a8"
             ],
             [
              0.3333333333333333,
              "#9c179e"
             ],
             [
              0.4444444444444444,
              "#bd3786"
             ],
             [
              0.5555555555555556,
              "#d8576b"
             ],
             [
              0.6666666666666666,
              "#ed7953"
             ],
             [
              0.7777777777777778,
              "#fb9f3a"
             ],
             [
              0.8888888888888888,
              "#fdca26"
             ],
             [
              1,
              "#f0f921"
             ]
            ],
            "type": "contour"
           }
          ],
          "contourcarpet": [
           {
            "colorbar": {
             "outlinewidth": 0,
             "ticks": ""
            },
            "type": "contourcarpet"
           }
          ],
          "heatmap": [
           {
            "colorbar": {
             "outlinewidth": 0,
             "ticks": ""
            },
            "colorscale": [
             [
              0,
              "#0d0887"
             ],
             [
              0.1111111111111111,
              "#46039f"
             ],
             [
              0.2222222222222222,
              "#7201a8"
             ],
             [
              0.3333333333333333,
              "#9c179e"
             ],
             [
              0.4444444444444444,
              "#bd3786"
             ],
             [
              0.5555555555555556,
              "#d8576b"
             ],
             [
              0.6666666666666666,
              "#ed7953"
             ],
             [
              0.7777777777777778,
              "#fb9f3a"
             ],
             [
              0.8888888888888888,
              "#fdca26"
             ],
             [
              1,
              "#f0f921"
             ]
            ],
            "type": "heatmap"
           }
          ],
          "heatmapgl": [
           {
            "colorbar": {
             "outlinewidth": 0,
             "ticks": ""
            },
            "colorscale": [
             [
              0,
              "#0d0887"
             ],
             [
              0.1111111111111111,
              "#46039f"
             ],
             [
              0.2222222222222222,
              "#7201a8"
             ],
             [
              0.3333333333333333,
              "#9c179e"
             ],
             [
              0.4444444444444444,
              "#bd3786"
             ],
             [
              0.5555555555555556,
              "#d8576b"
             ],
             [
              0.6666666666666666,
              "#ed7953"
             ],
             [
              0.7777777777777778,
              "#fb9f3a"
             ],
             [
              0.8888888888888888,
              "#fdca26"
             ],
             [
              1,
              "#f0f921"
             ]
            ],
            "type": "heatmapgl"
           }
          ],
          "histogram": [
           {
            "marker": {
             "pattern": {
              "fillmode": "overlay",
              "size": 10,
              "solidity": 0.2
             }
            },
            "type": "histogram"
           }
          ],
          "histogram2d": [
           {
            "colorbar": {
             "outlinewidth": 0,
             "ticks": ""
            },
            "colorscale": [
             [
              0,
              "#0d0887"
             ],
             [
              0.1111111111111111,
              "#46039f"
             ],
             [
              0.2222222222222222,
              "#7201a8"
             ],
             [
              0.3333333333333333,
              "#9c179e"
             ],
             [
              0.4444444444444444,
              "#bd3786"
             ],
             [
              0.5555555555555556,
              "#d8576b"
             ],
             [
              0.6666666666666666,
              "#ed7953"
             ],
             [
              0.7777777777777778,
              "#fb9f3a"
             ],
             [
              0.8888888888888888,
              "#fdca26"
             ],
             [
              1,
              "#f0f921"
             ]
            ],
            "type": "histogram2d"
           }
          ],
          "histogram2dcontour": [
           {
            "colorbar": {
             "outlinewidth": 0,
             "ticks": ""
            },
            "colorscale": [
             [
              0,
              "#0d0887"
             ],
             [
              0.1111111111111111,
              "#46039f"
             ],
             [
              0.2222222222222222,
              "#7201a8"
             ],
             [
              0.3333333333333333,
              "#9c179e"
             ],
             [
              0.4444444444444444,
              "#bd3786"
             ],
             [
              0.5555555555555556,
              "#d8576b"
             ],
             [
              0.6666666666666666,
              "#ed7953"
             ],
             [
              0.7777777777777778,
              "#fb9f3a"
             ],
             [
              0.8888888888888888,
              "#fdca26"
             ],
             [
              1,
              "#f0f921"
             ]
            ],
            "type": "histogram2dcontour"
           }
          ],
          "mesh3d": [
           {
            "colorbar": {
             "outlinewidth": 0,
             "ticks": ""
            },
            "type": "mesh3d"
           }
          ],
          "parcoords": [
           {
            "line": {
             "colorbar": {
              "outlinewidth": 0,
              "ticks": ""
             }
            },
            "type": "parcoords"
           }
          ],
          "pie": [
           {
            "automargin": true,
            "type": "pie"
           }
          ],
          "scatter": [
           {
            "fillpattern": {
             "fillmode": "overlay",
             "size": 10,
             "solidity": 0.2
            },
            "type": "scatter"
           }
          ],
          "scatter3d": [
           {
            "line": {
             "colorbar": {
              "outlinewidth": 0,
              "ticks": ""
             }
            },
            "marker": {
             "colorbar": {
              "outlinewidth": 0,
              "ticks": ""
             }
            },
            "type": "scatter3d"
           }
          ],
          "scattercarpet": [
           {
            "marker": {
             "colorbar": {
              "outlinewidth": 0,
              "ticks": ""
             }
            },
            "type": "scattercarpet"
           }
          ],
          "scattergeo": [
           {
            "marker": {
             "colorbar": {
              "outlinewidth": 0,
              "ticks": ""
             }
            },
            "type": "scattergeo"
           }
          ],
          "scattergl": [
           {
            "marker": {
             "colorbar": {
              "outlinewidth": 0,
              "ticks": ""
             }
            },
            "type": "scattergl"
           }
          ],
          "scattermapbox": [
           {
            "marker": {
             "colorbar": {
              "outlinewidth": 0,
              "ticks": ""
             }
            },
            "type": "scattermapbox"
           }
          ],
          "scatterpolar": [
           {
            "marker": {
             "colorbar": {
              "outlinewidth": 0,
              "ticks": ""
             }
            },
            "type": "scatterpolar"
           }
          ],
          "scatterpolargl": [
           {
            "marker": {
             "colorbar": {
              "outlinewidth": 0,
              "ticks": ""
             }
            },
            "type": "scatterpolargl"
           }
          ],
          "scatterternary": [
           {
            "marker": {
             "colorbar": {
              "outlinewidth": 0,
              "ticks": ""
             }
            },
            "type": "scatterternary"
           }
          ],
          "surface": [
           {
            "colorbar": {
             "outlinewidth": 0,
             "ticks": ""
            },
            "colorscale": [
             [
              0,
              "#0d0887"
             ],
             [
              0.1111111111111111,
              "#46039f"
             ],
             [
              0.2222222222222222,
              "#7201a8"
             ],
             [
              0.3333333333333333,
              "#9c179e"
             ],
             [
              0.4444444444444444,
              "#bd3786"
             ],
             [
              0.5555555555555556,
              "#d8576b"
             ],
             [
              0.6666666666666666,
              "#ed7953"
             ],
             [
              0.7777777777777778,
              "#fb9f3a"
             ],
             [
              0.8888888888888888,
              "#fdca26"
             ],
             [
              1,
              "#f0f921"
             ]
            ],
            "type": "surface"
           }
          ],
          "table": [
           {
            "cells": {
             "fill": {
              "color": "#EBF0F8"
             },
             "line": {
              "color": "white"
             }
            },
            "header": {
             "fill": {
              "color": "#C8D4E3"
             },
             "line": {
              "color": "white"
             }
            },
            "type": "table"
           }
          ]
         },
         "layout": {
          "annotationdefaults": {
           "arrowcolor": "#2a3f5f",
           "arrowhead": 0,
           "arrowwidth": 1
          },
          "autotypenumbers": "strict",
          "coloraxis": {
           "colorbar": {
            "outlinewidth": 0,
            "ticks": ""
           }
          },
          "colorscale": {
           "diverging": [
            [
             0,
             "#8e0152"
            ],
            [
             0.1,
             "#c51b7d"
            ],
            [
             0.2,
             "#de77ae"
            ],
            [
             0.3,
             "#f1b6da"
            ],
            [
             0.4,
             "#fde0ef"
            ],
            [
             0.5,
             "#f7f7f7"
            ],
            [
             0.6,
             "#e6f5d0"
            ],
            [
             0.7,
             "#b8e186"
            ],
            [
             0.8,
             "#7fbc41"
            ],
            [
             0.9,
             "#4d9221"
            ],
            [
             1,
             "#276419"
            ]
           ],
           "sequential": [
            [
             0,
             "#0d0887"
            ],
            [
             0.1111111111111111,
             "#46039f"
            ],
            [
             0.2222222222222222,
             "#7201a8"
            ],
            [
             0.3333333333333333,
             "#9c179e"
            ],
            [
             0.4444444444444444,
             "#bd3786"
            ],
            [
             0.5555555555555556,
             "#d8576b"
            ],
            [
             0.6666666666666666,
             "#ed7953"
            ],
            [
             0.7777777777777778,
             "#fb9f3a"
            ],
            [
             0.8888888888888888,
             "#fdca26"
            ],
            [
             1,
             "#f0f921"
            ]
           ],
           "sequentialminus": [
            [
             0,
             "#0d0887"
            ],
            [
             0.1111111111111111,
             "#46039f"
            ],
            [
             0.2222222222222222,
             "#7201a8"
            ],
            [
             0.3333333333333333,
             "#9c179e"
            ],
            [
             0.4444444444444444,
             "#bd3786"
            ],
            [
             0.5555555555555556,
             "#d8576b"
            ],
            [
             0.6666666666666666,
             "#ed7953"
            ],
            [
             0.7777777777777778,
             "#fb9f3a"
            ],
            [
             0.8888888888888888,
             "#fdca26"
            ],
            [
             1,
             "#f0f921"
            ]
           ]
          },
          "colorway": [
           "#636efa",
           "#EF553B",
           "#00cc96",
           "#ab63fa",
           "#FFA15A",
           "#19d3f3",
           "#FF6692",
           "#B6E880",
           "#FF97FF",
           "#FECB52"
          ],
          "font": {
           "color": "#2a3f5f"
          },
          "geo": {
           "bgcolor": "white",
           "lakecolor": "white",
           "landcolor": "#E5ECF6",
           "showlakes": true,
           "showland": true,
           "subunitcolor": "white"
          },
          "hoverlabel": {
           "align": "left"
          },
          "hovermode": "closest",
          "mapbox": {
           "style": "light"
          },
          "paper_bgcolor": "white",
          "plot_bgcolor": "#E5ECF6",
          "polar": {
           "angularaxis": {
            "gridcolor": "white",
            "linecolor": "white",
            "ticks": ""
           },
           "bgcolor": "#E5ECF6",
           "radialaxis": {
            "gridcolor": "white",
            "linecolor": "white",
            "ticks": ""
           }
          },
          "scene": {
           "xaxis": {
            "backgroundcolor": "#E5ECF6",
            "gridcolor": "white",
            "gridwidth": 2,
            "linecolor": "white",
            "showbackground": true,
            "ticks": "",
            "zerolinecolor": "white"
           },
           "yaxis": {
            "backgroundcolor": "#E5ECF6",
            "gridcolor": "white",
            "gridwidth": 2,
            "linecolor": "white",
            "showbackground": true,
            "ticks": "",
            "zerolinecolor": "white"
           },
           "zaxis": {
            "backgroundcolor": "#E5ECF6",
            "gridcolor": "white",
            "gridwidth": 2,
            "linecolor": "white",
            "showbackground": true,
            "ticks": "",
            "zerolinecolor": "white"
           }
          },
          "shapedefaults": {
           "line": {
            "color": "#2a3f5f"
           }
          },
          "ternary": {
           "aaxis": {
            "gridcolor": "white",
            "linecolor": "white",
            "ticks": ""
           },
           "baxis": {
            "gridcolor": "white",
            "linecolor": "white",
            "ticks": ""
           },
           "bgcolor": "#E5ECF6",
           "caxis": {
            "gridcolor": "white",
            "linecolor": "white",
            "ticks": ""
           }
          },
          "title": {
           "x": 0.05
          },
          "xaxis": {
           "automargin": true,
           "gridcolor": "white",
           "linecolor": "white",
           "ticks": "",
           "title": {
            "standoff": 15
           },
           "zerolinecolor": "white",
           "zerolinewidth": 2
          },
          "yaxis": {
           "automargin": true,
           "gridcolor": "white",
           "linecolor": "white",
           "ticks": "",
           "title": {
            "standoff": 15
           },
           "zerolinecolor": "white",
           "zerolinewidth": 2
          }
         }
        },
        "title": {
         "font": {
          "size": 18
         },
         "text": "Most similar and different tracks from centroid 3 profile (blue) of user '6a46aee45cc177cf8e2025e59d21c7939902deee'",
         "x": 0.5,
         "y": 0.99
        },
        "width": 1200
       }
      }
     },
     "metadata": {},
     "output_type": "display_data"
    },
    {
     "name": "stdout",
     "output_type": "stream",
     "text": [
      "['Scin - I:Scintilla',\n",
      " 'Introduction - Paul Horn',\n",
      " 'Lucy Leave - The Wellwater Conspiracy',\n",
      " \"Jaden's Interlude - Will Smith\",\n",
      " 'Galaxy Galaxy Galaxy - The High Water Marks',\n",
      " 'Intro - Swell',\n",
      " 'Sunday Sounds - The Apples In Stereo',\n",
      " '40 Break - Brotha Lynch Hung',\n",
      " 'Coming Home - Way Out West',\n",
      " '(Kanji) Ooioo - OOIOO']\n"
     ]
    },
    {
     "data": {
      "application/vnd.plotly.v1+json": {
       "config": {
        "plotlyServerURL": "https://plot.ly"
       },
       "data": [
        {
         "fill": "toself",
         "line": {
          "color": "#636EFA"
         },
         "mode": "lines+markers",
         "name": "Cluster center centroid 4 profile",
         "r": [
          0.19777711712428925,
          0.5193819793607938,
          1.303819243723029,
          -0.45308915299553937,
          -0.7972645880844664,
          2.356101403901405,
          -0.2575705378489672,
          1.0542331766405684,
          0.35861465315115826
         ],
         "subplot": "polar",
         "theta": [
          "Danceability",
          "Energy",
          "Loudness",
          "Speechiness",
          "Acousticness",
          "instrumentalness",
          "Liveness",
          "Valence",
          "Tempo"
         ],
         "type": "scatterpolar"
        },
        {
         "fill": "toself",
         "line": {
          "color": "#EF553B"
         },
         "name": "Closest track rank 1",
         "r": [
          0.12484785996281535,
          0.8991637380906805,
          1.238948185103852,
          -0.02341596185679677,
          -0.8485672871804968,
          2.1061180320727866,
          0.1485376017533001,
          0.7785090958391871,
          0.11062661489010911
         ],
         "subplot": "polar",
         "theta": [
          "Danceability",
          "Energy",
          "Loudness",
          "Speechiness",
          "Acousticness",
          "instrumentalness",
          "Liveness",
          "Valence",
          "Tempo"
         ],
         "type": "scatterpolar"
        },
        {
         "fill": "toself",
         "line": {
          "color": "#636EFA"
         },
         "mode": "lines+markers",
         "name": "Cluster center centroid 4 profile",
         "r": [
          0.19777711712428925,
          0.5193819793607938,
          1.303819243723029,
          -0.45308915299553937,
          -0.7972645880844664,
          2.356101403901405,
          -0.2575705378489672,
          1.0542331766405684,
          0.35861465315115826
         ],
         "showlegend": false,
         "subplot": "polar2",
         "theta": [
          "Danceability",
          "Energy",
          "Loudness",
          "Speechiness",
          "Acousticness",
          "instrumentalness",
          "Liveness",
          "Valence",
          "Tempo"
         ],
         "type": "scatterpolar"
        },
        {
         "fill": "toself",
         "line": {
          "color": "#B6E880"
         },
         "name": "Furthest track rank 1",
         "r": [
          -0.037260822491504184,
          -2.2378189585280235,
          -6.096761360070624,
          7.607646090666429,
          2.197140277195937,
          -0.6235690916720154,
          -0.3202160939447451,
          -1.8497772890596542,
          -0.8655393974126123
         ],
         "subplot": "polar2",
         "theta": [
          "Danceability",
          "Energy",
          "Loudness",
          "Speechiness",
          "Acousticness",
          "instrumentalness",
          "Liveness",
          "Valence",
          "Tempo"
         ],
         "type": "scatterpolar"
        },
        {
         "fill": "toself",
         "line": {
          "color": "#636EFA"
         },
         "mode": "lines+markers",
         "name": "Cluster center centroid 4 profile",
         "r": [
          0.19777711712428925,
          0.5193819793607938,
          1.303819243723029,
          -0.45308915299553937,
          -0.7972645880844664,
          2.356101403901405,
          -0.2575705378489672,
          1.0542331766405684,
          0.35861465315115826
         ],
         "showlegend": false,
         "subplot": "polar3",
         "theta": [
          "Danceability",
          "Energy",
          "Loudness",
          "Speechiness",
          "Acousticness",
          "instrumentalness",
          "Liveness",
          "Valence",
          "Tempo"
         ],
         "type": "scatterpolar"
        },
        {
         "fill": "toself",
         "line": {
          "color": "#EF553B"
         },
         "name": "Closest track rank 2",
         "r": [
          0.13602776909759667,
          1.1618203747733264,
          1.054390708742576,
          -0.4094934095733868,
          -0.4931469480557463,
          2.3102352611920964,
          0.05798291053890508,
          1.2941611830667787,
          0.0728811303611637
         ],
         "subplot": "polar3",
         "theta": [
          "Danceability",
          "Energy",
          "Loudness",
          "Speechiness",
          "Acousticness",
          "instrumentalness",
          "Liveness",
          "Valence",
          "Tempo"
         ],
         "type": "scatterpolar"
        },
        {
         "fill": "toself",
         "line": {
          "color": "#636EFA"
         },
         "mode": "lines+markers",
         "name": "Cluster center centroid 4 profile",
         "r": [
          0.19777711712428925,
          0.5193819793607938,
          1.303819243723029,
          -0.45308915299553937,
          -0.7972645880844664,
          2.356101403901405,
          -0.2575705378489672,
          1.0542331766405684,
          0.35861465315115826
         ],
         "showlegend": false,
         "subplot": "polar4",
         "theta": [
          "Danceability",
          "Energy",
          "Loudness",
          "Speechiness",
          "Acousticness",
          "instrumentalness",
          "Liveness",
          "Valence",
          "Tempo"
         ],
         "type": "scatterpolar"
        },
        {
         "fill": "toself",
         "line": {
          "color": "#B6E880"
         },
         "name": "Furthest track rank 2",
         "r": [
          1.0527803181496134,
          -1.8606910712314484,
          -2.8141140518642684,
          8.502461008551235,
          1.7796819146568825,
          -0.6235690916720154,
          3.6908240521987556,
          -1.0185769096480148,
          -2.3667530739111062
         ],
         "subplot": "polar4",
         "theta": [
          "Danceability",
          "Energy",
          "Loudness",
          "Speechiness",
          "Acousticness",
          "instrumentalness",
          "Liveness",
          "Valence",
          "Tempo"
         ],
         "type": "scatterpolar"
        },
        {
         "fill": "toself",
         "line": {
          "color": "#636EFA"
         },
         "mode": "lines+markers",
         "name": "Cluster center centroid 4 profile",
         "r": [
          0.19777711712428925,
          0.5193819793607938,
          1.303819243723029,
          -0.45308915299553937,
          -0.7972645880844664,
          2.356101403901405,
          -0.2575705378489672,
          1.0542331766405684,
          0.35861465315115826
         ],
         "showlegend": false,
         "subplot": "polar5",
         "theta": [
          "Danceability",
          "Energy",
          "Loudness",
          "Speechiness",
          "Acousticness",
          "instrumentalness",
          "Liveness",
          "Valence",
          "Tempo"
         ],
         "type": "scatterpolar"
        },
        {
         "fill": "toself",
         "line": {
          "color": "#EF553B"
         },
         "name": "Closest track rank 3",
         "r": [
          0.20869717847367059,
          0.8207587719167563,
          0.88266222768934,
          -0.500985721402058,
          -0.8469320873130105,
          1.926373009415484,
          -0.7303755776805347,
          0.6707608985080491,
          0.09643883153283797
         ],
         "subplot": "polar5",
         "theta": [
          "Danceability",
          "Energy",
          "Loudness",
          "Speechiness",
          "Acousticness",
          "instrumentalness",
          "Liveness",
          "Valence",
          "Tempo"
         ],
         "type": "scatterpolar"
        },
        {
         "fill": "toself",
         "line": {
          "color": "#636EFA"
         },
         "mode": "lines+markers",
         "name": "Cluster center centroid 4 profile",
         "r": [
          0.19777711712428925,
          0.5193819793607938,
          1.303819243723029,
          -0.45308915299553937,
          -0.7972645880844664,
          2.356101403901405,
          -0.2575705378489672,
          1.0542331766405684,
          0.35861465315115826
         ],
         "showlegend": false,
         "subplot": "polar6",
         "theta": [
          "Danceability",
          "Energy",
          "Loudness",
          "Speechiness",
          "Acousticness",
          "instrumentalness",
          "Liveness",
          "Valence",
          "Tempo"
         ],
         "type": "scatterpolar"
        },
        {
         "fill": "toself",
         "line": {
          "color": "#B6E880"
         },
         "name": "Furthest track rank 3",
         "r": [
          1.6397255477255994,
          -1.8998935543184103,
          -4.23880774133607,
          8.442136407345517,
          1.8013279038255745,
          -0.6235690916720154,
          1.7305813247342028,
          0.48604970308324014,
          -2.330469562374479
         ],
         "subplot": "polar6",
         "theta": [
          "Danceability",
          "Energy",
          "Loudness",
          "Speechiness",
          "Acousticness",
          "instrumentalness",
          "Liveness",
          "Valence",
          "Tempo"
         ],
         "type": "scatterpolar"
        },
        {
         "fill": "toself",
         "line": {
          "color": "#636EFA"
         },
         "mode": "lines+markers",
         "name": "Cluster center centroid 4 profile",
         "r": [
          0.19777711712428925,
          0.5193819793607938,
          1.303819243723029,
          -0.45308915299553937,
          -0.7972645880844664,
          2.356101403901405,
          -0.2575705378489672,
          1.0542331766405684,
          0.35861465315115826
         ],
         "showlegend": false,
         "subplot": "polar7",
         "theta": [
          "Danceability",
          "Energy",
          "Loudness",
          "Speechiness",
          "Acousticness",
          "instrumentalness",
          "Liveness",
          "Valence",
          "Tempo"
         ],
         "type": "scatterpolar"
        },
        {
         "fill": "toself",
         "line": {
          "color": "#EF553B"
         },
         "name": "Closest track rank 4",
         "r": [
          -0.30557864172624066,
          0.581623625086288,
          0.7392925783696658,
          -0.37530946889014705,
          -0.8480978784439529,
          2.1396298159580467,
          -0.5226324625416289,
          0.6053423501284292,
          0.43594883233984966
         ],
         "subplot": "polar7",
         "theta": [
          "Danceability",
          "Energy",
          "Loudness",
          "Speechiness",
          "Acousticness",
          "instrumentalness",
          "Liveness",
          "Valence",
          "Tempo"
         ],
         "type": "scatterpolar"
        },
        {
         "fill": "toself",
         "line": {
          "color": "#636EFA"
         },
         "mode": "lines+markers",
         "name": "Cluster center centroid 4 profile",
         "r": [
          0.19777711712428925,
          0.5193819793607938,
          1.303819243723029,
          -0.45308915299553937,
          -0.7972645880844664,
          2.356101403901405,
          -0.2575705378489672,
          1.0542331766405684,
          0.35861465315115826
         ],
         "showlegend": false,
         "subplot": "polar8",
         "theta": [
          "Danceability",
          "Energy",
          "Loudness",
          "Speechiness",
          "Acousticness",
          "instrumentalness",
          "Liveness",
          "Valence",
          "Tempo"
         ],
         "type": "scatterpolar"
        },
        {
         "fill": "toself",
         "line": {
          "color": "#B6E880"
         },
         "name": "Furthest track rank 4",
         "r": [
          0.8291821354539994,
          -1.833249333070575,
          -5.241044866015049,
          7.899214996494062,
          0.15932501117196085,
          -0.6235690916720154,
          1.9223442002470392,
          -1.4676560035245811,
          -1.4055058314618147
         ],
         "subplot": "polar8",
         "theta": [
          "Danceability",
          "Energy",
          "Loudness",
          "Speechiness",
          "Acousticness",
          "instrumentalness",
          "Liveness",
          "Valence",
          "Tempo"
         ],
         "type": "scatterpolar"
        },
        {
         "fill": "toself",
         "line": {
          "color": "#636EFA"
         },
         "mode": "lines+markers",
         "name": "Cluster center centroid 4 profile",
         "r": [
          0.19777711712428925,
          0.5193819793607938,
          1.303819243723029,
          -0.45308915299553937,
          -0.7972645880844664,
          2.356101403901405,
          -0.2575705378489672,
          1.0542331766405684,
          0.35861465315115826
         ],
         "showlegend": false,
         "subplot": "polar9",
         "theta": [
          "Danceability",
          "Energy",
          "Loudness",
          "Speechiness",
          "Acousticness",
          "instrumentalness",
          "Liveness",
          "Valence",
          "Tempo"
         ],
         "type": "scatterpolar"
        },
        {
         "fill": "toself",
         "line": {
          "color": "#EF553B"
         },
         "name": "Closest track rank 5",
         "r": [
          0.4434752703040653,
          0.6247463564819463,
          0.6373358261847168,
          -0.4245745598748161,
          -0.8400703087465353,
          2.0208153094557617,
          0.01004219166069586,
          0.5437719516534929,
          0.2781222024873044
         ],
         "subplot": "polar9",
         "theta": [
          "Danceability",
          "Energy",
          "Loudness",
          "Speechiness",
          "Acousticness",
          "instrumentalness",
          "Liveness",
          "Valence",
          "Tempo"
         ],
         "type": "scatterpolar"
        },
        {
         "fill": "toself",
         "line": {
          "color": "#636EFA"
         },
         "mode": "lines+markers",
         "name": "Cluster center centroid 4 profile",
         "r": [
          0.19777711712428925,
          0.5193819793607938,
          1.303819243723029,
          -0.45308915299553937,
          -0.7972645880844664,
          2.356101403901405,
          -0.2575705378489672,
          1.0542331766405684,
          0.35861465315115826
         ],
         "showlegend": false,
         "subplot": "polar10",
         "theta": [
          "Danceability",
          "Energy",
          "Loudness",
          "Speechiness",
          "Acousticness",
          "instrumentalness",
          "Liveness",
          "Valence",
          "Tempo"
         ],
         "type": "scatterpolar"
        },
        {
         "fill": "toself",
         "line": {
          "color": "#B6E880"
         },
         "name": "Furthest track rank 5",
         "r": [
          -2.854597924456238,
          -2.4412798457493565,
          -8.00310504882673,
          -0.7975816773301675,
          1.105563966260484,
          2.237118641806075,
          -0.5918801675879304,
          -1.8497772890596542,
          -4.040645696797743
         ],
         "subplot": "polar10",
         "theta": [
          "Danceability",
          "Energy",
          "Loudness",
          "Speechiness",
          "Acousticness",
          "instrumentalness",
          "Liveness",
          "Valence",
          "Tempo"
         ],
         "type": "scatterpolar"
        }
       ],
       "layout": {
        "annotations": [
         {
          "font": {
           "size": 16
          },
          "showarrow": false,
          "text": "Scin - I:Scintilla",
          "x": 0.25,
          "xanchor": "center",
          "xref": "paper",
          "y": 1.03,
          "yanchor": "bottom",
          "yref": "paper"
         },
         {
          "font": {
           "size": 16
          },
          "showarrow": false,
          "text": "Introduction - Paul Horn",
          "x": 0.75,
          "xanchor": "center",
          "xref": "paper",
          "y": 1.03,
          "yanchor": "bottom",
          "yref": "paper"
         },
         {
          "font": {
           "size": 16
          },
          "showarrow": false,
          "text": "Lucy Leave - The Wellwater Conspiracy",
          "x": 0.25,
          "xanchor": "center",
          "xref": "paper",
          "y": 0.82,
          "yanchor": "bottom",
          "yref": "paper"
         },
         {
          "font": {
           "size": 16
          },
          "showarrow": false,
          "text": "Jaden's Interlude - Will Smith",
          "x": 0.75,
          "xanchor": "center",
          "xref": "paper",
          "y": 0.82,
          "yanchor": "bottom",
          "yref": "paper"
         },
         {
          "font": {
           "size": 16
          },
          "showarrow": false,
          "text": "Galaxy Galaxy Galaxy - The High Water Marks",
          "x": 0.25,
          "xanchor": "center",
          "xref": "paper",
          "y": 0.6,
          "yanchor": "bottom",
          "yref": "paper"
         },
         {
          "font": {
           "size": 16
          },
          "showarrow": false,
          "text": "Intro - Swell",
          "x": 0.75,
          "xanchor": "center",
          "xref": "paper",
          "y": 0.6,
          "yanchor": "bottom",
          "yref": "paper"
         },
         {
          "font": {
           "size": 16
          },
          "showarrow": false,
          "text": "Sunday Sounds - The Apples In Stereo",
          "x": 0.25,
          "xanchor": "center",
          "xref": "paper",
          "y": 0.38,
          "yanchor": "bottom",
          "yref": "paper"
         },
         {
          "font": {
           "size": 16
          },
          "showarrow": false,
          "text": "40 Break - Brotha Lynch Hung",
          "x": 0.75,
          "xanchor": "center",
          "xref": "paper",
          "y": 0.38,
          "yanchor": "bottom",
          "yref": "paper"
         },
         {
          "font": {
           "size": 16
          },
          "showarrow": false,
          "text": "Coming Home - Way Out West",
          "x": 0.25,
          "xanchor": "center",
          "xref": "paper",
          "y": 0.16,
          "yanchor": "bottom",
          "yref": "paper"
         },
         {
          "font": {
           "size": 16
          },
          "showarrow": false,
          "text": "(Kanji) Ooioo - OOIOO",
          "x": 0.75,
          "xanchor": "center",
          "xref": "paper",
          "y": 0.16,
          "yanchor": "bottom",
          "yref": "paper"
         },
         {
          "font": {
           "color": "black",
           "size": 20
          },
          "showarrow": false,
          "text": "Closest tracks from centroid 4",
          "x": 0.12,
          "y": 1.09
         },
         {
          "font": {
           "color": "black",
           "size": 22
          },
          "showarrow": false,
          "text": "Furthest tracks from centroid 4",
          "x": 0.9,
          "y": 1.09
         },
         {
          "font": {
           "color": "black",
           "size": 22
          },
          "showarrow": false,
          "text": "Rank",
          "x": 0.005,
          "y": 1.09
         },
         {
          "font": {
           "color": "black",
           "size": 22
          },
          "showarrow": false,
          "text": "1",
          "x": 0.01,
          "y": 1.05
         },
         {
          "font": {
           "color": "black",
           "size": 22
          },
          "showarrow": false,
          "text": "2",
          "x": 0.01,
          "y": 0.84
         },
         {
          "font": {
           "color": "black",
           "size": 22
          },
          "showarrow": false,
          "text": "3",
          "x": 0.01,
          "y": 0.608
         },
         {
          "font": {
           "color": "black",
           "size": 22
          },
          "showarrow": false,
          "text": "4",
          "x": 0.01,
          "y": 0.389
         },
         {
          "font": {
           "color": "black",
           "size": 22
          },
          "showarrow": false,
          "text": "5",
          "x": 0.01,
          "y": 0.159
         }
        ],
        "height": 1600,
        "margin": {
         "b": 50,
         "l": 50,
         "r": 50,
         "t": 200
        },
        "polar": {
         "domain": {
          "x": [
           0,
           0.5
          ],
          "y": [
           0.88,
           1
          ]
         },
         "radialaxis": {
          "range": [
           -0.8485672871804968,
           2.356101403901405
          ],
          "showticklabels": false,
          "ticks": ""
         }
        },
        "polar10": {
         "domain": {
          "x": [
           0.5,
           1
          ],
          "y": [
           0,
           0.12
          ]
         },
         "radialaxis": {
          "range": [
           -8.00310504882673,
           8.502461008551235
          ],
          "showticklabels": false,
          "ticks": ""
         }
        },
        "polar2": {
         "domain": {
          "x": [
           0.5,
           1
          ],
          "y": [
           0.88,
           1
          ]
         },
         "radialaxis": {
          "range": [
           -8.00310504882673,
           8.502461008551235
          ],
          "showticklabels": false,
          "ticks": ""
         }
        },
        "polar3": {
         "domain": {
          "x": [
           0,
           0.5
          ],
          "y": [
           0.66,
           0.78
          ]
         },
         "radialaxis": {
          "range": [
           -0.8485672871804968,
           2.356101403901405
          ],
          "showticklabels": false,
          "ticks": ""
         }
        },
        "polar4": {
         "domain": {
          "x": [
           0.5,
           1
          ],
          "y": [
           0.66,
           0.78
          ]
         },
         "radialaxis": {
          "range": [
           -8.00310504882673,
           8.502461008551235
          ],
          "showticklabels": false,
          "ticks": ""
         }
        },
        "polar5": {
         "domain": {
          "x": [
           0,
           0.5
          ],
          "y": [
           0.44,
           0.56
          ]
         },
         "radialaxis": {
          "range": [
           -0.8485672871804968,
           2.356101403901405
          ],
          "showticklabels": false,
          "ticks": ""
         }
        },
        "polar6": {
         "domain": {
          "x": [
           0.5,
           1
          ],
          "y": [
           0.44,
           0.56
          ]
         },
         "radialaxis": {
          "range": [
           -8.00310504882673,
           8.502461008551235
          ],
          "showticklabels": false,
          "ticks": ""
         }
        },
        "polar7": {
         "domain": {
          "x": [
           0,
           0.5
          ],
          "y": [
           0.22,
           0.33999999999999997
          ]
         },
         "radialaxis": {
          "range": [
           -0.8485672871804968,
           2.356101403901405
          ],
          "showticklabels": false,
          "ticks": ""
         }
        },
        "polar8": {
         "domain": {
          "x": [
           0.5,
           1
          ],
          "y": [
           0.22,
           0.33999999999999997
          ]
         },
         "radialaxis": {
          "range": [
           -8.00310504882673,
           8.502461008551235
          ],
          "showticklabels": false,
          "ticks": ""
         }
        },
        "polar9": {
         "domain": {
          "x": [
           0,
           0.5
          ],
          "y": [
           0,
           0.12
          ]
         },
         "radialaxis": {
          "range": [
           -0.8485672871804968,
           2.356101403901405
          ],
          "showticklabels": false,
          "ticks": ""
         }
        },
        "showlegend": false,
        "template": {
         "data": {
          "bar": [
           {
            "error_x": {
             "color": "#2a3f5f"
            },
            "error_y": {
             "color": "#2a3f5f"
            },
            "marker": {
             "line": {
              "color": "#E5ECF6",
              "width": 0.5
             },
             "pattern": {
              "fillmode": "overlay",
              "size": 10,
              "solidity": 0.2
             }
            },
            "type": "bar"
           }
          ],
          "barpolar": [
           {
            "marker": {
             "line": {
              "color": "#E5ECF6",
              "width": 0.5
             },
             "pattern": {
              "fillmode": "overlay",
              "size": 10,
              "solidity": 0.2
             }
            },
            "type": "barpolar"
           }
          ],
          "carpet": [
           {
            "aaxis": {
             "endlinecolor": "#2a3f5f",
             "gridcolor": "white",
             "linecolor": "white",
             "minorgridcolor": "white",
             "startlinecolor": "#2a3f5f"
            },
            "baxis": {
             "endlinecolor": "#2a3f5f",
             "gridcolor": "white",
             "linecolor": "white",
             "minorgridcolor": "white",
             "startlinecolor": "#2a3f5f"
            },
            "type": "carpet"
           }
          ],
          "choropleth": [
           {
            "colorbar": {
             "outlinewidth": 0,
             "ticks": ""
            },
            "type": "choropleth"
           }
          ],
          "contour": [
           {
            "colorbar": {
             "outlinewidth": 0,
             "ticks": ""
            },
            "colorscale": [
             [
              0,
              "#0d0887"
             ],
             [
              0.1111111111111111,
              "#46039f"
             ],
             [
              0.2222222222222222,
              "#7201a8"
             ],
             [
              0.3333333333333333,
              "#9c179e"
             ],
             [
              0.4444444444444444,
              "#bd3786"
             ],
             [
              0.5555555555555556,
              "#d8576b"
             ],
             [
              0.6666666666666666,
              "#ed7953"
             ],
             [
              0.7777777777777778,
              "#fb9f3a"
             ],
             [
              0.8888888888888888,
              "#fdca26"
             ],
             [
              1,
              "#f0f921"
             ]
            ],
            "type": "contour"
           }
          ],
          "contourcarpet": [
           {
            "colorbar": {
             "outlinewidth": 0,
             "ticks": ""
            },
            "type": "contourcarpet"
           }
          ],
          "heatmap": [
           {
            "colorbar": {
             "outlinewidth": 0,
             "ticks": ""
            },
            "colorscale": [
             [
              0,
              "#0d0887"
             ],
             [
              0.1111111111111111,
              "#46039f"
             ],
             [
              0.2222222222222222,
              "#7201a8"
             ],
             [
              0.3333333333333333,
              "#9c179e"
             ],
             [
              0.4444444444444444,
              "#bd3786"
             ],
             [
              0.5555555555555556,
              "#d8576b"
             ],
             [
              0.6666666666666666,
              "#ed7953"
             ],
             [
              0.7777777777777778,
              "#fb9f3a"
             ],
             [
              0.8888888888888888,
              "#fdca26"
             ],
             [
              1,
              "#f0f921"
             ]
            ],
            "type": "heatmap"
           }
          ],
          "heatmapgl": [
           {
            "colorbar": {
             "outlinewidth": 0,
             "ticks": ""
            },
            "colorscale": [
             [
              0,
              "#0d0887"
             ],
             [
              0.1111111111111111,
              "#46039f"
             ],
             [
              0.2222222222222222,
              "#7201a8"
             ],
             [
              0.3333333333333333,
              "#9c179e"
             ],
             [
              0.4444444444444444,
              "#bd3786"
             ],
             [
              0.5555555555555556,
              "#d8576b"
             ],
             [
              0.6666666666666666,
              "#ed7953"
             ],
             [
              0.7777777777777778,
              "#fb9f3a"
             ],
             [
              0.8888888888888888,
              "#fdca26"
             ],
             [
              1,
              "#f0f921"
             ]
            ],
            "type": "heatmapgl"
           }
          ],
          "histogram": [
           {
            "marker": {
             "pattern": {
              "fillmode": "overlay",
              "size": 10,
              "solidity": 0.2
             }
            },
            "type": "histogram"
           }
          ],
          "histogram2d": [
           {
            "colorbar": {
             "outlinewidth": 0,
             "ticks": ""
            },
            "colorscale": [
             [
              0,
              "#0d0887"
             ],
             [
              0.1111111111111111,
              "#46039f"
             ],
             [
              0.2222222222222222,
              "#7201a8"
             ],
             [
              0.3333333333333333,
              "#9c179e"
             ],
             [
              0.4444444444444444,
              "#bd3786"
             ],
             [
              0.5555555555555556,
              "#d8576b"
             ],
             [
              0.6666666666666666,
              "#ed7953"
             ],
             [
              0.7777777777777778,
              "#fb9f3a"
             ],
             [
              0.8888888888888888,
              "#fdca26"
             ],
             [
              1,
              "#f0f921"
             ]
            ],
            "type": "histogram2d"
           }
          ],
          "histogram2dcontour": [
           {
            "colorbar": {
             "outlinewidth": 0,
             "ticks": ""
            },
            "colorscale": [
             [
              0,
              "#0d0887"
             ],
             [
              0.1111111111111111,
              "#46039f"
             ],
             [
              0.2222222222222222,
              "#7201a8"
             ],
             [
              0.3333333333333333,
              "#9c179e"
             ],
             [
              0.4444444444444444,
              "#bd3786"
             ],
             [
              0.5555555555555556,
              "#d8576b"
             ],
             [
              0.6666666666666666,
              "#ed7953"
             ],
             [
              0.7777777777777778,
              "#fb9f3a"
             ],
             [
              0.8888888888888888,
              "#fdca26"
             ],
             [
              1,
              "#f0f921"
             ]
            ],
            "type": "histogram2dcontour"
           }
          ],
          "mesh3d": [
           {
            "colorbar": {
             "outlinewidth": 0,
             "ticks": ""
            },
            "type": "mesh3d"
           }
          ],
          "parcoords": [
           {
            "line": {
             "colorbar": {
              "outlinewidth": 0,
              "ticks": ""
             }
            },
            "type": "parcoords"
           }
          ],
          "pie": [
           {
            "automargin": true,
            "type": "pie"
           }
          ],
          "scatter": [
           {
            "fillpattern": {
             "fillmode": "overlay",
             "size": 10,
             "solidity": 0.2
            },
            "type": "scatter"
           }
          ],
          "scatter3d": [
           {
            "line": {
             "colorbar": {
              "outlinewidth": 0,
              "ticks": ""
             }
            },
            "marker": {
             "colorbar": {
              "outlinewidth": 0,
              "ticks": ""
             }
            },
            "type": "scatter3d"
           }
          ],
          "scattercarpet": [
           {
            "marker": {
             "colorbar": {
              "outlinewidth": 0,
              "ticks": ""
             }
            },
            "type": "scattercarpet"
           }
          ],
          "scattergeo": [
           {
            "marker": {
             "colorbar": {
              "outlinewidth": 0,
              "ticks": ""
             }
            },
            "type": "scattergeo"
           }
          ],
          "scattergl": [
           {
            "marker": {
             "colorbar": {
              "outlinewidth": 0,
              "ticks": ""
             }
            },
            "type": "scattergl"
           }
          ],
          "scattermapbox": [
           {
            "marker": {
             "colorbar": {
              "outlinewidth": 0,
              "ticks": ""
             }
            },
            "type": "scattermapbox"
           }
          ],
          "scatterpolar": [
           {
            "marker": {
             "colorbar": {
              "outlinewidth": 0,
              "ticks": ""
             }
            },
            "type": "scatterpolar"
           }
          ],
          "scatterpolargl": [
           {
            "marker": {
             "colorbar": {
              "outlinewidth": 0,
              "ticks": ""
             }
            },
            "type": "scatterpolargl"
           }
          ],
          "scatterternary": [
           {
            "marker": {
             "colorbar": {
              "outlinewidth": 0,
              "ticks": ""
             }
            },
            "type": "scatterternary"
           }
          ],
          "surface": [
           {
            "colorbar": {
             "outlinewidth": 0,
             "ticks": ""
            },
            "colorscale": [
             [
              0,
              "#0d0887"
             ],
             [
              0.1111111111111111,
              "#46039f"
             ],
             [
              0.2222222222222222,
              "#7201a8"
             ],
             [
              0.3333333333333333,
              "#9c179e"
             ],
             [
              0.4444444444444444,
              "#bd3786"
             ],
             [
              0.5555555555555556,
              "#d8576b"
             ],
             [
              0.6666666666666666,
              "#ed7953"
             ],
             [
              0.7777777777777778,
              "#fb9f3a"
             ],
             [
              0.8888888888888888,
              "#fdca26"
             ],
             [
              1,
              "#f0f921"
             ]
            ],
            "type": "surface"
           }
          ],
          "table": [
           {
            "cells": {
             "fill": {
              "color": "#EBF0F8"
             },
             "line": {
              "color": "white"
             }
            },
            "header": {
             "fill": {
              "color": "#C8D4E3"
             },
             "line": {
              "color": "white"
             }
            },
            "type": "table"
           }
          ]
         },
         "layout": {
          "annotationdefaults": {
           "arrowcolor": "#2a3f5f",
           "arrowhead": 0,
           "arrowwidth": 1
          },
          "autotypenumbers": "strict",
          "coloraxis": {
           "colorbar": {
            "outlinewidth": 0,
            "ticks": ""
           }
          },
          "colorscale": {
           "diverging": [
            [
             0,
             "#8e0152"
            ],
            [
             0.1,
             "#c51b7d"
            ],
            [
             0.2,
             "#de77ae"
            ],
            [
             0.3,
             "#f1b6da"
            ],
            [
             0.4,
             "#fde0ef"
            ],
            [
             0.5,
             "#f7f7f7"
            ],
            [
             0.6,
             "#e6f5d0"
            ],
            [
             0.7,
             "#b8e186"
            ],
            [
             0.8,
             "#7fbc41"
            ],
            [
             0.9,
             "#4d9221"
            ],
            [
             1,
             "#276419"
            ]
           ],
           "sequential": [
            [
             0,
             "#0d0887"
            ],
            [
             0.1111111111111111,
             "#46039f"
            ],
            [
             0.2222222222222222,
             "#7201a8"
            ],
            [
             0.3333333333333333,
             "#9c179e"
            ],
            [
             0.4444444444444444,
             "#bd3786"
            ],
            [
             0.5555555555555556,
             "#d8576b"
            ],
            [
             0.6666666666666666,
             "#ed7953"
            ],
            [
             0.7777777777777778,
             "#fb9f3a"
            ],
            [
             0.8888888888888888,
             "#fdca26"
            ],
            [
             1,
             "#f0f921"
            ]
           ],
           "sequentialminus": [
            [
             0,
             "#0d0887"
            ],
            [
             0.1111111111111111,
             "#46039f"
            ],
            [
             0.2222222222222222,
             "#7201a8"
            ],
            [
             0.3333333333333333,
             "#9c179e"
            ],
            [
             0.4444444444444444,
             "#bd3786"
            ],
            [
             0.5555555555555556,
             "#d8576b"
            ],
            [
             0.6666666666666666,
             "#ed7953"
            ],
            [
             0.7777777777777778,
             "#fb9f3a"
            ],
            [
             0.8888888888888888,
             "#fdca26"
            ],
            [
             1,
             "#f0f921"
            ]
           ]
          },
          "colorway": [
           "#636efa",
           "#EF553B",
           "#00cc96",
           "#ab63fa",
           "#FFA15A",
           "#19d3f3",
           "#FF6692",
           "#B6E880",
           "#FF97FF",
           "#FECB52"
          ],
          "font": {
           "color": "#2a3f5f"
          },
          "geo": {
           "bgcolor": "white",
           "lakecolor": "white",
           "landcolor": "#E5ECF6",
           "showlakes": true,
           "showland": true,
           "subunitcolor": "white"
          },
          "hoverlabel": {
           "align": "left"
          },
          "hovermode": "closest",
          "mapbox": {
           "style": "light"
          },
          "paper_bgcolor": "white",
          "plot_bgcolor": "#E5ECF6",
          "polar": {
           "angularaxis": {
            "gridcolor": "white",
            "linecolor": "white",
            "ticks": ""
           },
           "bgcolor": "#E5ECF6",
           "radialaxis": {
            "gridcolor": "white",
            "linecolor": "white",
            "ticks": ""
           }
          },
          "scene": {
           "xaxis": {
            "backgroundcolor": "#E5ECF6",
            "gridcolor": "white",
            "gridwidth": 2,
            "linecolor": "white",
            "showbackground": true,
            "ticks": "",
            "zerolinecolor": "white"
           },
           "yaxis": {
            "backgroundcolor": "#E5ECF6",
            "gridcolor": "white",
            "gridwidth": 2,
            "linecolor": "white",
            "showbackground": true,
            "ticks": "",
            "zerolinecolor": "white"
           },
           "zaxis": {
            "backgroundcolor": "#E5ECF6",
            "gridcolor": "white",
            "gridwidth": 2,
            "linecolor": "white",
            "showbackground": true,
            "ticks": "",
            "zerolinecolor": "white"
           }
          },
          "shapedefaults": {
           "line": {
            "color": "#2a3f5f"
           }
          },
          "ternary": {
           "aaxis": {
            "gridcolor": "white",
            "linecolor": "white",
            "ticks": ""
           },
           "baxis": {
            "gridcolor": "white",
            "linecolor": "white",
            "ticks": ""
           },
           "bgcolor": "#E5ECF6",
           "caxis": {
            "gridcolor": "white",
            "linecolor": "white",
            "ticks": ""
           }
          },
          "title": {
           "x": 0.05
          },
          "xaxis": {
           "automargin": true,
           "gridcolor": "white",
           "linecolor": "white",
           "ticks": "",
           "title": {
            "standoff": 15
           },
           "zerolinecolor": "white",
           "zerolinewidth": 2
          },
          "yaxis": {
           "automargin": true,
           "gridcolor": "white",
           "linecolor": "white",
           "ticks": "",
           "title": {
            "standoff": 15
           },
           "zerolinecolor": "white",
           "zerolinewidth": 2
          }
         }
        },
        "title": {
         "font": {
          "size": 18
         },
         "text": "Most similar and different tracks from centroid 4 profile (blue) of user '6a46aee45cc177cf8e2025e59d21c7939902deee'",
         "x": 0.5,
         "y": 0.99
        },
        "width": 1200
       }
      }
     },
     "metadata": {},
     "output_type": "display_data"
    }
   ],
   "source": [
    "import plotly.graph_objects as go\n",
    "from plotly.subplots import make_subplots\n",
    "\n",
    "\n",
    "for i in range(len(similar)):\n",
    "\n",
    "    if (len(similar) == 1):\n",
    "        profile = standard_profile\n",
    "        std_prof = True\n",
    "        prof_name = \"Standard profile weighted by listening counts\"\n",
    "        fig_title = f\"Most similar and different tracks from standard profile (blue) of user '{user_name}'\"\n",
    "        col1_title = \"Closest tracks\"\n",
    "        col2_title = \"Furthest tracks\"\n",
    "        fig_name = \"avg_profile\"\n",
    "        fig_type = fig_name\n",
    "\n",
    "    elif (len(similar) > 1):\n",
    "        profile = clusters_profiles    \n",
    "        std_prof = False\n",
    "        prof_name = f\"Cluster center centroid {i+1} profile\" \n",
    "        fig_title = f\"Most similar and different tracks from centroid {i+1} profile (blue) of user '{user_name}'\"\n",
    "        col1_title = f\"Closest tracks from centroid {i+1}\"\n",
    "        col2_title = f\"Furthest tracks from centroid {i+1}\"\n",
    "        fig_name = f\"centroid_{i+1}_profile \"\n",
    "        fig_type = \"centroids_profiles\"\n",
    "\n",
    "    min_sim = np.min(similar[i])\n",
    "    if min_sim > np.min(profile[i]):\n",
    "        min_sim = np.min(profile[i])\n",
    "\n",
    "    max_sim = np.max(similar[i])\n",
    "    if max_sim < np.max(profile[i]):\n",
    "        max_sim = np.max(profile[i])\n",
    "\n",
    "    min_dis = np.min(disimilar[i])\n",
    "    if min_dis > np.min(profile[i]):\n",
    "        min_dis = np.min(profile[i])\n",
    "\n",
    "    max_dis = np.max(disimilar[i])\n",
    "    if max_dis < np.max(profile[i]):\n",
    "        max_dis = np.max(profile[i])\n",
    "    \n",
    "    tracks_titles = []\n",
    "    for j in range(len(similar[i])):\n",
    "        tracks_titles.append(sim_names[i][j])\n",
    "        tracks_titles.append(dis_names[i][j])\n",
    "\n",
    "\n",
    "\n",
    "    fig = make_subplots(rows=n_neighbors, cols=2,\n",
    "                        shared_xaxes='columns', shared_yaxes='columns',\n",
    "                        vertical_spacing = 0.1,\n",
    "                        horizontal_spacing=0,\n",
    "                        #column_titles = [\"Closest tracks\", \"Furthest tracks\"],\n",
    "                        #row_heights = [0.9,0.9],\n",
    "                        subplot_titles=tracks_titles,\n",
    "                     specs = [[{'type': 'polar'}]*2]*n_neighbors)\n",
    "\n",
    "\n",
    "    trace_profile = go.Scatterpolar(r = profile[i],\n",
    "                                             theta = acoustic_variables,\n",
    "                                             mode = \"lines+markers\", line_color='#636EFA',\n",
    "                                             \n",
    "                                                                                          \n",
    "                                             name = prof_name)\n",
    "\n",
    "    #https://community.plotly.com/t/plotly-colours-list/11730/3\n",
    "    #colors_col2 = ['orange', '#8c564b', '#7f7f7f', '#2ca02c', 'pink' ]\n",
    "    \n",
    "\n",
    "    for j in range(len(similar[i])):\n",
    "        \n",
    "        fig.add_trace(trace_profile, row=j+1, col=1)\n",
    "\n",
    "        fig.add_trace(go.Scatterpolar(\n",
    "            r = similar[i][j],\n",
    "            name = f\"Closest track rank {j+1}\",\n",
    "            theta = acoustic_variables,\n",
    "            line_color = '#EF553B',\n",
    "            #text=[\"Foundbird - Papercuts\"],\n",
    "            #textposition=\"top center\"\n",
    "        ),  row=j+1, col=1)\n",
    "\n",
    "        fig.add_trace(trace_profile, row=j+1, col=2)\n",
    "\n",
    "        fig.add_trace(go.Scatterpolar(\n",
    "            r = disimilar[i][j],\n",
    "            name = f\"Furthest track rank {j+1}\",\n",
    "            theta = acoustic_variables,\n",
    "            line_color = '#B6E880',  #colors_col2[j],\n",
    "        ),  row=j+1, col=2)\n",
    "\n",
    "    \n",
    "\n",
    "    fig.update_traces(fill='toself')#,\n",
    "                      #mode = \"lines+markers\", line_color='indianred',\n",
    "                      #marker =   dict(color='lightslategray', size=8, symbol='square'))\n",
    "\n",
    "    \n",
    "    fig.update_layout(\n",
    "        height = 1600,\n",
    "        width = 1200,\n",
    "        #title_text = \"Test\",\n",
    "        title= dict(text=fig_title,\n",
    "                    x=0.5,\n",
    "                    y=0.99,\n",
    "                    #x_anchor = 'center',\n",
    "                    #y_anchor = 'top',\n",
    "                    font = dict(\n",
    "                        #family = 'Courier New')\n",
    "                        size = 18)),\n",
    "                    #margin=dict(l=50, r=50, t=200, b=50),\n",
    "                    margin=dict(l=50, r=50, t=200, b=50),\n",
    "        #paper_bgcolor=\"LightSteelBlue\",\n",
    "        polar = dict(radialaxis = dict(showticklabels=False, ticks='' ), radialaxis_range = [min_sim,max_sim]), #radialaxis_range = [-10,10]),\n",
    "                     #angularaxis = dict(showticklabels=False, ticks='')\n",
    "        polar2 = dict(radialaxis = dict(showticklabels=False, ticks='' ), radialaxis_range = [min_dis,max_dis]),\n",
    "        \n",
    "        polar3 = dict(radialaxis = dict(showticklabels=False, ticks='' ), radialaxis_range = [min_sim,max_sim]),\n",
    "\n",
    "        polar4 = dict(radialaxis = dict(showticklabels=False, ticks='' ), radialaxis_range = [min_dis,max_dis]),\n",
    "\n",
    "        polar5 = dict(radialaxis = dict(showticklabels=False, ticks='' ), radialaxis_range = [min_sim,max_sim]),\n",
    "\n",
    "        polar6 = dict(radialaxis = dict(showticklabels=False, ticks='' ), radialaxis_range = [min_dis,max_dis]),\n",
    "\n",
    "        polar7 = dict(radialaxis = dict(showticklabels=False, ticks='' ), radialaxis_range = [min_sim,max_sim]),\n",
    "\n",
    "        polar8 = dict(radialaxis = dict(showticklabels=False, ticks='' ), radialaxis_range = [min_dis,max_dis]),\n",
    "\n",
    "        polar9 = dict(radialaxis = dict(showticklabels=False, ticks='' ), radialaxis_range = [min_sim,max_sim]),\n",
    "        \n",
    "        polar10 = dict(radialaxis = dict(showticklabels=False, ticks='' ), radialaxis_range = [min_dis,max_dis]),\n",
    "                     \n",
    "        showlegend=False\n",
    "    )\n",
    "    \n",
    "    if len(similar) > 1:\n",
    "        fig.add_annotation(x= 0.12, y = 1.09,\n",
    "                           text = col1_title,\n",
    "                           showarrow=False,\n",
    "                           font = dict(color=\"black\",\n",
    "                                       size=20))\n",
    "        fig.add_annotation(x= 0.9, y = 1.09,\n",
    "                           text = col2_title,\n",
    "                           showarrow=False,\n",
    "                           font = dict(color=\"black\",\n",
    "                                       size=22))\n",
    "    elif len(similar) == 1:\n",
    "            fig.add_annotation(x= 0.19, y = 1.09,\n",
    "                           text = col1_title,\n",
    "                           showarrow=False,\n",
    "                           font = dict(color=\"black\",\n",
    "                                       size=22))\n",
    "            fig.add_annotation(x= 0.81, y = 1.09,\n",
    "                           text = col2_title,\n",
    "                           showarrow=False,\n",
    "                           font = dict(color=\"black\",\n",
    "                                       size=22))\n",
    "\n",
    "    fig.add_annotation(x= 0.005, y = 1.09,\n",
    "                           text = \"Rank\",\n",
    "                           showarrow=False,\n",
    "                           font = dict(color=\"black\",\n",
    "                                       size=22))\n",
    "    fig.add_annotation(x= 0.01, y = 1.05,\n",
    "                           text = '1',\n",
    "                           showarrow=False,\n",
    "                           font = dict(color=\"black\",\n",
    "                                       size=22))\n",
    "    \n",
    "    fig.add_annotation(x= 0.01, y = 0.84,\n",
    "                           text = '2',\n",
    "                           showarrow=False,\n",
    "                           font = dict(color=\"black\",\n",
    "                                       size=22))\n",
    "    \n",
    "    fig.add_annotation(x= 0.01, y = 0.608,\n",
    "                           text = '3',\n",
    "                           showarrow=False,\n",
    "                           font = dict(color=\"black\",\n",
    "                                       size=22))\n",
    "    \n",
    "    fig.add_annotation(x= 0.01, y = 0.389,\n",
    "                           text = '4',\n",
    "                           showarrow=False,\n",
    "                           font = dict(color=\"black\",\n",
    "                                       size=22))\n",
    "    \n",
    "    fig.add_annotation(x= 0.01, y = 0.159,\n",
    "                           text = '5',\n",
    "                           showarrow=False,\n",
    "                           font = dict(color=\"black\",\n",
    "                                       size=22))\n",
    "\n",
    "    annot =list(fig.layout.annotations)\n",
    "    annot[0].y = 1.03\n",
    "    annot[1].y = 1.03\n",
    "    annot[2].y = 0.82 \n",
    "    annot[3].y = 0.82 \n",
    "    annot[4].y = 0.6 \n",
    "    annot[5].y = 0.6 \n",
    "    annot[6].y = 0.38 \n",
    "    annot[7].y = 0.38 \n",
    "    annot[8].y = 0.16 \n",
    "    annot[9].y = 0.16 \n",
    "\n",
    "    fig.layout.annotations = annot\n",
    "\n",
    "    #https://plotly.com/python/reference/layout/polar/\n",
    "    fig.update_polars(\n",
    "        radialaxis_showticklabels = False\n",
    "    )\n",
    "    \n",
    "    pprint(tracks_titles)\n",
    "    names = set()\n",
    "    fig.for_each_trace(\n",
    "        lambda trace:\n",
    "            trace.update(showlegend=False)\n",
    "            if (trace.name in names) else names.add(trace.name))\n",
    "\n",
    "    fig.show()\n",
    "    fig.write_html(file = OUTPUT_DIR / (user_name + '_' + fig_name + \".html\"), include_plotlyjs = 'cdn')"
   ]
  },
  {
   "cell_type": "code",
   "execution_count": 114,
   "metadata": {},
   "outputs": [],
   "source": [
    "dfi.export(df_styled, OUTPUT_DIR / (user_name + '_' + fig_type + '_df.png'), max_rows=-1)"
   ]
  },
  {
   "cell_type": "code",
   "execution_count": null,
   "metadata": {},
   "outputs": [],
   "source": []
  }
 ],
 "metadata": {
  "kernelspec": {
   "display_name": "Python 3 (ipykernel)",
   "language": "python",
   "name": "python3"
  },
  "language_info": {
   "codemirror_mode": {
    "name": "ipython",
    "version": 3
   },
   "file_extension": ".py",
   "mimetype": "text/x-python",
   "name": "python",
   "nbconvert_exporter": "python",
   "pygments_lexer": "ipython3",
   "version": "3.9.13"
  }
 },
 "nbformat": 4,
 "nbformat_minor": 4
}
