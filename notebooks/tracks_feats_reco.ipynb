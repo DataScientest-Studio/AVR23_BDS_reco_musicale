{
 "cells": [
  {
   "cell_type": "code",
   "execution_count": 36,
   "metadata": {},
   "outputs": [],
   "source": [
    "import os\n",
    "from pathlib import Path\n",
    "\n",
    "\n",
    "import pandas as pd\n",
    "import matplotlib.pyplot as plt\n",
    "import seaborn as sns\n",
    "import numpy as np\n",
    "\n",
    "from sklearn.preprocessing import StandardScaler\n",
    "from sklearn.cluster import KMeans, AgglomerativeClustering\n",
    "from sklearn.metrics import silhouette_score\n",
    "from sklearn.decomposition import PCA\n",
    "\n",
    "\n",
    "from scipy.cluster.hierarchy import linkage, dendrogram, fcluster\n",
    "from scipy.spatial.distance import cdist"
   ]
  },
  {
   "cell_type": "code",
   "execution_count": 184,
   "metadata": {},
   "outputs": [],
   "source": [
    "CUR_DIR = os.path.abspath('')\n",
    "\n",
    "DATA_DIR = Path(CUR_DIR).parent / \"data\"\n",
    "FILE_PATH = DATA_DIR/'triplets_metadata_spotify.csv'\n",
    "df_origin = pd.read_csv(FILE_PATH, index_col = 0)"
   ]
  },
  {
   "cell_type": "code",
   "execution_count": 39,
   "metadata": {},
   "outputs": [],
   "source": [
    "'''\n",
    "artist_names = df_origin['artist_name'].unique().tolist()\n",
    "for artist_name in artist_names:\n",
    "    mode_fam = df_origin[df_origin['artist_name'] == artist_name]['artist_familiarity'].mode()[0]\n",
    "    mode_hot = df_origin[df_origin['artist_name'] == artist_name]['artist_hotttnesss'].mode()[0]\n",
    "    \n",
    "    df_origin.loc[df_origin['artist_name'] == artist_name, 'artist_familiarity'] = mode_fam\n",
    "    df_origin.loc[df_origin['artist_name'] == artist_name, 'artist_hotttnesss'] = mode_hot\n",
    "'''\n",
    "    \n"
   ]
  },
  {
   "cell_type": "code",
   "execution_count": 185,
   "metadata": {},
   "outputs": [
    {
     "data": {
      "text/plain": [
       "\"\\n# valence?\\ndf_unique_values = df_origin.drop_duplicates(subset = ['song_name', 'artist_name'], keep='first').reset_index().drop('index', axis=1)\\ntracks_quanti_feats = df_unique_values.drop(['user', 'listening_count', 'song_name', 'release', 'artist_name',\\n        'year', 'key', 'duration', 'shs_perf', 'shs_work', 'explicit', 'mode', 'time_signature', 'release_date'], axis = 1)\\n\""
      ]
     },
     "execution_count": 185,
     "metadata": {},
     "output_type": "execute_result"
    }
   ],
   "source": [
    "\n",
    "df_unique_values = df_origin.drop_duplicates(subset = ['song_name', 'artist_name'], keep='first').reset_index().drop('index', axis=1)\n",
    "tracks_quanti_feats = df_unique_values.drop(['user', 'listening_count', 'song_name', 'release', 'artist_name', 'valence',\n",
    "        'artist_familiarity', 'artist_hotttnesss', 'year', 'key', 'duration',\n",
    "       'shs_perf', 'shs_work', 'explicit', 'mode', 'time_signature', 'release_date'], axis = 1)\n",
    "       \n",
    "'''\n",
    "# valence?\n",
    "df_unique_values = df_origin.drop_duplicates(subset = ['song_name', 'artist_name'], keep='first').reset_index().drop('index', axis=1)\n",
    "tracks_quanti_feats = df_unique_values.drop(['user', 'listening_count', 'song_name', 'release', 'artist_name',\n",
    "        'year', 'key', 'duration', 'shs_perf', 'shs_work', 'explicit', 'mode', 'time_signature', 'release_date'], axis = 1)\n",
    "'''"
   ]
  },
  {
   "cell_type": "code",
   "execution_count": 186,
   "metadata": {},
   "outputs": [],
   "source": [
    "scaler = StandardScaler()\n",
    "scaler.fit(tracks_quanti_feats)\n",
    "tracks_quanti_feats[tracks_quanti_feats.columns] = pd.DataFrame(scaler.fit_transform(tracks_quanti_feats), index=tracks_quanti_feats.index)"
   ]
  },
  {
   "cell_type": "code",
   "execution_count": 187,
   "metadata": {},
   "outputs": [],
   "source": [
    "tracks_quanti_feats_names = pd.DataFrame(tracks_quanti_feats)\n",
    "tracks_quanti_feats_names['song_name'] = df_unique_values['song_name']\n",
    "tracks_quanti_feats_names['artist_name'] = df_unique_values['artist_name']\n"
   ]
  },
  {
   "cell_type": "code",
   "execution_count": 188,
   "metadata": {},
   "outputs": [
    {
     "data": {
      "text/plain": [
       "\"\\nscaler = StandardScaler()\\nsel_columns = ['artist_familiarity', 'artist_hotttnesss', 'danceability', 'energy', 'loudness', 'speechiness', 'acousticness', 'instrumentalness', 'liveness', 'valence', 'tempo']\\ndf_origin[sel_columns] = pd.DataFrame(scaler.fit_transform(df_origin[sel_columns]), index=df_origin.index)\\n\""
      ]
     },
     "execution_count": 188,
     "metadata": {},
     "output_type": "execute_result"
    }
   ],
   "source": [
    "\n",
    "scaler = StandardScaler()\n",
    "#sel_columns = ['danceability', 'energy', 'loudness', 'speechiness', 'acousticness', 'instrumentalness', 'liveness', 'valence', 'tempo']\n",
    "sel_columns = ['danceability', 'energy', 'loudness', 'speechiness', 'acousticness', 'instrumentalness', 'liveness', 'tempo']\n",
    "df_origin[sel_columns] = pd.DataFrame(scaler.fit_transform(df_origin[sel_columns]), index=df_origin.index)\n",
    "\n",
    "'''\n",
    "scaler = StandardScaler()\n",
    "sel_columns = ['artist_familiarity', 'artist_hotttnesss', 'danceability', 'energy', 'loudness', 'speechiness', 'acousticness', 'instrumentalness', 'liveness', 'valence', 'tempo']\n",
    "df_origin[sel_columns] = pd.DataFrame(scaler.fit_transform(df_origin[sel_columns]), index=df_origin.index)\n",
    "'''"
   ]
  },
  {
   "cell_type": "code",
   "execution_count": 217,
   "metadata": {},
   "outputs": [],
   "source": [
    "def get_opt_clusters(df:pd.DataFrame, drop : list[str], user_id: str):\n",
    "    \n",
    "    # definition of df_user\n",
    "    df_user = df[df['user']==user_id].drop(drop, axis=1).reset_index().drop(['index'], axis=1)\n",
    "\n",
    "    # weights to apply to the kmeans\n",
    "    user_listenings = df_user['listening_count']\n",
    "\n",
    "    # eliminate weights from acoustic characteristics\n",
    "    df_user = df_user.drop('listening_count', axis=1) \n",
    "    \n",
    "\n",
    "    # broad exploration of number of clusters\n",
    "    dist = []\n",
    "    s_scores = []\n",
    "    range = np.arange(2,len(df_user)-1)\n",
    "    for i in range:\n",
    "        clf = KMeans(n_clusters = i, n_init = 'auto', random_state=123)\n",
    "        clf.fit(df_user, sample_weight=user_listenings)\n",
    "        centroids = clf.cluster_centers_\n",
    "        labels = clf.labels_\n",
    "        score = silhouette_score(df_user, labels, metric='euclidean')\n",
    "        s_scores.append(score)\n",
    "        dist.append(sum(np.min(cdist(XA = centroids, XB = df_user, metric='euclidean'), axis = 0)) / len(df_user))\n",
    "    \n",
    "    # optimal number of clusters selection by silhouette score\n",
    "    n_clusters = s_scores.index(max(s_scores))+2\n",
    "\n",
    "    return range, s_scores, dist, n_clusters"
   ]
  },
  {
   "cell_type": "code",
   "execution_count": 218,
   "metadata": {},
   "outputs": [],
   "source": [
    "def get_user_profiles(df: pd.DataFrame, drop : list[str],  user_id: str, n_clusters:int):\n",
    "    \"\"\"\n",
    "    Takes a user_id string and 1 dataframe containg all original informations and whose acoustic characteristics are Standard scaled.\n",
    "    Returns the acoustic characteristics of the user standard profile weighted by number of listenings (1 acoustic profile)   \n",
    "    and the cluster centers centroids profiles based on Kmeans fit on optimal number of cluster found per user (n_clusters profiles)\n",
    "\n",
    "    Parameters:\n",
    "        df : whole dataframe with all acoustic characteristics Standard scaled\n",
    "        user_id : str corresponding to the user id\n",
    "   \n",
    "    Return :\n",
    "        \n",
    "        standard_profile: list[list[float]] of size 1\n",
    "        cluster_profile: list[list[float]] of size n_clusters\n",
    "    \"\"\"\n",
    "    \n",
    "    \n",
    "    total_listening = df[df[\"user\"] == user_id][\"listening_count\"].sum() \n",
    "\n",
    "    ## Standard profile: one profile where acoustic characteristics are weighted by listening_count\n",
    "    '''\n",
    "    hotness = 0\n",
    "    familiarity = 0\n",
    "    '''\n",
    "    duration = 0\n",
    "    dance = 0\n",
    "    energy = 0\n",
    "    loudness = 0\n",
    "    speech = 0\n",
    "    acoustic = 0\n",
    "    instru = 0\n",
    "    live = 0\n",
    "    valence = 0\n",
    "    tempo = 0\n",
    "    \n",
    "    # cumulative sum of user's  songs acoustic characteristics weighted by listening_count\n",
    "    for index, row, in df[df[\"user\"] == user_id].iterrows():\n",
    "        '''\n",
    "        hotness += row['artist_hotttnesss'] * row[\"listening_count\"]\n",
    "        familiarity += row['artist_familiarity'] * row[\"listening_count\"]   \n",
    "        '''\n",
    "        #duration += row['duration'] * row[\"listening_count\"]\n",
    "        dance += row['danceability'] * row[\"listening_count\"]\n",
    "        energy += row['energy'] * row[\"listening_count\"]\n",
    "        loudness += row['loudness'] * row[\"listening_count\"]\n",
    "        speech += row['speechiness'] * row[\"listening_count\"]\n",
    "        acoustic += row['acousticness'] * row[\"listening_count\"]\n",
    "        instru += row['instrumentalness'] * row[\"listening_count\"]\n",
    "        live += row['liveness'] * row[\"listening_count\"]\n",
    "        valence += row['valence'] * row[\"listening_count\"]\n",
    "        tempo += row['tempo'] * row[\"listening_count\"]\n",
    "\n",
    "    # duration / total_listening, \n",
    "\n",
    "    # weighted average from cumulative sum of acoustic characteristics / total_listening to list of lists\n",
    "    # valence missing\n",
    "    standard_profile = [[dance / total_listening, energy / total_listening,\n",
    "                        loudness / total_listening, speech / total_listening, acoustic / total_listening,\n",
    "                        instru / total_listening, live / total_listening, tempo / total_listening]]\n",
    "\n",
    "    ## Cluster profile\n",
    "    \n",
    "    # definition of df_user\n",
    "    df_user = df[df['user']==user_id].drop(drop, axis=1).reset_index().drop(['index'], axis=1)\n",
    "\n",
    "    # weights to apply to the kmeans\n",
    "    user_listenings = df_user['listening_count']\n",
    "\n",
    "    # eliminate weights from acoustic characteristics\n",
    "    df_user = df_user.drop('listening_count', axis=1) \n",
    "\n",
    "    # training of kmeans with optimal number of clusters\n",
    "    clf = KMeans(n_clusters = n_clusters, n_init = 'auto', random_state=123)\n",
    "    clf.fit(df_user, sample_weight=user_listenings)\n",
    "    centroids = clf.cluster_centers_\n",
    "    labels = clf.labels_\n",
    "\n",
    "    # distinct profiles as cluster centers centroids to list\n",
    "    cluster_profile = centroids.tolist()\n",
    "\n",
    "    \n",
    "    return standard_profile, cluster_profile"
   ]
  },
  {
   "attachments": {},
   "cell_type": "markdown",
   "metadata": {},
   "source": [
    "Proximity measure - Numerical resolution"
   ]
  },
  {
   "cell_type": "code",
   "execution_count": 219,
   "metadata": {},
   "outputs": [],
   "source": [
    "# var\n",
    "#acoustic_variables = [\"Artist Hotness\", \"Artist Familiarity\", \"Danceability\", \"Energy\", \"Loudness\", \"Speechiness\", \"Acousticness\", \"instrumentalness\", \"Liveness\", \"Valence\", \"Tempo\"]\n",
    "acoustic_variables = [\"Danceability\", \"Energy\", \"Loudness\", \"Speechiness\", \"Acousticness\", \"instrumentalness\", \"Liveness\", \"Tempo\"]\n",
    "n_neighbors = 5\n",
    "#user_name = \"ec6dfcf19485cb011e0b22637075037aae34cf26\"\n",
    "user_name = '22e08d5e101ab5b86dc394856d508e175a5242a6'\n",
    "#user_name = '3fa44653315697f42410a30cb766a4eb102080bb'\n",
    "#user_name = 'af3ee32357049dd96231238bd1b019e8142ee6aa' # l'espagnol\n",
    "\n",
    "#user_name ='19a7ec5c51a370817f99cf18decde4b8f469bfd3'\n",
    "#user_name ='19a7ec5c51a370817f99cf18decde4b8f469bfd3'\n",
    "\n",
    "\n",
    "to_drop = ['user', 'song_name', 'release', 'artist_name', 'duration', 'artist_familiarity', 'artist_hotttnesss', 'valence',\n",
    "           'year', 'shs_perf', 'shs_work', 'key', 'mode', 'explicit', 'time_signature', 'release_date']\n",
    "\n",
    "'''\n",
    "to_drop = ['user', 'song_name', 'release', 'artist_name', 'duration',  \n",
    "           'year', 'shs_perf', 'shs_work', 'key', 'mode', 'explicit', 'time_signature', 'release_date']\n",
    "'''\n",
    "\n",
    "# func\n",
    "range_n_clusters, silhouette_scores, distorsions, n_opt_cluster = get_opt_clusters(df=df_origin, drop=to_drop, user_id=user_name)\n",
    "\n",
    "standard_profile, clusters_profiles = get_user_profiles(df=df_origin, drop=to_drop, user_id=user_name, n_clusters=n_opt_cluster)"
   ]
  },
  {
   "cell_type": "code",
   "execution_count": 220,
   "metadata": {},
   "outputs": [
    {
     "name": "stderr",
     "output_type": "stream",
     "text": [
      "C:\\Users\\benoit\\AppData\\Local\\Temp\\ipykernel_2408\\1975603099.py:3: MatplotlibDeprecationWarning:\n",
      "\n",
      "Auto-removal of overlapping axes is deprecated since 3.6 and will be removed two minor releases later; explicitly call ax.remove() as needed.\n",
      "\n"
     ]
    },
    {
     "data": {
      "image/png": "[encoded data removed]",
      "text/plain": [
       "<Figure size 1200x600 with 2 Axes>"
      ]
     },
     "metadata": {},
     "output_type": "display_data"
    }
   ],
   "source": [
    "fig  = plt.subplots(figsize=(12, 6))\n",
    "\n",
    "ax1 = plt.subplot(121)\n",
    "ax1.plot(range_n_clusters, distorsions)\n",
    "ax1.set_xlabel('K Number of clusters')\n",
    "ax1.set_ylabel('Distorsion SSW/(SSW+SSB)')\n",
    "ax1.set_title('Elbow method');\n",
    "\n",
    "ax2 = plt.subplot(122)\n",
    "ax2.plot(range_n_clusters, silhouette_scores, '-x')\n",
    "ax2.set_xlabel(\"Number of clusters\")\n",
    "ax2.set_ylabel(\"Silhouette score for squared euclidean distance\")\n",
    "ax2.set_title('Silhouette score per number of cluster');"
   ]
  },
  {
   "cell_type": "code",
   "execution_count": 221,
   "metadata": {},
   "outputs": [],
   "source": [
    "from scipy.spatial import distance_matrix\n",
    "\n",
    "def get_profile_neighbors(df_features, df_features_names: pd.DataFrame, profiles: list[list[float]], n_target : int = n_neighbors):\n",
    "    \n",
    "    '''\n",
    "    user_profile = pd.DataFrame(columns=[\"hotness\", \"familiarity\",\"danceability\", \"energy\",\n",
    "                                   \"loudness\", \"speechiness\", \"acousticness\",\n",
    "                                   \"instrumentalness\", \"liveness\", \"valence\",\n",
    "                                   \"tempo\"])\n",
    "    '''\n",
    "    user_profile = pd.DataFrame(columns=[\"danceability\", \"energy\",\n",
    "                                   \"loudness\", \"speechiness\", \"acousticness\",\n",
    "                                   \"instrumentalness\", \"liveness\", \n",
    "                                   \"tempo\"])\n",
    "\n",
    "    # append profile to the dataframe user_profile\n",
    "    for i in range(len(profiles)):\n",
    "        user_profile.loc[len(user_profile)] = profiles[i]\n",
    "\n",
    "\n",
    "    # compute the distance matrix between all user_profiles and all songs features\n",
    "    dist_mat = pd.DataFrame(distance_matrix(user_profile, df_features).T)\n",
    "    #dist_mat = dist_mat.rename(columns={0 : 'distance'})\n",
    "    \n",
    "\n",
    "    # create similarity and disimilarity lists\n",
    "    sim = []\n",
    "    dis = []\n",
    "    sim_id = []\n",
    "    dis_id =[]\n",
    "\n",
    "    # broadcast distance of matrix[i] to df_features_names containing song and artist names and sort values by distance[i]\n",
    "    for i in range(len(profiles)):\n",
    "        df_feats_names = df_features_names\n",
    "        df_feats_names[i] = dist_mat[i]\n",
    "        df_feats_names = df_feats_names.sort_values(by=i, ascending=True).reset_index().drop(['index'], axis=1)\n",
    "        \n",
    "        # for each profile create temporary sim and disim lists\n",
    "        s = []\n",
    "        d = []\n",
    "        s_id = []\n",
    "        d_id = []\n",
    "\n",
    "        ## append each profile list the profile closest and furthest n_neighbors tracks and corresponding song-artist names \n",
    "        for j in range (n_target):\n",
    "            \n",
    "            '''\n",
    "            s.append(df_feats_names.iloc[j, :9].values.flatten().tolist())\n",
    "            s_id.append(' - '.join((df_feats_names.iloc[j, 9:11])))\n",
    "            \n",
    "            d.append(df_feats_names.iloc[len(df_feats_names)-1-j, :9].values.flatten().tolist())\n",
    "            d_id.append(' - '.join((df_feats_names.iloc[len(df_feats_names)-1-j, 9:11])))\n",
    "            '''\n",
    "            s.append(df_feats_names.iloc[j, :8].values.flatten().tolist())\n",
    "            s_id.append(' - '.join((df_feats_names.iloc[j, 8:10])))\n",
    "            \n",
    "            d.append(df_feats_names.iloc[len(df_feats_names)-1-j, :8].values.flatten().tolist())\n",
    "            d_id.append(' - '.join((df_feats_names.iloc[len(df_feats_names)-1-j, 8:10])))\n",
    "\n",
    "            \n",
    "        sim.append(s)\n",
    "        sim_id.append(s_id)\n",
    "        dis.append(d)\n",
    "        dis_id.append(d_id)\n",
    "\n",
    "    return sim, dis, sim_id, dis_id"
   ]
  },
  {
   "cell_type": "code",
   "execution_count": 222,
   "metadata": {},
   "outputs": [],
   "source": [
    "#similar, disimilar, sim_names, dis_names = get_profile_neighbors(tracks_quanti_feats, tracks_quanti_feats_names, standard_profile)\n",
    "similar, disimilar, sim_names, dis_names = get_profile_neighbors(tracks_quanti_feats, tracks_quanti_feats_names, clusters_profiles)"
   ]
  },
  {
   "cell_type": "code",
   "execution_count": 223,
   "metadata": {},
   "outputs": [
    {
     "name": "stdout",
     "output_type": "stream",
     "text": [
      "[[0.901851544830074, 0.09551283480795844, 0.49486645723753664, -0.54321294224606, -0.6904346779075364, -0.6235690916720154, 0.04732941745485858, -0.28683067906697435], [0.784462498914876, -0.07305784246597856, 0.30040589677882634, -0.441666530216436, -0.7278513163277035, -0.6235690916720154, 0.11657712250116063, -0.11940154478761107], [0.48819490684318806, 0.14647606282100872, 0.4539037002890584, -0.5472345823264412, -0.6208582841510274, -0.6232930764338331, -0.059205513385606194, -0.26091388511224056], [0.6726634075670697, 0.09159258649926223, 0.2916281631470096, -0.4869099811207239, -0.3539941605427282, -0.6215248728550145, 0.06863640362295098, -0.21077485680750568], [0.7453328169431441, 0.21312028406884428, 0.744469190511507, -0.5130506416432014, -0.6258059388181569, -0.6228592511588094, 0.04732941745485858, -0.4526317070594375]]\n",
      "['All My Only Dreams - The Wonders', 'Chicken Little - Houston', 'Lotta Love - Nicolette Larson', \"Who'll Stop The Rain - Debbie Davies\", 'Blood Drops - Lucky Boys Confusion']\n",
      "['Introduction - Paul Horn', 'Intro - Swell', \"Jaden's Interlude - Will Smith\", 'Holmes Depot - George Lopez', 'Socoro - George Lopez']\n"
     ]
    }
   ],
   "source": [
    "print(similar[0])\n",
    "print(sim_names[0])\n",
    "print(dis_names[0])\n"
   ]
  },
  {
   "cell_type": "code",
   "execution_count": 224,
   "metadata": {},
   "outputs": [
    {
     "name": "stdout",
     "output_type": "stream",
     "text": [
      "['All My Only Dreams - The Wonders',\n",
      " 'Introduction - Paul Horn',\n",
      " 'Chicken Little - Houston',\n",
      " 'Intro - Swell',\n",
      " 'Lotta Love - Nicolette Larson',\n",
      " \"Jaden's Interlude - Will Smith\",\n",
      " \"Who'll Stop The Rain - Debbie Davies\",\n",
      " 'Holmes Depot - George Lopez',\n",
      " 'Blood Drops - Lucky Boys Confusion',\n",
      " 'Socoro - George Lopez']\n"
     ]
    },
    {
     "data": {
      "application/vnd.plotly.v1+json": {
       "config": {
        "plotlyServerURL": "https://plot.ly"
       },
       "data": [
        {
         "fill": "toself",
         "line": {
          "color": "#636EFA"
         },
         "mode": "lines+markers",
         "name": "Cluster center centroid 1 profile",
         "r": [
          0.7669178437534864,
          0.07818229309347735,
          0.37538800014232226,
          -0.550517828509026,
          -0.6727600464454861,
          -0.4541380455232646,
          0.008120734581748945,
          -0.2655258214859326
         ],
         "subplot": "polar",
         "theta": [
          "Danceability",
          "Energy",
          "Loudness",
          "Speechiness",
          "Acousticness",
          "instrumentalness",
          "Liveness",
          "Tempo"
         ],
         "type": "scatterpolar"
        },
        {
         "fill": "toself",
         "line": {
          "color": "#EF553B"
         },
         "name": "Closest track rank 1",
         "r": [
          0.901851544830074,
          0.09551283480795844,
          0.49486645723753664,
          -0.54321294224606,
          -0.6904346779075364,
          -0.6235690916720154,
          0.04732941745485858,
          -0.28683067906697435
         ],
         "subplot": "polar",
         "theta": [
          "Danceability",
          "Energy",
          "Loudness",
          "Speechiness",
          "Acousticness",
          "instrumentalness",
          "Liveness",
          "Tempo"
         ],
         "type": "scatterpolar"
        },
        {
         "fill": "toself",
         "line": {
          "color": "#636EFA"
         },
         "mode": "lines+markers",
         "name": "Cluster center centroid 1 profile",
         "r": [
          0.7669178437534864,
          0.07818229309347735,
          0.37538800014232226,
          -0.550517828509026,
          -0.6727600464454861,
          -0.4541380455232646,
          0.008120734581748945,
          -0.2655258214859326
         ],
         "showlegend": false,
         "subplot": "polar2",
         "theta": [
          "Danceability",
          "Energy",
          "Loudness",
          "Speechiness",
          "Acousticness",
          "instrumentalness",
          "Liveness",
          "Tempo"
         ],
         "type": "scatterpolar"
        },
        {
         "fill": "toself",
         "line": {
          "color": "#B6E880"
         },
         "name": "Furthest track rank 1",
         "r": [
          -0.037260822491504184,
          -2.2378189585280235,
          -6.096761360070624,
          7.607646090666429,
          2.197140277195937,
          -0.6235690916720154,
          -0.3202160939447451,
          -0.8655393974126123
         ],
         "subplot": "polar2",
         "theta": [
          "Danceability",
          "Energy",
          "Loudness",
          "Speechiness",
          "Acousticness",
          "instrumentalness",
          "Liveness",
          "Tempo"
         ],
         "type": "scatterpolar"
        },
        {
         "fill": "toself",
         "line": {
          "color": "#636EFA"
         },
         "mode": "lines+markers",
         "name": "Cluster center centroid 1 profile",
         "r": [
          0.7669178437534864,
          0.07818229309347735,
          0.37538800014232226,
          -0.550517828509026,
          -0.6727600464454861,
          -0.4541380455232646,
          0.008120734581748945,
          -0.2655258214859326
         ],
         "showlegend": false,
         "subplot": "polar3",
         "theta": [
          "Danceability",
          "Energy",
          "Loudness",
          "Speechiness",
          "Acousticness",
          "instrumentalness",
          "Liveness",
          "Tempo"
         ],
         "type": "scatterpolar"
        },
        {
         "fill": "toself",
         "line": {
          "color": "#EF553B"
         },
         "name": "Closest track rank 2",
         "r": [
          0.784462498914876,
          -0.07305784246597856,
          0.30040589677882634,
          -0.441666530216436,
          -0.7278513163277035,
          -0.6235690916720154,
          0.11657712250116063,
          -0.11940154478761107
         ],
         "subplot": "polar3",
         "theta": [
          "Danceability",
          "Energy",
          "Loudness",
          "Speechiness",
          "Acousticness",
          "instrumentalness",
          "Liveness",
          "Tempo"
         ],
         "type": "scatterpolar"
        },
        {
         "fill": "toself",
         "line": {
          "color": "#636EFA"
         },
         "mode": "lines+markers",
         "name": "Cluster center centroid 1 profile",
         "r": [
          0.7669178437534864,
          0.07818229309347735,
          0.37538800014232226,
          -0.550517828509026,
          -0.6727600464454861,
          -0.4541380455232646,
          0.008120734581748945,
          -0.2655258214859326
         ],
         "showlegend": false,
         "subplot": "polar4",
         "theta": [
          "Danceability",
          "Energy",
          "Loudness",
          "Speechiness",
          "Acousticness",
          "instrumentalness",
          "Liveness",
          "Tempo"
         ],
         "type": "scatterpolar"
        },
        {
         "fill": "toself",
         "line": {
          "color": "#B6E880"
         },
         "name": "Furthest track rank 2",
         "r": [
          1.6397255477255994,
          -1.8998935543184103,
          -4.23880774133607,
          8.442136407345517,
          1.8013279038255745,
          -0.6235690916720154,
          1.7305813247342028,
          -2.330469562374479
         ],
         "subplot": "polar4",
         "theta": [
          "Danceability",
          "Energy",
          "Loudness",
          "Speechiness",
          "Acousticness",
          "instrumentalness",
          "Liveness",
          "Tempo"
         ],
         "type": "scatterpolar"
        },
        {
         "fill": "toself",
         "line": {
          "color": "#636EFA"
         },
         "mode": "lines+markers",
         "name": "Cluster center centroid 1 profile",
         "r": [
          0.7669178437534864,
          0.07818229309347735,
          0.37538800014232226,
          -0.550517828509026,
          -0.6727600464454861,
          -0.4541380455232646,
          0.008120734581748945,
          -0.2655258214859326
         ],
         "showlegend": false,
         "subplot": "polar5",
         "theta": [
          "Danceability",
          "Energy",
          "Loudness",
          "Speechiness",
          "Acousticness",
          "instrumentalness",
          "Liveness",
          "Tempo"
         ],
         "type": "scatterpolar"
        },
        {
         "fill": "toself",
         "line": {
          "color": "#EF553B"
         },
         "name": "Closest track rank 3",
         "r": [
          0.48819490684318806,
          0.14647606282100872,
          0.4539037002890584,
          -0.5472345823264412,
          -0.6208582841510274,
          -0.6232930764338331,
          -0.059205513385606194,
          -0.26091388511224056
         ],
         "subplot": "polar5",
         "theta": [
          "Danceability",
          "Energy",
          "Loudness",
          "Speechiness",
          "Acousticness",
          "instrumentalness",
          "Liveness",
          "Tempo"
         ],
         "type": "scatterpolar"
        },
        {
         "fill": "toself",
         "line": {
          "color": "#636EFA"
         },
         "mode": "lines+markers",
         "name": "Cluster center centroid 1 profile",
         "r": [
          0.7669178437534864,
          0.07818229309347735,
          0.37538800014232226,
          -0.550517828509026,
          -0.6727600464454861,
          -0.4541380455232646,
          0.008120734581748945,
          -0.2655258214859326
         ],
         "showlegend": false,
         "subplot": "polar6",
         "theta": [
          "Danceability",
          "Energy",
          "Loudness",
          "Speechiness",
          "Acousticness",
          "instrumentalness",
          "Liveness",
          "Tempo"
         ],
         "type": "scatterpolar"
        },
        {
         "fill": "toself",
         "line": {
          "color": "#B6E880"
         },
         "name": "Furthest track rank 3",
         "r": [
          1.0527803181496134,
          -1.8606910712314484,
          -2.8141140518642684,
          8.502461008551235,
          1.7796819146568825,
          -0.6235690916720154,
          3.6908240521987556,
          -2.3667530739111062
         ],
         "subplot": "polar6",
         "theta": [
          "Danceability",
          "Energy",
          "Loudness",
          "Speechiness",
          "Acousticness",
          "instrumentalness",
          "Liveness",
          "Tempo"
         ],
         "type": "scatterpolar"
        },
        {
         "fill": "toself",
         "line": {
          "color": "#636EFA"
         },
         "mode": "lines+markers",
         "name": "Cluster center centroid 1 profile",
         "r": [
          0.7669178437534864,
          0.07818229309347735,
          0.37538800014232226,
          -0.550517828509026,
          -0.6727600464454861,
          -0.4541380455232646,
          0.008120734581748945,
          -0.2655258214859326
         ],
         "showlegend": false,
         "subplot": "polar7",
         "theta": [
          "Danceability",
          "Energy",
          "Loudness",
          "Speechiness",
          "Acousticness",
          "instrumentalness",
          "Liveness",
          "Tempo"
         ],
         "type": "scatterpolar"
        },
        {
         "fill": "toself",
         "line": {
          "color": "#EF553B"
         },
         "name": "Closest track rank 4",
         "r": [
          0.6726634075670697,
          0.09159258649926223,
          0.2916281631470096,
          -0.4869099811207239,
          -0.3539941605427282,
          -0.6215248728550145,
          0.06863640362295098,
          -0.21077485680750568
         ],
         "subplot": "polar7",
         "theta": [
          "Danceability",
          "Energy",
          "Loudness",
          "Speechiness",
          "Acousticness",
          "instrumentalness",
          "Liveness",
          "Tempo"
         ],
         "type": "scatterpolar"
        },
        {
         "fill": "toself",
         "line": {
          "color": "#636EFA"
         },
         "mode": "lines+markers",
         "name": "Cluster center centroid 1 profile",
         "r": [
          0.7669178437534864,
          0.07818229309347735,
          0.37538800014232226,
          -0.550517828509026,
          -0.6727600464454861,
          -0.4541380455232646,
          0.008120734581748945,
          -0.2655258214859326
         ],
         "showlegend": false,
         "subplot": "polar8",
         "theta": [
          "Danceability",
          "Energy",
          "Loudness",
          "Speechiness",
          "Acousticness",
          "instrumentalness",
          "Liveness",
          "Tempo"
         ],
         "type": "scatterpolar"
        },
        {
         "fill": "toself",
         "line": {
          "color": "#B6E880"
         },
         "name": "Furthest track rank 4",
         "r": [
          -0.6074361883653192,
          -0.2612297612833966,
          -1.5917583761104999,
          8.783975814177914,
          1.918834702169901,
          -0.6235690916720154,
          3.8346462088333833,
          -1.4840868797989244
         ],
         "subplot": "polar8",
         "theta": [
          "Danceability",
          "Energy",
          "Loudness",
          "Speechiness",
          "Acousticness",
          "instrumentalness",
          "Liveness",
          "Tempo"
         ],
         "type": "scatterpolar"
        },
        {
         "fill": "toself",
         "line": {
          "color": "#636EFA"
         },
         "mode": "lines+markers",
         "name": "Cluster center centroid 1 profile",
         "r": [
          0.7669178437534864,
          0.07818229309347735,
          0.37538800014232226,
          -0.550517828509026,
          -0.6727600464454861,
          -0.4541380455232646,
          0.008120734581748945,
          -0.2655258214859326
         ],
         "showlegend": false,
         "subplot": "polar9",
         "theta": [
          "Danceability",
          "Energy",
          "Loudness",
          "Speechiness",
          "Acousticness",
          "instrumentalness",
          "Liveness",
          "Tempo"
         ],
         "type": "scatterpolar"
        },
        {
         "fill": "toself",
         "line": {
          "color": "#EF553B"
         },
         "name": "Closest track rank 5",
         "r": [
          0.7453328169431441,
          0.21312028406884428,
          0.744469190511507,
          -0.5130506416432014,
          -0.6258059388181569,
          -0.6228592511588094,
          0.04732941745485858,
          -0.4526317070594375
         ],
         "subplot": "polar9",
         "theta": [
          "Danceability",
          "Energy",
          "Loudness",
          "Speechiness",
          "Acousticness",
          "instrumentalness",
          "Liveness",
          "Tempo"
         ],
         "type": "scatterpolar"
        },
        {
         "fill": "toself",
         "line": {
          "color": "#636EFA"
         },
         "mode": "lines+markers",
         "name": "Cluster center centroid 1 profile",
         "r": [
          0.7669178437534864,
          0.07818229309347735,
          0.37538800014232226,
          -0.550517828509026,
          -0.6727600464454861,
          -0.4541380455232646,
          0.008120734581748945,
          -0.2655258214859326
         ],
         "showlegend": false,
         "subplot": "polar10",
         "theta": [
          "Danceability",
          "Energy",
          "Loudness",
          "Speechiness",
          "Acousticness",
          "instrumentalness",
          "Liveness",
          "Tempo"
         ],
         "type": "scatterpolar"
        },
        {
         "fill": "toself",
         "line": {
          "color": "#B6E880"
         },
         "name": "Furthest track rank 5",
         "r": [
          0.16397754193454842,
          -0.9276719737617518,
          -2.0171408521139287,
          8.542677409355047,
          1.7178362313177633,
          -0.6235690916720154,
          3.9997753516361034,
          -2.1845713030728944
         ],
         "subplot": "polar10",
         "theta": [
          "Danceability",
          "Energy",
          "Loudness",
          "Speechiness",
          "Acousticness",
          "instrumentalness",
          "Liveness",
          "Tempo"
         ],
         "type": "scatterpolar"
        }
       ],
       "layout": {
        "annotations": [
         {
          "font": {
           "size": 16
          },
          "showarrow": false,
          "text": "All My Only Dreams - The Wonders",
          "x": 0.25,
          "xanchor": "center",
          "xref": "paper",
          "y": 1.03,
          "yanchor": "bottom",
          "yref": "paper"
         },
         {
          "font": {
           "size": 16
          },
          "showarrow": false,
          "text": "Introduction - Paul Horn",
          "x": 0.75,
          "xanchor": "center",
          "xref": "paper",
          "y": 1.03,
          "yanchor": "bottom",
          "yref": "paper"
         },
         {
          "font": {
           "size": 16
          },
          "showarrow": false,
          "text": "Chicken Little - Houston",
          "x": 0.25,
          "xanchor": "center",
          "xref": "paper",
          "y": 0.82,
          "yanchor": "bottom",
          "yref": "paper"
         },
         {
          "font": {
           "size": 16
          },
          "showarrow": false,
          "text": "Intro - Swell",
          "x": 0.75,
          "xanchor": "center",
          "xref": "paper",
          "y": 0.82,
          "yanchor": "bottom",
          "yref": "paper"
         },
         {
          "font": {
           "size": 16
          },
          "showarrow": false,
          "text": "Lotta Love - Nicolette Larson",
          "x": 0.25,
          "xanchor": "center",
          "xref": "paper",
          "y": 0.6,
          "yanchor": "bottom",
          "yref": "paper"
         },
         {
          "font": {
           "size": 16
          },
          "showarrow": false,
          "text": "Jaden's Interlude - Will Smith",
          "x": 0.75,
          "xanchor": "center",
          "xref": "paper",
          "y": 0.6,
          "yanchor": "bottom",
          "yref": "paper"
         },
         {
          "font": {
           "size": 16
          },
          "showarrow": false,
          "text": "Who'll Stop The Rain - Debbie Davies",
          "x": 0.25,
          "xanchor": "center",
          "xref": "paper",
          "y": 0.38,
          "yanchor": "bottom",
          "yref": "paper"
         },
         {
          "font": {
           "size": 16
          },
          "showarrow": false,
          "text": "Holmes Depot - George Lopez",
          "x": 0.75,
          "xanchor": "center",
          "xref": "paper",
          "y": 0.38,
          "yanchor": "bottom",
          "yref": "paper"
         },
         {
          "font": {
           "size": 16
          },
          "showarrow": false,
          "text": "Blood Drops - Lucky Boys Confusion",
          "x": 0.25,
          "xanchor": "center",
          "xref": "paper",
          "y": 0.16,
          "yanchor": "bottom",
          "yref": "paper"
         },
         {
          "font": {
           "size": 16
          },
          "showarrow": false,
          "text": "Socoro - George Lopez",
          "x": 0.75,
          "xanchor": "center",
          "xref": "paper",
          "y": 0.16,
          "yanchor": "bottom",
          "yref": "paper"
         },
         {
          "font": {
           "color": "black",
           "size": 20
          },
          "showarrow": false,
          "text": "Closest tracks from centroid 1",
          "x": 0.12,
          "y": 1.09
         },
         {
          "font": {
           "color": "black",
           "size": 22
          },
          "showarrow": false,
          "text": "Furthest tracks from centroid 1",
          "x": 0.9,
          "y": 1.09
         },
         {
          "font": {
           "color": "black",
           "size": 22
          },
          "showarrow": false,
          "text": "Rank",
          "x": 0.005,
          "y": 1.09
         },
         {
          "font": {
           "color": "black",
           "size": 22
          },
          "showarrow": false,
          "text": "1",
          "x": 0.02,
          "y": 1.05
         },
         {
          "font": {
           "color": "black",
           "size": 22
          },
          "showarrow": false,
          "text": "2",
          "x": 0.02,
          "y": 0.84
         },
         {
          "font": {
           "color": "black",
           "size": 22
          },
          "showarrow": false,
          "text": "3",
          "x": 0.02,
          "y": 0.608
         },
         {
          "font": {
           "color": "black",
           "size": 22
          },
          "showarrow": false,
          "text": "4",
          "x": 0.02,
          "y": 0.389
         },
         {
          "font": {
           "color": "black",
           "size": 22
          },
          "showarrow": false,
          "text": "5",
          "x": 0.02,
          "y": 0.159
         }
        ],
        "height": 1600,
        "margin": {
         "b": 50,
         "l": 50,
         "r": 50,
         "t": 200
        },
        "polar": {
         "domain": {
          "x": [
           0,
           0.5
          ],
          "y": [
           0.88,
           1
          ]
         },
         "radialaxis": {
          "range": [
           -0.7278513163277035,
           0.901851544830074
          ],
          "showticklabels": false,
          "ticks": ""
         }
        },
        "polar10": {
         "domain": {
          "x": [
           0.5,
           1
          ],
          "y": [
           0,
           0.12
          ]
         },
         "radialaxis": {
          "range": [
           -6.096761360070624,
           8.783975814177914
          ],
          "showticklabels": false,
          "ticks": ""
         }
        },
        "polar2": {
         "domain": {
          "x": [
           0.5,
           1
          ],
          "y": [
           0.88,
           1
          ]
         },
         "radialaxis": {
          "range": [
           -6.096761360070624,
           8.783975814177914
          ],
          "showticklabels": false,
          "ticks": ""
         }
        },
        "polar3": {
         "domain": {
          "x": [
           0,
           0.5
          ],
          "y": [
           0.66,
           0.78
          ]
         },
         "radialaxis": {
          "range": [
           -0.7278513163277035,
           0.901851544830074
          ],
          "showticklabels": false,
          "ticks": ""
         }
        },
        "polar4": {
         "domain": {
          "x": [
           0.5,
           1
          ],
          "y": [
           0.66,
           0.78
          ]
         },
         "radialaxis": {
          "range": [
           -6.096761360070624,
           8.783975814177914
          ],
          "showticklabels": false,
          "ticks": ""
         }
        },
        "polar5": {
         "domain": {
          "x": [
           0,
           0.5
          ],
          "y": [
           0.44,
           0.56
          ]
         },
         "radialaxis": {
          "range": [
           -0.7278513163277035,
           0.901851544830074
          ],
          "showticklabels": false,
          "ticks": ""
         }
        },
        "polar6": {
         "domain": {
          "x": [
           0.5,
           1
          ],
          "y": [
           0.44,
           0.56
          ]
         },
         "radialaxis": {
          "range": [
           -6.096761360070624,
           8.783975814177914
          ],
          "showticklabels": false,
          "ticks": ""
         }
        },
        "polar7": {
         "domain": {
          "x": [
           0,
           0.5
          ],
          "y": [
           0.22,
           0.33999999999999997
          ]
         },
         "radialaxis": {
          "range": [
           -0.7278513163277035,
           0.901851544830074
          ],
          "showticklabels": false,
          "ticks": ""
         }
        },
        "polar8": {
         "domain": {
          "x": [
           0.5,
           1
          ],
          "y": [
           0.22,
           0.33999999999999997
          ]
         },
         "radialaxis": {
          "range": [
           -6.096761360070624,
           8.783975814177914
          ],
          "showticklabels": false,
          "ticks": ""
         }
        },
        "polar9": {
         "domain": {
          "x": [
           0,
           0.5
          ],
          "y": [
           0,
           0.12
          ]
         },
         "radialaxis": {
          "range": [
           -0.7278513163277035,
           0.901851544830074
          ],
          "showticklabels": false,
          "ticks": ""
         }
        },
        "showlegend": false,
        "template": {
         "data": {
          "bar": [
           {
            "error_x": {
             "color": "#2a3f5f"
            },
            "error_y": {
             "color": "#2a3f5f"
            },
            "marker": {
             "line": {
              "color": "#E5ECF6",
              "width": 0.5
             },
             "pattern": {
              "fillmode": "overlay",
              "size": 10,
              "solidity": 0.2
             }
            },
            "type": "bar"
           }
          ],
          "barpolar": [
           {
            "marker": {
             "line": {
              "color": "#E5ECF6",
              "width": 0.5
             },
             "pattern": {
              "fillmode": "overlay",
              "size": 10,
              "solidity": 0.2
             }
            },
            "type": "barpolar"
           }
          ],
          "carpet": [
           {
            "aaxis": {
             "endlinecolor": "#2a3f5f",
             "gridcolor": "white",
             "linecolor": "white",
             "minorgridcolor": "white",
             "startlinecolor": "#2a3f5f"
            },
            "baxis": {
             "endlinecolor": "#2a3f5f",
             "gridcolor": "white",
             "linecolor": "white",
             "minorgridcolor": "white",
             "startlinecolor": "#2a3f5f"
            },
            "type": "carpet"
           }
          ],
          "choropleth": [
           {
            "colorbar": {
             "outlinewidth": 0,
             "ticks": ""
            },
            "type": "choropleth"
           }
          ],
          "contour": [
           {
            "colorbar": {
             "outlinewidth": 0,
             "ticks": ""
            },
            "colorscale": [
             [
              0,
              "#0d0887"
             ],
             [
              0.1111111111111111,
              "#46039f"
             ],
             [
              0.2222222222222222,
              "#7201a8"
             ],
             [
              0.3333333333333333,
              "#9c179e"
             ],
             [
              0.4444444444444444,
              "#bd3786"
             ],
             [
              0.5555555555555556,
              "#d8576b"
             ],
             [
              0.6666666666666666,
              "#ed7953"
             ],
             [
              0.7777777777777778,
              "#fb9f3a"
             ],
             [
              0.8888888888888888,
              "#fdca26"
             ],
             [
              1,
              "#f0f921"
             ]
            ],
            "type": "contour"
           }
          ],
          "contourcarpet": [
           {
            "colorbar": {
             "outlinewidth": 0,
             "ticks": ""
            },
            "type": "contourcarpet"
           }
          ],
          "heatmap": [
           {
            "colorbar": {
             "outlinewidth": 0,
             "ticks": ""
            },
            "colorscale": [
             [
              0,
              "#0d0887"
             ],
             [
              0.1111111111111111,
              "#46039f"
             ],
             [
              0.2222222222222222,
              "#7201a8"
             ],
             [
              0.3333333333333333,
              "#9c179e"
             ],
             [
              0.4444444444444444,
              "#bd3786"
             ],
             [
              0.5555555555555556,
              "#d8576b"
             ],
             [
              0.6666666666666666,
              "#ed7953"
             ],
             [
              0.7777777777777778,
              "#fb9f3a"
             ],
             [
              0.8888888888888888,
              "#fdca26"
             ],
             [
              1,
              "#f0f921"
             ]
            ],
            "type": "heatmap"
           }
          ],
          "heatmapgl": [
           {
            "colorbar": {
             "outlinewidth": 0,
             "ticks": ""
            },
            "colorscale": [
             [
              0,
              "#0d0887"
             ],
             [
              0.1111111111111111,
              "#46039f"
             ],
             [
              0.2222222222222222,
              "#7201a8"
             ],
             [
              0.3333333333333333,
              "#9c179e"
             ],
             [
              0.4444444444444444,
              "#bd3786"
             ],
             [
              0.5555555555555556,
              "#d8576b"
             ],
             [
              0.6666666666666666,
              "#ed7953"
             ],
             [
              0.7777777777777778,
              "#fb9f3a"
             ],
             [
              0.8888888888888888,
              "#fdca26"
             ],
             [
              1,
              "#f0f921"
             ]
            ],
            "type": "heatmapgl"
           }
          ],
          "histogram": [
           {
            "marker": {
             "pattern": {
              "fillmode": "overlay",
              "size": 10,
              "solidity": 0.2
             }
            },
            "type": "histogram"
           }
          ],
          "histogram2d": [
           {
            "colorbar": {
             "outlinewidth": 0,
             "ticks": ""
            },
            "colorscale": [
             [
              0,
              "#0d0887"
             ],
             [
              0.1111111111111111,
              "#46039f"
             ],
             [
              0.2222222222222222,
              "#7201a8"
             ],
             [
              0.3333333333333333,
              "#9c179e"
             ],
             [
              0.4444444444444444,
              "#bd3786"
             ],
             [
              0.5555555555555556,
              "#d8576b"
             ],
             [
              0.6666666666666666,
              "#ed7953"
             ],
             [
              0.7777777777777778,
              "#fb9f3a"
             ],
             [
              0.8888888888888888,
              "#fdca26"
             ],
             [
              1,
              "#f0f921"
             ]
            ],
            "type": "histogram2d"
           }
          ],
          "histogram2dcontour": [
           {
            "colorbar": {
             "outlinewidth": 0,
             "ticks": ""
            },
            "colorscale": [
             [
              0,
              "#0d0887"
             ],
             [
              0.1111111111111111,
              "#46039f"
             ],
             [
              0.2222222222222222,
              "#7201a8"
             ],
             [
              0.3333333333333333,
              "#9c179e"
             ],
             [
              0.4444444444444444,
              "#bd3786"
             ],
             [
              0.5555555555555556,
              "#d8576b"
             ],
             [
              0.6666666666666666,
              "#ed7953"
             ],
             [
              0.7777777777777778,
              "#fb9f3a"
             ],
             [
              0.8888888888888888,
              "#fdca26"
             ],
             [
              1,
              "#f0f921"
             ]
            ],
            "type": "histogram2dcontour"
           }
          ],
          "mesh3d": [
           {
            "colorbar": {
             "outlinewidth": 0,
             "ticks": ""
            },
            "type": "mesh3d"
           }
          ],
          "parcoords": [
           {
            "line": {
             "colorbar": {
              "outlinewidth": 0,
              "ticks": ""
             }
            },
            "type": "parcoords"
           }
          ],
          "pie": [
           {
            "automargin": true,
            "type": "pie"
           }
          ],
          "scatter": [
           {
            "fillpattern": {
             "fillmode": "overlay",
             "size": 10,
             "solidity": 0.2
            },
            "type": "scatter"
           }
          ],
          "scatter3d": [
           {
            "line": {
             "colorbar": {
              "outlinewidth": 0,
              "ticks": ""
             }
            },
            "marker": {
             "colorbar": {
              "outlinewidth": 0,
              "ticks": ""
             }
            },
            "type": "scatter3d"
           }
          ],
          "scattercarpet": [
           {
            "marker": {
             "colorbar": {
              "outlinewidth": 0,
              "ticks": ""
             }
            },
            "type": "scattercarpet"
           }
          ],
          "scattergeo": [
           {
            "marker": {
             "colorbar": {
              "outlinewidth": 0,
              "ticks": ""
             }
            },
            "type": "scattergeo"
           }
          ],
          "scattergl": [
           {
            "marker": {
             "colorbar": {
              "outlinewidth": 0,
              "ticks": ""
             }
            },
            "type": "scattergl"
           }
          ],
          "scattermapbox": [
           {
            "marker": {
             "colorbar": {
              "outlinewidth": 0,
              "ticks": ""
             }
            },
            "type": "scattermapbox"
           }
          ],
          "scatterpolar": [
           {
            "marker": {
             "colorbar": {
              "outlinewidth": 0,
              "ticks": ""
             }
            },
            "type": "scatterpolar"
           }
          ],
          "scatterpolargl": [
           {
            "marker": {
             "colorbar": {
              "outlinewidth": 0,
              "ticks": ""
             }
            },
            "type": "scatterpolargl"
           }
          ],
          "scatterternary": [
           {
            "marker": {
             "colorbar": {
              "outlinewidth": 0,
              "ticks": ""
             }
            },
            "type": "scatterternary"
           }
          ],
          "surface": [
           {
            "colorbar": {
             "outlinewidth": 0,
             "ticks": ""
            },
            "colorscale": [
             [
              0,
              "#0d0887"
             ],
             [
              0.1111111111111111,
              "#46039f"
             ],
             [
              0.2222222222222222,
              "#7201a8"
             ],
             [
              0.3333333333333333,
              "#9c179e"
             ],
             [
              0.4444444444444444,
              "#bd3786"
             ],
             [
              0.5555555555555556,
              "#d8576b"
             ],
             [
              0.6666666666666666,
              "#ed7953"
             ],
             [
              0.7777777777777778,
              "#fb9f3a"
             ],
             [
              0.8888888888888888,
              "#fdca26"
             ],
             [
              1,
              "#f0f921"
             ]
            ],
            "type": "surface"
           }
          ],
          "table": [
           {
            "cells": {
             "fill": {
              "color": "#EBF0F8"
             },
             "line": {
              "color": "white"
             }
            },
            "header": {
             "fill": {
              "color": "#C8D4E3"
             },
             "line": {
              "color": "white"
             }
            },
            "type": "table"
           }
          ]
         },
         "layout": {
          "annotationdefaults": {
           "arrowcolor": "#2a3f5f",
           "arrowhead": 0,
           "arrowwidth": 1
          },
          "autotypenumbers": "strict",
          "coloraxis": {
           "colorbar": {
            "outlinewidth": 0,
            "ticks": ""
           }
          },
          "colorscale": {
           "diverging": [
            [
             0,
             "#8e0152"
            ],
            [
             0.1,
             "#c51b7d"
            ],
            [
             0.2,
             "#de77ae"
            ],
            [
             0.3,
             "#f1b6da"
            ],
            [
             0.4,
             "#fde0ef"
            ],
            [
             0.5,
             "#f7f7f7"
            ],
            [
             0.6,
             "#e6f5d0"
            ],
            [
             0.7,
             "#b8e186"
            ],
            [
             0.8,
             "#7fbc41"
            ],
            [
             0.9,
             "#4d9221"
            ],
            [
             1,
             "#276419"
            ]
           ],
           "sequential": [
            [
             0,
             "#0d0887"
            ],
            [
             0.1111111111111111,
             "#46039f"
            ],
            [
             0.2222222222222222,
             "#7201a8"
            ],
            [
             0.3333333333333333,
             "#9c179e"
            ],
            [
             0.4444444444444444,
             "#bd3786"
            ],
            [
             0.5555555555555556,
             "#d8576b"
            ],
            [
             0.6666666666666666,
             "#ed7953"
            ],
            [
             0.7777777777777778,
             "#fb9f3a"
            ],
            [
             0.8888888888888888,
             "#fdca26"
            ],
            [
             1,
             "#f0f921"
            ]
           ],
           "sequentialminus": [
            [
             0,
             "#0d0887"
            ],
            [
             0.1111111111111111,
             "#46039f"
            ],
            [
             0.2222222222222222,
             "#7201a8"
            ],
            [
             0.3333333333333333,
             "#9c179e"
            ],
            [
             0.4444444444444444,
             "#bd3786"
            ],
            [
             0.5555555555555556,
             "#d8576b"
            ],
            [
             0.6666666666666666,
             "#ed7953"
            ],
            [
             0.7777777777777778,
             "#fb9f3a"
            ],
            [
             0.8888888888888888,
             "#fdca26"
            ],
            [
             1,
             "#f0f921"
            ]
           ]
          },
          "colorway": [
           "#636efa",
           "#EF553B",
           "#00cc96",
           "#ab63fa",
           "#FFA15A",
           "#19d3f3",
           "#FF6692",
           "#B6E880",
           "#FF97FF",
           "#FECB52"
          ],
          "font": {
           "color": "#2a3f5f"
          },
          "geo": {
           "bgcolor": "white",
           "lakecolor": "white",
           "landcolor": "#E5ECF6",
           "showlakes": true,
           "showland": true,
           "subunitcolor": "white"
          },
          "hoverlabel": {
           "align": "left"
          },
          "hovermode": "closest",
          "mapbox": {
           "style": "light"
          },
          "paper_bgcolor": "white",
          "plot_bgcolor": "#E5ECF6",
          "polar": {
           "angularaxis": {
            "gridcolor": "white",
            "linecolor": "white",
            "ticks": ""
           },
           "bgcolor": "#E5ECF6",
           "radialaxis": {
            "gridcolor": "white",
            "linecolor": "white",
            "ticks": ""
           }
          },
          "scene": {
           "xaxis": {
            "backgroundcolor": "#E5ECF6",
            "gridcolor": "white",
            "gridwidth": 2,
            "linecolor": "white",
            "showbackground": true,
            "ticks": "",
            "zerolinecolor": "white"
           },
           "yaxis": {
            "backgroundcolor": "#E5ECF6",
            "gridcolor": "white",
            "gridwidth": 2,
            "linecolor": "white",
            "showbackground": true,
            "ticks": "",
            "zerolinecolor": "white"
           },
           "zaxis": {
            "backgroundcolor": "#E5ECF6",
            "gridcolor": "white",
            "gridwidth": 2,
            "linecolor": "white",
            "showbackground": true,
            "ticks": "",
            "zerolinecolor": "white"
           }
          },
          "shapedefaults": {
           "line": {
            "color": "#2a3f5f"
           }
          },
          "ternary": {
           "aaxis": {
            "gridcolor": "white",
            "linecolor": "white",
            "ticks": ""
           },
           "baxis": {
            "gridcolor": "white",
            "linecolor": "white",
            "ticks": ""
           },
           "bgcolor": "#E5ECF6",
           "caxis": {
            "gridcolor": "white",
            "linecolor": "white",
            "ticks": ""
           }
          },
          "title": {
           "x": 0.05
          },
          "xaxis": {
           "automargin": true,
           "gridcolor": "white",
           "linecolor": "white",
           "ticks": "",
           "title": {
            "standoff": 15
           },
           "zerolinecolor": "white",
           "zerolinewidth": 2
          },
          "yaxis": {
           "automargin": true,
           "gridcolor": "white",
           "linecolor": "white",
           "ticks": "",
           "title": {
            "standoff": 15
           },
           "zerolinecolor": "white",
           "zerolinewidth": 2
          }
         }
        },
        "title": {
         "font": {
          "size": 18
         },
         "text": "Most similar and different tracks from centroid 1 profile (blue) of user '22e08d5e101ab5b86dc394856d508e175a5242a6'",
         "x": 0.5,
         "y": 0.99
        },
        "width": 1200
       }
      }
     },
     "metadata": {},
     "output_type": "display_data"
    },
    {
     "name": "stdout",
     "output_type": "stream",
     "text": [
      "['Nothing to You (Re-Mix) - Two Gallants',\n",
      " '(Kanji) Ooioo - OOIOO',\n",
      " 'Money Talks - Cryptic Slaughter',\n",
      " 'Intro - Swell',\n",
      " 'Drinking Song - The Gits',\n",
      " \"Jaden's Interlude - Will Smith\",\n",
      " 'Middle Of The Night - Evol Intent',\n",
      " 'Introduction - Paul Horn',\n",
      " 'Belexes - Kansas',\n",
      " 'Rain - Shel Silverstein']\n"
     ]
    },
    {
     "data": {
      "application/vnd.plotly.v1+json": {
       "config": {
        "plotlyServerURL": "https://plot.ly"
       },
       "data": [
        {
         "fill": "toself",
         "line": {
          "color": "#636EFA"
         },
         "mode": "lines+markers",
         "name": "Cluster center centroid 2 profile",
         "r": [
          -1.5034539679212038,
          1.1482500572442542,
          0.6152949418263814,
          0.526027355089804,
          -0.5771613474097808,
          -0.4558200000858754,
          0.340449279455671,
          1.8334949855153833
         ],
         "subplot": "polar",
         "theta": [
          "Danceability",
          "Energy",
          "Loudness",
          "Speechiness",
          "Acousticness",
          "instrumentalness",
          "Liveness",
          "Tempo"
         ],
         "type": "scatterpolar"
        },
        {
         "fill": "toself",
         "line": {
          "color": "#EF553B"
         },
         "name": "Closest track rank 1",
         "r": [
          -1.334130282126064,
          1.020691435660263,
          0.5677891674095532,
          0.2379906433679777,
          -0.6762101707395389,
          -0.6235690916720154,
          0.40422143577041564,
          2.1511421922594787
         ],
         "subplot": "polar",
         "theta": [
          "Danceability",
          "Energy",
          "Loudness",
          "Speechiness",
          "Acousticness",
          "instrumentalness",
          "Liveness",
          "Tempo"
         ],
         "type": "scatterpolar"
        },
        {
         "fill": "toself",
         "line": {
          "color": "#636EFA"
         },
         "mode": "lines+markers",
         "name": "Cluster center centroid 2 profile",
         "r": [
          -1.5034539679212038,
          1.1482500572442542,
          0.6152949418263814,
          0.526027355089804,
          -0.5771613474097808,
          -0.4558200000858754,
          0.340449279455671,
          1.8334949855153833
         ],
         "showlegend": false,
         "subplot": "polar2",
         "theta": [
          "Danceability",
          "Energy",
          "Loudness",
          "Speechiness",
          "Acousticness",
          "instrumentalness",
          "Liveness",
          "Tempo"
         ],
         "type": "scatterpolar"
        },
        {
         "fill": "toself",
         "line": {
          "color": "#B6E880"
         },
         "name": "Furthest track rank 1",
         "r": [
          -2.854597924456238,
          -2.4412798457493565,
          -8.00310504882673,
          -0.7975816773301675,
          1.105563966260484,
          2.237118641806075,
          -0.5918801675879304,
          -4.040645696797743
         ],
         "subplot": "polar2",
         "theta": [
          "Danceability",
          "Energy",
          "Loudness",
          "Speechiness",
          "Acousticness",
          "instrumentalness",
          "Liveness",
          "Tempo"
         ],
         "type": "scatterpolar"
        },
        {
         "fill": "toself",
         "line": {
          "color": "#636EFA"
         },
         "mode": "lines+markers",
         "name": "Cluster center centroid 2 profile",
         "r": [
          -1.5034539679212038,
          1.1482500572442542,
          0.6152949418263814,
          0.526027355089804,
          -0.5771613474097808,
          -0.4558200000858754,
          0.340449279455671,
          1.8334949855153833
         ],
         "showlegend": false,
         "subplot": "polar3",
         "theta": [
          "Danceability",
          "Energy",
          "Loudness",
          "Speechiness",
          "Acousticness",
          "instrumentalness",
          "Liveness",
          "Tempo"
         ],
         "type": "scatterpolar"
        },
        {
         "fill": "toself",
         "line": {
          "color": "#EF553B"
         },
         "name": "Closest track rank 2",
         "r": [
          -1.3509001458282357,
          1.2088633544776806,
          0.6632188868939203,
          0.42901854718608223,
          -0.8481937392531286,
          -0.10261317854661228,
          0.1804980810054396,
          1.6438707905839405
         ],
         "subplot": "polar3",
         "theta": [
          "Danceability",
          "Energy",
          "Loudness",
          "Speechiness",
          "Acousticness",
          "instrumentalness",
          "Liveness",
          "Tempo"
         ],
         "type": "scatterpolar"
        },
        {
         "fill": "toself",
         "line": {
          "color": "#636EFA"
         },
         "mode": "lines+markers",
         "name": "Cluster center centroid 2 profile",
         "r": [
          -1.5034539679212038,
          1.1482500572442542,
          0.6152949418263814,
          0.526027355089804,
          -0.5771613474097808,
          -0.4558200000858754,
          0.340449279455671,
          1.8334949855153833
         ],
         "showlegend": false,
         "subplot": "polar4",
         "theta": [
          "Danceability",
          "Energy",
          "Loudness",
          "Speechiness",
          "Acousticness",
          "instrumentalness",
          "Liveness",
          "Tempo"
         ],
         "type": "scatterpolar"
        },
        {
         "fill": "toself",
         "line": {
          "color": "#B6E880"
         },
         "name": "Furthest track rank 2",
         "r": [
          1.6397255477255994,
          -1.8998935543184103,
          -4.23880774133607,
          8.442136407345517,
          1.8013279038255745,
          -0.6235690916720154,
          1.7305813247342028,
          -2.330469562374479
         ],
         "subplot": "polar4",
         "theta": [
          "Danceability",
          "Energy",
          "Loudness",
          "Speechiness",
          "Acousticness",
          "instrumentalness",
          "Liveness",
          "Tempo"
         ],
         "type": "scatterpolar"
        },
        {
         "fill": "toself",
         "line": {
          "color": "#636EFA"
         },
         "mode": "lines+markers",
         "name": "Cluster center centroid 2 profile",
         "r": [
          -1.5034539679212038,
          1.1482500572442542,
          0.6152949418263814,
          0.526027355089804,
          -0.5771613474097808,
          -0.4558200000858754,
          0.340449279455671,
          1.8334949855153833
         ],
         "showlegend": false,
         "subplot": "polar5",
         "theta": [
          "Danceability",
          "Energy",
          "Loudness",
          "Speechiness",
          "Acousticness",
          "instrumentalness",
          "Liveness",
          "Tempo"
         ],
         "type": "scatterpolar"
        },
        {
         "fill": "toself",
         "line": {
          "color": "#EF553B"
         },
         "name": "Closest track rank 3",
         "r": [
          -1.3676700095304062,
          1.2833480723429085,
          0.7237627419441437,
          0.42901854718608223,
          -0.8475350827255669,
          -0.6235655272368203,
          0.3988946892283924,
          1.4580340872649333
         ],
         "subplot": "polar5",
         "theta": [
          "Danceability",
          "Energy",
          "Loudness",
          "Speechiness",
          "Acousticness",
          "instrumentalness",
          "Liveness",
          "Tempo"
         ],
         "type": "scatterpolar"
        },
        {
         "fill": "toself",
         "line": {
          "color": "#636EFA"
         },
         "mode": "lines+markers",
         "name": "Cluster center centroid 2 profile",
         "r": [
          -1.5034539679212038,
          1.1482500572442542,
          0.6152949418263814,
          0.526027355089804,
          -0.5771613474097808,
          -0.4558200000858754,
          0.340449279455671,
          1.8334949855153833
         ],
         "showlegend": false,
         "subplot": "polar6",
         "theta": [
          "Danceability",
          "Energy",
          "Loudness",
          "Speechiness",
          "Acousticness",
          "instrumentalness",
          "Liveness",
          "Tempo"
         ],
         "type": "scatterpolar"
        },
        {
         "fill": "toself",
         "line": {
          "color": "#B6E880"
         },
         "name": "Furthest track rank 3",
         "r": [
          1.0527803181496134,
          -1.8606910712314484,
          -2.8141140518642684,
          8.502461008551235,
          1.7796819146568825,
          -0.6235690916720154,
          3.6908240521987556,
          -2.3667530739111062
         ],
         "subplot": "polar6",
         "theta": [
          "Danceability",
          "Energy",
          "Loudness",
          "Speechiness",
          "Acousticness",
          "instrumentalness",
          "Liveness",
          "Tempo"
         ],
         "type": "scatterpolar"
        },
        {
         "fill": "toself",
         "line": {
          "color": "#636EFA"
         },
         "mode": "lines+markers",
         "name": "Cluster center centroid 2 profile",
         "r": [
          -1.5034539679212038,
          1.1482500572442542,
          0.6152949418263814,
          0.526027355089804,
          -0.5771613474097808,
          -0.4558200000858754,
          0.340449279455671,
          1.8334949855153833
         ],
         "showlegend": false,
         "subplot": "polar7",
         "theta": [
          "Danceability",
          "Energy",
          "Loudness",
          "Speechiness",
          "Acousticness",
          "instrumentalness",
          "Liveness",
          "Tempo"
         ],
         "type": "scatterpolar"
        },
        {
         "fill": "toself",
         "line": {
          "color": "#EF553B"
         },
         "name": "Closest track rank 4",
         "r": [
          -1.6192179650629719,
          0.9501269661037313,
          0.903143606163579,
          0.7608038538175268,
          -0.8427605959717872,
          -0.39904013964077434,
          0.5800040716571822,
          1.7005886973541076
         ],
         "subplot": "polar7",
         "theta": [
          "Danceability",
          "Energy",
          "Loudness",
          "Speechiness",
          "Acousticness",
          "instrumentalness",
          "Liveness",
          "Tempo"
         ],
         "type": "scatterpolar"
        },
        {
         "fill": "toself",
         "line": {
          "color": "#636EFA"
         },
         "mode": "lines+markers",
         "name": "Cluster center centroid 2 profile",
         "r": [
          -1.5034539679212038,
          1.1482500572442542,
          0.6152949418263814,
          0.526027355089804,
          -0.5771613474097808,
          -0.4558200000858754,
          0.340449279455671,
          1.8334949855153833
         ],
         "showlegend": false,
         "subplot": "polar8",
         "theta": [
          "Danceability",
          "Energy",
          "Loudness",
          "Speechiness",
          "Acousticness",
          "instrumentalness",
          "Liveness",
          "Tempo"
         ],
         "type": "scatterpolar"
        },
        {
         "fill": "toself",
         "line": {
          "color": "#B6E880"
         },
         "name": "Furthest track rank 4",
         "r": [
          -0.037260822491504184,
          -2.2378189585280235,
          -6.096761360070624,
          7.607646090666429,
          2.197140277195937,
          -0.6235690916720154,
          -0.3202160939447451,
          -0.8655393974126123
         ],
         "subplot": "polar8",
         "theta": [
          "Danceability",
          "Energy",
          "Loudness",
          "Speechiness",
          "Acousticness",
          "instrumentalness",
          "Liveness",
          "Tempo"
         ],
         "type": "scatterpolar"
        },
        {
         "fill": "toself",
         "line": {
          "color": "#636EFA"
         },
         "mode": "lines+markers",
         "name": "Cluster center centroid 2 profile",
         "r": [
          -1.5034539679212038,
          1.1482500572442542,
          0.6152949418263814,
          0.526027355089804,
          -0.5771613474097808,
          -0.4558200000858754,
          0.340449279455671,
          1.8334949855153833
         ],
         "showlegend": false,
         "subplot": "polar9",
         "theta": [
          "Danceability",
          "Energy",
          "Loudness",
          "Speechiness",
          "Acousticness",
          "instrumentalness",
          "Liveness",
          "Tempo"
         ],
         "type": "scatterpolar"
        },
        {
         "fill": "toself",
         "line": {
          "color": "#EF553B"
         },
         "name": "Closest track rank 5",
         "r": [
          -1.5297786919847263,
          1.1382988849211493,
          0.7356914568796891,
          0.38880214638227073,
          -0.7362004835784847,
          -0.5962417551764898,
          0.340300477266137,
          1.3209741192350914
         ],
         "subplot": "polar9",
         "theta": [
          "Danceability",
          "Energy",
          "Loudness",
          "Speechiness",
          "Acousticness",
          "instrumentalness",
          "Liveness",
          "Tempo"
         ],
         "type": "scatterpolar"
        },
        {
         "fill": "toself",
         "line": {
          "color": "#636EFA"
         },
         "mode": "lines+markers",
         "name": "Cluster center centroid 2 profile",
         "r": [
          -1.5034539679212038,
          1.1482500572442542,
          0.6152949418263814,
          0.526027355089804,
          -0.5771613474097808,
          -0.4558200000858754,
          0.340449279455671,
          1.8334949855153833
         ],
         "showlegend": false,
         "subplot": "polar10",
         "theta": [
          "Danceability",
          "Energy",
          "Loudness",
          "Speechiness",
          "Acousticness",
          "instrumentalness",
          "Liveness",
          "Tempo"
         ],
         "type": "scatterpolar"
        },
        {
         "fill": "toself",
         "line": {
          "color": "#B6E880"
         },
         "name": "Furthest track rank 5",
         "r": [
          1.7962442756125294,
          -1.7509241185879552,
          -3.8273796111062994,
          8.391865906340753,
          -0.48696237972183476,
          -0.6235690916720154,
          0.18582482754746282,
          -2.7584953825345813
         ],
         "subplot": "polar10",
         "theta": [
          "Danceability",
          "Energy",
          "Loudness",
          "Speechiness",
          "Acousticness",
          "instrumentalness",
          "Liveness",
          "Tempo"
         ],
         "type": "scatterpolar"
        }
       ],
       "layout": {
        "annotations": [
         {
          "font": {
           "size": 16
          },
          "showarrow": false,
          "text": "Nothing to You (Re-Mix) - Two Gallants",
          "x": 0.25,
          "xanchor": "center",
          "xref": "paper",
          "y": 1.03,
          "yanchor": "bottom",
          "yref": "paper"
         },
         {
          "font": {
           "size": 16
          },
          "showarrow": false,
          "text": "(Kanji) Ooioo - OOIOO",
          "x": 0.75,
          "xanchor": "center",
          "xref": "paper",
          "y": 1.03,
          "yanchor": "bottom",
          "yref": "paper"
         },
         {
          "font": {
           "size": 16
          },
          "showarrow": false,
          "text": "Money Talks - Cryptic Slaughter",
          "x": 0.25,
          "xanchor": "center",
          "xref": "paper",
          "y": 0.82,
          "yanchor": "bottom",
          "yref": "paper"
         },
         {
          "font": {
           "size": 16
          },
          "showarrow": false,
          "text": "Intro - Swell",
          "x": 0.75,
          "xanchor": "center",
          "xref": "paper",
          "y": 0.82,
          "yanchor": "bottom",
          "yref": "paper"
         },
         {
          "font": {
           "size": 16
          },
          "showarrow": false,
          "text": "Drinking Song - The Gits",
          "x": 0.25,
          "xanchor": "center",
          "xref": "paper",
          "y": 0.6,
          "yanchor": "bottom",
          "yref": "paper"
         },
         {
          "font": {
           "size": 16
          },
          "showarrow": false,
          "text": "Jaden's Interlude - Will Smith",
          "x": 0.75,
          "xanchor": "center",
          "xref": "paper",
          "y": 0.6,
          "yanchor": "bottom",
          "yref": "paper"
         },
         {
          "font": {
           "size": 16
          },
          "showarrow": false,
          "text": "Middle Of The Night - Evol Intent",
          "x": 0.25,
          "xanchor": "center",
          "xref": "paper",
          "y": 0.38,
          "yanchor": "bottom",
          "yref": "paper"
         },
         {
          "font": {
           "size": 16
          },
          "showarrow": false,
          "text": "Introduction - Paul Horn",
          "x": 0.75,
          "xanchor": "center",
          "xref": "paper",
          "y": 0.38,
          "yanchor": "bottom",
          "yref": "paper"
         },
         {
          "font": {
           "size": 16
          },
          "showarrow": false,
          "text": "Belexes - Kansas",
          "x": 0.25,
          "xanchor": "center",
          "xref": "paper",
          "y": 0.16,
          "yanchor": "bottom",
          "yref": "paper"
         },
         {
          "font": {
           "size": 16
          },
          "showarrow": false,
          "text": "Rain - Shel Silverstein",
          "x": 0.75,
          "xanchor": "center",
          "xref": "paper",
          "y": 0.16,
          "yanchor": "bottom",
          "yref": "paper"
         },
         {
          "font": {
           "color": "black",
           "size": 20
          },
          "showarrow": false,
          "text": "Closest tracks from centroid 2",
          "x": 0.12,
          "y": 1.09
         },
         {
          "font": {
           "color": "black",
           "size": 22
          },
          "showarrow": false,
          "text": "Furthest tracks from centroid 2",
          "x": 0.9,
          "y": 1.09
         },
         {
          "font": {
           "color": "black",
           "size": 22
          },
          "showarrow": false,
          "text": "Rank",
          "x": 0.005,
          "y": 1.09
         },
         {
          "font": {
           "color": "black",
           "size": 22
          },
          "showarrow": false,
          "text": "1",
          "x": 0.02,
          "y": 1.05
         },
         {
          "font": {
           "color": "black",
           "size": 22
          },
          "showarrow": false,
          "text": "2",
          "x": 0.02,
          "y": 0.84
         },
         {
          "font": {
           "color": "black",
           "size": 22
          },
          "showarrow": false,
          "text": "3",
          "x": 0.02,
          "y": 0.608
         },
         {
          "font": {
           "color": "black",
           "size": 22
          },
          "showarrow": false,
          "text": "4",
          "x": 0.02,
          "y": 0.389
         },
         {
          "font": {
           "color": "black",
           "size": 22
          },
          "showarrow": false,
          "text": "5",
          "x": 0.02,
          "y": 0.159
         }
        ],
        "height": 1600,
        "margin": {
         "b": 50,
         "l": 50,
         "r": 50,
         "t": 200
        },
        "polar": {
         "domain": {
          "x": [
           0,
           0.5
          ],
          "y": [
           0.88,
           1
          ]
         },
         "radialaxis": {
          "range": [
           -1.6192179650629719,
           2.1511421922594787
          ],
          "showticklabels": false,
          "ticks": ""
         }
        },
        "polar10": {
         "domain": {
          "x": [
           0.5,
           1
          ],
          "y": [
           0,
           0.12
          ]
         },
         "radialaxis": {
          "range": [
           -8.00310504882673,
           8.502461008551235
          ],
          "showticklabels": false,
          "ticks": ""
         }
        },
        "polar2": {
         "domain": {
          "x": [
           0.5,
           1
          ],
          "y": [
           0.88,
           1
          ]
         },
         "radialaxis": {
          "range": [
           -8.00310504882673,
           8.502461008551235
          ],
          "showticklabels": false,
          "ticks": ""
         }
        },
        "polar3": {
         "domain": {
          "x": [
           0,
           0.5
          ],
          "y": [
           0.66,
           0.78
          ]
         },
         "radialaxis": {
          "range": [
           -1.6192179650629719,
           2.1511421922594787
          ],
          "showticklabels": false,
          "ticks": ""
         }
        },
        "polar4": {
         "domain": {
          "x": [
           0.5,
           1
          ],
          "y": [
           0.66,
           0.78
          ]
         },
         "radialaxis": {
          "range": [
           -8.00310504882673,
           8.502461008551235
          ],
          "showticklabels": false,
          "ticks": ""
         }
        },
        "polar5": {
         "domain": {
          "x": [
           0,
           0.5
          ],
          "y": [
           0.44,
           0.56
          ]
         },
         "radialaxis": {
          "range": [
           -1.6192179650629719,
           2.1511421922594787
          ],
          "showticklabels": false,
          "ticks": ""
         }
        },
        "polar6": {
         "domain": {
          "x": [
           0.5,
           1
          ],
          "y": [
           0.44,
           0.56
          ]
         },
         "radialaxis": {
          "range": [
           -8.00310504882673,
           8.502461008551235
          ],
          "showticklabels": false,
          "ticks": ""
         }
        },
        "polar7": {
         "domain": {
          "x": [
           0,
           0.5
          ],
          "y": [
           0.22,
           0.33999999999999997
          ]
         },
         "radialaxis": {
          "range": [
           -1.6192179650629719,
           2.1511421922594787
          ],
          "showticklabels": false,
          "ticks": ""
         }
        },
        "polar8": {
         "domain": {
          "x": [
           0.5,
           1
          ],
          "y": [
           0.22,
           0.33999999999999997
          ]
         },
         "radialaxis": {
          "range": [
           -8.00310504882673,
           8.502461008551235
          ],
          "showticklabels": false,
          "ticks": ""
         }
        },
        "polar9": {
         "domain": {
          "x": [
           0,
           0.5
          ],
          "y": [
           0,
           0.12
          ]
         },
         "radialaxis": {
          "range": [
           -1.6192179650629719,
           2.1511421922594787
          ],
          "showticklabels": false,
          "ticks": ""
         }
        },
        "showlegend": false,
        "template": {
         "data": {
          "bar": [
           {
            "error_x": {
             "color": "#2a3f5f"
            },
            "error_y": {
             "color": "#2a3f5f"
            },
            "marker": {
             "line": {
              "color": "#E5ECF6",
              "width": 0.5
             },
             "pattern": {
              "fillmode": "overlay",
              "size": 10,
              "solidity": 0.2
             }
            },
            "type": "bar"
           }
          ],
          "barpolar": [
           {
            "marker": {
             "line": {
              "color": "#E5ECF6",
              "width": 0.5
             },
             "pattern": {
              "fillmode": "overlay",
              "size": 10,
              "solidity": 0.2
             }
            },
            "type": "barpolar"
           }
          ],
          "carpet": [
           {
            "aaxis": {
             "endlinecolor": "#2a3f5f",
             "gridcolor": "white",
             "linecolor": "white",
             "minorgridcolor": "white",
             "startlinecolor": "#2a3f5f"
            },
            "baxis": {
             "endlinecolor": "#2a3f5f",
             "gridcolor": "white",
             "linecolor": "white",
             "minorgridcolor": "white",
             "startlinecolor": "#2a3f5f"
            },
            "type": "carpet"
           }
          ],
          "choropleth": [
           {
            "colorbar": {
             "outlinewidth": 0,
             "ticks": ""
            },
            "type": "choropleth"
           }
          ],
          "contour": [
           {
            "colorbar": {
             "outlinewidth": 0,
             "ticks": ""
            },
            "colorscale": [
             [
              0,
              "#0d0887"
             ],
             [
              0.1111111111111111,
              "#46039f"
             ],
             [
              0.2222222222222222,
              "#7201a8"
             ],
             [
              0.3333333333333333,
              "#9c179e"
             ],
             [
              0.4444444444444444,
              "#bd3786"
             ],
             [
              0.5555555555555556,
              "#d8576b"
             ],
             [
              0.6666666666666666,
              "#ed7953"
             ],
             [
              0.7777777777777778,
              "#fb9f3a"
             ],
             [
              0.8888888888888888,
              "#fdca26"
             ],
             [
              1,
              "#f0f921"
             ]
            ],
            "type": "contour"
           }
          ],
          "contourcarpet": [
           {
            "colorbar": {
             "outlinewidth": 0,
             "ticks": ""
            },
            "type": "contourcarpet"
           }
          ],
          "heatmap": [
           {
            "colorbar": {
             "outlinewidth": 0,
             "ticks": ""
            },
            "colorscale": [
             [
              0,
              "#0d0887"
             ],
             [
              0.1111111111111111,
              "#46039f"
             ],
             [
              0.2222222222222222,
              "#7201a8"
             ],
             [
              0.3333333333333333,
              "#9c179e"
             ],
             [
              0.4444444444444444,
              "#bd3786"
             ],
             [
              0.5555555555555556,
              "#d8576b"
             ],
             [
              0.6666666666666666,
              "#ed7953"
             ],
             [
              0.7777777777777778,
              "#fb9f3a"
             ],
             [
              0.8888888888888888,
              "#fdca26"
             ],
             [
              1,
              "#f0f921"
             ]
            ],
            "type": "heatmap"
           }
          ],
          "heatmapgl": [
           {
            "colorbar": {
             "outlinewidth": 0,
             "ticks": ""
            },
            "colorscale": [
             [
              0,
              "#0d0887"
             ],
             [
              0.1111111111111111,
              "#46039f"
             ],
             [
              0.2222222222222222,
              "#7201a8"
             ],
             [
              0.3333333333333333,
              "#9c179e"
             ],
             [
              0.4444444444444444,
              "#bd3786"
             ],
             [
              0.5555555555555556,
              "#d8576b"
             ],
             [
              0.6666666666666666,
              "#ed7953"
             ],
             [
              0.7777777777777778,
              "#fb9f3a"
             ],
             [
              0.8888888888888888,
              "#fdca26"
             ],
             [
              1,
              "#f0f921"
             ]
            ],
            "type": "heatmapgl"
           }
          ],
          "histogram": [
           {
            "marker": {
             "pattern": {
              "fillmode": "overlay",
              "size": 10,
              "solidity": 0.2
             }
            },
            "type": "histogram"
           }
          ],
          "histogram2d": [
           {
            "colorbar": {
             "outlinewidth": 0,
             "ticks": ""
            },
            "colorscale": [
             [
              0,
              "#0d0887"
             ],
             [
              0.1111111111111111,
              "#46039f"
             ],
             [
              0.2222222222222222,
              "#7201a8"
             ],
             [
              0.3333333333333333,
              "#9c179e"
             ],
             [
              0.4444444444444444,
              "#bd3786"
             ],
             [
              0.5555555555555556,
              "#d8576b"
             ],
             [
              0.6666666666666666,
              "#ed7953"
             ],
             [
              0.7777777777777778,
              "#fb9f3a"
             ],
             [
              0.8888888888888888,
              "#fdca26"
             ],
             [
              1,
              "#f0f921"
             ]
            ],
            "type": "histogram2d"
           }
          ],
          "histogram2dcontour": [
           {
            "colorbar": {
             "outlinewidth": 0,
             "ticks": ""
            },
            "colorscale": [
             [
              0,
              "#0d0887"
             ],
             [
              0.1111111111111111,
              "#46039f"
             ],
             [
              0.2222222222222222,
              "#7201a8"
             ],
             [
              0.3333333333333333,
              "#9c179e"
             ],
             [
              0.4444444444444444,
              "#bd3786"
             ],
             [
              0.5555555555555556,
              "#d8576b"
             ],
             [
              0.6666666666666666,
              "#ed7953"
             ],
             [
              0.7777777777777778,
              "#fb9f3a"
             ],
             [
              0.8888888888888888,
              "#fdca26"
             ],
             [
              1,
              "#f0f921"
             ]
            ],
            "type": "histogram2dcontour"
           }
          ],
          "mesh3d": [
           {
            "colorbar": {
             "outlinewidth": 0,
             "ticks": ""
            },
            "type": "mesh3d"
           }
          ],
          "parcoords": [
           {
            "line": {
             "colorbar": {
              "outlinewidth": 0,
              "ticks": ""
             }
            },
            "type": "parcoords"
           }
          ],
          "pie": [
           {
            "automargin": true,
            "type": "pie"
           }
          ],
          "scatter": [
           {
            "fillpattern": {
             "fillmode": "overlay",
             "size": 10,
             "solidity": 0.2
            },
            "type": "scatter"
           }
          ],
          "scatter3d": [
           {
            "line": {
             "colorbar": {
              "outlinewidth": 0,
              "ticks": ""
             }
            },
            "marker": {
             "colorbar": {
              "outlinewidth": 0,
              "ticks": ""
             }
            },
            "type": "scatter3d"
           }
          ],
          "scattercarpet": [
           {
            "marker": {
             "colorbar": {
              "outlinewidth": 0,
              "ticks": ""
             }
            },
            "type": "scattercarpet"
           }
          ],
          "scattergeo": [
           {
            "marker": {
             "colorbar": {
              "outlinewidth": 0,
              "ticks": ""
             }
            },
            "type": "scattergeo"
           }
          ],
          "scattergl": [
           {
            "marker": {
             "colorbar": {
              "outlinewidth": 0,
              "ticks": ""
             }
            },
            "type": "scattergl"
           }
          ],
          "scattermapbox": [
           {
            "marker": {
             "colorbar": {
              "outlinewidth": 0,
              "ticks": ""
             }
            },
            "type": "scattermapbox"
           }
          ],
          "scatterpolar": [
           {
            "marker": {
             "colorbar": {
              "outlinewidth": 0,
              "ticks": ""
             }
            },
            "type": "scatterpolar"
           }
          ],
          "scatterpolargl": [
           {
            "marker": {
             "colorbar": {
              "outlinewidth": 0,
              "ticks": ""
             }
            },
            "type": "scatterpolargl"
           }
          ],
          "scatterternary": [
           {
            "marker": {
             "colorbar": {
              "outlinewidth": 0,
              "ticks": ""
             }
            },
            "type": "scatterternary"
           }
          ],
          "surface": [
           {
            "colorbar": {
             "outlinewidth": 0,
             "ticks": ""
            },
            "colorscale": [
             [
              0,
              "#0d0887"
             ],
             [
              0.1111111111111111,
              "#46039f"
             ],
             [
              0.2222222222222222,
              "#7201a8"
             ],
             [
              0.3333333333333333,
              "#9c179e"
             ],
             [
              0.4444444444444444,
              "#bd3786"
             ],
             [
              0.5555555555555556,
              "#d8576b"
             ],
             [
              0.6666666666666666,
              "#ed7953"
             ],
             [
              0.7777777777777778,
              "#fb9f3a"
             ],
             [
              0.8888888888888888,
              "#fdca26"
             ],
             [
              1,
              "#f0f921"
             ]
            ],
            "type": "surface"
           }
          ],
          "table": [
           {
            "cells": {
             "fill": {
              "color": "#EBF0F8"
             },
             "line": {
              "color": "white"
             }
            },
            "header": {
             "fill": {
              "color": "#C8D4E3"
             },
             "line": {
              "color": "white"
             }
            },
            "type": "table"
           }
          ]
         },
         "layout": {
          "annotationdefaults": {
           "arrowcolor": "#2a3f5f",
           "arrowhead": 0,
           "arrowwidth": 1
          },
          "autotypenumbers": "strict",
          "coloraxis": {
           "colorbar": {
            "outlinewidth": 0,
            "ticks": ""
           }
          },
          "colorscale": {
           "diverging": [
            [
             0,
             "#8e0152"
            ],
            [
             0.1,
             "#c51b7d"
            ],
            [
             0.2,
             "#de77ae"
            ],
            [
             0.3,
             "#f1b6da"
            ],
            [
             0.4,
             "#fde0ef"
            ],
            [
             0.5,
             "#f7f7f7"
            ],
            [
             0.6,
             "#e6f5d0"
            ],
            [
             0.7,
             "#b8e186"
            ],
            [
             0.8,
             "#7fbc41"
            ],
            [
             0.9,
             "#4d9221"
            ],
            [
             1,
             "#276419"
            ]
           ],
           "sequential": [
            [
             0,
             "#0d0887"
            ],
            [
             0.1111111111111111,
             "#46039f"
            ],
            [
             0.2222222222222222,
             "#7201a8"
            ],
            [
             0.3333333333333333,
             "#9c179e"
            ],
            [
             0.4444444444444444,
             "#bd3786"
            ],
            [
             0.5555555555555556,
             "#d8576b"
            ],
            [
             0.6666666666666666,
             "#ed7953"
            ],
            [
             0.7777777777777778,
             "#fb9f3a"
            ],
            [
             0.8888888888888888,
             "#fdca26"
            ],
            [
             1,
             "#f0f921"
            ]
           ],
           "sequentialminus": [
            [
             0,
             "#0d0887"
            ],
            [
             0.1111111111111111,
             "#46039f"
            ],
            [
             0.2222222222222222,
             "#7201a8"
            ],
            [
             0.3333333333333333,
             "#9c179e"
            ],
            [
             0.4444444444444444,
             "#bd3786"
            ],
            [
             0.5555555555555556,
             "#d8576b"
            ],
            [
             0.6666666666666666,
             "#ed7953"
            ],
            [
             0.7777777777777778,
             "#fb9f3a"
            ],
            [
             0.8888888888888888,
             "#fdca26"
            ],
            [
             1,
             "#f0f921"
            ]
           ]
          },
          "colorway": [
           "#636efa",
           "#EF553B",
           "#00cc96",
           "#ab63fa",
           "#FFA15A",
           "#19d3f3",
           "#FF6692",
           "#B6E880",
           "#FF97FF",
           "#FECB52"
          ],
          "font": {
           "color": "#2a3f5f"
          },
          "geo": {
           "bgcolor": "white",
           "lakecolor": "white",
           "landcolor": "#E5ECF6",
           "showlakes": true,
           "showland": true,
           "subunitcolor": "white"
          },
          "hoverlabel": {
           "align": "left"
          },
          "hovermode": "closest",
          "mapbox": {
           "style": "light"
          },
          "paper_bgcolor": "white",
          "plot_bgcolor": "#E5ECF6",
          "polar": {
           "angularaxis": {
            "gridcolor": "white",
            "linecolor": "white",
            "ticks": ""
           },
           "bgcolor": "#E5ECF6",
           "radialaxis": {
            "gridcolor": "white",
            "linecolor": "white",
            "ticks": ""
           }
          },
          "scene": {
           "xaxis": {
            "backgroundcolor": "#E5ECF6",
            "gridcolor": "white",
            "gridwidth": 2,
            "linecolor": "white",
            "showbackground": true,
            "ticks": "",
            "zerolinecolor": "white"
           },
           "yaxis": {
            "backgroundcolor": "#E5ECF6",
            "gridcolor": "white",
            "gridwidth": 2,
            "linecolor": "white",
            "showbackground": true,
            "ticks": "",
            "zerolinecolor": "white"
           },
           "zaxis": {
            "backgroundcolor": "#E5ECF6",
            "gridcolor": "white",
            "gridwidth": 2,
            "linecolor": "white",
            "showbackground": true,
            "ticks": "",
            "zerolinecolor": "white"
           }
          },
          "shapedefaults": {
           "line": {
            "color": "#2a3f5f"
           }
          },
          "ternary": {
           "aaxis": {
            "gridcolor": "white",
            "linecolor": "white",
            "ticks": ""
           },
           "baxis": {
            "gridcolor": "white",
            "linecolor": "white",
            "ticks": ""
           },
           "bgcolor": "#E5ECF6",
           "caxis": {
            "gridcolor": "white",
            "linecolor": "white",
            "ticks": ""
           }
          },
          "title": {
           "x": 0.05
          },
          "xaxis": {
           "automargin": true,
           "gridcolor": "white",
           "linecolor": "white",
           "ticks": "",
           "title": {
            "standoff": 15
           },
           "zerolinecolor": "white",
           "zerolinewidth": 2
          },
          "yaxis": {
           "automargin": true,
           "gridcolor": "white",
           "linecolor": "white",
           "ticks": "",
           "title": {
            "standoff": 15
           },
           "zerolinecolor": "white",
           "zerolinewidth": 2
          }
         }
        },
        "title": {
         "font": {
          "size": 18
         },
         "text": "Most similar and different tracks from centroid 2 profile (blue) of user '22e08d5e101ab5b86dc394856d508e175a5242a6'",
         "x": 0.5,
         "y": 0.99
        },
        "width": 1200
       }
      }
     },
     "metadata": {},
     "output_type": "display_data"
    },
    {
     "name": "stdout",
     "output_type": "stream",
     "text": [
      "['Black Night - Bad Manners',\n",
      " 'Introduction - Paul Horn',\n",
      " 'Do What You Gotta Do - Freekbass',\n",
      " '(Kanji) Ooioo - OOIOO',\n",
      " 'Pure - Orgy',\n",
      " 'Intro - Swell',\n",
      " 'All Around - Tahiti 80',\n",
      " \"Jaden's Interlude - Will Smith\",\n",
      " 'Dance With Me Tonight - The Wonders',\n",
      " '40 Break - Brotha Lynch Hung']\n"
     ]
    },
    {
     "data": {
      "application/vnd.plotly.v1+json": {
       "config": {
        "plotlyServerURL": "https://plot.ly"
       },
       "data": [
        {
         "fill": "toself",
         "line": {
          "color": "#636EFA"
         },
         "mode": "lines+markers",
         "name": "Cluster center centroid 3 profile",
         "r": [
          0.23741045159286467,
          1.0351791971911097,
          1.0153469223167422,
          -0.48026366199785464,
          -0.6141379367710146,
          -0.4554744594062911,
          0.038919331576855176,
          0.674814940703201
         ],
         "subplot": "polar",
         "theta": [
          "Danceability",
          "Energy",
          "Loudness",
          "Speechiness",
          "Acousticness",
          "instrumentalness",
          "Liveness",
          "Tempo"
         ],
         "type": "scatterpolar"
        },
        {
         "fill": "toself",
         "line": {
          "color": "#EF553B"
         },
         "name": "Closest track rank 1",
         "r": [
          0.17515745106932912,
          1.177501368008111,
          1.1333903114289272,
          -0.4255799698949114,
          -0.7655771831645661,
          -0.5108476367852323,
          0.042002670912835334,
          0.6429841440474734
         ],
         "subplot": "polar",
         "theta": [
          "Danceability",
          "Energy",
          "Loudness",
          "Speechiness",
          "Acousticness",
          "instrumentalness",
          "Liveness",
          "Tempo"
         ],
         "type": "scatterpolar"
        },
        {
         "fill": "toself",
         "line": {
          "color": "#636EFA"
         },
         "mode": "lines+markers",
         "name": "Cluster center centroid 3 profile",
         "r": [
          0.23741045159286467,
          1.0351791971911097,
          1.0153469223167422,
          -0.48026366199785464,
          -0.6141379367710146,
          -0.4554744594062911,
          0.038919331576855176,
          0.674814940703201
         ],
         "showlegend": false,
         "subplot": "polar2",
         "theta": [
          "Danceability",
          "Energy",
          "Loudness",
          "Speechiness",
          "Acousticness",
          "instrumentalness",
          "Liveness",
          "Tempo"
         ],
         "type": "scatterpolar"
        },
        {
         "fill": "toself",
         "line": {
          "color": "#B6E880"
         },
         "name": "Furthest track rank 1",
         "r": [
          -0.037260822491504184,
          -2.2378189585280235,
          -6.096761360070624,
          7.607646090666429,
          2.197140277195937,
          -0.6235690916720154,
          -0.3202160939447451,
          -0.8655393974126123
         ],
         "subplot": "polar2",
         "theta": [
          "Danceability",
          "Energy",
          "Loudness",
          "Speechiness",
          "Acousticness",
          "instrumentalness",
          "Liveness",
          "Tempo"
         ],
         "type": "scatterpolar"
        },
        {
         "fill": "toself",
         "line": {
          "color": "#636EFA"
         },
         "mode": "lines+markers",
         "name": "Cluster center centroid 3 profile",
         "r": [
          0.23741045159286467,
          1.0351791971911097,
          1.0153469223167422,
          -0.48026366199785464,
          -0.6141379367710146,
          -0.4554744594062911,
          0.038919331576855176,
          0.674814940703201
         ],
         "showlegend": false,
         "subplot": "polar3",
         "theta": [
          "Danceability",
          "Energy",
          "Loudness",
          "Speechiness",
          "Acousticness",
          "instrumentalness",
          "Liveness",
          "Tempo"
         ],
         "type": "scatterpolar"
        },
        {
         "fill": "toself",
         "line": {
          "color": "#EF553B"
         },
         "name": "Closest track rank 2",
         "r": [
          0.3093163606866975,
          0.8364397651515416,
          1.0066758490003924,
          -0.5070181815226297,
          -0.7751632640821297,
          -0.5912759181098559,
          0.276379518761858,
          0.7438935071763536
         ],
         "subplot": "polar3",
         "theta": [
          "Danceability",
          "Energy",
          "Loudness",
          "Speechiness",
          "Acousticness",
          "instrumentalness",
          "Liveness",
          "Tempo"
         ],
         "type": "scatterpolar"
        },
        {
         "fill": "toself",
         "line": {
          "color": "#636EFA"
         },
         "mode": "lines+markers",
         "name": "Cluster center centroid 3 profile",
         "r": [
          0.23741045159286467,
          1.0351791971911097,
          1.0153469223167422,
          -0.48026366199785464,
          -0.6141379367710146,
          -0.4554744594062911,
          0.038919331576855176,
          0.674814940703201
         ],
         "showlegend": false,
         "subplot": "polar4",
         "theta": [
          "Danceability",
          "Energy",
          "Loudness",
          "Speechiness",
          "Acousticness",
          "instrumentalness",
          "Liveness",
          "Tempo"
         ],
         "type": "scatterpolar"
        },
        {
         "fill": "toself",
         "line": {
          "color": "#B6E880"
         },
         "name": "Furthest track rank 2",
         "r": [
          -2.854597924456238,
          -2.4412798457493565,
          -8.00310504882673,
          -0.7975816773301675,
          1.105563966260484,
          2.237118641806075,
          -0.5918801675879304,
          -4.040645696797743
         ],
         "subplot": "polar4",
         "theta": [
          "Danceability",
          "Energy",
          "Loudness",
          "Speechiness",
          "Acousticness",
          "instrumentalness",
          "Liveness",
          "Tempo"
         ],
         "type": "scatterpolar"
        },
        {
         "fill": "toself",
         "line": {
          "color": "#636EFA"
         },
         "mode": "lines+markers",
         "name": "Cluster center centroid 3 profile",
         "r": [
          0.23741045159286467,
          1.0351791971911097,
          1.0153469223167422,
          -0.48026366199785464,
          -0.6141379367710146,
          -0.4554744594062911,
          0.038919331576855176,
          0.674814940703201
         ],
         "showlegend": false,
         "subplot": "polar5",
         "theta": [
          "Danceability",
          "Energy",
          "Loudness",
          "Speechiness",
          "Acousticness",
          "instrumentalness",
          "Liveness",
          "Tempo"
         ],
         "type": "scatterpolar"
        },
        {
         "fill": "toself",
         "line": {
          "color": "#EF553B"
         },
         "name": "Closest track rank 3",
         "r": [
          0.08571817799108351,
          0.8482005100776298,
          1.1169601946309111,
          -0.4245745598748161,
          -0.8485895516264987,
          -0.6230877405943908,
          -0.09649273917976892,
          0.811410078094326
         ],
         "subplot": "polar5",
         "theta": [
          "Danceability",
          "Energy",
          "Loudness",
          "Speechiness",
          "Acousticness",
          "instrumentalness",
          "Liveness",
          "Tempo"
         ],
         "type": "scatterpolar"
        },
        {
         "fill": "toself",
         "line": {
          "color": "#636EFA"
         },
         "mode": "lines+markers",
         "name": "Cluster center centroid 3 profile",
         "r": [
          0.23741045159286467,
          1.0351791971911097,
          1.0153469223167422,
          -0.48026366199785464,
          -0.6141379367710146,
          -0.4554744594062911,
          0.038919331576855176,
          0.674814940703201
         ],
         "showlegend": false,
         "subplot": "polar6",
         "theta": [
          "Danceability",
          "Energy",
          "Loudness",
          "Speechiness",
          "Acousticness",
          "instrumentalness",
          "Liveness",
          "Tempo"
         ],
         "type": "scatterpolar"
        },
        {
         "fill": "toself",
         "line": {
          "color": "#B6E880"
         },
         "name": "Furthest track rank 3",
         "r": [
          1.6397255477255994,
          -1.8998935543184103,
          -4.23880774133607,
          8.442136407345517,
          1.8013279038255745,
          -0.6235690916720154,
          1.7305813247342028,
          -2.330469562374479
         ],
         "subplot": "polar6",
         "theta": [
          "Danceability",
          "Energy",
          "Loudness",
          "Speechiness",
          "Acousticness",
          "instrumentalness",
          "Liveness",
          "Tempo"
         ],
         "type": "scatterpolar"
        },
        {
         "fill": "toself",
         "line": {
          "color": "#636EFA"
         },
         "mode": "lines+markers",
         "name": "Cluster center centroid 3 profile",
         "r": [
          0.23741045159286467,
          1.0351791971911097,
          1.0153469223167422,
          -0.48026366199785464,
          -0.6141379367710146,
          -0.4554744594062911,
          0.038919331576855176,
          0.674814940703201
         ],
         "showlegend": false,
         "subplot": "polar7",
         "theta": [
          "Danceability",
          "Energy",
          "Loudness",
          "Speechiness",
          "Acousticness",
          "instrumentalness",
          "Liveness",
          "Tempo"
         ],
         "type": "scatterpolar"
        },
        {
         "fill": "toself",
         "line": {
          "color": "#EF553B"
         },
         "name": "Closest track rank 4",
         "r": [
          0.3037264061193065,
          0.8795624965471994,
          1.2281448206339236,
          -0.4456881702968171,
          -0.8263405670452508,
          -0.6226673200329211,
          0.21245856025757906,
          0.8111774914819134
         ],
         "subplot": "polar7",
         "theta": [
          "Danceability",
          "Energy",
          "Loudness",
          "Speechiness",
          "Acousticness",
          "instrumentalness",
          "Liveness",
          "Tempo"
         ],
         "type": "scatterpolar"
        },
        {
         "fill": "toself",
         "line": {
          "color": "#636EFA"
         },
         "mode": "lines+markers",
         "name": "Cluster center centroid 3 profile",
         "r": [
          0.23741045159286467,
          1.0351791971911097,
          1.0153469223167422,
          -0.48026366199785464,
          -0.6141379367710146,
          -0.4554744594062911,
          0.038919331576855176,
          0.674814940703201
         ],
         "showlegend": false,
         "subplot": "polar8",
         "theta": [
          "Danceability",
          "Energy",
          "Loudness",
          "Speechiness",
          "Acousticness",
          "instrumentalness",
          "Liveness",
          "Tempo"
         ],
         "type": "scatterpolar"
        },
        {
         "fill": "toself",
         "line": {
          "color": "#B6E880"
         },
         "name": "Furthest track rank 4",
         "r": [
          1.0527803181496134,
          -1.8606910712314484,
          -2.8141140518642684,
          8.502461008551235,
          1.7796819146568825,
          -0.6235690916720154,
          3.6908240521987556,
          -2.3667530739111062
         ],
         "subplot": "polar8",
         "theta": [
          "Danceability",
          "Energy",
          "Loudness",
          "Speechiness",
          "Acousticness",
          "instrumentalness",
          "Liveness",
          "Tempo"
         ],
         "type": "scatterpolar"
        },
        {
         "fill": "toself",
         "line": {
          "color": "#636EFA"
         },
         "mode": "lines+markers",
         "name": "Cluster center centroid 3 profile",
         "r": [
          0.23741045159286467,
          1.0351791971911097,
          1.0153469223167422,
          -0.48026366199785464,
          -0.6141379367710146,
          -0.4554744594062911,
          0.038919331576855176,
          0.674814940703201
         ],
         "showlegend": false,
         "subplot": "polar9",
         "theta": [
          "Danceability",
          "Energy",
          "Loudness",
          "Speechiness",
          "Acousticness",
          "instrumentalness",
          "Liveness",
          "Tempo"
         ],
         "type": "scatterpolar"
        },
        {
         "fill": "toself",
         "line": {
          "color": "#EF553B"
         },
         "name": "Closest track rank 5",
         "r": [
          0.48819490684318806,
          1.1069368984515795,
          1.0660943535849985,
          -0.5040019514623437,
          -0.540768124226868,
          -0.6235690916720154,
          0.3669342099762529,
          0.6795666955143476
         ],
         "subplot": "polar9",
         "theta": [
          "Danceability",
          "Energy",
          "Loudness",
          "Speechiness",
          "Acousticness",
          "instrumentalness",
          "Liveness",
          "Tempo"
         ],
         "type": "scatterpolar"
        },
        {
         "fill": "toself",
         "line": {
          "color": "#636EFA"
         },
         "mode": "lines+markers",
         "name": "Cluster center centroid 3 profile",
         "r": [
          0.23741045159286467,
          1.0351791971911097,
          1.0153469223167422,
          -0.48026366199785464,
          -0.6141379367710146,
          -0.4554744594062911,
          0.038919331576855176,
          0.674814940703201
         ],
         "showlegend": false,
         "subplot": "polar10",
         "theta": [
          "Danceability",
          "Energy",
          "Loudness",
          "Speechiness",
          "Acousticness",
          "instrumentalness",
          "Liveness",
          "Tempo"
         ],
         "type": "scatterpolar"
        },
        {
         "fill": "toself",
         "line": {
          "color": "#B6E880"
         },
         "name": "Furthest track rank 5",
         "r": [
          0.8291821354539994,
          -1.833249333070575,
          -5.241044866015049,
          7.899214996494062,
          0.15932501117196085,
          -0.6235690916720154,
          1.9223442002470392,
          -1.4055058314618147
         ],
         "subplot": "polar10",
         "theta": [
          "Danceability",
          "Energy",
          "Loudness",
          "Speechiness",
          "Acousticness",
          "instrumentalness",
          "Liveness",
          "Tempo"
         ],
         "type": "scatterpolar"
        }
       ],
       "layout": {
        "annotations": [
         {
          "font": {
           "size": 16
          },
          "showarrow": false,
          "text": "Black Night - Bad Manners",
          "x": 0.25,
          "xanchor": "center",
          "xref": "paper",
          "y": 1.03,
          "yanchor": "bottom",
          "yref": "paper"
         },
         {
          "font": {
           "size": 16
          },
          "showarrow": false,
          "text": "Introduction - Paul Horn",
          "x": 0.75,
          "xanchor": "center",
          "xref": "paper",
          "y": 1.03,
          "yanchor": "bottom",
          "yref": "paper"
         },
         {
          "font": {
           "size": 16
          },
          "showarrow": false,
          "text": "Do What You Gotta Do - Freekbass",
          "x": 0.25,
          "xanchor": "center",
          "xref": "paper",
          "y": 0.82,
          "yanchor": "bottom",
          "yref": "paper"
         },
         {
          "font": {
           "size": 16
          },
          "showarrow": false,
          "text": "(Kanji) Ooioo - OOIOO",
          "x": 0.75,
          "xanchor": "center",
          "xref": "paper",
          "y": 0.82,
          "yanchor": "bottom",
          "yref": "paper"
         },
         {
          "font": {
           "size": 16
          },
          "showarrow": false,
          "text": "Pure - Orgy",
          "x": 0.25,
          "xanchor": "center",
          "xref": "paper",
          "y": 0.6,
          "yanchor": "bottom",
          "yref": "paper"
         },
         {
          "font": {
           "size": 16
          },
          "showarrow": false,
          "text": "Intro - Swell",
          "x": 0.75,
          "xanchor": "center",
          "xref": "paper",
          "y": 0.6,
          "yanchor": "bottom",
          "yref": "paper"
         },
         {
          "font": {
           "size": 16
          },
          "showarrow": false,
          "text": "All Around - Tahiti 80",
          "x": 0.25,
          "xanchor": "center",
          "xref": "paper",
          "y": 0.38,
          "yanchor": "bottom",
          "yref": "paper"
         },
         {
          "font": {
           "size": 16
          },
          "showarrow": false,
          "text": "Jaden's Interlude - Will Smith",
          "x": 0.75,
          "xanchor": "center",
          "xref": "paper",
          "y": 0.38,
          "yanchor": "bottom",
          "yref": "paper"
         },
         {
          "font": {
           "size": 16
          },
          "showarrow": false,
          "text": "Dance With Me Tonight - The Wonders",
          "x": 0.25,
          "xanchor": "center",
          "xref": "paper",
          "y": 0.16,
          "yanchor": "bottom",
          "yref": "paper"
         },
         {
          "font": {
           "size": 16
          },
          "showarrow": false,
          "text": "40 Break - Brotha Lynch Hung",
          "x": 0.75,
          "xanchor": "center",
          "xref": "paper",
          "y": 0.16,
          "yanchor": "bottom",
          "yref": "paper"
         },
         {
          "font": {
           "color": "black",
           "size": 20
          },
          "showarrow": false,
          "text": "Closest tracks from centroid 3",
          "x": 0.12,
          "y": 1.09
         },
         {
          "font": {
           "color": "black",
           "size": 22
          },
          "showarrow": false,
          "text": "Furthest tracks from centroid 3",
          "x": 0.9,
          "y": 1.09
         },
         {
          "font": {
           "color": "black",
           "size": 22
          },
          "showarrow": false,
          "text": "Rank",
          "x": 0.005,
          "y": 1.09
         },
         {
          "font": {
           "color": "black",
           "size": 22
          },
          "showarrow": false,
          "text": "1",
          "x": 0.02,
          "y": 1.05
         },
         {
          "font": {
           "color": "black",
           "size": 22
          },
          "showarrow": false,
          "text": "2",
          "x": 0.02,
          "y": 0.84
         },
         {
          "font": {
           "color": "black",
           "size": 22
          },
          "showarrow": false,
          "text": "3",
          "x": 0.02,
          "y": 0.608
         },
         {
          "font": {
           "color": "black",
           "size": 22
          },
          "showarrow": false,
          "text": "4",
          "x": 0.02,
          "y": 0.389
         },
         {
          "font": {
           "color": "black",
           "size": 22
          },
          "showarrow": false,
          "text": "5",
          "x": 0.02,
          "y": 0.159
         }
        ],
        "height": 1600,
        "margin": {
         "b": 50,
         "l": 50,
         "r": 50,
         "t": 200
        },
        "polar": {
         "domain": {
          "x": [
           0,
           0.5
          ],
          "y": [
           0.88,
           1
          ]
         },
         "radialaxis": {
          "range": [
           -0.8485895516264987,
           1.2281448206339236
          ],
          "showticklabels": false,
          "ticks": ""
         }
        },
        "polar10": {
         "domain": {
          "x": [
           0.5,
           1
          ],
          "y": [
           0,
           0.12
          ]
         },
         "radialaxis": {
          "range": [
           -8.00310504882673,
           8.502461008551235
          ],
          "showticklabels": false,
          "ticks": ""
         }
        },
        "polar2": {
         "domain": {
          "x": [
           0.5,
           1
          ],
          "y": [
           0.88,
           1
          ]
         },
         "radialaxis": {
          "range": [
           -8.00310504882673,
           8.502461008551235
          ],
          "showticklabels": false,
          "ticks": ""
         }
        },
        "polar3": {
         "domain": {
          "x": [
           0,
           0.5
          ],
          "y": [
           0.66,
           0.78
          ]
         },
         "radialaxis": {
          "range": [
           -0.8485895516264987,
           1.2281448206339236
          ],
          "showticklabels": false,
          "ticks": ""
         }
        },
        "polar4": {
         "domain": {
          "x": [
           0.5,
           1
          ],
          "y": [
           0.66,
           0.78
          ]
         },
         "radialaxis": {
          "range": [
           -8.00310504882673,
           8.502461008551235
          ],
          "showticklabels": false,
          "ticks": ""
         }
        },
        "polar5": {
         "domain": {
          "x": [
           0,
           0.5
          ],
          "y": [
           0.44,
           0.56
          ]
         },
         "radialaxis": {
          "range": [
           -0.8485895516264987,
           1.2281448206339236
          ],
          "showticklabels": false,
          "ticks": ""
         }
        },
        "polar6": {
         "domain": {
          "x": [
           0.5,
           1
          ],
          "y": [
           0.44,
           0.56
          ]
         },
         "radialaxis": {
          "range": [
           -8.00310504882673,
           8.502461008551235
          ],
          "showticklabels": false,
          "ticks": ""
         }
        },
        "polar7": {
         "domain": {
          "x": [
           0,
           0.5
          ],
          "y": [
           0.22,
           0.33999999999999997
          ]
         },
         "radialaxis": {
          "range": [
           -0.8485895516264987,
           1.2281448206339236
          ],
          "showticklabels": false,
          "ticks": ""
         }
        },
        "polar8": {
         "domain": {
          "x": [
           0.5,
           1
          ],
          "y": [
           0.22,
           0.33999999999999997
          ]
         },
         "radialaxis": {
          "range": [
           -8.00310504882673,
           8.502461008551235
          ],
          "showticklabels": false,
          "ticks": ""
         }
        },
        "polar9": {
         "domain": {
          "x": [
           0,
           0.5
          ],
          "y": [
           0,
           0.12
          ]
         },
         "radialaxis": {
          "range": [
           -0.8485895516264987,
           1.2281448206339236
          ],
          "showticklabels": false,
          "ticks": ""
         }
        },
        "showlegend": false,
        "template": {
         "data": {
          "bar": [
           {
            "error_x": {
             "color": "#2a3f5f"
            },
            "error_y": {
             "color": "#2a3f5f"
            },
            "marker": {
             "line": {
              "color": "#E5ECF6",
              "width": 0.5
             },
             "pattern": {
              "fillmode": "overlay",
              "size": 10,
              "solidity": 0.2
             }
            },
            "type": "bar"
           }
          ],
          "barpolar": [
           {
            "marker": {
             "line": {
              "color": "#E5ECF6",
              "width": 0.5
             },
             "pattern": {
              "fillmode": "overlay",
              "size": 10,
              "solidity": 0.2
             }
            },
            "type": "barpolar"
           }
          ],
          "carpet": [
           {
            "aaxis": {
             "endlinecolor": "#2a3f5f",
             "gridcolor": "white",
             "linecolor": "white",
             "minorgridcolor": "white",
             "startlinecolor": "#2a3f5f"
            },
            "baxis": {
             "endlinecolor": "#2a3f5f",
             "gridcolor": "white",
             "linecolor": "white",
             "minorgridcolor": "white",
             "startlinecolor": "#2a3f5f"
            },
            "type": "carpet"
           }
          ],
          "choropleth": [
           {
            "colorbar": {
             "outlinewidth": 0,
             "ticks": ""
            },
            "type": "choropleth"
           }
          ],
          "contour": [
           {
            "colorbar": {
             "outlinewidth": 0,
             "ticks": ""
            },
            "colorscale": [
             [
              0,
              "#0d0887"
             ],
             [
              0.1111111111111111,
              "#46039f"
             ],
             [
              0.2222222222222222,
              "#7201a8"
             ],
             [
              0.3333333333333333,
              "#9c179e"
             ],
             [
              0.4444444444444444,
              "#bd3786"
             ],
             [
              0.5555555555555556,
              "#d8576b"
             ],
             [
              0.6666666666666666,
              "#ed7953"
             ],
             [
              0.7777777777777778,
              "#fb9f3a"
             ],
             [
              0.8888888888888888,
              "#fdca26"
             ],
             [
              1,
              "#f0f921"
             ]
            ],
            "type": "contour"
           }
          ],
          "contourcarpet": [
           {
            "colorbar": {
             "outlinewidth": 0,
             "ticks": ""
            },
            "type": "contourcarpet"
           }
          ],
          "heatmap": [
           {
            "colorbar": {
             "outlinewidth": 0,
             "ticks": ""
            },
            "colorscale": [
             [
              0,
              "#0d0887"
             ],
             [
              0.1111111111111111,
              "#46039f"
             ],
             [
              0.2222222222222222,
              "#7201a8"
             ],
             [
              0.3333333333333333,
              "#9c179e"
             ],
             [
              0.4444444444444444,
              "#bd3786"
             ],
             [
              0.5555555555555556,
              "#d8576b"
             ],
             [
              0.6666666666666666,
              "#ed7953"
             ],
             [
              0.7777777777777778,
              "#fb9f3a"
             ],
             [
              0.8888888888888888,
              "#fdca26"
             ],
             [
              1,
              "#f0f921"
             ]
            ],
            "type": "heatmap"
           }
          ],
          "heatmapgl": [
           {
            "colorbar": {
             "outlinewidth": 0,
             "ticks": ""
            },
            "colorscale": [
             [
              0,
              "#0d0887"
             ],
             [
              0.1111111111111111,
              "#46039f"
             ],
             [
              0.2222222222222222,
              "#7201a8"
             ],
             [
              0.3333333333333333,
              "#9c179e"
             ],
             [
              0.4444444444444444,
              "#bd3786"
             ],
             [
              0.5555555555555556,
              "#d8576b"
             ],
             [
              0.6666666666666666,
              "#ed7953"
             ],
             [
              0.7777777777777778,
              "#fb9f3a"
             ],
             [
              0.8888888888888888,
              "#fdca26"
             ],
             [
              1,
              "#f0f921"
             ]
            ],
            "type": "heatmapgl"
           }
          ],
          "histogram": [
           {
            "marker": {
             "pattern": {
              "fillmode": "overlay",
              "size": 10,
              "solidity": 0.2
             }
            },
            "type": "histogram"
           }
          ],
          "histogram2d": [
           {
            "colorbar": {
             "outlinewidth": 0,
             "ticks": ""
            },
            "colorscale": [
             [
              0,
              "#0d0887"
             ],
             [
              0.1111111111111111,
              "#46039f"
             ],
             [
              0.2222222222222222,
              "#7201a8"
             ],
             [
              0.3333333333333333,
              "#9c179e"
             ],
             [
              0.4444444444444444,
              "#bd3786"
             ],
             [
              0.5555555555555556,
              "#d8576b"
             ],
             [
              0.6666666666666666,
              "#ed7953"
             ],
             [
              0.7777777777777778,
              "#fb9f3a"
             ],
             [
              0.8888888888888888,
              "#fdca26"
             ],
             [
              1,
              "#f0f921"
             ]
            ],
            "type": "histogram2d"
           }
          ],
          "histogram2dcontour": [
           {
            "colorbar": {
             "outlinewidth": 0,
             "ticks": ""
            },
            "colorscale": [
             [
              0,
              "#0d0887"
             ],
             [
              0.1111111111111111,
              "#46039f"
             ],
             [
              0.2222222222222222,
              "#7201a8"
             ],
             [
              0.3333333333333333,
              "#9c179e"
             ],
             [
              0.4444444444444444,
              "#bd3786"
             ],
             [
              0.5555555555555556,
              "#d8576b"
             ],
             [
              0.6666666666666666,
              "#ed7953"
             ],
             [
              0.7777777777777778,
              "#fb9f3a"
             ],
             [
              0.8888888888888888,
              "#fdca26"
             ],
             [
              1,
              "#f0f921"
             ]
            ],
            "type": "histogram2dcontour"
           }
          ],
          "mesh3d": [
           {
            "colorbar": {
             "outlinewidth": 0,
             "ticks": ""
            },
            "type": "mesh3d"
           }
          ],
          "parcoords": [
           {
            "line": {
             "colorbar": {
              "outlinewidth": 0,
              "ticks": ""
             }
            },
            "type": "parcoords"
           }
          ],
          "pie": [
           {
            "automargin": true,
            "type": "pie"
           }
          ],
          "scatter": [
           {
            "fillpattern": {
             "fillmode": "overlay",
             "size": 10,
             "solidity": 0.2
            },
            "type": "scatter"
           }
          ],
          "scatter3d": [
           {
            "line": {
             "colorbar": {
              "outlinewidth": 0,
              "ticks": ""
             }
            },
            "marker": {
             "colorbar": {
              "outlinewidth": 0,
              "ticks": ""
             }
            },
            "type": "scatter3d"
           }
          ],
          "scattercarpet": [
           {
            "marker": {
             "colorbar": {
              "outlinewidth": 0,
              "ticks": ""
             }
            },
            "type": "scattercarpet"
           }
          ],
          "scattergeo": [
           {
            "marker": {
             "colorbar": {
              "outlinewidth": 0,
              "ticks": ""
             }
            },
            "type": "scattergeo"
           }
          ],
          "scattergl": [
           {
            "marker": {
             "colorbar": {
              "outlinewidth": 0,
              "ticks": ""
             }
            },
            "type": "scattergl"
           }
          ],
          "scattermapbox": [
           {
            "marker": {
             "colorbar": {
              "outlinewidth": 0,
              "ticks": ""
             }
            },
            "type": "scattermapbox"
           }
          ],
          "scatterpolar": [
           {
            "marker": {
             "colorbar": {
              "outlinewidth": 0,
              "ticks": ""
             }
            },
            "type": "scatterpolar"
           }
          ],
          "scatterpolargl": [
           {
            "marker": {
             "colorbar": {
              "outlinewidth": 0,
              "ticks": ""
             }
            },
            "type": "scatterpolargl"
           }
          ],
          "scatterternary": [
           {
            "marker": {
             "colorbar": {
              "outlinewidth": 0,
              "ticks": ""
             }
            },
            "type": "scatterternary"
           }
          ],
          "surface": [
           {
            "colorbar": {
             "outlinewidth": 0,
             "ticks": ""
            },
            "colorscale": [
             [
              0,
              "#0d0887"
             ],
             [
              0.1111111111111111,
              "#46039f"
             ],
             [
              0.2222222222222222,
              "#7201a8"
             ],
             [
              0.3333333333333333,
              "#9c179e"
             ],
             [
              0.4444444444444444,
              "#bd3786"
             ],
             [
              0.5555555555555556,
              "#d8576b"
             ],
             [
              0.6666666666666666,
              "#ed7953"
             ],
             [
              0.7777777777777778,
              "#fb9f3a"
             ],
             [
              0.8888888888888888,
              "#fdca26"
             ],
             [
              1,
              "#f0f921"
             ]
            ],
            "type": "surface"
           }
          ],
          "table": [
           {
            "cells": {
             "fill": {
              "color": "#EBF0F8"
             },
             "line": {
              "color": "white"
             }
            },
            "header": {
             "fill": {
              "color": "#C8D4E3"
             },
             "line": {
              "color": "white"
             }
            },
            "type": "table"
           }
          ]
         },
         "layout": {
          "annotationdefaults": {
           "arrowcolor": "#2a3f5f",
           "arrowhead": 0,
           "arrowwidth": 1
          },
          "autotypenumbers": "strict",
          "coloraxis": {
           "colorbar": {
            "outlinewidth": 0,
            "ticks": ""
           }
          },
          "colorscale": {
           "diverging": [
            [
             0,
             "#8e0152"
            ],
            [
             0.1,
             "#c51b7d"
            ],
            [
             0.2,
             "#de77ae"
            ],
            [
             0.3,
             "#f1b6da"
            ],
            [
             0.4,
             "#fde0ef"
            ],
            [
             0.5,
             "#f7f7f7"
            ],
            [
             0.6,
             "#e6f5d0"
            ],
            [
             0.7,
             "#b8e186"
            ],
            [
             0.8,
             "#7fbc41"
            ],
            [
             0.9,
             "#4d9221"
            ],
            [
             1,
             "#276419"
            ]
           ],
           "sequential": [
            [
             0,
             "#0d0887"
            ],
            [
             0.1111111111111111,
             "#46039f"
            ],
            [
             0.2222222222222222,
             "#7201a8"
            ],
            [
             0.3333333333333333,
             "#9c179e"
            ],
            [
             0.4444444444444444,
             "#bd3786"
            ],
            [
             0.5555555555555556,
             "#d8576b"
            ],
            [
             0.6666666666666666,
             "#ed7953"
            ],
            [
             0.7777777777777778,
             "#fb9f3a"
            ],
            [
             0.8888888888888888,
             "#fdca26"
            ],
            [
             1,
             "#f0f921"
            ]
           ],
           "sequentialminus": [
            [
             0,
             "#0d0887"
            ],
            [
             0.1111111111111111,
             "#46039f"
            ],
            [
             0.2222222222222222,
             "#7201a8"
            ],
            [
             0.3333333333333333,
             "#9c179e"
            ],
            [
             0.4444444444444444,
             "#bd3786"
            ],
            [
             0.5555555555555556,
             "#d8576b"
            ],
            [
             0.6666666666666666,
             "#ed7953"
            ],
            [
             0.7777777777777778,
             "#fb9f3a"
            ],
            [
             0.8888888888888888,
             "#fdca26"
            ],
            [
             1,
             "#f0f921"
            ]
           ]
          },
          "colorway": [
           "#636efa",
           "#EF553B",
           "#00cc96",
           "#ab63fa",
           "#FFA15A",
           "#19d3f3",
           "#FF6692",
           "#B6E880",
           "#FF97FF",
           "#FECB52"
          ],
          "font": {
           "color": "#2a3f5f"
          },
          "geo": {
           "bgcolor": "white",
           "lakecolor": "white",
           "landcolor": "#E5ECF6",
           "showlakes": true,
           "showland": true,
           "subunitcolor": "white"
          },
          "hoverlabel": {
           "align": "left"
          },
          "hovermode": "closest",
          "mapbox": {
           "style": "light"
          },
          "paper_bgcolor": "white",
          "plot_bgcolor": "#E5ECF6",
          "polar": {
           "angularaxis": {
            "gridcolor": "white",
            "linecolor": "white",
            "ticks": ""
           },
           "bgcolor": "#E5ECF6",
           "radialaxis": {
            "gridcolor": "white",
            "linecolor": "white",
            "ticks": ""
           }
          },
          "scene": {
           "xaxis": {
            "backgroundcolor": "#E5ECF6",
            "gridcolor": "white",
            "gridwidth": 2,
            "linecolor": "white",
            "showbackground": true,
            "ticks": "",
            "zerolinecolor": "white"
           },
           "yaxis": {
            "backgroundcolor": "#E5ECF6",
            "gridcolor": "white",
            "gridwidth": 2,
            "linecolor": "white",
            "showbackground": true,
            "ticks": "",
            "zerolinecolor": "white"
           },
           "zaxis": {
            "backgroundcolor": "#E5ECF6",
            "gridcolor": "white",
            "gridwidth": 2,
            "linecolor": "white",
            "showbackground": true,
            "ticks": "",
            "zerolinecolor": "white"
           }
          },
          "shapedefaults": {
           "line": {
            "color": "#2a3f5f"
           }
          },
          "ternary": {
           "aaxis": {
            "gridcolor": "white",
            "linecolor": "white",
            "ticks": ""
           },
           "baxis": {
            "gridcolor": "white",
            "linecolor": "white",
            "ticks": ""
           },
           "bgcolor": "#E5ECF6",
           "caxis": {
            "gridcolor": "white",
            "linecolor": "white",
            "ticks": ""
           }
          },
          "title": {
           "x": 0.05
          },
          "xaxis": {
           "automargin": true,
           "gridcolor": "white",
           "linecolor": "white",
           "ticks": "",
           "title": {
            "standoff": 15
           },
           "zerolinecolor": "white",
           "zerolinewidth": 2
          },
          "yaxis": {
           "automargin": true,
           "gridcolor": "white",
           "linecolor": "white",
           "ticks": "",
           "title": {
            "standoff": 15
           },
           "zerolinecolor": "white",
           "zerolinewidth": 2
          }
         }
        },
        "title": {
         "font": {
          "size": 18
         },
         "text": "Most similar and different tracks from centroid 3 profile (blue) of user '22e08d5e101ab5b86dc394856d508e175a5242a6'",
         "x": 0.5,
         "y": 0.99
        },
        "width": 1200
       }
      }
     },
     "metadata": {},
     "output_type": "display_data"
    },
    {
     "name": "stdout",
     "output_type": "stream",
     "text": [
      "['Dam That River - Alice In Chains',\n",
      " '(Kanji) Ooioo - OOIOO',\n",
      " 'Sucker Punch - Throttlerod',\n",
      " 'Introduction - Paul Horn',\n",
      " 'Roller Coaster - Warrant',\n",
      " 'Intro - Swell',\n",
      " 'End Over End - Foo Fighters',\n",
      " 'Rain - Shel Silverstein',\n",
      " 'Egypt - Soilwork',\n",
      " \"Jaden's Interlude - Will Smith\"]\n"
     ]
    },
    {
     "data": {
      "application/vnd.plotly.v1+json": {
       "config": {
        "plotlyServerURL": "https://plot.ly"
       },
       "data": [
        {
         "fill": "toself",
         "line": {
          "color": "#636EFA"
         },
         "mode": "lines+markers",
         "name": "Cluster center centroid 4 profile",
         "r": [
          -0.38505357353029906,
          1.1555387398217887,
          0.8102624296642625,
          0.11465138276056333,
          -0.7976834265451784,
          -0.45552674013369143,
          1.3796537458237517,
          0.17500485072372635
         ],
         "subplot": "polar",
         "theta": [
          "Danceability",
          "Energy",
          "Loudness",
          "Speechiness",
          "Acousticness",
          "instrumentalness",
          "Liveness",
          "Tempo"
         ],
         "type": "scatterpolar"
        },
        {
         "fill": "toself",
         "line": {
          "color": "#EF553B"
         },
         "name": "Closest track rank 1",
         "r": [
          -0.4676873241805602,
          1.0677344153646176,
          0.7721528119656977,
          0.01277879886663361,
          -0.8287525486954764,
          -0.6235690916720154,
          1.3683625598766223,
          0.09344843223036906
         ],
         "subplot": "polar",
         "theta": [
          "Danceability",
          "Energy",
          "Loudness",
          "Speechiness",
          "Acousticness",
          "instrumentalness",
          "Liveness",
          "Tempo"
         ],
         "type": "scatterpolar"
        },
        {
         "fill": "toself",
         "line": {
          "color": "#636EFA"
         },
         "mode": "lines+markers",
         "name": "Cluster center centroid 4 profile",
         "r": [
          -0.38505357353029906,
          1.1555387398217887,
          0.8102624296642625,
          0.11465138276056333,
          -0.7976834265451784,
          -0.45552674013369143,
          1.3796537458237517,
          0.17500485072372635
         ],
         "showlegend": false,
         "subplot": "polar2",
         "theta": [
          "Danceability",
          "Energy",
          "Loudness",
          "Speechiness",
          "Acousticness",
          "instrumentalness",
          "Liveness",
          "Tempo"
         ],
         "type": "scatterpolar"
        },
        {
         "fill": "toself",
         "line": {
          "color": "#B6E880"
         },
         "name": "Furthest track rank 1",
         "r": [
          -2.854597924456238,
          -2.4412798457493565,
          -8.00310504882673,
          -0.7975816773301675,
          1.105563966260484,
          2.237118641806075,
          -0.5918801675879304,
          -4.040645696797743
         ],
         "subplot": "polar2",
         "theta": [
          "Danceability",
          "Energy",
          "Loudness",
          "Speechiness",
          "Acousticness",
          "instrumentalness",
          "Liveness",
          "Tempo"
         ],
         "type": "scatterpolar"
        },
        {
         "fill": "toself",
         "line": {
          "color": "#636EFA"
         },
         "mode": "lines+markers",
         "name": "Cluster center centroid 4 profile",
         "r": [
          -0.38505357353029906,
          1.1555387398217887,
          0.8102624296642625,
          0.11465138276056333,
          -0.7976834265451784,
          -0.45552674013369143,
          1.3796537458237517,
          0.17500485072372635
         ],
         "showlegend": false,
         "subplot": "polar3",
         "theta": [
          "Danceability",
          "Energy",
          "Loudness",
          "Speechiness",
          "Acousticness",
          "instrumentalness",
          "Liveness",
          "Tempo"
         ],
         "type": "scatterpolar"
        },
        {
         "fill": "toself",
         "line": {
          "color": "#EF553B"
         },
         "name": "Closest track rank 2",
         "r": [
          -0.5683065063935872,
          1.1382988849211493,
          0.6425124383265575,
          0.044951919509682726,
          -0.848369999450645,
          -0.5425315051858416,
          1.7945022832384818,
          0.09198645923805038
         ],
         "subplot": "polar3",
         "theta": [
          "Danceability",
          "Energy",
          "Loudness",
          "Speechiness",
          "Acousticness",
          "instrumentalness",
          "Liveness",
          "Tempo"
         ],
         "type": "scatterpolar"
        },
        {
         "fill": "toself",
         "line": {
          "color": "#636EFA"
         },
         "mode": "lines+markers",
         "name": "Cluster center centroid 4 profile",
         "r": [
          -0.38505357353029906,
          1.1555387398217887,
          0.8102624296642625,
          0.11465138276056333,
          -0.7976834265451784,
          -0.45552674013369143,
          1.3796537458237517,
          0.17500485072372635
         ],
         "showlegend": false,
         "subplot": "polar4",
         "theta": [
          "Danceability",
          "Energy",
          "Loudness",
          "Speechiness",
          "Acousticness",
          "instrumentalness",
          "Liveness",
          "Tempo"
         ],
         "type": "scatterpolar"
        },
        {
         "fill": "toself",
         "line": {
          "color": "#B6E880"
         },
         "name": "Furthest track rank 2",
         "r": [
          -0.037260822491504184,
          -2.2378189585280235,
          -6.096761360070624,
          7.607646090666429,
          2.197140277195937,
          -0.6235690916720154,
          -0.3202160939447451,
          -0.8655393974126123
         ],
         "subplot": "polar4",
         "theta": [
          "Danceability",
          "Energy",
          "Loudness",
          "Speechiness",
          "Acousticness",
          "instrumentalness",
          "Liveness",
          "Tempo"
         ],
         "type": "scatterpolar"
        },
        {
         "fill": "toself",
         "line": {
          "color": "#636EFA"
         },
         "mode": "lines+markers",
         "name": "Cluster center centroid 4 profile",
         "r": [
          -0.38505357353029906,
          1.1555387398217887,
          0.8102624296642625,
          0.11465138276056333,
          -0.7976834265451784,
          -0.45552674013369143,
          1.3796537458237517,
          0.17500485072372635
         ],
         "showlegend": false,
         "subplot": "polar5",
         "theta": [
          "Danceability",
          "Energy",
          "Loudness",
          "Speechiness",
          "Acousticness",
          "instrumentalness",
          "Liveness",
          "Tempo"
         ],
         "type": "scatterpolar"
        },
        {
         "fill": "toself",
         "line": {
          "color": "#EF553B"
         },
         "name": "Closest track rank 3",
         "r": [
          -0.33352841456319243,
          1.3068695621950859,
          0.7575232559126697,
          -0.20640058551413895,
          -0.8478504957105963,
          -0.42219373577968117,
          1.1499659516536695,
          0.4767511694890974
         ],
         "subplot": "polar5",
         "theta": [
          "Danceability",
          "Energy",
          "Loudness",
          "Speechiness",
          "Acousticness",
          "instrumentalness",
          "Liveness",
          "Tempo"
         ],
         "type": "scatterpolar"
        },
        {
         "fill": "toself",
         "line": {
          "color": "#636EFA"
         },
         "mode": "lines+markers",
         "name": "Cluster center centroid 4 profile",
         "r": [
          -0.38505357353029906,
          1.1555387398217887,
          0.8102624296642625,
          0.11465138276056333,
          -0.7976834265451784,
          -0.45552674013369143,
          1.3796537458237517,
          0.17500485072372635
         ],
         "showlegend": false,
         "subplot": "polar6",
         "theta": [
          "Danceability",
          "Energy",
          "Loudness",
          "Speechiness",
          "Acousticness",
          "instrumentalness",
          "Liveness",
          "Tempo"
         ],
         "type": "scatterpolar"
        },
        {
         "fill": "toself",
         "line": {
          "color": "#B6E880"
         },
         "name": "Furthest track rank 3",
         "r": [
          1.6397255477255994,
          -1.8998935543184103,
          -4.23880774133607,
          8.442136407345517,
          1.8013279038255745,
          -0.6235690916720154,
          1.7305813247342028,
          -2.330469562374479
         ],
         "subplot": "polar6",
         "theta": [
          "Danceability",
          "Energy",
          "Loudness",
          "Speechiness",
          "Acousticness",
          "instrumentalness",
          "Liveness",
          "Tempo"
         ],
         "type": "scatterpolar"
        },
        {
         "fill": "toself",
         "line": {
          "color": "#636EFA"
         },
         "mode": "lines+markers",
         "name": "Cluster center centroid 4 profile",
         "r": [
          -0.38505357353029906,
          1.1555387398217887,
          0.8102624296642625,
          0.11465138276056333,
          -0.7976834265451784,
          -0.45552674013369143,
          1.3796537458237517,
          0.17500485072372635
         ],
         "showlegend": false,
         "subplot": "polar7",
         "theta": [
          "Danceability",
          "Energy",
          "Loudness",
          "Speechiness",
          "Acousticness",
          "instrumentalness",
          "Liveness",
          "Tempo"
         ],
         "type": "scatterpolar"
        },
        {
         "fill": "toself",
         "line": {
          "color": "#EF553B"
         },
         "name": "Closest track rank 4",
         "r": [
          -0.4341475967762187,
          1.099096401834187,
          1.0622681620018988,
          -0.3019145374231912,
          -0.8483792763031459,
          -0.6200351217350244,
          1.2565008824941344,
          0.21658643017427076
         ],
         "subplot": "polar7",
         "theta": [
          "Danceability",
          "Energy",
          "Loudness",
          "Speechiness",
          "Acousticness",
          "instrumentalness",
          "Liveness",
          "Tempo"
         ],
         "type": "scatterpolar"
        },
        {
         "fill": "toself",
         "line": {
          "color": "#636EFA"
         },
         "mode": "lines+markers",
         "name": "Cluster center centroid 4 profile",
         "r": [
          -0.38505357353029906,
          1.1555387398217887,
          0.8102624296642625,
          0.11465138276056333,
          -0.7976834265451784,
          -0.45552674013369143,
          1.3796537458237517,
          0.17500485072372635
         ],
         "showlegend": false,
         "subplot": "polar8",
         "theta": [
          "Danceability",
          "Energy",
          "Loudness",
          "Speechiness",
          "Acousticness",
          "instrumentalness",
          "Liveness",
          "Tempo"
         ],
         "type": "scatterpolar"
        },
        {
         "fill": "toself",
         "line": {
          "color": "#B6E880"
         },
         "name": "Furthest track rank 4",
         "r": [
          1.7962442756125294,
          -1.7509241185879552,
          -3.8273796111062994,
          8.391865906340753,
          -0.48696237972183476,
          -0.6235690916720154,
          0.18582482754746282,
          -2.7584953825345813
         ],
         "subplot": "polar8",
         "theta": [
          "Danceability",
          "Energy",
          "Loudness",
          "Speechiness",
          "Acousticness",
          "instrumentalness",
          "Liveness",
          "Tempo"
         ],
         "type": "scatterpolar"
        },
        {
         "fill": "toself",
         "line": {
          "color": "#636EFA"
         },
         "mode": "lines+markers",
         "name": "Cluster center centroid 4 profile",
         "r": [
          -0.38505357353029906,
          1.1555387398217887,
          0.8102624296642625,
          0.11465138276056333,
          -0.7976834265451784,
          -0.45552674013369143,
          1.3796537458237517,
          0.17500485072372635
         ],
         "showlegend": false,
         "subplot": "polar9",
         "theta": [
          "Danceability",
          "Energy",
          "Loudness",
          "Speechiness",
          "Acousticness",
          "instrumentalness",
          "Liveness",
          "Tempo"
         ],
         "type": "scatterpolar"
        },
        {
         "fill": "toself",
         "line": {
          "color": "#EF553B"
         },
         "name": "Closest track rank 5",
         "r": [
          -0.46209736961317044,
          1.0834154085994023,
          0.8038876950961124,
          -0.011351041615653265,
          -0.8487110783942602,
          -0.5026220171043049,
          1.1286589654855765,
          0.6161370036430828
         ],
         "subplot": "polar9",
         "theta": [
          "Danceability",
          "Energy",
          "Loudness",
          "Speechiness",
          "Acousticness",
          "instrumentalness",
          "Liveness",
          "Tempo"
         ],
         "type": "scatterpolar"
        },
        {
         "fill": "toself",
         "line": {
          "color": "#636EFA"
         },
         "mode": "lines+markers",
         "name": "Cluster center centroid 4 profile",
         "r": [
          -0.38505357353029906,
          1.1555387398217887,
          0.8102624296642625,
          0.11465138276056333,
          -0.7976834265451784,
          -0.45552674013369143,
          1.3796537458237517,
          0.17500485072372635
         ],
         "showlegend": false,
         "subplot": "polar10",
         "theta": [
          "Danceability",
          "Energy",
          "Loudness",
          "Speechiness",
          "Acousticness",
          "instrumentalness",
          "Liveness",
          "Tempo"
         ],
         "type": "scatterpolar"
        },
        {
         "fill": "toself",
         "line": {
          "color": "#B6E880"
         },
         "name": "Furthest track rank 5",
         "r": [
          1.0527803181496134,
          -1.8606910712314484,
          -2.8141140518642684,
          8.502461008551235,
          1.7796819146568825,
          -0.6235690916720154,
          3.6908240521987556,
          -2.3667530739111062
         ],
         "subplot": "polar10",
         "theta": [
          "Danceability",
          "Energy",
          "Loudness",
          "Speechiness",
          "Acousticness",
          "instrumentalness",
          "Liveness",
          "Tempo"
         ],
         "type": "scatterpolar"
        }
       ],
       "layout": {
        "annotations": [
         {
          "font": {
           "size": 16
          },
          "showarrow": false,
          "text": "Dam That River - Alice In Chains",
          "x": 0.25,
          "xanchor": "center",
          "xref": "paper",
          "y": 1.03,
          "yanchor": "bottom",
          "yref": "paper"
         },
         {
          "font": {
           "size": 16
          },
          "showarrow": false,
          "text": "(Kanji) Ooioo - OOIOO",
          "x": 0.75,
          "xanchor": "center",
          "xref": "paper",
          "y": 1.03,
          "yanchor": "bottom",
          "yref": "paper"
         },
         {
          "font": {
           "size": 16
          },
          "showarrow": false,
          "text": "Sucker Punch - Throttlerod",
          "x": 0.25,
          "xanchor": "center",
          "xref": "paper",
          "y": 0.82,
          "yanchor": "bottom",
          "yref": "paper"
         },
         {
          "font": {
           "size": 16
          },
          "showarrow": false,
          "text": "Introduction - Paul Horn",
          "x": 0.75,
          "xanchor": "center",
          "xref": "paper",
          "y": 0.82,
          "yanchor": "bottom",
          "yref": "paper"
         },
         {
          "font": {
           "size": 16
          },
          "showarrow": false,
          "text": "Roller Coaster - Warrant",
          "x": 0.25,
          "xanchor": "center",
          "xref": "paper",
          "y": 0.6,
          "yanchor": "bottom",
          "yref": "paper"
         },
         {
          "font": {
           "size": 16
          },
          "showarrow": false,
          "text": "Intro - Swell",
          "x": 0.75,
          "xanchor": "center",
          "xref": "paper",
          "y": 0.6,
          "yanchor": "bottom",
          "yref": "paper"
         },
         {
          "font": {
           "size": 16
          },
          "showarrow": false,
          "text": "End Over End - Foo Fighters",
          "x": 0.25,
          "xanchor": "center",
          "xref": "paper",
          "y": 0.38,
          "yanchor": "bottom",
          "yref": "paper"
         },
         {
          "font": {
           "size": 16
          },
          "showarrow": false,
          "text": "Rain - Shel Silverstein",
          "x": 0.75,
          "xanchor": "center",
          "xref": "paper",
          "y": 0.38,
          "yanchor": "bottom",
          "yref": "paper"
         },
         {
          "font": {
           "size": 16
          },
          "showarrow": false,
          "text": "Egypt - Soilwork",
          "x": 0.25,
          "xanchor": "center",
          "xref": "paper",
          "y": 0.16,
          "yanchor": "bottom",
          "yref": "paper"
         },
         {
          "font": {
           "size": 16
          },
          "showarrow": false,
          "text": "Jaden's Interlude - Will Smith",
          "x": 0.75,
          "xanchor": "center",
          "xref": "paper",
          "y": 0.16,
          "yanchor": "bottom",
          "yref": "paper"
         },
         {
          "font": {
           "color": "black",
           "size": 20
          },
          "showarrow": false,
          "text": "Closest tracks from centroid 4",
          "x": 0.12,
          "y": 1.09
         },
         {
          "font": {
           "color": "black",
           "size": 22
          },
          "showarrow": false,
          "text": "Furthest tracks from centroid 4",
          "x": 0.9,
          "y": 1.09
         },
         {
          "font": {
           "color": "black",
           "size": 22
          },
          "showarrow": false,
          "text": "Rank",
          "x": 0.005,
          "y": 1.09
         },
         {
          "font": {
           "color": "black",
           "size": 22
          },
          "showarrow": false,
          "text": "1",
          "x": 0.02,
          "y": 1.05
         },
         {
          "font": {
           "color": "black",
           "size": 22
          },
          "showarrow": false,
          "text": "2",
          "x": 0.02,
          "y": 0.84
         },
         {
          "font": {
           "color": "black",
           "size": 22
          },
          "showarrow": false,
          "text": "3",
          "x": 0.02,
          "y": 0.608
         },
         {
          "font": {
           "color": "black",
           "size": 22
          },
          "showarrow": false,
          "text": "4",
          "x": 0.02,
          "y": 0.389
         },
         {
          "font": {
           "color": "black",
           "size": 22
          },
          "showarrow": false,
          "text": "5",
          "x": 0.02,
          "y": 0.159
         }
        ],
        "height": 1600,
        "margin": {
         "b": 50,
         "l": 50,
         "r": 50,
         "t": 200
        },
        "polar": {
         "domain": {
          "x": [
           0,
           0.5
          ],
          "y": [
           0.88,
           1
          ]
         },
         "radialaxis": {
          "range": [
           -0.8487110783942602,
           1.7945022832384818
          ],
          "showticklabels": false,
          "ticks": ""
         }
        },
        "polar10": {
         "domain": {
          "x": [
           0.5,
           1
          ],
          "y": [
           0,
           0.12
          ]
         },
         "radialaxis": {
          "range": [
           -8.00310504882673,
           8.502461008551235
          ],
          "showticklabels": false,
          "ticks": ""
         }
        },
        "polar2": {
         "domain": {
          "x": [
           0.5,
           1
          ],
          "y": [
           0.88,
           1
          ]
         },
         "radialaxis": {
          "range": [
           -8.00310504882673,
           8.502461008551235
          ],
          "showticklabels": false,
          "ticks": ""
         }
        },
        "polar3": {
         "domain": {
          "x": [
           0,
           0.5
          ],
          "y": [
           0.66,
           0.78
          ]
         },
         "radialaxis": {
          "range": [
           -0.8487110783942602,
           1.7945022832384818
          ],
          "showticklabels": false,
          "ticks": ""
         }
        },
        "polar4": {
         "domain": {
          "x": [
           0.5,
           1
          ],
          "y": [
           0.66,
           0.78
          ]
         },
         "radialaxis": {
          "range": [
           -8.00310504882673,
           8.502461008551235
          ],
          "showticklabels": false,
          "ticks": ""
         }
        },
        "polar5": {
         "domain": {
          "x": [
           0,
           0.5
          ],
          "y": [
           0.44,
           0.56
          ]
         },
         "radialaxis": {
          "range": [
           -0.8487110783942602,
           1.7945022832384818
          ],
          "showticklabels": false,
          "ticks": ""
         }
        },
        "polar6": {
         "domain": {
          "x": [
           0.5,
           1
          ],
          "y": [
           0.44,
           0.56
          ]
         },
         "radialaxis": {
          "range": [
           -8.00310504882673,
           8.502461008551235
          ],
          "showticklabels": false,
          "ticks": ""
         }
        },
        "polar7": {
         "domain": {
          "x": [
           0,
           0.5
          ],
          "y": [
           0.22,
           0.33999999999999997
          ]
         },
         "radialaxis": {
          "range": [
           -0.8487110783942602,
           1.7945022832384818
          ],
          "showticklabels": false,
          "ticks": ""
         }
        },
        "polar8": {
         "domain": {
          "x": [
           0.5,
           1
          ],
          "y": [
           0.22,
           0.33999999999999997
          ]
         },
         "radialaxis": {
          "range": [
           -8.00310504882673,
           8.502461008551235
          ],
          "showticklabels": false,
          "ticks": ""
         }
        },
        "polar9": {
         "domain": {
          "x": [
           0,
           0.5
          ],
          "y": [
           0,
           0.12
          ]
         },
         "radialaxis": {
          "range": [
           -0.8487110783942602,
           1.7945022832384818
          ],
          "showticklabels": false,
          "ticks": ""
         }
        },
        "showlegend": false,
        "template": {
         "data": {
          "bar": [
           {
            "error_x": {
             "color": "#2a3f5f"
            },
            "error_y": {
             "color": "#2a3f5f"
            },
            "marker": {
             "line": {
              "color": "#E5ECF6",
              "width": 0.5
             },
             "pattern": {
              "fillmode": "overlay",
              "size": 10,
              "solidity": 0.2
             }
            },
            "type": "bar"
           }
          ],
          "barpolar": [
           {
            "marker": {
             "line": {
              "color": "#E5ECF6",
              "width": 0.5
             },
             "pattern": {
              "fillmode": "overlay",
              "size": 10,
              "solidity": 0.2
             }
            },
            "type": "barpolar"
           }
          ],
          "carpet": [
           {
            "aaxis": {
             "endlinecolor": "#2a3f5f",
             "gridcolor": "white",
             "linecolor": "white",
             "minorgridcolor": "white",
             "startlinecolor": "#2a3f5f"
            },
            "baxis": {
             "endlinecolor": "#2a3f5f",
             "gridcolor": "white",
             "linecolor": "white",
             "minorgridcolor": "white",
             "startlinecolor": "#2a3f5f"
            },
            "type": "carpet"
           }
          ],
          "choropleth": [
           {
            "colorbar": {
             "outlinewidth": 0,
             "ticks": ""
            },
            "type": "choropleth"
           }
          ],
          "contour": [
           {
            "colorbar": {
             "outlinewidth": 0,
             "ticks": ""
            },
            "colorscale": [
             [
              0,
              "#0d0887"
             ],
             [
              0.1111111111111111,
              "#46039f"
             ],
             [
              0.2222222222222222,
              "#7201a8"
             ],
             [
              0.3333333333333333,
              "#9c179e"
             ],
             [
              0.4444444444444444,
              "#bd3786"
             ],
             [
              0.5555555555555556,
              "#d8576b"
             ],
             [
              0.6666666666666666,
              "#ed7953"
             ],
             [
              0.7777777777777778,
              "#fb9f3a"
             ],
             [
              0.8888888888888888,
              "#fdca26"
             ],
             [
              1,
              "#f0f921"
             ]
            ],
            "type": "contour"
           }
          ],
          "contourcarpet": [
           {
            "colorbar": {
             "outlinewidth": 0,
             "ticks": ""
            },
            "type": "contourcarpet"
           }
          ],
          "heatmap": [
           {
            "colorbar": {
             "outlinewidth": 0,
             "ticks": ""
            },
            "colorscale": [
             [
              0,
              "#0d0887"
             ],
             [
              0.1111111111111111,
              "#46039f"
             ],
             [
              0.2222222222222222,
              "#7201a8"
             ],
             [
              0.3333333333333333,
              "#9c179e"
             ],
             [
              0.4444444444444444,
              "#bd3786"
             ],
             [
              0.5555555555555556,
              "#d8576b"
             ],
             [
              0.6666666666666666,
              "#ed7953"
             ],
             [
              0.7777777777777778,
              "#fb9f3a"
             ],
             [
              0.8888888888888888,
              "#fdca26"
             ],
             [
              1,
              "#f0f921"
             ]
            ],
            "type": "heatmap"
           }
          ],
          "heatmapgl": [
           {
            "colorbar": {
             "outlinewidth": 0,
             "ticks": ""
            },
            "colorscale": [
             [
              0,
              "#0d0887"
             ],
             [
              0.1111111111111111,
              "#46039f"
             ],
             [
              0.2222222222222222,
              "#7201a8"
             ],
             [
              0.3333333333333333,
              "#9c179e"
             ],
             [
              0.4444444444444444,
              "#bd3786"
             ],
             [
              0.5555555555555556,
              "#d8576b"
             ],
             [
              0.6666666666666666,
              "#ed7953"
             ],
             [
              0.7777777777777778,
              "#fb9f3a"
             ],
             [
              0.8888888888888888,
              "#fdca26"
             ],
             [
              1,
              "#f0f921"
             ]
            ],
            "type": "heatmapgl"
           }
          ],
          "histogram": [
           {
            "marker": {
             "pattern": {
              "fillmode": "overlay",
              "size": 10,
              "solidity": 0.2
             }
            },
            "type": "histogram"
           }
          ],
          "histogram2d": [
           {
            "colorbar": {
             "outlinewidth": 0,
             "ticks": ""
            },
            "colorscale": [
             [
              0,
              "#0d0887"
             ],
             [
              0.1111111111111111,
              "#46039f"
             ],
             [
              0.2222222222222222,
              "#7201a8"
             ],
             [
              0.3333333333333333,
              "#9c179e"
             ],
             [
              0.4444444444444444,
              "#bd3786"
             ],
             [
              0.5555555555555556,
              "#d8576b"
             ],
             [
              0.6666666666666666,
              "#ed7953"
             ],
             [
              0.7777777777777778,
              "#fb9f3a"
             ],
             [
              0.8888888888888888,
              "#fdca26"
             ],
             [
              1,
              "#f0f921"
             ]
            ],
            "type": "histogram2d"
           }
          ],
          "histogram2dcontour": [
           {
            "colorbar": {
             "outlinewidth": 0,
             "ticks": ""
            },
            "colorscale": [
             [
              0,
              "#0d0887"
             ],
             [
              0.1111111111111111,
              "#46039f"
             ],
             [
              0.2222222222222222,
              "#7201a8"
             ],
             [
              0.3333333333333333,
              "#9c179e"
             ],
             [
              0.4444444444444444,
              "#bd3786"
             ],
             [
              0.5555555555555556,
              "#d8576b"
             ],
             [
              0.6666666666666666,
              "#ed7953"
             ],
             [
              0.7777777777777778,
              "#fb9f3a"
             ],
             [
              0.8888888888888888,
              "#fdca26"
             ],
             [
              1,
              "#f0f921"
             ]
            ],
            "type": "histogram2dcontour"
           }
          ],
          "mesh3d": [
           {
            "colorbar": {
             "outlinewidth": 0,
             "ticks": ""
            },
            "type": "mesh3d"
           }
          ],
          "parcoords": [
           {
            "line": {
             "colorbar": {
              "outlinewidth": 0,
              "ticks": ""
             }
            },
            "type": "parcoords"
           }
          ],
          "pie": [
           {
            "automargin": true,
            "type": "pie"
           }
          ],
          "scatter": [
           {
            "fillpattern": {
             "fillmode": "overlay",
             "size": 10,
             "solidity": 0.2
            },
            "type": "scatter"
           }
          ],
          "scatter3d": [
           {
            "line": {
             "colorbar": {
              "outlinewidth": 0,
              "ticks": ""
             }
            },
            "marker": {
             "colorbar": {
              "outlinewidth": 0,
              "ticks": ""
             }
            },
            "type": "scatter3d"
           }
          ],
          "scattercarpet": [
           {
            "marker": {
             "colorbar": {
              "outlinewidth": 0,
              "ticks": ""
             }
            },
            "type": "scattercarpet"
           }
          ],
          "scattergeo": [
           {
            "marker": {
             "colorbar": {
              "outlinewidth": 0,
              "ticks": ""
             }
            },
            "type": "scattergeo"
           }
          ],
          "scattergl": [
           {
            "marker": {
             "colorbar": {
              "outlinewidth": 0,
              "ticks": ""
             }
            },
            "type": "scattergl"
           }
          ],
          "scattermapbox": [
           {
            "marker": {
             "colorbar": {
              "outlinewidth": 0,
              "ticks": ""
             }
            },
            "type": "scattermapbox"
           }
          ],
          "scatterpolar": [
           {
            "marker": {
             "colorbar": {
              "outlinewidth": 0,
              "ticks": ""
             }
            },
            "type": "scatterpolar"
           }
          ],
          "scatterpolargl": [
           {
            "marker": {
             "colorbar": {
              "outlinewidth": 0,
              "ticks": ""
             }
            },
            "type": "scatterpolargl"
           }
          ],
          "scatterternary": [
           {
            "marker": {
             "colorbar": {
              "outlinewidth": 0,
              "ticks": ""
             }
            },
            "type": "scatterternary"
           }
          ],
          "surface": [
           {
            "colorbar": {
             "outlinewidth": 0,
             "ticks": ""
            },
            "colorscale": [
             [
              0,
              "#0d0887"
             ],
             [
              0.1111111111111111,
              "#46039f"
             ],
             [
              0.2222222222222222,
              "#7201a8"
             ],
             [
              0.3333333333333333,
              "#9c179e"
             ],
             [
              0.4444444444444444,
              "#bd3786"
             ],
             [
              0.5555555555555556,
              "#d8576b"
             ],
             [
              0.6666666666666666,
              "#ed7953"
             ],
             [
              0.7777777777777778,
              "#fb9f3a"
             ],
             [
              0.8888888888888888,
              "#fdca26"
             ],
             [
              1,
              "#f0f921"
             ]
            ],
            "type": "surface"
           }
          ],
          "table": [
           {
            "cells": {
             "fill": {
              "color": "#EBF0F8"
             },
             "line": {
              "color": "white"
             }
            },
            "header": {
             "fill": {
              "color": "#C8D4E3"
             },
             "line": {
              "color": "white"
             }
            },
            "type": "table"
           }
          ]
         },
         "layout": {
          "annotationdefaults": {
           "arrowcolor": "#2a3f5f",
           "arrowhead": 0,
           "arrowwidth": 1
          },
          "autotypenumbers": "strict",
          "coloraxis": {
           "colorbar": {
            "outlinewidth": 0,
            "ticks": ""
           }
          },
          "colorscale": {
           "diverging": [
            [
             0,
             "#8e0152"
            ],
            [
             0.1,
             "#c51b7d"
            ],
            [
             0.2,
             "#de77ae"
            ],
            [
             0.3,
             "#f1b6da"
            ],
            [
             0.4,
             "#fde0ef"
            ],
            [
             0.5,
             "#f7f7f7"
            ],
            [
             0.6,
             "#e6f5d0"
            ],
            [
             0.7,
             "#b8e186"
            ],
            [
             0.8,
             "#7fbc41"
            ],
            [
             0.9,
             "#4d9221"
            ],
            [
             1,
             "#276419"
            ]
           ],
           "sequential": [
            [
             0,
             "#0d0887"
            ],
            [
             0.1111111111111111,
             "#46039f"
            ],
            [
             0.2222222222222222,
             "#7201a8"
            ],
            [
             0.3333333333333333,
             "#9c179e"
            ],
            [
             0.4444444444444444,
             "#bd3786"
            ],
            [
             0.5555555555555556,
             "#d8576b"
            ],
            [
             0.6666666666666666,
             "#ed7953"
            ],
            [
             0.7777777777777778,
             "#fb9f3a"
            ],
            [
             0.8888888888888888,
             "#fdca26"
            ],
            [
             1,
             "#f0f921"
            ]
           ],
           "sequentialminus": [
            [
             0,
             "#0d0887"
            ],
            [
             0.1111111111111111,
             "#46039f"
            ],
            [
             0.2222222222222222,
             "#7201a8"
            ],
            [
             0.3333333333333333,
             "#9c179e"
            ],
            [
             0.4444444444444444,
             "#bd3786"
            ],
            [
             0.5555555555555556,
             "#d8576b"
            ],
            [
             0.6666666666666666,
             "#ed7953"
            ],
            [
             0.7777777777777778,
             "#fb9f3a"
            ],
            [
             0.8888888888888888,
             "#fdca26"
            ],
            [
             1,
             "#f0f921"
            ]
           ]
          },
          "colorway": [
           "#636efa",
           "#EF553B",
           "#00cc96",
           "#ab63fa",
           "#FFA15A",
           "#19d3f3",
           "#FF6692",
           "#B6E880",
           "#FF97FF",
           "#FECB52"
          ],
          "font": {
           "color": "#2a3f5f"
          },
          "geo": {
           "bgcolor": "white",
           "lakecolor": "white",
           "landcolor": "#E5ECF6",
           "showlakes": true,
           "showland": true,
           "subunitcolor": "white"
          },
          "hoverlabel": {
           "align": "left"
          },
          "hovermode": "closest",
          "mapbox": {
           "style": "light"
          },
          "paper_bgcolor": "white",
          "plot_bgcolor": "#E5ECF6",
          "polar": {
           "angularaxis": {
            "gridcolor": "white",
            "linecolor": "white",
            "ticks": ""
           },
           "bgcolor": "#E5ECF6",
           "radialaxis": {
            "gridcolor": "white",
            "linecolor": "white",
            "ticks": ""
           }
          },
          "scene": {
           "xaxis": {
            "backgroundcolor": "#E5ECF6",
            "gridcolor": "white",
            "gridwidth": 2,
            "linecolor": "white",
            "showbackground": true,
            "ticks": "",
            "zerolinecolor": "white"
           },
           "yaxis": {
            "backgroundcolor": "#E5ECF6",
            "gridcolor": "white",
            "gridwidth": 2,
            "linecolor": "white",
            "showbackground": true,
            "ticks": "",
            "zerolinecolor": "white"
           },
           "zaxis": {
            "backgroundcolor": "#E5ECF6",
            "gridcolor": "white",
            "gridwidth": 2,
            "linecolor": "white",
            "showbackground": true,
            "ticks": "",
            "zerolinecolor": "white"
           }
          },
          "shapedefaults": {
           "line": {
            "color": "#2a3f5f"
           }
          },
          "ternary": {
           "aaxis": {
            "gridcolor": "white",
            "linecolor": "white",
            "ticks": ""
           },
           "baxis": {
            "gridcolor": "white",
            "linecolor": "white",
            "ticks": ""
           },
           "bgcolor": "#E5ECF6",
           "caxis": {
            "gridcolor": "white",
            "linecolor": "white",
            "ticks": ""
           }
          },
          "title": {
           "x": 0.05
          },
          "xaxis": {
           "automargin": true,
           "gridcolor": "white",
           "linecolor": "white",
           "ticks": "",
           "title": {
            "standoff": 15
           },
           "zerolinecolor": "white",
           "zerolinewidth": 2
          },
          "yaxis": {
           "automargin": true,
           "gridcolor": "white",
           "linecolor": "white",
           "ticks": "",
           "title": {
            "standoff": 15
           },
           "zerolinecolor": "white",
           "zerolinewidth": 2
          }
         }
        },
        "title": {
         "font": {
          "size": 18
         },
         "text": "Most similar and different tracks from centroid 4 profile (blue) of user '22e08d5e101ab5b86dc394856d508e175a5242a6'",
         "x": 0.5,
         "y": 0.99
        },
        "width": 1200
       }
      }
     },
     "metadata": {},
     "output_type": "display_data"
    },
    {
     "name": "stdout",
     "output_type": "stream",
     "text": [
      "[\"I'm Saving My Love - Skeeter Davis\",\n",
      " 'Rain - Shel Silverstein',\n",
      " 'To Know Him Is To Love Him - The Teddy Bears',\n",
      " \"Jaden's Interlude - Will Smith\",\n",
      " 'Rejoice - Il Divo',\n",
      " 'Intro - Swell',\n",
      " 'If I was a Blackbird - Silly Wizard',\n",
      " 'Socoro - George Lopez',\n",
      " 'Aye Waukin-O - Eddi Reader',\n",
      " 'ER - George Lopez']\n"
     ]
    },
    {
     "data": {
      "application/vnd.plotly.v1+json": {
       "config": {
        "plotlyServerURL": "https://plot.ly"
       },
       "data": [
        {
         "fill": "toself",
         "line": {
          "color": "#636EFA"
         },
         "mode": "lines+markers",
         "name": "Cluster center centroid 5 profile",
         "r": [
          -1.5910597983158898,
          -1.2105370994582942,
          -0.36159372805977874,
          -0.49486933878587946,
          2.063004457043122,
          -0.45581169708484714,
          -0.44532473718331433,
          1.8810039826487777
         ],
         "subplot": "polar",
         "theta": [
          "Danceability",
          "Energy",
          "Loudness",
          "Speechiness",
          "Acousticness",
          "instrumentalness",
          "Liveness",
          "Tempo"
         ],
         "type": "scatterpolar"
        },
        {
         "fill": "toself",
         "line": {
          "color": "#EF553B"
         },
         "name": "Closest track rank 1",
         "r": [
          -1.4794691008782133,
          -1.0452794230226377,
          -0.22580798094393373,
          -0.5180776917436778,
          1.9157424180029448,
          -0.6235647960706264,
          -0.4533847574953261,
          1.8479821563069267
         ],
         "subplot": "polar",
         "theta": [
          "Danceability",
          "Energy",
          "Loudness",
          "Speechiness",
          "Acousticness",
          "instrumentalness",
          "Liveness",
          "Tempo"
         ],
         "type": "scatterpolar"
        },
        {
         "fill": "toself",
         "line": {
          "color": "#636EFA"
         },
         "mode": "lines+markers",
         "name": "Cluster center centroid 5 profile",
         "r": [
          -1.5910597983158898,
          -1.2105370994582942,
          -0.36159372805977874,
          -0.49486933878587946,
          2.063004457043122,
          -0.45581169708484714,
          -0.44532473718331433,
          1.8810039826487777
         ],
         "showlegend": false,
         "subplot": "polar2",
         "theta": [
          "Danceability",
          "Energy",
          "Loudness",
          "Speechiness",
          "Acousticness",
          "instrumentalness",
          "Liveness",
          "Tempo"
         ],
         "type": "scatterpolar"
        },
        {
         "fill": "toself",
         "line": {
          "color": "#B6E880"
         },
         "name": "Furthest track rank 1",
         "r": [
          1.7962442756125294,
          -1.7509241185879552,
          -3.8273796111062994,
          8.391865906340753,
          -0.48696237972183476,
          -0.6235690916720154,
          0.18582482754746282,
          -2.7584953825345813
         ],
         "subplot": "polar2",
         "theta": [
          "Danceability",
          "Energy",
          "Loudness",
          "Speechiness",
          "Acousticness",
          "instrumentalness",
          "Liveness",
          "Tempo"
         ],
         "type": "scatterpolar"
        },
        {
         "fill": "toself",
         "line": {
          "color": "#636EFA"
         },
         "mode": "lines+markers",
         "name": "Cluster center centroid 5 profile",
         "r": [
          -1.5910597983158898,
          -1.2105370994582942,
          -0.36159372805977874,
          -0.49486933878587946,
          2.063004457043122,
          -0.45581169708484714,
          -0.44532473718331433,
          1.8810039826487777
         ],
         "showlegend": false,
         "subplot": "polar3",
         "theta": [
          "Danceability",
          "Energy",
          "Loudness",
          "Speechiness",
          "Acousticness",
          "instrumentalness",
          "Liveness",
          "Tempo"
         ],
         "type": "scatterpolar"
        },
        {
         "fill": "toself",
         "line": {
          "color": "#EF553B"
         },
         "name": "Closest track rank 2",
         "r": [
          -1.2446910090478187,
          -1.2177703486052707,
          -0.2780242425485877,
          -0.5019911314221532,
          1.9095578496690329,
          -0.6235611402396571,
          -0.4853452367474656,
          1.7491660726897758
         ],
         "subplot": "polar3",
         "theta": [
          "Danceability",
          "Energy",
          "Loudness",
          "Speechiness",
          "Acousticness",
          "instrumentalness",
          "Liveness",
          "Tempo"
         ],
         "type": "scatterpolar"
        },
        {
         "fill": "toself",
         "line": {
          "color": "#636EFA"
         },
         "mode": "lines+markers",
         "name": "Cluster center centroid 5 profile",
         "r": [
          -1.5910597983158898,
          -1.2105370994582942,
          -0.36159372805977874,
          -0.49486933878587946,
          2.063004457043122,
          -0.45581169708484714,
          -0.44532473718331433,
          1.8810039826487777
         ],
         "showlegend": false,
         "subplot": "polar4",
         "theta": [
          "Danceability",
          "Energy",
          "Loudness",
          "Speechiness",
          "Acousticness",
          "instrumentalness",
          "Liveness",
          "Tempo"
         ],
         "type": "scatterpolar"
        },
        {
         "fill": "toself",
         "line": {
          "color": "#B6E880"
         },
         "name": "Furthest track rank 2",
         "r": [
          1.0527803181496134,
          -1.8606910712314484,
          -2.8141140518642684,
          8.502461008551235,
          1.7796819146568825,
          -0.6235690916720154,
          3.6908240521987556,
          -2.3667530739111062
         ],
         "subplot": "polar4",
         "theta": [
          "Danceability",
          "Energy",
          "Loudness",
          "Speechiness",
          "Acousticness",
          "instrumentalness",
          "Liveness",
          "Tempo"
         ],
         "type": "scatterpolar"
        },
        {
         "fill": "toself",
         "line": {
          "color": "#636EFA"
         },
         "mode": "lines+markers",
         "name": "Cluster center centroid 5 profile",
         "r": [
          -1.5910597983158898,
          -1.2105370994582942,
          -0.36159372805977874,
          -0.49486933878587946,
          2.063004457043122,
          -0.45581169708484714,
          -0.44532473718331433,
          1.8810039826487777
         ],
         "showlegend": false,
         "subplot": "polar5",
         "theta": [
          "Danceability",
          "Energy",
          "Loudness",
          "Speechiness",
          "Acousticness",
          "instrumentalness",
          "Liveness",
          "Tempo"
         ],
         "type": "scatterpolar"
        },
        {
         "fill": "toself",
         "line": {
          "color": "#EF553B"
         },
         "name": "Closest track rank 3",
         "r": [
          -1.686297419871656,
          -1.374580280953119,
          -0.21477954638088198,
          -0.4356340700958643,
          2.1693097196933335,
          -0.6124492724737246,
          -0.09649273917976892,
          1.6963024583539008
         ],
         "subplot": "polar5",
         "theta": [
          "Danceability",
          "Energy",
          "Loudness",
          "Speechiness",
          "Acousticness",
          "instrumentalness",
          "Liveness",
          "Tempo"
         ],
         "type": "scatterpolar"
        },
        {
         "fill": "toself",
         "line": {
          "color": "#636EFA"
         },
         "mode": "lines+markers",
         "name": "Cluster center centroid 5 profile",
         "r": [
          -1.5910597983158898,
          -1.2105370994582942,
          -0.36159372805977874,
          -0.49486933878587946,
          2.063004457043122,
          -0.45581169708484714,
          -0.44532473718331433,
          1.8810039826487777
         ],
         "showlegend": false,
         "subplot": "polar6",
         "theta": [
          "Danceability",
          "Energy",
          "Loudness",
          "Speechiness",
          "Acousticness",
          "instrumentalness",
          "Liveness",
          "Tempo"
         ],
         "type": "scatterpolar"
        },
        {
         "fill": "toself",
         "line": {
          "color": "#B6E880"
         },
         "name": "Furthest track rank 3",
         "r": [
          1.6397255477255994,
          -1.8998935543184103,
          -4.23880774133607,
          8.442136407345517,
          1.8013279038255745,
          -0.6235690916720154,
          1.7305813247342028,
          -2.330469562374479
         ],
         "subplot": "polar6",
         "theta": [
          "Danceability",
          "Energy",
          "Loudness",
          "Speechiness",
          "Acousticness",
          "instrumentalness",
          "Liveness",
          "Tempo"
         ],
         "type": "scatterpolar"
        },
        {
         "fill": "toself",
         "line": {
          "color": "#636EFA"
         },
         "mode": "lines+markers",
         "name": "Cluster center centroid 5 profile",
         "r": [
          -1.5910597983158898,
          -1.2105370994582942,
          -0.36159372805977874,
          -0.49486933878587946,
          2.063004457043122,
          -0.45581169708484714,
          -0.44532473718331433,
          1.8810039826487777
         ],
         "showlegend": false,
         "subplot": "polar7",
         "theta": [
          "Danceability",
          "Energy",
          "Loudness",
          "Speechiness",
          "Acousticness",
          "instrumentalness",
          "Liveness",
          "Tempo"
         ],
         "type": "scatterpolar"
        },
        {
         "fill": "toself",
         "line": {
          "color": "#EF553B"
         },
         "name": "Closest track rank 4",
         "r": [
          -1.2614608727499899,
          -1.4647459920531316,
          -0.6329597794043588,
          -0.49998031138196264,
          1.9435729755055489,
          -0.41000763254867767,
          -0.5439394487097218,
          1.8480818362836762
         ],
         "subplot": "polar7",
         "theta": [
          "Danceability",
          "Energy",
          "Loudness",
          "Speechiness",
          "Acousticness",
          "instrumentalness",
          "Liveness",
          "Tempo"
         ],
         "type": "scatterpolar"
        },
        {
         "fill": "toself",
         "line": {
          "color": "#636EFA"
         },
         "mode": "lines+markers",
         "name": "Cluster center centroid 5 profile",
         "r": [
          -1.5910597983158898,
          -1.2105370994582942,
          -0.36159372805977874,
          -0.49486933878587946,
          2.063004457043122,
          -0.45581169708484714,
          -0.44532473718331433,
          1.8810039826487777
         ],
         "showlegend": false,
         "subplot": "polar8",
         "theta": [
          "Danceability",
          "Energy",
          "Loudness",
          "Speechiness",
          "Acousticness",
          "instrumentalness",
          "Liveness",
          "Tempo"
         ],
         "type": "scatterpolar"
        },
        {
         "fill": "toself",
         "line": {
          "color": "#B6E880"
         },
         "name": "Furthest track rank 4",
         "r": [
          0.16397754193454842,
          -0.9276719737617518,
          -2.0171408521139287,
          8.542677409355047,
          1.7178362313177633,
          -0.6235690916720154,
          3.9997753516361034,
          -2.1845713030728944
         ],
         "subplot": "polar8",
         "theta": [
          "Danceability",
          "Energy",
          "Loudness",
          "Speechiness",
          "Acousticness",
          "instrumentalness",
          "Liveness",
          "Tempo"
         ],
         "type": "scatterpolar"
        },
        {
         "fill": "toself",
         "line": {
          "color": "#636EFA"
         },
         "mode": "lines+markers",
         "name": "Cluster center centroid 5 profile",
         "r": [
          -1.5910597983158898,
          -1.2105370994582942,
          -0.36159372805977874,
          -0.49486933878587946,
          2.063004457043122,
          -0.45581169708484714,
          -0.44532473718331433,
          1.8810039826487777
         ],
         "showlegend": false,
         "subplot": "polar9",
         "theta": [
          "Danceability",
          "Energy",
          "Loudness",
          "Speechiness",
          "Acousticness",
          "instrumentalness",
          "Liveness",
          "Tempo"
         ],
         "type": "scatterpolar"
        },
        {
         "fill": "toself",
         "line": {
          "color": "#EF553B"
         },
         "name": "Closest track rank 5",
         "r": [
          -1.546548555686898,
          -1.6803596490314232,
          -0.1963237987447546,
          -0.4356340700958643,
          1.9683112488411965,
          -0.6235647046748523,
          -0.5332859556256747,
          2.0059084661362214
         ],
         "subplot": "polar9",
         "theta": [
          "Danceability",
          "Energy",
          "Loudness",
          "Speechiness",
          "Acousticness",
          "instrumentalness",
          "Liveness",
          "Tempo"
         ],
         "type": "scatterpolar"
        },
        {
         "fill": "toself",
         "line": {
          "color": "#636EFA"
         },
         "mode": "lines+markers",
         "name": "Cluster center centroid 5 profile",
         "r": [
          -1.5910597983158898,
          -1.2105370994582942,
          -0.36159372805977874,
          -0.49486933878587946,
          2.063004457043122,
          -0.45581169708484714,
          -0.44532473718331433,
          1.8810039826487777
         ],
         "showlegend": false,
         "subplot": "polar10",
         "theta": [
          "Danceability",
          "Energy",
          "Loudness",
          "Speechiness",
          "Acousticness",
          "instrumentalness",
          "Liveness",
          "Tempo"
         ],
         "type": "scatterpolar"
        },
        {
         "fill": "toself",
         "line": {
          "color": "#B6E880"
         },
         "name": "Furthest track rank 5",
         "r": [
          -0.28880877802407023,
          0.04454960679490772,
          -1.435559731482786,
          8.794029914378868,
          1.7982356196586182,
          -0.6235690916720154,
          3.7973589830392207,
          -1.909587473881386
         ],
         "subplot": "polar10",
         "theta": [
          "Danceability",
          "Energy",
          "Loudness",
          "Speechiness",
          "Acousticness",
          "instrumentalness",
          "Liveness",
          "Tempo"
         ],
         "type": "scatterpolar"
        }
       ],
       "layout": {
        "annotations": [
         {
          "font": {
           "size": 16
          },
          "showarrow": false,
          "text": "I'm Saving My Love - Skeeter Davis",
          "x": 0.25,
          "xanchor": "center",
          "xref": "paper",
          "y": 1.03,
          "yanchor": "bottom",
          "yref": "paper"
         },
         {
          "font": {
           "size": 16
          },
          "showarrow": false,
          "text": "Rain - Shel Silverstein",
          "x": 0.75,
          "xanchor": "center",
          "xref": "paper",
          "y": 1.03,
          "yanchor": "bottom",
          "yref": "paper"
         },
         {
          "font": {
           "size": 16
          },
          "showarrow": false,
          "text": "To Know Him Is To Love Him - The Teddy Bears",
          "x": 0.25,
          "xanchor": "center",
          "xref": "paper",
          "y": 0.82,
          "yanchor": "bottom",
          "yref": "paper"
         },
         {
          "font": {
           "size": 16
          },
          "showarrow": false,
          "text": "Jaden's Interlude - Will Smith",
          "x": 0.75,
          "xanchor": "center",
          "xref": "paper",
          "y": 0.82,
          "yanchor": "bottom",
          "yref": "paper"
         },
         {
          "font": {
           "size": 16
          },
          "showarrow": false,
          "text": "Rejoice - Il Divo",
          "x": 0.25,
          "xanchor": "center",
          "xref": "paper",
          "y": 0.6,
          "yanchor": "bottom",
          "yref": "paper"
         },
         {
          "font": {
           "size": 16
          },
          "showarrow": false,
          "text": "Intro - Swell",
          "x": 0.75,
          "xanchor": "center",
          "xref": "paper",
          "y": 0.6,
          "yanchor": "bottom",
          "yref": "paper"
         },
         {
          "font": {
           "size": 16
          },
          "showarrow": false,
          "text": "If I was a Blackbird - Silly Wizard",
          "x": 0.25,
          "xanchor": "center",
          "xref": "paper",
          "y": 0.38,
          "yanchor": "bottom",
          "yref": "paper"
         },
         {
          "font": {
           "size": 16
          },
          "showarrow": false,
          "text": "Socoro - George Lopez",
          "x": 0.75,
          "xanchor": "center",
          "xref": "paper",
          "y": 0.38,
          "yanchor": "bottom",
          "yref": "paper"
         },
         {
          "font": {
           "size": 16
          },
          "showarrow": false,
          "text": "Aye Waukin-O - Eddi Reader",
          "x": 0.25,
          "xanchor": "center",
          "xref": "paper",
          "y": 0.16,
          "yanchor": "bottom",
          "yref": "paper"
         },
         {
          "font": {
           "size": 16
          },
          "showarrow": false,
          "text": "ER - George Lopez",
          "x": 0.75,
          "xanchor": "center",
          "xref": "paper",
          "y": 0.16,
          "yanchor": "bottom",
          "yref": "paper"
         },
         {
          "font": {
           "color": "black",
           "size": 20
          },
          "showarrow": false,
          "text": "Closest tracks from centroid 5",
          "x": 0.12,
          "y": 1.09
         },
         {
          "font": {
           "color": "black",
           "size": 22
          },
          "showarrow": false,
          "text": "Furthest tracks from centroid 5",
          "x": 0.9,
          "y": 1.09
         },
         {
          "font": {
           "color": "black",
           "size": 22
          },
          "showarrow": false,
          "text": "Rank",
          "x": 0.005,
          "y": 1.09
         },
         {
          "font": {
           "color": "black",
           "size": 22
          },
          "showarrow": false,
          "text": "1",
          "x": 0.02,
          "y": 1.05
         },
         {
          "font": {
           "color": "black",
           "size": 22
          },
          "showarrow": false,
          "text": "2",
          "x": 0.02,
          "y": 0.84
         },
         {
          "font": {
           "color": "black",
           "size": 22
          },
          "showarrow": false,
          "text": "3",
          "x": 0.02,
          "y": 0.608
         },
         {
          "font": {
           "color": "black",
           "size": 22
          },
          "showarrow": false,
          "text": "4",
          "x": 0.02,
          "y": 0.389
         },
         {
          "font": {
           "color": "black",
           "size": 22
          },
          "showarrow": false,
          "text": "5",
          "x": 0.02,
          "y": 0.159
         }
        ],
        "height": 1600,
        "margin": {
         "b": 50,
         "l": 50,
         "r": 50,
         "t": 200
        },
        "polar": {
         "domain": {
          "x": [
           0,
           0.5
          ],
          "y": [
           0.88,
           1
          ]
         },
         "radialaxis": {
          "range": [
           -1.686297419871656,
           2.1693097196933335
          ],
          "showticklabels": false,
          "ticks": ""
         }
        },
        "polar10": {
         "domain": {
          "x": [
           0.5,
           1
          ],
          "y": [
           0,
           0.12
          ]
         },
         "radialaxis": {
          "range": [
           -4.23880774133607,
           8.794029914378868
          ],
          "showticklabels": false,
          "ticks": ""
         }
        },
        "polar2": {
         "domain": {
          "x": [
           0.5,
           1
          ],
          "y": [
           0.88,
           1
          ]
         },
         "radialaxis": {
          "range": [
           -4.23880774133607,
           8.794029914378868
          ],
          "showticklabels": false,
          "ticks": ""
         }
        },
        "polar3": {
         "domain": {
          "x": [
           0,
           0.5
          ],
          "y": [
           0.66,
           0.78
          ]
         },
         "radialaxis": {
          "range": [
           -1.686297419871656,
           2.1693097196933335
          ],
          "showticklabels": false,
          "ticks": ""
         }
        },
        "polar4": {
         "domain": {
          "x": [
           0.5,
           1
          ],
          "y": [
           0.66,
           0.78
          ]
         },
         "radialaxis": {
          "range": [
           -4.23880774133607,
           8.794029914378868
          ],
          "showticklabels": false,
          "ticks": ""
         }
        },
        "polar5": {
         "domain": {
          "x": [
           0,
           0.5
          ],
          "y": [
           0.44,
           0.56
          ]
         },
         "radialaxis": {
          "range": [
           -1.686297419871656,
           2.1693097196933335
          ],
          "showticklabels": false,
          "ticks": ""
         }
        },
        "polar6": {
         "domain": {
          "x": [
           0.5,
           1
          ],
          "y": [
           0.44,
           0.56
          ]
         },
         "radialaxis": {
          "range": [
           -4.23880774133607,
           8.794029914378868
          ],
          "showticklabels": false,
          "ticks": ""
         }
        },
        "polar7": {
         "domain": {
          "x": [
           0,
           0.5
          ],
          "y": [
           0.22,
           0.33999999999999997
          ]
         },
         "radialaxis": {
          "range": [
           -1.686297419871656,
           2.1693097196933335
          ],
          "showticklabels": false,
          "ticks": ""
         }
        },
        "polar8": {
         "domain": {
          "x": [
           0.5,
           1
          ],
          "y": [
           0.22,
           0.33999999999999997
          ]
         },
         "radialaxis": {
          "range": [
           -4.23880774133607,
           8.794029914378868
          ],
          "showticklabels": false,
          "ticks": ""
         }
        },
        "polar9": {
         "domain": {
          "x": [
           0,
           0.5
          ],
          "y": [
           0,
           0.12
          ]
         },
         "radialaxis": {
          "range": [
           -1.686297419871656,
           2.1693097196933335
          ],
          "showticklabels": false,
          "ticks": ""
         }
        },
        "showlegend": false,
        "template": {
         "data": {
          "bar": [
           {
            "error_x": {
             "color": "#2a3f5f"
            },
            "error_y": {
             "color": "#2a3f5f"
            },
            "marker": {
             "line": {
              "color": "#E5ECF6",
              "width": 0.5
             },
             "pattern": {
              "fillmode": "overlay",
              "size": 10,
              "solidity": 0.2
             }
            },
            "type": "bar"
           }
          ],
          "barpolar": [
           {
            "marker": {
             "line": {
              "color": "#E5ECF6",
              "width": 0.5
             },
             "pattern": {
              "fillmode": "overlay",
              "size": 10,
              "solidity": 0.2
             }
            },
            "type": "barpolar"
           }
          ],
          "carpet": [
           {
            "aaxis": {
             "endlinecolor": "#2a3f5f",
             "gridcolor": "white",
             "linecolor": "white",
             "minorgridcolor": "white",
             "startlinecolor": "#2a3f5f"
            },
            "baxis": {
             "endlinecolor": "#2a3f5f",
             "gridcolor": "white",
             "linecolor": "white",
             "minorgridcolor": "white",
             "startlinecolor": "#2a3f5f"
            },
            "type": "carpet"
           }
          ],
          "choropleth": [
           {
            "colorbar": {
             "outlinewidth": 0,
             "ticks": ""
            },
            "type": "choropleth"
           }
          ],
          "contour": [
           {
            "colorbar": {
             "outlinewidth": 0,
             "ticks": ""
            },
            "colorscale": [
             [
              0,
              "#0d0887"
             ],
             [
              0.1111111111111111,
              "#46039f"
             ],
             [
              0.2222222222222222,
              "#7201a8"
             ],
             [
              0.3333333333333333,
              "#9c179e"
             ],
             [
              0.4444444444444444,
              "#bd3786"
             ],
             [
              0.5555555555555556,
              "#d8576b"
             ],
             [
              0.6666666666666666,
              "#ed7953"
             ],
             [
              0.7777777777777778,
              "#fb9f3a"
             ],
             [
              0.8888888888888888,
              "#fdca26"
             ],
             [
              1,
              "#f0f921"
             ]
            ],
            "type": "contour"
           }
          ],
          "contourcarpet": [
           {
            "colorbar": {
             "outlinewidth": 0,
             "ticks": ""
            },
            "type": "contourcarpet"
           }
          ],
          "heatmap": [
           {
            "colorbar": {
             "outlinewidth": 0,
             "ticks": ""
            },
            "colorscale": [
             [
              0,
              "#0d0887"
             ],
             [
              0.1111111111111111,
              "#46039f"
             ],
             [
              0.2222222222222222,
              "#7201a8"
             ],
             [
              0.3333333333333333,
              "#9c179e"
             ],
             [
              0.4444444444444444,
              "#bd3786"
             ],
             [
              0.5555555555555556,
              "#d8576b"
             ],
             [
              0.6666666666666666,
              "#ed7953"
             ],
             [
              0.7777777777777778,
              "#fb9f3a"
             ],
             [
              0.8888888888888888,
              "#fdca26"
             ],
             [
              1,
              "#f0f921"
             ]
            ],
            "type": "heatmap"
           }
          ],
          "heatmapgl": [
           {
            "colorbar": {
             "outlinewidth": 0,
             "ticks": ""
            },
            "colorscale": [
             [
              0,
              "#0d0887"
             ],
             [
              0.1111111111111111,
              "#46039f"
             ],
             [
              0.2222222222222222,
              "#7201a8"
             ],
             [
              0.3333333333333333,
              "#9c179e"
             ],
             [
              0.4444444444444444,
              "#bd3786"
             ],
             [
              0.5555555555555556,
              "#d8576b"
             ],
             [
              0.6666666666666666,
              "#ed7953"
             ],
             [
              0.7777777777777778,
              "#fb9f3a"
             ],
             [
              0.8888888888888888,
              "#fdca26"
             ],
             [
              1,
              "#f0f921"
             ]
            ],
            "type": "heatmapgl"
           }
          ],
          "histogram": [
           {
            "marker": {
             "pattern": {
              "fillmode": "overlay",
              "size": 10,
              "solidity": 0.2
             }
            },
            "type": "histogram"
           }
          ],
          "histogram2d": [
           {
            "colorbar": {
             "outlinewidth": 0,
             "ticks": ""
            },
            "colorscale": [
             [
              0,
              "#0d0887"
             ],
             [
              0.1111111111111111,
              "#46039f"
             ],
             [
              0.2222222222222222,
              "#7201a8"
             ],
             [
              0.3333333333333333,
              "#9c179e"
             ],
             [
              0.4444444444444444,
              "#bd3786"
             ],
             [
              0.5555555555555556,
              "#d8576b"
             ],
             [
              0.6666666666666666,
              "#ed7953"
             ],
             [
              0.7777777777777778,
              "#fb9f3a"
             ],
             [
              0.8888888888888888,
              "#fdca26"
             ],
             [
              1,
              "#f0f921"
             ]
            ],
            "type": "histogram2d"
           }
          ],
          "histogram2dcontour": [
           {
            "colorbar": {
             "outlinewidth": 0,
             "ticks": ""
            },
            "colorscale": [
             [
              0,
              "#0d0887"
             ],
             [
              0.1111111111111111,
              "#46039f"
             ],
             [
              0.2222222222222222,
              "#7201a8"
             ],
             [
              0.3333333333333333,
              "#9c179e"
             ],
             [
              0.4444444444444444,
              "#bd3786"
             ],
             [
              0.5555555555555556,
              "#d8576b"
             ],
             [
              0.6666666666666666,
              "#ed7953"
             ],
             [
              0.7777777777777778,
              "#fb9f3a"
             ],
             [
              0.8888888888888888,
              "#fdca26"
             ],
             [
              1,
              "#f0f921"
             ]
            ],
            "type": "histogram2dcontour"
           }
          ],
          "mesh3d": [
           {
            "colorbar": {
             "outlinewidth": 0,
             "ticks": ""
            },
            "type": "mesh3d"
           }
          ],
          "parcoords": [
           {
            "line": {
             "colorbar": {
              "outlinewidth": 0,
              "ticks": ""
             }
            },
            "type": "parcoords"
           }
          ],
          "pie": [
           {
            "automargin": true,
            "type": "pie"
           }
          ],
          "scatter": [
           {
            "fillpattern": {
             "fillmode": "overlay",
             "size": 10,
             "solidity": 0.2
            },
            "type": "scatter"
           }
          ],
          "scatter3d": [
           {
            "line": {
             "colorbar": {
              "outlinewidth": 0,
              "ticks": ""
             }
            },
            "marker": {
             "colorbar": {
              "outlinewidth": 0,
              "ticks": ""
             }
            },
            "type": "scatter3d"
           }
          ],
          "scattercarpet": [
           {
            "marker": {
             "colorbar": {
              "outlinewidth": 0,
              "ticks": ""
             }
            },
            "type": "scattercarpet"
           }
          ],
          "scattergeo": [
           {
            "marker": {
             "colorbar": {
              "outlinewidth": 0,
              "ticks": ""
             }
            },
            "type": "scattergeo"
           }
          ],
          "scattergl": [
           {
            "marker": {
             "colorbar": {
              "outlinewidth": 0,
              "ticks": ""
             }
            },
            "type": "scattergl"
           }
          ],
          "scattermapbox": [
           {
            "marker": {
             "colorbar": {
              "outlinewidth": 0,
              "ticks": ""
             }
            },
            "type": "scattermapbox"
           }
          ],
          "scatterpolar": [
           {
            "marker": {
             "colorbar": {
              "outlinewidth": 0,
              "ticks": ""
             }
            },
            "type": "scatterpolar"
           }
          ],
          "scatterpolargl": [
           {
            "marker": {
             "colorbar": {
              "outlinewidth": 0,
              "ticks": ""
             }
            },
            "type": "scatterpolargl"
           }
          ],
          "scatterternary": [
           {
            "marker": {
             "colorbar": {
              "outlinewidth": 0,
              "ticks": ""
             }
            },
            "type": "scatterternary"
           }
          ],
          "surface": [
           {
            "colorbar": {
             "outlinewidth": 0,
             "ticks": ""
            },
            "colorscale": [
             [
              0,
              "#0d0887"
             ],
             [
              0.1111111111111111,
              "#46039f"
             ],
             [
              0.2222222222222222,
              "#7201a8"
             ],
             [
              0.3333333333333333,
              "#9c179e"
             ],
             [
              0.4444444444444444,
              "#bd3786"
             ],
             [
              0.5555555555555556,
              "#d8576b"
             ],
             [
              0.6666666666666666,
              "#ed7953"
             ],
             [
              0.7777777777777778,
              "#fb9f3a"
             ],
             [
              0.8888888888888888,
              "#fdca26"
             ],
             [
              1,
              "#f0f921"
             ]
            ],
            "type": "surface"
           }
          ],
          "table": [
           {
            "cells": {
             "fill": {
              "color": "#EBF0F8"
             },
             "line": {
              "color": "white"
             }
            },
            "header": {
             "fill": {
              "color": "#C8D4E3"
             },
             "line": {
              "color": "white"
             }
            },
            "type": "table"
           }
          ]
         },
         "layout": {
          "annotationdefaults": {
           "arrowcolor": "#2a3f5f",
           "arrowhead": 0,
           "arrowwidth": 1
          },
          "autotypenumbers": "strict",
          "coloraxis": {
           "colorbar": {
            "outlinewidth": 0,
            "ticks": ""
           }
          },
          "colorscale": {
           "diverging": [
            [
             0,
             "#8e0152"
            ],
            [
             0.1,
             "#c51b7d"
            ],
            [
             0.2,
             "#de77ae"
            ],
            [
             0.3,
             "#f1b6da"
            ],
            [
             0.4,
             "#fde0ef"
            ],
            [
             0.5,
             "#f7f7f7"
            ],
            [
             0.6,
             "#e6f5d0"
            ],
            [
             0.7,
             "#b8e186"
            ],
            [
             0.8,
             "#7fbc41"
            ],
            [
             0.9,
             "#4d9221"
            ],
            [
             1,
             "#276419"
            ]
           ],
           "sequential": [
            [
             0,
             "#0d0887"
            ],
            [
             0.1111111111111111,
             "#46039f"
            ],
            [
             0.2222222222222222,
             "#7201a8"
            ],
            [
             0.3333333333333333,
             "#9c179e"
            ],
            [
             0.4444444444444444,
             "#bd3786"
            ],
            [
             0.5555555555555556,
             "#d8576b"
            ],
            [
             0.6666666666666666,
             "#ed7953"
            ],
            [
             0.7777777777777778,
             "#fb9f3a"
            ],
            [
             0.8888888888888888,
             "#fdca26"
            ],
            [
             1,
             "#f0f921"
            ]
           ],
           "sequentialminus": [
            [
             0,
             "#0d0887"
            ],
            [
             0.1111111111111111,
             "#46039f"
            ],
            [
             0.2222222222222222,
             "#7201a8"
            ],
            [
             0.3333333333333333,
             "#9c179e"
            ],
            [
             0.4444444444444444,
             "#bd3786"
            ],
            [
             0.5555555555555556,
             "#d8576b"
            ],
            [
             0.6666666666666666,
             "#ed7953"
            ],
            [
             0.7777777777777778,
             "#fb9f3a"
            ],
            [
             0.8888888888888888,
             "#fdca26"
            ],
            [
             1,
             "#f0f921"
            ]
           ]
          },
          "colorway": [
           "#636efa",
           "#EF553B",
           "#00cc96",
           "#ab63fa",
           "#FFA15A",
           "#19d3f3",
           "#FF6692",
           "#B6E880",
           "#FF97FF",
           "#FECB52"
          ],
          "font": {
           "color": "#2a3f5f"
          },
          "geo": {
           "bgcolor": "white",
           "lakecolor": "white",
           "landcolor": "#E5ECF6",
           "showlakes": true,
           "showland": true,
           "subunitcolor": "white"
          },
          "hoverlabel": {
           "align": "left"
          },
          "hovermode": "closest",
          "mapbox": {
           "style": "light"
          },
          "paper_bgcolor": "white",
          "plot_bgcolor": "#E5ECF6",
          "polar": {
           "angularaxis": {
            "gridcolor": "white",
            "linecolor": "white",
            "ticks": ""
           },
           "bgcolor": "#E5ECF6",
           "radialaxis": {
            "gridcolor": "white",
            "linecolor": "white",
            "ticks": ""
           }
          },
          "scene": {
           "xaxis": {
            "backgroundcolor": "#E5ECF6",
            "gridcolor": "white",
            "gridwidth": 2,
            "linecolor": "white",
            "showbackground": true,
            "ticks": "",
            "zerolinecolor": "white"
           },
           "yaxis": {
            "backgroundcolor": "#E5ECF6",
            "gridcolor": "white",
            "gridwidth": 2,
            "linecolor": "white",
            "showbackground": true,
            "ticks": "",
            "zerolinecolor": "white"
           },
           "zaxis": {
            "backgroundcolor": "#E5ECF6",
            "gridcolor": "white",
            "gridwidth": 2,
            "linecolor": "white",
            "showbackground": true,
            "ticks": "",
            "zerolinecolor": "white"
           }
          },
          "shapedefaults": {
           "line": {
            "color": "#2a3f5f"
           }
          },
          "ternary": {
           "aaxis": {
            "gridcolor": "white",
            "linecolor": "white",
            "ticks": ""
           },
           "baxis": {
            "gridcolor": "white",
            "linecolor": "white",
            "ticks": ""
           },
           "bgcolor": "#E5ECF6",
           "caxis": {
            "gridcolor": "white",
            "linecolor": "white",
            "ticks": ""
           }
          },
          "title": {
           "x": 0.05
          },
          "xaxis": {
           "automargin": true,
           "gridcolor": "white",
           "linecolor": "white",
           "ticks": "",
           "title": {
            "standoff": 15
           },
           "zerolinecolor": "white",
           "zerolinewidth": 2
          },
          "yaxis": {
           "automargin": true,
           "gridcolor": "white",
           "linecolor": "white",
           "ticks": "",
           "title": {
            "standoff": 15
           },
           "zerolinecolor": "white",
           "zerolinewidth": 2
          }
         }
        },
        "title": {
         "font": {
          "size": 18
         },
         "text": "Most similar and different tracks from centroid 5 profile (blue) of user '22e08d5e101ab5b86dc394856d508e175a5242a6'",
         "x": 0.5,
         "y": 0.99
        },
        "width": 1200
       }
      }
     },
     "metadata": {},
     "output_type": "display_data"
    },
    {
     "name": "stdout",
     "output_type": "stream",
     "text": [
      "['Hacked To Pieces - Six Feet Under',\n",
      " 'Introduction - Paul Horn',\n",
      " 'Debaser - Pixies',\n",
      " '(Kanji) Ooioo - OOIOO',\n",
      " 'Silent Violence - Six Feet Under',\n",
      " 'Intro - Swell',\n",
      " 'Musicatto - Kansas',\n",
      " 'Rain - Shel Silverstein',\n",
      " 'Nick The Stripper - The Birthday Party',\n",
      " 'Out Take 3 - Brad Paisley']\n"
     ]
    },
    {
     "data": {
      "application/vnd.plotly.v1+json": {
       "config": {
        "plotlyServerURL": "https://plot.ly"
       },
       "data": [
        {
         "fill": "toself",
         "line": {
          "color": "#636EFA"
         },
         "mode": "lines+markers",
         "name": "Cluster center centroid 6 profile",
         "r": [
          -1.520498367576224,
          1.3737183665611117,
          1.052226981832541,
          0.34863373919683815,
          -0.8306920911109378,
          2.425310752616799,
          3.927371747313992,
          0.4056640200145195
         ],
         "subplot": "polar",
         "theta": [
          "Danceability",
          "Energy",
          "Loudness",
          "Speechiness",
          "Acousticness",
          "instrumentalness",
          "Liveness",
          "Tempo"
         ],
         "type": "scatterpolar"
        },
        {
         "fill": "toself",
         "line": {
          "color": "#EF553B"
         },
         "name": "Closest track rank 1",
         "r": [
          -1.540958601119507,
          1.3421517969733516,
          0.6879765971375061,
          0.26815294397083633,
          -0.8475783747039046,
          2.100024980457285,
          4.100983535934545,
          0.07291435702007971
         ],
         "subplot": "polar",
         "theta": [
          "Danceability",
          "Energy",
          "Loudness",
          "Speechiness",
          "Acousticness",
          "instrumentalness",
          "Liveness",
          "Tempo"
         ],
         "type": "scatterpolar"
        },
        {
         "fill": "toself",
         "line": {
          "color": "#636EFA"
         },
         "mode": "lines+markers",
         "name": "Cluster center centroid 6 profile",
         "r": [
          -1.520498367576224,
          1.3737183665611117,
          1.052226981832541,
          0.34863373919683815,
          -0.8306920911109378,
          2.425310752616799,
          3.927371747313992,
          0.4056640200145195
         ],
         "showlegend": false,
         "subplot": "polar2",
         "theta": [
          "Danceability",
          "Energy",
          "Loudness",
          "Speechiness",
          "Acousticness",
          "instrumentalness",
          "Liveness",
          "Tempo"
         ],
         "type": "scatterpolar"
        },
        {
         "fill": "toself",
         "line": {
          "color": "#B6E880"
         },
         "name": "Furthest track rank 1",
         "r": [
          -0.037260822491504184,
          -2.2378189585280235,
          -6.096761360070624,
          7.607646090666429,
          2.197140277195937,
          -0.6235690916720154,
          -0.3202160939447451,
          -0.8655393974126123
         ],
         "subplot": "polar2",
         "theta": [
          "Danceability",
          "Energy",
          "Loudness",
          "Speechiness",
          "Acousticness",
          "instrumentalness",
          "Liveness",
          "Tempo"
         ],
         "type": "scatterpolar"
        },
        {
         "fill": "toself",
         "line": {
          "color": "#636EFA"
         },
         "mode": "lines+markers",
         "name": "Cluster center centroid 6 profile",
         "r": [
          -1.520498367576224,
          1.3737183665611117,
          1.052226981832541,
          0.34863373919683815,
          -0.8306920911109378,
          2.425310752616799,
          3.927371747313992,
          0.4056640200145195
         ],
         "showlegend": false,
         "subplot": "polar3",
         "theta": [
          "Danceability",
          "Energy",
          "Loudness",
          "Speechiness",
          "Acousticness",
          "instrumentalness",
          "Liveness",
          "Tempo"
         ],
         "type": "scatterpolar"
        },
        {
         "fill": "toself",
         "line": {
          "color": "#EF553B"
         },
         "name": "Closest track rank 2",
         "r": [
          -1.2446910090478187,
          1.2794278240342123,
          1.0597923909775402,
          0.15454161170006905,
          -0.8468547802088365,
          1.633906531871398,
          3.8666066880855223,
          0.3799619120658414
         ],
         "subplot": "polar3",
         "theta": [
          "Danceability",
          "Energy",
          "Loudness",
          "Speechiness",
          "Acousticness",
          "instrumentalness",
          "Liveness",
          "Tempo"
         ],
         "type": "scatterpolar"
        },
        {
         "fill": "toself",
         "line": {
          "color": "#636EFA"
         },
         "mode": "lines+markers",
         "name": "Cluster center centroid 6 profile",
         "r": [
          -1.520498367576224,
          1.3737183665611117,
          1.052226981832541,
          0.34863373919683815,
          -0.8306920911109378,
          2.425310752616799,
          3.927371747313992,
          0.4056640200145195
         ],
         "showlegend": false,
         "subplot": "polar4",
         "theta": [
          "Danceability",
          "Energy",
          "Loudness",
          "Speechiness",
          "Acousticness",
          "instrumentalness",
          "Liveness",
          "Tempo"
         ],
         "type": "scatterpolar"
        },
        {
         "fill": "toself",
         "line": {
          "color": "#B6E880"
         },
         "name": "Furthest track rank 2",
         "r": [
          -2.854597924456238,
          -2.4412798457493565,
          -8.00310504882673,
          -0.7975816773301675,
          1.105563966260484,
          2.237118641806075,
          -0.5918801675879304,
          -4.040645696797743
         ],
         "subplot": "polar4",
         "theta": [
          "Danceability",
          "Energy",
          "Loudness",
          "Speechiness",
          "Acousticness",
          "instrumentalness",
          "Liveness",
          "Tempo"
         ],
         "type": "scatterpolar"
        },
        {
         "fill": "toself",
         "line": {
          "color": "#636EFA"
         },
         "mode": "lines+markers",
         "name": "Cluster center centroid 6 profile",
         "r": [
          -1.520498367576224,
          1.3737183665611117,
          1.052226981832541,
          0.34863373919683815,
          -0.8306920911109378,
          2.425310752616799,
          3.927371747313992,
          0.4056640200145195
         ],
         "showlegend": false,
         "subplot": "polar5",
         "theta": [
          "Danceability",
          "Energy",
          "Loudness",
          "Speechiness",
          "Acousticness",
          "instrumentalness",
          "Liveness",
          "Tempo"
         ],
         "type": "scatterpolar"
        },
        {
         "fill": "toself",
         "line": {
          "color": "#EF553B"
         },
         "name": "Closest track rank 3",
         "r": [
          -1.0602225083239372,
          1.232384844329858,
          0.3987615274737991,
          0.32847754517655264,
          -0.8486309882343361,
          2.1122110836882886,
          4.042389323972289,
          0.30171313031789565
         ],
         "subplot": "polar5",
         "theta": [
          "Danceability",
          "Energy",
          "Loudness",
          "Speechiness",
          "Acousticness",
          "instrumentalness",
          "Liveness",
          "Tempo"
         ],
         "type": "scatterpolar"
        },
        {
         "fill": "toself",
         "line": {
          "color": "#636EFA"
         },
         "mode": "lines+markers",
         "name": "Cluster center centroid 6 profile",
         "r": [
          -1.520498367576224,
          1.3737183665611117,
          1.052226981832541,
          0.34863373919683815,
          -0.8306920911109378,
          2.425310752616799,
          3.927371747313992,
          0.4056640200145195
         ],
         "showlegend": false,
         "subplot": "polar6",
         "theta": [
          "Danceability",
          "Energy",
          "Loudness",
          "Speechiness",
          "Acousticness",
          "instrumentalness",
          "Liveness",
          "Tempo"
         ],
         "type": "scatterpolar"
        },
        {
         "fill": "toself",
         "line": {
          "color": "#B6E880"
         },
         "name": "Furthest track rank 3",
         "r": [
          1.6397255477255994,
          -1.8998935543184103,
          -4.23880774133607,
          8.442136407345517,
          1.8013279038255745,
          -0.6235690916720154,
          1.7305813247342028,
          -2.330469562374479
         ],
         "subplot": "polar6",
         "theta": [
          "Danceability",
          "Energy",
          "Loudness",
          "Speechiness",
          "Acousticness",
          "instrumentalness",
          "Liveness",
          "Tempo"
         ],
         "type": "scatterpolar"
        },
        {
         "fill": "toself",
         "line": {
          "color": "#636EFA"
         },
         "mode": "lines+markers",
         "name": "Cluster center centroid 6 profile",
         "r": [
          -1.520498367576224,
          1.3737183665611117,
          1.052226981832541,
          0.34863373919683815,
          -0.8306920911109378,
          2.425310752616799,
          3.927371747313992,
          0.4056640200145195
         ],
         "showlegend": false,
         "subplot": "polar7",
         "theta": [
          "Danceability",
          "Energy",
          "Loudness",
          "Speechiness",
          "Acousticness",
          "instrumentalness",
          "Liveness",
          "Tempo"
         ],
         "type": "scatterpolar"
        },
        {
         "fill": "toself",
         "line": {
          "color": "#EF553B"
         },
         "name": "Closest track rank 4",
         "r": [
          -1.7757366929499014,
          1.1186976433776683,
          0.7750787231763033,
          -0.17020582479070864,
          -0.440578117217495,
          2.194467280497563,
          4.015755591262173,
          0.9129507477426165
         ],
         "subplot": "polar7",
         "theta": [
          "Danceability",
          "Energy",
          "Loudness",
          "Speechiness",
          "Acousticness",
          "instrumentalness",
          "Liveness",
          "Tempo"
         ],
         "type": "scatterpolar"
        },
        {
         "fill": "toself",
         "line": {
          "color": "#636EFA"
         },
         "mode": "lines+markers",
         "name": "Cluster center centroid 6 profile",
         "r": [
          -1.520498367576224,
          1.3737183665611117,
          1.052226981832541,
          0.34863373919683815,
          -0.8306920911109378,
          2.425310752616799,
          3.927371747313992,
          0.4056640200145195
         ],
         "showlegend": false,
         "subplot": "polar8",
         "theta": [
          "Danceability",
          "Energy",
          "Loudness",
          "Speechiness",
          "Acousticness",
          "instrumentalness",
          "Liveness",
          "Tempo"
         ],
         "type": "scatterpolar"
        },
        {
         "fill": "toself",
         "line": {
          "color": "#B6E880"
         },
         "name": "Furthest track rank 4",
         "r": [
          1.7962442756125294,
          -1.7509241185879552,
          -3.8273796111062994,
          8.391865906340753,
          -0.48696237972183476,
          -0.6235690916720154,
          0.18582482754746282,
          -2.7584953825345813
         ],
         "subplot": "polar8",
         "theta": [
          "Danceability",
          "Energy",
          "Loudness",
          "Speechiness",
          "Acousticness",
          "instrumentalness",
          "Liveness",
          "Tempo"
         ],
         "type": "scatterpolar"
        },
        {
         "fill": "toself",
         "line": {
          "color": "#636EFA"
         },
         "mode": "lines+markers",
         "name": "Cluster center centroid 6 profile",
         "r": [
          -1.520498367576224,
          1.3737183665611117,
          1.052226981832541,
          0.34863373919683815,
          -0.8306920911109378,
          2.425310752616799,
          3.927371747313992,
          0.4056640200145195
         ],
         "showlegend": false,
         "subplot": "polar9",
         "theta": [
          "Danceability",
          "Energy",
          "Loudness",
          "Speechiness",
          "Acousticness",
          "instrumentalness",
          "Liveness",
          "Tempo"
         ],
         "type": "scatterpolar"
        },
        {
         "fill": "toself",
         "line": {
          "color": "#EF553B"
         },
         "name": "Closest track rank 5",
         "r": [
          -1.3676700095304062,
          1.1579001264646303,
          0.41474150408556826,
          0.2782070441717892,
          -0.8463600147421236,
          2.0390944643022673,
          3.520368162854012,
          -0.05753350588541352
         ],
         "subplot": "polar9",
         "theta": [
          "Danceability",
          "Energy",
          "Loudness",
          "Speechiness",
          "Acousticness",
          "instrumentalness",
          "Liveness",
          "Tempo"
         ],
         "type": "scatterpolar"
        },
        {
         "fill": "toself",
         "line": {
          "color": "#636EFA"
         },
         "mode": "lines+markers",
         "name": "Cluster center centroid 6 profile",
         "r": [
          -1.520498367576224,
          1.3737183665611117,
          1.052226981832541,
          0.34863373919683815,
          -0.8306920911109378,
          2.425310752616799,
          3.927371747313992,
          0.4056640200145195
         ],
         "showlegend": false,
         "subplot": "polar10",
         "theta": [
          "Danceability",
          "Energy",
          "Loudness",
          "Speechiness",
          "Acousticness",
          "instrumentalness",
          "Liveness",
          "Tempo"
         ],
         "type": "scatterpolar"
        },
        {
         "fill": "toself",
         "line": {
          "color": "#B6E880"
         },
         "name": "Furthest track rank 5",
         "r": [
          0.7676926352127056,
          -2.3213202475032526,
          -3.249624682058256,
          8.62311021096267,
          0.7592281395614167,
          -0.6235690916720154,
          0.06863640362295098,
          -1.6308158055734168
         ],
         "subplot": "polar10",
         "theta": [
          "Danceability",
          "Energy",
          "Loudness",
          "Speechiness",
          "Acousticness",
          "instrumentalness",
          "Liveness",
          "Tempo"
         ],
         "type": "scatterpolar"
        }
       ],
       "layout": {
        "annotations": [
         {
          "font": {
           "size": 16
          },
          "showarrow": false,
          "text": "Hacked To Pieces - Six Feet Under",
          "x": 0.25,
          "xanchor": "center",
          "xref": "paper",
          "y": 1.03,
          "yanchor": "bottom",
          "yref": "paper"
         },
         {
          "font": {
           "size": 16
          },
          "showarrow": false,
          "text": "Introduction - Paul Horn",
          "x": 0.75,
          "xanchor": "center",
          "xref": "paper",
          "y": 1.03,
          "yanchor": "bottom",
          "yref": "paper"
         },
         {
          "font": {
           "size": 16
          },
          "showarrow": false,
          "text": "Debaser - Pixies",
          "x": 0.25,
          "xanchor": "center",
          "xref": "paper",
          "y": 0.82,
          "yanchor": "bottom",
          "yref": "paper"
         },
         {
          "font": {
           "size": 16
          },
          "showarrow": false,
          "text": "(Kanji) Ooioo - OOIOO",
          "x": 0.75,
          "xanchor": "center",
          "xref": "paper",
          "y": 0.82,
          "yanchor": "bottom",
          "yref": "paper"
         },
         {
          "font": {
           "size": 16
          },
          "showarrow": false,
          "text": "Silent Violence - Six Feet Under",
          "x": 0.25,
          "xanchor": "center",
          "xref": "paper",
          "y": 0.6,
          "yanchor": "bottom",
          "yref": "paper"
         },
         {
          "font": {
           "size": 16
          },
          "showarrow": false,
          "text": "Intro - Swell",
          "x": 0.75,
          "xanchor": "center",
          "xref": "paper",
          "y": 0.6,
          "yanchor": "bottom",
          "yref": "paper"
         },
         {
          "font": {
           "size": 16
          },
          "showarrow": false,
          "text": "Musicatto - Kansas",
          "x": 0.25,
          "xanchor": "center",
          "xref": "paper",
          "y": 0.38,
          "yanchor": "bottom",
          "yref": "paper"
         },
         {
          "font": {
           "size": 16
          },
          "showarrow": false,
          "text": "Rain - Shel Silverstein",
          "x": 0.75,
          "xanchor": "center",
          "xref": "paper",
          "y": 0.38,
          "yanchor": "bottom",
          "yref": "paper"
         },
         {
          "font": {
           "size": 16
          },
          "showarrow": false,
          "text": "Nick The Stripper - The Birthday Party",
          "x": 0.25,
          "xanchor": "center",
          "xref": "paper",
          "y": 0.16,
          "yanchor": "bottom",
          "yref": "paper"
         },
         {
          "font": {
           "size": 16
          },
          "showarrow": false,
          "text": "Out Take 3 - Brad Paisley",
          "x": 0.75,
          "xanchor": "center",
          "xref": "paper",
          "y": 0.16,
          "yanchor": "bottom",
          "yref": "paper"
         },
         {
          "font": {
           "color": "black",
           "size": 20
          },
          "showarrow": false,
          "text": "Closest tracks from centroid 6",
          "x": 0.12,
          "y": 1.09
         },
         {
          "font": {
           "color": "black",
           "size": 22
          },
          "showarrow": false,
          "text": "Furthest tracks from centroid 6",
          "x": 0.9,
          "y": 1.09
         },
         {
          "font": {
           "color": "black",
           "size": 22
          },
          "showarrow": false,
          "text": "Rank",
          "x": 0.005,
          "y": 1.09
         },
         {
          "font": {
           "color": "black",
           "size": 22
          },
          "showarrow": false,
          "text": "1",
          "x": 0.02,
          "y": 1.05
         },
         {
          "font": {
           "color": "black",
           "size": 22
          },
          "showarrow": false,
          "text": "2",
          "x": 0.02,
          "y": 0.84
         },
         {
          "font": {
           "color": "black",
           "size": 22
          },
          "showarrow": false,
          "text": "3",
          "x": 0.02,
          "y": 0.608
         },
         {
          "font": {
           "color": "black",
           "size": 22
          },
          "showarrow": false,
          "text": "4",
          "x": 0.02,
          "y": 0.389
         },
         {
          "font": {
           "color": "black",
           "size": 22
          },
          "showarrow": false,
          "text": "5",
          "x": 0.02,
          "y": 0.159
         }
        ],
        "height": 1600,
        "margin": {
         "b": 50,
         "l": 50,
         "r": 50,
         "t": 200
        },
        "polar": {
         "domain": {
          "x": [
           0,
           0.5
          ],
          "y": [
           0.88,
           1
          ]
         },
         "radialaxis": {
          "range": [
           -1.7757366929499014,
           4.100983535934545
          ],
          "showticklabels": false,
          "ticks": ""
         }
        },
        "polar10": {
         "domain": {
          "x": [
           0.5,
           1
          ],
          "y": [
           0,
           0.12
          ]
         },
         "radialaxis": {
          "range": [
           -8.00310504882673,
           8.62311021096267
          ],
          "showticklabels": false,
          "ticks": ""
         }
        },
        "polar2": {
         "domain": {
          "x": [
           0.5,
           1
          ],
          "y": [
           0.88,
           1
          ]
         },
         "radialaxis": {
          "range": [
           -8.00310504882673,
           8.62311021096267
          ],
          "showticklabels": false,
          "ticks": ""
         }
        },
        "polar3": {
         "domain": {
          "x": [
           0,
           0.5
          ],
          "y": [
           0.66,
           0.78
          ]
         },
         "radialaxis": {
          "range": [
           -1.7757366929499014,
           4.100983535934545
          ],
          "showticklabels": false,
          "ticks": ""
         }
        },
        "polar4": {
         "domain": {
          "x": [
           0.5,
           1
          ],
          "y": [
           0.66,
           0.78
          ]
         },
         "radialaxis": {
          "range": [
           -8.00310504882673,
           8.62311021096267
          ],
          "showticklabels": false,
          "ticks": ""
         }
        },
        "polar5": {
         "domain": {
          "x": [
           0,
           0.5
          ],
          "y": [
           0.44,
           0.56
          ]
         },
         "radialaxis": {
          "range": [
           -1.7757366929499014,
           4.100983535934545
          ],
          "showticklabels": false,
          "ticks": ""
         }
        },
        "polar6": {
         "domain": {
          "x": [
           0.5,
           1
          ],
          "y": [
           0.44,
           0.56
          ]
         },
         "radialaxis": {
          "range": [
           -8.00310504882673,
           8.62311021096267
          ],
          "showticklabels": false,
          "ticks": ""
         }
        },
        "polar7": {
         "domain": {
          "x": [
           0,
           0.5
          ],
          "y": [
           0.22,
           0.33999999999999997
          ]
         },
         "radialaxis": {
          "range": [
           -1.7757366929499014,
           4.100983535934545
          ],
          "showticklabels": false,
          "ticks": ""
         }
        },
        "polar8": {
         "domain": {
          "x": [
           0.5,
           1
          ],
          "y": [
           0.22,
           0.33999999999999997
          ]
         },
         "radialaxis": {
          "range": [
           -8.00310504882673,
           8.62311021096267
          ],
          "showticklabels": false,
          "ticks": ""
         }
        },
        "polar9": {
         "domain": {
          "x": [
           0,
           0.5
          ],
          "y": [
           0,
           0.12
          ]
         },
         "radialaxis": {
          "range": [
           -1.7757366929499014,
           4.100983535934545
          ],
          "showticklabels": false,
          "ticks": ""
         }
        },
        "showlegend": false,
        "template": {
         "data": {
          "bar": [
           {
            "error_x": {
             "color": "#2a3f5f"
            },
            "error_y": {
             "color": "#2a3f5f"
            },
            "marker": {
             "line": {
              "color": "#E5ECF6",
              "width": 0.5
             },
             "pattern": {
              "fillmode": "overlay",
              "size": 10,
              "solidity": 0.2
             }
            },
            "type": "bar"
           }
          ],
          "barpolar": [
           {
            "marker": {
             "line": {
              "color": "#E5ECF6",
              "width": 0.5
             },
             "pattern": {
              "fillmode": "overlay",
              "size": 10,
              "solidity": 0.2
             }
            },
            "type": "barpolar"
           }
          ],
          "carpet": [
           {
            "aaxis": {
             "endlinecolor": "#2a3f5f",
             "gridcolor": "white",
             "linecolor": "white",
             "minorgridcolor": "white",
             "startlinecolor": "#2a3f5f"
            },
            "baxis": {
             "endlinecolor": "#2a3f5f",
             "gridcolor": "white",
             "linecolor": "white",
             "minorgridcolor": "white",
             "startlinecolor": "#2a3f5f"
            },
            "type": "carpet"
           }
          ],
          "choropleth": [
           {
            "colorbar": {
             "outlinewidth": 0,
             "ticks": ""
            },
            "type": "choropleth"
           }
          ],
          "contour": [
           {
            "colorbar": {
             "outlinewidth": 0,
             "ticks": ""
            },
            "colorscale": [
             [
              0,
              "#0d0887"
             ],
             [
              0.1111111111111111,
              "#46039f"
             ],
             [
              0.2222222222222222,
              "#7201a8"
             ],
             [
              0.3333333333333333,
              "#9c179e"
             ],
             [
              0.4444444444444444,
              "#bd3786"
             ],
             [
              0.5555555555555556,
              "#d8576b"
             ],
             [
              0.6666666666666666,
              "#ed7953"
             ],
             [
              0.7777777777777778,
              "#fb9f3a"
             ],
             [
              0.8888888888888888,
              "#fdca26"
             ],
             [
              1,
              "#f0f921"
             ]
            ],
            "type": "contour"
           }
          ],
          "contourcarpet": [
           {
            "colorbar": {
             "outlinewidth": 0,
             "ticks": ""
            },
            "type": "contourcarpet"
           }
          ],
          "heatmap": [
           {
            "colorbar": {
             "outlinewidth": 0,
             "ticks": ""
            },
            "colorscale": [
             [
              0,
              "#0d0887"
             ],
             [
              0.1111111111111111,
              "#46039f"
             ],
             [
              0.2222222222222222,
              "#7201a8"
             ],
             [
              0.3333333333333333,
              "#9c179e"
             ],
             [
              0.4444444444444444,
              "#bd3786"
             ],
             [
              0.5555555555555556,
              "#d8576b"
             ],
             [
              0.6666666666666666,
              "#ed7953"
             ],
             [
              0.7777777777777778,
              "#fb9f3a"
             ],
             [
              0.8888888888888888,
              "#fdca26"
             ],
             [
              1,
              "#f0f921"
             ]
            ],
            "type": "heatmap"
           }
          ],
          "heatmapgl": [
           {
            "colorbar": {
             "outlinewidth": 0,
             "ticks": ""
            },
            "colorscale": [
             [
              0,
              "#0d0887"
             ],
             [
              0.1111111111111111,
              "#46039f"
             ],
             [
              0.2222222222222222,
              "#7201a8"
             ],
             [
              0.3333333333333333,
              "#9c179e"
             ],
             [
              0.4444444444444444,
              "#bd3786"
             ],
             [
              0.5555555555555556,
              "#d8576b"
             ],
             [
              0.6666666666666666,
              "#ed7953"
             ],
             [
              0.7777777777777778,
              "#fb9f3a"
             ],
             [
              0.8888888888888888,
              "#fdca26"
             ],
             [
              1,
              "#f0f921"
             ]
            ],
            "type": "heatmapgl"
           }
          ],
          "histogram": [
           {
            "marker": {
             "pattern": {
              "fillmode": "overlay",
              "size": 10,
              "solidity": 0.2
             }
            },
            "type": "histogram"
           }
          ],
          "histogram2d": [
           {
            "colorbar": {
             "outlinewidth": 0,
             "ticks": ""
            },
            "colorscale": [
             [
              0,
              "#0d0887"
             ],
             [
              0.1111111111111111,
              "#46039f"
             ],
             [
              0.2222222222222222,
              "#7201a8"
             ],
             [
              0.3333333333333333,
              "#9c179e"
             ],
             [
              0.4444444444444444,
              "#bd3786"
             ],
             [
              0.5555555555555556,
              "#d8576b"
             ],
             [
              0.6666666666666666,
              "#ed7953"
             ],
             [
              0.7777777777777778,
              "#fb9f3a"
             ],
             [
              0.8888888888888888,
              "#fdca26"
             ],
             [
              1,
              "#f0f921"
             ]
            ],
            "type": "histogram2d"
           }
          ],
          "histogram2dcontour": [
           {
            "colorbar": {
             "outlinewidth": 0,
             "ticks": ""
            },
            "colorscale": [
             [
              0,
              "#0d0887"
             ],
             [
              0.1111111111111111,
              "#46039f"
             ],
             [
              0.2222222222222222,
              "#7201a8"
             ],
             [
              0.3333333333333333,
              "#9c179e"
             ],
             [
              0.4444444444444444,
              "#bd3786"
             ],
             [
              0.5555555555555556,
              "#d8576b"
             ],
             [
              0.6666666666666666,
              "#ed7953"
             ],
             [
              0.7777777777777778,
              "#fb9f3a"
             ],
             [
              0.8888888888888888,
              "#fdca26"
             ],
             [
              1,
              "#f0f921"
             ]
            ],
            "type": "histogram2dcontour"
           }
          ],
          "mesh3d": [
           {
            "colorbar": {
             "outlinewidth": 0,
             "ticks": ""
            },
            "type": "mesh3d"
           }
          ],
          "parcoords": [
           {
            "line": {
             "colorbar": {
              "outlinewidth": 0,
              "ticks": ""
             }
            },
            "type": "parcoords"
           }
          ],
          "pie": [
           {
            "automargin": true,
            "type": "pie"
           }
          ],
          "scatter": [
           {
            "fillpattern": {
             "fillmode": "overlay",
             "size": 10,
             "solidity": 0.2
            },
            "type": "scatter"
           }
          ],
          "scatter3d": [
           {
            "line": {
             "colorbar": {
              "outlinewidth": 0,
              "ticks": ""
             }
            },
            "marker": {
             "colorbar": {
              "outlinewidth": 0,
              "ticks": ""
             }
            },
            "type": "scatter3d"
           }
          ],
          "scattercarpet": [
           {
            "marker": {
             "colorbar": {
              "outlinewidth": 0,
              "ticks": ""
             }
            },
            "type": "scattercarpet"
           }
          ],
          "scattergeo": [
           {
            "marker": {
             "colorbar": {
              "outlinewidth": 0,
              "ticks": ""
             }
            },
            "type": "scattergeo"
           }
          ],
          "scattergl": [
           {
            "marker": {
             "colorbar": {
              "outlinewidth": 0,
              "ticks": ""
             }
            },
            "type": "scattergl"
           }
          ],
          "scattermapbox": [
           {
            "marker": {
             "colorbar": {
              "outlinewidth": 0,
              "ticks": ""
             }
            },
            "type": "scattermapbox"
           }
          ],
          "scatterpolar": [
           {
            "marker": {
             "colorbar": {
              "outlinewidth": 0,
              "ticks": ""
             }
            },
            "type": "scatterpolar"
           }
          ],
          "scatterpolargl": [
           {
            "marker": {
             "colorbar": {
              "outlinewidth": 0,
              "ticks": ""
             }
            },
            "type": "scatterpolargl"
           }
          ],
          "scatterternary": [
           {
            "marker": {
             "colorbar": {
              "outlinewidth": 0,
              "ticks": ""
             }
            },
            "type": "scatterternary"
           }
          ],
          "surface": [
           {
            "colorbar": {
             "outlinewidth": 0,
             "ticks": ""
            },
            "colorscale": [
             [
              0,
              "#0d0887"
             ],
             [
              0.1111111111111111,
              "#46039f"
             ],
             [
              0.2222222222222222,
              "#7201a8"
             ],
             [
              0.3333333333333333,
              "#9c179e"
             ],
             [
              0.4444444444444444,
              "#bd3786"
             ],
             [
              0.5555555555555556,
              "#d8576b"
             ],
             [
              0.6666666666666666,
              "#ed7953"
             ],
             [
              0.7777777777777778,
              "#fb9f3a"
             ],
             [
              0.8888888888888888,
              "#fdca26"
             ],
             [
              1,
              "#f0f921"
             ]
            ],
            "type": "surface"
           }
          ],
          "table": [
           {
            "cells": {
             "fill": {
              "color": "#EBF0F8"
             },
             "line": {
              "color": "white"
             }
            },
            "header": {
             "fill": {
              "color": "#C8D4E3"
             },
             "line": {
              "color": "white"
             }
            },
            "type": "table"
           }
          ]
         },
         "layout": {
          "annotationdefaults": {
           "arrowcolor": "#2a3f5f",
           "arrowhead": 0,
           "arrowwidth": 1
          },
          "autotypenumbers": "strict",
          "coloraxis": {
           "colorbar": {
            "outlinewidth": 0,
            "ticks": ""
           }
          },
          "colorscale": {
           "diverging": [
            [
             0,
             "#8e0152"
            ],
            [
             0.1,
             "#c51b7d"
            ],
            [
             0.2,
             "#de77ae"
            ],
            [
             0.3,
             "#f1b6da"
            ],
            [
             0.4,
             "#fde0ef"
            ],
            [
             0.5,
             "#f7f7f7"
            ],
            [
             0.6,
             "#e6f5d0"
            ],
            [
             0.7,
             "#b8e186"
            ],
            [
             0.8,
             "#7fbc41"
            ],
            [
             0.9,
             "#4d9221"
            ],
            [
             1,
             "#276419"
            ]
           ],
           "sequential": [
            [
             0,
             "#0d0887"
            ],
            [
             0.1111111111111111,
             "#46039f"
            ],
            [
             0.2222222222222222,
             "#7201a8"
            ],
            [
             0.3333333333333333,
             "#9c179e"
            ],
            [
             0.4444444444444444,
             "#bd3786"
            ],
            [
             0.5555555555555556,
             "#d8576b"
            ],
            [
             0.6666666666666666,
             "#ed7953"
            ],
            [
             0.7777777777777778,
             "#fb9f3a"
            ],
            [
             0.8888888888888888,
             "#fdca26"
            ],
            [
             1,
             "#f0f921"
            ]
           ],
           "sequentialminus": [
            [
             0,
             "#0d0887"
            ],
            [
             0.1111111111111111,
             "#46039f"
            ],
            [
             0.2222222222222222,
             "#7201a8"
            ],
            [
             0.3333333333333333,
             "#9c179e"
            ],
            [
             0.4444444444444444,
             "#bd3786"
            ],
            [
             0.5555555555555556,
             "#d8576b"
            ],
            [
             0.6666666666666666,
             "#ed7953"
            ],
            [
             0.7777777777777778,
             "#fb9f3a"
            ],
            [
             0.8888888888888888,
             "#fdca26"
            ],
            [
             1,
             "#f0f921"
            ]
           ]
          },
          "colorway": [
           "#636efa",
           "#EF553B",
           "#00cc96",
           "#ab63fa",
           "#FFA15A",
           "#19d3f3",
           "#FF6692",
           "#B6E880",
           "#FF97FF",
           "#FECB52"
          ],
          "font": {
           "color": "#2a3f5f"
          },
          "geo": {
           "bgcolor": "white",
           "lakecolor": "white",
           "landcolor": "#E5ECF6",
           "showlakes": true,
           "showland": true,
           "subunitcolor": "white"
          },
          "hoverlabel": {
           "align": "left"
          },
          "hovermode": "closest",
          "mapbox": {
           "style": "light"
          },
          "paper_bgcolor": "white",
          "plot_bgcolor": "#E5ECF6",
          "polar": {
           "angularaxis": {
            "gridcolor": "white",
            "linecolor": "white",
            "ticks": ""
           },
           "bgcolor": "#E5ECF6",
           "radialaxis": {
            "gridcolor": "white",
            "linecolor": "white",
            "ticks": ""
           }
          },
          "scene": {
           "xaxis": {
            "backgroundcolor": "#E5ECF6",
            "gridcolor": "white",
            "gridwidth": 2,
            "linecolor": "white",
            "showbackground": true,
            "ticks": "",
            "zerolinecolor": "white"
           },
           "yaxis": {
            "backgroundcolor": "#E5ECF6",
            "gridcolor": "white",
            "gridwidth": 2,
            "linecolor": "white",
            "showbackground": true,
            "ticks": "",
            "zerolinecolor": "white"
           },
           "zaxis": {
            "backgroundcolor": "#E5ECF6",
            "gridcolor": "white",
            "gridwidth": 2,
            "linecolor": "white",
            "showbackground": true,
            "ticks": "",
            "zerolinecolor": "white"
           }
          },
          "shapedefaults": {
           "line": {
            "color": "#2a3f5f"
           }
          },
          "ternary": {
           "aaxis": {
            "gridcolor": "white",
            "linecolor": "white",
            "ticks": ""
           },
           "baxis": {
            "gridcolor": "white",
            "linecolor": "white",
            "ticks": ""
           },
           "bgcolor": "#E5ECF6",
           "caxis": {
            "gridcolor": "white",
            "linecolor": "white",
            "ticks": ""
           }
          },
          "title": {
           "x": 0.05
          },
          "xaxis": {
           "automargin": true,
           "gridcolor": "white",
           "linecolor": "white",
           "ticks": "",
           "title": {
            "standoff": 15
           },
           "zerolinecolor": "white",
           "zerolinewidth": 2
          },
          "yaxis": {
           "automargin": true,
           "gridcolor": "white",
           "linecolor": "white",
           "ticks": "",
           "title": {
            "standoff": 15
           },
           "zerolinecolor": "white",
           "zerolinewidth": 2
          }
         }
        },
        "title": {
         "font": {
          "size": 18
         },
         "text": "Most similar and different tracks from centroid 6 profile (blue) of user '22e08d5e101ab5b86dc394856d508e175a5242a6'",
         "x": 0.5,
         "y": 0.99
        },
        "width": 1200
       }
      }
     },
     "metadata": {},
     "output_type": "display_data"
    },
    {
     "name": "stdout",
     "output_type": "stream",
     "text": [
      "['Hits - Dwarves',\n",
      " 'Intro - Swell',\n",
      " 'Devoured Death - Incantation',\n",
      " \"Jaden's Interlude - Will Smith\",\n",
      " \"Moon And Sun Part II: North's Son - Amorphis\",\n",
      " 'Rain - Shel Silverstein',\n",
      " 'Running Redlights - The Life And Times',\n",
      " 'Introduction - Paul Horn',\n",
      " 'Planet Earth - J Church',\n",
      " 'Nine Stories - Lisa Loeb']\n"
     ]
    },
    {
     "data": {
      "application/vnd.plotly.v1+json": {
       "config": {
        "plotlyServerURL": "https://plot.ly"
       },
       "data": [
        {
         "fill": "toself",
         "line": {
          "color": "#636EFA"
         },
         "mode": "lines+markers",
         "name": "Cluster center centroid 7 profile",
         "r": [
          -1.8540113800566744,
          0.5450103422508074,
          0.07352088571425391,
          -0.1680695770537619,
          -0.6734582707599379,
          2.860785306331644,
          0.8883599803480164,
          1.4599496188570575
         ],
         "subplot": "polar",
         "theta": [
          "Danceability",
          "Energy",
          "Loudness",
          "Speechiness",
          "Acousticness",
          "instrumentalness",
          "Liveness",
          "Tempo"
         ],
         "type": "scatterpolar"
        },
        {
         "fill": "toself",
         "line": {
          "color": "#EF553B"
         },
         "name": "Closest track rank 1",
         "r": [
          -1.5521385102542877,
          0.5149794038384524,
          0.21375391092627602,
          -0.24460616627775983,
          -0.6994023019917086,
          1.975117422339498,
          0.8729751314684604,
          1.4011500472001839
         ],
         "subplot": "polar",
         "theta": [
          "Danceability",
          "Energy",
          "Loudness",
          "Speechiness",
          "Acousticness",
          "instrumentalness",
          "Liveness",
          "Tempo"
         ],
         "type": "scatterpolar"
        },
        {
         "fill": "toself",
         "line": {
          "color": "#636EFA"
         },
         "mode": "lines+markers",
         "name": "Cluster center centroid 7 profile",
         "r": [
          -1.8540113800566744,
          0.5450103422508074,
          0.07352088571425391,
          -0.1680695770537619,
          -0.6734582707599379,
          2.860785306331644,
          0.8883599803480164,
          1.4599496188570575
         ],
         "showlegend": false,
         "subplot": "polar2",
         "theta": [
          "Danceability",
          "Energy",
          "Loudness",
          "Speechiness",
          "Acousticness",
          "instrumentalness",
          "Liveness",
          "Tempo"
         ],
         "type": "scatterpolar"
        },
        {
         "fill": "toself",
         "line": {
          "color": "#B6E880"
         },
         "name": "Furthest track rank 1",
         "r": [
          1.6397255477255994,
          -1.8998935543184103,
          -4.23880774133607,
          8.442136407345517,
          1.8013279038255745,
          -0.6235690916720154,
          1.7305813247342028,
          -2.330469562374479
         ],
         "subplot": "polar2",
         "theta": [
          "Danceability",
          "Energy",
          "Loudness",
          "Speechiness",
          "Acousticness",
          "instrumentalness",
          "Liveness",
          "Tempo"
         ],
         "type": "scatterpolar"
        },
        {
         "fill": "toself",
         "line": {
          "color": "#636EFA"
         },
         "mode": "lines+markers",
         "name": "Cluster center centroid 7 profile",
         "r": [
          -1.8540113800566744,
          0.5450103422508074,
          0.07352088571425391,
          -0.1680695770537619,
          -0.6734582707599379,
          2.860785306331644,
          0.8883599803480164,
          1.4599496188570575
         ],
         "showlegend": false,
         "subplot": "polar3",
         "theta": [
          "Danceability",
          "Energy",
          "Loudness",
          "Speechiness",
          "Acousticness",
          "instrumentalness",
          "Liveness",
          "Tempo"
         ],
         "type": "scatterpolar"
        },
        {
         "fill": "toself",
         "line": {
          "color": "#EF553B"
         },
         "name": "Closest track rank 2",
         "r": [
          -2.0328746030498572,
          0.9697282076472122,
          0.428470779766102,
          -0.0012969414147003889,
          -0.735891255161789,
          2.328514416038602,
          1.4003230391287615,
          1.703047470113916
         ],
         "subplot": "polar3",
         "theta": [
          "Danceability",
          "Energy",
          "Loudness",
          "Speechiness",
          "Acousticness",
          "instrumentalness",
          "Liveness",
          "Tempo"
         ],
         "type": "scatterpolar"
        },
        {
         "fill": "toself",
         "line": {
          "color": "#636EFA"
         },
         "mode": "lines+markers",
         "name": "Cluster center centroid 7 profile",
         "r": [
          -1.8540113800566744,
          0.5450103422508074,
          0.07352088571425391,
          -0.1680695770537619,
          -0.6734582707599379,
          2.860785306331644,
          0.8883599803480164,
          1.4599496188570575
         ],
         "showlegend": false,
         "subplot": "polar4",
         "theta": [
          "Danceability",
          "Energy",
          "Loudness",
          "Speechiness",
          "Acousticness",
          "instrumentalness",
          "Liveness",
          "Tempo"
         ],
         "type": "scatterpolar"
        },
        {
         "fill": "toself",
         "line": {
          "color": "#B6E880"
         },
         "name": "Furthest track rank 2",
         "r": [
          1.0527803181496134,
          -1.8606910712314484,
          -2.8141140518642684,
          8.502461008551235,
          1.7796819146568825,
          -0.6235690916720154,
          3.6908240521987556,
          -2.3667530739111062
         ],
         "subplot": "polar4",
         "theta": [
          "Danceability",
          "Energy",
          "Loudness",
          "Speechiness",
          "Acousticness",
          "instrumentalness",
          "Liveness",
          "Tempo"
         ],
         "type": "scatterpolar"
        },
        {
         "fill": "toself",
         "line": {
          "color": "#636EFA"
         },
         "mode": "lines+markers",
         "name": "Cluster center centroid 7 profile",
         "r": [
          -1.8540113800566744,
          0.5450103422508074,
          0.07352088571425391,
          -0.1680695770537619,
          -0.6734582707599379,
          2.860785306331644,
          0.8883599803480164,
          1.4599496188570575
         ],
         "showlegend": false,
         "subplot": "polar5",
         "theta": [
          "Danceability",
          "Energy",
          "Loudness",
          "Speechiness",
          "Acousticness",
          "instrumentalness",
          "Liveness",
          "Tempo"
         ],
         "type": "scatterpolar"
        },
        {
         "fill": "toself",
         "line": {
          "color": "#EF553B"
         },
         "name": "Closest track rank 3",
         "r": [
          -1.4794691008782133,
          0.50713890722106,
          0.13497937833304852,
          -0.40245553943271983,
          -0.8484670971734875,
          2.0116757320325087,
          0.44150866156457835,
          1.2320263533160878
         ],
         "subplot": "polar5",
         "theta": [
          "Danceability",
          "Energy",
          "Loudness",
          "Speechiness",
          "Acousticness",
          "instrumentalness",
          "Liveness",
          "Tempo"
         ],
         "type": "scatterpolar"
        },
        {
         "fill": "toself",
         "line": {
          "color": "#636EFA"
         },
         "mode": "lines+markers",
         "name": "Cluster center centroid 7 profile",
         "r": [
          -1.8540113800566744,
          0.5450103422508074,
          0.07352088571425391,
          -0.1680695770537619,
          -0.6734582707599379,
          2.860785306331644,
          0.8883599803480164,
          1.4599496188570575
         ],
         "showlegend": false,
         "subplot": "polar6",
         "theta": [
          "Danceability",
          "Energy",
          "Loudness",
          "Speechiness",
          "Acousticness",
          "instrumentalness",
          "Liveness",
          "Tempo"
         ],
         "type": "scatterpolar"
        },
        {
         "fill": "toself",
         "line": {
          "color": "#B6E880"
         },
         "name": "Furthest track rank 3",
         "r": [
          1.7962442756125294,
          -1.7509241185879552,
          -3.8273796111062994,
          8.391865906340753,
          -0.48696237972183476,
          -0.6235690916720154,
          0.18582482754746282,
          -2.7584953825345813
         ],
         "subplot": "polar6",
         "theta": [
          "Danceability",
          "Energy",
          "Loudness",
          "Speechiness",
          "Acousticness",
          "instrumentalness",
          "Liveness",
          "Tempo"
         ],
         "type": "scatterpolar"
        },
        {
         "fill": "toself",
         "line": {
          "color": "#636EFA"
         },
         "mode": "lines+markers",
         "name": "Cluster center centroid 7 profile",
         "r": [
          -1.8540113800566744,
          0.5450103422508074,
          0.07352088571425391,
          -0.1680695770537619,
          -0.6734582707599379,
          2.860785306331644,
          0.8883599803480164,
          1.4599496188570575
         ],
         "showlegend": false,
         "subplot": "polar7",
         "theta": [
          "Danceability",
          "Energy",
          "Loudness",
          "Speechiness",
          "Acousticness",
          "instrumentalness",
          "Liveness",
          "Tempo"
         ],
         "type": "scatterpolar"
        },
        {
         "fill": "toself",
         "line": {
          "color": "#EF553B"
         },
         "name": "Closest track rank 4",
         "r": [
          -1.4962389645803842,
          1.216703851095073,
          0.39516040598382296,
          0.07611963013263667,
          -0.8463569224579569,
          2.2553977966525802,
          0.6385982836194378,
          1.3087467087538838
         ],
         "subplot": "polar7",
         "theta": [
          "Danceability",
          "Energy",
          "Loudness",
          "Speechiness",
          "Acousticness",
          "instrumentalness",
          "Liveness",
          "Tempo"
         ],
         "type": "scatterpolar"
        },
        {
         "fill": "toself",
         "line": {
          "color": "#636EFA"
         },
         "mode": "lines+markers",
         "name": "Cluster center centroid 7 profile",
         "r": [
          -1.8540113800566744,
          0.5450103422508074,
          0.07352088571425391,
          -0.1680695770537619,
          -0.6734582707599379,
          2.860785306331644,
          0.8883599803480164,
          1.4599496188570575
         ],
         "showlegend": false,
         "subplot": "polar8",
         "theta": [
          "Danceability",
          "Energy",
          "Loudness",
          "Speechiness",
          "Acousticness",
          "instrumentalness",
          "Liveness",
          "Tempo"
         ],
         "type": "scatterpolar"
        },
        {
         "fill": "toself",
         "line": {
          "color": "#B6E880"
         },
         "name": "Furthest track rank 4",
         "r": [
          -0.037260822491504184,
          -2.2378189585280235,
          -6.096761360070624,
          7.607646090666429,
          2.197140277195937,
          -0.6235690916720154,
          -0.3202160939447451,
          -0.8655393974126123
         ],
         "subplot": "polar8",
         "theta": [
          "Danceability",
          "Energy",
          "Loudness",
          "Speechiness",
          "Acousticness",
          "instrumentalness",
          "Liveness",
          "Tempo"
         ],
         "type": "scatterpolar"
        },
        {
         "fill": "toself",
         "line": {
          "color": "#636EFA"
         },
         "mode": "lines+markers",
         "name": "Cluster center centroid 7 profile",
         "r": [
          -1.8540113800566744,
          0.5450103422508074,
          0.07352088571425391,
          -0.1680695770537619,
          -0.6734582707599379,
          2.860785306331644,
          0.8883599803480164,
          1.4599496188570575
         ],
         "showlegend": false,
         "subplot": "polar9",
         "theta": [
          "Danceability",
          "Energy",
          "Loudness",
          "Speechiness",
          "Acousticness",
          "instrumentalness",
          "Liveness",
          "Tempo"
         ],
         "type": "scatterpolar"
        },
        {
         "fill": "toself",
         "line": {
          "color": "#EF553B"
         },
         "name": "Closest track rank 5",
         "r": [
          -1.0602225083239372,
          0.683550081112389,
          0.17054045304656257,
          -0.32001191778490634,
          -0.8487554217492144,
          2.2279790643828226,
          0.47879588735874107,
          1.3840715445171932
         ],
         "subplot": "polar9",
         "theta": [
          "Danceability",
          "Energy",
          "Loudness",
          "Speechiness",
          "Acousticness",
          "instrumentalness",
          "Liveness",
          "Tempo"
         ],
         "type": "scatterpolar"
        },
        {
         "fill": "toself",
         "line": {
          "color": "#636EFA"
         },
         "mode": "lines+markers",
         "name": "Cluster center centroid 7 profile",
         "r": [
          -1.8540113800566744,
          0.5450103422508074,
          0.07352088571425391,
          -0.1680695770537619,
          -0.6734582707599379,
          2.860785306331644,
          0.8883599803480164,
          1.4599496188570575
         ],
         "showlegend": false,
         "subplot": "polar10",
         "theta": [
          "Danceability",
          "Energy",
          "Loudness",
          "Speechiness",
          "Acousticness",
          "instrumentalness",
          "Liveness",
          "Tempo"
         ],
         "type": "scatterpolar"
        },
        {
         "fill": "toself",
         "line": {
          "color": "#B6E880"
         },
         "name": "Furthest track rank 5",
         "r": [
          1.8633237304212136,
          -1.0805616578009034,
          -0.6469141251780162,
          8.613056110761717,
          1.918834702169901,
          -0.6235690916720154,
          -0.19237417693618736,
          -2.3752923252526017
         ],
         "subplot": "polar10",
         "theta": [
          "Danceability",
          "Energy",
          "Loudness",
          "Speechiness",
          "Acousticness",
          "instrumentalness",
          "Liveness",
          "Tempo"
         ],
         "type": "scatterpolar"
        }
       ],
       "layout": {
        "annotations": [
         {
          "font": {
           "size": 16
          },
          "showarrow": false,
          "text": "Hits - Dwarves",
          "x": 0.25,
          "xanchor": "center",
          "xref": "paper",
          "y": 1.03,
          "yanchor": "bottom",
          "yref": "paper"
         },
         {
          "font": {
           "size": 16
          },
          "showarrow": false,
          "text": "Intro - Swell",
          "x": 0.75,
          "xanchor": "center",
          "xref": "paper",
          "y": 1.03,
          "yanchor": "bottom",
          "yref": "paper"
         },
         {
          "font": {
           "size": 16
          },
          "showarrow": false,
          "text": "Devoured Death - Incantation",
          "x": 0.25,
          "xanchor": "center",
          "xref": "paper",
          "y": 0.82,
          "yanchor": "bottom",
          "yref": "paper"
         },
         {
          "font": {
           "size": 16
          },
          "showarrow": false,
          "text": "Jaden's Interlude - Will Smith",
          "x": 0.75,
          "xanchor": "center",
          "xref": "paper",
          "y": 0.82,
          "yanchor": "bottom",
          "yref": "paper"
         },
         {
          "font": {
           "size": 16
          },
          "showarrow": false,
          "text": "Moon And Sun Part II: North's Son - Amorphis",
          "x": 0.25,
          "xanchor": "center",
          "xref": "paper",
          "y": 0.6,
          "yanchor": "bottom",
          "yref": "paper"
         },
         {
          "font": {
           "size": 16
          },
          "showarrow": false,
          "text": "Rain - Shel Silverstein",
          "x": 0.75,
          "xanchor": "center",
          "xref": "paper",
          "y": 0.6,
          "yanchor": "bottom",
          "yref": "paper"
         },
         {
          "font": {
           "size": 16
          },
          "showarrow": false,
          "text": "Running Redlights - The Life And Times",
          "x": 0.25,
          "xanchor": "center",
          "xref": "paper",
          "y": 0.38,
          "yanchor": "bottom",
          "yref": "paper"
         },
         {
          "font": {
           "size": 16
          },
          "showarrow": false,
          "text": "Introduction - Paul Horn",
          "x": 0.75,
          "xanchor": "center",
          "xref": "paper",
          "y": 0.38,
          "yanchor": "bottom",
          "yref": "paper"
         },
         {
          "font": {
           "size": 16
          },
          "showarrow": false,
          "text": "Planet Earth - J Church",
          "x": 0.25,
          "xanchor": "center",
          "xref": "paper",
          "y": 0.16,
          "yanchor": "bottom",
          "yref": "paper"
         },
         {
          "font": {
           "size": 16
          },
          "showarrow": false,
          "text": "Nine Stories - Lisa Loeb",
          "x": 0.75,
          "xanchor": "center",
          "xref": "paper",
          "y": 0.16,
          "yanchor": "bottom",
          "yref": "paper"
         },
         {
          "font": {
           "color": "black",
           "size": 20
          },
          "showarrow": false,
          "text": "Closest tracks from centroid 7",
          "x": 0.12,
          "y": 1.09
         },
         {
          "font": {
           "color": "black",
           "size": 22
          },
          "showarrow": false,
          "text": "Furthest tracks from centroid 7",
          "x": 0.9,
          "y": 1.09
         },
         {
          "font": {
           "color": "black",
           "size": 22
          },
          "showarrow": false,
          "text": "Rank",
          "x": 0.005,
          "y": 1.09
         },
         {
          "font": {
           "color": "black",
           "size": 22
          },
          "showarrow": false,
          "text": "1",
          "x": 0.02,
          "y": 1.05
         },
         {
          "font": {
           "color": "black",
           "size": 22
          },
          "showarrow": false,
          "text": "2",
          "x": 0.02,
          "y": 0.84
         },
         {
          "font": {
           "color": "black",
           "size": 22
          },
          "showarrow": false,
          "text": "3",
          "x": 0.02,
          "y": 0.608
         },
         {
          "font": {
           "color": "black",
           "size": 22
          },
          "showarrow": false,
          "text": "4",
          "x": 0.02,
          "y": 0.389
         },
         {
          "font": {
           "color": "black",
           "size": 22
          },
          "showarrow": false,
          "text": "5",
          "x": 0.02,
          "y": 0.159
         }
        ],
        "height": 1600,
        "margin": {
         "b": 50,
         "l": 50,
         "r": 50,
         "t": 200
        },
        "polar": {
         "domain": {
          "x": [
           0,
           0.5
          ],
          "y": [
           0.88,
           1
          ]
         },
         "radialaxis": {
          "range": [
           -2.0328746030498572,
           2.860785306331644
          ],
          "showticklabels": false,
          "ticks": ""
         }
        },
        "polar10": {
         "domain": {
          "x": [
           0.5,
           1
          ],
          "y": [
           0,
           0.12
          ]
         },
         "radialaxis": {
          "range": [
           -6.096761360070624,
           8.613056110761717
          ],
          "showticklabels": false,
          "ticks": ""
         }
        },
        "polar2": {
         "domain": {
          "x": [
           0.5,
           1
          ],
          "y": [
           0.88,
           1
          ]
         },
         "radialaxis": {
          "range": [
           -6.096761360070624,
           8.613056110761717
          ],
          "showticklabels": false,
          "ticks": ""
         }
        },
        "polar3": {
         "domain": {
          "x": [
           0,
           0.5
          ],
          "y": [
           0.66,
           0.78
          ]
         },
         "radialaxis": {
          "range": [
           -2.0328746030498572,
           2.860785306331644
          ],
          "showticklabels": false,
          "ticks": ""
         }
        },
        "polar4": {
         "domain": {
          "x": [
           0.5,
           1
          ],
          "y": [
           0.66,
           0.78
          ]
         },
         "radialaxis": {
          "range": [
           -6.096761360070624,
           8.613056110761717
          ],
          "showticklabels": false,
          "ticks": ""
         }
        },
        "polar5": {
         "domain": {
          "x": [
           0,
           0.5
          ],
          "y": [
           0.44,
           0.56
          ]
         },
         "radialaxis": {
          "range": [
           -2.0328746030498572,
           2.860785306331644
          ],
          "showticklabels": false,
          "ticks": ""
         }
        },
        "polar6": {
         "domain": {
          "x": [
           0.5,
           1
          ],
          "y": [
           0.44,
           0.56
          ]
         },
         "radialaxis": {
          "range": [
           -6.096761360070624,
           8.613056110761717
          ],
          "showticklabels": false,
          "ticks": ""
         }
        },
        "polar7": {
         "domain": {
          "x": [
           0,
           0.5
          ],
          "y": [
           0.22,
           0.33999999999999997
          ]
         },
         "radialaxis": {
          "range": [
           -2.0328746030498572,
           2.860785306331644
          ],
          "showticklabels": false,
          "ticks": ""
         }
        },
        "polar8": {
         "domain": {
          "x": [
           0.5,
           1
          ],
          "y": [
           0.22,
           0.33999999999999997
          ]
         },
         "radialaxis": {
          "range": [
           -6.096761360070624,
           8.613056110761717
          ],
          "showticklabels": false,
          "ticks": ""
         }
        },
        "polar9": {
         "domain": {
          "x": [
           0,
           0.5
          ],
          "y": [
           0,
           0.12
          ]
         },
         "radialaxis": {
          "range": [
           -2.0328746030498572,
           2.860785306331644
          ],
          "showticklabels": false,
          "ticks": ""
         }
        },
        "showlegend": false,
        "template": {
         "data": {
          "bar": [
           {
            "error_x": {
             "color": "#2a3f5f"
            },
            "error_y": {
             "color": "#2a3f5f"
            },
            "marker": {
             "line": {
              "color": "#E5ECF6",
              "width": 0.5
             },
             "pattern": {
              "fillmode": "overlay",
              "size": 10,
              "solidity": 0.2
             }
            },
            "type": "bar"
           }
          ],
          "barpolar": [
           {
            "marker": {
             "line": {
              "color": "#E5ECF6",
              "width": 0.5
             },
             "pattern": {
              "fillmode": "overlay",
              "size": 10,
              "solidity": 0.2
             }
            },
            "type": "barpolar"
           }
          ],
          "carpet": [
           {
            "aaxis": {
             "endlinecolor": "#2a3f5f",
             "gridcolor": "white",
             "linecolor": "white",
             "minorgridcolor": "white",
             "startlinecolor": "#2a3f5f"
            },
            "baxis": {
             "endlinecolor": "#2a3f5f",
             "gridcolor": "white",
             "linecolor": "white",
             "minorgridcolor": "white",
             "startlinecolor": "#2a3f5f"
            },
            "type": "carpet"
           }
          ],
          "choropleth": [
           {
            "colorbar": {
             "outlinewidth": 0,
             "ticks": ""
            },
            "type": "choropleth"
           }
          ],
          "contour": [
           {
            "colorbar": {
             "outlinewidth": 0,
             "ticks": ""
            },
            "colorscale": [
             [
              0,
              "#0d0887"
             ],
             [
              0.1111111111111111,
              "#46039f"
             ],
             [
              0.2222222222222222,
              "#7201a8"
             ],
             [
              0.3333333333333333,
              "#9c179e"
             ],
             [
              0.4444444444444444,
              "#bd3786"
             ],
             [
              0.5555555555555556,
              "#d8576b"
             ],
             [
              0.6666666666666666,
              "#ed7953"
             ],
             [
              0.7777777777777778,
              "#fb9f3a"
             ],
             [
              0.8888888888888888,
              "#fdca26"
             ],
             [
              1,
              "#f0f921"
             ]
            ],
            "type": "contour"
           }
          ],
          "contourcarpet": [
           {
            "colorbar": {
             "outlinewidth": 0,
             "ticks": ""
            },
            "type": "contourcarpet"
           }
          ],
          "heatmap": [
           {
            "colorbar": {
             "outlinewidth": 0,
             "ticks": ""
            },
            "colorscale": [
             [
              0,
              "#0d0887"
             ],
             [
              0.1111111111111111,
              "#46039f"
             ],
             [
              0.2222222222222222,
              "#7201a8"
             ],
             [
              0.3333333333333333,
              "#9c179e"
             ],
             [
              0.4444444444444444,
              "#bd3786"
             ],
             [
              0.5555555555555556,
              "#d8576b"
             ],
             [
              0.6666666666666666,
              "#ed7953"
             ],
             [
              0.7777777777777778,
              "#fb9f3a"
             ],
             [
              0.8888888888888888,
              "#fdca26"
             ],
             [
              1,
              "#f0f921"
             ]
            ],
            "type": "heatmap"
           }
          ],
          "heatmapgl": [
           {
            "colorbar": {
             "outlinewidth": 0,
             "ticks": ""
            },
            "colorscale": [
             [
              0,
              "#0d0887"
             ],
             [
              0.1111111111111111,
              "#46039f"
             ],
             [
              0.2222222222222222,
              "#7201a8"
             ],
             [
              0.3333333333333333,
              "#9c179e"
             ],
             [
              0.4444444444444444,
              "#bd3786"
             ],
             [
              0.5555555555555556,
              "#d8576b"
             ],
             [
              0.6666666666666666,
              "#ed7953"
             ],
             [
              0.7777777777777778,
              "#fb9f3a"
             ],
             [
              0.8888888888888888,
              "#fdca26"
             ],
             [
              1,
              "#f0f921"
             ]
            ],
            "type": "heatmapgl"
           }
          ],
          "histogram": [
           {
            "marker": {
             "pattern": {
              "fillmode": "overlay",
              "size": 10,
              "solidity": 0.2
             }
            },
            "type": "histogram"
           }
          ],
          "histogram2d": [
           {
            "colorbar": {
             "outlinewidth": 0,
             "ticks": ""
            },
            "colorscale": [
             [
              0,
              "#0d0887"
             ],
             [
              0.1111111111111111,
              "#46039f"
             ],
             [
              0.2222222222222222,
              "#7201a8"
             ],
             [
              0.3333333333333333,
              "#9c179e"
             ],
             [
              0.4444444444444444,
              "#bd3786"
             ],
             [
              0.5555555555555556,
              "#d8576b"
             ],
             [
              0.6666666666666666,
              "#ed7953"
             ],
             [
              0.7777777777777778,
              "#fb9f3a"
             ],
             [
              0.8888888888888888,
              "#fdca26"
             ],
             [
              1,
              "#f0f921"
             ]
            ],
            "type": "histogram2d"
           }
          ],
          "histogram2dcontour": [
           {
            "colorbar": {
             "outlinewidth": 0,
             "ticks": ""
            },
            "colorscale": [
             [
              0,
              "#0d0887"
             ],
             [
              0.1111111111111111,
              "#46039f"
             ],
             [
              0.2222222222222222,
              "#7201a8"
             ],
             [
              0.3333333333333333,
              "#9c179e"
             ],
             [
              0.4444444444444444,
              "#bd3786"
             ],
             [
              0.5555555555555556,
              "#d8576b"
             ],
             [
              0.6666666666666666,
              "#ed7953"
             ],
             [
              0.7777777777777778,
              "#fb9f3a"
             ],
             [
              0.8888888888888888,
              "#fdca26"
             ],
             [
              1,
              "#f0f921"
             ]
            ],
            "type": "histogram2dcontour"
           }
          ],
          "mesh3d": [
           {
            "colorbar": {
             "outlinewidth": 0,
             "ticks": ""
            },
            "type": "mesh3d"
           }
          ],
          "parcoords": [
           {
            "line": {
             "colorbar": {
              "outlinewidth": 0,
              "ticks": ""
             }
            },
            "type": "parcoords"
           }
          ],
          "pie": [
           {
            "automargin": true,
            "type": "pie"
           }
          ],
          "scatter": [
           {
            "fillpattern": {
             "fillmode": "overlay",
             "size": 10,
             "solidity": 0.2
            },
            "type": "scatter"
           }
          ],
          "scatter3d": [
           {
            "line": {
             "colorbar": {
              "outlinewidth": 0,
              "ticks": ""
             }
            },
            "marker": {
             "colorbar": {
              "outlinewidth": 0,
              "ticks": ""
             }
            },
            "type": "scatter3d"
           }
          ],
          "scattercarpet": [
           {
            "marker": {
             "colorbar": {
              "outlinewidth": 0,
              "ticks": ""
             }
            },
            "type": "scattercarpet"
           }
          ],
          "scattergeo": [
           {
            "marker": {
             "colorbar": {
              "outlinewidth": 0,
              "ticks": ""
             }
            },
            "type": "scattergeo"
           }
          ],
          "scattergl": [
           {
            "marker": {
             "colorbar": {
              "outlinewidth": 0,
              "ticks": ""
             }
            },
            "type": "scattergl"
           }
          ],
          "scattermapbox": [
           {
            "marker": {
             "colorbar": {
              "outlinewidth": 0,
              "ticks": ""
             }
            },
            "type": "scattermapbox"
           }
          ],
          "scatterpolar": [
           {
            "marker": {
             "colorbar": {
              "outlinewidth": 0,
              "ticks": ""
             }
            },
            "type": "scatterpolar"
           }
          ],
          "scatterpolargl": [
           {
            "marker": {
             "colorbar": {
              "outlinewidth": 0,
              "ticks": ""
             }
            },
            "type": "scatterpolargl"
           }
          ],
          "scatterternary": [
           {
            "marker": {
             "colorbar": {
              "outlinewidth": 0,
              "ticks": ""
             }
            },
            "type": "scatterternary"
           }
          ],
          "surface": [
           {
            "colorbar": {
             "outlinewidth": 0,
             "ticks": ""
            },
            "colorscale": [
             [
              0,
              "#0d0887"
             ],
             [
              0.1111111111111111,
              "#46039f"
             ],
             [
              0.2222222222222222,
              "#7201a8"
             ],
             [
              0.3333333333333333,
              "#9c179e"
             ],
             [
              0.4444444444444444,
              "#bd3786"
             ],
             [
              0.5555555555555556,
              "#d8576b"
             ],
             [
              0.6666666666666666,
              "#ed7953"
             ],
             [
              0.7777777777777778,
              "#fb9f3a"
             ],
             [
              0.8888888888888888,
              "#fdca26"
             ],
             [
              1,
              "#f0f921"
             ]
            ],
            "type": "surface"
           }
          ],
          "table": [
           {
            "cells": {
             "fill": {
              "color": "#EBF0F8"
             },
             "line": {
              "color": "white"
             }
            },
            "header": {
             "fill": {
              "color": "#C8D4E3"
             },
             "line": {
              "color": "white"
             }
            },
            "type": "table"
           }
          ]
         },
         "layout": {
          "annotationdefaults": {
           "arrowcolor": "#2a3f5f",
           "arrowhead": 0,
           "arrowwidth": 1
          },
          "autotypenumbers": "strict",
          "coloraxis": {
           "colorbar": {
            "outlinewidth": 0,
            "ticks": ""
           }
          },
          "colorscale": {
           "diverging": [
            [
             0,
             "#8e0152"
            ],
            [
             0.1,
             "#c51b7d"
            ],
            [
             0.2,
             "#de77ae"
            ],
            [
             0.3,
             "#f1b6da"
            ],
            [
             0.4,
             "#fde0ef"
            ],
            [
             0.5,
             "#f7f7f7"
            ],
            [
             0.6,
             "#e6f5d0"
            ],
            [
             0.7,
             "#b8e186"
            ],
            [
             0.8,
             "#7fbc41"
            ],
            [
             0.9,
             "#4d9221"
            ],
            [
             1,
             "#276419"
            ]
           ],
           "sequential": [
            [
             0,
             "#0d0887"
            ],
            [
             0.1111111111111111,
             "#46039f"
            ],
            [
             0.2222222222222222,
             "#7201a8"
            ],
            [
             0.3333333333333333,
             "#9c179e"
            ],
            [
             0.4444444444444444,
             "#bd3786"
            ],
            [
             0.5555555555555556,
             "#d8576b"
            ],
            [
             0.6666666666666666,
             "#ed7953"
            ],
            [
             0.7777777777777778,
             "#fb9f3a"
            ],
            [
             0.8888888888888888,
             "#fdca26"
            ],
            [
             1,
             "#f0f921"
            ]
           ],
           "sequentialminus": [
            [
             0,
             "#0d0887"
            ],
            [
             0.1111111111111111,
             "#46039f"
            ],
            [
             0.2222222222222222,
             "#7201a8"
            ],
            [
             0.3333333333333333,
             "#9c179e"
            ],
            [
             0.4444444444444444,
             "#bd3786"
            ],
            [
             0.5555555555555556,
             "#d8576b"
            ],
            [
             0.6666666666666666,
             "#ed7953"
            ],
            [
             0.7777777777777778,
             "#fb9f3a"
            ],
            [
             0.8888888888888888,
             "#fdca26"
            ],
            [
             1,
             "#f0f921"
            ]
           ]
          },
          "colorway": [
           "#636efa",
           "#EF553B",
           "#00cc96",
           "#ab63fa",
           "#FFA15A",
           "#19d3f3",
           "#FF6692",
           "#B6E880",
           "#FF97FF",
           "#FECB52"
          ],
          "font": {
           "color": "#2a3f5f"
          },
          "geo": {
           "bgcolor": "white",
           "lakecolor": "white",
           "landcolor": "#E5ECF6",
           "showlakes": true,
           "showland": true,
           "subunitcolor": "white"
          },
          "hoverlabel": {
           "align": "left"
          },
          "hovermode": "closest",
          "mapbox": {
           "style": "light"
          },
          "paper_bgcolor": "white",
          "plot_bgcolor": "#E5ECF6",
          "polar": {
           "angularaxis": {
            "gridcolor": "white",
            "linecolor": "white",
            "ticks": ""
           },
           "bgcolor": "#E5ECF6",
           "radialaxis": {
            "gridcolor": "white",
            "linecolor": "white",
            "ticks": ""
           }
          },
          "scene": {
           "xaxis": {
            "backgroundcolor": "#E5ECF6",
            "gridcolor": "white",
            "gridwidth": 2,
            "linecolor": "white",
            "showbackground": true,
            "ticks": "",
            "zerolinecolor": "white"
           },
           "yaxis": {
            "backgroundcolor": "#E5ECF6",
            "gridcolor": "white",
            "gridwidth": 2,
            "linecolor": "white",
            "showbackground": true,
            "ticks": "",
            "zerolinecolor": "white"
           },
           "zaxis": {
            "backgroundcolor": "#E5ECF6",
            "gridcolor": "white",
            "gridwidth": 2,
            "linecolor": "white",
            "showbackground": true,
            "ticks": "",
            "zerolinecolor": "white"
           }
          },
          "shapedefaults": {
           "line": {
            "color": "#2a3f5f"
           }
          },
          "ternary": {
           "aaxis": {
            "gridcolor": "white",
            "linecolor": "white",
            "ticks": ""
           },
           "baxis": {
            "gridcolor": "white",
            "linecolor": "white",
            "ticks": ""
           },
           "bgcolor": "#E5ECF6",
           "caxis": {
            "gridcolor": "white",
            "linecolor": "white",
            "ticks": ""
           }
          },
          "title": {
           "x": 0.05
          },
          "xaxis": {
           "automargin": true,
           "gridcolor": "white",
           "linecolor": "white",
           "ticks": "",
           "title": {
            "standoff": 15
           },
           "zerolinecolor": "white",
           "zerolinewidth": 2
          },
          "yaxis": {
           "automargin": true,
           "gridcolor": "white",
           "linecolor": "white",
           "ticks": "",
           "title": {
            "standoff": 15
           },
           "zerolinecolor": "white",
           "zerolinewidth": 2
          }
         }
        },
        "title": {
         "font": {
          "size": 18
         },
         "text": "Most similar and different tracks from centroid 7 profile (blue) of user '22e08d5e101ab5b86dc394856d508e175a5242a6'",
         "x": 0.5,
         "y": 0.99
        },
        "width": 1200
       }
      }
     },
     "metadata": {},
     "output_type": "display_data"
    },
    {
     "name": "stdout",
     "output_type": "stream",
     "text": [
      "['Incantation - Delerium',\n",
      " \"Jaden's Interlude - Will Smith\",\n",
      " 'All I Want - Younger Brother',\n",
      " 'Intro - Swell',\n",
      " 'Everything Is OK - Halou',\n",
      " 'Introduction - Paul Horn',\n",
      " 'Nothing Personal - Anna Waronker',\n",
      " 'Socoro - George Lopez',\n",
      " 'I Am You - Shpongle',\n",
      " 'Holmes Depot - George Lopez']\n"
     ]
    },
    {
     "data": {
      "application/vnd.plotly.v1+json": {
       "config": {
        "plotlyServerURL": "https://plot.ly"
       },
       "data": [
        {
         "fill": "toself",
         "line": {
          "color": "#636EFA"
         },
         "mode": "lines+markers",
         "name": "Cluster center centroid 8 profile",
         "r": [
          0.31685513754334915,
          0.37501895264869356,
          -0.2376134012932889,
          -0.37631272717994835,
          -0.8312493538330108,
          1.0683409379160795,
          0.11508830298834716,
          0.19877925244051936
         ],
         "subplot": "polar",
         "theta": [
          "Danceability",
          "Energy",
          "Loudness",
          "Speechiness",
          "Acousticness",
          "instrumentalness",
          "Liveness",
          "Tempo"
         ],
         "type": "scatterpolar"
        },
        {
         "fill": "toself",
         "line": {
          "color": "#EF553B"
         },
         "name": "Closest track rank 1",
         "r": [
          0.25900676958018437,
          0.6717893361863008,
          -0.31966220977643667,
          -0.4708234207991993,
          -0.8217330636364863,
          0.8082980379709053,
          0.3562807168922067,
          0.1131850676266661
         ],
         "subplot": "polar",
         "theta": [
          "Danceability",
          "Energy",
          "Loudness",
          "Speechiness",
          "Acousticness",
          "instrumentalness",
          "Liveness",
          "Tempo"
         ],
         "type": "scatterpolar"
        },
        {
         "fill": "toself",
         "line": {
          "color": "#636EFA"
         },
         "mode": "lines+markers",
         "name": "Cluster center centroid 8 profile",
         "r": [
          0.31685513754334915,
          0.37501895264869356,
          -0.2376134012932889,
          -0.37631272717994835,
          -0.8312493538330108,
          1.0683409379160795,
          0.11508830298834716,
          0.19877925244051936
         ],
         "showlegend": false,
         "subplot": "polar2",
         "theta": [
          "Danceability",
          "Energy",
          "Loudness",
          "Speechiness",
          "Acousticness",
          "instrumentalness",
          "Liveness",
          "Tempo"
         ],
         "type": "scatterpolar"
        },
        {
         "fill": "toself",
         "line": {
          "color": "#B6E880"
         },
         "name": "Furthest track rank 1",
         "r": [
          1.0527803181496134,
          -1.8606910712314484,
          -2.8141140518642684,
          8.502461008551235,
          1.7796819146568825,
          -0.6235690916720154,
          3.6908240521987556,
          -2.3667530739111062
         ],
         "subplot": "polar2",
         "theta": [
          "Danceability",
          "Energy",
          "Loudness",
          "Speechiness",
          "Acousticness",
          "instrumentalness",
          "Liveness",
          "Tempo"
         ],
         "type": "scatterpolar"
        },
        {
         "fill": "toself",
         "line": {
          "color": "#636EFA"
         },
         "mode": "lines+markers",
         "name": "Cluster center centroid 8 profile",
         "r": [
          0.31685513754334915,
          0.37501895264869356,
          -0.2376134012932889,
          -0.37631272717994835,
          -0.8312493538330108,
          1.0683409379160795,
          0.11508830298834716,
          0.19877925244051936
         ],
         "showlegend": false,
         "subplot": "polar3",
         "theta": [
          "Danceability",
          "Energy",
          "Loudness",
          "Speechiness",
          "Acousticness",
          "instrumentalness",
          "Liveness",
          "Tempo"
         ],
         "type": "scatterpolar"
        },
        {
         "fill": "toself",
         "line": {
          "color": "#EF553B"
         },
         "name": "Closest track rank 2",
         "r": [
          0.549684407084482,
          0.25232276715580637,
          -0.23931218653134428,
          -0.38134192901071884,
          -0.6558010952376296,
          1.463301086637348,
          0.08994338979104455,
          0.24472941027639764
         ],
         "subplot": "polar3",
         "theta": [
          "Danceability",
          "Energy",
          "Loudness",
          "Speechiness",
          "Acousticness",
          "instrumentalness",
          "Liveness",
          "Tempo"
         ],
         "type": "scatterpolar"
        },
        {
         "fill": "toself",
         "line": {
          "color": "#636EFA"
         },
         "mode": "lines+markers",
         "name": "Cluster center centroid 8 profile",
         "r": [
          0.31685513754334915,
          0.37501895264869356,
          -0.2376134012932889,
          -0.37631272717994835,
          -0.8312493538330108,
          1.0683409379160795,
          0.11508830298834716,
          0.19877925244051936
         ],
         "showlegend": false,
         "subplot": "polar4",
         "theta": [
          "Danceability",
          "Energy",
          "Loudness",
          "Speechiness",
          "Acousticness",
          "instrumentalness",
          "Liveness",
          "Tempo"
         ],
         "type": "scatterpolar"
        },
        {
         "fill": "toself",
         "line": {
          "color": "#B6E880"
         },
         "name": "Furthest track rank 2",
         "r": [
          1.6397255477255994,
          -1.8998935543184103,
          -4.23880774133607,
          8.442136407345517,
          1.8013279038255745,
          -0.6235690916720154,
          1.7305813247342028,
          -2.330469562374479
         ],
         "subplot": "polar4",
         "theta": [
          "Danceability",
          "Energy",
          "Loudness",
          "Speechiness",
          "Acousticness",
          "instrumentalness",
          "Liveness",
          "Tempo"
         ],
         "type": "scatterpolar"
        },
        {
         "fill": "toself",
         "line": {
          "color": "#636EFA"
         },
         "mode": "lines+markers",
         "name": "Cluster center centroid 8 profile",
         "r": [
          0.31685513754334915,
          0.37501895264869356,
          -0.2376134012932889,
          -0.37631272717994835,
          -0.8312493538330108,
          1.0683409379160795,
          0.11508830298834716,
          0.19877925244051936
         ],
         "showlegend": false,
         "subplot": "polar5",
         "theta": [
          "Danceability",
          "Energy",
          "Loudness",
          "Speechiness",
          "Acousticness",
          "instrumentalness",
          "Liveness",
          "Tempo"
         ],
         "type": "scatterpolar"
        },
        {
         "fill": "toself",
         "line": {
          "color": "#EF553B"
         },
         "name": "Closest track rank 3",
         "r": [
          0.3987556337649431,
          0.4992984106036676,
          -0.0869397334867299,
          -0.23053042599642584,
          -0.6527088110706737,
          1.429789302752088,
          0.004715445118672615,
          0.014535117304096448
         ],
         "subplot": "polar5",
         "theta": [
          "Danceability",
          "Energy",
          "Loudness",
          "Speechiness",
          "Acousticness",
          "instrumentalness",
          "Liveness",
          "Tempo"
         ],
         "type": "scatterpolar"
        },
        {
         "fill": "toself",
         "line": {
          "color": "#636EFA"
         },
         "mode": "lines+markers",
         "name": "Cluster center centroid 8 profile",
         "r": [
          0.31685513754334915,
          0.37501895264869356,
          -0.2376134012932889,
          -0.37631272717994835,
          -0.8312493538330108,
          1.0683409379160795,
          0.11508830298834716,
          0.19877925244051936
         ],
         "showlegend": false,
         "subplot": "polar6",
         "theta": [
          "Danceability",
          "Energy",
          "Loudness",
          "Speechiness",
          "Acousticness",
          "instrumentalness",
          "Liveness",
          "Tempo"
         ],
         "type": "scatterpolar"
        },
        {
         "fill": "toself",
         "line": {
          "color": "#B6E880"
         },
         "name": "Furthest track rank 3",
         "r": [
          -0.037260822491504184,
          -2.2378189585280235,
          -6.096761360070624,
          7.607646090666429,
          2.197140277195937,
          -0.6235690916720154,
          -0.3202160939447451,
          -0.8655393974126123
         ],
         "subplot": "polar6",
         "theta": [
          "Danceability",
          "Energy",
          "Loudness",
          "Speechiness",
          "Acousticness",
          "instrumentalness",
          "Liveness",
          "Tempo"
         ],
         "type": "scatterpolar"
        },
        {
         "fill": "toself",
         "line": {
          "color": "#636EFA"
         },
         "mode": "lines+markers",
         "name": "Cluster center centroid 8 profile",
         "r": [
          0.31685513754334915,
          0.37501895264869356,
          -0.2376134012932889,
          -0.37631272717994835,
          -0.8312493538330108,
          1.0683409379160795,
          0.11508830298834716,
          0.19877925244051936
         ],
         "showlegend": false,
         "subplot": "polar7",
         "theta": [
          "Danceability",
          "Energy",
          "Loudness",
          "Speechiness",
          "Acousticness",
          "instrumentalness",
          "Liveness",
          "Tempo"
         ],
         "type": "scatterpolar"
        },
        {
         "fill": "toself",
         "line": {
          "color": "#EF553B"
         },
         "name": "Closest track rank 4",
         "r": [
          0.4490652248714556,
          0.358169471490604,
          -0.05520485035631535,
          -0.4054717694930057,
          -0.8473773762330524,
          0.5706690249663355,
          0.1112503759591374,
          0.17957193214148423
         ],
         "subplot": "polar7",
         "theta": [
          "Danceability",
          "Energy",
          "Loudness",
          "Speechiness",
          "Acousticness",
          "instrumentalness",
          "Liveness",
          "Tempo"
         ],
         "type": "scatterpolar"
        },
        {
         "fill": "toself",
         "line": {
          "color": "#636EFA"
         },
         "mode": "lines+markers",
         "name": "Cluster center centroid 8 profile",
         "r": [
          0.31685513754334915,
          0.37501895264869356,
          -0.2376134012932889,
          -0.37631272717994835,
          -0.8312493538330108,
          1.0683409379160795,
          0.11508830298834716,
          0.19877925244051936
         ],
         "showlegend": false,
         "subplot": "polar8",
         "theta": [
          "Danceability",
          "Energy",
          "Loudness",
          "Speechiness",
          "Acousticness",
          "instrumentalness",
          "Liveness",
          "Tempo"
         ],
         "type": "scatterpolar"
        },
        {
         "fill": "toself",
         "line": {
          "color": "#B6E880"
         },
         "name": "Furthest track rank 4",
         "r": [
          0.16397754193454842,
          -0.9276719737617518,
          -2.0171408521139287,
          8.542677409355047,
          1.7178362313177633,
          -0.6235690916720154,
          3.9997753516361034,
          -2.1845713030728944
         ],
         "subplot": "polar8",
         "theta": [
          "Danceability",
          "Energy",
          "Loudness",
          "Speechiness",
          "Acousticness",
          "instrumentalness",
          "Liveness",
          "Tempo"
         ],
         "type": "scatterpolar"
        },
        {
         "fill": "toself",
         "line": {
          "color": "#636EFA"
         },
         "mode": "lines+markers",
         "name": "Cluster center centroid 8 profile",
         "r": [
          0.31685513754334915,
          0.37501895264869356,
          -0.2376134012932889,
          -0.37631272717994835,
          -0.8312493538330108,
          1.0683409379160795,
          0.11508830298834716,
          0.19877925244051936
         ],
         "showlegend": false,
         "subplot": "polar9",
         "theta": [
          "Danceability",
          "Energy",
          "Loudness",
          "Speechiness",
          "Acousticness",
          "instrumentalness",
          "Liveness",
          "Tempo"
         ],
         "type": "scatterpolar"
        },
        {
         "fill": "toself",
         "line": {
          "color": "#EF553B"
         },
         "name": "Closest track rank 5",
         "r": [
          0.4993748159779688,
          0.683550081112389,
          -0.24989048090814928,
          -0.3883797991513858,
          -0.8469475487338454,
          0.8082980379709053,
          -0.2083544165622571,
          0.11278634771967018
         ],
         "subplot": "polar9",
         "theta": [
          "Danceability",
          "Energy",
          "Loudness",
          "Speechiness",
          "Acousticness",
          "instrumentalness",
          "Liveness",
          "Tempo"
         ],
         "type": "scatterpolar"
        },
        {
         "fill": "toself",
         "line": {
          "color": "#636EFA"
         },
         "mode": "lines+markers",
         "name": "Cluster center centroid 8 profile",
         "r": [
          0.31685513754334915,
          0.37501895264869356,
          -0.2376134012932889,
          -0.37631272717994835,
          -0.8312493538330108,
          1.0683409379160795,
          0.11508830298834716,
          0.19877925244051936
         ],
         "showlegend": false,
         "subplot": "polar10",
         "theta": [
          "Danceability",
          "Energy",
          "Loudness",
          "Speechiness",
          "Acousticness",
          "instrumentalness",
          "Liveness",
          "Tempo"
         ],
         "type": "scatterpolar"
        },
        {
         "fill": "toself",
         "line": {
          "color": "#B6E880"
         },
         "name": "Furthest track rank 5",
         "r": [
          -0.6074361883653192,
          -0.2612297612833966,
          -1.5917583761104999,
          8.783975814177914,
          1.918834702169901,
          -0.6235690916720154,
          3.8346462088333833,
          -1.4840868797989244
         ],
         "subplot": "polar10",
         "theta": [
          "Danceability",
          "Energy",
          "Loudness",
          "Speechiness",
          "Acousticness",
          "instrumentalness",
          "Liveness",
          "Tempo"
         ],
         "type": "scatterpolar"
        }
       ],
       "layout": {
        "annotations": [
         {
          "font": {
           "size": 16
          },
          "showarrow": false,
          "text": "Incantation - Delerium",
          "x": 0.25,
          "xanchor": "center",
          "xref": "paper",
          "y": 1.03,
          "yanchor": "bottom",
          "yref": "paper"
         },
         {
          "font": {
           "size": 16
          },
          "showarrow": false,
          "text": "Jaden's Interlude - Will Smith",
          "x": 0.75,
          "xanchor": "center",
          "xref": "paper",
          "y": 1.03,
          "yanchor": "bottom",
          "yref": "paper"
         },
         {
          "font": {
           "size": 16
          },
          "showarrow": false,
          "text": "All I Want - Younger Brother",
          "x": 0.25,
          "xanchor": "center",
          "xref": "paper",
          "y": 0.82,
          "yanchor": "bottom",
          "yref": "paper"
         },
         {
          "font": {
           "size": 16
          },
          "showarrow": false,
          "text": "Intro - Swell",
          "x": 0.75,
          "xanchor": "center",
          "xref": "paper",
          "y": 0.82,
          "yanchor": "bottom",
          "yref": "paper"
         },
         {
          "font": {
           "size": 16
          },
          "showarrow": false,
          "text": "Everything Is OK - Halou",
          "x": 0.25,
          "xanchor": "center",
          "xref": "paper",
          "y": 0.6,
          "yanchor": "bottom",
          "yref": "paper"
         },
         {
          "font": {
           "size": 16
          },
          "showarrow": false,
          "text": "Introduction - Paul Horn",
          "x": 0.75,
          "xanchor": "center",
          "xref": "paper",
          "y": 0.6,
          "yanchor": "bottom",
          "yref": "paper"
         },
         {
          "font": {
           "size": 16
          },
          "showarrow": false,
          "text": "Nothing Personal - Anna Waronker",
          "x": 0.25,
          "xanchor": "center",
          "xref": "paper",
          "y": 0.38,
          "yanchor": "bottom",
          "yref": "paper"
         },
         {
          "font": {
           "size": 16
          },
          "showarrow": false,
          "text": "Socoro - George Lopez",
          "x": 0.75,
          "xanchor": "center",
          "xref": "paper",
          "y": 0.38,
          "yanchor": "bottom",
          "yref": "paper"
         },
         {
          "font": {
           "size": 16
          },
          "showarrow": false,
          "text": "I Am You - Shpongle",
          "x": 0.25,
          "xanchor": "center",
          "xref": "paper",
          "y": 0.16,
          "yanchor": "bottom",
          "yref": "paper"
         },
         {
          "font": {
           "size": 16
          },
          "showarrow": false,
          "text": "Holmes Depot - George Lopez",
          "x": 0.75,
          "xanchor": "center",
          "xref": "paper",
          "y": 0.16,
          "yanchor": "bottom",
          "yref": "paper"
         },
         {
          "font": {
           "color": "black",
           "size": 20
          },
          "showarrow": false,
          "text": "Closest tracks from centroid 8",
          "x": 0.12,
          "y": 1.09
         },
         {
          "font": {
           "color": "black",
           "size": 22
          },
          "showarrow": false,
          "text": "Furthest tracks from centroid 8",
          "x": 0.9,
          "y": 1.09
         },
         {
          "font": {
           "color": "black",
           "size": 22
          },
          "showarrow": false,
          "text": "Rank",
          "x": 0.005,
          "y": 1.09
         },
         {
          "font": {
           "color": "black",
           "size": 22
          },
          "showarrow": false,
          "text": "1",
          "x": 0.02,
          "y": 1.05
         },
         {
          "font": {
           "color": "black",
           "size": 22
          },
          "showarrow": false,
          "text": "2",
          "x": 0.02,
          "y": 0.84
         },
         {
          "font": {
           "color": "black",
           "size": 22
          },
          "showarrow": false,
          "text": "3",
          "x": 0.02,
          "y": 0.608
         },
         {
          "font": {
           "color": "black",
           "size": 22
          },
          "showarrow": false,
          "text": "4",
          "x": 0.02,
          "y": 0.389
         },
         {
          "font": {
           "color": "black",
           "size": 22
          },
          "showarrow": false,
          "text": "5",
          "x": 0.02,
          "y": 0.159
         }
        ],
        "height": 1600,
        "margin": {
         "b": 50,
         "l": 50,
         "r": 50,
         "t": 200
        },
        "polar": {
         "domain": {
          "x": [
           0,
           0.5
          ],
          "y": [
           0.88,
           1
          ]
         },
         "radialaxis": {
          "range": [
           -0.8473773762330524,
           1.463301086637348
          ],
          "showticklabels": false,
          "ticks": ""
         }
        },
        "polar10": {
         "domain": {
          "x": [
           0.5,
           1
          ],
          "y": [
           0,
           0.12
          ]
         },
         "radialaxis": {
          "range": [
           -6.096761360070624,
           8.783975814177914
          ],
          "showticklabels": false,
          "ticks": ""
         }
        },
        "polar2": {
         "domain": {
          "x": [
           0.5,
           1
          ],
          "y": [
           0.88,
           1
          ]
         },
         "radialaxis": {
          "range": [
           -6.096761360070624,
           8.783975814177914
          ],
          "showticklabels": false,
          "ticks": ""
         }
        },
        "polar3": {
         "domain": {
          "x": [
           0,
           0.5
          ],
          "y": [
           0.66,
           0.78
          ]
         },
         "radialaxis": {
          "range": [
           -0.8473773762330524,
           1.463301086637348
          ],
          "showticklabels": false,
          "ticks": ""
         }
        },
        "polar4": {
         "domain": {
          "x": [
           0.5,
           1
          ],
          "y": [
           0.66,
           0.78
          ]
         },
         "radialaxis": {
          "range": [
           -6.096761360070624,
           8.783975814177914
          ],
          "showticklabels": false,
          "ticks": ""
         }
        },
        "polar5": {
         "domain": {
          "x": [
           0,
           0.5
          ],
          "y": [
           0.44,
           0.56
          ]
         },
         "radialaxis": {
          "range": [
           -0.8473773762330524,
           1.463301086637348
          ],
          "showticklabels": false,
          "ticks": ""
         }
        },
        "polar6": {
         "domain": {
          "x": [
           0.5,
           1
          ],
          "y": [
           0.44,
           0.56
          ]
         },
         "radialaxis": {
          "range": [
           -6.096761360070624,
           8.783975814177914
          ],
          "showticklabels": false,
          "ticks": ""
         }
        },
        "polar7": {
         "domain": {
          "x": [
           0,
           0.5
          ],
          "y": [
           0.22,
           0.33999999999999997
          ]
         },
         "radialaxis": {
          "range": [
           -0.8473773762330524,
           1.463301086637348
          ],
          "showticklabels": false,
          "ticks": ""
         }
        },
        "polar8": {
         "domain": {
          "x": [
           0.5,
           1
          ],
          "y": [
           0.22,
           0.33999999999999997
          ]
         },
         "radialaxis": {
          "range": [
           -6.096761360070624,
           8.783975814177914
          ],
          "showticklabels": false,
          "ticks": ""
         }
        },
        "polar9": {
         "domain": {
          "x": [
           0,
           0.5
          ],
          "y": [
           0,
           0.12
          ]
         },
         "radialaxis": {
          "range": [
           -0.8473773762330524,
           1.463301086637348
          ],
          "showticklabels": false,
          "ticks": ""
         }
        },
        "showlegend": false,
        "template": {
         "data": {
          "bar": [
           {
            "error_x": {
             "color": "#2a3f5f"
            },
            "error_y": {
             "color": "#2a3f5f"
            },
            "marker": {
             "line": {
              "color": "#E5ECF6",
              "width": 0.5
             },
             "pattern": {
              "fillmode": "overlay",
              "size": 10,
              "solidity": 0.2
             }
            },
            "type": "bar"
           }
          ],
          "barpolar": [
           {
            "marker": {
             "line": {
              "color": "#E5ECF6",
              "width": 0.5
             },
             "pattern": {
              "fillmode": "overlay",
              "size": 10,
              "solidity": 0.2
             }
            },
            "type": "barpolar"
           }
          ],
          "carpet": [
           {
            "aaxis": {
             "endlinecolor": "#2a3f5f",
             "gridcolor": "white",
             "linecolor": "white",
             "minorgridcolor": "white",
             "startlinecolor": "#2a3f5f"
            },
            "baxis": {
             "endlinecolor": "#2a3f5f",
             "gridcolor": "white",
             "linecolor": "white",
             "minorgridcolor": "white",
             "startlinecolor": "#2a3f5f"
            },
            "type": "carpet"
           }
          ],
          "choropleth": [
           {
            "colorbar": {
             "outlinewidth": 0,
             "ticks": ""
            },
            "type": "choropleth"
           }
          ],
          "contour": [
           {
            "colorbar": {
             "outlinewidth": 0,
             "ticks": ""
            },
            "colorscale": [
             [
              0,
              "#0d0887"
             ],
             [
              0.1111111111111111,
              "#46039f"
             ],
             [
              0.2222222222222222,
              "#7201a8"
             ],
             [
              0.3333333333333333,
              "#9c179e"
             ],
             [
              0.4444444444444444,
              "#bd3786"
             ],
             [
              0.5555555555555556,
              "#d8576b"
             ],
             [
              0.6666666666666666,
              "#ed7953"
             ],
             [
              0.7777777777777778,
              "#fb9f3a"
             ],
             [
              0.8888888888888888,
              "#fdca26"
             ],
             [
              1,
              "#f0f921"
             ]
            ],
            "type": "contour"
           }
          ],
          "contourcarpet": [
           {
            "colorbar": {
             "outlinewidth": 0,
             "ticks": ""
            },
            "type": "contourcarpet"
           }
          ],
          "heatmap": [
           {
            "colorbar": {
             "outlinewidth": 0,
             "ticks": ""
            },
            "colorscale": [
             [
              0,
              "#0d0887"
             ],
             [
              0.1111111111111111,
              "#46039f"
             ],
             [
              0.2222222222222222,
              "#7201a8"
             ],
             [
              0.3333333333333333,
              "#9c179e"
             ],
             [
              0.4444444444444444,
              "#bd3786"
             ],
             [
              0.5555555555555556,
              "#d8576b"
             ],
             [
              0.6666666666666666,
              "#ed7953"
             ],
             [
              0.7777777777777778,
              "#fb9f3a"
             ],
             [
              0.8888888888888888,
              "#fdca26"
             ],
             [
              1,
              "#f0f921"
             ]
            ],
            "type": "heatmap"
           }
          ],
          "heatmapgl": [
           {
            "colorbar": {
             "outlinewidth": 0,
             "ticks": ""
            },
            "colorscale": [
             [
              0,
              "#0d0887"
             ],
             [
              0.1111111111111111,
              "#46039f"
             ],
             [
              0.2222222222222222,
              "#7201a8"
             ],
             [
              0.3333333333333333,
              "#9c179e"
             ],
             [
              0.4444444444444444,
              "#bd3786"
             ],
             [
              0.5555555555555556,
              "#d8576b"
             ],
             [
              0.6666666666666666,
              "#ed7953"
             ],
             [
              0.7777777777777778,
              "#fb9f3a"
             ],
             [
              0.8888888888888888,
              "#fdca26"
             ],
             [
              1,
              "#f0f921"
             ]
            ],
            "type": "heatmapgl"
           }
          ],
          "histogram": [
           {
            "marker": {
             "pattern": {
              "fillmode": "overlay",
              "size": 10,
              "solidity": 0.2
             }
            },
            "type": "histogram"
           }
          ],
          "histogram2d": [
           {
            "colorbar": {
             "outlinewidth": 0,
             "ticks": ""
            },
            "colorscale": [
             [
              0,
              "#0d0887"
             ],
             [
              0.1111111111111111,
              "#46039f"
             ],
             [
              0.2222222222222222,
              "#7201a8"
             ],
             [
              0.3333333333333333,
              "#9c179e"
             ],
             [
              0.4444444444444444,
              "#bd3786"
             ],
             [
              0.5555555555555556,
              "#d8576b"
             ],
             [
              0.6666666666666666,
              "#ed7953"
             ],
             [
              0.7777777777777778,
              "#fb9f3a"
             ],
             [
              0.8888888888888888,
              "#fdca26"
             ],
             [
              1,
              "#f0f921"
             ]
            ],
            "type": "histogram2d"
           }
          ],
          "histogram2dcontour": [
           {
            "colorbar": {
             "outlinewidth": 0,
             "ticks": ""
            },
            "colorscale": [
             [
              0,
              "#0d0887"
             ],
             [
              0.1111111111111111,
              "#46039f"
             ],
             [
              0.2222222222222222,
              "#7201a8"
             ],
             [
              0.3333333333333333,
              "#9c179e"
             ],
             [
              0.4444444444444444,
              "#bd3786"
             ],
             [
              0.5555555555555556,
              "#d8576b"
             ],
             [
              0.6666666666666666,
              "#ed7953"
             ],
             [
              0.7777777777777778,
              "#fb9f3a"
             ],
             [
              0.8888888888888888,
              "#fdca26"
             ],
             [
              1,
              "#f0f921"
             ]
            ],
            "type": "histogram2dcontour"
           }
          ],
          "mesh3d": [
           {
            "colorbar": {
             "outlinewidth": 0,
             "ticks": ""
            },
            "type": "mesh3d"
           }
          ],
          "parcoords": [
           {
            "line": {
             "colorbar": {
              "outlinewidth": 0,
              "ticks": ""
             }
            },
            "type": "parcoords"
           }
          ],
          "pie": [
           {
            "automargin": true,
            "type": "pie"
           }
          ],
          "scatter": [
           {
            "fillpattern": {
             "fillmode": "overlay",
             "size": 10,
             "solidity": 0.2
            },
            "type": "scatter"
           }
          ],
          "scatter3d": [
           {
            "line": {
             "colorbar": {
              "outlinewidth": 0,
              "ticks": ""
             }
            },
            "marker": {
             "colorbar": {
              "outlinewidth": 0,
              "ticks": ""
             }
            },
            "type": "scatter3d"
           }
          ],
          "scattercarpet": [
           {
            "marker": {
             "colorbar": {
              "outlinewidth": 0,
              "ticks": ""
             }
            },
            "type": "scattercarpet"
           }
          ],
          "scattergeo": [
           {
            "marker": {
             "colorbar": {
              "outlinewidth": 0,
              "ticks": ""
             }
            },
            "type": "scattergeo"
           }
          ],
          "scattergl": [
           {
            "marker": {
             "colorbar": {
              "outlinewidth": 0,
              "ticks": ""
             }
            },
            "type": "scattergl"
           }
          ],
          "scattermapbox": [
           {
            "marker": {
             "colorbar": {
              "outlinewidth": 0,
              "ticks": ""
             }
            },
            "type": "scattermapbox"
           }
          ],
          "scatterpolar": [
           {
            "marker": {
             "colorbar": {
              "outlinewidth": 0,
              "ticks": ""
             }
            },
            "type": "scatterpolar"
           }
          ],
          "scatterpolargl": [
           {
            "marker": {
             "colorbar": {
              "outlinewidth": 0,
              "ticks": ""
             }
            },
            "type": "scatterpolargl"
           }
          ],
          "scatterternary": [
           {
            "marker": {
             "colorbar": {
              "outlinewidth": 0,
              "ticks": ""
             }
            },
            "type": "scatterternary"
           }
          ],
          "surface": [
           {
            "colorbar": {
             "outlinewidth": 0,
             "ticks": ""
            },
            "colorscale": [
             [
              0,
              "#0d0887"
             ],
             [
              0.1111111111111111,
              "#46039f"
             ],
             [
              0.2222222222222222,
              "#7201a8"
             ],
             [
              0.3333333333333333,
              "#9c179e"
             ],
             [
              0.4444444444444444,
              "#bd3786"
             ],
             [
              0.5555555555555556,
              "#d8576b"
             ],
             [
              0.6666666666666666,
              "#ed7953"
             ],
             [
              0.7777777777777778,
              "#fb9f3a"
             ],
             [
              0.8888888888888888,
              "#fdca26"
             ],
             [
              1,
              "#f0f921"
             ]
            ],
            "type": "surface"
           }
          ],
          "table": [
           {
            "cells": {
             "fill": {
              "color": "#EBF0F8"
             },
             "line": {
              "color": "white"
             }
            },
            "header": {
             "fill": {
              "color": "#C8D4E3"
             },
             "line": {
              "color": "white"
             }
            },
            "type": "table"
           }
          ]
         },
         "layout": {
          "annotationdefaults": {
           "arrowcolor": "#2a3f5f",
           "arrowhead": 0,
           "arrowwidth": 1
          },
          "autotypenumbers": "strict",
          "coloraxis": {
           "colorbar": {
            "outlinewidth": 0,
            "ticks": ""
           }
          },
          "colorscale": {
           "diverging": [
            [
             0,
             "#8e0152"
            ],
            [
             0.1,
             "#c51b7d"
            ],
            [
             0.2,
             "#de77ae"
            ],
            [
             0.3,
             "#f1b6da"
            ],
            [
             0.4,
             "#fde0ef"
            ],
            [
             0.5,
             "#f7f7f7"
            ],
            [
             0.6,
             "#e6f5d0"
            ],
            [
             0.7,
             "#b8e186"
            ],
            [
             0.8,
             "#7fbc41"
            ],
            [
             0.9,
             "#4d9221"
            ],
            [
             1,
             "#276419"
            ]
           ],
           "sequential": [
            [
             0,
             "#0d0887"
            ],
            [
             0.1111111111111111,
             "#46039f"
            ],
            [
             0.2222222222222222,
             "#7201a8"
            ],
            [
             0.3333333333333333,
             "#9c179e"
            ],
            [
             0.4444444444444444,
             "#bd3786"
            ],
            [
             0.5555555555555556,
             "#d8576b"
            ],
            [
             0.6666666666666666,
             "#ed7953"
            ],
            [
             0.7777777777777778,
             "#fb9f3a"
            ],
            [
             0.8888888888888888,
             "#fdca26"
            ],
            [
             1,
             "#f0f921"
            ]
           ],
           "sequentialminus": [
            [
             0,
             "#0d0887"
            ],
            [
             0.1111111111111111,
             "#46039f"
            ],
            [
             0.2222222222222222,
             "#7201a8"
            ],
            [
             0.3333333333333333,
             "#9c179e"
            ],
            [
             0.4444444444444444,
             "#bd3786"
            ],
            [
             0.5555555555555556,
             "#d8576b"
            ],
            [
             0.6666666666666666,
             "#ed7953"
            ],
            [
             0.7777777777777778,
             "#fb9f3a"
            ],
            [
             0.8888888888888888,
             "#fdca26"
            ],
            [
             1,
             "#f0f921"
            ]
           ]
          },
          "colorway": [
           "#636efa",
           "#EF553B",
           "#00cc96",
           "#ab63fa",
           "#FFA15A",
           "#19d3f3",
           "#FF6692",
           "#B6E880",
           "#FF97FF",
           "#FECB52"
          ],
          "font": {
           "color": "#2a3f5f"
          },
          "geo": {
           "bgcolor": "white",
           "lakecolor": "white",
           "landcolor": "#E5ECF6",
           "showlakes": true,
           "showland": true,
           "subunitcolor": "white"
          },
          "hoverlabel": {
           "align": "left"
          },
          "hovermode": "closest",
          "mapbox": {
           "style": "light"
          },
          "paper_bgcolor": "white",
          "plot_bgcolor": "#E5ECF6",
          "polar": {
           "angularaxis": {
            "gridcolor": "white",
            "linecolor": "white",
            "ticks": ""
           },
           "bgcolor": "#E5ECF6",
           "radialaxis": {
            "gridcolor": "white",
            "linecolor": "white",
            "ticks": ""
           }
          },
          "scene": {
           "xaxis": {
            "backgroundcolor": "#E5ECF6",
            "gridcolor": "white",
            "gridwidth": 2,
            "linecolor": "white",
            "showbackground": true,
            "ticks": "",
            "zerolinecolor": "white"
           },
           "yaxis": {
            "backgroundcolor": "#E5ECF6",
            "gridcolor": "white",
            "gridwidth": 2,
            "linecolor": "white",
            "showbackground": true,
            "ticks": "",
            "zerolinecolor": "white"
           },
           "zaxis": {
            "backgroundcolor": "#E5ECF6",
            "gridcolor": "white",
            "gridwidth": 2,
            "linecolor": "white",
            "showbackground": true,
            "ticks": "",
            "zerolinecolor": "white"
           }
          },
          "shapedefaults": {
           "line": {
            "color": "#2a3f5f"
           }
          },
          "ternary": {
           "aaxis": {
            "gridcolor": "white",
            "linecolor": "white",
            "ticks": ""
           },
           "baxis": {
            "gridcolor": "white",
            "linecolor": "white",
            "ticks": ""
           },
           "bgcolor": "#E5ECF6",
           "caxis": {
            "gridcolor": "white",
            "linecolor": "white",
            "ticks": ""
           }
          },
          "title": {
           "x": 0.05
          },
          "xaxis": {
           "automargin": true,
           "gridcolor": "white",
           "linecolor": "white",
           "ticks": "",
           "title": {
            "standoff": 15
           },
           "zerolinecolor": "white",
           "zerolinewidth": 2
          },
          "yaxis": {
           "automargin": true,
           "gridcolor": "white",
           "linecolor": "white",
           "ticks": "",
           "title": {
            "standoff": 15
           },
           "zerolinecolor": "white",
           "zerolinewidth": 2
          }
         }
        },
        "title": {
         "font": {
          "size": 18
         },
         "text": "Most similar and different tracks from centroid 8 profile (blue) of user '22e08d5e101ab5b86dc394856d508e175a5242a6'",
         "x": 0.5,
         "y": 0.99
        },
        "width": 1200
       }
      }
     },
     "metadata": {},
     "output_type": "display_data"
    },
    {
     "name": "stdout",
     "output_type": "stream",
     "text": [
      "['Tell Him - The Exciters',\n",
      " \"Jaden's Interlude - Will Smith\",\n",
      " 'Cherry Pie - Sade',\n",
      " 'Holmes Depot - George Lopez',\n",
      " 'Cuidado - Vicentico',\n",
      " 'Introduction - Paul Horn',\n",
      " 'Rocket To God - Daryl Hall & John Oates',\n",
      " 'Seat Belts - Brian Regan',\n",
      " 'Se Me Olvidó - Gian Marco',\n",
      " 'Socoro - George Lopez']\n"
     ]
    },
    {
     "data": {
      "application/vnd.plotly.v1+json": {
       "config": {
        "plotlyServerURL": "https://plot.ly"
       },
       "data": [
        {
         "fill": "toself",
         "line": {
          "color": "#636EFA"
         },
         "mode": "lines+markers",
         "name": "Cluster center centroid 9 profile",
         "r": [
          0.9820620006179933,
          0.2968229134317211,
          -0.16882538570551264,
          -0.023210435747233554,
          0.24586035003233542,
          -0.45408199003667415,
          -0.5926986190368779,
          -0.9721178666956778
         ],
         "subplot": "polar",
         "theta": [
          "Danceability",
          "Energy",
          "Loudness",
          "Speechiness",
          "Acousticness",
          "instrumentalness",
          "Liveness",
          "Tempo"
         ],
         "type": "scatterpolar"
        },
        {
         "fill": "toself",
         "line": {
          "color": "#EF553B"
         },
         "name": "Closest track rank 1",
         "r": [
          1.1981191369017619,
          0.3424884782558192,
          -0.01671786443219573,
          -0.13200024402708777,
          0.1160330328345774,
          -0.6235690916720154,
          -0.5758999279618607,
          -1.144975598898908
         ],
         "subplot": "polar",
         "theta": [
          "Danceability",
          "Energy",
          "Loudness",
          "Speechiness",
          "Acousticness",
          "instrumentalness",
          "Liveness",
          "Tempo"
         ],
         "type": "scatterpolar"
        },
        {
         "fill": "toself",
         "line": {
          "color": "#636EFA"
         },
         "mode": "lines+markers",
         "name": "Cluster center centroid 9 profile",
         "r": [
          0.9820620006179933,
          0.2968229134317211,
          -0.16882538570551264,
          -0.023210435747233554,
          0.24586035003233542,
          -0.45408199003667415,
          -0.5926986190368779,
          -0.9721178666956778
         ],
         "showlegend": false,
         "subplot": "polar2",
         "theta": [
          "Danceability",
          "Energy",
          "Loudness",
          "Speechiness",
          "Acousticness",
          "instrumentalness",
          "Liveness",
          "Tempo"
         ],
         "type": "scatterpolar"
        },
        {
         "fill": "toself",
         "line": {
          "color": "#B6E880"
         },
         "name": "Furthest track rank 1",
         "r": [
          1.0527803181496134,
          -1.8606910712314484,
          -2.8141140518642684,
          8.502461008551235,
          1.7796819146568825,
          -0.6235690916720154,
          3.6908240521987556,
          -2.3667530739111062
         ],
         "subplot": "polar2",
         "theta": [
          "Danceability",
          "Energy",
          "Loudness",
          "Speechiness",
          "Acousticness",
          "instrumentalness",
          "Liveness",
          "Tempo"
         ],
         "type": "scatterpolar"
        },
        {
         "fill": "toself",
         "line": {
          "color": "#636EFA"
         },
         "mode": "lines+markers",
         "name": "Cluster center centroid 9 profile",
         "r": [
          0.9820620006179933,
          0.2968229134317211,
          -0.16882538570551264,
          -0.023210435747233554,
          0.24586035003233542,
          -0.45408199003667415,
          -0.5926986190368779,
          -0.9721178666956778
         ],
         "showlegend": false,
         "subplot": "polar3",
         "theta": [
          "Danceability",
          "Energy",
          "Loudness",
          "Speechiness",
          "Acousticness",
          "instrumentalness",
          "Liveness",
          "Tempo"
         ],
         "type": "scatterpolar"
        },
        {
         "fill": "toself",
         "line": {
          "color": "#EF553B"
         },
         "name": "Closest track rank 2",
         "r": [
          1.0192405907452706,
          0.46009592751670547,
          -0.17606749036363858,
          -0.42658537991500667,
          0.3201237878536703,
          -0.5980696706611404,
          -0.4480580109533029,
          -0.8061965845880553
         ],
         "subplot": "polar3",
         "theta": [
          "Danceability",
          "Energy",
          "Loudness",
          "Speechiness",
          "Acousticness",
          "instrumentalness",
          "Liveness",
          "Tempo"
         ],
         "type": "scatterpolar"
        },
        {
         "fill": "toself",
         "line": {
          "color": "#636EFA"
         },
         "mode": "lines+markers",
         "name": "Cluster center centroid 9 profile",
         "r": [
          0.9820620006179933,
          0.2968229134317211,
          -0.16882538570551264,
          -0.023210435747233554,
          0.24586035003233542,
          -0.45408199003667415,
          -0.5926986190368779,
          -0.9721178666956778
         ],
         "showlegend": false,
         "subplot": "polar4",
         "theta": [
          "Danceability",
          "Energy",
          "Loudness",
          "Speechiness",
          "Acousticness",
          "instrumentalness",
          "Liveness",
          "Tempo"
         ],
         "type": "scatterpolar"
        },
        {
         "fill": "toself",
         "line": {
          "color": "#B6E880"
         },
         "name": "Furthest track rank 2",
         "r": [
          -0.6074361883653192,
          -0.2612297612833966,
          -1.5917583761104999,
          8.783975814177914,
          1.918834702169901,
          -0.6235690916720154,
          3.8346462088333833,
          -1.4840868797989244
         ],
         "subplot": "polar4",
         "theta": [
          "Danceability",
          "Energy",
          "Loudness",
          "Speechiness",
          "Acousticness",
          "instrumentalness",
          "Liveness",
          "Tempo"
         ],
         "type": "scatterpolar"
        },
        {
         "fill": "toself",
         "line": {
          "color": "#636EFA"
         },
         "mode": "lines+markers",
         "name": "Cluster center centroid 9 profile",
         "r": [
          0.9820620006179933,
          0.2968229134317211,
          -0.16882538570551264,
          -0.023210435747233554,
          0.24586035003233542,
          -0.45408199003667415,
          -0.5926986190368779,
          -0.9721178666956778
         ],
         "showlegend": false,
         "subplot": "polar5",
         "theta": [
          "Danceability",
          "Energy",
          "Loudness",
          "Speechiness",
          "Acousticness",
          "instrumentalness",
          "Liveness",
          "Tempo"
         ],
         "type": "scatterpolar"
        },
        {
         "fill": "toself",
         "line": {
          "color": "#EF553B"
         },
         "name": "Closest track rank 3",
         "r": [
          0.9968807724757099,
          0.0759115932644774,
          -0.13487966332203677,
          -0.3511796284078602,
          0.0016185186572070297,
          -0.623096880171814,
          -0.6078604072140001,
          -1.1797639107843005
         ],
         "subplot": "polar5",
         "theta": [
          "Danceability",
          "Energy",
          "Loudness",
          "Speechiness",
          "Acousticness",
          "instrumentalness",
          "Liveness",
          "Tempo"
         ],
         "type": "scatterpolar"
        },
        {
         "fill": "toself",
         "line": {
          "color": "#636EFA"
         },
         "mode": "lines+markers",
         "name": "Cluster center centroid 9 profile",
         "r": [
          0.9820620006179933,
          0.2968229134317211,
          -0.16882538570551264,
          -0.023210435747233554,
          0.24586035003233542,
          -0.45408199003667415,
          -0.5926986190368779,
          -0.9721178666956778
         ],
         "showlegend": false,
         "subplot": "polar6",
         "theta": [
          "Danceability",
          "Energy",
          "Loudness",
          "Speechiness",
          "Acousticness",
          "instrumentalness",
          "Liveness",
          "Tempo"
         ],
         "type": "scatterpolar"
        },
        {
         "fill": "toself",
         "line": {
          "color": "#B6E880"
         },
         "name": "Furthest track rank 3",
         "r": [
          -0.037260822491504184,
          -2.2378189585280235,
          -6.096761360070624,
          7.607646090666429,
          2.197140277195937,
          -0.6235690916720154,
          -0.3202160939447451,
          -0.8655393974126123
         ],
         "subplot": "polar6",
         "theta": [
          "Danceability",
          "Energy",
          "Loudness",
          "Speechiness",
          "Acousticness",
          "instrumentalness",
          "Liveness",
          "Tempo"
         ],
         "type": "scatterpolar"
        },
        {
         "fill": "toself",
         "line": {
          "color": "#636EFA"
         },
         "mode": "lines+markers",
         "name": "Cluster center centroid 9 profile",
         "r": [
          0.9820620006179933,
          0.2968229134317211,
          -0.16882538570551264,
          -0.023210435747233554,
          0.24586035003233542,
          -0.45408199003667415,
          -0.5926986190368779,
          -0.9721178666956778
         ],
         "showlegend": false,
         "subplot": "polar7",
         "theta": [
          "Danceability",
          "Energy",
          "Loudness",
          "Speechiness",
          "Acousticness",
          "instrumentalness",
          "Liveness",
          "Tempo"
         ],
         "type": "scatterpolar"
        },
        {
         "fill": "toself",
         "line": {
          "color": "#EF553B"
         },
         "name": "Closest track rank 4",
         "r": [
          1.103089909256126,
          -0.037775607687712674,
          0.06655807002350222,
          -0.17422746487108975,
          -0.020027470511484693,
          -0.6177806926372886,
          -0.581226674503884,
          -0.9183365584306532
         ],
         "subplot": "polar7",
         "theta": [
          "Danceability",
          "Energy",
          "Loudness",
          "Speechiness",
          "Acousticness",
          "instrumentalness",
          "Liveness",
          "Tempo"
         ],
         "type": "scatterpolar"
        },
        {
         "fill": "toself",
         "line": {
          "color": "#636EFA"
         },
         "mode": "lines+markers",
         "name": "Cluster center centroid 9 profile",
         "r": [
          0.9820620006179933,
          0.2968229134317211,
          -0.16882538570551264,
          -0.023210435747233554,
          0.24586035003233542,
          -0.45408199003667415,
          -0.5926986190368779,
          -0.9721178666956778
         ],
         "showlegend": false,
         "subplot": "polar8",
         "theta": [
          "Danceability",
          "Energy",
          "Loudness",
          "Speechiness",
          "Acousticness",
          "instrumentalness",
          "Liveness",
          "Tempo"
         ],
         "type": "scatterpolar"
        },
        {
         "fill": "toself",
         "line": {
          "color": "#B6E880"
         },
         "name": "Furthest track rank 4",
         "r": [
          -0.11552018643496909,
          -0.38275745885297907,
          -1.7598857356737605,
          8.52256920895314,
          1.5539451704690976,
          -0.6235690916720154,
          3.6002693609843606,
          1.8401738914615908
         ],
         "subplot": "polar8",
         "theta": [
          "Danceability",
          "Energy",
          "Loudness",
          "Speechiness",
          "Acousticness",
          "instrumentalness",
          "Liveness",
          "Tempo"
         ],
         "type": "scatterpolar"
        },
        {
         "fill": "toself",
         "line": {
          "color": "#636EFA"
         },
         "mode": "lines+markers",
         "name": "Cluster center centroid 9 profile",
         "r": [
          0.9820620006179933,
          0.2968229134317211,
          -0.16882538570551264,
          -0.023210435747233554,
          0.24586035003233542,
          -0.45408199003667415,
          -0.5926986190368779,
          -0.9721178666956778
         ],
         "showlegend": false,
         "subplot": "polar9",
         "theta": [
          "Danceability",
          "Energy",
          "Loudness",
          "Speechiness",
          "Acousticness",
          "instrumentalness",
          "Liveness",
          "Tempo"
         ],
         "type": "scatterpolar"
        },
        {
         "fill": "toself",
         "line": {
          "color": "#EF553B"
         },
         "name": "Closest track rank 5",
         "r": [
          0.991290817908319,
          -0.05345660092249751,
          0.0553045653673267,
          -0.17623828491128032,
          0.36960033452496566,
          -0.6235690916720154,
          -0.6243733214942722,
          -0.7172488186690522
         ],
         "subplot": "polar9",
         "theta": [
          "Danceability",
          "Energy",
          "Loudness",
          "Speechiness",
          "Acousticness",
          "instrumentalness",
          "Liveness",
          "Tempo"
         ],
         "type": "scatterpolar"
        },
        {
         "fill": "toself",
         "line": {
          "color": "#636EFA"
         },
         "mode": "lines+markers",
         "name": "Cluster center centroid 9 profile",
         "r": [
          0.9820620006179933,
          0.2968229134317211,
          -0.16882538570551264,
          -0.023210435747233554,
          0.24586035003233542,
          -0.45408199003667415,
          -0.5926986190368779,
          -0.9721178666956778
         ],
         "showlegend": false,
         "subplot": "polar10",
         "theta": [
          "Danceability",
          "Energy",
          "Loudness",
          "Speechiness",
          "Acousticness",
          "instrumentalness",
          "Liveness",
          "Tempo"
         ],
         "type": "scatterpolar"
        },
        {
         "fill": "toself",
         "line": {
          "color": "#B6E880"
         },
         "name": "Furthest track rank 5",
         "r": [
          0.16397754193454842,
          -0.9276719737617518,
          -2.0171408521139287,
          8.542677409355047,
          1.7178362313177633,
          -0.6235690916720154,
          3.9997753516361034,
          -2.1845713030728944
         ],
         "subplot": "polar10",
         "theta": [
          "Danceability",
          "Energy",
          "Loudness",
          "Speechiness",
          "Acousticness",
          "instrumentalness",
          "Liveness",
          "Tempo"
         ],
         "type": "scatterpolar"
        }
       ],
       "layout": {
        "annotations": [
         {
          "font": {
           "size": 16
          },
          "showarrow": false,
          "text": "Tell Him - The Exciters",
          "x": 0.25,
          "xanchor": "center",
          "xref": "paper",
          "y": 1.03,
          "yanchor": "bottom",
          "yref": "paper"
         },
         {
          "font": {
           "size": 16
          },
          "showarrow": false,
          "text": "Jaden's Interlude - Will Smith",
          "x": 0.75,
          "xanchor": "center",
          "xref": "paper",
          "y": 1.03,
          "yanchor": "bottom",
          "yref": "paper"
         },
         {
          "font": {
           "size": 16
          },
          "showarrow": false,
          "text": "Cherry Pie - Sade",
          "x": 0.25,
          "xanchor": "center",
          "xref": "paper",
          "y": 0.82,
          "yanchor": "bottom",
          "yref": "paper"
         },
         {
          "font": {
           "size": 16
          },
          "showarrow": false,
          "text": "Holmes Depot - George Lopez",
          "x": 0.75,
          "xanchor": "center",
          "xref": "paper",
          "y": 0.82,
          "yanchor": "bottom",
          "yref": "paper"
         },
         {
          "font": {
           "size": 16
          },
          "showarrow": false,
          "text": "Cuidado - Vicentico",
          "x": 0.25,
          "xanchor": "center",
          "xref": "paper",
          "y": 0.6,
          "yanchor": "bottom",
          "yref": "paper"
         },
         {
          "font": {
           "size": 16
          },
          "showarrow": false,
          "text": "Introduction - Paul Horn",
          "x": 0.75,
          "xanchor": "center",
          "xref": "paper",
          "y": 0.6,
          "yanchor": "bottom",
          "yref": "paper"
         },
         {
          "font": {
           "size": 16
          },
          "showarrow": false,
          "text": "Rocket To God - Daryl Hall & John Oates",
          "x": 0.25,
          "xanchor": "center",
          "xref": "paper",
          "y": 0.38,
          "yanchor": "bottom",
          "yref": "paper"
         },
         {
          "font": {
           "size": 16
          },
          "showarrow": false,
          "text": "Seat Belts - Brian Regan",
          "x": 0.75,
          "xanchor": "center",
          "xref": "paper",
          "y": 0.38,
          "yanchor": "bottom",
          "yref": "paper"
         },
         {
          "font": {
           "size": 16
          },
          "showarrow": false,
          "text": "Se Me Olvidó - Gian Marco",
          "x": 0.25,
          "xanchor": "center",
          "xref": "paper",
          "y": 0.16,
          "yanchor": "bottom",
          "yref": "paper"
         },
         {
          "font": {
           "size": 16
          },
          "showarrow": false,
          "text": "Socoro - George Lopez",
          "x": 0.75,
          "xanchor": "center",
          "xref": "paper",
          "y": 0.16,
          "yanchor": "bottom",
          "yref": "paper"
         },
         {
          "font": {
           "color": "black",
           "size": 20
          },
          "showarrow": false,
          "text": "Closest tracks from centroid 9",
          "x": 0.12,
          "y": 1.09
         },
         {
          "font": {
           "color": "black",
           "size": 22
          },
          "showarrow": false,
          "text": "Furthest tracks from centroid 9",
          "x": 0.9,
          "y": 1.09
         },
         {
          "font": {
           "color": "black",
           "size": 22
          },
          "showarrow": false,
          "text": "Rank",
          "x": 0.005,
          "y": 1.09
         },
         {
          "font": {
           "color": "black",
           "size": 22
          },
          "showarrow": false,
          "text": "1",
          "x": 0.02,
          "y": 1.05
         },
         {
          "font": {
           "color": "black",
           "size": 22
          },
          "showarrow": false,
          "text": "2",
          "x": 0.02,
          "y": 0.84
         },
         {
          "font": {
           "color": "black",
           "size": 22
          },
          "showarrow": false,
          "text": "3",
          "x": 0.02,
          "y": 0.608
         },
         {
          "font": {
           "color": "black",
           "size": 22
          },
          "showarrow": false,
          "text": "4",
          "x": 0.02,
          "y": 0.389
         },
         {
          "font": {
           "color": "black",
           "size": 22
          },
          "showarrow": false,
          "text": "5",
          "x": 0.02,
          "y": 0.159
         }
        ],
        "height": 1600,
        "margin": {
         "b": 50,
         "l": 50,
         "r": 50,
         "t": 200
        },
        "polar": {
         "domain": {
          "x": [
           0,
           0.5
          ],
          "y": [
           0.88,
           1
          ]
         },
         "radialaxis": {
          "range": [
           -1.1797639107843005,
           1.1981191369017619
          ],
          "showticklabels": false,
          "ticks": ""
         }
        },
        "polar10": {
         "domain": {
          "x": [
           0.5,
           1
          ],
          "y": [
           0,
           0.12
          ]
         },
         "radialaxis": {
          "range": [
           -6.096761360070624,
           8.783975814177914
          ],
          "showticklabels": false,
          "ticks": ""
         }
        },
        "polar2": {
         "domain": {
          "x": [
           0.5,
           1
          ],
          "y": [
           0.88,
           1
          ]
         },
         "radialaxis": {
          "range": [
           -6.096761360070624,
           8.783975814177914
          ],
          "showticklabels": false,
          "ticks": ""
         }
        },
        "polar3": {
         "domain": {
          "x": [
           0,
           0.5
          ],
          "y": [
           0.66,
           0.78
          ]
         },
         "radialaxis": {
          "range": [
           -1.1797639107843005,
           1.1981191369017619
          ],
          "showticklabels": false,
          "ticks": ""
         }
        },
        "polar4": {
         "domain": {
          "x": [
           0.5,
           1
          ],
          "y": [
           0.66,
           0.78
          ]
         },
         "radialaxis": {
          "range": [
           -6.096761360070624,
           8.783975814177914
          ],
          "showticklabels": false,
          "ticks": ""
         }
        },
        "polar5": {
         "domain": {
          "x": [
           0,
           0.5
          ],
          "y": [
           0.44,
           0.56
          ]
         },
         "radialaxis": {
          "range": [
           -1.1797639107843005,
           1.1981191369017619
          ],
          "showticklabels": false,
          "ticks": ""
         }
        },
        "polar6": {
         "domain": {
          "x": [
           0.5,
           1
          ],
          "y": [
           0.44,
           0.56
          ]
         },
         "radialaxis": {
          "range": [
           -6.096761360070624,
           8.783975814177914
          ],
          "showticklabels": false,
          "ticks": ""
         }
        },
        "polar7": {
         "domain": {
          "x": [
           0,
           0.5
          ],
          "y": [
           0.22,
           0.33999999999999997
          ]
         },
         "radialaxis": {
          "range": [
           -1.1797639107843005,
           1.1981191369017619
          ],
          "showticklabels": false,
          "ticks": ""
         }
        },
        "polar8": {
         "domain": {
          "x": [
           0.5,
           1
          ],
          "y": [
           0.22,
           0.33999999999999997
          ]
         },
         "radialaxis": {
          "range": [
           -6.096761360070624,
           8.783975814177914
          ],
          "showticklabels": false,
          "ticks": ""
         }
        },
        "polar9": {
         "domain": {
          "x": [
           0,
           0.5
          ],
          "y": [
           0,
           0.12
          ]
         },
         "radialaxis": {
          "range": [
           -1.1797639107843005,
           1.1981191369017619
          ],
          "showticklabels": false,
          "ticks": ""
         }
        },
        "showlegend": false,
        "template": {
         "data": {
          "bar": [
           {
            "error_x": {
             "color": "#2a3f5f"
            },
            "error_y": {
             "color": "#2a3f5f"
            },
            "marker": {
             "line": {
              "color": "#E5ECF6",
              "width": 0.5
             },
             "pattern": {
              "fillmode": "overlay",
              "size": 10,
              "solidity": 0.2
             }
            },
            "type": "bar"
           }
          ],
          "barpolar": [
           {
            "marker": {
             "line": {
              "color": "#E5ECF6",
              "width": 0.5
             },
             "pattern": {
              "fillmode": "overlay",
              "size": 10,
              "solidity": 0.2
             }
            },
            "type": "barpolar"
           }
          ],
          "carpet": [
           {
            "aaxis": {
             "endlinecolor": "#2a3f5f",
             "gridcolor": "white",
             "linecolor": "white",
             "minorgridcolor": "white",
             "startlinecolor": "#2a3f5f"
            },
            "baxis": {
             "endlinecolor": "#2a3f5f",
             "gridcolor": "white",
             "linecolor": "white",
             "minorgridcolor": "white",
             "startlinecolor": "#2a3f5f"
            },
            "type": "carpet"
           }
          ],
          "choropleth": [
           {
            "colorbar": {
             "outlinewidth": 0,
             "ticks": ""
            },
            "type": "choropleth"
           }
          ],
          "contour": [
           {
            "colorbar": {
             "outlinewidth": 0,
             "ticks": ""
            },
            "colorscale": [
             [
              0,
              "#0d0887"
             ],
             [
              0.1111111111111111,
              "#46039f"
             ],
             [
              0.2222222222222222,
              "#7201a8"
             ],
             [
              0.3333333333333333,
              "#9c179e"
             ],
             [
              0.4444444444444444,
              "#bd3786"
             ],
             [
              0.5555555555555556,
              "#d8576b"
             ],
             [
              0.6666666666666666,
              "#ed7953"
             ],
             [
              0.7777777777777778,
              "#fb9f3a"
             ],
             [
              0.8888888888888888,
              "#fdca26"
             ],
             [
              1,
              "#f0f921"
             ]
            ],
            "type": "contour"
           }
          ],
          "contourcarpet": [
           {
            "colorbar": {
             "outlinewidth": 0,
             "ticks": ""
            },
            "type": "contourcarpet"
           }
          ],
          "heatmap": [
           {
            "colorbar": {
             "outlinewidth": 0,
             "ticks": ""
            },
            "colorscale": [
             [
              0,
              "#0d0887"
             ],
             [
              0.1111111111111111,
              "#46039f"
             ],
             [
              0.2222222222222222,
              "#7201a8"
             ],
             [
              0.3333333333333333,
              "#9c179e"
             ],
             [
              0.4444444444444444,
              "#bd3786"
             ],
             [
              0.5555555555555556,
              "#d8576b"
             ],
             [
              0.6666666666666666,
              "#ed7953"
             ],
             [
              0.7777777777777778,
              "#fb9f3a"
             ],
             [
              0.8888888888888888,
              "#fdca26"
             ],
             [
              1,
              "#f0f921"
             ]
            ],
            "type": "heatmap"
           }
          ],
          "heatmapgl": [
           {
            "colorbar": {
             "outlinewidth": 0,
             "ticks": ""
            },
            "colorscale": [
             [
              0,
              "#0d0887"
             ],
             [
              0.1111111111111111,
              "#46039f"
             ],
             [
              0.2222222222222222,
              "#7201a8"
             ],
             [
              0.3333333333333333,
              "#9c179e"
             ],
             [
              0.4444444444444444,
              "#bd3786"
             ],
             [
              0.5555555555555556,
              "#d8576b"
             ],
             [
              0.6666666666666666,
              "#ed7953"
             ],
             [
              0.7777777777777778,
              "#fb9f3a"
             ],
             [
              0.8888888888888888,
              "#fdca26"
             ],
             [
              1,
              "#f0f921"
             ]
            ],
            "type": "heatmapgl"
           }
          ],
          "histogram": [
           {
            "marker": {
             "pattern": {
              "fillmode": "overlay",
              "size": 10,
              "solidity": 0.2
             }
            },
            "type": "histogram"
           }
          ],
          "histogram2d": [
           {
            "colorbar": {
             "outlinewidth": 0,
             "ticks": ""
            },
            "colorscale": [
             [
              0,
              "#0d0887"
             ],
             [
              0.1111111111111111,
              "#46039f"
             ],
             [
              0.2222222222222222,
              "#7201a8"
             ],
             [
              0.3333333333333333,
              "#9c179e"
             ],
             [
              0.4444444444444444,
              "#bd3786"
             ],
             [
              0.5555555555555556,
              "#d8576b"
             ],
             [
              0.6666666666666666,
              "#ed7953"
             ],
             [
              0.7777777777777778,
              "#fb9f3a"
             ],
             [
              0.8888888888888888,
              "#fdca26"
             ],
             [
              1,
              "#f0f921"
             ]
            ],
            "type": "histogram2d"
           }
          ],
          "histogram2dcontour": [
           {
            "colorbar": {
             "outlinewidth": 0,
             "ticks": ""
            },
            "colorscale": [
             [
              0,
              "#0d0887"
             ],
             [
              0.1111111111111111,
              "#46039f"
             ],
             [
              0.2222222222222222,
              "#7201a8"
             ],
             [
              0.3333333333333333,
              "#9c179e"
             ],
             [
              0.4444444444444444,
              "#bd3786"
             ],
             [
              0.5555555555555556,
              "#d8576b"
             ],
             [
              0.6666666666666666,
              "#ed7953"
             ],
             [
              0.7777777777777778,
              "#fb9f3a"
             ],
             [
              0.8888888888888888,
              "#fdca26"
             ],
             [
              1,
              "#f0f921"
             ]
            ],
            "type": "histogram2dcontour"
           }
          ],
          "mesh3d": [
           {
            "colorbar": {
             "outlinewidth": 0,
             "ticks": ""
            },
            "type": "mesh3d"
           }
          ],
          "parcoords": [
           {
            "line": {
             "colorbar": {
              "outlinewidth": 0,
              "ticks": ""
             }
            },
            "type": "parcoords"
           }
          ],
          "pie": [
           {
            "automargin": true,
            "type": "pie"
           }
          ],
          "scatter": [
           {
            "fillpattern": {
             "fillmode": "overlay",
             "size": 10,
             "solidity": 0.2
            },
            "type": "scatter"
           }
          ],
          "scatter3d": [
           {
            "line": {
             "colorbar": {
              "outlinewidth": 0,
              "ticks": ""
             }
            },
            "marker": {
             "colorbar": {
              "outlinewidth": 0,
              "ticks": ""
             }
            },
            "type": "scatter3d"
           }
          ],
          "scattercarpet": [
           {
            "marker": {
             "colorbar": {
              "outlinewidth": 0,
              "ticks": ""
             }
            },
            "type": "scattercarpet"
           }
          ],
          "scattergeo": [
           {
            "marker": {
             "colorbar": {
              "outlinewidth": 0,
              "ticks": ""
             }
            },
            "type": "scattergeo"
           }
          ],
          "scattergl": [
           {
            "marker": {
             "colorbar": {
              "outlinewidth": 0,
              "ticks": ""
             }
            },
            "type": "scattergl"
           }
          ],
          "scattermapbox": [
           {
            "marker": {
             "colorbar": {
              "outlinewidth": 0,
              "ticks": ""
             }
            },
            "type": "scattermapbox"
           }
          ],
          "scatterpolar": [
           {
            "marker": {
             "colorbar": {
              "outlinewidth": 0,
              "ticks": ""
             }
            },
            "type": "scatterpolar"
           }
          ],
          "scatterpolargl": [
           {
            "marker": {
             "colorbar": {
              "outlinewidth": 0,
              "ticks": ""
             }
            },
            "type": "scatterpolargl"
           }
          ],
          "scatterternary": [
           {
            "marker": {
             "colorbar": {
              "outlinewidth": 0,
              "ticks": ""
             }
            },
            "type": "scatterternary"
           }
          ],
          "surface": [
           {
            "colorbar": {
             "outlinewidth": 0,
             "ticks": ""
            },
            "colorscale": [
             [
              0,
              "#0d0887"
             ],
             [
              0.1111111111111111,
              "#46039f"
             ],
             [
              0.2222222222222222,
              "#7201a8"
             ],
             [
              0.3333333333333333,
              "#9c179e"
             ],
             [
              0.4444444444444444,
              "#bd3786"
             ],
             [
              0.5555555555555556,
              "#d8576b"
             ],
             [
              0.6666666666666666,
              "#ed7953"
             ],
             [
              0.7777777777777778,
              "#fb9f3a"
             ],
             [
              0.8888888888888888,
              "#fdca26"
             ],
             [
              1,
              "#f0f921"
             ]
            ],
            "type": "surface"
           }
          ],
          "table": [
           {
            "cells": {
             "fill": {
              "color": "#EBF0F8"
             },
             "line": {
              "color": "white"
             }
            },
            "header": {
             "fill": {
              "color": "#C8D4E3"
             },
             "line": {
              "color": "white"
             }
            },
            "type": "table"
           }
          ]
         },
         "layout": {
          "annotationdefaults": {
           "arrowcolor": "#2a3f5f",
           "arrowhead": 0,
           "arrowwidth": 1
          },
          "autotypenumbers": "strict",
          "coloraxis": {
           "colorbar": {
            "outlinewidth": 0,
            "ticks": ""
           }
          },
          "colorscale": {
           "diverging": [
            [
             0,
             "#8e0152"
            ],
            [
             0.1,
             "#c51b7d"
            ],
            [
             0.2,
             "#de77ae"
            ],
            [
             0.3,
             "#f1b6da"
            ],
            [
             0.4,
             "#fde0ef"
            ],
            [
             0.5,
             "#f7f7f7"
            ],
            [
             0.6,
             "#e6f5d0"
            ],
            [
             0.7,
             "#b8e186"
            ],
            [
             0.8,
             "#7fbc41"
            ],
            [
             0.9,
             "#4d9221"
            ],
            [
             1,
             "#276419"
            ]
           ],
           "sequential": [
            [
             0,
             "#0d0887"
            ],
            [
             0.1111111111111111,
             "#46039f"
            ],
            [
             0.2222222222222222,
             "#7201a8"
            ],
            [
             0.3333333333333333,
             "#9c179e"
            ],
            [
             0.4444444444444444,
             "#bd3786"
            ],
            [
             0.5555555555555556,
             "#d8576b"
            ],
            [
             0.6666666666666666,
             "#ed7953"
            ],
            [
             0.7777777777777778,
             "#fb9f3a"
            ],
            [
             0.8888888888888888,
             "#fdca26"
            ],
            [
             1,
             "#f0f921"
            ]
           ],
           "sequentialminus": [
            [
             0,
             "#0d0887"
            ],
            [
             0.1111111111111111,
             "#46039f"
            ],
            [
             0.2222222222222222,
             "#7201a8"
            ],
            [
             0.3333333333333333,
             "#9c179e"
            ],
            [
             0.4444444444444444,
             "#bd3786"
            ],
            [
             0.5555555555555556,
             "#d8576b"
            ],
            [
             0.6666666666666666,
             "#ed7953"
            ],
            [
             0.7777777777777778,
             "#fb9f3a"
            ],
            [
             0.8888888888888888,
             "#fdca26"
            ],
            [
             1,
             "#f0f921"
            ]
           ]
          },
          "colorway": [
           "#636efa",
           "#EF553B",
           "#00cc96",
           "#ab63fa",
           "#FFA15A",
           "#19d3f3",
           "#FF6692",
           "#B6E880",
           "#FF97FF",
           "#FECB52"
          ],
          "font": {
           "color": "#2a3f5f"
          },
          "geo": {
           "bgcolor": "white",
           "lakecolor": "white",
           "landcolor": "#E5ECF6",
           "showlakes": true,
           "showland": true,
           "subunitcolor": "white"
          },
          "hoverlabel": {
           "align": "left"
          },
          "hovermode": "closest",
          "mapbox": {
           "style": "light"
          },
          "paper_bgcolor": "white",
          "plot_bgcolor": "#E5ECF6",
          "polar": {
           "angularaxis": {
            "gridcolor": "white",
            "linecolor": "white",
            "ticks": ""
           },
           "bgcolor": "#E5ECF6",
           "radialaxis": {
            "gridcolor": "white",
            "linecolor": "white",
            "ticks": ""
           }
          },
          "scene": {
           "xaxis": {
            "backgroundcolor": "#E5ECF6",
            "gridcolor": "white",
            "gridwidth": 2,
            "linecolor": "white",
            "showbackground": true,
            "ticks": "",
            "zerolinecolor": "white"
           },
           "yaxis": {
            "backgroundcolor": "#E5ECF6",
            "gridcolor": "white",
            "gridwidth": 2,
            "linecolor": "white",
            "showbackground": true,
            "ticks": "",
            "zerolinecolor": "white"
           },
           "zaxis": {
            "backgroundcolor": "#E5ECF6",
            "gridcolor": "white",
            "gridwidth": 2,
            "linecolor": "white",
            "showbackground": true,
            "ticks": "",
            "zerolinecolor": "white"
           }
          },
          "shapedefaults": {
           "line": {
            "color": "#2a3f5f"
           }
          },
          "ternary": {
           "aaxis": {
            "gridcolor": "white",
            "linecolor": "white",
            "ticks": ""
           },
           "baxis": {
            "gridcolor": "white",
            "linecolor": "white",
            "ticks": ""
           },
           "bgcolor": "#E5ECF6",
           "caxis": {
            "gridcolor": "white",
            "linecolor": "white",
            "ticks": ""
           }
          },
          "title": {
           "x": 0.05
          },
          "xaxis": {
           "automargin": true,
           "gridcolor": "white",
           "linecolor": "white",
           "ticks": "",
           "title": {
            "standoff": 15
           },
           "zerolinecolor": "white",
           "zerolinewidth": 2
          },
          "yaxis": {
           "automargin": true,
           "gridcolor": "white",
           "linecolor": "white",
           "ticks": "",
           "title": {
            "standoff": 15
           },
           "zerolinecolor": "white",
           "zerolinewidth": 2
          }
         }
        },
        "title": {
         "font": {
          "size": 18
         },
         "text": "Most similar and different tracks from centroid 9 profile (blue) of user '22e08d5e101ab5b86dc394856d508e175a5242a6'",
         "x": 0.5,
         "y": 0.99
        },
        "width": 1200
       }
      }
     },
     "metadata": {},
     "output_type": "display_data"
    },
    {
     "name": "stdout",
     "output_type": "stream",
     "text": [
      "['Sounds - Earlimart',\n",
      " 'Intro - Swell',\n",
      " 'Fotzepolitic - Cocteau Twins',\n",
      " \"Jaden's Interlude - Will Smith\",\n",
      " 'Lungless - Akimbo',\n",
      " 'Introduction - Paul Horn',\n",
      " 'Kyrie - Nodes Of Ranvier',\n",
      " 'Seat Belts - Brian Regan',\n",
      " 'Shift Your Gaze - The Life And Times',\n",
      " 'The Woodbridge Dog Disaster - Stan Rogers']\n"
     ]
    },
    {
     "data": {
      "application/vnd.plotly.v1+json": {
       "config": {
        "plotlyServerURL": "https://plot.ly"
       },
       "data": [
        {
         "fill": "toself",
         "line": {
          "color": "#636EFA"
         },
         "mode": "lines+markers",
         "name": "Cluster center centroid 10 profile",
         "r": [
          -1.3810292896298537,
          0.3707691679086407,
          0.28519634624741913,
          -0.3450762546610204,
          -0.8326705386449239,
          1.2549728895081556,
          -0.5229960181895627,
          -1.8685247631202777
         ],
         "subplot": "polar",
         "theta": [
          "Danceability",
          "Energy",
          "Loudness",
          "Speechiness",
          "Acousticness",
          "instrumentalness",
          "Liveness",
          "Tempo"
         ],
         "type": "scatterpolar"
        },
        {
         "fill": "toself",
         "line": {
          "color": "#EF553B"
         },
         "name": "Closest track rank 1",
         "r": [
          -1.546548555686898,
          0.31896698840364196,
          0.5853446346731866,
          -0.39441225927195755,
          -0.8475783747039046,
          1.6491391609101524,
          -0.6249059961484745,
          -2.066683117237772
         ],
         "subplot": "polar",
         "theta": [
          "Danceability",
          "Energy",
          "Loudness",
          "Speechiness",
          "Acousticness",
          "instrumentalness",
          "Liveness",
          "Tempo"
         ],
         "type": "scatterpolar"
        },
        {
         "fill": "toself",
         "line": {
          "color": "#636EFA"
         },
         "mode": "lines+markers",
         "name": "Cluster center centroid 10 profile",
         "r": [
          -1.3810292896298537,
          0.3707691679086407,
          0.28519634624741913,
          -0.3450762546610204,
          -0.8326705386449239,
          1.2549728895081556,
          -0.5229960181895627,
          -1.8685247631202777
         ],
         "showlegend": false,
         "subplot": "polar2",
         "theta": [
          "Danceability",
          "Energy",
          "Loudness",
          "Speechiness",
          "Acousticness",
          "instrumentalness",
          "Liveness",
          "Tempo"
         ],
         "type": "scatterpolar"
        },
        {
         "fill": "toself",
         "line": {
          "color": "#B6E880"
         },
         "name": "Furthest track rank 1",
         "r": [
          1.6397255477255994,
          -1.8998935543184103,
          -4.23880774133607,
          8.442136407345517,
          1.8013279038255745,
          -0.6235690916720154,
          1.7305813247342028,
          -2.330469562374479
         ],
         "subplot": "polar2",
         "theta": [
          "Danceability",
          "Energy",
          "Loudness",
          "Speechiness",
          "Acousticness",
          "instrumentalness",
          "Liveness",
          "Tempo"
         ],
         "type": "scatterpolar"
        },
        {
         "fill": "toself",
         "line": {
          "color": "#636EFA"
         },
         "mode": "lines+markers",
         "name": "Cluster center centroid 10 profile",
         "r": [
          -1.3810292896298537,
          0.3707691679086407,
          0.28519634624741913,
          -0.3450762546610204,
          -0.8326705386449239,
          1.2549728895081556,
          -0.5229960181895627,
          -1.8685247631202777
         ],
         "showlegend": false,
         "subplot": "polar3",
         "theta": [
          "Danceability",
          "Energy",
          "Loudness",
          "Speechiness",
          "Acousticness",
          "instrumentalness",
          "Liveness",
          "Tempo"
         ],
         "type": "scatterpolar"
        },
        {
         "fill": "toself",
         "line": {
          "color": "#EF553B"
         },
         "name": "Closest track rank 2",
         "r": [
          -1.1161220539978407,
          0.3542492231819078,
          0.39673589663568765,
          -0.38134192901071884,
          -0.8487101507090101,
          0.7169022637383785,
          -0.5173057159996056,
          -1.8228326674508606
         ],
         "subplot": "polar3",
         "theta": [
          "Danceability",
          "Energy",
          "Loudness",
          "Speechiness",
          "Acousticness",
          "instrumentalness",
          "Liveness",
          "Tempo"
         ],
         "type": "scatterpolar"
        },
        {
         "fill": "toself",
         "line": {
          "color": "#636EFA"
         },
         "mode": "lines+markers",
         "name": "Cluster center centroid 10 profile",
         "r": [
          -1.3810292896298537,
          0.3707691679086407,
          0.28519634624741913,
          -0.3450762546610204,
          -0.8326705386449239,
          1.2549728895081556,
          -0.5229960181895627,
          -1.8685247631202777
         ],
         "showlegend": false,
         "subplot": "polar4",
         "theta": [
          "Danceability",
          "Energy",
          "Loudness",
          "Speechiness",
          "Acousticness",
          "instrumentalness",
          "Liveness",
          "Tempo"
         ],
         "type": "scatterpolar"
        },
        {
         "fill": "toself",
         "line": {
          "color": "#B6E880"
         },
         "name": "Furthest track rank 2",
         "r": [
          1.0527803181496134,
          -1.8606910712314484,
          -2.8141140518642684,
          8.502461008551235,
          1.7796819146568825,
          -0.6235690916720154,
          3.6908240521987556,
          -2.3667530739111062
         ],
         "subplot": "polar4",
         "theta": [
          "Danceability",
          "Energy",
          "Loudness",
          "Speechiness",
          "Acousticness",
          "instrumentalness",
          "Liveness",
          "Tempo"
         ],
         "type": "scatterpolar"
        },
        {
         "fill": "toself",
         "line": {
          "color": "#636EFA"
         },
         "mode": "lines+markers",
         "name": "Cluster center centroid 10 profile",
         "r": [
          -1.3810292896298537,
          0.3707691679086407,
          0.28519634624741913,
          -0.3450762546610204,
          -0.8326705386449239,
          1.2549728895081556,
          -0.5229960181895627,
          -1.8685247631202777
         ],
         "showlegend": false,
         "subplot": "polar5",
         "theta": [
          "Danceability",
          "Energy",
          "Loudness",
          "Speechiness",
          "Acousticness",
          "instrumentalness",
          "Liveness",
          "Tempo"
         ],
         "type": "scatterpolar"
        },
        {
         "fill": "toself",
         "line": {
          "color": "#EF553B"
         },
         "name": "Closest track rank 3",
         "r": [
          -1.2279211453456478,
          0.48361741736888275,
          0.3600494714565557,
          -0.39943930937243394,
          -0.8486408835436704,
          1.771000193220188,
          -0.6350268145783187,
          -1.3892247685928154
         ],
         "subplot": "polar5",
         "theta": [
          "Danceability",
          "Energy",
          "Loudness",
          "Speechiness",
          "Acousticness",
          "instrumentalness",
          "Liveness",
          "Tempo"
         ],
         "type": "scatterpolar"
        },
        {
         "fill": "toself",
         "line": {
          "color": "#636EFA"
         },
         "mode": "lines+markers",
         "name": "Cluster center centroid 10 profile",
         "r": [
          -1.3810292896298537,
          0.3707691679086407,
          0.28519634624741913,
          -0.3450762546610204,
          -0.8326705386449239,
          1.2549728895081556,
          -0.5229960181895627,
          -1.8685247631202777
         ],
         "showlegend": false,
         "subplot": "polar6",
         "theta": [
          "Danceability",
          "Energy",
          "Loudness",
          "Speechiness",
          "Acousticness",
          "instrumentalness",
          "Liveness",
          "Tempo"
         ],
         "type": "scatterpolar"
        },
        {
         "fill": "toself",
         "line": {
          "color": "#B6E880"
         },
         "name": "Furthest track rank 3",
         "r": [
          -0.037260822491504184,
          -2.2378189585280235,
          -6.096761360070624,
          7.607646090666429,
          2.197140277195937,
          -0.6235690916720154,
          -0.3202160939447451,
          -0.8655393974126123
         ],
         "subplot": "polar6",
         "theta": [
          "Danceability",
          "Energy",
          "Loudness",
          "Speechiness",
          "Acousticness",
          "instrumentalness",
          "Liveness",
          "Tempo"
         ],
         "type": "scatterpolar"
        },
        {
         "fill": "toself",
         "line": {
          "color": "#636EFA"
         },
         "mode": "lines+markers",
         "name": "Cluster center centroid 10 profile",
         "r": [
          -1.3810292896298537,
          0.3707691679086407,
          0.28519634624741913,
          -0.3450762546610204,
          -0.8326705386449239,
          1.2549728895081556,
          -0.5229960181895627,
          -1.8685247631202777
         ],
         "showlegend": false,
         "subplot": "polar7",
         "theta": [
          "Danceability",
          "Energy",
          "Loudness",
          "Speechiness",
          "Acousticness",
          "instrumentalness",
          "Liveness",
          "Tempo"
         ],
         "type": "scatterpolar"
        },
        {
         "fill": "toself",
         "line": {
          "color": "#EF553B"
         },
         "name": "Closest track rank 4",
         "r": [
          -1.4291595097717,
          0.37385046472538885,
          0.4851884432332258,
          -0.14406516426823113,
          -0.8482246620947982,
          1.5607899124853768,
          -0.2083544165622571,
          -1.2703065563312863
         ],
         "subplot": "polar7",
         "theta": [
          "Danceability",
          "Energy",
          "Loudness",
          "Speechiness",
          "Acousticness",
          "instrumentalness",
          "Liveness",
          "Tempo"
         ],
         "type": "scatterpolar"
        },
        {
         "fill": "toself",
         "line": {
          "color": "#636EFA"
         },
         "mode": "lines+markers",
         "name": "Cluster center centroid 10 profile",
         "r": [
          -1.3810292896298537,
          0.3707691679086407,
          0.28519634624741913,
          -0.3450762546610204,
          -0.8326705386449239,
          1.2549728895081556,
          -0.5229960181895627,
          -1.8685247631202777
         ],
         "showlegend": false,
         "subplot": "polar8",
         "theta": [
          "Danceability",
          "Energy",
          "Loudness",
          "Speechiness",
          "Acousticness",
          "instrumentalness",
          "Liveness",
          "Tempo"
         ],
         "type": "scatterpolar"
        },
        {
         "fill": "toself",
         "line": {
          "color": "#B6E880"
         },
         "name": "Furthest track rank 4",
         "r": [
          -0.11552018643496909,
          -0.38275745885297907,
          -1.7598857356737605,
          8.52256920895314,
          1.5539451704690976,
          -0.6235690916720154,
          3.6002693609843606,
          1.8401738914615908
         ],
         "subplot": "polar8",
         "theta": [
          "Danceability",
          "Energy",
          "Loudness",
          "Speechiness",
          "Acousticness",
          "instrumentalness",
          "Liveness",
          "Tempo"
         ],
         "type": "scatterpolar"
        },
        {
         "fill": "toself",
         "line": {
          "color": "#636EFA"
         },
         "mode": "lines+markers",
         "name": "Cluster center centroid 10 profile",
         "r": [
          -1.3810292896298537,
          0.3707691679086407,
          0.28519634624741913,
          -0.3450762546610204,
          -0.8326705386449239,
          1.2549728895081556,
          -0.5229960181895627,
          -1.8685247631202777
         ],
         "showlegend": false,
         "subplot": "polar9",
         "theta": [
          "Danceability",
          "Energy",
          "Loudness",
          "Speechiness",
          "Acousticness",
          "instrumentalness",
          "Liveness",
          "Tempo"
         ],
         "type": "scatterpolar"
        },
        {
         "fill": "toself",
         "line": {
          "color": "#EF553B"
         },
         "name": "Closest track rank 5",
         "r": [
          -1.1496617814021828,
          0.5737831284688956,
          0.2943290042644924,
          -0.37832569895043294,
          -0.26431791970100577,
          1.4389288801753408,
          -0.46936499712139584,
          -1.398893726337466
         ],
         "subplot": "polar9",
         "theta": [
          "Danceability",
          "Energy",
          "Loudness",
          "Speechiness",
          "Acousticness",
          "instrumentalness",
          "Liveness",
          "Tempo"
         ],
         "type": "scatterpolar"
        },
        {
         "fill": "toself",
         "line": {
          "color": "#636EFA"
         },
         "mode": "lines+markers",
         "name": "Cluster center centroid 10 profile",
         "r": [
          -1.3810292896298537,
          0.3707691679086407,
          0.28519634624741913,
          -0.3450762546610204,
          -0.8326705386449239,
          1.2549728895081556,
          -0.5229960181895627,
          -1.8685247631202777
         ],
         "showlegend": false,
         "subplot": "polar10",
         "theta": [
          "Danceability",
          "Energy",
          "Loudness",
          "Speechiness",
          "Acousticness",
          "instrumentalness",
          "Liveness",
          "Tempo"
         ],
         "type": "scatterpolar"
        },
        {
         "fill": "toself",
         "line": {
          "color": "#B6E880"
         },
         "name": "Furthest track rank 5",
         "r": [
          0.8739017719931222,
          -1.2569728316922326,
          -0.8456510174060734,
          8.693488912369338,
          1.8075124721594864,
          -0.6235690916720154,
          4.031735830888243,
          -0.7823066168272176
         ],
         "subplot": "polar10",
         "theta": [
          "Danceability",
          "Energy",
          "Loudness",
          "Speechiness",
          "Acousticness",
          "instrumentalness",
          "Liveness",
          "Tempo"
         ],
         "type": "scatterpolar"
        }
       ],
       "layout": {
        "annotations": [
         {
          "font": {
           "size": 16
          },
          "showarrow": false,
          "text": "Sounds - Earlimart",
          "x": 0.25,
          "xanchor": "center",
          "xref": "paper",
          "y": 1.03,
          "yanchor": "bottom",
          "yref": "paper"
         },
         {
          "font": {
           "size": 16
          },
          "showarrow": false,
          "text": "Intro - Swell",
          "x": 0.75,
          "xanchor": "center",
          "xref": "paper",
          "y": 1.03,
          "yanchor": "bottom",
          "yref": "paper"
         },
         {
          "font": {
           "size": 16
          },
          "showarrow": false,
          "text": "Fotzepolitic - Cocteau Twins",
          "x": 0.25,
          "xanchor": "center",
          "xref": "paper",
          "y": 0.82,
          "yanchor": "bottom",
          "yref": "paper"
         },
         {
          "font": {
           "size": 16
          },
          "showarrow": false,
          "text": "Jaden's Interlude - Will Smith",
          "x": 0.75,
          "xanchor": "center",
          "xref": "paper",
          "y": 0.82,
          "yanchor": "bottom",
          "yref": "paper"
         },
         {
          "font": {
           "size": 16
          },
          "showarrow": false,
          "text": "Lungless - Akimbo",
          "x": 0.25,
          "xanchor": "center",
          "xref": "paper",
          "y": 0.6,
          "yanchor": "bottom",
          "yref": "paper"
         },
         {
          "font": {
           "size": 16
          },
          "showarrow": false,
          "text": "Introduction - Paul Horn",
          "x": 0.75,
          "xanchor": "center",
          "xref": "paper",
          "y": 0.6,
          "yanchor": "bottom",
          "yref": "paper"
         },
         {
          "font": {
           "size": 16
          },
          "showarrow": false,
          "text": "Kyrie - Nodes Of Ranvier",
          "x": 0.25,
          "xanchor": "center",
          "xref": "paper",
          "y": 0.38,
          "yanchor": "bottom",
          "yref": "paper"
         },
         {
          "font": {
           "size": 16
          },
          "showarrow": false,
          "text": "Seat Belts - Brian Regan",
          "x": 0.75,
          "xanchor": "center",
          "xref": "paper",
          "y": 0.38,
          "yanchor": "bottom",
          "yref": "paper"
         },
         {
          "font": {
           "size": 16
          },
          "showarrow": false,
          "text": "Shift Your Gaze - The Life And Times",
          "x": 0.25,
          "xanchor": "center",
          "xref": "paper",
          "y": 0.16,
          "yanchor": "bottom",
          "yref": "paper"
         },
         {
          "font": {
           "size": 16
          },
          "showarrow": false,
          "text": "The Woodbridge Dog Disaster - Stan Rogers",
          "x": 0.75,
          "xanchor": "center",
          "xref": "paper",
          "y": 0.16,
          "yanchor": "bottom",
          "yref": "paper"
         },
         {
          "font": {
           "color": "black",
           "size": 20
          },
          "showarrow": false,
          "text": "Closest tracks from centroid 10",
          "x": 0.12,
          "y": 1.09
         },
         {
          "font": {
           "color": "black",
           "size": 22
          },
          "showarrow": false,
          "text": "Furthest tracks from centroid 10",
          "x": 0.9,
          "y": 1.09
         },
         {
          "font": {
           "color": "black",
           "size": 22
          },
          "showarrow": false,
          "text": "Rank",
          "x": 0.005,
          "y": 1.09
         },
         {
          "font": {
           "color": "black",
           "size": 22
          },
          "showarrow": false,
          "text": "1",
          "x": 0.02,
          "y": 1.05
         },
         {
          "font": {
           "color": "black",
           "size": 22
          },
          "showarrow": false,
          "text": "2",
          "x": 0.02,
          "y": 0.84
         },
         {
          "font": {
           "color": "black",
           "size": 22
          },
          "showarrow": false,
          "text": "3",
          "x": 0.02,
          "y": 0.608
         },
         {
          "font": {
           "color": "black",
           "size": 22
          },
          "showarrow": false,
          "text": "4",
          "x": 0.02,
          "y": 0.389
         },
         {
          "font": {
           "color": "black",
           "size": 22
          },
          "showarrow": false,
          "text": "5",
          "x": 0.02,
          "y": 0.159
         }
        ],
        "height": 1600,
        "margin": {
         "b": 50,
         "l": 50,
         "r": 50,
         "t": 200
        },
        "polar": {
         "domain": {
          "x": [
           0,
           0.5
          ],
          "y": [
           0.88,
           1
          ]
         },
         "radialaxis": {
          "range": [
           -2.066683117237772,
           1.771000193220188
          ],
          "showticklabels": false,
          "ticks": ""
         }
        },
        "polar10": {
         "domain": {
          "x": [
           0.5,
           1
          ],
          "y": [
           0,
           0.12
          ]
         },
         "radialaxis": {
          "range": [
           -6.096761360070624,
           8.693488912369338
          ],
          "showticklabels": false,
          "ticks": ""
         }
        },
        "polar2": {
         "domain": {
          "x": [
           0.5,
           1
          ],
          "y": [
           0.88,
           1
          ]
         },
         "radialaxis": {
          "range": [
           -6.096761360070624,
           8.693488912369338
          ],
          "showticklabels": false,
          "ticks": ""
         }
        },
        "polar3": {
         "domain": {
          "x": [
           0,
           0.5
          ],
          "y": [
           0.66,
           0.78
          ]
         },
         "radialaxis": {
          "range": [
           -2.066683117237772,
           1.771000193220188
          ],
          "showticklabels": false,
          "ticks": ""
         }
        },
        "polar4": {
         "domain": {
          "x": [
           0.5,
           1
          ],
          "y": [
           0.66,
           0.78
          ]
         },
         "radialaxis": {
          "range": [
           -6.096761360070624,
           8.693488912369338
          ],
          "showticklabels": false,
          "ticks": ""
         }
        },
        "polar5": {
         "domain": {
          "x": [
           0,
           0.5
          ],
          "y": [
           0.44,
           0.56
          ]
         },
         "radialaxis": {
          "range": [
           -2.066683117237772,
           1.771000193220188
          ],
          "showticklabels": false,
          "ticks": ""
         }
        },
        "polar6": {
         "domain": {
          "x": [
           0.5,
           1
          ],
          "y": [
           0.44,
           0.56
          ]
         },
         "radialaxis": {
          "range": [
           -6.096761360070624,
           8.693488912369338
          ],
          "showticklabels": false,
          "ticks": ""
         }
        },
        "polar7": {
         "domain": {
          "x": [
           0,
           0.5
          ],
          "y": [
           0.22,
           0.33999999999999997
          ]
         },
         "radialaxis": {
          "range": [
           -2.066683117237772,
           1.771000193220188
          ],
          "showticklabels": false,
          "ticks": ""
         }
        },
        "polar8": {
         "domain": {
          "x": [
           0.5,
           1
          ],
          "y": [
           0.22,
           0.33999999999999997
          ]
         },
         "radialaxis": {
          "range": [
           -6.096761360070624,
           8.693488912369338
          ],
          "showticklabels": false,
          "ticks": ""
         }
        },
        "polar9": {
         "domain": {
          "x": [
           0,
           0.5
          ],
          "y": [
           0,
           0.12
          ]
         },
         "radialaxis": {
          "range": [
           -2.066683117237772,
           1.771000193220188
          ],
          "showticklabels": false,
          "ticks": ""
         }
        },
        "showlegend": false,
        "template": {
         "data": {
          "bar": [
           {
            "error_x": {
             "color": "#2a3f5f"
            },
            "error_y": {
             "color": "#2a3f5f"
            },
            "marker": {
             "line": {
              "color": "#E5ECF6",
              "width": 0.5
             },
             "pattern": {
              "fillmode": "overlay",
              "size": 10,
              "solidity": 0.2
             }
            },
            "type": "bar"
           }
          ],
          "barpolar": [
           {
            "marker": {
             "line": {
              "color": "#E5ECF6",
              "width": 0.5
             },
             "pattern": {
              "fillmode": "overlay",
              "size": 10,
              "solidity": 0.2
             }
            },
            "type": "barpolar"
           }
          ],
          "carpet": [
           {
            "aaxis": {
             "endlinecolor": "#2a3f5f",
             "gridcolor": "white",
             "linecolor": "white",
             "minorgridcolor": "white",
             "startlinecolor": "#2a3f5f"
            },
            "baxis": {
             "endlinecolor": "#2a3f5f",
             "gridcolor": "white",
             "linecolor": "white",
             "minorgridcolor": "white",
             "startlinecolor": "#2a3f5f"
            },
            "type": "carpet"
           }
          ],
          "choropleth": [
           {
            "colorbar": {
             "outlinewidth": 0,
             "ticks": ""
            },
            "type": "choropleth"
           }
          ],
          "contour": [
           {
            "colorbar": {
             "outlinewidth": 0,
             "ticks": ""
            },
            "colorscale": [
             [
              0,
              "#0d0887"
             ],
             [
              0.1111111111111111,
              "#46039f"
             ],
             [
              0.2222222222222222,
              "#7201a8"
             ],
             [
              0.3333333333333333,
              "#9c179e"
             ],
             [
              0.4444444444444444,
              "#bd3786"
             ],
             [
              0.5555555555555556,
              "#d8576b"
             ],
             [
              0.6666666666666666,
              "#ed7953"
             ],
             [
              0.7777777777777778,
              "#fb9f3a"
             ],
             [
              0.8888888888888888,
              "#fdca26"
             ],
             [
              1,
              "#f0f921"
             ]
            ],
            "type": "contour"
           }
          ],
          "contourcarpet": [
           {
            "colorbar": {
             "outlinewidth": 0,
             "ticks": ""
            },
            "type": "contourcarpet"
           }
          ],
          "heatmap": [
           {
            "colorbar": {
             "outlinewidth": 0,
             "ticks": ""
            },
            "colorscale": [
             [
              0,
              "#0d0887"
             ],
             [
              0.1111111111111111,
              "#46039f"
             ],
             [
              0.2222222222222222,
              "#7201a8"
             ],
             [
              0.3333333333333333,
              "#9c179e"
             ],
             [
              0.4444444444444444,
              "#bd3786"
             ],
             [
              0.5555555555555556,
              "#d8576b"
             ],
             [
              0.6666666666666666,
              "#ed7953"
             ],
             [
              0.7777777777777778,
              "#fb9f3a"
             ],
             [
              0.8888888888888888,
              "#fdca26"
             ],
             [
              1,
              "#f0f921"
             ]
            ],
            "type": "heatmap"
           }
          ],
          "heatmapgl": [
           {
            "colorbar": {
             "outlinewidth": 0,
             "ticks": ""
            },
            "colorscale": [
             [
              0,
              "#0d0887"
             ],
             [
              0.1111111111111111,
              "#46039f"
             ],
             [
              0.2222222222222222,
              "#7201a8"
             ],
             [
              0.3333333333333333,
              "#9c179e"
             ],
             [
              0.4444444444444444,
              "#bd3786"
             ],
             [
              0.5555555555555556,
              "#d8576b"
             ],
             [
              0.6666666666666666,
              "#ed7953"
             ],
             [
              0.7777777777777778,
              "#fb9f3a"
             ],
             [
              0.8888888888888888,
              "#fdca26"
             ],
             [
              1,
              "#f0f921"
             ]
            ],
            "type": "heatmapgl"
           }
          ],
          "histogram": [
           {
            "marker": {
             "pattern": {
              "fillmode": "overlay",
              "size": 10,
              "solidity": 0.2
             }
            },
            "type": "histogram"
           }
          ],
          "histogram2d": [
           {
            "colorbar": {
             "outlinewidth": 0,
             "ticks": ""
            },
            "colorscale": [
             [
              0,
              "#0d0887"
             ],
             [
              0.1111111111111111,
              "#46039f"
             ],
             [
              0.2222222222222222,
              "#7201a8"
             ],
             [
              0.3333333333333333,
              "#9c179e"
             ],
             [
              0.4444444444444444,
              "#bd3786"
             ],
             [
              0.5555555555555556,
              "#d8576b"
             ],
             [
              0.6666666666666666,
              "#ed7953"
             ],
             [
              0.7777777777777778,
              "#fb9f3a"
             ],
             [
              0.8888888888888888,
              "#fdca26"
             ],
             [
              1,
              "#f0f921"
             ]
            ],
            "type": "histogram2d"
           }
          ],
          "histogram2dcontour": [
           {
            "colorbar": {
             "outlinewidth": 0,
             "ticks": ""
            },
            "colorscale": [
             [
              0,
              "#0d0887"
             ],
             [
              0.1111111111111111,
              "#46039f"
             ],
             [
              0.2222222222222222,
              "#7201a8"
             ],
             [
              0.3333333333333333,
              "#9c179e"
             ],
             [
              0.4444444444444444,
              "#bd3786"
             ],
             [
              0.5555555555555556,
              "#d8576b"
             ],
             [
              0.6666666666666666,
              "#ed7953"
             ],
             [
              0.7777777777777778,
              "#fb9f3a"
             ],
             [
              0.8888888888888888,
              "#fdca26"
             ],
             [
              1,
              "#f0f921"
             ]
            ],
            "type": "histogram2dcontour"
           }
          ],
          "mesh3d": [
           {
            "colorbar": {
             "outlinewidth": 0,
             "ticks": ""
            },
            "type": "mesh3d"
           }
          ],
          "parcoords": [
           {
            "line": {
             "colorbar": {
              "outlinewidth": 0,
              "ticks": ""
             }
            },
            "type": "parcoords"
           }
          ],
          "pie": [
           {
            "automargin": true,
            "type": "pie"
           }
          ],
          "scatter": [
           {
            "fillpattern": {
             "fillmode": "overlay",
             "size": 10,
             "solidity": 0.2
            },
            "type": "scatter"
           }
          ],
          "scatter3d": [
           {
            "line": {
             "colorbar": {
              "outlinewidth": 0,
              "ticks": ""
             }
            },
            "marker": {
             "colorbar": {
              "outlinewidth": 0,
              "ticks": ""
             }
            },
            "type": "scatter3d"
           }
          ],
          "scattercarpet": [
           {
            "marker": {
             "colorbar": {
              "outlinewidth": 0,
              "ticks": ""
             }
            },
            "type": "scattercarpet"
           }
          ],
          "scattergeo": [
           {
            "marker": {
             "colorbar": {
              "outlinewidth": 0,
              "ticks": ""
             }
            },
            "type": "scattergeo"
           }
          ],
          "scattergl": [
           {
            "marker": {
             "colorbar": {
              "outlinewidth": 0,
              "ticks": ""
             }
            },
            "type": "scattergl"
           }
          ],
          "scattermapbox": [
           {
            "marker": {
             "colorbar": {
              "outlinewidth": 0,
              "ticks": ""
             }
            },
            "type": "scattermapbox"
           }
          ],
          "scatterpolar": [
           {
            "marker": {
             "colorbar": {
              "outlinewidth": 0,
              "ticks": ""
             }
            },
            "type": "scatterpolar"
           }
          ],
          "scatterpolargl": [
           {
            "marker": {
             "colorbar": {
              "outlinewidth": 0,
              "ticks": ""
             }
            },
            "type": "scatterpolargl"
           }
          ],
          "scatterternary": [
           {
            "marker": {
             "colorbar": {
              "outlinewidth": 0,
              "ticks": ""
             }
            },
            "type": "scatterternary"
           }
          ],
          "surface": [
           {
            "colorbar": {
             "outlinewidth": 0,
             "ticks": ""
            },
            "colorscale": [
             [
              0,
              "#0d0887"
             ],
             [
              0.1111111111111111,
              "#46039f"
             ],
             [
              0.2222222222222222,
              "#7201a8"
             ],
             [
              0.3333333333333333,
              "#9c179e"
             ],
             [
              0.4444444444444444,
              "#bd3786"
             ],
             [
              0.5555555555555556,
              "#d8576b"
             ],
             [
              0.6666666666666666,
              "#ed7953"
             ],
             [
              0.7777777777777778,
              "#fb9f3a"
             ],
             [
              0.8888888888888888,
              "#fdca26"
             ],
             [
              1,
              "#f0f921"
             ]
            ],
            "type": "surface"
           }
          ],
          "table": [
           {
            "cells": {
             "fill": {
              "color": "#EBF0F8"
             },
             "line": {
              "color": "white"
             }
            },
            "header": {
             "fill": {
              "color": "#C8D4E3"
             },
             "line": {
              "color": "white"
             }
            },
            "type": "table"
           }
          ]
         },
         "layout": {
          "annotationdefaults": {
           "arrowcolor": "#2a3f5f",
           "arrowhead": 0,
           "arrowwidth": 1
          },
          "autotypenumbers": "strict",
          "coloraxis": {
           "colorbar": {
            "outlinewidth": 0,
            "ticks": ""
           }
          },
          "colorscale": {
           "diverging": [
            [
             0,
             "#8e0152"
            ],
            [
             0.1,
             "#c51b7d"
            ],
            [
             0.2,
             "#de77ae"
            ],
            [
             0.3,
             "#f1b6da"
            ],
            [
             0.4,
             "#fde0ef"
            ],
            [
             0.5,
             "#f7f7f7"
            ],
            [
             0.6,
             "#e6f5d0"
            ],
            [
             0.7,
             "#b8e186"
            ],
            [
             0.8,
             "#7fbc41"
            ],
            [
             0.9,
             "#4d9221"
            ],
            [
             1,
             "#276419"
            ]
           ],
           "sequential": [
            [
             0,
             "#0d0887"
            ],
            [
             0.1111111111111111,
             "#46039f"
            ],
            [
             0.2222222222222222,
             "#7201a8"
            ],
            [
             0.3333333333333333,
             "#9c179e"
            ],
            [
             0.4444444444444444,
             "#bd3786"
            ],
            [
             0.5555555555555556,
             "#d8576b"
            ],
            [
             0.6666666666666666,
             "#ed7953"
            ],
            [
             0.7777777777777778,
             "#fb9f3a"
            ],
            [
             0.8888888888888888,
             "#fdca26"
            ],
            [
             1,
             "#f0f921"
            ]
           ],
           "sequentialminus": [
            [
             0,
             "#0d0887"
            ],
            [
             0.1111111111111111,
             "#46039f"
            ],
            [
             0.2222222222222222,
             "#7201a8"
            ],
            [
             0.3333333333333333,
             "#9c179e"
            ],
            [
             0.4444444444444444,
             "#bd3786"
            ],
            [
             0.5555555555555556,
             "#d8576b"
            ],
            [
             0.6666666666666666,
             "#ed7953"
            ],
            [
             0.7777777777777778,
             "#fb9f3a"
            ],
            [
             0.8888888888888888,
             "#fdca26"
            ],
            [
             1,
             "#f0f921"
            ]
           ]
          },
          "colorway": [
           "#636efa",
           "#EF553B",
           "#00cc96",
           "#ab63fa",
           "#FFA15A",
           "#19d3f3",
           "#FF6692",
           "#B6E880",
           "#FF97FF",
           "#FECB52"
          ],
          "font": {
           "color": "#2a3f5f"
          },
          "geo": {
           "bgcolor": "white",
           "lakecolor": "white",
           "landcolor": "#E5ECF6",
           "showlakes": true,
           "showland": true,
           "subunitcolor": "white"
          },
          "hoverlabel": {
           "align": "left"
          },
          "hovermode": "closest",
          "mapbox": {
           "style": "light"
          },
          "paper_bgcolor": "white",
          "plot_bgcolor": "#E5ECF6",
          "polar": {
           "angularaxis": {
            "gridcolor": "white",
            "linecolor": "white",
            "ticks": ""
           },
           "bgcolor": "#E5ECF6",
           "radialaxis": {
            "gridcolor": "white",
            "linecolor": "white",
            "ticks": ""
           }
          },
          "scene": {
           "xaxis": {
            "backgroundcolor": "#E5ECF6",
            "gridcolor": "white",
            "gridwidth": 2,
            "linecolor": "white",
            "showbackground": true,
            "ticks": "",
            "zerolinecolor": "white"
           },
           "yaxis": {
            "backgroundcolor": "#E5ECF6",
            "gridcolor": "white",
            "gridwidth": 2,
            "linecolor": "white",
            "showbackground": true,
            "ticks": "",
            "zerolinecolor": "white"
           },
           "zaxis": {
            "backgroundcolor": "#E5ECF6",
            "gridcolor": "white",
            "gridwidth": 2,
            "linecolor": "white",
            "showbackground": true,
            "ticks": "",
            "zerolinecolor": "white"
           }
          },
          "shapedefaults": {
           "line": {
            "color": "#2a3f5f"
           }
          },
          "ternary": {
           "aaxis": {
            "gridcolor": "white",
            "linecolor": "white",
            "ticks": ""
           },
           "baxis": {
            "gridcolor": "white",
            "linecolor": "white",
            "ticks": ""
           },
           "bgcolor": "#E5ECF6",
           "caxis": {
            "gridcolor": "white",
            "linecolor": "white",
            "ticks": ""
           }
          },
          "title": {
           "x": 0.05
          },
          "xaxis": {
           "automargin": true,
           "gridcolor": "white",
           "linecolor": "white",
           "ticks": "",
           "title": {
            "standoff": 15
           },
           "zerolinecolor": "white",
           "zerolinewidth": 2
          },
          "yaxis": {
           "automargin": true,
           "gridcolor": "white",
           "linecolor": "white",
           "ticks": "",
           "title": {
            "standoff": 15
           },
           "zerolinecolor": "white",
           "zerolinewidth": 2
          }
         }
        },
        "title": {
         "font": {
          "size": 18
         },
         "text": "Most similar and different tracks from centroid 10 profile (blue) of user '22e08d5e101ab5b86dc394856d508e175a5242a6'",
         "x": 0.5,
         "y": 0.99
        },
        "width": 1200
       }
      }
     },
     "metadata": {},
     "output_type": "display_data"
    },
    {
     "name": "stdout",
     "output_type": "stream",
     "text": [
      "['Flying High Again - Ozzy Osbourne',\n",
      " 'Intro - Swell',\n",
      " 'Machine Gun Kelly - Angelic Upstarts',\n",
      " \"Jaden's Interlude - Will Smith\",\n",
      " 'Anti-Christ - Less Than Jake',\n",
      " 'Introduction - Paul Horn',\n",
      " 'The Funeral Portrait - Opeth',\n",
      " '(Kanji) Ooioo - OOIOO',\n",
      " 'Scottish And Proud - The Real McKenzies',\n",
      " '40 Break - Brotha Lynch Hung']\n"
     ]
    },
    {
     "data": {
      "application/vnd.plotly.v1+json": {
       "config": {
        "plotlyServerURL": "https://plot.ly"
       },
       "data": [
        {
         "fill": "toself",
         "line": {
          "color": "#636EFA"
         },
         "mode": "lines+markers",
         "name": "Cluster center centroid 11 profile",
         "r": [
          -1.1179504937711489,
          1.3223940431620118,
          0.6452789562318806,
          0.146097252319302,
          -0.8175881736108357,
          -0.4557954059426392,
          -0.23515093979639834,
          0.36895657257345377
         ],
         "subplot": "polar",
         "theta": [
          "Danceability",
          "Energy",
          "Loudness",
          "Speechiness",
          "Acousticness",
          "instrumentalness",
          "Liveness",
          "Tempo"
         ],
         "type": "scatterpolar"
        },
        {
         "fill": "toself",
         "line": {
          "color": "#EF553B"
         },
         "name": "Closest track rank 1",
         "r": [
          -1.0937622357282795,
          1.1657406230820222,
          0.6103274150098961,
          0.06707093995177897,
          -0.8333291292625712,
          -0.6233984862267813,
          -0.12845321843190838,
          0.12189045226274334
         ],
         "subplot": "polar",
         "theta": [
          "Danceability",
          "Energy",
          "Loudness",
          "Speechiness",
          "Acousticness",
          "instrumentalness",
          "Liveness",
          "Tempo"
         ],
         "type": "scatterpolar"
        },
        {
         "fill": "toself",
         "line": {
          "color": "#636EFA"
         },
         "mode": "lines+markers",
         "name": "Cluster center centroid 11 profile",
         "r": [
          -1.1179504937711489,
          1.3223940431620118,
          0.6452789562318806,
          0.146097252319302,
          -0.8175881736108357,
          -0.4557954059426392,
          -0.23515093979639834,
          0.36895657257345377
         ],
         "showlegend": false,
         "subplot": "polar2",
         "theta": [
          "Danceability",
          "Energy",
          "Loudness",
          "Speechiness",
          "Acousticness",
          "instrumentalness",
          "Liveness",
          "Tempo"
         ],
         "type": "scatterpolar"
        },
        {
         "fill": "toself",
         "line": {
          "color": "#B6E880"
         },
         "name": "Furthest track rank 1",
         "r": [
          1.6397255477255994,
          -1.8998935543184103,
          -4.23880774133607,
          8.442136407345517,
          1.8013279038255745,
          -0.6235690916720154,
          1.7305813247342028,
          -2.330469562374479
         ],
         "subplot": "polar2",
         "theta": [
          "Danceability",
          "Energy",
          "Loudness",
          "Speechiness",
          "Acousticness",
          "instrumentalness",
          "Liveness",
          "Tempo"
         ],
         "type": "scatterpolar"
        },
        {
         "fill": "toself",
         "line": {
          "color": "#636EFA"
         },
         "mode": "lines+markers",
         "name": "Cluster center centroid 11 profile",
         "r": [
          -1.1179504937711489,
          1.3223940431620118,
          0.6452789562318806,
          0.146097252319302,
          -0.8175881736108357,
          -0.4557954059426392,
          -0.23515093979639834,
          0.36895657257345377
         ],
         "showlegend": false,
         "subplot": "polar3",
         "theta": [
          "Danceability",
          "Energy",
          "Loudness",
          "Speechiness",
          "Acousticness",
          "instrumentalness",
          "Liveness",
          "Tempo"
         ],
         "type": "scatterpolar"
        },
        {
         "fill": "toself",
         "line": {
          "color": "#EF553B"
         },
         "name": "Closest track rank 2",
         "r": [
          -1.0043229626500338,
          1.114777395068972,
          0.506119961893712,
          0.12538472111730573,
          -0.7856770302497799,
          -0.5977040875642102,
          -0.059205513385606194,
          0.4617991729767514
         ],
         "subplot": "polar3",
         "theta": [
          "Danceability",
          "Energy",
          "Loudness",
          "Speechiness",
          "Acousticness",
          "instrumentalness",
          "Liveness",
          "Tempo"
         ],
         "type": "scatterpolar"
        },
        {
         "fill": "toself",
         "line": {
          "color": "#636EFA"
         },
         "mode": "lines+markers",
         "name": "Cluster center centroid 11 profile",
         "r": [
          -1.1179504937711489,
          1.3223940431620118,
          0.6452789562318806,
          0.146097252319302,
          -0.8175881736108357,
          -0.4557954059426392,
          -0.23515093979639834,
          0.36895657257345377
         ],
         "showlegend": false,
         "subplot": "polar4",
         "theta": [
          "Danceability",
          "Energy",
          "Loudness",
          "Speechiness",
          "Acousticness",
          "instrumentalness",
          "Liveness",
          "Tempo"
         ],
         "type": "scatterpolar"
        },
        {
         "fill": "toself",
         "line": {
          "color": "#B6E880"
         },
         "name": "Furthest track rank 2",
         "r": [
          1.0527803181496134,
          -1.8606910712314484,
          -2.8141140518642684,
          8.502461008551235,
          1.7796819146568825,
          -0.6235690916720154,
          3.6908240521987556,
          -2.3667530739111062
         ],
         "subplot": "polar4",
         "theta": [
          "Danceability",
          "Energy",
          "Loudness",
          "Speechiness",
          "Acousticness",
          "instrumentalness",
          "Liveness",
          "Tempo"
         ],
         "type": "scatterpolar"
        },
        {
         "fill": "toself",
         "line": {
          "color": "#636EFA"
         },
         "mode": "lines+markers",
         "name": "Cluster center centroid 11 profile",
         "r": [
          -1.1179504937711489,
          1.3223940431620118,
          0.6452789562318806,
          0.146097252319302,
          -0.8175881736108357,
          -0.4557954059426392,
          -0.23515093979639834,
          0.36895657257345377
         ],
         "showlegend": false,
         "subplot": "polar5",
         "theta": [
          "Danceability",
          "Energy",
          "Loudness",
          "Speechiness",
          "Acousticness",
          "instrumentalness",
          "Liveness",
          "Tempo"
         ],
         "type": "scatterpolar"
        },
        {
         "fill": "toself",
         "line": {
          "color": "#EF553B"
         },
         "name": "Closest track rank 3",
         "r": [
          -1.037862690054376,
          1.2049431061689844,
          0.6087519243580315,
          -0.14104893420794534,
          -0.8122706740856013,
          -0.6232492064622015,
          -0.2935823612346289,
          0.30935526186865014
         ],
         "subplot": "polar5",
         "theta": [
          "Danceability",
          "Energy",
          "Loudness",
          "Speechiness",
          "Acousticness",
          "instrumentalness",
          "Liveness",
          "Tempo"
         ],
         "type": "scatterpolar"
        },
        {
         "fill": "toself",
         "line": {
          "color": "#636EFA"
         },
         "mode": "lines+markers",
         "name": "Cluster center centroid 11 profile",
         "r": [
          -1.1179504937711489,
          1.3223940431620118,
          0.6452789562318806,
          0.146097252319302,
          -0.8175881736108357,
          -0.4557954059426392,
          -0.23515093979639834,
          0.36895657257345377
         ],
         "showlegend": false,
         "subplot": "polar6",
         "theta": [
          "Danceability",
          "Energy",
          "Loudness",
          "Speechiness",
          "Acousticness",
          "instrumentalness",
          "Liveness",
          "Tempo"
         ],
         "type": "scatterpolar"
        },
        {
         "fill": "toself",
         "line": {
          "color": "#B6E880"
         },
         "name": "Furthest track rank 3",
         "r": [
          -0.037260822491504184,
          -2.2378189585280235,
          -6.096761360070624,
          7.607646090666429,
          2.197140277195937,
          -0.6235690916720154,
          -0.3202160939447451,
          -0.8655393974126123
         ],
         "subplot": "polar6",
         "theta": [
          "Danceability",
          "Energy",
          "Loudness",
          "Speechiness",
          "Acousticness",
          "instrumentalness",
          "Liveness",
          "Tempo"
         ],
         "type": "scatterpolar"
        },
        {
         "fill": "toself",
         "line": {
          "color": "#636EFA"
         },
         "mode": "lines+markers",
         "name": "Cluster center centroid 11 profile",
         "r": [
          -1.1179504937711489,
          1.3223940431620118,
          0.6452789562318806,
          0.146097252319302,
          -0.8175881736108357,
          -0.4557954059426392,
          -0.23515093979639834,
          0.36895657257345377
         ],
         "showlegend": false,
         "subplot": "polar7",
         "theta": [
          "Danceability",
          "Energy",
          "Loudness",
          "Speechiness",
          "Acousticness",
          "instrumentalness",
          "Liveness",
          "Tempo"
         ],
         "type": "scatterpolar"
        },
        {
         "fill": "toself",
         "line": {
          "color": "#EF553B"
         },
         "name": "Closest track rank 4",
         "r": [
          -1.1328919177000119,
          1.2480658375646427,
          0.7807054755043907,
          -0.022410551836701455,
          -0.8487104599374268,
          -0.227520736664399,
          -0.41077078515914073,
          0.27898609561912924
         ],
         "subplot": "polar7",
         "theta": [
          "Danceability",
          "Energy",
          "Loudness",
          "Speechiness",
          "Acousticness",
          "instrumentalness",
          "Liveness",
          "Tempo"
         ],
         "type": "scatterpolar"
        },
        {
         "fill": "toself",
         "line": {
          "color": "#636EFA"
         },
         "mode": "lines+markers",
         "name": "Cluster center centroid 11 profile",
         "r": [
          -1.1179504937711489,
          1.3223940431620118,
          0.6452789562318806,
          0.146097252319302,
          -0.8175881736108357,
          -0.4557954059426392,
          -0.23515093979639834,
          0.36895657257345377
         ],
         "showlegend": false,
         "subplot": "polar8",
         "theta": [
          "Danceability",
          "Energy",
          "Loudness",
          "Speechiness",
          "Acousticness",
          "instrumentalness",
          "Liveness",
          "Tempo"
         ],
         "type": "scatterpolar"
        },
        {
         "fill": "toself",
         "line": {
          "color": "#B6E880"
         },
         "name": "Furthest track rank 4",
         "r": [
          -2.854597924456238,
          -2.4412798457493565,
          -8.00310504882673,
          -0.7975816773301675,
          1.105563966260484,
          2.237118641806075,
          -0.5918801675879304,
          -4.040645696797743
         ],
         "subplot": "polar8",
         "theta": [
          "Danceability",
          "Energy",
          "Loudness",
          "Speechiness",
          "Acousticness",
          "instrumentalness",
          "Liveness",
          "Tempo"
         ],
         "type": "scatterpolar"
        },
        {
         "fill": "toself",
         "line": {
          "color": "#636EFA"
         },
         "mode": "lines+markers",
         "name": "Cluster center centroid 11 profile",
         "r": [
          -1.1179504937711489,
          1.3223940431620118,
          0.6452789562318806,
          0.146097252319302,
          -0.8175881736108357,
          -0.4557954059426392,
          -0.23515093979639834,
          0.36895657257345377
         ],
         "showlegend": false,
         "subplot": "polar9",
         "theta": [
          "Danceability",
          "Energy",
          "Loudness",
          "Speechiness",
          "Acousticness",
          "instrumentalness",
          "Liveness",
          "Tempo"
         ],
         "type": "scatterpolar"
        },
        {
         "fill": "toself",
         "line": {
          "color": "#EF553B"
         },
         "name": "Closest track rank 5",
         "r": [
          -1.2614608727499899,
          1.0794951602907061,
          0.7071075550530043,
          0.05400060969054029,
          -0.8311026846623629,
          -0.6235690916720154,
          -0.2722753750665359,
          0.5860668773238084
         ],
         "subplot": "polar9",
         "theta": [
          "Danceability",
          "Energy",
          "Loudness",
          "Speechiness",
          "Acousticness",
          "instrumentalness",
          "Liveness",
          "Tempo"
         ],
         "type": "scatterpolar"
        },
        {
         "fill": "toself",
         "line": {
          "color": "#636EFA"
         },
         "mode": "lines+markers",
         "name": "Cluster center centroid 11 profile",
         "r": [
          -1.1179504937711489,
          1.3223940431620118,
          0.6452789562318806,
          0.146097252319302,
          -0.8175881736108357,
          -0.4557954059426392,
          -0.23515093979639834,
          0.36895657257345377
         ],
         "showlegend": false,
         "subplot": "polar10",
         "theta": [
          "Danceability",
          "Energy",
          "Loudness",
          "Speechiness",
          "Acousticness",
          "instrumentalness",
          "Liveness",
          "Tempo"
         ],
         "type": "scatterpolar"
        },
        {
         "fill": "toself",
         "line": {
          "color": "#B6E880"
         },
         "name": "Furthest track rank 5",
         "r": [
          0.8291821354539994,
          -1.833249333070575,
          -5.241044866015049,
          7.899214996494062,
          0.15932501117196085,
          -0.6235690916720154,
          1.9223442002470392,
          -1.4055058314618147
         ],
         "subplot": "polar10",
         "theta": [
          "Danceability",
          "Energy",
          "Loudness",
          "Speechiness",
          "Acousticness",
          "instrumentalness",
          "Liveness",
          "Tempo"
         ],
         "type": "scatterpolar"
        }
       ],
       "layout": {
        "annotations": [
         {
          "font": {
           "size": 16
          },
          "showarrow": false,
          "text": "Flying High Again - Ozzy Osbourne",
          "x": 0.25,
          "xanchor": "center",
          "xref": "paper",
          "y": 1.03,
          "yanchor": "bottom",
          "yref": "paper"
         },
         {
          "font": {
           "size": 16
          },
          "showarrow": false,
          "text": "Intro - Swell",
          "x": 0.75,
          "xanchor": "center",
          "xref": "paper",
          "y": 1.03,
          "yanchor": "bottom",
          "yref": "paper"
         },
         {
          "font": {
           "size": 16
          },
          "showarrow": false,
          "text": "Machine Gun Kelly - Angelic Upstarts",
          "x": 0.25,
          "xanchor": "center",
          "xref": "paper",
          "y": 0.82,
          "yanchor": "bottom",
          "yref": "paper"
         },
         {
          "font": {
           "size": 16
          },
          "showarrow": false,
          "text": "Jaden's Interlude - Will Smith",
          "x": 0.75,
          "xanchor": "center",
          "xref": "paper",
          "y": 0.82,
          "yanchor": "bottom",
          "yref": "paper"
         },
         {
          "font": {
           "size": 16
          },
          "showarrow": false,
          "text": "Anti-Christ - Less Than Jake",
          "x": 0.25,
          "xanchor": "center",
          "xref": "paper",
          "y": 0.6,
          "yanchor": "bottom",
          "yref": "paper"
         },
         {
          "font": {
           "size": 16
          },
          "showarrow": false,
          "text": "Introduction - Paul Horn",
          "x": 0.75,
          "xanchor": "center",
          "xref": "paper",
          "y": 0.6,
          "yanchor": "bottom",
          "yref": "paper"
         },
         {
          "font": {
           "size": 16
          },
          "showarrow": false,
          "text": "The Funeral Portrait - Opeth",
          "x": 0.25,
          "xanchor": "center",
          "xref": "paper",
          "y": 0.38,
          "yanchor": "bottom",
          "yref": "paper"
         },
         {
          "font": {
           "size": 16
          },
          "showarrow": false,
          "text": "(Kanji) Ooioo - OOIOO",
          "x": 0.75,
          "xanchor": "center",
          "xref": "paper",
          "y": 0.38,
          "yanchor": "bottom",
          "yref": "paper"
         },
         {
          "font": {
           "size": 16
          },
          "showarrow": false,
          "text": "Scottish And Proud - The Real McKenzies",
          "x": 0.25,
          "xanchor": "center",
          "xref": "paper",
          "y": 0.16,
          "yanchor": "bottom",
          "yref": "paper"
         },
         {
          "font": {
           "size": 16
          },
          "showarrow": false,
          "text": "40 Break - Brotha Lynch Hung",
          "x": 0.75,
          "xanchor": "center",
          "xref": "paper",
          "y": 0.16,
          "yanchor": "bottom",
          "yref": "paper"
         },
         {
          "font": {
           "color": "black",
           "size": 20
          },
          "showarrow": false,
          "text": "Closest tracks from centroid 11",
          "x": 0.12,
          "y": 1.09
         },
         {
          "font": {
           "color": "black",
           "size": 22
          },
          "showarrow": false,
          "text": "Furthest tracks from centroid 11",
          "x": 0.9,
          "y": 1.09
         },
         {
          "font": {
           "color": "black",
           "size": 22
          },
          "showarrow": false,
          "text": "Rank",
          "x": 0.005,
          "y": 1.09
         },
         {
          "font": {
           "color": "black",
           "size": 22
          },
          "showarrow": false,
          "text": "1",
          "x": 0.02,
          "y": 1.05
         },
         {
          "font": {
           "color": "black",
           "size": 22
          },
          "showarrow": false,
          "text": "2",
          "x": 0.02,
          "y": 0.84
         },
         {
          "font": {
           "color": "black",
           "size": 22
          },
          "showarrow": false,
          "text": "3",
          "x": 0.02,
          "y": 0.608
         },
         {
          "font": {
           "color": "black",
           "size": 22
          },
          "showarrow": false,
          "text": "4",
          "x": 0.02,
          "y": 0.389
         },
         {
          "font": {
           "color": "black",
           "size": 22
          },
          "showarrow": false,
          "text": "5",
          "x": 0.02,
          "y": 0.159
         }
        ],
        "height": 1600,
        "margin": {
         "b": 50,
         "l": 50,
         "r": 50,
         "t": 200
        },
        "polar": {
         "domain": {
          "x": [
           0,
           0.5
          ],
          "y": [
           0.88,
           1
          ]
         },
         "radialaxis": {
          "range": [
           -1.2614608727499899,
           1.3223940431620118
          ],
          "showticklabels": false,
          "ticks": ""
         }
        },
        "polar10": {
         "domain": {
          "x": [
           0.5,
           1
          ],
          "y": [
           0,
           0.12
          ]
         },
         "radialaxis": {
          "range": [
           -8.00310504882673,
           8.502461008551235
          ],
          "showticklabels": false,
          "ticks": ""
         }
        },
        "polar2": {
         "domain": {
          "x": [
           0.5,
           1
          ],
          "y": [
           0.88,
           1
          ]
         },
         "radialaxis": {
          "range": [
           -8.00310504882673,
           8.502461008551235
          ],
          "showticklabels": false,
          "ticks": ""
         }
        },
        "polar3": {
         "domain": {
          "x": [
           0,
           0.5
          ],
          "y": [
           0.66,
           0.78
          ]
         },
         "radialaxis": {
          "range": [
           -1.2614608727499899,
           1.3223940431620118
          ],
          "showticklabels": false,
          "ticks": ""
         }
        },
        "polar4": {
         "domain": {
          "x": [
           0.5,
           1
          ],
          "y": [
           0.66,
           0.78
          ]
         },
         "radialaxis": {
          "range": [
           -8.00310504882673,
           8.502461008551235
          ],
          "showticklabels": false,
          "ticks": ""
         }
        },
        "polar5": {
         "domain": {
          "x": [
           0,
           0.5
          ],
          "y": [
           0.44,
           0.56
          ]
         },
         "radialaxis": {
          "range": [
           -1.2614608727499899,
           1.3223940431620118
          ],
          "showticklabels": false,
          "ticks": ""
         }
        },
        "polar6": {
         "domain": {
          "x": [
           0.5,
           1
          ],
          "y": [
           0.44,
           0.56
          ]
         },
         "radialaxis": {
          "range": [
           -8.00310504882673,
           8.502461008551235
          ],
          "showticklabels": false,
          "ticks": ""
         }
        },
        "polar7": {
         "domain": {
          "x": [
           0,
           0.5
          ],
          "y": [
           0.22,
           0.33999999999999997
          ]
         },
         "radialaxis": {
          "range": [
           -1.2614608727499899,
           1.3223940431620118
          ],
          "showticklabels": false,
          "ticks": ""
         }
        },
        "polar8": {
         "domain": {
          "x": [
           0.5,
           1
          ],
          "y": [
           0.22,
           0.33999999999999997
          ]
         },
         "radialaxis": {
          "range": [
           -8.00310504882673,
           8.502461008551235
          ],
          "showticklabels": false,
          "ticks": ""
         }
        },
        "polar9": {
         "domain": {
          "x": [
           0,
           0.5
          ],
          "y": [
           0,
           0.12
          ]
         },
         "radialaxis": {
          "range": [
           -1.2614608727499899,
           1.3223940431620118
          ],
          "showticklabels": false,
          "ticks": ""
         }
        },
        "showlegend": false,
        "template": {
         "data": {
          "bar": [
           {
            "error_x": {
             "color": "#2a3f5f"
            },
            "error_y": {
             "color": "#2a3f5f"
            },
            "marker": {
             "line": {
              "color": "#E5ECF6",
              "width": 0.5
             },
             "pattern": {
              "fillmode": "overlay",
              "size": 10,
              "solidity": 0.2
             }
            },
            "type": "bar"
           }
          ],
          "barpolar": [
           {
            "marker": {
             "line": {
              "color": "#E5ECF6",
              "width": 0.5
             },
             "pattern": {
              "fillmode": "overlay",
              "size": 10,
              "solidity": 0.2
             }
            },
            "type": "barpolar"
           }
          ],
          "carpet": [
           {
            "aaxis": {
             "endlinecolor": "#2a3f5f",
             "gridcolor": "white",
             "linecolor": "white",
             "minorgridcolor": "white",
             "startlinecolor": "#2a3f5f"
            },
            "baxis": {
             "endlinecolor": "#2a3f5f",
             "gridcolor": "white",
             "linecolor": "white",
             "minorgridcolor": "white",
             "startlinecolor": "#2a3f5f"
            },
            "type": "carpet"
           }
          ],
          "choropleth": [
           {
            "colorbar": {
             "outlinewidth": 0,
             "ticks": ""
            },
            "type": "choropleth"
           }
          ],
          "contour": [
           {
            "colorbar": {
             "outlinewidth": 0,
             "ticks": ""
            },
            "colorscale": [
             [
              0,
              "#0d0887"
             ],
             [
              0.1111111111111111,
              "#46039f"
             ],
             [
              0.2222222222222222,
              "#7201a8"
             ],
             [
              0.3333333333333333,
              "#9c179e"
             ],
             [
              0.4444444444444444,
              "#bd3786"
             ],
             [
              0.5555555555555556,
              "#d8576b"
             ],
             [
              0.6666666666666666,
              "#ed7953"
             ],
             [
              0.7777777777777778,
              "#fb9f3a"
             ],
             [
              0.8888888888888888,
              "#fdca26"
             ],
             [
              1,
              "#f0f921"
             ]
            ],
            "type": "contour"
           }
          ],
          "contourcarpet": [
           {
            "colorbar": {
             "outlinewidth": 0,
             "ticks": ""
            },
            "type": "contourcarpet"
           }
          ],
          "heatmap": [
           {
            "colorbar": {
             "outlinewidth": 0,
             "ticks": ""
            },
            "colorscale": [
             [
              0,
              "#0d0887"
             ],
             [
              0.1111111111111111,
              "#46039f"
             ],
             [
              0.2222222222222222,
              "#7201a8"
             ],
             [
              0.3333333333333333,
              "#9c179e"
             ],
             [
              0.4444444444444444,
              "#bd3786"
             ],
             [
              0.5555555555555556,
              "#d8576b"
             ],
             [
              0.6666666666666666,
              "#ed7953"
             ],
             [
              0.7777777777777778,
              "#fb9f3a"
             ],
             [
              0.8888888888888888,
              "#fdca26"
             ],
             [
              1,
              "#f0f921"
             ]
            ],
            "type": "heatmap"
           }
          ],
          "heatmapgl": [
           {
            "colorbar": {
             "outlinewidth": 0,
             "ticks": ""
            },
            "colorscale": [
             [
              0,
              "#0d0887"
             ],
             [
              0.1111111111111111,
              "#46039f"
             ],
             [
              0.2222222222222222,
              "#7201a8"
             ],
             [
              0.3333333333333333,
              "#9c179e"
             ],
             [
              0.4444444444444444,
              "#bd3786"
             ],
             [
              0.5555555555555556,
              "#d8576b"
             ],
             [
              0.6666666666666666,
              "#ed7953"
             ],
             [
              0.7777777777777778,
              "#fb9f3a"
             ],
             [
              0.8888888888888888,
              "#fdca26"
             ],
             [
              1,
              "#f0f921"
             ]
            ],
            "type": "heatmapgl"
           }
          ],
          "histogram": [
           {
            "marker": {
             "pattern": {
              "fillmode": "overlay",
              "size": 10,
              "solidity": 0.2
             }
            },
            "type": "histogram"
           }
          ],
          "histogram2d": [
           {
            "colorbar": {
             "outlinewidth": 0,
             "ticks": ""
            },
            "colorscale": [
             [
              0,
              "#0d0887"
             ],
             [
              0.1111111111111111,
              "#46039f"
             ],
             [
              0.2222222222222222,
              "#7201a8"
             ],
             [
              0.3333333333333333,
              "#9c179e"
             ],
             [
              0.4444444444444444,
              "#bd3786"
             ],
             [
              0.5555555555555556,
              "#d8576b"
             ],
             [
              0.6666666666666666,
              "#ed7953"
             ],
             [
              0.7777777777777778,
              "#fb9f3a"
             ],
             [
              0.8888888888888888,
              "#fdca26"
             ],
             [
              1,
              "#f0f921"
             ]
            ],
            "type": "histogram2d"
           }
          ],
          "histogram2dcontour": [
           {
            "colorbar": {
             "outlinewidth": 0,
             "ticks": ""
            },
            "colorscale": [
             [
              0,
              "#0d0887"
             ],
             [
              0.1111111111111111,
              "#46039f"
             ],
             [
              0.2222222222222222,
              "#7201a8"
             ],
             [
              0.3333333333333333,
              "#9c179e"
             ],
             [
              0.4444444444444444,
              "#bd3786"
             ],
             [
              0.5555555555555556,
              "#d8576b"
             ],
             [
              0.6666666666666666,
              "#ed7953"
             ],
             [
              0.7777777777777778,
              "#fb9f3a"
             ],
             [
              0.8888888888888888,
              "#fdca26"
             ],
             [
              1,
              "#f0f921"
             ]
            ],
            "type": "histogram2dcontour"
           }
          ],
          "mesh3d": [
           {
            "colorbar": {
             "outlinewidth": 0,
             "ticks": ""
            },
            "type": "mesh3d"
           }
          ],
          "parcoords": [
           {
            "line": {
             "colorbar": {
              "outlinewidth": 0,
              "ticks": ""
             }
            },
            "type": "parcoords"
           }
          ],
          "pie": [
           {
            "automargin": true,
            "type": "pie"
           }
          ],
          "scatter": [
           {
            "fillpattern": {
             "fillmode": "overlay",
             "size": 10,
             "solidity": 0.2
            },
            "type": "scatter"
           }
          ],
          "scatter3d": [
           {
            "line": {
             "colorbar": {
              "outlinewidth": 0,
              "ticks": ""
             }
            },
            "marker": {
             "colorbar": {
              "outlinewidth": 0,
              "ticks": ""
             }
            },
            "type": "scatter3d"
           }
          ],
          "scattercarpet": [
           {
            "marker": {
             "colorbar": {
              "outlinewidth": 0,
              "ticks": ""
             }
            },
            "type": "scattercarpet"
           }
          ],
          "scattergeo": [
           {
            "marker": {
             "colorbar": {
              "outlinewidth": 0,
              "ticks": ""
             }
            },
            "type": "scattergeo"
           }
          ],
          "scattergl": [
           {
            "marker": {
             "colorbar": {
              "outlinewidth": 0,
              "ticks": ""
             }
            },
            "type": "scattergl"
           }
          ],
          "scattermapbox": [
           {
            "marker": {
             "colorbar": {
              "outlinewidth": 0,
              "ticks": ""
             }
            },
            "type": "scattermapbox"
           }
          ],
          "scatterpolar": [
           {
            "marker": {
             "colorbar": {
              "outlinewidth": 0,
              "ticks": ""
             }
            },
            "type": "scatterpolar"
           }
          ],
          "scatterpolargl": [
           {
            "marker": {
             "colorbar": {
              "outlinewidth": 0,
              "ticks": ""
             }
            },
            "type": "scatterpolargl"
           }
          ],
          "scatterternary": [
           {
            "marker": {
             "colorbar": {
              "outlinewidth": 0,
              "ticks": ""
             }
            },
            "type": "scatterternary"
           }
          ],
          "surface": [
           {
            "colorbar": {
             "outlinewidth": 0,
             "ticks": ""
            },
            "colorscale": [
             [
              0,
              "#0d0887"
             ],
             [
              0.1111111111111111,
              "#46039f"
             ],
             [
              0.2222222222222222,
              "#7201a8"
             ],
             [
              0.3333333333333333,
              "#9c179e"
             ],
             [
              0.4444444444444444,
              "#bd3786"
             ],
             [
              0.5555555555555556,
              "#d8576b"
             ],
             [
              0.6666666666666666,
              "#ed7953"
             ],
             [
              0.7777777777777778,
              "#fb9f3a"
             ],
             [
              0.8888888888888888,
              "#fdca26"
             ],
             [
              1,
              "#f0f921"
             ]
            ],
            "type": "surface"
           }
          ],
          "table": [
           {
            "cells": {
             "fill": {
              "color": "#EBF0F8"
             },
             "line": {
              "color": "white"
             }
            },
            "header": {
             "fill": {
              "color": "#C8D4E3"
             },
             "line": {
              "color": "white"
             }
            },
            "type": "table"
           }
          ]
         },
         "layout": {
          "annotationdefaults": {
           "arrowcolor": "#2a3f5f",
           "arrowhead": 0,
           "arrowwidth": 1
          },
          "autotypenumbers": "strict",
          "coloraxis": {
           "colorbar": {
            "outlinewidth": 0,
            "ticks": ""
           }
          },
          "colorscale": {
           "diverging": [
            [
             0,
             "#8e0152"
            ],
            [
             0.1,
             "#c51b7d"
            ],
            [
             0.2,
             "#de77ae"
            ],
            [
             0.3,
             "#f1b6da"
            ],
            [
             0.4,
             "#fde0ef"
            ],
            [
             0.5,
             "#f7f7f7"
            ],
            [
             0.6,
             "#e6f5d0"
            ],
            [
             0.7,
             "#b8e186"
            ],
            [
             0.8,
             "#7fbc41"
            ],
            [
             0.9,
             "#4d9221"
            ],
            [
             1,
             "#276419"
            ]
           ],
           "sequential": [
            [
             0,
             "#0d0887"
            ],
            [
             0.1111111111111111,
             "#46039f"
            ],
            [
             0.2222222222222222,
             "#7201a8"
            ],
            [
             0.3333333333333333,
             "#9c179e"
            ],
            [
             0.4444444444444444,
             "#bd3786"
            ],
            [
             0.5555555555555556,
             "#d8576b"
            ],
            [
             0.6666666666666666,
             "#ed7953"
            ],
            [
             0.7777777777777778,
             "#fb9f3a"
            ],
            [
             0.8888888888888888,
             "#fdca26"
            ],
            [
             1,
             "#f0f921"
            ]
           ],
           "sequentialminus": [
            [
             0,
             "#0d0887"
            ],
            [
             0.1111111111111111,
             "#46039f"
            ],
            [
             0.2222222222222222,
             "#7201a8"
            ],
            [
             0.3333333333333333,
             "#9c179e"
            ],
            [
             0.4444444444444444,
             "#bd3786"
            ],
            [
             0.5555555555555556,
             "#d8576b"
            ],
            [
             0.6666666666666666,
             "#ed7953"
            ],
            [
             0.7777777777777778,
             "#fb9f3a"
            ],
            [
             0.8888888888888888,
             "#fdca26"
            ],
            [
             1,
             "#f0f921"
            ]
           ]
          },
          "colorway": [
           "#636efa",
           "#EF553B",
           "#00cc96",
           "#ab63fa",
           "#FFA15A",
           "#19d3f3",
           "#FF6692",
           "#B6E880",
           "#FF97FF",
           "#FECB52"
          ],
          "font": {
           "color": "#2a3f5f"
          },
          "geo": {
           "bgcolor": "white",
           "lakecolor": "white",
           "landcolor": "#E5ECF6",
           "showlakes": true,
           "showland": true,
           "subunitcolor": "white"
          },
          "hoverlabel": {
           "align": "left"
          },
          "hovermode": "closest",
          "mapbox": {
           "style": "light"
          },
          "paper_bgcolor": "white",
          "plot_bgcolor": "#E5ECF6",
          "polar": {
           "angularaxis": {
            "gridcolor": "white",
            "linecolor": "white",
            "ticks": ""
           },
           "bgcolor": "#E5ECF6",
           "radialaxis": {
            "gridcolor": "white",
            "linecolor": "white",
            "ticks": ""
           }
          },
          "scene": {
           "xaxis": {
            "backgroundcolor": "#E5ECF6",
            "gridcolor": "white",
            "gridwidth": 2,
            "linecolor": "white",
            "showbackground": true,
            "ticks": "",
            "zerolinecolor": "white"
           },
           "yaxis": {
            "backgroundcolor": "#E5ECF6",
            "gridcolor": "white",
            "gridwidth": 2,
            "linecolor": "white",
            "showbackground": true,
            "ticks": "",
            "zerolinecolor": "white"
           },
           "zaxis": {
            "backgroundcolor": "#E5ECF6",
            "gridcolor": "white",
            "gridwidth": 2,
            "linecolor": "white",
            "showbackground": true,
            "ticks": "",
            "zerolinecolor": "white"
           }
          },
          "shapedefaults": {
           "line": {
            "color": "#2a3f5f"
           }
          },
          "ternary": {
           "aaxis": {
            "gridcolor": "white",
            "linecolor": "white",
            "ticks": ""
           },
           "baxis": {
            "gridcolor": "white",
            "linecolor": "white",
            "ticks": ""
           },
           "bgcolor": "#E5ECF6",
           "caxis": {
            "gridcolor": "white",
            "linecolor": "white",
            "ticks": ""
           }
          },
          "title": {
           "x": 0.05
          },
          "xaxis": {
           "automargin": true,
           "gridcolor": "white",
           "linecolor": "white",
           "ticks": "",
           "title": {
            "standoff": 15
           },
           "zerolinecolor": "white",
           "zerolinewidth": 2
          },
          "yaxis": {
           "automargin": true,
           "gridcolor": "white",
           "linecolor": "white",
           "ticks": "",
           "title": {
            "standoff": 15
           },
           "zerolinecolor": "white",
           "zerolinewidth": 2
          }
         }
        },
        "title": {
         "font": {
          "size": 18
         },
         "text": "Most similar and different tracks from centroid 11 profile (blue) of user '22e08d5e101ab5b86dc394856d508e175a5242a6'",
         "x": 0.5,
         "y": 0.99
        },
        "width": 1200
       }
      }
     },
     "metadata": {},
     "output_type": "display_data"
    },
    {
     "name": "stdout",
     "output_type": "stream",
     "text": [
      "['Where Eagles Dare - Sloppy Seconds',\n",
      " 'The Woodbridge Dog Disaster - Stan Rogers',\n",
      " 'Prog - Pinback',\n",
      " \"Jaden's Interlude - Will Smith\",\n",
      " 'M.C.T.F.D. - D.O.A.',\n",
      " 'Joey Ramone - Jello Biafra',\n",
      " 'Tennessee Flat Top Box - Rosanne Cash',\n",
      " 'Holmes Depot - George Lopez',\n",
      " 'My Darling Lorraine - Red Elvises',\n",
      " 'ER - George Lopez']\n"
     ]
    },
    {
     "data": {
      "application/vnd.plotly.v1+json": {
       "config": {
        "plotlyServerURL": "https://plot.ly"
       },
       "data": [
        {
         "fill": "toself",
         "line": {
          "color": "#636EFA"
         },
         "mode": "lines+markers",
         "name": "Cluster center centroid 12 profile",
         "r": [
          0.06217247346736843,
          0.6512549607521286,
          -2.1551899902560945,
          -0.21362276614386527,
          -0.8133015372871987,
          -0.2940723087060761,
          -0.6679168640164094,
          -0.7068347193640947
         ],
         "subplot": "polar",
         "theta": [
          "Danceability",
          "Energy",
          "Loudness",
          "Speechiness",
          "Acousticness",
          "instrumentalness",
          "Liveness",
          "Tempo"
         ],
         "type": "scatterpolar"
        },
        {
         "fill": "toself",
         "line": {
          "color": "#EF553B"
         },
         "name": "Closest track rank 1",
         "r": [
          0.21428713304106095,
          0.6129856115558576,
          -1.7128460862109467,
          -0.2797955169810949,
          -0.8305460735123108,
          -0.49683361806957815,
          -0.6600625233258279,
          -0.6976118632495042
         ],
         "subplot": "polar",
         "theta": [
          "Danceability",
          "Energy",
          "Loudness",
          "Speechiness",
          "Acousticness",
          "instrumentalness",
          "Liveness",
          "Tempo"
         ],
         "type": "scatterpolar"
        },
        {
         "fill": "toself",
         "line": {
          "color": "#636EFA"
         },
         "mode": "lines+markers",
         "name": "Cluster center centroid 12 profile",
         "r": [
          0.06217247346736843,
          0.6512549607521286,
          -2.1551899902560945,
          -0.21362276614386527,
          -0.8133015372871987,
          -0.2940723087060761,
          -0.6679168640164094,
          -0.7068347193640947
         ],
         "showlegend": false,
         "subplot": "polar2",
         "theta": [
          "Danceability",
          "Energy",
          "Loudness",
          "Speechiness",
          "Acousticness",
          "instrumentalness",
          "Liveness",
          "Tempo"
         ],
         "type": "scatterpolar"
        },
        {
         "fill": "toself",
         "line": {
          "color": "#B6E880"
         },
         "name": "Furthest track rank 1",
         "r": [
          0.8739017719931222,
          -1.2569728316922326,
          -0.8456510174060734,
          8.693488912369338,
          1.8075124721594864,
          -0.6235690916720154,
          4.031735830888243,
          -0.7823066168272176
         ],
         "subplot": "polar2",
         "theta": [
          "Danceability",
          "Energy",
          "Loudness",
          "Speechiness",
          "Acousticness",
          "instrumentalness",
          "Liveness",
          "Tempo"
         ],
         "type": "scatterpolar"
        },
        {
         "fill": "toself",
         "line": {
          "color": "#636EFA"
         },
         "mode": "lines+markers",
         "name": "Cluster center centroid 12 profile",
         "r": [
          0.06217247346736843,
          0.6512549607521286,
          -2.1551899902560945,
          -0.21362276614386527,
          -0.8133015372871987,
          -0.2940723087060761,
          -0.6679168640164094,
          -0.7068347193640947
         ],
         "showlegend": false,
         "subplot": "polar3",
         "theta": [
          "Danceability",
          "Energy",
          "Loudness",
          "Speechiness",
          "Acousticness",
          "instrumentalness",
          "Liveness",
          "Tempo"
         ],
         "type": "scatterpolar"
        },
        {
         "fill": "toself",
         "line": {
          "color": "#EF553B"
         },
         "name": "Closest track rank 2",
         "r": [
          0.20869717847367059,
          0.4992984106036676,
          -1.100655432915007,
          -0.46278014063843703,
          -0.7927892838337786,
          -0.2244742108566481,
          -0.5066522229155586,
          -0.8666358771568511
         ],
         "subplot": "polar3",
         "theta": [
          "Danceability",
          "Energy",
          "Loudness",
          "Speechiness",
          "Acousticness",
          "instrumentalness",
          "Liveness",
          "Tempo"
         ],
         "type": "scatterpolar"
        },
        {
         "fill": "toself",
         "line": {
          "color": "#636EFA"
         },
         "mode": "lines+markers",
         "name": "Cluster center centroid 12 profile",
         "r": [
          0.06217247346736843,
          0.6512549607521286,
          -2.1551899902560945,
          -0.21362276614386527,
          -0.8133015372871987,
          -0.2940723087060761,
          -0.6679168640164094,
          -0.7068347193640947
         ],
         "showlegend": false,
         "subplot": "polar4",
         "theta": [
          "Danceability",
          "Energy",
          "Loudness",
          "Speechiness",
          "Acousticness",
          "instrumentalness",
          "Liveness",
          "Tempo"
         ],
         "type": "scatterpolar"
        },
        {
         "fill": "toself",
         "line": {
          "color": "#B6E880"
         },
         "name": "Furthest track rank 2",
         "r": [
          1.0527803181496134,
          -1.8606910712314484,
          -2.8141140518642684,
          8.502461008551235,
          1.7796819146568825,
          -0.6235690916720154,
          3.6908240521987556,
          -2.3667530739111062
         ],
         "subplot": "polar4",
         "theta": [
          "Danceability",
          "Energy",
          "Loudness",
          "Speechiness",
          "Acousticness",
          "instrumentalness",
          "Liveness",
          "Tempo"
         ],
         "type": "scatterpolar"
        },
        {
         "fill": "toself",
         "line": {
          "color": "#636EFA"
         },
         "mode": "lines+markers",
         "name": "Cluster center centroid 12 profile",
         "r": [
          0.06217247346736843,
          0.6512549607521286,
          -2.1551899902560945,
          -0.21362276614386527,
          -0.8133015372871987,
          -0.2940723087060761,
          -0.6679168640164094,
          -0.7068347193640947
         ],
         "showlegend": false,
         "subplot": "polar5",
         "theta": [
          "Danceability",
          "Energy",
          "Loudness",
          "Speechiness",
          "Acousticness",
          "instrumentalness",
          "Liveness",
          "Tempo"
         ],
         "type": "scatterpolar"
        },
        {
         "fill": "toself",
         "line": {
          "color": "#EF553B"
         },
         "name": "Closest track rank 3",
         "r": [
          0.2422369058780127,
          0.8678017516211108,
          -1.211389918731773,
          0.07008717001206492,
          -0.8141260445857748,
          -0.6235690916720154,
          -0.3575033197389078,
          -0.4401384833068995
         ],
         "subplot": "polar5",
         "theta": [
          "Danceability",
          "Energy",
          "Loudness",
          "Speechiness",
          "Acousticness",
          "instrumentalness",
          "Liveness",
          "Tempo"
         ],
         "type": "scatterpolar"
        },
        {
         "fill": "toself",
         "line": {
          "color": "#636EFA"
         },
         "mode": "lines+markers",
         "name": "Cluster center centroid 12 profile",
         "r": [
          0.06217247346736843,
          0.6512549607521286,
          -2.1551899902560945,
          -0.21362276614386527,
          -0.8133015372871987,
          -0.2940723087060761,
          -0.6679168640164094,
          -0.7068347193640947
         ],
         "showlegend": false,
         "subplot": "polar6",
         "theta": [
          "Danceability",
          "Energy",
          "Loudness",
          "Speechiness",
          "Acousticness",
          "instrumentalness",
          "Liveness",
          "Tempo"
         ],
         "type": "scatterpolar"
        },
        {
         "fill": "toself",
         "line": {
          "color": "#B6E880"
         },
         "name": "Furthest track rank 3",
         "r": [
          0.6447136347301179,
          -1.1746476172096123,
          -0.35207230318622135,
          8.512515108752188,
          2.0487106371820514,
          -0.6235690916720154,
          3.1634761445384543,
          1.5608705966109602
         ],
         "subplot": "polar6",
         "theta": [
          "Danceability",
          "Energy",
          "Loudness",
          "Speechiness",
          "Acousticness",
          "instrumentalness",
          "Liveness",
          "Tempo"
         ],
         "type": "scatterpolar"
        },
        {
         "fill": "toself",
         "line": {
          "color": "#636EFA"
         },
         "mode": "lines+markers",
         "name": "Cluster center centroid 12 profile",
         "r": [
          0.06217247346736843,
          0.6512549607521286,
          -2.1551899902560945,
          -0.21362276614386527,
          -0.8133015372871987,
          -0.2940723087060761,
          -0.6679168640164094,
          -0.7068347193640947
         ],
         "showlegend": false,
         "subplot": "polar7",
         "theta": [
          "Danceability",
          "Energy",
          "Loudness",
          "Speechiness",
          "Acousticness",
          "instrumentalness",
          "Liveness",
          "Tempo"
         ],
         "type": "scatterpolar"
        },
        {
         "fill": "toself",
         "line": {
          "color": "#EF553B"
         },
         "name": "Closest track rank 4",
         "r": [
          0.5999939981909951,
          0.028868613560122887,
          -1.5251376285459421,
          -0.48992621118100976,
          -0.6817762822400597,
          -0.6233963536587159,
          -0.3308695870287916,
          -0.7998835193939535
         ],
         "subplot": "polar7",
         "theta": [
          "Danceability",
          "Energy",
          "Loudness",
          "Speechiness",
          "Acousticness",
          "instrumentalness",
          "Liveness",
          "Tempo"
         ],
         "type": "scatterpolar"
        },
        {
         "fill": "toself",
         "line": {
          "color": "#636EFA"
         },
         "mode": "lines+markers",
         "name": "Cluster center centroid 12 profile",
         "r": [
          0.06217247346736843,
          0.6512549607521286,
          -2.1551899902560945,
          -0.21362276614386527,
          -0.8133015372871987,
          -0.2940723087060761,
          -0.6679168640164094,
          -0.7068347193640947
         ],
         "showlegend": false,
         "subplot": "polar8",
         "theta": [
          "Danceability",
          "Energy",
          "Loudness",
          "Speechiness",
          "Acousticness",
          "instrumentalness",
          "Liveness",
          "Tempo"
         ],
         "type": "scatterpolar"
        },
        {
         "fill": "toself",
         "line": {
          "color": "#B6E880"
         },
         "name": "Furthest track rank 4",
         "r": [
          -0.6074361883653192,
          -0.2612297612833966,
          -1.5917583761104999,
          8.783975814177914,
          1.918834702169901,
          -0.6235690916720154,
          3.8346462088333833,
          -1.4840868797989244
         ],
         "subplot": "polar8",
         "theta": [
          "Danceability",
          "Energy",
          "Loudness",
          "Speechiness",
          "Acousticness",
          "instrumentalness",
          "Liveness",
          "Tempo"
         ],
         "type": "scatterpolar"
        },
        {
         "fill": "toself",
         "line": {
          "color": "#636EFA"
         },
         "mode": "lines+markers",
         "name": "Cluster center centroid 12 profile",
         "r": [
          0.06217247346736843,
          0.6512549607521286,
          -2.1551899902560945,
          -0.21362276614386527,
          -0.8133015372871987,
          -0.2940723087060761,
          -0.6679168640164094,
          -0.7068347193640947
         ],
         "showlegend": false,
         "subplot": "polar9",
         "theta": [
          "Danceability",
          "Energy",
          "Loudness",
          "Speechiness",
          "Acousticness",
          "instrumentalness",
          "Liveness",
          "Tempo"
         ],
         "type": "scatterpolar"
        },
        {
         "fill": "toself",
         "line": {
          "color": "#EF553B"
         },
         "name": "Closest track rank 5",
         "r": [
          0.3987556337649431,
          -0.4925244114964725,
          -1.9946338428015786,
          -0.1249623738864207,
          -0.8441830466885867,
          0.016201327955672567,
          -0.7165260366712742,
          -0.3288291759372094
         ],
         "subplot": "polar9",
         "theta": [
          "Danceability",
          "Energy",
          "Loudness",
          "Speechiness",
          "Acousticness",
          "instrumentalness",
          "Liveness",
          "Tempo"
         ],
         "type": "scatterpolar"
        },
        {
         "fill": "toself",
         "line": {
          "color": "#636EFA"
         },
         "mode": "lines+markers",
         "name": "Cluster center centroid 12 profile",
         "r": [
          0.06217247346736843,
          0.6512549607521286,
          -2.1551899902560945,
          -0.21362276614386527,
          -0.8133015372871987,
          -0.2940723087060761,
          -0.6679168640164094,
          -0.7068347193640947
         ],
         "showlegend": false,
         "subplot": "polar10",
         "theta": [
          "Danceability",
          "Energy",
          "Loudness",
          "Speechiness",
          "Acousticness",
          "instrumentalness",
          "Liveness",
          "Tempo"
         ],
         "type": "scatterpolar"
        },
        {
         "fill": "toself",
         "line": {
          "color": "#B6E880"
         },
         "name": "Furthest track rank 5",
         "r": [
          -0.28880877802407023,
          0.04454960679490772,
          -1.435559731482786,
          8.794029914378868,
          1.7982356196586182,
          -0.6235690916720154,
          3.7973589830392207,
          -1.909587473881386
         ],
         "subplot": "polar10",
         "theta": [
          "Danceability",
          "Energy",
          "Loudness",
          "Speechiness",
          "Acousticness",
          "instrumentalness",
          "Liveness",
          "Tempo"
         ],
         "type": "scatterpolar"
        }
       ],
       "layout": {
        "annotations": [
         {
          "font": {
           "size": 16
          },
          "showarrow": false,
          "text": "Where Eagles Dare - Sloppy Seconds",
          "x": 0.25,
          "xanchor": "center",
          "xref": "paper",
          "y": 1.03,
          "yanchor": "bottom",
          "yref": "paper"
         },
         {
          "font": {
           "size": 16
          },
          "showarrow": false,
          "text": "The Woodbridge Dog Disaster - Stan Rogers",
          "x": 0.75,
          "xanchor": "center",
          "xref": "paper",
          "y": 1.03,
          "yanchor": "bottom",
          "yref": "paper"
         },
         {
          "font": {
           "size": 16
          },
          "showarrow": false,
          "text": "Prog - Pinback",
          "x": 0.25,
          "xanchor": "center",
          "xref": "paper",
          "y": 0.82,
          "yanchor": "bottom",
          "yref": "paper"
         },
         {
          "font": {
           "size": 16
          },
          "showarrow": false,
          "text": "Jaden's Interlude - Will Smith",
          "x": 0.75,
          "xanchor": "center",
          "xref": "paper",
          "y": 0.82,
          "yanchor": "bottom",
          "yref": "paper"
         },
         {
          "font": {
           "size": 16
          },
          "showarrow": false,
          "text": "M.C.T.F.D. - D.O.A.",
          "x": 0.25,
          "xanchor": "center",
          "xref": "paper",
          "y": 0.6,
          "yanchor": "bottom",
          "yref": "paper"
         },
         {
          "font": {
           "size": 16
          },
          "showarrow": false,
          "text": "Joey Ramone - Jello Biafra",
          "x": 0.75,
          "xanchor": "center",
          "xref": "paper",
          "y": 0.6,
          "yanchor": "bottom",
          "yref": "paper"
         },
         {
          "font": {
           "size": 16
          },
          "showarrow": false,
          "text": "Tennessee Flat Top Box - Rosanne Cash",
          "x": 0.25,
          "xanchor": "center",
          "xref": "paper",
          "y": 0.38,
          "yanchor": "bottom",
          "yref": "paper"
         },
         {
          "font": {
           "size": 16
          },
          "showarrow": false,
          "text": "Holmes Depot - George Lopez",
          "x": 0.75,
          "xanchor": "center",
          "xref": "paper",
          "y": 0.38,
          "yanchor": "bottom",
          "yref": "paper"
         },
         {
          "font": {
           "size": 16
          },
          "showarrow": false,
          "text": "My Darling Lorraine - Red Elvises",
          "x": 0.25,
          "xanchor": "center",
          "xref": "paper",
          "y": 0.16,
          "yanchor": "bottom",
          "yref": "paper"
         },
         {
          "font": {
           "size": 16
          },
          "showarrow": false,
          "text": "ER - George Lopez",
          "x": 0.75,
          "xanchor": "center",
          "xref": "paper",
          "y": 0.16,
          "yanchor": "bottom",
          "yref": "paper"
         },
         {
          "font": {
           "color": "black",
           "size": 20
          },
          "showarrow": false,
          "text": "Closest tracks from centroid 12",
          "x": 0.12,
          "y": 1.09
         },
         {
          "font": {
           "color": "black",
           "size": 22
          },
          "showarrow": false,
          "text": "Furthest tracks from centroid 12",
          "x": 0.9,
          "y": 1.09
         },
         {
          "font": {
           "color": "black",
           "size": 22
          },
          "showarrow": false,
          "text": "Rank",
          "x": 0.005,
          "y": 1.09
         },
         {
          "font": {
           "color": "black",
           "size": 22
          },
          "showarrow": false,
          "text": "1",
          "x": 0.02,
          "y": 1.05
         },
         {
          "font": {
           "color": "black",
           "size": 22
          },
          "showarrow": false,
          "text": "2",
          "x": 0.02,
          "y": 0.84
         },
         {
          "font": {
           "color": "black",
           "size": 22
          },
          "showarrow": false,
          "text": "3",
          "x": 0.02,
          "y": 0.608
         },
         {
          "font": {
           "color": "black",
           "size": 22
          },
          "showarrow": false,
          "text": "4",
          "x": 0.02,
          "y": 0.389
         },
         {
          "font": {
           "color": "black",
           "size": 22
          },
          "showarrow": false,
          "text": "5",
          "x": 0.02,
          "y": 0.159
         }
        ],
        "height": 1600,
        "margin": {
         "b": 50,
         "l": 50,
         "r": 50,
         "t": 200
        },
        "polar": {
         "domain": {
          "x": [
           0,
           0.5
          ],
          "y": [
           0.88,
           1
          ]
         },
         "radialaxis": {
          "range": [
           -2.1551899902560945,
           0.8678017516211108
          ],
          "showticklabels": false,
          "ticks": ""
         }
        },
        "polar10": {
         "domain": {
          "x": [
           0.5,
           1
          ],
          "y": [
           0,
           0.12
          ]
         },
         "radialaxis": {
          "range": [
           -2.8141140518642684,
           8.794029914378868
          ],
          "showticklabels": false,
          "ticks": ""
         }
        },
        "polar2": {
         "domain": {
          "x": [
           0.5,
           1
          ],
          "y": [
           0.88,
           1
          ]
         },
         "radialaxis": {
          "range": [
           -2.8141140518642684,
           8.794029914378868
          ],
          "showticklabels": false,
          "ticks": ""
         }
        },
        "polar3": {
         "domain": {
          "x": [
           0,
           0.5
          ],
          "y": [
           0.66,
           0.78
          ]
         },
         "radialaxis": {
          "range": [
           -2.1551899902560945,
           0.8678017516211108
          ],
          "showticklabels": false,
          "ticks": ""
         }
        },
        "polar4": {
         "domain": {
          "x": [
           0.5,
           1
          ],
          "y": [
           0.66,
           0.78
          ]
         },
         "radialaxis": {
          "range": [
           -2.8141140518642684,
           8.794029914378868
          ],
          "showticklabels": false,
          "ticks": ""
         }
        },
        "polar5": {
         "domain": {
          "x": [
           0,
           0.5
          ],
          "y": [
           0.44,
           0.56
          ]
         },
         "radialaxis": {
          "range": [
           -2.1551899902560945,
           0.8678017516211108
          ],
          "showticklabels": false,
          "ticks": ""
         }
        },
        "polar6": {
         "domain": {
          "x": [
           0.5,
           1
          ],
          "y": [
           0.44,
           0.56
          ]
         },
         "radialaxis": {
          "range": [
           -2.8141140518642684,
           8.794029914378868
          ],
          "showticklabels": false,
          "ticks": ""
         }
        },
        "polar7": {
         "domain": {
          "x": [
           0,
           0.5
          ],
          "y": [
           0.22,
           0.33999999999999997
          ]
         },
         "radialaxis": {
          "range": [
           -2.1551899902560945,
           0.8678017516211108
          ],
          "showticklabels": false,
          "ticks": ""
         }
        },
        "polar8": {
         "domain": {
          "x": [
           0.5,
           1
          ],
          "y": [
           0.22,
           0.33999999999999997
          ]
         },
         "radialaxis": {
          "range": [
           -2.8141140518642684,
           8.794029914378868
          ],
          "showticklabels": false,
          "ticks": ""
         }
        },
        "polar9": {
         "domain": {
          "x": [
           0,
           0.5
          ],
          "y": [
           0,
           0.12
          ]
         },
         "radialaxis": {
          "range": [
           -2.1551899902560945,
           0.8678017516211108
          ],
          "showticklabels": false,
          "ticks": ""
         }
        },
        "showlegend": false,
        "template": {
         "data": {
          "bar": [
           {
            "error_x": {
             "color": "#2a3f5f"
            },
            "error_y": {
             "color": "#2a3f5f"
            },
            "marker": {
             "line": {
              "color": "#E5ECF6",
              "width": 0.5
             },
             "pattern": {
              "fillmode": "overlay",
              "size": 10,
              "solidity": 0.2
             }
            },
            "type": "bar"
           }
          ],
          "barpolar": [
           {
            "marker": {
             "line": {
              "color": "#E5ECF6",
              "width": 0.5
             },
             "pattern": {
              "fillmode": "overlay",
              "size": 10,
              "solidity": 0.2
             }
            },
            "type": "barpolar"
           }
          ],
          "carpet": [
           {
            "aaxis": {
             "endlinecolor": "#2a3f5f",
             "gridcolor": "white",
             "linecolor": "white",
             "minorgridcolor": "white",
             "startlinecolor": "#2a3f5f"
            },
            "baxis": {
             "endlinecolor": "#2a3f5f",
             "gridcolor": "white",
             "linecolor": "white",
             "minorgridcolor": "white",
             "startlinecolor": "#2a3f5f"
            },
            "type": "carpet"
           }
          ],
          "choropleth": [
           {
            "colorbar": {
             "outlinewidth": 0,
             "ticks": ""
            },
            "type": "choropleth"
           }
          ],
          "contour": [
           {
            "colorbar": {
             "outlinewidth": 0,
             "ticks": ""
            },
            "colorscale": [
             [
              0,
              "#0d0887"
             ],
             [
              0.1111111111111111,
              "#46039f"
             ],
             [
              0.2222222222222222,
              "#7201a8"
             ],
             [
              0.3333333333333333,
              "#9c179e"
             ],
             [
              0.4444444444444444,
              "#bd3786"
             ],
             [
              0.5555555555555556,
              "#d8576b"
             ],
             [
              0.6666666666666666,
              "#ed7953"
             ],
             [
              0.7777777777777778,
              "#fb9f3a"
             ],
             [
              0.8888888888888888,
              "#fdca26"
             ],
             [
              1,
              "#f0f921"
             ]
            ],
            "type": "contour"
           }
          ],
          "contourcarpet": [
           {
            "colorbar": {
             "outlinewidth": 0,
             "ticks": ""
            },
            "type": "contourcarpet"
           }
          ],
          "heatmap": [
           {
            "colorbar": {
             "outlinewidth": 0,
             "ticks": ""
            },
            "colorscale": [
             [
              0,
              "#0d0887"
             ],
             [
              0.1111111111111111,
              "#46039f"
             ],
             [
              0.2222222222222222,
              "#7201a8"
             ],
             [
              0.3333333333333333,
              "#9c179e"
             ],
             [
              0.4444444444444444,
              "#bd3786"
             ],
             [
              0.5555555555555556,
              "#d8576b"
             ],
             [
              0.6666666666666666,
              "#ed7953"
             ],
             [
              0.7777777777777778,
              "#fb9f3a"
             ],
             [
              0.8888888888888888,
              "#fdca26"
             ],
             [
              1,
              "#f0f921"
             ]
            ],
            "type": "heatmap"
           }
          ],
          "heatmapgl": [
           {
            "colorbar": {
             "outlinewidth": 0,
             "ticks": ""
            },
            "colorscale": [
             [
              0,
              "#0d0887"
             ],
             [
              0.1111111111111111,
              "#46039f"
             ],
             [
              0.2222222222222222,
              "#7201a8"
             ],
             [
              0.3333333333333333,
              "#9c179e"
             ],
             [
              0.4444444444444444,
              "#bd3786"
             ],
             [
              0.5555555555555556,
              "#d8576b"
             ],
             [
              0.6666666666666666,
              "#ed7953"
             ],
             [
              0.7777777777777778,
              "#fb9f3a"
             ],
             [
              0.8888888888888888,
              "#fdca26"
             ],
             [
              1,
              "#f0f921"
             ]
            ],
            "type": "heatmapgl"
           }
          ],
          "histogram": [
           {
            "marker": {
             "pattern": {
              "fillmode": "overlay",
              "size": 10,
              "solidity": 0.2
             }
            },
            "type": "histogram"
           }
          ],
          "histogram2d": [
           {
            "colorbar": {
             "outlinewidth": 0,
             "ticks": ""
            },
            "colorscale": [
             [
              0,
              "#0d0887"
             ],
             [
              0.1111111111111111,
              "#46039f"
             ],
             [
              0.2222222222222222,
              "#7201a8"
             ],
             [
              0.3333333333333333,
              "#9c179e"
             ],
             [
              0.4444444444444444,
              "#bd3786"
             ],
             [
              0.5555555555555556,
              "#d8576b"
             ],
             [
              0.6666666666666666,
              "#ed7953"
             ],
             [
              0.7777777777777778,
              "#fb9f3a"
             ],
             [
              0.8888888888888888,
              "#fdca26"
             ],
             [
              1,
              "#f0f921"
             ]
            ],
            "type": "histogram2d"
           }
          ],
          "histogram2dcontour": [
           {
            "colorbar": {
             "outlinewidth": 0,
             "ticks": ""
            },
            "colorscale": [
             [
              0,
              "#0d0887"
             ],
             [
              0.1111111111111111,
              "#46039f"
             ],
             [
              0.2222222222222222,
              "#7201a8"
             ],
             [
              0.3333333333333333,
              "#9c179e"
             ],
             [
              0.4444444444444444,
              "#bd3786"
             ],
             [
              0.5555555555555556,
              "#d8576b"
             ],
             [
              0.6666666666666666,
              "#ed7953"
             ],
             [
              0.7777777777777778,
              "#fb9f3a"
             ],
             [
              0.8888888888888888,
              "#fdca26"
             ],
             [
              1,
              "#f0f921"
             ]
            ],
            "type": "histogram2dcontour"
           }
          ],
          "mesh3d": [
           {
            "colorbar": {
             "outlinewidth": 0,
             "ticks": ""
            },
            "type": "mesh3d"
           }
          ],
          "parcoords": [
           {
            "line": {
             "colorbar": {
              "outlinewidth": 0,
              "ticks": ""
             }
            },
            "type": "parcoords"
           }
          ],
          "pie": [
           {
            "automargin": true,
            "type": "pie"
           }
          ],
          "scatter": [
           {
            "fillpattern": {
             "fillmode": "overlay",
             "size": 10,
             "solidity": 0.2
            },
            "type": "scatter"
           }
          ],
          "scatter3d": [
           {
            "line": {
             "colorbar": {
              "outlinewidth": 0,
              "ticks": ""
             }
            },
            "marker": {
             "colorbar": {
              "outlinewidth": 0,
              "ticks": ""
             }
            },
            "type": "scatter3d"
           }
          ],
          "scattercarpet": [
           {
            "marker": {
             "colorbar": {
              "outlinewidth": 0,
              "ticks": ""
             }
            },
            "type": "scattercarpet"
           }
          ],
          "scattergeo": [
           {
            "marker": {
             "colorbar": {
              "outlinewidth": 0,
              "ticks": ""
             }
            },
            "type": "scattergeo"
           }
          ],
          "scattergl": [
           {
            "marker": {
             "colorbar": {
              "outlinewidth": 0,
              "ticks": ""
             }
            },
            "type": "scattergl"
           }
          ],
          "scattermapbox": [
           {
            "marker": {
             "colorbar": {
              "outlinewidth": 0,
              "ticks": ""
             }
            },
            "type": "scattermapbox"
           }
          ],
          "scatterpolar": [
           {
            "marker": {
             "colorbar": {
              "outlinewidth": 0,
              "ticks": ""
             }
            },
            "type": "scatterpolar"
           }
          ],
          "scatterpolargl": [
           {
            "marker": {
             "colorbar": {
              "outlinewidth": 0,
              "ticks": ""
             }
            },
            "type": "scatterpolargl"
           }
          ],
          "scatterternary": [
           {
            "marker": {
             "colorbar": {
              "outlinewidth": 0,
              "ticks": ""
             }
            },
            "type": "scatterternary"
           }
          ],
          "surface": [
           {
            "colorbar": {
             "outlinewidth": 0,
             "ticks": ""
            },
            "colorscale": [
             [
              0,
              "#0d0887"
             ],
             [
              0.1111111111111111,
              "#46039f"
             ],
             [
              0.2222222222222222,
              "#7201a8"
             ],
             [
              0.3333333333333333,
              "#9c179e"
             ],
             [
              0.4444444444444444,
              "#bd3786"
             ],
             [
              0.5555555555555556,
              "#d8576b"
             ],
             [
              0.6666666666666666,
              "#ed7953"
             ],
             [
              0.7777777777777778,
              "#fb9f3a"
             ],
             [
              0.8888888888888888,
              "#fdca26"
             ],
             [
              1,
              "#f0f921"
             ]
            ],
            "type": "surface"
           }
          ],
          "table": [
           {
            "cells": {
             "fill": {
              "color": "#EBF0F8"
             },
             "line": {
              "color": "white"
             }
            },
            "header": {
             "fill": {
              "color": "#C8D4E3"
             },
             "line": {
              "color": "white"
             }
            },
            "type": "table"
           }
          ]
         },
         "layout": {
          "annotationdefaults": {
           "arrowcolor": "#2a3f5f",
           "arrowhead": 0,
           "arrowwidth": 1
          },
          "autotypenumbers": "strict",
          "coloraxis": {
           "colorbar": {
            "outlinewidth": 0,
            "ticks": ""
           }
          },
          "colorscale": {
           "diverging": [
            [
             0,
             "#8e0152"
            ],
            [
             0.1,
             "#c51b7d"
            ],
            [
             0.2,
             "#de77ae"
            ],
            [
             0.3,
             "#f1b6da"
            ],
            [
             0.4,
             "#fde0ef"
            ],
            [
             0.5,
             "#f7f7f7"
            ],
            [
             0.6,
             "#e6f5d0"
            ],
            [
             0.7,
             "#b8e186"
            ],
            [
             0.8,
             "#7fbc41"
            ],
            [
             0.9,
             "#4d9221"
            ],
            [
             1,
             "#276419"
            ]
           ],
           "sequential": [
            [
             0,
             "#0d0887"
            ],
            [
             0.1111111111111111,
             "#46039f"
            ],
            [
             0.2222222222222222,
             "#7201a8"
            ],
            [
             0.3333333333333333,
             "#9c179e"
            ],
            [
             0.4444444444444444,
             "#bd3786"
            ],
            [
             0.5555555555555556,
             "#d8576b"
            ],
            [
             0.6666666666666666,
             "#ed7953"
            ],
            [
             0.7777777777777778,
             "#fb9f3a"
            ],
            [
             0.8888888888888888,
             "#fdca26"
            ],
            [
             1,
             "#f0f921"
            ]
           ],
           "sequentialminus": [
            [
             0,
             "#0d0887"
            ],
            [
             0.1111111111111111,
             "#46039f"
            ],
            [
             0.2222222222222222,
             "#7201a8"
            ],
            [
             0.3333333333333333,
             "#9c179e"
            ],
            [
             0.4444444444444444,
             "#bd3786"
            ],
            [
             0.5555555555555556,
             "#d8576b"
            ],
            [
             0.6666666666666666,
             "#ed7953"
            ],
            [
             0.7777777777777778,
             "#fb9f3a"
            ],
            [
             0.8888888888888888,
             "#fdca26"
            ],
            [
             1,
             "#f0f921"
            ]
           ]
          },
          "colorway": [
           "#636efa",
           "#EF553B",
           "#00cc96",
           "#ab63fa",
           "#FFA15A",
           "#19d3f3",
           "#FF6692",
           "#B6E880",
           "#FF97FF",
           "#FECB52"
          ],
          "font": {
           "color": "#2a3f5f"
          },
          "geo": {
           "bgcolor": "white",
           "lakecolor": "white",
           "landcolor": "#E5ECF6",
           "showlakes": true,
           "showland": true,
           "subunitcolor": "white"
          },
          "hoverlabel": {
           "align": "left"
          },
          "hovermode": "closest",
          "mapbox": {
           "style": "light"
          },
          "paper_bgcolor": "white",
          "plot_bgcolor": "#E5ECF6",
          "polar": {
           "angularaxis": {
            "gridcolor": "white",
            "linecolor": "white",
            "ticks": ""
           },
           "bgcolor": "#E5ECF6",
           "radialaxis": {
            "gridcolor": "white",
            "linecolor": "white",
            "ticks": ""
           }
          },
          "scene": {
           "xaxis": {
            "backgroundcolor": "#E5ECF6",
            "gridcolor": "white",
            "gridwidth": 2,
            "linecolor": "white",
            "showbackground": true,
            "ticks": "",
            "zerolinecolor": "white"
           },
           "yaxis": {
            "backgroundcolor": "#E5ECF6",
            "gridcolor": "white",
            "gridwidth": 2,
            "linecolor": "white",
            "showbackground": true,
            "ticks": "",
            "zerolinecolor": "white"
           },
           "zaxis": {
            "backgroundcolor": "#E5ECF6",
            "gridcolor": "white",
            "gridwidth": 2,
            "linecolor": "white",
            "showbackground": true,
            "ticks": "",
            "zerolinecolor": "white"
           }
          },
          "shapedefaults": {
           "line": {
            "color": "#2a3f5f"
           }
          },
          "ternary": {
           "aaxis": {
            "gridcolor": "white",
            "linecolor": "white",
            "ticks": ""
           },
           "baxis": {
            "gridcolor": "white",
            "linecolor": "white",
            "ticks": ""
           },
           "bgcolor": "#E5ECF6",
           "caxis": {
            "gridcolor": "white",
            "linecolor": "white",
            "ticks": ""
           }
          },
          "title": {
           "x": 0.05
          },
          "xaxis": {
           "automargin": true,
           "gridcolor": "white",
           "linecolor": "white",
           "ticks": "",
           "title": {
            "standoff": 15
           },
           "zerolinecolor": "white",
           "zerolinewidth": 2
          },
          "yaxis": {
           "automargin": true,
           "gridcolor": "white",
           "linecolor": "white",
           "ticks": "",
           "title": {
            "standoff": 15
           },
           "zerolinecolor": "white",
           "zerolinewidth": 2
          }
         }
        },
        "title": {
         "font": {
          "size": 18
         },
         "text": "Most similar and different tracks from centroid 12 profile (blue) of user '22e08d5e101ab5b86dc394856d508e175a5242a6'",
         "x": 0.5,
         "y": 0.99
        },
        "width": 1200
       }
      }
     },
     "metadata": {},
     "output_type": "display_data"
    },
    {
     "name": "stdout",
     "output_type": "stream",
     "text": [
      "['Chinese Organ Thieves - Finch',\n",
      " '(Kanji) Ooioo - OOIOO',\n",
      " 'Throw That World Away - Dwarves',\n",
      " 'Introduction - Paul Horn',\n",
      " 'Unrepentant - Dwarves',\n",
      " 'Intro - Swell',\n",
      " 'Friends Of The Suncross - Amon Amarth',\n",
      " 'Rain - Shel Silverstein',\n",
      " 'Marilyn Monrobot - A Static Lullaby',\n",
      " 'Out Take 3 - Brad Paisley']\n"
     ]
    },
    {
     "data": {
      "application/vnd.plotly.v1+json": {
       "config": {
        "plotlyServerURL": "https://plot.ly"
       },
       "data": [
        {
         "fill": "toself",
         "line": {
          "color": "#636EFA"
         },
         "mode": "lines+markers",
         "name": "Cluster center centroid 13 profile",
         "r": [
          -1.9005010727054645,
          1.4516310867954139,
          0.8932317199642515,
          0.43757091789656355,
          -0.8294061002138469,
          -0.45574379203897525,
          2.642190614546056,
          1.5519403310182724
         ],
         "subplot": "polar",
         "theta": [
          "Danceability",
          "Energy",
          "Loudness",
          "Speechiness",
          "Acousticness",
          "instrumentalness",
          "Liveness",
          "Tempo"
         ],
         "type": "scatterpolar"
        },
        {
         "fill": "toself",
         "line": {
          "color": "#EF553B"
         },
         "name": "Closest track rank 1",
         "r": [
          -1.7477869201129497,
          1.3225505554298707,
          1.2227431383989595,
          0.2882611443727421,
          -0.8466290434646492,
          -0.6235440796951337,
          2.84387135201706,
          1.3518749120272733
         ],
         "subplot": "polar",
         "theta": [
          "Danceability",
          "Energy",
          "Loudness",
          "Speechiness",
          "Acousticness",
          "instrumentalness",
          "Liveness",
          "Tempo"
         ],
         "type": "scatterpolar"
        },
        {
         "fill": "toself",
         "line": {
          "color": "#636EFA"
         },
         "mode": "lines+markers",
         "name": "Cluster center centroid 13 profile",
         "r": [
          -1.9005010727054645,
          1.4516310867954139,
          0.8932317199642515,
          0.43757091789656355,
          -0.8294061002138469,
          -0.45574379203897525,
          2.642190614546056,
          1.5519403310182724
         ],
         "showlegend": false,
         "subplot": "polar2",
         "theta": [
          "Danceability",
          "Energy",
          "Loudness",
          "Speechiness",
          "Acousticness",
          "instrumentalness",
          "Liveness",
          "Tempo"
         ],
         "type": "scatterpolar"
        },
        {
         "fill": "toself",
         "line": {
          "color": "#B6E880"
         },
         "name": "Furthest track rank 1",
         "r": [
          -2.854597924456238,
          -2.4412798457493565,
          -8.00310504882673,
          -0.7975816773301675,
          1.105563966260484,
          2.237118641806075,
          -0.5918801675879304,
          -4.040645696797743
         ],
         "subplot": "polar2",
         "theta": [
          "Danceability",
          "Energy",
          "Loudness",
          "Speechiness",
          "Acousticness",
          "instrumentalness",
          "Liveness",
          "Tempo"
         ],
         "type": "scatterpolar"
        },
        {
         "fill": "toself",
         "line": {
          "color": "#636EFA"
         },
         "mode": "lines+markers",
         "name": "Cluster center centroid 13 profile",
         "r": [
          -1.9005010727054645,
          1.4516310867954139,
          0.8932317199642515,
          0.43757091789656355,
          -0.8294061002138469,
          -0.45574379203897525,
          2.642190614546056,
          1.5519403310182724
         ],
         "showlegend": false,
         "subplot": "polar3",
         "theta": [
          "Danceability",
          "Energy",
          "Loudness",
          "Speechiness",
          "Acousticness",
          "instrumentalness",
          "Liveness",
          "Tempo"
         ],
         "type": "scatterpolar"
        },
        {
         "fill": "toself",
         "line": {
          "color": "#EF553B"
         },
         "name": "Closest track rank 2",
         "r": [
          -1.4682891917434324,
          1.3460720452820478,
          0.9929465733198585,
          0.30836934477464784,
          -0.8462579693646144,
          -0.6234795238132674,
          2.742663167718619,
          1.4029110601227508
         ],
         "subplot": "polar3",
         "theta": [
          "Danceability",
          "Energy",
          "Loudness",
          "Speechiness",
          "Acousticness",
          "instrumentalness",
          "Liveness",
          "Tempo"
         ],
         "type": "scatterpolar"
        },
        {
         "fill": "toself",
         "line": {
          "color": "#636EFA"
         },
         "mode": "lines+markers",
         "name": "Cluster center centroid 13 profile",
         "r": [
          -1.9005010727054645,
          1.4516310867954139,
          0.8932317199642515,
          0.43757091789656355,
          -0.8294061002138469,
          -0.45574379203897525,
          2.642190614546056,
          1.5519403310182724
         ],
         "showlegend": false,
         "subplot": "polar4",
         "theta": [
          "Danceability",
          "Energy",
          "Loudness",
          "Speechiness",
          "Acousticness",
          "instrumentalness",
          "Liveness",
          "Tempo"
         ],
         "type": "scatterpolar"
        },
        {
         "fill": "toself",
         "line": {
          "color": "#B6E880"
         },
         "name": "Furthest track rank 2",
         "r": [
          -0.037260822491504184,
          -2.2378189585280235,
          -6.096761360070624,
          7.607646090666429,
          2.197140277195937,
          -0.6235690916720154,
          -0.3202160939447451,
          -0.8655393974126123
         ],
         "subplot": "polar4",
         "theta": [
          "Danceability",
          "Energy",
          "Loudness",
          "Speechiness",
          "Acousticness",
          "instrumentalness",
          "Liveness",
          "Tempo"
         ],
         "type": "scatterpolar"
        },
        {
         "fill": "toself",
         "line": {
          "color": "#636EFA"
         },
         "mode": "lines+markers",
         "name": "Cluster center centroid 13 profile",
         "r": [
          -1.9005010727054645,
          1.4516310867954139,
          0.8932317199642515,
          0.43757091789656355,
          -0.8294061002138469,
          -0.45574379203897525,
          2.642190614546056,
          1.5519403310182724
         ],
         "showlegend": false,
         "subplot": "polar5",
         "theta": [
          "Danceability",
          "Energy",
          "Loudness",
          "Speechiness",
          "Acousticness",
          "instrumentalness",
          "Liveness",
          "Tempo"
         ],
         "type": "scatterpolar"
        },
        {
         "fill": "toself",
         "line": {
          "color": "#EF553B"
         },
         "name": "Closest track rank 3",
         "r": [
          -1.848406102325976,
          1.3617530385168328,
          0.7811556156906381,
          0.05299519967044497,
          -0.8444304294219431,
          -0.6235690916720154,
          2.3165234443567595,
          1.6649364923368912
         ],
         "subplot": "polar5",
         "theta": [
          "Danceability",
          "Energy",
          "Loudness",
          "Speechiness",
          "Acousticness",
          "instrumentalness",
          "Liveness",
          "Tempo"
         ],
         "type": "scatterpolar"
        },
        {
         "fill": "toself",
         "line": {
          "color": "#636EFA"
         },
         "mode": "lines+markers",
         "name": "Cluster center centroid 13 profile",
         "r": [
          -1.9005010727054645,
          1.4516310867954139,
          0.8932317199642515,
          0.43757091789656355,
          -0.8294061002138469,
          -0.45574379203897525,
          2.642190614546056,
          1.5519403310182724
         ],
         "showlegend": false,
         "subplot": "polar6",
         "theta": [
          "Danceability",
          "Energy",
          "Loudness",
          "Speechiness",
          "Acousticness",
          "instrumentalness",
          "Liveness",
          "Tempo"
         ],
         "type": "scatterpolar"
        },
        {
         "fill": "toself",
         "line": {
          "color": "#B6E880"
         },
         "name": "Furthest track rank 3",
         "r": [
          1.6397255477255994,
          -1.8998935543184103,
          -4.23880774133607,
          8.442136407345517,
          1.8013279038255745,
          -0.6235690916720154,
          1.7305813247342028,
          -2.330469562374479
         ],
         "subplot": "polar6",
         "theta": [
          "Danceability",
          "Energy",
          "Loudness",
          "Speechiness",
          "Acousticness",
          "instrumentalness",
          "Liveness",
          "Tempo"
         ],
         "type": "scatterpolar"
        },
        {
         "fill": "toself",
         "line": {
          "color": "#636EFA"
         },
         "mode": "lines+markers",
         "name": "Cluster center centroid 13 profile",
         "r": [
          -1.9005010727054645,
          1.4516310867954139,
          0.8932317199642515,
          0.43757091789656355,
          -0.8294061002138469,
          -0.45574379203897525,
          2.642190614546056,
          1.5519403310182724
         ],
         "showlegend": false,
         "subplot": "polar7",
         "theta": [
          "Danceability",
          "Energy",
          "Loudness",
          "Speechiness",
          "Acousticness",
          "instrumentalness",
          "Liveness",
          "Tempo"
         ],
         "type": "scatterpolar"
        },
        {
         "fill": "toself",
         "line": {
          "color": "#EF553B"
         },
         "name": "Closest track rank 4",
         "r": [
          -1.5577284648216787,
          1.3891947766777062,
          1.1894327646166805,
          0.10728734075559047,
          -0.8487536591472393,
          -0.5294314442125126,
          2.753316660802665,
          1.6042646131556804
         ],
         "subplot": "polar7",
         "theta": [
          "Danceability",
          "Energy",
          "Loudness",
          "Speechiness",
          "Acousticness",
          "instrumentalness",
          "Liveness",
          "Tempo"
         ],
         "type": "scatterpolar"
        },
        {
         "fill": "toself",
         "line": {
          "color": "#636EFA"
         },
         "mode": "lines+markers",
         "name": "Cluster center centroid 13 profile",
         "r": [
          -1.9005010727054645,
          1.4516310867954139,
          0.8932317199642515,
          0.43757091789656355,
          -0.8294061002138469,
          -0.45574379203897525,
          2.642190614546056,
          1.5519403310182724
         ],
         "showlegend": false,
         "subplot": "polar8",
         "theta": [
          "Danceability",
          "Energy",
          "Loudness",
          "Speechiness",
          "Acousticness",
          "instrumentalness",
          "Liveness",
          "Tempo"
         ],
         "type": "scatterpolar"
        },
        {
         "fill": "toself",
         "line": {
          "color": "#B6E880"
         },
         "name": "Furthest track rank 4",
         "r": [
          1.7962442756125294,
          -1.7509241185879552,
          -3.8273796111062994,
          8.391865906340753,
          -0.48696237972183476,
          -0.6235690916720154,
          0.18582482754746282,
          -2.7584953825345813
         ],
         "subplot": "polar8",
         "theta": [
          "Danceability",
          "Energy",
          "Loudness",
          "Speechiness",
          "Acousticness",
          "instrumentalness",
          "Liveness",
          "Tempo"
         ],
         "type": "scatterpolar"
        },
        {
         "fill": "toself",
         "line": {
          "color": "#636EFA"
         },
         "mode": "lines+markers",
         "name": "Cluster center centroid 13 profile",
         "r": [
          -1.9005010727054645,
          1.4516310867954139,
          0.8932317199642515,
          0.43757091789656355,
          -0.8294061002138469,
          -0.45574379203897525,
          2.642190614546056,
          1.5519403310182724
         ],
         "showlegend": false,
         "subplot": "polar9",
         "theta": [
          "Danceability",
          "Energy",
          "Loudness",
          "Speechiness",
          "Acousticness",
          "instrumentalness",
          "Liveness",
          "Tempo"
         ],
         "type": "scatterpolar"
        },
        {
         "fill": "toself",
         "line": {
          "color": "#EF553B"
         },
         "name": "Closest track rank 5",
         "r": [
          -1.507418873715165,
          1.3147100588124783,
          1.1097579516509588,
          0.7306415532146682,
          -0.84689188761884,
          -0.6235690916720154,
          2.5136130664116187,
          1.378256879206836
         ],
         "subplot": "polar9",
         "theta": [
          "Danceability",
          "Energy",
          "Loudness",
          "Speechiness",
          "Acousticness",
          "instrumentalness",
          "Liveness",
          "Tempo"
         ],
         "type": "scatterpolar"
        },
        {
         "fill": "toself",
         "line": {
          "color": "#636EFA"
         },
         "mode": "lines+markers",
         "name": "Cluster center centroid 13 profile",
         "r": [
          -1.9005010727054645,
          1.4516310867954139,
          0.8932317199642515,
          0.43757091789656355,
          -0.8294061002138469,
          -0.45574379203897525,
          2.642190614546056,
          1.5519403310182724
         ],
         "showlegend": false,
         "subplot": "polar10",
         "theta": [
          "Danceability",
          "Energy",
          "Loudness",
          "Speechiness",
          "Acousticness",
          "instrumentalness",
          "Liveness",
          "Tempo"
         ],
         "type": "scatterpolar"
        },
        {
         "fill": "toself",
         "line": {
          "color": "#B6E880"
         },
         "name": "Furthest track rank 5",
         "r": [
          0.7676926352127056,
          -2.3213202475032526,
          -3.249624682058256,
          8.62311021096267,
          0.7592281395614167,
          -0.6235690916720154,
          0.06863640362295098,
          -1.6308158055734168
         ],
         "subplot": "polar10",
         "theta": [
          "Danceability",
          "Energy",
          "Loudness",
          "Speechiness",
          "Acousticness",
          "instrumentalness",
          "Liveness",
          "Tempo"
         ],
         "type": "scatterpolar"
        }
       ],
       "layout": {
        "annotations": [
         {
          "font": {
           "size": 16
          },
          "showarrow": false,
          "text": "Chinese Organ Thieves - Finch",
          "x": 0.25,
          "xanchor": "center",
          "xref": "paper",
          "y": 1.03,
          "yanchor": "bottom",
          "yref": "paper"
         },
         {
          "font": {
           "size": 16
          },
          "showarrow": false,
          "text": "(Kanji) Ooioo - OOIOO",
          "x": 0.75,
          "xanchor": "center",
          "xref": "paper",
          "y": 1.03,
          "yanchor": "bottom",
          "yref": "paper"
         },
         {
          "font": {
           "size": 16
          },
          "showarrow": false,
          "text": "Throw That World Away - Dwarves",
          "x": 0.25,
          "xanchor": "center",
          "xref": "paper",
          "y": 0.82,
          "yanchor": "bottom",
          "yref": "paper"
         },
         {
          "font": {
           "size": 16
          },
          "showarrow": false,
          "text": "Introduction - Paul Horn",
          "x": 0.75,
          "xanchor": "center",
          "xref": "paper",
          "y": 0.82,
          "yanchor": "bottom",
          "yref": "paper"
         },
         {
          "font": {
           "size": 16
          },
          "showarrow": false,
          "text": "Unrepentant - Dwarves",
          "x": 0.25,
          "xanchor": "center",
          "xref": "paper",
          "y": 0.6,
          "yanchor": "bottom",
          "yref": "paper"
         },
         {
          "font": {
           "size": 16
          },
          "showarrow": false,
          "text": "Intro - Swell",
          "x": 0.75,
          "xanchor": "center",
          "xref": "paper",
          "y": 0.6,
          "yanchor": "bottom",
          "yref": "paper"
         },
         {
          "font": {
           "size": 16
          },
          "showarrow": false,
          "text": "Friends Of The Suncross - Amon Amarth",
          "x": 0.25,
          "xanchor": "center",
          "xref": "paper",
          "y": 0.38,
          "yanchor": "bottom",
          "yref": "paper"
         },
         {
          "font": {
           "size": 16
          },
          "showarrow": false,
          "text": "Rain - Shel Silverstein",
          "x": 0.75,
          "xanchor": "center",
          "xref": "paper",
          "y": 0.38,
          "yanchor": "bottom",
          "yref": "paper"
         },
         {
          "font": {
           "size": 16
          },
          "showarrow": false,
          "text": "Marilyn Monrobot - A Static Lullaby",
          "x": 0.25,
          "xanchor": "center",
          "xref": "paper",
          "y": 0.16,
          "yanchor": "bottom",
          "yref": "paper"
         },
         {
          "font": {
           "size": 16
          },
          "showarrow": false,
          "text": "Out Take 3 - Brad Paisley",
          "x": 0.75,
          "xanchor": "center",
          "xref": "paper",
          "y": 0.16,
          "yanchor": "bottom",
          "yref": "paper"
         },
         {
          "font": {
           "color": "black",
           "size": 20
          },
          "showarrow": false,
          "text": "Closest tracks from centroid 13",
          "x": 0.12,
          "y": 1.09
         },
         {
          "font": {
           "color": "black",
           "size": 22
          },
          "showarrow": false,
          "text": "Furthest tracks from centroid 13",
          "x": 0.9,
          "y": 1.09
         },
         {
          "font": {
           "color": "black",
           "size": 22
          },
          "showarrow": false,
          "text": "Rank",
          "x": 0.005,
          "y": 1.09
         },
         {
          "font": {
           "color": "black",
           "size": 22
          },
          "showarrow": false,
          "text": "1",
          "x": 0.02,
          "y": 1.05
         },
         {
          "font": {
           "color": "black",
           "size": 22
          },
          "showarrow": false,
          "text": "2",
          "x": 0.02,
          "y": 0.84
         },
         {
          "font": {
           "color": "black",
           "size": 22
          },
          "showarrow": false,
          "text": "3",
          "x": 0.02,
          "y": 0.608
         },
         {
          "font": {
           "color": "black",
           "size": 22
          },
          "showarrow": false,
          "text": "4",
          "x": 0.02,
          "y": 0.389
         },
         {
          "font": {
           "color": "black",
           "size": 22
          },
          "showarrow": false,
          "text": "5",
          "x": 0.02,
          "y": 0.159
         }
        ],
        "height": 1600,
        "margin": {
         "b": 50,
         "l": 50,
         "r": 50,
         "t": 200
        },
        "polar": {
         "domain": {
          "x": [
           0,
           0.5
          ],
          "y": [
           0.88,
           1
          ]
         },
         "radialaxis": {
          "range": [
           -1.9005010727054645,
           2.84387135201706
          ],
          "showticklabels": false,
          "ticks": ""
         }
        },
        "polar10": {
         "domain": {
          "x": [
           0.5,
           1
          ],
          "y": [
           0,
           0.12
          ]
         },
         "radialaxis": {
          "range": [
           -8.00310504882673,
           8.62311021096267
          ],
          "showticklabels": false,
          "ticks": ""
         }
        },
        "polar2": {
         "domain": {
          "x": [
           0.5,
           1
          ],
          "y": [
           0.88,
           1
          ]
         },
         "radialaxis": {
          "range": [
           -8.00310504882673,
           8.62311021096267
          ],
          "showticklabels": false,
          "ticks": ""
         }
        },
        "polar3": {
         "domain": {
          "x": [
           0,
           0.5
          ],
          "y": [
           0.66,
           0.78
          ]
         },
         "radialaxis": {
          "range": [
           -1.9005010727054645,
           2.84387135201706
          ],
          "showticklabels": false,
          "ticks": ""
         }
        },
        "polar4": {
         "domain": {
          "x": [
           0.5,
           1
          ],
          "y": [
           0.66,
           0.78
          ]
         },
         "radialaxis": {
          "range": [
           -8.00310504882673,
           8.62311021096267
          ],
          "showticklabels": false,
          "ticks": ""
         }
        },
        "polar5": {
         "domain": {
          "x": [
           0,
           0.5
          ],
          "y": [
           0.44,
           0.56
          ]
         },
         "radialaxis": {
          "range": [
           -1.9005010727054645,
           2.84387135201706
          ],
          "showticklabels": false,
          "ticks": ""
         }
        },
        "polar6": {
         "domain": {
          "x": [
           0.5,
           1
          ],
          "y": [
           0.44,
           0.56
          ]
         },
         "radialaxis": {
          "range": [
           -8.00310504882673,
           8.62311021096267
          ],
          "showticklabels": false,
          "ticks": ""
         }
        },
        "polar7": {
         "domain": {
          "x": [
           0,
           0.5
          ],
          "y": [
           0.22,
           0.33999999999999997
          ]
         },
         "radialaxis": {
          "range": [
           -1.9005010727054645,
           2.84387135201706
          ],
          "showticklabels": false,
          "ticks": ""
         }
        },
        "polar8": {
         "domain": {
          "x": [
           0.5,
           1
          ],
          "y": [
           0.22,
           0.33999999999999997
          ]
         },
         "radialaxis": {
          "range": [
           -8.00310504882673,
           8.62311021096267
          ],
          "showticklabels": false,
          "ticks": ""
         }
        },
        "polar9": {
         "domain": {
          "x": [
           0,
           0.5
          ],
          "y": [
           0,
           0.12
          ]
         },
         "radialaxis": {
          "range": [
           -1.9005010727054645,
           2.84387135201706
          ],
          "showticklabels": false,
          "ticks": ""
         }
        },
        "showlegend": false,
        "template": {
         "data": {
          "bar": [
           {
            "error_x": {
             "color": "#2a3f5f"
            },
            "error_y": {
             "color": "#2a3f5f"
            },
            "marker": {
             "line": {
              "color": "#E5ECF6",
              "width": 0.5
             },
             "pattern": {
              "fillmode": "overlay",
              "size": 10,
              "solidity": 0.2
             }
            },
            "type": "bar"
           }
          ],
          "barpolar": [
           {
            "marker": {
             "line": {
              "color": "#E5ECF6",
              "width": 0.5
             },
             "pattern": {
              "fillmode": "overlay",
              "size": 10,
              "solidity": 0.2
             }
            },
            "type": "barpolar"
           }
          ],
          "carpet": [
           {
            "aaxis": {
             "endlinecolor": "#2a3f5f",
             "gridcolor": "white",
             "linecolor": "white",
             "minorgridcolor": "white",
             "startlinecolor": "#2a3f5f"
            },
            "baxis": {
             "endlinecolor": "#2a3f5f",
             "gridcolor": "white",
             "linecolor": "white",
             "minorgridcolor": "white",
             "startlinecolor": "#2a3f5f"
            },
            "type": "carpet"
           }
          ],
          "choropleth": [
           {
            "colorbar": {
             "outlinewidth": 0,
             "ticks": ""
            },
            "type": "choropleth"
           }
          ],
          "contour": [
           {
            "colorbar": {
             "outlinewidth": 0,
             "ticks": ""
            },
            "colorscale": [
             [
              0,
              "#0d0887"
             ],
             [
              0.1111111111111111,
              "#46039f"
             ],
             [
              0.2222222222222222,
              "#7201a8"
             ],
             [
              0.3333333333333333,
              "#9c179e"
             ],
             [
              0.4444444444444444,
              "#bd3786"
             ],
             [
              0.5555555555555556,
              "#d8576b"
             ],
             [
              0.6666666666666666,
              "#ed7953"
             ],
             [
              0.7777777777777778,
              "#fb9f3a"
             ],
             [
              0.8888888888888888,
              "#fdca26"
             ],
             [
              1,
              "#f0f921"
             ]
            ],
            "type": "contour"
           }
          ],
          "contourcarpet": [
           {
            "colorbar": {
             "outlinewidth": 0,
             "ticks": ""
            },
            "type": "contourcarpet"
           }
          ],
          "heatmap": [
           {
            "colorbar": {
             "outlinewidth": 0,
             "ticks": ""
            },
            "colorscale": [
             [
              0,
              "#0d0887"
             ],
             [
              0.1111111111111111,
              "#46039f"
             ],
             [
              0.2222222222222222,
              "#7201a8"
             ],
             [
              0.3333333333333333,
              "#9c179e"
             ],
             [
              0.4444444444444444,
              "#bd3786"
             ],
             [
              0.5555555555555556,
              "#d8576b"
             ],
             [
              0.6666666666666666,
              "#ed7953"
             ],
             [
              0.7777777777777778,
              "#fb9f3a"
             ],
             [
              0.8888888888888888,
              "#fdca26"
             ],
             [
              1,
              "#f0f921"
             ]
            ],
            "type": "heatmap"
           }
          ],
          "heatmapgl": [
           {
            "colorbar": {
             "outlinewidth": 0,
             "ticks": ""
            },
            "colorscale": [
             [
              0,
              "#0d0887"
             ],
             [
              0.1111111111111111,
              "#46039f"
             ],
             [
              0.2222222222222222,
              "#7201a8"
             ],
             [
              0.3333333333333333,
              "#9c179e"
             ],
             [
              0.4444444444444444,
              "#bd3786"
             ],
             [
              0.5555555555555556,
              "#d8576b"
             ],
             [
              0.6666666666666666,
              "#ed7953"
             ],
             [
              0.7777777777777778,
              "#fb9f3a"
             ],
             [
              0.8888888888888888,
              "#fdca26"
             ],
             [
              1,
              "#f0f921"
             ]
            ],
            "type": "heatmapgl"
           }
          ],
          "histogram": [
           {
            "marker": {
             "pattern": {
              "fillmode": "overlay",
              "size": 10,
              "solidity": 0.2
             }
            },
            "type": "histogram"
           }
          ],
          "histogram2d": [
           {
            "colorbar": {
             "outlinewidth": 0,
             "ticks": ""
            },
            "colorscale": [
             [
              0,
              "#0d0887"
             ],
             [
              0.1111111111111111,
              "#46039f"
             ],
             [
              0.2222222222222222,
              "#7201a8"
             ],
             [
              0.3333333333333333,
              "#9c179e"
             ],
             [
              0.4444444444444444,
              "#bd3786"
             ],
             [
              0.5555555555555556,
              "#d8576b"
             ],
             [
              0.6666666666666666,
              "#ed7953"
             ],
             [
              0.7777777777777778,
              "#fb9f3a"
             ],
             [
              0.8888888888888888,
              "#fdca26"
             ],
             [
              1,
              "#f0f921"
             ]
            ],
            "type": "histogram2d"
           }
          ],
          "histogram2dcontour": [
           {
            "colorbar": {
             "outlinewidth": 0,
             "ticks": ""
            },
            "colorscale": [
             [
              0,
              "#0d0887"
             ],
             [
              0.1111111111111111,
              "#46039f"
             ],
             [
              0.2222222222222222,
              "#7201a8"
             ],
             [
              0.3333333333333333,
              "#9c179e"
             ],
             [
              0.4444444444444444,
              "#bd3786"
             ],
             [
              0.5555555555555556,
              "#d8576b"
             ],
             [
              0.6666666666666666,
              "#ed7953"
             ],
             [
              0.7777777777777778,
              "#fb9f3a"
             ],
             [
              0.8888888888888888,
              "#fdca26"
             ],
             [
              1,
              "#f0f921"
             ]
            ],
            "type": "histogram2dcontour"
           }
          ],
          "mesh3d": [
           {
            "colorbar": {
             "outlinewidth": 0,
             "ticks": ""
            },
            "type": "mesh3d"
           }
          ],
          "parcoords": [
           {
            "line": {
             "colorbar": {
              "outlinewidth": 0,
              "ticks": ""
             }
            },
            "type": "parcoords"
           }
          ],
          "pie": [
           {
            "automargin": true,
            "type": "pie"
           }
          ],
          "scatter": [
           {
            "fillpattern": {
             "fillmode": "overlay",
             "size": 10,
             "solidity": 0.2
            },
            "type": "scatter"
           }
          ],
          "scatter3d": [
           {
            "line": {
             "colorbar": {
              "outlinewidth": 0,
              "ticks": ""
             }
            },
            "marker": {
             "colorbar": {
              "outlinewidth": 0,
              "ticks": ""
             }
            },
            "type": "scatter3d"
           }
          ],
          "scattercarpet": [
           {
            "marker": {
             "colorbar": {
              "outlinewidth": 0,
              "ticks": ""
             }
            },
            "type": "scattercarpet"
           }
          ],
          "scattergeo": [
           {
            "marker": {
             "colorbar": {
              "outlinewidth": 0,
              "ticks": ""
             }
            },
            "type": "scattergeo"
           }
          ],
          "scattergl": [
           {
            "marker": {
             "colorbar": {
              "outlinewidth": 0,
              "ticks": ""
             }
            },
            "type": "scattergl"
           }
          ],
          "scattermapbox": [
           {
            "marker": {
             "colorbar": {
              "outlinewidth": 0,
              "ticks": ""
             }
            },
            "type": "scattermapbox"
           }
          ],
          "scatterpolar": [
           {
            "marker": {
             "colorbar": {
              "outlinewidth": 0,
              "ticks": ""
             }
            },
            "type": "scatterpolar"
           }
          ],
          "scatterpolargl": [
           {
            "marker": {
             "colorbar": {
              "outlinewidth": 0,
              "ticks": ""
             }
            },
            "type": "scatterpolargl"
           }
          ],
          "scatterternary": [
           {
            "marker": {
             "colorbar": {
              "outlinewidth": 0,
              "ticks": ""
             }
            },
            "type": "scatterternary"
           }
          ],
          "surface": [
           {
            "colorbar": {
             "outlinewidth": 0,
             "ticks": ""
            },
            "colorscale": [
             [
              0,
              "#0d0887"
             ],
             [
              0.1111111111111111,
              "#46039f"
             ],
             [
              0.2222222222222222,
              "#7201a8"
             ],
             [
              0.3333333333333333,
              "#9c179e"
             ],
             [
              0.4444444444444444,
              "#bd3786"
             ],
             [
              0.5555555555555556,
              "#d8576b"
             ],
             [
              0.6666666666666666,
              "#ed7953"
             ],
             [
              0.7777777777777778,
              "#fb9f3a"
             ],
             [
              0.8888888888888888,
              "#fdca26"
             ],
             [
              1,
              "#f0f921"
             ]
            ],
            "type": "surface"
           }
          ],
          "table": [
           {
            "cells": {
             "fill": {
              "color": "#EBF0F8"
             },
             "line": {
              "color": "white"
             }
            },
            "header": {
             "fill": {
              "color": "#C8D4E3"
             },
             "line": {
              "color": "white"
             }
            },
            "type": "table"
           }
          ]
         },
         "layout": {
          "annotationdefaults": {
           "arrowcolor": "#2a3f5f",
           "arrowhead": 0,
           "arrowwidth": 1
          },
          "autotypenumbers": "strict",
          "coloraxis": {
           "colorbar": {
            "outlinewidth": 0,
            "ticks": ""
           }
          },
          "colorscale": {
           "diverging": [
            [
             0,
             "#8e0152"
            ],
            [
             0.1,
             "#c51b7d"
            ],
            [
             0.2,
             "#de77ae"
            ],
            [
             0.3,
             "#f1b6da"
            ],
            [
             0.4,
             "#fde0ef"
            ],
            [
             0.5,
             "#f7f7f7"
            ],
            [
             0.6,
             "#e6f5d0"
            ],
            [
             0.7,
             "#b8e186"
            ],
            [
             0.8,
             "#7fbc41"
            ],
            [
             0.9,
             "#4d9221"
            ],
            [
             1,
             "#276419"
            ]
           ],
           "sequential": [
            [
             0,
             "#0d0887"
            ],
            [
             0.1111111111111111,
             "#46039f"
            ],
            [
             0.2222222222222222,
             "#7201a8"
            ],
            [
             0.3333333333333333,
             "#9c179e"
            ],
            [
             0.4444444444444444,
             "#bd3786"
            ],
            [
             0.5555555555555556,
             "#d8576b"
            ],
            [
             0.6666666666666666,
             "#ed7953"
            ],
            [
             0.7777777777777778,
             "#fb9f3a"
            ],
            [
             0.8888888888888888,
             "#fdca26"
            ],
            [
             1,
             "#f0f921"
            ]
           ],
           "sequentialminus": [
            [
             0,
             "#0d0887"
            ],
            [
             0.1111111111111111,
             "#46039f"
            ],
            [
             0.2222222222222222,
             "#7201a8"
            ],
            [
             0.3333333333333333,
             "#9c179e"
            ],
            [
             0.4444444444444444,
             "#bd3786"
            ],
            [
             0.5555555555555556,
             "#d8576b"
            ],
            [
             0.6666666666666666,
             "#ed7953"
            ],
            [
             0.7777777777777778,
             "#fb9f3a"
            ],
            [
             0.8888888888888888,
             "#fdca26"
            ],
            [
             1,
             "#f0f921"
            ]
           ]
          },
          "colorway": [
           "#636efa",
           "#EF553B",
           "#00cc96",
           "#ab63fa",
           "#FFA15A",
           "#19d3f3",
           "#FF6692",
           "#B6E880",
           "#FF97FF",
           "#FECB52"
          ],
          "font": {
           "color": "#2a3f5f"
          },
          "geo": {
           "bgcolor": "white",
           "lakecolor": "white",
           "landcolor": "#E5ECF6",
           "showlakes": true,
           "showland": true,
           "subunitcolor": "white"
          },
          "hoverlabel": {
           "align": "left"
          },
          "hovermode": "closest",
          "mapbox": {
           "style": "light"
          },
          "paper_bgcolor": "white",
          "plot_bgcolor": "#E5ECF6",
          "polar": {
           "angularaxis": {
            "gridcolor": "white",
            "linecolor": "white",
            "ticks": ""
           },
           "bgcolor": "#E5ECF6",
           "radialaxis": {
            "gridcolor": "white",
            "linecolor": "white",
            "ticks": ""
           }
          },
          "scene": {
           "xaxis": {
            "backgroundcolor": "#E5ECF6",
            "gridcolor": "white",
            "gridwidth": 2,
            "linecolor": "white",
            "showbackground": true,
            "ticks": "",
            "zerolinecolor": "white"
           },
           "yaxis": {
            "backgroundcolor": "#E5ECF6",
            "gridcolor": "white",
            "gridwidth": 2,
            "linecolor": "white",
            "showbackground": true,
            "ticks": "",
            "zerolinecolor": "white"
           },
           "zaxis": {
            "backgroundcolor": "#E5ECF6",
            "gridcolor": "white",
            "gridwidth": 2,
            "linecolor": "white",
            "showbackground": true,
            "ticks": "",
            "zerolinecolor": "white"
           }
          },
          "shapedefaults": {
           "line": {
            "color": "#2a3f5f"
           }
          },
          "ternary": {
           "aaxis": {
            "gridcolor": "white",
            "linecolor": "white",
            "ticks": ""
           },
           "baxis": {
            "gridcolor": "white",
            "linecolor": "white",
            "ticks": ""
           },
           "bgcolor": "#E5ECF6",
           "caxis": {
            "gridcolor": "white",
            "linecolor": "white",
            "ticks": ""
           }
          },
          "title": {
           "x": 0.05
          },
          "xaxis": {
           "automargin": true,
           "gridcolor": "white",
           "linecolor": "white",
           "ticks": "",
           "title": {
            "standoff": 15
           },
           "zerolinecolor": "white",
           "zerolinewidth": 2
          },
          "yaxis": {
           "automargin": true,
           "gridcolor": "white",
           "linecolor": "white",
           "ticks": "",
           "title": {
            "standoff": 15
           },
           "zerolinecolor": "white",
           "zerolinewidth": 2
          }
         }
        },
        "title": {
         "font": {
          "size": 18
         },
         "text": "Most similar and different tracks from centroid 13 profile (blue) of user '22e08d5e101ab5b86dc394856d508e175a5242a6'",
         "x": 0.5,
         "y": 0.99
        },
        "width": 1200
       }
      }
     },
     "metadata": {},
     "output_type": "display_data"
    }
   ],
   "source": [
    "from pprint import pprint\n",
    "import plotly.graph_objects as go\n",
    "from plotly.subplots import make_subplots\n",
    "\n",
    "\n",
    "for i in range(len(similar)):\n",
    "\n",
    "    if (len(similar) == 1):\n",
    "        profile = standard_profile\n",
    "        std_prof = True\n",
    "        prof_name = \"Standard profile weighted by listening counts\"\n",
    "        fig_title = f\"Most similar and different tracks from standard profile (blue) of user '{user_name}'\"\n",
    "        col1_title = \"Closest tracks\"\n",
    "        col2_title = \"Furthest tracks\"\n",
    "\n",
    "    elif (len(similar) > 1):\n",
    "        profile = clusters_profiles    \n",
    "        std_prof = False\n",
    "        prof_name = f\"Cluster center centroid {i+1} profile\" \n",
    "        fig_title = f\"Most similar and different tracks from centroid {i+1} profile (blue) of user '{user_name}'\"\n",
    "        col1_title = f\"Closest tracks from centroid {i+1}\"\n",
    "        col2_title = f\"Furthest tracks from centroid {i+1}\"\n",
    "\n",
    "    min_sim = np.min(similar[i])\n",
    "    if min_sim > np.min(profile[i]):\n",
    "        min_sim = np.min(profile[i])\n",
    "\n",
    "    max_sim = np.max(similar[i])\n",
    "    if max_sim < np.max(profile[i]):\n",
    "        max_sim = np.max(profile[i])\n",
    "\n",
    "    min_dis = np.min(disimilar[i])\n",
    "    if min_dis > np.min(profile[i]):\n",
    "        min_dis = np.min(profile[i])\n",
    "\n",
    "    max_dis = np.max(disimilar[i])\n",
    "    if max_dis < np.max(profile[i]):\n",
    "        max_dis = np.max(profile[i])\n",
    "    \n",
    "    tracks_titles = []\n",
    "    for j in range(len(similar[i])):\n",
    "        tracks_titles.append(sim_names[i][j])\n",
    "        tracks_titles.append(dis_names[i][j])\n",
    "\n",
    "\n",
    "\n",
    "    fig = make_subplots(rows=n_neighbors, cols=2,\n",
    "                        shared_xaxes='columns', shared_yaxes='columns',\n",
    "                        vertical_spacing = 0.1,\n",
    "                        horizontal_spacing=0,\n",
    "                        #column_titles = [\"Closest tracks\", \"Furthest tracks\"],\n",
    "                        #row_heights = [0.9,0.9],\n",
    "                        subplot_titles=tracks_titles,\n",
    "                     specs = [[{'type': 'polar'}]*2]*n_neighbors)\n",
    "\n",
    "\n",
    "    trace_profile = go.Scatterpolar(r = profile[i],\n",
    "                                             theta = acoustic_variables,\n",
    "                                             mode = \"lines+markers\", line_color='#636EFA',\n",
    "                                             \n",
    "                                                                                          \n",
    "                                             name = prof_name)\n",
    "\n",
    "    #https://community.plotly.com/t/plotly-colours-list/11730/3\n",
    "    #colors_col2 = ['orange', '#8c564b', '#7f7f7f', '#2ca02c', 'pink' ]\n",
    "    \n",
    "\n",
    "    for j in range(len(similar[i])):\n",
    "        \n",
    "        fig.add_trace(trace_profile, row=j+1, col=1)\n",
    "\n",
    "        fig.add_trace(go.Scatterpolar(\n",
    "            r = similar[i][j],\n",
    "            name = f\"Closest track rank {j+1}\",\n",
    "            theta = acoustic_variables,\n",
    "            line_color = '#EF553B',\n",
    "            #text=[\"Foundbird - Papercuts\"],\n",
    "            #textposition=\"top center\"\n",
    "        ),  row=j+1, col=1)\n",
    "\n",
    "        fig.add_trace(trace_profile, row=j+1, col=2)\n",
    "\n",
    "        fig.add_trace(go.Scatterpolar(\n",
    "            r = disimilar[i][j],\n",
    "            name = f\"Furthest track rank {j+1}\",\n",
    "            theta = acoustic_variables,\n",
    "            line_color = '#B6E880',  #colors_col2[j],\n",
    "        ),  row=j+1, col=2)\n",
    "\n",
    "    \n",
    "\n",
    "    fig.update_traces(fill='toself')#,\n",
    "                      #mode = \"lines+markers\", line_color='indianred',\n",
    "                      #marker =   dict(color='lightslategray', size=8, symbol='square'))\n",
    "\n",
    "    \n",
    "    fig.update_layout(\n",
    "        height = 1600,\n",
    "        width = 1200,\n",
    "        #title_text = \"Test\",\n",
    "        title= dict(text=fig_title,\n",
    "                    x=0.5,\n",
    "                    y=0.99,\n",
    "                    #x_anchor = 'center',\n",
    "                    #y_anchor = 'top',\n",
    "                    font = dict(\n",
    "                        #family = 'Courier New')\n",
    "                        size = 18)),\n",
    "                    #margin=dict(l=50, r=50, t=200, b=50),\n",
    "                    margin=dict(l=50, r=50, t=200, b=50),\n",
    "        #paper_bgcolor=\"LightSteelBlue\",\n",
    "        polar = dict(radialaxis = dict(showticklabels=False, ticks='' ), radialaxis_range = [min_sim,max_sim]), #radialaxis_range = [-10,10]),\n",
    "                     #angularaxis = dict(showticklabels=False, ticks='')\n",
    "        polar2 = dict(radialaxis = dict(showticklabels=False, ticks='' ), radialaxis_range = [min_dis,max_dis]),\n",
    "        \n",
    "        polar3 = dict(radialaxis = dict(showticklabels=False, ticks='' ), radialaxis_range = [min_sim,max_sim]),\n",
    "\n",
    "        polar4 = dict(radialaxis = dict(showticklabels=False, ticks='' ), radialaxis_range = [min_dis,max_dis]),\n",
    "\n",
    "        polar5 = dict(radialaxis = dict(showticklabels=False, ticks='' ), radialaxis_range = [min_sim,max_sim]),\n",
    "\n",
    "        polar6 = dict(radialaxis = dict(showticklabels=False, ticks='' ), radialaxis_range = [min_dis,max_dis]),\n",
    "\n",
    "        polar7 = dict(radialaxis = dict(showticklabels=False, ticks='' ), radialaxis_range = [min_sim,max_sim]),\n",
    "\n",
    "        polar8 = dict(radialaxis = dict(showticklabels=False, ticks='' ), radialaxis_range = [min_dis,max_dis]),\n",
    "\n",
    "        polar9 = dict(radialaxis = dict(showticklabels=False, ticks='' ), radialaxis_range = [min_sim,max_sim]),\n",
    "        \n",
    "        polar10 = dict(radialaxis = dict(showticklabels=False, ticks='' ), radialaxis_range = [min_dis,max_dis]),\n",
    "                     \n",
    "        showlegend=False\n",
    "    )\n",
    "    \n",
    "    if len(similar) > 1:\n",
    "        fig.add_annotation(x= 0.12, y = 1.09,\n",
    "                           text = col1_title,\n",
    "                           showarrow=False,\n",
    "                           font = dict(color=\"black\",\n",
    "                                       size=20))\n",
    "        fig.add_annotation(x= 0.9, y = 1.09,\n",
    "                           text = col2_title,\n",
    "                           showarrow=False,\n",
    "                           font = dict(color=\"black\",\n",
    "                                       size=22))\n",
    "    elif len(similar) == 1:\n",
    "            fig.add_annotation(x= 0.19, y = 1.09,\n",
    "                           text = col1_title,\n",
    "                           showarrow=False,\n",
    "                           font = dict(color=\"black\",\n",
    "                                       size=22))\n",
    "            fig.add_annotation(x= 0.81, y = 1.09,\n",
    "                           text = col2_title,\n",
    "                           showarrow=False,\n",
    "                           font = dict(color=\"black\",\n",
    "                                       size=22))\n",
    "\n",
    "    fig.add_annotation(x= 0.005, y = 1.09,\n",
    "                           text = \"Rank\",\n",
    "                           showarrow=False,\n",
    "                           font = dict(color=\"black\",\n",
    "                                       size=22))\n",
    "    fig.add_annotation(x= 0.02, y = 1.05,\n",
    "                           text = '1',\n",
    "                           showarrow=False,\n",
    "                           font = dict(color=\"black\",\n",
    "                                       size=22))\n",
    "    \n",
    "    fig.add_annotation(x= 0.02, y = 0.84,\n",
    "                           text = '2',\n",
    "                           showarrow=False,\n",
    "                           font = dict(color=\"black\",\n",
    "                                       size=22))\n",
    "    \n",
    "    fig.add_annotation(x= 0.02, y = 0.608,\n",
    "                           text = '3',\n",
    "                           showarrow=False,\n",
    "                           font = dict(color=\"black\",\n",
    "                                       size=22))\n",
    "    \n",
    "    fig.add_annotation(x= 0.02, y = 0.389,\n",
    "                           text = '4',\n",
    "                           showarrow=False,\n",
    "                           font = dict(color=\"black\",\n",
    "                                       size=22))\n",
    "    \n",
    "    fig.add_annotation(x= 0.02, y = 0.159,\n",
    "                           text = '5',\n",
    "                           showarrow=False,\n",
    "                           font = dict(color=\"black\",\n",
    "                                       size=22))\n",
    "\n",
    "    annot =list(fig.layout.annotations)\n",
    "    annot[0].y = 1.03\n",
    "    annot[1].y = 1.03\n",
    "    annot[2].y = 0.82 \n",
    "    annot[3].y = 0.82 \n",
    "    annot[4].y = 0.6 \n",
    "    annot[5].y = 0.6 \n",
    "    annot[6].y = 0.38 \n",
    "    annot[7].y = 0.38 \n",
    "    annot[8].y = 0.16 \n",
    "    annot[9].y = 0.16 \n",
    "\n",
    "    fig.layout.annotations = annot\n",
    "\n",
    "    #https://plotly.com/python/reference/layout/polar/\n",
    "    fig.update_polars(\n",
    "        radialaxis_showticklabels = False\n",
    "    )\n",
    "    \n",
    "    pprint(tracks_titles)\n",
    "    names = set()\n",
    "    fig.for_each_trace(\n",
    "        lambda trace:\n",
    "            trace.update(showlegend=False)\n",
    "            if (trace.name in names) else names.add(trace.name))\n",
    "\n",
    "    fig.show()\n"
   ]
  },
  {
   "cell_type": "code",
   "execution_count": 225,
   "metadata": {},
   "outputs": [
    {
     "name": "stdout",
     "output_type": "stream",
     "text": [
      "11\n"
     ]
    },
    {
     "data": {
      "text/plain": [
       "['Debaser - Pixies',\n",
       " 'Tell Him - The Exciters',\n",
       " 'Where Eagles Dare - Sloppy Seconds',\n",
       " 'All My Only Dreams - The Wonders',\n",
       " 'Dance With Me Tonight - The Wonders',\n",
       " 'Nothing Personal - Anna Waronker',\n",
       " 'Unrepentant - Dwarves',\n",
       " 'Fotzepolitic - Cocteau Twins',\n",
       " 'Hits - Dwarves',\n",
       " 'Throw That World Away - Dwarves',\n",
       " 'To Know Him Is To Love Him - The Teddy Bears']"
      ]
     },
     "execution_count": 225,
     "metadata": {},
     "output_type": "execute_result"
    }
   ],
   "source": [
    "song_user = (df_origin[df_origin[\"user\"] == user_name]['song_name'] + ' - ' + df_origin[df_origin[\"user\"] == user_name]['artist_name']).tolist()\n",
    "\n",
    "\n",
    "song_reco = []\n",
    "for i in range(len(sim_names)):\n",
    "    song_reco.extend(sim_names[i])\n",
    "#song_reco    \n",
    "print(len([i for i in song_user if i in song_reco]))\n",
    "[i for i in song_user if i in song_reco]"
   ]
  },
  {
   "cell_type": "code",
   "execution_count": 206,
   "metadata": {},
   "outputs": [
    {
     "name": "stdout",
     "output_type": "stream",
     "text": [
      "['All My Only Dreams',\n",
      " 'Chicken Little',\n",
      " 'Lotta Love',\n",
      " \"Who'll Stop The Rain\",\n",
      " 'Blood Drops',\n",
      " 'Nothing to You (Re-Mix)',\n",
      " 'Money Talks',\n",
      " 'Drinking Song',\n",
      " 'Middle Of The Night',\n",
      " 'Belexes',\n",
      " 'Black Night',\n",
      " 'Do What You Gotta Do',\n",
      " 'Pure',\n",
      " 'All Around',\n",
      " 'Dance With Me Tonight',\n",
      " 'Dam That River',\n",
      " 'Sucker Punch',\n",
      " 'Roller Coaster',\n",
      " 'End Over End',\n",
      " 'Egypt',\n",
      " \"I'm Saving My Love\",\n",
      " 'To Know Him Is To Love Him',\n",
      " 'Rejoice',\n",
      " 'If I was a Blackbird',\n",
      " 'Aye Waukin-O',\n",
      " 'Hacked To Pieces',\n",
      " 'Debaser',\n",
      " 'Silent Violence',\n",
      " 'Musicatto',\n",
      " 'Nick The Stripper',\n",
      " 'Hits',\n",
      " 'Devoured Death',\n",
      " \"Moon And Sun Part II: North's Son\",\n",
      " 'Running Redlights',\n",
      " 'Planet Earth',\n",
      " 'Incantation',\n",
      " 'All I Want',\n",
      " 'Everything Is OK',\n",
      " 'Nothing Personal',\n",
      " 'I Am You',\n",
      " 'Tell Him',\n",
      " 'Cherry Pie',\n",
      " 'Cuidado',\n",
      " 'Rocket To God',\n",
      " 'Se Me Olvidó',\n",
      " 'Sounds',\n",
      " 'Fotzepolitic',\n",
      " 'Lungless',\n",
      " 'Kyrie',\n",
      " 'Shift Your Gaze',\n",
      " 'Flying High Again',\n",
      " 'Machine Gun Kelly',\n",
      " 'Anti-Christ',\n",
      " 'The Funeral Portrait',\n",
      " 'Scottish And Proud',\n",
      " 'Where Eagles Dare',\n",
      " 'Prog',\n",
      " 'M.C.T.F.D.',\n",
      " 'Tennessee Flat Top Box',\n",
      " 'My Darling Lorraine',\n",
      " 'Chinese Organ Thieves',\n",
      " 'Throw That World Away',\n",
      " 'Unrepentant',\n",
      " 'Friends Of The Suncross',\n",
      " 'Marilyn Monrobot']\n",
      "['The Wonders',\n",
      " 'Houston',\n",
      " 'Nicolette Larson',\n",
      " 'Debbie Davies',\n",
      " 'Lucky Boys Confusion',\n",
      " 'Two Gallants',\n",
      " 'Cryptic Slaughter',\n",
      " 'The Gits',\n",
      " 'Evol Intent',\n",
      " 'Kansas',\n",
      " 'Bad Manners',\n",
      " 'Freekbass',\n",
      " 'Orgy',\n",
      " 'Tahiti 80',\n",
      " 'The Wonders',\n",
      " 'Alice In Chains',\n",
      " 'Throttlerod',\n",
      " 'Warrant',\n",
      " 'Foo Fighters',\n",
      " 'Soilwork',\n",
      " 'Skeeter Davis',\n",
      " 'The Teddy Bears',\n",
      " 'Il Divo',\n",
      " 'Silly Wizard',\n",
      " 'Eddi Reader',\n",
      " 'Six Feet Under',\n",
      " 'Pixies',\n",
      " 'Six Feet Under',\n",
      " 'Kansas',\n",
      " 'The Birthday Party',\n",
      " 'Dwarves',\n",
      " 'Incantation',\n",
      " 'Amorphis',\n",
      " 'The Life And Times',\n",
      " 'J Church',\n",
      " 'Delerium',\n",
      " 'Younger Brother',\n",
      " 'Halou',\n",
      " 'Anna Waronker',\n",
      " 'Shpongle',\n",
      " 'The Exciters',\n",
      " 'Sade',\n",
      " 'Vicentico',\n",
      " 'Daryl Hall & John Oates',\n",
      " 'Gian Marco',\n",
      " 'Earlimart',\n",
      " 'Cocteau Twins',\n",
      " 'Akimbo',\n",
      " 'Nodes Of Ranvier',\n",
      " 'The Life And Times',\n",
      " 'Ozzy Osbourne',\n",
      " 'Angelic Upstarts',\n",
      " 'Less Than Jake',\n",
      " 'Opeth',\n",
      " 'The Real McKenzies',\n",
      " 'Sloppy Seconds',\n",
      " 'Pinback',\n",
      " 'D.O.A.',\n",
      " 'Rosanne Cash',\n",
      " 'Red Elvises',\n",
      " 'Finch',\n",
      " 'Dwarves',\n",
      " 'Dwarves',\n",
      " 'Amon Amarth',\n",
      " 'A Static Lullaby']\n"
     ]
    }
   ],
   "source": [
    "song_list = [i.split(' - ', 1)[0] for i in song_reco]\n",
    "pprint(song_list)\n",
    "artist_list = [i.split(' - ', 1)[1] for i in song_reco]\n",
    "pprint(artist_list)"
   ]
  },
  {
   "cell_type": "code",
   "execution_count": 207,
   "metadata": {},
   "outputs": [
    {
     "data": {
      "text/html": [
       "<style type=\"text/css\">\n",
       "#T_424fa_row2_col2, #T_424fa_row2_col4, #T_424fa_row5_col2, #T_424fa_row5_col4, #T_424fa_row6_col2, #T_424fa_row6_col4, #T_424fa_row8_col2, #T_424fa_row8_col4, #T_424fa_row10_col2, #T_424fa_row10_col4, #T_424fa_row11_col2, #T_424fa_row11_col4, #T_424fa_row15_col2, #T_424fa_row15_col4, #T_424fa_row17_col2, #T_424fa_row17_col4, #T_424fa_row23_col2, #T_424fa_row23_col4, #T_424fa_row24_col2, #T_424fa_row24_col4, #T_424fa_row27_col2, #T_424fa_row27_col4 {\n",
       "  color: red;\n",
       "}\n",
       "</style>\n",
       "<table id=\"T_424fa\">\n",
       "  <thead>\n",
       "    <tr>\n",
       "      <th class=\"blank level0\" >&nbsp;</th>\n",
       "      <th id=\"T_424fa_level0_col0\" class=\"col_heading level0 col0\" >user</th>\n",
       "      <th id=\"T_424fa_level0_col1\" class=\"col_heading level0 col1\" >listening_count</th>\n",
       "      <th id=\"T_424fa_level0_col2\" class=\"col_heading level0 col2\" >song_name</th>\n",
       "      <th id=\"T_424fa_level0_col3\" class=\"col_heading level0 col3\" >release</th>\n",
       "      <th id=\"T_424fa_level0_col4\" class=\"col_heading level0 col4\" >artist_name</th>\n",
       "      <th id=\"T_424fa_level0_col5\" class=\"col_heading level0 col5\" >duration</th>\n",
       "      <th id=\"T_424fa_level0_col6\" class=\"col_heading level0 col6\" >artist_familiarity</th>\n",
       "      <th id=\"T_424fa_level0_col7\" class=\"col_heading level0 col7\" >artist_hotttnesss</th>\n",
       "      <th id=\"T_424fa_level0_col8\" class=\"col_heading level0 col8\" >year</th>\n",
       "      <th id=\"T_424fa_level0_col9\" class=\"col_heading level0 col9\" >shs_perf</th>\n",
       "      <th id=\"T_424fa_level0_col10\" class=\"col_heading level0 col10\" >shs_work</th>\n",
       "      <th id=\"T_424fa_level0_col11\" class=\"col_heading level0 col11\" >explicit</th>\n",
       "      <th id=\"T_424fa_level0_col12\" class=\"col_heading level0 col12\" >danceability</th>\n",
       "      <th id=\"T_424fa_level0_col13\" class=\"col_heading level0 col13\" >energy</th>\n",
       "      <th id=\"T_424fa_level0_col14\" class=\"col_heading level0 col14\" >key</th>\n",
       "      <th id=\"T_424fa_level0_col15\" class=\"col_heading level0 col15\" >loudness</th>\n",
       "      <th id=\"T_424fa_level0_col16\" class=\"col_heading level0 col16\" >mode</th>\n",
       "      <th id=\"T_424fa_level0_col17\" class=\"col_heading level0 col17\" >speechiness</th>\n",
       "      <th id=\"T_424fa_level0_col18\" class=\"col_heading level0 col18\" >acousticness</th>\n",
       "      <th id=\"T_424fa_level0_col19\" class=\"col_heading level0 col19\" >instrumentalness</th>\n",
       "      <th id=\"T_424fa_level0_col20\" class=\"col_heading level0 col20\" >liveness</th>\n",
       "      <th id=\"T_424fa_level0_col21\" class=\"col_heading level0 col21\" >valence</th>\n",
       "      <th id=\"T_424fa_level0_col22\" class=\"col_heading level0 col22\" >tempo</th>\n",
       "      <th id=\"T_424fa_level0_col23\" class=\"col_heading level0 col23\" >time_signature</th>\n",
       "      <th id=\"T_424fa_level0_col24\" class=\"col_heading level0 col24\" >release_date</th>\n",
       "    </tr>\n",
       "  </thead>\n",
       "  <tbody>\n",
       "    <tr>\n",
       "      <th id=\"T_424fa_level0_row0\" class=\"row_heading level0 row0\" >1447406</th>\n",
       "      <td id=\"T_424fa_row0_col0\" class=\"data row0 col0\" >22e08d5e101ab5b86dc394856d508e175a5242a6</td>\n",
       "      <td id=\"T_424fa_row0_col1\" class=\"data row0 col1\" >1</td>\n",
       "      <td id=\"T_424fa_row0_col2\" class=\"data row0 col2\" >Future Reflections</td>\n",
       "      <td id=\"T_424fa_row0_col3\" class=\"data row0 col3\" >Oracular Spectacular</td>\n",
       "      <td id=\"T_424fa_row0_col4\" class=\"data row0 col4\" >MGMT</td>\n",
       "      <td id=\"T_424fa_row0_col5\" class=\"data row0 col5\" >240.247710</td>\n",
       "      <td id=\"T_424fa_row0_col6\" class=\"data row0 col6\" >0.827190</td>\n",
       "      <td id=\"T_424fa_row0_col7\" class=\"data row0 col7\" >0.715881</td>\n",
       "      <td id=\"T_424fa_row0_col8\" class=\"data row0 col8\" >2007</td>\n",
       "      <td id=\"T_424fa_row0_col9\" class=\"data row0 col9\" >-1</td>\n",
       "      <td id=\"T_424fa_row0_col10\" class=\"data row0 col10\" >0</td>\n",
       "      <td id=\"T_424fa_row0_col11\" class=\"data row0 col11\" >False</td>\n",
       "      <td id=\"T_424fa_row0_col12\" class=\"data row0 col12\" >-0.162191</td>\n",
       "      <td id=\"T_424fa_row0_col13\" class=\"data row0 col13\" >1.420466</td>\n",
       "      <td id=\"T_424fa_row0_col14\" class=\"data row0 col14\" >5</td>\n",
       "      <td id=\"T_424fa_row0_col15\" class=\"data row0 col15\" >1.116537</td>\n",
       "      <td id=\"T_424fa_row0_col16\" class=\"data row0 col16\" >1</td>\n",
       "      <td id=\"T_424fa_row0_col17\" class=\"data row0 col17\" >0.369458</td>\n",
       "      <td id=\"T_424fa_row0_col18\" class=\"data row0 col18\" >-0.558379</td>\n",
       "      <td id=\"T_424fa_row0_col19\" class=\"data row0 col19\" >-0.282797</td>\n",
       "      <td id=\"T_424fa_row0_col20\" class=\"data row0 col20\" >0.845100</td>\n",
       "      <td id=\"T_424fa_row0_col21\" class=\"data row0 col21\" >0.494000</td>\n",
       "      <td id=\"T_424fa_row0_col22\" class=\"data row0 col22\" >0.645034</td>\n",
       "      <td id=\"T_424fa_row0_col23\" class=\"data row0 col23\" >4.000000</td>\n",
       "      <td id=\"T_424fa_row0_col24\" class=\"data row0 col24\" >2007-12-14</td>\n",
       "    </tr>\n",
       "    <tr>\n",
       "      <th id=\"T_424fa_level0_row1\" class=\"row_heading level0 row1\" >1682768</th>\n",
       "      <td id=\"T_424fa_row1_col0\" class=\"data row1 col0\" >22e08d5e101ab5b86dc394856d508e175a5242a6</td>\n",
       "      <td id=\"T_424fa_row1_col1\" class=\"data row1 col1\" >1</td>\n",
       "      <td id=\"T_424fa_row1_col2\" class=\"data row1 col2\" >Big Me</td>\n",
       "      <td id=\"T_424fa_row1_col3\" class=\"data row1 col3\" >Foo Fighters</td>\n",
       "      <td id=\"T_424fa_row1_col4\" class=\"data row1 col4\" >Foo Fighters</td>\n",
       "      <td id=\"T_424fa_row1_col5\" class=\"data row1 col5\" >132.832200</td>\n",
       "      <td id=\"T_424fa_row1_col6\" class=\"data row1 col6\" >0.839275</td>\n",
       "      <td id=\"T_424fa_row1_col7\" class=\"data row1 col7\" >0.550762</td>\n",
       "      <td id=\"T_424fa_row1_col8\" class=\"data row1 col8\" >1992</td>\n",
       "      <td id=\"T_424fa_row1_col9\" class=\"data row1 col9\" >-1</td>\n",
       "      <td id=\"T_424fa_row1_col10\" class=\"data row1 col10\" >0</td>\n",
       "      <td id=\"T_424fa_row1_col11\" class=\"data row1 col11\" >False</td>\n",
       "      <td id=\"T_424fa_row1_col12\" class=\"data row1 col12\" >0.244089</td>\n",
       "      <td id=\"T_424fa_row1_col13\" class=\"data row1 col13\" >0.273024</td>\n",
       "      <td id=\"T_424fa_row1_col14\" class=\"data row1 col14\" >0</td>\n",
       "      <td id=\"T_424fa_row1_col15\" class=\"data row1 col15\" >-0.549529</td>\n",
       "      <td id=\"T_424fa_row1_col16\" class=\"data row1 col16\" >1</td>\n",
       "      <td id=\"T_424fa_row1_col17\" class=\"data row1 col17\" >-0.397137</td>\n",
       "      <td id=\"T_424fa_row1_col18\" class=\"data row1 col18\" >0.624733</td>\n",
       "      <td id=\"T_424fa_row1_col19\" class=\"data row1 col19\" >-0.455820</td>\n",
       "      <td id=\"T_424fa_row1_col20\" class=\"data row1 col20\" >-0.560848</td>\n",
       "      <td id=\"T_424fa_row1_col21\" class=\"data row1 col21\" >0.846000</td>\n",
       "      <td id=\"T_424fa_row1_col22\" class=\"data row1 col22\" >0.334518</td>\n",
       "      <td id=\"T_424fa_row1_col23\" class=\"data row1 col23\" >4.000000</td>\n",
       "      <td id=\"T_424fa_row1_col24\" class=\"data row1 col24\" >1995-07-04</td>\n",
       "    </tr>\n",
       "    <tr>\n",
       "      <th id=\"T_424fa_level0_row2\" class=\"row_heading level0 row2\" >2214552</th>\n",
       "      <td id=\"T_424fa_row2_col0\" class=\"data row2 col0\" >22e08d5e101ab5b86dc394856d508e175a5242a6</td>\n",
       "      <td id=\"T_424fa_row2_col1\" class=\"data row2 col1\" >1</td>\n",
       "      <td id=\"T_424fa_row2_col2\" class=\"data row2 col2\" >Debaser</td>\n",
       "      <td id=\"T_424fa_row2_col3\" class=\"data row2 col3\" >Wave Of Mutilation: Best Of Pixies</td>\n",
       "      <td id=\"T_424fa_row2_col4\" class=\"data row2 col4\" >Pixies</td>\n",
       "      <td id=\"T_424fa_row2_col5\" class=\"data row2 col5\" >171.833020</td>\n",
       "      <td id=\"T_424fa_row2_col6\" class=\"data row2 col6\" >0.780667</td>\n",
       "      <td id=\"T_424fa_row2_col7\" class=\"data row2 col7\" >0.554501</td>\n",
       "      <td id=\"T_424fa_row2_col8\" class=\"data row2 col8\" >1989</td>\n",
       "      <td id=\"T_424fa_row2_col9\" class=\"data row2 col9\" >45303</td>\n",
       "      <td id=\"T_424fa_row2_col10\" class=\"data row2 col10\" >45303</td>\n",
       "      <td id=\"T_424fa_row2_col11\" class=\"data row2 col11\" >False</td>\n",
       "      <td id=\"T_424fa_row2_col12\" class=\"data row2 col12\" >-1.520498</td>\n",
       "      <td id=\"T_424fa_row2_col13\" class=\"data row2 col13\" >1.373718</td>\n",
       "      <td id=\"T_424fa_row2_col14\" class=\"data row2 col14\" >5</td>\n",
       "      <td id=\"T_424fa_row2_col15\" class=\"data row2 col15\" >1.052227</td>\n",
       "      <td id=\"T_424fa_row2_col16\" class=\"data row2 col16\" >1</td>\n",
       "      <td id=\"T_424fa_row2_col17\" class=\"data row2 col17\" >0.348634</td>\n",
       "      <td id=\"T_424fa_row2_col18\" class=\"data row2 col18\" >-0.830692</td>\n",
       "      <td id=\"T_424fa_row2_col19\" class=\"data row2 col19\" >2.425311</td>\n",
       "      <td id=\"T_424fa_row2_col20\" class=\"data row2 col20\" >3.927372</td>\n",
       "      <td id=\"T_424fa_row2_col21\" class=\"data row2 col21\" >0.449000</td>\n",
       "      <td id=\"T_424fa_row2_col22\" class=\"data row2 col22\" >0.405664</td>\n",
       "      <td id=\"T_424fa_row2_col23\" class=\"data row2 col23\" >4.000000</td>\n",
       "      <td id=\"T_424fa_row2_col24\" class=\"data row2 col24\" >2005-08-30</td>\n",
       "    </tr>\n",
       "    <tr>\n",
       "      <th id=\"T_424fa_level0_row3\" class=\"row_heading level0 row3\" >2293489</th>\n",
       "      <td id=\"T_424fa_row3_col0\" class=\"data row3 col0\" >22e08d5e101ab5b86dc394856d508e175a5242a6</td>\n",
       "      <td id=\"T_424fa_row3_col1\" class=\"data row3 col1\" >4</td>\n",
       "      <td id=\"T_424fa_row3_col2\" class=\"data row3 col2\" >When A Man Loves A Woman</td>\n",
       "      <td id=\"T_424fa_row3_col3\" class=\"data row3 col3\" >100 Timeless Love Songs</td>\n",
       "      <td id=\"T_424fa_row3_col4\" class=\"data row3 col4\" >Percy Sledge</td>\n",
       "      <td id=\"T_424fa_row3_col5\" class=\"data row3 col5\" >172.851790</td>\n",
       "      <td id=\"T_424fa_row3_col6\" class=\"data row3 col6\" >0.745845</td>\n",
       "      <td id=\"T_424fa_row3_col7\" class=\"data row3 col7\" >0.501053</td>\n",
       "      <td id=\"T_424fa_row3_col8\" class=\"data row3 col8\" >1966</td>\n",
       "      <td id=\"T_424fa_row3_col9\" class=\"data row3 col9\" >-1</td>\n",
       "      <td id=\"T_424fa_row3_col10\" class=\"data row3 col10\" >100</td>\n",
       "      <td id=\"T_424fa_row3_col11\" class=\"data row3 col11\" >False</td>\n",
       "      <td id=\"T_424fa_row3_col12\" class=\"data row3 col12\" >-1.908586</td>\n",
       "      <td id=\"T_424fa_row3_col13\" class=\"data row3 col13\" >-0.657679</td>\n",
       "      <td id=\"T_424fa_row3_col14\" class=\"data row3 col14\" >10</td>\n",
       "      <td id=\"T_424fa_row3_col15\" class=\"data row3 col15\" >0.240414</td>\n",
       "      <td id=\"T_424fa_row3_col16\" class=\"data row3 col16\" >1</td>\n",
       "      <td id=\"T_424fa_row3_col17\" class=\"data row3 col17\" >-0.466118</td>\n",
       "      <td id=\"T_424fa_row3_col18\" class=\"data row3 col18\" >1.857965</td>\n",
       "      <td id=\"T_424fa_row3_col19\" class=\"data row3 col19\" >-0.455820</td>\n",
       "      <td id=\"T_424fa_row3_col20\" class=\"data row3 col20\" >-0.241806</td>\n",
       "      <td id=\"T_424fa_row3_col21\" class=\"data row3 col21\" >0.362000</td>\n",
       "      <td id=\"T_424fa_row3_col22\" class=\"data row3 col22\" >2.158919</td>\n",
       "      <td id=\"T_424fa_row3_col23\" class=\"data row3 col23\" >3.000000</td>\n",
       "      <td id=\"T_424fa_row3_col24\" class=\"data row3 col24\" >2011-11-15</td>\n",
       "    </tr>\n",
       "    <tr>\n",
       "      <th id=\"T_424fa_level0_row4\" class=\"row_heading level0 row4\" >2768037</th>\n",
       "      <td id=\"T_424fa_row4_col0\" class=\"data row4 col0\" >22e08d5e101ab5b86dc394856d508e175a5242a6</td>\n",
       "      <td id=\"T_424fa_row4_col1\" class=\"data row4 col1\" >130</td>\n",
       "      <td id=\"T_424fa_row4_col2\" class=\"data row4 col2\" >That Thing You Do!</td>\n",
       "      <td id=\"T_424fa_row4_col3\" class=\"data row4 col3\" >That Thing You Do! Original Motion Picture Soundtrack</td>\n",
       "      <td id=\"T_424fa_row4_col4\" class=\"data row4 col4\" >The Wonders</td>\n",
       "      <td id=\"T_424fa_row4_col5\" class=\"data row4 col5\" >166.765260</td>\n",
       "      <td id=\"T_424fa_row4_col6\" class=\"data row4 col6\" >0.539927</td>\n",
       "      <td id=\"T_424fa_row4_col7\" class=\"data row4 col7\" >0.389694</td>\n",
       "      <td id=\"T_424fa_row4_col8\" class=\"data row4 col8\" >1996</td>\n",
       "      <td id=\"T_424fa_row4_col9\" class=\"data row4 col9\" >-1</td>\n",
       "      <td id=\"T_424fa_row4_col10\" class=\"data row4 col10\" >0</td>\n",
       "      <td id=\"T_424fa_row4_col11\" class=\"data row4 col11\" >False</td>\n",
       "      <td id=\"T_424fa_row4_col12\" class=\"data row4 col12\" >0.359302</td>\n",
       "      <td id=\"T_424fa_row4_col13\" class=\"data row4 col13\" >0.978488</td>\n",
       "      <td id=\"T_424fa_row4_col14\" class=\"data row4 col14\" >9</td>\n",
       "      <td id=\"T_424fa_row4_col15\" class=\"data row4 col15\" >1.063943</td>\n",
       "      <td id=\"T_424fa_row4_col16\" class=\"data row4 col16\" >1</td>\n",
       "      <td id=\"T_424fa_row4_col17\" class=\"data row4 col17\" >-0.321649</td>\n",
       "      <td id=\"T_424fa_row4_col18\" class=\"data row4 col18\" >-0.685659</td>\n",
       "      <td id=\"T_424fa_row4_col19\" class=\"data row4 col19\" >-0.455797</td>\n",
       "      <td id=\"T_424fa_row4_col20\" class=\"data row4 col20\" >-0.647368</td>\n",
       "      <td id=\"T_424fa_row4_col21\" class=\"data row4 col21\" >0.962000</td>\n",
       "      <td id=\"T_424fa_row4_col22\" class=\"data row4 col22\" >0.456296</td>\n",
       "      <td id=\"T_424fa_row4_col23\" class=\"data row4 col23\" >4.000000</td>\n",
       "      <td id=\"T_424fa_row4_col24\" class=\"data row4 col24\" >1996-09-24</td>\n",
       "    </tr>\n",
       "    <tr>\n",
       "      <th id=\"T_424fa_level0_row5\" class=\"row_heading level0 row5\" >3029255</th>\n",
       "      <td id=\"T_424fa_row5_col0\" class=\"data row5 col0\" >22e08d5e101ab5b86dc394856d508e175a5242a6</td>\n",
       "      <td id=\"T_424fa_row5_col1\" class=\"data row5 col1\" >8</td>\n",
       "      <td id=\"T_424fa_row5_col2\" class=\"data row5 col2\" >Tell Him</td>\n",
       "      <td id=\"T_424fa_row5_col3\" class=\"data row5 col3\" >Girls of the 60's</td>\n",
       "      <td id=\"T_424fa_row5_col4\" class=\"data row5 col4\" >The Exciters</td>\n",
       "      <td id=\"T_424fa_row5_col5\" class=\"data row5 col5\" >142.210160</td>\n",
       "      <td id=\"T_424fa_row5_col6\" class=\"data row5 col6\" >0.546649</td>\n",
       "      <td id=\"T_424fa_row5_col7\" class=\"data row5 col7\" >0.382935</td>\n",
       "      <td id=\"T_424fa_row5_col8\" class=\"data row5 col8\" >1962</td>\n",
       "      <td id=\"T_424fa_row5_col9\" class=\"data row5 col9\" >-1</td>\n",
       "      <td id=\"T_424fa_row5_col10\" class=\"data row5 col10\" >0</td>\n",
       "      <td id=\"T_424fa_row5_col11\" class=\"data row5 col11\" >False</td>\n",
       "      <td id=\"T_424fa_row5_col12\" class=\"data row5 col12\" >1.129414</td>\n",
       "      <td id=\"T_424fa_row5_col13\" class=\"data row5 col13\" >0.358020</td>\n",
       "      <td id=\"T_424fa_row5_col14\" class=\"data row5 col14\" >4</td>\n",
       "      <td id=\"T_424fa_row5_col15\" class=\"data row5 col15\" >-0.193091</td>\n",
       "      <td id=\"T_424fa_row5_col16\" class=\"data row5 col16\" >1</td>\n",
       "      <td id=\"T_424fa_row5_col17\" class=\"data row5 col17\" >-0.022299</td>\n",
       "      <td id=\"T_424fa_row5_col18\" class=\"data row5 col18\" >0.196069</td>\n",
       "      <td id=\"T_424fa_row5_col19\" class=\"data row5 col19\" >-0.455820</td>\n",
       "      <td id=\"T_424fa_row5_col20\" class=\"data row5 col20\" >-0.582478</td>\n",
       "      <td id=\"T_424fa_row5_col21\" class=\"data row5 col21\" >0.827000</td>\n",
       "      <td id=\"T_424fa_row5_col22\" class=\"data row5 col22\" >-1.168698</td>\n",
       "      <td id=\"T_424fa_row5_col23\" class=\"data row5 col23\" >4.000000</td>\n",
       "      <td id=\"T_424fa_row5_col24\" class=\"data row5 col24\" >1997-06-17</td>\n",
       "    </tr>\n",
       "    <tr>\n",
       "      <th id=\"T_424fa_level0_row6\" class=\"row_heading level0 row6\" >3200016</th>\n",
       "      <td id=\"T_424fa_row6_col0\" class=\"data row6 col0\" >22e08d5e101ab5b86dc394856d508e175a5242a6</td>\n",
       "      <td id=\"T_424fa_row6_col1\" class=\"data row6 col1\" >5</td>\n",
       "      <td id=\"T_424fa_row6_col2\" class=\"data row6 col2\" >Where Eagles Dare</td>\n",
       "      <td id=\"T_424fa_row6_col3\" class=\"data row6 col3\" >First 7 Inches And Then Some</td>\n",
       "      <td id=\"T_424fa_row6_col4\" class=\"data row6 col4\" >Sloppy Seconds</td>\n",
       "      <td id=\"T_424fa_row6_col5\" class=\"data row6 col5\" >159.659950</td>\n",
       "      <td id=\"T_424fa_row6_col6\" class=\"data row6 col6\" >0.593607</td>\n",
       "      <td id=\"T_424fa_row6_col7\" class=\"data row6 col7\" >0.405973</td>\n",
       "      <td id=\"T_424fa_row6_col8\" class=\"data row6 col8\" >1993</td>\n",
       "      <td id=\"T_424fa_row6_col9\" class=\"data row6 col9\" >68155</td>\n",
       "      <td id=\"T_424fa_row6_col10\" class=\"data row6 col10\" >17634</td>\n",
       "      <td id=\"T_424fa_row6_col11\" class=\"data row6 col11\" >True</td>\n",
       "      <td id=\"T_424fa_row6_col12\" class=\"data row6 col12\" >0.062172</td>\n",
       "      <td id=\"T_424fa_row6_col13\" class=\"data row6 col13\" >0.651255</td>\n",
       "      <td id=\"T_424fa_row6_col14\" class=\"data row6 col14\" >7</td>\n",
       "      <td id=\"T_424fa_row6_col15\" class=\"data row6 col15\" >-2.155190</td>\n",
       "      <td id=\"T_424fa_row6_col16\" class=\"data row6 col16\" >1</td>\n",
       "      <td id=\"T_424fa_row6_col17\" class=\"data row6 col17\" >-0.213623</td>\n",
       "      <td id=\"T_424fa_row6_col18\" class=\"data row6 col18\" >-0.813302</td>\n",
       "      <td id=\"T_424fa_row6_col19\" class=\"data row6 col19\" >-0.294072</td>\n",
       "      <td id=\"T_424fa_row6_col20\" class=\"data row6 col20\" >-0.667917</td>\n",
       "      <td id=\"T_424fa_row6_col21\" class=\"data row6 col21\" >0.226000</td>\n",
       "      <td id=\"T_424fa_row6_col22\" class=\"data row6 col22\" >-0.706835</td>\n",
       "      <td id=\"T_424fa_row6_col23\" class=\"data row6 col23\" >4.000000</td>\n",
       "      <td id=\"T_424fa_row6_col24\" class=\"data row6 col24\" >2007-06-10</td>\n",
       "    </tr>\n",
       "    <tr>\n",
       "      <th id=\"T_424fa_level0_row7\" class=\"row_heading level0 row7\" >3267798</th>\n",
       "      <td id=\"T_424fa_row7_col0\" class=\"data row7 col0\" >22e08d5e101ab5b86dc394856d508e175a5242a6</td>\n",
       "      <td id=\"T_424fa_row7_col1\" class=\"data row7 col1\" >21</td>\n",
       "      <td id=\"T_424fa_row7_col2\" class=\"data row7 col2\" >Paradise By The Dashboard Light</td>\n",
       "      <td id=\"T_424fa_row7_col3\" class=\"data row7 col3\" >Discover Meat Loaf</td>\n",
       "      <td id=\"T_424fa_row7_col4\" class=\"data row7 col4\" >Meat Loaf</td>\n",
       "      <td id=\"T_424fa_row7_col5\" class=\"data row7 col5\" >511.320360</td>\n",
       "      <td id=\"T_424fa_row7_col6\" class=\"data row7 col6\" >0.800654</td>\n",
       "      <td id=\"T_424fa_row7_col7\" class=\"data row7 col7\" >0.601700</td>\n",
       "      <td id=\"T_424fa_row7_col8\" class=\"data row7 col8\" >1977</td>\n",
       "      <td id=\"T_424fa_row7_col9\" class=\"data row7 col9\" >-1</td>\n",
       "      <td id=\"T_424fa_row7_col10\" class=\"data row7 col10\" >0</td>\n",
       "      <td id=\"T_424fa_row7_col11\" class=\"data row7 col11\" >False</td>\n",
       "      <td id=\"T_424fa_row7_col12\" class=\"data row7 col12\" >-1.277943</td>\n",
       "      <td id=\"T_424fa_row7_col13\" class=\"data row7 col13\" >1.105982</td>\n",
       "      <td id=\"T_424fa_row7_col14\" class=\"data row7 col14\" >2</td>\n",
       "      <td id=\"T_424fa_row7_col15\" class=\"data row7 col15\" >0.436728</td>\n",
       "      <td id=\"T_424fa_row7_col16\" class=\"data row7 col16\" >1</td>\n",
       "      <td id=\"T_424fa_row7_col17\" class=\"data row7 col17\" >0.690933</td>\n",
       "      <td id=\"T_424fa_row7_col18\" class=\"data row7 col18\" >-0.387573</td>\n",
       "      <td id=\"T_424fa_row7_col19\" class=\"data row7 col19\" >-0.455820</td>\n",
       "      <td id=\"T_424fa_row7_col20\" class=\"data row7 col20\" >0.104273</td>\n",
       "      <td id=\"T_424fa_row7_col21\" class=\"data row7 col21\" >0.585000</td>\n",
       "      <td id=\"T_424fa_row7_col22\" class=\"data row7 col22\" >1.776503</td>\n",
       "      <td id=\"T_424fa_row7_col23\" class=\"data row7 col23\" >4.000000</td>\n",
       "      <td id=\"T_424fa_row7_col24\" class=\"data row7 col24\" >1984</td>\n",
       "    </tr>\n",
       "    <tr>\n",
       "      <th id=\"T_424fa_level0_row8\" class=\"row_heading level0 row8\" >3598454</th>\n",
       "      <td id=\"T_424fa_row8_col0\" class=\"data row8 col0\" >22e08d5e101ab5b86dc394856d508e175a5242a6</td>\n",
       "      <td id=\"T_424fa_row8_col1\" class=\"data row8 col1\" >55</td>\n",
       "      <td id=\"T_424fa_row8_col2\" class=\"data row8 col2\" >All My Only Dreams</td>\n",
       "      <td id=\"T_424fa_row8_col3\" class=\"data row8 col3\" >That Thing You Do! Original Motion Picture Soundtrack</td>\n",
       "      <td id=\"T_424fa_row8_col4\" class=\"data row8 col4\" >The Wonders</td>\n",
       "      <td id=\"T_424fa_row8_col5\" class=\"data row8 col5\" >174.184040</td>\n",
       "      <td id=\"T_424fa_row8_col6\" class=\"data row8 col6\" >0.539927</td>\n",
       "      <td id=\"T_424fa_row8_col7\" class=\"data row8 col7\" >0.389694</td>\n",
       "      <td id=\"T_424fa_row8_col8\" class=\"data row8 col8\" >1996</td>\n",
       "      <td id=\"T_424fa_row8_col9\" class=\"data row8 col9\" >-1</td>\n",
       "      <td id=\"T_424fa_row8_col10\" class=\"data row8 col10\" >0</td>\n",
       "      <td id=\"T_424fa_row8_col11\" class=\"data row8 col11\" >False</td>\n",
       "      <td id=\"T_424fa_row8_col12\" class=\"data row8 col12\" >0.808029</td>\n",
       "      <td id=\"T_424fa_row8_col13\" class=\"data row8 col13\" >0.090283</td>\n",
       "      <td id=\"T_424fa_row8_col14\" class=\"data row8 col14\" >2</td>\n",
       "      <td id=\"T_424fa_row8_col15\" class=\"data row8 col15\" >0.398715</td>\n",
       "      <td id=\"T_424fa_row8_col16\" class=\"data row8 col16\" >1</td>\n",
       "      <td id=\"T_424fa_row8_col17\" class=\"data row8 col17\" >-0.554621</td>\n",
       "      <td id=\"T_424fa_row8_col18\" class=\"data row8 col18\" >-0.663896</td>\n",
       "      <td id=\"T_424fa_row8_col19\" class=\"data row8 col19\" >-0.455820</td>\n",
       "      <td id=\"T_424fa_row8_col20\" class=\"data row8 col20\" >0.050198</td>\n",
       "      <td id=\"T_424fa_row8_col21\" class=\"data row8 col21\" >0.542000</td>\n",
       "      <td id=\"T_424fa_row8_col22\" class=\"data row8 col22\" >-0.282740</td>\n",
       "      <td id=\"T_424fa_row8_col23\" class=\"data row8 col23\" >4.000000</td>\n",
       "      <td id=\"T_424fa_row8_col24\" class=\"data row8 col24\" >1996-09-24</td>\n",
       "    </tr>\n",
       "    <tr>\n",
       "      <th id=\"T_424fa_level0_row9\" class=\"row_heading level0 row9\" >3613185</th>\n",
       "      <td id=\"T_424fa_row9_col0\" class=\"data row9 col0\" >22e08d5e101ab5b86dc394856d508e175a5242a6</td>\n",
       "      <td id=\"T_424fa_row9_col1\" class=\"data row9 col1\" >178</td>\n",
       "      <td id=\"T_424fa_row9_col2\" class=\"data row9 col2\" >Everybodies Girl</td>\n",
       "      <td id=\"T_424fa_row9_col3\" class=\"data row9 col3\" >The Dwarves Are Young & Goodlooking</td>\n",
       "      <td id=\"T_424fa_row9_col4\" class=\"data row9 col4\" >Dwarves</td>\n",
       "      <td id=\"T_424fa_row9_col5\" class=\"data row9 col5\" >162.376690</td>\n",
       "      <td id=\"T_424fa_row9_col6\" class=\"data row9 col6\" >0.670812</td>\n",
       "      <td id=\"T_424fa_row9_col7\" class=\"data row9 col7\" >0.427210</td>\n",
       "      <td id=\"T_424fa_row9_col8\" class=\"data row9 col8\" >1997</td>\n",
       "      <td id=\"T_424fa_row9_col9\" class=\"data row9 col9\" >-1</td>\n",
       "      <td id=\"T_424fa_row9_col10\" class=\"data row9 col10\" >0</td>\n",
       "      <td id=\"T_424fa_row9_col11\" class=\"data row9 col11\" >True</td>\n",
       "      <td id=\"T_424fa_row9_col12\" class=\"data row9 col12\" >-0.992941</td>\n",
       "      <td id=\"T_424fa_row9_col13\" class=\"data row9 col13\" >1.360969</td>\n",
       "      <td id=\"T_424fa_row9_col14\" class=\"data row9 col14\" >4</td>\n",
       "      <td id=\"T_424fa_row9_col15\" class=\"data row9 col15\" >0.844457</td>\n",
       "      <td id=\"T_424fa_row9_col16\" class=\"data row9 col16\" >1</td>\n",
       "      <td id=\"T_424fa_row9_col17\" class=\"data row9 col17\" >0.243211</td>\n",
       "      <td id=\"T_424fa_row9_col18\" class=\"data row9 col18\" >-0.817918</td>\n",
       "      <td id=\"T_424fa_row9_col19\" class=\"data row9 col19\" >-0.455820</td>\n",
       "      <td id=\"T_424fa_row9_col20\" class=\"data row9 col20\" >2.094231</td>\n",
       "      <td id=\"T_424fa_row9_col21\" class=\"data row9 col21\" >0.582000</td>\n",
       "      <td id=\"T_424fa_row9_col22\" class=\"data row9 col22\" >0.749111</td>\n",
       "      <td id=\"T_424fa_row9_col23\" class=\"data row9 col23\" >4.000000</td>\n",
       "      <td id=\"T_424fa_row9_col24\" class=\"data row9 col24\" >1997</td>\n",
       "    </tr>\n",
       "    <tr>\n",
       "      <th id=\"T_424fa_level0_row10\" class=\"row_heading level0 row10\" >3672619</th>\n",
       "      <td id=\"T_424fa_row10_col0\" class=\"data row10 col0\" >22e08d5e101ab5b86dc394856d508e175a5242a6</td>\n",
       "      <td id=\"T_424fa_row10_col1\" class=\"data row10 col1\" >496</td>\n",
       "      <td id=\"T_424fa_row10_col2\" class=\"data row10 col2\" >Dance With Me Tonight</td>\n",
       "      <td id=\"T_424fa_row10_col3\" class=\"data row10 col3\" >That Thing You Do! Original Motion Picture Soundtrack</td>\n",
       "      <td id=\"T_424fa_row10_col4\" class=\"data row10 col4\" >The Wonders</td>\n",
       "      <td id=\"T_424fa_row10_col5\" class=\"data row10 col5\" >125.230570</td>\n",
       "      <td id=\"T_424fa_row10_col6\" class=\"data row10 col6\" >0.539927</td>\n",
       "      <td id=\"T_424fa_row10_col7\" class=\"data row10 col7\" >0.389694</td>\n",
       "      <td id=\"T_424fa_row10_col8\" class=\"data row10 col8\" >1996</td>\n",
       "      <td id=\"T_424fa_row10_col9\" class=\"data row10 col9\" >-1</td>\n",
       "      <td id=\"T_424fa_row10_col10\" class=\"data row10 col10\" >0</td>\n",
       "      <td id=\"T_424fa_row10_col11\" class=\"data row10 col11\" >False</td>\n",
       "      <td id=\"T_424fa_row10_col12\" class=\"data row10 col12\" >0.359302</td>\n",
       "      <td id=\"T_424fa_row10_col13\" class=\"data row10 col13\" >1.186728</td>\n",
       "      <td id=\"T_424fa_row10_col14\" class=\"data row10 col14\" >9</td>\n",
       "      <td id=\"T_424fa_row10_col15\" class=\"data row10 col15\" >1.059517</td>\n",
       "      <td id=\"T_424fa_row10_col16\" class=\"data row10 col16\" >0</td>\n",
       "      <td id=\"T_424fa_row10_col17\" class=\"data row10 col17\" >-0.503862</td>\n",
       "      <td id=\"T_424fa_row10_col18\" class=\"data row10 col18\" >-0.504301</td>\n",
       "      <td id=\"T_424fa_row10_col19\" class=\"data row10 col19\" >-0.455820</td>\n",
       "      <td id=\"T_424fa_row10_col20\" class=\"data row10 col20\" >0.374648</td>\n",
       "      <td id=\"T_424fa_row10_col21\" class=\"data row10 col21\" >0.968000</td>\n",
       "      <td id=\"T_424fa_row10_col22\" class=\"data row10 col22\" >0.714979</td>\n",
       "      <td id=\"T_424fa_row10_col23\" class=\"data row10 col23\" >4.000000</td>\n",
       "      <td id=\"T_424fa_row10_col24\" class=\"data row10 col24\" >1996-09-24</td>\n",
       "    </tr>\n",
       "    <tr>\n",
       "      <th id=\"T_424fa_level0_row11\" class=\"row_heading level0 row11\" >3771145</th>\n",
       "      <td id=\"T_424fa_row11_col0\" class=\"data row11 col0\" >22e08d5e101ab5b86dc394856d508e175a5242a6</td>\n",
       "      <td id=\"T_424fa_row11_col1\" class=\"data row11 col1\" >12</td>\n",
       "      <td id=\"T_424fa_row11_col2\" class=\"data row11 col2\" >Nothing Personal</td>\n",
       "      <td id=\"T_424fa_row11_col3\" class=\"data row11 col3\" >Anna</td>\n",
       "      <td id=\"T_424fa_row11_col4\" class=\"data row11 col4\" >Anna Waronker</td>\n",
       "      <td id=\"T_424fa_row11_col5\" class=\"data row11 col5\" >189.622400</td>\n",
       "      <td id=\"T_424fa_row11_col6\" class=\"data row11 col6\" >0.515210</td>\n",
       "      <td id=\"T_424fa_row11_col7\" class=\"data row11 col7\" >0.376499</td>\n",
       "      <td id=\"T_424fa_row11_col8\" class=\"data row11 col8\" >2002</td>\n",
       "      <td id=\"T_424fa_row11_col9\" class=\"data row11 col9\" >-1</td>\n",
       "      <td id=\"T_424fa_row11_col10\" class=\"data row11 col10\" >0</td>\n",
       "      <td id=\"T_424fa_row11_col11\" class=\"data row11 col11\" >False</td>\n",
       "      <td id=\"T_424fa_row11_col12\" class=\"data row11 col12\" >0.316855</td>\n",
       "      <td id=\"T_424fa_row11_col13\" class=\"data row11 col13\" >0.375019</td>\n",
       "      <td id=\"T_424fa_row11_col14\" class=\"data row11 col14\" >2</td>\n",
       "      <td id=\"T_424fa_row11_col15\" class=\"data row11 col15\" >-0.237613</td>\n",
       "      <td id=\"T_424fa_row11_col16\" class=\"data row11 col16\" >1</td>\n",
       "      <td id=\"T_424fa_row11_col17\" class=\"data row11 col17\" >-0.376313</td>\n",
       "      <td id=\"T_424fa_row11_col18\" class=\"data row11 col18\" >-0.831249</td>\n",
       "      <td id=\"T_424fa_row11_col19\" class=\"data row11 col19\" >1.068341</td>\n",
       "      <td id=\"T_424fa_row11_col20\" class=\"data row11 col20\" >0.115088</td>\n",
       "      <td id=\"T_424fa_row11_col21\" class=\"data row11 col21\" >0.532000</td>\n",
       "      <td id=\"T_424fa_row11_col22\" class=\"data row11 col22\" >0.198779</td>\n",
       "      <td id=\"T_424fa_row11_col23\" class=\"data row11 col23\" >4.000000</td>\n",
       "      <td id=\"T_424fa_row11_col24\" class=\"data row11 col24\" >2002-06-04</td>\n",
       "    </tr>\n",
       "    <tr>\n",
       "      <th id=\"T_424fa_level0_row12\" class=\"row_heading level0 row12\" >3827667</th>\n",
       "      <td id=\"T_424fa_row12_col0\" class=\"data row12 col0\" >22e08d5e101ab5b86dc394856d508e175a5242a6</td>\n",
       "      <td id=\"T_424fa_row12_col1\" class=\"data row12 col1\" >149</td>\n",
       "      <td id=\"T_424fa_row12_col2\" class=\"data row12 col2\" >Little Wild One</td>\n",
       "      <td id=\"T_424fa_row12_col3\" class=\"data row12 col3\" >That Thing You Do! Original Motion Picture Soundtrack</td>\n",
       "      <td id=\"T_424fa_row12_col4\" class=\"data row12 col4\" >The Wonders</td>\n",
       "      <td id=\"T_424fa_row12_col5\" class=\"data row12 col5\" >150.464850</td>\n",
       "      <td id=\"T_424fa_row12_col6\" class=\"data row12 col6\" >0.539927</td>\n",
       "      <td id=\"T_424fa_row12_col7\" class=\"data row12 col7\" >0.389694</td>\n",
       "      <td id=\"T_424fa_row12_col8\" class=\"data row12 col8\" >1996</td>\n",
       "      <td id=\"T_424fa_row12_col9\" class=\"data row12 col9\" >-1</td>\n",
       "      <td id=\"T_424fa_row12_col10\" class=\"data row12 col10\" >0</td>\n",
       "      <td id=\"T_424fa_row12_col11\" class=\"data row12 col11\" >False</td>\n",
       "      <td id=\"T_424fa_row12_col12\" class=\"data row12 col12\" >-0.222830</td>\n",
       "      <td id=\"T_424fa_row12_col13\" class=\"data row12 col13\" >0.995488</td>\n",
       "      <td id=\"T_424fa_row12_col14\" class=\"data row12 col14\" >4</td>\n",
       "      <td id=\"T_424fa_row12_col15\" class=\"data row12 col15\" >1.065245</td>\n",
       "      <td id=\"T_424fa_row12_col16\" class=\"data row12 col16\" >1</td>\n",
       "      <td id=\"T_424fa_row12_col17\" class=\"data row12 col17\" >-0.463515</td>\n",
       "      <td id=\"T_424fa_row12_col18\" class=\"data row12 col18\" >-0.786560</td>\n",
       "      <td id=\"T_424fa_row12_col19\" class=\"data row12 col19\" >-0.455820</td>\n",
       "      <td id=\"T_424fa_row12_col20\" class=\"data row12 col20\" >1.212810</td>\n",
       "      <td id=\"T_424fa_row12_col21\" class=\"data row12 col21\" >0.802000</td>\n",
       "      <td id=\"T_424fa_row12_col22\" class=\"data row12 col22\" >0.352665</td>\n",
       "      <td id=\"T_424fa_row12_col23\" class=\"data row12 col23\" >4.000000</td>\n",
       "      <td id=\"T_424fa_row12_col24\" class=\"data row12 col24\" >1996-09-24</td>\n",
       "    </tr>\n",
       "    <tr>\n",
       "      <th id=\"T_424fa_level0_row13\" class=\"row_heading level0 row13\" >4004642</th>\n",
       "      <td id=\"T_424fa_row13_col0\" class=\"data row13 col0\" >22e08d5e101ab5b86dc394856d508e175a5242a6</td>\n",
       "      <td id=\"T_424fa_row13_col1\" class=\"data row13 col1\" >1</td>\n",
       "      <td id=\"T_424fa_row13_col2\" class=\"data row13 col2\" >Beautiful</td>\n",
       "      <td id=\"T_424fa_row13_col3\" class=\"data row13 col3\" >Anna</td>\n",
       "      <td id=\"T_424fa_row13_col4\" class=\"data row13 col4\" >Anna Waronker</td>\n",
       "      <td id=\"T_424fa_row13_col5\" class=\"data row13 col5\" >145.527710</td>\n",
       "      <td id=\"T_424fa_row13_col6\" class=\"data row13 col6\" >0.515210</td>\n",
       "      <td id=\"T_424fa_row13_col7\" class=\"data row13 col7\" >0.376499</td>\n",
       "      <td id=\"T_424fa_row13_col8\" class=\"data row13 col8\" >2002</td>\n",
       "      <td id=\"T_424fa_row13_col9\" class=\"data row13 col9\" >-1</td>\n",
       "      <td id=\"T_424fa_row13_col10\" class=\"data row13 col10\" >0</td>\n",
       "      <td id=\"T_424fa_row13_col11\" class=\"data row13 col11\" >False</td>\n",
       "      <td id=\"T_424fa_row13_col12\" class=\"data row13 col12\" >0.832284</td>\n",
       "      <td id=\"T_424fa_row13_col13\" class=\"data row13 col13\" >-0.678928</td>\n",
       "      <td id=\"T_424fa_row13_col14\" class=\"data row13 col14\" >7</td>\n",
       "      <td id=\"T_424fa_row13_col15\" class=\"data row13 col15\" >-0.620868</td>\n",
       "      <td id=\"T_424fa_row13_col16\" class=\"data row13 col16\" >1</td>\n",
       "      <td id=\"T_424fa_row13_col17\" class=\"data row13 col17\" >-0.446595</td>\n",
       "      <td id=\"T_424fa_row13_col18\" class=\"data row13 col18\" >-0.687307</td>\n",
       "      <td id=\"T_424fa_row13_col19\" class=\"data row13 col19\" >-0.407996</td>\n",
       "      <td id=\"T_424fa_row13_col20\" class=\"data row13 col20\" >-0.344549</td>\n",
       "      <td id=\"T_424fa_row13_col21\" class=\"data row13 col21\" >0.420000</td>\n",
       "      <td id=\"T_424fa_row13_col22\" class=\"data row13 col22\" >0.071136</td>\n",
       "      <td id=\"T_424fa_row13_col23\" class=\"data row13 col23\" >4.000000</td>\n",
       "      <td id=\"T_424fa_row13_col24\" class=\"data row13 col24\" >2002-06-04</td>\n",
       "    </tr>\n",
       "    <tr>\n",
       "      <th id=\"T_424fa_level0_row14\" class=\"row_heading level0 row14\" >4009100</th>\n",
       "      <td id=\"T_424fa_row14_col0\" class=\"data row14 col0\" >22e08d5e101ab5b86dc394856d508e175a5242a6</td>\n",
       "      <td id=\"T_424fa_row14_col1\" class=\"data row14 col1\" >212</td>\n",
       "      <td id=\"T_424fa_row14_col2\" class=\"data row14 col2\" >I Need You (That Thing You Do)</td>\n",
       "      <td id=\"T_424fa_row14_col3\" class=\"data row14 col3\" >That Thing You Do! Original Motion Picture Soundtrack</td>\n",
       "      <td id=\"T_424fa_row14_col4\" class=\"data row14 col4\" >The Wonders</td>\n",
       "      <td id=\"T_424fa_row14_col5\" class=\"data row14 col5\" >172.433830</td>\n",
       "      <td id=\"T_424fa_row14_col6\" class=\"data row14 col6\" >0.539927</td>\n",
       "      <td id=\"T_424fa_row14_col7\" class=\"data row14 col7\" >0.389694</td>\n",
       "      <td id=\"T_424fa_row14_col8\" class=\"data row14 col8\" >1996</td>\n",
       "      <td id=\"T_424fa_row14_col9\" class=\"data row14 col9\" >-1</td>\n",
       "      <td id=\"T_424fa_row14_col10\" class=\"data row14 col10\" >0</td>\n",
       "      <td id=\"T_424fa_row14_col11\" class=\"data row14 col11\" >False</td>\n",
       "      <td id=\"T_424fa_row14_col12\" class=\"data row14 col12\" >-0.119744</td>\n",
       "      <td id=\"T_424fa_row14_col13\" class=\"data row14 col13\" >0.719252</td>\n",
       "      <td id=\"T_424fa_row14_col14\" class=\"data row14 col14\" >0</td>\n",
       "      <td id=\"T_424fa_row14_col15\" class=\"data row14 col15\" >0.885855</td>\n",
       "      <td id=\"T_424fa_row14_col16\" class=\"data row14 col16\" >1</td>\n",
       "      <td id=\"T_424fa_row14_col17\" class=\"data row14 col17\" >-0.522083</td>\n",
       "      <td id=\"T_424fa_row14_col18\" class=\"data row14 col18\" >-0.826986</td>\n",
       "      <td id=\"T_424fa_row14_col19\" class=\"data row14 col19\" >-0.455820</td>\n",
       "      <td id=\"T_424fa_row14_col20\" class=\"data row14 col20\" >-0.322919</td>\n",
       "      <td id=\"T_424fa_row14_col21\" class=\"data row14 col21\" >0.654000</td>\n",
       "      <td id=\"T_424fa_row14_col22\" class=\"data row14 col22\" >0.708496</td>\n",
       "      <td id=\"T_424fa_row14_col23\" class=\"data row14 col23\" >4.000000</td>\n",
       "      <td id=\"T_424fa_row14_col24\" class=\"data row14 col24\" >1996-09-24</td>\n",
       "    </tr>\n",
       "    <tr>\n",
       "      <th id=\"T_424fa_level0_row15\" class=\"row_heading level0 row15\" >4137280</th>\n",
       "      <td id=\"T_424fa_row15_col0\" class=\"data row15 col0\" >22e08d5e101ab5b86dc394856d508e175a5242a6</td>\n",
       "      <td id=\"T_424fa_row15_col1\" class=\"data row15 col1\" >3</td>\n",
       "      <td id=\"T_424fa_row15_col2\" class=\"data row15 col2\" >Unrepentant</td>\n",
       "      <td id=\"T_424fa_row15_col3\" class=\"data row15 col3\" >The Dwarves Are Young & Goodlooking</td>\n",
       "      <td id=\"T_424fa_row15_col4\" class=\"data row15 col4\" >Dwarves</td>\n",
       "      <td id=\"T_424fa_row15_col5\" class=\"data row15 col5\" >134.112200</td>\n",
       "      <td id=\"T_424fa_row15_col6\" class=\"data row15 col6\" >0.670812</td>\n",
       "      <td id=\"T_424fa_row15_col7\" class=\"data row15 col7\" >0.427210</td>\n",
       "      <td id=\"T_424fa_row15_col8\" class=\"data row15 col8\" >1997</td>\n",
       "      <td id=\"T_424fa_row15_col9\" class=\"data row15 col9\" >-1</td>\n",
       "      <td id=\"T_424fa_row15_col10\" class=\"data row15 col10\" >0</td>\n",
       "      <td id=\"T_424fa_row15_col11\" class=\"data row15 col11\" >True</td>\n",
       "      <td id=\"T_424fa_row15_col12\" class=\"data row15 col12\" >-2.175397</td>\n",
       "      <td id=\"T_424fa_row15_col13\" class=\"data row15 col13\" >1.462964</td>\n",
       "      <td id=\"T_424fa_row15_col14\" class=\"data row15 col14\" >4</td>\n",
       "      <td id=\"T_424fa_row15_col15\" class=\"data row15 col15\" >0.729897</td>\n",
       "      <td id=\"T_424fa_row15_col16\" class=\"data row15 col16\" >0</td>\n",
       "      <td id=\"T_424fa_row15_col17\" class=\"data row15 col17\" >0.217180</td>\n",
       "      <td id=\"T_424fa_row15_col18\" class=\"data row15 col18\" >-0.828107</td>\n",
       "      <td id=\"T_424fa_row15_col19\" class=\"data row15 col19\" >-0.455820</td>\n",
       "      <td id=\"T_424fa_row15_col20\" class=\"data row15 col20\" >2.353791</td>\n",
       "      <td id=\"T_424fa_row15_col21\" class=\"data row15 col21\" >0.138000</td>\n",
       "      <td id=\"T_424fa_row15_col22\" class=\"data row15 col22\" >1.732286</td>\n",
       "      <td id=\"T_424fa_row15_col23\" class=\"data row15 col23\" >4.000000</td>\n",
       "      <td id=\"T_424fa_row15_col24\" class=\"data row15 col24\" >1997</td>\n",
       "    </tr>\n",
       "    <tr>\n",
       "      <th id=\"T_424fa_level0_row16\" class=\"row_heading level0 row16\" >4208279</th>\n",
       "      <td id=\"T_424fa_row16_col0\" class=\"data row16 col0\" >22e08d5e101ab5b86dc394856d508e175a5242a6</td>\n",
       "      <td id=\"T_424fa_row16_col1\" class=\"data row16 col1\" >1</td>\n",
       "      <td id=\"T_424fa_row16_col2\" class=\"data row16 col2\" >Fifty-fifty Clown</td>\n",
       "      <td id=\"T_424fa_row16_col3\" class=\"data row16 col3\" >Heaven Or Las Vegas (Remastered)</td>\n",
       "      <td id=\"T_424fa_row16_col4\" class=\"data row16 col4\" >Cocteau Twins</td>\n",
       "      <td id=\"T_424fa_row16_col5\" class=\"data row16 col5\" >190.275460</td>\n",
       "      <td id=\"T_424fa_row16_col6\" class=\"data row16 col6\" >0.713072</td>\n",
       "      <td id=\"T_424fa_row16_col7\" class=\"data row16 col7\" >0.495863</td>\n",
       "      <td id=\"T_424fa_row16_col8\" class=\"data row16 col8\" >1990</td>\n",
       "      <td id=\"T_424fa_row16_col9\" class=\"data row16 col9\" >-1</td>\n",
       "      <td id=\"T_424fa_row16_col10\" class=\"data row16 col10\" >0</td>\n",
       "      <td id=\"T_424fa_row16_col11\" class=\"data row16 col11\" >False</td>\n",
       "      <td id=\"T_424fa_row16_col12\" class=\"data row16 col12\" >-0.350171</td>\n",
       "      <td id=\"T_424fa_row16_col13\" class=\"data row16 col13\" >0.213527</td>\n",
       "      <td id=\"T_424fa_row16_col14\" class=\"data row16 col14\" >0</td>\n",
       "      <td id=\"T_424fa_row16_col15\" class=\"data row16 col15\" >0.241716</td>\n",
       "      <td id=\"T_424fa_row16_col16\" class=\"data row16 col16\" >0</td>\n",
       "      <td id=\"T_424fa_row16_col17\" class=\"data row16 col17\" >-0.529892</td>\n",
       "      <td id=\"T_424fa_row16_col18\" class=\"data row16 col18\" >-0.671810</td>\n",
       "      <td id=\"T_424fa_row16_col19\" class=\"data row16 col19\" >-0.168873</td>\n",
       "      <td id=\"T_424fa_row16_col20\" class=\"data row16 col20\" >-0.555441</td>\n",
       "      <td id=\"T_424fa_row16_col21\" class=\"data row16 col21\" >0.374000</td>\n",
       "      <td id=\"T_424fa_row16_col22\" class=\"data row16 col22\" >2.020435</td>\n",
       "      <td id=\"T_424fa_row16_col23\" class=\"data row16 col23\" >3.000000</td>\n",
       "      <td id=\"T_424fa_row16_col24\" class=\"data row16 col24\" >1990</td>\n",
       "    </tr>\n",
       "    <tr>\n",
       "      <th id=\"T_424fa_level0_row17\" class=\"row_heading level0 row17\" >4208444</th>\n",
       "      <td id=\"T_424fa_row17_col0\" class=\"data row17 col0\" >22e08d5e101ab5b86dc394856d508e175a5242a6</td>\n",
       "      <td id=\"T_424fa_row17_col1\" class=\"data row17 col1\" >1</td>\n",
       "      <td id=\"T_424fa_row17_col2\" class=\"data row17 col2\" >Fotzepolitic</td>\n",
       "      <td id=\"T_424fa_row17_col3\" class=\"data row17 col3\" >Heaven Or Las Vegas (Remastered)</td>\n",
       "      <td id=\"T_424fa_row17_col4\" class=\"data row17 col4\" >Cocteau Twins</td>\n",
       "      <td id=\"T_424fa_row17_col5\" class=\"data row17 col5\" >210.990570</td>\n",
       "      <td id=\"T_424fa_row17_col6\" class=\"data row17 col6\" >0.713072</td>\n",
       "      <td id=\"T_424fa_row17_col7\" class=\"data row17 col7\" >0.495863</td>\n",
       "      <td id=\"T_424fa_row17_col8\" class=\"data row17 col8\" >1990</td>\n",
       "      <td id=\"T_424fa_row17_col9\" class=\"data row17 col9\" >-1</td>\n",
       "      <td id=\"T_424fa_row17_col10\" class=\"data row17 col10\" >0</td>\n",
       "      <td id=\"T_424fa_row17_col11\" class=\"data row17 col11\" >False</td>\n",
       "      <td id=\"T_424fa_row17_col12\" class=\"data row17 col12\" >-1.381029</td>\n",
       "      <td id=\"T_424fa_row17_col13\" class=\"data row17 col13\" >0.370769</td>\n",
       "      <td id=\"T_424fa_row17_col14\" class=\"data row17 col14\" >7</td>\n",
       "      <td id=\"T_424fa_row17_col15\" class=\"data row17 col15\" >0.285196</td>\n",
       "      <td id=\"T_424fa_row17_col16\" class=\"data row17 col16\" >1</td>\n",
       "      <td id=\"T_424fa_row17_col17\" class=\"data row17 col17\" >-0.345076</td>\n",
       "      <td id=\"T_424fa_row17_col18\" class=\"data row17 col18\" >-0.832671</td>\n",
       "      <td id=\"T_424fa_row17_col19\" class=\"data row17 col19\" >1.254973</td>\n",
       "      <td id=\"T_424fa_row17_col20\" class=\"data row17 col20\" >-0.522996</td>\n",
       "      <td id=\"T_424fa_row17_col21\" class=\"data row17 col21\" >0.133000</td>\n",
       "      <td id=\"T_424fa_row17_col22\" class=\"data row17 col22\" >-1.868525</td>\n",
       "      <td id=\"T_424fa_row17_col23\" class=\"data row17 col23\" >4.000000</td>\n",
       "      <td id=\"T_424fa_row17_col24\" class=\"data row17 col24\" >1990</td>\n",
       "    </tr>\n",
       "    <tr>\n",
       "      <th id=\"T_424fa_level0_row18\" class=\"row_heading level0 row18\" >4236914</th>\n",
       "      <td id=\"T_424fa_row18_col0\" class=\"data row18 col0\" >22e08d5e101ab5b86dc394856d508e175a5242a6</td>\n",
       "      <td id=\"T_424fa_row18_col1\" class=\"data row18 col1\" >2</td>\n",
       "      <td id=\"T_424fa_row18_col2\" class=\"data row18 col2\" >I Wish You Well</td>\n",
       "      <td id=\"T_424fa_row18_col3\" class=\"data row18 col3\" >Anna</td>\n",
       "      <td id=\"T_424fa_row18_col4\" class=\"data row18 col4\" >Anna Waronker</td>\n",
       "      <td id=\"T_424fa_row18_col5\" class=\"data row18 col5\" >214.987300</td>\n",
       "      <td id=\"T_424fa_row18_col6\" class=\"data row18 col6\" >0.515210</td>\n",
       "      <td id=\"T_424fa_row18_col7\" class=\"data row18 col7\" >0.376499</td>\n",
       "      <td id=\"T_424fa_row18_col8\" class=\"data row18 col8\" >2002</td>\n",
       "      <td id=\"T_424fa_row18_col9\" class=\"data row18 col9\" >-1</td>\n",
       "      <td id=\"T_424fa_row18_col10\" class=\"data row18 col10\" >0</td>\n",
       "      <td id=\"T_424fa_row18_col11\" class=\"data row18 col11\" >False</td>\n",
       "      <td id=\"T_424fa_row18_col12\" class=\"data row18 col12\" >0.134939</td>\n",
       "      <td id=\"T_424fa_row18_col13\" class=\"data row18 col13\" >0.145531</td>\n",
       "      <td id=\"T_424fa_row18_col14\" class=\"data row18 col14\" >2</td>\n",
       "      <td id=\"T_424fa_row18_col15\" class=\"data row18 col15\" >0.094871</td>\n",
       "      <td id=\"T_424fa_row18_col16\" class=\"data row18 col16\" >1</td>\n",
       "      <td id=\"T_424fa_row18_col17\" class=\"data row18 col17\" >-0.501259</td>\n",
       "      <td id=\"T_424fa_row18_col18\" class=\"data row18 col18\" >-0.832504</td>\n",
       "      <td id=\"T_424fa_row18_col19\" class=\"data row18 col19\" >-0.430236</td>\n",
       "      <td id=\"T_424fa_row18_col20\" class=\"data row18 col20\" >-0.658724</td>\n",
       "      <td id=\"T_424fa_row18_col21\" class=\"data row18 col21\" >0.593000</td>\n",
       "      <td id=\"T_424fa_row18_col22\" class=\"data row18 col22\" >0.440757</td>\n",
       "      <td id=\"T_424fa_row18_col23\" class=\"data row18 col23\" >4.000000</td>\n",
       "      <td id=\"T_424fa_row18_col24\" class=\"data row18 col24\" >2002-06-04</td>\n",
       "    </tr>\n",
       "    <tr>\n",
       "      <th id=\"T_424fa_level0_row19\" class=\"row_heading level0 row19\" >4369464</th>\n",
       "      <td id=\"T_424fa_row19_col0\" class=\"data row19 col0\" >22e08d5e101ab5b86dc394856d508e175a5242a6</td>\n",
       "      <td id=\"T_424fa_row19_col1\" class=\"data row19 col1\" >1</td>\n",
       "      <td id=\"T_424fa_row19_col2\" class=\"data row19 col2\" >Emma</td>\n",
       "      <td id=\"T_424fa_row19_col3\" class=\"data row19 col3\" >Their Greatest Hits</td>\n",
       "      <td id=\"T_424fa_row19_col4\" class=\"data row19 col4\" >Hot Chocolate</td>\n",
       "      <td id=\"T_424fa_row19_col5\" class=\"data row19 col5\" >232.593830</td>\n",
       "      <td id=\"T_424fa_row19_col6\" class=\"data row19 col6\" >0.663255</td>\n",
       "      <td id=\"T_424fa_row19_col7\" class=\"data row19 col7\" >0.503126</td>\n",
       "      <td id=\"T_424fa_row19_col8\" class=\"data row19 col8\" >1974</td>\n",
       "      <td id=\"T_424fa_row19_col9\" class=\"data row19 col9\" >-1</td>\n",
       "      <td id=\"T_424fa_row19_col10\" class=\"data row19 col10\" >0</td>\n",
       "      <td id=\"T_424fa_row19_col11\" class=\"data row19 col11\" >False</td>\n",
       "      <td id=\"T_424fa_row19_col12\" class=\"data row19 col12\" >0.541218</td>\n",
       "      <td id=\"T_424fa_row19_col13\" class=\"data row19 col13\" >-0.168953</td>\n",
       "      <td id=\"T_424fa_row19_col14\" class=\"data row19 col14\" >2</td>\n",
       "      <td id=\"T_424fa_row19_col15\" class=\"data row19 col15\" >0.406005</td>\n",
       "      <td id=\"T_424fa_row19_col16\" class=\"data row19 col16\" >1</td>\n",
       "      <td id=\"T_424fa_row19_col17\" class=\"data row19 col17\" >0.343428</td>\n",
       "      <td id=\"T_424fa_row19_col18\" class=\"data row19 col18\" >0.265315</td>\n",
       "      <td id=\"T_424fa_row19_col19\" class=\"data row19 col19\" >-0.438440</td>\n",
       "      <td id=\"T_424fa_row19_col20\" class=\"data row19 col20\" >-0.706310</td>\n",
       "      <td id=\"T_424fa_row19_col21\" class=\"data row19 col21\" >0.768000</td>\n",
       "      <td id=\"T_424fa_row19_col22\" class=\"data row19 col22\" >-0.706114</td>\n",
       "      <td id=\"T_424fa_row19_col23\" class=\"data row19 col23\" >4.000000</td>\n",
       "      <td id=\"T_424fa_row19_col24\" class=\"data row19 col24\" >2019-01-25</td>\n",
       "    </tr>\n",
       "    <tr>\n",
       "      <th id=\"T_424fa_level0_row20\" class=\"row_heading level0 row20\" >4428535</th>\n",
       "      <td id=\"T_424fa_row20_col0\" class=\"data row20 col0\" >22e08d5e101ab5b86dc394856d508e175a5242a6</td>\n",
       "      <td id=\"T_424fa_row20_col1\" class=\"data row20 col1\" >16</td>\n",
       "      <td id=\"T_424fa_row20_col2\" class=\"data row20 col2\" >I Will Deny</td>\n",
       "      <td id=\"T_424fa_row20_col3\" class=\"data row20 col3\" >The Dwarves Are Young & Goodlooking</td>\n",
       "      <td id=\"T_424fa_row20_col4\" class=\"data row20 col4\" >Dwarves</td>\n",
       "      <td id=\"T_424fa_row20_col5\" class=\"data row20 col5\" >99.865670</td>\n",
       "      <td id=\"T_424fa_row20_col6\" class=\"data row20 col6\" >0.670812</td>\n",
       "      <td id=\"T_424fa_row20_col7\" class=\"data row20 col7\" >0.427210</td>\n",
       "      <td id=\"T_424fa_row20_col8\" class=\"data row20 col8\" >1997</td>\n",
       "      <td id=\"T_424fa_row20_col9\" class=\"data row20 col9\" >-1</td>\n",
       "      <td id=\"T_424fa_row20_col10\" class=\"data row20 col10\" >0</td>\n",
       "      <td id=\"T_424fa_row20_col11\" class=\"data row20 col11\" >True</td>\n",
       "      <td id=\"T_424fa_row20_col12\" class=\"data row20 col12\" >-1.799437</td>\n",
       "      <td id=\"T_424fa_row20_col13\" class=\"data row20 col13\" >1.203727</td>\n",
       "      <td id=\"T_424fa_row20_col14\" class=\"data row20 col14\" >2</td>\n",
       "      <td id=\"T_424fa_row20_col15\" class=\"data row20 col15\" >0.849664</td>\n",
       "      <td id=\"T_424fa_row20_col16\" class=\"data row20 col16\" >0</td>\n",
       "      <td id=\"T_424fa_row20_col17\" class=\"data row20 col17\" >0.309588</td>\n",
       "      <td id=\"T_424fa_row20_col18\" class=\"data row20 col18\" >-0.825997</td>\n",
       "      <td id=\"T_424fa_row20_col19\" class=\"data row20 col19\" >-0.455820</td>\n",
       "      <td id=\"T_424fa_row20_col20\" class=\"data row20 col20\" >0.650430</td>\n",
       "      <td id=\"T_424fa_row20_col21\" class=\"data row20 col21\" >0.452000</td>\n",
       "      <td id=\"T_424fa_row20_col22\" class=\"data row20 col22\" >1.908297</td>\n",
       "      <td id=\"T_424fa_row20_col23\" class=\"data row20 col23\" >4.000000</td>\n",
       "      <td id=\"T_424fa_row20_col24\" class=\"data row20 col24\" >1997</td>\n",
       "    </tr>\n",
       "    <tr>\n",
       "      <th id=\"T_424fa_level0_row21\" class=\"row_heading level0 row21\" >4443209</th>\n",
       "      <td id=\"T_424fa_row21_col0\" class=\"data row21 col0\" >22e08d5e101ab5b86dc394856d508e175a5242a6</td>\n",
       "      <td id=\"T_424fa_row21_col1\" class=\"data row21 col1\" >1</td>\n",
       "      <td id=\"T_424fa_row21_col2\" class=\"data row21 col2\" >Cherry-coloured Funk</td>\n",
       "      <td id=\"T_424fa_row21_col3\" class=\"data row21 col3\" >Heaven Or Las Vegas (Remastered)</td>\n",
       "      <td id=\"T_424fa_row21_col4\" class=\"data row21 col4\" >Cocteau Twins</td>\n",
       "      <td id=\"T_424fa_row21_col5\" class=\"data row21 col5\" >192.522000</td>\n",
       "      <td id=\"T_424fa_row21_col6\" class=\"data row21 col6\" >0.713072</td>\n",
       "      <td id=\"T_424fa_row21_col7\" class=\"data row21 col7\" >0.495863</td>\n",
       "      <td id=\"T_424fa_row21_col8\" class=\"data row21 col8\" >1990</td>\n",
       "      <td id=\"T_424fa_row21_col9\" class=\"data row21 col9\" >73047</td>\n",
       "      <td id=\"T_424fa_row21_col10\" class=\"data row21 col10\" >73047</td>\n",
       "      <td id=\"T_424fa_row21_col11\" class=\"data row21 col11\" >False</td>\n",
       "      <td id=\"T_424fa_row21_col12\" class=\"data row21 col12\" >-0.295596</td>\n",
       "      <td id=\"T_424fa_row21_col13\" class=\"data row21 col13\" >0.035036</td>\n",
       "      <td id=\"T_424fa_row21_col14\" class=\"data row21 col14\" >2</td>\n",
       "      <td id=\"T_424fa_row21_col15\" class=\"data row21 col15\" >0.649705</td>\n",
       "      <td id=\"T_424fa_row21_col16\" class=\"data row21 col16\" >1</td>\n",
       "      <td id=\"T_424fa_row21_col17\" class=\"data row21 col17\" >-0.527289</td>\n",
       "      <td id=\"T_424fa_row21_col18\" class=\"data row21 col18\" >-0.826260</td>\n",
       "      <td id=\"T_424fa_row21_col19\" class=\"data row21 col19\" >-0.455577</td>\n",
       "      <td id=\"T_424fa_row21_col20\" class=\"data row21 col20\" >-0.619790</td>\n",
       "      <td id=\"T_424fa_row21_col21\" class=\"data row21 col21\" >0.339000</td>\n",
       "      <td id=\"T_424fa_row21_col22\" class=\"data row21 col22\" >-1.067983</td>\n",
       "      <td id=\"T_424fa_row21_col23\" class=\"data row21 col23\" >4.000000</td>\n",
       "      <td id=\"T_424fa_row21_col24\" class=\"data row21 col24\" >1990</td>\n",
       "    </tr>\n",
       "    <tr>\n",
       "      <th id=\"T_424fa_level0_row22\" class=\"row_heading level0 row22\" >4587026</th>\n",
       "      <td id=\"T_424fa_row22_col0\" class=\"data row22 col0\" >22e08d5e101ab5b86dc394856d508e175a5242a6</td>\n",
       "      <td id=\"T_424fa_row22_col1\" class=\"data row22 col1\" >262</td>\n",
       "      <td id=\"T_424fa_row22_col2\" class=\"data row22 col2\" >Pimp</td>\n",
       "      <td id=\"T_424fa_row22_col3\" class=\"data row22 col3\" >The Dwarves Are Young & Goodlooking</td>\n",
       "      <td id=\"T_424fa_row22_col4\" class=\"data row22 col4\" >Dwarves</td>\n",
       "      <td id=\"T_424fa_row22_col5\" class=\"data row22 col5\" >66.899140</td>\n",
       "      <td id=\"T_424fa_row22_col6\" class=\"data row22 col6\" >0.670812</td>\n",
       "      <td id=\"T_424fa_row22_col7\" class=\"data row22 col7\" >0.427210</td>\n",
       "      <td id=\"T_424fa_row22_col8\" class=\"data row22 col8\" >1997</td>\n",
       "      <td id=\"T_424fa_row22_col9\" class=\"data row22 col9\" >-1</td>\n",
       "      <td id=\"T_424fa_row22_col10\" class=\"data row22 col10\" >0</td>\n",
       "      <td id=\"T_424fa_row22_col11\" class=\"data row22 col11\" >True</td>\n",
       "      <td id=\"T_424fa_row22_col12\" class=\"data row22 col12\" >-0.065169</td>\n",
       "      <td id=\"T_424fa_row22_col13\" class=\"data row22 col13\" >1.105982</td>\n",
       "      <td id=\"T_424fa_row22_col14\" class=\"data row22 col14\" >9</td>\n",
       "      <td id=\"T_424fa_row22_col15\" class=\"data row22 col15\" >0.640853</td>\n",
       "      <td id=\"T_424fa_row22_col16\" class=\"data row22 col16\" >1</td>\n",
       "      <td id=\"T_424fa_row22_col17\" class=\"data row22 col17\" >0.355141</td>\n",
       "      <td id=\"T_424fa_row22_col18\" class=\"data row22 col18\" >-0.791176</td>\n",
       "      <td id=\"T_424fa_row22_col19\" class=\"data row22 col19\" >-0.455820</td>\n",
       "      <td id=\"T_424fa_row22_col20\" class=\"data row22 col20\" >0.991102</td>\n",
       "      <td id=\"T_424fa_row22_col21\" class=\"data row22 col21\" >0.435000</td>\n",
       "      <td id=\"T_424fa_row22_col22\" class=\"data row22 col22\" >-0.317867</td>\n",
       "      <td id=\"T_424fa_row22_col23\" class=\"data row22 col23\" >4.000000</td>\n",
       "      <td id=\"T_424fa_row22_col24\" class=\"data row22 col24\" >1997</td>\n",
       "    </tr>\n",
       "    <tr>\n",
       "      <th id=\"T_424fa_level0_row23\" class=\"row_heading level0 row23\" >4689316</th>\n",
       "      <td id=\"T_424fa_row23_col0\" class=\"data row23 col0\" >22e08d5e101ab5b86dc394856d508e175a5242a6</td>\n",
       "      <td id=\"T_424fa_row23_col1\" class=\"data row23 col1\" >5</td>\n",
       "      <td id=\"T_424fa_row23_col2\" class=\"data row23 col2\" >Hits</td>\n",
       "      <td id=\"T_424fa_row23_col3\" class=\"data row23 col3\" >The Dwarves Are Young & Goodlooking</td>\n",
       "      <td id=\"T_424fa_row23_col4\" class=\"data row23 col4\" >Dwarves</td>\n",
       "      <td id=\"T_424fa_row23_col5\" class=\"data row23 col5\" >73.273020</td>\n",
       "      <td id=\"T_424fa_row23_col6\" class=\"data row23 col6\" >0.670812</td>\n",
       "      <td id=\"T_424fa_row23_col7\" class=\"data row23 col7\" >0.427210</td>\n",
       "      <td id=\"T_424fa_row23_col8\" class=\"data row23 col8\" >1997</td>\n",
       "      <td id=\"T_424fa_row23_col9\" class=\"data row23 col9\" >-1</td>\n",
       "      <td id=\"T_424fa_row23_col10\" class=\"data row23 col10\" >0</td>\n",
       "      <td id=\"T_424fa_row23_col11\" class=\"data row23 col11\" >True</td>\n",
       "      <td id=\"T_424fa_row23_col12\" class=\"data row23 col12\" >-1.854011</td>\n",
       "      <td id=\"T_424fa_row23_col13\" class=\"data row23 col13\" >0.545010</td>\n",
       "      <td id=\"T_424fa_row23_col14\" class=\"data row23 col14\" >4</td>\n",
       "      <td id=\"T_424fa_row23_col15\" class=\"data row23 col15\" >0.073521</td>\n",
       "      <td id=\"T_424fa_row23_col16\" class=\"data row23 col16\" >1</td>\n",
       "      <td id=\"T_424fa_row23_col17\" class=\"data row23 col17\" >-0.168070</td>\n",
       "      <td id=\"T_424fa_row23_col18\" class=\"data row23 col18\" >-0.673458</td>\n",
       "      <td id=\"T_424fa_row23_col19\" class=\"data row23 col19\" >2.860785</td>\n",
       "      <td id=\"T_424fa_row23_col20\" class=\"data row23 col20\" >0.888360</td>\n",
       "      <td id=\"T_424fa_row23_col21\" class=\"data row23 col21\" >0.072700</td>\n",
       "      <td id=\"T_424fa_row23_col22\" class=\"data row23 col22\" >1.459950</td>\n",
       "      <td id=\"T_424fa_row23_col23\" class=\"data row23 col23\" >4.000000</td>\n",
       "      <td id=\"T_424fa_row23_col24\" class=\"data row23 col24\" >1997</td>\n",
       "    </tr>\n",
       "    <tr>\n",
       "      <th id=\"T_424fa_level0_row24\" class=\"row_heading level0 row24\" >4689346</th>\n",
       "      <td id=\"T_424fa_row24_col0\" class=\"data row24 col0\" >22e08d5e101ab5b86dc394856d508e175a5242a6</td>\n",
       "      <td id=\"T_424fa_row24_col1\" class=\"data row24 col1\" >6</td>\n",
       "      <td id=\"T_424fa_row24_col2\" class=\"data row24 col2\" >Throw That World Away</td>\n",
       "      <td id=\"T_424fa_row24_col3\" class=\"data row24 col3\" >The Dwarves Are Young & Goodlooking</td>\n",
       "      <td id=\"T_424fa_row24_col4\" class=\"data row24 col4\" >Dwarves</td>\n",
       "      <td id=\"T_424fa_row24_col5\" class=\"data row24 col5\" >94.954650</td>\n",
       "      <td id=\"T_424fa_row24_col6\" class=\"data row24 col6\" >0.670812</td>\n",
       "      <td id=\"T_424fa_row24_col7\" class=\"data row24 col7\" >0.427210</td>\n",
       "      <td id=\"T_424fa_row24_col8\" class=\"data row24 col8\" >1997</td>\n",
       "      <td id=\"T_424fa_row24_col9\" class=\"data row24 col9\" >-1</td>\n",
       "      <td id=\"T_424fa_row24_col10\" class=\"data row24 col10\" >0</td>\n",
       "      <td id=\"T_424fa_row24_col11\" class=\"data row24 col11\" >True</td>\n",
       "      <td id=\"T_424fa_row24_col12\" class=\"data row24 col12\" >-1.763053</td>\n",
       "      <td id=\"T_424fa_row24_col13\" class=\"data row24 col13\" >1.445965</td>\n",
       "      <td id=\"T_424fa_row24_col14\" class=\"data row24 col14\" >7</td>\n",
       "      <td id=\"T_424fa_row24_col15\" class=\"data row24 col15\" >0.974899</td>\n",
       "      <td id=\"T_424fa_row24_col16\" class=\"data row24 col16\" >1</td>\n",
       "      <td id=\"T_424fa_row24_col17\" class=\"data row24 col17\" >0.547766</td>\n",
       "      <td id=\"T_424fa_row24_col18\" class=\"data row24 col18\" >-0.830056</td>\n",
       "      <td id=\"T_424fa_row24_col19\" class=\"data row24 col19\" >-0.455706</td>\n",
       "      <td id=\"T_424fa_row24_col20\" class=\"data row24 col20\" >2.786390</td>\n",
       "      <td id=\"T_424fa_row24_col21\" class=\"data row24 col21\" >0.295000</td>\n",
       "      <td id=\"T_424fa_row24_col22\" class=\"data row24 col22\" >1.461768</td>\n",
       "      <td id=\"T_424fa_row24_col23\" class=\"data row24 col23\" >4.000000</td>\n",
       "      <td id=\"T_424fa_row24_col24\" class=\"data row24 col24\" >1997</td>\n",
       "    </tr>\n",
       "    <tr>\n",
       "      <th id=\"T_424fa_level0_row25\" class=\"row_heading level0 row25\" >4689386</th>\n",
       "      <td id=\"T_424fa_row25_col0\" class=\"data row25 col0\" >22e08d5e101ab5b86dc394856d508e175a5242a6</td>\n",
       "      <td id=\"T_424fa_row25_col1\" class=\"data row25 col1\" >4</td>\n",
       "      <td id=\"T_424fa_row25_col2\" class=\"data row25 col2\" >The Crucifixion Is Now</td>\n",
       "      <td id=\"T_424fa_row25_col3\" class=\"data row25 col3\" >The Dwarves Are Young & Goodlooking</td>\n",
       "      <td id=\"T_424fa_row25_col4\" class=\"data row25 col4\" >Dwarves</td>\n",
       "      <td id=\"T_424fa_row25_col5\" class=\"data row25 col5\" >71.470570</td>\n",
       "      <td id=\"T_424fa_row25_col6\" class=\"data row25 col6\" >0.670812</td>\n",
       "      <td id=\"T_424fa_row25_col7\" class=\"data row25 col7\" >0.427210</td>\n",
       "      <td id=\"T_424fa_row25_col8\" class=\"data row25 col8\" >1997</td>\n",
       "      <td id=\"T_424fa_row25_col9\" class=\"data row25 col9\" >-1</td>\n",
       "      <td id=\"T_424fa_row25_col10\" class=\"data row25 col10\" >0</td>\n",
       "      <td id=\"T_424fa_row25_col11\" class=\"data row25 col11\" >True</td>\n",
       "      <td id=\"T_424fa_row25_col12\" class=\"data row25 col12\" >-1.108155</td>\n",
       "      <td id=\"T_424fa_row25_col13\" class=\"data row25 col13\" >1.407717</td>\n",
       "      <td id=\"T_424fa_row25_col14\" class=\"data row25 col14\" >7</td>\n",
       "      <td id=\"T_424fa_row25_col15\" class=\"data row25 col15\" >0.760099</td>\n",
       "      <td id=\"T_424fa_row25_col16\" class=\"data row25 col16\" >1</td>\n",
       "      <td id=\"T_424fa_row25_col17\" class=\"data row25 col17\" >-0.058742</td>\n",
       "      <td id=\"T_424fa_row25_col18\" class=\"data row25 col18\" >-0.795133</td>\n",
       "      <td id=\"T_424fa_row25_col19\" class=\"data row25 col19\" >-0.455820</td>\n",
       "      <td id=\"T_424fa_row25_col20\" class=\"data row25 col20\" >-0.512181</td>\n",
       "      <td id=\"T_424fa_row25_col21\" class=\"data row25 col21\" >0.112000</td>\n",
       "      <td id=\"T_424fa_row25_col22\" class=\"data row25 col22\" >0.034774</td>\n",
       "      <td id=\"T_424fa_row25_col23\" class=\"data row25 col23\" >4.000000</td>\n",
       "      <td id=\"T_424fa_row25_col24\" class=\"data row25 col24\" >1997</td>\n",
       "    </tr>\n",
       "    <tr>\n",
       "      <th id=\"T_424fa_level0_row26\" class=\"row_heading level0 row26\" >4689425</th>\n",
       "      <td id=\"T_424fa_row26_col0\" class=\"data row26 col0\" >22e08d5e101ab5b86dc394856d508e175a5242a6</td>\n",
       "      <td id=\"T_424fa_row26_col1\" class=\"data row26 col1\" >3</td>\n",
       "      <td id=\"T_424fa_row26_col2\" class=\"data row26 col2\" >You Gotta Burn</td>\n",
       "      <td id=\"T_424fa_row26_col3\" class=\"data row26 col3\" >The Dwarves Are Young & Goodlooking</td>\n",
       "      <td id=\"T_424fa_row26_col4\" class=\"data row26 col4\" >Dwarves</td>\n",
       "      <td id=\"T_424fa_row26_col5\" class=\"data row26 col5\" >224.992200</td>\n",
       "      <td id=\"T_424fa_row26_col6\" class=\"data row26 col6\" >0.670812</td>\n",
       "      <td id=\"T_424fa_row26_col7\" class=\"data row26 col7\" >0.427210</td>\n",
       "      <td id=\"T_424fa_row26_col8\" class=\"data row26 col8\" >1997</td>\n",
       "      <td id=\"T_424fa_row26_col9\" class=\"data row26 col9\" >-1</td>\n",
       "      <td id=\"T_424fa_row26_col10\" class=\"data row26 col10\" >0</td>\n",
       "      <td id=\"T_424fa_row26_col11\" class=\"data row26 col11\" >True</td>\n",
       "      <td id=\"T_424fa_row26_col12\" class=\"data row26 col12\" >-1.005069</td>\n",
       "      <td id=\"T_424fa_row26_col13\" class=\"data row26 col13\" >1.046485</td>\n",
       "      <td id=\"T_424fa_row26_col14\" class=\"data row26 col14\" >4</td>\n",
       "      <td id=\"T_424fa_row26_col15\" class=\"data row26 col15\" >0.349506</td>\n",
       "      <td id=\"T_424fa_row26_col16\" class=\"data row26 col16\" >0</td>\n",
       "      <td id=\"T_424fa_row26_col17\" class=\"data row26 col17\" >-0.048330</td>\n",
       "      <td id=\"T_424fa_row26_col18\" class=\"data row26 col18\" >-0.829327</td>\n",
       "      <td id=\"T_424fa_row26_col19\" class=\"data row26 col19\" >-0.455816</td>\n",
       "      <td id=\"T_424fa_row26_col20\" class=\"data row26 col20\" >-0.587886</td>\n",
       "      <td id=\"T_424fa_row26_col21\" class=\"data row26 col21\" >0.454000</td>\n",
       "      <td id=\"T_424fa_row26_col22\" class=\"data row26 col22\" >0.233632</td>\n",
       "      <td id=\"T_424fa_row26_col23\" class=\"data row26 col23\" >3.000000</td>\n",
       "      <td id=\"T_424fa_row26_col24\" class=\"data row26 col24\" >1997</td>\n",
       "    </tr>\n",
       "    <tr>\n",
       "      <th id=\"T_424fa_level0_row27\" class=\"row_heading level0 row27\" >4695923</th>\n",
       "      <td id=\"T_424fa_row27_col0\" class=\"data row27 col0\" >22e08d5e101ab5b86dc394856d508e175a5242a6</td>\n",
       "      <td id=\"T_424fa_row27_col1\" class=\"data row27 col1\" >18</td>\n",
       "      <td id=\"T_424fa_row27_col2\" class=\"data row27 col2\" >To Know Him Is To Love Him</td>\n",
       "      <td id=\"T_424fa_row27_col3\" class=\"data row27 col3\" >Backline Volume 47</td>\n",
       "      <td id=\"T_424fa_row27_col4\" class=\"data row27 col4\" >The Teddy Bears</td>\n",
       "      <td id=\"T_424fa_row27_col5\" class=\"data row27 col5\" >142.523630</td>\n",
       "      <td id=\"T_424fa_row27_col6\" class=\"data row27 col6\" >0.567269</td>\n",
       "      <td id=\"T_424fa_row27_col7\" class=\"data row27 col7\" >0.396356</td>\n",
       "      <td id=\"T_424fa_row27_col8\" class=\"data row27 col8\" >1958</td>\n",
       "      <td id=\"T_424fa_row27_col9\" class=\"data row27 col9\" >-1</td>\n",
       "      <td id=\"T_424fa_row27_col10\" class=\"data row27 col10\" >0</td>\n",
       "      <td id=\"T_424fa_row27_col11\" class=\"data row27 col11\" >False</td>\n",
       "      <td id=\"T_424fa_row27_col12\" class=\"data row27 col12\" >-1.520498</td>\n",
       "      <td id=\"T_424fa_row27_col13\" class=\"data row27 col13\" >-1.333395</td>\n",
       "      <td id=\"T_424fa_row27_col14\" class=\"data row27 col14\" >2</td>\n",
       "      <td id=\"T_424fa_row27_col15\" class=\"data row27 col15\" >-0.495373</td>\n",
       "      <td id=\"T_424fa_row27_col16\" class=\"data row27 col16\" >1</td>\n",
       "      <td id=\"T_424fa_row27_col17\" class=\"data row27 col17\" >-0.501259</td>\n",
       "      <td id=\"T_424fa_row27_col18\" class=\"data row27 col18\" >2.108569</td>\n",
       "      <td id=\"T_424fa_row27_col19\" class=\"data row27 col19\" >-0.455810</td>\n",
       "      <td id=\"T_424fa_row27_col20\" class=\"data row27 col20\" >-0.490551</td>\n",
       "      <td id=\"T_424fa_row27_col21\" class=\"data row27 col21\" >0.390000</td>\n",
       "      <td id=\"T_424fa_row27_col22\" class=\"data row27 col22\" >1.819245</td>\n",
       "      <td id=\"T_424fa_row27_col23\" class=\"data row27 col23\" >3.000000</td>\n",
       "      <td id=\"T_424fa_row27_col24\" class=\"data row27 col24\" >2015-09-04</td>\n",
       "    </tr>\n",
       "    <tr>\n",
       "      <th id=\"T_424fa_level0_row28\" class=\"row_heading level0 row28\" >4912749</th>\n",
       "      <td id=\"T_424fa_row28_col0\" class=\"data row28 col0\" >22e08d5e101ab5b86dc394856d508e175a5242a6</td>\n",
       "      <td id=\"T_424fa_row28_col1\" class=\"data row28 col1\" >6</td>\n",
       "      <td id=\"T_424fa_row28_col2\" class=\"data row28 col2\" >Demonica</td>\n",
       "      <td id=\"T_424fa_row28_col3\" class=\"data row28 col3\" >The Dwarves Are Young & Goodlooking</td>\n",
       "      <td id=\"T_424fa_row28_col4\" class=\"data row28 col4\" >Dwarves</td>\n",
       "      <td id=\"T_424fa_row28_col5\" class=\"data row28 col5\" >117.002000</td>\n",
       "      <td id=\"T_424fa_row28_col6\" class=\"data row28 col6\" >0.670812</td>\n",
       "      <td id=\"T_424fa_row28_col7\" class=\"data row28 col7\" >0.427210</td>\n",
       "      <td id=\"T_424fa_row28_col8\" class=\"data row28 col8\" >1997</td>\n",
       "      <td id=\"T_424fa_row28_col9\" class=\"data row28 col9\" >-1</td>\n",
       "      <td id=\"T_424fa_row28_col10\" class=\"data row28 col10\" >0</td>\n",
       "      <td id=\"T_424fa_row28_col11\" class=\"data row28 col11\" >True</td>\n",
       "      <td id=\"T_424fa_row28_col12\" class=\"data row28 col12\" >-1.180921</td>\n",
       "      <td id=\"T_424fa_row28_col13\" class=\"data row28 col13\" >1.403467</td>\n",
       "      <td id=\"T_424fa_row28_col14\" class=\"data row28 col14\" >4</td>\n",
       "      <td id=\"T_424fa_row28_col15\" class=\"data row28 col15\" >0.716619</td>\n",
       "      <td id=\"T_424fa_row28_col16\" class=\"data row28 col16\" >0</td>\n",
       "      <td id=\"T_424fa_row28_col17\" class=\"data row28 col17\" >0.379870</td>\n",
       "      <td id=\"T_424fa_row28_col18\" class=\"data row28 col18\" >-0.826689</td>\n",
       "      <td id=\"T_424fa_row28_col19\" class=\"data row28 col19\" >-0.455769</td>\n",
       "      <td id=\"T_424fa_row28_col20\" class=\"data row28 col20\" >0.125903</td>\n",
       "      <td id=\"T_424fa_row28_col21\" class=\"data row28 col21\" >0.251000</td>\n",
       "      <td id=\"T_424fa_row28_col22\" class=\"data row28 col22\" >0.659407</td>\n",
       "      <td id=\"T_424fa_row28_col23\" class=\"data row28 col23\" >4.000000</td>\n",
       "      <td id=\"T_424fa_row28_col24\" class=\"data row28 col24\" >1997</td>\n",
       "    </tr>\n",
       "  </tbody>\n",
       "</table>\n"
      ],
      "text/plain": [
       "<pandas.io.formats.style.Styler at 0x14f24e0b610>"
      ]
     },
     "execution_count": 207,
     "metadata": {},
     "output_type": "execute_result"
    }
   ],
   "source": [
    "df_user_temp = df_origin[df_origin[\"user\"] == user_name]\n",
    "import dataframe_image as dfi \n",
    "'''\n",
    "def highlight_interest(val):\n",
    "    \n",
    "    is_present = [i for i in song_user if i in song_reco]\n",
    "    color = 'red' if val in is_present else 'black'\n",
    "    \n",
    "    return 'color: %s' % color\n",
    "    #return ['background-color: blue' if i in is_present else 'background-color: white'] \n",
    "\n",
    "df_user_temp.style.apply(highlight_interest)\n",
    "'''\n",
    "def red_or_auto(x):\n",
    "    # set font color to red for keys whose corresponding v is positive\n",
    "    # all other values have default font color\n",
    "    #return pd.DataFrame('', index=x.index, columns=x.columns).assign(song_name=np.where(x['song_name'] + ' - ' + x['artist_name'].isin(song_reco), \"color:red\", ''))\n",
    "    return pd.DataFrame('', index=x.index, columns=x.columns).assign(song_name=np.where((x['song_name'].isin(song_list)) & (x['artist_name'].isin(artist_list)) , \"color:red\", ''),\n",
    "                                                                     artist_name = (np.where((x['artist_name'].isin(artist_list)) & (x['song_name'].isin(song_list)), \"color:red\", '')))\n",
    "\n",
    "df_styled = df_user_temp.style.apply(red_or_auto, axis=None, subset=['song_name', 'artist_name'])\n",
    "df_styled\n",
    "\n",
    "\n",
    "#dfi.export(df_styled, 'df_classic.png')\n",
    "#dfi.export(df_styled, 'df_espagnol.png')"
   ]
  },
  {
   "cell_type": "code",
   "execution_count": null,
   "metadata": {},
   "outputs": [],
   "source": []
  }
 ],
 "metadata": {
  "kernelspec": {
   "display_name": "env",
   "language": "python",
   "name": "python3"
  },
  "language_info": {
   "codemirror_mode": {
    "name": "ipython",
    "version": 3
   },
   "file_extension": ".py",
   "mimetype": "text/x-python",
   "name": "python",
   "nbconvert_exporter": "python",
   "pygments_lexer": "ipython3",
   "version": "3.9.13"
  },
  "orig_nbformat": 4
 },
 "nbformat": 4,
 "nbformat_minor": 2
}
