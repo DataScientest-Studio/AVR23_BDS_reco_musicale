{
 "cells": [
  {
   "cell_type": "code",
   "execution_count": 1,
   "metadata": {},
   "outputs": [],
   "source": [
    "import os\n",
    "from pathlib import Path\n",
    "\n",
    "\n",
    "import pandas as pd\n",
    "import matplotlib.pyplot as plt\n",
    "import seaborn as sns\n",
    "import numpy as np\n",
    "\n",
    "from sklearn.preprocessing import StandardScaler\n",
    "from sklearn.cluster import KMeans, AgglomerativeClustering\n",
    "from sklearn.metrics import silhouette_score\n",
    "from sklearn.decomposition import PCA\n",
    "\n",
    "\n",
    "from scipy.cluster.hierarchy import linkage, dendrogram, fcluster\n",
    "from scipy.spatial.distance import cdist"
   ]
  },
  {
   "cell_type": "code",
   "execution_count": 2,
   "metadata": {},
   "outputs": [],
   "source": [
    "CUR_DIR = os.path.abspath('')\n",
    "\n",
    "DATA_DIR = Path(CUR_DIR).parent / \"data\"\n",
    "FILE_PATH = DATA_DIR/'triplets_metadata_spotify.csv'\n",
    "df_origin = pd.read_csv(FILE_PATH, index_col = 0)"
   ]
  },
  {
   "cell_type": "code",
   "execution_count": 3,
   "metadata": {},
   "outputs": [],
   "source": [
    "df_unique_values = df_origin.drop_duplicates(subset = ['song_name', 'artist_name'], keep='first').reset_index().drop('index', axis=1)\n",
    "tracks_quanti_feats = df_unique_values.drop(['user', 'listening_count', 'song_name', 'release', 'artist_name',\n",
    "        'artist_familiarity', 'artist_hotttnesss', 'year', 'key', 'duration',\n",
    "       'shs_perf', 'shs_work', 'explicit', 'mode', 'time_signature', 'release_date'], axis = 1)"
   ]
  },
  {
   "cell_type": "code",
   "execution_count": 4,
   "metadata": {},
   "outputs": [],
   "source": [
    "scaler = StandardScaler()\n",
    "scaler.fit(tracks_quanti_feats)\n",
    "tracks_quanti_feats[tracks_quanti_feats.columns] = pd.DataFrame(scaler.fit_transform(tracks_quanti_feats), index=tracks_quanti_feats.index)"
   ]
  },
  {
   "cell_type": "code",
   "execution_count": 6,
   "metadata": {},
   "outputs": [],
   "source": [
    "tracks_quanti_feats_names = pd.DataFrame(tracks_quanti_feats)\n",
    "tracks_quanti_feats_names['song_name'] = df_unique_values['song_name']\n",
    "tracks_quanti_feats_names['artist_name'] = df_unique_values['artist_name']\n"
   ]
  },
  {
   "cell_type": "code",
   "execution_count": 7,
   "metadata": {},
   "outputs": [],
   "source": [
    "scaler = StandardScaler()\n",
    "sel_columns = ['danceability', 'energy', 'loudness', 'speechiness', 'acousticness', 'instrumentalness', 'liveness', 'valence', 'tempo']\n",
    "df_origin[sel_columns] = pd.DataFrame(scaler.fit_transform(df_origin[sel_columns]), index=df_origin.index)"
   ]
  },
  {
   "cell_type": "code",
   "execution_count": 8,
   "metadata": {},
   "outputs": [],
   "source": [
    "def get_opt_clusters(df:pd.DataFrame, drop : list[str], user_id: str):\n",
    "    \n",
    "    # definition of df_user\n",
    "    df_user = df[df['user']==user_id].drop(drop, axis=1).reset_index().drop(['index'], axis=1)\n",
    "\n",
    "    # weights to apply to the kmeans\n",
    "    user_listenings = df_user['listening_count']\n",
    "\n",
    "    # eliminate weights from acoustic characteristics\n",
    "    df_user = df_user.drop('listening_count', axis=1) \n",
    "    \n",
    "\n",
    "    # broad exploration of number of clusters\n",
    "    dist = []\n",
    "    s_scores = []\n",
    "    range = np.arange(2,17)\n",
    "    for i in range:\n",
    "        clf = KMeans(n_clusters = i, n_init = 'auto', random_state=123)\n",
    "        clf.fit(df_user, sample_weight=user_listenings)\n",
    "        centroids = clf.cluster_centers_\n",
    "        labels = clf.labels_\n",
    "        score = silhouette_score(df_user, labels, metric='euclidean')\n",
    "        s_scores.append(score)\n",
    "        dist.append(sum(np.min(cdist(XA = centroids, XB = df_user, metric='euclidean'), axis = 0)) / len(df_user))\n",
    "    \n",
    "    # optimal number of clusters selection by silhouette score\n",
    "    n_clusters = s_scores.index(max(s_scores))+2\n",
    "\n",
    "    return range, s_scores, dist, n_clusters"
   ]
  },
  {
   "cell_type": "code",
   "execution_count": 9,
   "metadata": {},
   "outputs": [],
   "source": [
    "def get_user_profiles(df: pd.DataFrame, drop : list[str],  user_id: str, n_clusters:int):\n",
    "    \"\"\"\n",
    "    Takes a user_id string and 1 dataframe containg all original informations and whose acoustic characteristics are Standard scaled.\n",
    "    Returns the acoustic characteristics of the user standard profile weighted by number of listenings (1 acoustic profile)   \n",
    "    and the cluster centers centroids profiles based on Kmeans fit on optimal number of cluster found per user (n_clusters profiles)\n",
    "\n",
    "    Parameters:\n",
    "        df : whole dataframe with all acoustic characteristics Standard scaled\n",
    "        user_id : str corresponding to the user id\n",
    "   \n",
    "    Return :\n",
    "        \n",
    "        standard_profile: list[list[float]] of size 1\n",
    "        cluster_profile: list[list[float]] of size n_clusters\n",
    "    \"\"\"\n",
    "    \n",
    "    \n",
    "    total_listening = df[df[\"user\"] == user_id][\"listening_count\"].sum() \n",
    "\n",
    "    ## Standard profile: one profile where acoustic characteristics are weighted by listening_count\n",
    "    duration = 0\n",
    "    dance = 0\n",
    "    energy = 0\n",
    "    loudness = 0\n",
    "    speech = 0\n",
    "    acoustic = 0\n",
    "    instru = 0\n",
    "    live = 0\n",
    "    valence = 0\n",
    "    tempo = 0\n",
    "\n",
    "\n",
    "    # cumulative sum of user's  songs acoustic characteristics weighted by listening_count\n",
    "    for index, row, in df[df[\"user\"] == user_id].iterrows():\n",
    "        #duration += row['duration'] * row[\"listening_count\"]\n",
    "        dance += row['danceability'] * row[\"listening_count\"]\n",
    "        energy += row['energy'] * row[\"listening_count\"]\n",
    "        loudness += row['loudness'] * row[\"listening_count\"]\n",
    "        speech += row['speechiness'] * row[\"listening_count\"]\n",
    "        acoustic += row['acousticness'] * row[\"listening_count\"]\n",
    "        instru += row['instrumentalness'] * row[\"listening_count\"]\n",
    "        live += row['liveness'] * row[\"listening_count\"]\n",
    "        valence += row['valence'] * row[\"listening_count\"]\n",
    "        tempo += row['tempo'] * row[\"listening_count\"]\n",
    "\n",
    "    # duration / total_listening, \n",
    "\n",
    "    # weighted average from cumulative sum of acoustic characteristics / total_listening to list of lists\n",
    "    standard_profile = [[dance / total_listening, energy / total_listening,\n",
    "                        loudness / total_listening, speech / total_listening, acoustic / total_listening,\n",
    "                        instru / total_listening, live / total_listening, valence / total_listening,\n",
    "                        tempo / total_listening]]\n",
    "\n",
    "    \n",
    "\n",
    "    ## Cluster profile\n",
    "    \n",
    "    # definition of df_user\n",
    "    df_user = df[df['user']==user_id].drop(drop, axis=1).reset_index().drop(['index'], axis=1)\n",
    "\n",
    "    # weights to apply to the kmeans\n",
    "    user_listenings = df_user['listening_count']\n",
    "\n",
    "    # eliminate weights from acoustic characteristics\n",
    "    df_user = df_user.drop('listening_count', axis=1) \n",
    "\n",
    "    # training of kmeans with optimal number of clusters\n",
    "    clf = KMeans(n_clusters = n_clusters, n_init = 'auto', random_state=123)\n",
    "    clf.fit(df_user, sample_weight=user_listenings)\n",
    "    centroids = clf.cluster_centers_\n",
    "    labels = clf.labels_\n",
    "\n",
    "    # distinct profiles as cluster centers centroids to list\n",
    "    cluster_profile = centroids.tolist()\n",
    "\n",
    "    \n",
    "    return standard_profile, cluster_profile"
   ]
  },
  {
   "attachments": {},
   "cell_type": "markdown",
   "metadata": {},
   "source": [
    "Proximity measure - Numerical resolution"
   ]
  },
  {
   "cell_type": "code",
   "execution_count": 10,
   "metadata": {},
   "outputs": [],
   "source": [
    "# var\n",
    "acoustic_variables = [\"Danceability\", \"Energy\", \"Loudness\", \"Speechiness\", \"Acousticness\", \"instrumentalness\", \"Liveness\", \"Valence\", \"Tempo\"]\n",
    "n_neighbors = 5\n",
    "user_name = \"ec6dfcf19485cb011e0b22637075037aae34cf26\"\n",
    "to_drop = ['user', 'song_name', 'release', 'artist_name', 'duration', 'artist_familiarity', 'artist_hotttnesss', \n",
    "           'year', 'shs_perf', 'shs_work', 'key', 'mode', 'explicit', 'time_signature', 'release_date']\n",
    "\n",
    "# func\n",
    "range_n_clusters, silhouette_scores, distorsions, n_opt_cluster = get_opt_clusters(df=df_origin, drop=to_drop, user_id=user_name)\n",
    "\n",
    "standard_profile, clusters_profiles = get_user_profiles(df=df_origin, drop=to_drop, user_id=user_name, n_clusters=n_opt_cluster)"
   ]
  },
  {
   "cell_type": "code",
   "execution_count": 11,
   "metadata": {},
   "outputs": [
    {
     "name": "stderr",
     "output_type": "stream",
     "text": [
      "C:\\Users\\benoit\\AppData\\Local\\Temp\\ipykernel_26988\\2605426301.py:3: MatplotlibDeprecationWarning: Auto-removal of overlapping axes is deprecated since 3.6 and will be removed two minor releases later; explicitly call ax.remove() as needed.\n",
      "  ax1 = plt.subplot(121)\n"
     ]
    },
    {
     "data": {
      "image/png": "[encoded data removed]",
      "text/plain": [
       "<Figure size 1200x600 with 2 Axes>"
      ]
     },
     "metadata": {},
     "output_type": "display_data"
    }
   ],
   "source": [
    "fig  = plt.subplots(figsize=(12, 6))\n",
    "\n",
    "ax1 = plt.subplot(121)\n",
    "ax1.plot(range_n_clusters, distorsions)\n",
    "ax1.set_xlabel('K Number of clusters')\n",
    "ax1.set_ylabel('Distorsion SSW/(SSW+SSB)')\n",
    "ax1.set_title('Elbow method');\n",
    "\n",
    "ax2 = plt.subplot(122)\n",
    "ax2.plot(range_n_clusters, silhouette_scores, '-x')\n",
    "ax2.set_xlabel(\"Number of clusters\")\n",
    "ax2.set_ylabel(\"Silhouette score for squared euclidean distance\")\n",
    "ax2.set_title('Silhouette score per numlber of cluster');"
   ]
  },
  {
   "cell_type": "code",
   "execution_count": 17,
   "metadata": {},
   "outputs": [],
   "source": [
    "from scipy.spatial import distance_matrix\n",
    "\n",
    "def get_profile_neighbors(df_features, df_features_names: pd.DataFrame, profiles: list[list[float]], n_target : int = n_neighbors):\n",
    "    \n",
    "    user_profile = pd.DataFrame(columns=[\"danceability\", \"energy\",\n",
    "                                   \"loudness\", \"speechiness\", \"acousticness\",\n",
    "                                   \"instrumentalness\", \"liveness\", \"valence\",\n",
    "                                   \"tempo\"])\n",
    "    \n",
    "\n",
    "    # append profile to the dataframe user_profile\n",
    "    for i in range(len(profiles)):\n",
    "        user_profile.loc[len(user_profile)] = profiles[i]\n",
    "\n",
    "\n",
    "    # compute the distance matrix between all user_profiles and all songs features\n",
    "    dist_mat = pd.DataFrame(distance_matrix(user_profile, df_features).T)\n",
    "    #dist_mat = dist_mat.rename(columns={0 : 'distance'})\n",
    "    \n",
    "\n",
    "    # create similarity and disimilarity lists\n",
    "    sim = []\n",
    "    dis = []\n",
    "    sim_id = []\n",
    "    dis_id =[]\n",
    "\n",
    "    # broadcast distance of matrix[i] to df_features_names containing song and artist names and sort values by distance[i]\n",
    "    for i in range(len(profiles)):\n",
    "        df_feats_names = df_features_names\n",
    "        df_feats_names[i] = dist_mat[i]\n",
    "        df_feats_names = df_feats_names.sort_values(by=i, ascending=True).reset_index().drop(['index'], axis=1)\n",
    "        \n",
    "        # for each profile create temporary sim and disim lists\n",
    "        s = []\n",
    "        d = []\n",
    "        s_id = []\n",
    "        d_id = []\n",
    "\n",
    "        ## append each profile list the profile closest and furthest n_neighbors tracks and corresponding song-artist names \n",
    "        for j in range (n_target):\n",
    "            s.append(df_feats_names.iloc[j, :9].values.flatten().tolist())\n",
    "            s_id.append(' - '.join((df_feats_names.iloc[j, 9:11])))\n",
    "            \n",
    "            d.append(df_feats_names.iloc[len(df_feats_names)-1-j, :9].values.flatten().tolist())\n",
    "            d_id.append(' - '.join((df_feats_names.iloc[len(df_feats_names)-1-j, 9:11])))\n",
    "        \n",
    "        \n",
    "        sim.append(s)\n",
    "        sim_id.append(s_id)\n",
    "        dis.append(d)\n",
    "        dis_id.append(d_id)\n",
    "\n",
    "    return sim, dis, sim_id, dis_id"
   ]
  },
  {
   "cell_type": "code",
   "execution_count": 18,
   "metadata": {},
   "outputs": [],
   "source": [
    "similar, disimilar, sim_names, dis_names = get_profile_neighbors(tracks_quanti_feats, tracks_quanti_feats_names, standard_profile)\n",
    "#similar, disimilar, sim_names, dis_names = get_profile_neighbors(tracks_quanti_feats, tracks_quanti_feats_names, clusters_profiles)"
   ]
  },
  {
   "cell_type": "code",
   "execution_count": null,
   "metadata": {},
   "outputs": [],
   "source": []
  },
  {
   "cell_type": "code",
   "execution_count": 19,
   "metadata": {},
   "outputs": [
    {
     "data": {
      "application/vnd.plotly.v1+json": {
       "config": {
        "plotlyServerURL": "https://plot.ly"
       },
       "data": [
        {
         "fill": "toself",
         "line": {
          "color": "#636EFA"
         },
         "mode": "lines+markers",
         "name": "Standard profile weighted by listening counts",
         "r": [
          -0.5077818540514715,
          0.1923036175923275,
          0.057211665976447286,
          -0.04192201932933912,
          -0.16683479437420254,
          0.2937016431284865,
          -0.03890225541196409,
          -0.11355402680383729,
          0.16622163518276364
         ],
         "subplot": "polar",
         "theta": [
          "Danceability",
          "Energy",
          "Loudness",
          "Speechiness",
          "Acousticness",
          "instrumentalness",
          "Liveness",
          "Valence",
          "Tempo"
         ],
         "type": "scatterpolar"
        },
        {
         "fill": "toself",
         "name": "Closest track rank 1",
         "r": [
          -0.4956370970175126,
          0.18567854590797084,
          0.5389801954897441,
          -0.43060701999538786,
          -0.5590126008119082,
          0.3513191668082711,
          -0.46936499712139584,
          0.12432361204298968,
          0.5638382425087863
         ],
         "subplot": "polar",
         "theta": [
          "Danceability",
          "Energy",
          "Loudness",
          "Speechiness",
          "Acousticness",
          "instrumentalness",
          "Liveness",
          "Valence",
          "Tempo"
         ],
         "type": "scatterpolar"
        },
        {
         "fill": "toself",
         "line": {
          "color": "#636EFA"
         },
         "mode": "lines+markers",
         "name": "Standard profile weighted by listening counts",
         "r": [
          -0.5077818540514715,
          0.1923036175923275,
          0.057211665976447286,
          -0.04192201932933912,
          -0.16683479437420254,
          0.2937016431284865,
          -0.03890225541196409,
          -0.11355402680383729,
          0.16622163518276364
         ],
         "showlegend": false,
         "subplot": "polar2",
         "theta": [
          "Danceability",
          "Energy",
          "Loudness",
          "Speechiness",
          "Acousticness",
          "instrumentalness",
          "Liveness",
          "Valence",
          "Tempo"
         ],
         "type": "scatterpolar"
        },
        {
         "fill": "toself",
         "line": {
          "color": "orange"
         },
         "name": "Furthest track rank 1",
         "r": [
          1.6397255477255994,
          -1.8998935543184103,
          -4.23880774133607,
          8.442136407345517,
          1.8013279038255745,
          -0.6235690916720154,
          1.7305813247342028,
          0.48604970308324014,
          -2.330469562374479
         ],
         "subplot": "polar2",
         "theta": [
          "Danceability",
          "Energy",
          "Loudness",
          "Speechiness",
          "Acousticness",
          "instrumentalness",
          "Liveness",
          "Valence",
          "Tempo"
         ],
         "type": "scatterpolar"
        },
        {
         "fill": "toself",
         "line": {
          "color": "#636EFA"
         },
         "mode": "lines+markers",
         "name": "Standard profile weighted by listening counts",
         "r": [
          -0.5077818540514715,
          0.1923036175923275,
          0.057211665976447286,
          -0.04192201932933912,
          -0.16683479437420254,
          0.2937016431284865,
          -0.03890225541196409,
          -0.11355402680383729,
          0.16622163518276364
         ],
         "showlegend": false,
         "subplot": "polar3",
         "theta": [
          "Danceability",
          "Energy",
          "Loudness",
          "Speechiness",
          "Acousticness",
          "instrumentalness",
          "Liveness",
          "Valence",
          "Tempo"
         ],
         "type": "scatterpolar"
        },
        {
         "fill": "toself",
         "name": "Closest track rank 2",
         "r": [
          -0.33911836913058274,
          0.13079506958622433,
          -0.06848398585060213,
          -0.3521850384279555,
          0.40980002869539334,
          0.20813245384397905,
          -0.49599872983151205,
          0.41678300479893676,
          0.007723652226249344
         ],
         "subplot": "polar3",
         "theta": [
          "Danceability",
          "Energy",
          "Loudness",
          "Speechiness",
          "Acousticness",
          "instrumentalness",
          "Liveness",
          "Valence",
          "Tempo"
         ],
         "type": "scatterpolar"
        },
        {
         "fill": "toself",
         "line": {
          "color": "#636EFA"
         },
         "mode": "lines+markers",
         "name": "Standard profile weighted by listening counts",
         "r": [
          -0.5077818540514715,
          0.1923036175923275,
          0.057211665976447286,
          -0.04192201932933912,
          -0.16683479437420254,
          0.2937016431284865,
          -0.03890225541196409,
          -0.11355402680383729,
          0.16622163518276364
         ],
         "showlegend": false,
         "subplot": "polar4",
         "theta": [
          "Danceability",
          "Energy",
          "Loudness",
          "Speechiness",
          "Acousticness",
          "instrumentalness",
          "Liveness",
          "Valence",
          "Tempo"
         ],
         "type": "scatterpolar"
        },
        {
         "fill": "toself",
         "line": {
          "color": "#8c564b"
         },
         "name": "Furthest track rank 2",
         "r": [
          1.0527803181496134,
          -1.8606910712314484,
          -2.8141140518642684,
          8.502461008551235,
          1.7796819146568825,
          -0.6235690916720154,
          3.6908240521987556,
          -1.0185769096480148,
          -2.3667530739111062
         ],
         "subplot": "polar4",
         "theta": [
          "Danceability",
          "Energy",
          "Loudness",
          "Speechiness",
          "Acousticness",
          "instrumentalness",
          "Liveness",
          "Valence",
          "Tempo"
         ],
         "type": "scatterpolar"
        },
        {
         "fill": "toself",
         "line": {
          "color": "#636EFA"
         },
         "mode": "lines+markers",
         "name": "Standard profile weighted by listening counts",
         "r": [
          -0.5077818540514715,
          0.1923036175923275,
          0.057211665976447286,
          -0.04192201932933912,
          -0.16683479437420254,
          0.2937016431284865,
          -0.03890225541196409,
          -0.11355402680383729,
          0.16622163518276364
         ],
         "showlegend": false,
         "subplot": "polar5",
         "theta": [
          "Danceability",
          "Energy",
          "Loudness",
          "Speechiness",
          "Acousticness",
          "instrumentalness",
          "Liveness",
          "Valence",
          "Tempo"
         ],
         "type": "scatterpolar"
        },
        {
         "fill": "toself",
         "name": "Closest track rank 3",
         "r": [
          -0.3726580965349249,
          0.13079506958622433,
          0.23198458846928002,
          -0.45574227049777,
          -0.24885649886622596,
          -0.623412500245497,
          -0.13377996497393224,
          -0.19892097995042576,
          0.17176366729614778
         ],
         "subplot": "polar5",
         "theta": [
          "Danceability",
          "Energy",
          "Loudness",
          "Speechiness",
          "Acousticness",
          "instrumentalness",
          "Liveness",
          "Valence",
          "Tempo"
         ],
         "type": "scatterpolar"
        },
        {
         "fill": "toself",
         "line": {
          "color": "#636EFA"
         },
         "mode": "lines+markers",
         "name": "Standard profile weighted by listening counts",
         "r": [
          -0.5077818540514715,
          0.1923036175923275,
          0.057211665976447286,
          -0.04192201932933912,
          -0.16683479437420254,
          0.2937016431284865,
          -0.03890225541196409,
          -0.11355402680383729,
          0.16622163518276364
         ],
         "showlegend": false,
         "subplot": "polar6",
         "theta": [
          "Danceability",
          "Energy",
          "Loudness",
          "Speechiness",
          "Acousticness",
          "instrumentalness",
          "Liveness",
          "Valence",
          "Tempo"
         ],
         "type": "scatterpolar"
        },
        {
         "fill": "toself",
         "line": {
          "color": "#7f7f7f"
         },
         "name": "Furthest track rank 3",
         "r": [
          -0.037260822491504184,
          -2.2378189585280235,
          -6.096761360070624,
          7.607646090666429,
          2.197140277195937,
          -0.6235690916720154,
          -0.3202160939447451,
          -1.8497772890596542,
          -0.8655393974126123
         ],
         "subplot": "polar6",
         "theta": [
          "Danceability",
          "Energy",
          "Loudness",
          "Speechiness",
          "Acousticness",
          "instrumentalness",
          "Liveness",
          "Valence",
          "Tempo"
         ],
         "type": "scatterpolar"
        },
        {
         "fill": "toself",
         "line": {
          "color": "#636EFA"
         },
         "mode": "lines+markers",
         "name": "Standard profile weighted by listening counts",
         "r": [
          -0.5077818540514715,
          0.1923036175923275,
          0.057211665976447286,
          -0.04192201932933912,
          -0.16683479437420254,
          0.2937016431284865,
          -0.03890225541196409,
          -0.11355402680383729,
          0.16622163518276364
         ],
         "showlegend": false,
         "subplot": "polar7",
         "theta": [
          "Danceability",
          "Energy",
          "Loudness",
          "Speechiness",
          "Acousticness",
          "instrumentalness",
          "Liveness",
          "Valence",
          "Tempo"
         ],
         "type": "scatterpolar"
        },
        {
         "fill": "toself",
         "name": "Closest track rank 4",
         "r": [
          -0.8310343710609333,
          0.2993657468601613,
          0.17099059323280932,
          -0.46076932059824643,
          -0.686105480073798,
          -0.24275336570315348,
          -0.41609753170116337,
          -0.3489988262330828,
          -0.005467331363531517
         ],
         "subplot": "polar7",
         "theta": [
          "Danceability",
          "Energy",
          "Loudness",
          "Speechiness",
          "Acousticness",
          "instrumentalness",
          "Liveness",
          "Valence",
          "Tempo"
         ],
         "type": "scatterpolar"
        },
        {
         "fill": "toself",
         "line": {
          "color": "#636EFA"
         },
         "mode": "lines+markers",
         "name": "Standard profile weighted by listening counts",
         "r": [
          -0.5077818540514715,
          0.1923036175923275,
          0.057211665976447286,
          -0.04192201932933912,
          -0.16683479437420254,
          0.2937016431284865,
          -0.03890225541196409,
          -0.11355402680383729,
          0.16622163518276364
         ],
         "showlegend": false,
         "subplot": "polar8",
         "theta": [
          "Danceability",
          "Energy",
          "Loudness",
          "Speechiness",
          "Acousticness",
          "instrumentalness",
          "Liveness",
          "Valence",
          "Tempo"
         ],
         "type": "scatterpolar"
        },
        {
         "fill": "toself",
         "line": {
          "color": "#2ca02c"
         },
         "name": "Furthest track rank 4",
         "r": [
          0.8291821354539994,
          -1.833249333070575,
          -5.241044866015049,
          7.899214996494062,
          0.15932501117196085,
          -0.6235690916720154,
          1.9223442002470392,
          -1.4676560035245811,
          -1.4055058314618147
         ],
         "subplot": "polar8",
         "theta": [
          "Danceability",
          "Energy",
          "Loudness",
          "Speechiness",
          "Acousticness",
          "instrumentalness",
          "Liveness",
          "Valence",
          "Tempo"
         ],
         "type": "scatterpolar"
        },
        {
         "fill": "toself",
         "line": {
          "color": "#636EFA"
         },
         "mode": "lines+markers",
         "name": "Standard profile weighted by listening counts",
         "r": [
          -0.5077818540514715,
          0.1923036175923275,
          0.057211665976447286,
          -0.04192201932933912,
          -0.16683479437420254,
          0.2937016431284865,
          -0.03890225541196409,
          -0.11355402680383729,
          0.16622163518276364
         ],
         "showlegend": false,
         "subplot": "polar9",
         "theta": [
          "Danceability",
          "Energy",
          "Loudness",
          "Speechiness",
          "Acousticness",
          "instrumentalness",
          "Liveness",
          "Valence",
          "Tempo"
         ],
         "type": "scatterpolar"
        },
        {
         "fill": "toself",
         "name": "Closest track rank 5",
         "r": [
          -0.22172932321538572,
          0.5032186589123638,
          0.12170024283876135,
          -0.21243304563471063,
          -0.5117006530574821,
          0.7290883669693821,
          -0.41077078515914073,
          -0.5606470709906762,
          -0.31729952529324473
         ],
         "subplot": "polar9",
         "theta": [
          "Danceability",
          "Energy",
          "Loudness",
          "Speechiness",
          "Acousticness",
          "instrumentalness",
          "Liveness",
          "Valence",
          "Tempo"
         ],
         "type": "scatterpolar"
        },
        {
         "fill": "toself",
         "line": {
          "color": "#636EFA"
         },
         "mode": "lines+markers",
         "name": "Standard profile weighted by listening counts",
         "r": [
          -0.5077818540514715,
          0.1923036175923275,
          0.057211665976447286,
          -0.04192201932933912,
          -0.16683479437420254,
          0.2937016431284865,
          -0.03890225541196409,
          -0.11355402680383729,
          0.16622163518276364
         ],
         "showlegend": false,
         "subplot": "polar10",
         "theta": [
          "Danceability",
          "Energy",
          "Loudness",
          "Speechiness",
          "Acousticness",
          "instrumentalness",
          "Liveness",
          "Valence",
          "Tempo"
         ],
         "type": "scatterpolar"
        },
        {
         "fill": "toself",
         "line": {
          "color": "pink"
         },
         "name": "Furthest track rank 5",
         "r": [
          0.16397754193454842,
          -0.9276719737617518,
          -2.0171408521139287,
          8.542677409355047,
          1.7178362313177633,
          -0.6235690916720154,
          3.9997753516361034,
          -0.4259618243267532,
          -2.1845713030728944
         ],
         "subplot": "polar10",
         "theta": [
          "Danceability",
          "Energy",
          "Loudness",
          "Speechiness",
          "Acousticness",
          "instrumentalness",
          "Liveness",
          "Valence",
          "Tempo"
         ],
         "type": "scatterpolar"
        }
       ],
       "layout": {
        "annotations": [
         {
          "font": {
           "color": "black",
           "size": 20
          },
          "showarrow": false,
          "text": "Closest tracks",
          "x": 0.14,
          "y": 1.07
         },
         {
          "font": {
           "color": "black",
           "size": 20
          },
          "showarrow": false,
          "text": "Furthest tracks",
          "x": 0.86,
          "y": 1.07
         }
        ],
        "height": 1600,
        "margin": {
         "b": 50,
         "l": 50,
         "r": 50,
         "t": 200
        },
        "polar": {
         "domain": {
          "x": [
           0,
           0.5
          ],
          "y": [
           0.88,
           1
          ]
         },
         "radialaxis": {
          "showticklabels": false,
          "ticks": ""
         }
        },
        "polar10": {
         "domain": {
          "x": [
           0.5,
           1
          ],
          "y": [
           0,
           0.12
          ]
         },
         "radialaxis": {
          "showticklabels": false
         }
        },
        "polar2": {
         "domain": {
          "x": [
           0.5,
           1
          ],
          "y": [
           0.88,
           1
          ]
         },
         "radialaxis": {
          "showticklabels": false
         }
        },
        "polar3": {
         "domain": {
          "x": [
           0,
           0.5
          ],
          "y": [
           0.66,
           0.78
          ]
         },
         "radialaxis": {
          "showticklabels": false
         }
        },
        "polar4": {
         "domain": {
          "x": [
           0.5,
           1
          ],
          "y": [
           0.66,
           0.78
          ]
         },
         "radialaxis": {
          "showticklabels": false
         }
        },
        "polar5": {
         "domain": {
          "x": [
           0,
           0.5
          ],
          "y": [
           0.44,
           0.56
          ]
         },
         "radialaxis": {
          "showticklabels": false
         }
        },
        "polar6": {
         "domain": {
          "x": [
           0.5,
           1
          ],
          "y": [
           0.44,
           0.56
          ]
         },
         "radialaxis": {
          "showticklabels": false
         }
        },
        "polar7": {
         "domain": {
          "x": [
           0,
           0.5
          ],
          "y": [
           0.22,
           0.33999999999999997
          ]
         },
         "radialaxis": {
          "showticklabels": false
         }
        },
        "polar8": {
         "domain": {
          "x": [
           0.5,
           1
          ],
          "y": [
           0.22,
           0.33999999999999997
          ]
         },
         "radialaxis": {
          "showticklabels": false
         }
        },
        "polar9": {
         "domain": {
          "x": [
           0,
           0.5
          ],
          "y": [
           0,
           0.12
          ]
         },
         "radialaxis": {
          "showticklabels": false
         }
        },
        "showlegend": true,
        "template": {
         "data": {
          "bar": [
           {
            "error_x": {
             "color": "#2a3f5f"
            },
            "error_y": {
             "color": "#2a3f5f"
            },
            "marker": {
             "line": {
              "color": "#E5ECF6",
              "width": 0.5
             },
             "pattern": {
              "fillmode": "overlay",
              "size": 10,
              "solidity": 0.2
             }
            },
            "type": "bar"
           }
          ],
          "barpolar": [
           {
            "marker": {
             "line": {
              "color": "#E5ECF6",
              "width": 0.5
             },
             "pattern": {
              "fillmode": "overlay",
              "size": 10,
              "solidity": 0.2
             }
            },
            "type": "barpolar"
           }
          ],
          "carpet": [
           {
            "aaxis": {
             "endlinecolor": "#2a3f5f",
             "gridcolor": "white",
             "linecolor": "white",
             "minorgridcolor": "white",
             "startlinecolor": "#2a3f5f"
            },
            "baxis": {
             "endlinecolor": "#2a3f5f",
             "gridcolor": "white",
             "linecolor": "white",
             "minorgridcolor": "white",
             "startlinecolor": "#2a3f5f"
            },
            "type": "carpet"
           }
          ],
          "choropleth": [
           {
            "colorbar": {
             "outlinewidth": 0,
             "ticks": ""
            },
            "type": "choropleth"
           }
          ],
          "contour": [
           {
            "colorbar": {
             "outlinewidth": 0,
             "ticks": ""
            },
            "colorscale": [
             [
              0,
              "#0d0887"
             ],
             [
              0.1111111111111111,
              "#46039f"
             ],
             [
              0.2222222222222222,
              "#7201a8"
             ],
             [
              0.3333333333333333,
              "#9c179e"
             ],
             [
              0.4444444444444444,
              "#bd3786"
             ],
             [
              0.5555555555555556,
              "#d8576b"
             ],
             [
              0.6666666666666666,
              "#ed7953"
             ],
             [
              0.7777777777777778,
              "#fb9f3a"
             ],
             [
              0.8888888888888888,
              "#fdca26"
             ],
             [
              1,
              "#f0f921"
             ]
            ],
            "type": "contour"
           }
          ],
          "contourcarpet": [
           {
            "colorbar": {
             "outlinewidth": 0,
             "ticks": ""
            },
            "type": "contourcarpet"
           }
          ],
          "heatmap": [
           {
            "colorbar": {
             "outlinewidth": 0,
             "ticks": ""
            },
            "colorscale": [
             [
              0,
              "#0d0887"
             ],
             [
              0.1111111111111111,
              "#46039f"
             ],
             [
              0.2222222222222222,
              "#7201a8"
             ],
             [
              0.3333333333333333,
              "#9c179e"
             ],
             [
              0.4444444444444444,
              "#bd3786"
             ],
             [
              0.5555555555555556,
              "#d8576b"
             ],
             [
              0.6666666666666666,
              "#ed7953"
             ],
             [
              0.7777777777777778,
              "#fb9f3a"
             ],
             [
              0.8888888888888888,
              "#fdca26"
             ],
             [
              1,
              "#f0f921"
             ]
            ],
            "type": "heatmap"
           }
          ],
          "heatmapgl": [
           {
            "colorbar": {
             "outlinewidth": 0,
             "ticks": ""
            },
            "colorscale": [
             [
              0,
              "#0d0887"
             ],
             [
              0.1111111111111111,
              "#46039f"
             ],
             [
              0.2222222222222222,
              "#7201a8"
             ],
             [
              0.3333333333333333,
              "#9c179e"
             ],
             [
              0.4444444444444444,
              "#bd3786"
             ],
             [
              0.5555555555555556,
              "#d8576b"
             ],
             [
              0.6666666666666666,
              "#ed7953"
             ],
             [
              0.7777777777777778,
              "#fb9f3a"
             ],
             [
              0.8888888888888888,
              "#fdca26"
             ],
             [
              1,
              "#f0f921"
             ]
            ],
            "type": "heatmapgl"
           }
          ],
          "histogram": [
           {
            "marker": {
             "pattern": {
              "fillmode": "overlay",
              "size": 10,
              "solidity": 0.2
             }
            },
            "type": "histogram"
           }
          ],
          "histogram2d": [
           {
            "colorbar": {
             "outlinewidth": 0,
             "ticks": ""
            },
            "colorscale": [
             [
              0,
              "#0d0887"
             ],
             [
              0.1111111111111111,
              "#46039f"
             ],
             [
              0.2222222222222222,
              "#7201a8"
             ],
             [
              0.3333333333333333,
              "#9c179e"
             ],
             [
              0.4444444444444444,
              "#bd3786"
             ],
             [
              0.5555555555555556,
              "#d8576b"
             ],
             [
              0.6666666666666666,
              "#ed7953"
             ],
             [
              0.7777777777777778,
              "#fb9f3a"
             ],
             [
              0.8888888888888888,
              "#fdca26"
             ],
             [
              1,
              "#f0f921"
             ]
            ],
            "type": "histogram2d"
           }
          ],
          "histogram2dcontour": [
           {
            "colorbar": {
             "outlinewidth": 0,
             "ticks": ""
            },
            "colorscale": [
             [
              0,
              "#0d0887"
             ],
             [
              0.1111111111111111,
              "#46039f"
             ],
             [
              0.2222222222222222,
              "#7201a8"
             ],
             [
              0.3333333333333333,
              "#9c179e"
             ],
             [
              0.4444444444444444,
              "#bd3786"
             ],
             [
              0.5555555555555556,
              "#d8576b"
             ],
             [
              0.6666666666666666,
              "#ed7953"
             ],
             [
              0.7777777777777778,
              "#fb9f3a"
             ],
             [
              0.8888888888888888,
              "#fdca26"
             ],
             [
              1,
              "#f0f921"
             ]
            ],
            "type": "histogram2dcontour"
           }
          ],
          "mesh3d": [
           {
            "colorbar": {
             "outlinewidth": 0,
             "ticks": ""
            },
            "type": "mesh3d"
           }
          ],
          "parcoords": [
           {
            "line": {
             "colorbar": {
              "outlinewidth": 0,
              "ticks": ""
             }
            },
            "type": "parcoords"
           }
          ],
          "pie": [
           {
            "automargin": true,
            "type": "pie"
           }
          ],
          "scatter": [
           {
            "fillpattern": {
             "fillmode": "overlay",
             "size": 10,
             "solidity": 0.2
            },
            "type": "scatter"
           }
          ],
          "scatter3d": [
           {
            "line": {
             "colorbar": {
              "outlinewidth": 0,
              "ticks": ""
             }
            },
            "marker": {
             "colorbar": {
              "outlinewidth": 0,
              "ticks": ""
             }
            },
            "type": "scatter3d"
           }
          ],
          "scattercarpet": [
           {
            "marker": {
             "colorbar": {
              "outlinewidth": 0,
              "ticks": ""
             }
            },
            "type": "scattercarpet"
           }
          ],
          "scattergeo": [
           {
            "marker": {
             "colorbar": {
              "outlinewidth": 0,
              "ticks": ""
             }
            },
            "type": "scattergeo"
           }
          ],
          "scattergl": [
           {
            "marker": {
             "colorbar": {
              "outlinewidth": 0,
              "ticks": ""
             }
            },
            "type": "scattergl"
           }
          ],
          "scattermapbox": [
           {
            "marker": {
             "colorbar": {
              "outlinewidth": 0,
              "ticks": ""
             }
            },
            "type": "scattermapbox"
           }
          ],
          "scatterpolar": [
           {
            "marker": {
             "colorbar": {
              "outlinewidth": 0,
              "ticks": ""
             }
            },
            "type": "scatterpolar"
           }
          ],
          "scatterpolargl": [
           {
            "marker": {
             "colorbar": {
              "outlinewidth": 0,
              "ticks": ""
             }
            },
            "type": "scatterpolargl"
           }
          ],
          "scatterternary": [
           {
            "marker": {
             "colorbar": {
              "outlinewidth": 0,
              "ticks": ""
             }
            },
            "type": "scatterternary"
           }
          ],
          "surface": [
           {
            "colorbar": {
             "outlinewidth": 0,
             "ticks": ""
            },
            "colorscale": [
             [
              0,
              "#0d0887"
             ],
             [
              0.1111111111111111,
              "#46039f"
             ],
             [
              0.2222222222222222,
              "#7201a8"
             ],
             [
              0.3333333333333333,
              "#9c179e"
             ],
             [
              0.4444444444444444,
              "#bd3786"
             ],
             [
              0.5555555555555556,
              "#d8576b"
             ],
             [
              0.6666666666666666,
              "#ed7953"
             ],
             [
              0.7777777777777778,
              "#fb9f3a"
             ],
             [
              0.8888888888888888,
              "#fdca26"
             ],
             [
              1,
              "#f0f921"
             ]
            ],
            "type": "surface"
           }
          ],
          "table": [
           {
            "cells": {
             "fill": {
              "color": "#EBF0F8"
             },
             "line": {
              "color": "white"
             }
            },
            "header": {
             "fill": {
              "color": "#C8D4E3"
             },
             "line": {
              "color": "white"
             }
            },
            "type": "table"
           }
          ]
         },
         "layout": {
          "annotationdefaults": {
           "arrowcolor": "#2a3f5f",
           "arrowhead": 0,
           "arrowwidth": 1
          },
          "autotypenumbers": "strict",
          "coloraxis": {
           "colorbar": {
            "outlinewidth": 0,
            "ticks": ""
           }
          },
          "colorscale": {
           "diverging": [
            [
             0,
             "#8e0152"
            ],
            [
             0.1,
             "#c51b7d"
            ],
            [
             0.2,
             "#de77ae"
            ],
            [
             0.3,
             "#f1b6da"
            ],
            [
             0.4,
             "#fde0ef"
            ],
            [
             0.5,
             "#f7f7f7"
            ],
            [
             0.6,
             "#e6f5d0"
            ],
            [
             0.7,
             "#b8e186"
            ],
            [
             0.8,
             "#7fbc41"
            ],
            [
             0.9,
             "#4d9221"
            ],
            [
             1,
             "#276419"
            ]
           ],
           "sequential": [
            [
             0,
             "#0d0887"
            ],
            [
             0.1111111111111111,
             "#46039f"
            ],
            [
             0.2222222222222222,
             "#7201a8"
            ],
            [
             0.3333333333333333,
             "#9c179e"
            ],
            [
             0.4444444444444444,
             "#bd3786"
            ],
            [
             0.5555555555555556,
             "#d8576b"
            ],
            [
             0.6666666666666666,
             "#ed7953"
            ],
            [
             0.7777777777777778,
             "#fb9f3a"
            ],
            [
             0.8888888888888888,
             "#fdca26"
            ],
            [
             1,
             "#f0f921"
            ]
           ],
           "sequentialminus": [
            [
             0,
             "#0d0887"
            ],
            [
             0.1111111111111111,
             "#46039f"
            ],
            [
             0.2222222222222222,
             "#7201a8"
            ],
            [
             0.3333333333333333,
             "#9c179e"
            ],
            [
             0.4444444444444444,
             "#bd3786"
            ],
            [
             0.5555555555555556,
             "#d8576b"
            ],
            [
             0.6666666666666666,
             "#ed7953"
            ],
            [
             0.7777777777777778,
             "#fb9f3a"
            ],
            [
             0.8888888888888888,
             "#fdca26"
            ],
            [
             1,
             "#f0f921"
            ]
           ]
          },
          "colorway": [
           "#636efa",
           "#EF553B",
           "#00cc96",
           "#ab63fa",
           "#FFA15A",
           "#19d3f3",
           "#FF6692",
           "#B6E880",
           "#FF97FF",
           "#FECB52"
          ],
          "font": {
           "color": "#2a3f5f"
          },
          "geo": {
           "bgcolor": "white",
           "lakecolor": "white",
           "landcolor": "#E5ECF6",
           "showlakes": true,
           "showland": true,
           "subunitcolor": "white"
          },
          "hoverlabel": {
           "align": "left"
          },
          "hovermode": "closest",
          "mapbox": {
           "style": "light"
          },
          "paper_bgcolor": "white",
          "plot_bgcolor": "#E5ECF6",
          "polar": {
           "angularaxis": {
            "gridcolor": "white",
            "linecolor": "white",
            "ticks": ""
           },
           "bgcolor": "#E5ECF6",
           "radialaxis": {
            "gridcolor": "white",
            "linecolor": "white",
            "ticks": ""
           }
          },
          "scene": {
           "xaxis": {
            "backgroundcolor": "#E5ECF6",
            "gridcolor": "white",
            "gridwidth": 2,
            "linecolor": "white",
            "showbackground": true,
            "ticks": "",
            "zerolinecolor": "white"
           },
           "yaxis": {
            "backgroundcolor": "#E5ECF6",
            "gridcolor": "white",
            "gridwidth": 2,
            "linecolor": "white",
            "showbackground": true,
            "ticks": "",
            "zerolinecolor": "white"
           },
           "zaxis": {
            "backgroundcolor": "#E5ECF6",
            "gridcolor": "white",
            "gridwidth": 2,
            "linecolor": "white",
            "showbackground": true,
            "ticks": "",
            "zerolinecolor": "white"
           }
          },
          "shapedefaults": {
           "line": {
            "color": "#2a3f5f"
           }
          },
          "ternary": {
           "aaxis": {
            "gridcolor": "white",
            "linecolor": "white",
            "ticks": ""
           },
           "baxis": {
            "gridcolor": "white",
            "linecolor": "white",
            "ticks": ""
           },
           "bgcolor": "#E5ECF6",
           "caxis": {
            "gridcolor": "white",
            "linecolor": "white",
            "ticks": ""
           }
          },
          "title": {
           "x": 0.05
          },
          "xaxis": {
           "automargin": true,
           "gridcolor": "white",
           "linecolor": "white",
           "ticks": "",
           "title": {
            "standoff": 15
           },
           "zerolinecolor": "white",
           "zerolinewidth": 2
          },
          "yaxis": {
           "automargin": true,
           "gridcolor": "white",
           "linecolor": "white",
           "ticks": "",
           "title": {
            "standoff": 15
           },
           "zerolinecolor": "white",
           "zerolinewidth": 2
          }
         }
        },
        "title": {
         "font": {
          "size": 24
         },
         "text": "Closest and furthest tracks from standard profile of user 'ec6dfcf19485cb011e0b22637075037aae34cf26'",
         "x": 0.5,
         "y": 0.99
        },
        "width": 1600
       }
      }
     },
     "metadata": {},
     "output_type": "display_data"
    }
   ],
   "source": [
    "import plotly.graph_objects as go\n",
    "from plotly.subplots import make_subplots\n",
    "\n",
    "\n",
    "for i in range(len(similar)):\n",
    "\n",
    "    if (len(similar) == 1):\n",
    "        profile = standard_profile\n",
    "        std_prof = True\n",
    "        prof_name = \"Standard profile weighted by listening counts\"\n",
    "        fig_title = f\"Closest and furthest tracks from standard profile of user '{user_name}'\"\n",
    "        col1_title = \"Closest tracks\"\n",
    "        col2_title = \"Furthest tracks\"\n",
    "\n",
    "    elif (len(similar) > 1):\n",
    "        profile = clusters_profiles    \n",
    "        std_prof = False\n",
    "        prof_name = f\"Cluster center centroid {i+1} profile\" \n",
    "        fig_title = f\"Closest and furthest tracks from centroid {i+1} profile of user '{user_name}'\"\n",
    "        col1_title = f\"Closest tracks from centroid {i+1}\"\n",
    "        col2_title = f\"Furthest tracks from centroid {i+1}\"\n",
    "\n",
    "    \n",
    "    fig = make_subplots(rows=n_neighbors, cols=2,\n",
    "                        shared_xaxes='columns', shared_yaxes='columns',\n",
    "                        vertical_spacing = 0.1,\n",
    "                        horizontal_spacing=0,\n",
    "                        #column_titles = [\"Closest tracks\", \"Furthest tracks\"],\n",
    "                        #row_heights = [0.9,0.9],\n",
    "                        #subplot_titles=(),\n",
    "                     specs = [[{'type': 'polar'}]*2]*n_neighbors)\n",
    "\n",
    "\n",
    "    trace_profile = go.Scatterpolar(r = profile[i],\n",
    "                                             theta = acoustic_variables,\n",
    "                                             mode = \"lines+markers\", line_color='#636EFA',\n",
    "                                             \n",
    "                                                                                          \n",
    "                                             name = prof_name)\n",
    "\n",
    "    #https://community.plotly.com/t/plotly-colours-list/11730/3\n",
    "    colors_col2 = ['orange', '#8c564b', '#7f7f7f', '#2ca02c', 'pink' ]\n",
    "\n",
    "\n",
    "    for j in range(len(similar[i])):\n",
    "        fig.add_trace(trace_profile, row=j+1, col=1)\n",
    "\n",
    "        fig.add_trace(go.Scatterpolar(\n",
    "            r = similar[i][j],\n",
    "            name = f\"Closest track rank {j+1}\",\n",
    "            theta = acoustic_variables,\n",
    "            #text=[\"Foundbird - Papercuts\"],\n",
    "            #textposition=\"top center\"\n",
    "        ), row=j+1, col=1)\n",
    "\n",
    "        fig.add_trace(trace_profile, row=j+1, col=2)\n",
    "\n",
    "        fig.add_trace(go.Scatterpolar(\n",
    "            r = disimilar[i][j],\n",
    "            name = f\"Furthest track rank {j+1}\",\n",
    "            theta = acoustic_variables,\n",
    "            line_color = colors_col2[j],\n",
    "            #text=[\"Foundbird - Papercuts\"],\n",
    "            #textposition=\"top center\"\n",
    "        ), row=j+1, col=2)\n",
    "\n",
    "    fig.add_annotation(x= 0.14, y = 1.07,\n",
    "                       text = col1_title,\n",
    "                       showarrow=False,\n",
    "                       font = dict(color=\"black\",\n",
    "                                   size=20))\n",
    "\n",
    "\n",
    "    fig.add_annotation(x= 0.86, y = 1.07,\n",
    "                       text = col2_title,\n",
    "                       showarrow=False,\n",
    "                       font = dict(color=\"black\",\n",
    "                                   size=20))\n",
    "\n",
    "    fig.update_traces(fill='toself')#,\n",
    "                      #mode = \"lines+markers\", line_color='indianred',\n",
    "                      #marker =   dict(color='lightslategray', size=8, symbol='square'))\n",
    "\n",
    "    fig.update_layout(\n",
    "    height = 1600,\n",
    "    width = 1600,\n",
    "    #title_text = \"Test\",\n",
    "    title= dict(text=fig_title,\n",
    "                x=0.5,\n",
    "                y=0.99,\n",
    "                #x_anchor = 'center',\n",
    "                #y_anchor = 'top', \n",
    "                font = dict(\n",
    "                    #family = 'Courier New')\n",
    "                    size = 24)),\n",
    "    margin=dict(l=50, r=50, t=200, b=50),\n",
    "    #paper_bgcolor=\"LightSteelBlue\",\n",
    "    polar = dict(radialaxis = dict(showticklabels=False, ticks='')), #radialaxis_range = [-10,10]),\n",
    "                 #angularaxis = dict(showticklabels=False, ticks='')                \n",
    "    showlegend=True\n",
    "    )\n",
    "\n",
    "\n",
    "    #https://plotly.com/python/reference/layout/polar/\n",
    "    fig.update_polars(\n",
    "        radialaxis_showticklabels = False\n",
    "    )\n",
    "\n",
    "    names = set()\n",
    "    fig.for_each_trace(\n",
    "        lambda trace:\n",
    "            trace.update(showlegend=False)\n",
    "            if (trace.name in names) else names.add(trace.name))\n",
    "\n",
    "    fig.show()\n"
   ]
  },
  {
   "cell_type": "code",
   "execution_count": null,
   "metadata": {},
   "outputs": [],
   "source": []
  }
 ],
 "metadata": {
  "kernelspec": {
   "display_name": "env",
   "language": "python",
   "name": "python3"
  },
  "language_info": {
   "codemirror_mode": {
    "name": "ipython",
    "version": 3
   },
   "file_extension": ".py",
   "mimetype": "text/x-python",
   "name": "python",
   "nbconvert_exporter": "python",
   "pygments_lexer": "ipython3",
   "version": "3.9.13"
  },
  "orig_nbformat": 4
 },
 "nbformat": 4,
 "nbformat_minor": 2
}
