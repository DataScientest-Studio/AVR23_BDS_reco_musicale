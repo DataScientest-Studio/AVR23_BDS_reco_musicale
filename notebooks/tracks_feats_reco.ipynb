{
 "cells": [
  {
   "cell_type": "code",
   "execution_count": 1,
   "metadata": {},
   "outputs": [],
   "source": [
    "import os\n",
    "from pathlib import Path\n",
    "\n",
    "\n",
    "import pandas as pd\n",
    "import matplotlib.pyplot as plt\n",
    "import seaborn as sns\n",
    "import numpy as np\n",
    "\n",
    "from sklearn.preprocessing import StandardScaler\n",
    "from sklearn.cluster import KMeans, AgglomerativeClustering\n",
    "from sklearn.metrics import silhouette_score\n",
    "from sklearn.decomposition import PCA\n",
    "\n",
    "\n",
    "from scipy.cluster.hierarchy import linkage, dendrogram, fcluster\n",
    "from scipy.spatial.distance import cdist"
   ]
  },
  {
   "cell_type": "code",
   "execution_count": 2,
   "metadata": {},
   "outputs": [],
   "source": [
    "CUR_DIR = os.path.abspath('')\n",
    "\n",
    "DATA_DIR = Path(CUR_DIR).parent / \"data\"\n",
    "FILE_PATH = DATA_DIR/'triplets_metadata_spotify.csv'\n",
    "df_origin = pd.read_csv(FILE_PATH, index_col = 0)"
   ]
  },
  {
   "cell_type": "code",
   "execution_count": 3,
   "metadata": {},
   "outputs": [],
   "source": [
    "df_unique_values = df_origin.drop_duplicates(subset = ['song_name', 'artist_name'], keep='first').reset_index().drop('index', axis=1)\n",
    "tracks_quanti_feats = df_unique_values.drop(['user', 'listening_count', 'song_name', 'release', 'artist_name',\n",
    "        'artist_familiarity', 'artist_hotttnesss', 'year', 'key', 'duration',\n",
    "       'shs_perf', 'shs_work', 'explicit', 'mode', 'time_signature', 'release_date'], axis = 1)"
   ]
  },
  {
   "cell_type": "code",
   "execution_count": 4,
   "metadata": {},
   "outputs": [],
   "source": [
    "scaler = StandardScaler()\n",
    "scaler.fit(tracks_quanti_feats)\n",
    "tracks_quanti_feats[tracks_quanti_feats.columns] = pd.DataFrame(scaler.fit_transform(tracks_quanti_feats), index=tracks_quanti_feats.index)"
   ]
  },
  {
   "cell_type": "code",
   "execution_count": 5,
   "metadata": {},
   "outputs": [],
   "source": [
    "tracks_quanti_feats_names = pd.DataFrame(tracks_quanti_feats)\n",
    "tracks_quanti_feats_names['song_name'] = df_unique_values['song_name']\n",
    "tracks_quanti_feats_names['artist_name'] = df_unique_values['artist_name']\n"
   ]
  },
  {
   "cell_type": "code",
   "execution_count": 6,
   "metadata": {},
   "outputs": [],
   "source": [
    "scaler = StandardScaler()\n",
    "sel_columns = ['danceability', 'energy', 'loudness', 'speechiness', 'acousticness', 'instrumentalness', 'liveness', 'valence', 'tempo']\n",
    "df_origin[sel_columns] = pd.DataFrame(scaler.fit_transform(df_origin[sel_columns]), index=df_origin.index)"
   ]
  },
  {
   "cell_type": "code",
   "execution_count": 7,
   "metadata": {},
   "outputs": [],
   "source": [
    "def get_opt_clusters(df:pd.DataFrame, drop : list[str], user_id: str):\n",
    "    \n",
    "    # definition of df_user\n",
    "    df_user = df[df['user']==user_id].drop(drop, axis=1).reset_index().drop(['index'], axis=1)\n",
    "\n",
    "    # weights to apply to the kmeans\n",
    "    user_listenings = df_user['listening_count']\n",
    "\n",
    "    # eliminate weights from acoustic characteristics\n",
    "    df_user = df_user.drop('listening_count', axis=1) \n",
    "    \n",
    "\n",
    "    # broad exploration of number of clusters\n",
    "    dist = []\n",
    "    s_scores = []\n",
    "    range = np.arange(2,len(df_user)-1)\n",
    "    for i in range:\n",
    "        clf = KMeans(n_clusters = i, n_init = 'auto', random_state=123)\n",
    "        clf.fit(df_user, sample_weight=user_listenings)\n",
    "        centroids = clf.cluster_centers_\n",
    "        labels = clf.labels_\n",
    "        score = silhouette_score(df_user, labels, metric='euclidean')\n",
    "        s_scores.append(score)\n",
    "        dist.append(sum(np.min(cdist(XA = centroids, XB = df_user, metric='euclidean'), axis = 0)) / len(df_user))\n",
    "    \n",
    "    # optimal number of clusters selection by silhouette score\n",
    "    n_clusters = s_scores.index(max(s_scores))+2\n",
    "\n",
    "    return range, s_scores, dist, n_clusters"
   ]
  },
  {
   "cell_type": "code",
   "execution_count": 8,
   "metadata": {},
   "outputs": [],
   "source": [
    "def get_user_profiles(df: pd.DataFrame, drop : list[str],  user_id: str, n_clusters:int):\n",
    "    \"\"\"\n",
    "    Takes a user_id string and 1 dataframe containg all original informations and whose acoustic characteristics are Standard scaled.\n",
    "    Returns the acoustic characteristics of the user standard profile weighted by number of listenings (1 acoustic profile)   \n",
    "    and the cluster centers centroids profiles based on Kmeans fit on optimal number of cluster found per user (n_clusters profiles)\n",
    "\n",
    "    Parameters:\n",
    "        df : whole dataframe with all acoustic characteristics Standard scaled\n",
    "        user_id : str corresponding to the user id\n",
    "   \n",
    "    Return :\n",
    "        \n",
    "        standard_profile: list[list[float]] of size 1\n",
    "        cluster_profile: list[list[float]] of size n_clusters\n",
    "    \"\"\"\n",
    "    \n",
    "    \n",
    "    total_listening = df[df[\"user\"] == user_id][\"listening_count\"].sum() \n",
    "\n",
    "    ## Standard profile: one profile where acoustic characteristics are weighted by listening_count\n",
    "    duration = 0\n",
    "    dance = 0\n",
    "    energy = 0\n",
    "    loudness = 0\n",
    "    speech = 0\n",
    "    acoustic = 0\n",
    "    instru = 0\n",
    "    live = 0\n",
    "    valence = 0\n",
    "    tempo = 0\n",
    "\n",
    "\n",
    "    # cumulative sum of user's  songs acoustic characteristics weighted by listening_count\n",
    "    for index, row, in df[df[\"user\"] == user_id].iterrows():\n",
    "        #duration += row['duration'] * row[\"listening_count\"]\n",
    "        dance += row['danceability'] * row[\"listening_count\"]\n",
    "        energy += row['energy'] * row[\"listening_count\"]\n",
    "        loudness += row['loudness'] * row[\"listening_count\"]\n",
    "        speech += row['speechiness'] * row[\"listening_count\"]\n",
    "        acoustic += row['acousticness'] * row[\"listening_count\"]\n",
    "        instru += row['instrumentalness'] * row[\"listening_count\"]\n",
    "        live += row['liveness'] * row[\"listening_count\"]\n",
    "        valence += row['valence'] * row[\"listening_count\"]\n",
    "        tempo += row['tempo'] * row[\"listening_count\"]\n",
    "\n",
    "    # duration / total_listening, \n",
    "\n",
    "    # weighted average from cumulative sum of acoustic characteristics / total_listening to list of lists\n",
    "    standard_profile = [[dance / total_listening, energy / total_listening,\n",
    "                        loudness / total_listening, speech / total_listening, acoustic / total_listening,\n",
    "                        instru / total_listening, live / total_listening, valence / total_listening,\n",
    "                        tempo / total_listening]]\n",
    "\n",
    "    \n",
    "\n",
    "    ## Cluster profile\n",
    "    \n",
    "    # definition of df_user\n",
    "    df_user = df[df['user']==user_id].drop(drop, axis=1).reset_index().drop(['index'], axis=1)\n",
    "\n",
    "    # weights to apply to the kmeans\n",
    "    user_listenings = df_user['listening_count']\n",
    "\n",
    "    # eliminate weights from acoustic characteristics\n",
    "    df_user = df_user.drop('listening_count', axis=1) \n",
    "\n",
    "    # training of kmeans with optimal number of clusters\n",
    "    clf = KMeans(n_clusters = n_clusters, n_init = 'auto', random_state=123)\n",
    "    clf.fit(df_user, sample_weight=user_listenings)\n",
    "    centroids = clf.cluster_centers_\n",
    "    labels = clf.labels_\n",
    "\n",
    "    # distinct profiles as cluster centers centroids to list\n",
    "    cluster_profile = centroids.tolist()\n",
    "\n",
    "    \n",
    "    return standard_profile, cluster_profile"
   ]
  },
  {
   "attachments": {},
   "cell_type": "markdown",
   "metadata": {},
   "source": [
    "Proximity measure - Numerical resolution"
   ]
  },
  {
   "cell_type": "code",
   "execution_count": 14,
   "metadata": {},
   "outputs": [],
   "source": [
    "# var\n",
    "acoustic_variables = [\"Danceability\", \"Energy\", \"Loudness\", \"Speechiness\", \"Acousticness\", \"instrumentalness\", \"Liveness\", \"Valence\", \"Tempo\"]\n",
    "n_neighbors = 5\n",
    "#user_name = \"ec6dfcf19485cb011e0b22637075037aae34cf26\"\n",
    "#user_name = '22e08d5e101ab5b86dc394856d508e175a5242a6'\n",
    "#user_name = '3fa44653315697f42410a30cb766a4eb102080bb'\n",
    "#user_name = 'af3ee32357049dd96231238bd1b019e8142ee6aa' # l'espagnol\n",
    "\n",
    "user_name ='19a7ec5c51a370817f99cf18decde4b8f469bfd3'\n",
    "#user_name ='19a7ec5c51a370817f99cf18decde4b8f469bfd3'\n",
    "\n",
    "\n",
    "to_drop = ['user', 'song_name', 'release', 'artist_name', 'duration', 'artist_familiarity', 'artist_hotttnesss', \n",
    "           'year', 'shs_perf', 'shs_work', 'key', 'mode', 'explicit', 'time_signature', 'release_date']\n",
    "\n",
    "# func\n",
    "range_n_clusters, silhouette_scores, distorsions, n_opt_cluster = get_opt_clusters(df=df_origin, drop=to_drop, user_id=user_name)\n",
    "\n",
    "standard_profile, clusters_profiles = get_user_profiles(df=df_origin, drop=to_drop, user_id=user_name, n_clusters=n_opt_cluster)"
   ]
  },
  {
   "cell_type": "code",
   "execution_count": 15,
   "metadata": {},
   "outputs": [
    {
     "name": "stderr",
     "output_type": "stream",
     "text": [
      "C:\\Users\\benoit\\AppData\\Local\\Temp\\ipykernel_7180\\1975603099.py:3: MatplotlibDeprecationWarning: Auto-removal of overlapping axes is deprecated since 3.6 and will be removed two minor releases later; explicitly call ax.remove() as needed.\n",
      "  ax1 = plt.subplot(121)\n"
     ]
    },
    {
     "data": {
      "image/png": "[encoded data removed]",
      "text/plain": [
       "<Figure size 1200x600 with 2 Axes>"
      ]
     },
     "metadata": {},
     "output_type": "display_data"
    }
   ],
   "source": [
    "fig  = plt.subplots(figsize=(12, 6))\n",
    "\n",
    "ax1 = plt.subplot(121)\n",
    "ax1.plot(range_n_clusters, distorsions)\n",
    "ax1.set_xlabel('K Number of clusters')\n",
    "ax1.set_ylabel('Distorsion SSW/(SSW+SSB)')\n",
    "ax1.set_title('Elbow method');\n",
    "\n",
    "ax2 = plt.subplot(122)\n",
    "ax2.plot(range_n_clusters, silhouette_scores, '-x')\n",
    "ax2.set_xlabel(\"Number of clusters\")\n",
    "ax2.set_ylabel(\"Silhouette score for squared euclidean distance\")\n",
    "ax2.set_title('Silhouette score per number of cluster');"
   ]
  },
  {
   "cell_type": "code",
   "execution_count": 16,
   "metadata": {},
   "outputs": [],
   "source": [
    "from scipy.spatial import distance_matrix\n",
    "\n",
    "def get_profile_neighbors(df_features, df_features_names: pd.DataFrame, profiles: list[list[float]], n_target : int = n_neighbors):\n",
    "    \n",
    "    user_profile = pd.DataFrame(columns=[\"danceability\", \"energy\",\n",
    "                                   \"loudness\", \"speechiness\", \"acousticness\",\n",
    "                                   \"instrumentalness\", \"liveness\", \"valence\",\n",
    "                                   \"tempo\"])\n",
    "    \n",
    "\n",
    "    # append profile to the dataframe user_profile\n",
    "    for i in range(len(profiles)):\n",
    "        user_profile.loc[len(user_profile)] = profiles[i]\n",
    "\n",
    "\n",
    "    # compute the distance matrix between all user_profiles and all songs features\n",
    "    dist_mat = pd.DataFrame(distance_matrix(user_profile, df_features).T)\n",
    "    #dist_mat = dist_mat.rename(columns={0 : 'distance'})\n",
    "    \n",
    "\n",
    "    # create similarity and disimilarity lists\n",
    "    sim = []\n",
    "    dis = []\n",
    "    sim_id = []\n",
    "    dis_id =[]\n",
    "\n",
    "    # broadcast distance of matrix[i] to df_features_names containing song and artist names and sort values by distance[i]\n",
    "    for i in range(len(profiles)):\n",
    "        df_feats_names = df_features_names\n",
    "        df_feats_names[i] = dist_mat[i]\n",
    "        df_feats_names = df_feats_names.sort_values(by=i, ascending=True).reset_index().drop(['index'], axis=1)\n",
    "        \n",
    "        # for each profile create temporary sim and disim lists\n",
    "        s = []\n",
    "        d = []\n",
    "        s_id = []\n",
    "        d_id = []\n",
    "\n",
    "        ## append each profile list the profile closest and furthest n_neighbors tracks and corresponding song-artist names \n",
    "        for j in range (n_target):\n",
    "            s.append(df_feats_names.iloc[j, :9].values.flatten().tolist())\n",
    "            s_id.append(' - '.join((df_feats_names.iloc[j, 9:11])))\n",
    "            \n",
    "            d.append(df_feats_names.iloc[len(df_feats_names)-1-j, :9].values.flatten().tolist())\n",
    "            d_id.append(' - '.join((df_feats_names.iloc[len(df_feats_names)-1-j, 9:11])))\n",
    "        \n",
    "        \n",
    "        sim.append(s)\n",
    "        sim_id.append(s_id)\n",
    "        dis.append(d)\n",
    "        dis_id.append(d_id)\n",
    "\n",
    "    return sim, dis, sim_id, dis_id"
   ]
  },
  {
   "cell_type": "code",
   "execution_count": 17,
   "metadata": {},
   "outputs": [],
   "source": [
    "#similar, disimilar, sim_names, dis_names = get_profile_neighbors(tracks_quanti_feats, tracks_quanti_feats_names, standard_profile)\n",
    "similar, disimilar, sim_names, dis_names = get_profile_neighbors(tracks_quanti_feats, tracks_quanti_feats_names, clusters_profiles)"
   ]
  },
  {
   "cell_type": "code",
   "execution_count": 18,
   "metadata": {},
   "outputs": [
    {
     "name": "stdout",
     "output_type": "stream",
     "text": [
      "[[0.806822317184438, -0.4846839148790801, -0.28927774720476285, -0.4939478512613909, 0.26446267284846336, -0.6044064443412622, -0.37348355936497757, 0.5976460503190621, -0.41089902346053286], [0.19751726933889052, -0.574849625979093, -0.30750842474776724, -0.41552586969395855, 0.2984777986849789, -0.09347360112335967, -0.45871150403734934, 0.35136445641931735, -0.15967225539419747], [0.48819490684318806, -0.2690702579007886, -0.26474510705430054, -0.5311480220049166, 0.5334913953736318, -0.6235300961416761, -0.12312647188988514, 0.7592683463157696, -0.5488228846221996], [0.35962595179321005, -0.35923596900080185, -0.5199745926563579, -0.5351696620852977, 0.023264507825898582, 0.1258762570347048, -0.16041369768404787, 0.8131424449813393, -0.1554856963707403], [0.6558935438648986, -0.5513281361269157, -0.1540106212375351, -0.5281317919446307, 0.51184540620494, -0.6235690916720154, 0.15919109483734661, 0.766964646125137, 0.11042725493661115]]\n",
      "['Ballad Of Big Nothing - Elliott Smith', 'Boy Meets Horn - Al Hirt', \"A Miner's Life - Solas\", 'Trapped Under Ice - Call And Response', 'White Winter Hymnal - Fleet Foxes']\n",
      "[\"Jaden's Interlude - Will Smith\", 'Introduction - Paul Horn', 'Holmes Depot - George Lopez', 'ER - George Lopez', 'Socoro - George Lopez']\n"
     ]
    }
   ],
   "source": [
    "print(similar[0])\n",
    "print(sim_names[0])\n",
    "print(dis_names[0])\n"
   ]
  },
  {
   "cell_type": "code",
   "execution_count": 19,
   "metadata": {},
   "outputs": [
    {
     "name": "stdout",
     "output_type": "stream",
     "text": [
      "['Ballad Of Big Nothing - Elliott Smith',\n",
      " \"Jaden's Interlude - Will Smith\",\n",
      " 'Boy Meets Horn - Al Hirt',\n",
      " 'Introduction - Paul Horn',\n",
      " \"A Miner's Life - Solas\",\n",
      " 'Holmes Depot - George Lopez',\n",
      " 'Trapped Under Ice - Call And Response',\n",
      " 'ER - George Lopez',\n",
      " 'White Winter Hymnal - Fleet Foxes',\n",
      " 'Socoro - George Lopez']\n"
     ]
    },
    {
     "data": {
      "application/vnd.plotly.v1+json": {
       "config": {
        "plotlyServerURL": "https://plot.ly"
       },
       "data": [
        {
         "fill": "toself",
         "line": {
          "color": "#636EFA"
         },
         "mode": "lines+markers",
         "name": "Cluster center centroid 1 profile",
         "r": [
          0.5361604195974913,
          -0.48655541639534644,
          -0.43354144052548493,
          -0.3083598291038192,
          0.31096608881566595,
          -0.34806672513300596,
          -0.19692872810742373,
          0.6977152229612112,
          -0.16101351797107744
         ],
         "subplot": "polar",
         "theta": [
          "Danceability",
          "Energy",
          "Loudness",
          "Speechiness",
          "Acousticness",
          "instrumentalness",
          "Liveness",
          "Valence",
          "Tempo"
         ],
         "type": "scatterpolar"
        },
        {
         "fill": "toself",
         "line": {
          "color": "#EF553B"
         },
         "name": "Closest track rank 1",
         "r": [
          0.806822317184438,
          -0.4846839148790801,
          -0.28927774720476285,
          -0.4939478512613909,
          0.26446267284846336,
          -0.6044064443412622,
          -0.37348355936497757,
          0.5976460503190621,
          -0.41089902346053286
         ],
         "subplot": "polar",
         "theta": [
          "Danceability",
          "Energy",
          "Loudness",
          "Speechiness",
          "Acousticness",
          "instrumentalness",
          "Liveness",
          "Valence",
          "Tempo"
         ],
         "type": "scatterpolar"
        },
        {
         "fill": "toself",
         "line": {
          "color": "#636EFA"
         },
         "mode": "lines+markers",
         "name": "Cluster center centroid 1 profile",
         "r": [
          0.5361604195974913,
          -0.48655541639534644,
          -0.43354144052548493,
          -0.3083598291038192,
          0.31096608881566595,
          -0.34806672513300596,
          -0.19692872810742373,
          0.6977152229612112,
          -0.16101351797107744
         ],
         "showlegend": false,
         "subplot": "polar2",
         "theta": [
          "Danceability",
          "Energy",
          "Loudness",
          "Speechiness",
          "Acousticness",
          "instrumentalness",
          "Liveness",
          "Valence",
          "Tempo"
         ],
         "type": "scatterpolar"
        },
        {
         "fill": "toself",
         "line": {
          "color": "#B6E880"
         },
         "name": "Furthest track rank 1",
         "r": [
          1.0527803181496134,
          -1.8606910712314484,
          -2.8141140518642684,
          8.502461008551235,
          1.7796819146568825,
          -0.6235690916720154,
          3.6908240521987556,
          -1.0185769096480148,
          -2.3667530739111062
         ],
         "subplot": "polar2",
         "theta": [
          "Danceability",
          "Energy",
          "Loudness",
          "Speechiness",
          "Acousticness",
          "instrumentalness",
          "Liveness",
          "Valence",
          "Tempo"
         ],
         "type": "scatterpolar"
        },
        {
         "fill": "toself",
         "line": {
          "color": "#636EFA"
         },
         "mode": "lines+markers",
         "name": "Cluster center centroid 1 profile",
         "r": [
          0.5361604195974913,
          -0.48655541639534644,
          -0.43354144052548493,
          -0.3083598291038192,
          0.31096608881566595,
          -0.34806672513300596,
          -0.19692872810742373,
          0.6977152229612112,
          -0.16101351797107744
         ],
         "showlegend": false,
         "subplot": "polar3",
         "theta": [
          "Danceability",
          "Energy",
          "Loudness",
          "Speechiness",
          "Acousticness",
          "instrumentalness",
          "Liveness",
          "Valence",
          "Tempo"
         ],
         "type": "scatterpolar"
        },
        {
         "fill": "toself",
         "line": {
          "color": "#EF553B"
         },
         "name": "Closest track rank 2",
         "r": [
          0.19751726933889052,
          -0.574849625979093,
          -0.30750842474776724,
          -0.41552586969395855,
          0.2984777986849789,
          -0.09347360112335967,
          -0.45871150403734934,
          0.35136445641931735,
          -0.15967225539419747
         ],
         "subplot": "polar3",
         "theta": [
          "Danceability",
          "Energy",
          "Loudness",
          "Speechiness",
          "Acousticness",
          "instrumentalness",
          "Liveness",
          "Valence",
          "Tempo"
         ],
         "type": "scatterpolar"
        },
        {
         "fill": "toself",
         "line": {
          "color": "#636EFA"
         },
         "mode": "lines+markers",
         "name": "Cluster center centroid 1 profile",
         "r": [
          0.5361604195974913,
          -0.48655541639534644,
          -0.43354144052548493,
          -0.3083598291038192,
          0.31096608881566595,
          -0.34806672513300596,
          -0.19692872810742373,
          0.6977152229612112,
          -0.16101351797107744
         ],
         "showlegend": false,
         "subplot": "polar4",
         "theta": [
          "Danceability",
          "Energy",
          "Loudness",
          "Speechiness",
          "Acousticness",
          "instrumentalness",
          "Liveness",
          "Valence",
          "Tempo"
         ],
         "type": "scatterpolar"
        },
        {
         "fill": "toself",
         "line": {
          "color": "#B6E880"
         },
         "name": "Furthest track rank 2",
         "r": [
          -0.037260822491504184,
          -2.2378189585280235,
          -6.096761360070624,
          7.607646090666429,
          2.197140277195937,
          -0.6235690916720154,
          -0.3202160939447451,
          -1.8497772890596542,
          -0.8655393974126123
         ],
         "subplot": "polar4",
         "theta": [
          "Danceability",
          "Energy",
          "Loudness",
          "Speechiness",
          "Acousticness",
          "instrumentalness",
          "Liveness",
          "Valence",
          "Tempo"
         ],
         "type": "scatterpolar"
        },
        {
         "fill": "toself",
         "line": {
          "color": "#636EFA"
         },
         "mode": "lines+markers",
         "name": "Cluster center centroid 1 profile",
         "r": [
          0.5361604195974913,
          -0.48655541639534644,
          -0.43354144052548493,
          -0.3083598291038192,
          0.31096608881566595,
          -0.34806672513300596,
          -0.19692872810742373,
          0.6977152229612112,
          -0.16101351797107744
         ],
         "showlegend": false,
         "subplot": "polar5",
         "theta": [
          "Danceability",
          "Energy",
          "Loudness",
          "Speechiness",
          "Acousticness",
          "instrumentalness",
          "Liveness",
          "Valence",
          "Tempo"
         ],
         "type": "scatterpolar"
        },
        {
         "fill": "toself",
         "line": {
          "color": "#EF553B"
         },
         "name": "Closest track rank 3",
         "r": [
          0.48819490684318806,
          -0.2690702579007886,
          -0.26474510705430054,
          -0.5311480220049166,
          0.5334913953736318,
          -0.6235300961416761,
          -0.12312647188988514,
          0.7592683463157696,
          -0.5488228846221996
         ],
         "subplot": "polar5",
         "theta": [
          "Danceability",
          "Energy",
          "Loudness",
          "Speechiness",
          "Acousticness",
          "instrumentalness",
          "Liveness",
          "Valence",
          "Tempo"
         ],
         "type": "scatterpolar"
        },
        {
         "fill": "toself",
         "line": {
          "color": "#636EFA"
         },
         "mode": "lines+markers",
         "name": "Cluster center centroid 1 profile",
         "r": [
          0.5361604195974913,
          -0.48655541639534644,
          -0.43354144052548493,
          -0.3083598291038192,
          0.31096608881566595,
          -0.34806672513300596,
          -0.19692872810742373,
          0.6977152229612112,
          -0.16101351797107744
         ],
         "showlegend": false,
         "subplot": "polar6",
         "theta": [
          "Danceability",
          "Energy",
          "Loudness",
          "Speechiness",
          "Acousticness",
          "instrumentalness",
          "Liveness",
          "Valence",
          "Tempo"
         ],
         "type": "scatterpolar"
        },
        {
         "fill": "toself",
         "line": {
          "color": "#B6E880"
         },
         "name": "Furthest track rank 3",
         "r": [
          -0.6074361883653192,
          -0.2612297612833966,
          -1.5917583761104999,
          8.783975814177914,
          1.918834702169901,
          -0.6235690916720154,
          3.8346462088333833,
          -0.7492064163201687,
          -1.4840868797989244
         ],
         "subplot": "polar6",
         "theta": [
          "Danceability",
          "Energy",
          "Loudness",
          "Speechiness",
          "Acousticness",
          "instrumentalness",
          "Liveness",
          "Valence",
          "Tempo"
         ],
         "type": "scatterpolar"
        },
        {
         "fill": "toself",
         "line": {
          "color": "#636EFA"
         },
         "mode": "lines+markers",
         "name": "Cluster center centroid 1 profile",
         "r": [
          0.5361604195974913,
          -0.48655541639534644,
          -0.43354144052548493,
          -0.3083598291038192,
          0.31096608881566595,
          -0.34806672513300596,
          -0.19692872810742373,
          0.6977152229612112,
          -0.16101351797107744
         ],
         "showlegend": false,
         "subplot": "polar7",
         "theta": [
          "Danceability",
          "Energy",
          "Loudness",
          "Speechiness",
          "Acousticness",
          "instrumentalness",
          "Liveness",
          "Valence",
          "Tempo"
         ],
         "type": "scatterpolar"
        },
        {
         "fill": "toself",
         "line": {
          "color": "#EF553B"
         },
         "name": "Closest track rank 4",
         "r": [
          0.35962595179321005,
          -0.35923596900080185,
          -0.5199745926563579,
          -0.5351696620852977,
          0.023264507825898582,
          0.1258762570347048,
          -0.16041369768404787,
          0.8131424449813393,
          -0.1554856963707403
         ],
         "subplot": "polar7",
         "theta": [
          "Danceability",
          "Energy",
          "Loudness",
          "Speechiness",
          "Acousticness",
          "instrumentalness",
          "Liveness",
          "Valence",
          "Tempo"
         ],
         "type": "scatterpolar"
        },
        {
         "fill": "toself",
         "line": {
          "color": "#636EFA"
         },
         "mode": "lines+markers",
         "name": "Cluster center centroid 1 profile",
         "r": [
          0.5361604195974913,
          -0.48655541639534644,
          -0.43354144052548493,
          -0.3083598291038192,
          0.31096608881566595,
          -0.34806672513300596,
          -0.19692872810742373,
          0.6977152229612112,
          -0.16101351797107744
         ],
         "showlegend": false,
         "subplot": "polar8",
         "theta": [
          "Danceability",
          "Energy",
          "Loudness",
          "Speechiness",
          "Acousticness",
          "instrumentalness",
          "Liveness",
          "Valence",
          "Tempo"
         ],
         "type": "scatterpolar"
        },
        {
         "fill": "toself",
         "line": {
          "color": "#B6E880"
         },
         "name": "Furthest track rank 4",
         "r": [
          -0.28880877802407023,
          0.04454960679490772,
          -1.435559731482786,
          8.794029914378868,
          1.7982356196586182,
          -0.6235690916720154,
          3.7973589830392207,
          -0.6029767199421949,
          -1.909587473881386
         ],
         "subplot": "polar8",
         "theta": [
          "Danceability",
          "Energy",
          "Loudness",
          "Speechiness",
          "Acousticness",
          "instrumentalness",
          "Liveness",
          "Valence",
          "Tempo"
         ],
         "type": "scatterpolar"
        },
        {
         "fill": "toself",
         "line": {
          "color": "#636EFA"
         },
         "mode": "lines+markers",
         "name": "Cluster center centroid 1 profile",
         "r": [
          0.5361604195974913,
          -0.48655541639534644,
          -0.43354144052548493,
          -0.3083598291038192,
          0.31096608881566595,
          -0.34806672513300596,
          -0.19692872810742373,
          0.6977152229612112,
          -0.16101351797107744
         ],
         "showlegend": false,
         "subplot": "polar9",
         "theta": [
          "Danceability",
          "Energy",
          "Loudness",
          "Speechiness",
          "Acousticness",
          "instrumentalness",
          "Liveness",
          "Valence",
          "Tempo"
         ],
         "type": "scatterpolar"
        },
        {
         "fill": "toself",
         "line": {
          "color": "#EF553B"
         },
         "name": "Closest track rank 5",
         "r": [
          0.6558935438648986,
          -0.5513281361269157,
          -0.1540106212375351,
          -0.5281317919446307,
          0.51184540620494,
          -0.6235690916720154,
          0.15919109483734661,
          0.766964646125137,
          0.11042725493661115
         ],
         "subplot": "polar9",
         "theta": [
          "Danceability",
          "Energy",
          "Loudness",
          "Speechiness",
          "Acousticness",
          "instrumentalness",
          "Liveness",
          "Valence",
          "Tempo"
         ],
         "type": "scatterpolar"
        },
        {
         "fill": "toself",
         "line": {
          "color": "#636EFA"
         },
         "mode": "lines+markers",
         "name": "Cluster center centroid 1 profile",
         "r": [
          0.5361604195974913,
          -0.48655541639534644,
          -0.43354144052548493,
          -0.3083598291038192,
          0.31096608881566595,
          -0.34806672513300596,
          -0.19692872810742373,
          0.6977152229612112,
          -0.16101351797107744
         ],
         "showlegend": false,
         "subplot": "polar10",
         "theta": [
          "Danceability",
          "Energy",
          "Loudness",
          "Speechiness",
          "Acousticness",
          "instrumentalness",
          "Liveness",
          "Valence",
          "Tempo"
         ],
         "type": "scatterpolar"
        },
        {
         "fill": "toself",
         "line": {
          "color": "#B6E880"
         },
         "name": "Furthest track rank 5",
         "r": [
          0.16397754193454842,
          -0.9276719737617518,
          -2.0171408521139287,
          8.542677409355047,
          1.7178362313177633,
          -0.6235690916720154,
          3.9997753516361034,
          -0.4259618243267532,
          -2.1845713030728944
         ],
         "subplot": "polar10",
         "theta": [
          "Danceability",
          "Energy",
          "Loudness",
          "Speechiness",
          "Acousticness",
          "instrumentalness",
          "Liveness",
          "Valence",
          "Tempo"
         ],
         "type": "scatterpolar"
        }
       ],
       "layout": {
        "annotations": [
         {
          "font": {
           "size": 16
          },
          "showarrow": false,
          "text": "Ballad Of Big Nothing - Elliott Smith",
          "x": 0.25,
          "xanchor": "center",
          "xref": "paper",
          "y": 1.03,
          "yanchor": "bottom",
          "yref": "paper"
         },
         {
          "font": {
           "size": 16
          },
          "showarrow": false,
          "text": "Jaden's Interlude - Will Smith",
          "x": 0.75,
          "xanchor": "center",
          "xref": "paper",
          "y": 1.03,
          "yanchor": "bottom",
          "yref": "paper"
         },
         {
          "font": {
           "size": 16
          },
          "showarrow": false,
          "text": "Boy Meets Horn - Al Hirt",
          "x": 0.25,
          "xanchor": "center",
          "xref": "paper",
          "y": 0.82,
          "yanchor": "bottom",
          "yref": "paper"
         },
         {
          "font": {
           "size": 16
          },
          "showarrow": false,
          "text": "Introduction - Paul Horn",
          "x": 0.75,
          "xanchor": "center",
          "xref": "paper",
          "y": 0.82,
          "yanchor": "bottom",
          "yref": "paper"
         },
         {
          "font": {
           "size": 16
          },
          "showarrow": false,
          "text": "A Miner's Life - Solas",
          "x": 0.25,
          "xanchor": "center",
          "xref": "paper",
          "y": 0.6,
          "yanchor": "bottom",
          "yref": "paper"
         },
         {
          "font": {
           "size": 16
          },
          "showarrow": false,
          "text": "Holmes Depot - George Lopez",
          "x": 0.75,
          "xanchor": "center",
          "xref": "paper",
          "y": 0.6,
          "yanchor": "bottom",
          "yref": "paper"
         },
         {
          "font": {
           "size": 16
          },
          "showarrow": false,
          "text": "Trapped Under Ice - Call And Response",
          "x": 0.25,
          "xanchor": "center",
          "xref": "paper",
          "y": 0.38,
          "yanchor": "bottom",
          "yref": "paper"
         },
         {
          "font": {
           "size": 16
          },
          "showarrow": false,
          "text": "ER - George Lopez",
          "x": 0.75,
          "xanchor": "center",
          "xref": "paper",
          "y": 0.38,
          "yanchor": "bottom",
          "yref": "paper"
         },
         {
          "font": {
           "size": 16
          },
          "showarrow": false,
          "text": "White Winter Hymnal - Fleet Foxes",
          "x": 0.25,
          "xanchor": "center",
          "xref": "paper",
          "y": 0.16,
          "yanchor": "bottom",
          "yref": "paper"
         },
         {
          "font": {
           "size": 16
          },
          "showarrow": false,
          "text": "Socoro - George Lopez",
          "x": 0.75,
          "xanchor": "center",
          "xref": "paper",
          "y": 0.16,
          "yanchor": "bottom",
          "yref": "paper"
         },
         {
          "font": {
           "color": "black",
           "size": 20
          },
          "showarrow": false,
          "text": "Closest tracks from centroid 1",
          "x": 0.12,
          "y": 1.09
         },
         {
          "font": {
           "color": "black",
           "size": 22
          },
          "showarrow": false,
          "text": "Furthest tracks from centroid 1",
          "x": 0.9,
          "y": 1.09
         },
         {
          "font": {
           "color": "black",
           "size": 22
          },
          "showarrow": false,
          "text": "Rank",
          "x": 0.005,
          "y": 1.09
         },
         {
          "font": {
           "color": "black",
           "size": 22
          },
          "showarrow": false,
          "text": "1",
          "x": 0.02,
          "y": 1.05
         },
         {
          "font": {
           "color": "black",
           "size": 22
          },
          "showarrow": false,
          "text": "2",
          "x": 0.02,
          "y": 0.84
         },
         {
          "font": {
           "color": "black",
           "size": 22
          },
          "showarrow": false,
          "text": "3",
          "x": 0.02,
          "y": 0.608
         },
         {
          "font": {
           "color": "black",
           "size": 22
          },
          "showarrow": false,
          "text": "4",
          "x": 0.02,
          "y": 0.389
         },
         {
          "font": {
           "color": "black",
           "size": 22
          },
          "showarrow": false,
          "text": "5",
          "x": 0.02,
          "y": 0.159
         }
        ],
        "height": 1600,
        "margin": {
         "b": 50,
         "l": 50,
         "r": 50,
         "t": 200
        },
        "polar": {
         "domain": {
          "x": [
           0,
           0.5
          ],
          "y": [
           0.88,
           1
          ]
         },
         "radialaxis": {
          "range": [
           -0.6235690916720154,
           0.8131424449813393
          ],
          "showticklabels": false,
          "ticks": ""
         }
        },
        "polar10": {
         "domain": {
          "x": [
           0.5,
           1
          ],
          "y": [
           0,
           0.12
          ]
         },
         "radialaxis": {
          "range": [
           -6.096761360070624,
           8.794029914378868
          ],
          "showticklabels": false,
          "ticks": ""
         }
        },
        "polar2": {
         "domain": {
          "x": [
           0.5,
           1
          ],
          "y": [
           0.88,
           1
          ]
         },
         "radialaxis": {
          "range": [
           -6.096761360070624,
           8.794029914378868
          ],
          "showticklabels": false,
          "ticks": ""
         }
        },
        "polar3": {
         "domain": {
          "x": [
           0,
           0.5
          ],
          "y": [
           0.66,
           0.78
          ]
         },
         "radialaxis": {
          "range": [
           -0.6235690916720154,
           0.8131424449813393
          ],
          "showticklabels": false,
          "ticks": ""
         }
        },
        "polar4": {
         "domain": {
          "x": [
           0.5,
           1
          ],
          "y": [
           0.66,
           0.78
          ]
         },
         "radialaxis": {
          "range": [
           -6.096761360070624,
           8.794029914378868
          ],
          "showticklabels": false,
          "ticks": ""
         }
        },
        "polar5": {
         "domain": {
          "x": [
           0,
           0.5
          ],
          "y": [
           0.44,
           0.56
          ]
         },
         "radialaxis": {
          "range": [
           -0.6235690916720154,
           0.8131424449813393
          ],
          "showticklabels": false,
          "ticks": ""
         }
        },
        "polar6": {
         "domain": {
          "x": [
           0.5,
           1
          ],
          "y": [
           0.44,
           0.56
          ]
         },
         "radialaxis": {
          "range": [
           -6.096761360070624,
           8.794029914378868
          ],
          "showticklabels": false,
          "ticks": ""
         }
        },
        "polar7": {
         "domain": {
          "x": [
           0,
           0.5
          ],
          "y": [
           0.22,
           0.33999999999999997
          ]
         },
         "radialaxis": {
          "range": [
           -0.6235690916720154,
           0.8131424449813393
          ],
          "showticklabels": false,
          "ticks": ""
         }
        },
        "polar8": {
         "domain": {
          "x": [
           0.5,
           1
          ],
          "y": [
           0.22,
           0.33999999999999997
          ]
         },
         "radialaxis": {
          "range": [
           -6.096761360070624,
           8.794029914378868
          ],
          "showticklabels": false,
          "ticks": ""
         }
        },
        "polar9": {
         "domain": {
          "x": [
           0,
           0.5
          ],
          "y": [
           0,
           0.12
          ]
         },
         "radialaxis": {
          "range": [
           -0.6235690916720154,
           0.8131424449813393
          ],
          "showticklabels": false,
          "ticks": ""
         }
        },
        "showlegend": false,
        "template": {
         "data": {
          "bar": [
           {
            "error_x": {
             "color": "#2a3f5f"
            },
            "error_y": {
             "color": "#2a3f5f"
            },
            "marker": {
             "line": {
              "color": "#E5ECF6",
              "width": 0.5
             },
             "pattern": {
              "fillmode": "overlay",
              "size": 10,
              "solidity": 0.2
             }
            },
            "type": "bar"
           }
          ],
          "barpolar": [
           {
            "marker": {
             "line": {
              "color": "#E5ECF6",
              "width": 0.5
             },
             "pattern": {
              "fillmode": "overlay",
              "size": 10,
              "solidity": 0.2
             }
            },
            "type": "barpolar"
           }
          ],
          "carpet": [
           {
            "aaxis": {
             "endlinecolor": "#2a3f5f",
             "gridcolor": "white",
             "linecolor": "white",
             "minorgridcolor": "white",
             "startlinecolor": "#2a3f5f"
            },
            "baxis": {
             "endlinecolor": "#2a3f5f",
             "gridcolor": "white",
             "linecolor": "white",
             "minorgridcolor": "white",
             "startlinecolor": "#2a3f5f"
            },
            "type": "carpet"
           }
          ],
          "choropleth": [
           {
            "colorbar": {
             "outlinewidth": 0,
             "ticks": ""
            },
            "type": "choropleth"
           }
          ],
          "contour": [
           {
            "colorbar": {
             "outlinewidth": 0,
             "ticks": ""
            },
            "colorscale": [
             [
              0,
              "#0d0887"
             ],
             [
              0.1111111111111111,
              "#46039f"
             ],
             [
              0.2222222222222222,
              "#7201a8"
             ],
             [
              0.3333333333333333,
              "#9c179e"
             ],
             [
              0.4444444444444444,
              "#bd3786"
             ],
             [
              0.5555555555555556,
              "#d8576b"
             ],
             [
              0.6666666666666666,
              "#ed7953"
             ],
             [
              0.7777777777777778,
              "#fb9f3a"
             ],
             [
              0.8888888888888888,
              "#fdca26"
             ],
             [
              1,
              "#f0f921"
             ]
            ],
            "type": "contour"
           }
          ],
          "contourcarpet": [
           {
            "colorbar": {
             "outlinewidth": 0,
             "ticks": ""
            },
            "type": "contourcarpet"
           }
          ],
          "heatmap": [
           {
            "colorbar": {
             "outlinewidth": 0,
             "ticks": ""
            },
            "colorscale": [
             [
              0,
              "#0d0887"
             ],
             [
              0.1111111111111111,
              "#46039f"
             ],
             [
              0.2222222222222222,
              "#7201a8"
             ],
             [
              0.3333333333333333,
              "#9c179e"
             ],
             [
              0.4444444444444444,
              "#bd3786"
             ],
             [
              0.5555555555555556,
              "#d8576b"
             ],
             [
              0.6666666666666666,
              "#ed7953"
             ],
             [
              0.7777777777777778,
              "#fb9f3a"
             ],
             [
              0.8888888888888888,
              "#fdca26"
             ],
             [
              1,
              "#f0f921"
             ]
            ],
            "type": "heatmap"
           }
          ],
          "heatmapgl": [
           {
            "colorbar": {
             "outlinewidth": 0,
             "ticks": ""
            },
            "colorscale": [
             [
              0,
              "#0d0887"
             ],
             [
              0.1111111111111111,
              "#46039f"
             ],
             [
              0.2222222222222222,
              "#7201a8"
             ],
             [
              0.3333333333333333,
              "#9c179e"
             ],
             [
              0.4444444444444444,
              "#bd3786"
             ],
             [
              0.5555555555555556,
              "#d8576b"
             ],
             [
              0.6666666666666666,
              "#ed7953"
             ],
             [
              0.7777777777777778,
              "#fb9f3a"
             ],
             [
              0.8888888888888888,
              "#fdca26"
             ],
             [
              1,
              "#f0f921"
             ]
            ],
            "type": "heatmapgl"
           }
          ],
          "histogram": [
           {
            "marker": {
             "pattern": {
              "fillmode": "overlay",
              "size": 10,
              "solidity": 0.2
             }
            },
            "type": "histogram"
           }
          ],
          "histogram2d": [
           {
            "colorbar": {
             "outlinewidth": 0,
             "ticks": ""
            },
            "colorscale": [
             [
              0,
              "#0d0887"
             ],
             [
              0.1111111111111111,
              "#46039f"
             ],
             [
              0.2222222222222222,
              "#7201a8"
             ],
             [
              0.3333333333333333,
              "#9c179e"
             ],
             [
              0.4444444444444444,
              "#bd3786"
             ],
             [
              0.5555555555555556,
              "#d8576b"
             ],
             [
              0.6666666666666666,
              "#ed7953"
             ],
             [
              0.7777777777777778,
              "#fb9f3a"
             ],
             [
              0.8888888888888888,
              "#fdca26"
             ],
             [
              1,
              "#f0f921"
             ]
            ],
            "type": "histogram2d"
           }
          ],
          "histogram2dcontour": [
           {
            "colorbar": {
             "outlinewidth": 0,
             "ticks": ""
            },
            "colorscale": [
             [
              0,
              "#0d0887"
             ],
             [
              0.1111111111111111,
              "#46039f"
             ],
             [
              0.2222222222222222,
              "#7201a8"
             ],
             [
              0.3333333333333333,
              "#9c179e"
             ],
             [
              0.4444444444444444,
              "#bd3786"
             ],
             [
              0.5555555555555556,
              "#d8576b"
             ],
             [
              0.6666666666666666,
              "#ed7953"
             ],
             [
              0.7777777777777778,
              "#fb9f3a"
             ],
             [
              0.8888888888888888,
              "#fdca26"
             ],
             [
              1,
              "#f0f921"
             ]
            ],
            "type": "histogram2dcontour"
           }
          ],
          "mesh3d": [
           {
            "colorbar": {
             "outlinewidth": 0,
             "ticks": ""
            },
            "type": "mesh3d"
           }
          ],
          "parcoords": [
           {
            "line": {
             "colorbar": {
              "outlinewidth": 0,
              "ticks": ""
             }
            },
            "type": "parcoords"
           }
          ],
          "pie": [
           {
            "automargin": true,
            "type": "pie"
           }
          ],
          "scatter": [
           {
            "fillpattern": {
             "fillmode": "overlay",
             "size": 10,
             "solidity": 0.2
            },
            "type": "scatter"
           }
          ],
          "scatter3d": [
           {
            "line": {
             "colorbar": {
              "outlinewidth": 0,
              "ticks": ""
             }
            },
            "marker": {
             "colorbar": {
              "outlinewidth": 0,
              "ticks": ""
             }
            },
            "type": "scatter3d"
           }
          ],
          "scattercarpet": [
           {
            "marker": {
             "colorbar": {
              "outlinewidth": 0,
              "ticks": ""
             }
            },
            "type": "scattercarpet"
           }
          ],
          "scattergeo": [
           {
            "marker": {
             "colorbar": {
              "outlinewidth": 0,
              "ticks": ""
             }
            },
            "type": "scattergeo"
           }
          ],
          "scattergl": [
           {
            "marker": {
             "colorbar": {
              "outlinewidth": 0,
              "ticks": ""
             }
            },
            "type": "scattergl"
           }
          ],
          "scattermapbox": [
           {
            "marker": {
             "colorbar": {
              "outlinewidth": 0,
              "ticks": ""
             }
            },
            "type": "scattermapbox"
           }
          ],
          "scatterpolar": [
           {
            "marker": {
             "colorbar": {
              "outlinewidth": 0,
              "ticks": ""
             }
            },
            "type": "scatterpolar"
           }
          ],
          "scatterpolargl": [
           {
            "marker": {
             "colorbar": {
              "outlinewidth": 0,
              "ticks": ""
             }
            },
            "type": "scatterpolargl"
           }
          ],
          "scatterternary": [
           {
            "marker": {
             "colorbar": {
              "outlinewidth": 0,
              "ticks": ""
             }
            },
            "type": "scatterternary"
           }
          ],
          "surface": [
           {
            "colorbar": {
             "outlinewidth": 0,
             "ticks": ""
            },
            "colorscale": [
             [
              0,
              "#0d0887"
             ],
             [
              0.1111111111111111,
              "#46039f"
             ],
             [
              0.2222222222222222,
              "#7201a8"
             ],
             [
              0.3333333333333333,
              "#9c179e"
             ],
             [
              0.4444444444444444,
              "#bd3786"
             ],
             [
              0.5555555555555556,
              "#d8576b"
             ],
             [
              0.6666666666666666,
              "#ed7953"
             ],
             [
              0.7777777777777778,
              "#fb9f3a"
             ],
             [
              0.8888888888888888,
              "#fdca26"
             ],
             [
              1,
              "#f0f921"
             ]
            ],
            "type": "surface"
           }
          ],
          "table": [
           {
            "cells": {
             "fill": {
              "color": "#EBF0F8"
             },
             "line": {
              "color": "white"
             }
            },
            "header": {
             "fill": {
              "color": "#C8D4E3"
             },
             "line": {
              "color": "white"
             }
            },
            "type": "table"
           }
          ]
         },
         "layout": {
          "annotationdefaults": {
           "arrowcolor": "#2a3f5f",
           "arrowhead": 0,
           "arrowwidth": 1
          },
          "autotypenumbers": "strict",
          "coloraxis": {
           "colorbar": {
            "outlinewidth": 0,
            "ticks": ""
           }
          },
          "colorscale": {
           "diverging": [
            [
             0,
             "#8e0152"
            ],
            [
             0.1,
             "#c51b7d"
            ],
            [
             0.2,
             "#de77ae"
            ],
            [
             0.3,
             "#f1b6da"
            ],
            [
             0.4,
             "#fde0ef"
            ],
            [
             0.5,
             "#f7f7f7"
            ],
            [
             0.6,
             "#e6f5d0"
            ],
            [
             0.7,
             "#b8e186"
            ],
            [
             0.8,
             "#7fbc41"
            ],
            [
             0.9,
             "#4d9221"
            ],
            [
             1,
             "#276419"
            ]
           ],
           "sequential": [
            [
             0,
             "#0d0887"
            ],
            [
             0.1111111111111111,
             "#46039f"
            ],
            [
             0.2222222222222222,
             "#7201a8"
            ],
            [
             0.3333333333333333,
             "#9c179e"
            ],
            [
             0.4444444444444444,
             "#bd3786"
            ],
            [
             0.5555555555555556,
             "#d8576b"
            ],
            [
             0.6666666666666666,
             "#ed7953"
            ],
            [
             0.7777777777777778,
             "#fb9f3a"
            ],
            [
             0.8888888888888888,
             "#fdca26"
            ],
            [
             1,
             "#f0f921"
            ]
           ],
           "sequentialminus": [
            [
             0,
             "#0d0887"
            ],
            [
             0.1111111111111111,
             "#46039f"
            ],
            [
             0.2222222222222222,
             "#7201a8"
            ],
            [
             0.3333333333333333,
             "#9c179e"
            ],
            [
             0.4444444444444444,
             "#bd3786"
            ],
            [
             0.5555555555555556,
             "#d8576b"
            ],
            [
             0.6666666666666666,
             "#ed7953"
            ],
            [
             0.7777777777777778,
             "#fb9f3a"
            ],
            [
             0.8888888888888888,
             "#fdca26"
            ],
            [
             1,
             "#f0f921"
            ]
           ]
          },
          "colorway": [
           "#636efa",
           "#EF553B",
           "#00cc96",
           "#ab63fa",
           "#FFA15A",
           "#19d3f3",
           "#FF6692",
           "#B6E880",
           "#FF97FF",
           "#FECB52"
          ],
          "font": {
           "color": "#2a3f5f"
          },
          "geo": {
           "bgcolor": "white",
           "lakecolor": "white",
           "landcolor": "#E5ECF6",
           "showlakes": true,
           "showland": true,
           "subunitcolor": "white"
          },
          "hoverlabel": {
           "align": "left"
          },
          "hovermode": "closest",
          "mapbox": {
           "style": "light"
          },
          "paper_bgcolor": "white",
          "plot_bgcolor": "#E5ECF6",
          "polar": {
           "angularaxis": {
            "gridcolor": "white",
            "linecolor": "white",
            "ticks": ""
           },
           "bgcolor": "#E5ECF6",
           "radialaxis": {
            "gridcolor": "white",
            "linecolor": "white",
            "ticks": ""
           }
          },
          "scene": {
           "xaxis": {
            "backgroundcolor": "#E5ECF6",
            "gridcolor": "white",
            "gridwidth": 2,
            "linecolor": "white",
            "showbackground": true,
            "ticks": "",
            "zerolinecolor": "white"
           },
           "yaxis": {
            "backgroundcolor": "#E5ECF6",
            "gridcolor": "white",
            "gridwidth": 2,
            "linecolor": "white",
            "showbackground": true,
            "ticks": "",
            "zerolinecolor": "white"
           },
           "zaxis": {
            "backgroundcolor": "#E5ECF6",
            "gridcolor": "white",
            "gridwidth": 2,
            "linecolor": "white",
            "showbackground": true,
            "ticks": "",
            "zerolinecolor": "white"
           }
          },
          "shapedefaults": {
           "line": {
            "color": "#2a3f5f"
           }
          },
          "ternary": {
           "aaxis": {
            "gridcolor": "white",
            "linecolor": "white",
            "ticks": ""
           },
           "baxis": {
            "gridcolor": "white",
            "linecolor": "white",
            "ticks": ""
           },
           "bgcolor": "#E5ECF6",
           "caxis": {
            "gridcolor": "white",
            "linecolor": "white",
            "ticks": ""
           }
          },
          "title": {
           "x": 0.05
          },
          "xaxis": {
           "automargin": true,
           "gridcolor": "white",
           "linecolor": "white",
           "ticks": "",
           "title": {
            "standoff": 15
           },
           "zerolinecolor": "white",
           "zerolinewidth": 2
          },
          "yaxis": {
           "automargin": true,
           "gridcolor": "white",
           "linecolor": "white",
           "ticks": "",
           "title": {
            "standoff": 15
           },
           "zerolinecolor": "white",
           "zerolinewidth": 2
          }
         }
        },
        "title": {
         "font": {
          "size": 18
         },
         "text": "Most similar and different tracks from centroid 1 profile (blue) of user '19a7ec5c51a370817f99cf18decde4b8f469bfd3'",
         "x": 0.5,
         "y": 0.99
        },
        "width": 1200
       }
      }
     },
     "metadata": {},
     "output_type": "display_data"
    },
    {
     "name": "stdout",
     "output_type": "stream",
     "text": [
      "['Birthdays - George Lopez',\n",
      " '(Kanji) Ooioo - OOIOO',\n",
      " \"My Uncle's Heart Attack - George Lopez\",\n",
      " 'Cheerleader Corpses - Pig Destroyer',\n",
      " 'The Bike - George Lopez',\n",
      " 'See - Goldmund',\n",
      " \"You're Gonna Say No - George Lopez\",\n",
      " 'Requiem - Herbert Howells: III. Requiem Aeternam (I) - Dale Warland Singers',\n",
      " 'Clocks - George Lopez',\n",
      " 'Ergot - Genghis Tron']\n"
     ]
    },
    {
     "data": {
      "application/vnd.plotly.v1+json": {
       "config": {
        "plotlyServerURL": "https://plot.ly"
       },
       "data": [
        {
         "fill": "toself",
         "line": {
          "color": "#636EFA"
         },
         "mode": "lines+markers",
         "name": "Cluster center centroid 2 profile",
         "r": [
          0.09855571119250922,
          -0.39844187004092363,
          -2.0677078811058562,
          10.426300685615974,
          2.0393230395908626,
          -0.4546224450631595,
          2.516015748776413,
          -1.0680132738829227,
          -1.094156210108257
         ],
         "subplot": "polar",
         "theta": [
          "Danceability",
          "Energy",
          "Loudness",
          "Speechiness",
          "Acousticness",
          "instrumentalness",
          "Liveness",
          "Valence",
          "Tempo"
         ],
         "type": "scatterpolar"
        },
        {
         "fill": "toself",
         "line": {
          "color": "#EF553B"
         },
         "name": "Closest track rank 1",
         "r": [
          -0.04844073162628488,
          -0.20634628496164967,
          -1.6707579787968514,
          8.703543012570291,
          1.8229738929942667,
          -0.6235690916720154,
          3.4457937112656865,
          -0.7645990159389028,
          -0.4923375644644465
         ],
         "subplot": "polar",
         "theta": [
          "Danceability",
          "Energy",
          "Loudness",
          "Speechiness",
          "Acousticness",
          "instrumentalness",
          "Liveness",
          "Valence",
          "Tempo"
         ],
         "type": "scatterpolar"
        },
        {
         "fill": "toself",
         "line": {
          "color": "#636EFA"
         },
         "mode": "lines+markers",
         "name": "Cluster center centroid 2 profile",
         "r": [
          0.09855571119250922,
          -0.39844187004092363,
          -2.0677078811058562,
          10.426300685615974,
          2.0393230395908626,
          -0.4546224450631595,
          2.516015748776413,
          -1.0680132738829227,
          -1.094156210108257
         ],
         "showlegend": false,
         "subplot": "polar2",
         "theta": [
          "Danceability",
          "Energy",
          "Loudness",
          "Speechiness",
          "Acousticness",
          "instrumentalness",
          "Liveness",
          "Valence",
          "Tempo"
         ],
         "type": "scatterpolar"
        },
        {
         "fill": "toself",
         "line": {
          "color": "#B6E880"
         },
         "name": "Furthest track rank 1",
         "r": [
          -2.854597924456238,
          -2.4412798457493565,
          -8.00310504882673,
          -0.7975816773301675,
          1.105563966260484,
          2.237118641806075,
          -0.5918801675879304,
          -1.8497772890596542,
          -4.040645696797743
         ],
         "subplot": "polar2",
         "theta": [
          "Danceability",
          "Energy",
          "Loudness",
          "Speechiness",
          "Acousticness",
          "instrumentalness",
          "Liveness",
          "Valence",
          "Tempo"
         ],
         "type": "scatterpolar"
        },
        {
         "fill": "toself",
         "line": {
          "color": "#636EFA"
         },
         "mode": "lines+markers",
         "name": "Cluster center centroid 2 profile",
         "r": [
          0.09855571119250922,
          -0.39844187004092363,
          -2.0677078811058562,
          10.426300685615974,
          2.0393230395908626,
          -0.4546224450631595,
          2.516015748776413,
          -1.0680132738829227,
          -1.094156210108257
         ],
         "showlegend": false,
         "subplot": "polar3",
         "theta": [
          "Danceability",
          "Energy",
          "Loudness",
          "Speechiness",
          "Acousticness",
          "instrumentalness",
          "Liveness",
          "Valence",
          "Tempo"
         ],
         "type": "scatterpolar"
        },
        {
         "fill": "toself",
         "line": {
          "color": "#EF553B"
         },
         "name": "Closest track rank 2",
         "r": [
          -0.45650741504578013,
          -0.19458554003556106,
          -1.6718833292624689,
          8.62311021096267,
          1.6930979579821164,
          -0.6235690916720154,
          2.7213561815505254,
          -0.1719839306176411,
          -1.0107731235358701
         ],
         "subplot": "polar3",
         "theta": [
          "Danceability",
          "Energy",
          "Loudness",
          "Speechiness",
          "Acousticness",
          "instrumentalness",
          "Liveness",
          "Valence",
          "Tempo"
         ],
         "type": "scatterpolar"
        },
        {
         "fill": "toself",
         "line": {
          "color": "#636EFA"
         },
         "mode": "lines+markers",
         "name": "Cluster center centroid 2 profile",
         "r": [
          0.09855571119250922,
          -0.39844187004092363,
          -2.0677078811058562,
          10.426300685615974,
          2.0393230395908626,
          -0.4546224450631595,
          2.516015748776413,
          -1.0680132738829227,
          -1.094156210108257
         ],
         "showlegend": false,
         "subplot": "polar4",
         "theta": [
          "Danceability",
          "Energy",
          "Loudness",
          "Speechiness",
          "Acousticness",
          "instrumentalness",
          "Liveness",
          "Valence",
          "Tempo"
         ],
         "type": "scatterpolar"
        },
        {
         "fill": "toself",
         "line": {
          "color": "#B6E880"
         },
         "name": "Furthest track rank 2",
         "r": [
          -2.854597924456238,
          1.3931150249864024,
          1.367913348463622,
          -0.7975816773301675,
          -0.8487527314619892,
          -0.6221189453875263,
          -0.8379758578294042,
          -1.8497772890596542,
          -4.040645696797743
         ],
         "subplot": "polar4",
         "theta": [
          "Danceability",
          "Energy",
          "Loudness",
          "Speechiness",
          "Acousticness",
          "instrumentalness",
          "Liveness",
          "Valence",
          "Tempo"
         ],
         "type": "scatterpolar"
        },
        {
         "fill": "toself",
         "line": {
          "color": "#636EFA"
         },
         "mode": "lines+markers",
         "name": "Cluster center centroid 2 profile",
         "r": [
          0.09855571119250922,
          -0.39844187004092363,
          -2.0677078811058562,
          10.426300685615974,
          2.0393230395908626,
          -0.4546224450631595,
          2.516015748776413,
          -1.0680132738829227,
          -1.094156210108257
         ],
         "showlegend": false,
         "subplot": "polar5",
         "theta": [
          "Danceability",
          "Energy",
          "Loudness",
          "Speechiness",
          "Acousticness",
          "instrumentalness",
          "Liveness",
          "Valence",
          "Tempo"
         ],
         "type": "scatterpolar"
        },
        {
         "fill": "toself",
         "line": {
          "color": "#EF553B"
         },
         "name": "Closest track rank 3",
         "r": [
          -0.30557864172624066,
          -0.11226032555294065,
          -1.491377114577416,
          8.48235280814933,
          1.8631735871646937,
          -0.6235651311884652,
          2.9876935086516876,
          -0.483684072897006,
          -0.8367318841321582
         ],
         "subplot": "polar5",
         "theta": [
          "Danceability",
          "Energy",
          "Loudness",
          "Speechiness",
          "Acousticness",
          "instrumentalness",
          "Liveness",
          "Valence",
          "Tempo"
         ],
         "type": "scatterpolar"
        },
        {
         "fill": "toself",
         "line": {
          "color": "#636EFA"
         },
         "mode": "lines+markers",
         "name": "Cluster center centroid 2 profile",
         "r": [
          0.09855571119250922,
          -0.39844187004092363,
          -2.0677078811058562,
          10.426300685615974,
          2.0393230395908626,
          -0.4546224450631595,
          2.516015748776413,
          -1.0680132738829227,
          -1.094156210108257
         ],
         "showlegend": false,
         "subplot": "polar6",
         "theta": [
          "Danceability",
          "Energy",
          "Loudness",
          "Speechiness",
          "Acousticness",
          "instrumentalness",
          "Liveness",
          "Valence",
          "Tempo"
         ],
         "type": "scatterpolar"
        },
        {
         "fill": "toself",
         "line": {
          "color": "#B6E880"
         },
         "name": "Furthest track rank 3",
         "r": [
          -2.403488590867837,
          -2.4766012830107096,
          -7.084593998789698,
          -0.43663948011595954,
          2.0425260688481397,
          2.2096999095363175,
          -0.538612702167698,
          -1.5084463925142264,
          1.6538055615999219
         ],
         "subplot": "polar6",
         "theta": [
          "Danceability",
          "Energy",
          "Loudness",
          "Speechiness",
          "Acousticness",
          "instrumentalness",
          "Liveness",
          "Valence",
          "Tempo"
         ],
         "type": "scatterpolar"
        },
        {
         "fill": "toself",
         "line": {
          "color": "#636EFA"
         },
         "mode": "lines+markers",
         "name": "Cluster center centroid 2 profile",
         "r": [
          0.09855571119250922,
          -0.39844187004092363,
          -2.0677078811058562,
          10.426300685615974,
          2.0393230395908626,
          -0.4546224450631595,
          2.516015748776413,
          -1.0680132738829227,
          -1.094156210108257
         ],
         "showlegend": false,
         "subplot": "polar7",
         "theta": [
          "Danceability",
          "Energy",
          "Loudness",
          "Speechiness",
          "Acousticness",
          "instrumentalness",
          "Liveness",
          "Valence",
          "Tempo"
         ],
         "type": "scatterpolar"
        },
        {
         "fill": "toself",
         "line": {
          "color": "#EF553B"
         },
         "name": "Closest track rank 4",
         "r": [
          -0.2943987325914606,
          -0.425880190248637,
          -1.8278569037970598,
          8.592947910359811,
          1.6683596846464686,
          -0.6235690916720154,
          2.747989914260642,
          -0.245098778806628,
          -1.8540657268322063
         ],
         "subplot": "polar7",
         "theta": [
          "Danceability",
          "Energy",
          "Loudness",
          "Speechiness",
          "Acousticness",
          "instrumentalness",
          "Liveness",
          "Valence",
          "Tempo"
         ],
         "type": "scatterpolar"
        },
        {
         "fill": "toself",
         "line": {
          "color": "#636EFA"
         },
         "mode": "lines+markers",
         "name": "Cluster center centroid 2 profile",
         "r": [
          0.09855571119250922,
          -0.39844187004092363,
          -2.0677078811058562,
          10.426300685615974,
          2.0393230395908626,
          -0.4546224450631595,
          2.516015748776413,
          -1.0680132738829227,
          -1.094156210108257
         ],
         "showlegend": false,
         "subplot": "polar8",
         "theta": [
          "Danceability",
          "Energy",
          "Loudness",
          "Speechiness",
          "Acousticness",
          "instrumentalness",
          "Liveness",
          "Valence",
          "Tempo"
         ],
         "type": "scatterpolar"
        },
        {
         "fill": "toself",
         "line": {
          "color": "#B6E880"
         },
         "name": "Furthest track rank 4",
         "r": [
          -2.399575622670664,
          -2.488793255250755,
          -7.302461848933255,
          -0.39340684925186226,
          2.184771140528113,
          2.1396298159580467,
          -0.7367676735309625,
          -1.7331783469477438,
          -1.2809058605255956
         ],
         "subplot": "polar8",
         "theta": [
          "Danceability",
          "Energy",
          "Loudness",
          "Speechiness",
          "Acousticness",
          "instrumentalness",
          "Liveness",
          "Valence",
          "Tempo"
         ],
         "type": "scatterpolar"
        },
        {
         "fill": "toself",
         "line": {
          "color": "#636EFA"
         },
         "mode": "lines+markers",
         "name": "Cluster center centroid 2 profile",
         "r": [
          0.09855571119250922,
          -0.39844187004092363,
          -2.0677078811058562,
          10.426300685615974,
          2.0393230395908626,
          -0.4546224450631595,
          2.516015748776413,
          -1.0680132738829227,
          -1.094156210108257
         ],
         "showlegend": false,
         "subplot": "polar9",
         "theta": [
          "Danceability",
          "Energy",
          "Loudness",
          "Speechiness",
          "Acousticness",
          "instrumentalness",
          "Liveness",
          "Valence",
          "Tempo"
         ],
         "type": "scatterpolar"
        },
        {
         "fill": "toself",
         "line": {
          "color": "#EF553B"
         },
         "name": "Closest track rank 5",
         "r": [
          -0.2999886871588503,
          0.14255581451231294,
          -1.2912898017906176,
          8.683434812168386,
          1.7611282096551475,
          -0.6235690916720154,
          3.392526245845454,
          -0.5760396706094103,
          -0.8828172600491013
         ],
         "subplot": "polar9",
         "theta": [
          "Danceability",
          "Energy",
          "Loudness",
          "Speechiness",
          "Acousticness",
          "instrumentalness",
          "Liveness",
          "Valence",
          "Tempo"
         ],
         "type": "scatterpolar"
        },
        {
         "fill": "toself",
         "line": {
          "color": "#636EFA"
         },
         "mode": "lines+markers",
         "name": "Cluster center centroid 2 profile",
         "r": [
          0.09855571119250922,
          -0.39844187004092363,
          -2.0677078811058562,
          10.426300685615974,
          2.0393230395908626,
          -0.4546224450631595,
          2.516015748776413,
          -1.0680132738829227,
          -1.094156210108257
         ],
         "showlegend": false,
         "subplot": "polar10",
         "theta": [
          "Danceability",
          "Energy",
          "Loudness",
          "Speechiness",
          "Acousticness",
          "instrumentalness",
          "Liveness",
          "Valence",
          "Tempo"
         ],
         "type": "scatterpolar"
        },
        {
         "fill": "toself",
         "line": {
          "color": "#B6E880"
         },
         "name": "Furthest track rank 5",
         "r": [
          -2.854597924456238,
          -2.50498388076567,
          -2.387606225395222,
          -0.7975816773301675,
          -0.8451725776220126,
          2.0573736191487724,
          -0.5918801675879304,
          -1.8497772890596542,
          -4.040645696797743
         ],
         "subplot": "polar10",
         "theta": [
          "Danceability",
          "Energy",
          "Loudness",
          "Speechiness",
          "Acousticness",
          "instrumentalness",
          "Liveness",
          "Valence",
          "Tempo"
         ],
         "type": "scatterpolar"
        }
       ],
       "layout": {
        "annotations": [
         {
          "font": {
           "size": 16
          },
          "showarrow": false,
          "text": "Birthdays - George Lopez",
          "x": 0.25,
          "xanchor": "center",
          "xref": "paper",
          "y": 1.03,
          "yanchor": "bottom",
          "yref": "paper"
         },
         {
          "font": {
           "size": 16
          },
          "showarrow": false,
          "text": "(Kanji) Ooioo - OOIOO",
          "x": 0.75,
          "xanchor": "center",
          "xref": "paper",
          "y": 1.03,
          "yanchor": "bottom",
          "yref": "paper"
         },
         {
          "font": {
           "size": 16
          },
          "showarrow": false,
          "text": "My Uncle's Heart Attack - George Lopez",
          "x": 0.25,
          "xanchor": "center",
          "xref": "paper",
          "y": 0.82,
          "yanchor": "bottom",
          "yref": "paper"
         },
         {
          "font": {
           "size": 16
          },
          "showarrow": false,
          "text": "Cheerleader Corpses - Pig Destroyer",
          "x": 0.75,
          "xanchor": "center",
          "xref": "paper",
          "y": 0.82,
          "yanchor": "bottom",
          "yref": "paper"
         },
         {
          "font": {
           "size": 16
          },
          "showarrow": false,
          "text": "The Bike - George Lopez",
          "x": 0.25,
          "xanchor": "center",
          "xref": "paper",
          "y": 0.6,
          "yanchor": "bottom",
          "yref": "paper"
         },
         {
          "font": {
           "size": 16
          },
          "showarrow": false,
          "text": "See - Goldmund",
          "x": 0.75,
          "xanchor": "center",
          "xref": "paper",
          "y": 0.6,
          "yanchor": "bottom",
          "yref": "paper"
         },
         {
          "font": {
           "size": 16
          },
          "showarrow": false,
          "text": "You're Gonna Say No - George Lopez",
          "x": 0.25,
          "xanchor": "center",
          "xref": "paper",
          "y": 0.38,
          "yanchor": "bottom",
          "yref": "paper"
         },
         {
          "font": {
           "size": 16
          },
          "showarrow": false,
          "text": "Requiem - Herbert Howells: III. Requiem Aeternam (I) - Dale Warland Singers",
          "x": 0.75,
          "xanchor": "center",
          "xref": "paper",
          "y": 0.38,
          "yanchor": "bottom",
          "yref": "paper"
         },
         {
          "font": {
           "size": 16
          },
          "showarrow": false,
          "text": "Clocks - George Lopez",
          "x": 0.25,
          "xanchor": "center",
          "xref": "paper",
          "y": 0.16,
          "yanchor": "bottom",
          "yref": "paper"
         },
         {
          "font": {
           "size": 16
          },
          "showarrow": false,
          "text": "Ergot - Genghis Tron",
          "x": 0.75,
          "xanchor": "center",
          "xref": "paper",
          "y": 0.16,
          "yanchor": "bottom",
          "yref": "paper"
         },
         {
          "font": {
           "color": "black",
           "size": 20
          },
          "showarrow": false,
          "text": "Closest tracks from centroid 2",
          "x": 0.12,
          "y": 1.09
         },
         {
          "font": {
           "color": "black",
           "size": 22
          },
          "showarrow": false,
          "text": "Furthest tracks from centroid 2",
          "x": 0.9,
          "y": 1.09
         },
         {
          "font": {
           "color": "black",
           "size": 22
          },
          "showarrow": false,
          "text": "Rank",
          "x": 0.005,
          "y": 1.09
         },
         {
          "font": {
           "color": "black",
           "size": 22
          },
          "showarrow": false,
          "text": "1",
          "x": 0.02,
          "y": 1.05
         },
         {
          "font": {
           "color": "black",
           "size": 22
          },
          "showarrow": false,
          "text": "2",
          "x": 0.02,
          "y": 0.84
         },
         {
          "font": {
           "color": "black",
           "size": 22
          },
          "showarrow": false,
          "text": "3",
          "x": 0.02,
          "y": 0.608
         },
         {
          "font": {
           "color": "black",
           "size": 22
          },
          "showarrow": false,
          "text": "4",
          "x": 0.02,
          "y": 0.389
         },
         {
          "font": {
           "color": "black",
           "size": 22
          },
          "showarrow": false,
          "text": "5",
          "x": 0.02,
          "y": 0.159
         }
        ],
        "height": 1600,
        "margin": {
         "b": 50,
         "l": 50,
         "r": 50,
         "t": 200
        },
        "polar": {
         "domain": {
          "x": [
           0,
           0.5
          ],
          "y": [
           0.88,
           1
          ]
         },
         "radialaxis": {
          "range": [
           -2.0677078811058562,
           10.426300685615974
          ],
          "showticklabels": false,
          "ticks": ""
         }
        },
        "polar10": {
         "domain": {
          "x": [
           0.5,
           1
          ],
          "y": [
           0,
           0.12
          ]
         },
         "radialaxis": {
          "range": [
           -8.00310504882673,
           10.426300685615974
          ],
          "showticklabels": false,
          "ticks": ""
         }
        },
        "polar2": {
         "domain": {
          "x": [
           0.5,
           1
          ],
          "y": [
           0.88,
           1
          ]
         },
         "radialaxis": {
          "range": [
           -8.00310504882673,
           10.426300685615974
          ],
          "showticklabels": false,
          "ticks": ""
         }
        },
        "polar3": {
         "domain": {
          "x": [
           0,
           0.5
          ],
          "y": [
           0.66,
           0.78
          ]
         },
         "radialaxis": {
          "range": [
           -2.0677078811058562,
           10.426300685615974
          ],
          "showticklabels": false,
          "ticks": ""
         }
        },
        "polar4": {
         "domain": {
          "x": [
           0.5,
           1
          ],
          "y": [
           0.66,
           0.78
          ]
         },
         "radialaxis": {
          "range": [
           -8.00310504882673,
           10.426300685615974
          ],
          "showticklabels": false,
          "ticks": ""
         }
        },
        "polar5": {
         "domain": {
          "x": [
           0,
           0.5
          ],
          "y": [
           0.44,
           0.56
          ]
         },
         "radialaxis": {
          "range": [
           -2.0677078811058562,
           10.426300685615974
          ],
          "showticklabels": false,
          "ticks": ""
         }
        },
        "polar6": {
         "domain": {
          "x": [
           0.5,
           1
          ],
          "y": [
           0.44,
           0.56
          ]
         },
         "radialaxis": {
          "range": [
           -8.00310504882673,
           10.426300685615974
          ],
          "showticklabels": false,
          "ticks": ""
         }
        },
        "polar7": {
         "domain": {
          "x": [
           0,
           0.5
          ],
          "y": [
           0.22,
           0.33999999999999997
          ]
         },
         "radialaxis": {
          "range": [
           -2.0677078811058562,
           10.426300685615974
          ],
          "showticklabels": false,
          "ticks": ""
         }
        },
        "polar8": {
         "domain": {
          "x": [
           0.5,
           1
          ],
          "y": [
           0.22,
           0.33999999999999997
          ]
         },
         "radialaxis": {
          "range": [
           -8.00310504882673,
           10.426300685615974
          ],
          "showticklabels": false,
          "ticks": ""
         }
        },
        "polar9": {
         "domain": {
          "x": [
           0,
           0.5
          ],
          "y": [
           0,
           0.12
          ]
         },
         "radialaxis": {
          "range": [
           -2.0677078811058562,
           10.426300685615974
          ],
          "showticklabels": false,
          "ticks": ""
         }
        },
        "showlegend": false,
        "template": {
         "data": {
          "bar": [
           {
            "error_x": {
             "color": "#2a3f5f"
            },
            "error_y": {
             "color": "#2a3f5f"
            },
            "marker": {
             "line": {
              "color": "#E5ECF6",
              "width": 0.5
             },
             "pattern": {
              "fillmode": "overlay",
              "size": 10,
              "solidity": 0.2
             }
            },
            "type": "bar"
           }
          ],
          "barpolar": [
           {
            "marker": {
             "line": {
              "color": "#E5ECF6",
              "width": 0.5
             },
             "pattern": {
              "fillmode": "overlay",
              "size": 10,
              "solidity": 0.2
             }
            },
            "type": "barpolar"
           }
          ],
          "carpet": [
           {
            "aaxis": {
             "endlinecolor": "#2a3f5f",
             "gridcolor": "white",
             "linecolor": "white",
             "minorgridcolor": "white",
             "startlinecolor": "#2a3f5f"
            },
            "baxis": {
             "endlinecolor": "#2a3f5f",
             "gridcolor": "white",
             "linecolor": "white",
             "minorgridcolor": "white",
             "startlinecolor": "#2a3f5f"
            },
            "type": "carpet"
           }
          ],
          "choropleth": [
           {
            "colorbar": {
             "outlinewidth": 0,
             "ticks": ""
            },
            "type": "choropleth"
           }
          ],
          "contour": [
           {
            "colorbar": {
             "outlinewidth": 0,
             "ticks": ""
            },
            "colorscale": [
             [
              0,
              "#0d0887"
             ],
             [
              0.1111111111111111,
              "#46039f"
             ],
             [
              0.2222222222222222,
              "#7201a8"
             ],
             [
              0.3333333333333333,
              "#9c179e"
             ],
             [
              0.4444444444444444,
              "#bd3786"
             ],
             [
              0.5555555555555556,
              "#d8576b"
             ],
             [
              0.6666666666666666,
              "#ed7953"
             ],
             [
              0.7777777777777778,
              "#fb9f3a"
             ],
             [
              0.8888888888888888,
              "#fdca26"
             ],
             [
              1,
              "#f0f921"
             ]
            ],
            "type": "contour"
           }
          ],
          "contourcarpet": [
           {
            "colorbar": {
             "outlinewidth": 0,
             "ticks": ""
            },
            "type": "contourcarpet"
           }
          ],
          "heatmap": [
           {
            "colorbar": {
             "outlinewidth": 0,
             "ticks": ""
            },
            "colorscale": [
             [
              0,
              "#0d0887"
             ],
             [
              0.1111111111111111,
              "#46039f"
             ],
             [
              0.2222222222222222,
              "#7201a8"
             ],
             [
              0.3333333333333333,
              "#9c179e"
             ],
             [
              0.4444444444444444,
              "#bd3786"
             ],
             [
              0.5555555555555556,
              "#d8576b"
             ],
             [
              0.6666666666666666,
              "#ed7953"
             ],
             [
              0.7777777777777778,
              "#fb9f3a"
             ],
             [
              0.8888888888888888,
              "#fdca26"
             ],
             [
              1,
              "#f0f921"
             ]
            ],
            "type": "heatmap"
           }
          ],
          "heatmapgl": [
           {
            "colorbar": {
             "outlinewidth": 0,
             "ticks": ""
            },
            "colorscale": [
             [
              0,
              "#0d0887"
             ],
             [
              0.1111111111111111,
              "#46039f"
             ],
             [
              0.2222222222222222,
              "#7201a8"
             ],
             [
              0.3333333333333333,
              "#9c179e"
             ],
             [
              0.4444444444444444,
              "#bd3786"
             ],
             [
              0.5555555555555556,
              "#d8576b"
             ],
             [
              0.6666666666666666,
              "#ed7953"
             ],
             [
              0.7777777777777778,
              "#fb9f3a"
             ],
             [
              0.8888888888888888,
              "#fdca26"
             ],
             [
              1,
              "#f0f921"
             ]
            ],
            "type": "heatmapgl"
           }
          ],
          "histogram": [
           {
            "marker": {
             "pattern": {
              "fillmode": "overlay",
              "size": 10,
              "solidity": 0.2
             }
            },
            "type": "histogram"
           }
          ],
          "histogram2d": [
           {
            "colorbar": {
             "outlinewidth": 0,
             "ticks": ""
            },
            "colorscale": [
             [
              0,
              "#0d0887"
             ],
             [
              0.1111111111111111,
              "#46039f"
             ],
             [
              0.2222222222222222,
              "#7201a8"
             ],
             [
              0.3333333333333333,
              "#9c179e"
             ],
             [
              0.4444444444444444,
              "#bd3786"
             ],
             [
              0.5555555555555556,
              "#d8576b"
             ],
             [
              0.6666666666666666,
              "#ed7953"
             ],
             [
              0.7777777777777778,
              "#fb9f3a"
             ],
             [
              0.8888888888888888,
              "#fdca26"
             ],
             [
              1,
              "#f0f921"
             ]
            ],
            "type": "histogram2d"
           }
          ],
          "histogram2dcontour": [
           {
            "colorbar": {
             "outlinewidth": 0,
             "ticks": ""
            },
            "colorscale": [
             [
              0,
              "#0d0887"
             ],
             [
              0.1111111111111111,
              "#46039f"
             ],
             [
              0.2222222222222222,
              "#7201a8"
             ],
             [
              0.3333333333333333,
              "#9c179e"
             ],
             [
              0.4444444444444444,
              "#bd3786"
             ],
             [
              0.5555555555555556,
              "#d8576b"
             ],
             [
              0.6666666666666666,
              "#ed7953"
             ],
             [
              0.7777777777777778,
              "#fb9f3a"
             ],
             [
              0.8888888888888888,
              "#fdca26"
             ],
             [
              1,
              "#f0f921"
             ]
            ],
            "type": "histogram2dcontour"
           }
          ],
          "mesh3d": [
           {
            "colorbar": {
             "outlinewidth": 0,
             "ticks": ""
            },
            "type": "mesh3d"
           }
          ],
          "parcoords": [
           {
            "line": {
             "colorbar": {
              "outlinewidth": 0,
              "ticks": ""
             }
            },
            "type": "parcoords"
           }
          ],
          "pie": [
           {
            "automargin": true,
            "type": "pie"
           }
          ],
          "scatter": [
           {
            "fillpattern": {
             "fillmode": "overlay",
             "size": 10,
             "solidity": 0.2
            },
            "type": "scatter"
           }
          ],
          "scatter3d": [
           {
            "line": {
             "colorbar": {
              "outlinewidth": 0,
              "ticks": ""
             }
            },
            "marker": {
             "colorbar": {
              "outlinewidth": 0,
              "ticks": ""
             }
            },
            "type": "scatter3d"
           }
          ],
          "scattercarpet": [
           {
            "marker": {
             "colorbar": {
              "outlinewidth": 0,
              "ticks": ""
             }
            },
            "type": "scattercarpet"
           }
          ],
          "scattergeo": [
           {
            "marker": {
             "colorbar": {
              "outlinewidth": 0,
              "ticks": ""
             }
            },
            "type": "scattergeo"
           }
          ],
          "scattergl": [
           {
            "marker": {
             "colorbar": {
              "outlinewidth": 0,
              "ticks": ""
             }
            },
            "type": "scattergl"
           }
          ],
          "scattermapbox": [
           {
            "marker": {
             "colorbar": {
              "outlinewidth": 0,
              "ticks": ""
             }
            },
            "type": "scattermapbox"
           }
          ],
          "scatterpolar": [
           {
            "marker": {
             "colorbar": {
              "outlinewidth": 0,
              "ticks": ""
             }
            },
            "type": "scatterpolar"
           }
          ],
          "scatterpolargl": [
           {
            "marker": {
             "colorbar": {
              "outlinewidth": 0,
              "ticks": ""
             }
            },
            "type": "scatterpolargl"
           }
          ],
          "scatterternary": [
           {
            "marker": {
             "colorbar": {
              "outlinewidth": 0,
              "ticks": ""
             }
            },
            "type": "scatterternary"
           }
          ],
          "surface": [
           {
            "colorbar": {
             "outlinewidth": 0,
             "ticks": ""
            },
            "colorscale": [
             [
              0,
              "#0d0887"
             ],
             [
              0.1111111111111111,
              "#46039f"
             ],
             [
              0.2222222222222222,
              "#7201a8"
             ],
             [
              0.3333333333333333,
              "#9c179e"
             ],
             [
              0.4444444444444444,
              "#bd3786"
             ],
             [
              0.5555555555555556,
              "#d8576b"
             ],
             [
              0.6666666666666666,
              "#ed7953"
             ],
             [
              0.7777777777777778,
              "#fb9f3a"
             ],
             [
              0.8888888888888888,
              "#fdca26"
             ],
             [
              1,
              "#f0f921"
             ]
            ],
            "type": "surface"
           }
          ],
          "table": [
           {
            "cells": {
             "fill": {
              "color": "#EBF0F8"
             },
             "line": {
              "color": "white"
             }
            },
            "header": {
             "fill": {
              "color": "#C8D4E3"
             },
             "line": {
              "color": "white"
             }
            },
            "type": "table"
           }
          ]
         },
         "layout": {
          "annotationdefaults": {
           "arrowcolor": "#2a3f5f",
           "arrowhead": 0,
           "arrowwidth": 1
          },
          "autotypenumbers": "strict",
          "coloraxis": {
           "colorbar": {
            "outlinewidth": 0,
            "ticks": ""
           }
          },
          "colorscale": {
           "diverging": [
            [
             0,
             "#8e0152"
            ],
            [
             0.1,
             "#c51b7d"
            ],
            [
             0.2,
             "#de77ae"
            ],
            [
             0.3,
             "#f1b6da"
            ],
            [
             0.4,
             "#fde0ef"
            ],
            [
             0.5,
             "#f7f7f7"
            ],
            [
             0.6,
             "#e6f5d0"
            ],
            [
             0.7,
             "#b8e186"
            ],
            [
             0.8,
             "#7fbc41"
            ],
            [
             0.9,
             "#4d9221"
            ],
            [
             1,
             "#276419"
            ]
           ],
           "sequential": [
            [
             0,
             "#0d0887"
            ],
            [
             0.1111111111111111,
             "#46039f"
            ],
            [
             0.2222222222222222,
             "#7201a8"
            ],
            [
             0.3333333333333333,
             "#9c179e"
            ],
            [
             0.4444444444444444,
             "#bd3786"
            ],
            [
             0.5555555555555556,
             "#d8576b"
            ],
            [
             0.6666666666666666,
             "#ed7953"
            ],
            [
             0.7777777777777778,
             "#fb9f3a"
            ],
            [
             0.8888888888888888,
             "#fdca26"
            ],
            [
             1,
             "#f0f921"
            ]
           ],
           "sequentialminus": [
            [
             0,
             "#0d0887"
            ],
            [
             0.1111111111111111,
             "#46039f"
            ],
            [
             0.2222222222222222,
             "#7201a8"
            ],
            [
             0.3333333333333333,
             "#9c179e"
            ],
            [
             0.4444444444444444,
             "#bd3786"
            ],
            [
             0.5555555555555556,
             "#d8576b"
            ],
            [
             0.6666666666666666,
             "#ed7953"
            ],
            [
             0.7777777777777778,
             "#fb9f3a"
            ],
            [
             0.8888888888888888,
             "#fdca26"
            ],
            [
             1,
             "#f0f921"
            ]
           ]
          },
          "colorway": [
           "#636efa",
           "#EF553B",
           "#00cc96",
           "#ab63fa",
           "#FFA15A",
           "#19d3f3",
           "#FF6692",
           "#B6E880",
           "#FF97FF",
           "#FECB52"
          ],
          "font": {
           "color": "#2a3f5f"
          },
          "geo": {
           "bgcolor": "white",
           "lakecolor": "white",
           "landcolor": "#E5ECF6",
           "showlakes": true,
           "showland": true,
           "subunitcolor": "white"
          },
          "hoverlabel": {
           "align": "left"
          },
          "hovermode": "closest",
          "mapbox": {
           "style": "light"
          },
          "paper_bgcolor": "white",
          "plot_bgcolor": "#E5ECF6",
          "polar": {
           "angularaxis": {
            "gridcolor": "white",
            "linecolor": "white",
            "ticks": ""
           },
           "bgcolor": "#E5ECF6",
           "radialaxis": {
            "gridcolor": "white",
            "linecolor": "white",
            "ticks": ""
           }
          },
          "scene": {
           "xaxis": {
            "backgroundcolor": "#E5ECF6",
            "gridcolor": "white",
            "gridwidth": 2,
            "linecolor": "white",
            "showbackground": true,
            "ticks": "",
            "zerolinecolor": "white"
           },
           "yaxis": {
            "backgroundcolor": "#E5ECF6",
            "gridcolor": "white",
            "gridwidth": 2,
            "linecolor": "white",
            "showbackground": true,
            "ticks": "",
            "zerolinecolor": "white"
           },
           "zaxis": {
            "backgroundcolor": "#E5ECF6",
            "gridcolor": "white",
            "gridwidth": 2,
            "linecolor": "white",
            "showbackground": true,
            "ticks": "",
            "zerolinecolor": "white"
           }
          },
          "shapedefaults": {
           "line": {
            "color": "#2a3f5f"
           }
          },
          "ternary": {
           "aaxis": {
            "gridcolor": "white",
            "linecolor": "white",
            "ticks": ""
           },
           "baxis": {
            "gridcolor": "white",
            "linecolor": "white",
            "ticks": ""
           },
           "bgcolor": "#E5ECF6",
           "caxis": {
            "gridcolor": "white",
            "linecolor": "white",
            "ticks": ""
           }
          },
          "title": {
           "x": 0.05
          },
          "xaxis": {
           "automargin": true,
           "gridcolor": "white",
           "linecolor": "white",
           "ticks": "",
           "title": {
            "standoff": 15
           },
           "zerolinecolor": "white",
           "zerolinewidth": 2
          },
          "yaxis": {
           "automargin": true,
           "gridcolor": "white",
           "linecolor": "white",
           "ticks": "",
           "title": {
            "standoff": 15
           },
           "zerolinecolor": "white",
           "zerolinewidth": 2
          }
         }
        },
        "title": {
         "font": {
          "size": 18
         },
         "text": "Most similar and different tracks from centroid 2 profile (blue) of user '19a7ec5c51a370817f99cf18decde4b8f469bfd3'",
         "x": 0.5,
         "y": 0.99
        },
        "width": 1200
       }
      }
     },
     "metadata": {},
     "output_type": "display_data"
    }
   ],
   "source": [
    "from pprint import pprint\n",
    "import plotly.graph_objects as go\n",
    "from plotly.subplots import make_subplots\n",
    "\n",
    "\n",
    "for i in range(len(similar)):\n",
    "\n",
    "    if (len(similar) == 1):\n",
    "        profile = standard_profile\n",
    "        std_prof = True\n",
    "        prof_name = \"Standard profile weighted by listening counts\"\n",
    "        fig_title = f\"Most similar and different tracks from standard profile (blue) of user '{user_name}'\"\n",
    "        col1_title = \"Closest tracks\"\n",
    "        col2_title = \"Furthest tracks\"\n",
    "\n",
    "    elif (len(similar) > 1):\n",
    "        profile = clusters_profiles    \n",
    "        std_prof = False\n",
    "        prof_name = f\"Cluster center centroid {i+1} profile\" \n",
    "        fig_title = f\"Most similar and different tracks from centroid {i+1} profile (blue) of user '{user_name}'\"\n",
    "        col1_title = f\"Closest tracks from centroid {i+1}\"\n",
    "        col2_title = f\"Furthest tracks from centroid {i+1}\"\n",
    "\n",
    "    min_sim = np.min(similar[i])\n",
    "    if min_sim > np.min(profile[i]):\n",
    "        min_sim = np.min(profile[i])\n",
    "\n",
    "    max_sim = np.max(similar[i])\n",
    "    if max_sim < np.max(profile[i]):\n",
    "        max_sim = np.max(profile[i])\n",
    "\n",
    "    min_dis = np.min(disimilar[i])\n",
    "    if min_dis > np.min(profile[i]):\n",
    "        min_dis = np.min(profile[i])\n",
    "\n",
    "    max_dis = np.max(disimilar[i])\n",
    "    if max_dis < np.max(profile[i]):\n",
    "        max_dis = np.max(profile[i])\n",
    "    \n",
    "    tracks_titles = []\n",
    "    for j in range(len(similar[i])):\n",
    "        tracks_titles.append(sim_names[i][j])\n",
    "        tracks_titles.append(dis_names[i][j])\n",
    "\n",
    "\n",
    "\n",
    "    fig = make_subplots(rows=n_neighbors, cols=2,\n",
    "                        shared_xaxes='columns', shared_yaxes='columns',\n",
    "                        vertical_spacing = 0.1,\n",
    "                        horizontal_spacing=0,\n",
    "                        #column_titles = [\"Closest tracks\", \"Furthest tracks\"],\n",
    "                        #row_heights = [0.9,0.9],\n",
    "                        subplot_titles=tracks_titles,\n",
    "                     specs = [[{'type': 'polar'}]*2]*n_neighbors)\n",
    "\n",
    "\n",
    "    trace_profile = go.Scatterpolar(r = profile[i],\n",
    "                                             theta = acoustic_variables,\n",
    "                                             mode = \"lines+markers\", line_color='#636EFA',\n",
    "                                             \n",
    "                                                                                          \n",
    "                                             name = prof_name)\n",
    "\n",
    "    #https://community.plotly.com/t/plotly-colours-list/11730/3\n",
    "    #colors_col2 = ['orange', '#8c564b', '#7f7f7f', '#2ca02c', 'pink' ]\n",
    "    \n",
    "\n",
    "    for j in range(len(similar[i])):\n",
    "        \n",
    "        fig.add_trace(trace_profile, row=j+1, col=1)\n",
    "\n",
    "        fig.add_trace(go.Scatterpolar(\n",
    "            r = similar[i][j],\n",
    "            name = f\"Closest track rank {j+1}\",\n",
    "            theta = acoustic_variables,\n",
    "            line_color = '#EF553B',\n",
    "            #text=[\"Foundbird - Papercuts\"],\n",
    "            #textposition=\"top center\"\n",
    "        ),  row=j+1, col=1)\n",
    "\n",
    "        fig.add_trace(trace_profile, row=j+1, col=2)\n",
    "\n",
    "        fig.add_trace(go.Scatterpolar(\n",
    "            r = disimilar[i][j],\n",
    "            name = f\"Furthest track rank {j+1}\",\n",
    "            theta = acoustic_variables,\n",
    "            line_color = '#B6E880',  #colors_col2[j],\n",
    "        ),  row=j+1, col=2)\n",
    "\n",
    "    \n",
    "\n",
    "    fig.update_traces(fill='toself')#,\n",
    "                      #mode = \"lines+markers\", line_color='indianred',\n",
    "                      #marker =   dict(color='lightslategray', size=8, symbol='square'))\n",
    "\n",
    "    \n",
    "    fig.update_layout(\n",
    "        height = 1600,\n",
    "        width = 1200,\n",
    "        #title_text = \"Test\",\n",
    "        title= dict(text=fig_title,\n",
    "                    x=0.5,\n",
    "                    y=0.99,\n",
    "                    #x_anchor = 'center',\n",
    "                    #y_anchor = 'top',\n",
    "                    font = dict(\n",
    "                        #family = 'Courier New')\n",
    "                        size = 18)),\n",
    "                    #margin=dict(l=50, r=50, t=200, b=50),\n",
    "                    margin=dict(l=50, r=50, t=200, b=50),\n",
    "        #paper_bgcolor=\"LightSteelBlue\",\n",
    "        polar = dict(radialaxis = dict(showticklabels=False, ticks='' ), radialaxis_range = [min_sim,max_sim]), #radialaxis_range = [-10,10]),\n",
    "                     #angularaxis = dict(showticklabels=False, ticks='')\n",
    "        polar2 = dict(radialaxis = dict(showticklabels=False, ticks='' ), radialaxis_range = [min_dis,max_dis]),\n",
    "        \n",
    "        polar3 = dict(radialaxis = dict(showticklabels=False, ticks='' ), radialaxis_range = [min_sim,max_sim]),\n",
    "\n",
    "        polar4 = dict(radialaxis = dict(showticklabels=False, ticks='' ), radialaxis_range = [min_dis,max_dis]),\n",
    "\n",
    "        polar5 = dict(radialaxis = dict(showticklabels=False, ticks='' ), radialaxis_range = [min_sim,max_sim]),\n",
    "\n",
    "        polar6 = dict(radialaxis = dict(showticklabels=False, ticks='' ), radialaxis_range = [min_dis,max_dis]),\n",
    "\n",
    "        polar7 = dict(radialaxis = dict(showticklabels=False, ticks='' ), radialaxis_range = [min_sim,max_sim]),\n",
    "\n",
    "        polar8 = dict(radialaxis = dict(showticklabels=False, ticks='' ), radialaxis_range = [min_dis,max_dis]),\n",
    "\n",
    "        polar9 = dict(radialaxis = dict(showticklabels=False, ticks='' ), radialaxis_range = [min_sim,max_sim]),\n",
    "        \n",
    "        polar10 = dict(radialaxis = dict(showticklabels=False, ticks='' ), radialaxis_range = [min_dis,max_dis]),\n",
    "                     \n",
    "        showlegend=False\n",
    "    )\n",
    "    \n",
    "    if len(similar) > 1:\n",
    "        fig.add_annotation(x= 0.12, y = 1.09,\n",
    "                           text = col1_title,\n",
    "                           showarrow=False,\n",
    "                           font = dict(color=\"black\",\n",
    "                                       size=20))\n",
    "        fig.add_annotation(x= 0.9, y = 1.09,\n",
    "                           text = col2_title,\n",
    "                           showarrow=False,\n",
    "                           font = dict(color=\"black\",\n",
    "                                       size=22))\n",
    "    elif len(similar) == 1:\n",
    "            fig.add_annotation(x= 0.19, y = 1.09,\n",
    "                           text = col1_title,\n",
    "                           showarrow=False,\n",
    "                           font = dict(color=\"black\",\n",
    "                                       size=22))\n",
    "            fig.add_annotation(x= 0.81, y = 1.09,\n",
    "                           text = col2_title,\n",
    "                           showarrow=False,\n",
    "                           font = dict(color=\"black\",\n",
    "                                       size=22))\n",
    "\n",
    "    fig.add_annotation(x= 0.005, y = 1.09,\n",
    "                           text = \"Rank\",\n",
    "                           showarrow=False,\n",
    "                           font = dict(color=\"black\",\n",
    "                                       size=22))\n",
    "    fig.add_annotation(x= 0.02, y = 1.05,\n",
    "                           text = '1',\n",
    "                           showarrow=False,\n",
    "                           font = dict(color=\"black\",\n",
    "                                       size=22))\n",
    "    \n",
    "    fig.add_annotation(x= 0.02, y = 0.84,\n",
    "                           text = '2',\n",
    "                           showarrow=False,\n",
    "                           font = dict(color=\"black\",\n",
    "                                       size=22))\n",
    "    \n",
    "    fig.add_annotation(x= 0.02, y = 0.608,\n",
    "                           text = '3',\n",
    "                           showarrow=False,\n",
    "                           font = dict(color=\"black\",\n",
    "                                       size=22))\n",
    "    \n",
    "    fig.add_annotation(x= 0.02, y = 0.389,\n",
    "                           text = '4',\n",
    "                           showarrow=False,\n",
    "                           font = dict(color=\"black\",\n",
    "                                       size=22))\n",
    "    \n",
    "    fig.add_annotation(x= 0.02, y = 0.159,\n",
    "                           text = '5',\n",
    "                           showarrow=False,\n",
    "                           font = dict(color=\"black\",\n",
    "                                       size=22))\n",
    "\n",
    "    annot =list(fig.layout.annotations)\n",
    "    annot[0].y = 1.03\n",
    "    annot[1].y = 1.03\n",
    "    annot[2].y = 0.82 \n",
    "    annot[3].y = 0.82 \n",
    "    annot[4].y = 0.6 \n",
    "    annot[5].y = 0.6 \n",
    "    annot[6].y = 0.38 \n",
    "    annot[7].y = 0.38 \n",
    "    annot[8].y = 0.16 \n",
    "    annot[9].y = 0.16 \n",
    "\n",
    "    fig.layout.annotations = annot\n",
    "\n",
    "    #https://plotly.com/python/reference/layout/polar/\n",
    "    fig.update_polars(\n",
    "        radialaxis_showticklabels = False\n",
    "    )\n",
    "    \n",
    "    pprint(tracks_titles)\n",
    "    names = set()\n",
    "    fig.for_each_trace(\n",
    "        lambda trace:\n",
    "            trace.update(showlegend=False)\n",
    "            if (trace.name in names) else names.add(trace.name))\n",
    "\n",
    "    fig.show()\n"
   ]
  },
  {
   "cell_type": "code",
   "execution_count": 20,
   "metadata": {},
   "outputs": [
    {
     "data": {
      "text/html": [
       "<div>\n",
       "<style scoped>\n",
       "    .dataframe tbody tr th:only-of-type {\n",
       "        vertical-align: middle;\n",
       "    }\n",
       "\n",
       "    .dataframe tbody tr th {\n",
       "        vertical-align: top;\n",
       "    }\n",
       "\n",
       "    .dataframe thead th {\n",
       "        text-align: right;\n",
       "    }\n",
       "</style>\n",
       "<table border=\"1\" class=\"dataframe\">\n",
       "  <thead>\n",
       "    <tr style=\"text-align: right;\">\n",
       "      <th></th>\n",
       "      <th>user</th>\n",
       "      <th>listening_count</th>\n",
       "      <th>song_name</th>\n",
       "      <th>release</th>\n",
       "      <th>artist_name</th>\n",
       "      <th>duration</th>\n",
       "      <th>artist_familiarity</th>\n",
       "      <th>artist_hotttnesss</th>\n",
       "      <th>year</th>\n",
       "      <th>shs_perf</th>\n",
       "      <th>...</th>\n",
       "      <th>loudness</th>\n",
       "      <th>mode</th>\n",
       "      <th>speechiness</th>\n",
       "      <th>acousticness</th>\n",
       "      <th>instrumentalness</th>\n",
       "      <th>liveness</th>\n",
       "      <th>valence</th>\n",
       "      <th>tempo</th>\n",
       "      <th>time_signature</th>\n",
       "      <th>release_date</th>\n",
       "    </tr>\n",
       "  </thead>\n",
       "  <tbody>\n",
       "    <tr>\n",
       "      <th>189170</th>\n",
       "      <td>19a7ec5c51a370817f99cf18decde4b8f469bfd3</td>\n",
       "      <td>3</td>\n",
       "      <td>Opera Singer</td>\n",
       "      <td>Comfort Eagle</td>\n",
       "      <td>Cake</td>\n",
       "      <td>248.29342</td>\n",
       "      <td>0.794331</td>\n",
       "      <td>0.650666</td>\n",
       "      <td>2001</td>\n",
       "      <td>-1</td>\n",
       "      <td>...</td>\n",
       "      <td>0.106327</td>\n",
       "      <td>1</td>\n",
       "      <td>-0.347679</td>\n",
       "      <td>-0.628613</td>\n",
       "      <td>-0.380778</td>\n",
       "      <td>-0.827979</td>\n",
       "      <td>1.855062</td>\n",
       "      <td>-0.899861</td>\n",
       "      <td>4.0</td>\n",
       "      <td>2001-07-23</td>\n",
       "    </tr>\n",
       "    <tr>\n",
       "      <th>190336</th>\n",
       "      <td>19a7ec5c51a370817f99cf18decde4b8f469bfd3</td>\n",
       "      <td>1</td>\n",
       "      <td>It's Coming Down</td>\n",
       "      <td>Fashion Nugget</td>\n",
       "      <td>Cake</td>\n",
       "      <td>225.35791</td>\n",
       "      <td>0.794331</td>\n",
       "      <td>0.650666</td>\n",
       "      <td>1996</td>\n",
       "      <td>-1</td>\n",
       "      <td>...</td>\n",
       "      <td>0.250828</td>\n",
       "      <td>1</td>\n",
       "      <td>-0.509068</td>\n",
       "      <td>-0.806212</td>\n",
       "      <td>-0.455502</td>\n",
       "      <td>-0.587886</td>\n",
       "      <td>0.173293</td>\n",
       "      <td>-0.086249</td>\n",
       "      <td>4.0</td>\n",
       "      <td>2007-11-13</td>\n",
       "    </tr>\n",
       "    <tr>\n",
       "      <th>235736</th>\n",
       "      <td>19a7ec5c51a370817f99cf18decde4b8f469bfd3</td>\n",
       "      <td>62</td>\n",
       "      <td>Italian Leather Sofa</td>\n",
       "      <td>Fashion Nugget</td>\n",
       "      <td>Cake</td>\n",
       "      <td>351.39873</td>\n",
       "      <td>0.794331</td>\n",
       "      <td>0.650666</td>\n",
       "      <td>1996</td>\n",
       "      <td>-1</td>\n",
       "      <td>...</td>\n",
       "      <td>0.077947</td>\n",
       "      <td>1</td>\n",
       "      <td>-0.351584</td>\n",
       "      <td>0.179582</td>\n",
       "      <td>-0.422498</td>\n",
       "      <td>0.466575</td>\n",
       "      <td>0.009120</td>\n",
       "      <td>-0.591095</td>\n",
       "      <td>4.0</td>\n",
       "      <td>1996-09-17</td>\n",
       "    </tr>\n",
       "    <tr>\n",
       "      <th>247240</th>\n",
       "      <td>19a7ec5c51a370817f99cf18decde4b8f469bfd3</td>\n",
       "      <td>56</td>\n",
       "      <td>Gimme Sympathy</td>\n",
       "      <td>Gimme Sympathy</td>\n",
       "      <td>Metric</td>\n",
       "      <td>171.25832</td>\n",
       "      <td>0.832644</td>\n",
       "      <td>0.602034</td>\n",
       "      <td>2009</td>\n",
       "      <td>-1</td>\n",
       "      <td>...</td>\n",
       "      <td>-0.449289</td>\n",
       "      <td>1</td>\n",
       "      <td>-0.459610</td>\n",
       "      <td>1.706284</td>\n",
       "      <td>-0.455703</td>\n",
       "      <td>-0.763630</td>\n",
       "      <td>-1.096043</td>\n",
       "      <td>0.210305</td>\n",
       "      <td>4.0</td>\n",
       "      <td>2009-10-27</td>\n",
       "    </tr>\n",
       "    <tr>\n",
       "      <th>255797</th>\n",
       "      <td>19a7ec5c51a370817f99cf18decde4b8f469bfd3</td>\n",
       "      <td>1</td>\n",
       "      <td>Help I'm Alive</td>\n",
       "      <td>Fantasies</td>\n",
       "      <td>Metric</td>\n",
       "      <td>286.24934</td>\n",
       "      <td>0.801681</td>\n",
       "      <td>0.602034</td>\n",
       "      <td>2009</td>\n",
       "      <td>-1</td>\n",
       "      <td>...</td>\n",
       "      <td>-0.426377</td>\n",
       "      <td>0</td>\n",
       "      <td>-0.324252</td>\n",
       "      <td>1.689797</td>\n",
       "      <td>-0.361338</td>\n",
       "      <td>-0.628442</td>\n",
       "      <td>-1.500468</td>\n",
       "      <td>-0.256360</td>\n",
       "      <td>4.0</td>\n",
       "      <td>2009-10-27</td>\n",
       "    </tr>\n",
       "    <tr>\n",
       "      <th>272109</th>\n",
       "      <td>19a7ec5c51a370817f99cf18decde4b8f469bfd3</td>\n",
       "      <td>60</td>\n",
       "      <td>Satellite Mind</td>\n",
       "      <td>Fantasies</td>\n",
       "      <td>Metric</td>\n",
       "      <td>222.85016</td>\n",
       "      <td>0.832644</td>\n",
       "      <td>0.602034</td>\n",
       "      <td>2009</td>\n",
       "      <td>-1</td>\n",
       "      <td>...</td>\n",
       "      <td>-0.097538</td>\n",
       "      <td>1</td>\n",
       "      <td>-0.511671</td>\n",
       "      <td>1.287513</td>\n",
       "      <td>-0.455623</td>\n",
       "      <td>0.736950</td>\n",
       "      <td>0.033145</td>\n",
       "      <td>0.931984</td>\n",
       "      <td>4.0</td>\n",
       "      <td>2009-10-27</td>\n",
       "    </tr>\n",
       "    <tr>\n",
       "      <th>284561</th>\n",
       "      <td>19a7ec5c51a370817f99cf18decde4b8f469bfd3</td>\n",
       "      <td>31</td>\n",
       "      <td>Twilight Galaxy</td>\n",
       "      <td>Fantasies</td>\n",
       "      <td>Metric</td>\n",
       "      <td>293.45914</td>\n",
       "      <td>0.801681</td>\n",
       "      <td>0.602034</td>\n",
       "      <td>2009</td>\n",
       "      <td>-1</td>\n",
       "      <td>...</td>\n",
       "      <td>-1.095771</td>\n",
       "      <td>0</td>\n",
       "      <td>-0.451801</td>\n",
       "      <td>2.151435</td>\n",
       "      <td>-0.455717</td>\n",
       "      <td>-0.639798</td>\n",
       "      <td>-1.512481</td>\n",
       "      <td>0.358600</td>\n",
       "      <td>4.0</td>\n",
       "      <td>2009-10-27</td>\n",
       "    </tr>\n",
       "    <tr>\n",
       "      <th>306961</th>\n",
       "      <td>19a7ec5c51a370817f99cf18decde4b8f469bfd3</td>\n",
       "      <td>63</td>\n",
       "      <td>Gold Guns Girls</td>\n",
       "      <td>Fantasies</td>\n",
       "      <td>Metric</td>\n",
       "      <td>245.52444</td>\n",
       "      <td>0.832644</td>\n",
       "      <td>0.562035</td>\n",
       "      <td>2009</td>\n",
       "      <td>-1</td>\n",
       "      <td>...</td>\n",
       "      <td>-0.739334</td>\n",
       "      <td>0</td>\n",
       "      <td>-0.507766</td>\n",
       "      <td>2.214086</td>\n",
       "      <td>-0.396331</td>\n",
       "      <td>-0.550033</td>\n",
       "      <td>-1.563334</td>\n",
       "      <td>0.879533</td>\n",
       "      <td>4.0</td>\n",
       "      <td>2009-10-27</td>\n",
       "    </tr>\n",
       "    <tr>\n",
       "      <th>665785</th>\n",
       "      <td>19a7ec5c51a370817f99cf18decde4b8f469bfd3</td>\n",
       "      <td>1</td>\n",
       "      <td>Shadow Stabbing</td>\n",
       "      <td>Comfort Eagle</td>\n",
       "      <td>Cake</td>\n",
       "      <td>187.27138</td>\n",
       "      <td>0.794331</td>\n",
       "      <td>0.650666</td>\n",
       "      <td>2001</td>\n",
       "      <td>-1</td>\n",
       "      <td>...</td>\n",
       "      <td>0.018845</td>\n",
       "      <td>1</td>\n",
       "      <td>-0.312538</td>\n",
       "      <td>-0.682691</td>\n",
       "      <td>-0.455808</td>\n",
       "      <td>-0.582478</td>\n",
       "      <td>1.310489</td>\n",
       "      <td>0.328001</td>\n",
       "      <td>4.0</td>\n",
       "      <td>2001-07-23</td>\n",
       "    </tr>\n",
       "    <tr>\n",
       "      <th>667311</th>\n",
       "      <td>19a7ec5c51a370817f99cf18decde4b8f469bfd3</td>\n",
       "      <td>73</td>\n",
       "      <td>Comfort Eagle</td>\n",
       "      <td>Comfort Eagle</td>\n",
       "      <td>Cake</td>\n",
       "      <td>220.23791</td>\n",
       "      <td>0.794331</td>\n",
       "      <td>0.650666</td>\n",
       "      <td>2001</td>\n",
       "      <td>-1</td>\n",
       "      <td>...</td>\n",
       "      <td>0.556495</td>\n",
       "      <td>1</td>\n",
       "      <td>-0.196703</td>\n",
       "      <td>-0.535956</td>\n",
       "      <td>-0.455820</td>\n",
       "      <td>-0.014692</td>\n",
       "      <td>1.638835</td>\n",
       "      <td>-0.007934</td>\n",
       "      <td>4.0</td>\n",
       "      <td>2001-07-23</td>\n",
       "    </tr>\n",
       "    <tr>\n",
       "      <th>675576</th>\n",
       "      <td>19a7ec5c51a370817f99cf18decde4b8f469bfd3</td>\n",
       "      <td>2</td>\n",
       "      <td>Let Me Go</td>\n",
       "      <td>Prolonging the Magic</td>\n",
       "      <td>Cake</td>\n",
       "      <td>209.68444</td>\n",
       "      <td>0.794331</td>\n",
       "      <td>0.650666</td>\n",
       "      <td>1998</td>\n",
       "      <td>-1</td>\n",
       "      <td>...</td>\n",
       "      <td>0.062325</td>\n",
       "      <td>1</td>\n",
       "      <td>-0.339870</td>\n",
       "      <td>-0.650376</td>\n",
       "      <td>-0.452566</td>\n",
       "      <td>-0.705229</td>\n",
       "      <td>1.762965</td>\n",
       "      <td>-0.414465</td>\n",
       "      <td>4.0</td>\n",
       "      <td>1998-02-05</td>\n",
       "    </tr>\n",
       "    <tr>\n",
       "      <th>985271</th>\n",
       "      <td>19a7ec5c51a370817f99cf18decde4b8f469bfd3</td>\n",
       "      <td>1</td>\n",
       "      <td>Where Would I Be?</td>\n",
       "      <td>Prolonging the Magic</td>\n",
       "      <td>Cake</td>\n",
       "      <td>233.06404</td>\n",
       "      <td>0.794331</td>\n",
       "      <td>0.650666</td>\n",
       "      <td>1998</td>\n",
       "      <td>-1</td>\n",
       "      <td>...</td>\n",
       "      <td>-0.822129</td>\n",
       "      <td>0</td>\n",
       "      <td>-0.484339</td>\n",
       "      <td>-0.371086</td>\n",
       "      <td>-0.203089</td>\n",
       "      <td>-0.769578</td>\n",
       "      <td>-0.399310</td>\n",
       "      <td>1.036918</td>\n",
       "      <td>3.0</td>\n",
       "      <td>1998-02-05</td>\n",
       "    </tr>\n",
       "    <tr>\n",
       "      <th>986719</th>\n",
       "      <td>19a7ec5c51a370817f99cf18decde4b8f469bfd3</td>\n",
       "      <td>2</td>\n",
       "      <td>Guitar</td>\n",
       "      <td>Prolonging the Magic</td>\n",
       "      <td>Cake</td>\n",
       "      <td>220.94322</td>\n",
       "      <td>0.794331</td>\n",
       "      <td>0.650666</td>\n",
       "      <td>1998</td>\n",
       "      <td>-1</td>\n",
       "      <td>...</td>\n",
       "      <td>-0.359724</td>\n",
       "      <td>1</td>\n",
       "      <td>-0.501259</td>\n",
       "      <td>-0.806707</td>\n",
       "      <td>1.208315</td>\n",
       "      <td>2.132084</td>\n",
       "      <td>0.777929</td>\n",
       "      <td>-0.772800</td>\n",
       "      <td>4.0</td>\n",
       "      <td>1998-02-05</td>\n",
       "    </tr>\n",
       "    <tr>\n",
       "      <th>991345</th>\n",
       "      <td>19a7ec5c51a370817f99cf18decde4b8f469bfd3</td>\n",
       "      <td>70</td>\n",
       "      <td>Cool Blue Reason</td>\n",
       "      <td>Prolonging the Magic</td>\n",
       "      <td>Cake</td>\n",
       "      <td>207.85587</td>\n",
       "      <td>0.794331</td>\n",
       "      <td>0.650666</td>\n",
       "      <td>1998</td>\n",
       "      <td>-1</td>\n",
       "      <td>...</td>\n",
       "      <td>-0.367535</td>\n",
       "      <td>1</td>\n",
       "      <td>-0.507766</td>\n",
       "      <td>-0.808421</td>\n",
       "      <td>-0.431947</td>\n",
       "      <td>-0.777689</td>\n",
       "      <td>-0.471386</td>\n",
       "      <td>-1.339358</td>\n",
       "      <td>4.0</td>\n",
       "      <td>1998-02-05</td>\n",
       "    </tr>\n",
       "    <tr>\n",
       "      <th>1936157</th>\n",
       "      <td>19a7ec5c51a370817f99cf18decde4b8f469bfd3</td>\n",
       "      <td>51</td>\n",
       "      <td>Ain't No Good</td>\n",
       "      <td>Motorcade Of Generosity</td>\n",
       "      <td>Cake</td>\n",
       "      <td>160.46975</td>\n",
       "      <td>0.794331</td>\n",
       "      <td>0.650666</td>\n",
       "      <td>1994</td>\n",
       "      <td>-1</td>\n",
       "      <td>...</td>\n",
       "      <td>-0.431845</td>\n",
       "      <td>1</td>\n",
       "      <td>0.295271</td>\n",
       "      <td>0.344453</td>\n",
       "      <td>-0.455809</td>\n",
       "      <td>-0.724696</td>\n",
       "      <td>1.778982</td>\n",
       "      <td>0.579823</td>\n",
       "      <td>4.0</td>\n",
       "      <td>1994</td>\n",
       "    </tr>\n",
       "    <tr>\n",
       "      <th>1959370</th>\n",
       "      <td>19a7ec5c51a370817f99cf18decde4b8f469bfd3</td>\n",
       "      <td>76</td>\n",
       "      <td>Hem Of Your Garment</td>\n",
       "      <td>Prolonging the Magic</td>\n",
       "      <td>Cake</td>\n",
       "      <td>215.90159</td>\n",
       "      <td>0.794331</td>\n",
       "      <td>0.650666</td>\n",
       "      <td>1998</td>\n",
       "      <td>-1</td>\n",
       "      <td>...</td>\n",
       "      <td>-1.304583</td>\n",
       "      <td>1</td>\n",
       "      <td>-0.446595</td>\n",
       "      <td>-0.787219</td>\n",
       "      <td>0.465675</td>\n",
       "      <td>-0.794452</td>\n",
       "      <td>1.863071</td>\n",
       "      <td>-0.073179</td>\n",
       "      <td>4.0</td>\n",
       "      <td>1998-02-05</td>\n",
       "    </tr>\n",
       "    <tr>\n",
       "      <th>1963733</th>\n",
       "      <td>19a7ec5c51a370817f99cf18decde4b8f469bfd3</td>\n",
       "      <td>1</td>\n",
       "      <td>Dime</td>\n",
       "      <td>Pressure Chief</td>\n",
       "      <td>Cake</td>\n",
       "      <td>217.49506</td>\n",
       "      <td>0.794331</td>\n",
       "      <td>0.650666</td>\n",
       "      <td>2004</td>\n",
       "      <td>-1</td>\n",
       "      <td>...</td>\n",
       "      <td>0.371116</td>\n",
       "      <td>1</td>\n",
       "      <td>-0.532495</td>\n",
       "      <td>0.845660</td>\n",
       "      <td>-0.421371</td>\n",
       "      <td>-0.057952</td>\n",
       "      <td>1.594788</td>\n",
       "      <td>-0.247544</td>\n",
       "      <td>4.0</td>\n",
       "      <td>2004-10-04</td>\n",
       "    </tr>\n",
       "    <tr>\n",
       "      <th>1973196</th>\n",
       "      <td>19a7ec5c51a370817f99cf18decde4b8f469bfd3</td>\n",
       "      <td>3</td>\n",
       "      <td>Is This Love?</td>\n",
       "      <td>Motorcade Of Generosity</td>\n",
       "      <td>Cake</td>\n",
       "      <td>199.54893</td>\n",
       "      <td>0.794331</td>\n",
       "      <td>0.650666</td>\n",
       "      <td>1994</td>\n",
       "      <td>-1</td>\n",
       "      <td>...</td>\n",
       "      <td>-0.221731</td>\n",
       "      <td>1</td>\n",
       "      <td>-0.365901</td>\n",
       "      <td>1.716177</td>\n",
       "      <td>-0.455820</td>\n",
       "      <td>-0.425661</td>\n",
       "      <td>1.214388</td>\n",
       "      <td>-0.547255</td>\n",
       "      <td>4.0</td>\n",
       "      <td>1994</td>\n",
       "    </tr>\n",
       "    <tr>\n",
       "      <th>1973914</th>\n",
       "      <td>19a7ec5c51a370817f99cf18decde4b8f469bfd3</td>\n",
       "      <td>77</td>\n",
       "      <td>Mr. Mastodon Farm</td>\n",
       "      <td>Motorcade of Generosity</td>\n",
       "      <td>Cake</td>\n",
       "      <td>327.60118</td>\n",
       "      <td>0.794331</td>\n",
       "      <td>0.650666</td>\n",
       "      <td>1994</td>\n",
       "      <td>-1</td>\n",
       "      <td>...</td>\n",
       "      <td>-0.280573</td>\n",
       "      <td>1</td>\n",
       "      <td>0.131280</td>\n",
       "      <td>-0.701816</td>\n",
       "      <td>-0.455820</td>\n",
       "      <td>-0.593293</td>\n",
       "      <td>1.638835</td>\n",
       "      <td>1.709096</td>\n",
       "      <td>4.0</td>\n",
       "      <td>1994</td>\n",
       "    </tr>\n",
       "    <tr>\n",
       "      <th>2507988</th>\n",
       "      <td>19a7ec5c51a370817f99cf18decde4b8f469bfd3</td>\n",
       "      <td>39</td>\n",
       "      <td>Last Nite</td>\n",
       "      <td>Is This It</td>\n",
       "      <td>The Strokes</td>\n",
       "      <td>193.38404</td>\n",
       "      <td>0.807043</td>\n",
       "      <td>0.587194</td>\n",
       "      <td>2001</td>\n",
       "      <td>61894</td>\n",
       "      <td>...</td>\n",
       "      <td>0.676523</td>\n",
       "      <td>1</td>\n",
       "      <td>-0.499957</td>\n",
       "      <td>-0.759191</td>\n",
       "      <td>-0.455217</td>\n",
       "      <td>-0.628442</td>\n",
       "      <td>1.230405</td>\n",
       "      <td>-0.588762</td>\n",
       "      <td>4.0</td>\n",
       "      <td>2001-07-30</td>\n",
       "    </tr>\n",
       "    <tr>\n",
       "      <th>3146184</th>\n",
       "      <td>19a7ec5c51a370817f99cf18decde4b8f469bfd3</td>\n",
       "      <td>87</td>\n",
       "      <td>Thrills</td>\n",
       "      <td>b-sides and rarities</td>\n",
       "      <td>Cake</td>\n",
       "      <td>178.96444</td>\n",
       "      <td>0.794331</td>\n",
       "      <td>0.650666</td>\n",
       "      <td>2007</td>\n",
       "      <td>-1</td>\n",
       "      <td>...</td>\n",
       "      <td>-0.418045</td>\n",
       "      <td>0</td>\n",
       "      <td>-0.222733</td>\n",
       "      <td>-0.544200</td>\n",
       "      <td>-0.095387</td>\n",
       "      <td>0.423315</td>\n",
       "      <td>1.831037</td>\n",
       "      <td>-0.966718</td>\n",
       "      <td>4.0</td>\n",
       "      <td>2007-11-13</td>\n",
       "    </tr>\n",
       "    <tr>\n",
       "      <th>3146844</th>\n",
       "      <td>19a7ec5c51a370817f99cf18decde4b8f469bfd3</td>\n",
       "      <td>69</td>\n",
       "      <td>I Bombed Korea</td>\n",
       "      <td>Motorcade of Generosity</td>\n",
       "      <td>Cake</td>\n",
       "      <td>139.15383</td>\n",
       "      <td>0.794331</td>\n",
       "      <td>0.650666</td>\n",
       "      <td>1994</td>\n",
       "      <td>-1</td>\n",
       "      <td>...</td>\n",
       "      <td>-0.597436</td>\n",
       "      <td>1</td>\n",
       "      <td>-0.168070</td>\n",
       "      <td>0.469755</td>\n",
       "      <td>-0.455691</td>\n",
       "      <td>-0.614923</td>\n",
       "      <td>1.915125</td>\n",
       "      <td>-1.075221</td>\n",
       "      <td>4.0</td>\n",
       "      <td>1994</td>\n",
       "    </tr>\n",
       "    <tr>\n",
       "      <th>3147586</th>\n",
       "      <td>19a7ec5c51a370817f99cf18decde4b8f469bfd3</td>\n",
       "      <td>74</td>\n",
       "      <td>War Pigs</td>\n",
       "      <td>b-sides and rarities</td>\n",
       "      <td>Cake</td>\n",
       "      <td>234.00444</td>\n",
       "      <td>0.794331</td>\n",
       "      <td>0.650666</td>\n",
       "      <td>2007</td>\n",
       "      <td>68165</td>\n",
       "      <td>...</td>\n",
       "      <td>0.036289</td>\n",
       "      <td>0</td>\n",
       "      <td>-0.419263</td>\n",
       "      <td>-0.809707</td>\n",
       "      <td>-0.455809</td>\n",
       "      <td>-0.632227</td>\n",
       "      <td>-0.163061</td>\n",
       "      <td>-1.280013</td>\n",
       "      <td>4.0</td>\n",
       "      <td>2007-11-13</td>\n",
       "    </tr>\n",
       "    <tr>\n",
       "      <th>3152093</th>\n",
       "      <td>19a7ec5c51a370817f99cf18decde4b8f469bfd3</td>\n",
       "      <td>1</td>\n",
       "      <td>Up So Close</td>\n",
       "      <td>Motorcade of Generosity</td>\n",
       "      <td>Cake</td>\n",
       "      <td>193.72363</td>\n",
       "      <td>0.794331</td>\n",
       "      <td>0.650666</td>\n",
       "      <td>1994</td>\n",
       "      <td>-1</td>\n",
       "      <td>...</td>\n",
       "      <td>-0.535730</td>\n",
       "      <td>0</td>\n",
       "      <td>-0.459610</td>\n",
       "      <td>1.376543</td>\n",
       "      <td>-0.447111</td>\n",
       "      <td>1.634594</td>\n",
       "      <td>1.430616</td>\n",
       "      <td>-0.169812</td>\n",
       "      <td>4.0</td>\n",
       "      <td>1994</td>\n",
       "    </tr>\n",
       "    <tr>\n",
       "      <th>3152724</th>\n",
       "      <td>19a7ec5c51a370817f99cf18decde4b8f469bfd3</td>\n",
       "      <td>1</td>\n",
       "      <td>Strangers In The Night</td>\n",
       "      <td>Stubbs The Zombie: The Soundtrack</td>\n",
       "      <td>Cake</td>\n",
       "      <td>170.31791</td>\n",
       "      <td>0.794331</td>\n",
       "      <td>0.650666</td>\n",
       "      <td>2004</td>\n",
       "      <td>35297</td>\n",
       "      <td>...</td>\n",
       "      <td>-0.688563</td>\n",
       "      <td>0</td>\n",
       "      <td>-0.562430</td>\n",
       "      <td>0.169690</td>\n",
       "      <td>-0.455798</td>\n",
       "      <td>1.466962</td>\n",
       "      <td>0.553693</td>\n",
       "      <td>-1.070144</td>\n",
       "      <td>4.0</td>\n",
       "      <td>2007-11-13</td>\n",
       "    </tr>\n",
       "    <tr>\n",
       "      <th>3155133</th>\n",
       "      <td>19a7ec5c51a370817f99cf18decde4b8f469bfd3</td>\n",
       "      <td>1</td>\n",
       "      <td>Haze of Love</td>\n",
       "      <td>Motorcade of Generosity</td>\n",
       "      <td>Cake</td>\n",
       "      <td>187.89832</td>\n",
       "      <td>0.794331</td>\n",
       "      <td>0.650666</td>\n",
       "      <td>1994</td>\n",
       "      <td>-1</td>\n",
       "      <td>...</td>\n",
       "      <td>-0.331865</td>\n",
       "      <td>1</td>\n",
       "      <td>-0.424469</td>\n",
       "      <td>1.178698</td>\n",
       "      <td>-0.455625</td>\n",
       "      <td>-0.719288</td>\n",
       "      <td>1.142312</td>\n",
       "      <td>-0.545128</td>\n",
       "      <td>4.0</td>\n",
       "      <td>1994</td>\n",
       "    </tr>\n",
       "    <tr>\n",
       "      <th>3157752</th>\n",
       "      <td>19a7ec5c51a370817f99cf18decde4b8f469bfd3</td>\n",
       "      <td>73</td>\n",
       "      <td>You Part the Waters</td>\n",
       "      <td>Motorcade of Generosity</td>\n",
       "      <td>Cake</td>\n",
       "      <td>170.03057</td>\n",
       "      <td>0.794331</td>\n",
       "      <td>0.650666</td>\n",
       "      <td>1994</td>\n",
       "      <td>-1</td>\n",
       "      <td>...</td>\n",
       "      <td>-0.625815</td>\n",
       "      <td>1</td>\n",
       "      <td>-0.345076</td>\n",
       "      <td>0.868742</td>\n",
       "      <td>-0.445166</td>\n",
       "      <td>1.515629</td>\n",
       "      <td>0.946106</td>\n",
       "      <td>-0.775545</td>\n",
       "      <td>4.0</td>\n",
       "      <td>1994</td>\n",
       "    </tr>\n",
       "    <tr>\n",
       "      <th>3651813</th>\n",
       "      <td>19a7ec5c51a370817f99cf18decde4b8f469bfd3</td>\n",
       "      <td>1</td>\n",
       "      <td>Jolene</td>\n",
       "      <td>Motorcade of Generosity</td>\n",
       "      <td>Cake</td>\n",
       "      <td>319.18975</td>\n",
       "      <td>0.794331</td>\n",
       "      <td>0.650666</td>\n",
       "      <td>1993</td>\n",
       "      <td>-1</td>\n",
       "      <td>...</td>\n",
       "      <td>-0.402163</td>\n",
       "      <td>0</td>\n",
       "      <td>-0.348981</td>\n",
       "      <td>0.172988</td>\n",
       "      <td>-0.455753</td>\n",
       "      <td>1.786004</td>\n",
       "      <td>1.430616</td>\n",
       "      <td>-0.925726</td>\n",
       "      <td>4.0</td>\n",
       "      <td>1994</td>\n",
       "    </tr>\n",
       "    <tr>\n",
       "      <th>3652959</th>\n",
       "      <td>19a7ec5c51a370817f99cf18decde4b8f469bfd3</td>\n",
       "      <td>1</td>\n",
       "      <td>Wheels</td>\n",
       "      <td>Pressure Chief</td>\n",
       "      <td>Cake</td>\n",
       "      <td>198.19057</td>\n",
       "      <td>0.794331</td>\n",
       "      <td>0.650666</td>\n",
       "      <td>2004</td>\n",
       "      <td>-1</td>\n",
       "      <td>...</td>\n",
       "      <td>0.382312</td>\n",
       "      <td>0</td>\n",
       "      <td>-0.397137</td>\n",
       "      <td>-0.328219</td>\n",
       "      <td>-0.455820</td>\n",
       "      <td>-0.571663</td>\n",
       "      <td>1.891100</td>\n",
       "      <td>1.375803</td>\n",
       "      <td>4.0</td>\n",
       "      <td>2004-10-04</td>\n",
       "    </tr>\n",
       "    <tr>\n",
       "      <th>3682954</th>\n",
       "      <td>19a7ec5c51a370817f99cf18decde4b8f469bfd3</td>\n",
       "      <td>73</td>\n",
       "      <td>End of the Movie</td>\n",
       "      <td>Pressure Chief</td>\n",
       "      <td>Cake</td>\n",
       "      <td>109.81832</td>\n",
       "      <td>0.794331</td>\n",
       "      <td>0.650666</td>\n",
       "      <td>2004</td>\n",
       "      <td>-1</td>\n",
       "      <td>...</td>\n",
       "      <td>-1.717259</td>\n",
       "      <td>1</td>\n",
       "      <td>-0.371107</td>\n",
       "      <td>2.283332</td>\n",
       "      <td>-0.455552</td>\n",
       "      <td>-0.252621</td>\n",
       "      <td>1.034199</td>\n",
       "      <td>0.162074</td>\n",
       "      <td>4.0</td>\n",
       "      <td>2004-10-04</td>\n",
       "    </tr>\n",
       "    <tr>\n",
       "      <th>4157424</th>\n",
       "      <td>19a7ec5c51a370817f99cf18decde4b8f469bfd3</td>\n",
       "      <td>1</td>\n",
       "      <td>Darlin' Do Not Fear</td>\n",
       "      <td>So Much More</td>\n",
       "      <td>Brett Dennen</td>\n",
       "      <td>310.49098</td>\n",
       "      <td>0.756096</td>\n",
       "      <td>0.508837</td>\n",
       "      <td>2006</td>\n",
       "      <td>-1</td>\n",
       "      <td>...</td>\n",
       "      <td>-0.087384</td>\n",
       "      <td>1</td>\n",
       "      <td>-0.453102</td>\n",
       "      <td>0.730250</td>\n",
       "      <td>-0.455808</td>\n",
       "      <td>-0.490551</td>\n",
       "      <td>1.298477</td>\n",
       "      <td>-0.683371</td>\n",
       "      <td>4.0</td>\n",
       "      <td>2013-01-29</td>\n",
       "    </tr>\n",
       "    <tr>\n",
       "      <th>4635827</th>\n",
       "      <td>19a7ec5c51a370817f99cf18decde4b8f469bfd3</td>\n",
       "      <td>1</td>\n",
       "      <td>Dog Barking</td>\n",
       "      <td>Brian Regan Live</td>\n",
       "      <td>Brian Regan</td>\n",
       "      <td>149.75955</td>\n",
       "      <td>0.594770</td>\n",
       "      <td>0.402075</td>\n",
       "      <td>1997</td>\n",
       "      <td>-1</td>\n",
       "      <td>...</td>\n",
       "      <td>-2.067708</td>\n",
       "      <td>1</td>\n",
       "      <td>10.426301</td>\n",
       "      <td>2.039323</td>\n",
       "      <td>-0.454622</td>\n",
       "      <td>2.516016</td>\n",
       "      <td>-1.068013</td>\n",
       "      <td>-1.094156</td>\n",
       "      <td>4.0</td>\n",
       "      <td>1997-10-28</td>\n",
       "    </tr>\n",
       "  </tbody>\n",
       "</table>\n",
       "<p>32 rows × 25 columns</p>\n",
       "</div>"
      ],
      "text/plain": [
       "                                             user  listening_count   \n",
       "189170   19a7ec5c51a370817f99cf18decde4b8f469bfd3                3  \\\n",
       "190336   19a7ec5c51a370817f99cf18decde4b8f469bfd3                1   \n",
       "235736   19a7ec5c51a370817f99cf18decde4b8f469bfd3               62   \n",
       "247240   19a7ec5c51a370817f99cf18decde4b8f469bfd3               56   \n",
       "255797   19a7ec5c51a370817f99cf18decde4b8f469bfd3                1   \n",
       "272109   19a7ec5c51a370817f99cf18decde4b8f469bfd3               60   \n",
       "284561   19a7ec5c51a370817f99cf18decde4b8f469bfd3               31   \n",
       "306961   19a7ec5c51a370817f99cf18decde4b8f469bfd3               63   \n",
       "665785   19a7ec5c51a370817f99cf18decde4b8f469bfd3                1   \n",
       "667311   19a7ec5c51a370817f99cf18decde4b8f469bfd3               73   \n",
       "675576   19a7ec5c51a370817f99cf18decde4b8f469bfd3                2   \n",
       "985271   19a7ec5c51a370817f99cf18decde4b8f469bfd3                1   \n",
       "986719   19a7ec5c51a370817f99cf18decde4b8f469bfd3                2   \n",
       "991345   19a7ec5c51a370817f99cf18decde4b8f469bfd3               70   \n",
       "1936157  19a7ec5c51a370817f99cf18decde4b8f469bfd3               51   \n",
       "1959370  19a7ec5c51a370817f99cf18decde4b8f469bfd3               76   \n",
       "1963733  19a7ec5c51a370817f99cf18decde4b8f469bfd3                1   \n",
       "1973196  19a7ec5c51a370817f99cf18decde4b8f469bfd3                3   \n",
       "1973914  19a7ec5c51a370817f99cf18decde4b8f469bfd3               77   \n",
       "2507988  19a7ec5c51a370817f99cf18decde4b8f469bfd3               39   \n",
       "3146184  19a7ec5c51a370817f99cf18decde4b8f469bfd3               87   \n",
       "3146844  19a7ec5c51a370817f99cf18decde4b8f469bfd3               69   \n",
       "3147586  19a7ec5c51a370817f99cf18decde4b8f469bfd3               74   \n",
       "3152093  19a7ec5c51a370817f99cf18decde4b8f469bfd3                1   \n",
       "3152724  19a7ec5c51a370817f99cf18decde4b8f469bfd3                1   \n",
       "3155133  19a7ec5c51a370817f99cf18decde4b8f469bfd3                1   \n",
       "3157752  19a7ec5c51a370817f99cf18decde4b8f469bfd3               73   \n",
       "3651813  19a7ec5c51a370817f99cf18decde4b8f469bfd3                1   \n",
       "3652959  19a7ec5c51a370817f99cf18decde4b8f469bfd3                1   \n",
       "3682954  19a7ec5c51a370817f99cf18decde4b8f469bfd3               73   \n",
       "4157424  19a7ec5c51a370817f99cf18decde4b8f469bfd3                1   \n",
       "4635827  19a7ec5c51a370817f99cf18decde4b8f469bfd3                1   \n",
       "\n",
       "                      song_name                            release   \n",
       "189170             Opera Singer                      Comfort Eagle  \\\n",
       "190336         It's Coming Down                     Fashion Nugget   \n",
       "235736     Italian Leather Sofa                     Fashion Nugget   \n",
       "247240           Gimme Sympathy                     Gimme Sympathy   \n",
       "255797           Help I'm Alive                          Fantasies   \n",
       "272109           Satellite Mind                          Fantasies   \n",
       "284561          Twilight Galaxy                          Fantasies   \n",
       "306961          Gold Guns Girls                          Fantasies   \n",
       "665785          Shadow Stabbing                      Comfort Eagle   \n",
       "667311            Comfort Eagle                      Comfort Eagle   \n",
       "675576                Let Me Go               Prolonging the Magic   \n",
       "985271        Where Would I Be?               Prolonging the Magic   \n",
       "986719                   Guitar               Prolonging the Magic   \n",
       "991345         Cool Blue Reason               Prolonging the Magic   \n",
       "1936157           Ain't No Good            Motorcade Of Generosity   \n",
       "1959370     Hem Of Your Garment               Prolonging the Magic   \n",
       "1963733                    Dime                     Pressure Chief   \n",
       "1973196           Is This Love?            Motorcade Of Generosity   \n",
       "1973914       Mr. Mastodon Farm            Motorcade of Generosity   \n",
       "2507988               Last Nite                         Is This It   \n",
       "3146184                 Thrills               b-sides and rarities   \n",
       "3146844          I Bombed Korea            Motorcade of Generosity   \n",
       "3147586                War Pigs               b-sides and rarities   \n",
       "3152093             Up So Close            Motorcade of Generosity   \n",
       "3152724  Strangers In The Night  Stubbs The Zombie: The Soundtrack   \n",
       "3155133            Haze of Love            Motorcade of Generosity   \n",
       "3157752     You Part the Waters            Motorcade of Generosity   \n",
       "3651813                  Jolene            Motorcade of Generosity   \n",
       "3652959                  Wheels                     Pressure Chief   \n",
       "3682954        End of the Movie                     Pressure Chief   \n",
       "4157424     Darlin' Do Not Fear                       So Much More   \n",
       "4635827             Dog Barking                   Brian Regan Live   \n",
       "\n",
       "          artist_name   duration  artist_familiarity  artist_hotttnesss  year   \n",
       "189170           Cake  248.29342            0.794331           0.650666  2001  \\\n",
       "190336           Cake  225.35791            0.794331           0.650666  1996   \n",
       "235736           Cake  351.39873            0.794331           0.650666  1996   \n",
       "247240         Metric  171.25832            0.832644           0.602034  2009   \n",
       "255797         Metric  286.24934            0.801681           0.602034  2009   \n",
       "272109         Metric  222.85016            0.832644           0.602034  2009   \n",
       "284561         Metric  293.45914            0.801681           0.602034  2009   \n",
       "306961         Metric  245.52444            0.832644           0.562035  2009   \n",
       "665785           Cake  187.27138            0.794331           0.650666  2001   \n",
       "667311           Cake  220.23791            0.794331           0.650666  2001   \n",
       "675576           Cake  209.68444            0.794331           0.650666  1998   \n",
       "985271           Cake  233.06404            0.794331           0.650666  1998   \n",
       "986719           Cake  220.94322            0.794331           0.650666  1998   \n",
       "991345           Cake  207.85587            0.794331           0.650666  1998   \n",
       "1936157          Cake  160.46975            0.794331           0.650666  1994   \n",
       "1959370          Cake  215.90159            0.794331           0.650666  1998   \n",
       "1963733          Cake  217.49506            0.794331           0.650666  2004   \n",
       "1973196          Cake  199.54893            0.794331           0.650666  1994   \n",
       "1973914          Cake  327.60118            0.794331           0.650666  1994   \n",
       "2507988   The Strokes  193.38404            0.807043           0.587194  2001   \n",
       "3146184          Cake  178.96444            0.794331           0.650666  2007   \n",
       "3146844          Cake  139.15383            0.794331           0.650666  1994   \n",
       "3147586          Cake  234.00444            0.794331           0.650666  2007   \n",
       "3152093          Cake  193.72363            0.794331           0.650666  1994   \n",
       "3152724          Cake  170.31791            0.794331           0.650666  2004   \n",
       "3155133          Cake  187.89832            0.794331           0.650666  1994   \n",
       "3157752          Cake  170.03057            0.794331           0.650666  1994   \n",
       "3651813          Cake  319.18975            0.794331           0.650666  1993   \n",
       "3652959          Cake  198.19057            0.794331           0.650666  2004   \n",
       "3682954          Cake  109.81832            0.794331           0.650666  2004   \n",
       "4157424  Brett Dennen  310.49098            0.756096           0.508837  2006   \n",
       "4635827   Brian Regan  149.75955            0.594770           0.402075  1997   \n",
       "\n",
       "         shs_perf  ...  loudness  mode  speechiness  acousticness   \n",
       "189170         -1  ...  0.106327     1    -0.347679     -0.628613  \\\n",
       "190336         -1  ...  0.250828     1    -0.509068     -0.806212   \n",
       "235736         -1  ...  0.077947     1    -0.351584      0.179582   \n",
       "247240         -1  ... -0.449289     1    -0.459610      1.706284   \n",
       "255797         -1  ... -0.426377     0    -0.324252      1.689797   \n",
       "272109         -1  ... -0.097538     1    -0.511671      1.287513   \n",
       "284561         -1  ... -1.095771     0    -0.451801      2.151435   \n",
       "306961         -1  ... -0.739334     0    -0.507766      2.214086   \n",
       "665785         -1  ...  0.018845     1    -0.312538     -0.682691   \n",
       "667311         -1  ...  0.556495     1    -0.196703     -0.535956   \n",
       "675576         -1  ...  0.062325     1    -0.339870     -0.650376   \n",
       "985271         -1  ... -0.822129     0    -0.484339     -0.371086   \n",
       "986719         -1  ... -0.359724     1    -0.501259     -0.806707   \n",
       "991345         -1  ... -0.367535     1    -0.507766     -0.808421   \n",
       "1936157        -1  ... -0.431845     1     0.295271      0.344453   \n",
       "1959370        -1  ... -1.304583     1    -0.446595     -0.787219   \n",
       "1963733        -1  ...  0.371116     1    -0.532495      0.845660   \n",
       "1973196        -1  ... -0.221731     1    -0.365901      1.716177   \n",
       "1973914        -1  ... -0.280573     1     0.131280     -0.701816   \n",
       "2507988     61894  ...  0.676523     1    -0.499957     -0.759191   \n",
       "3146184        -1  ... -0.418045     0    -0.222733     -0.544200   \n",
       "3146844        -1  ... -0.597436     1    -0.168070      0.469755   \n",
       "3147586     68165  ...  0.036289     0    -0.419263     -0.809707   \n",
       "3152093        -1  ... -0.535730     0    -0.459610      1.376543   \n",
       "3152724     35297  ... -0.688563     0    -0.562430      0.169690   \n",
       "3155133        -1  ... -0.331865     1    -0.424469      1.178698   \n",
       "3157752        -1  ... -0.625815     1    -0.345076      0.868742   \n",
       "3651813        -1  ... -0.402163     0    -0.348981      0.172988   \n",
       "3652959        -1  ...  0.382312     0    -0.397137     -0.328219   \n",
       "3682954        -1  ... -1.717259     1    -0.371107      2.283332   \n",
       "4157424        -1  ... -0.087384     1    -0.453102      0.730250   \n",
       "4635827        -1  ... -2.067708     1    10.426301      2.039323   \n",
       "\n",
       "         instrumentalness  liveness   valence     tempo  time_signature   \n",
       "189170          -0.380778 -0.827979  1.855062 -0.899861             4.0  \\\n",
       "190336          -0.455502 -0.587886  0.173293 -0.086249             4.0   \n",
       "235736          -0.422498  0.466575  0.009120 -0.591095             4.0   \n",
       "247240          -0.455703 -0.763630 -1.096043  0.210305             4.0   \n",
       "255797          -0.361338 -0.628442 -1.500468 -0.256360             4.0   \n",
       "272109          -0.455623  0.736950  0.033145  0.931984             4.0   \n",
       "284561          -0.455717 -0.639798 -1.512481  0.358600             4.0   \n",
       "306961          -0.396331 -0.550033 -1.563334  0.879533             4.0   \n",
       "665785          -0.455808 -0.582478  1.310489  0.328001             4.0   \n",
       "667311          -0.455820 -0.014692  1.638835 -0.007934             4.0   \n",
       "675576          -0.452566 -0.705229  1.762965 -0.414465             4.0   \n",
       "985271          -0.203089 -0.769578 -0.399310  1.036918             3.0   \n",
       "986719           1.208315  2.132084  0.777929 -0.772800             4.0   \n",
       "991345          -0.431947 -0.777689 -0.471386 -1.339358             4.0   \n",
       "1936157         -0.455809 -0.724696  1.778982  0.579823             4.0   \n",
       "1959370          0.465675 -0.794452  1.863071 -0.073179             4.0   \n",
       "1963733         -0.421371 -0.057952  1.594788 -0.247544             4.0   \n",
       "1973196         -0.455820 -0.425661  1.214388 -0.547255             4.0   \n",
       "1973914         -0.455820 -0.593293  1.638835  1.709096             4.0   \n",
       "2507988         -0.455217 -0.628442  1.230405 -0.588762             4.0   \n",
       "3146184         -0.095387  0.423315  1.831037 -0.966718             4.0   \n",
       "3146844         -0.455691 -0.614923  1.915125 -1.075221             4.0   \n",
       "3147586         -0.455809 -0.632227 -0.163061 -1.280013             4.0   \n",
       "3152093         -0.447111  1.634594  1.430616 -0.169812             4.0   \n",
       "3152724         -0.455798  1.466962  0.553693 -1.070144             4.0   \n",
       "3155133         -0.455625 -0.719288  1.142312 -0.545128             4.0   \n",
       "3157752         -0.445166  1.515629  0.946106 -0.775545             4.0   \n",
       "3651813         -0.455753  1.786004  1.430616 -0.925726             4.0   \n",
       "3652959         -0.455820 -0.571663  1.891100  1.375803             4.0   \n",
       "3682954         -0.455552 -0.252621  1.034199  0.162074             4.0   \n",
       "4157424         -0.455808 -0.490551  1.298477 -0.683371             4.0   \n",
       "4635827         -0.454622  2.516016 -1.068013 -1.094156             4.0   \n",
       "\n",
       "         release_date  \n",
       "189170     2001-07-23  \n",
       "190336     2007-11-13  \n",
       "235736     1996-09-17  \n",
       "247240     2009-10-27  \n",
       "255797     2009-10-27  \n",
       "272109     2009-10-27  \n",
       "284561     2009-10-27  \n",
       "306961     2009-10-27  \n",
       "665785     2001-07-23  \n",
       "667311     2001-07-23  \n",
       "675576     1998-02-05  \n",
       "985271     1998-02-05  \n",
       "986719     1998-02-05  \n",
       "991345     1998-02-05  \n",
       "1936157          1994  \n",
       "1959370    1998-02-05  \n",
       "1963733    2004-10-04  \n",
       "1973196          1994  \n",
       "1973914          1994  \n",
       "2507988    2001-07-30  \n",
       "3146184    2007-11-13  \n",
       "3146844          1994  \n",
       "3147586    2007-11-13  \n",
       "3152093          1994  \n",
       "3152724    2007-11-13  \n",
       "3155133          1994  \n",
       "3157752          1994  \n",
       "3651813          1994  \n",
       "3652959    2004-10-04  \n",
       "3682954    2004-10-04  \n",
       "4157424    2013-01-29  \n",
       "4635827    1997-10-28  \n",
       "\n",
       "[32 rows x 25 columns]"
      ]
     },
     "metadata": {},
     "output_type": "display_data"
    }
   ],
   "source": [
    "pd.set_option('display.max_rows', None)\n",
    "df_user_temp = df_origin[df_origin[\"user\"] == user_name]\n",
    "display(df_user_temp)"
   ]
  },
  {
   "cell_type": "code",
   "execution_count": 24,
   "metadata": {},
   "outputs": [
    {
     "data": {
      "text/plain": [
       "Index(['user', 'listening_count', 'song_name', 'release', 'artist_name',\n",
       "       'duration', 'artist_familiarity', 'artist_hotttnesss', 'year',\n",
       "       'shs_perf', 'shs_work', 'explicit', 'danceability', 'energy', 'key',\n",
       "       'loudness', 'mode', 'speechiness', 'acousticness', 'instrumentalness',\n",
       "       'liveness', 'valence', 'tempo', 'time_signature', 'release_date'],\n",
       "      dtype='object')"
      ]
     },
     "execution_count": 24,
     "metadata": {},
     "output_type": "execute_result"
    }
   ],
   "source": [
    "# Mode variable has no interest as it only takes 2 values\n",
    "#df_origin['mode'].unique()\n"
   ]
  },
  {
   "cell_type": "code",
   "execution_count": 21,
   "metadata": {},
   "outputs": [
    {
     "name": "stdout",
     "output_type": "stream",
     "text": [
      "0\n"
     ]
    },
    {
     "data": {
      "text/plain": [
       "[]"
      ]
     },
     "execution_count": 21,
     "metadata": {},
     "output_type": "execute_result"
    }
   ],
   "source": [
    "song_user = (df_origin[df_origin[\"user\"] == user_name]['song_name'] + ' - ' + df_origin[df_origin[\"user\"] == user_name]['artist_name']).tolist()\n",
    "\n",
    "\n",
    "song_reco = []\n",
    "for i in range(len(sim_names)):\n",
    "    song_reco.extend(sim_names[i])\n",
    "#song_reco    \n",
    "print(len([i for i in song_user if i in song_reco]))\n",
    "[i for i in song_user if i in song_reco]"
   ]
  },
  {
   "cell_type": "code",
   "execution_count": 135,
   "metadata": {},
   "outputs": [
    {
     "name": "stdout",
     "output_type": "stream",
     "text": [
      "['Shout',\n",
      " \"I'm A Sucker For Love\",\n",
      " 'Il Santo',\n",
      " 'Japón',\n",
      " \"Cruisin'\",\n",
      " 'Love Is Here',\n",
      " 'Ode We Will Bury Ourselves',\n",
      " 'Live The Life',\n",
      " 'She Came Home for Christmas',\n",
      " 'Who Rules The Wasteland?',\n",
      " 'Thinking About Tomorrow',\n",
      " 'Silly Boy',\n",
      " \"Please Don't Tell Me How The Story Ends\",\n",
      " 'See You Later',\n",
      " 'Only One And Only']\n",
      "['The Trammps',\n",
      " 'Debbie Davies',\n",
      " 'Tonino Carotone',\n",
      " 'Mecano',\n",
      " 'Jeff Beck & The Big Town Playboys',\n",
      " 'Tenth Avenue North',\n",
      " 'Moving Mountains',\n",
      " 'Michael W. Smith',\n",
      " 'Mew',\n",
      " 'A.R.E. Weapons',\n",
      " 'Beth Orton',\n",
      " 'BMX Bandits',\n",
      " 'Kris Kristofferson',\n",
      " 'Elliott Smith',\n",
      " 'Gillian Welch']\n"
     ]
    }
   ],
   "source": [
    "song_list = [i.split(' - ', 1)[0] for i in song_reco]\n",
    "pprint(song_list)\n",
    "artist_list = [i.split(' - ', 1)[1] for i in song_reco]\n",
    "pprint(artist_list)"
   ]
  },
  {
   "cell_type": "code",
   "execution_count": 136,
   "metadata": {},
   "outputs": [],
   "source": [
    "import dataframe_image as dfi \n",
    "'''\n",
    "def highlight_interest(val):\n",
    "    \n",
    "    is_present = [i for i in song_user if i in song_reco]\n",
    "    color = 'red' if val in is_present else 'black'\n",
    "    \n",
    "    return 'color: %s' % color\n",
    "    #return ['background-color: blue' if i in is_present else 'background-color: white'] \n",
    "\n",
    "df_user_temp.style.apply(highlight_interest)\n",
    "'''\n",
    "def red_or_auto(x):\n",
    "    # set font color to red for keys whose corresponding v is positive\n",
    "    # all other values have default font color\n",
    "    #return pd.DataFrame('', index=x.index, columns=x.columns).assign(song_name=np.where(x['song_name'] + ' - ' + x['artist_name'].isin(song_reco), \"color:red\", ''))\n",
    "    return pd.DataFrame('', index=x.index, columns=x.columns).assign(song_name=np.where((x['song_name'].isin(song_list)) & (x['artist_name'].isin(artist_list)) , \"color:red\", ''),\n",
    "                                                                     artist_name = (np.where((x['artist_name'].isin(artist_list)) & (x['song_name'].isin(song_list)), \"color:red\", '')))\n",
    "\n",
    "df_styled = df_user_temp.style.apply(red_or_auto, axis=None, subset=['song_name', 'artist_name'])\n",
    "df_styled\n",
    "\n",
    "\n",
    "#dfi.export(df_styled, 'df_classic.png')\n",
    "dfi.export(df_styled, 'df_espagnol.png')"
   ]
  },
  {
   "cell_type": "code",
   "execution_count": null,
   "metadata": {},
   "outputs": [],
   "source": []
  }
 ],
 "metadata": {
  "kernelspec": {
   "display_name": "env",
   "language": "python",
   "name": "python3"
  },
  "language_info": {
   "codemirror_mode": {
    "name": "ipython",
    "version": 3
   },
   "file_extension": ".py",
   "mimetype": "text/x-python",
   "name": "python",
   "nbconvert_exporter": "python",
   "pygments_lexer": "ipython3",
   "version": "3.9.13"
  },
  "orig_nbformat": 4
 },
 "nbformat": 4,
 "nbformat_minor": 2
}
